{
 "cells": [
  {
   "cell_type": "markdown",
   "metadata": {},
   "source": [
    "# Coils: Modelling dynamical systems as self-dependent flows of probability\n",
    "\n",
    "As our aim is to describe system dynamics as flows of probability, the most natural starting place is with probability currents found in quantum mechanics, which gives the continuity equation for probability:\n",
    "$$\n",
    "\\frac{\\partial \\rho}{\\partial t} + \\nabla \\cdot \\mathbf{j} = 0\n",
    "$$\n",
    "\n",
    "Where $\\rho$ is the probability density and $\\mathbf{j}$ is the probability current. "
   ]
  },
  {
   "cell_type": "markdown",
   "metadata": {},
   "source": [
    "For unidirectional and one-dimensional flows of probability, the probability current continuity equation can be discretized as:\n",
    "$$\n",
    "\\frac{\\partial \\rho_{x}}{\\partial t} = \\frac{J_{x-\\Delta x} - J_{x}}{\\Delta x}\n",
    "$$\n",
    "\n",
    "to express the change of the probability density within some segment of space $x$ of width $\\Delta x$, where $J_{x-\\Delta x}$ is the probability flow in the segment \"upstream\" of $x$ and $J_{x}$ is the flow in $x$, effectively describing the flow into and out of $x$, respectively. \n",
    "\n",
    "Further discretizing in time gives us\n",
    "\n",
    "$$\n",
    "\\frac{\\rho_{x}(t + \\Delta t) - \\rho_{x}(t)}{\\Delta t} =  \\frac{J_{x-\\Delta x} - J_{x}}{\\Delta x}\n",
    "$$\n",
    "\n",
    "which can be rearranged as:\n",
    "\n",
    "$$\n",
    "\\rho_{x}(t + \\Delta t)\\Delta x - \\rho_{x}(t)\\Delta x = J_{x-\\Delta x}\\Delta t - J_{x}\\Delta t\n",
    "$$"
   ]
  },
  {
   "cell_type": "markdown",
   "metadata": {},
   "source": [
    "$\\rho_{x}(t + \\Delta t)\\Delta x$ is equivalent the probability in that section $P_{x}(t+\\Delta t)$, so it follows that\n",
    "\n",
    "\n",
    "$$\n",
    "P_{x}(t+\\Delta t) = J_{x-\\Delta x}\\Delta t - J_{x}\\Delta t + P_{x}(t) \n",
    "$$"
   ]
  },
  {
   "cell_type": "markdown",
   "metadata": {},
   "source": [
    "Viewing the flows of probability in this manner, we can naturally make the association\n",
    "\n",
    "$$\n",
    "\\left[P_{x}(t+\\Delta t) \\;\\middle|\\; P_{x - \\Delta x}(t)\\right]P_{x - \\Delta x}(t) = J_{x-\\Delta x}\\Delta t\n",
    "$$\n",
    "\n",
    "as $J_{x-\\Delta x}\\Delta t$ describes the probability that is contributed to $x$ by the \"upstream\" segment $x-\\Delta x$. Therefore the use of conditional probabilities to describe the probability of being in $x$ at $t+\\Delta t$ given being in $x-\\Delta x$ at $t$ is analogous to probability flow. Conditional probabilties can be used for each of our flow terms, giving us the equation \n",
    "\n",
    "$$\n",
    "P_{x}(t+\\Delta t) = \\left[P_{x}(t+\\Delta t) \\;\\middle|\\; P_{x - \\Delta x}(t)\\right]P_{x - \\Delta x}(t) - \\left[P_{x+\\Delta x}(t+\\Delta t)\\;\\middle|\\;P_{x}(t)\\right]P_{x}(t) + P_{x}(t) \n",
    "$$\n",
    "\n",
    "Or\n",
    "\n",
    "$$\n",
    "P_{x}(t+\\Delta t) = \\left[P_{x}(t+\\Delta t) \\;\\middle|\\; P_{x - \\Delta x}(t)\\right]P_{x - \\Delta x}(t) + (1 - \\left[P_{x+\\Delta x}(t+\\Delta t)\\;\\middle|\\;P_{x}(t)\\right])P_{x}(t)\n",
    "$$\n"
   ]
  },
  {
   "cell_type": "markdown",
   "metadata": {},
   "source": [
    "Recall that we are dealing only in the case of unidirectional flows in this example, so probability cannot flow from $x$ to $x-\\Delta x$. Instead, probability in $x$ can only either stay in $x$ or flow to $x + \\Delta x$. Given these two sole possibilites, we know\n",
    "$$\n",
    "\\left[P_{x+\\Delta x}(t+\\Delta t) \\;\\middle|\\; P_{x}(t) \\right] + \\left[P_{x}(t+\\Delta t) \\;\\middle|\\; P_{x}(t) \\right] = 1\n",
    "$$\n",
    "\n",
    "Which can be substituted into our equation to get\n",
    "\n",
    "$$\n",
    "P_{x}(t+\\Delta t) = \\left[P_{x}(t+\\Delta t) \\;\\middle|\\; P_{x - \\Delta x}(t)\\right]P_{x - \\Delta x}(t) + \\left[P_{x}(t+\\Delta t) \\;\\middle|\\; P_{x}(t) \\right]P_{x}(t)\n",
    "$$\n",
    "\n",
    "Expressed in this manner, an obvious pattern is apparent where $P_{x}(t+\\Delta t)$ is simply the sum of everything contributing to it from time $t$. "
   ]
  },
  {
   "cell_type": "markdown",
   "metadata": {},
   "source": [
    "If we relax our orignal constraints of unidirectionality, one-dimensionality, and even locality (allowing probability to flow from spaces spatially separated from one another, and in fact removing notions of space altogether), we get the general expression:\n",
    "\n",
    "$$\n",
    "P_{i}(t+\\Delta t) = \\sum\\limits_{j=1}^{N}\\left[P_{i}(t+\\Delta t) \\;\\middle|\\; P_{j}(t)\\right]P_{j}(t) \\Rightarrow \\sum\\limits_{i=1}^{N}\\left[P_{i}(t+\\Delta t) \\;\\middle|\\; P_{j}(t)\\right] = 1 \\quad \\forall j \\quad\\&\\quad \\sum\\limits_{i=1}^{N}P_{i}(t) = 1 \\quad\\forall t\n",
    "$$\n",
    "\n",
    "The criteria $\\sum\\limits_{i=1}^{N}\\left[P_{i}(t+\\Delta t) \\;\\middle|\\; P_{j}(t)\\right] = 1 \\quad \\forall j$ is just the statement that probability in $j$ must go *somewhere*, inclusive of staying in $j$. While it is obvious that $\\sum\\limits_{i=1}^{N}P_{i}(t) = 1 \\quad\\forall t$, as we are describing probability dynamics, this condition becomes important as we further extend our formulation."
   ]
  },
  {
   "cell_type": "markdown",
   "metadata": {},
   "source": [
    "We can also express our equation in vector notation:\n",
    "$$\n",
    "\\mathbf{P}(t + \\Delta t) = \\mathbf{A}(t + \\Delta t)\\mathbf{P}(t) \\Rightarrow \\sum\\limits_{i=1}^{N}\\mathbf{A}_{ij}(t + \\Delta t) = 1 \\quad \\forall j \\quad\\&\\quad \\sum\\mathbf{P}(t) = 1 \\quad\\forall t\n",
    "$$\n",
    "\n",
    "If we assume $A$ is constant, we find that we have essentially arrived at the general Markov equation. This comes as no surpise, of course, as Markov Chains are one of the most common ways of describing flows of probability. However, in our case we have no reason to believe that $\\mathbf{A}$ is not changing in time."
   ]
  },
  {
   "cell_type": "markdown",
   "metadata": {
    "vscode": {
     "languageId": "plaintext"
    }
   },
   "source": [
    "When seeking to describe the temporal dynamics of $\\mathbf{A}$, we find that because $\\mathbf{A}$ must normalize across $i$ for all $j$, each \"column\" $\\mathbf{A}_{\\cdot j}(t + \\Delta t)$ can be treated similar to $\\mathbf{P}(t)$ where\n",
    "$$\n",
    "\\mathbf{A}_{\\cdot j}(t + \\Delta t) = \\mathbf{M}_{\\cdot j \\cdot}\\mathbf{x} \\Rightarrow \\sum\\limits_{i=1}^{N}\\mathbf{M}_{ijk}(t + \\Delta t) = 1 \\quad \\forall k \\quad\\&\\quad \\sum \\mathbf{x} = 1\n",
    "$$\n",
    "\n",
    "Or more generally\n",
    "\n",
    "$$\n",
    "\\mathbf{A}(t + \\Delta t) = \\mathbf{M}\\mathbf{x} \\iff \\sum\\limits_{i=1}^{N}\\mathbf{M}_{ijk} = 1 \\quad \\forall jk \\quad\\&\\quad \\sum \\mathbf{x} = 1\n",
    "$$\n",
    "\n",
    "Where $\\mathbf{x}$ is a vector of the same length as $\\mathbf{P}$, and is normalized, summing to 1. \n",
    "\n",
    "Note that we can continue this process for all normalized parts of $\\mathbf{M}$ and so on *ad infinitum*, but for our purposes we can stop at assuming $\\mathbf{M}$ does not change over time."
   ]
  },
  {
   "cell_type": "markdown",
   "metadata": {},
   "source": [
    "As $\\mathbf{x}$ must be a normalized vector of the same length as $\\mathbf{P}$, we realize $\\mathbf{A}(t)$ contains a collection of suitable candidates in the form of its columns. Alternatively, $\\mathbf{P}(t)$ is also a viable candidate for $\\mathbf{x}$, meaning that we can select $\\mathbf{x}$ as:\n",
    "$$\n",
    "\\mathbf{x} = \\mathbf{A}_{\\cdot s}(t) \\iff s \\in \\{1, 2, \\ldots, N\\} \\quad or \\quad \\mathbf{x} = \\mathbf{P}(t)\n",
    "$$\n",
    "\n",
    "That is to say, picking it from $\\mathbf{A}(t)$'s columns or as $\\mathbf{P}(t)$. This operation enriches our formulation to describe system dynamics as self-dependent. "
   ]
  },
  {
   "cell_type": "markdown",
   "metadata": {},
   "source": [
    "As the discontinuity of simply picking the value of $\\mathbf{x}$ from $\\mathbf{A}(t)$'s columns or as $\\mathbf{P}(t)$ may pose challenges for practical applications, the selection of $\\mathbf{x}$ can take a continuous form while maintaining conservation by expressing $\\mathbf{x}$ as a weighted sum across $\\mathbf{A(t)}$:\n",
    "\n",
    "$$\n",
    "\\mathbf{x} = \\sum_{s=1}^{N} w_s \\mathbf{A}_{\\cdot s}(t) \\iff \\sum_{s=1}^{N} w_{i} = 1\n",
    "$$\n",
    "\n",
    "However as $\\mathbf{P(t)}$ is also a worthy candidate for $\\mathbf{x}$, a more complete expression would be:\n",
    "\n",
    "$$\n",
    "\\mathbf{x} = \\sum_{s=1}^{N+1} w_s [\\mathbf{A}(t),\\mathbf{P}(t)]_{\\cdot s} \\iff \\sum_{s=1}^{N+1} w_{i} = 1\n",
    "$$\n",
    "\n",
    "Where $\\mathbf{A}(t)$ and $\\mathbf{P}(t)$ are combined to form a matrix with $N+1$ columns, and the weighting vector $w$ (now of length $N+1$) is applied across them. \n",
    "\n",
    "We will explore how $w$ can be calculated in a later exercise, where in keeping with the theme of interconnectedness and self-dependence, $w$ will be a function of $\\mathbf{A}$ and $\\mathbf{P}$"
   ]
  },
  {
   "cell_type": "markdown",
   "metadata": {},
   "source": [
    "Substituting our selection mechanism into the above equations, we are left with the full coil equation:\n",
    "\n",
    "$$\n",
    "\\mathbf{A}(t + \\Delta t) = \\mathbf{M}\\sum_{s=1}^{N+1} w_s \\left[\\mathbf{A}(t),\\mathbf{P}(t)\\right]_{\\cdot s}\n",
    "$$\n",
    "\n",
    "$$\n",
    "\\mathbf{P}(t + \\Delta t) = \\mathbf{A}(t + \\Delta t)\\mathbf{P}(t)\n",
    "$$\n"
   ]
  }
 ],
 "metadata": {
  "language_info": {
   "name": "python"
  }
 },
 "nbformat": 4,
 "nbformat_minor": 2
}
