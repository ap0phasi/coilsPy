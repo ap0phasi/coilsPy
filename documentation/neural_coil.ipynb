{
 "cells": [
  {
   "cell_type": "markdown",
   "metadata": {},
   "source": [
    "# Formulation of Real-Valued Coil as Neural Network Layer\n",
    "\n",
    "Having established how coils are capable of producing interesting system dynamics in the form of flows of probability and demonstrating how any system dynamics can be expressed as a flow of probabilities using coil normalization, a natural next step is attempting to model real system dynamics with coils. \n",
    "\n",
    "We find that coils can be translated into Recurrent Neural Networks, as will be shown in this section. This was inspired by [Mamba's] handling of state spaces using RNNs / CNNs, though there is no direct code overlap. "
   ]
  },
  {
   "cell_type": "code",
   "execution_count": 46,
   "metadata": {},
   "outputs": [],
   "source": [
    "import pandas as pd\n",
    "import numpy as np\n",
    "import torch"
   ]
  },
  {
   "cell_type": "markdown",
   "metadata": {},
   "source": [
    "We will begin with loading and coil normalizing our timeseries data as we did in the coil normalization section:"
   ]
  },
  {
   "cell_type": "code",
   "execution_count": 47,
   "metadata": {},
   "outputs": [],
   "source": [
    "# Load in csv\n",
    "df = pd.read_csv(r\"../data/jena_climate_2009_2016.csv\",\n",
    "                parse_dates=['Date Time'],\n",
    "                index_col=['Date Time'])\n",
    "df.index = pd.to_datetime(df.index, format='%d.%m.%Y %H:%M:%S')\n",
    "\n",
    "# Select certain columns\n",
    "#df = df[['p (mbar)', 'T (degC)', 'rh (%)', 'VPmax (mbar)', 'sh (g/kg)', 'H2OC (mmol/mol)', 'rho (g/m**3)', 'wv (m/s)']]\n",
    "\n",
    "# Save data frame\n",
    "df_orig = df.copy()\n",
    "# For these tests we will just use a small slice of the dataset\n",
    "df = df.iloc[:3000,:]"
   ]
  },
  {
   "cell_type": "code",
   "execution_count": 48,
   "metadata": {},
   "outputs": [],
   "source": [
    "# Instantiate CoilNormalizer\n",
    "from coilspy.normalization import CoilNormalizer\n",
    "\n",
    "coilnormer = CoilNormalizer()\n",
    "\n",
    "coilnormed_df = coilnormer.normalize(df)"
   ]
  },
  {
   "cell_type": "markdown",
   "metadata": {},
   "source": [
    "## Segmentation of Timeseries\n",
    "For training a neural coil, we will want to segment our timeseries into tensors of size $[batch\\;size, segment\\;length, number\\;of\\; features]$. This will allow us to train a neural network (in this case just a single *neural coil* layer) to produce predictions for all features at the next step in time, for all steps in our sequence. \n",
    "\n",
    "In creating our segments, we have the option of whether or not our segments should have any overlap. The follow helper function can be used to segment timeseries to a given length and overlap. "
   ]
  },
  {
   "cell_type": "code",
   "execution_count": 49,
   "metadata": {},
   "outputs": [],
   "source": [
    "def segment_time_series(series, length, overlap=None):\n",
    "    \"\"\"\n",
    "    Segment a time series into overlapping or non-overlapping segments.\n",
    "\n",
    "    Parameters:\n",
    "    - series (np.ndarray): Input time series array of shape [total_length, n_features].\n",
    "    - length (int): Length of each segment.\n",
    "    - overlap (bool): Whether to create overlapping segments. Default is False.\n",
    "\n",
    "    Returns:\n",
    "    - np.ndarray: Array of segments.\n",
    "    \"\"\"\n",
    "    total_length, n_features = series.shape\n",
    "    segments = []\n",
    "    \n",
    "    if overlap is None:\n",
    "        step = length  # Non-overlapping segments with step size equal to segment length\n",
    "    else:\n",
    "        step = overlap  # If overlap, use value\n",
    "\n",
    "    for start in range(0, total_length - length + 1, step):\n",
    "        segment = series[start:start + length]\n",
    "        segments.append(segment)\n",
    "    \n",
    "    return np.stack(segments)"
   ]
  },
  {
   "cell_type": "markdown",
   "metadata": {},
   "source": [
    "We can apply this function to our timeseries to get our segments, however first we should create a timeseries that is offset by 1 to use as the outputs we wish to produce. "
   ]
  },
  {
   "cell_type": "code",
   "execution_count": 50,
   "metadata": {},
   "outputs": [],
   "source": [
    "# Generate and segment the time series\n",
    "series = coilnormed_df.values\n",
    "length = 36\n",
    "\n",
    "series_x = series[:-1,]\n",
    "series_y = series[1:,]"
   ]
  },
  {
   "cell_type": "markdown",
   "metadata": {},
   "source": [
    "When we segment this timeseries, we will have a collection of input sequences and output sequences. "
   ]
  },
  {
   "cell_type": "code",
   "execution_count": 51,
   "metadata": {},
   "outputs": [
    {
     "name": "stdout",
     "output_type": "stream",
     "text": [
      "Available Batches:  83\n"
     ]
    }
   ],
   "source": [
    "segments_x = segment_time_series(series_x, length, overlap=None)\n",
    "segments_y = segment_time_series(series_y, length, overlap=None)\n",
    "\n",
    "# Convert to tensors\n",
    "segments_tensor_x = torch.tensor(segments_x, dtype=torch.float)\n",
    "segments_tensor_y = torch.tensor(segments_y, dtype=torch.float)\n",
    "\n",
    "# Prepare inputs and targets\n",
    "X = segments_tensor_x.to(\"cuda\")\n",
    "# Shift segments to the right by one timestep to create the targets\n",
    "Y =  segments_tensor_y.to(\"cuda\")\n",
    "\n",
    "# Get number of features and batch size\n",
    "n_features = X.shape[2]\n",
    "batch_size = X.shape[0]\n",
    "\n",
    "print(\"Available Batches: \", batch_size)"
   ]
  },
  {
   "cell_type": "markdown",
   "metadata": {},
   "source": [
    "## Neural Coil Formulation\n",
    "\n",
    "Now we must consider the formulation of the neural coil layer itself. We find that we can use a very similar formulation as what is used for generation of complex-valued flows of probability, with some key differences:\n",
    "1. All parameters will be real-valued\n",
    "2. We can relax our earlier contraint that $\\sum\\limits_{i=1}^{N}\\mathbf{M}_{ijk} = 1$ as this would restrict our training. We can instead simply renormalize our selected transition tensor $\\mathbf{A}$ such that $\\sum\\limits_{i=1}^{N}\\mathbf{A}_{ij}(t + \\Delta t) = 1$\n",
    "\n",
    "Aside from these relaxations, the process of selecting transition tensors and stepping through the coil will be identical to those used before.\n",
    "\n",
    "For the initialization, the only trainable parameters will be those in the interaction tensor. It should be noted that this lack of hidden layers and parameters gives neural coil layers improved interpretability - every parameter can be interpreted such as \"The probability of transitioning from B to A given a transition from C to D at the last timestep\". For simplicity, we will initialize the transition tensor at all 0. "
   ]
  },
  {
   "cell_type": "code",
   "execution_count": 52,
   "metadata": {},
   "outputs": [],
   "source": [
    "import torch\n",
    "import torch.nn as nn\n",
    "import torch.nn.functional as F\n",
    "\n",
    "class NeuralCoilLayer(nn.Module):\n",
    "    def __init__(self, n_features, n_batch, sel_temp = 1e-3, norm_temp = 7, device = \"cpu\"):\n",
    "        super(NeuralCoilLayer, self).__init__()\n",
    "        self.interaction_tensors = nn.Parameter(torch.rand(n_features, n_features, n_features, n_features + 1))\n",
    "        self.sel_temp = sel_temp\n",
    "        self.norm_temp = norm_temp\n",
    "        \n",
    "        starting_tensor = torch.softmax(torch.zeros(n_batch, n_features, n_features), dim = 1)\n",
    "        if device == \"cuda\":\n",
    "            self.starting_transition_tensor = starting_tensor.to(\"cuda\")\n",
    "        else:\n",
    "            self.starting_transition_tensor = starting_tensor\n",
    "            \n",
    "    def select_transition_tensor(self, state_tensor,transition_tensor, interaction_tensor, sel_temperature):\n",
    "        \n",
    "        # Combine state and transition tensors into a norm_subgroups tensor\n",
    "        norm_subgroups = torch.cat((state_tensor.unsqueeze(-1), transition_tensor), dim=2)\n",
    "        \n",
    "        # Get candidate transition tensors:\n",
    "        candidate_transition_tensors = (torch.mul(interaction_tensor, norm_subgroups.unsqueeze(1).unsqueeze(1))).sum(-2) # [batches, states, states, states + 1]\n",
    "        \n",
    "        # Determine the largest and smallest states\n",
    "        high_magnitude = torch.softmax(((state_tensor) / sel_temperature), dim = 1)\n",
    "        low_magnitude = torch.softmax(1 - ((state_tensor) / sel_temperature), dim = 1)\n",
    "        \n",
    "        # Find which transition corresponds to moving from the highest state to the lowest state, and focus on that:\n",
    "        transition_focus_slices = (torch.mul(torch.mul(candidate_transition_tensors, high_magnitude.unsqueeze(2).unsqueeze(1)), low_magnitude.unsqueeze(2).unsqueeze(2)))\n",
    "        \n",
    "        # Determine the selection weights by which slice is the highest in the focus transition\n",
    "        selection_weights = torch.softmax(transition_focus_slices.sum(2).sum(1) / sel_temperature, dim = 1)\n",
    "        \n",
    "        # Perform weighted averaging\n",
    "        selected_transition_tensor = torch.mul(candidate_transition_tensors, selection_weights.unsqueeze(1).unsqueeze(1)).sum(-1)\n",
    "        \n",
    "        return selected_transition_tensor\n",
    "        \n",
    "    def step_coil(self, state_tensor, transition_tensor):\n",
    "        \n",
    "        #self.interaction_tensors_clamped = torch.clamp(self.interaction_tensors, 0.0, 1.0)\n",
    "        \n",
    "        selected_transition_tensor = self.select_transition_tensor(state_tensor, transition_tensor, self.interaction_tensors, sel_temperature= self.sel_temp)\n",
    "        \n",
    "        selected_transition_tensor = torch.softmax(selected_transition_tensor * self.norm_temp, dim =1)\n",
    "        \n",
    "        new_state_tensor = torch.mul(selected_transition_tensor, state_tensor.unsqueeze(1)).sum(dim = -1)\n",
    "        \n",
    "\n",
    "        return new_state_tensor, selected_transition_tensor\n",
    "\n",
    "\n",
    "    def forward(self, x):\n",
    "        batch, length, n_features = x.size()\n",
    "        output = x.new_empty(batch, length, n_features)\n",
    "        \n",
    "\n",
    "        # Initialize previous transition tensors (for the first step)\n",
    "        # Assuming it's a list of zero tensors for simplicity\n",
    "        transition_tensor = self.starting_transition_tensor\n",
    "\n",
    "        for l in range(length):\n",
    "            state_tensor = x[:, l, :]\n",
    "            \n",
    "            # Compute output for this step\n",
    "            output[:, l, :], transition_tensor = self.step_coil(state_tensor, transition_tensor)\n",
    "\n",
    "        return output, transition_tensor"
   ]
  },
  {
   "cell_type": "markdown",
   "metadata": {},
   "source": [
    "In the ```forward``` pass of the neural coil layer, the transition tensor will start at 0, and the initial state will be taken from the first entry of the input sequence. This state and transition tensor will be passed into the coil step, which will output a new state and transition tensor. The new state is saved as the layer output, and the process is repeated, using the next state in the input sequence and the previously generated transition tensor. This is repeated for the length of the sequence.\n",
    "\n",
    "This procedure is used during training, where otherwise the ```step_coil``` function can be used autoregressively, passing the previously generated state and transition tensors into the coil step to produce new ones, allowing for perpetuated generation of probability flows. While this can be done from the very first timestep, as transition tensors start at 0, we show how it can be beneficial to \"wind up\" coils, loading in known states for a number of steps to burn in the transition tensor before letting the coils generate autoregressively. "
   ]
  },
  {
   "cell_type": "markdown",
   "metadata": {},
   "source": [
    "## Neural Coil Training\n",
    "\n",
    "Note that we have not performed any train / test splits for the data. That is because we will use a separate sequence of the original timeseries data for testing the trained coils autoregressively.\n",
    "\n"
   ]
  },
  {
   "cell_type": "markdown",
   "metadata": {},
   "source": [
    "We will use a ```DataLoader``` for handling our training timeseries"
   ]
  },
  {
   "cell_type": "code",
   "execution_count": 53,
   "metadata": {},
   "outputs": [],
   "source": [
    "from torch.utils.data import DataLoader, TensorDataset\n",
    "from torch import optim\n",
    "\n",
    "# Data loading\n",
    "dataset = TensorDataset(X, Y)\n",
    "batch_size = 32\n",
    "dataloader = DataLoader(dataset, batch_size=batch_size, shuffle=True, drop_last=True)"
   ]
  },
  {
   "cell_type": "markdown",
   "metadata": {},
   "source": [
    "We can initialize a model that consists of a single neural coil layer. Note that neural coil layers can stack together and with other neural network layers, which will be demonstrated separately. "
   ]
  },
  {
   "cell_type": "code",
   "execution_count": 54,
   "metadata": {},
   "outputs": [],
   "source": [
    "# Single Coil\n",
    "model = NeuralCoilLayer(\n",
    "    n_features = n_features,\n",
    "    n_batch = batch_size,\n",
    "    device=\"cuda\"\n",
    ").to(\"cuda\")"
   ]
  },
  {
   "cell_type": "code",
   "execution_count": 55,
   "metadata": {},
   "outputs": [],
   "source": [
    "epochs = 3000\n",
    "\n",
    "# Hyperparameters\n",
    "lr = 5e-3  # Initial learning rate\n",
    "weight_decay = 0.1\n",
    "\n",
    "# Optimizer\n",
    "optimizer = optim.AdamW(model.parameters(), lr=lr, weight_decay=weight_decay)"
   ]
  },
  {
   "cell_type": "markdown",
   "metadata": {},
   "source": [
    "We will use the following training procedure, letting the optimizer run for a very long time to determine the best training result. While typically this should be expected to produce a overfit model it will be interesting to see how close coils can match system dynamics. "
   ]
  },
  {
   "cell_type": "code",
   "execution_count": 56,
   "metadata": {},
   "outputs": [
    {
     "name": "stdout",
     "output_type": "stream",
     "text": [
      "Epoch [10/3000], Loss: 2.6233548851450905e-05\n",
      "Epoch [20/3000], Loss: 2.489075814082753e-05\n",
      "Epoch [30/3000], Loss: 2.154330286430195e-05\n",
      "Epoch [40/3000], Loss: 2.321852298337035e-05\n",
      "Epoch [50/3000], Loss: 2.0714995116577484e-05\n",
      "Epoch [60/3000], Loss: 2.2088692276156507e-05\n",
      "Epoch [70/3000], Loss: 2.0515377400442958e-05\n",
      "Epoch [80/3000], Loss: 2.0551120542222634e-05\n",
      "Epoch [90/3000], Loss: 1.9698736650752835e-05\n",
      "Epoch [100/3000], Loss: 1.665139825490769e-05\n",
      "Epoch [110/3000], Loss: 2.3603914087289013e-05\n",
      "Epoch [120/3000], Loss: 1.672280632192269e-05\n",
      "Epoch [130/3000], Loss: 2.157905328203924e-05\n",
      "Epoch [140/3000], Loss: 1.6292417058139108e-05\n",
      "Epoch [150/3000], Loss: 1.788451845641248e-05\n",
      "Epoch [160/3000], Loss: 1.8932765669887885e-05\n",
      "Epoch [170/3000], Loss: 1.8294138499186374e-05\n",
      "Epoch [180/3000], Loss: 1.5893630916252732e-05\n",
      "Epoch [190/3000], Loss: 1.6519530618097633e-05\n",
      "Epoch [200/3000], Loss: 1.7699192540021613e-05\n",
      "Epoch [210/3000], Loss: 1.8869317500502802e-05\n",
      "Epoch [220/3000], Loss: 1.8499264115234837e-05\n",
      "Epoch [230/3000], Loss: 1.9218225133954547e-05\n",
      "Epoch [240/3000], Loss: 1.7855043552117422e-05\n",
      "Epoch [250/3000], Loss: 1.537874595669564e-05\n",
      "Epoch [260/3000], Loss: 1.7008929717121646e-05\n",
      "Epoch [270/3000], Loss: 1.618198075448163e-05\n",
      "Epoch [280/3000], Loss: 1.627962956263218e-05\n",
      "Epoch [290/3000], Loss: 1.6471809431095608e-05\n",
      "Epoch [300/3000], Loss: 1.5356854419223964e-05\n",
      "Epoch [310/3000], Loss: 1.5369992979685776e-05\n",
      "Epoch [320/3000], Loss: 1.444710505893454e-05\n",
      "Epoch [330/3000], Loss: 1.5475729014724493e-05\n",
      "Epoch [340/3000], Loss: 1.4366321011038963e-05\n",
      "Epoch [350/3000], Loss: 1.4515421753458213e-05\n",
      "Epoch [360/3000], Loss: 1.3911273526900914e-05\n",
      "Epoch [370/3000], Loss: 1.3329921785043553e-05\n",
      "Epoch [380/3000], Loss: 1.664123010414187e-05\n",
      "Epoch [390/3000], Loss: 1.3827943803335074e-05\n",
      "Epoch [400/3000], Loss: 1.3414915883913636e-05\n",
      "Epoch [410/3000], Loss: 1.2505920494731981e-05\n",
      "Epoch [420/3000], Loss: 1.23784011520911e-05\n",
      "Epoch [430/3000], Loss: 1.3377790310187265e-05\n",
      "Epoch [440/3000], Loss: 1.2670419891946949e-05\n",
      "Epoch [450/3000], Loss: 1.1252636795688886e-05\n",
      "Epoch [460/3000], Loss: 1.2220792086736765e-05\n",
      "Epoch [470/3000], Loss: 1.2499769582063891e-05\n",
      "Epoch [480/3000], Loss: 1.244330906047253e-05\n",
      "Epoch [490/3000], Loss: 1.2364418580546044e-05\n",
      "Epoch [500/3000], Loss: 1.2002588846371509e-05\n",
      "Epoch [510/3000], Loss: 1.1357347830198705e-05\n",
      "Epoch [520/3000], Loss: 1.0736312106018886e-05\n",
      "Epoch [530/3000], Loss: 1.1649345651676413e-05\n",
      "Epoch [540/3000], Loss: 9.109906386584044e-06\n",
      "Epoch [550/3000], Loss: 1.1127540346933529e-05\n",
      "Epoch [560/3000], Loss: 9.742044312588405e-06\n",
      "Epoch [570/3000], Loss: 1.026310656015994e-05\n",
      "Epoch [580/3000], Loss: 9.806110028875992e-06\n",
      "Epoch [590/3000], Loss: 9.72079851635499e-06\n",
      "Epoch [600/3000], Loss: 1.0059394298878033e-05\n",
      "Epoch [610/3000], Loss: 9.164754374069162e-06\n",
      "Epoch [620/3000], Loss: 9.069951374840457e-06\n",
      "Epoch [630/3000], Loss: 8.289790457638446e-06\n",
      "Epoch [640/3000], Loss: 8.857878128765151e-06\n",
      "Epoch [650/3000], Loss: 8.997201803140342e-06\n",
      "Epoch [660/3000], Loss: 1.2947666618856601e-05\n",
      "Epoch [670/3000], Loss: 1.1197991625522263e-05\n",
      "Epoch [680/3000], Loss: 1.0143033250642475e-05\n",
      "Epoch [690/3000], Loss: 9.697938367025927e-06\n",
      "Epoch [700/3000], Loss: 9.475937986280769e-06\n",
      "Epoch [710/3000], Loss: 9.379361472383607e-06\n",
      "Epoch [720/3000], Loss: 9.506556125415955e-06\n",
      "Epoch [730/3000], Loss: 8.864681149134412e-06\n",
      "Epoch [740/3000], Loss: 8.62710385263199e-06\n",
      "Epoch [750/3000], Loss: 8.091888958006166e-06\n",
      "Epoch [760/3000], Loss: 8.041663022595458e-06\n",
      "Epoch [770/3000], Loss: 8.060671461862512e-06\n",
      "Epoch [780/3000], Loss: 8.677487130626105e-06\n",
      "Epoch [790/3000], Loss: 8.095606972347014e-06\n",
      "Epoch [800/3000], Loss: 7.0526025410799775e-06\n",
      "Epoch [810/3000], Loss: 8.004945811990183e-06\n",
      "Epoch [820/3000], Loss: 7.462506346200826e-06\n",
      "Epoch [830/3000], Loss: 7.625421858392656e-06\n",
      "Epoch [840/3000], Loss: 7.542924322478939e-06\n",
      "Epoch [850/3000], Loss: 7.5426009971124586e-06\n",
      "Epoch [860/3000], Loss: 6.670720267720753e-06\n",
      "Epoch [870/3000], Loss: 7.0562637120019644e-06\n",
      "Epoch [880/3000], Loss: 6.475669124483829e-06\n",
      "Epoch [890/3000], Loss: 7.631497283000499e-06\n",
      "Epoch [900/3000], Loss: 6.739033779012971e-06\n",
      "Epoch [910/3000], Loss: 7.148797067202395e-06\n",
      "Epoch [920/3000], Loss: 6.353314802254317e-06\n",
      "Epoch [930/3000], Loss: 7.334662768698763e-06\n",
      "Epoch [940/3000], Loss: 6.178804596856935e-06\n",
      "Epoch [950/3000], Loss: 6.62266666040523e-06\n",
      "Epoch [960/3000], Loss: 6.484798632300226e-06\n",
      "Epoch [970/3000], Loss: 6.457777544710552e-06\n",
      "Epoch [980/3000], Loss: 6.100383416196564e-06\n",
      "Epoch [990/3000], Loss: 6.31294369668467e-06\n",
      "Epoch [1000/3000], Loss: 6.515770564874401e-06\n",
      "Epoch [1010/3000], Loss: 6.778360329917632e-06\n",
      "Epoch [1020/3000], Loss: 6.4564392232568935e-06\n",
      "Epoch [1030/3000], Loss: 6.765536909369985e-06\n",
      "Epoch [1040/3000], Loss: 6.239607500901911e-06\n",
      "Epoch [1050/3000], Loss: 6.1062219174345955e-06\n",
      "Epoch [1060/3000], Loss: 7.2838738560676575e-06\n",
      "Epoch [1070/3000], Loss: 7.0332930590666365e-06\n",
      "Epoch [1080/3000], Loss: 6.155032679089345e-06\n",
      "Epoch [1090/3000], Loss: 5.965330274193548e-06\n",
      "Epoch [1100/3000], Loss: 6.784621291444637e-06\n",
      "Epoch [1110/3000], Loss: 6.024380581948208e-06\n",
      "Epoch [1120/3000], Loss: 5.937902187724831e-06\n",
      "Epoch [1130/3000], Loss: 6.600760116270976e-06\n",
      "Epoch [1140/3000], Loss: 6.117747943790164e-06\n",
      "Epoch [1150/3000], Loss: 5.484566372615518e-06\n",
      "Epoch [1160/3000], Loss: 5.829504971188726e-06\n",
      "Epoch [1170/3000], Loss: 5.840162430104101e-06\n",
      "Epoch [1180/3000], Loss: 5.440675067802658e-06\n",
      "Epoch [1190/3000], Loss: 5.253875315247569e-06\n",
      "Epoch [1200/3000], Loss: 5.6298335948667955e-06\n",
      "Epoch [1210/3000], Loss: 5.4329079830495175e-06\n",
      "Epoch [1220/3000], Loss: 5.738612799177645e-06\n",
      "Epoch [1230/3000], Loss: 6.136159299785504e-06\n",
      "Epoch [1240/3000], Loss: 6.0440752349677496e-06\n",
      "Epoch [1250/3000], Loss: 6.401015525625553e-06\n",
      "Epoch [1260/3000], Loss: 5.671148755936883e-06\n",
      "Epoch [1270/3000], Loss: 5.809220056107733e-06\n",
      "Epoch [1280/3000], Loss: 5.495710411196342e-06\n",
      "Epoch [1290/3000], Loss: 5.571281235461356e-06\n",
      "Epoch [1300/3000], Loss: 5.252009486866882e-06\n",
      "Epoch [1310/3000], Loss: 5.06783453602111e-06\n",
      "Epoch [1320/3000], Loss: 5.096754648548085e-06\n",
      "Epoch [1330/3000], Loss: 5.06646483700024e-06\n",
      "Epoch [1340/3000], Loss: 5.498132395587163e-06\n",
      "Epoch [1350/3000], Loss: 4.367709152575117e-06\n",
      "Epoch [1360/3000], Loss: 4.958459157933248e-06\n",
      "Epoch [1370/3000], Loss: 5.163746209291276e-06\n",
      "Epoch [1380/3000], Loss: 4.719346179626882e-06\n",
      "Epoch [1390/3000], Loss: 4.986196017853217e-06\n",
      "Epoch [1400/3000], Loss: 4.759539478982333e-06\n",
      "Epoch [1410/3000], Loss: 5.222334038990084e-06\n",
      "Epoch [1420/3000], Loss: 5.0549620027595665e-06\n",
      "Epoch [1430/3000], Loss: 4.967963377566775e-06\n",
      "Epoch [1440/3000], Loss: 4.776347395818448e-06\n",
      "Epoch [1450/3000], Loss: 4.9127293095807545e-06\n",
      "Epoch [1460/3000], Loss: 4.98041072205524e-06\n",
      "Epoch [1470/3000], Loss: 5.548647550313035e-06\n",
      "Epoch [1480/3000], Loss: 4.995719791622832e-06\n",
      "Epoch [1490/3000], Loss: 5.267209417070262e-06\n",
      "Epoch [1500/3000], Loss: 4.655186785385013e-06\n",
      "Epoch [1510/3000], Loss: 4.745704245578963e-06\n",
      "Epoch [1520/3000], Loss: 4.936252025800059e-06\n",
      "Epoch [1530/3000], Loss: 4.662754690798465e-06\n",
      "Epoch [1540/3000], Loss: 4.439590156835038e-06\n",
      "Epoch [1550/3000], Loss: 4.552897280518664e-06\n",
      "Epoch [1560/3000], Loss: 4.804808213521028e-06\n",
      "Epoch [1570/3000], Loss: 7.88089801062597e-06\n",
      "Epoch [1580/3000], Loss: 8.237992915383074e-06\n",
      "Epoch [1590/3000], Loss: 6.446123734349385e-06\n",
      "Epoch [1600/3000], Loss: 5.473803412314737e-06\n",
      "Epoch [1610/3000], Loss: 6.1025248214718886e-06\n",
      "Epoch [1620/3000], Loss: 6.003228008921724e-06\n",
      "Epoch [1630/3000], Loss: 5.6245862651849166e-06\n",
      "Epoch [1640/3000], Loss: 5.8841110330831725e-06\n",
      "Epoch [1650/3000], Loss: 5.490953753906069e-06\n",
      "Epoch [1660/3000], Loss: 5.168753887119237e-06\n",
      "Epoch [1670/3000], Loss: 4.9193740778719075e-06\n",
      "Epoch [1680/3000], Loss: 8.2590386227821e-06\n",
      "Epoch [1690/3000], Loss: 6.805951670685317e-06\n",
      "Epoch [1700/3000], Loss: 6.271920938161202e-06\n",
      "Epoch [1710/3000], Loss: 5.993437298457138e-06\n",
      "Epoch [1720/3000], Loss: 5.6642352319613565e-06\n",
      "Epoch [1730/3000], Loss: 5.139496352057904e-06\n",
      "Epoch [1740/3000], Loss: 5.768701157649048e-06\n",
      "Epoch [1750/3000], Loss: 5.271474492474226e-06\n",
      "Epoch [1760/3000], Loss: 5.301536475599278e-06\n",
      "Epoch [1770/3000], Loss: 4.84573547510081e-06\n",
      "Epoch [1780/3000], Loss: 4.795822405867511e-06\n",
      "Epoch [1790/3000], Loss: 4.634649030776927e-06\n",
      "Epoch [1800/3000], Loss: 5.000208147976082e-06\n",
      "Epoch [1810/3000], Loss: 4.529465513769537e-06\n",
      "Epoch [1820/3000], Loss: 4.772949068865273e-06\n",
      "Epoch [1830/3000], Loss: 4.929721853841329e-06\n",
      "Epoch [1840/3000], Loss: 4.6231530177465174e-06\n",
      "Epoch [1850/3000], Loss: 4.748412266053492e-06\n",
      "Epoch [1860/3000], Loss: 4.892421657132218e-06\n",
      "Epoch [1870/3000], Loss: 4.7273392738134135e-06\n",
      "Epoch [1880/3000], Loss: 4.7663907025707886e-06\n",
      "Epoch [1890/3000], Loss: 4.49688695880468e-06\n",
      "Epoch [1900/3000], Loss: 4.625044311978854e-06\n",
      "Epoch [1910/3000], Loss: 4.63647165815928e-06\n",
      "Epoch [1920/3000], Loss: 4.389411515148822e-06\n",
      "Epoch [1930/3000], Loss: 4.113078375667101e-06\n",
      "Epoch [1940/3000], Loss: 4.032325705338735e-06\n",
      "Epoch [1950/3000], Loss: 4.401027126732515e-06\n",
      "Epoch [1960/3000], Loss: 5.016448085370939e-06\n",
      "Epoch [1970/3000], Loss: 5.058433998783585e-06\n",
      "Epoch [1980/3000], Loss: 4.600373358698562e-06\n",
      "Epoch [1990/3000], Loss: 4.481271844269941e-06\n",
      "Epoch [2000/3000], Loss: 4.508754500420764e-06\n",
      "Epoch [2010/3000], Loss: 4.36272966908291e-06\n",
      "Epoch [2020/3000], Loss: 4.243952844262822e-06\n",
      "Epoch [2030/3000], Loss: 4.526094926404767e-06\n",
      "Epoch [2040/3000], Loss: 4.189259925624356e-06\n",
      "Epoch [2050/3000], Loss: 4.21158756580553e-06\n",
      "Epoch [2060/3000], Loss: 3.9056358218658715e-06\n",
      "Epoch [2070/3000], Loss: 4.332272510509938e-06\n",
      "Epoch [2080/3000], Loss: 4.1422663343837485e-06\n",
      "Epoch [2090/3000], Loss: 4.220446498948149e-06\n",
      "Epoch [2100/3000], Loss: 4.1720536501088645e-06\n",
      "Epoch [2110/3000], Loss: 3.958889919886133e-06\n",
      "Epoch [2120/3000], Loss: 4.463370714802295e-06\n",
      "Epoch [2130/3000], Loss: 4.198366241325857e-06\n",
      "Epoch [2140/3000], Loss: 3.897423084708862e-06\n",
      "Epoch [2150/3000], Loss: 4.037292001157766e-06\n",
      "Epoch [2160/3000], Loss: 3.916535661119269e-06\n",
      "Epoch [2170/3000], Loss: 3.8731409404135775e-06\n",
      "Epoch [2180/3000], Loss: 3.852388545055874e-06\n",
      "Epoch [2190/3000], Loss: 3.831947651633527e-06\n",
      "Epoch [2200/3000], Loss: 3.876642495015403e-06\n",
      "Epoch [2210/3000], Loss: 3.7337363210099284e-06\n",
      "Epoch [2220/3000], Loss: 4.1895086724252906e-06\n",
      "Epoch [2230/3000], Loss: 3.837005806417437e-06\n",
      "Epoch [2240/3000], Loss: 3.834155904769432e-06\n",
      "Epoch [2250/3000], Loss: 4.027131126349559e-06\n",
      "Epoch [2260/3000], Loss: 3.677965878523537e-06\n",
      "Epoch [2270/3000], Loss: 3.886930699081859e-06\n",
      "Epoch [2280/3000], Loss: 4.420387085701805e-06\n",
      "Epoch [2290/3000], Loss: 4.720359356724657e-06\n",
      "Epoch [2300/3000], Loss: 4.041226020490285e-06\n",
      "Epoch [2310/3000], Loss: 3.972239483118756e-06\n",
      "Epoch [2320/3000], Loss: 3.8112825677671935e-06\n",
      "Epoch [2330/3000], Loss: 3.773341632040683e-06\n",
      "Epoch [2340/3000], Loss: 4.06728349844343e-06\n",
      "Epoch [2350/3000], Loss: 3.830597052001394e-06\n",
      "Epoch [2360/3000], Loss: 3.3780643207137473e-06\n",
      "Epoch [2370/3000], Loss: 3.7029017221357208e-06\n",
      "Epoch [2380/3000], Loss: 3.471922809694661e-06\n",
      "Epoch [2390/3000], Loss: 3.2860784813237842e-06\n",
      "Epoch [2400/3000], Loss: 5.058338047092548e-06\n",
      "Epoch [2410/3000], Loss: 5.037750270275865e-06\n",
      "Epoch [2420/3000], Loss: 7.175139671744546e-06\n",
      "Epoch [2430/3000], Loss: 8.18703574623214e-06\n",
      "Epoch [2440/3000], Loss: 8.057394552452024e-06\n",
      "Epoch [2450/3000], Loss: 7.311932222364703e-06\n",
      "Epoch [2460/3000], Loss: 5.925879122514743e-06\n",
      "Epoch [2470/3000], Loss: 5.469876668939833e-06\n",
      "Epoch [2480/3000], Loss: 5.604681064141914e-06\n",
      "Epoch [2490/3000], Loss: 5.511699782800861e-06\n",
      "Epoch [2500/3000], Loss: 5.630453415506054e-06\n",
      "Epoch [2510/3000], Loss: 5.723780304833781e-06\n",
      "Epoch [2520/3000], Loss: 5.571225756284548e-06\n",
      "Epoch [2530/3000], Loss: 5.015856004320085e-06\n",
      "Epoch [2540/3000], Loss: 5.529999725695234e-06\n",
      "Epoch [2550/3000], Loss: 5.294963557389565e-06\n",
      "Epoch [2560/3000], Loss: 4.617473678081296e-06\n",
      "Epoch [2570/3000], Loss: 4.8431411414640024e-06\n",
      "Epoch [2580/3000], Loss: 5.414013230620185e-06\n",
      "Epoch [2590/3000], Loss: 4.764487584907329e-06\n",
      "Epoch [2600/3000], Loss: 4.5102110561856534e-06\n",
      "Epoch [2610/3000], Loss: 4.68200460090884e-06\n",
      "Epoch [2620/3000], Loss: 4.147078016103478e-06\n",
      "Epoch [2630/3000], Loss: 4.686787633545464e-06\n",
      "Epoch [2640/3000], Loss: 4.384505700727459e-06\n",
      "Epoch [2650/3000], Loss: 4.001330580649665e-06\n",
      "Epoch [2660/3000], Loss: 4.063937012688257e-06\n",
      "Epoch [2670/3000], Loss: 4.1202492866432294e-06\n",
      "Epoch [2680/3000], Loss: 4.335771791375009e-06\n",
      "Epoch [2690/3000], Loss: 4.721044206235092e-06\n",
      "Epoch [2700/3000], Loss: 3.865493908961071e-06\n",
      "Epoch [2710/3000], Loss: 4.2603428482834715e-06\n",
      "Epoch [2720/3000], Loss: 4.1185667214449495e-06\n",
      "Epoch [2730/3000], Loss: 4.007710685982602e-06\n",
      "Epoch [2740/3000], Loss: 4.094032192369923e-06\n",
      "Epoch [2750/3000], Loss: 4.497735972108785e-06\n",
      "Epoch [2760/3000], Loss: 4.536594133242033e-06\n",
      "Epoch [2770/3000], Loss: 3.8919019971217494e-06\n",
      "Epoch [2780/3000], Loss: 4.628894203051459e-06\n",
      "Epoch [2790/3000], Loss: 4.060314495291095e-06\n",
      "Epoch [2800/3000], Loss: 4.251967311574845e-06\n",
      "Epoch [2810/3000], Loss: 4.0515255932405125e-06\n",
      "Epoch [2820/3000], Loss: 3.78681875190523e-06\n",
      "Epoch [2830/3000], Loss: 3.663963752842392e-06\n",
      "Epoch [2840/3000], Loss: 3.881250904669287e-06\n",
      "Epoch [2850/3000], Loss: 3.7182230698817875e-06\n",
      "Epoch [2860/3000], Loss: 3.822964572464116e-06\n",
      "Epoch [2870/3000], Loss: 3.986886895290809e-06\n",
      "Epoch [2880/3000], Loss: 3.4338945624767803e-06\n",
      "Epoch [2890/3000], Loss: 4.0430822991766036e-06\n",
      "Epoch [2900/3000], Loss: 3.8268872231128626e-06\n",
      "Epoch [2910/3000], Loss: 3.3272347081947373e-06\n",
      "Epoch [2920/3000], Loss: 3.5154482702637324e-06\n",
      "Epoch [2930/3000], Loss: 3.7755080484203063e-06\n",
      "Epoch [2940/3000], Loss: 3.424011083552614e-06\n",
      "Epoch [2950/3000], Loss: 3.2400726013293024e-06\n",
      "Epoch [2960/3000], Loss: 3.672593948067515e-06\n",
      "Epoch [2970/3000], Loss: 3.955279225920094e-06\n",
      "Epoch [2980/3000], Loss: 3.6050537346454803e-06\n",
      "Epoch [2990/3000], Loss: 3.7949853322061244e-06\n",
      "Epoch [3000/3000], Loss: 3.3516027997393394e-06\n"
     ]
    }
   ],
   "source": [
    "# Loss and optimizer\n",
    "criterion = nn.MSELoss()\n",
    "#optimizer = optim.Adam(model.parameters(), lr=0.005)\n",
    "\n",
    "# Training loop\n",
    "best_loss = float('inf')\n",
    "best_model_state = None\n",
    "\n",
    "for epoch in range(epochs):\n",
    "    model.train()\n",
    "    for batch_X, batch_Y in dataloader:\n",
    "        optimizer.zero_grad()\n",
    "        # Forward pass\n",
    "        outputs, _ = model(batch_X)\n",
    "        loss = criterion(outputs, batch_Y)\n",
    "\n",
    "        # Backward and optimize\n",
    "        loss.backward()\n",
    "        \n",
    "        optimizer.step()\n",
    "    \n",
    "        \n",
    "    # Save the best model\n",
    "    if loss.item() < best_loss:\n",
    "        best_loss = loss.item()\n",
    "        best_model_state = model.state_dict()\n",
    "\n",
    "    if (epoch + 1) % 10 == 0:\n",
    "        print(f'Epoch [{epoch+1}/{epochs}], Loss: {loss.item()}')"
   ]
  },
  {
   "cell_type": "markdown",
   "metadata": {},
   "source": [
    "We will load the best training state to make all these epochs worth it:"
   ]
  },
  {
   "cell_type": "code",
   "execution_count": 57,
   "metadata": {},
   "outputs": [
    {
     "name": "stdout",
     "output_type": "stream",
     "text": [
      "Best model loaded with loss: 3.1938752727000974e-06\n"
     ]
    }
   ],
   "source": [
    "# Load the best model state after training\n",
    "model.load_state_dict(best_model_state)\n",
    "print(\"Best model loaded with loss:\", best_loss)"
   ]
  },
  {
   "cell_type": "markdown",
   "metadata": {},
   "source": [
    "## Coil Training Input to Output Review\n",
    "\n",
    "With the coil finally trained, we can investigate how well it has accomplished the original task of producing an outputs for each step of an input sequence. Recall that for this check we are not generating autoregressively, instead for each step in the sequence the coil is re-grounded with a known input. "
   ]
  },
  {
   "cell_type": "code",
   "execution_count": 58,
   "metadata": {},
   "outputs": [
    {
     "data": {
      "application/vnd.plotly.v1+json": {
       "config": {
        "plotlyServerURL": "https://plot.ly"
       },
       "data": [
        {
         "mode": "lines",
         "name": "Model Output",
         "type": "scatter",
         "x": [
          0,
          1,
          2,
          3,
          4,
          5,
          6,
          7,
          8,
          9,
          10,
          11,
          12,
          13,
          14,
          15,
          16,
          17,
          18,
          19,
          20,
          21,
          22,
          23,
          24,
          25,
          26,
          27,
          28,
          29,
          30,
          31,
          32,
          33,
          34,
          35
         ],
         "y": [
          0.036549657583236694,
          0.038225024938583374,
          0.04020863026380539,
          0.0382215678691864,
          0.039011795073747635,
          0.03876654803752899,
          0.03806014731526375,
          0.0363730788230896,
          0.03707094490528107,
          0.034731365740299225,
          0.03506426140666008,
          0.03632845729589462,
          0.03740188479423523,
          0.0361851267516613,
          0.03726699948310852,
          0.03674841672182083,
          0.03485693037509918,
          0.03630226105451584,
          0.037191443145275116,
          0.03519512712955475,
          0.03845924139022827,
          0.03674507513642311,
          0.03470031917095184,
          0.03591364994645119,
          0.035312529653310776,
          0.03789035975933075,
          0.03493698313832283,
          0.03699246048927307,
          0.035569965839385986,
          0.031091591343283653,
          0.03661971539258957,
          0.03485485166311264,
          0.037134043872356415,
          0.03723570331931114,
          0.038157280534505844,
          0.038575321435928345
         ]
        },
        {
         "mode": "lines",
         "name": "Target",
         "type": "scatter",
         "x": [
          0,
          1,
          2,
          3,
          4,
          5,
          6,
          7,
          8,
          9,
          10,
          11,
          12,
          13,
          14,
          15,
          16,
          17,
          18,
          19,
          20,
          21,
          22,
          23,
          24,
          25,
          26,
          27,
          28,
          29,
          30,
          31,
          32,
          33,
          34,
          35
         ],
         "y": [
          0.03502747416496277,
          0.03731685131788254,
          0.03914835304021835,
          0.03800366446375847,
          0.03914835304021835,
          0.03777472674846649,
          0.0386904776096344,
          0.036858975887298584,
          0.03708791360259056,
          0.03434066101908684,
          0.03319597244262695,
          0.03617216274142265,
          0.0386904776096344,
          0.03731685131788254,
          0.03663003817200661,
          0.03800366446375847,
          0.035256411880254745,
          0.036858975887298584,
          0.03731685131788254,
          0.03365384787321091,
          0.037545789033174515,
          0.037545789033174515,
          0.03479853644967079,
          0.03731685131788254,
          0.0357142873108387,
          0.038232602179050446,
          0.03617216274142265,
          0.036858975887298584,
          0.03411172330379486,
          0.032280221581459045,
          0.03663003817200661,
          0.0357142873108387,
          0.03708791360259056,
          0.035943225026130676,
          0.03777472674846649,
          0.03731685131788254
         ]
        }
       ],
       "layout": {
        "template": {
         "data": {
          "bar": [
           {
            "error_x": {
             "color": "#2a3f5f"
            },
            "error_y": {
             "color": "#2a3f5f"
            },
            "marker": {
             "line": {
              "color": "#E5ECF6",
              "width": 0.5
             },
             "pattern": {
              "fillmode": "overlay",
              "size": 10,
              "solidity": 0.2
             }
            },
            "type": "bar"
           }
          ],
          "barpolar": [
           {
            "marker": {
             "line": {
              "color": "#E5ECF6",
              "width": 0.5
             },
             "pattern": {
              "fillmode": "overlay",
              "size": 10,
              "solidity": 0.2
             }
            },
            "type": "barpolar"
           }
          ],
          "carpet": [
           {
            "aaxis": {
             "endlinecolor": "#2a3f5f",
             "gridcolor": "white",
             "linecolor": "white",
             "minorgridcolor": "white",
             "startlinecolor": "#2a3f5f"
            },
            "baxis": {
             "endlinecolor": "#2a3f5f",
             "gridcolor": "white",
             "linecolor": "white",
             "minorgridcolor": "white",
             "startlinecolor": "#2a3f5f"
            },
            "type": "carpet"
           }
          ],
          "choropleth": [
           {
            "colorbar": {
             "outlinewidth": 0,
             "ticks": ""
            },
            "type": "choropleth"
           }
          ],
          "contour": [
           {
            "colorbar": {
             "outlinewidth": 0,
             "ticks": ""
            },
            "colorscale": [
             [
              0,
              "#0d0887"
             ],
             [
              0.1111111111111111,
              "#46039f"
             ],
             [
              0.2222222222222222,
              "#7201a8"
             ],
             [
              0.3333333333333333,
              "#9c179e"
             ],
             [
              0.4444444444444444,
              "#bd3786"
             ],
             [
              0.5555555555555556,
              "#d8576b"
             ],
             [
              0.6666666666666666,
              "#ed7953"
             ],
             [
              0.7777777777777778,
              "#fb9f3a"
             ],
             [
              0.8888888888888888,
              "#fdca26"
             ],
             [
              1,
              "#f0f921"
             ]
            ],
            "type": "contour"
           }
          ],
          "contourcarpet": [
           {
            "colorbar": {
             "outlinewidth": 0,
             "ticks": ""
            },
            "type": "contourcarpet"
           }
          ],
          "heatmap": [
           {
            "colorbar": {
             "outlinewidth": 0,
             "ticks": ""
            },
            "colorscale": [
             [
              0,
              "#0d0887"
             ],
             [
              0.1111111111111111,
              "#46039f"
             ],
             [
              0.2222222222222222,
              "#7201a8"
             ],
             [
              0.3333333333333333,
              "#9c179e"
             ],
             [
              0.4444444444444444,
              "#bd3786"
             ],
             [
              0.5555555555555556,
              "#d8576b"
             ],
             [
              0.6666666666666666,
              "#ed7953"
             ],
             [
              0.7777777777777778,
              "#fb9f3a"
             ],
             [
              0.8888888888888888,
              "#fdca26"
             ],
             [
              1,
              "#f0f921"
             ]
            ],
            "type": "heatmap"
           }
          ],
          "heatmapgl": [
           {
            "colorbar": {
             "outlinewidth": 0,
             "ticks": ""
            },
            "colorscale": [
             [
              0,
              "#0d0887"
             ],
             [
              0.1111111111111111,
              "#46039f"
             ],
             [
              0.2222222222222222,
              "#7201a8"
             ],
             [
              0.3333333333333333,
              "#9c179e"
             ],
             [
              0.4444444444444444,
              "#bd3786"
             ],
             [
              0.5555555555555556,
              "#d8576b"
             ],
             [
              0.6666666666666666,
              "#ed7953"
             ],
             [
              0.7777777777777778,
              "#fb9f3a"
             ],
             [
              0.8888888888888888,
              "#fdca26"
             ],
             [
              1,
              "#f0f921"
             ]
            ],
            "type": "heatmapgl"
           }
          ],
          "histogram": [
           {
            "marker": {
             "pattern": {
              "fillmode": "overlay",
              "size": 10,
              "solidity": 0.2
             }
            },
            "type": "histogram"
           }
          ],
          "histogram2d": [
           {
            "colorbar": {
             "outlinewidth": 0,
             "ticks": ""
            },
            "colorscale": [
             [
              0,
              "#0d0887"
             ],
             [
              0.1111111111111111,
              "#46039f"
             ],
             [
              0.2222222222222222,
              "#7201a8"
             ],
             [
              0.3333333333333333,
              "#9c179e"
             ],
             [
              0.4444444444444444,
              "#bd3786"
             ],
             [
              0.5555555555555556,
              "#d8576b"
             ],
             [
              0.6666666666666666,
              "#ed7953"
             ],
             [
              0.7777777777777778,
              "#fb9f3a"
             ],
             [
              0.8888888888888888,
              "#fdca26"
             ],
             [
              1,
              "#f0f921"
             ]
            ],
            "type": "histogram2d"
           }
          ],
          "histogram2dcontour": [
           {
            "colorbar": {
             "outlinewidth": 0,
             "ticks": ""
            },
            "colorscale": [
             [
              0,
              "#0d0887"
             ],
             [
              0.1111111111111111,
              "#46039f"
             ],
             [
              0.2222222222222222,
              "#7201a8"
             ],
             [
              0.3333333333333333,
              "#9c179e"
             ],
             [
              0.4444444444444444,
              "#bd3786"
             ],
             [
              0.5555555555555556,
              "#d8576b"
             ],
             [
              0.6666666666666666,
              "#ed7953"
             ],
             [
              0.7777777777777778,
              "#fb9f3a"
             ],
             [
              0.8888888888888888,
              "#fdca26"
             ],
             [
              1,
              "#f0f921"
             ]
            ],
            "type": "histogram2dcontour"
           }
          ],
          "mesh3d": [
           {
            "colorbar": {
             "outlinewidth": 0,
             "ticks": ""
            },
            "type": "mesh3d"
           }
          ],
          "parcoords": [
           {
            "line": {
             "colorbar": {
              "outlinewidth": 0,
              "ticks": ""
             }
            },
            "type": "parcoords"
           }
          ],
          "pie": [
           {
            "automargin": true,
            "type": "pie"
           }
          ],
          "scatter": [
           {
            "fillpattern": {
             "fillmode": "overlay",
             "size": 10,
             "solidity": 0.2
            },
            "type": "scatter"
           }
          ],
          "scatter3d": [
           {
            "line": {
             "colorbar": {
              "outlinewidth": 0,
              "ticks": ""
             }
            },
            "marker": {
             "colorbar": {
              "outlinewidth": 0,
              "ticks": ""
             }
            },
            "type": "scatter3d"
           }
          ],
          "scattercarpet": [
           {
            "marker": {
             "colorbar": {
              "outlinewidth": 0,
              "ticks": ""
             }
            },
            "type": "scattercarpet"
           }
          ],
          "scattergeo": [
           {
            "marker": {
             "colorbar": {
              "outlinewidth": 0,
              "ticks": ""
             }
            },
            "type": "scattergeo"
           }
          ],
          "scattergl": [
           {
            "marker": {
             "colorbar": {
              "outlinewidth": 0,
              "ticks": ""
             }
            },
            "type": "scattergl"
           }
          ],
          "scattermapbox": [
           {
            "marker": {
             "colorbar": {
              "outlinewidth": 0,
              "ticks": ""
             }
            },
            "type": "scattermapbox"
           }
          ],
          "scatterpolar": [
           {
            "marker": {
             "colorbar": {
              "outlinewidth": 0,
              "ticks": ""
             }
            },
            "type": "scatterpolar"
           }
          ],
          "scatterpolargl": [
           {
            "marker": {
             "colorbar": {
              "outlinewidth": 0,
              "ticks": ""
             }
            },
            "type": "scatterpolargl"
           }
          ],
          "scatterternary": [
           {
            "marker": {
             "colorbar": {
              "outlinewidth": 0,
              "ticks": ""
             }
            },
            "type": "scatterternary"
           }
          ],
          "surface": [
           {
            "colorbar": {
             "outlinewidth": 0,
             "ticks": ""
            },
            "colorscale": [
             [
              0,
              "#0d0887"
             ],
             [
              0.1111111111111111,
              "#46039f"
             ],
             [
              0.2222222222222222,
              "#7201a8"
             ],
             [
              0.3333333333333333,
              "#9c179e"
             ],
             [
              0.4444444444444444,
              "#bd3786"
             ],
             [
              0.5555555555555556,
              "#d8576b"
             ],
             [
              0.6666666666666666,
              "#ed7953"
             ],
             [
              0.7777777777777778,
              "#fb9f3a"
             ],
             [
              0.8888888888888888,
              "#fdca26"
             ],
             [
              1,
              "#f0f921"
             ]
            ],
            "type": "surface"
           }
          ],
          "table": [
           {
            "cells": {
             "fill": {
              "color": "#EBF0F8"
             },
             "line": {
              "color": "white"
             }
            },
            "header": {
             "fill": {
              "color": "#C8D4E3"
             },
             "line": {
              "color": "white"
             }
            },
            "type": "table"
           }
          ]
         },
         "layout": {
          "annotationdefaults": {
           "arrowcolor": "#2a3f5f",
           "arrowhead": 0,
           "arrowwidth": 1
          },
          "autotypenumbers": "strict",
          "coloraxis": {
           "colorbar": {
            "outlinewidth": 0,
            "ticks": ""
           }
          },
          "colorscale": {
           "diverging": [
            [
             0,
             "#8e0152"
            ],
            [
             0.1,
             "#c51b7d"
            ],
            [
             0.2,
             "#de77ae"
            ],
            [
             0.3,
             "#f1b6da"
            ],
            [
             0.4,
             "#fde0ef"
            ],
            [
             0.5,
             "#f7f7f7"
            ],
            [
             0.6,
             "#e6f5d0"
            ],
            [
             0.7,
             "#b8e186"
            ],
            [
             0.8,
             "#7fbc41"
            ],
            [
             0.9,
             "#4d9221"
            ],
            [
             1,
             "#276419"
            ]
           ],
           "sequential": [
            [
             0,
             "#0d0887"
            ],
            [
             0.1111111111111111,
             "#46039f"
            ],
            [
             0.2222222222222222,
             "#7201a8"
            ],
            [
             0.3333333333333333,
             "#9c179e"
            ],
            [
             0.4444444444444444,
             "#bd3786"
            ],
            [
             0.5555555555555556,
             "#d8576b"
            ],
            [
             0.6666666666666666,
             "#ed7953"
            ],
            [
             0.7777777777777778,
             "#fb9f3a"
            ],
            [
             0.8888888888888888,
             "#fdca26"
            ],
            [
             1,
             "#f0f921"
            ]
           ],
           "sequentialminus": [
            [
             0,
             "#0d0887"
            ],
            [
             0.1111111111111111,
             "#46039f"
            ],
            [
             0.2222222222222222,
             "#7201a8"
            ],
            [
             0.3333333333333333,
             "#9c179e"
            ],
            [
             0.4444444444444444,
             "#bd3786"
            ],
            [
             0.5555555555555556,
             "#d8576b"
            ],
            [
             0.6666666666666666,
             "#ed7953"
            ],
            [
             0.7777777777777778,
             "#fb9f3a"
            ],
            [
             0.8888888888888888,
             "#fdca26"
            ],
            [
             1,
             "#f0f921"
            ]
           ]
          },
          "colorway": [
           "#636efa",
           "#EF553B",
           "#00cc96",
           "#ab63fa",
           "#FFA15A",
           "#19d3f3",
           "#FF6692",
           "#B6E880",
           "#FF97FF",
           "#FECB52"
          ],
          "font": {
           "color": "#2a3f5f"
          },
          "geo": {
           "bgcolor": "white",
           "lakecolor": "white",
           "landcolor": "#E5ECF6",
           "showlakes": true,
           "showland": true,
           "subunitcolor": "white"
          },
          "hoverlabel": {
           "align": "left"
          },
          "hovermode": "closest",
          "mapbox": {
           "style": "light"
          },
          "paper_bgcolor": "white",
          "plot_bgcolor": "#E5ECF6",
          "polar": {
           "angularaxis": {
            "gridcolor": "white",
            "linecolor": "white",
            "ticks": ""
           },
           "bgcolor": "#E5ECF6",
           "radialaxis": {
            "gridcolor": "white",
            "linecolor": "white",
            "ticks": ""
           }
          },
          "scene": {
           "xaxis": {
            "backgroundcolor": "#E5ECF6",
            "gridcolor": "white",
            "gridwidth": 2,
            "linecolor": "white",
            "showbackground": true,
            "ticks": "",
            "zerolinecolor": "white"
           },
           "yaxis": {
            "backgroundcolor": "#E5ECF6",
            "gridcolor": "white",
            "gridwidth": 2,
            "linecolor": "white",
            "showbackground": true,
            "ticks": "",
            "zerolinecolor": "white"
           },
           "zaxis": {
            "backgroundcolor": "#E5ECF6",
            "gridcolor": "white",
            "gridwidth": 2,
            "linecolor": "white",
            "showbackground": true,
            "ticks": "",
            "zerolinecolor": "white"
           }
          },
          "shapedefaults": {
           "line": {
            "color": "#2a3f5f"
           }
          },
          "ternary": {
           "aaxis": {
            "gridcolor": "white",
            "linecolor": "white",
            "ticks": ""
           },
           "baxis": {
            "gridcolor": "white",
            "linecolor": "white",
            "ticks": ""
           },
           "bgcolor": "#E5ECF6",
           "caxis": {
            "gridcolor": "white",
            "linecolor": "white",
            "ticks": ""
           }
          },
          "title": {
           "x": 0.05
          },
          "xaxis": {
           "automargin": true,
           "gridcolor": "white",
           "linecolor": "white",
           "ticks": "",
           "title": {
            "standoff": 15
           },
           "zerolinecolor": "white",
           "zerolinewidth": 2
          },
          "yaxis": {
           "automargin": true,
           "gridcolor": "white",
           "linecolor": "white",
           "ticks": "",
           "title": {
            "standoff": 15
           },
           "zerolinecolor": "white",
           "zerolinewidth": 2
          }
         }
        },
        "title": {
         "text": "Model Output vs Target for Feature 2, Batch 4"
        },
        "xaxis": {
         "title": {
          "text": "Timestep"
         }
        },
        "yaxis": {
         "title": {
          "text": "Value"
         }
        }
       }
      }
     },
     "metadata": {},
     "output_type": "display_data"
    }
   ],
   "source": [
    "import plotly.graph_objects as go\n",
    "\n",
    "def plot_model_output_vs_target(model_outputs, targets, batch_index=0, feature_index=0):\n",
    "    # Extract the specified feature for the given batch from both the model outputs and targets\n",
    "    model_output_series = model_outputs[batch_index, :, feature_index].detach().numpy()\n",
    "    target_series = targets[batch_index, :, feature_index].numpy()\n",
    "    \n",
    "    # Create a range for the x-axis (timesteps)\n",
    "    timesteps = list(range(model_output_series.shape[0]))\n",
    "    \n",
    "    # Create traces\n",
    "    model_trace = go.Scatter(x=timesteps, y=model_output_series, mode='lines', name='Model Output')\n",
    "    target_trace = go.Scatter(x=timesteps, y=target_series, mode='lines', name='Target')\n",
    "    \n",
    "    # Create the figure and add traces\n",
    "    fig = go.Figure()\n",
    "    fig.add_trace(model_trace)\n",
    "    fig.add_trace(target_trace)\n",
    "    \n",
    "    # Add title and labels\n",
    "    fig.update_layout(title=f'Model Output vs Target for Feature {feature_index}, Batch {batch_index}',\n",
    "                      xaxis_title='Timestep',\n",
    "                      yaxis_title='Value')\n",
    "    \n",
    "    # Show the figure\n",
    "    fig.show()\n",
    "\n",
    "# Assuming `y` and `Y` are your model outputs and targets, respectively\n",
    "# Adjust batch_index and feature_index as needed\n",
    "plot_model_output_vs_target(outputs.to(\"cpu\"), batch_Y.to(\"cpu\"), batch_index=4, feature_index=2)"
   ]
  },
  {
   "cell_type": "markdown",
   "metadata": {},
   "source": [
    "Unsurprisingly, when only tasked with predicting the next timestep given the previous timestep, the coil does quite well. We expect to see the discrepancies in the beginning of the sequence, as this is the burn-in of the transition tensor. This is helpful as it gives us a sense of how long we may need to wind up our coil before the transition tensor is properly initialized for autoregressive generation. "
   ]
  },
  {
   "cell_type": "markdown",
   "metadata": {},
   "source": [
    "## Unenforced Autoregressive Coil Generation\n",
    "\n",
    "To give a sense of the dynamics coils are capable of producing, we can simply allow a coil to autoregressively generate from some initial state without performing any reconfirmation of state."
   ]
  },
  {
   "cell_type": "code",
   "execution_count": 59,
   "metadata": {},
   "outputs": [
    {
     "data": {
      "application/vnd.plotly.v1+json": {
       "config": {
        "plotlyServerURL": "https://plot.ly"
       },
       "data": [
        {
         "mode": "lines",
         "name": "State 0",
         "type": "scatter",
         "y": [
          0.03487236797809601,
          0.03397735208272934,
          0.03845040872693062,
          0.034753989428281784,
          0.036576464772224426,
          0.03366381302475929,
          0.03590599447488785,
          0.03547096997499466,
          0.03494087606668472,
          0.032405488193035126,
          0.03303498774766922,
          0.03273168206214905,
          0.03502654284238815,
          0.03501075506210327,
          0.037656642496585846,
          0.03703761845827103,
          0.0362374410033226,
          0.03701293095946312,
          0.03247474133968353,
          0.03334147855639458,
          0.035314373672008514,
          0.03462764993309975,
          0.03419099748134613,
          0.03336083143949509,
          0.03577667102217674,
          0.0357387401163578,
          0.03502803295850754,
          0.036169447004795074,
          0.03534260392189026,
          0.03603501245379448,
          0.03674595057964325,
          0.03636576980352402,
          0.03394884616136551,
          0.034526847302913666,
          0.036311596632003784,
          0.03507553040981293,
          0.035839855670928955,
          0.03469422459602356,
          0.035394132137298584,
          0.03698711097240448,
          0.03488445281982422,
          0.03473489359021187,
          0.034649115055799484,
          0.03489663824439049,
          0.036562077701091766,
          0.034737348556518555,
          0.034843385219573975,
          0.032494816929101944,
          0.03347111493349075,
          0.03418666869401932,
          0.03535906970500946,
          0.034361809492111206,
          0.03667132928967476,
          0.03399520739912987,
          0.03356035798788071,
          0.03543687239289284,
          0.03566645458340645,
          0.03573458269238472,
          0.03458711504936218,
          0.03596741333603859,
          0.035539112985134125,
          0.03585011884570122,
          0.03483552485704422,
          0.03634963557124138,
          0.03512664884328842,
          0.03609906882047653,
          0.03485661745071411,
          0.0354086272418499,
          0.03206760063767433,
          0.03322058916091919,
          0.03495613485574722,
          0.03555198758840561,
          0.03440404310822487,
          0.03568066656589508,
          0.03636668622493744,
          0.0352267324924469,
          0.03503132611513138,
          0.03640788793563843,
          0.03486868366599083,
          0.03504142165184021,
          0.0339716337621212,
          0.03607120364904404,
          0.03649892285466194,
          0.035850320011377335,
          0.035230785608291626,
          0.03456255421042442,
          0.03688669204711914,
          0.038298193365335464,
          0.03727751225233078,
          0.037843357771635056,
          0.03917812183499336,
          0.04377360641956329,
          0.04002733528614044,
          0.039635930210351944,
          0.03803443908691406,
          0.0337977334856987,
          0.036068208515644073,
          0.036189161241054535,
          0.036782387644052505,
          0.03431054204702377
         ]
        },
        {
         "mode": "lines",
         "name": "State 1",
         "type": "scatter",
         "y": [
          0.03617504984140396,
          0.03705485537648201,
          0.033799201250076294,
          0.03583058714866638,
          0.03454063832759857,
          0.0380849689245224,
          0.03604184091091156,
          0.036064524203538895,
          0.037006787955760956,
          0.03846091404557228,
          0.04088762402534485,
          0.03907756507396698,
          0.035981129854917526,
          0.03759097307920456,
          0.034474052488803864,
          0.034118179231882095,
          0.03519856929779053,
          0.03379945084452629,
          0.03784257918596268,
          0.036933962255716324,
          0.03610500693321228,
          0.03611025586724281,
          0.03741733357310295,
          0.03843576833605766,
          0.03599005937576294,
          0.03504321351647377,
          0.036092422902584076,
          0.035523347556591034,
          0.03576654940843582,
          0.035358529537916183,
          0.03544844314455986,
          0.034954819828271866,
          0.037638504058122635,
          0.037310805171728134,
          0.035140618681907654,
          0.035771749913692474,
          0.03533211350440979,
          0.03611963614821434,
          0.036330848932266235,
          0.034326449036598206,
          0.036215640604496,
          0.035983070731163025,
          0.03605929762125015,
          0.03693323954939842,
          0.03494255989789963,
          0.03616863489151001,
          0.03625140339136124,
          0.038682665675878525,
          0.03711862117052078,
          0.038125649094581604,
          0.035377953201532364,
          0.03613033890724182,
          0.03462610021233559,
          0.03790748864412308,
          0.038120467215776443,
          0.03637266904115677,
          0.03529742360115051,
          0.03557681664824486,
          0.037123724818229675,
          0.03578272461891174,
          0.035288840532302856,
          0.0356418713927269,
          0.03681260347366333,
          0.035299576818943024,
          0.0357268862426281,
          0.03539081662893295,
          0.03600217401981354,
          0.035432714968919754,
          0.03884090483188629,
          0.03723444044589996,
          0.0368163026869297,
          0.03545532748103142,
          0.03605145215988159,
          0.036355193704366684,
          0.034916069358587265,
          0.03596431761980057,
          0.03624788671731949,
          0.035010404884815216,
          0.03606890141963959,
          0.0361003577709198,
          0.036743395030498505,
          0.03596176952123642,
          0.03506319969892502,
          0.03472081571817398,
          0.035836927592754364,
          0.03600458800792694,
          0.037823840975761414,
          0.033194318413734436,
          0.03380187973380089,
          0.03404992073774338,
          0.032983094453811646,
          0.028925620019435883,
          0.03196464478969574,
          0.03371740132570267,
          0.03286111354827881,
          0.038093507289886475,
          0.03686019778251648,
          0.03531260788440704,
          0.03503822535276413,
          0.03653068095445633
         ]
        },
        {
         "mode": "lines",
         "name": "State 2",
         "type": "scatter",
         "y": [
          0.03874640539288521,
          0.03785152733325958,
          0.037409860640764236,
          0.0333767868578434,
          0.0351126529276371,
          0.03443792089819908,
          0.03473958000540733,
          0.03755398094654083,
          0.033373355865478516,
          0.03490612655878067,
          0.035102177411317825,
          0.0394182987511158,
          0.03204183652997017,
          0.0344332754611969,
          0.03506524860858917,
          0.03647454455494881,
          0.03542608395218849,
          0.03594687581062317,
          0.034402839839458466,
          0.03234893083572388,
          0.03540381044149399,
          0.03664856031537056,
          0.0383061058819294,
          0.03759712725877762,
          0.03638393431901932,
          0.03650597482919693,
          0.0371369868516922,
          0.036745477467775345,
          0.03609570860862732,
          0.03541415184736252,
          0.03583188354969025,
          0.036797113716602325,
          0.03792248293757439,
          0.03701199218630791,
          0.03644624352455139,
          0.036371782422065735,
          0.03671474754810333,
          0.03714427351951599,
          0.037227749824523926,
          0.03639962524175644,
          0.03762113302946091,
          0.03643093258142471,
          0.0369262769818306,
          0.03733871132135391,
          0.03653518855571747,
          0.03630104660987854,
          0.0352017842233181,
          0.03479240834712982,
          0.03360368683934212,
          0.03184594213962555,
          0.039358027279376984,
          0.03772693872451782,
          0.038831569254398346,
          0.03793533891439438,
          0.03765241429209709,
          0.03652606159448624,
          0.036235492676496506,
          0.03677235171198845,
          0.03796368092298508,
          0.036610327661037445,
          0.036159027367830276,
          0.036513492465019226,
          0.03770923614501953,
          0.03653988242149353,
          0.036071449518203735,
          0.03568243980407715,
          0.035749875009059906,
          0.03527981787919998,
          0.034578900784254074,
          0.032627172768116,
          0.033129990100860596,
          0.03891880810260773,
          0.03664056211709976,
          0.03311338275671005,
          0.03722495585680008,
          0.0363626629114151,
          0.036992691457271576,
          0.03651392459869385,
          0.036182649433612823,
          0.03564745560288429,
          0.035548076033592224,
          0.03618752211332321,
          0.039758093655109406,
          0.039369676262140274,
          0.03727183863520622,
          0.03213682770729065,
          0.0378805510699749,
          0.036431729793548584,
          0.03543391451239586,
          0.03067055344581604,
          0.027599317952990532,
          0.018402449786663055,
          0.02775006741285324,
          0.0400070995092392,
          0.03498004376888275,
          0.043731555342674255,
          0.038048841059207916,
          0.03501373529434204,
          0.03450627624988556,
          0.040899064391851425
         ]
        },
        {
         "mode": "lines",
         "name": "State 3",
         "type": "scatter",
         "y": [
          0.032529138028621674,
          0.03358388692140579,
          0.033808548003435135,
          0.038158755749464035,
          0.03678983822464943,
          0.03732309490442276,
          0.03695536404848099,
          0.03502048924565315,
          0.03800010681152344,
          0.035831741988658905,
          0.03598222881555557,
          0.033311888575553894,
          0.04013318568468094,
          0.03585346043109894,
          0.03657207265496254,
          0.03471424803137779,
          0.03491432964801788,
          0.035118747502565384,
          0.036296963691711426,
          0.039047956466674805,
          0.035482969135046005,
          0.035935163497924805,
          0.0323278084397316,
          0.03354477509856224,
          0.03523709625005722,
          0.03471286967396736,
          0.034067440778017044,
          0.03483543545007706,
          0.035192422568798065,
          0.035433776676654816,
          0.035451557487249374,
          0.03413761407136917,
          0.033237237483263016,
          0.034404076635837555,
          0.035194262862205505,
          0.03465275838971138,
          0.034651245921850204,
          0.03367540240287781,
          0.034255631268024445,
          0.03518182784318924,
          0.033659085631370544,
          0.03460555151104927,
          0.03371477872133255,
          0.03420469909906387,
          0.03507158160209656,
          0.03469807654619217,
          0.035957615822553635,
          0.03590840473771095,
          0.03764479607343674,
          0.03977221995592117,
          0.03230267018079758,
          0.033479854464530945,
          0.03245753049850464,
          0.03334948047995567,
          0.03347480297088623,
          0.03501329943537712,
          0.03522758558392525,
          0.0345214381814003,
          0.033171072602272034,
          0.03505349159240723,
          0.0349312424659729,
          0.03490879386663437,
          0.03352252021431923,
          0.0351162813603878,
          0.03486873209476471,
          0.034866902977228165,
          0.03521239012479782,
          0.035834554582834244,
          0.036003079265356064,
          0.038787659257650375,
          0.038453757762908936,
          0.03270091861486435,
          0.034002602100372314,
          0.03779977560043335,
          0.03443492203950882,
          0.03482816740870476,
          0.034434959292411804,
          0.03509671986103058,
          0.034746650606393814,
          0.035424716770648956,
          0.035885222256183624,
          0.035546690225601196,
          0.03138486295938492,
          0.031115049496293068,
          0.03357876092195511,
          0.03962632268667221,
          0.030382713302969933,
          0.035331837832927704,
          0.03586228936910629,
          0.04047321528196335,
          0.044603753834962845,
          0.05358606204390526,
          0.04204612970352173,
          0.029490314424037933,
          0.03519400581717491,
          0.027437439188361168,
          0.03390597552061081,
          0.036223821341991425,
          0.03710100054740906,
          0.030023906379938126
         ]
        },
        {
         "mode": "lines",
         "name": "State 4",
         "type": "scatter",
         "y": [
          0.03841571509838104,
          0.0371888168156147,
          0.03749844431877136,
          0.03355730324983597,
          0.03482102230191231,
          0.0349588543176651,
          0.034953005611896515,
          0.038178205490112305,
          0.03283422440290451,
          0.0358901284635067,
          0.03720494732260704,
          0.03708614036440849,
          0.03021596372127533,
          0.03472505509853363,
          0.03482796251773834,
          0.03725505992770195,
          0.036159515380859375,
          0.0359533317387104,
          0.0348113477230072,
          0.03267736732959747,
          0.03513261303305626,
          0.036311231553554535,
          0.03937229886651039,
          0.03789910674095154,
          0.03598592430353165,
          0.03516395762562752,
          0.037272848188877106,
          0.03631754219532013,
          0.03564980998635292,
          0.03500106930732727,
          0.03600958734750748,
          0.03617710620164871,
          0.0382409542798996,
          0.03691938519477844,
          0.036005668342113495,
          0.035805843770504,
          0.03567534685134888,
          0.037531692534685135,
          0.0369429774582386,
          0.03614863008260727,
          0.03749851882457733,
          0.03710812330245972,
          0.037995725870132446,
          0.03705762326717377,
          0.03615984693169594,
          0.03615497797727585,
          0.03538735583424568,
          0.03536100313067436,
          0.03404244780540466,
          0.031366631388664246,
          0.03975437581539154,
          0.03822186961770058,
          0.0387675017118454,
          0.03782598674297333,
          0.03800789639353752,
          0.0361931286752224,
          0.03550109267234802,
          0.03674063831567764,
          0.038215771317481995,
          0.03616227209568024,
          0.03543876111507416,
          0.03649158030748367,
          0.037698421627283096,
          0.03611883521080017,
          0.03568700700998306,
          0.036322642117738724,
          0.03646428883075714,
          0.03559495508670807,
          0.034971512854099274,
          0.03292800858616829,
          0.032577186822891235,
          0.0392942912876606,
          0.03732012212276459,
          0.03350985795259476,
          0.03694628179073334,
          0.035594675689935684,
          0.036751434206962585,
          0.03610430657863617,
          0.035899870097637177,
          0.0355929397046566,
          0.036191754043102264,
          0.03788381069898605,
          0.0400044322013855,
          0.04023706912994385,
          0.03667686507105827,
          0.03215953707695007,
          0.040026575326919556,
          0.03644542396068573,
          0.035452503710985184,
          0.030018508434295654,
          0.026100624352693558,
          0.018256213515996933,
          0.027500465512275696,
          0.04165701940655708,
          0.03511437028646469,
          0.042729053646326065,
          0.03656366467475891,
          0.035060591995716095,
          0.0343649797141552,
          0.04168151319026947
         ]
        },
        {
         "mode": "lines",
         "name": "State 5",
         "type": "scatter",
         "y": [
          0.03259268030524254,
          0.03314778581261635,
          0.033933646976947784,
          0.03777599334716797,
          0.03658134490251541,
          0.03676879033446312,
          0.03663473576307297,
          0.034276485443115234,
          0.03732883185148239,
          0.03569023311138153,
          0.034464623779058456,
          0.0313924178481102,
          0.039894551038742065,
          0.03693056106567383,
          0.036641161888837814,
          0.034792713820934296,
          0.03514204919338226,
          0.035377562046051025,
          0.03657358139753342,
          0.03930450230836868,
          0.035169631242752075,
          0.03505175560712814,
          0.032079584896564484,
          0.03309982642531395,
          0.03507698327302933,
          0.03571514040231705,
          0.03406182676553726,
          0.03479944169521332,
          0.03529573976993561,
          0.035876594483852386,
          0.03611836954951286,
          0.033995501697063446,
          0.03292042016983032,
          0.03415822237730026,
          0.03510163351893425,
          0.03539012372493744,
          0.03549475595355034,
          0.03382795676589012,
          0.03416016697883606,
          0.035130806267261505,
          0.03417164832353592,
          0.03480090945959091,
          0.03377044200897217,
          0.03399467468261719,
          0.03503682091832161,
          0.03525392711162567,
          0.0359027236700058,
          0.03634044900536537,
          0.0381164625287056,
          0.038432784378528595,
          0.03244757279753685,
          0.03360705077648163,
          0.032473716884851456,
          0.0330621600151062,
          0.033124711364507675,
          0.034851621836423874,
          0.035483673214912415,
          0.03442131727933884,
          0.033018141984939575,
          0.03493253141641617,
          0.03559364378452301,
          0.03473498299717903,
          0.0334320031106472,
          0.03504977375268936,
          0.035527125000953674,
          0.035102978348731995,
          0.035396188497543335,
          0.035587944090366364,
          0.03637285158038139,
          0.03909842297434807,
          0.037519671022892,
          0.032960906624794006,
          0.034534335136413574,
          0.03777896612882614,
          0.034317515790462494,
          0.03521150350570679,
          0.034422289580106735,
          0.035054441541433334,
          0.035315822809934616,
          0.035635724663734436,
          0.036370377987623215,
          0.034830085933208466,
          0.031541887670755386,
          0.03134573623538017,
          0.03377538174390793,
          0.039951350539922714,
          0.031602345407009125,
          0.03457096964120865,
          0.036160990595817566,
          0.04139215499162674,
          0.04451649263501167,
          0.05322672054171562,
          0.043335169553756714,
          0.030000299215316772,
          0.03652408346533775,
          0.027992509305477142,
          0.03390676900744438,
          0.03604281693696976,
          0.0367196649312973,
          0.02977929078042507
         ]
        },
        {
         "mode": "lines",
         "name": "State 6",
         "type": "scatter",
         "y": [
          0.039181098341941833,
          0.03689321503043175,
          0.038011230528354645,
          0.035641394555568695,
          0.036554254591464996,
          0.03392718732357025,
          0.03753411024808884,
          0.03635634854435921,
          0.033132947981357574,
          0.035986870527267456,
          0.03498200699687004,
          0.04115445166826248,
          0.030795134603977203,
          0.03362985700368881,
          0.035520896315574646,
          0.03597576171159744,
          0.03694791719317436,
          0.038127973675727844,
          0.035602591931819916,
          0.03391973301768303,
          0.03497220575809479,
          0.03612725809216499,
          0.039632268249988556,
          0.038757406175136566,
          0.03678865730762482,
          0.036708712577819824,
          0.03802952915430069,
          0.037112921476364136,
          0.036236606538295746,
          0.03603719174861908,
          0.036998048424720764,
          0.03792601078748703,
          0.0389680489897728,
          0.037833474576473236,
          0.036575645208358765,
          0.036607056856155396,
          0.03792117163538933,
          0.03886689618229866,
          0.03776208311319351,
          0.03627863898873329,
          0.03691461309790611,
          0.03621896728873253,
          0.038253724575042725,
          0.03800829499959946,
          0.03662393242120743,
          0.03622059524059296,
          0.036393821239471436,
          0.035839494317770004,
          0.034746333956718445,
          0.03156740218400955,
          0.03956982493400574,
          0.03674702346324921,
          0.038215432316064835,
          0.039306290447711945,
          0.03884199261665344,
          0.03706970810890198,
          0.03632254898548126,
          0.037573426961898804,
          0.03901786357164383,
          0.03690045326948166,
          0.03637436032295227,
          0.03726205974817276,
          0.038711681962013245,
          0.0366859994828701,
          0.03625394031405449,
          0.037249647080898285,
          0.03686565160751343,
          0.03689685836434364,
          0.0357564315199852,
          0.03409478813409805,
          0.03300182521343231,
          0.03862761706113815,
          0.03576240688562393,
          0.03326106816530228,
          0.03793153911828995,
          0.03701905161142349,
          0.03755762428045273,
          0.03658771514892578,
          0.03635280579328537,
          0.036806363612413406,
          0.03595530986785889,
          0.03710905462503433,
          0.040683455765247345,
          0.04124145209789276,
          0.03621844947338104,
          0.030944984406232834,
          0.0398152656853199,
          0.03638598695397377,
          0.03550008311867714,
          0.03118257038295269,
          0.03318127617239952,
          0.027880661189556122,
          0.038741812109947205,
          0.04142514616250992,
          0.02930494211614132,
          0.04178732633590698,
          0.03665590286254883,
          0.03565165400505066,
          0.03411010652780533,
          0.05093762278556824
         ]
        },
        {
         "mode": "lines",
         "name": "State 7",
         "type": "scatter",
         "y": [
          0.032176241278648376,
          0.035382770001888275,
          0.03397342562675476,
          0.0363982655107975,
          0.03526761382818222,
          0.03745368868112564,
          0.034461610019207,
          0.03463597595691681,
          0.03797546401619911,
          0.035983920097351074,
          0.03554441034793854,
          0.03097682073712349,
          0.04005545377731323,
          0.03604067862033844,
          0.036154795438051224,
          0.03459108620882034,
          0.03484286740422249,
          0.032980822026729584,
          0.035692956298589706,
          0.03787245973944664,
          0.037767574191093445,
          0.03453061729669571,
          0.03137049078941345,
          0.03223852068185806,
          0.03475571423768997,
          0.03640943765640259,
          0.03359416499733925,
          0.034457460045814514,
          0.035619862377643585,
          0.036973461508750916,
          0.03501175716519356,
          0.03460286930203438,
          0.032026052474975586,
          0.03353705257177353,
          0.035048648715019226,
          0.03551541641354561,
          0.035759951919317245,
          0.03284069895744324,
          0.03378402069211006,
          0.035179946571588516,
          0.034202106297016144,
          0.035850055515766144,
          0.03339418023824692,
          0.03350023925304413,
          0.034901201725006104,
          0.03533411771059036,
          0.035152386873960495,
          0.036004774272441864,
          0.03675508126616478,
          0.0401507243514061,
          0.031147897243499756,
          0.03529296815395355,
          0.03313001990318298,
          0.0324428491294384,
          0.032208822667598724,
          0.03443485498428345,
          0.0359041765332222,
          0.034954190254211426,
          0.032189738005399704,
          0.03467640280723572,
          0.035978712141513824,
          0.03522460535168648,
          0.032770540565252304,
          0.03486523777246475,
          0.03569108620285988,
          0.03634946793317795,
          0.03452266380190849,
          0.034009434282779694,
          0.035659532994031906,
          0.03767209127545357,
          0.03940294682979584,
          0.032224785536527634,
          0.036310628056526184,
          0.03703804686665535,
          0.03326844051480293,
          0.03549440577626228,
          0.03413902968168259,
          0.03501022979617119,
          0.035414718091487885,
          0.03532729297876358,
          0.0366300530731678,
          0.035754330456256866,
          0.03018154390156269,
          0.03010764718055725,
          0.03476236015558243,
          0.04067806154489517,
          0.03150338679552078,
          0.034811973571777344,
          0.03633681684732437,
          0.04061311483383179,
          0.03712192550301552,
          0.043332912027835846,
          0.032870419323444366,
          0.02930128201842308,
          0.04272538051009178,
          0.028803925961256027,
          0.03441079705953598,
          0.03569180518388748,
          0.0368189737200737,
          0.020799871534109116
         ]
        },
        {
         "mode": "lines",
         "name": "State 8",
         "type": "scatter",
         "y": [
          0.03590918332338333,
          0.035092227160930634,
          0.03612738847732544,
          0.03694677725434303,
          0.038859203457832336,
          0.035127535462379456,
          0.037762101739645004,
          0.03641022741794586,
          0.03511931374669075,
          0.03853283077478409,
          0.033753521740436554,
          0.03651570528745651,
          0.03538159281015396,
          0.036237932741642,
          0.03611355647444725,
          0.033629439771175385,
          0.036452773958444595,
          0.037508271634578705,
          0.036193761974573135,
          0.03693681210279465,
          0.03588901460170746,
          0.03630594164133072,
          0.03680278733372688,
          0.036422714591026306,
          0.036278776824474335,
          0.035927414894104004,
          0.03628789633512497,
          0.03628677502274513,
          0.03594011440873146,
          0.03567814081907272,
          0.035869400948286057,
          0.0363755039870739,
          0.036589816212654114,
          0.036493249237537384,
          0.03604033589363098,
          0.036026641726493835,
          0.03602033853530884,
          0.03643989562988281,
          0.03640172630548477,
          0.03570176288485527,
          0.035269416868686676,
          0.03511892259120941,
          0.03633942827582359,
          0.03658343479037285,
          0.03600252419710159,
          0.03578034043312073,
          0.03604743629693985,
          0.036466535180807114,
          0.03682277724146843,
          0.03712473437190056,
          0.036472007632255554,
          0.034613750874996185,
          0.03525776416063309,
          0.036470383405685425,
          0.03653297573328018,
          0.03638225793838501,
          0.0358806848526001,
          0.03630351275205612,
          0.036876365542411804,
          0.03615419194102287,
          0.03608539700508118,
          0.03627124801278114,
          0.03684241324663162,
          0.03603691607713699,
          0.036046307533979416,
          0.035904981195926666,
          0.03611386567354202,
          0.03655336797237396,
          0.03630946949124336,
          0.036882586777210236,
          0.036692239344120026,
          0.03573670983314514,
          0.034483179450035095,
          0.036473311483860016,
          0.03687157481908798,
          0.03599005937576294,
          0.03642383962869644,
          0.03598422557115555,
          0.03599576652050018,
          0.03599715232849121,
          0.036630164831876755,
          0.0361524373292923,
          0.03710034489631653,
          0.036771632730960846,
          0.03509744256734848,
          0.03487018868327141,
          0.035632431507110596,
          0.035210754722356796,
          0.035447776317596436,
          0.03639501333236694,
          0.04089084640145302,
          0.043888967484235764,
          0.044861190021038055,
          0.03687732666730881,
          0.02958647720515728,
          0.03502282500267029,
          0.033760301768779755,
          0.035593416541814804,
          0.03540202975273132,
          0.046191178262233734
         ]
        },
        {
         "mode": "lines",
         "name": "State 9",
         "type": "scatter",
         "y": [
          0.035302020609378815,
          0.03671698272228241,
          0.035466358065605164,
          0.034498874098062515,
          0.03395012021064758,
          0.03629569709300995,
          0.033783167600631714,
          0.03544379025697708,
          0.035612545907497406,
          0.034376028925180435,
          0.0353633314371109,
          0.035364385694265366,
          0.036889705806970596,
          0.035985659807920456,
          0.035318613052368164,
          0.0365753099322319,
          0.035220518708229065,
          0.033807553350925446,
          0.035097233951091766,
          0.035023730248212814,
          0.03554508835077286,
          0.035198938101530075,
          0.034628454595804214,
          0.034664053469896317,
          0.03607445955276489,
          0.03590889275074005,
          0.03568672016263008,
          0.03602849319577217,
          0.03612271696329117,
          0.03556066006422043,
          0.035865746438503265,
          0.03508641570806503,
          0.0343991219997406,
          0.03556628152728081,
          0.0361035019159317,
          0.0361153744161129,
          0.03536656126379967,
          0.03546809405088425,
          0.03602708876132965,
          0.03605998307466507,
          0.03656803444027901,
          0.03707444295287132,
          0.03618243336677551,
          0.0356491357088089,
          0.03610364720225334,
          0.03624052181839943,
          0.03508712351322174,
          0.03504441678524017,
          0.03513498976826668,
          0.03549256920814514,
          0.034764621406793594,
          0.03775990754365921,
          0.03619490936398506,
          0.03458107262849808,
          0.0346444807946682,
          0.03598635271191597,
          0.036078743636608124,
          0.03595792129635811,
          0.034884557127952576,
          0.03612218052148819,
          0.03606238216161728,
          0.035959642380476,
          0.035161662846803665,
          0.03612791746854782,
          0.03612806275486946,
          0.035117533057928085,
          0.0356975682079792,
          0.03458250313997269,
          0.035123541951179504,
          0.03503304719924927,
          0.034990645945072174,
          0.03535202518105507,
          0.037998832762241364,
          0.03554079681634903,
          0.03465520218014717,
          0.03583640605211258,
          0.03591160103678703,
          0.03608287125825882,
          0.03613927587866783,
          0.03503964841365814,
          0.03545390069484711,
          0.0351070798933506,
          0.03453416749835014,
          0.03528263419866562,
          0.03755907714366913,
          0.036674048751592636,
          0.037307631224393845,
          0.03564978018403053,
          0.03599824383854866,
          0.03537660092115402,
          0.030866095796227455,
          0.028375525027513504,
          0.026859775185585022,
          0.03494620695710182,
          0.042357929050922394,
          0.03716186061501503,
          0.037255749106407166,
          0.03586879000067711,
          0.0361238457262516,
          0.026302363723516464
         ]
        },
        {
         "mode": "lines",
         "name": "State 10",
         "type": "scatter",
         "y": [
          0.03802170604467392,
          0.03567531704902649,
          0.03707316145300865,
          0.03367581591010094,
          0.03471866622567177,
          0.03447096049785614,
          0.0345667228102684,
          0.036349210888147354,
          0.034422941505908966,
          0.037083376199007034,
          0.036894217133522034,
          0.03841596096754074,
          0.032799676060676575,
          0.034930091351270676,
          0.03514327481389046,
          0.037495627999305725,
          0.03644254058599472,
          0.03533940762281418,
          0.03491131216287613,
          0.03325895965099335,
          0.03546169772744179,
          0.03650292754173279,
          0.03787999227643013,
          0.03712909668684006,
          0.036291733384132385,
          0.036213576793670654,
          0.03729322552680969,
          0.03657796233892441,
          0.03603646904230118,
          0.03594224154949188,
          0.03718743473291397,
          0.03719797730445862,
          0.037187278270721436,
          0.0367804653942585,
          0.036195170134305954,
          0.03621517866849899,
          0.03676537424325943,
          0.036929432302713394,
          0.03705430403351784,
          0.03620835393667221,
          0.037109192460775375,
          0.036766283214092255,
          0.037228308618068695,
          0.03704303503036499,
          0.036312442272901535,
          0.03614310175180435,
          0.03566044941544533,
          0.034826718270778656,
          0.0342131070792675,
          0.03172765672206879,
          0.03727877512574196,
          0.03762248530983925,
          0.03800482675433159,
          0.03761283680796623,
          0.03714919835329056,
          0.036447200924158096,
          0.03602678328752518,
          0.037448395043611526,
          0.03745273873209953,
          0.0363583117723465,
          0.03592982888221741,
          0.03721797466278076,
          0.0373515859246254,
          0.036302655935287476,
          0.035923369228839874,
          0.03639976680278778,
          0.03620252013206482,
          0.035463280975818634,
          0.03505539894104004,
          0.033385343849658966,
          0.03299153596162796,
          0.03713642433285713,
          0.036969225853681564,
          0.03403209149837494,
          0.03677411749958992,
          0.03661505505442619,
          0.03677224740386009,
          0.036300115287303925,
          0.03614627569913864,
          0.03593936935067177,
          0.034409232437610626,
          0.03629261627793312,
          0.03822537884116173,
          0.038008399307727814,
          0.03718188405036926,
          0.033417969942092896,
          0.03983795642852783,
          0.03690815716981888,
          0.03578818961977959,
          0.031092271208763123,
          0.028286417946219444,
          0.02038297988474369,
          0.027951760217547417,
          0.03936702758073807,
          0.03766179829835892,
          0.039994049817323685,
          0.03844389691948891,
          0.03556375205516815,
          0.03439334034919739,
          0.03892241418361664
         ]
        },
        {
         "mode": "lines",
         "name": "State 11",
         "type": "scatter",
         "y": [
          0.034218255430459976,
          0.03481881320476532,
          0.033763669431209564,
          0.037867672741413116,
          0.03753817081451416,
          0.03724393993616104,
          0.037051551043987274,
          0.034551508724689484,
          0.038014158606529236,
          0.033752042800188065,
          0.034796714782714844,
          0.03087018057703972,
          0.03867010772228241,
          0.036548126488924026,
          0.036335840821266174,
          0.03413178026676178,
          0.03497100621461868,
          0.03606028109788895,
          0.03695079684257507,
          0.03859962522983551,
          0.03547962009906769,
          0.03517935052514076,
          0.03404446691274643,
          0.034491971135139465,
          0.03477604687213898,
          0.03605780377984047,
          0.0342673659324646,
          0.03433958441019058,
          0.03529440239071846,
          0.03639809042215347,
          0.03458796814084053,
          0.034871168434619904,
          0.03449736535549164,
          0.034501560032367706,
          0.03487640991806984,
          0.03549257665872574,
          0.0355297327041626,
          0.035021401941776276,
          0.03398872911930084,
          0.03504104167222977,
          0.03451013192534447,
          0.03634905070066452,
          0.03438034653663635,
          0.034018971025943756,
          0.034747183322906494,
          0.03529810905456543,
          0.03614071011543274,
          0.037011753767728806,
          0.03750177472829819,
          0.03892596811056137,
          0.03407924622297287,
          0.03519626706838608,
          0.03308992087841034,
          0.03439904376864433,
          0.03445229306817055,
          0.0346255786716938,
          0.03555230051279068,
          0.03488171100616455,
          0.03386430814862251,
          0.03465047478675842,
          0.03581042215228081,
          0.03506740927696228,
          0.03394438698887825,
          0.034733790904283524,
          0.035676080733537674,
          0.036366432905197144,
          0.03501533716917038,
          0.036375969648361206,
          0.03668929636478424,
          0.038484491407871246,
          0.03796376287937164,
          0.03412990644574165,
          0.03561228886246681,
          0.037733327597379684,
          0.033891454339027405,
          0.03547948598861694,
          0.0343727245926857,
          0.03477649763226509,
          0.03537283465266228,
          0.03601183742284775,
          0.03766731172800064,
          0.03508174046874046,
          0.03282688558101654,
          0.03361678868532181,
          0.03491124510765076,
          0.03822913020849228,
          0.034497879445552826,
          0.03518100082874298,
          0.03582451492547989,
          0.04078260809183121,
          0.042557667940855026,
          0.04964347928762436,
          0.042741887271404266,
          0.03247282654047012,
          0.035125747323036194,
          0.03150611370801926,
          0.033031001687049866,
          0.03607650101184845,
          0.03710130602121353,
          0.03211396932601929
         ]
        },
        {
         "mode": "lines",
         "name": "State 12",
         "type": "scatter",
         "y": [
          0.03815927356481552,
          0.036255065351724625,
          0.03875507041811943,
          0.035236723721027374,
          0.037510741502046585,
          0.032891761511564255,
          0.03763236477971077,
          0.0372934564948082,
          0.03293255716562271,
          0.03603080287575722,
          0.03446873277425766,
          0.03936382383108139,
          0.03449584171175957,
          0.03527108207345009,
          0.03513672947883606,
          0.035474736243486404,
          0.03742022067308426,
          0.038015514612197876,
          0.035629112273454666,
          0.0340353362262249,
          0.03536156937479973,
          0.03687067702412605,
          0.040303390473127365,
          0.039001453667879105,
          0.036876484751701355,
          0.035905178636312485,
          0.03824011981487274,
          0.03725945204496384,
          0.03598296269774437,
          0.03560803830623627,
          0.036371003836393356,
          0.03769790381193161,
          0.03925805538892746,
          0.03799841180443764,
          0.036574944853782654,
          0.036074645817279816,
          0.03670702502131462,
          0.03863152489066124,
          0.03801102191209793,
          0.03630252927541733,
          0.03658609092235565,
          0.03704192861914635,
          0.038744568824768066,
          0.038349077105522156,
          0.03664085268974304,
          0.03577103465795517,
          0.036028988659381866,
          0.035638973116874695,
          0.03495252877473831,
          0.03178255632519722,
          0.039196405559778214,
          0.03684002906084061,
          0.038499876856803894,
          0.03881270810961723,
          0.03910212963819504,
          0.03719119727611542,
          0.03593563288450241,
          0.0378294438123703,
          0.0393487885594368,
          0.03675729036331177,
          0.035875268280506134,
          0.03752007335424423,
          0.038913071155548096,
          0.036589302122592926,
          0.03576740622520447,
          0.03660175949335098,
          0.037516459822654724,
          0.03692711144685745,
          0.03573371469974518,
          0.03420652449131012,
          0.03318379446864128,
          0.03842554986476898,
          0.03608877956867218,
          0.03381316363811493,
          0.03841777890920639,
          0.036839552223682404,
          0.037608034908771515,
          0.03664407506585121,
          0.035924896597862244,
          0.036283887922763824,
          0.03564618527889252,
          0.03798028081655502,
          0.0403420552611351,
          0.04028504714369774,
          0.03589567542076111,
          0.032232072204351425,
          0.03879667446017265,
          0.03662363067269325,
          0.034867480397224426,
          0.031156187877058983,
          0.03249272704124451,
          0.02826181799173355,
          0.037703417241573334,
          0.040375206619501114,
          0.02993784099817276,
          0.04086872562766075,
          0.036760035902261734,
          0.035394638776779175,
          0.03467340022325516,
          0.04997047409415245
         ]
        },
        {
         "mode": "lines",
         "name": "State 13",
         "type": "scatter",
         "y": [
          0.033272404223680496,
          0.03460576385259628,
          0.033023953437805176,
          0.03525356575846672,
          0.03404301404953003,
          0.038898833096027374,
          0.03383539617061615,
          0.03450002148747444,
          0.039657749235630035,
          0.03436734899878502,
          0.035090215504169464,
          0.032296035438776016,
          0.03867509961128235,
          0.03573931008577347,
          0.03556623309850693,
          0.036349937319755554,
          0.03394022956490517,
          0.03327879309654236,
          0.03561427444219589,
          0.037494659423828125,
          0.03760484978556633,
          0.03520716354250908,
          0.03129156678915024,
          0.032166898250579834,
          0.034409504383802414,
          0.03589574247598648,
          0.033216848969459534,
          0.03431110084056854,
          0.035522446036338806,
          0.03638242185115814,
          0.03417997062206268,
          0.033913541585206985,
          0.032017290592193604,
          0.03332069516181946,
          0.034809112548828125,
          0.03543851897120476,
          0.03480536490678787,
          0.03338468819856644,
          0.033526428043842316,
          0.03509645164012909,
          0.03460796922445297,
          0.034829944372177124,
          0.032990314066410065,
          0.03324337676167488,
          0.03478275239467621,
          0.0355125367641449,
          0.03526771068572998,
          0.035243742167949677,
          0.03649596869945526,
          0.039016932249069214,
          0.03282700479030609,
          0.03479655086994171,
          0.03290155529975891,
          0.03234201297163963,
          0.03214900195598602,
          0.034114353358745575,
          0.03561500832438469,
          0.03475642576813698,
          0.0320911630988121,
          0.03463098779320717,
          0.03565844148397446,
          0.03498047962784767,
          0.03259686008095741,
          0.03482472896575928,
          0.03565813601016998,
          0.035876136273145676,
          0.03394949436187744,
          0.03450129181146622,
          0.0357622392475605,
          0.037293072789907455,
          0.03851436451077461,
          0.03345959633588791,
          0.0356534942984581,
          0.03736562281847,
          0.033197466284036636,
          0.03499070182442665,
          0.03383989632129669,
          0.034814413636922836,
          0.03546667471528053,
          0.03511989861726761,
          0.033722810447216034,
          0.0358319953083992,
          0.030698396265506744,
          0.03215545043349266,
          0.03585372865200043,
          0.03995069861412048,
          0.03163408115506172,
          0.03505870699882507,
          0.03651781752705574,
          0.04028864949941635,
          0.03843288496136665,
          0.04199068993330002,
          0.03531312197446823,
          0.029577143490314484,
          0.04152766987681389,
          0.030371060594916344,
          0.03366682678461075,
          0.03593879193067551,
          0.03706475719809532,
          0.021981731057167053
         ]
        },
        {
         "mode": "lines",
         "name": "State 14",
         "type": "scatter",
         "y": [
          0.0356256477534771,
          0.03716001659631729,
          0.03535008803009987,
          0.03367272764444351,
          0.03334956243634224,
          0.03643261641263962,
          0.03252478688955307,
          0.03566373884677887,
          0.03555939346551895,
          0.03639702871441841,
          0.03389222174882889,
          0.034431781619787216,
          0.034946292638778687,
          0.03664586320519447,
          0.035060636699199677,
          0.037559885531663895,
          0.035099565982818604,
          0.034063246101140976,
          0.03589564561843872,
          0.0340767428278923,
          0.03669469803571701,
          0.03536596894264221,
          0.03570505976676941,
          0.034781813621520996,
          0.034811701625585556,
          0.0361139178276062,
          0.0350036583840847,
          0.03502245247364044,
          0.03559213876724243,
          0.035570673644542694,
          0.03623839467763901,
          0.03547954559326172,
          0.035103291273117065,
          0.034622922539711,
          0.03521363437175751,
          0.03565198555588722,
          0.03524589538574219,
          0.0347115658223629,
          0.03495769947767258,
          0.035586386919021606,
          0.0360371470451355,
          0.036182284355163574,
          0.035196661949157715,
          0.03484340012073517,
          0.03527114912867546,
          0.03558453917503357,
          0.03502640128135681,
          0.035460010170936584,
          0.03436059504747391,
          0.03479177504777908,
          0.03639762103557587,
          0.037602175027132034,
          0.03604181855916977,
          0.03512587398290634,
          0.03487439453601837,
          0.03473767265677452,
          0.035710424184799194,
          0.034532222896814346,
          0.03498294577002525,
          0.034968141466379166,
          0.03572322428226471,
          0.03441149368882179,
          0.03491218388080597,
          0.03514469042420387,
          0.03561902046203613,
          0.03496894985437393,
          0.03478436917066574,
          0.034636884927749634,
          0.03579439967870712,
          0.03411298990249634,
          0.035330332815647125,
          0.03666054829955101,
          0.03770677372813225,
          0.03481288254261017,
          0.03427952527999878,
          0.03550875186920166,
          0.0350179597735405,
          0.03534866124391556,
          0.035555802285671234,
          0.035188741981983185,
          0.03521566092967987,
          0.034913964569568634,
          0.0354733020067215,
          0.03591286391019821,
          0.03703358769416809,
          0.036273520439863205,
          0.036115579307079315,
          0.03565584868192673,
          0.03610982745885849,
          0.0335906520485878,
          0.030086994171142578,
          0.025672506541013718,
          0.02763957902789116,
          0.0357351191341877,
          0.03908491134643555,
          0.036949560046195984,
          0.038946524262428284,
          0.035411082208156586,
          0.03565169498324394,
          0.030453387647867203
         ]
        },
        {
         "mode": "lines",
         "name": "State 15",
         "type": "scatter",
         "y": [
          0.035712242126464844,
          0.035313449800014496,
          0.035813651978969574,
          0.03767521679401398,
          0.03805769979953766,
          0.03518150746822357,
          0.03830856829881668,
          0.03606518357992172,
          0.03596050292253494,
          0.036548033356666565,
          0.03572101891040802,
          0.03657108172774315,
          0.040023356676101685,
          0.035091299563646317,
          0.036151327192783356,
          0.03492274135351181,
          0.03599202632904053,
          0.03756530582904816,
          0.03638288751244545,
          0.03694220259785652,
          0.03376176208257675,
          0.03673863038420677,
          0.0359429270029068,
          0.03643123805522919,
          0.03554387018084526,
          0.03592097759246826,
          0.035628754645586014,
          0.03543878719210625,
          0.03559177741408348,
          0.0361052006483078,
          0.03517361730337143,
          0.035709723830223083,
          0.03643732890486717,
          0.03589456528425217,
          0.03543278947472572,
          0.03602958098053932,
          0.03651013970375061,
          0.036126136779785156,
          0.03537248075008392,
          0.03548784926533699,
          0.03535494953393936,
          0.036687590181827545,
          0.03544563055038452,
          0.03560414910316467,
          0.03545007109642029,
          0.03585869073867798,
          0.03647550195455551,
          0.036559950560331345,
          0.036758676171302795,
          0.036141715943813324,
          0.036231521517038345,
          0.035609934478998184,
          0.03513389825820923,
          0.036082103848457336,
          0.03634662181138992,
          0.03563906252384186,
          0.035614013671875,
          0.03623585402965546,
          0.036029085516929626,
          0.03548888489603996,
          0.035947419703006744,
          0.0362512543797493,
          0.035939738154411316,
          0.03545449674129486,
          0.036023836582899094,
          0.036748044192790985,
          0.03629312291741371,
          0.0371442548930645,
          0.03648386150598526,
          0.036934614181518555,
          0.03517107293009758,
          0.035964105278253555,
          0.035873934626579285,
          0.036989692598581314,
          0.03554828464984894,
          0.03612315654754639,
          0.03571442887187004,
          0.03547557443380356,
          0.035924606025218964,
          0.036449283361434937,
          0.03608490526676178,
          0.03700055927038193,
          0.036231253296136856,
          0.0367765948176384,
          0.034674208611249924,
          0.03487614914774895,
          0.036514975130558014,
          0.035489100962877274,
          0.03584258630871773,
          0.03705931454896927,
          0.040810585021972656,
          0.04450489580631256,
          0.04363400116562843,
          0.03554289788007736,
          0.03113016113638878,
          0.034966208040714264,
          0.03490910679101944,
          0.036269430071115494,
          0.03631272166967392,
          0.04126758873462677
         ]
        },
        {
         "mode": "lines",
         "name": "State 16",
         "type": "scatter",
         "y": [
          0.03858125954866409,
          0.03722432255744934,
          0.03785673528909683,
          0.03562511131167412,
          0.036490704864263535,
          0.03320152312517166,
          0.03770989924669266,
          0.036789603531360626,
          0.032514870166778564,
          0.03696363419294357,
          0.034493740648031235,
          0.039965104311704636,
          0.031650885939598083,
          0.034364379942417145,
          0.03449491783976555,
          0.036060892045497894,
          0.03759919852018356,
          0.03801889345049858,
          0.03564070165157318,
          0.034199588000774384,
          0.03535725548863411,
          0.03670991584658623,
          0.040392979979515076,
          0.0394044928252697,
          0.036889053881168365,
          0.03553257882595062,
          0.03844577074050903,
          0.03721998259425163,
          0.03588462620973587,
          0.03529918193817139,
          0.03722302243113518,
          0.03824179619550705,
          0.03980143368244171,
          0.0381707027554512,
          0.0364653542637825,
          0.036228299140930176,
          0.036643438041210175,
          0.03850424662232399,
          0.03805408626794815,
          0.03614585101604462,
          0.037107113748788834,
          0.03687240183353424,
          0.03891626000404358,
          0.03840392827987671,
          0.03655938431620598,
          0.03617102652788162,
          0.03617008775472641,
          0.035537734627723694,
          0.034963518381118774,
          0.03138178586959839,
          0.039228715002536774,
          0.036234885454177856,
          0.03833703696727753,
          0.039784274995326996,
          0.03942788392305374,
          0.03725174814462662,
          0.03566694259643555,
          0.03795335814356804,
          0.03964812681078911,
          0.03678010776638985,
          0.035809703171253204,
          0.037663258612155914,
          0.039148274809122086,
          0.036552391946315765,
          0.03597807139158249,
          0.03626330941915512,
          0.03770194947719574,
          0.03713718801736832,
          0.03570002317428589,
          0.03428348898887634,
          0.03293852135539055,
          0.03837905824184418,
          0.03552844747900963,
          0.033775098621845245,
          0.03843336179852486,
          0.036506395787000656,
          0.037738848477602005,
          0.036495331674814224,
          0.03620755299925804,
          0.03623943403363228,
          0.03520115837454796,
          0.03684116154909134,
          0.04086603224277496,
          0.03954274207353592,
          0.03574807196855545,
          0.03195370361208916,
          0.037484973669052124,
          0.03643978387117386,
          0.035417187958955765,
          0.030962195247411728,
          0.03291229531168938,
          0.02868344448506832,
          0.03749227896332741,
          0.04048551619052887,
          0.029903093352913857,
          0.041900791227817535,
          0.03657608851790428,
          0.035493455827236176,
          0.034117065370082855,
          0.04984991252422333
         ]
        },
        {
         "mode": "lines",
         "name": "State 17",
         "type": "scatter",
         "y": [
          0.032843753695487976,
          0.03535246104001999,
          0.03325966000556946,
          0.035658255219459534,
          0.034035176038742065,
          0.0384230837225914,
          0.03331741690635681,
          0.034507833421230316,
          0.03875163942575455,
          0.03514675050973892,
          0.03724515810608864,
          0.031711678951978683,
          0.03917668014764786,
          0.035446204245090485,
          0.03647175431251526,
          0.03540167212486267,
          0.03381633758544922,
          0.03388387709856033,
          0.03587422892451286,
          0.03775149583816528,
          0.03737513720989227,
          0.035651564598083496,
          0.031751811504364014,
          0.03291831165552139,
          0.03466198220849037,
          0.035446103662252426,
          0.033396895974874496,
          0.03436428681015968,
          0.03545325994491577,
          0.036255620419979095,
          0.03330462425947189,
          0.03421579301357269,
          0.03268640488386154,
          0.03370647877454758,
          0.035037316381931305,
          0.03511469438672066,
          0.034705713391304016,
          0.03330003842711449,
          0.03360092639923096,
          0.03534583002328873,
          0.034306369721889496,
          0.034620482474565506,
          0.03322470560669899,
          0.033418964594602585,
          0.03499260172247887,
          0.035278577357530594,
          0.035767801105976105,
          0.03583945706486702,
          0.03681480139493942,
          0.039755187928676605,
          0.03235222399234772,
          0.035206981003284454,
          0.03330808877944946,
          0.03321363776922226,
          0.03284182399511337,
          0.0343659371137619,
          0.03554663062095642,
          0.03430526703596115,
          0.03229454159736633,
          0.03486219421029091,
          0.035490378737449646,
          0.03458564728498459,
          0.03261573240160942,
          0.035025909543037415,
          0.03544720262289047,
          0.03587416186928749,
          0.03345947712659836,
          0.03501854091882706,
          0.03554385155439377,
          0.03760817274451256,
          0.038925401866436005,
          0.03284655511379242,
          0.03595646843314171,
          0.037160806357860565,
          0.03308010846376419,
          0.034639082849025726,
          0.03397627919912338,
          0.03499312698841095,
          0.03521673381328583,
          0.03548097610473633,
          0.036595992743968964,
          0.03525882214307785,
          0.030977126210927963,
          0.03311844915151596,
          0.035664450377225876,
          0.03975512087345123,
          0.03232383728027344,
          0.03522826358675957,
          0.036270298063755035,
          0.04048176482319832,
          0.038875170052051544,
          0.04108475148677826,
          0.033970221877098083,
          0.030667252838611603,
          0.04221022129058838,
          0.030168255791068077,
          0.03430777043104172,
          0.03577057272195816,
          0.037179041653871536,
          0.022057991474866867
         ]
        },
        {
         "mode": "lines",
         "name": "State 18",
         "type": "scatter",
         "y": [
          0.03858720883727074,
          0.0360172875225544,
          0.03845794498920441,
          0.035602785646915436,
          0.037513550370931625,
          0.0318005234003067,
          0.03740806505084038,
          0.03696748614311218,
          0.032921262085437775,
          0.03638751804828644,
          0.03485191985964775,
          0.04105499014258385,
          0.03164525702595711,
          0.03541290760040283,
          0.034795988351106644,
          0.036894239485263824,
          0.03762165457010269,
          0.03849642723798752,
          0.03613695129752159,
          0.03391174599528313,
          0.033795878291130066,
          0.03641926497220993,
          0.039973050355911255,
          0.039215072989463806,
          0.037044279277324677,
          0.03511098027229309,
          0.03853043168783188,
          0.03747893497347832,
          0.03609417378902435,
          0.03499578312039375,
          0.03713018074631691,
          0.03756716102361679,
          0.03931794315576553,
          0.03817974030971527,
          0.036700643599033356,
          0.03618386387825012,
          0.036121878772974014,
          0.03912238031625748,
          0.0382387638092041,
          0.03647005558013916,
          0.037291020154953,
          0.036668479442596436,
          0.03855866193771362,
          0.03849434852600098,
          0.03682323172688484,
          0.03630335256457329,
          0.036297112703323364,
          0.03590068221092224,
          0.035007890313863754,
          0.03169696778059006,
          0.04036908596754074,
          0.036400195211172104,
          0.03837967664003372,
          0.039127834141254425,
          0.039235979318618774,
          0.03738987073302269,
          0.035683758556842804,
          0.037532709538936615,
          0.039493683725595474,
          0.036967016756534576,
          0.03576460853219032,
          0.03725605458021164,
          0.03902703523635864,
          0.03679879009723663,
          0.03604274243116379,
          0.03579014539718628,
          0.03786257654428482,
          0.03733668848872185,
          0.03601976856589317,
          0.03414853289723396,
          0.032330602407455444,
          0.03922080993652344,
          0.03560122102499008,
          0.0344746932387352,
          0.03880158066749573,
          0.03656262904405594,
          0.03774363547563553,
          0.036816664040088654,
          0.03630005195736885,
          0.03633672744035721,
          0.035845376551151276,
          0.0359974279999733,
          0.04087585210800171,
          0.03973089158535004,
          0.03597812354564667,
          0.031892597675323486,
          0.039186544716358185,
          0.03652011603116989,
          0.035711370408535004,
          0.03134194761514664,
          0.03484131768345833,
          0.02982623502612114,
          0.03752743825316429,
          0.04034881293773651,
          0.029056578874588013,
          0.041208162903785706,
          0.03606203943490982,
          0.035192765295505524,
          0.034446895122528076,
          0.0498049221932888
         ]
        },
        {
         "mode": "lines",
         "name": "State 19",
         "type": "scatter",
         "y": [
          0.03346841782331467,
          0.034983448684215546,
          0.03197687491774559,
          0.035891640931367874,
          0.03409551456570625,
          0.038842812180519104,
          0.03382827341556549,
          0.034384626895189285,
          0.03808143734931946,
          0.037951745092868805,
          0.03785563260316849,
          0.02978982962667942,
          0.03899878263473511,
          0.03745133802294731,
          0.03579504042863846,
          0.035757604986429214,
          0.034253306686878204,
          0.03347034752368927,
          0.036654338240623474,
          0.037558186799287796,
          0.03650607168674469,
          0.03494115546345711,
          0.0313405767083168,
          0.03217810019850731,
          0.034803371876478195,
          0.03587181121110916,
          0.03345302492380142,
          0.03440474346280098,
          0.03553387522697449,
          0.03574991226196289,
          0.03545285016298294,
          0.03346318006515503,
          0.03191480040550232,
          0.033531978726387024,
          0.035036951303482056,
          0.035411447286605835,
          0.03449774906039238,
          0.03286734223365784,
          0.033689308911561966,
          0.035128988325595856,
          0.03476405143737793,
          0.03518511727452278,
          0.03298827260732651,
          0.0333777479827404,
          0.034906864166259766,
          0.03554723039269447,
          0.03501325473189354,
          0.03606022521853447,
          0.036474987864494324,
          0.04025878384709358,
          0.03266456350684166,
          0.03539290279150009,
          0.03312496095895767,
          0.03206046298146248,
          0.032181113958358765,
          0.03445270657539368,
          0.03572241589426994,
          0.033702459186315536,
          0.03208394721150398,
          0.0348263718187809,
          0.03570249676704407,
          0.03399836644530296,
          0.03255658224225044,
          0.03496760502457619,
          0.03562287986278534,
          0.03449002653360367,
          0.034395474940538406,
          0.034423768520355225,
          0.036343254148960114,
          0.037323132157325745,
          0.03847001865506172,
          0.03331763297319412,
          0.03606296703219414,
          0.037394165992736816,
          0.03356713801622391,
          0.034858472645282745,
          0.03396230190992355,
          0.03489680960774422,
          0.03544476255774498,
          0.034831419587135315,
          0.036007024347782135,
          0.03445142135024071,
          0.030674582347273827,
          0.03218526393175125,
          0.03632202744483948,
          0.03923630714416504,
          0.03032567910850048,
          0.03505221754312515,
          0.03598187491297722,
          0.04036892205476761,
          0.03889424353837967,
          0.042963746935129166,
          0.034000806510448456,
          0.030469844117760658,
          0.042099177837371826,
          0.028034090995788574,
          0.03546372801065445,
          0.03644068166613579,
          0.03710417449474335,
          0.022492997348308563
         ]
        },
        {
         "mode": "lines",
         "name": "State 20",
         "type": "scatter",
         "y": [
          0.032326944172382355,
          0.03339076042175293,
          0.034360259771347046,
          0.03750007972121239,
          0.03644116595387459,
          0.03671669214963913,
          0.03662969544529915,
          0.03342647850513458,
          0.03809727728366852,
          0.03482773154973984,
          0.03454216197133064,
          0.031560227274894714,
          0.04032142832875252,
          0.036948226392269135,
          0.03716777265071869,
          0.034288302063941956,
          0.03490165248513222,
          0.035448409616947174,
          0.03631797432899475,
          0.03777686506509781,
          0.03564172983169556,
          0.03470563888549805,
          0.031925760209560394,
          0.03294435515999794,
          0.034864604473114014,
          0.03534203767776489,
          0.033702000975608826,
          0.03467594087123871,
          0.03522252291440964,
          0.03614380955696106,
          0.034330256283283234,
          0.03491088002920151,
          0.03278765082359314,
          0.03397641330957413,
          0.03506818041205406,
          0.035035546869039536,
          0.03490767627954483,
          0.0337451733648777,
          0.03397523984313011,
          0.03512408211827278,
          0.03400864452123642,
          0.035477668046951294,
          0.03330909460783005,
          0.03388923406600952,
          0.034956492483615875,
          0.035071901977062225,
          0.03596840053796768,
          0.03601207584142685,
          0.03657405078411102,
          0.03953021019697189,
          0.03106185793876648,
          0.03384644165635109,
          0.03264912962913513,
          0.03284652531147003,
          0.03296902775764465,
          0.034597188234329224,
          0.03540049493312836,
          0.034195177257061005,
          0.03282302990555763,
          0.03482148051261902,
          0.035382360219955444,
          0.0343872532248497,
          0.03322015702724457,
          0.03494734317064285,
          0.03529126197099686,
          0.03548873960971832,
          0.03503461927175522,
          0.03588859364390373,
          0.03609294444322586,
          0.03750967979431152,
          0.03831023350358009,
          0.03190460801124573,
          0.035031385719776154,
          0.03786328807473183,
          0.03446593135595322,
          0.035164788365364075,
          0.03418188914656639,
          0.03499610349535942,
          0.035093870013952255,
          0.03566157817840576,
          0.0359237864613533,
          0.034432534128427505,
          0.03135916590690613,
          0.030449528247117996,
          0.033734966069459915,
          0.03940626233816147,
          0.030668843537569046,
          0.035042211413383484,
          0.0360422320663929,
          0.04172126203775406,
          0.04381285607814789,
          0.054483287036418915,
          0.04302247613668442,
          0.031077280640602112,
          0.03471638634800911,
          0.02718304470181465,
          0.03300032019615173,
          0.036168791353702545,
          0.037400104105472565,
          0.029213467612862587
         ]
        },
        {
         "mode": "lines",
         "name": "State 21",
         "type": "scatter",
         "y": [
          0.03914056718349457,
          0.038468699902296066,
          0.03692483901977539,
          0.0341859832406044,
          0.03441784903407097,
          0.03481055423617363,
          0.034624841064214706,
          0.03777925297617912,
          0.0335855633020401,
          0.03545667976140976,
          0.034455642104148865,
          0.04003879800438881,
          0.031512610614299774,
          0.03478332236409187,
          0.03439277410507202,
          0.03626331314444542,
          0.03594382479786873,
          0.0364348404109478,
          0.03513115271925926,
          0.03239501267671585,
          0.03460877388715744,
          0.03635362535715103,
          0.038700759410858154,
          0.03851538896560669,
          0.03631563112139702,
          0.036155231297016144,
          0.036954887211322784,
          0.03668533265590668,
          0.036064423620700836,
          0.03530724346637726,
          0.036409780383110046,
          0.03634380176663399,
          0.03880471736192703,
          0.03733397275209427,
          0.036323193460702896,
          0.03622005879878998,
          0.03626139089465141,
          0.037669822573661804,
          0.03734942525625229,
          0.036216944456100464,
          0.03755299001932144,
          0.03657478094100952,
          0.03679420053958893,
          0.037528712302446365,
          0.0363900251686573,
          0.03632909059524536,
          0.03544022887945175,
          0.035406503826379776,
          0.03373396396636963,
          0.030750706791877747,
          0.03912179917097092,
          0.037914425134658813,
          0.03899277001619339,
          0.03764311224222183,
          0.03843483328819275,
          0.03655332326889038,
          0.036116957664489746,
          0.03596450388431549,
          0.03839870169758797,
          0.03654809296131134,
          0.035955384373664856,
          0.03564693033695221,
          0.03781485930085182,
          0.03641296923160553,
          0.035978518426418304,
          0.035960353910923004,
          0.03627808764576912,
          0.03592528775334358,
          0.03535846620798111,
          0.03265511617064476,
          0.032003894448280334,
          0.03869132325053215,
          0.037066858261823654,
          0.032796233892440796,
          0.037017032504081726,
          0.03638409078121185,
          0.03691175580024719,
          0.03637620806694031,
          0.03614148497581482,
          0.03580525889992714,
          0.035777781158685684,
          0.03632907196879387,
          0.03960709273815155,
          0.04011094942688942,
          0.03673287481069565,
          0.03288985416293144,
          0.03980085998773575,
          0.03605178743600845,
          0.035439081490039825,
          0.030120059847831726,
          0.02764502540230751,
          0.017608795315027237,
          0.02696624957025051,
          0.039983119815588,
          0.03417506441473961,
          0.04331677034497261,
          0.03644397854804993,
          0.03541470319032669,
          0.03423735499382019,
          0.04078821837902069
         ]
        },
        {
         "mode": "lines",
         "name": "State 22",
         "type": "scatter",
         "y": [
          0.03495609015226364,
          0.03322175517678261,
          0.030921529978513718,
          0.03987223282456398,
          0.034094154834747314,
          0.04119638353586197,
          0.03734095022082329,
          0.03363544121384621,
          0.03814899921417236,
          0.030111141502857208,
          0.03708992153406143,
          0.03382444009184837,
          0.04215264320373535,
          0.034609824419021606,
          0.03800543025135994,
          0.03392229229211807,
          0.04189915210008621,
          0.03247342258691788,
          0.04166332632303238,
          0.036436162889003754,
          0.03523086756467819,
          0.03484589233994484,
          0.03358720242977142,
          0.0345693975687027,
          0.03558921068906784,
          0.03568832576274872,
          0.03616330772638321,
          0.03518445044755936,
          0.03640111908316612,
          0.03409528732299805,
          0.037514809519052505,
          0.03450601547956467,
          0.03485701605677605,
          0.03517554700374603,
          0.035419855266809464,
          0.03649500757455826,
          0.03496468439698219,
          0.0359736904501915,
          0.03543419763445854,
          0.034845490008592606,
          0.03680608421564102,
          0.034998998045921326,
          0.035063937306404114,
          0.035344868898391724,
          0.03507498279213905,
          0.0372111052274704,
          0.03322891145944595,
          0.040578171610832214,
          0.03715886175632477,
          0.033726565539836884,
          0.03844015300273895,
          0.034039318561553955,
          0.039589013904333115,
          0.03476832062005997,
          0.03467835858464241,
          0.03549698740243912,
          0.03625094145536423,
          0.034710127860307693,
          0.03520815819501877,
          0.035344451665878296,
          0.03615190088748932,
          0.035008568316698074,
          0.03537017107009888,
          0.035241950303316116,
          0.036659713834524155,
          0.03413357585668564,
          0.041007548570632935,
          0.03265314921736717,
          0.04155629873275757,
          0.0364924892783165,
          0.03409457579255104,
          0.03813488036394119,
          0.03435725346207619,
          0.033299945294857025,
          0.03618834167718887,
          0.03577791154384613,
          0.035830963402986526,
          0.03523842990398407,
          0.036802906543016434,
          0.03383764252066612,
          0.03880227357149124,
          0.033787425607442856,
          0.036699067801237106,
          0.03786326199769974,
          0.03883688896894455,
          0.036780945956707,
          0.03339274227619171,
          0.03228631615638733,
          0.033194757997989655,
          0.03897013142704964,
          0.03820967301726341,
          0.034565605223178864,
          0.032917674630880356,
          0.03175525367259979,
          0.03514443337917328,
          0.028096340596675873,
          0.03847396373748779,
          0.029414530843496323,
          0.03586093708872795,
          0.022255688905715942
         ]
        },
        {
         "mode": "lines",
         "name": "State 23",
         "type": "scatter",
         "y": [
          0.03670107573270798,
          0.039094340056180954,
          0.040033869445323944,
          0.032173000276088715,
          0.03646128997206688,
          0.03005306050181389,
          0.03444916754961014,
          0.037043750286102295,
          0.03306926414370537,
          0.04065468907356262,
          0.03425095975399017,
          0.03610513359308243,
          0.02987360581755638,
          0.03747797757387161,
          0.03344019502401352,
          0.037305161356925964,
          0.029569637030363083,
          0.038893118500709534,
          0.0304410383105278,
          0.03372977674007416,
          0.03743119537830353,
          0.0357079952955246,
          0.03844394534826279,
          0.03767704591155052,
          0.03580624237656593,
          0.03621586784720421,
          0.035067006945610046,
          0.03597011789679527,
          0.03507351130247116,
          0.03712944686412811,
          0.03335289657115936,
          0.03761318325996399,
          0.03723476827144623,
          0.03631356358528137,
          0.03596843034029007,
          0.03497784584760666,
          0.036865897476673126,
          0.03526950627565384,
          0.03567495197057724,
          0.03656545281410217,
          0.033964626491069794,
          0.034985367208719254,
          0.03617209568619728,
          0.03572920709848404,
          0.03622822090983391,
          0.034012679010629654,
          0.03804168477654457,
          0.03147289901971817,
          0.03316088765859604,
          0.037249721586704254,
          0.03234078735113144,
          0.03632362186908722,
          0.03180251270532608,
          0.03751015663146973,
          0.03747795894742012,
          0.03589294105768204,
          0.03540194034576416,
          0.03614445775747299,
          0.0364440456032753,
          0.03585807606577873,
          0.03549567610025406,
          0.035821180790662766,
          0.0361781120300293,
          0.03598074987530708,
          0.034783076494932175,
          0.03697722405195236,
          0.029741395264863968,
          0.03881276398897171,
          0.03057604655623436,
          0.033770181238651276,
          0.03803618997335434,
          0.03262495994567871,
          0.036172255873680115,
          0.03798914700746536,
          0.03545432910323143,
          0.035706084221601486,
          0.03548841178417206,
          0.0360880121588707,
          0.03456753492355347,
          0.037448685616254807,
          0.03245318681001663,
          0.03684040904045105,
          0.03524382412433624,
          0.033954475075006485,
          0.03374224528670311,
          0.03553638234734535,
          0.03880082815885544,
          0.03888978809118271,
          0.03783699497580528,
          0.03280944377183914,
          0.03193482756614685,
          0.03756105527281761,
          0.04003182053565979,
          0.04143412038683891,
          0.038606829941272736,
          0.04474177584052086,
          0.03279266878962517,
          0.04127717763185501,
          0.03547940030694008,
          0.04896358400583267
         ]
        },
        {
         "mode": "lines",
         "name": "State 24",
         "type": "scatter",
         "y": [
          0.034816186875104904,
          0.03189068287611008,
          0.033679913729429245,
          0.034913770854473114,
          0.035957254469394684,
          0.037850745022296906,
          0.0402831993997097,
          0.03012862242758274,
          0.04035396873950958,
          0.02992585301399231,
          0.037053804844617844,
          0.035490792244672775,
          0.03717552870512009,
          0.035090137273073196,
          0.038468144834041595,
          0.03299578279256821,
          0.042218610644340515,
          0.03103853017091751,
          0.03959498554468155,
          0.035902343690395355,
          0.03370136395096779,
          0.0379047691822052,
          0.03345135971903801,
          0.034530241042375565,
          0.03500138968229294,
          0.034558601677417755,
          0.036198291927576065,
          0.034935690462589264,
          0.03620950132608414,
          0.033683136105537415,
          0.038164012134075165,
          0.03340105712413788,
          0.03449027240276337,
          0.034704577177762985,
          0.03521829470992088,
          0.03611280396580696,
          0.03406136855483055,
          0.035878270864486694,
          0.03502706438302994,
          0.035166770219802856,
          0.03695330023765564,
          0.03526410460472107,
          0.03542809560894966,
          0.03490445017814636,
          0.035023678094148636,
          0.037001628428697586,
          0.03321124240756035,
          0.038194991648197174,
          0.03668559342622757,
          0.03415413200855255,
          0.03872042894363403,
          0.03367134928703308,
          0.040066998451948166,
          0.03457426279783249,
          0.0345010831952095,
          0.03492553532123566,
          0.03566191345453262,
          0.034504346549510956,
          0.034754350781440735,
          0.03488335385918617,
          0.03560720384120941,
          0.03475085645914078,
          0.034882642328739166,
          0.034974463284015656,
          0.036348141729831696,
          0.03334591165184975,
          0.04133855178952217,
          0.031580936163663864,
          0.039485614746809006,
          0.03579017519950867,
          0.033350080251693726,
          0.03848998621106148,
          0.03394212946295738,
          0.03404904529452324,
          0.03585883602499962,
          0.0350588858127594,
          0.0356496125459671,
          0.035240788012742996,
          0.03659345582127571,
          0.03360219672322273,
          0.03673209249973297,
          0.03294764459133148,
          0.035119716078042984,
          0.0359187126159668,
          0.03913386911153793,
          0.036012955009937286,
          0.033393990248441696,
          0.034041598439216614,
          0.033423732966184616,
          0.03837414085865021,
          0.041065581142902374,
          0.03380987048149109,
          0.03307356312870979,
          0.03311316296458244,
          0.034972772002220154,
          0.028783995658159256,
          0.039024718105793,
          0.027402594685554504,
          0.03855748474597931,
          0.030627019703388214
         ]
        },
        {
         "mode": "lines",
         "name": "State 25",
         "type": "scatter",
         "y": [
          0.0359153226017952,
          0.04022573307156563,
          0.03793212026357651,
          0.03639327362179756,
          0.03504808247089386,
          0.03281504288315773,
          0.030756713822484016,
          0.03995180502533913,
          0.030457861721515656,
          0.040187858045101166,
          0.033707112073898315,
          0.03599957376718521,
          0.0328526496887207,
          0.035456109791994095,
          0.032768476754426956,
          0.037996552884578705,
          0.02986518293619156,
          0.04045018181204796,
          0.0314970538020134,
          0.03681977465748787,
          0.036628469824790955,
          0.03252049535512924,
          0.037586238235235214,
          0.036805134266614914,
          0.036706410348415375,
          0.03569498285651207,
          0.035664480179548264,
          0.03672364354133606,
          0.03575337305665016,
          0.036773681640625,
          0.03338077664375305,
          0.0368448905646801,
          0.03661441057920456,
          0.03680091351270676,
          0.03660360351204872,
          0.03537669777870178,
          0.035790711641311646,
          0.03628852218389511,
          0.03653314709663391,
          0.036635108292102814,
          0.03517334908246994,
          0.03559979796409607,
          0.03625088557600975,
          0.036423832178115845,
          0.03670886904001236,
          0.03515990078449249,
          0.03873872011899948,
          0.032311126589775085,
          0.035762056708335876,
          0.03787516802549362,
          0.03215035796165466,
          0.03575906530022621,
          0.03187602758407593,
          0.03612792491912842,
          0.03679224103689194,
          0.03675522655248642,
          0.035685256123542786,
          0.03507627546787262,
          0.03660225123167038,
          0.03668399900197983,
          0.03559548780322075,
          0.034763239324092865,
          0.03657745569944382,
          0.036632463335990906,
          0.03539296239614487,
          0.03557511419057846,
          0.031374603509902954,
          0.03990022838115692,
          0.03147045895457268,
          0.03675372526049614,
          0.037896379828453064,
          0.032599352300167084,
          0.03590533509850502,
          0.03727065771818161,
          0.03616044670343399,
          0.03586709126830101,
          0.03614915907382965,
          0.03656044602394104,
          0.035375211387872696,
          0.037979669868946075,
          0.03292709216475487,
          0.03366637974977493,
          0.03621283546090126,
          0.03452619910240173,
          0.033254869282245636,
          0.03436241298913956,
          0.03526066243648529,
          0.03728276491165161,
          0.03674229234457016,
          0.03222295641899109,
          0.03017304837703705,
          0.03685303032398224,
          0.03793197497725487,
          0.0386367030441761,
          0.037268321961164474,
          0.04280642047524452,
          0.03159376233816147,
          0.044808633625507355,
          0.03221586346626282,
          0.0406382791697979
         ]
        },
        {
         "mode": "lines",
         "name": "State 26",
         "type": "scatter",
         "y": [
          0.03356435149908066,
          0.03594415262341499,
          0.03705454245209694,
          0.034952662885189056,
          0.03540557622909546,
          0.038503289222717285,
          0.030586887151002884,
          0.03503032028675079,
          0.031447019428014755,
          0.040752559900283813,
          0.0087644774466753,
          0.039791714400053024,
          0.02992122434079647,
          0.036247383803129196,
          0.036457426846027374,
          0.03753019869327545,
          0.034908924251794815,
          0.03621901199221611,
          0.036631256341934204,
          0.035874657332897186,
          0.03910696506500244,
          0.034066565334796906,
          0.03576093167066574,
          0.035204216837882996,
          0.03483370691537857,
          0.03519273176789284,
          0.03495717793703079,
          0.03488108515739441,
          0.03571896255016327,
          0.03549522906541824,
          0.03532594442367554,
          0.03626466542482376,
          0.03516419231891632,
          0.03496275097131729,
          0.03499254584312439,
          0.03504647687077522,
          0.03506135940551758,
          0.034046027809381485,
          0.03493748605251312,
          0.03549319505691528,
          0.03492698818445206,
          0.034240081906318665,
          0.03533543273806572,
          0.03501497954130173,
          0.035130761563777924,
          0.0352814607322216,
          0.03512731194496155,
          0.03638066351413727,
          0.035867080092430115,
          0.04276811331510544,
          0.034222036600112915,
          0.03617028519511223,
          0.03441229462623596,
          0.035117700695991516,
          0.03516663238406181,
          0.034888096153736115,
          0.035361409187316895,
          0.03483835607767105,
          0.03549505025148392,
          0.0349421352148056,
          0.035182684659957886,
          0.0348629392683506,
          0.03550899028778076,
          0.03503352403640747,
          0.03513110429048538,
          0.034918129444122314,
          0.03382639214396477,
          0.03615874797105789,
          0.03628888353705406,
          0.03582257777452469,
          0.041203781962394714,
          0.03445009887218475,
          0.03598137944936752,
          0.036832764744758606,
          0.03452080115675926,
          0.03528565540909767,
          0.03478623926639557,
          0.03506510332226753,
          0.03534945100545883,
          0.035218752920627594,
          0.03640486299991608,
          0.03479668125510216,
          0.03566350042819977,
          0.03601830080151558,
          0.028986720368266106,
          0.03632111847400665,
          0.0369507372379303,
          0.03588476404547691,
          0.03555072471499443,
          0.03656663000583649,
          0.037421636283397675,
          0.024812210351228714,
          0.037976913154125214,
          0.036949411034584045,
          0.035684727132320404,
          0.03973812609910965,
          0.03448737412691116,
          0.03631461784243584,
          0.03383183851838112,
          0.03788711503148079
         ]
        },
        {
         "mode": "lines",
         "name": "State 27",
         "type": "scatter",
         "y": [
          0.03818940743803978,
          0.03346853330731392,
          0.03528362885117531,
          0.03691079467535019,
          0.035768695175647736,
          0.03262513130903244,
          0.04037398472428322,
          0.03652064502239227,
          0.0406990684568882,
          0.02939091995358467,
          0.06850647926330566,
          0.03568950667977333,
          0.038693249225616455,
          0.036048270761966705,
          0.03600309044122696,
          0.0344853550195694,
          0.036994896829128265,
          0.035216912627220154,
          0.03404442220926285,
          0.03582999110221863,
          0.03346985578536987,
          0.037461068481206894,
          0.03578992560505867,
          0.03601571172475815,
          0.03642658889293671,
          0.03524927794933319,
          0.03655898943543434,
          0.036250192672014236,
          0.03530842810869217,
          0.035696499049663544,
          0.035321783274412155,
          0.03533906862139702,
          0.03593435883522034,
          0.036263443529605865,
          0.0360955148935318,
          0.03556258976459503,
          0.03577858954668045,
          0.035921528935432434,
          0.03628839552402496,
          0.03574492782354355,
          0.0359354242682457,
          0.03372986242175102,
          0.0366872102022171,
          0.036201111972332,
          0.0360611230134964,
          0.03557448461651802,
          0.03617048263549805,
          0.034629374742507935,
          0.03605736792087555,
          0.03040076047182083,
          0.03676341474056244,
          0.033431582152843475,
          0.03716375678777695,
          0.03597498685121536,
          0.03605055436491966,
          0.03640858829021454,
          0.03544938191771507,
          0.0368327796459198,
          0.0359371080994606,
          0.036266669631004333,
          0.03546605631709099,
          0.036948639899492264,
          0.03594557195901871,
          0.03619212284684181,
          0.03552922606468201,
          0.03613574802875519,
          0.03733675926923752,
          0.03493456542491913,
          0.034361690282821655,
          0.03584686666727066,
          0.03174472227692604,
          0.03674120828509331,
          0.03298160433769226,
          0.03579627349972725,
          0.037410251796245575,
          0.03510423004627228,
          0.03634292632341385,
          0.03602089732885361,
          0.035530731081962585,
          0.03595156967639923,
          0.03520338237285614,
          0.036945890635252,
          0.036153048276901245,
          0.033784061670303345,
          0.0403066948056221,
          0.03326433151960373,
          0.03615172207355499,
          0.036033015698194504,
          0.03616706654429436,
          0.034075915813446045,
          0.03450561687350273,
          0.04764297604560852,
          0.03414790704846382,
          0.034951385110616684,
          0.03501156345009804,
          0.03280887007713318,
          0.038579896092414856,
          0.03499898314476013,
          0.03740522265434265,
          0.03325527906417847
         ]
        }
       ],
       "layout": {
        "template": {
         "data": {
          "bar": [
           {
            "error_x": {
             "color": "#2a3f5f"
            },
            "error_y": {
             "color": "#2a3f5f"
            },
            "marker": {
             "line": {
              "color": "#E5ECF6",
              "width": 0.5
             },
             "pattern": {
              "fillmode": "overlay",
              "size": 10,
              "solidity": 0.2
             }
            },
            "type": "bar"
           }
          ],
          "barpolar": [
           {
            "marker": {
             "line": {
              "color": "#E5ECF6",
              "width": 0.5
             },
             "pattern": {
              "fillmode": "overlay",
              "size": 10,
              "solidity": 0.2
             }
            },
            "type": "barpolar"
           }
          ],
          "carpet": [
           {
            "aaxis": {
             "endlinecolor": "#2a3f5f",
             "gridcolor": "white",
             "linecolor": "white",
             "minorgridcolor": "white",
             "startlinecolor": "#2a3f5f"
            },
            "baxis": {
             "endlinecolor": "#2a3f5f",
             "gridcolor": "white",
             "linecolor": "white",
             "minorgridcolor": "white",
             "startlinecolor": "#2a3f5f"
            },
            "type": "carpet"
           }
          ],
          "choropleth": [
           {
            "colorbar": {
             "outlinewidth": 0,
             "ticks": ""
            },
            "type": "choropleth"
           }
          ],
          "contour": [
           {
            "colorbar": {
             "outlinewidth": 0,
             "ticks": ""
            },
            "colorscale": [
             [
              0,
              "#0d0887"
             ],
             [
              0.1111111111111111,
              "#46039f"
             ],
             [
              0.2222222222222222,
              "#7201a8"
             ],
             [
              0.3333333333333333,
              "#9c179e"
             ],
             [
              0.4444444444444444,
              "#bd3786"
             ],
             [
              0.5555555555555556,
              "#d8576b"
             ],
             [
              0.6666666666666666,
              "#ed7953"
             ],
             [
              0.7777777777777778,
              "#fb9f3a"
             ],
             [
              0.8888888888888888,
              "#fdca26"
             ],
             [
              1,
              "#f0f921"
             ]
            ],
            "type": "contour"
           }
          ],
          "contourcarpet": [
           {
            "colorbar": {
             "outlinewidth": 0,
             "ticks": ""
            },
            "type": "contourcarpet"
           }
          ],
          "heatmap": [
           {
            "colorbar": {
             "outlinewidth": 0,
             "ticks": ""
            },
            "colorscale": [
             [
              0,
              "#0d0887"
             ],
             [
              0.1111111111111111,
              "#46039f"
             ],
             [
              0.2222222222222222,
              "#7201a8"
             ],
             [
              0.3333333333333333,
              "#9c179e"
             ],
             [
              0.4444444444444444,
              "#bd3786"
             ],
             [
              0.5555555555555556,
              "#d8576b"
             ],
             [
              0.6666666666666666,
              "#ed7953"
             ],
             [
              0.7777777777777778,
              "#fb9f3a"
             ],
             [
              0.8888888888888888,
              "#fdca26"
             ],
             [
              1,
              "#f0f921"
             ]
            ],
            "type": "heatmap"
           }
          ],
          "heatmapgl": [
           {
            "colorbar": {
             "outlinewidth": 0,
             "ticks": ""
            },
            "colorscale": [
             [
              0,
              "#0d0887"
             ],
             [
              0.1111111111111111,
              "#46039f"
             ],
             [
              0.2222222222222222,
              "#7201a8"
             ],
             [
              0.3333333333333333,
              "#9c179e"
             ],
             [
              0.4444444444444444,
              "#bd3786"
             ],
             [
              0.5555555555555556,
              "#d8576b"
             ],
             [
              0.6666666666666666,
              "#ed7953"
             ],
             [
              0.7777777777777778,
              "#fb9f3a"
             ],
             [
              0.8888888888888888,
              "#fdca26"
             ],
             [
              1,
              "#f0f921"
             ]
            ],
            "type": "heatmapgl"
           }
          ],
          "histogram": [
           {
            "marker": {
             "pattern": {
              "fillmode": "overlay",
              "size": 10,
              "solidity": 0.2
             }
            },
            "type": "histogram"
           }
          ],
          "histogram2d": [
           {
            "colorbar": {
             "outlinewidth": 0,
             "ticks": ""
            },
            "colorscale": [
             [
              0,
              "#0d0887"
             ],
             [
              0.1111111111111111,
              "#46039f"
             ],
             [
              0.2222222222222222,
              "#7201a8"
             ],
             [
              0.3333333333333333,
              "#9c179e"
             ],
             [
              0.4444444444444444,
              "#bd3786"
             ],
             [
              0.5555555555555556,
              "#d8576b"
             ],
             [
              0.6666666666666666,
              "#ed7953"
             ],
             [
              0.7777777777777778,
              "#fb9f3a"
             ],
             [
              0.8888888888888888,
              "#fdca26"
             ],
             [
              1,
              "#f0f921"
             ]
            ],
            "type": "histogram2d"
           }
          ],
          "histogram2dcontour": [
           {
            "colorbar": {
             "outlinewidth": 0,
             "ticks": ""
            },
            "colorscale": [
             [
              0,
              "#0d0887"
             ],
             [
              0.1111111111111111,
              "#46039f"
             ],
             [
              0.2222222222222222,
              "#7201a8"
             ],
             [
              0.3333333333333333,
              "#9c179e"
             ],
             [
              0.4444444444444444,
              "#bd3786"
             ],
             [
              0.5555555555555556,
              "#d8576b"
             ],
             [
              0.6666666666666666,
              "#ed7953"
             ],
             [
              0.7777777777777778,
              "#fb9f3a"
             ],
             [
              0.8888888888888888,
              "#fdca26"
             ],
             [
              1,
              "#f0f921"
             ]
            ],
            "type": "histogram2dcontour"
           }
          ],
          "mesh3d": [
           {
            "colorbar": {
             "outlinewidth": 0,
             "ticks": ""
            },
            "type": "mesh3d"
           }
          ],
          "parcoords": [
           {
            "line": {
             "colorbar": {
              "outlinewidth": 0,
              "ticks": ""
             }
            },
            "type": "parcoords"
           }
          ],
          "pie": [
           {
            "automargin": true,
            "type": "pie"
           }
          ],
          "scatter": [
           {
            "fillpattern": {
             "fillmode": "overlay",
             "size": 10,
             "solidity": 0.2
            },
            "type": "scatter"
           }
          ],
          "scatter3d": [
           {
            "line": {
             "colorbar": {
              "outlinewidth": 0,
              "ticks": ""
             }
            },
            "marker": {
             "colorbar": {
              "outlinewidth": 0,
              "ticks": ""
             }
            },
            "type": "scatter3d"
           }
          ],
          "scattercarpet": [
           {
            "marker": {
             "colorbar": {
              "outlinewidth": 0,
              "ticks": ""
             }
            },
            "type": "scattercarpet"
           }
          ],
          "scattergeo": [
           {
            "marker": {
             "colorbar": {
              "outlinewidth": 0,
              "ticks": ""
             }
            },
            "type": "scattergeo"
           }
          ],
          "scattergl": [
           {
            "marker": {
             "colorbar": {
              "outlinewidth": 0,
              "ticks": ""
             }
            },
            "type": "scattergl"
           }
          ],
          "scattermapbox": [
           {
            "marker": {
             "colorbar": {
              "outlinewidth": 0,
              "ticks": ""
             }
            },
            "type": "scattermapbox"
           }
          ],
          "scatterpolar": [
           {
            "marker": {
             "colorbar": {
              "outlinewidth": 0,
              "ticks": ""
             }
            },
            "type": "scatterpolar"
           }
          ],
          "scatterpolargl": [
           {
            "marker": {
             "colorbar": {
              "outlinewidth": 0,
              "ticks": ""
             }
            },
            "type": "scatterpolargl"
           }
          ],
          "scatterternary": [
           {
            "marker": {
             "colorbar": {
              "outlinewidth": 0,
              "ticks": ""
             }
            },
            "type": "scatterternary"
           }
          ],
          "surface": [
           {
            "colorbar": {
             "outlinewidth": 0,
             "ticks": ""
            },
            "colorscale": [
             [
              0,
              "#0d0887"
             ],
             [
              0.1111111111111111,
              "#46039f"
             ],
             [
              0.2222222222222222,
              "#7201a8"
             ],
             [
              0.3333333333333333,
              "#9c179e"
             ],
             [
              0.4444444444444444,
              "#bd3786"
             ],
             [
              0.5555555555555556,
              "#d8576b"
             ],
             [
              0.6666666666666666,
              "#ed7953"
             ],
             [
              0.7777777777777778,
              "#fb9f3a"
             ],
             [
              0.8888888888888888,
              "#fdca26"
             ],
             [
              1,
              "#f0f921"
             ]
            ],
            "type": "surface"
           }
          ],
          "table": [
           {
            "cells": {
             "fill": {
              "color": "#EBF0F8"
             },
             "line": {
              "color": "white"
             }
            },
            "header": {
             "fill": {
              "color": "#C8D4E3"
             },
             "line": {
              "color": "white"
             }
            },
            "type": "table"
           }
          ]
         },
         "layout": {
          "annotationdefaults": {
           "arrowcolor": "#2a3f5f",
           "arrowhead": 0,
           "arrowwidth": 1
          },
          "autotypenumbers": "strict",
          "coloraxis": {
           "colorbar": {
            "outlinewidth": 0,
            "ticks": ""
           }
          },
          "colorscale": {
           "diverging": [
            [
             0,
             "#8e0152"
            ],
            [
             0.1,
             "#c51b7d"
            ],
            [
             0.2,
             "#de77ae"
            ],
            [
             0.3,
             "#f1b6da"
            ],
            [
             0.4,
             "#fde0ef"
            ],
            [
             0.5,
             "#f7f7f7"
            ],
            [
             0.6,
             "#e6f5d0"
            ],
            [
             0.7,
             "#b8e186"
            ],
            [
             0.8,
             "#7fbc41"
            ],
            [
             0.9,
             "#4d9221"
            ],
            [
             1,
             "#276419"
            ]
           ],
           "sequential": [
            [
             0,
             "#0d0887"
            ],
            [
             0.1111111111111111,
             "#46039f"
            ],
            [
             0.2222222222222222,
             "#7201a8"
            ],
            [
             0.3333333333333333,
             "#9c179e"
            ],
            [
             0.4444444444444444,
             "#bd3786"
            ],
            [
             0.5555555555555556,
             "#d8576b"
            ],
            [
             0.6666666666666666,
             "#ed7953"
            ],
            [
             0.7777777777777778,
             "#fb9f3a"
            ],
            [
             0.8888888888888888,
             "#fdca26"
            ],
            [
             1,
             "#f0f921"
            ]
           ],
           "sequentialminus": [
            [
             0,
             "#0d0887"
            ],
            [
             0.1111111111111111,
             "#46039f"
            ],
            [
             0.2222222222222222,
             "#7201a8"
            ],
            [
             0.3333333333333333,
             "#9c179e"
            ],
            [
             0.4444444444444444,
             "#bd3786"
            ],
            [
             0.5555555555555556,
             "#d8576b"
            ],
            [
             0.6666666666666666,
             "#ed7953"
            ],
            [
             0.7777777777777778,
             "#fb9f3a"
            ],
            [
             0.8888888888888888,
             "#fdca26"
            ],
            [
             1,
             "#f0f921"
            ]
           ]
          },
          "colorway": [
           "#636efa",
           "#EF553B",
           "#00cc96",
           "#ab63fa",
           "#FFA15A",
           "#19d3f3",
           "#FF6692",
           "#B6E880",
           "#FF97FF",
           "#FECB52"
          ],
          "font": {
           "color": "#2a3f5f"
          },
          "geo": {
           "bgcolor": "white",
           "lakecolor": "white",
           "landcolor": "#E5ECF6",
           "showlakes": true,
           "showland": true,
           "subunitcolor": "white"
          },
          "hoverlabel": {
           "align": "left"
          },
          "hovermode": "closest",
          "mapbox": {
           "style": "light"
          },
          "paper_bgcolor": "white",
          "plot_bgcolor": "#E5ECF6",
          "polar": {
           "angularaxis": {
            "gridcolor": "white",
            "linecolor": "white",
            "ticks": ""
           },
           "bgcolor": "#E5ECF6",
           "radialaxis": {
            "gridcolor": "white",
            "linecolor": "white",
            "ticks": ""
           }
          },
          "scene": {
           "xaxis": {
            "backgroundcolor": "#E5ECF6",
            "gridcolor": "white",
            "gridwidth": 2,
            "linecolor": "white",
            "showbackground": true,
            "ticks": "",
            "zerolinecolor": "white"
           },
           "yaxis": {
            "backgroundcolor": "#E5ECF6",
            "gridcolor": "white",
            "gridwidth": 2,
            "linecolor": "white",
            "showbackground": true,
            "ticks": "",
            "zerolinecolor": "white"
           },
           "zaxis": {
            "backgroundcolor": "#E5ECF6",
            "gridcolor": "white",
            "gridwidth": 2,
            "linecolor": "white",
            "showbackground": true,
            "ticks": "",
            "zerolinecolor": "white"
           }
          },
          "shapedefaults": {
           "line": {
            "color": "#2a3f5f"
           }
          },
          "ternary": {
           "aaxis": {
            "gridcolor": "white",
            "linecolor": "white",
            "ticks": ""
           },
           "baxis": {
            "gridcolor": "white",
            "linecolor": "white",
            "ticks": ""
           },
           "bgcolor": "#E5ECF6",
           "caxis": {
            "gridcolor": "white",
            "linecolor": "white",
            "ticks": ""
           }
          },
          "title": {
           "x": 0.05
          },
          "xaxis": {
           "automargin": true,
           "gridcolor": "white",
           "linecolor": "white",
           "ticks": "",
           "title": {
            "standoff": 15
           },
           "zerolinecolor": "white",
           "zerolinewidth": 2
          },
          "yaxis": {
           "automargin": true,
           "gridcolor": "white",
           "linecolor": "white",
           "ticks": "",
           "title": {
            "standoff": 15
           },
           "zerolinecolor": "white",
           "zerolinewidth": 2
          }
         }
        },
        "title": {
         "text": "Self-Perpetuating Coil Dynamics"
        },
        "xaxis": {
         "title": {
          "text": "Timestep"
         }
        },
        "yaxis": {
         "title": {
          "text": "Value"
         }
        }
       }
      }
     },
     "metadata": {},
     "output_type": "display_data"
    }
   ],
   "source": [
    "states = []\n",
    "# Select the batch we want to make predictions for\n",
    "batch = 8\n",
    "\n",
    "\n",
    "# Grab starting state tensor\n",
    "state_tensor = batch_X[:,0,:]\n",
    "\n",
    "# How many steps do we want to run the coil overall?\n",
    "max_steps = 100\n",
    "\n",
    "batch_size = batch_X.shape[0]\n",
    "transition_tensor = torch.softmax(torch.zeros(batch_size, n_features, n_features), dim = 1).to(\"cuda\")\n",
    "for step_state in range(max_steps):\n",
    "    state_tensor, transition_tensor = model.step_coil(state_tensor, transition_tensor)\n",
    "    states.append(state_tensor[batch,:])\n",
    "\n",
    "# Move state dynamics to CPU\n",
    "data = [row.to('cpu').detach().numpy() for row in states]\n",
    "# Transpose the data to get 5 traces\n",
    "traces = list(zip(*data))\n",
    "\n",
    "\n",
    "# Create the figure and add traces\n",
    "fig = go.Figure()\n",
    "\n",
    "# Plotting\n",
    "for i, trace in enumerate(traces):\n",
    "    model_trace = go.Scatter(y=trace, mode='lines', name=f'State {i}')\n",
    "    fig.add_trace(model_trace)\n",
    "\n",
    "# Add title and labels\n",
    "fig.update_layout(title=f'Self-Perpetuating Coil Dynamics',\n",
    "                    xaxis_title='Timestep',\n",
    "                    yaxis_title='Value')\n",
    "\n",
    "# Show the figure\n",
    "fig.show()"
   ]
  },
  {
   "cell_type": "markdown",
   "metadata": {},
   "source": [
    "Here we can see complexity in the dynamics able to be produced by a single neural coil layer, while also getting a sense for why these can be difficult to train. "
   ]
  },
  {
   "cell_type": "markdown",
   "metadata": {},
   "source": [
    "## Enforced Autoregressive Coil Generation\n",
    "\n",
    "As previously mentioned, we can also perform coil generation where we provide enforcement for a certain number of timestamps by passing in known state values, before letting the coil autoregressively generate. This helps initialize the transition tensor. \n",
    "\n",
    "In this example, we will enforce the coil with known values for the first 24 timesteps before allowing it to autoregressively generate probability flows. While our time series sections only have a sequence length of 36, we can have coils generate indefinitely. "
   ]
  },
  {
   "cell_type": "code",
   "execution_count": 60,
   "metadata": {},
   "outputs": [
    {
     "data": {
      "application/vnd.plotly.v1+json": {
       "config": {
        "plotlyServerURL": "https://plot.ly"
       },
       "data": [
        {
         "mode": "lines",
         "name": "Modelled Feature 0",
         "type": "scatter",
         "y": [
          0.03483245149254799,
          0.029982363805174828,
          0.03262786567211151,
          0.03350970149040222,
          0.029100529849529266,
          0.025132274255156517,
          0.029982363805174828,
          0.029982363805174828,
          0.027336860075592995,
          0.029541445896029472,
          0.031305115669965744,
          0.026014110073447227,
          0.0317460335791111,
          0.0357142873108387,
          0.028218694031238556,
          0.029982363805174828,
          0.02689594402909279,
          0.029100529849529266,
          0.029982363805174828,
          0.03262786567211151,
          0.0317460335791111,
          0.032186947762966156,
          0.03395061567425728,
          0.03350970149040222,
          0.03262786567211151,
          0.03616813197731972,
          0.03602341189980507,
          0.03617871552705765,
          0.03492824733257294,
          0.0347602441906929,
          0.03584486246109009,
          0.037971533834934235,
          0.03542183339595795,
          0.03605238348245621,
          0.03223197162151337,
          0.033530086278915405,
          0.03819756582379341,
          0.03448180854320526,
          0.034197334200143814,
          0.03721892833709717,
          0.03449166566133499,
          0.034838687628507614,
          0.0343514159321785,
          0.034220270812511444,
          0.035228580236434937,
          0.034303415566682816,
          0.035291705280542374,
          0.03599776700139046,
          0.03523927927017212,
          0.0353197380900383,
          0.03669501841068268,
          0.03477989137172699,
          0.035289838910102844,
          0.034382015466690063,
          0.03600556030869484,
          0.03542681038379669,
          0.036381520330905914,
          0.03479804843664169,
          0.03601790592074394,
          0.0359005406498909,
          0.03479038178920746,
          0.035212475806474686,
          0.03682289645075798,
          0.03476034849882126,
          0.03537546843290329,
          0.03434569761157036,
          0.03579120337963104,
          0.03568803519010544,
          0.03576728701591492,
          0.03444107621908188
         ]
        },
        {
         "mode": "lines",
         "name": "Modelled Feature 15",
         "type": "scatter",
         "y": [
          0.04308389872312546,
          0.038548752665519714,
          0.036848071962594986,
          0.0396825410425663,
          0.03798186033964157,
          0.0357142873108387,
          0.03514739125967026,
          0.03628117963671684,
          0.034580498933792114,
          0.034580498933792114,
          0.03401360660791397,
          0.034580498933792114,
          0.03514739125967026,
          0.034580498933792114,
          0.034580498933792114,
          0.034580498933792114,
          0.03514739125967026,
          0.03514739125967026,
          0.03514739125967026,
          0.03628117963671684,
          0.0357142873108387,
          0.03628117963671684,
          0.03514739125967026,
          0.034580498933792114,
          0.034580498933792114,
          0.0352509543299675,
          0.03503336012363434,
          0.034789085388183594,
          0.033282145857810974,
          0.03334754705429077,
          0.03507164120674133,
          0.03559190779924393,
          0.036943964660167694,
          0.03808049485087395,
          0.036821383982896805,
          0.037013113498687744,
          0.036408618092536926,
          0.03113536164164543,
          0.03111395612359047,
          0.033423759043216705,
          0.033955659717321396,
          0.036017850041389465,
          0.03498058021068573,
          0.03711174800992012,
          0.03668466955423355,
          0.03558065742254257,
          0.03555033728480339,
          0.03556473180651665,
          0.03607385605573654,
          0.03548405319452286,
          0.03546430915594101,
          0.03565322235226631,
          0.03624788671731949,
          0.035999931395053864,
          0.03547753393650055,
          0.035852208733558655,
          0.03649040311574936,
          0.03614874556660652,
          0.035464268177747726,
          0.036157943308353424,
          0.035797327756881714,
          0.03544966131448746,
          0.03546537458896637,
          0.03555478900671005,
          0.0364062637090683,
          0.036019742488861084,
          0.03546847775578499,
          0.03570310026407242,
          0.03626029193401337,
          0.03601902350783348
         ]
        },
        {
         "mode": "lines",
         "name": "Observed Feature 0",
         "type": "scatter",
         "y": [
          0.03483245149254799,
          0.029982363805174828,
          0.03262786567211151,
          0.03350970149040222,
          0.029100529849529266,
          0.025132274255156517,
          0.029982363805174828,
          0.029982363805174828,
          0.027336860075592995,
          0.029541445896029472,
          0.031305115669965744,
          0.026014110073447227,
          0.0317460335791111,
          0.0357142873108387,
          0.028218694031238556,
          0.029982363805174828,
          0.02689594402909279,
          0.029100529849529266,
          0.029982363805174828,
          0.03262786567211151,
          0.0317460335791111,
          0.032186947762966156,
          0.03395061567425728,
          0.03350970149040222,
          0.03262786567211151,
          0.03483245149254799,
          0.03659611940383911,
          0.03086419776082039,
          0.03262786567211151,
          0.029982363805174828,
          0.0317460335791111,
          0.034391533583402634,
          0.03747795522212982,
          0.035273369401693344,
          0.0317460335791111,
          0.03483245149254799
         ]
        },
        {
         "mode": "lines",
         "name": "Observed Feature 15",
         "type": "scatter",
         "y": [
          0.04308389872312546,
          0.038548752665519714,
          0.036848071962594986,
          0.0396825410425663,
          0.03798186033964157,
          0.0357142873108387,
          0.03514739125967026,
          0.03628117963671684,
          0.034580498933792114,
          0.034580498933792114,
          0.03401360660791397,
          0.034580498933792114,
          0.03514739125967026,
          0.034580498933792114,
          0.034580498933792114,
          0.034580498933792114,
          0.03514739125967026,
          0.03514739125967026,
          0.03514739125967026,
          0.03628117963671684,
          0.0357142873108387,
          0.03628117963671684,
          0.03514739125967026,
          0.034580498933792114,
          0.034580498933792114,
          0.034580498933792114,
          0.03401360660791397,
          0.034580498933792114,
          0.034580498933792114,
          0.03401360660791397,
          0.034580498933792114,
          0.034580498933792114,
          0.03514739125967026,
          0.03514739125967026,
          0.03514739125967026,
          0.03514739125967026
         ]
        }
       ],
       "layout": {
        "annotations": [
         {
          "showarrow": false,
          "text": "Point of Prediction",
          "x": 24,
          "xanchor": "left",
          "xref": "x",
          "y": 1,
          "yanchor": "top",
          "yref": "y domain"
         }
        ],
        "shapes": [
         {
          "line": {
           "color": "grey",
           "dash": "dash",
           "width": 3
          },
          "type": "line",
          "x0": 24,
          "x1": 24,
          "xref": "x",
          "y0": 0,
          "y1": 1,
          "yref": "y domain"
         }
        ],
        "template": {
         "data": {
          "bar": [
           {
            "error_x": {
             "color": "#2a3f5f"
            },
            "error_y": {
             "color": "#2a3f5f"
            },
            "marker": {
             "line": {
              "color": "#E5ECF6",
              "width": 0.5
             },
             "pattern": {
              "fillmode": "overlay",
              "size": 10,
              "solidity": 0.2
             }
            },
            "type": "bar"
           }
          ],
          "barpolar": [
           {
            "marker": {
             "line": {
              "color": "#E5ECF6",
              "width": 0.5
             },
             "pattern": {
              "fillmode": "overlay",
              "size": 10,
              "solidity": 0.2
             }
            },
            "type": "barpolar"
           }
          ],
          "carpet": [
           {
            "aaxis": {
             "endlinecolor": "#2a3f5f",
             "gridcolor": "white",
             "linecolor": "white",
             "minorgridcolor": "white",
             "startlinecolor": "#2a3f5f"
            },
            "baxis": {
             "endlinecolor": "#2a3f5f",
             "gridcolor": "white",
             "linecolor": "white",
             "minorgridcolor": "white",
             "startlinecolor": "#2a3f5f"
            },
            "type": "carpet"
           }
          ],
          "choropleth": [
           {
            "colorbar": {
             "outlinewidth": 0,
             "ticks": ""
            },
            "type": "choropleth"
           }
          ],
          "contour": [
           {
            "colorbar": {
             "outlinewidth": 0,
             "ticks": ""
            },
            "colorscale": [
             [
              0,
              "#0d0887"
             ],
             [
              0.1111111111111111,
              "#46039f"
             ],
             [
              0.2222222222222222,
              "#7201a8"
             ],
             [
              0.3333333333333333,
              "#9c179e"
             ],
             [
              0.4444444444444444,
              "#bd3786"
             ],
             [
              0.5555555555555556,
              "#d8576b"
             ],
             [
              0.6666666666666666,
              "#ed7953"
             ],
             [
              0.7777777777777778,
              "#fb9f3a"
             ],
             [
              0.8888888888888888,
              "#fdca26"
             ],
             [
              1,
              "#f0f921"
             ]
            ],
            "type": "contour"
           }
          ],
          "contourcarpet": [
           {
            "colorbar": {
             "outlinewidth": 0,
             "ticks": ""
            },
            "type": "contourcarpet"
           }
          ],
          "heatmap": [
           {
            "colorbar": {
             "outlinewidth": 0,
             "ticks": ""
            },
            "colorscale": [
             [
              0,
              "#0d0887"
             ],
             [
              0.1111111111111111,
              "#46039f"
             ],
             [
              0.2222222222222222,
              "#7201a8"
             ],
             [
              0.3333333333333333,
              "#9c179e"
             ],
             [
              0.4444444444444444,
              "#bd3786"
             ],
             [
              0.5555555555555556,
              "#d8576b"
             ],
             [
              0.6666666666666666,
              "#ed7953"
             ],
             [
              0.7777777777777778,
              "#fb9f3a"
             ],
             [
              0.8888888888888888,
              "#fdca26"
             ],
             [
              1,
              "#f0f921"
             ]
            ],
            "type": "heatmap"
           }
          ],
          "heatmapgl": [
           {
            "colorbar": {
             "outlinewidth": 0,
             "ticks": ""
            },
            "colorscale": [
             [
              0,
              "#0d0887"
             ],
             [
              0.1111111111111111,
              "#46039f"
             ],
             [
              0.2222222222222222,
              "#7201a8"
             ],
             [
              0.3333333333333333,
              "#9c179e"
             ],
             [
              0.4444444444444444,
              "#bd3786"
             ],
             [
              0.5555555555555556,
              "#d8576b"
             ],
             [
              0.6666666666666666,
              "#ed7953"
             ],
             [
              0.7777777777777778,
              "#fb9f3a"
             ],
             [
              0.8888888888888888,
              "#fdca26"
             ],
             [
              1,
              "#f0f921"
             ]
            ],
            "type": "heatmapgl"
           }
          ],
          "histogram": [
           {
            "marker": {
             "pattern": {
              "fillmode": "overlay",
              "size": 10,
              "solidity": 0.2
             }
            },
            "type": "histogram"
           }
          ],
          "histogram2d": [
           {
            "colorbar": {
             "outlinewidth": 0,
             "ticks": ""
            },
            "colorscale": [
             [
              0,
              "#0d0887"
             ],
             [
              0.1111111111111111,
              "#46039f"
             ],
             [
              0.2222222222222222,
              "#7201a8"
             ],
             [
              0.3333333333333333,
              "#9c179e"
             ],
             [
              0.4444444444444444,
              "#bd3786"
             ],
             [
              0.5555555555555556,
              "#d8576b"
             ],
             [
              0.6666666666666666,
              "#ed7953"
             ],
             [
              0.7777777777777778,
              "#fb9f3a"
             ],
             [
              0.8888888888888888,
              "#fdca26"
             ],
             [
              1,
              "#f0f921"
             ]
            ],
            "type": "histogram2d"
           }
          ],
          "histogram2dcontour": [
           {
            "colorbar": {
             "outlinewidth": 0,
             "ticks": ""
            },
            "colorscale": [
             [
              0,
              "#0d0887"
             ],
             [
              0.1111111111111111,
              "#46039f"
             ],
             [
              0.2222222222222222,
              "#7201a8"
             ],
             [
              0.3333333333333333,
              "#9c179e"
             ],
             [
              0.4444444444444444,
              "#bd3786"
             ],
             [
              0.5555555555555556,
              "#d8576b"
             ],
             [
              0.6666666666666666,
              "#ed7953"
             ],
             [
              0.7777777777777778,
              "#fb9f3a"
             ],
             [
              0.8888888888888888,
              "#fdca26"
             ],
             [
              1,
              "#f0f921"
             ]
            ],
            "type": "histogram2dcontour"
           }
          ],
          "mesh3d": [
           {
            "colorbar": {
             "outlinewidth": 0,
             "ticks": ""
            },
            "type": "mesh3d"
           }
          ],
          "parcoords": [
           {
            "line": {
             "colorbar": {
              "outlinewidth": 0,
              "ticks": ""
             }
            },
            "type": "parcoords"
           }
          ],
          "pie": [
           {
            "automargin": true,
            "type": "pie"
           }
          ],
          "scatter": [
           {
            "fillpattern": {
             "fillmode": "overlay",
             "size": 10,
             "solidity": 0.2
            },
            "type": "scatter"
           }
          ],
          "scatter3d": [
           {
            "line": {
             "colorbar": {
              "outlinewidth": 0,
              "ticks": ""
             }
            },
            "marker": {
             "colorbar": {
              "outlinewidth": 0,
              "ticks": ""
             }
            },
            "type": "scatter3d"
           }
          ],
          "scattercarpet": [
           {
            "marker": {
             "colorbar": {
              "outlinewidth": 0,
              "ticks": ""
             }
            },
            "type": "scattercarpet"
           }
          ],
          "scattergeo": [
           {
            "marker": {
             "colorbar": {
              "outlinewidth": 0,
              "ticks": ""
             }
            },
            "type": "scattergeo"
           }
          ],
          "scattergl": [
           {
            "marker": {
             "colorbar": {
              "outlinewidth": 0,
              "ticks": ""
             }
            },
            "type": "scattergl"
           }
          ],
          "scattermapbox": [
           {
            "marker": {
             "colorbar": {
              "outlinewidth": 0,
              "ticks": ""
             }
            },
            "type": "scattermapbox"
           }
          ],
          "scatterpolar": [
           {
            "marker": {
             "colorbar": {
              "outlinewidth": 0,
              "ticks": ""
             }
            },
            "type": "scatterpolar"
           }
          ],
          "scatterpolargl": [
           {
            "marker": {
             "colorbar": {
              "outlinewidth": 0,
              "ticks": ""
             }
            },
            "type": "scatterpolargl"
           }
          ],
          "scatterternary": [
           {
            "marker": {
             "colorbar": {
              "outlinewidth": 0,
              "ticks": ""
             }
            },
            "type": "scatterternary"
           }
          ],
          "surface": [
           {
            "colorbar": {
             "outlinewidth": 0,
             "ticks": ""
            },
            "colorscale": [
             [
              0,
              "#0d0887"
             ],
             [
              0.1111111111111111,
              "#46039f"
             ],
             [
              0.2222222222222222,
              "#7201a8"
             ],
             [
              0.3333333333333333,
              "#9c179e"
             ],
             [
              0.4444444444444444,
              "#bd3786"
             ],
             [
              0.5555555555555556,
              "#d8576b"
             ],
             [
              0.6666666666666666,
              "#ed7953"
             ],
             [
              0.7777777777777778,
              "#fb9f3a"
             ],
             [
              0.8888888888888888,
              "#fdca26"
             ],
             [
              1,
              "#f0f921"
             ]
            ],
            "type": "surface"
           }
          ],
          "table": [
           {
            "cells": {
             "fill": {
              "color": "#EBF0F8"
             },
             "line": {
              "color": "white"
             }
            },
            "header": {
             "fill": {
              "color": "#C8D4E3"
             },
             "line": {
              "color": "white"
             }
            },
            "type": "table"
           }
          ]
         },
         "layout": {
          "annotationdefaults": {
           "arrowcolor": "#2a3f5f",
           "arrowhead": 0,
           "arrowwidth": 1
          },
          "autotypenumbers": "strict",
          "coloraxis": {
           "colorbar": {
            "outlinewidth": 0,
            "ticks": ""
           }
          },
          "colorscale": {
           "diverging": [
            [
             0,
             "#8e0152"
            ],
            [
             0.1,
             "#c51b7d"
            ],
            [
             0.2,
             "#de77ae"
            ],
            [
             0.3,
             "#f1b6da"
            ],
            [
             0.4,
             "#fde0ef"
            ],
            [
             0.5,
             "#f7f7f7"
            ],
            [
             0.6,
             "#e6f5d0"
            ],
            [
             0.7,
             "#b8e186"
            ],
            [
             0.8,
             "#7fbc41"
            ],
            [
             0.9,
             "#4d9221"
            ],
            [
             1,
             "#276419"
            ]
           ],
           "sequential": [
            [
             0,
             "#0d0887"
            ],
            [
             0.1111111111111111,
             "#46039f"
            ],
            [
             0.2222222222222222,
             "#7201a8"
            ],
            [
             0.3333333333333333,
             "#9c179e"
            ],
            [
             0.4444444444444444,
             "#bd3786"
            ],
            [
             0.5555555555555556,
             "#d8576b"
            ],
            [
             0.6666666666666666,
             "#ed7953"
            ],
            [
             0.7777777777777778,
             "#fb9f3a"
            ],
            [
             0.8888888888888888,
             "#fdca26"
            ],
            [
             1,
             "#f0f921"
            ]
           ],
           "sequentialminus": [
            [
             0,
             "#0d0887"
            ],
            [
             0.1111111111111111,
             "#46039f"
            ],
            [
             0.2222222222222222,
             "#7201a8"
            ],
            [
             0.3333333333333333,
             "#9c179e"
            ],
            [
             0.4444444444444444,
             "#bd3786"
            ],
            [
             0.5555555555555556,
             "#d8576b"
            ],
            [
             0.6666666666666666,
             "#ed7953"
            ],
            [
             0.7777777777777778,
             "#fb9f3a"
            ],
            [
             0.8888888888888888,
             "#fdca26"
            ],
            [
             1,
             "#f0f921"
            ]
           ]
          },
          "colorway": [
           "#636efa",
           "#EF553B",
           "#00cc96",
           "#ab63fa",
           "#FFA15A",
           "#19d3f3",
           "#FF6692",
           "#B6E880",
           "#FF97FF",
           "#FECB52"
          ],
          "font": {
           "color": "#2a3f5f"
          },
          "geo": {
           "bgcolor": "white",
           "lakecolor": "white",
           "landcolor": "#E5ECF6",
           "showlakes": true,
           "showland": true,
           "subunitcolor": "white"
          },
          "hoverlabel": {
           "align": "left"
          },
          "hovermode": "closest",
          "mapbox": {
           "style": "light"
          },
          "paper_bgcolor": "white",
          "plot_bgcolor": "#E5ECF6",
          "polar": {
           "angularaxis": {
            "gridcolor": "white",
            "linecolor": "white",
            "ticks": ""
           },
           "bgcolor": "#E5ECF6",
           "radialaxis": {
            "gridcolor": "white",
            "linecolor": "white",
            "ticks": ""
           }
          },
          "scene": {
           "xaxis": {
            "backgroundcolor": "#E5ECF6",
            "gridcolor": "white",
            "gridwidth": 2,
            "linecolor": "white",
            "showbackground": true,
            "ticks": "",
            "zerolinecolor": "white"
           },
           "yaxis": {
            "backgroundcolor": "#E5ECF6",
            "gridcolor": "white",
            "gridwidth": 2,
            "linecolor": "white",
            "showbackground": true,
            "ticks": "",
            "zerolinecolor": "white"
           },
           "zaxis": {
            "backgroundcolor": "#E5ECF6",
            "gridcolor": "white",
            "gridwidth": 2,
            "linecolor": "white",
            "showbackground": true,
            "ticks": "",
            "zerolinecolor": "white"
           }
          },
          "shapedefaults": {
           "line": {
            "color": "#2a3f5f"
           }
          },
          "ternary": {
           "aaxis": {
            "gridcolor": "white",
            "linecolor": "white",
            "ticks": ""
           },
           "baxis": {
            "gridcolor": "white",
            "linecolor": "white",
            "ticks": ""
           },
           "bgcolor": "#E5ECF6",
           "caxis": {
            "gridcolor": "white",
            "linecolor": "white",
            "ticks": ""
           }
          },
          "title": {
           "x": 0.05
          },
          "xaxis": {
           "automargin": true,
           "gridcolor": "white",
           "linecolor": "white",
           "ticks": "",
           "title": {
            "standoff": 15
           },
           "zerolinecolor": "white",
           "zerolinewidth": 2
          },
          "yaxis": {
           "automargin": true,
           "gridcolor": "white",
           "linecolor": "white",
           "ticks": "",
           "title": {
            "standoff": 15
           },
           "zerolinecolor": "white",
           "zerolinewidth": 2
          }
         }
        },
        "title": {
         "text": "Coil Training Modelled vs Observed Comparison"
        },
        "xaxis": {
         "title": {
          "text": "Timestep"
         }
        },
        "yaxis": {
         "title": {
          "text": "Value"
         }
        }
       }
      }
     },
     "metadata": {},
     "output_type": "display_data"
    }
   ],
   "source": [
    "states = []\n",
    "# Select the batch we want to make predictions for\n",
    "batch = 3\n",
    "# After what step do we want the coil to start making its own predictions?\n",
    "prediction_step = 24\n",
    "\n",
    "# What features do we want to plot?\n",
    "feature_sel = [0, 15]\n",
    "\n",
    "# Grab starting state tensor\n",
    "state_tensor = batch_X[:,0,:]\n",
    "\n",
    "# How many steps do we want to run the coil overall?\n",
    "max_steps = 70\n",
    "\n",
    "states.append(state_tensor[batch,feature_sel])\n",
    "batch_size = batch_X.shape[0]\n",
    "transition_tensor = torch.softmax(torch.zeros(batch_size, n_features, n_features), dim = 1).to(\"cuda\")\n",
    "for step_state in range(1,max_steps):\n",
    "    state_tensor, transition_tensor = model.step_coil(state_tensor, transition_tensor)\n",
    "    if step_state <= prediction_step:\n",
    "        state_tensor = batch_X[:,step_state,:]\n",
    "    states.append(state_tensor[batch,feature_sel])\n",
    "    \n",
    "# Move state dynamics to CPU\n",
    "data = [row.to('cpu').detach().numpy() for row in states]\n",
    "traces = list(zip(*data))\n",
    "\n",
    "# Create the figure and add traces\n",
    "fig = go.Figure()\n",
    "\n",
    "# Plotting\n",
    "for i, trace in enumerate(traces):\n",
    "    model_trace = go.Scatter(y=trace, mode='lines', name=f'Modelled Feature {feature_sel[i]}')\n",
    "    fig.add_trace(model_trace)\n",
    "    \n",
    "    \n",
    "# Get observed data to CPU and plot\n",
    "data = batch_X[batch,:,feature_sel].to('cpu')\n",
    "# Transpose the data to get 5 traces\n",
    "traces = list(zip(*data))\n",
    "\n",
    "# Plotting\n",
    "for i, trace in enumerate(traces):\n",
    "    obs_trace = go.Scatter(y=trace, mode='lines', name=f'Observed Feature {feature_sel[i]}')\n",
    "    fig.add_trace(obs_trace)\n",
    "    \n",
    "# Add Line highlighting when the coil becomes responsible for its own predictions\n",
    "fig.add_vline(x=prediction_step, line_width=3, line_dash=\"dash\", line_color=\"grey\", annotation_text='Point of Prediction')    \n",
    "\n",
    "# Add title and labels\n",
    "fig.update_layout(title=f'Coil Training Modelled vs Observed Comparison',\n",
    "                    xaxis_title='Timestep',\n",
    "                    yaxis_title='Value')\n",
    "\n",
    "# Show the figure\n",
    "fig.show()"
   ]
  },
  {
   "cell_type": "markdown",
   "metadata": {},
   "source": [
    "Here we can see, at the Point of Prediction where the coil is no longer provided the support of known values, it begins freely generating dynamics. "
   ]
  },
  {
   "cell_type": "markdown",
   "metadata": {},
   "source": [
    "## Coil \"Memory\" Demonstration\n",
    "\n",
    "It should be emphasized that the process of providing known values up to a point of prediction during coil generation does mean the coil only makes predictions based on the last known value. We can demonstrate that, due to the transition tensor, coils have a form of \"memory\" where different inputs provided during the \"wind up\" stage will result in different dynamics. We can demonstrate this by performing two enforced generations where in one the inputs for a single timestep during the wind up period are arbitrarily changed. "
   ]
  },
  {
   "cell_type": "code",
   "execution_count": 61,
   "metadata": {},
   "outputs": [
    {
     "data": {
      "application/vnd.plotly.v1+json": {
       "config": {
        "plotlyServerURL": "https://plot.ly"
       },
       "data": [
        {
         "mode": "lines",
         "name": "Modelled Feature 0",
         "type": "scatter",
         "y": [
          0.03395061567425728,
          0.030423279851675034,
          0.029982363805174828,
          0.032186947762966156,
          0.02865961194038391,
          0.0317460335791111,
          0.030423279851675034,
          0.02865961194038391,
          0.028218694031238556,
          0.02865961194038391,
          0.030423279851675034,
          0.028218694031238556,
          0.02689594402909279,
          0.028218694031238556,
          0.030423279851675034,
          0.029982363805174828,
          0.028218694031238556,
          0.033068783581256866,
          0.031305115669965744,
          0.0317460335791111,
          0.03659611940383911,
          0.028218694031238556,
          0.032186947762966156,
          0.03262786567211151,
          0.04056437313556671,
          0.03635730594396591,
          0.03397341072559357,
          0.033057913184165955,
          0.03626048564910889,
          0.036118146032094955,
          0.03413853794336319,
          0.03633954003453255,
          0.03486562892794609,
          0.03688979521393776,
          0.034739695489406586,
          0.03545959293842316,
          0.03555647283792496,
          0.035778824239969254,
          0.03673917055130005,
          0.034960560500621796,
          0.03418460115790367,
          0.036631010472774506,
          0.03485080227255821,
          0.03509262204170227,
          0.034832436591386795,
          0.036303866654634476,
          0.03495346009731293,
          0.03539733588695526,
          0.034568704664707184,
          0.03510301560163498,
          0.03333112969994545,
          0.033445242792367935,
          0.034568823873996735,
          0.03569043427705765,
          0.034234024584293365,
          0.03641321882605553,
          0.033421337604522705,
          0.03415059298276901,
          0.03611239045858383,
          0.03528711199760437,
          0.03601228445768356,
          0.034782085567712784,
          0.036160409450531006,
          0.035338275134563446,
          0.036427032202482224,
          0.03493040055036545,
          0.03674273565411568,
          0.034983545541763306,
          0.03723021224141121,
          0.034959424287080765
         ]
        },
        {
         "mode": "lines",
         "name": "Modelled Feature 15",
         "type": "scatter",
         "y": [
          0.03628117963671684,
          0.03628117963671684,
          0.0357142873108387,
          0.03514739125967026,
          0.03628117963671684,
          0.03514739125967026,
          0.03514739125967026,
          0.034580498933792114,
          0.0357142873108387,
          0.03514739125967026,
          0.0357142873108387,
          0.036848071962594986,
          0.03628117963671684,
          0.0357142873108387,
          0.034580498933792114,
          0.03628117963671684,
          0.0357142873108387,
          0.03628117963671684,
          0.0357142873108387,
          0.0357142873108387,
          0.0357142873108387,
          0.03514739125967026,
          0.0357142873108387,
          0.0357142873108387,
          0.0357142873108387,
          0.03724827617406845,
          0.032848015427589417,
          0.03425205498933792,
          0.034335993230342865,
          0.03653695434331894,
          0.036202866584062576,
          0.035767439752817154,
          0.03571636974811554,
          0.03543999418616295,
          0.035699326545000076,
          0.03667899966239929,
          0.03621708229184151,
          0.03553805500268936,
          0.03607805445790291,
          0.03549597039818764,
          0.03599838539958,
          0.03546443581581116,
          0.035749923437833786,
          0.036091677844524384,
          0.03568144887685776,
          0.035446345806121826,
          0.035904280841350555,
          0.03642631694674492,
          0.03534155339002609,
          0.03540782630443573,
          0.036135099828243256,
          0.037055838853120804,
          0.03602924942970276,
          0.036100201308727264,
          0.035980015993118286,
          0.035294584929943085,
          0.03614645451307297,
          0.035980187356472015,
          0.03542174771428108,
          0.035981014370918274,
          0.03626155108213425,
          0.0359598845243454,
          0.03545538708567619,
          0.035967037081718445,
          0.036550410091876984,
          0.03599100559949875,
          0.0353643000125885,
          0.03563852980732918,
          0.035499438643455505,
          0.035231608897447586
         ]
        },
        {
         "mode": "lines",
         "name": "Altered Feature 0",
         "type": "scatter",
         "y": [
          0.03395061567425728,
          0.030423279851675034,
          0.029982363805174828,
          0.032186947762966156,
          0.02865961194038391,
          0.0317460335791111,
          0.030423279851675034,
          0.02865961194038391,
          0.028218694031238556,
          0.02865961194038391,
          0.030423279851675034,
          0.028218694031238556,
          0.02689594402909279,
          0.028218694031238556,
          0.030423279851675034,
          0.029982363805174828,
          0.028218694031238556,
          0.033068783581256866,
          0.031305115669965744,
          0.0317460335791111,
          0.10978835821151733,
          0.028218694031238556,
          0.032186947762966156,
          0.03262786567211151,
          0.04056437313556671,
          0.03635730594396591,
          0.03397337347269058,
          0.03305792808532715,
          0.03626041114330292,
          0.036117903888225555,
          0.03413831815123558,
          0.03633926063776016,
          0.0348651297390461,
          0.03688971325755119,
          0.03474009409546852,
          0.03546338528394699,
          0.035555049777030945,
          0.03581041842699051,
          0.03666573017835617,
          0.03489210829138756,
          0.03463929891586304,
          0.036694638431072235,
          0.03480442613363266,
          0.036554209887981415,
          0.034624166786670685,
          0.036294497549533844,
          0.03595460206270218,
          0.03630037605762482,
          0.032254043966531754,
          0.03329474851489067,
          0.039153870195150375,
          0.034482743591070175,
          0.034083183854818344,
          0.03717843070626259,
          0.03430682420730591,
          0.03475922346115112,
          0.03427055478096008,
          0.03391844779253006,
          0.035314980894327164,
          0.0353696271777153,
          0.037382934242486954,
          0.0346996895968914,
          0.03429026156663895,
          0.03304014354944229,
          0.0378364622592926,
          0.04023919254541397,
          0.039557620882987976,
          0.0401574969291687,
          0.041264064610004425,
          0.040180012583732605
         ]
        },
        {
         "mode": "lines",
         "name": "Altered Feature 15",
         "type": "scatter",
         "y": [
          0.03628117963671684,
          0.03628117963671684,
          0.0357142873108387,
          0.03514739125967026,
          0.03628117963671684,
          0.03514739125967026,
          0.03514739125967026,
          0.034580498933792114,
          0.0357142873108387,
          0.03514739125967026,
          0.0357142873108387,
          0.036848071962594986,
          0.03628117963671684,
          0.0357142873108387,
          0.034580498933792114,
          0.03628117963671684,
          0.0357142873108387,
          0.03628117963671684,
          0.0357142873108387,
          0.0357142873108387,
          0.1071428656578064,
          0.03514739125967026,
          0.0357142873108387,
          0.0357142873108387,
          0.0357142873108387,
          0.03724827244877815,
          0.03284798562526703,
          0.034252043813467026,
          0.03433595597743988,
          0.03653695434331894,
          0.036202870309352875,
          0.03576800227165222,
          0.0357159823179245,
          0.03543996065855026,
          0.03569921851158142,
          0.036679141223430634,
          0.036222781985998154,
          0.03552762418985367,
          0.03616999462246895,
          0.03544173017144203,
          0.03579660877585411,
          0.035495657473802567,
          0.03560568392276764,
          0.03565586358308792,
          0.03579023480415344,
          0.036623694002628326,
          0.03587638959288597,
          0.03664521127939224,
          0.03625011444091797,
          0.036980949342250824,
          0.036811161786317825,
          0.030703481286764145,
          0.030664317309856415,
          0.03327798843383789,
          0.033809173852205276,
          0.03596901893615723,
          0.03497373312711716,
          0.03715883567929268,
          0.03619140014052391,
          0.03581853210926056,
          0.03568106144666672,
          0.037501391023397446,
          0.042143139988183975,
          0.03918540105223656,
          0.038880180567502975,
          0.042240649461746216,
          0.04357479512691498,
          0.041965872049331665,
          0.043067775666713715,
          0.0440436452627182
         ]
        }
       ],
       "layout": {
        "annotations": [
         {
          "showarrow": false,
          "text": "Point of Prediction",
          "x": 24,
          "xanchor": "left",
          "xref": "x",
          "y": 1,
          "yanchor": "top",
          "yref": "y domain"
         },
         {
          "showarrow": false,
          "text": "altered time",
          "x": 19,
          "xanchor": "left",
          "xref": "x",
          "y": 1,
          "yanchor": "top",
          "yref": "y domain"
         }
        ],
        "shapes": [
         {
          "line": {
           "color": "grey",
           "dash": "dash",
           "width": 3
          },
          "type": "line",
          "x0": 24,
          "x1": 24,
          "xref": "x",
          "y0": 0,
          "y1": 1,
          "yref": "y domain"
         },
         {
          "fillcolor": "grey",
          "line": {
           "width": 0
          },
          "opacity": 0.25,
          "type": "rect",
          "x0": 19,
          "x1": 21,
          "xref": "x",
          "y0": 0,
          "y1": 1,
          "yref": "y domain"
         }
        ],
        "template": {
         "data": {
          "bar": [
           {
            "error_x": {
             "color": "#2a3f5f"
            },
            "error_y": {
             "color": "#2a3f5f"
            },
            "marker": {
             "line": {
              "color": "#E5ECF6",
              "width": 0.5
             },
             "pattern": {
              "fillmode": "overlay",
              "size": 10,
              "solidity": 0.2
             }
            },
            "type": "bar"
           }
          ],
          "barpolar": [
           {
            "marker": {
             "line": {
              "color": "#E5ECF6",
              "width": 0.5
             },
             "pattern": {
              "fillmode": "overlay",
              "size": 10,
              "solidity": 0.2
             }
            },
            "type": "barpolar"
           }
          ],
          "carpet": [
           {
            "aaxis": {
             "endlinecolor": "#2a3f5f",
             "gridcolor": "white",
             "linecolor": "white",
             "minorgridcolor": "white",
             "startlinecolor": "#2a3f5f"
            },
            "baxis": {
             "endlinecolor": "#2a3f5f",
             "gridcolor": "white",
             "linecolor": "white",
             "minorgridcolor": "white",
             "startlinecolor": "#2a3f5f"
            },
            "type": "carpet"
           }
          ],
          "choropleth": [
           {
            "colorbar": {
             "outlinewidth": 0,
             "ticks": ""
            },
            "type": "choropleth"
           }
          ],
          "contour": [
           {
            "colorbar": {
             "outlinewidth": 0,
             "ticks": ""
            },
            "colorscale": [
             [
              0,
              "#0d0887"
             ],
             [
              0.1111111111111111,
              "#46039f"
             ],
             [
              0.2222222222222222,
              "#7201a8"
             ],
             [
              0.3333333333333333,
              "#9c179e"
             ],
             [
              0.4444444444444444,
              "#bd3786"
             ],
             [
              0.5555555555555556,
              "#d8576b"
             ],
             [
              0.6666666666666666,
              "#ed7953"
             ],
             [
              0.7777777777777778,
              "#fb9f3a"
             ],
             [
              0.8888888888888888,
              "#fdca26"
             ],
             [
              1,
              "#f0f921"
             ]
            ],
            "type": "contour"
           }
          ],
          "contourcarpet": [
           {
            "colorbar": {
             "outlinewidth": 0,
             "ticks": ""
            },
            "type": "contourcarpet"
           }
          ],
          "heatmap": [
           {
            "colorbar": {
             "outlinewidth": 0,
             "ticks": ""
            },
            "colorscale": [
             [
              0,
              "#0d0887"
             ],
             [
              0.1111111111111111,
              "#46039f"
             ],
             [
              0.2222222222222222,
              "#7201a8"
             ],
             [
              0.3333333333333333,
              "#9c179e"
             ],
             [
              0.4444444444444444,
              "#bd3786"
             ],
             [
              0.5555555555555556,
              "#d8576b"
             ],
             [
              0.6666666666666666,
              "#ed7953"
             ],
             [
              0.7777777777777778,
              "#fb9f3a"
             ],
             [
              0.8888888888888888,
              "#fdca26"
             ],
             [
              1,
              "#f0f921"
             ]
            ],
            "type": "heatmap"
           }
          ],
          "heatmapgl": [
           {
            "colorbar": {
             "outlinewidth": 0,
             "ticks": ""
            },
            "colorscale": [
             [
              0,
              "#0d0887"
             ],
             [
              0.1111111111111111,
              "#46039f"
             ],
             [
              0.2222222222222222,
              "#7201a8"
             ],
             [
              0.3333333333333333,
              "#9c179e"
             ],
             [
              0.4444444444444444,
              "#bd3786"
             ],
             [
              0.5555555555555556,
              "#d8576b"
             ],
             [
              0.6666666666666666,
              "#ed7953"
             ],
             [
              0.7777777777777778,
              "#fb9f3a"
             ],
             [
              0.8888888888888888,
              "#fdca26"
             ],
             [
              1,
              "#f0f921"
             ]
            ],
            "type": "heatmapgl"
           }
          ],
          "histogram": [
           {
            "marker": {
             "pattern": {
              "fillmode": "overlay",
              "size": 10,
              "solidity": 0.2
             }
            },
            "type": "histogram"
           }
          ],
          "histogram2d": [
           {
            "colorbar": {
             "outlinewidth": 0,
             "ticks": ""
            },
            "colorscale": [
             [
              0,
              "#0d0887"
             ],
             [
              0.1111111111111111,
              "#46039f"
             ],
             [
              0.2222222222222222,
              "#7201a8"
             ],
             [
              0.3333333333333333,
              "#9c179e"
             ],
             [
              0.4444444444444444,
              "#bd3786"
             ],
             [
              0.5555555555555556,
              "#d8576b"
             ],
             [
              0.6666666666666666,
              "#ed7953"
             ],
             [
              0.7777777777777778,
              "#fb9f3a"
             ],
             [
              0.8888888888888888,
              "#fdca26"
             ],
             [
              1,
              "#f0f921"
             ]
            ],
            "type": "histogram2d"
           }
          ],
          "histogram2dcontour": [
           {
            "colorbar": {
             "outlinewidth": 0,
             "ticks": ""
            },
            "colorscale": [
             [
              0,
              "#0d0887"
             ],
             [
              0.1111111111111111,
              "#46039f"
             ],
             [
              0.2222222222222222,
              "#7201a8"
             ],
             [
              0.3333333333333333,
              "#9c179e"
             ],
             [
              0.4444444444444444,
              "#bd3786"
             ],
             [
              0.5555555555555556,
              "#d8576b"
             ],
             [
              0.6666666666666666,
              "#ed7953"
             ],
             [
              0.7777777777777778,
              "#fb9f3a"
             ],
             [
              0.8888888888888888,
              "#fdca26"
             ],
             [
              1,
              "#f0f921"
             ]
            ],
            "type": "histogram2dcontour"
           }
          ],
          "mesh3d": [
           {
            "colorbar": {
             "outlinewidth": 0,
             "ticks": ""
            },
            "type": "mesh3d"
           }
          ],
          "parcoords": [
           {
            "line": {
             "colorbar": {
              "outlinewidth": 0,
              "ticks": ""
             }
            },
            "type": "parcoords"
           }
          ],
          "pie": [
           {
            "automargin": true,
            "type": "pie"
           }
          ],
          "scatter": [
           {
            "fillpattern": {
             "fillmode": "overlay",
             "size": 10,
             "solidity": 0.2
            },
            "type": "scatter"
           }
          ],
          "scatter3d": [
           {
            "line": {
             "colorbar": {
              "outlinewidth": 0,
              "ticks": ""
             }
            },
            "marker": {
             "colorbar": {
              "outlinewidth": 0,
              "ticks": ""
             }
            },
            "type": "scatter3d"
           }
          ],
          "scattercarpet": [
           {
            "marker": {
             "colorbar": {
              "outlinewidth": 0,
              "ticks": ""
             }
            },
            "type": "scattercarpet"
           }
          ],
          "scattergeo": [
           {
            "marker": {
             "colorbar": {
              "outlinewidth": 0,
              "ticks": ""
             }
            },
            "type": "scattergeo"
           }
          ],
          "scattergl": [
           {
            "marker": {
             "colorbar": {
              "outlinewidth": 0,
              "ticks": ""
             }
            },
            "type": "scattergl"
           }
          ],
          "scattermapbox": [
           {
            "marker": {
             "colorbar": {
              "outlinewidth": 0,
              "ticks": ""
             }
            },
            "type": "scattermapbox"
           }
          ],
          "scatterpolar": [
           {
            "marker": {
             "colorbar": {
              "outlinewidth": 0,
              "ticks": ""
             }
            },
            "type": "scatterpolar"
           }
          ],
          "scatterpolargl": [
           {
            "marker": {
             "colorbar": {
              "outlinewidth": 0,
              "ticks": ""
             }
            },
            "type": "scatterpolargl"
           }
          ],
          "scatterternary": [
           {
            "marker": {
             "colorbar": {
              "outlinewidth": 0,
              "ticks": ""
             }
            },
            "type": "scatterternary"
           }
          ],
          "surface": [
           {
            "colorbar": {
             "outlinewidth": 0,
             "ticks": ""
            },
            "colorscale": [
             [
              0,
              "#0d0887"
             ],
             [
              0.1111111111111111,
              "#46039f"
             ],
             [
              0.2222222222222222,
              "#7201a8"
             ],
             [
              0.3333333333333333,
              "#9c179e"
             ],
             [
              0.4444444444444444,
              "#bd3786"
             ],
             [
              0.5555555555555556,
              "#d8576b"
             ],
             [
              0.6666666666666666,
              "#ed7953"
             ],
             [
              0.7777777777777778,
              "#fb9f3a"
             ],
             [
              0.8888888888888888,
              "#fdca26"
             ],
             [
              1,
              "#f0f921"
             ]
            ],
            "type": "surface"
           }
          ],
          "table": [
           {
            "cells": {
             "fill": {
              "color": "#EBF0F8"
             },
             "line": {
              "color": "white"
             }
            },
            "header": {
             "fill": {
              "color": "#C8D4E3"
             },
             "line": {
              "color": "white"
             }
            },
            "type": "table"
           }
          ]
         },
         "layout": {
          "annotationdefaults": {
           "arrowcolor": "#2a3f5f",
           "arrowhead": 0,
           "arrowwidth": 1
          },
          "autotypenumbers": "strict",
          "coloraxis": {
           "colorbar": {
            "outlinewidth": 0,
            "ticks": ""
           }
          },
          "colorscale": {
           "diverging": [
            [
             0,
             "#8e0152"
            ],
            [
             0.1,
             "#c51b7d"
            ],
            [
             0.2,
             "#de77ae"
            ],
            [
             0.3,
             "#f1b6da"
            ],
            [
             0.4,
             "#fde0ef"
            ],
            [
             0.5,
             "#f7f7f7"
            ],
            [
             0.6,
             "#e6f5d0"
            ],
            [
             0.7,
             "#b8e186"
            ],
            [
             0.8,
             "#7fbc41"
            ],
            [
             0.9,
             "#4d9221"
            ],
            [
             1,
             "#276419"
            ]
           ],
           "sequential": [
            [
             0,
             "#0d0887"
            ],
            [
             0.1111111111111111,
             "#46039f"
            ],
            [
             0.2222222222222222,
             "#7201a8"
            ],
            [
             0.3333333333333333,
             "#9c179e"
            ],
            [
             0.4444444444444444,
             "#bd3786"
            ],
            [
             0.5555555555555556,
             "#d8576b"
            ],
            [
             0.6666666666666666,
             "#ed7953"
            ],
            [
             0.7777777777777778,
             "#fb9f3a"
            ],
            [
             0.8888888888888888,
             "#fdca26"
            ],
            [
             1,
             "#f0f921"
            ]
           ],
           "sequentialminus": [
            [
             0,
             "#0d0887"
            ],
            [
             0.1111111111111111,
             "#46039f"
            ],
            [
             0.2222222222222222,
             "#7201a8"
            ],
            [
             0.3333333333333333,
             "#9c179e"
            ],
            [
             0.4444444444444444,
             "#bd3786"
            ],
            [
             0.5555555555555556,
             "#d8576b"
            ],
            [
             0.6666666666666666,
             "#ed7953"
            ],
            [
             0.7777777777777778,
             "#fb9f3a"
            ],
            [
             0.8888888888888888,
             "#fdca26"
            ],
            [
             1,
             "#f0f921"
            ]
           ]
          },
          "colorway": [
           "#636efa",
           "#EF553B",
           "#00cc96",
           "#ab63fa",
           "#FFA15A",
           "#19d3f3",
           "#FF6692",
           "#B6E880",
           "#FF97FF",
           "#FECB52"
          ],
          "font": {
           "color": "#2a3f5f"
          },
          "geo": {
           "bgcolor": "white",
           "lakecolor": "white",
           "landcolor": "#E5ECF6",
           "showlakes": true,
           "showland": true,
           "subunitcolor": "white"
          },
          "hoverlabel": {
           "align": "left"
          },
          "hovermode": "closest",
          "mapbox": {
           "style": "light"
          },
          "paper_bgcolor": "white",
          "plot_bgcolor": "#E5ECF6",
          "polar": {
           "angularaxis": {
            "gridcolor": "white",
            "linecolor": "white",
            "ticks": ""
           },
           "bgcolor": "#E5ECF6",
           "radialaxis": {
            "gridcolor": "white",
            "linecolor": "white",
            "ticks": ""
           }
          },
          "scene": {
           "xaxis": {
            "backgroundcolor": "#E5ECF6",
            "gridcolor": "white",
            "gridwidth": 2,
            "linecolor": "white",
            "showbackground": true,
            "ticks": "",
            "zerolinecolor": "white"
           },
           "yaxis": {
            "backgroundcolor": "#E5ECF6",
            "gridcolor": "white",
            "gridwidth": 2,
            "linecolor": "white",
            "showbackground": true,
            "ticks": "",
            "zerolinecolor": "white"
           },
           "zaxis": {
            "backgroundcolor": "#E5ECF6",
            "gridcolor": "white",
            "gridwidth": 2,
            "linecolor": "white",
            "showbackground": true,
            "ticks": "",
            "zerolinecolor": "white"
           }
          },
          "shapedefaults": {
           "line": {
            "color": "#2a3f5f"
           }
          },
          "ternary": {
           "aaxis": {
            "gridcolor": "white",
            "linecolor": "white",
            "ticks": ""
           },
           "baxis": {
            "gridcolor": "white",
            "linecolor": "white",
            "ticks": ""
           },
           "bgcolor": "#E5ECF6",
           "caxis": {
            "gridcolor": "white",
            "linecolor": "white",
            "ticks": ""
           }
          },
          "title": {
           "x": 0.05
          },
          "xaxis": {
           "automargin": true,
           "gridcolor": "white",
           "linecolor": "white",
           "ticks": "",
           "title": {
            "standoff": 15
           },
           "zerolinecolor": "white",
           "zerolinewidth": 2
          },
          "yaxis": {
           "automargin": true,
           "gridcolor": "white",
           "linecolor": "white",
           "ticks": "",
           "title": {
            "standoff": 15
           },
           "zerolinecolor": "white",
           "zerolinewidth": 2
          }
         }
        },
        "title": {
         "text": "Coil Memory Demonstration"
        },
        "xaxis": {
         "title": {
          "text": "Timestep"
         }
        },
        "yaxis": {
         "title": {
          "text": "Value"
         }
        }
       }
      }
     },
     "metadata": {},
     "output_type": "display_data"
    }
   ],
   "source": [
    "import matplotlib.pyplot as plt\n",
    "\n",
    "states = []\n",
    "# Select the batch we want to make predictions for\n",
    "batch = 8\n",
    "\n",
    "# After what step do we want the coil to start making its own predictions?\n",
    "prediction_step = 24\n",
    "\n",
    "# What features do we want to plot?\n",
    "feature_sel = [0,15]\n",
    "\n",
    "# Grab starting state tensor\n",
    "state_tensor = batch_X[:,0,:]\n",
    "\n",
    "# How many steps do we want to run the coil overall?\n",
    "max_steps = 70\n",
    "\n",
    "# Which timestamp do we want to force modify?\n",
    "step_modify = 20\n",
    "\n",
    "states.append(state_tensor[batch,feature_sel])\n",
    "batch_size = batch_X.shape[0]\n",
    "transition_tensor = torch.softmax(torch.zeros(batch_size, n_features, n_features), dim = 1).to(\"cuda\")\n",
    "for step_state in range(1,max_steps):\n",
    "    state_tensor, transition_tensor = model.step_coil(state_tensor, transition_tensor)\n",
    "    if step_state <= prediction_step:\n",
    "        state_tensor = batch_X[:,step_state,:]\n",
    "    states.append(state_tensor[batch,feature_sel])\n",
    "    \n",
    "\n",
    "# Get observed data to CPU and plot\n",
    "data = [row.to('cpu').detach().numpy() for row in states]\n",
    "# Transpose the data to get 5 traces\n",
    "traces = list(zip(*data))\n",
    "\n",
    "# Create the figure and add traces\n",
    "fig = go.Figure()\n",
    "\n",
    "# Plotting\n",
    "for i, trace in enumerate(traces):\n",
    "    model_trace = go.Scatter(y=trace, mode='lines', name=f'Modelled Feature {feature_sel[i]}')\n",
    "    fig.add_trace(model_trace)\n",
    "    \n",
    "# Try with changing one X in memory\n",
    "states = []\n",
    "state_tensor = batch_X[:,0,:]\n",
    "states.append(state_tensor[batch,feature_sel])\n",
    "batch_size = batch_X.shape[0]\n",
    "transition_tensor = torch.softmax(torch.zeros(batch_size, n_features, n_features), dim = 1).to(\"cuda\")\n",
    "for step_state in range(1,max_steps):\n",
    "    state_tensor, transition_tensor = model.step_coil(state_tensor, transition_tensor)\n",
    "    if step_state <= prediction_step:\n",
    "        state_tensor = batch_X[:,step_state,:]\n",
    "        \n",
    "    # change a single state in memory:\n",
    "    if step_state == step_modify:\n",
    "        state_tensor = batch_X[:,step_state,:] * 3\n",
    "    states.append(state_tensor[batch,feature_sel])\n",
    "\n",
    "\n",
    "# Get observed data to CPU and plot\n",
    "data = [row.to('cpu').detach().numpy() for row in states]\n",
    "# Transpose the data to get 5 traces\n",
    "traces = list(zip(*data))\n",
    "\n",
    "# Plotting\n",
    "for i, trace in enumerate(traces):\n",
    "    obs_trace = go.Scatter(y=trace, mode='lines', name=f'Altered Feature {feature_sel[i]}')\n",
    "    fig.add_trace(obs_trace)\n",
    "    \n",
    "# Add Line highlighting when the coil becomes responsible for its own predictions\n",
    "fig.add_vline(x=prediction_step, line_width=3, line_dash=\"dash\", line_color=\"grey\", annotation_text='Point of Prediction')    \n",
    "\n",
    "# Add title and labels\n",
    "fig.update_layout(title=f'Coil Memory Demonstration',\n",
    "                    xaxis_title='Timestep',\n",
    "                    yaxis_title='Value')\n",
    "\n",
    "\n",
    "fig.add_vrect(x0=step_modify-1, x1=step_modify+1, \n",
    "              annotation_text=\"altered time\", annotation_position=\"top left\",\n",
    "              fillcolor=\"grey\", opacity=0.25, line_width=0)\n",
    "\n",
    "# Show the figure\n",
    "fig.show()"
   ]
  },
  {
   "cell_type": "markdown",
   "metadata": {},
   "source": [
    "We can see that, while most of the inputs during the wind up are the same, the fact one timestamp has different values causes very different coil dynamics. "
   ]
  },
  {
   "cell_type": "markdown",
   "metadata": {},
   "source": [
    "## Coil Prediction Testing"
   ]
  },
  {
   "cell_type": "markdown",
   "metadata": {},
   "source": [
    "To see how coils perform on unseen data, we can load in a wider range of the original timeseries, generating the sequence chunks for the coil inputs. "
   ]
  },
  {
   "cell_type": "code",
   "execution_count": 62,
   "metadata": {},
   "outputs": [
    {
     "name": "stdout",
     "output_type": "stream",
     "text": [
      "Available Batches:  194\n"
     ]
    }
   ],
   "source": [
    "# Take original timeseries and bring in data we haven't seen before\n",
    "df_test = df_orig.iloc[:7000,:]\n",
    "\n",
    "# Take our previously fit coil normalizer and apply it to the new data\n",
    "coilnormed_df_test = coilnormer.normalize(df_test, fit_change=False)\n",
    "\n",
    "# Generate and segment the time series\n",
    "series = coilnormed_df_test.values\n",
    "length = 36\n",
    "\n",
    "series_x = series[:-1,]\n",
    "segments_x = segment_time_series(series_x, length,overlap=None)\n",
    "\n",
    "# Convert to tensors\n",
    "segments_tensor_x = torch.tensor(segments_x, dtype=torch.float)\n",
    "\n",
    "# Prepare inputs and targets\n",
    "X = segments_tensor_x.to(\"cuda\")\n",
    "\n",
    "# Get number of features and batch size\n",
    "n_features = X.shape[2]\n",
    "batch_size = X.shape[0]\n",
    "\n",
    "print(\"Available Batches: \", batch_size)"
   ]
  },
  {
   "cell_type": "markdown",
   "metadata": {},
   "source": [
    "We can do a similar comparison of modelled and observed features as before. "
   ]
  },
  {
   "cell_type": "code",
   "execution_count": 63,
   "metadata": {},
   "outputs": [
    {
     "data": {
      "application/vnd.plotly.v1+json": {
       "config": {
        "plotlyServerURL": "https://plot.ly"
       },
       "data": [
        {
         "mode": "lines",
         "name": "Modelled Feature 0",
         "type": "scatter",
         "y": [
          0.03880070522427559,
          0.04144620895385742,
          0.03880070522427559,
          0.036155201494693756,
          0.03703703731298447,
          0.03791886940598488,
          0.036155201494693756,
          0.035273369401693344,
          0.0357142873108387,
          0.035273369401693344,
          0.036155201494693756,
          0.0357142873108387,
          0.03483245149254799,
          0.03086419776082039,
          0.0317460335791111,
          0.03262786567211151,
          0.029541445896029472,
          0.03350970149040222,
          0.032186947762966156,
          0.03350970149040222,
          0.035273369401693344,
          0.03350970149040222,
          0.02865961194038391,
          0.029541445896029472,
          0.030423279851675034,
          0.02966165356338024,
          0.03785710781812668,
          0.03560274466872215,
          0.03936697170138359,
          0.03995995596051216,
          0.04309280216693878,
          0.044035959988832474,
          0.0441754013299942,
          0.04451616108417511,
          0.044810980558395386,
          0.044963255524635315,
          0.04480409622192383,
          0.04458579793572426,
          0.044563084840774536,
          0.03463060408830643,
          0.03769147768616676,
          0.03816002607345581,
          0.027221577242016792,
          0.030848847702145576,
          0.03478017449378967
         ]
        },
        {
         "mode": "lines",
         "name": "Modelled Feature 15",
         "type": "scatter",
         "y": [
          0.0357142873108387,
          0.03514739125967026,
          0.0357142873108387,
          0.036848071962594986,
          0.0357142873108387,
          0.0357142873108387,
          0.0357142873108387,
          0.0357142873108387,
          0.03514739125967026,
          0.0357142873108387,
          0.03628117963671684,
          0.0357142873108387,
          0.03514739125967026,
          0.0357142873108387,
          0.03628117963671684,
          0.0357142873108387,
          0.0357142873108387,
          0.0357142873108387,
          0.0357142873108387,
          0.03628117963671684,
          0.03514739125967026,
          0.03628117963671684,
          0.0357142873108387,
          0.0357142873108387,
          0.0357142873108387,
          0.03543698042631149,
          0.03459104150533676,
          0.0369383729994297,
          0.036024611443281174,
          0.03534739464521408,
          0.03467607498168945,
          0.03723099082708359,
          0.03842220827937126,
          0.039947934448719025,
          0.040020160377025604,
          0.037829529494047165,
          0.034047145396471024,
          0.03105044737458229,
          0.030150219798088074,
          0.040426090359687805,
          0.03686128184199333,
          0.03549981489777565,
          0.03867379575967789,
          0.035087306052446365,
          0.03441784158349037
         ]
        },
        {
         "mode": "lines",
         "name": "Observed Feature 0",
         "type": "scatter",
         "y": [
          0.03880070522427559,
          0.04144620895385742,
          0.03880070522427559,
          0.036155201494693756,
          0.03703703731298447,
          0.03791886940598488,
          0.036155201494693756,
          0.035273369401693344,
          0.0357142873108387,
          0.035273369401693344,
          0.036155201494693756,
          0.0357142873108387,
          0.03483245149254799,
          0.03086419776082039,
          0.0317460335791111,
          0.03262786567211151,
          0.029541445896029472,
          0.03350970149040222,
          0.032186947762966156,
          0.03350970149040222,
          0.035273369401693344,
          0.03350970149040222,
          0.02865961194038391,
          0.029541445896029472,
          0.030423279851675034,
          0.03086419776082039,
          0.03262786567211151,
          0.029982363805174828,
          0.032186947762966156,
          0.035273369401693344,
          0.03086419776082039,
          0.0357142873108387,
          0.0357142873108387,
          0.0357142873108387,
          0.033068783581256866,
          0.0357142873108387
         ]
        },
        {
         "mode": "lines",
         "name": "Observed Feature 15",
         "type": "scatter",
         "y": [
          0.0357142873108387,
          0.03514739125967026,
          0.0357142873108387,
          0.036848071962594986,
          0.0357142873108387,
          0.0357142873108387,
          0.0357142873108387,
          0.0357142873108387,
          0.03514739125967026,
          0.0357142873108387,
          0.03628117963671684,
          0.0357142873108387,
          0.03514739125967026,
          0.0357142873108387,
          0.03628117963671684,
          0.0357142873108387,
          0.0357142873108387,
          0.0357142873108387,
          0.0357142873108387,
          0.03628117963671684,
          0.03514739125967026,
          0.03628117963671684,
          0.0357142873108387,
          0.0357142873108387,
          0.0357142873108387,
          0.0357142873108387,
          0.0357142873108387,
          0.0357142873108387,
          0.03628117963671684,
          0.03628117963671684,
          0.03628117963671684,
          0.036848071962594986,
          0.0357142873108387,
          0.03628117963671684,
          0.0357142873108387,
          0.03628117963671684
         ]
        }
       ],
       "layout": {
        "annotations": [
         {
          "showarrow": false,
          "text": "Point of Prediction",
          "x": 24,
          "xanchor": "left",
          "xref": "x",
          "y": 1,
          "yanchor": "top",
          "yref": "y domain"
         }
        ],
        "shapes": [
         {
          "line": {
           "color": "grey",
           "dash": "dash",
           "width": 3
          },
          "type": "line",
          "x0": 24,
          "x1": 24,
          "xref": "x",
          "y0": 0,
          "y1": 1,
          "yref": "y domain"
         }
        ],
        "template": {
         "data": {
          "bar": [
           {
            "error_x": {
             "color": "#2a3f5f"
            },
            "error_y": {
             "color": "#2a3f5f"
            },
            "marker": {
             "line": {
              "color": "#E5ECF6",
              "width": 0.5
             },
             "pattern": {
              "fillmode": "overlay",
              "size": 10,
              "solidity": 0.2
             }
            },
            "type": "bar"
           }
          ],
          "barpolar": [
           {
            "marker": {
             "line": {
              "color": "#E5ECF6",
              "width": 0.5
             },
             "pattern": {
              "fillmode": "overlay",
              "size": 10,
              "solidity": 0.2
             }
            },
            "type": "barpolar"
           }
          ],
          "carpet": [
           {
            "aaxis": {
             "endlinecolor": "#2a3f5f",
             "gridcolor": "white",
             "linecolor": "white",
             "minorgridcolor": "white",
             "startlinecolor": "#2a3f5f"
            },
            "baxis": {
             "endlinecolor": "#2a3f5f",
             "gridcolor": "white",
             "linecolor": "white",
             "minorgridcolor": "white",
             "startlinecolor": "#2a3f5f"
            },
            "type": "carpet"
           }
          ],
          "choropleth": [
           {
            "colorbar": {
             "outlinewidth": 0,
             "ticks": ""
            },
            "type": "choropleth"
           }
          ],
          "contour": [
           {
            "colorbar": {
             "outlinewidth": 0,
             "ticks": ""
            },
            "colorscale": [
             [
              0,
              "#0d0887"
             ],
             [
              0.1111111111111111,
              "#46039f"
             ],
             [
              0.2222222222222222,
              "#7201a8"
             ],
             [
              0.3333333333333333,
              "#9c179e"
             ],
             [
              0.4444444444444444,
              "#bd3786"
             ],
             [
              0.5555555555555556,
              "#d8576b"
             ],
             [
              0.6666666666666666,
              "#ed7953"
             ],
             [
              0.7777777777777778,
              "#fb9f3a"
             ],
             [
              0.8888888888888888,
              "#fdca26"
             ],
             [
              1,
              "#f0f921"
             ]
            ],
            "type": "contour"
           }
          ],
          "contourcarpet": [
           {
            "colorbar": {
             "outlinewidth": 0,
             "ticks": ""
            },
            "type": "contourcarpet"
           }
          ],
          "heatmap": [
           {
            "colorbar": {
             "outlinewidth": 0,
             "ticks": ""
            },
            "colorscale": [
             [
              0,
              "#0d0887"
             ],
             [
              0.1111111111111111,
              "#46039f"
             ],
             [
              0.2222222222222222,
              "#7201a8"
             ],
             [
              0.3333333333333333,
              "#9c179e"
             ],
             [
              0.4444444444444444,
              "#bd3786"
             ],
             [
              0.5555555555555556,
              "#d8576b"
             ],
             [
              0.6666666666666666,
              "#ed7953"
             ],
             [
              0.7777777777777778,
              "#fb9f3a"
             ],
             [
              0.8888888888888888,
              "#fdca26"
             ],
             [
              1,
              "#f0f921"
             ]
            ],
            "type": "heatmap"
           }
          ],
          "heatmapgl": [
           {
            "colorbar": {
             "outlinewidth": 0,
             "ticks": ""
            },
            "colorscale": [
             [
              0,
              "#0d0887"
             ],
             [
              0.1111111111111111,
              "#46039f"
             ],
             [
              0.2222222222222222,
              "#7201a8"
             ],
             [
              0.3333333333333333,
              "#9c179e"
             ],
             [
              0.4444444444444444,
              "#bd3786"
             ],
             [
              0.5555555555555556,
              "#d8576b"
             ],
             [
              0.6666666666666666,
              "#ed7953"
             ],
             [
              0.7777777777777778,
              "#fb9f3a"
             ],
             [
              0.8888888888888888,
              "#fdca26"
             ],
             [
              1,
              "#f0f921"
             ]
            ],
            "type": "heatmapgl"
           }
          ],
          "histogram": [
           {
            "marker": {
             "pattern": {
              "fillmode": "overlay",
              "size": 10,
              "solidity": 0.2
             }
            },
            "type": "histogram"
           }
          ],
          "histogram2d": [
           {
            "colorbar": {
             "outlinewidth": 0,
             "ticks": ""
            },
            "colorscale": [
             [
              0,
              "#0d0887"
             ],
             [
              0.1111111111111111,
              "#46039f"
             ],
             [
              0.2222222222222222,
              "#7201a8"
             ],
             [
              0.3333333333333333,
              "#9c179e"
             ],
             [
              0.4444444444444444,
              "#bd3786"
             ],
             [
              0.5555555555555556,
              "#d8576b"
             ],
             [
              0.6666666666666666,
              "#ed7953"
             ],
             [
              0.7777777777777778,
              "#fb9f3a"
             ],
             [
              0.8888888888888888,
              "#fdca26"
             ],
             [
              1,
              "#f0f921"
             ]
            ],
            "type": "histogram2d"
           }
          ],
          "histogram2dcontour": [
           {
            "colorbar": {
             "outlinewidth": 0,
             "ticks": ""
            },
            "colorscale": [
             [
              0,
              "#0d0887"
             ],
             [
              0.1111111111111111,
              "#46039f"
             ],
             [
              0.2222222222222222,
              "#7201a8"
             ],
             [
              0.3333333333333333,
              "#9c179e"
             ],
             [
              0.4444444444444444,
              "#bd3786"
             ],
             [
              0.5555555555555556,
              "#d8576b"
             ],
             [
              0.6666666666666666,
              "#ed7953"
             ],
             [
              0.7777777777777778,
              "#fb9f3a"
             ],
             [
              0.8888888888888888,
              "#fdca26"
             ],
             [
              1,
              "#f0f921"
             ]
            ],
            "type": "histogram2dcontour"
           }
          ],
          "mesh3d": [
           {
            "colorbar": {
             "outlinewidth": 0,
             "ticks": ""
            },
            "type": "mesh3d"
           }
          ],
          "parcoords": [
           {
            "line": {
             "colorbar": {
              "outlinewidth": 0,
              "ticks": ""
             }
            },
            "type": "parcoords"
           }
          ],
          "pie": [
           {
            "automargin": true,
            "type": "pie"
           }
          ],
          "scatter": [
           {
            "fillpattern": {
             "fillmode": "overlay",
             "size": 10,
             "solidity": 0.2
            },
            "type": "scatter"
           }
          ],
          "scatter3d": [
           {
            "line": {
             "colorbar": {
              "outlinewidth": 0,
              "ticks": ""
             }
            },
            "marker": {
             "colorbar": {
              "outlinewidth": 0,
              "ticks": ""
             }
            },
            "type": "scatter3d"
           }
          ],
          "scattercarpet": [
           {
            "marker": {
             "colorbar": {
              "outlinewidth": 0,
              "ticks": ""
             }
            },
            "type": "scattercarpet"
           }
          ],
          "scattergeo": [
           {
            "marker": {
             "colorbar": {
              "outlinewidth": 0,
              "ticks": ""
             }
            },
            "type": "scattergeo"
           }
          ],
          "scattergl": [
           {
            "marker": {
             "colorbar": {
              "outlinewidth": 0,
              "ticks": ""
             }
            },
            "type": "scattergl"
           }
          ],
          "scattermapbox": [
           {
            "marker": {
             "colorbar": {
              "outlinewidth": 0,
              "ticks": ""
             }
            },
            "type": "scattermapbox"
           }
          ],
          "scatterpolar": [
           {
            "marker": {
             "colorbar": {
              "outlinewidth": 0,
              "ticks": ""
             }
            },
            "type": "scatterpolar"
           }
          ],
          "scatterpolargl": [
           {
            "marker": {
             "colorbar": {
              "outlinewidth": 0,
              "ticks": ""
             }
            },
            "type": "scatterpolargl"
           }
          ],
          "scatterternary": [
           {
            "marker": {
             "colorbar": {
              "outlinewidth": 0,
              "ticks": ""
             }
            },
            "type": "scatterternary"
           }
          ],
          "surface": [
           {
            "colorbar": {
             "outlinewidth": 0,
             "ticks": ""
            },
            "colorscale": [
             [
              0,
              "#0d0887"
             ],
             [
              0.1111111111111111,
              "#46039f"
             ],
             [
              0.2222222222222222,
              "#7201a8"
             ],
             [
              0.3333333333333333,
              "#9c179e"
             ],
             [
              0.4444444444444444,
              "#bd3786"
             ],
             [
              0.5555555555555556,
              "#d8576b"
             ],
             [
              0.6666666666666666,
              "#ed7953"
             ],
             [
              0.7777777777777778,
              "#fb9f3a"
             ],
             [
              0.8888888888888888,
              "#fdca26"
             ],
             [
              1,
              "#f0f921"
             ]
            ],
            "type": "surface"
           }
          ],
          "table": [
           {
            "cells": {
             "fill": {
              "color": "#EBF0F8"
             },
             "line": {
              "color": "white"
             }
            },
            "header": {
             "fill": {
              "color": "#C8D4E3"
             },
             "line": {
              "color": "white"
             }
            },
            "type": "table"
           }
          ]
         },
         "layout": {
          "annotationdefaults": {
           "arrowcolor": "#2a3f5f",
           "arrowhead": 0,
           "arrowwidth": 1
          },
          "autotypenumbers": "strict",
          "coloraxis": {
           "colorbar": {
            "outlinewidth": 0,
            "ticks": ""
           }
          },
          "colorscale": {
           "diverging": [
            [
             0,
             "#8e0152"
            ],
            [
             0.1,
             "#c51b7d"
            ],
            [
             0.2,
             "#de77ae"
            ],
            [
             0.3,
             "#f1b6da"
            ],
            [
             0.4,
             "#fde0ef"
            ],
            [
             0.5,
             "#f7f7f7"
            ],
            [
             0.6,
             "#e6f5d0"
            ],
            [
             0.7,
             "#b8e186"
            ],
            [
             0.8,
             "#7fbc41"
            ],
            [
             0.9,
             "#4d9221"
            ],
            [
             1,
             "#276419"
            ]
           ],
           "sequential": [
            [
             0,
             "#0d0887"
            ],
            [
             0.1111111111111111,
             "#46039f"
            ],
            [
             0.2222222222222222,
             "#7201a8"
            ],
            [
             0.3333333333333333,
             "#9c179e"
            ],
            [
             0.4444444444444444,
             "#bd3786"
            ],
            [
             0.5555555555555556,
             "#d8576b"
            ],
            [
             0.6666666666666666,
             "#ed7953"
            ],
            [
             0.7777777777777778,
             "#fb9f3a"
            ],
            [
             0.8888888888888888,
             "#fdca26"
            ],
            [
             1,
             "#f0f921"
            ]
           ],
           "sequentialminus": [
            [
             0,
             "#0d0887"
            ],
            [
             0.1111111111111111,
             "#46039f"
            ],
            [
             0.2222222222222222,
             "#7201a8"
            ],
            [
             0.3333333333333333,
             "#9c179e"
            ],
            [
             0.4444444444444444,
             "#bd3786"
            ],
            [
             0.5555555555555556,
             "#d8576b"
            ],
            [
             0.6666666666666666,
             "#ed7953"
            ],
            [
             0.7777777777777778,
             "#fb9f3a"
            ],
            [
             0.8888888888888888,
             "#fdca26"
            ],
            [
             1,
             "#f0f921"
            ]
           ]
          },
          "colorway": [
           "#636efa",
           "#EF553B",
           "#00cc96",
           "#ab63fa",
           "#FFA15A",
           "#19d3f3",
           "#FF6692",
           "#B6E880",
           "#FF97FF",
           "#FECB52"
          ],
          "font": {
           "color": "#2a3f5f"
          },
          "geo": {
           "bgcolor": "white",
           "lakecolor": "white",
           "landcolor": "#E5ECF6",
           "showlakes": true,
           "showland": true,
           "subunitcolor": "white"
          },
          "hoverlabel": {
           "align": "left"
          },
          "hovermode": "closest",
          "mapbox": {
           "style": "light"
          },
          "paper_bgcolor": "white",
          "plot_bgcolor": "#E5ECF6",
          "polar": {
           "angularaxis": {
            "gridcolor": "white",
            "linecolor": "white",
            "ticks": ""
           },
           "bgcolor": "#E5ECF6",
           "radialaxis": {
            "gridcolor": "white",
            "linecolor": "white",
            "ticks": ""
           }
          },
          "scene": {
           "xaxis": {
            "backgroundcolor": "#E5ECF6",
            "gridcolor": "white",
            "gridwidth": 2,
            "linecolor": "white",
            "showbackground": true,
            "ticks": "",
            "zerolinecolor": "white"
           },
           "yaxis": {
            "backgroundcolor": "#E5ECF6",
            "gridcolor": "white",
            "gridwidth": 2,
            "linecolor": "white",
            "showbackground": true,
            "ticks": "",
            "zerolinecolor": "white"
           },
           "zaxis": {
            "backgroundcolor": "#E5ECF6",
            "gridcolor": "white",
            "gridwidth": 2,
            "linecolor": "white",
            "showbackground": true,
            "ticks": "",
            "zerolinecolor": "white"
           }
          },
          "shapedefaults": {
           "line": {
            "color": "#2a3f5f"
           }
          },
          "ternary": {
           "aaxis": {
            "gridcolor": "white",
            "linecolor": "white",
            "ticks": ""
           },
           "baxis": {
            "gridcolor": "white",
            "linecolor": "white",
            "ticks": ""
           },
           "bgcolor": "#E5ECF6",
           "caxis": {
            "gridcolor": "white",
            "linecolor": "white",
            "ticks": ""
           }
          },
          "title": {
           "x": 0.05
          },
          "xaxis": {
           "automargin": true,
           "gridcolor": "white",
           "linecolor": "white",
           "ticks": "",
           "title": {
            "standoff": 15
           },
           "zerolinecolor": "white",
           "zerolinewidth": 2
          },
          "yaxis": {
           "automargin": true,
           "gridcolor": "white",
           "linecolor": "white",
           "ticks": "",
           "title": {
            "standoff": 15
           },
           "zerolinecolor": "white",
           "zerolinewidth": 2
          }
         }
        },
        "title": {
         "text": "Coil Testing Modelled vs Observed Comparison"
        },
        "xaxis": {
         "title": {
          "text": "Timestep"
         }
        },
        "yaxis": {
         "title": {
          "text": "Value"
         }
        }
       }
      }
     },
     "metadata": {},
     "output_type": "display_data"
    }
   ],
   "source": [
    "states = []\n",
    "# Select the batch we want to make predictions for\n",
    "batch = 102\n",
    "\n",
    "# After what step do we want the coil to start making its own predictions?\n",
    "prediction_step = 24\n",
    "\n",
    "# What features do we want to plot?\n",
    "feature_sel = [0,15]\n",
    "\n",
    "# Grab starting state tensor\n",
    "state_tensor = X[:,0,:]\n",
    "\n",
    "# How many steps do we want to run the coil overall?\n",
    "max_steps = 45\n",
    "\n",
    "states.append(state_tensor[batch,feature_sel])\n",
    "batch_size = X.shape[0]\n",
    "transition_tensor = torch.softmax(torch.zeros(batch_size, n_features, n_features), dim = 1).to(\"cuda\")\n",
    "for step_state in range(1,max_steps):\n",
    "    state_tensor, transition_tensor = model.step_coil(state_tensor, transition_tensor)\n",
    "    if step_state <= prediction_step:\n",
    "        state_tensor = X[:,step_state,:]\n",
    "    states.append(state_tensor[batch,feature_sel])\n",
    "    #print(sum(state_tensor[batch,:]))\n",
    "    \n",
    "# Move state dynamics to CPU\n",
    "data = [row.to('cpu').detach().numpy() for row in states]\n",
    "traces = list(zip(*data))\n",
    "\n",
    "# Create the figure and add traces\n",
    "fig = go.Figure()\n",
    "\n",
    "# Plotting\n",
    "for i, trace in enumerate(traces):\n",
    "    model_trace = go.Scatter(y=trace, mode='lines', name=f'Modelled Feature {feature_sel[i]}')\n",
    "    fig.add_trace(model_trace)\n",
    "    \n",
    "    \n",
    "# Get observed data to CPU and plot\n",
    "data = X[batch,:,feature_sel].to('cpu')\n",
    "# Transpose the data to get 5 traces\n",
    "traces = list(zip(*data))\n",
    "\n",
    "# Plotting\n",
    "for i, trace in enumerate(traces):\n",
    "    obs_trace = go.Scatter(y=trace, mode='lines', name=f'Observed Feature {feature_sel[i]}')\n",
    "    fig.add_trace(obs_trace)\n",
    "    \n",
    "# Add Line highlighting when the coil becomes responsible for its own predictions\n",
    "fig.add_vline(x=prediction_step, line_width=3, line_dash=\"dash\", line_color=\"grey\", annotation_text='Point of Prediction')    \n",
    "\n",
    "# Add title and labels\n",
    "fig.update_layout(title=f'Coil Testing Modelled vs Observed Comparison',\n",
    "                    xaxis_title='Timestep',\n",
    "                    yaxis_title='Value')\n",
    "\n",
    "# Show the figure\n",
    "fig.show()"
   ]
  },
  {
   "cell_type": "markdown",
   "metadata": {},
   "source": [
    "## Denormalization Checks\n",
    "\n",
    "To translate from flows of probability back into our original timeseries values, we can use the denormalization function that is part of our coil normalizer class. "
   ]
  },
  {
   "cell_type": "code",
   "execution_count": 64,
   "metadata": {},
   "outputs": [
    {
     "data": {
      "application/vnd.plotly.v1+json": {
       "config": {
        "plotlyServerURL": "https://plot.ly"
       },
       "data": [
        {
         "mode": "lines",
         "name": "Model: p (mbar)",
         "type": "scatter",
         "x": [
          "2009-02-12T14:00:00",
          "2009-02-12T14:10:00",
          "2009-02-12T14:20:00",
          "2009-02-12T14:30:00",
          "2009-02-12T14:40:00",
          "2009-02-12T14:50:00",
          "2009-02-12T15:00:00",
          "2009-02-12T15:10:00",
          "2009-02-12T15:20:00",
          "2009-02-12T15:30:00",
          "2009-02-12T15:40:00",
          "2009-02-12T15:50:00",
          "2009-02-12T16:00:00",
          "2009-02-12T16:10:00",
          "2009-02-12T16:20:00",
          "2009-02-12T16:30:00",
          "2009-02-12T16:40:00",
          "2009-02-12T16:50:00",
          "2009-02-12T17:00:00",
          "2009-02-12T17:10:00",
          "2009-02-12T17:20:00",
          "2009-02-12T17:30:00",
          "2009-02-12T17:40:00",
          "2009-02-12T17:50:00",
          "2009-02-12T18:00:00",
          "2009-02-12T18:10:00",
          "2009-02-12T18:20:00",
          "2009-02-12T18:30:00",
          "2009-02-12T18:40:00",
          "2009-02-12T18:50:00",
          "2009-02-12T19:00:00",
          "2009-02-12T19:10:00",
          "2009-02-12T19:20:00",
          "2009-02-12T19:30:00",
          "2009-02-12T19:40:00",
          "2009-02-12T19:50:00"
         ],
         "y": [
          987.4,
          987.4,
          987.4599999827891,
          987.5299999838322,
          987.5599999963492,
          987.6699999859185,
          987.7799999754877,
          987.7799999754877,
          987.7899999514968,
          987.8799999421091,
          987.9299999066443,
          987.9999999076874,
          988.0199999019504,
          988.1099998925627,
          988.1899999118597,
          988.3099999196828,
          988.4699999160321,
          988.6099999355898,
          988.7199999251591,
          988.7499999376761,
          988.8399999282883,
          988.9099999293314,
          989.0199999189007,
          989.1099999095129,
          989.119999885522,
          989.1599999162929,
          989.1790665743273,
          989.2607076560945,
          989.240180697878,
          989.210288531449,
          989.149207357859,
          989.0634376423959,
          989.0262832667056,
          988.9910026657868,
          988.9976644463725,
          988.9694690702453
         ]
        },
        {
         "mode": "lines",
         "name": "Model: T (degC)",
         "type": "scatter",
         "x": [
          "2009-02-12T14:00:00",
          "2009-02-12T14:10:00",
          "2009-02-12T14:20:00",
          "2009-02-12T14:30:00",
          "2009-02-12T14:40:00",
          "2009-02-12T14:50:00",
          "2009-02-12T15:00:00",
          "2009-02-12T15:10:00",
          "2009-02-12T15:20:00",
          "2009-02-12T15:30:00",
          "2009-02-12T15:40:00",
          "2009-02-12T15:50:00",
          "2009-02-12T16:00:00",
          "2009-02-12T16:10:00",
          "2009-02-12T16:20:00",
          "2009-02-12T16:30:00",
          "2009-02-12T16:40:00",
          "2009-02-12T16:50:00",
          "2009-02-12T17:00:00",
          "2009-02-12T17:10:00",
          "2009-02-12T17:20:00",
          "2009-02-12T17:30:00",
          "2009-02-12T17:40:00",
          "2009-02-12T17:50:00",
          "2009-02-12T18:00:00",
          "2009-02-12T18:10:00",
          "2009-02-12T18:20:00",
          "2009-02-12T18:30:00",
          "2009-02-12T18:40:00",
          "2009-02-12T18:50:00",
          "2009-02-12T19:00:00",
          "2009-02-12T19:10:00",
          "2009-02-12T19:20:00",
          "2009-02-12T19:30:00",
          "2009-02-12T19:40:00",
          "2009-02-12T19:50:00"
         ],
         "y": [
          0.75,
          0.2999999945238234,
          0.05999997261911694,
          0.3399999913945797,
          0.8399999929592015,
          1.3399999945238232,
          1.439999984093011,
          0.7799999950453643,
          0.38999998487532206,
          1.0599999731406582,
          1.029999976269902,
          0.41999998331070054,
          -0.14000001356005576,
          -0.4000000339001405,
          -0.290000045374034,
          -0.35000003911554656,
          -0.4600000276416528,
          -0.7400000464171156,
          -1.0600000620633345,
          -1.3900000769272425,
          -1.580000057108699,
          -1.7100000435486429,
          -1.830000031031668,
          -1.9300000206008556,
          -2.0100000122562056,
          -2.120000000782312,
          -2.222046065925051,
          -2.4060570940581414,
          -2.4408808272231592,
          -2.4033585654590137,
          -2.302527663077516,
          -2.2007031717058894,
          -2.0075824256451726,
          -1.9618595932503535,
          -1.9895145454498293,
          -1.9987209569790962
         ]
        },
        {
         "mode": "lines",
         "name": "Model: Tpot (K)",
         "type": "scatter",
         "x": [
          "2009-02-12T14:00:00",
          "2009-02-12T14:10:00",
          "2009-02-12T14:20:00",
          "2009-02-12T14:30:00",
          "2009-02-12T14:40:00",
          "2009-02-12T14:50:00",
          "2009-02-12T15:00:00",
          "2009-02-12T15:10:00",
          "2009-02-12T15:20:00",
          "2009-02-12T15:30:00",
          "2009-02-12T15:40:00",
          "2009-02-12T15:50:00",
          "2009-02-12T16:00:00",
          "2009-02-12T16:10:00",
          "2009-02-12T16:20:00",
          "2009-02-12T16:30:00",
          "2009-02-12T16:40:00",
          "2009-02-12T16:50:00",
          "2009-02-12T17:00:00",
          "2009-02-12T17:10:00",
          "2009-02-12T17:20:00",
          "2009-02-12T17:30:00",
          "2009-02-12T17:40:00",
          "2009-02-12T17:50:00",
          "2009-02-12T18:00:00",
          "2009-02-12T18:10:00",
          "2009-02-12T18:20:00",
          "2009-02-12T18:30:00",
          "2009-02-12T18:40:00",
          "2009-02-12T18:50:00",
          "2009-02-12T19:00:00",
          "2009-02-12T19:10:00",
          "2009-02-12T19:20:00",
          "2009-02-12T19:30:00",
          "2009-02-12T19:40:00",
          "2009-02-12T19:50:00"
         ],
         "y": [
          274.91,
          274.460000025034,
          274.21000003181405,
          274.48000004954645,
          274.9800000490249,
          275.48000004850337,
          275.5700001090021,
          274.91000012934217,
          274.5200001366437,
          275.17000015176836,
          275.14000018619004,
          274.53000023104255,
          273.9600002299995,
          273.6900002122671,
          273.800000249818,
          273.7300002519042,
          273.610000307709,
          273.32000031292444,
          272.9800002936274,
          272.65000029519206,
          272.4600003494323,
          272.3100003577769,
          272.19000041358174,
          272.0800003760308,
          272.00000038594004,
          271.8900003483891,
          271.76727040063787,
          271.46461946457333,
          271.42821755683036,
          271.47366898830717,
          271.5638580026973,
          271.6876962968654,
          271.88843686597244,
          271.9570561008444,
          271.9283359032651,
          271.9266869644426
         ]
        },
        {
         "mode": "lines",
         "name": "Model: Tdew (degC)",
         "type": "scatter",
         "x": [
          "2009-02-12T14:00:00",
          "2009-02-12T14:10:00",
          "2009-02-12T14:20:00",
          "2009-02-12T14:30:00",
          "2009-02-12T14:40:00",
          "2009-02-12T14:50:00",
          "2009-02-12T15:00:00",
          "2009-02-12T15:10:00",
          "2009-02-12T15:20:00",
          "2009-02-12T15:30:00",
          "2009-02-12T15:40:00",
          "2009-02-12T15:50:00",
          "2009-02-12T16:00:00",
          "2009-02-12T16:10:00",
          "2009-02-12T16:20:00",
          "2009-02-12T16:30:00",
          "2009-02-12T16:40:00",
          "2009-02-12T16:50:00",
          "2009-02-12T17:00:00",
          "2009-02-12T17:10:00",
          "2009-02-12T17:20:00",
          "2009-02-12T17:30:00",
          "2009-02-12T17:40:00",
          "2009-02-12T17:50:00",
          "2009-02-12T18:00:00",
          "2009-02-12T18:10:00",
          "2009-02-12T18:20:00",
          "2009-02-12T18:30:00",
          "2009-02-12T18:40:00",
          "2009-02-12T18:50:00",
          "2009-02-12T19:00:00",
          "2009-02-12T19:10:00",
          "2009-02-12T19:20:00",
          "2009-02-12T19:30:00",
          "2009-02-12T19:40:00",
          "2009-02-12T19:50:00"
         ],
         "y": [
          -5.92,
          -6.400000029988586,
          -6.340000049285591,
          -6.140000087358057,
          -5.88000006597489,
          -5.91000001695007,
          -5.8200000065192565,
          -5.950000056587159,
          -5.950000056587159,
          -5.8000000732764585,
          -5.980000015385447,
          -6.189999987222253,
          -6.179999977834521,
          -5.9599999960884436,
          -5.70999998461455,
          -5.9399999762699,
          -6.239999990090727,
          -6.399999982789158,
          -6.53000003285706,
          -6.569999993741512,
          -6.599999944716692,
          -6.609999954104423,
          -6.590000013038516,
          -6.550000052154065,
          -6.550000052154065,
          -6.5300001110881585,
          -6.599070680767337,
          -6.7440296063389615,
          -6.41796196503363,
          -6.361749975334004,
          -6.283436976072171,
          -6.156693150113837,
          -6.005534316381761,
          -6.029163523773054,
          -6.078423089662194,
          -6.145239074994049
         ]
        },
        {
         "mode": "lines",
         "name": "Model: rh (%)",
         "type": "scatter",
         "x": [
          "2009-02-12T14:00:00",
          "2009-02-12T14:10:00",
          "2009-02-12T14:20:00",
          "2009-02-12T14:30:00",
          "2009-02-12T14:40:00",
          "2009-02-12T14:50:00",
          "2009-02-12T15:00:00",
          "2009-02-12T15:10:00",
          "2009-02-12T15:20:00",
          "2009-02-12T15:30:00",
          "2009-02-12T15:40:00",
          "2009-02-12T15:50:00",
          "2009-02-12T16:00:00",
          "2009-02-12T16:10:00",
          "2009-02-12T16:20:00",
          "2009-02-12T16:30:00",
          "2009-02-12T16:40:00",
          "2009-02-12T16:50:00",
          "2009-02-12T17:00:00",
          "2009-02-12T17:10:00",
          "2009-02-12T17:20:00",
          "2009-02-12T17:30:00",
          "2009-02-12T17:40:00",
          "2009-02-12T17:50:00",
          "2009-02-12T18:00:00",
          "2009-02-12T18:10:00",
          "2009-02-12T18:20:00",
          "2009-02-12T18:30:00",
          "2009-02-12T18:40:00",
          "2009-02-12T18:50:00",
          "2009-02-12T19:00:00",
          "2009-02-12T19:10:00",
          "2009-02-12T19:20:00",
          "2009-02-12T19:30:00",
          "2009-02-12T19:40:00",
          "2009-02-12T19:50:00"
         ],
         "y": [
          60.78,
          60.52000002920627,
          61.89000010691583,
          61.60000020444393,
          60.62000062376261,
          58.270000444874164,
          58.31000016219913,
          60.520000029206265,
          62.24000006102024,
          60.020000076666456,
          59.31000027954577,
          60.99000037863849,
          63.61000034108757,
          65.8900005648285,
          66.64000059977172,
          65.75000025294719,
          64.80999986909328,
          65.31999951809642,
          66.19999949932097,
          67.64999975461511,
          68.39999978955834,
          69.08000018905847,
          69.7800001869723,
          70.49999978329984,
          70.89999955903737,
          71.5999995569512,
          71.95094604831027,
          71.96335906341022,
          74.13424768806611,
          74.14770792173849,
          74.20774292613979,
          74.32313014413364,
          73.93339986646593,
          73.69002183038066,
          73.60741949938424,
          73.28878722604705
         ]
        },
        {
         "mode": "lines",
         "name": "Model: VPmax (mbar)",
         "type": "scatter",
         "x": [
          "2009-02-12T14:00:00",
          "2009-02-12T14:10:00",
          "2009-02-12T14:20:00",
          "2009-02-12T14:30:00",
          "2009-02-12T14:40:00",
          "2009-02-12T14:50:00",
          "2009-02-12T15:00:00",
          "2009-02-12T15:10:00",
          "2009-02-12T15:20:00",
          "2009-02-12T15:30:00",
          "2009-02-12T15:40:00",
          "2009-02-12T15:50:00",
          "2009-02-12T16:00:00",
          "2009-02-12T16:10:00",
          "2009-02-12T16:20:00",
          "2009-02-12T16:30:00",
          "2009-02-12T16:40:00",
          "2009-02-12T16:50:00",
          "2009-02-12T17:00:00",
          "2009-02-12T17:10:00",
          "2009-02-12T17:20:00",
          "2009-02-12T17:30:00",
          "2009-02-12T17:40:00",
          "2009-02-12T17:50:00",
          "2009-02-12T18:00:00",
          "2009-02-12T18:10:00",
          "2009-02-12T18:20:00",
          "2009-02-12T18:30:00",
          "2009-02-12T18:40:00",
          "2009-02-12T18:50:00",
          "2009-02-12T19:00:00",
          "2009-02-12T19:10:00",
          "2009-02-12T19:20:00",
          "2009-02-12T19:30:00",
          "2009-02-12T19:40:00",
          "2009-02-12T19:50:00"
         ],
         "y": [
          6.45,
          6.2399999958276755,
          6.139999979920686,
          6.259999989829959,
          6.48999999087304,
          6.729999979920686,
          6.779999978877605,
          6.459999986439944,
          6.289999974966049,
          6.589999976791441,
          6.579999958015978,
          6.299999955408275,
          6.039999950975179,
          5.929999947324395,
          5.979999946281314,
          5.949999951496721,
          5.909999968707562,
          5.7899999587982895,
          5.649999972879887,
          5.509999986961485,
          5.439999978616834,
          5.389999979659915,
          5.339999980702997,
          5.299999997913838,
          5.270000003129245,
          5.220000004172326,
          5.169227510336099,
          5.115950592559586,
          5.10767013397584,
          5.122427703716919,
          5.16230128860921,
          5.199001846214551,
          5.252609092552548,
          5.278784185490927,
          5.266017124913453,
          5.268674855013047
         ]
        },
        {
         "mode": "lines",
         "name": "Model: VPact (mbar)",
         "type": "scatter",
         "x": [
          "2009-02-12T14:00:00",
          "2009-02-12T14:10:00",
          "2009-02-12T14:20:00",
          "2009-02-12T14:30:00",
          "2009-02-12T14:40:00",
          "2009-02-12T14:50:00",
          "2009-02-12T15:00:00",
          "2009-02-12T15:10:00",
          "2009-02-12T15:20:00",
          "2009-02-12T15:30:00",
          "2009-02-12T15:40:00",
          "2009-02-12T15:50:00",
          "2009-02-12T16:00:00",
          "2009-02-12T16:10:00",
          "2009-02-12T16:20:00",
          "2009-02-12T16:30:00",
          "2009-02-12T16:40:00",
          "2009-02-12T16:50:00",
          "2009-02-12T17:00:00",
          "2009-02-12T17:10:00",
          "2009-02-12T17:20:00",
          "2009-02-12T17:30:00",
          "2009-02-12T17:40:00",
          "2009-02-12T17:50:00",
          "2009-02-12T18:00:00",
          "2009-02-12T18:10:00",
          "2009-02-12T18:20:00",
          "2009-02-12T18:30:00",
          "2009-02-12T18:40:00",
          "2009-02-12T18:50:00",
          "2009-02-12T19:00:00",
          "2009-02-12T19:10:00",
          "2009-02-12T19:20:00",
          "2009-02-12T19:30:00",
          "2009-02-12T19:40:00",
          "2009-02-12T19:50:00"
         ],
         "y": [
          3.92,
          3.7799999979138375,
          3.799999981224537,
          3.859999970793724,
          3.9299999619275328,
          3.9199999608844514,
          3.9499999457597728,
          3.9099999593198294,
          3.9099999593198294,
          3.9599999473243948,
          3.899999957755208,
          3.839999968186021,
          3.839999968186021,
          3.90999995931983,
          3.9899999520182607,
          3.90999995931983,
          3.829999966621399,
          3.779999978616834,
          3.7399999921768905,
          3.729999991133809,
          3.7199999900907277,
          3.7199999900907277,
          3.7199999900907277,
          3.739999973401427,
          3.739999973401427,
          3.739999973401427,
          3.727881056937378,
          3.669926230618359,
          3.7993683915970324,
          3.8066136863244195,
          3.8278808097476396,
          3.857540042449665,
          3.891799421988307,
          3.882356445424587,
          3.869405764493333,
          3.853702271597382
         ]
        },
        {
         "mode": "lines",
         "name": "Model: VPdef (mbar)",
         "type": "scatter",
         "x": [
          "2009-02-12T14:00:00",
          "2009-02-12T14:10:00",
          "2009-02-12T14:20:00",
          "2009-02-12T14:30:00",
          "2009-02-12T14:40:00",
          "2009-02-12T14:50:00",
          "2009-02-12T15:00:00",
          "2009-02-12T15:10:00",
          "2009-02-12T15:20:00",
          "2009-02-12T15:30:00",
          "2009-02-12T15:40:00",
          "2009-02-12T15:50:00",
          "2009-02-12T16:00:00",
          "2009-02-12T16:10:00",
          "2009-02-12T16:20:00",
          "2009-02-12T16:30:00",
          "2009-02-12T16:40:00",
          "2009-02-12T16:50:00",
          "2009-02-12T17:00:00",
          "2009-02-12T17:10:00",
          "2009-02-12T17:20:00",
          "2009-02-12T17:30:00",
          "2009-02-12T17:40:00",
          "2009-02-12T17:50:00",
          "2009-02-12T18:00:00",
          "2009-02-12T18:10:00",
          "2009-02-12T18:20:00",
          "2009-02-12T18:30:00",
          "2009-02-12T18:40:00",
          "2009-02-12T18:50:00",
          "2009-02-12T19:00:00",
          "2009-02-12T19:10:00",
          "2009-02-12T19:20:00",
          "2009-02-12T19:30:00",
          "2009-02-12T19:40:00",
          "2009-02-12T19:50:00"
         ],
         "y": [
          2.53,
          2.470000017210841,
          2.3400000182539222,
          2.4000000010430806,
          2.5599999880045647,
          2.8099999984353774,
          2.82999999269843,
          2.5499999981746067,
          2.370000005215405,
          2.640000019297002,
          2.6800000406801683,
          2.460000038072465,
          2.2000000469386563,
          2.0200000539794547,
          2.0000000597164016,
          2.040000081099568,
          2.0800001024827344,
          2.010000109784303,
          1.9100000917911513,
          1.7800000928342326,
          1.7200001100450737,
          1.670000107958911,
          1.6100001251697522,
          1.5600001230835896,
          1.5300001481175407,
          1.480000146031378,
          1.4383819226909926,
          1.4194363852178702,
          1.2545226929460418,
          1.2611525978791622,
          1.2716189885860296,
          1.2866774097089606,
          1.2962790991976554,
          1.3177929263435986,
          1.3211014885727335,
          1.338600808215141
         ]
        },
        {
         "mode": "lines",
         "name": "Model: sh (g/kg)",
         "type": "scatter",
         "x": [
          "2009-02-12T14:00:00",
          "2009-02-12T14:10:00",
          "2009-02-12T14:20:00",
          "2009-02-12T14:30:00",
          "2009-02-12T14:40:00",
          "2009-02-12T14:50:00",
          "2009-02-12T15:00:00",
          "2009-02-12T15:10:00",
          "2009-02-12T15:20:00",
          "2009-02-12T15:30:00",
          "2009-02-12T15:40:00",
          "2009-02-12T15:50:00",
          "2009-02-12T16:00:00",
          "2009-02-12T16:10:00",
          "2009-02-12T16:20:00",
          "2009-02-12T16:30:00",
          "2009-02-12T16:40:00",
          "2009-02-12T16:50:00",
          "2009-02-12T17:00:00",
          "2009-02-12T17:10:00",
          "2009-02-12T17:20:00",
          "2009-02-12T17:30:00",
          "2009-02-12T17:40:00",
          "2009-02-12T17:50:00",
          "2009-02-12T18:00:00",
          "2009-02-12T18:10:00",
          "2009-02-12T18:20:00",
          "2009-02-12T18:30:00",
          "2009-02-12T18:40:00",
          "2009-02-12T18:50:00",
          "2009-02-12T19:00:00",
          "2009-02-12T19:10:00",
          "2009-02-12T19:20:00",
          "2009-02-12T19:30:00",
          "2009-02-12T19:40:00",
          "2009-02-12T19:50:00"
         ],
         "y": [
          2.47,
          2.380000004693866,
          2.4000000026077037,
          2.430000001043082,
          2.4799999984353787,
          2.4699999989569195,
          2.489999996870757,
          2.4699999989569195,
          2.4699999989569195,
          2.4999999973922975,
          2.459999994263054,
          2.4199999911338104,
          2.4199999911338104,
          2.459999994263054,
          2.509999991655351,
          2.4699999885261072,
          2.4099999869614854,
          2.3799999885261074,
          2.3599999906122697,
          2.3499999911338105,
          2.3399999916553513,
          2.3399999916553513,
          2.3499999911338105,
          2.3499999911338105,
          2.3499999911338105,
          2.3599999906122697,
          2.35613091479512,
          2.330850586759168,
          2.4051661531007786,
          2.4121487533831476,
          2.4281182236388488,
          2.4463451558587477,
          2.471252000336035,
          2.4687446182735937,
          2.458939990303685,
          2.4520348531773073
         ]
        },
        {
         "mode": "lines",
         "name": "Model: H2OC (mmol/mol)",
         "type": "scatter",
         "x": [
          "2009-02-12T14:00:00",
          "2009-02-12T14:10:00",
          "2009-02-12T14:20:00",
          "2009-02-12T14:30:00",
          "2009-02-12T14:40:00",
          "2009-02-12T14:50:00",
          "2009-02-12T15:00:00",
          "2009-02-12T15:10:00",
          "2009-02-12T15:20:00",
          "2009-02-12T15:30:00",
          "2009-02-12T15:40:00",
          "2009-02-12T15:50:00",
          "2009-02-12T16:00:00",
          "2009-02-12T16:10:00",
          "2009-02-12T16:20:00",
          "2009-02-12T16:30:00",
          "2009-02-12T16:40:00",
          "2009-02-12T16:50:00",
          "2009-02-12T17:00:00",
          "2009-02-12T17:10:00",
          "2009-02-12T17:20:00",
          "2009-02-12T17:30:00",
          "2009-02-12T17:40:00",
          "2009-02-12T17:50:00",
          "2009-02-12T18:00:00",
          "2009-02-12T18:10:00",
          "2009-02-12T18:20:00",
          "2009-02-12T18:30:00",
          "2009-02-12T18:40:00",
          "2009-02-12T18:50:00",
          "2009-02-12T19:00:00",
          "2009-02-12T19:10:00",
          "2009-02-12T19:20:00",
          "2009-02-12T19:30:00",
          "2009-02-12T19:40:00",
          "2009-02-12T19:50:00"
         ],
         "y": [
          3.97,
          3.8299999979138377,
          3.849999981224537,
          3.909999970793724,
          3.979999961927533,
          3.9699999608844516,
          3.999999945759773,
          3.9599999593198296,
          3.9599999593198296,
          4.009999947324395,
          3.9499999577552076,
          3.8899999681860207,
          3.8899999681860207,
          3.9599999593198296,
          4.029999950453639,
          3.9599999593198296,
          3.8699999650567767,
          3.8199999770522117,
          3.7799999906122683,
          3.769999989569187,
          3.7599999885261055,
          3.7599999885261055,
          3.769999989569187,
          3.7799999906122683,
          3.7799999906122683,
          3.7799999906122683,
          3.766325625629051,
          3.7138851662242818,
          3.831606310307333,
          3.842778845223943,
          3.868723726240125,
          3.89782870091045,
          3.9403415296818247,
          3.932127767853969,
          3.9252700841388615,
          3.908252559864393
         ]
        },
        {
         "mode": "lines",
         "name": "Model: rho (g/m**3)",
         "type": "scatter",
         "x": [
          "2009-02-12T14:00:00",
          "2009-02-12T14:10:00",
          "2009-02-12T14:20:00",
          "2009-02-12T14:30:00",
          "2009-02-12T14:40:00",
          "2009-02-12T14:50:00",
          "2009-02-12T15:00:00",
          "2009-02-12T15:10:00",
          "2009-02-12T15:20:00",
          "2009-02-12T15:30:00",
          "2009-02-12T15:40:00",
          "2009-02-12T15:50:00",
          "2009-02-12T16:00:00",
          "2009-02-12T16:10:00",
          "2009-02-12T16:20:00",
          "2009-02-12T16:30:00",
          "2009-02-12T16:40:00",
          "2009-02-12T16:50:00",
          "2009-02-12T17:00:00",
          "2009-02-12T17:10:00",
          "2009-02-12T17:20:00",
          "2009-02-12T17:30:00",
          "2009-02-12T17:40:00",
          "2009-02-12T17:50:00",
          "2009-02-12T18:00:00",
          "2009-02-12T18:10:00",
          "2009-02-12T18:20:00",
          "2009-02-12T18:30:00",
          "2009-02-12T18:40:00",
          "2009-02-12T18:50:00",
          "2009-02-12T19:00:00",
          "2009-02-12T19:10:00",
          "2009-02-12T19:20:00",
          "2009-02-12T19:30:00",
          "2009-02-12T19:40:00",
          "2009-02-12T19:50:00"
         ],
         "y": [
          1253.9,
          1256.0100001163037,
          1257.2000002417342,
          1255.9700000589341,
          1253.6999999658392,
          1251.5300001572446,
          1251.220000297539,
          1254.25000017602,
          1256.0400003713369,
          1253.0900003350898,
          1253.3100006563589,
          1256.2100006647036,
          1258.8300005374476,
          1260.100000448525,
          1259.6500007797033,
          1260.120000873059,
          1260.8700005846472,
          1262.3500005330147,
          1264.0300004605206,
          1265.6100003958495,
          1266.5900002456458,
          1267.3200003233553,
          1268.0100003426523,
          1268.5900003989786,
          1268.9400003170967,
          1269.5300005856902,
          1270.1617224550205,
          1271.074116802828,
          1271.3084814682848,
          1271.2048921989626,
          1270.6677998244957,
          1269.8710054184883,
          1268.8145869488135,
          1268.4525683574873,
          1268.6399365644554,
          1268.694756243572
         ]
        },
        {
         "mode": "lines",
         "name": "Model: wv (m/s)",
         "type": "scatter",
         "x": [
          "2009-02-12T14:00:00",
          "2009-02-12T14:10:00",
          "2009-02-12T14:20:00",
          "2009-02-12T14:30:00",
          "2009-02-12T14:40:00",
          "2009-02-12T14:50:00",
          "2009-02-12T15:00:00",
          "2009-02-12T15:10:00",
          "2009-02-12T15:20:00",
          "2009-02-12T15:30:00",
          "2009-02-12T15:40:00",
          "2009-02-12T15:50:00",
          "2009-02-12T16:00:00",
          "2009-02-12T16:10:00",
          "2009-02-12T16:20:00",
          "2009-02-12T16:30:00",
          "2009-02-12T16:40:00",
          "2009-02-12T16:50:00",
          "2009-02-12T17:00:00",
          "2009-02-12T17:10:00",
          "2009-02-12T17:20:00",
          "2009-02-12T17:30:00",
          "2009-02-12T17:40:00",
          "2009-02-12T17:50:00",
          "2009-02-12T18:00:00",
          "2009-02-12T18:10:00",
          "2009-02-12T18:20:00",
          "2009-02-12T18:30:00",
          "2009-02-12T18:40:00",
          "2009-02-12T18:50:00",
          "2009-02-12T19:00:00",
          "2009-02-12T19:10:00",
          "2009-02-12T19:20:00",
          "2009-02-12T19:30:00",
          "2009-02-12T19:40:00",
          "2009-02-12T19:50:00"
         ],
         "y": [
          1.97,
          2.7400000130385163,
          2.6700001157820235,
          3.060000114999713,
          2.5400000445917277,
          3.030000098571183,
          3.4400001087412253,
          3.080000125952066,
          2.900000165589155,
          2.460000138990583,
          2.8300001272559188,
          2.9600000589340945,
          2.3400001319497847,
          2.0500001084804556,
          2.680000041201712,
          2.729999926984311,
          2.8899998758733276,
          2.5999998524039984,
          2.7899998185038566,
          1.9199998422339555,
          1.669999841712415,
          1.8199997848644844,
          1.789999769218266,
          1.6699998432770375,
          1.819999786429107,
          1.5999998031184075,
          1.9901237700399619,
          1.7462843918547726,
          1.5629854951633562,
          1.6015524525706761,
          1.50889824317366,
          1.1912542675346496,
          1.1683944410893699,
          1.3072725908556106,
          0.9123985644108183,
          1.1558449914660252
         ]
        },
        {
         "mode": "lines",
         "name": "Model: max. wv (m/s)",
         "type": "scatter",
         "x": [
          "2009-02-12T14:00:00",
          "2009-02-12T14:10:00",
          "2009-02-12T14:20:00",
          "2009-02-12T14:30:00",
          "2009-02-12T14:40:00",
          "2009-02-12T14:50:00",
          "2009-02-12T15:00:00",
          "2009-02-12T15:10:00",
          "2009-02-12T15:20:00",
          "2009-02-12T15:30:00",
          "2009-02-12T15:40:00",
          "2009-02-12T15:50:00",
          "2009-02-12T16:00:00",
          "2009-02-12T16:10:00",
          "2009-02-12T16:20:00",
          "2009-02-12T16:30:00",
          "2009-02-12T16:40:00",
          "2009-02-12T16:50:00",
          "2009-02-12T17:00:00",
          "2009-02-12T17:10:00",
          "2009-02-12T17:20:00",
          "2009-02-12T17:30:00",
          "2009-02-12T17:40:00",
          "2009-02-12T17:50:00",
          "2009-02-12T18:00:00",
          "2009-02-12T18:10:00",
          "2009-02-12T18:20:00",
          "2009-02-12T18:30:00",
          "2009-02-12T18:40:00",
          "2009-02-12T18:50:00",
          "2009-02-12T19:00:00",
          "2009-02-12T19:10:00",
          "2009-02-12T19:20:00",
          "2009-02-12T19:30:00",
          "2009-02-12T19:40:00",
          "2009-02-12T19:50:00"
         ],
         "y": [
          4.13,
          4.380000091269613,
          6.630000078231097,
          6.130000104308129,
          6.000000257119538,
          6.000000257119538,
          6.380000404194,
          5.130000365078452,
          5.880000345520677,
          5.500000198446214,
          5.000000224523246,
          5.630000254251063,
          3.880000182539226,
          4.500000280067324,
          4.750000371336937,
          5.500000351779162,
          5.380000316314398,
          5.250000469125807,
          6.380000547617672,
          4.130000560656188,
          4.250000596120952,
          3.750000622197984,
          3.6300005867332197,
          3.5000007395446286,
          3.2500006482750154,
          2.7500006743520475,
          3.4003396614451593,
          3.4398257008641697,
          3.304296912112273,
          3.6885016897159333,
          2.7716667462246076,
          2.42729756172556,
          2.3653277955414374,
          2.4270666866479886,
          2.0065620235113806,
          2.464839432671733
         ]
        },
        {
         "mode": "lines",
         "name": "Model: wd (deg)",
         "type": "scatter",
         "x": [
          "2009-02-12T14:00:00",
          "2009-02-12T14:10:00",
          "2009-02-12T14:20:00",
          "2009-02-12T14:30:00",
          "2009-02-12T14:40:00",
          "2009-02-12T14:50:00",
          "2009-02-12T15:00:00",
          "2009-02-12T15:10:00",
          "2009-02-12T15:20:00",
          "2009-02-12T15:30:00",
          "2009-02-12T15:40:00",
          "2009-02-12T15:50:00",
          "2009-02-12T16:00:00",
          "2009-02-12T16:10:00",
          "2009-02-12T16:20:00",
          "2009-02-12T16:30:00",
          "2009-02-12T16:40:00",
          "2009-02-12T16:50:00",
          "2009-02-12T17:00:00",
          "2009-02-12T17:10:00",
          "2009-02-12T17:20:00",
          "2009-02-12T17:30:00",
          "2009-02-12T17:40:00",
          "2009-02-12T17:50:00",
          "2009-02-12T18:00:00",
          "2009-02-12T18:10:00",
          "2009-02-12T18:20:00",
          "2009-02-12T18:30:00",
          "2009-02-12T18:40:00",
          "2009-02-12T18:50:00",
          "2009-02-12T19:00:00",
          "2009-02-12T19:10:00",
          "2009-02-12T19:20:00",
          "2009-02-12T19:30:00",
          "2009-02-12T19:40:00",
          "2009-02-12T19:50:00"
         ],
         "y": [
          273.6,
          265.6999891780316,
          257.0000008866191,
          259.60000232189896,
          269.9999893981217,
          281.99998678207396,
          268.2000021362305,
          273.2000106394292,
          276.0000251069667,
          289.40002101808807,
          286.0000236257912,
          284.2000369897487,
          294.60002406597147,
          269.60001887977126,
          285.80001059353344,
          276.10001364141687,
          279.59999906226966,
          272.60000955566744,
          271.10000513821814,
          272.2999900072809,
          274.79998492643193,
          274.8999727776642,
          278.0999759799238,
          267.8999646061654,
          274.49996537804554,
          262.8999747678633,
          270.57219001829344,
          250.9253771449795,
          258.8456690539779,
          239.4910687312206,
          226.55773184852183,
          225.30731711764173,
          187.5097979387449,
          207.2810367344772,
          206.0772804843075,
          208.41692405352921
         ]
        },
        {
         "mode": "lines",
         "name": "Orig: p (mbar)",
         "type": "scatter",
         "x": [
          "2009-02-12T14:00:00",
          "2009-02-12T14:10:00",
          "2009-02-12T14:20:00",
          "2009-02-12T14:30:00",
          "2009-02-12T14:40:00",
          "2009-02-12T14:50:00",
          "2009-02-12T15:00:00",
          "2009-02-12T15:10:00",
          "2009-02-12T15:20:00",
          "2009-02-12T15:30:00",
          "2009-02-12T15:40:00",
          "2009-02-12T15:50:00",
          "2009-02-12T16:00:00",
          "2009-02-12T16:10:00",
          "2009-02-12T16:20:00",
          "2009-02-12T16:30:00",
          "2009-02-12T16:40:00",
          "2009-02-12T16:50:00",
          "2009-02-12T17:00:00",
          "2009-02-12T17:10:00",
          "2009-02-12T17:20:00",
          "2009-02-12T17:30:00",
          "2009-02-12T17:40:00",
          "2009-02-12T17:50:00",
          "2009-02-12T18:00:00",
          "2009-02-12T18:10:00",
          "2009-02-12T18:20:00",
          "2009-02-12T18:30:00",
          "2009-02-12T18:40:00",
          "2009-02-12T18:50:00",
          "2009-02-12T19:00:00",
          "2009-02-12T19:10:00",
          "2009-02-12T19:20:00",
          "2009-02-12T19:30:00",
          "2009-02-12T19:40:00",
          "2009-02-12T19:50:00"
         ],
         "y": [
          987.4,
          987.4,
          987.46,
          987.53,
          987.56,
          987.67,
          987.78,
          987.78,
          987.79,
          987.88,
          987.93,
          988,
          988.02,
          988.11,
          988.19,
          988.31,
          988.47,
          988.61,
          988.72,
          988.75,
          988.84,
          988.91,
          989.02,
          989.11,
          989.12,
          989.16,
          989.24,
          989.24,
          989.31,
          989.31,
          989.35,
          989.36,
          989.39,
          989.47,
          989.49,
          989.45
         ]
        },
        {
         "mode": "lines",
         "name": "Orig: T (degC)",
         "type": "scatter",
         "x": [
          "2009-02-12T14:00:00",
          "2009-02-12T14:10:00",
          "2009-02-12T14:20:00",
          "2009-02-12T14:30:00",
          "2009-02-12T14:40:00",
          "2009-02-12T14:50:00",
          "2009-02-12T15:00:00",
          "2009-02-12T15:10:00",
          "2009-02-12T15:20:00",
          "2009-02-12T15:30:00",
          "2009-02-12T15:40:00",
          "2009-02-12T15:50:00",
          "2009-02-12T16:00:00",
          "2009-02-12T16:10:00",
          "2009-02-12T16:20:00",
          "2009-02-12T16:30:00",
          "2009-02-12T16:40:00",
          "2009-02-12T16:50:00",
          "2009-02-12T17:00:00",
          "2009-02-12T17:10:00",
          "2009-02-12T17:20:00",
          "2009-02-12T17:30:00",
          "2009-02-12T17:40:00",
          "2009-02-12T17:50:00",
          "2009-02-12T18:00:00",
          "2009-02-12T18:10:00",
          "2009-02-12T18:20:00",
          "2009-02-12T18:30:00",
          "2009-02-12T18:40:00",
          "2009-02-12T18:50:00",
          "2009-02-12T19:00:00",
          "2009-02-12T19:10:00",
          "2009-02-12T19:20:00",
          "2009-02-12T19:30:00",
          "2009-02-12T19:40:00",
          "2009-02-12T19:50:00"
         ],
         "y": [
          0.75,
          0.3,
          0.06,
          0.34,
          0.84,
          1.34,
          1.44,
          0.78,
          0.39,
          1.06,
          1.03,
          0.42,
          -0.14,
          -0.4,
          -0.29,
          -0.35,
          -0.46,
          -0.74,
          -1.06,
          -1.39,
          -1.58,
          -1.71,
          -1.83,
          -1.93,
          -2.01,
          -2.12,
          -2.26,
          -2.35,
          -2.37,
          -2.37,
          -2.26,
          -2.07,
          -1.91,
          -1.84,
          -1.85,
          -1.97
         ]
        },
        {
         "mode": "lines",
         "name": "Orig: Tpot (K)",
         "type": "scatter",
         "x": [
          "2009-02-12T14:00:00",
          "2009-02-12T14:10:00",
          "2009-02-12T14:20:00",
          "2009-02-12T14:30:00",
          "2009-02-12T14:40:00",
          "2009-02-12T14:50:00",
          "2009-02-12T15:00:00",
          "2009-02-12T15:10:00",
          "2009-02-12T15:20:00",
          "2009-02-12T15:30:00",
          "2009-02-12T15:40:00",
          "2009-02-12T15:50:00",
          "2009-02-12T16:00:00",
          "2009-02-12T16:10:00",
          "2009-02-12T16:20:00",
          "2009-02-12T16:30:00",
          "2009-02-12T16:40:00",
          "2009-02-12T16:50:00",
          "2009-02-12T17:00:00",
          "2009-02-12T17:10:00",
          "2009-02-12T17:20:00",
          "2009-02-12T17:30:00",
          "2009-02-12T17:40:00",
          "2009-02-12T17:50:00",
          "2009-02-12T18:00:00",
          "2009-02-12T18:10:00",
          "2009-02-12T18:20:00",
          "2009-02-12T18:30:00",
          "2009-02-12T18:40:00",
          "2009-02-12T18:50:00",
          "2009-02-12T19:00:00",
          "2009-02-12T19:10:00",
          "2009-02-12T19:20:00",
          "2009-02-12T19:30:00",
          "2009-02-12T19:40:00",
          "2009-02-12T19:50:00"
         ],
         "y": [
          274.91,
          274.46,
          274.21,
          274.48,
          274.98,
          275.48,
          275.57,
          274.91,
          274.52,
          275.17,
          275.14,
          274.53,
          273.96,
          273.69,
          273.8,
          273.73,
          273.61,
          273.32,
          272.98,
          272.65,
          272.46,
          272.31,
          272.19,
          272.08,
          272,
          271.89,
          271.74,
          271.65,
          271.62,
          271.62,
          271.73,
          271.92,
          272.07,
          272.14,
          272.13,
          272.01
         ]
        },
        {
         "mode": "lines",
         "name": "Orig: Tdew (degC)",
         "type": "scatter",
         "x": [
          "2009-02-12T14:00:00",
          "2009-02-12T14:10:00",
          "2009-02-12T14:20:00",
          "2009-02-12T14:30:00",
          "2009-02-12T14:40:00",
          "2009-02-12T14:50:00",
          "2009-02-12T15:00:00",
          "2009-02-12T15:10:00",
          "2009-02-12T15:20:00",
          "2009-02-12T15:30:00",
          "2009-02-12T15:40:00",
          "2009-02-12T15:50:00",
          "2009-02-12T16:00:00",
          "2009-02-12T16:10:00",
          "2009-02-12T16:20:00",
          "2009-02-12T16:30:00",
          "2009-02-12T16:40:00",
          "2009-02-12T16:50:00",
          "2009-02-12T17:00:00",
          "2009-02-12T17:10:00",
          "2009-02-12T17:20:00",
          "2009-02-12T17:30:00",
          "2009-02-12T17:40:00",
          "2009-02-12T17:50:00",
          "2009-02-12T18:00:00",
          "2009-02-12T18:10:00",
          "2009-02-12T18:20:00",
          "2009-02-12T18:30:00",
          "2009-02-12T18:40:00",
          "2009-02-12T18:50:00",
          "2009-02-12T19:00:00",
          "2009-02-12T19:10:00",
          "2009-02-12T19:20:00",
          "2009-02-12T19:30:00",
          "2009-02-12T19:40:00",
          "2009-02-12T19:50:00"
         ],
         "y": [
          -5.92,
          -6.4,
          -6.34,
          -6.14,
          -5.88,
          -5.91,
          -5.82,
          -5.95,
          -5.95,
          -5.8,
          -5.98,
          -6.19,
          -6.18,
          -5.96,
          -5.71,
          -5.94,
          -6.24,
          -6.4,
          -6.53,
          -6.57,
          -6.6,
          -6.61,
          -6.59,
          -6.55,
          -6.55,
          -6.53,
          -6.49,
          -6.45,
          -6.47,
          -6.56,
          -6.54,
          -6.43,
          -6.35,
          -6.41,
          -6.44,
          -6.46
         ]
        },
        {
         "mode": "lines",
         "name": "Orig: rh (%)",
         "type": "scatter",
         "x": [
          "2009-02-12T14:00:00",
          "2009-02-12T14:10:00",
          "2009-02-12T14:20:00",
          "2009-02-12T14:30:00",
          "2009-02-12T14:40:00",
          "2009-02-12T14:50:00",
          "2009-02-12T15:00:00",
          "2009-02-12T15:10:00",
          "2009-02-12T15:20:00",
          "2009-02-12T15:30:00",
          "2009-02-12T15:40:00",
          "2009-02-12T15:50:00",
          "2009-02-12T16:00:00",
          "2009-02-12T16:10:00",
          "2009-02-12T16:20:00",
          "2009-02-12T16:30:00",
          "2009-02-12T16:40:00",
          "2009-02-12T16:50:00",
          "2009-02-12T17:00:00",
          "2009-02-12T17:10:00",
          "2009-02-12T17:20:00",
          "2009-02-12T17:30:00",
          "2009-02-12T17:40:00",
          "2009-02-12T17:50:00",
          "2009-02-12T18:00:00",
          "2009-02-12T18:10:00",
          "2009-02-12T18:20:00",
          "2009-02-12T18:30:00",
          "2009-02-12T18:40:00",
          "2009-02-12T18:50:00",
          "2009-02-12T19:00:00",
          "2009-02-12T19:10:00",
          "2009-02-12T19:20:00",
          "2009-02-12T19:30:00",
          "2009-02-12T19:40:00",
          "2009-02-12T19:50:00"
         ],
         "y": [
          60.78,
          60.52,
          61.89,
          61.6,
          60.62,
          58.27,
          58.31,
          60.52,
          62.24,
          60.02,
          59.31,
          60.99,
          63.61,
          65.89,
          66.64,
          65.75,
          64.81,
          65.32,
          66.2,
          67.65,
          68.4,
          69.08,
          69.78,
          70.5,
          70.9,
          71.6,
          72.6,
          73.3,
          73.3,
          72.8,
          72.3,
          71.9,
          71.5,
          70.8,
          70.7,
          71.2
         ]
        },
        {
         "mode": "lines",
         "name": "Orig: VPmax (mbar)",
         "type": "scatter",
         "x": [
          "2009-02-12T14:00:00",
          "2009-02-12T14:10:00",
          "2009-02-12T14:20:00",
          "2009-02-12T14:30:00",
          "2009-02-12T14:40:00",
          "2009-02-12T14:50:00",
          "2009-02-12T15:00:00",
          "2009-02-12T15:10:00",
          "2009-02-12T15:20:00",
          "2009-02-12T15:30:00",
          "2009-02-12T15:40:00",
          "2009-02-12T15:50:00",
          "2009-02-12T16:00:00",
          "2009-02-12T16:10:00",
          "2009-02-12T16:20:00",
          "2009-02-12T16:30:00",
          "2009-02-12T16:40:00",
          "2009-02-12T16:50:00",
          "2009-02-12T17:00:00",
          "2009-02-12T17:10:00",
          "2009-02-12T17:20:00",
          "2009-02-12T17:30:00",
          "2009-02-12T17:40:00",
          "2009-02-12T17:50:00",
          "2009-02-12T18:00:00",
          "2009-02-12T18:10:00",
          "2009-02-12T18:20:00",
          "2009-02-12T18:30:00",
          "2009-02-12T18:40:00",
          "2009-02-12T18:50:00",
          "2009-02-12T19:00:00",
          "2009-02-12T19:10:00",
          "2009-02-12T19:20:00",
          "2009-02-12T19:30:00",
          "2009-02-12T19:40:00",
          "2009-02-12T19:50:00"
         ],
         "y": [
          6.45,
          6.24,
          6.14,
          6.26,
          6.49,
          6.73,
          6.78,
          6.46,
          6.29,
          6.59,
          6.58,
          6.3,
          6.04,
          5.93,
          5.98,
          5.95,
          5.91,
          5.79,
          5.65,
          5.51,
          5.44,
          5.39,
          5.34,
          5.3,
          5.27,
          5.22,
          5.17,
          5.14,
          5.13,
          5.13,
          5.17,
          5.24,
          5.31,
          5.34,
          5.33,
          5.28
         ]
        },
        {
         "mode": "lines",
         "name": "Orig: VPact (mbar)",
         "type": "scatter",
         "x": [
          "2009-02-12T14:00:00",
          "2009-02-12T14:10:00",
          "2009-02-12T14:20:00",
          "2009-02-12T14:30:00",
          "2009-02-12T14:40:00",
          "2009-02-12T14:50:00",
          "2009-02-12T15:00:00",
          "2009-02-12T15:10:00",
          "2009-02-12T15:20:00",
          "2009-02-12T15:30:00",
          "2009-02-12T15:40:00",
          "2009-02-12T15:50:00",
          "2009-02-12T16:00:00",
          "2009-02-12T16:10:00",
          "2009-02-12T16:20:00",
          "2009-02-12T16:30:00",
          "2009-02-12T16:40:00",
          "2009-02-12T16:50:00",
          "2009-02-12T17:00:00",
          "2009-02-12T17:10:00",
          "2009-02-12T17:20:00",
          "2009-02-12T17:30:00",
          "2009-02-12T17:40:00",
          "2009-02-12T17:50:00",
          "2009-02-12T18:00:00",
          "2009-02-12T18:10:00",
          "2009-02-12T18:20:00",
          "2009-02-12T18:30:00",
          "2009-02-12T18:40:00",
          "2009-02-12T18:50:00",
          "2009-02-12T19:00:00",
          "2009-02-12T19:10:00",
          "2009-02-12T19:20:00",
          "2009-02-12T19:30:00",
          "2009-02-12T19:40:00",
          "2009-02-12T19:50:00"
         ],
         "y": [
          3.92,
          3.78,
          3.8,
          3.86,
          3.93,
          3.92,
          3.95,
          3.91,
          3.91,
          3.96,
          3.9,
          3.84,
          3.84,
          3.91,
          3.99,
          3.91,
          3.83,
          3.78,
          3.74,
          3.73,
          3.72,
          3.72,
          3.72,
          3.74,
          3.74,
          3.74,
          3.75,
          3.76,
          3.76,
          3.73,
          3.74,
          3.77,
          3.79,
          3.78,
          3.77,
          3.76
         ]
        },
        {
         "mode": "lines",
         "name": "Orig: VPdef (mbar)",
         "type": "scatter",
         "x": [
          "2009-02-12T14:00:00",
          "2009-02-12T14:10:00",
          "2009-02-12T14:20:00",
          "2009-02-12T14:30:00",
          "2009-02-12T14:40:00",
          "2009-02-12T14:50:00",
          "2009-02-12T15:00:00",
          "2009-02-12T15:10:00",
          "2009-02-12T15:20:00",
          "2009-02-12T15:30:00",
          "2009-02-12T15:40:00",
          "2009-02-12T15:50:00",
          "2009-02-12T16:00:00",
          "2009-02-12T16:10:00",
          "2009-02-12T16:20:00",
          "2009-02-12T16:30:00",
          "2009-02-12T16:40:00",
          "2009-02-12T16:50:00",
          "2009-02-12T17:00:00",
          "2009-02-12T17:10:00",
          "2009-02-12T17:20:00",
          "2009-02-12T17:30:00",
          "2009-02-12T17:40:00",
          "2009-02-12T17:50:00",
          "2009-02-12T18:00:00",
          "2009-02-12T18:10:00",
          "2009-02-12T18:20:00",
          "2009-02-12T18:30:00",
          "2009-02-12T18:40:00",
          "2009-02-12T18:50:00",
          "2009-02-12T19:00:00",
          "2009-02-12T19:10:00",
          "2009-02-12T19:20:00",
          "2009-02-12T19:30:00",
          "2009-02-12T19:40:00",
          "2009-02-12T19:50:00"
         ],
         "y": [
          2.53,
          2.47,
          2.34,
          2.4,
          2.56,
          2.81,
          2.83,
          2.55,
          2.37,
          2.64,
          2.68,
          2.46,
          2.2,
          2.02,
          2,
          2.04,
          2.08,
          2.01,
          1.91,
          1.78,
          1.72,
          1.67,
          1.61,
          1.56,
          1.53,
          1.48,
          1.42,
          1.37,
          1.37,
          1.39,
          1.43,
          1.47,
          1.51,
          1.56,
          1.56,
          1.52
         ]
        },
        {
         "mode": "lines",
         "name": "Orig: sh (g/kg)",
         "type": "scatter",
         "x": [
          "2009-02-12T14:00:00",
          "2009-02-12T14:10:00",
          "2009-02-12T14:20:00",
          "2009-02-12T14:30:00",
          "2009-02-12T14:40:00",
          "2009-02-12T14:50:00",
          "2009-02-12T15:00:00",
          "2009-02-12T15:10:00",
          "2009-02-12T15:20:00",
          "2009-02-12T15:30:00",
          "2009-02-12T15:40:00",
          "2009-02-12T15:50:00",
          "2009-02-12T16:00:00",
          "2009-02-12T16:10:00",
          "2009-02-12T16:20:00",
          "2009-02-12T16:30:00",
          "2009-02-12T16:40:00",
          "2009-02-12T16:50:00",
          "2009-02-12T17:00:00",
          "2009-02-12T17:10:00",
          "2009-02-12T17:20:00",
          "2009-02-12T17:30:00",
          "2009-02-12T17:40:00",
          "2009-02-12T17:50:00",
          "2009-02-12T18:00:00",
          "2009-02-12T18:10:00",
          "2009-02-12T18:20:00",
          "2009-02-12T18:30:00",
          "2009-02-12T18:40:00",
          "2009-02-12T18:50:00",
          "2009-02-12T19:00:00",
          "2009-02-12T19:10:00",
          "2009-02-12T19:20:00",
          "2009-02-12T19:30:00",
          "2009-02-12T19:40:00",
          "2009-02-12T19:50:00"
         ],
         "y": [
          2.47,
          2.38,
          2.4,
          2.43,
          2.48,
          2.47,
          2.49,
          2.47,
          2.47,
          2.5,
          2.46,
          2.42,
          2.42,
          2.46,
          2.51,
          2.47,
          2.41,
          2.38,
          2.36,
          2.35,
          2.34,
          2.34,
          2.35,
          2.35,
          2.35,
          2.36,
          2.36,
          2.37,
          2.37,
          2.35,
          2.35,
          2.37,
          2.39,
          2.38,
          2.37,
          2.37
         ]
        },
        {
         "mode": "lines",
         "name": "Orig: H2OC (mmol/mol)",
         "type": "scatter",
         "x": [
          "2009-02-12T14:00:00",
          "2009-02-12T14:10:00",
          "2009-02-12T14:20:00",
          "2009-02-12T14:30:00",
          "2009-02-12T14:40:00",
          "2009-02-12T14:50:00",
          "2009-02-12T15:00:00",
          "2009-02-12T15:10:00",
          "2009-02-12T15:20:00",
          "2009-02-12T15:30:00",
          "2009-02-12T15:40:00",
          "2009-02-12T15:50:00",
          "2009-02-12T16:00:00",
          "2009-02-12T16:10:00",
          "2009-02-12T16:20:00",
          "2009-02-12T16:30:00",
          "2009-02-12T16:40:00",
          "2009-02-12T16:50:00",
          "2009-02-12T17:00:00",
          "2009-02-12T17:10:00",
          "2009-02-12T17:20:00",
          "2009-02-12T17:30:00",
          "2009-02-12T17:40:00",
          "2009-02-12T17:50:00",
          "2009-02-12T18:00:00",
          "2009-02-12T18:10:00",
          "2009-02-12T18:20:00",
          "2009-02-12T18:30:00",
          "2009-02-12T18:40:00",
          "2009-02-12T18:50:00",
          "2009-02-12T19:00:00",
          "2009-02-12T19:10:00",
          "2009-02-12T19:20:00",
          "2009-02-12T19:30:00",
          "2009-02-12T19:40:00",
          "2009-02-12T19:50:00"
         ],
         "y": [
          3.97,
          3.83,
          3.85,
          3.91,
          3.98,
          3.97,
          4,
          3.96,
          3.96,
          4.01,
          3.95,
          3.89,
          3.89,
          3.96,
          4.03,
          3.96,
          3.87,
          3.82,
          3.78,
          3.77,
          3.76,
          3.76,
          3.77,
          3.78,
          3.78,
          3.78,
          3.79,
          3.81,
          3.8,
          3.77,
          3.78,
          3.81,
          3.83,
          3.82,
          3.81,
          3.8
         ]
        },
        {
         "mode": "lines",
         "name": "Orig: rho (g/m**3)",
         "type": "scatter",
         "x": [
          "2009-02-12T14:00:00",
          "2009-02-12T14:10:00",
          "2009-02-12T14:20:00",
          "2009-02-12T14:30:00",
          "2009-02-12T14:40:00",
          "2009-02-12T14:50:00",
          "2009-02-12T15:00:00",
          "2009-02-12T15:10:00",
          "2009-02-12T15:20:00",
          "2009-02-12T15:30:00",
          "2009-02-12T15:40:00",
          "2009-02-12T15:50:00",
          "2009-02-12T16:00:00",
          "2009-02-12T16:10:00",
          "2009-02-12T16:20:00",
          "2009-02-12T16:30:00",
          "2009-02-12T16:40:00",
          "2009-02-12T16:50:00",
          "2009-02-12T17:00:00",
          "2009-02-12T17:10:00",
          "2009-02-12T17:20:00",
          "2009-02-12T17:30:00",
          "2009-02-12T17:40:00",
          "2009-02-12T17:50:00",
          "2009-02-12T18:00:00",
          "2009-02-12T18:10:00",
          "2009-02-12T18:20:00",
          "2009-02-12T18:30:00",
          "2009-02-12T18:40:00",
          "2009-02-12T18:50:00",
          "2009-02-12T19:00:00",
          "2009-02-12T19:10:00",
          "2009-02-12T19:20:00",
          "2009-02-12T19:30:00",
          "2009-02-12T19:40:00",
          "2009-02-12T19:50:00"
         ],
         "y": [
          1253.9,
          1256.01,
          1257.2,
          1255.97,
          1253.7,
          1251.53,
          1251.22,
          1254.25,
          1256.04,
          1253.09,
          1253.31,
          1256.21,
          1258.83,
          1260.1,
          1259.65,
          1260.12,
          1260.87,
          1262.35,
          1264.03,
          1265.61,
          1266.59,
          1267.32,
          1268.01,
          1268.59,
          1268.94,
          1269.53,
          1270.3,
          1270.71,
          1270.9,
          1270.9,
          1270.41,
          1269.55,
          1268.83,
          1268.59,
          1268.68,
          1269.2
         ]
        },
        {
         "mode": "lines",
         "name": "Orig: wv (m/s)",
         "type": "scatter",
         "x": [
          "2009-02-12T14:00:00",
          "2009-02-12T14:10:00",
          "2009-02-12T14:20:00",
          "2009-02-12T14:30:00",
          "2009-02-12T14:40:00",
          "2009-02-12T14:50:00",
          "2009-02-12T15:00:00",
          "2009-02-12T15:10:00",
          "2009-02-12T15:20:00",
          "2009-02-12T15:30:00",
          "2009-02-12T15:40:00",
          "2009-02-12T15:50:00",
          "2009-02-12T16:00:00",
          "2009-02-12T16:10:00",
          "2009-02-12T16:20:00",
          "2009-02-12T16:30:00",
          "2009-02-12T16:40:00",
          "2009-02-12T16:50:00",
          "2009-02-12T17:00:00",
          "2009-02-12T17:10:00",
          "2009-02-12T17:20:00",
          "2009-02-12T17:30:00",
          "2009-02-12T17:40:00",
          "2009-02-12T17:50:00",
          "2009-02-12T18:00:00",
          "2009-02-12T18:10:00",
          "2009-02-12T18:20:00",
          "2009-02-12T18:30:00",
          "2009-02-12T18:40:00",
          "2009-02-12T18:50:00",
          "2009-02-12T19:00:00",
          "2009-02-12T19:10:00",
          "2009-02-12T19:20:00",
          "2009-02-12T19:30:00",
          "2009-02-12T19:40:00",
          "2009-02-12T19:50:00"
         ],
         "y": [
          1.97,
          2.74,
          2.67,
          3.06,
          2.54,
          3.03,
          3.44,
          3.08,
          2.9,
          2.46,
          2.83,
          2.96,
          2.34,
          2.05,
          2.68,
          2.73,
          2.89,
          2.6,
          2.79,
          1.92,
          1.67,
          1.82,
          1.79,
          1.67,
          1.82,
          1.6,
          1.82,
          1.84,
          1.88,
          2.07,
          1.7,
          1.26,
          1.03,
          1.2,
          1.41,
          2.33
         ]
        },
        {
         "mode": "lines",
         "name": "Orig: max. wv (m/s)",
         "type": "scatter",
         "x": [
          "2009-02-12T14:00:00",
          "2009-02-12T14:10:00",
          "2009-02-12T14:20:00",
          "2009-02-12T14:30:00",
          "2009-02-12T14:40:00",
          "2009-02-12T14:50:00",
          "2009-02-12T15:00:00",
          "2009-02-12T15:10:00",
          "2009-02-12T15:20:00",
          "2009-02-12T15:30:00",
          "2009-02-12T15:40:00",
          "2009-02-12T15:50:00",
          "2009-02-12T16:00:00",
          "2009-02-12T16:10:00",
          "2009-02-12T16:20:00",
          "2009-02-12T16:30:00",
          "2009-02-12T16:40:00",
          "2009-02-12T16:50:00",
          "2009-02-12T17:00:00",
          "2009-02-12T17:10:00",
          "2009-02-12T17:20:00",
          "2009-02-12T17:30:00",
          "2009-02-12T17:40:00",
          "2009-02-12T17:50:00",
          "2009-02-12T18:00:00",
          "2009-02-12T18:10:00",
          "2009-02-12T18:20:00",
          "2009-02-12T18:30:00",
          "2009-02-12T18:40:00",
          "2009-02-12T18:50:00",
          "2009-02-12T19:00:00",
          "2009-02-12T19:10:00",
          "2009-02-12T19:20:00",
          "2009-02-12T19:30:00",
          "2009-02-12T19:40:00",
          "2009-02-12T19:50:00"
         ],
         "y": [
          4.13,
          4.38,
          6.63,
          6.13,
          6,
          6,
          6.38,
          5.13,
          5.88,
          5.5,
          5,
          5.63,
          3.88,
          4.5,
          4.75,
          5.5,
          5.38,
          5.25,
          6.38,
          4.13,
          4.25,
          3.75,
          3.63,
          3.5,
          3.25,
          2.75,
          3.25,
          2.88,
          3.13,
          2.75,
          3,
          2.13,
          2,
          1.88,
          2.88,
          3.63
         ]
        },
        {
         "mode": "lines",
         "name": "Orig: wd (deg)",
         "type": "scatter",
         "x": [
          "2009-02-12T14:00:00",
          "2009-02-12T14:10:00",
          "2009-02-12T14:20:00",
          "2009-02-12T14:30:00",
          "2009-02-12T14:40:00",
          "2009-02-12T14:50:00",
          "2009-02-12T15:00:00",
          "2009-02-12T15:10:00",
          "2009-02-12T15:20:00",
          "2009-02-12T15:30:00",
          "2009-02-12T15:40:00",
          "2009-02-12T15:50:00",
          "2009-02-12T16:00:00",
          "2009-02-12T16:10:00",
          "2009-02-12T16:20:00",
          "2009-02-12T16:30:00",
          "2009-02-12T16:40:00",
          "2009-02-12T16:50:00",
          "2009-02-12T17:00:00",
          "2009-02-12T17:10:00",
          "2009-02-12T17:20:00",
          "2009-02-12T17:30:00",
          "2009-02-12T17:40:00",
          "2009-02-12T17:50:00",
          "2009-02-12T18:00:00",
          "2009-02-12T18:10:00",
          "2009-02-12T18:20:00",
          "2009-02-12T18:30:00",
          "2009-02-12T18:40:00",
          "2009-02-12T18:50:00",
          "2009-02-12T19:00:00",
          "2009-02-12T19:10:00",
          "2009-02-12T19:20:00",
          "2009-02-12T19:30:00",
          "2009-02-12T19:40:00",
          "2009-02-12T19:50:00"
         ],
         "y": [
          273.6,
          265.7,
          257,
          259.6,
          270,
          282,
          268.2,
          273.2,
          276,
          289.4,
          286,
          284.2,
          294.6,
          269.6,
          285.8,
          276.1,
          279.6,
          272.6,
          271.1,
          272.3,
          274.8,
          274.9,
          278.1,
          267.9,
          274.5,
          262.9,
          265.5,
          258.4,
          258.1,
          253,
          254.1,
          258,
          269.7,
          257.8,
          265.2,
          260.1
         ]
        }
       ],
       "layout": {
        "hovermode": "x unified",
        "legend": {
         "title": {
          "text": "Legend"
         }
        },
        "template": {
         "data": {
          "bar": [
           {
            "error_x": {
             "color": "#2a3f5f"
            },
            "error_y": {
             "color": "#2a3f5f"
            },
            "marker": {
             "line": {
              "color": "#E5ECF6",
              "width": 0.5
             },
             "pattern": {
              "fillmode": "overlay",
              "size": 10,
              "solidity": 0.2
             }
            },
            "type": "bar"
           }
          ],
          "barpolar": [
           {
            "marker": {
             "line": {
              "color": "#E5ECF6",
              "width": 0.5
             },
             "pattern": {
              "fillmode": "overlay",
              "size": 10,
              "solidity": 0.2
             }
            },
            "type": "barpolar"
           }
          ],
          "carpet": [
           {
            "aaxis": {
             "endlinecolor": "#2a3f5f",
             "gridcolor": "white",
             "linecolor": "white",
             "minorgridcolor": "white",
             "startlinecolor": "#2a3f5f"
            },
            "baxis": {
             "endlinecolor": "#2a3f5f",
             "gridcolor": "white",
             "linecolor": "white",
             "minorgridcolor": "white",
             "startlinecolor": "#2a3f5f"
            },
            "type": "carpet"
           }
          ],
          "choropleth": [
           {
            "colorbar": {
             "outlinewidth": 0,
             "ticks": ""
            },
            "type": "choropleth"
           }
          ],
          "contour": [
           {
            "colorbar": {
             "outlinewidth": 0,
             "ticks": ""
            },
            "colorscale": [
             [
              0,
              "#0d0887"
             ],
             [
              0.1111111111111111,
              "#46039f"
             ],
             [
              0.2222222222222222,
              "#7201a8"
             ],
             [
              0.3333333333333333,
              "#9c179e"
             ],
             [
              0.4444444444444444,
              "#bd3786"
             ],
             [
              0.5555555555555556,
              "#d8576b"
             ],
             [
              0.6666666666666666,
              "#ed7953"
             ],
             [
              0.7777777777777778,
              "#fb9f3a"
             ],
             [
              0.8888888888888888,
              "#fdca26"
             ],
             [
              1,
              "#f0f921"
             ]
            ],
            "type": "contour"
           }
          ],
          "contourcarpet": [
           {
            "colorbar": {
             "outlinewidth": 0,
             "ticks": ""
            },
            "type": "contourcarpet"
           }
          ],
          "heatmap": [
           {
            "colorbar": {
             "outlinewidth": 0,
             "ticks": ""
            },
            "colorscale": [
             [
              0,
              "#0d0887"
             ],
             [
              0.1111111111111111,
              "#46039f"
             ],
             [
              0.2222222222222222,
              "#7201a8"
             ],
             [
              0.3333333333333333,
              "#9c179e"
             ],
             [
              0.4444444444444444,
              "#bd3786"
             ],
             [
              0.5555555555555556,
              "#d8576b"
             ],
             [
              0.6666666666666666,
              "#ed7953"
             ],
             [
              0.7777777777777778,
              "#fb9f3a"
             ],
             [
              0.8888888888888888,
              "#fdca26"
             ],
             [
              1,
              "#f0f921"
             ]
            ],
            "type": "heatmap"
           }
          ],
          "heatmapgl": [
           {
            "colorbar": {
             "outlinewidth": 0,
             "ticks": ""
            },
            "colorscale": [
             [
              0,
              "#0d0887"
             ],
             [
              0.1111111111111111,
              "#46039f"
             ],
             [
              0.2222222222222222,
              "#7201a8"
             ],
             [
              0.3333333333333333,
              "#9c179e"
             ],
             [
              0.4444444444444444,
              "#bd3786"
             ],
             [
              0.5555555555555556,
              "#d8576b"
             ],
             [
              0.6666666666666666,
              "#ed7953"
             ],
             [
              0.7777777777777778,
              "#fb9f3a"
             ],
             [
              0.8888888888888888,
              "#fdca26"
             ],
             [
              1,
              "#f0f921"
             ]
            ],
            "type": "heatmapgl"
           }
          ],
          "histogram": [
           {
            "marker": {
             "pattern": {
              "fillmode": "overlay",
              "size": 10,
              "solidity": 0.2
             }
            },
            "type": "histogram"
           }
          ],
          "histogram2d": [
           {
            "colorbar": {
             "outlinewidth": 0,
             "ticks": ""
            },
            "colorscale": [
             [
              0,
              "#0d0887"
             ],
             [
              0.1111111111111111,
              "#46039f"
             ],
             [
              0.2222222222222222,
              "#7201a8"
             ],
             [
              0.3333333333333333,
              "#9c179e"
             ],
             [
              0.4444444444444444,
              "#bd3786"
             ],
             [
              0.5555555555555556,
              "#d8576b"
             ],
             [
              0.6666666666666666,
              "#ed7953"
             ],
             [
              0.7777777777777778,
              "#fb9f3a"
             ],
             [
              0.8888888888888888,
              "#fdca26"
             ],
             [
              1,
              "#f0f921"
             ]
            ],
            "type": "histogram2d"
           }
          ],
          "histogram2dcontour": [
           {
            "colorbar": {
             "outlinewidth": 0,
             "ticks": ""
            },
            "colorscale": [
             [
              0,
              "#0d0887"
             ],
             [
              0.1111111111111111,
              "#46039f"
             ],
             [
              0.2222222222222222,
              "#7201a8"
             ],
             [
              0.3333333333333333,
              "#9c179e"
             ],
             [
              0.4444444444444444,
              "#bd3786"
             ],
             [
              0.5555555555555556,
              "#d8576b"
             ],
             [
              0.6666666666666666,
              "#ed7953"
             ],
             [
              0.7777777777777778,
              "#fb9f3a"
             ],
             [
              0.8888888888888888,
              "#fdca26"
             ],
             [
              1,
              "#f0f921"
             ]
            ],
            "type": "histogram2dcontour"
           }
          ],
          "mesh3d": [
           {
            "colorbar": {
             "outlinewidth": 0,
             "ticks": ""
            },
            "type": "mesh3d"
           }
          ],
          "parcoords": [
           {
            "line": {
             "colorbar": {
              "outlinewidth": 0,
              "ticks": ""
             }
            },
            "type": "parcoords"
           }
          ],
          "pie": [
           {
            "automargin": true,
            "type": "pie"
           }
          ],
          "scatter": [
           {
            "fillpattern": {
             "fillmode": "overlay",
             "size": 10,
             "solidity": 0.2
            },
            "type": "scatter"
           }
          ],
          "scatter3d": [
           {
            "line": {
             "colorbar": {
              "outlinewidth": 0,
              "ticks": ""
             }
            },
            "marker": {
             "colorbar": {
              "outlinewidth": 0,
              "ticks": ""
             }
            },
            "type": "scatter3d"
           }
          ],
          "scattercarpet": [
           {
            "marker": {
             "colorbar": {
              "outlinewidth": 0,
              "ticks": ""
             }
            },
            "type": "scattercarpet"
           }
          ],
          "scattergeo": [
           {
            "marker": {
             "colorbar": {
              "outlinewidth": 0,
              "ticks": ""
             }
            },
            "type": "scattergeo"
           }
          ],
          "scattergl": [
           {
            "marker": {
             "colorbar": {
              "outlinewidth": 0,
              "ticks": ""
             }
            },
            "type": "scattergl"
           }
          ],
          "scattermapbox": [
           {
            "marker": {
             "colorbar": {
              "outlinewidth": 0,
              "ticks": ""
             }
            },
            "type": "scattermapbox"
           }
          ],
          "scatterpolar": [
           {
            "marker": {
             "colorbar": {
              "outlinewidth": 0,
              "ticks": ""
             }
            },
            "type": "scatterpolar"
           }
          ],
          "scatterpolargl": [
           {
            "marker": {
             "colorbar": {
              "outlinewidth": 0,
              "ticks": ""
             }
            },
            "type": "scatterpolargl"
           }
          ],
          "scatterternary": [
           {
            "marker": {
             "colorbar": {
              "outlinewidth": 0,
              "ticks": ""
             }
            },
            "type": "scatterternary"
           }
          ],
          "surface": [
           {
            "colorbar": {
             "outlinewidth": 0,
             "ticks": ""
            },
            "colorscale": [
             [
              0,
              "#0d0887"
             ],
             [
              0.1111111111111111,
              "#46039f"
             ],
             [
              0.2222222222222222,
              "#7201a8"
             ],
             [
              0.3333333333333333,
              "#9c179e"
             ],
             [
              0.4444444444444444,
              "#bd3786"
             ],
             [
              0.5555555555555556,
              "#d8576b"
             ],
             [
              0.6666666666666666,
              "#ed7953"
             ],
             [
              0.7777777777777778,
              "#fb9f3a"
             ],
             [
              0.8888888888888888,
              "#fdca26"
             ],
             [
              1,
              "#f0f921"
             ]
            ],
            "type": "surface"
           }
          ],
          "table": [
           {
            "cells": {
             "fill": {
              "color": "#EBF0F8"
             },
             "line": {
              "color": "white"
             }
            },
            "header": {
             "fill": {
              "color": "#C8D4E3"
             },
             "line": {
              "color": "white"
             }
            },
            "type": "table"
           }
          ]
         },
         "layout": {
          "annotationdefaults": {
           "arrowcolor": "#2a3f5f",
           "arrowhead": 0,
           "arrowwidth": 1
          },
          "autotypenumbers": "strict",
          "coloraxis": {
           "colorbar": {
            "outlinewidth": 0,
            "ticks": ""
           }
          },
          "colorscale": {
           "diverging": [
            [
             0,
             "#8e0152"
            ],
            [
             0.1,
             "#c51b7d"
            ],
            [
             0.2,
             "#de77ae"
            ],
            [
             0.3,
             "#f1b6da"
            ],
            [
             0.4,
             "#fde0ef"
            ],
            [
             0.5,
             "#f7f7f7"
            ],
            [
             0.6,
             "#e6f5d0"
            ],
            [
             0.7,
             "#b8e186"
            ],
            [
             0.8,
             "#7fbc41"
            ],
            [
             0.9,
             "#4d9221"
            ],
            [
             1,
             "#276419"
            ]
           ],
           "sequential": [
            [
             0,
             "#0d0887"
            ],
            [
             0.1111111111111111,
             "#46039f"
            ],
            [
             0.2222222222222222,
             "#7201a8"
            ],
            [
             0.3333333333333333,
             "#9c179e"
            ],
            [
             0.4444444444444444,
             "#bd3786"
            ],
            [
             0.5555555555555556,
             "#d8576b"
            ],
            [
             0.6666666666666666,
             "#ed7953"
            ],
            [
             0.7777777777777778,
             "#fb9f3a"
            ],
            [
             0.8888888888888888,
             "#fdca26"
            ],
            [
             1,
             "#f0f921"
            ]
           ],
           "sequentialminus": [
            [
             0,
             "#0d0887"
            ],
            [
             0.1111111111111111,
             "#46039f"
            ],
            [
             0.2222222222222222,
             "#7201a8"
            ],
            [
             0.3333333333333333,
             "#9c179e"
            ],
            [
             0.4444444444444444,
             "#bd3786"
            ],
            [
             0.5555555555555556,
             "#d8576b"
            ],
            [
             0.6666666666666666,
             "#ed7953"
            ],
            [
             0.7777777777777778,
             "#fb9f3a"
            ],
            [
             0.8888888888888888,
             "#fdca26"
            ],
            [
             1,
             "#f0f921"
            ]
           ]
          },
          "colorway": [
           "#636efa",
           "#EF553B",
           "#00cc96",
           "#ab63fa",
           "#FFA15A",
           "#19d3f3",
           "#FF6692",
           "#B6E880",
           "#FF97FF",
           "#FECB52"
          ],
          "font": {
           "color": "#2a3f5f"
          },
          "geo": {
           "bgcolor": "white",
           "lakecolor": "white",
           "landcolor": "#E5ECF6",
           "showlakes": true,
           "showland": true,
           "subunitcolor": "white"
          },
          "hoverlabel": {
           "align": "left"
          },
          "hovermode": "closest",
          "mapbox": {
           "style": "light"
          },
          "paper_bgcolor": "white",
          "plot_bgcolor": "#E5ECF6",
          "polar": {
           "angularaxis": {
            "gridcolor": "white",
            "linecolor": "white",
            "ticks": ""
           },
           "bgcolor": "#E5ECF6",
           "radialaxis": {
            "gridcolor": "white",
            "linecolor": "white",
            "ticks": ""
           }
          },
          "scene": {
           "xaxis": {
            "backgroundcolor": "#E5ECF6",
            "gridcolor": "white",
            "gridwidth": 2,
            "linecolor": "white",
            "showbackground": true,
            "ticks": "",
            "zerolinecolor": "white"
           },
           "yaxis": {
            "backgroundcolor": "#E5ECF6",
            "gridcolor": "white",
            "gridwidth": 2,
            "linecolor": "white",
            "showbackground": true,
            "ticks": "",
            "zerolinecolor": "white"
           },
           "zaxis": {
            "backgroundcolor": "#E5ECF6",
            "gridcolor": "white",
            "gridwidth": 2,
            "linecolor": "white",
            "showbackground": true,
            "ticks": "",
            "zerolinecolor": "white"
           }
          },
          "shapedefaults": {
           "line": {
            "color": "#2a3f5f"
           }
          },
          "ternary": {
           "aaxis": {
            "gridcolor": "white",
            "linecolor": "white",
            "ticks": ""
           },
           "baxis": {
            "gridcolor": "white",
            "linecolor": "white",
            "ticks": ""
           },
           "bgcolor": "#E5ECF6",
           "caxis": {
            "gridcolor": "white",
            "linecolor": "white",
            "ticks": ""
           }
          },
          "title": {
           "x": 0.05
          },
          "xaxis": {
           "automargin": true,
           "gridcolor": "white",
           "linecolor": "white",
           "ticks": "",
           "title": {
            "standoff": 15
           },
           "zerolinecolor": "white",
           "zerolinewidth": 2
          },
          "yaxis": {
           "automargin": true,
           "gridcolor": "white",
           "linecolor": "white",
           "ticks": "",
           "title": {
            "standoff": 15
           },
           "zerolinecolor": "white",
           "zerolinewidth": 2
          }
         }
        },
        "title": {
         "text": "Model Denormalized Testing"
        },
        "xaxis": {
         "title": {
          "text": "Date"
         }
        },
        "yaxis": {
         "title": {
          "text": "Value"
         }
        }
       }
      }
     },
     "metadata": {},
     "output_type": "display_data"
    }
   ],
   "source": [
    "# We should be able to take any slice of the coilnormed timeseries and reproduce\n",
    "start_index = 6131\n",
    "length = 36\n",
    "end_index = start_index + length\n",
    "df_test_slice = df_test.iloc[start_index:end_index,:]\n",
    "coilnormed_df_test_slice = coilnormer.normalize(df_test_slice, fit_change=False)\n",
    "initial_value_slice = df_test.iloc[start_index,:]\n",
    "\n",
    "# Generate and segment the time series\n",
    "series = coilnormed_df_test_slice.values\n",
    "\n",
    "series_x = series[:-1,]\n",
    "\n",
    "# Convert to tensors\n",
    "segments_tensor_x = torch.tensor(series_x, dtype=torch.float).unsqueeze(0)\n",
    "\n",
    "# Prepare inputs and targets\n",
    "X = segments_tensor_x.to(\"cuda\")\n",
    "\n",
    "\n",
    "states = []\n",
    "# Select the batch we want to make predictions for\n",
    "batch = 0\n",
    "\n",
    "# After what step do we want the coil to start making its own predictions?\n",
    "prediction_step = 24\n",
    "\n",
    "# Grab starting state tensor\n",
    "state_tensor = X[:,0,:]\n",
    "\n",
    "# How many steps do we want to run the coil overall?\n",
    "max_steps = length - 1\n",
    "\n",
    "states.append(state_tensor[batch,:])\n",
    "batch_size = X.shape[0]\n",
    "transition_tensor = torch.softmax(torch.zeros(batch_size, n_features, n_features), dim = 1).to(\"cuda\")\n",
    "for step_state in range(1,max_steps):\n",
    "    state_tensor, transition_tensor = model.step_coil(state_tensor, transition_tensor)\n",
    "    if step_state <= prediction_step:\n",
    "        state_tensor = X[:,step_state,:]\n",
    "    states.append(state_tensor[batch,:])\n",
    "    \n",
    "# Move state dynamics to CPU\n",
    "data = [row.to('cpu').detach().numpy() for row in states]\n",
    "\n",
    "for index, dat_in in enumerate(data):\n",
    "    coilnormed_df_test_slice.iloc[index,:] = dat_in\n",
    "    \n",
    "denormed_slice = coilnormer.denormalize(coilnormed_df_test_slice, initial_value_slice)\n",
    "\n",
    "\n",
    "# Sample data creation\n",
    "df1 = denormed_slice\n",
    "df2 = df_test_slice\n",
    "\n",
    "# Plotting\n",
    "fig = go.Figure()\n",
    "\n",
    "# Add traces for the first dataframe\n",
    "for column in df1.columns:\n",
    "    fig.add_trace(go.Scatter(x=df2.index, y=df1[column], mode='lines', name=f'Model: {column}'))\n",
    "\n",
    "# Add traces for the second dataframe\n",
    "for column in df2.columns:\n",
    "    fig.add_trace(go.Scatter(x=df2.index, y=df2[column], mode='lines', name=f'Orig: {column}'))\n",
    "\n",
    "# Update layout\n",
    "fig.update_layout(title='Model Denormalized Testing',\n",
    "                  xaxis_title='Date',\n",
    "                  yaxis_title='Value',\n",
    "                  legend_title='Legend',\n",
    "                  hovermode='x unified')\n",
    "\n",
    "# Show the plot\n",
    "fig.show()\n"
   ]
  }
 ],
 "metadata": {
  "kernelspec": {
   "display_name": "coilspy-1sgZ1XBf-py3.12",
   "language": "python",
   "name": "python3"
  },
  "language_info": {
   "codemirror_mode": {
    "name": "ipython",
    "version": 3
   },
   "file_extension": ".py",
   "mimetype": "text/x-python",
   "name": "python",
   "nbconvert_exporter": "python",
   "pygments_lexer": "ipython3",
   "version": "3.12.2"
  }
 },
 "nbformat": 4,
 "nbformat_minor": 2
}
