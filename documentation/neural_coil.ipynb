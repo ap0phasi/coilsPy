{
 "cells": [
  {
   "cell_type": "markdown",
   "metadata": {},
   "source": [
    "# Formulation of Real-Valued Coil as Neural Network Layer\n",
    "\n",
    "Having established how coils are capable of producing interesting system dynamics in the form of flows of probability and demonstrating how any system dynamics can be expressed as a flow of probabilities using coil normalization, a natural next step is attempting to model real system dynamics with coils. \n",
    "\n",
    "We find that coils can be translated into Recurrent Neural Networks, as will be shown in this section. This was inspired by [Mamba's] handling of state spaces using RNNs / CNNs, though there is no direct code overlap. "
   ]
  },
  {
   "cell_type": "code",
   "execution_count": 1,
   "metadata": {},
   "outputs": [],
   "source": [
    "import pandas as pd\n",
    "import numpy as np\n",
    "import torch"
   ]
  },
  {
   "cell_type": "markdown",
   "metadata": {},
   "source": [
    "We will begin with loading and coil normalizing our timeseries data as we did in the coil normalization section:"
   ]
  },
  {
   "cell_type": "code",
   "execution_count": 2,
   "metadata": {},
   "outputs": [],
   "source": [
    "# Load in csv\n",
    "df = pd.read_csv(r\"../data/jena_climate_2009_2016.csv\",\n",
    "                parse_dates=['Date Time'],\n",
    "                index_col=['Date Time'])\n",
    "df.index = pd.to_datetime(df.index, format='%d.%m.%Y %H:%M:%S')\n",
    "\n",
    "# Select certain columns\n",
    "#df = df[['p (mbar)', 'T (degC)', 'rh (%)', 'VPmax (mbar)', 'sh (g/kg)', 'H2OC (mmol/mol)', 'rho (g/m**3)', 'wv (m/s)']]\n",
    "\n",
    "# Save data frame\n",
    "df_orig = df.copy()\n",
    "# For these tests we will just use a small slice of the dataset\n",
    "df = df.iloc[:3000,:]"
   ]
  },
  {
   "cell_type": "code",
   "execution_count": 3,
   "metadata": {},
   "outputs": [],
   "source": [
    "# Instantiate CoilNormalizer\n",
    "from coilspy.normalization import CoilNormalizer\n",
    "\n",
    "coilnormer = CoilNormalizer()\n",
    "\n",
    "coilnormed_df = coilnormer.normalize(df)"
   ]
  },
  {
   "cell_type": "markdown",
   "metadata": {},
   "source": [
    "## Segmentation of Timeseries\n",
    "For training a neural coil, we will want to segment our timeseries into tensors of size $[batch\\;size, segment\\;length, number\\;of\\; features]$. This will allow us to train a neural network (in this case just a single *neural coil* layer) to produce predictions for all features at the next step in time, for all steps in our sequence. \n",
    "\n",
    "In creating our segments, we have the option of whether or not our segments should have any overlap. The follow helper function can be used to segment timeseries to a given length and overlap. "
   ]
  },
  {
   "cell_type": "code",
   "execution_count": 4,
   "metadata": {},
   "outputs": [],
   "source": [
    "def segment_time_series(series, length, overlap=None):\n",
    "    \"\"\"\n",
    "    Segment a time series into overlapping or non-overlapping segments.\n",
    "\n",
    "    Parameters:\n",
    "    - series (np.ndarray): Input time series array of shape [total_length, n_features].\n",
    "    - length (int): Length of each segment.\n",
    "    - overlap (bool): Whether to create overlapping segments. Default is False.\n",
    "\n",
    "    Returns:\n",
    "    - np.ndarray: Array of segments.\n",
    "    \"\"\"\n",
    "    total_length, n_features = series.shape\n",
    "    segments = []\n",
    "    \n",
    "    if overlap is None:\n",
    "        step = length  # Non-overlapping segments with step size equal to segment length\n",
    "    else:\n",
    "        step = overlap  # If overlap, use value\n",
    "\n",
    "    for start in range(0, total_length - length + 1, step):\n",
    "        segment = series[start:start + length]\n",
    "        segments.append(segment)\n",
    "    \n",
    "    return np.stack(segments)"
   ]
  },
  {
   "cell_type": "markdown",
   "metadata": {},
   "source": [
    "We can apply this function to our timeseries to get our segments, however first we should create a timeseries that is offset by 1 to use as the outputs we wish to produce. "
   ]
  },
  {
   "cell_type": "code",
   "execution_count": 5,
   "metadata": {},
   "outputs": [],
   "source": [
    "# Generate and segment the time series\n",
    "series = coilnormed_df.values\n",
    "length = 36\n",
    "\n",
    "series_x = series[:-1,]\n",
    "series_y = series[1:,]"
   ]
  },
  {
   "cell_type": "markdown",
   "metadata": {},
   "source": [
    "When we segment this timeseries, we will have a collection of input sequences and output sequences. "
   ]
  },
  {
   "cell_type": "code",
   "execution_count": 6,
   "metadata": {},
   "outputs": [
    {
     "name": "stdout",
     "output_type": "stream",
     "text": [
      "Available Batches:  83\n"
     ]
    }
   ],
   "source": [
    "segments_x = segment_time_series(series_x, length, overlap=None)\n",
    "segments_y = segment_time_series(series_y, length, overlap=None)\n",
    "\n",
    "# Convert to tensors\n",
    "segments_tensor_x = torch.tensor(segments_x, dtype=torch.float)\n",
    "segments_tensor_y = torch.tensor(segments_y, dtype=torch.float)\n",
    "\n",
    "# Prepare inputs and targets\n",
    "X = segments_tensor_x.to(\"cuda\")\n",
    "# Shift segments to the right by one timestep to create the targets\n",
    "Y =  segments_tensor_y.to(\"cuda\")\n",
    "\n",
    "# Get number of features and batch size\n",
    "n_features = X.shape[2]\n",
    "batch_size = X.shape[0]\n",
    "\n",
    "print(\"Available Batches: \", batch_size)"
   ]
  },
  {
   "cell_type": "markdown",
   "metadata": {},
   "source": [
    "## Neural Coil Formulation\n",
    "\n",
    "Now we must consider the formulation of the neural coil layer itself. We find that we can use a very similar formulation as what is used for generation of complex-valued flows of probability, with some key differences:\n",
    "1. All parameters will be real-valued\n",
    "2. We can relax our earlier contraint that $\\sum\\limits_{i=1}^{N}\\mathbf{M}_{ijk} = 1$ as this would restrict our training. We can instead simply renormalize our selected transition tensor $\\mathbf{A}$ such that $\\sum\\limits_{i=1}^{N}\\mathbf{A}_{ij}(t + \\Delta t) = 1$\n",
    "\n",
    "Aside from these relaxations, the process of selecting transition tensors and stepping through the coil will be identical to those used before.\n",
    "\n",
    "For the initialization, the only trainable parameters will be those in the interaction tensor. It should be noted that this lack of hidden layers and parameters gives neural coil layers improved interpretability - every parameter can be interpreted such as \"The probability of transitioning from B to A given a transition from C to D at the last timestep\". For simplicity, we will initialize the transition tensor at all 0. "
   ]
  },
  {
   "cell_type": "code",
   "execution_count": 7,
   "metadata": {},
   "outputs": [],
   "source": [
    "import torch\n",
    "import torch.nn as nn\n",
    "import torch.nn.functional as F\n",
    "\n",
    "class NeuralCoilLayer(nn.Module):\n",
    "    def __init__(self, n_features, n_batch, sel_temp = 1e-3, norm_temp = 7, device = \"cpu\"):\n",
    "        super(NeuralCoilLayer, self).__init__()\n",
    "        self.interaction_tensors = nn.Parameter(torch.rand(n_features, n_features, n_features, n_features + 1))\n",
    "        self.sel_temp = sel_temp\n",
    "        self.norm_temp = norm_temp\n",
    "        \n",
    "        starting_tensor = torch.softmax(torch.zeros(n_batch, n_features, n_features), dim = 1)\n",
    "        if device == \"cuda\":\n",
    "            self.starting_transition_tensor = starting_tensor.to(\"cuda\")\n",
    "        else:\n",
    "            self.starting_transition_tensor = starting_tensor\n",
    "            \n",
    "    def select_transition_tensor(self, state_tensor,transition_tensor, interaction_tensor, sel_temperature):\n",
    "        # Combine state and transition tensors into a norm_subgroups tensor\n",
    "        norm_subgroups = torch.cat((state_tensor.unsqueeze(-1), transition_tensor), dim=2)\n",
    "        \n",
    "        # Get candidate transition tensors:\n",
    "        candidate_transition_tensors = (torch.mul(interaction_tensor, norm_subgroups.unsqueeze(1).unsqueeze(1))).sum(-2) # [batches, states, states, states + 1]\n",
    "        \n",
    "        # Determine the largest and smallest states\n",
    "        high_magnitude = torch.softmax(((state_tensor) / sel_temperature), dim = 1)\n",
    "        low_magnitude = torch.softmax(1 - ((state_tensor) / sel_temperature), dim = 1)\n",
    "        \n",
    "        # Find which transition corresponds to moving from the highest state to the lowest state, and focus on that:\n",
    "        transition_focus_slices = (torch.mul(torch.mul(candidate_transition_tensors, high_magnitude.unsqueeze(2).unsqueeze(1)), low_magnitude.unsqueeze(2).unsqueeze(2)))\n",
    "        \n",
    "        # Determine the selection weights by which slice is the highest in the focus transition\n",
    "        selection_weights = torch.softmax(transition_focus_slices.sum(2).sum(1) / sel_temperature, dim = 1)\n",
    "        \n",
    "        # Perform weighted averaging\n",
    "        selected_transition_tensor = torch.mul(candidate_transition_tensors, selection_weights.unsqueeze(1).unsqueeze(1)).sum(-1)\n",
    "        \n",
    "        return selected_transition_tensor\n",
    "        \n",
    "    def step_coil(self, state_tensor, transition_tensor):\n",
    "        \n",
    "        selected_transition_tensor = self.select_transition_tensor(state_tensor, transition_tensor, self.interaction_tensors, sel_temperature= self.sel_temp)\n",
    "        \n",
    "        selected_transition_tensor = torch.softmax(selected_transition_tensor * self.norm_temp, dim =1)\n",
    "        \n",
    "        new_state_tensor = torch.mul(selected_transition_tensor, state_tensor.unsqueeze(1)).sum(dim = -1)\n",
    "        \n",
    "\n",
    "        return new_state_tensor, selected_transition_tensor\n",
    "\n",
    "\n",
    "    def forward(self, x):\n",
    "        batch, length, n_features = x.size()\n",
    "        output = x.new_empty(batch, length, n_features)\n",
    "\n",
    "        # Initialize previous transition tensors (for the first step)\n",
    "        # Assuming it's a list of zero tensors for simplicity\n",
    "        transition_tensor = self.starting_transition_tensor\n",
    "\n",
    "        for l in range(length):\n",
    "            state_tensor = x[:, l, :]\n",
    "            \n",
    "            # Compute output for this step\n",
    "            output[:, l, :], transition_tensor = self.step_coil(state_tensor, transition_tensor)\n",
    "\n",
    "        return output, transition_tensor"
   ]
  },
  {
   "cell_type": "markdown",
   "metadata": {},
   "source": [
    "In the ```forward``` pass of the neural coil layer, the transition tensor will start at 0, and the initial state will be taken from the first entry of the input sequence. This state and transition tensor will be passed into the coil step, which will output a new state and transition tensor. The new state is saved as the layer output, and the process is repeated, using the next state in the input sequence and the previously generated transition tensor. This is repeated for the length of the sequence.\n",
    "\n",
    "This procedure is used during training, where otherwise the ```step_coil``` function can be used autoregressively, passing the previously generated state and transition tensors into the coil step to produce new ones, allowing for perpetuated generation of probability flows. While this can be done from the very first timestep, as transition tensors start at 0, we show how it can be beneficial to \"wind up\" coils, loading in known states for a number of steps to burn in the transition tensor before letting the coils generate autoregressively. "
   ]
  },
  {
   "cell_type": "markdown",
   "metadata": {},
   "source": [
    "## Neural Coil Training\n",
    "\n",
    "Note that we have not performed any train / test splits for the data. That is because we will use a separate sequence of the original timeseries data for testing the trained coils autoregressively.\n",
    "\n"
   ]
  },
  {
   "cell_type": "markdown",
   "metadata": {},
   "source": [
    "We will use a ```DataLoader``` for handling our training timeseries"
   ]
  },
  {
   "cell_type": "code",
   "execution_count": 8,
   "metadata": {},
   "outputs": [],
   "source": [
    "from torch.utils.data import DataLoader, TensorDataset\n",
    "from torch import optim\n",
    "\n",
    "# Data loading\n",
    "dataset = TensorDataset(X, Y)\n",
    "batch_size = 10\n",
    "dataloader = DataLoader(dataset, batch_size=batch_size, shuffle=True, drop_last=True)"
   ]
  },
  {
   "cell_type": "markdown",
   "metadata": {},
   "source": [
    "We can initialize a model that consists of a single neural coil layer. Note that neural coil layers can stack together and with other neural network layers, which will be demonstrated separately. "
   ]
  },
  {
   "cell_type": "code",
   "execution_count": 9,
   "metadata": {},
   "outputs": [],
   "source": [
    "# Single Coil\n",
    "model = NeuralCoilLayer(\n",
    "    n_features = n_features,\n",
    "    n_batch = batch_size,\n",
    "    device=\"cuda\"\n",
    ").to(\"cuda\")"
   ]
  },
  {
   "cell_type": "markdown",
   "metadata": {},
   "source": [
    "We will use the following training procedure, letting the optimizer run for a very long time to determine the best training result. While typically this should be expected to produce a overfit model it will be interesting to see how close coils can match system dynamics. "
   ]
  },
  {
   "cell_type": "code",
   "execution_count": 10,
   "metadata": {},
   "outputs": [],
   "source": [
    "epochs = 3000\n",
    "\n",
    "# Hyperparameters\n",
    "lr = 5e-3  # Initial learning rate\n",
    "weight_decay = 0.1\n",
    "\n",
    "# Optimizer\n",
    "optimizer = optim.AdamW(model.parameters(), lr=lr, weight_decay=weight_decay)\n"
   ]
  },
  {
   "cell_type": "code",
   "execution_count": 11,
   "metadata": {},
   "outputs": [
    {
     "name": "stdout",
     "output_type": "stream",
     "text": [
      "Epoch [10/3000], Loss: 3.5206750908400863e-05\n",
      "Epoch [20/3000], Loss: 2.2361318769981153e-05\n",
      "Epoch [30/3000], Loss: 2.6876285119215026e-05\n",
      "Epoch [40/3000], Loss: 1.971589881577529e-05\n",
      "Epoch [50/3000], Loss: 1.8713511963142082e-05\n",
      "Epoch [60/3000], Loss: 2.4211911295424215e-05\n",
      "Epoch [70/3000], Loss: 1.4536228263750672e-05\n",
      "Epoch [80/3000], Loss: 1.8514861949370243e-05\n",
      "Epoch [90/3000], Loss: 2.765654062386602e-05\n",
      "Epoch [100/3000], Loss: 1.8028624253929593e-05\n",
      "Epoch [110/3000], Loss: 2.015966128965374e-05\n",
      "Epoch [120/3000], Loss: 1.4516161172650754e-05\n",
      "Epoch [130/3000], Loss: 1.714676727715414e-05\n",
      "Epoch [140/3000], Loss: 2.1920122890151106e-05\n",
      "Epoch [150/3000], Loss: 2.189523002016358e-05\n",
      "Epoch [160/3000], Loss: 2.1727935745730065e-05\n",
      "Epoch [170/3000], Loss: 1.9041561245103367e-05\n",
      "Epoch [180/3000], Loss: 1.857761526480317e-05\n",
      "Epoch [190/3000], Loss: 1.5232404621201567e-05\n",
      "Epoch [200/3000], Loss: 1.7159480194095522e-05\n",
      "Epoch [210/3000], Loss: 1.787843939382583e-05\n",
      "Epoch [220/3000], Loss: 1.4866501260257792e-05\n",
      "Epoch [230/3000], Loss: 1.663446528255008e-05\n",
      "Epoch [240/3000], Loss: 1.67601065186318e-05\n",
      "Epoch [250/3000], Loss: 1.3298369594849646e-05\n",
      "Epoch [260/3000], Loss: 1.341396364296088e-05\n",
      "Epoch [270/3000], Loss: 1.7816355466493405e-05\n",
      "Epoch [280/3000], Loss: 1.6944277376751415e-05\n",
      "Epoch [290/3000], Loss: 1.4981013009673916e-05\n",
      "Epoch [300/3000], Loss: 1.6589237930020317e-05\n",
      "Epoch [310/3000], Loss: 1.616159534023609e-05\n",
      "Epoch [320/3000], Loss: 1.6171830793609843e-05\n",
      "Epoch [330/3000], Loss: 1.8081904272548854e-05\n",
      "Epoch [340/3000], Loss: 1.384760980727151e-05\n",
      "Epoch [350/3000], Loss: 1.512444214313291e-05\n",
      "Epoch [360/3000], Loss: 1.6754220268921927e-05\n",
      "Epoch [370/3000], Loss: 1.4759420082555152e-05\n",
      "Epoch [380/3000], Loss: 1.6886633602553047e-05\n",
      "Epoch [390/3000], Loss: 1.580063508299645e-05\n",
      "Epoch [400/3000], Loss: 1.2483443242672365e-05\n",
      "Epoch [410/3000], Loss: 1.3531712284020614e-05\n",
      "Epoch [420/3000], Loss: 1.4290686522144824e-05\n",
      "Epoch [430/3000], Loss: 1.1240436833759304e-05\n",
      "Epoch [440/3000], Loss: 1.2730765774904285e-05\n",
      "Epoch [450/3000], Loss: 1.1267036825302057e-05\n",
      "Epoch [460/3000], Loss: 1.3294325071910862e-05\n",
      "Epoch [470/3000], Loss: 1.2696415979007725e-05\n",
      "Epoch [480/3000], Loss: 1.4918506167305168e-05\n",
      "Epoch [490/3000], Loss: 1.3510076314560138e-05\n",
      "Epoch [500/3000], Loss: 1.3684021723747719e-05\n",
      "Epoch [510/3000], Loss: 1.2190009329060558e-05\n",
      "Epoch [520/3000], Loss: 1.121804780268576e-05\n",
      "Epoch [530/3000], Loss: 1.0192450645263307e-05\n",
      "Epoch [540/3000], Loss: 1.0415422366349958e-05\n",
      "Epoch [550/3000], Loss: 1.4451582501351368e-05\n",
      "Epoch [560/3000], Loss: 1.180077924800571e-05\n",
      "Epoch [570/3000], Loss: 1.3450897313305177e-05\n",
      "Epoch [580/3000], Loss: 9.010909707285464e-06\n",
      "Epoch [590/3000], Loss: 1.1183725291630253e-05\n",
      "Epoch [600/3000], Loss: 1.0660635780368466e-05\n",
      "Epoch [610/3000], Loss: 1.1561185601749457e-05\n",
      "Epoch [620/3000], Loss: 1.0164862942474429e-05\n",
      "Epoch [630/3000], Loss: 1.094594244932523e-05\n",
      "Epoch [640/3000], Loss: 1.105134106182959e-05\n",
      "Epoch [650/3000], Loss: 1.0783199286379386e-05\n",
      "Epoch [660/3000], Loss: 1.1855188859044574e-05\n",
      "Epoch [670/3000], Loss: 1.009303468890721e-05\n",
      "Epoch [680/3000], Loss: 9.71598728938261e-06\n",
      "Epoch [690/3000], Loss: 1.1489472854009364e-05\n",
      "Epoch [700/3000], Loss: 1.2433265510480851e-05\n",
      "Epoch [710/3000], Loss: 7.635338988620788e-06\n",
      "Epoch [720/3000], Loss: 8.358433660760056e-06\n",
      "Epoch [730/3000], Loss: 7.657376045244746e-06\n",
      "Epoch [740/3000], Loss: 1.0692913747334387e-05\n",
      "Epoch [750/3000], Loss: 1.012921075016493e-05\n",
      "Epoch [760/3000], Loss: 9.032670277520083e-06\n",
      "Epoch [770/3000], Loss: 1.1282041668891907e-05\n",
      "Epoch [780/3000], Loss: 1.0677570571715478e-05\n",
      "Epoch [790/3000], Loss: 9.449038770981133e-06\n",
      "Epoch [800/3000], Loss: 1.2521315511548892e-05\n",
      "Epoch [810/3000], Loss: 1.1651865861495025e-05\n",
      "Epoch [820/3000], Loss: 1.0754750292107929e-05\n",
      "Epoch [830/3000], Loss: 1.1088545761595014e-05\n",
      "Epoch [840/3000], Loss: 1.1708401871146634e-05\n",
      "Epoch [850/3000], Loss: 1.0837345143954735e-05\n",
      "Epoch [860/3000], Loss: 9.542415682517458e-06\n",
      "Epoch [870/3000], Loss: 9.537930054648314e-06\n",
      "Epoch [880/3000], Loss: 1.0273421139572747e-05\n",
      "Epoch [890/3000], Loss: 7.655402441741899e-06\n",
      "Epoch [900/3000], Loss: 1.2431955838110298e-05\n",
      "Epoch [910/3000], Loss: 9.146206139121205e-06\n",
      "Epoch [920/3000], Loss: 1.0274167834722903e-05\n",
      "Epoch [930/3000], Loss: 9.013828275783453e-06\n",
      "Epoch [940/3000], Loss: 8.206809980038088e-06\n",
      "Epoch [950/3000], Loss: 7.996562999323942e-06\n",
      "Epoch [960/3000], Loss: 9.318046068074182e-06\n",
      "Epoch [970/3000], Loss: 6.880251930851955e-06\n",
      "Epoch [980/3000], Loss: 1.13199484985671e-05\n",
      "Epoch [990/3000], Loss: 1.1016850294254255e-05\n",
      "Epoch [1000/3000], Loss: 9.073724868358113e-06\n",
      "Epoch [1010/3000], Loss: 8.204448931792285e-06\n",
      "Epoch [1020/3000], Loss: 8.225681085605174e-06\n",
      "Epoch [1030/3000], Loss: 9.434931598661933e-06\n",
      "Epoch [1040/3000], Loss: 1.0530130566621665e-05\n",
      "Epoch [1050/3000], Loss: 1.1447763426986057e-05\n",
      "Epoch [1060/3000], Loss: 1.0270658094668761e-05\n",
      "Epoch [1070/3000], Loss: 9.0589437604649e-06\n",
      "Epoch [1080/3000], Loss: 6.583036793017527e-06\n",
      "Epoch [1090/3000], Loss: 1.0437668606755324e-05\n",
      "Epoch [1100/3000], Loss: 6.490314717666479e-06\n",
      "Epoch [1110/3000], Loss: 7.098627065715846e-06\n",
      "Epoch [1120/3000], Loss: 8.559326488466468e-06\n",
      "Epoch [1130/3000], Loss: 8.678390258864965e-06\n",
      "Epoch [1140/3000], Loss: 7.923366865725257e-06\n",
      "Epoch [1150/3000], Loss: 8.376006007893011e-06\n",
      "Epoch [1160/3000], Loss: 7.127726803446421e-06\n",
      "Epoch [1170/3000], Loss: 8.605664334027097e-06\n",
      "Epoch [1180/3000], Loss: 7.47522062738426e-06\n",
      "Epoch [1190/3000], Loss: 7.6518635978573e-06\n",
      "Epoch [1200/3000], Loss: 7.338152499869466e-06\n",
      "Epoch [1210/3000], Loss: 8.312818863487337e-06\n",
      "Epoch [1220/3000], Loss: 7.800622370268684e-06\n",
      "Epoch [1230/3000], Loss: 6.690328973490978e-06\n",
      "Epoch [1240/3000], Loss: 8.869242265063804e-06\n",
      "Epoch [1250/3000], Loss: 7.32553007765091e-06\n",
      "Epoch [1260/3000], Loss: 7.0756473178335e-06\n",
      "Epoch [1270/3000], Loss: 6.921082331245998e-06\n",
      "Epoch [1280/3000], Loss: 6.3825450524745975e-06\n",
      "Epoch [1290/3000], Loss: 6.462935289164307e-06\n",
      "Epoch [1300/3000], Loss: 5.437810159492074e-06\n",
      "Epoch [1310/3000], Loss: 7.284632374648936e-06\n",
      "Epoch [1320/3000], Loss: 7.691868631809484e-06\n",
      "Epoch [1330/3000], Loss: 7.161035682656802e-06\n",
      "Epoch [1340/3000], Loss: 6.8791682679147925e-06\n",
      "Epoch [1350/3000], Loss: 5.684968073182972e-06\n",
      "Epoch [1360/3000], Loss: 7.22892355042859e-06\n",
      "Epoch [1370/3000], Loss: 5.486813734023599e-06\n",
      "Epoch [1380/3000], Loss: 6.499162282125326e-06\n",
      "Epoch [1390/3000], Loss: 8.10716301202774e-06\n",
      "Epoch [1400/3000], Loss: 6.505626060970826e-06\n",
      "Epoch [1410/3000], Loss: 6.1183218349469826e-06\n",
      "Epoch [1420/3000], Loss: 5.914349912927719e-06\n",
      "Epoch [1430/3000], Loss: 6.997694981691893e-06\n",
      "Epoch [1440/3000], Loss: 8.44459736981662e-06\n",
      "Epoch [1450/3000], Loss: 6.6830880314228125e-06\n",
      "Epoch [1460/3000], Loss: 6.131001100584399e-06\n",
      "Epoch [1470/3000], Loss: 6.24411086391774e-06\n",
      "Epoch [1480/3000], Loss: 7.262389772222377e-06\n",
      "Epoch [1490/3000], Loss: 6.3460083765676245e-06\n",
      "Epoch [1500/3000], Loss: 7.083749096636893e-06\n",
      "Epoch [1510/3000], Loss: 7.451697001670254e-06\n",
      "Epoch [1520/3000], Loss: 5.937632977293106e-06\n",
      "Epoch [1530/3000], Loss: 6.244314135983586e-06\n",
      "Epoch [1540/3000], Loss: 4.709946551884059e-06\n",
      "Epoch [1550/3000], Loss: 5.4371498663385864e-06\n",
      "Epoch [1560/3000], Loss: 5.742295797972474e-06\n",
      "Epoch [1570/3000], Loss: 7.600135631946614e-06\n",
      "Epoch [1580/3000], Loss: 7.400681170111056e-06\n",
      "Epoch [1590/3000], Loss: 6.124083938630065e-06\n",
      "Epoch [1600/3000], Loss: 5.777885689894902e-06\n",
      "Epoch [1610/3000], Loss: 6.3020502238941845e-06\n",
      "Epoch [1620/3000], Loss: 5.298082669469295e-06\n",
      "Epoch [1630/3000], Loss: 6.234267402760452e-06\n",
      "Epoch [1640/3000], Loss: 6.150720309960889e-06\n",
      "Epoch [1650/3000], Loss: 5.586090082942974e-06\n",
      "Epoch [1660/3000], Loss: 6.753538400516845e-06\n",
      "Epoch [1670/3000], Loss: 5.316260740073631e-06\n",
      "Epoch [1680/3000], Loss: 5.676749879057752e-06\n",
      "Epoch [1690/3000], Loss: 7.076241672621109e-06\n",
      "Epoch [1700/3000], Loss: 6.748852683813311e-06\n",
      "Epoch [1710/3000], Loss: 5.54801408725325e-06\n",
      "Epoch [1720/3000], Loss: 5.423750280897366e-06\n",
      "Epoch [1730/3000], Loss: 5.960497674095677e-06\n",
      "Epoch [1740/3000], Loss: 6.1828595789847896e-06\n",
      "Epoch [1750/3000], Loss: 5.312981102179037e-06\n",
      "Epoch [1760/3000], Loss: 6.372263669618405e-06\n",
      "Epoch [1770/3000], Loss: 5.791759122075746e-06\n",
      "Epoch [1780/3000], Loss: 4.847851869271835e-06\n",
      "Epoch [1790/3000], Loss: 5.534685897146119e-06\n",
      "Epoch [1800/3000], Loss: 5.370762210077373e-06\n",
      "Epoch [1810/3000], Loss: 4.19145271735033e-06\n",
      "Epoch [1820/3000], Loss: 5.430142209661426e-06\n",
      "Epoch [1830/3000], Loss: 5.26336589246057e-06\n",
      "Epoch [1840/3000], Loss: 6.96244569553528e-06\n",
      "Epoch [1850/3000], Loss: 5.064845936431084e-06\n",
      "Epoch [1860/3000], Loss: 5.459932708617998e-06\n",
      "Epoch [1870/3000], Loss: 5.1331057875358965e-06\n",
      "Epoch [1880/3000], Loss: 4.991389232600341e-06\n",
      "Epoch [1890/3000], Loss: 5.059038358012913e-06\n",
      "Epoch [1900/3000], Loss: 6.67449921820662e-06\n",
      "Epoch [1910/3000], Loss: 5.197509381105192e-06\n",
      "Epoch [1920/3000], Loss: 4.749500021716813e-06\n",
      "Epoch [1930/3000], Loss: 4.995644758309936e-06\n",
      "Epoch [1940/3000], Loss: 5.519021215150133e-06\n",
      "Epoch [1950/3000], Loss: 4.175053163635312e-06\n",
      "Epoch [1960/3000], Loss: 5.4466422625409905e-06\n",
      "Epoch [1970/3000], Loss: 6.870895958854817e-06\n",
      "Epoch [1980/3000], Loss: 5.429601060313871e-06\n",
      "Epoch [1990/3000], Loss: 5.3360313359007705e-06\n",
      "Epoch [2000/3000], Loss: 5.401860107667744e-06\n",
      "Epoch [2010/3000], Loss: 4.550281119009014e-06\n",
      "Epoch [2020/3000], Loss: 5.539275207411265e-06\n",
      "Epoch [2030/3000], Loss: 5.783618235000176e-06\n",
      "Epoch [2040/3000], Loss: 5.42283942195354e-06\n",
      "Epoch [2050/3000], Loss: 4.9803588808572385e-06\n",
      "Epoch [2060/3000], Loss: 4.204407559882384e-06\n",
      "Epoch [2070/3000], Loss: 4.224451004120056e-06\n",
      "Epoch [2080/3000], Loss: 5.012293968320591e-06\n",
      "Epoch [2090/3000], Loss: 5.13570830662502e-06\n",
      "Epoch [2100/3000], Loss: 4.569394604914123e-06\n",
      "Epoch [2110/3000], Loss: 4.86137150801369e-06\n",
      "Epoch [2120/3000], Loss: 4.184223143965937e-06\n",
      "Epoch [2130/3000], Loss: 4.63808737549698e-06\n",
      "Epoch [2140/3000], Loss: 5.010025233787019e-06\n",
      "Epoch [2150/3000], Loss: 5.231165232544299e-06\n",
      "Epoch [2160/3000], Loss: 5.69504209124716e-06\n",
      "Epoch [2170/3000], Loss: 5.523339495994151e-06\n",
      "Epoch [2180/3000], Loss: 5.057571797806304e-06\n",
      "Epoch [2190/3000], Loss: 4.9534232857695315e-06\n",
      "Epoch [2200/3000], Loss: 5.894983132748166e-06\n",
      "Epoch [2210/3000], Loss: 4.773967702931259e-06\n",
      "Epoch [2220/3000], Loss: 5.891502951271832e-06\n",
      "Epoch [2230/3000], Loss: 4.4523058022605255e-06\n",
      "Epoch [2240/3000], Loss: 4.714000169769861e-06\n",
      "Epoch [2250/3000], Loss: 4.804324362339685e-06\n",
      "Epoch [2260/3000], Loss: 5.101883743918734e-06\n",
      "Epoch [2270/3000], Loss: 5.568232609221013e-06\n",
      "Epoch [2280/3000], Loss: 4.840018391405465e-06\n",
      "Epoch [2290/3000], Loss: 4.625327164831106e-06\n",
      "Epoch [2300/3000], Loss: 4.0162185541703366e-06\n",
      "Epoch [2310/3000], Loss: 5.095888809591997e-06\n",
      "Epoch [2320/3000], Loss: 4.2415981624799315e-06\n",
      "Epoch [2330/3000], Loss: 5.666869583365042e-06\n",
      "Epoch [2340/3000], Loss: 5.506122306542238e-06\n",
      "Epoch [2350/3000], Loss: 8.1896823758143e-06\n",
      "Epoch [2360/3000], Loss: 4.8611768761475105e-06\n",
      "Epoch [2370/3000], Loss: 6.816278983023949e-06\n",
      "Epoch [2380/3000], Loss: 4.4834114305558614e-06\n",
      "Epoch [2390/3000], Loss: 4.225994871376315e-06\n",
      "Epoch [2400/3000], Loss: 4.939435257256264e-06\n",
      "Epoch [2410/3000], Loss: 4.710194843937643e-06\n",
      "Epoch [2420/3000], Loss: 6.5507301769685e-06\n",
      "Epoch [2430/3000], Loss: 4.766389793076087e-06\n",
      "Epoch [2440/3000], Loss: 4.8779788812680636e-06\n",
      "Epoch [2450/3000], Loss: 4.9168265832122415e-06\n",
      "Epoch [2460/3000], Loss: 3.7544186852755956e-06\n",
      "Epoch [2470/3000], Loss: 4.938490292261122e-06\n",
      "Epoch [2480/3000], Loss: 3.825138264801353e-06\n",
      "Epoch [2490/3000], Loss: 5.156042789167259e-06\n",
      "Epoch [2500/3000], Loss: 4.9885220505530015e-06\n",
      "Epoch [2510/3000], Loss: 5.077708010503557e-06\n",
      "Epoch [2520/3000], Loss: 4.122865448152879e-06\n",
      "Epoch [2530/3000], Loss: 4.889677711616969e-06\n",
      "Epoch [2540/3000], Loss: 4.920288120047189e-06\n",
      "Epoch [2550/3000], Loss: 4.455935595615301e-06\n",
      "Epoch [2560/3000], Loss: 4.485957106226124e-06\n",
      "Epoch [2570/3000], Loss: 5.305734248395311e-06\n",
      "Epoch [2580/3000], Loss: 3.920557446690509e-06\n",
      "Epoch [2590/3000], Loss: 5.2084101298532914e-06\n",
      "Epoch [2600/3000], Loss: 3.972598733525956e-06\n",
      "Epoch [2610/3000], Loss: 5.026903636462521e-06\n",
      "Epoch [2620/3000], Loss: 3.7793838600919116e-06\n",
      "Epoch [2630/3000], Loss: 4.2685619519033935e-06\n",
      "Epoch [2640/3000], Loss: 4.114640887564747e-06\n",
      "Epoch [2650/3000], Loss: 5.619899638986681e-06\n",
      "Epoch [2660/3000], Loss: 4.38468578067841e-06\n",
      "Epoch [2670/3000], Loss: 4.145910224906402e-06\n",
      "Epoch [2680/3000], Loss: 3.8770622268202715e-06\n",
      "Epoch [2690/3000], Loss: 3.556544697858044e-06\n",
      "Epoch [2700/3000], Loss: 6.654240223724628e-06\n",
      "Epoch [2710/3000], Loss: 5.534914635063615e-06\n",
      "Epoch [2720/3000], Loss: 4.052209988003597e-06\n",
      "Epoch [2730/3000], Loss: 4.3492850636539515e-06\n",
      "Epoch [2740/3000], Loss: 5.749940555688227e-06\n",
      "Epoch [2750/3000], Loss: 5.383355528465472e-06\n",
      "Epoch [2760/3000], Loss: 4.684566647483734e-06\n",
      "Epoch [2770/3000], Loss: 4.541609087027609e-06\n",
      "Epoch [2780/3000], Loss: 3.6936883134330856e-06\n",
      "Epoch [2790/3000], Loss: 4.745490514324047e-06\n",
      "Epoch [2800/3000], Loss: 4.179899406153709e-06\n",
      "Epoch [2810/3000], Loss: 3.494965312711429e-06\n",
      "Epoch [2820/3000], Loss: 4.241167516738642e-06\n",
      "Epoch [2830/3000], Loss: 4.770297891809605e-06\n",
      "Epoch [2840/3000], Loss: 4.809021447726991e-06\n",
      "Epoch [2850/3000], Loss: 4.4879734559799545e-06\n",
      "Epoch [2860/3000], Loss: 5.29843418917153e-06\n",
      "Epoch [2870/3000], Loss: 4.016608727397397e-06\n",
      "Epoch [2880/3000], Loss: 3.9566280065628234e-06\n",
      "Epoch [2890/3000], Loss: 4.2093911361007486e-06\n",
      "Epoch [2900/3000], Loss: 4.0615232137497514e-06\n",
      "Epoch [2910/3000], Loss: 3.764814664464211e-06\n",
      "Epoch [2920/3000], Loss: 4.870320026384434e-06\n",
      "Epoch [2930/3000], Loss: 5.4316265050147194e-06\n",
      "Epoch [2940/3000], Loss: 3.8105386011011433e-06\n",
      "Epoch [2950/3000], Loss: 4.331916898081545e-06\n",
      "Epoch [2960/3000], Loss: 4.201842330076033e-06\n",
      "Epoch [2970/3000], Loss: 4.031496246170718e-06\n",
      "Epoch [2980/3000], Loss: 4.578201696858741e-06\n",
      "Epoch [2990/3000], Loss: 4.04035654355539e-06\n",
      "Epoch [3000/3000], Loss: 4.283359430701239e-06\n"
     ]
    }
   ],
   "source": [
    "# Loss and optimizer\n",
    "criterion = nn.MSELoss()\n",
    "#optimizer = optim.Adam(model.parameters(), lr=0.005)\n",
    "\n",
    "# Training loop\n",
    "best_loss = float('inf')\n",
    "best_model_state = None\n",
    "\n",
    "for epoch in range(epochs):\n",
    "    model.train()\n",
    "    for batch_X, batch_Y in dataloader:\n",
    "        optimizer.zero_grad()\n",
    "        # Forward pass\n",
    "        outputs, _ = model(batch_X)\n",
    "        loss = criterion(outputs, batch_Y)\n",
    "\n",
    "        # Backward and optimize\n",
    "        loss.backward()\n",
    "        \n",
    "        optimizer.step()\n",
    "    \n",
    "        \n",
    "    # Save the best model\n",
    "    if loss.item() < best_loss:\n",
    "        best_loss = loss.item()\n",
    "        best_model_state = model.state_dict()\n",
    "\n",
    "    if (epoch + 1) % 10 == 0:\n",
    "        print(f'Epoch [{epoch+1}/{epochs}], Loss: {loss.item()}')"
   ]
  },
  {
   "cell_type": "markdown",
   "metadata": {},
   "source": [
    "We will load the best training state to make all these epochs worth it:"
   ]
  },
  {
   "cell_type": "code",
   "execution_count": 12,
   "metadata": {},
   "outputs": [
    {
     "name": "stdout",
     "output_type": "stream",
     "text": [
      "Best model loaded with loss: 3.031301730516134e-06\n"
     ]
    }
   ],
   "source": [
    "# Load the best model state after training\n",
    "model.load_state_dict(best_model_state)\n",
    "print(\"Best model loaded with loss:\", best_loss)"
   ]
  },
  {
   "cell_type": "markdown",
   "metadata": {},
   "source": [
    "## Coil Training Input to Output Review\n",
    "\n",
    "With the coil finally trained, we can investigate how well it has accomplished the original task of producing an outputs for each step of an input sequence. Recall that for this check we are not generating autoregressively, instead for each step in the sequence the coil is re-grounded with a known input. "
   ]
  },
  {
   "cell_type": "code",
   "execution_count": 21,
   "metadata": {},
   "outputs": [
    {
     "data": {
      "application/vnd.plotly.v1+json": {
       "config": {
        "plotlyServerURL": "https://plot.ly"
       },
       "data": [
        {
         "mode": "lines",
         "name": "Model Output",
         "type": "scatter",
         "x": [
          0,
          1,
          2,
          3,
          4,
          5,
          6,
          7,
          8,
          9,
          10,
          11,
          12,
          13,
          14,
          15,
          16,
          17,
          18,
          19,
          20,
          21,
          22,
          23,
          24,
          25,
          26,
          27,
          28,
          29,
          30,
          31,
          32,
          33,
          34,
          35
         ],
         "y": [
          0.038101676851511,
          0.03921595215797424,
          0.04020823910832405,
          0.037073731422424316,
          0.03920365869998932,
          0.038612984120845795,
          0.04105015844106674,
          0.039766181260347366,
          0.0388144925236702,
          0.04234296828508377,
          0.03391840308904648,
          0.02892478182911873,
          0.04426460713148117,
          0.037085048854351044,
          0.03802428022027016,
          0.03887507691979408,
          0.04261701554059982,
          0.036046937108039856,
          0.040075283497571945,
          0.04201262444257736,
          0.034691303968429565,
          0.03579380735754967,
          0.04613913968205452,
          0.045522987842559814,
          0.04172690957784653,
          0.03903128206729889,
          0.036029405891895294,
          0.03579668328166008,
          0.038074690848588943,
          0.0354573130607605,
          0.02480326034128666,
          0.03442095220088959,
          0.041661959141492844,
          0.043698519468307495,
          0.04121018946170807,
          0.029904350638389587
         ]
        },
        {
         "mode": "lines",
         "name": "Target",
         "type": "scatter",
         "x": [
          0,
          1,
          2,
          3,
          4,
          5,
          6,
          7,
          8,
          9,
          10,
          11,
          12,
          13,
          14,
          15,
          16,
          17,
          18,
          19,
          20,
          21,
          22,
          23,
          24,
          25,
          26,
          27,
          28,
          29,
          30,
          31,
          32,
          33,
          34,
          35
         ],
         "y": [
          0.038919415324926376,
          0.039835166186094284,
          0.038919415324926376,
          0.038919415324926376,
          0.04006410390138626,
          0.039835166186094284,
          0.040521979331970215,
          0.04029304161667824,
          0.04006410390138626,
          0.03960622847080231,
          0.03502747416496277,
          0.02449633739888668,
          0.04532967135310173,
          0.03846153989434242,
          0.0386904776096344,
          0.03846153989434242,
          0.0416666679084301,
          0.035943225026130676,
          0.04212454333901405,
          0.04258241876959801,
          0.03365384787321091,
          0.035943225026130676,
          0.04693223536014557,
          0.04624542221426964,
          0.04326923191547394,
          0.03960622847080231,
          0.03617216274142265,
          0.03548534959554672,
          0.04097985476255417,
          0.03548534959554672,
          0.022893773391842842,
          0.03502747416496277,
          0.041895605623722076,
          0.043498169630765915,
          0.04075091704726219,
          0.027930403128266335
         ]
        }
       ],
       "layout": {
        "template": {
         "data": {
          "bar": [
           {
            "error_x": {
             "color": "#2a3f5f"
            },
            "error_y": {
             "color": "#2a3f5f"
            },
            "marker": {
             "line": {
              "color": "#E5ECF6",
              "width": 0.5
             },
             "pattern": {
              "fillmode": "overlay",
              "size": 10,
              "solidity": 0.2
             }
            },
            "type": "bar"
           }
          ],
          "barpolar": [
           {
            "marker": {
             "line": {
              "color": "#E5ECF6",
              "width": 0.5
             },
             "pattern": {
              "fillmode": "overlay",
              "size": 10,
              "solidity": 0.2
             }
            },
            "type": "barpolar"
           }
          ],
          "carpet": [
           {
            "aaxis": {
             "endlinecolor": "#2a3f5f",
             "gridcolor": "white",
             "linecolor": "white",
             "minorgridcolor": "white",
             "startlinecolor": "#2a3f5f"
            },
            "baxis": {
             "endlinecolor": "#2a3f5f",
             "gridcolor": "white",
             "linecolor": "white",
             "minorgridcolor": "white",
             "startlinecolor": "#2a3f5f"
            },
            "type": "carpet"
           }
          ],
          "choropleth": [
           {
            "colorbar": {
             "outlinewidth": 0,
             "ticks": ""
            },
            "type": "choropleth"
           }
          ],
          "contour": [
           {
            "colorbar": {
             "outlinewidth": 0,
             "ticks": ""
            },
            "colorscale": [
             [
              0,
              "#0d0887"
             ],
             [
              0.1111111111111111,
              "#46039f"
             ],
             [
              0.2222222222222222,
              "#7201a8"
             ],
             [
              0.3333333333333333,
              "#9c179e"
             ],
             [
              0.4444444444444444,
              "#bd3786"
             ],
             [
              0.5555555555555556,
              "#d8576b"
             ],
             [
              0.6666666666666666,
              "#ed7953"
             ],
             [
              0.7777777777777778,
              "#fb9f3a"
             ],
             [
              0.8888888888888888,
              "#fdca26"
             ],
             [
              1,
              "#f0f921"
             ]
            ],
            "type": "contour"
           }
          ],
          "contourcarpet": [
           {
            "colorbar": {
             "outlinewidth": 0,
             "ticks": ""
            },
            "type": "contourcarpet"
           }
          ],
          "heatmap": [
           {
            "colorbar": {
             "outlinewidth": 0,
             "ticks": ""
            },
            "colorscale": [
             [
              0,
              "#0d0887"
             ],
             [
              0.1111111111111111,
              "#46039f"
             ],
             [
              0.2222222222222222,
              "#7201a8"
             ],
             [
              0.3333333333333333,
              "#9c179e"
             ],
             [
              0.4444444444444444,
              "#bd3786"
             ],
             [
              0.5555555555555556,
              "#d8576b"
             ],
             [
              0.6666666666666666,
              "#ed7953"
             ],
             [
              0.7777777777777778,
              "#fb9f3a"
             ],
             [
              0.8888888888888888,
              "#fdca26"
             ],
             [
              1,
              "#f0f921"
             ]
            ],
            "type": "heatmap"
           }
          ],
          "heatmapgl": [
           {
            "colorbar": {
             "outlinewidth": 0,
             "ticks": ""
            },
            "colorscale": [
             [
              0,
              "#0d0887"
             ],
             [
              0.1111111111111111,
              "#46039f"
             ],
             [
              0.2222222222222222,
              "#7201a8"
             ],
             [
              0.3333333333333333,
              "#9c179e"
             ],
             [
              0.4444444444444444,
              "#bd3786"
             ],
             [
              0.5555555555555556,
              "#d8576b"
             ],
             [
              0.6666666666666666,
              "#ed7953"
             ],
             [
              0.7777777777777778,
              "#fb9f3a"
             ],
             [
              0.8888888888888888,
              "#fdca26"
             ],
             [
              1,
              "#f0f921"
             ]
            ],
            "type": "heatmapgl"
           }
          ],
          "histogram": [
           {
            "marker": {
             "pattern": {
              "fillmode": "overlay",
              "size": 10,
              "solidity": 0.2
             }
            },
            "type": "histogram"
           }
          ],
          "histogram2d": [
           {
            "colorbar": {
             "outlinewidth": 0,
             "ticks": ""
            },
            "colorscale": [
             [
              0,
              "#0d0887"
             ],
             [
              0.1111111111111111,
              "#46039f"
             ],
             [
              0.2222222222222222,
              "#7201a8"
             ],
             [
              0.3333333333333333,
              "#9c179e"
             ],
             [
              0.4444444444444444,
              "#bd3786"
             ],
             [
              0.5555555555555556,
              "#d8576b"
             ],
             [
              0.6666666666666666,
              "#ed7953"
             ],
             [
              0.7777777777777778,
              "#fb9f3a"
             ],
             [
              0.8888888888888888,
              "#fdca26"
             ],
             [
              1,
              "#f0f921"
             ]
            ],
            "type": "histogram2d"
           }
          ],
          "histogram2dcontour": [
           {
            "colorbar": {
             "outlinewidth": 0,
             "ticks": ""
            },
            "colorscale": [
             [
              0,
              "#0d0887"
             ],
             [
              0.1111111111111111,
              "#46039f"
             ],
             [
              0.2222222222222222,
              "#7201a8"
             ],
             [
              0.3333333333333333,
              "#9c179e"
             ],
             [
              0.4444444444444444,
              "#bd3786"
             ],
             [
              0.5555555555555556,
              "#d8576b"
             ],
             [
              0.6666666666666666,
              "#ed7953"
             ],
             [
              0.7777777777777778,
              "#fb9f3a"
             ],
             [
              0.8888888888888888,
              "#fdca26"
             ],
             [
              1,
              "#f0f921"
             ]
            ],
            "type": "histogram2dcontour"
           }
          ],
          "mesh3d": [
           {
            "colorbar": {
             "outlinewidth": 0,
             "ticks": ""
            },
            "type": "mesh3d"
           }
          ],
          "parcoords": [
           {
            "line": {
             "colorbar": {
              "outlinewidth": 0,
              "ticks": ""
             }
            },
            "type": "parcoords"
           }
          ],
          "pie": [
           {
            "automargin": true,
            "type": "pie"
           }
          ],
          "scatter": [
           {
            "fillpattern": {
             "fillmode": "overlay",
             "size": 10,
             "solidity": 0.2
            },
            "type": "scatter"
           }
          ],
          "scatter3d": [
           {
            "line": {
             "colorbar": {
              "outlinewidth": 0,
              "ticks": ""
             }
            },
            "marker": {
             "colorbar": {
              "outlinewidth": 0,
              "ticks": ""
             }
            },
            "type": "scatter3d"
           }
          ],
          "scattercarpet": [
           {
            "marker": {
             "colorbar": {
              "outlinewidth": 0,
              "ticks": ""
             }
            },
            "type": "scattercarpet"
           }
          ],
          "scattergeo": [
           {
            "marker": {
             "colorbar": {
              "outlinewidth": 0,
              "ticks": ""
             }
            },
            "type": "scattergeo"
           }
          ],
          "scattergl": [
           {
            "marker": {
             "colorbar": {
              "outlinewidth": 0,
              "ticks": ""
             }
            },
            "type": "scattergl"
           }
          ],
          "scattermapbox": [
           {
            "marker": {
             "colorbar": {
              "outlinewidth": 0,
              "ticks": ""
             }
            },
            "type": "scattermapbox"
           }
          ],
          "scatterpolar": [
           {
            "marker": {
             "colorbar": {
              "outlinewidth": 0,
              "ticks": ""
             }
            },
            "type": "scatterpolar"
           }
          ],
          "scatterpolargl": [
           {
            "marker": {
             "colorbar": {
              "outlinewidth": 0,
              "ticks": ""
             }
            },
            "type": "scatterpolargl"
           }
          ],
          "scatterternary": [
           {
            "marker": {
             "colorbar": {
              "outlinewidth": 0,
              "ticks": ""
             }
            },
            "type": "scatterternary"
           }
          ],
          "surface": [
           {
            "colorbar": {
             "outlinewidth": 0,
             "ticks": ""
            },
            "colorscale": [
             [
              0,
              "#0d0887"
             ],
             [
              0.1111111111111111,
              "#46039f"
             ],
             [
              0.2222222222222222,
              "#7201a8"
             ],
             [
              0.3333333333333333,
              "#9c179e"
             ],
             [
              0.4444444444444444,
              "#bd3786"
             ],
             [
              0.5555555555555556,
              "#d8576b"
             ],
             [
              0.6666666666666666,
              "#ed7953"
             ],
             [
              0.7777777777777778,
              "#fb9f3a"
             ],
             [
              0.8888888888888888,
              "#fdca26"
             ],
             [
              1,
              "#f0f921"
             ]
            ],
            "type": "surface"
           }
          ],
          "table": [
           {
            "cells": {
             "fill": {
              "color": "#EBF0F8"
             },
             "line": {
              "color": "white"
             }
            },
            "header": {
             "fill": {
              "color": "#C8D4E3"
             },
             "line": {
              "color": "white"
             }
            },
            "type": "table"
           }
          ]
         },
         "layout": {
          "annotationdefaults": {
           "arrowcolor": "#2a3f5f",
           "arrowhead": 0,
           "arrowwidth": 1
          },
          "autotypenumbers": "strict",
          "coloraxis": {
           "colorbar": {
            "outlinewidth": 0,
            "ticks": ""
           }
          },
          "colorscale": {
           "diverging": [
            [
             0,
             "#8e0152"
            ],
            [
             0.1,
             "#c51b7d"
            ],
            [
             0.2,
             "#de77ae"
            ],
            [
             0.3,
             "#f1b6da"
            ],
            [
             0.4,
             "#fde0ef"
            ],
            [
             0.5,
             "#f7f7f7"
            ],
            [
             0.6,
             "#e6f5d0"
            ],
            [
             0.7,
             "#b8e186"
            ],
            [
             0.8,
             "#7fbc41"
            ],
            [
             0.9,
             "#4d9221"
            ],
            [
             1,
             "#276419"
            ]
           ],
           "sequential": [
            [
             0,
             "#0d0887"
            ],
            [
             0.1111111111111111,
             "#46039f"
            ],
            [
             0.2222222222222222,
             "#7201a8"
            ],
            [
             0.3333333333333333,
             "#9c179e"
            ],
            [
             0.4444444444444444,
             "#bd3786"
            ],
            [
             0.5555555555555556,
             "#d8576b"
            ],
            [
             0.6666666666666666,
             "#ed7953"
            ],
            [
             0.7777777777777778,
             "#fb9f3a"
            ],
            [
             0.8888888888888888,
             "#fdca26"
            ],
            [
             1,
             "#f0f921"
            ]
           ],
           "sequentialminus": [
            [
             0,
             "#0d0887"
            ],
            [
             0.1111111111111111,
             "#46039f"
            ],
            [
             0.2222222222222222,
             "#7201a8"
            ],
            [
             0.3333333333333333,
             "#9c179e"
            ],
            [
             0.4444444444444444,
             "#bd3786"
            ],
            [
             0.5555555555555556,
             "#d8576b"
            ],
            [
             0.6666666666666666,
             "#ed7953"
            ],
            [
             0.7777777777777778,
             "#fb9f3a"
            ],
            [
             0.8888888888888888,
             "#fdca26"
            ],
            [
             1,
             "#f0f921"
            ]
           ]
          },
          "colorway": [
           "#636efa",
           "#EF553B",
           "#00cc96",
           "#ab63fa",
           "#FFA15A",
           "#19d3f3",
           "#FF6692",
           "#B6E880",
           "#FF97FF",
           "#FECB52"
          ],
          "font": {
           "color": "#2a3f5f"
          },
          "geo": {
           "bgcolor": "white",
           "lakecolor": "white",
           "landcolor": "#E5ECF6",
           "showlakes": true,
           "showland": true,
           "subunitcolor": "white"
          },
          "hoverlabel": {
           "align": "left"
          },
          "hovermode": "closest",
          "mapbox": {
           "style": "light"
          },
          "paper_bgcolor": "white",
          "plot_bgcolor": "#E5ECF6",
          "polar": {
           "angularaxis": {
            "gridcolor": "white",
            "linecolor": "white",
            "ticks": ""
           },
           "bgcolor": "#E5ECF6",
           "radialaxis": {
            "gridcolor": "white",
            "linecolor": "white",
            "ticks": ""
           }
          },
          "scene": {
           "xaxis": {
            "backgroundcolor": "#E5ECF6",
            "gridcolor": "white",
            "gridwidth": 2,
            "linecolor": "white",
            "showbackground": true,
            "ticks": "",
            "zerolinecolor": "white"
           },
           "yaxis": {
            "backgroundcolor": "#E5ECF6",
            "gridcolor": "white",
            "gridwidth": 2,
            "linecolor": "white",
            "showbackground": true,
            "ticks": "",
            "zerolinecolor": "white"
           },
           "zaxis": {
            "backgroundcolor": "#E5ECF6",
            "gridcolor": "white",
            "gridwidth": 2,
            "linecolor": "white",
            "showbackground": true,
            "ticks": "",
            "zerolinecolor": "white"
           }
          },
          "shapedefaults": {
           "line": {
            "color": "#2a3f5f"
           }
          },
          "ternary": {
           "aaxis": {
            "gridcolor": "white",
            "linecolor": "white",
            "ticks": ""
           },
           "baxis": {
            "gridcolor": "white",
            "linecolor": "white",
            "ticks": ""
           },
           "bgcolor": "#E5ECF6",
           "caxis": {
            "gridcolor": "white",
            "linecolor": "white",
            "ticks": ""
           }
          },
          "title": {
           "x": 0.05
          },
          "xaxis": {
           "automargin": true,
           "gridcolor": "white",
           "linecolor": "white",
           "ticks": "",
           "title": {
            "standoff": 15
           },
           "zerolinecolor": "white",
           "zerolinewidth": 2
          },
          "yaxis": {
           "automargin": true,
           "gridcolor": "white",
           "linecolor": "white",
           "ticks": "",
           "title": {
            "standoff": 15
           },
           "zerolinecolor": "white",
           "zerolinewidth": 2
          }
         }
        },
        "title": {
         "text": "Model Output vs Target for Feature 2, Batch 4"
        },
        "xaxis": {
         "title": {
          "text": "Timestep"
         }
        },
        "yaxis": {
         "title": {
          "text": "Value"
         }
        }
       }
      }
     },
     "metadata": {},
     "output_type": "display_data"
    }
   ],
   "source": [
    "import plotly.graph_objects as go\n",
    "\n",
    "def plot_model_output_vs_target(model_outputs, targets, batch_index=0, feature_index=0):\n",
    "    # Extract the specified feature for the given batch from both the model outputs and targets\n",
    "    model_output_series = model_outputs[batch_index, :, feature_index].detach().numpy()\n",
    "    target_series = targets[batch_index, :, feature_index].numpy()\n",
    "    \n",
    "    # Create a range for the x-axis (timesteps)\n",
    "    timesteps = list(range(model_output_series.shape[0]))\n",
    "    \n",
    "    # Create traces\n",
    "    model_trace = go.Scatter(x=timesteps, y=model_output_series, mode='lines', name='Model Output')\n",
    "    target_trace = go.Scatter(x=timesteps, y=target_series, mode='lines', name='Target')\n",
    "    \n",
    "    # Create the figure and add traces\n",
    "    fig = go.Figure()\n",
    "    fig.add_trace(model_trace)\n",
    "    fig.add_trace(target_trace)\n",
    "    \n",
    "    # Add title and labels\n",
    "    fig.update_layout(title=f'Model Output vs Target for Feature {feature_index}, Batch {batch_index}',\n",
    "                      xaxis_title='Timestep',\n",
    "                      yaxis_title='Value')\n",
    "    \n",
    "    # Show the figure\n",
    "    fig.show()\n",
    "\n",
    "# Assuming `y` and `Y` are your model outputs and targets, respectively\n",
    "# Adjust batch_index and feature_index as needed\n",
    "plot_model_output_vs_target(outputs.to(\"cpu\"), batch_Y.to(\"cpu\"), batch_index=4, feature_index=2)"
   ]
  },
  {
   "cell_type": "markdown",
   "metadata": {},
   "source": [
    "Unsurprisingly, when only tasked with predicting the next timestep given the previous timestep, the coil does quite well. We expect to see the discrepancies in the beginning of the sequence, as this is the burn-in of the transition tensor. This is helpful as it gives us a sense of how long we may need to wind up our coil before the transition tensor is properly initialized for autoregressive generation. "
   ]
  },
  {
   "cell_type": "markdown",
   "metadata": {},
   "source": [
    "## Unenforced Autoregressive Coil Generation\n",
    "\n",
    "To give a sense of the dynamics coils are capable of producing, we can simply allow a coil to autoregressively generate from some initial state without performing any reconfirmation of state."
   ]
  },
  {
   "cell_type": "code",
   "execution_count": 14,
   "metadata": {},
   "outputs": [
    {
     "data": {
      "application/vnd.plotly.v1+json": {
       "config": {
        "plotlyServerURL": "https://plot.ly"
       },
       "data": [
        {
         "mode": "lines",
         "name": "State 0",
         "type": "scatter",
         "y": [
          0.040529750287532806,
          0.036473922431468964,
          0.0364227369427681,
          0.036557331681251526,
          0.036529526114463806,
          0.036927759647369385,
          0.03699430078268051,
          0.036281947046518326,
          0.03600172698497772,
          0.036305949091911316,
          0.03521491587162018,
          0.0347127839922905,
          0.0334678590297699,
          0.035335272550582886,
          0.03509947285056114,
          0.03536239266395569,
          0.0350172221660614,
          0.03479894623160362,
          0.034770816564559937,
          0.03720086067914963,
          0.036795057356357574,
          0.0356246754527092,
          0.03473246097564697,
          0.03515462577342987,
          0.03390849381685257,
          0.03563202917575836,
          0.038198016583919525,
          0.03605169802904129,
          0.03593724966049194,
          0.033963002264499664,
          0.035991959273815155,
          0.03670361638069153,
          0.0382530614733696,
          0.04070046544075012,
          0.039392028003931046,
          0.032490722835063934,
          0.03421811759471893,
          0.03456026688218117,
          0.039776094257831573,
          0.03701997548341751,
          0.03447836637496948,
          0.03510009124875069,
          0.03684429079294205,
          0.03609239310026169,
          0.03620313107967377,
          0.03432503342628479,
          0.034802503883838654,
          0.03533901646733284,
          0.03513529896736145,
          0.036784786731004715,
          0.03587663918733597,
          0.03564814478158951,
          0.036569833755493164,
          0.0367705374956131,
          0.03546307981014252,
          0.03524800390005112,
          0.03332344442605972,
          0.03503711149096489,
          0.03469797223806381,
          0.03626759722828865,
          0.03380832076072693,
          0.036108002066612244,
          0.03529883921146393,
          0.031485624611377716,
          0.03715182840824127,
          0.03489062190055847,
          0.03558436781167984,
          0.03542309254407883,
          0.03497079014778137,
          0.03619330748915672,
          0.03715365380048752,
          0.03582676500082016,
          0.03503509610891342,
          0.03537534177303314,
          0.03363337740302086,
          0.034930236637592316,
          0.03846998140215874,
          0.03430747985839844,
          0.03723037987947464,
          0.03544352948665619,
          0.03579985350370407,
          0.03634192794561386,
          0.03482947498559952,
          0.03453627973794937,
          0.03561961278319359,
          0.03655436635017395,
          0.03668467700481415,
          0.03977124020457268,
          0.04139302298426628,
          0.038493238389492035,
          0.03663334995508194,
          0.03338829427957535,
          0.0338299497961998,
          0.03568442165851593,
          0.03649520501494408,
          0.0366678312420845,
          0.035994622856378555,
          0.039170049130916595,
          0.038094662129879,
          0.03776433318853378
         ]
        },
        {
         "mode": "lines",
         "name": "State 1",
         "type": "scatter",
         "y": [
          0.03224167972803116,
          0.034989677369594574,
          0.03450244292616844,
          0.03521790727972984,
          0.03383061662316322,
          0.03501784801483154,
          0.03469054773449898,
          0.03426756337285042,
          0.034650981426239014,
          0.03542718291282654,
          0.036043912172317505,
          0.03677968308329582,
          0.037947870790958405,
          0.03610873967409134,
          0.03652586042881012,
          0.03558140993118286,
          0.0366499200463295,
          0.035299479961395264,
          0.036164313554763794,
          0.03449743241071701,
          0.03521273285150528,
          0.03607288375496864,
          0.03699550777673721,
          0.03440641984343529,
          0.037588950246572495,
          0.035478055477142334,
          0.03345441073179245,
          0.03438869118690491,
          0.03444939851760864,
          0.0366172194480896,
          0.03526312857866287,
          0.036967553198337555,
          0.03430690988898277,
          0.03123093955218792,
          0.03167421370744705,
          0.03890320658683777,
          0.03636687621474266,
          0.03495459258556366,
          0.03306776285171509,
          0.03376418724656105,
          0.03705224394798279,
          0.034746840596199036,
          0.03482719510793686,
          0.03479594364762306,
          0.03508387878537178,
          0.03689485788345337,
          0.037286609411239624,
          0.036658938974142075,
          0.03619180992245674,
          0.03400958329439163,
          0.03595970943570137,
          0.035212334245443344,
          0.034703366458415985,
          0.034870050847530365,
          0.03569386899471283,
          0.036288417875766754,
          0.03919259458780289,
          0.036932457238435745,
          0.03704441711306572,
          0.03458540141582489,
          0.03667492792010307,
          0.03531084209680557,
          0.03636990487575531,
          0.03909042850136757,
          0.03553813695907593,
          0.03685314208269119,
          0.03579840064048767,
          0.03624935448169708,
          0.036469921469688416,
          0.03519991785287857,
          0.034786343574523926,
          0.03593982011079788,
          0.036666855216026306,
          0.03522321954369545,
          0.03784208372235298,
          0.0359848253428936,
          0.03304789215326309,
          0.0362645648419857,
          0.03352254256606102,
          0.035876620560884476,
          0.03637458384037018,
          0.03138169273734093,
          0.0351087749004364,
          0.036152757704257965,
          0.036293938755989075,
          0.0352642685174942,
          0.03522820025682449,
          0.03272978216409683,
          0.030038410797715187,
          0.03214117884635925,
          0.03461674600839615,
          0.03771337494254112,
          0.03748851269483566,
          0.035197000950574875,
          0.03416360169649124,
          0.035042859613895416,
          0.03715049475431442,
          0.03163944557309151,
          0.03240932896733284,
          0.033795684576034546
         ]
        },
        {
         "mode": "lines",
         "name": "State 2",
         "type": "scatter",
         "y": [
          0.03222861513495445,
          0.036717429757118225,
          0.03636392951011658,
          0.037394437938928604,
          0.035909079015254974,
          0.034201182425022125,
          0.03504300117492676,
          0.03670300543308258,
          0.037925660610198975,
          0.037671007215976715,
          0.03781971335411072,
          0.037521447986364365,
          0.03702312707901001,
          0.03542125225067139,
          0.03277033567428589,
          0.03262757882475853,
          0.04185245931148529,
          0.03490539267659187,
          0.03433690965175629,
          0.03781452029943466,
          0.04003841429948807,
          0.037797413766384125,
          0.03730543702840805,
          0.03486894816160202,
          0.03178197890520096,
          0.034418851137161255,
          0.03768209367990494,
          0.03835167735815048,
          0.03858049586415291,
          0.03801741823554039,
          0.03348870575428009,
          0.019844869151711464,
          0.024531349539756775,
          0.022757593542337418,
          0.03192503750324249,
          0.048747409135103226,
          0.026741446927189827,
          0.02127162180840969,
          0.04018412530422211,
          0.0318014919757843,
          0.030142316594719887,
          0.03397184610366821,
          0.033625319600105286,
          0.03918135538697243,
          0.03844534233212471,
          0.037110209465026855,
          0.037054643034935,
          0.036078691482543945,
          0.03504136949777603,
          0.038377538323402405,
          0.03833935037255287,
          0.037813857197761536,
          0.038258146494627,
          0.03838077187538147,
          0.038780149072408676,
          0.039570920169353485,
          0.03960345685482025,
          0.040005043148994446,
          0.036844395101070404,
          0.038331933319568634,
          0.03716640546917915,
          0.03436802327632904,
          0.03511843457818031,
          0.03952628746628761,
          0.03681923821568489,
          0.03946147486567497,
          0.03983807563781738,
          0.038339562714099884,
          0.03212340548634529,
          0.03743468225002289,
          0.03918135166168213,
          0.03774256259202957,
          0.037566620856523514,
          0.03515124320983887,
          0.03135807067155838,
          0.03531508147716522,
          0.03895603120326996,
          0.03368754684925079,
          0.034370437264442444,
          0.0419900119304657,
          0.04316098242998123,
          0.033705972135066986,
          0.03426948934793472,
          0.03265225887298584,
          0.0352986603975296,
          0.031260982155799866,
          0.019376009702682495,
          0.023308847099542618,
          0.022453095763921738,
          0.03586596995592117,
          0.030998844653367996,
          0.0408627986907959,
          0.03781024366617203,
          0.03540003299713135,
          0.03611873462796211,
          0.035294387489557266,
          0.035519178956747055,
          0.03623523563146591,
          0.03585571050643921,
          0.039124440401792526
         ]
        },
        {
         "mode": "lines",
         "name": "State 3",
         "type": "scatter",
         "y": [
          0.03879255801439285,
          0.03460313379764557,
          0.03491740673780441,
          0.03389713168144226,
          0.03596755117177963,
          0.038064390420913696,
          0.036970436573028564,
          0.034842006862163544,
          0.033430878072977066,
          0.033778563141822815,
          0.0333244726061821,
          0.0341082438826561,
          0.03480105474591255,
          0.03635317459702492,
          0.038743965327739716,
          0.038684140890836716,
          0.029592037200927734,
          0.03710932657122612,
          0.03823519125580788,
          0.033954717218875885,
          0.031048253178596497,
          0.033636316657066345,
          0.03378482162952423,
          0.03776834160089493,
          0.03940873220562935,
          0.0377502366900444,
          0.03342363238334656,
          0.034288011491298676,
          0.03325451910495758,
          0.03392627090215683,
          0.037631891667842865,
          0.047929465770721436,
          0.04459594935178757,
          0.048395074903964996,
          0.039316873997449875,
          0.020627673715353012,
          0.04419809952378273,
          0.054380934685468674,
          0.029570896178483963,
          0.043660640716552734,
          0.038987960666418076,
          0.03705770522356033,
          0.0373167060315609,
          0.032389238476753235,
          0.03324509412050247,
          0.03403704613447189,
          0.03477267175912857,
          0.036065734922885895,
          0.036395736038684845,
          0.03300836682319641,
          0.03278099000453949,
          0.033926621079444885,
          0.03259003534913063,
          0.03301580995321274,
          0.03211422637104988,
          0.031009161844849586,
          0.03137151151895523,
          0.03186392784118652,
          0.0346580371260643,
          0.03316495567560196,
          0.03474045917391777,
          0.03692757338285446,
          0.036573007702827454,
          0.033220089972019196,
          0.03459690511226654,
          0.032070692628622055,
          0.02958155795931816,
          0.032847315073013306,
          0.03854646533727646,
          0.0337119959294796,
          0.03163807466626167,
          0.03379735350608826,
          0.03348163887858391,
          0.03704431653022766,
          0.03991512954235077,
          0.03742896765470505,
          0.03295482322573662,
          0.037462979555130005,
          0.036604709923267365,
          0.030225161463022232,
          0.028171030804514885,
          0.039919327944517136,
          0.03761391341686249,
          0.040836140513420105,
          0.03538793325424194,
          0.03911416977643967,
          0.05026652291417122,
          0.04646991193294525,
          0.048817265778779984,
          0.0364655964076519,
          0.0397510752081871,
          0.030771680176258087,
          0.03363953158259392,
          0.03574570640921593,
          0.0353330597281456,
          0.036485105752944946,
          0.03609994053840637,
          0.03289572894573212,
          0.035932790488004684,
          0.03193517029285431
         ]
        },
        {
         "mode": "lines",
         "name": "State 4",
         "type": "scatter",
         "y": [
          0.032541077584028244,
          0.037321388721466064,
          0.036573994904756546,
          0.03736967220902443,
          0.03507586196064949,
          0.03450389206409454,
          0.03490450605750084,
          0.036966707557439804,
          0.03761829063296318,
          0.03754686936736107,
          0.0381796769797802,
          0.0375988632440567,
          0.03666716814041138,
          0.03535103052854538,
          0.032647714018821716,
          0.03326191008090973,
          0.041467614471912384,
          0.03411310538649559,
          0.03495796024799347,
          0.03778298199176788,
          0.040217891335487366,
          0.03766786679625511,
          0.037497054785490036,
          0.03396153450012207,
          0.03198739141225815,
          0.03432256355881691,
          0.03784600645303726,
          0.03571780398488045,
          0.03839000687003136,
          0.037228286266326904,
          0.03320767730474472,
          0.01996196061372757,
          0.024431735277175903,
          0.022696668282151222,
          0.031741913408041,
          0.05184878408908844,
          0.02745949476957321,
          0.020776312798261642,
          0.04126652330160141,
          0.02988663874566555,
          0.030524995177984238,
          0.03385832905769348,
          0.0344669334590435,
          0.03902686387300491,
          0.038214415311813354,
          0.03786691650748253,
          0.03734879940748215,
          0.03569430857896805,
          0.03493538498878479,
          0.03892897441983223,
          0.03825715184211731,
          0.03690914809703827,
          0.0382392592728138,
          0.03840789198875427,
          0.0396757535636425,
          0.04024440050125122,
          0.03983988240361214,
          0.039888594299554825,
          0.036996617913246155,
          0.038185957819223404,
          0.03603626787662506,
          0.03426670283079147,
          0.034831300377845764,
          0.03791340813040733,
          0.036719292402267456,
          0.03959143906831741,
          0.041350357234478,
          0.03856653347611427,
          0.0322335809469223,
          0.03747241944074631,
          0.039349187165498734,
          0.03761119395494461,
          0.037781909108161926,
          0.03463083878159523,
          0.03152686357498169,
          0.03504835069179535,
          0.038030583411455154,
          0.033114995807409286,
          0.03425194323062897,
          0.041523877531290054,
          0.04396791383624077,
          0.03229951113462448,
          0.034333452582359314,
          0.032368969172239304,
          0.035440512001514435,
          0.031388022005558014,
          0.01923411712050438,
          0.02327807806432247,
          0.022404715418815613,
          0.03560972958803177,
          0.03113444708287716,
          0.041830167174339294,
          0.03814585506916046,
          0.03504090756177902,
          0.03577464446425438,
          0.03473212942481041,
          0.035054609179496765,
          0.03681374341249466,
          0.03512207791209221,
          0.03937598317861557
         ]
        },
        {
         "mode": "lines",
         "name": "State 5",
         "type": "scatter",
         "y": [
          0.03935122862458229,
          0.03411993384361267,
          0.03469230234622955,
          0.034239545464515686,
          0.03550545498728752,
          0.037496354430913925,
          0.03664831444621086,
          0.03473483771085739,
          0.03364267945289612,
          0.03383927047252655,
          0.033359184861183167,
          0.034155964851379395,
          0.03486649692058563,
          0.03641807660460472,
          0.039230599999427795,
          0.03835200518369675,
          0.02935054711997509,
          0.036806195974349976,
          0.03768680989742279,
          0.03377532213926315,
          0.031104573979973793,
          0.03356903791427612,
          0.03408234193921089,
          0.037214625626802444,
          0.03936281427741051,
          0.03606370836496353,
          0.03369566798210144,
          0.035115063190460205,
          0.03316657617688179,
          0.03360565006732941,
          0.03858181834220886,
          0.047658566385507584,
          0.0470430925488472,
          0.04868961125612259,
          0.039277333766222,
          0.02050851657986641,
          0.04422847181558609,
          0.052869636565446854,
          0.029701026156544685,
          0.04180438444018364,
          0.0397537536919117,
          0.03822561353445053,
          0.03690965846180916,
          0.032065026462078094,
          0.03318990767002106,
          0.03498145937919617,
          0.03429478406906128,
          0.035947415977716446,
          0.03608967736363411,
          0.033577803522348404,
          0.03262940049171448,
          0.03422968089580536,
          0.032490141689777374,
          0.032858461141586304,
          0.03204697370529175,
          0.030786927789449692,
          0.03148169815540314,
          0.03162231668829918,
          0.034559089690446854,
          0.03323909640312195,
          0.03515370562672615,
          0.037112049758434296,
          0.03677322715520859,
          0.03300810605287552,
          0.03468981757760048,
          0.031099047511816025,
          0.02998535707592964,
          0.032816387712955475,
          0.03847281634807587,
          0.033423442393541336,
          0.03168976306915283,
          0.03369279205799103,
          0.033810265362262726,
          0.03675870597362518,
          0.03977908939123154,
          0.035310737788677216,
          0.03333357721567154,
          0.037451356649398804,
          0.036894120275974274,
          0.030407559126615524,
          0.027357861399650574,
          0.04036993160843849,
          0.039891257882118225,
          0.04036141186952591,
          0.03567389398813248,
          0.03937002643942833,
          0.05046476796269417,
          0.04812806472182274,
          0.050409235060214996,
          0.03553774207830429,
          0.03945516049861908,
          0.031021960079669952,
          0.03370478004217148,
          0.036580927670001984,
          0.03566344454884529,
          0.036231495440006256,
          0.03740834444761276,
          0.03549932688474655,
          0.03578256815671921,
          0.03224519267678261
         ]
        },
        {
         "mode": "lines",
         "name": "State 6",
         "type": "scatter",
         "y": [
          0.034193843603134155,
          0.03865397721529007,
          0.03661160171031952,
          0.03699640929698944,
          0.035027094185352325,
          0.033613886684179306,
          0.035699933767318726,
          0.03642971068620682,
          0.037736065685749054,
          0.03681737929582596,
          0.037399500608444214,
          0.03630369156599045,
          0.03669162094593048,
          0.03672761097550392,
          0.03472047299146652,
          0.03615971654653549,
          0.03857610002160072,
          0.032145217061042786,
          0.034395940601825714,
          0.03895587474107742,
          0.040296901017427444,
          0.03760342299938202,
          0.03606502711772919,
          0.033585816621780396,
          0.03155126795172691,
          0.03597316890954971,
          0.03657158464193344,
          0.03689393773674965,
          0.03677145391702652,
          0.035958126187324524,
          0.031962066888809204,
          0.028845861554145813,
          0.03254564106464386,
          0.030401943251490593,
          0.0390731617808342,
          0.03577928617596626,
          0.022082898765802383,
          0.030377870425581932,
          0.04251662641763687,
          0.02427973970770836,
          0.0325445830821991,
          0.03453885018825531,
          0.03529240936040878,
          0.03854949027299881,
          0.03817545995116234,
          0.03653010353446007,
          0.036266520619392395,
          0.03361932188272476,
          0.03540681675076485,
          0.03987777233123779,
          0.03833066299557686,
          0.036681629717350006,
          0.038137972354888916,
          0.03751274198293686,
          0.03875984996557236,
          0.040143147110939026,
          0.03944732993841171,
          0.03672335669398308,
          0.0354248508810997,
          0.037405554205179214,
          0.0349297858774662,
          0.0334690622985363,
          0.03374726325273514,
          0.03743668645620346,
          0.03628283739089966,
          0.040519654750823975,
          0.03742606192827225,
          0.03554283082485199,
          0.036776285618543625,
          0.037944942712783813,
          0.039341580122709274,
          0.03753161430358887,
          0.03633696585893631,
          0.033966585993766785,
          0.031527139246463776,
          0.03687421977519989,
          0.03633277118206024,
          0.03510988876223564,
          0.03684953227639198,
          0.03837057948112488,
          0.042505018413066864,
          0.034771256148815155,
          0.03680756315588951,
          0.034173063933849335,
          0.03748716413974762,
          0.029969261959195137,
          0.02898859977722168,
          0.030863646417856216,
          0.03076310083270073,
          0.0431533008813858,
          0.03511851280927658,
          0.04102730751037598,
          0.03696468472480774,
          0.03398502990603447,
          0.035828664898872375,
          0.035840973258018494,
          0.035964854061603546,
          0.03721660375595093,
          0.035496558994054794,
          0.03900640085339546
         ]
        },
        {
         "mode": "lines",
         "name": "State 7",
         "type": "scatter",
         "y": [
          0.03644024580717087,
          0.03263166919350624,
          0.03500740975141525,
          0.034453436732292175,
          0.03720639646053314,
          0.037524159997701645,
          0.03587278723716736,
          0.035221558064222336,
          0.03390413150191307,
          0.03453289717435837,
          0.03403622657060623,
          0.03476995974779129,
          0.03466089069843292,
          0.03516024351119995,
          0.036798663437366486,
          0.03533635288476944,
          0.033095523715019226,
          0.039656829088926315,
          0.03668198734521866,
          0.032277170568704605,
          0.0311929639428854,
          0.033760637044906616,
          0.03517873212695122,
          0.03966578096151352,
          0.039826467633247375,
          0.03609069436788559,
          0.03501191735267639,
          0.03662559762597084,
          0.03446458280086517,
          0.0360209196805954,
          0.03949763998389244,
          0.045281387865543365,
          0.0385848805308342,
          0.04079514741897583,
          0.03321215510368347,
          0.03397441655397415,
          0.051648810505867004,
          0.04102949798107147,
          0.023457393050193787,
          0.04575186222791672,
          0.03865031898021698,
          0.035487331449985504,
          0.0362665131688118,
          0.0328926146030426,
          0.033487431704998016,
          0.03442559763789177,
          0.03471709042787552,
          0.03702160716056824,
          0.03632795065641403,
          0.03173838555812836,
          0.03355930745601654,
          0.03472481667995453,
          0.03481240198016167,
          0.033457495272159576,
          0.032500311732292175,
          0.03175228089094162,
          0.03186050429940224,
          0.03429818153381348,
          0.036268942058086395,
          0.03379295393824577,
          0.03726901859045029,
          0.03812506049871445,
          0.03810279816389084,
          0.03383966535329819,
          0.03482756018638611,
          0.030456464737653732,
          0.03399163484573364,
          0.036532092839479446,
          0.03546192869544029,
          0.03364352136850357,
          0.032146550714969635,
          0.03381441906094551,
          0.03486615791916847,
          0.03877384960651398,
          0.04009170085191727,
          0.0353219136595726,
          0.034699082374572754,
          0.03728090226650238,
          0.035451263189315796,
          0.032269224524497986,
          0.028992528095841408,
          0.039519794285297394,
          0.034519292414188385,
          0.04014234617352486,
          0.03368939086794853,
          0.041413262486457825,
          0.042980022728443146,
          0.040287263691425323,
          0.04040426015853882,
          0.029926413670182228,
          0.03710326924920082,
          0.030057115480303764,
          0.034361835569143295,
          0.037147246301174164,
          0.03504280745983124,
          0.03577089682221413,
          0.03497256711125374,
          0.03567691519856453,
          0.036302994936704636,
          0.03234187886118889
         ]
        },
        {
         "mode": "lines",
         "name": "State 8",
         "type": "scatter",
         "y": [
          0.03757444769144058,
          0.03742588683962822,
          0.03556570038199425,
          0.03562833368778229,
          0.035175908356904984,
          0.03507435694336891,
          0.03631703928112984,
          0.03518248349428177,
          0.03581364452838898,
          0.03512543439865112,
          0.03445795550942421,
          0.03487560898065567,
          0.03619016706943512,
          0.036944687366485596,
          0.03719288110733032,
          0.03842701390385628,
          0.03292037546634674,
          0.0340714305639267,
          0.03533173352479935,
          0.036246154457330704,
          0.0362635962665081,
          0.035317931324243546,
          0.03432650864124298,
          0.035171836614608765,
          0.03561536595225334,
          0.03743015229701996,
          0.034610066562891006,
          0.035750798881053925,
          0.034584615379571915,
          0.034190304577350616,
          0.03463632985949516,
          0.04262508824467659,
          0.04241529107093811,
          0.04239346459507942,
          0.040601201355457306,
          0.02549186907708645,
          0.02919008955359459,
          0.044887475669384,
          0.041267551481723785,
          0.029114864766597748,
          0.03736981749534607,
          0.03911111131310463,
          0.036981597542762756,
          0.034884609282016754,
          0.03512581065297127,
          0.03512789309024811,
          0.034865155816078186,
          0.034607429057359695,
          0.03607530519366264,
          0.03630111366510391,
          0.03525877743959427,
          0.03530178964138031,
          0.03493393957614899,
          0.035047657787799835,
          0.03402385860681534,
          0.036060698330402374,
          0.036167241632938385,
          0.033814240247011185,
          0.034970760345458984,
          0.03532765060663223,
          0.03463100641965866,
          0.03522733971476555,
          0.03442008048295975,
          0.03548133000731468,
          0.03581715747714043,
          0.036089830100536346,
          0.03205064311623573,
          0.03261289745569229,
          0.03809510916471481,
          0.036050744354724884,
          0.03629881516098976,
          0.035461485385894775,
          0.034393079578876495,
          0.03528035804629326,
          0.035647351294755936,
          0.03739923983812332,
          0.03428118675947189,
          0.03658674657344818,
          0.03625774011015892,
          0.03389235585927963,
          0.03519585728645325,
          0.037609465420246124,
          0.03815389424562454,
          0.036749694496393204,
          0.03806374967098236,
          0.03407258540391922,
          0.04386214166879654,
          0.04222197085618973,
          0.042799338698387146,
          0.04003973305225372,
          0.03992734104394913,
          0.03590989112854004,
          0.03461170569062233,
          0.0355214849114418,
          0.036275945603847504,
          0.036284737288951874,
          0.03517027571797371,
          0.03578077629208565,
          0.035447657108306885,
          0.03560274466872215
         ]
        },
        {
         "mode": "lines",
         "name": "State 9",
         "type": "scatter",
         "y": [
          0.033330127596855164,
          0.03395526856184006,
          0.036139022558927536,
          0.03599262610077858,
          0.03611307218670845,
          0.036496855318546295,
          0.035311125218868256,
          0.035866089165210724,
          0.035669513046741486,
          0.03652487322688103,
          0.03680714592337608,
          0.036799073219299316,
          0.03570112586021423,
          0.035196639597415924,
          0.03454020991921425,
          0.032939378172159195,
          0.038243986666202545,
          0.037677787244319916,
          0.0361221581697464,
          0.03465878963470459,
          0.03524744510650635,
          0.03625334054231644,
          0.037431541830301285,
          0.035832516849040985,
          0.03572835773229599,
          0.03408617526292801,
          0.03683904558420181,
          0.036784786731004715,
          0.037730805575847626,
          0.03700821474194527,
          0.03720691055059433,
          0.0301570612937212,
          0.02925085462629795,
          0.029422812163829803,
          0.03034430742263794,
          0.0473550483584404,
          0.04016885533928871,
          0.025786548852920532,
          0.032388173043727875,
          0.04204271361231804,
          0.03459933027625084,
          0.03421413153409958,
          0.03514420986175537,
          0.03636389598250389,
          0.03590642660856247,
          0.0362425222992897,
          0.036783669143915176,
          0.03740232437849045,
          0.035703789442777634,
          0.03509366512298584,
          0.03604936599731445,
          0.03611366078257561,
          0.03583573177456856,
          0.036157261580228806,
          0.037291254848241806,
          0.03541141375899315,
          0.03648516535758972,
          0.0374269112944603,
          0.0370066873729229,
          0.03657851368188858,
          0.03707350790500641,
          0.036445990204811096,
          0.03731381893157959,
          0.03583511710166931,
          0.03585684671998024,
          0.03430444747209549,
          0.04004325717687607,
          0.037407055497169495,
          0.033685103058815,
          0.03517991304397583,
          0.03536885231733322,
          0.03600386530160904,
          0.03745800256729126,
          0.03591860085725784,
          0.03547539934515953,
          0.03397393599152565,
          0.03695495426654816,
          0.0358397513628006,
          0.03440332040190697,
          0.03726451098918915,
          0.035026103258132935,
          0.03239220380783081,
          0.03487270697951317,
          0.035313285887241364,
          0.03359397500753403,
          0.03657226264476776,
          0.02750040404498577,
          0.029262695461511612,
          0.028701486065983772,
          0.03026551380753517,
          0.03353594243526459,
          0.03457564115524292,
          0.0366094708442688,
          0.03591850399971008,
          0.03573673963546753,
          0.035432688891887665,
          0.03651433065533638,
          0.036380283534526825,
          0.03631245344877243,
          0.03565787896513939
         ]
        },
        {
         "mode": "lines",
         "name": "State 10",
         "type": "scatter",
         "y": [
          0.03331172466278076,
          0.03594526648521423,
          0.03686828911304474,
          0.03644420951604843,
          0.03589577227830887,
          0.034419141709804535,
          0.03526226803660393,
          0.036708734929561615,
          0.037424419075250626,
          0.03730161488056183,
          0.03728611767292023,
          0.036952607333660126,
          0.0361584797501564,
          0.03497985005378723,
          0.03198810666799545,
          0.03350366652011871,
          0.04305429384112358,
          0.03510703891515732,
          0.03424358367919922,
          0.03736013546586037,
          0.039733149111270905,
          0.03784613683819771,
          0.037265509366989136,
          0.035197824239730835,
          0.03258274495601654,
          0.03347623720765114,
          0.038684502243995667,
          0.03534509241580963,
          0.038034066557884216,
          0.03559693321585655,
          0.0340520441532135,
          0.02319110929965973,
          0.02658303827047348,
          0.025656258687376976,
          0.032423168420791626,
          0.04936696216464043,
          0.028503378853201866,
          0.021169323474168777,
          0.03960534185171127,
          0.031429484486579895,
          0.032949358224868774,
          0.035348303616046906,
          0.034330010414123535,
          0.03936176002025604,
          0.03813217580318451,
          0.0370471328496933,
          0.03695780038833618,
          0.03693627566099167,
          0.03455362096428871,
          0.0377822071313858,
          0.03770213946700096,
          0.03646496683359146,
          0.03867205232381821,
          0.03862680122256279,
          0.03796815499663353,
          0.03984813764691353,
          0.04072531312704086,
          0.040551766753196716,
          0.03747236728668213,
          0.03784365952014923,
          0.03575630486011505,
          0.03475099429488182,
          0.034173138439655304,
          0.03800102323293686,
          0.03645353019237518,
          0.039118990302085876,
          0.042792677879333496,
          0.03797151893377304,
          0.031175345182418823,
          0.0376773476600647,
          0.03953002765774727,
          0.03759119659662247,
          0.03743111342191696,
          0.035718828439712524,
          0.03223048895597458,
          0.033833276480436325,
          0.038810402154922485,
          0.033573415130376816,
          0.03463084250688553,
          0.04147535189986229,
          0.041865646839141846,
          0.029592987149953842,
          0.03234872221946716,
          0.031449660658836365,
          0.03511364012956619,
          0.03292066603899002,
          0.02245941013097763,
          0.025544125586748123,
          0.025290442630648613,
          0.03517159819602966,
          0.029763050377368927,
          0.0379524789750576,
          0.03666561096906662,
          0.03568710386753082,
          0.03547209873795509,
          0.03472968935966492,
          0.03457099199295044,
          0.036807581782341,
          0.035737816244363785,
          0.03888019919395447
         ]
        },
        {
         "mode": "lines",
         "name": "State 11",
         "type": "scatter",
         "y": [
          0.03856036812067032,
          0.0348074696958065,
          0.03517955541610718,
          0.03450948745012283,
          0.036523543298244476,
          0.03694245591759682,
          0.0360596626996994,
          0.03471720963716507,
          0.03427322581410408,
          0.03410078212618828,
          0.0343627855181694,
          0.0344950333237648,
          0.035368312150239944,
          0.03669910132884979,
          0.038337573409080505,
          0.03748225420713425,
          0.028850892558693886,
          0.037677161395549774,
          0.03532230108976364,
          0.03426268696784973,
          0.031014587730169296,
          0.033751826733350754,
          0.034180253744125366,
          0.03783867880702019,
          0.03881256282329559,
          0.037449635565280914,
          0.03298703581094742,
          0.03634587675333023,
          0.03374503552913666,
          0.03465111553668976,
          0.03805103152990341,
          0.04547130689024925,
          0.04534066841006279,
          0.04580601677298546,
          0.038183026015758514,
          0.02258266508579254,
          0.042465463280677795,
          0.053479477763175964,
          0.031701549887657166,
          0.03981117159128189,
          0.038050200790166855,
          0.03873454034328461,
          0.03729024529457092,
          0.03211595118045807,
          0.03342702239751816,
          0.034627556800842285,
          0.03447403758764267,
          0.03509308770298958,
          0.03650153428316116,
          0.03330138325691223,
          0.03337927907705307,
          0.03482332080602646,
          0.03384976089000702,
          0.032893043011426926,
          0.03319203853607178,
          0.030596543103456497,
          0.03171958401799202,
          0.03142299875617027,
          0.03472955897450447,
          0.03334316611289978,
          0.03577755391597748,
          0.03741062432527542,
          0.03689109534025192,
          0.033173270523548126,
          0.03486844152212143,
          0.032239265739917755,
          0.029841946437954903,
          0.03255626559257507,
          0.039147015661001205,
          0.03358028084039688,
          0.031374674290418625,
          0.03385595604777336,
          0.03392550349235535,
          0.03709375858306885,
          0.03919226676225662,
          0.03688645362854004,
          0.03246774524450302,
          0.0377403125166893,
          0.03693448007106781,
          0.030090902000665665,
          0.030533744022250175,
          0.039940450340509415,
          0.037893496453762054,
          0.03787822648882866,
          0.03627133369445801,
          0.03832261264324188,
          0.04755125939846039,
          0.04627751186490059,
          0.04620763286948204,
          0.03519365191459656,
          0.040764495730400085,
          0.03379986062645912,
          0.0344184935092926,
          0.03581825643777847,
          0.03564436733722687,
          0.036276981234550476,
          0.036091383546590805,
          0.03472830355167389,
          0.035850223153829575,
          0.03232347220182419
         ]
        },
        {
         "mode": "lines",
         "name": "State 12",
         "type": "scatter",
         "y": [
          0.035192567855119705,
          0.03821440786123276,
          0.03691841661930084,
          0.03702187538146973,
          0.03534241020679474,
          0.03336472064256668,
          0.035529155284166336,
          0.036172449588775635,
          0.03777431696653366,
          0.0368054024875164,
          0.03789149597287178,
          0.03664034232497215,
          0.03727205842733383,
          0.03682335838675499,
          0.03482906520366669,
          0.036942124366760254,
          0.038500793278217316,
          0.032696422189474106,
          0.03407731652259827,
          0.03921554237604141,
          0.04050733894109726,
          0.03815668821334839,
          0.03615662455558777,
          0.033580340445041656,
          0.031554095447063446,
          0.03596966341137886,
          0.03650829941034317,
          0.035876303911209106,
          0.03655429556965828,
          0.035249948501586914,
          0.03165462240576744,
          0.029189355671405792,
          0.0331859290599823,
          0.031394146382808685,
          0.037358708679676056,
          0.03774121776223183,
          0.022806990891695023,
          0.030921882018446922,
          0.04772813245654106,
          0.025901304557919502,
          0.033957019448280334,
          0.035055436193943024,
          0.03610209375619888,
          0.03829997032880783,
          0.03808145225048065,
          0.03676753118634224,
          0.036880455911159515,
          0.034126732498407364,
          0.03519400209188461,
          0.03840358182787895,
          0.03747422993183136,
          0.03658708557486534,
          0.03812306001782417,
          0.03821694105863571,
          0.03960549458861351,
          0.040752459317445755,
          0.0401943102478981,
          0.03698720782995224,
          0.03487571328878403,
          0.03725355863571167,
          0.03394348919391632,
          0.033601947128772736,
          0.0329238586127758,
          0.03736024349927902,
          0.03712967410683632,
          0.04031642526388168,
          0.03585861623287201,
          0.03589465469121933,
          0.03615293651819229,
          0.038298264145851135,
          0.04005751013755798,
          0.03812863677740097,
          0.03652084246277809,
          0.03405727446079254,
          0.0314619317650795,
          0.03636013716459274,
          0.03683483228087425,
          0.034513480961322784,
          0.03741955757141113,
          0.039271920919418335,
          0.040025509893894196,
          0.035177018493413925,
          0.03493311256170273,
          0.03232508897781372,
          0.0361047238111496,
          0.028772562742233276,
          0.029963288456201553,
          0.03203709423542023,
          0.03135186433792114,
          0.03986884281039238,
          0.03466326370835304,
          0.039022643119096756,
          0.03693192079663277,
          0.033928804099559784,
          0.036472126841545105,
          0.035176582634449005,
          0.03512067347764969,
          0.03721214085817337,
          0.03508418798446655,
          0.038953930139541626
         ]
        },
        {
         "mode": "lines",
         "name": "State 13",
         "type": "scatter",
         "y": [
          0.03687987104058266,
          0.03276686370372772,
          0.035156767815351486,
          0.03403398394584656,
          0.036346931010484695,
          0.03839933127164841,
          0.03622222691774368,
          0.03532562404870987,
          0.03351452574133873,
          0.034483425319194794,
          0.03448835015296936,
          0.03485371172428131,
          0.0343695692718029,
          0.03526463359594345,
          0.03702868893742561,
          0.03468269109725952,
          0.03281013295054436,
          0.038917236030101776,
          0.037419553846120834,
          0.032589420676231384,
          0.03099045902490616,
          0.033655211329460144,
          0.035123273730278015,
          0.03796085715293884,
          0.040097374469041824,
          0.036276958882808685,
          0.034769464284181595,
          0.03438092768192291,
          0.035213276743888855,
          0.0362095907330513,
          0.03931431472301483,
          0.04441654682159424,
          0.038175396621227264,
          0.04005729407072067,
          0.03393836319446564,
          0.03312819078564644,
          0.04929495230317116,
          0.03708108514547348,
          0.02460136078298092,
          0.04479832202196121,
          0.03787604719400406,
          0.03672138229012489,
          0.03590089827775955,
          0.03329111263155937,
          0.03336173668503761,
          0.03468163311481476,
          0.03496759757399559,
          0.037495099008083344,
          0.03672686964273453,
          0.03231380134820938,
          0.03394175320863724,
          0.03439614921808243,
          0.03385316580533981,
          0.03357110917568207,
          0.03357061371207237,
          0.03094526007771492,
          0.0311752799898386,
          0.03377029299736023,
          0.03600381314754486,
          0.03416804224252701,
          0.037138424813747406,
          0.037814099341630936,
          0.03800284117460251,
          0.03410126641392708,
          0.034555014222860336,
          0.032411351799964905,
          0.034223344177007675,
          0.03635735437273979,
          0.03595623001456261,
          0.033042944967746735,
          0.031801581382751465,
          0.03376726061105728,
          0.03482579439878464,
          0.03743809834122658,
          0.04022737592458725,
          0.03571759909391403,
          0.034550197422504425,
          0.03653382137417793,
          0.03528605028986931,
          0.03228096663951874,
          0.030789176002144814,
          0.03526681289076805,
          0.035867057740688324,
          0.041062962263822556,
          0.03448013588786125,
          0.04090924188494682,
          0.04323895648121834,
          0.038986437022686005,
          0.03964705392718315,
          0.031215326860547066,
          0.03721976280212402,
          0.032542187720537186,
          0.03457619622349739,
          0.03658616542816162,
          0.035295262932777405,
          0.036149702966213226,
          0.035900942981243134,
          0.03467093035578728,
          0.03608180582523346,
          0.03276064246892929
         ]
        },
        {
         "mode": "lines",
         "name": "State 14",
         "type": "scatter",
         "y": [
          0.03335735946893692,
          0.03506803140044212,
          0.03568388521671295,
          0.036310262978076935,
          0.03595992177724838,
          0.03567788749933243,
          0.03526519984006882,
          0.036477819085121155,
          0.03642410412430763,
          0.036572765558958054,
          0.036293189972639084,
          0.036065723747015,
          0.03519855812191963,
          0.03470391407608986,
          0.03354800492525101,
          0.033003825694322586,
          0.04080402851104736,
          0.03687579929828644,
          0.0353054478764534,
          0.0349462628364563,
          0.03645993396639824,
          0.03599525988101959,
          0.03727211058139801,
          0.03498944267630577,
          0.0353226512670517,
          0.03427400812506676,
          0.037917666137218475,
          0.036534763872623444,
          0.037331633269786835,
          0.03721509873867035,
          0.036594755947589874,
          0.02883514016866684,
          0.028563935309648514,
          0.029002370312809944,
          0.032143477350473404,
          0.04800787568092346,
          0.03599483519792557,
          0.022594958543777466,
          0.03289402276277542,
          0.03720341995358467,
          0.03451618552207947,
          0.03416008502244949,
          0.03456726670265198,
          0.0374612882733345,
          0.03614841401576996,
          0.03605864942073822,
          0.03594030812382698,
          0.037027664482593536,
          0.03580855205655098,
          0.035717107355594635,
          0.0370161309838295,
          0.03615117073059082,
          0.03662048280239105,
          0.0367303341627121,
          0.03704358637332916,
          0.0368514358997345,
          0.036771684885025024,
          0.03909120708703995,
          0.03681737557053566,
          0.037352126091718674,
          0.03694939985871315,
          0.03616780787706375,
          0.03676973283290863,
          0.03656399995088577,
          0.03585394099354744,
          0.03562074899673462,
          0.04089910164475441,
          0.03903139382600784,
          0.031133774667978287,
          0.03611790016293526,
          0.03625532239675522,
          0.03593418747186661,
          0.03738611936569214,
          0.035358428955078125,
          0.03498687595129013,
          0.03415437415242195,
          0.03797346353530884,
          0.034388937056064606,
          0.033349115401506424,
          0.040878042578697205,
          0.037285272032022476,
          0.029564835131168365,
          0.03377700597047806,
          0.03604112192988396,
          0.03480430692434311,
          0.03651801124215126,
          0.028375796973705292,
          0.02830880507826805,
          0.02846486121416092,
          0.033699437975883484,
          0.03080572560429573,
          0.03547694534063339,
          0.03609386831521988,
          0.03619987145066261,
          0.035644322633743286,
          0.03544259071350098,
          0.0347595177590847,
          0.03706543892621994,
          0.036026857793331146,
          0.03645734488964081
         ]
        },
        {
         "mode": "lines",
         "name": "State 15",
         "type": "scatter",
         "y": [
          0.03891158103942871,
          0.036623530089855194,
          0.035350870341062546,
          0.03501136228442192,
          0.03495754674077034,
          0.035855572670698166,
          0.03620166331529617,
          0.03522133827209473,
          0.03509514033794403,
          0.034730423241853714,
          0.03455708548426628,
          0.03503445163369179,
          0.035760655999183655,
          0.036860622465610504,
          0.037774987518787384,
          0.038186874240636826,
          0.030671535059809685,
          0.034380339086055756,
          0.03649435192346573,
          0.036541152745485306,
          0.03484208136796951,
          0.03558364883065224,
          0.03396233171224594,
          0.03475242853164673,
          0.03619086369872093,
          0.037085212767124176,
          0.03360987454652786,
          0.033940840512514114,
          0.034183431416749954,
          0.034240707755088806,
          0.03533262759447098,
          0.04139212518930435,
          0.04182552546262741,
          0.04272668436169624,
          0.03899819403886795,
          0.02415352128446102,
          0.03313946723937988,
          0.04693606495857239,
          0.03895914927124977,
          0.03304686397314072,
          0.03767848014831543,
          0.03806489706039429,
          0.036608628928661346,
          0.0341876745223999,
          0.035422634333372116,
          0.03516172245144844,
          0.03498264402151108,
          0.03442377224564552,
          0.03583235293626785,
          0.03672046586871147,
          0.03460989147424698,
          0.034977562725543976,
          0.03425886482000351,
          0.03499554097652435,
          0.03378814086318016,
          0.034428417682647705,
          0.0341462679207325,
          0.032146621495485306,
          0.03420652449131012,
          0.03487250581383705,
          0.03452933952212334,
          0.035622432827949524,
          0.03520335257053375,
          0.034858085215091705,
          0.03625171259045601,
          0.03584935888648033,
          0.029663458466529846,
          0.03257866948843002,
          0.03960390388965607,
          0.03541249781847,
          0.03457127511501312,
          0.03560132905840874,
          0.03386469930410385,
          0.034759193658828735,
          0.036494094878435135,
          0.03682667389512062,
          0.03308405727148056,
          0.03703499212861061,
          0.03762165084481239,
          0.03194521367549896,
          0.03363146632909775,
          0.039725132286548615,
          0.03753560036420822,
          0.03501444682478905,
          0.0368649959564209,
          0.03482232242822647,
          0.043311707675457,
          0.04296541213989258,
          0.04331870749592781,
          0.03758535906672478,
          0.03993614763021469,
          0.035939231514930725,
          0.035436585545539856,
          0.03466081619262695,
          0.03646302968263626,
          0.03579907491803169,
          0.03509701043367386,
          0.03567410260438919,
          0.03528531268239021,
          0.034990325570106506
         ]
        },
        {
         "mode": "lines",
         "name": "State 16",
         "type": "scatter",
         "y": [
          0.034967608749866486,
          0.03807589411735535,
          0.03682621568441391,
          0.03641119599342346,
          0.03501538187265396,
          0.03338492289185524,
          0.035209834575653076,
          0.03625643253326416,
          0.037444278597831726,
          0.03636717051267624,
          0.03782308101654053,
          0.036393485963344574,
          0.037179332226514816,
          0.036413103342056274,
          0.034399665892124176,
          0.036950115114450455,
          0.039416879415512085,
          0.03220389410853386,
          0.034541916102170944,
          0.03868944197893143,
          0.04105248674750328,
          0.03813720494508743,
          0.03522779792547226,
          0.033790223300457,
          0.03127742558717728,
          0.03563295304775238,
          0.03640853613615036,
          0.03684869781136513,
          0.03627752512693405,
          0.036045484244823456,
          0.031323257833719254,
          0.0289986003190279,
          0.033329885452985764,
          0.03160695359110832,
          0.037327393889427185,
          0.03761083260178566,
          0.022802837193012238,
          0.030953191220760345,
          0.048251375555992126,
          0.026672860607504845,
          0.03407004848122597,
          0.035911012440919876,
          0.036400921642780304,
          0.03864748030900955,
          0.03770602121949196,
          0.037130504846572876,
          0.03603708744049072,
          0.034089114516973495,
          0.03496142476797104,
          0.03925462067127228,
          0.0374506376683712,
          0.03633376955986023,
          0.03740055114030838,
          0.0381917841732502,
          0.038901835680007935,
          0.04087626934051514,
          0.039936039596796036,
          0.036895912140607834,
          0.03539465740323067,
          0.0369991809129715,
          0.03495762497186661,
          0.03326890990138054,
          0.03231321647763252,
          0.03708954155445099,
          0.037245213985443115,
          0.04066023230552673,
          0.03774552047252655,
          0.03501810133457184,
          0.03645551577210426,
          0.038159824907779694,
          0.0404990091919899,
          0.03791065141558647,
          0.0353400893509388,
          0.03414696455001831,
          0.03122454695403576,
          0.036079347133636475,
          0.03688656538724899,
          0.03477359563112259,
          0.03726031631231308,
          0.03936200216412544,
          0.040664203464984894,
          0.03484617918729782,
          0.035349197685718536,
          0.030815480276942253,
          0.03635759279131889,
          0.02917173132300377,
          0.029787113890051842,
          0.03239522501826286,
          0.03146771341562271,
          0.039782702922821045,
          0.03462759032845497,
          0.03987671434879303,
          0.036926016211509705,
          0.03488239645957947,
          0.03641355782747269,
          0.03507243096828461,
          0.03581264615058899,
          0.03737356886267662,
          0.03461509197950363,
          0.038755010813474655
         ]
        },
        {
         "mode": "lines",
         "name": "State 17",
         "type": "scatter",
         "y": [
          0.03624306991696358,
          0.03310617804527283,
          0.034235820174217224,
          0.034787148237228394,
          0.03655233979225159,
          0.03748956322669983,
          0.03641488403081894,
          0.0353999063372612,
          0.03382527828216553,
          0.034918542951345444,
          0.03330453485250473,
          0.035340212285518646,
          0.0344669446349144,
          0.03553321212530136,
          0.0364944264292717,
          0.03442772850394249,
          0.032499492168426514,
          0.03878441080451012,
          0.03711676597595215,
          0.032386668026447296,
          0.030819637700915337,
          0.03349057957530022,
          0.03540344536304474,
          0.03839351236820221,
          0.0399954617023468,
          0.035819072276353836,
          0.035012274980545044,
          0.035755619406700134,
          0.034753065556287766,
          0.03592716157436371,
          0.03925031051039696,
          0.04513895511627197,
          0.038204193115234375,
          0.039715565741062164,
          0.03393932431936264,
          0.03364129737019539,
          0.0482640415430069,
          0.040996454656124115,
          0.024725552648305893,
          0.04578834027051926,
          0.038178808987140656,
          0.03604999929666519,
          0.03632035106420517,
          0.03288931027054787,
          0.03367697447538376,
          0.034665945917367935,
          0.03540613502264023,
          0.037231601774692535,
          0.036356206983327866,
          0.03211759030818939,
          0.033886346966028214,
          0.035139478743076324,
          0.0332869254052639,
          0.03344627469778061,
          0.03178165853023529,
          0.03074067085981369,
          0.031224656850099564,
          0.034244757145643234,
          0.03580793738365173,
          0.03452034294605255,
          0.03707219287753105,
          0.03739694878458977,
          0.03794665262103081,
          0.03410603851079941,
          0.03440183028578758,
          0.031869255006313324,
          0.03483789414167404,
          0.036081843078136444,
          0.03546249493956566,
          0.0331125371158123,
          0.03157457336783409,
          0.033583104610443115,
          0.03515982627868652,
          0.037726350128650665,
          0.03973326459527016,
          0.035277947783470154,
          0.03546445444226265,
          0.03701285645365715,
          0.03593423217535019,
          0.032841578125953674,
          0.03059098869562149,
          0.03778385743498802,
          0.0375610888004303,
          0.040857695043087006,
          0.03482490032911301,
          0.04290882498025894,
          0.04223573952913284,
          0.03910772129893303,
          0.03959609940648079,
          0.03128737956285477,
          0.04069795459508896,
          0.03233448415994644,
          0.034830302000045776,
          0.03741835802793503,
          0.03526896983385086,
          0.036344580352306366,
          0.03552810847759247,
          0.03536692261695862,
          0.036580752581357956,
          0.03243399038910866
         ]
        },
        {
         "mode": "lines",
         "name": "State 18",
         "type": "scatter",
         "y": [
          0.03518977016210556,
          0.03795861452817917,
          0.03632307052612305,
          0.03726056590676308,
          0.03500863164663315,
          0.033566318452358246,
          0.03551744669675827,
          0.03628813102841377,
          0.03770120441913605,
          0.036712341010570526,
          0.037054192274808884,
          0.03641975298523903,
          0.0370757021009922,
          0.03636036440730095,
          0.035575732588768005,
          0.03711409866809845,
          0.03847522288560867,
          0.03248562291264534,
          0.03452600911259651,
          0.03844297677278519,
          0.040837496519088745,
          0.03785879909992218,
          0.03618977218866348,
          0.0336151197552681,
          0.03156436234712601,
          0.03509863466024399,
          0.036161869764328,
          0.03564880043268204,
          0.036152567714452744,
          0.03528694808483124,
          0.03148898854851723,
          0.029398683458566666,
          0.03334707021713257,
          0.031541019678115845,
          0.0371999517083168,
          0.03658020496368408,
          0.022659234702587128,
          0.03126481920480728,
          0.045446887612342834,
          0.025845685973763466,
          0.03395083546638489,
          0.03620072081685066,
          0.03574677184224129,
          0.03840235620737076,
          0.037849873304367065,
          0.03637579083442688,
          0.03586636483669281,
          0.034232210367918015,
          0.03491565212607384,
          0.037702061235904694,
          0.03768705204129219,
          0.036855168640613556,
          0.037002261728048325,
          0.03812398388981819,
          0.038398757576942444,
          0.04165730997920036,
          0.03963654488325119,
          0.03722541779279709,
          0.03501371666789055,
          0.03684695065021515,
          0.034139782190322876,
          0.03345201537013054,
          0.033687204122543335,
          0.03729388117790222,
          0.03608359396457672,
          0.04042834788560867,
          0.03711020201444626,
          0.03594411909580231,
          0.03625834360718727,
          0.038304880261421204,
          0.03995048254728317,
          0.03778448700904846,
          0.03663203865289688,
          0.0340307354927063,
          0.031542882323265076,
          0.03538988530635834,
          0.0361577533185482,
          0.03472740575671196,
          0.036375559866428375,
          0.03911546245217323,
          0.040941670536994934,
          0.035741500556468964,
          0.0345664881169796,
          0.03162439912557602,
          0.03684866800904274,
          0.029532786458730698,
          0.02979070320725441,
          0.03246466815471649,
          0.03145048767328262,
          0.03960415720939636,
          0.03482905402779579,
          0.0389767624437809,
          0.036758776754140854,
          0.034879203885793686,
          0.03566739708185196,
          0.03565872088074684,
          0.03474176302552223,
          0.035965822637081146,
          0.03468790650367737,
          0.03933166712522507
         ]
        },
        {
         "mode": "lines",
         "name": "State 19",
         "type": "scatter",
         "y": [
          0.03638269379734993,
          0.03340644761919975,
          0.034867897629737854,
          0.03437763452529907,
          0.03594483807682991,
          0.0366283543407917,
          0.03602195531129837,
          0.034800171852111816,
          0.03360768407583237,
          0.03476063907146454,
          0.03433379530906677,
          0.035068660974502563,
          0.03418591618537903,
          0.035016920417547226,
          0.03661291301250458,
          0.03458051383495331,
          0.0330471396446228,
          0.038926005363464355,
          0.03657517954707146,
          0.032735224813222885,
          0.030881186947226524,
          0.033520158380270004,
          0.0353173166513443,
          0.03859913349151611,
          0.039792031049728394,
          0.036194320768117905,
          0.034995339810848236,
          0.03581622242927551,
          0.034961096942424774,
          0.035278111696243286,
          0.03964092954993248,
          0.04401363432407379,
          0.038351111114025116,
          0.040054112672805786,
          0.03392011299729347,
          0.034093085676431656,
          0.05053632706403732,
          0.04054194688796997,
          0.024439996108412743,
          0.04528879374265671,
          0.038088757544755936,
          0.03645321726799011,
          0.036233194172382355,
          0.03292613849043846,
          0.03354249894618988,
          0.03530111163854599,
          0.03496141731739044,
          0.037509214133024216,
          0.03651975840330124,
          0.03186513110995293,
          0.03383024036884308,
          0.03513452410697937,
          0.03325287997722626,
          0.03336897864937782,
          0.03301036357879639,
          0.031158342957496643,
          0.030850909650325775,
          0.03458811342716217,
          0.03597243130207062,
          0.03415210172533989,
          0.03622692823410034,
          0.03823550045490265,
          0.03817485272884369,
          0.03392723575234413,
          0.03458649292588234,
          0.031108731403946877,
          0.033607810735702515,
          0.03634873032569885,
          0.03592909127473831,
          0.033469073474407196,
          0.031701356172561646,
          0.03360317647457123,
          0.03503938019275665,
          0.03788371384143829,
          0.04001947119832039,
          0.03558473289012909,
          0.034848861396312714,
          0.0370626300573349,
          0.03537497669458389,
          0.03258363902568817,
          0.031014932319521904,
          0.03581361472606659,
          0.03528797626495361,
          0.039051398634910583,
          0.03471209481358528,
          0.0433395579457283,
          0.042090125381946564,
          0.039020176976919174,
          0.039703939110040665,
          0.03153502941131592,
          0.037215083837509155,
          0.032490845769643784,
          0.03508235514163971,
          0.037783414125442505,
          0.03544025123119354,
          0.03632918745279312,
          0.03557278960943222,
          0.03601159527897835,
          0.03588874638080597,
          0.03205763176083565
         ]
        },
        {
         "mode": "lines",
         "name": "State 20",
         "type": "scatter",
         "y": [
          0.0401189923286438,
          0.034379854798316956,
          0.034990981221199036,
          0.03433056175708771,
          0.036724988371133804,
          0.0377831757068634,
          0.03669522702693939,
          0.03516270965337753,
          0.03378274664282799,
          0.03397339954972267,
          0.03349693864583969,
          0.03400002792477608,
          0.03443850576877594,
          0.036099858582019806,
          0.038550809025764465,
          0.03834450989961624,
          0.02944009192287922,
          0.03746652603149414,
          0.037424974143505096,
          0.03349477797746658,
          0.030878916382789612,
          0.033620379865169525,
          0.03371971845626831,
          0.03787162899971008,
          0.039211206138134,
          0.036667272448539734,
          0.03378007560968399,
          0.03528369963169098,
          0.0333670973777771,
          0.0341293066740036,
          0.038712192326784134,
          0.04981662333011627,
          0.045892078429460526,
          0.04917622357606888,
          0.03991714492440224,
          0.020198218524456024,
          0.04433779418468475,
          0.05073925480246544,
          0.028905710205435753,
          0.04464971274137497,
          0.03974716365337372,
          0.03804786503314972,
          0.03671391308307648,
          0.03241633623838425,
          0.033248305320739746,
          0.03395075350999832,
          0.034368790686130524,
          0.03572054207324982,
          0.03649877384305,
          0.0335516594350338,
          0.03261959180235863,
          0.03443516790866852,
          0.03320787474513054,
          0.032830070704221725,
          0.03205559402704239,
          0.03071553073823452,
          0.03082248941063881,
          0.03171759098768234,
          0.033693958073854446,
          0.03349272161722183,
          0.035011909902095795,
          0.0374588817358017,
          0.03635511174798012,
          0.0325465202331543,
          0.03452419489622116,
          0.03140438348054886,
          0.03006797470152378,
          0.03295128792524338,
          0.03801508992910385,
          0.03369525447487831,
          0.03155466914176941,
          0.033716194331645966,
          0.033505916595458984,
          0.0365278422832489,
          0.03949309140443802,
          0.03594037517905235,
          0.03344368934631348,
          0.037312351167201996,
          0.036524899303913116,
          0.030217066407203674,
          0.027066782116889954,
          0.04006349667906761,
          0.03866908699274063,
          0.040923841297626495,
          0.03531467914581299,
          0.04064102843403816,
          0.05014212429523468,
          0.04745859280228615,
          0.050404518842697144,
          0.03658701106905937,
          0.03876969963312149,
          0.029891598969697952,
          0.03360387682914734,
          0.03710249811410904,
          0.03585382178425789,
          0.03643839806318283,
          0.03600310534238815,
          0.03603631258010864,
          0.03607013449072838,
          0.032162442803382874
         ]
        },
        {
         "mode": "lines",
         "name": "State 21",
         "type": "scatter",
         "y": [
          0.03168676048517227,
          0.03742979094386101,
          0.03622310981154442,
          0.037400584667921066,
          0.03525085747241974,
          0.033532723784446716,
          0.03457011282444,
          0.03646408021450043,
          0.03795875981450081,
          0.037651922553777695,
          0.03763546049594879,
          0.03745605796575546,
          0.036877334117889404,
          0.035297147929668427,
          0.03246723487973213,
          0.03285597264766693,
          0.041813455522060394,
          0.034532926976680756,
          0.03408987820148468,
          0.03658055514097214,
          0.03978314250707626,
          0.03759332746267319,
          0.03754372522234917,
          0.03312327712774277,
          0.03242058679461479,
          0.03407663851976395,
          0.037532396614551544,
          0.03693731501698494,
          0.038385793566703796,
          0.03816317021846771,
          0.033507101237773895,
          0.019704259932041168,
          0.024309970438480377,
          0.02206043340265751,
          0.03137291595339775,
          0.051468901336193085,
          0.026216985657811165,
          0.02280007302761078,
          0.04086189717054367,
          0.03088359162211418,
          0.030277138575911522,
          0.034172359853982925,
          0.034320734441280365,
          0.038953907787799835,
          0.038330912590026855,
          0.037255171686410904,
          0.0370335578918457,
          0.03602378070354462,
          0.034219708293676376,
          0.0388624370098114,
          0.03850015252828598,
          0.03738502785563469,
          0.03865685313940048,
          0.03857472538948059,
          0.038526009768247604,
          0.04060380160808563,
          0.04057949036359787,
          0.039562568068504333,
          0.03670598566532135,
          0.03861256688833237,
          0.03671390935778618,
          0.034478601068258286,
          0.034703705459833145,
          0.03790486231446266,
          0.037171244621276855,
          0.03964652121067047,
          0.04161335527896881,
          0.03788910061120987,
          0.032448455691337585,
          0.037606243044137955,
          0.038873765617609024,
          0.03758770972490311,
          0.03781260550022125,
          0.03392155468463898,
          0.03208234906196594,
          0.03498915582895279,
          0.03774800896644592,
          0.033911559730768204,
          0.03379739075899124,
          0.04161292314529419,
          0.04457119107246399,
          0.03287550061941147,
          0.03577408194541931,
          0.030792683362960815,
          0.035602010786533356,
          0.03152545541524887,
          0.019390203058719635,
          0.02297762967646122,
          0.02156844735145569,
          0.035269610583782196,
          0.030859529972076416,
          0.040887389332056046,
          0.03824704885482788,
          0.035290930420160294,
          0.03554428368806839,
          0.034951359033584595,
          0.03480809926986694,
          0.03772187605500221,
          0.035716790705919266,
          0.039281077682971954
         ]
        },
        {
         "mode": "lines",
         "name": "State 22",
         "type": "scatter",
         "y": [
          0.03888823091983795,
          0.03179801627993584,
          0.03623562678694725,
          0.034937817603349686,
          0.03613320738077164,
          0.0343441404402256,
          0.034159380942583084,
          0.037347257137298584,
          0.03502047806978226,
          0.03318534791469574,
          0.0395481251180172,
          0.03446996957063675,
          0.04207408428192139,
          0.03108094446361065,
          0.03656820207834244,
          0.036989547312259674,
          0.03711637109518051,
          0.03576645255088806,
          0.03268279880285263,
          0.03458646684885025,
          0.036801181733608246,
          0.03494127467274666,
          0.035848937928676605,
          0.034353870898485184,
          0.04100027680397034,
          0.03632408753037453,
          0.036649905145168304,
          0.03214786946773529,
          0.03545169532299042,
          0.03895517811179161,
          0.03470942750573158,
          0.03599190711975098,
          0.035199400037527084,
          0.033499959856271744,
          0.03669199347496033,
          0.04076506569981575,
          0.035886600613594055,
          0.028890397399663925,
          0.046637162566185,
          0.028602326288819313,
          0.03604750707745552,
          0.036403365433216095,
          0.03439488634467125,
          0.03697110712528229,
          0.031145721673965454,
          0.03900911286473274,
          0.034219831228256226,
          0.03557231277227402,
          0.03454558178782463,
          0.036848098039627075,
          0.03377480059862137,
          0.034015901386737823,
          0.036396075040102005,
          0.032337114214897156,
          0.03802754729986191,
          0.042817093431949615,
          0.0338621661067009,
          0.033441685140132904,
          0.04009126499295235,
          0.03730936348438263,
          0.037839606404304504,
          0.03203520178794861,
          0.04262470453977585,
          0.03501603752374649,
          0.03199581056833267,
          0.027355849742889404,
          0.031158801168203354,
          0.0353504940867424,
          0.03796015679836273,
          0.032743096351623535,
          0.03590002655982971,
          0.034676648676395416,
          0.03588162735104561,
          0.03423672541975975,
          0.041306786239147186,
          0.03816816210746765,
          0.03706200420856476,
          0.0359962023794651,
          0.03835179656744003,
          0.037129275500774384,
          0.028981951996684074,
          0.0374855175614357,
          0.03277090564370155,
          0.033866532146930695,
          0.03378856182098389,
          0.03572748601436615,
          0.035859961062669754,
          0.03651297837495804,
          0.03272278234362602,
          0.03706579655408859,
          0.03719068691134453,
          0.038531262427568436,
          0.03701748698949814,
          0.03161745145916939,
          0.03182145953178406,
          0.040632959455251694,
          0.033758945763111115,
          0.035162489861249924,
          0.035560257732868195,
          0.03351643308997154
         ]
        },
        {
         "mode": "lines",
         "name": "State 23",
         "type": "scatter",
         "y": [
          0.031900275498628616,
          0.04047723487019539,
          0.03498391807079315,
          0.03684765100479126,
          0.034940678626298904,
          0.03695615381002426,
          0.03764280676841736,
          0.034510210156440735,
          0.03648701682686806,
          0.038124002516269684,
          0.032628320157527924,
          0.036371685564517975,
          0.028897076845169067,
          0.03970186412334442,
          0.03408900275826454,
          0.03459979593753815,
          0.034217819571495056,
          0.03560750186443329,
          0.038494572043418884,
          0.03732670098543167,
          0.03477994352579117,
          0.036177754402160645,
          0.03590686619281769,
          0.035637930035591125,
          0.030758913606405258,
          0.03532709553837776,
          0.03482840955257416,
          0.03796128183603287,
          0.03597992658615112,
          0.032893359661102295,
          0.036622386425733566,
          0.035927385091781616,
          0.03722241893410683,
          0.0374675989151001,
          0.03680798411369324,
          0.03006875514984131,
          0.034292642027139664,
          0.041380610316991806,
          0.02576609142124653,
          0.043482378125190735,
          0.03639856353402138,
          0.033015623688697815,
          0.036277007311582565,
          0.03547518327832222,
          0.04018484801054001,
          0.032194577157497406,
          0.03697880730032921,
          0.034348852932453156,
          0.037089791148900986,
          0.0359899140894413,
          0.03758808225393295,
          0.03780616819858551,
          0.034188687801361084,
          0.038828231394290924,
          0.03493180125951767,
          0.02848753146827221,
          0.03737378120422363,
          0.03841959685087204,
          0.03176054731011391,
          0.034198909997940063,
          0.03313056007027626,
          0.03868681937456131,
          0.02963726595044136,
          0.03732376918196678,
          0.03977678716182709,
          0.046033695340156555,
          0.041069526225328445,
          0.03637006878852844,
          0.03376135230064392,
          0.039055146276950836,
          0.03592663258314133,
          0.03645380586385727,
          0.036013901233673096,
          0.03614688664674759,
          0.03047284670174122,
          0.033947963267564774,
          0.034633882343769073,
          0.035072483122348785,
          0.0329788513481617,
          0.03345296531915665,
          0.04181811958551407,
          0.038814302533864975,
          0.03843553736805916,
          0.034167103469371796,
          0.037748582661151886,
          0.03741265833377838,
          0.03654127195477486,
          0.036253102123737335,
          0.037838682532310486,
          0.036240413784980774,
          0.03295024484395981,
          0.03330497443675995,
          0.03408722206950188,
          0.03924382105469704,
          0.040226325392723083,
          0.030212879180908203,
          0.038591839373111725,
          0.03428557887673378,
          0.03707095980644226,
          0.03798408806324005
         ]
        },
        {
         "mode": "lines",
         "name": "State 24",
         "type": "scatter",
         "y": [
          0.037461698055267334,
          0.03213290125131607,
          0.03702559322118759,
          0.03367741405963898,
          0.03656624257564545,
          0.034569982439279556,
          0.033813923597335815,
          0.03703882545232773,
          0.0349016934633255,
          0.03253009915351868,
          0.040534667670726776,
          0.03262628614902496,
          0.04014971852302551,
          0.03144305944442749,
          0.0369875431060791,
          0.03612349554896355,
          0.038284413516521454,
          0.034760523587465286,
          0.032644741237163544,
          0.03528962284326553,
          0.037072960287332535,
          0.03499901294708252,
          0.03520099073648453,
          0.035388924181461334,
          0.038983505219221115,
          0.036494605243206024,
          0.03776276484131813,
          0.03173336386680603,
          0.03477899730205536,
          0.03824217617511749,
          0.03441502898931503,
          0.034693486988544464,
          0.03511659801006317,
          0.03433492034673691,
          0.035882361233234406,
          0.04319952800869942,
          0.03555141016840935,
          0.03279928117990494,
          0.04493364319205284,
          0.02688813954591751,
          0.03574889153242111,
          0.037563711404800415,
          0.03401704877614975,
          0.03719604015350342,
          0.03034881316125393,
          0.04028385877609253,
          0.031822238117456436,
          0.03594443202018738,
          0.03501936048269272,
          0.036232322454452515,
          0.034172795712947845,
          0.033354148268699646,
          0.037294287234544754,
          0.031591542065143585,
          0.038559816777706146,
          0.040511004626750946,
          0.03309515118598938,
          0.0336221382021904,
          0.03892262279987335,
          0.03609929978847504,
          0.03730301558971405,
          0.03176867216825485,
          0.040666114538908005,
          0.0340653732419014,
          0.031160002574324608,
          0.028450924903154373,
          0.030516142025589943,
          0.03674069792032242,
          0.03828509524464607,
          0.033114708960056305,
          0.036984384059906006,
          0.034519486129283905,
          0.03513692691922188,
          0.03514231741428375,
          0.03940484672784805,
          0.03856752812862396,
          0.038090694695711136,
          0.03429548069834709,
          0.03763847053050995,
          0.03858537971973419,
          0.028559260070323944,
          0.033954963088035583,
          0.03320084512233734,
          0.03636885806918144,
          0.03273501992225647,
          0.033392518758773804,
          0.03506140410900116,
          0.035696715116500854,
          0.03433509171009064,
          0.03597342222929001,
          0.03694216534495354,
          0.03688100725412369,
          0.03590109571814537,
          0.0315917544066906,
          0.03226543962955475,
          0.0407690666615963,
          0.03387448191642761,
          0.03685549646615982,
          0.03275546431541443,
          0.03451231122016907
         ]
        },
        {
         "mode": "lines",
         "name": "State 25",
         "type": "scatter",
         "y": [
          0.03257763758301735,
          0.03927977383136749,
          0.034742824733257294,
          0.03774932026863098,
          0.03479548543691635,
          0.036709994077682495,
          0.03669857233762741,
          0.03392333909869194,
          0.03677447885274887,
          0.03869582712650299,
          0.03135690093040466,
          0.03896588832139969,
          0.030907519161701202,
          0.03879934176802635,
          0.034475356340408325,
          0.03570478409528732,
          0.033154867589473724,
          0.03627106547355652,
          0.037746019661426544,
          0.03640756756067276,
          0.03452397882938385,
          0.03628280758857727,
          0.036480456590652466,
          0.035988904535770416,
          0.03255510330200195,
          0.03505472466349602,
          0.03347769379615784,
          0.038525134325027466,
          0.03648480400443077,
          0.03374665603041649,
          0.03696342557668686,
          0.03533346578478813,
          0.03720070421695709,
          0.0370284765958786,
          0.035960033535957336,
          0.028638524934649467,
          0.03458515554666519,
          0.036549780517816544,
          0.028962228447198868,
          0.04372194781899452,
          0.036599740386009216,
          0.03203507140278816,
          0.03665296733379364,
          0.03380390256643295,
          0.041068702936172485,
          0.031170830130577087,
          0.039712198078632355,
          0.03453776612877846,
          0.036281291395425797,
          0.03425252065062523,
          0.03740581497550011,
          0.038031548261642456,
          0.03521602973341942,
          0.039749257266521454,
          0.03324570506811142,
          0.03101377561688423,
          0.03765564784407616,
          0.037638433277606964,
          0.03331092745065689,
          0.034670718014240265,
          0.0344415083527565,
          0.039313144981861115,
          0.030367542058229446,
          0.03707239404320717,
          0.03946540504693985,
          0.04352719336748123,
          0.04225388914346695,
          0.03523195907473564,
          0.03367185592651367,
          0.03853090852499008,
          0.03475847840309143,
          0.0366913378238678,
          0.03651345521211624,
          0.03642883151769638,
          0.03228037431836128,
          0.03333558887243271,
          0.033230751752853394,
          0.03771073743700981,
          0.033936113119125366,
          0.03243710473179817,
          0.04564892500638962,
          0.03554200381040573,
          0.034992244094610214,
          0.03474802523851395,
          0.04035230353474617,
          0.03805205598473549,
          0.03631611168384552,
          0.03640390932559967,
          0.03735269606113434,
          0.03557490184903145,
          0.03377348557114601,
          0.033957500010728836,
          0.03533409535884857,
          0.039479225873947144,
          0.03874697908759117,
          0.030579466372728348,
          0.03605883941054344,
          0.032872989773750305,
          0.03920292854309082,
          0.03735264018177986
         ]
        },
        {
         "mode": "lines",
         "name": "State 26",
         "type": "scatter",
         "y": [
          0.0353701189160347,
          0.0358588844537735,
          0.035354189574718475,
          0.03483213484287262,
          0.03538244962692261,
          0.035869039595127106,
          0.0359843447804451,
          0.03616400808095932,
          0.035135239362716675,
          0.035214751958847046,
          0.0355847105383873,
          0.034633569419384,
          0.03580143302679062,
          0.035714078694581985,
          0.035583700984716415,
          0.03704576939344406,
          0.03522104024887085,
          0.03816703334450722,
          0.03591056913137436,
          0.03538374602794647,
          0.0354309044778347,
          0.035253651440143585,
          0.037830933928489685,
          0.034196510910987854,
          0.03626278415322304,
          0.03314773738384247,
          0.03559480980038643,
          0.03633534163236618,
          0.03586501628160477,
          0.03575563430786133,
          0.03552082180976868,
          0.03717948868870735,
          0.037488073110580444,
          0.03601570054888725,
          0.03576386719942093,
          0.02540377527475357,
          0.05649164691567421,
          0.031432345509529114,
          0.03916070610284805,
          0.030956437811255455,
          0.037607770413160324,
          0.03495980054140091,
          0.03631642833352089,
          0.03547196835279465,
          0.03448493778705597,
          0.036288462579250336,
          0.035137537866830826,
          0.035861093550920486,
          0.03562922775745392,
          0.03583255410194397,
          0.03626431152224541,
          0.034876421093940735,
          0.03584321588277817,
          0.03597117215394974,
          0.035333845764398575,
          0.03457547351717949,
          0.03607357293367386,
          0.03431626781821251,
          0.03686470910906792,
          0.035064637660980225,
          0.03532849997282028,
          0.03542950004339218,
          0.03596934676170349,
          0.05548606440424919,
          0.02795705571770668,
          0.03501434251666069,
          0.033758632838726044,
          0.03734768182039261,
          0.035507313907146454,
          0.03577272966504097,
          0.03578656166791916,
          0.035316020250320435,
          0.03746136277914047,
          0.0339190773665905,
          0.036554060876369476,
          0.032352834939956665,
          0.03545942157506943,
          0.03819843381643295,
          0.03148550167679787,
          0.047158367931842804,
          0.030202461406588554,
          0.028247658163309097,
          0.041335832327604294,
          0.037727758288383484,
          0.03526300936937332,
          0.03513016551733017,
          0.03939692676067352,
          0.03709222376346588,
          0.03579140827059746,
          0.03501168265938759,
          0.03562622517347336,
          0.034683726727962494,
          0.03585667163133621,
          0.03439813107252121,
          0.0363144613802433,
          0.03714942932128906,
          0.03658787161111832,
          0.034605421125888824,
          0.03621803969144821,
          0.03516821190714836
         ]
        },
        {
         "mode": "lines",
         "name": "State 27",
         "type": "scatter",
         "y": [
          0.03577611595392227,
          0.035778552293777466,
          0.036236390471458435,
          0.036309920251369476,
          0.03631816431879997,
          0.035585787147283554,
          0.03427930176258087,
          0.03552577272057533,
          0.036461733281612396,
          0.036302030086517334,
          0.03517746180295944,
          0.03658711910247803,
          0.03580131009221077,
          0.03419177606701851,
          0.03641866147518158,
          0.03473019599914551,
          0.03585558384656906,
          0.032790154218673706,
          0.03669999539852142,
          0.03659705072641373,
          0.03617261350154877,
          0.035832591354846954,
          0.03397035971283913,
          0.03709083050489426,
          0.03485812991857529,
          0.038385406136512756,
          0.03598654642701149,
          0.034614674746990204,
          0.03515087068080902,
          0.035877928137779236,
          0.03537854924798012,
          0.03533243387937546,
          0.034705180674791336,
          0.035372499376535416,
          0.03561374545097351,
          0.04762441664934158,
          0.019867051392793655,
          0.03857427462935448,
          0.0332229807972908,
          0.03590269386768341,
          0.0341537781059742,
          0.034790754318237305,
          0.03413178771734238,
          0.03588707372546196,
          0.036762043833732605,
          0.0344880111515522,
          0.03606071323156357,
          0.03539164364337921,
          0.036043185740709305,
          0.03555460274219513,
          0.03565544635057449,
          0.036670781672000885,
          0.03630616515874863,
          0.03547443449497223,
          0.035709723830223083,
          0.03690557926893234,
          0.03538428246974945,
          0.03674528747797012,
          0.03388412669301033,
          0.036320559680461884,
          0.036256544291973114,
          0.03574724122881889,
          0.035041578114032745,
          0.017273642122745514,
          0.04222041368484497,
          0.03360751271247864,
          0.037331316620111465,
          0.03399888798594475,
          0.036240555346012115,
          0.036051422357559204,
          0.03594543784856796,
          0.03585689887404442,
          0.03415219485759735,
          0.037340372800827026,
          0.0344962477684021,
          0.03900045156478882,
          0.036192335188388824,
          0.03303510323166847,
          0.03926421329379082,
          0.022298425436019897,
          0.0392569862306118,
          0.04125313460826874,
          0.029301954433321953,
          0.03199857845902443,
          0.03626468777656555,
          0.035921186208724976,
          0.033902496099472046,
          0.034176237881183624,
          0.03530368208885193,
          0.03583529591560364,
          0.03509119153022766,
          0.03629220649600029,
          0.03506585210561752,
          0.03721057251095772,
          0.03501302748918533,
          0.03450384736061096,
          0.03727182745933533,
          0.0342753641307354,
          0.03480995446443558,
          0.03622891381382942
         ]
        }
       ],
       "layout": {
        "template": {
         "data": {
          "bar": [
           {
            "error_x": {
             "color": "#2a3f5f"
            },
            "error_y": {
             "color": "#2a3f5f"
            },
            "marker": {
             "line": {
              "color": "#E5ECF6",
              "width": 0.5
             },
             "pattern": {
              "fillmode": "overlay",
              "size": 10,
              "solidity": 0.2
             }
            },
            "type": "bar"
           }
          ],
          "barpolar": [
           {
            "marker": {
             "line": {
              "color": "#E5ECF6",
              "width": 0.5
             },
             "pattern": {
              "fillmode": "overlay",
              "size": 10,
              "solidity": 0.2
             }
            },
            "type": "barpolar"
           }
          ],
          "carpet": [
           {
            "aaxis": {
             "endlinecolor": "#2a3f5f",
             "gridcolor": "white",
             "linecolor": "white",
             "minorgridcolor": "white",
             "startlinecolor": "#2a3f5f"
            },
            "baxis": {
             "endlinecolor": "#2a3f5f",
             "gridcolor": "white",
             "linecolor": "white",
             "minorgridcolor": "white",
             "startlinecolor": "#2a3f5f"
            },
            "type": "carpet"
           }
          ],
          "choropleth": [
           {
            "colorbar": {
             "outlinewidth": 0,
             "ticks": ""
            },
            "type": "choropleth"
           }
          ],
          "contour": [
           {
            "colorbar": {
             "outlinewidth": 0,
             "ticks": ""
            },
            "colorscale": [
             [
              0,
              "#0d0887"
             ],
             [
              0.1111111111111111,
              "#46039f"
             ],
             [
              0.2222222222222222,
              "#7201a8"
             ],
             [
              0.3333333333333333,
              "#9c179e"
             ],
             [
              0.4444444444444444,
              "#bd3786"
             ],
             [
              0.5555555555555556,
              "#d8576b"
             ],
             [
              0.6666666666666666,
              "#ed7953"
             ],
             [
              0.7777777777777778,
              "#fb9f3a"
             ],
             [
              0.8888888888888888,
              "#fdca26"
             ],
             [
              1,
              "#f0f921"
             ]
            ],
            "type": "contour"
           }
          ],
          "contourcarpet": [
           {
            "colorbar": {
             "outlinewidth": 0,
             "ticks": ""
            },
            "type": "contourcarpet"
           }
          ],
          "heatmap": [
           {
            "colorbar": {
             "outlinewidth": 0,
             "ticks": ""
            },
            "colorscale": [
             [
              0,
              "#0d0887"
             ],
             [
              0.1111111111111111,
              "#46039f"
             ],
             [
              0.2222222222222222,
              "#7201a8"
             ],
             [
              0.3333333333333333,
              "#9c179e"
             ],
             [
              0.4444444444444444,
              "#bd3786"
             ],
             [
              0.5555555555555556,
              "#d8576b"
             ],
             [
              0.6666666666666666,
              "#ed7953"
             ],
             [
              0.7777777777777778,
              "#fb9f3a"
             ],
             [
              0.8888888888888888,
              "#fdca26"
             ],
             [
              1,
              "#f0f921"
             ]
            ],
            "type": "heatmap"
           }
          ],
          "heatmapgl": [
           {
            "colorbar": {
             "outlinewidth": 0,
             "ticks": ""
            },
            "colorscale": [
             [
              0,
              "#0d0887"
             ],
             [
              0.1111111111111111,
              "#46039f"
             ],
             [
              0.2222222222222222,
              "#7201a8"
             ],
             [
              0.3333333333333333,
              "#9c179e"
             ],
             [
              0.4444444444444444,
              "#bd3786"
             ],
             [
              0.5555555555555556,
              "#d8576b"
             ],
             [
              0.6666666666666666,
              "#ed7953"
             ],
             [
              0.7777777777777778,
              "#fb9f3a"
             ],
             [
              0.8888888888888888,
              "#fdca26"
             ],
             [
              1,
              "#f0f921"
             ]
            ],
            "type": "heatmapgl"
           }
          ],
          "histogram": [
           {
            "marker": {
             "pattern": {
              "fillmode": "overlay",
              "size": 10,
              "solidity": 0.2
             }
            },
            "type": "histogram"
           }
          ],
          "histogram2d": [
           {
            "colorbar": {
             "outlinewidth": 0,
             "ticks": ""
            },
            "colorscale": [
             [
              0,
              "#0d0887"
             ],
             [
              0.1111111111111111,
              "#46039f"
             ],
             [
              0.2222222222222222,
              "#7201a8"
             ],
             [
              0.3333333333333333,
              "#9c179e"
             ],
             [
              0.4444444444444444,
              "#bd3786"
             ],
             [
              0.5555555555555556,
              "#d8576b"
             ],
             [
              0.6666666666666666,
              "#ed7953"
             ],
             [
              0.7777777777777778,
              "#fb9f3a"
             ],
             [
              0.8888888888888888,
              "#fdca26"
             ],
             [
              1,
              "#f0f921"
             ]
            ],
            "type": "histogram2d"
           }
          ],
          "histogram2dcontour": [
           {
            "colorbar": {
             "outlinewidth": 0,
             "ticks": ""
            },
            "colorscale": [
             [
              0,
              "#0d0887"
             ],
             [
              0.1111111111111111,
              "#46039f"
             ],
             [
              0.2222222222222222,
              "#7201a8"
             ],
             [
              0.3333333333333333,
              "#9c179e"
             ],
             [
              0.4444444444444444,
              "#bd3786"
             ],
             [
              0.5555555555555556,
              "#d8576b"
             ],
             [
              0.6666666666666666,
              "#ed7953"
             ],
             [
              0.7777777777777778,
              "#fb9f3a"
             ],
             [
              0.8888888888888888,
              "#fdca26"
             ],
             [
              1,
              "#f0f921"
             ]
            ],
            "type": "histogram2dcontour"
           }
          ],
          "mesh3d": [
           {
            "colorbar": {
             "outlinewidth": 0,
             "ticks": ""
            },
            "type": "mesh3d"
           }
          ],
          "parcoords": [
           {
            "line": {
             "colorbar": {
              "outlinewidth": 0,
              "ticks": ""
             }
            },
            "type": "parcoords"
           }
          ],
          "pie": [
           {
            "automargin": true,
            "type": "pie"
           }
          ],
          "scatter": [
           {
            "fillpattern": {
             "fillmode": "overlay",
             "size": 10,
             "solidity": 0.2
            },
            "type": "scatter"
           }
          ],
          "scatter3d": [
           {
            "line": {
             "colorbar": {
              "outlinewidth": 0,
              "ticks": ""
             }
            },
            "marker": {
             "colorbar": {
              "outlinewidth": 0,
              "ticks": ""
             }
            },
            "type": "scatter3d"
           }
          ],
          "scattercarpet": [
           {
            "marker": {
             "colorbar": {
              "outlinewidth": 0,
              "ticks": ""
             }
            },
            "type": "scattercarpet"
           }
          ],
          "scattergeo": [
           {
            "marker": {
             "colorbar": {
              "outlinewidth": 0,
              "ticks": ""
             }
            },
            "type": "scattergeo"
           }
          ],
          "scattergl": [
           {
            "marker": {
             "colorbar": {
              "outlinewidth": 0,
              "ticks": ""
             }
            },
            "type": "scattergl"
           }
          ],
          "scattermapbox": [
           {
            "marker": {
             "colorbar": {
              "outlinewidth": 0,
              "ticks": ""
             }
            },
            "type": "scattermapbox"
           }
          ],
          "scatterpolar": [
           {
            "marker": {
             "colorbar": {
              "outlinewidth": 0,
              "ticks": ""
             }
            },
            "type": "scatterpolar"
           }
          ],
          "scatterpolargl": [
           {
            "marker": {
             "colorbar": {
              "outlinewidth": 0,
              "ticks": ""
             }
            },
            "type": "scatterpolargl"
           }
          ],
          "scatterternary": [
           {
            "marker": {
             "colorbar": {
              "outlinewidth": 0,
              "ticks": ""
             }
            },
            "type": "scatterternary"
           }
          ],
          "surface": [
           {
            "colorbar": {
             "outlinewidth": 0,
             "ticks": ""
            },
            "colorscale": [
             [
              0,
              "#0d0887"
             ],
             [
              0.1111111111111111,
              "#46039f"
             ],
             [
              0.2222222222222222,
              "#7201a8"
             ],
             [
              0.3333333333333333,
              "#9c179e"
             ],
             [
              0.4444444444444444,
              "#bd3786"
             ],
             [
              0.5555555555555556,
              "#d8576b"
             ],
             [
              0.6666666666666666,
              "#ed7953"
             ],
             [
              0.7777777777777778,
              "#fb9f3a"
             ],
             [
              0.8888888888888888,
              "#fdca26"
             ],
             [
              1,
              "#f0f921"
             ]
            ],
            "type": "surface"
           }
          ],
          "table": [
           {
            "cells": {
             "fill": {
              "color": "#EBF0F8"
             },
             "line": {
              "color": "white"
             }
            },
            "header": {
             "fill": {
              "color": "#C8D4E3"
             },
             "line": {
              "color": "white"
             }
            },
            "type": "table"
           }
          ]
         },
         "layout": {
          "annotationdefaults": {
           "arrowcolor": "#2a3f5f",
           "arrowhead": 0,
           "arrowwidth": 1
          },
          "autotypenumbers": "strict",
          "coloraxis": {
           "colorbar": {
            "outlinewidth": 0,
            "ticks": ""
           }
          },
          "colorscale": {
           "diverging": [
            [
             0,
             "#8e0152"
            ],
            [
             0.1,
             "#c51b7d"
            ],
            [
             0.2,
             "#de77ae"
            ],
            [
             0.3,
             "#f1b6da"
            ],
            [
             0.4,
             "#fde0ef"
            ],
            [
             0.5,
             "#f7f7f7"
            ],
            [
             0.6,
             "#e6f5d0"
            ],
            [
             0.7,
             "#b8e186"
            ],
            [
             0.8,
             "#7fbc41"
            ],
            [
             0.9,
             "#4d9221"
            ],
            [
             1,
             "#276419"
            ]
           ],
           "sequential": [
            [
             0,
             "#0d0887"
            ],
            [
             0.1111111111111111,
             "#46039f"
            ],
            [
             0.2222222222222222,
             "#7201a8"
            ],
            [
             0.3333333333333333,
             "#9c179e"
            ],
            [
             0.4444444444444444,
             "#bd3786"
            ],
            [
             0.5555555555555556,
             "#d8576b"
            ],
            [
             0.6666666666666666,
             "#ed7953"
            ],
            [
             0.7777777777777778,
             "#fb9f3a"
            ],
            [
             0.8888888888888888,
             "#fdca26"
            ],
            [
             1,
             "#f0f921"
            ]
           ],
           "sequentialminus": [
            [
             0,
             "#0d0887"
            ],
            [
             0.1111111111111111,
             "#46039f"
            ],
            [
             0.2222222222222222,
             "#7201a8"
            ],
            [
             0.3333333333333333,
             "#9c179e"
            ],
            [
             0.4444444444444444,
             "#bd3786"
            ],
            [
             0.5555555555555556,
             "#d8576b"
            ],
            [
             0.6666666666666666,
             "#ed7953"
            ],
            [
             0.7777777777777778,
             "#fb9f3a"
            ],
            [
             0.8888888888888888,
             "#fdca26"
            ],
            [
             1,
             "#f0f921"
            ]
           ]
          },
          "colorway": [
           "#636efa",
           "#EF553B",
           "#00cc96",
           "#ab63fa",
           "#FFA15A",
           "#19d3f3",
           "#FF6692",
           "#B6E880",
           "#FF97FF",
           "#FECB52"
          ],
          "font": {
           "color": "#2a3f5f"
          },
          "geo": {
           "bgcolor": "white",
           "lakecolor": "white",
           "landcolor": "#E5ECF6",
           "showlakes": true,
           "showland": true,
           "subunitcolor": "white"
          },
          "hoverlabel": {
           "align": "left"
          },
          "hovermode": "closest",
          "mapbox": {
           "style": "light"
          },
          "paper_bgcolor": "white",
          "plot_bgcolor": "#E5ECF6",
          "polar": {
           "angularaxis": {
            "gridcolor": "white",
            "linecolor": "white",
            "ticks": ""
           },
           "bgcolor": "#E5ECF6",
           "radialaxis": {
            "gridcolor": "white",
            "linecolor": "white",
            "ticks": ""
           }
          },
          "scene": {
           "xaxis": {
            "backgroundcolor": "#E5ECF6",
            "gridcolor": "white",
            "gridwidth": 2,
            "linecolor": "white",
            "showbackground": true,
            "ticks": "",
            "zerolinecolor": "white"
           },
           "yaxis": {
            "backgroundcolor": "#E5ECF6",
            "gridcolor": "white",
            "gridwidth": 2,
            "linecolor": "white",
            "showbackground": true,
            "ticks": "",
            "zerolinecolor": "white"
           },
           "zaxis": {
            "backgroundcolor": "#E5ECF6",
            "gridcolor": "white",
            "gridwidth": 2,
            "linecolor": "white",
            "showbackground": true,
            "ticks": "",
            "zerolinecolor": "white"
           }
          },
          "shapedefaults": {
           "line": {
            "color": "#2a3f5f"
           }
          },
          "ternary": {
           "aaxis": {
            "gridcolor": "white",
            "linecolor": "white",
            "ticks": ""
           },
           "baxis": {
            "gridcolor": "white",
            "linecolor": "white",
            "ticks": ""
           },
           "bgcolor": "#E5ECF6",
           "caxis": {
            "gridcolor": "white",
            "linecolor": "white",
            "ticks": ""
           }
          },
          "title": {
           "x": 0.05
          },
          "xaxis": {
           "automargin": true,
           "gridcolor": "white",
           "linecolor": "white",
           "ticks": "",
           "title": {
            "standoff": 15
           },
           "zerolinecolor": "white",
           "zerolinewidth": 2
          },
          "yaxis": {
           "automargin": true,
           "gridcolor": "white",
           "linecolor": "white",
           "ticks": "",
           "title": {
            "standoff": 15
           },
           "zerolinecolor": "white",
           "zerolinewidth": 2
          }
         }
        },
        "title": {
         "text": "Self-Perpetuating Coil Dynamics"
        },
        "xaxis": {
         "title": {
          "text": "Timestep"
         }
        },
        "yaxis": {
         "title": {
          "text": "Value"
         }
        }
       }
      }
     },
     "metadata": {},
     "output_type": "display_data"
    }
   ],
   "source": [
    "states = []\n",
    "# Select the batch we want to make predictions for\n",
    "batch = 8\n",
    "\n",
    "\n",
    "# Grab starting state tensor\n",
    "state_tensor = batch_X[:,0,:]\n",
    "\n",
    "# How many steps do we want to run the coil overall?\n",
    "max_steps = 100\n",
    "\n",
    "batch_size = batch_X.shape[0]\n",
    "transition_tensor = torch.softmax(torch.zeros(batch_size, n_features, n_features), dim = 1).to(\"cuda\")\n",
    "for step_state in range(max_steps):\n",
    "    state_tensor, transition_tensor = model.step_coil(state_tensor, transition_tensor)\n",
    "    states.append(state_tensor[batch,:])\n",
    "\n",
    "# Move state dynamics to CPU\n",
    "data = [row.to('cpu').detach().numpy() for row in states]\n",
    "# Transpose the data to get 5 traces\n",
    "traces = list(zip(*data))\n",
    "\n",
    "\n",
    "# Create the figure and add traces\n",
    "fig = go.Figure()\n",
    "\n",
    "# Plotting\n",
    "for i, trace in enumerate(traces):\n",
    "    model_trace = go.Scatter(y=trace, mode='lines', name=f'State {i}')\n",
    "    fig.add_trace(model_trace)\n",
    "\n",
    "# Add title and labels\n",
    "fig.update_layout(title=f'Self-Perpetuating Coil Dynamics',\n",
    "                    xaxis_title='Timestep',\n",
    "                    yaxis_title='Value')\n",
    "\n",
    "# Show the figure\n",
    "fig.show()"
   ]
  },
  {
   "cell_type": "markdown",
   "metadata": {},
   "source": [
    "Here we can see complexity in the dynamics able to be produced by a single neural coil layer, while also getting a sense for why these can be difficult to train. "
   ]
  },
  {
   "cell_type": "markdown",
   "metadata": {},
   "source": [
    "## Enforced Autoregressive Coil Generation\n",
    "\n",
    "As previously mentioned, we can also perform coil generation where we provide enforcement for a certain number of timestamps by passing in known state values, before letting the coil autoregressively generate. This helps initialize the transition tensor. \n",
    "\n",
    "In this example, we will enforce the coil with known values for the first 24 timesteps before allowing it to autoregressively generate probability flows. While our time series sections only have a sequence length of 36, we can have coils generate indefinitely. "
   ]
  },
  {
   "cell_type": "code",
   "execution_count": 15,
   "metadata": {},
   "outputs": [
    {
     "data": {
      "application/vnd.plotly.v1+json": {
       "config": {
        "plotlyServerURL": "https://plot.ly"
       },
       "data": [
        {
         "mode": "lines",
         "name": "Modelled Feature 0",
         "type": "scatter",
         "y": [
          0.02865961194038391,
          0.02865961194038391,
          0.031305115669965744,
          0.029100529849529266,
          0.030423279851675034,
          0.03086419776082039,
          0.0317460335791111,
          0.02865961194038391,
          0.02777777798473835,
          0.027336860075592995,
          0.029100529849529266,
          0.02865961194038391,
          0.03086419776082039,
          0.031305115669965744,
          0.029100529849529266,
          0.031305115669965744,
          0.029982363805174828,
          0.028218694031238556,
          0.030423279851675034,
          0.030423279851675034,
          0.029541445896029472,
          0.0317460335791111,
          0.028218694031238556,
          0.029100529849529266,
          0.029100529849529266,
          0.033667922019958496,
          0.03297475725412369,
          0.03159625828266144,
          0.034688908606767654,
          0.02908780239522457,
          0.03317749872803688,
          0.03365176171064377,
          0.035103581845760345,
          0.03371741250157356,
          0.03369276970624924,
          0.03791774809360504,
          0.03732463717460632,
          0.036071207374334335,
          0.03642115741968155,
          0.03694651275873184,
          0.037822358310222626,
          0.0369674488902092,
          0.034822627902030945,
          0.033689193427562714,
          0.035557083785533905,
          0.03526221960783005,
          0.035350389778614044,
          0.036482200026512146,
          0.034831754863262177,
          0.03602951020002365,
          0.037640348076820374,
          0.0355675108730793,
          0.035884957760572433,
          0.03393566980957985,
          0.038314756006002426,
          0.035963281989097595,
          0.038125041872262955,
          0.0359111949801445,
          0.03425957262516022,
          0.0364445298910141,
          0.03478033095598221,
          0.035067860037088394,
          0.035474520176649094,
          0.033693570643663406,
          0.034833136945962906,
          0.03525238111615181,
          0.03637056052684784,
          0.03468364477157593,
          0.035146865993738174,
          0.035773396492004395
         ]
        },
        {
         "mode": "lines",
         "name": "Modelled Feature 15",
         "type": "scatter",
         "y": [
          0.03628117963671684,
          0.036848071962594986,
          0.0357142873108387,
          0.03401360660791397,
          0.034580498933792114,
          0.03628117963671684,
          0.03514739125967026,
          0.03514739125967026,
          0.03628117963671684,
          0.034580498933792114,
          0.03344671055674553,
          0.034580498933792114,
          0.0357142873108387,
          0.03628117963671684,
          0.034580498933792114,
          0.03231292590498924,
          0.03231292590498924,
          0.03401360660791397,
          0.0357142873108387,
          0.0357142873108387,
          0.03628117963671684,
          0.03628117963671684,
          0.036848071962594986,
          0.036848071962594986,
          0.036848071962594986,
          0.03617405146360397,
          0.03423329070210457,
          0.03456122428178787,
          0.03570280596613884,
          0.038023363798856735,
          0.035289257764816284,
          0.03272055834531784,
          0.03487103059887886,
          0.03372296690940857,
          0.03360477089881897,
          0.03652411326766014,
          0.03530748933553696,
          0.03579440340399742,
          0.03305784985423088,
          0.03422388434410095,
          0.036459073424339294,
          0.03644778952002525,
          0.03534047678112984,
          0.035691507160663605,
          0.036453865468502045,
          0.036184243857860565,
          0.03643696382641792,
          0.035029489547014236,
          0.034928902983665466,
          0.03552686795592308,
          0.03660701587796211,
          0.03651759773492813,
          0.036208897829055786,
          0.037220731377601624,
          0.036193784326314926,
          0.03665120154619217,
          0.04010514169931412,
          0.03475096449255943,
          0.035543106496334076,
          0.03721146285533905,
          0.03655368089675903,
          0.03405096381902695,
          0.03652554750442505,
          0.03637073189020157,
          0.03633083030581474,
          0.03622642904520035,
          0.035947367548942566,
          0.03650200739502907,
          0.036441877484321594,
          0.036032646894454956
         ]
        },
        {
         "mode": "lines",
         "name": "Observed Feature 0",
         "type": "scatter",
         "y": [
          0.02865961194038391,
          0.02865961194038391,
          0.031305115669965744,
          0.029100529849529266,
          0.030423279851675034,
          0.03086419776082039,
          0.0317460335791111,
          0.02865961194038391,
          0.02777777798473835,
          0.027336860075592995,
          0.029100529849529266,
          0.02865961194038391,
          0.03086419776082039,
          0.031305115669965744,
          0.029100529849529266,
          0.031305115669965744,
          0.029982363805174828,
          0.028218694031238556,
          0.030423279851675034,
          0.030423279851675034,
          0.029541445896029472,
          0.0317460335791111,
          0.028218694031238556,
          0.029100529849529266,
          0.029100529849529266,
          0.029100529849529266,
          0.032186947762966156,
          0.03086419776082039,
          0.031305115669965744,
          0.03086419776082039,
          0.030423279851675034,
          0.031305115669965744,
          0.03350970149040222,
          0.034391533583402634,
          0.03395061567425728,
          0.029982363805174828
         ]
        },
        {
         "mode": "lines",
         "name": "Observed Feature 15",
         "type": "scatter",
         "y": [
          0.03628117963671684,
          0.036848071962594986,
          0.0357142873108387,
          0.03401360660791397,
          0.034580498933792114,
          0.03628117963671684,
          0.03514739125967026,
          0.03514739125967026,
          0.03628117963671684,
          0.034580498933792114,
          0.03344671055674553,
          0.034580498933792114,
          0.0357142873108387,
          0.03628117963671684,
          0.034580498933792114,
          0.03231292590498924,
          0.03231292590498924,
          0.03401360660791397,
          0.0357142873108387,
          0.0357142873108387,
          0.03628117963671684,
          0.03628117963671684,
          0.036848071962594986,
          0.036848071962594986,
          0.036848071962594986,
          0.03741496428847313,
          0.03514739125967026,
          0.034580498933792114,
          0.038548752665519714,
          0.040816325694322586,
          0.03514739125967026,
          0.03344671055674553,
          0.03628117963671684,
          0.03741496428847313,
          0.03628117963671684,
          0.03514739125967026
         ]
        }
       ],
       "layout": {
        "annotations": [
         {
          "showarrow": false,
          "text": "Point of Prediction",
          "x": 24,
          "xanchor": "left",
          "xref": "x",
          "y": 1,
          "yanchor": "top",
          "yref": "y domain"
         }
        ],
        "shapes": [
         {
          "line": {
           "color": "grey",
           "dash": "dash",
           "width": 3
          },
          "type": "line",
          "x0": 24,
          "x1": 24,
          "xref": "x",
          "y0": 0,
          "y1": 1,
          "yref": "y domain"
         }
        ],
        "template": {
         "data": {
          "bar": [
           {
            "error_x": {
             "color": "#2a3f5f"
            },
            "error_y": {
             "color": "#2a3f5f"
            },
            "marker": {
             "line": {
              "color": "#E5ECF6",
              "width": 0.5
             },
             "pattern": {
              "fillmode": "overlay",
              "size": 10,
              "solidity": 0.2
             }
            },
            "type": "bar"
           }
          ],
          "barpolar": [
           {
            "marker": {
             "line": {
              "color": "#E5ECF6",
              "width": 0.5
             },
             "pattern": {
              "fillmode": "overlay",
              "size": 10,
              "solidity": 0.2
             }
            },
            "type": "barpolar"
           }
          ],
          "carpet": [
           {
            "aaxis": {
             "endlinecolor": "#2a3f5f",
             "gridcolor": "white",
             "linecolor": "white",
             "minorgridcolor": "white",
             "startlinecolor": "#2a3f5f"
            },
            "baxis": {
             "endlinecolor": "#2a3f5f",
             "gridcolor": "white",
             "linecolor": "white",
             "minorgridcolor": "white",
             "startlinecolor": "#2a3f5f"
            },
            "type": "carpet"
           }
          ],
          "choropleth": [
           {
            "colorbar": {
             "outlinewidth": 0,
             "ticks": ""
            },
            "type": "choropleth"
           }
          ],
          "contour": [
           {
            "colorbar": {
             "outlinewidth": 0,
             "ticks": ""
            },
            "colorscale": [
             [
              0,
              "#0d0887"
             ],
             [
              0.1111111111111111,
              "#46039f"
             ],
             [
              0.2222222222222222,
              "#7201a8"
             ],
             [
              0.3333333333333333,
              "#9c179e"
             ],
             [
              0.4444444444444444,
              "#bd3786"
             ],
             [
              0.5555555555555556,
              "#d8576b"
             ],
             [
              0.6666666666666666,
              "#ed7953"
             ],
             [
              0.7777777777777778,
              "#fb9f3a"
             ],
             [
              0.8888888888888888,
              "#fdca26"
             ],
             [
              1,
              "#f0f921"
             ]
            ],
            "type": "contour"
           }
          ],
          "contourcarpet": [
           {
            "colorbar": {
             "outlinewidth": 0,
             "ticks": ""
            },
            "type": "contourcarpet"
           }
          ],
          "heatmap": [
           {
            "colorbar": {
             "outlinewidth": 0,
             "ticks": ""
            },
            "colorscale": [
             [
              0,
              "#0d0887"
             ],
             [
              0.1111111111111111,
              "#46039f"
             ],
             [
              0.2222222222222222,
              "#7201a8"
             ],
             [
              0.3333333333333333,
              "#9c179e"
             ],
             [
              0.4444444444444444,
              "#bd3786"
             ],
             [
              0.5555555555555556,
              "#d8576b"
             ],
             [
              0.6666666666666666,
              "#ed7953"
             ],
             [
              0.7777777777777778,
              "#fb9f3a"
             ],
             [
              0.8888888888888888,
              "#fdca26"
             ],
             [
              1,
              "#f0f921"
             ]
            ],
            "type": "heatmap"
           }
          ],
          "heatmapgl": [
           {
            "colorbar": {
             "outlinewidth": 0,
             "ticks": ""
            },
            "colorscale": [
             [
              0,
              "#0d0887"
             ],
             [
              0.1111111111111111,
              "#46039f"
             ],
             [
              0.2222222222222222,
              "#7201a8"
             ],
             [
              0.3333333333333333,
              "#9c179e"
             ],
             [
              0.4444444444444444,
              "#bd3786"
             ],
             [
              0.5555555555555556,
              "#d8576b"
             ],
             [
              0.6666666666666666,
              "#ed7953"
             ],
             [
              0.7777777777777778,
              "#fb9f3a"
             ],
             [
              0.8888888888888888,
              "#fdca26"
             ],
             [
              1,
              "#f0f921"
             ]
            ],
            "type": "heatmapgl"
           }
          ],
          "histogram": [
           {
            "marker": {
             "pattern": {
              "fillmode": "overlay",
              "size": 10,
              "solidity": 0.2
             }
            },
            "type": "histogram"
           }
          ],
          "histogram2d": [
           {
            "colorbar": {
             "outlinewidth": 0,
             "ticks": ""
            },
            "colorscale": [
             [
              0,
              "#0d0887"
             ],
             [
              0.1111111111111111,
              "#46039f"
             ],
             [
              0.2222222222222222,
              "#7201a8"
             ],
             [
              0.3333333333333333,
              "#9c179e"
             ],
             [
              0.4444444444444444,
              "#bd3786"
             ],
             [
              0.5555555555555556,
              "#d8576b"
             ],
             [
              0.6666666666666666,
              "#ed7953"
             ],
             [
              0.7777777777777778,
              "#fb9f3a"
             ],
             [
              0.8888888888888888,
              "#fdca26"
             ],
             [
              1,
              "#f0f921"
             ]
            ],
            "type": "histogram2d"
           }
          ],
          "histogram2dcontour": [
           {
            "colorbar": {
             "outlinewidth": 0,
             "ticks": ""
            },
            "colorscale": [
             [
              0,
              "#0d0887"
             ],
             [
              0.1111111111111111,
              "#46039f"
             ],
             [
              0.2222222222222222,
              "#7201a8"
             ],
             [
              0.3333333333333333,
              "#9c179e"
             ],
             [
              0.4444444444444444,
              "#bd3786"
             ],
             [
              0.5555555555555556,
              "#d8576b"
             ],
             [
              0.6666666666666666,
              "#ed7953"
             ],
             [
              0.7777777777777778,
              "#fb9f3a"
             ],
             [
              0.8888888888888888,
              "#fdca26"
             ],
             [
              1,
              "#f0f921"
             ]
            ],
            "type": "histogram2dcontour"
           }
          ],
          "mesh3d": [
           {
            "colorbar": {
             "outlinewidth": 0,
             "ticks": ""
            },
            "type": "mesh3d"
           }
          ],
          "parcoords": [
           {
            "line": {
             "colorbar": {
              "outlinewidth": 0,
              "ticks": ""
             }
            },
            "type": "parcoords"
           }
          ],
          "pie": [
           {
            "automargin": true,
            "type": "pie"
           }
          ],
          "scatter": [
           {
            "fillpattern": {
             "fillmode": "overlay",
             "size": 10,
             "solidity": 0.2
            },
            "type": "scatter"
           }
          ],
          "scatter3d": [
           {
            "line": {
             "colorbar": {
              "outlinewidth": 0,
              "ticks": ""
             }
            },
            "marker": {
             "colorbar": {
              "outlinewidth": 0,
              "ticks": ""
             }
            },
            "type": "scatter3d"
           }
          ],
          "scattercarpet": [
           {
            "marker": {
             "colorbar": {
              "outlinewidth": 0,
              "ticks": ""
             }
            },
            "type": "scattercarpet"
           }
          ],
          "scattergeo": [
           {
            "marker": {
             "colorbar": {
              "outlinewidth": 0,
              "ticks": ""
             }
            },
            "type": "scattergeo"
           }
          ],
          "scattergl": [
           {
            "marker": {
             "colorbar": {
              "outlinewidth": 0,
              "ticks": ""
             }
            },
            "type": "scattergl"
           }
          ],
          "scattermapbox": [
           {
            "marker": {
             "colorbar": {
              "outlinewidth": 0,
              "ticks": ""
             }
            },
            "type": "scattermapbox"
           }
          ],
          "scatterpolar": [
           {
            "marker": {
             "colorbar": {
              "outlinewidth": 0,
              "ticks": ""
             }
            },
            "type": "scatterpolar"
           }
          ],
          "scatterpolargl": [
           {
            "marker": {
             "colorbar": {
              "outlinewidth": 0,
              "ticks": ""
             }
            },
            "type": "scatterpolargl"
           }
          ],
          "scatterternary": [
           {
            "marker": {
             "colorbar": {
              "outlinewidth": 0,
              "ticks": ""
             }
            },
            "type": "scatterternary"
           }
          ],
          "surface": [
           {
            "colorbar": {
             "outlinewidth": 0,
             "ticks": ""
            },
            "colorscale": [
             [
              0,
              "#0d0887"
             ],
             [
              0.1111111111111111,
              "#46039f"
             ],
             [
              0.2222222222222222,
              "#7201a8"
             ],
             [
              0.3333333333333333,
              "#9c179e"
             ],
             [
              0.4444444444444444,
              "#bd3786"
             ],
             [
              0.5555555555555556,
              "#d8576b"
             ],
             [
              0.6666666666666666,
              "#ed7953"
             ],
             [
              0.7777777777777778,
              "#fb9f3a"
             ],
             [
              0.8888888888888888,
              "#fdca26"
             ],
             [
              1,
              "#f0f921"
             ]
            ],
            "type": "surface"
           }
          ],
          "table": [
           {
            "cells": {
             "fill": {
              "color": "#EBF0F8"
             },
             "line": {
              "color": "white"
             }
            },
            "header": {
             "fill": {
              "color": "#C8D4E3"
             },
             "line": {
              "color": "white"
             }
            },
            "type": "table"
           }
          ]
         },
         "layout": {
          "annotationdefaults": {
           "arrowcolor": "#2a3f5f",
           "arrowhead": 0,
           "arrowwidth": 1
          },
          "autotypenumbers": "strict",
          "coloraxis": {
           "colorbar": {
            "outlinewidth": 0,
            "ticks": ""
           }
          },
          "colorscale": {
           "diverging": [
            [
             0,
             "#8e0152"
            ],
            [
             0.1,
             "#c51b7d"
            ],
            [
             0.2,
             "#de77ae"
            ],
            [
             0.3,
             "#f1b6da"
            ],
            [
             0.4,
             "#fde0ef"
            ],
            [
             0.5,
             "#f7f7f7"
            ],
            [
             0.6,
             "#e6f5d0"
            ],
            [
             0.7,
             "#b8e186"
            ],
            [
             0.8,
             "#7fbc41"
            ],
            [
             0.9,
             "#4d9221"
            ],
            [
             1,
             "#276419"
            ]
           ],
           "sequential": [
            [
             0,
             "#0d0887"
            ],
            [
             0.1111111111111111,
             "#46039f"
            ],
            [
             0.2222222222222222,
             "#7201a8"
            ],
            [
             0.3333333333333333,
             "#9c179e"
            ],
            [
             0.4444444444444444,
             "#bd3786"
            ],
            [
             0.5555555555555556,
             "#d8576b"
            ],
            [
             0.6666666666666666,
             "#ed7953"
            ],
            [
             0.7777777777777778,
             "#fb9f3a"
            ],
            [
             0.8888888888888888,
             "#fdca26"
            ],
            [
             1,
             "#f0f921"
            ]
           ],
           "sequentialminus": [
            [
             0,
             "#0d0887"
            ],
            [
             0.1111111111111111,
             "#46039f"
            ],
            [
             0.2222222222222222,
             "#7201a8"
            ],
            [
             0.3333333333333333,
             "#9c179e"
            ],
            [
             0.4444444444444444,
             "#bd3786"
            ],
            [
             0.5555555555555556,
             "#d8576b"
            ],
            [
             0.6666666666666666,
             "#ed7953"
            ],
            [
             0.7777777777777778,
             "#fb9f3a"
            ],
            [
             0.8888888888888888,
             "#fdca26"
            ],
            [
             1,
             "#f0f921"
            ]
           ]
          },
          "colorway": [
           "#636efa",
           "#EF553B",
           "#00cc96",
           "#ab63fa",
           "#FFA15A",
           "#19d3f3",
           "#FF6692",
           "#B6E880",
           "#FF97FF",
           "#FECB52"
          ],
          "font": {
           "color": "#2a3f5f"
          },
          "geo": {
           "bgcolor": "white",
           "lakecolor": "white",
           "landcolor": "#E5ECF6",
           "showlakes": true,
           "showland": true,
           "subunitcolor": "white"
          },
          "hoverlabel": {
           "align": "left"
          },
          "hovermode": "closest",
          "mapbox": {
           "style": "light"
          },
          "paper_bgcolor": "white",
          "plot_bgcolor": "#E5ECF6",
          "polar": {
           "angularaxis": {
            "gridcolor": "white",
            "linecolor": "white",
            "ticks": ""
           },
           "bgcolor": "#E5ECF6",
           "radialaxis": {
            "gridcolor": "white",
            "linecolor": "white",
            "ticks": ""
           }
          },
          "scene": {
           "xaxis": {
            "backgroundcolor": "#E5ECF6",
            "gridcolor": "white",
            "gridwidth": 2,
            "linecolor": "white",
            "showbackground": true,
            "ticks": "",
            "zerolinecolor": "white"
           },
           "yaxis": {
            "backgroundcolor": "#E5ECF6",
            "gridcolor": "white",
            "gridwidth": 2,
            "linecolor": "white",
            "showbackground": true,
            "ticks": "",
            "zerolinecolor": "white"
           },
           "zaxis": {
            "backgroundcolor": "#E5ECF6",
            "gridcolor": "white",
            "gridwidth": 2,
            "linecolor": "white",
            "showbackground": true,
            "ticks": "",
            "zerolinecolor": "white"
           }
          },
          "shapedefaults": {
           "line": {
            "color": "#2a3f5f"
           }
          },
          "ternary": {
           "aaxis": {
            "gridcolor": "white",
            "linecolor": "white",
            "ticks": ""
           },
           "baxis": {
            "gridcolor": "white",
            "linecolor": "white",
            "ticks": ""
           },
           "bgcolor": "#E5ECF6",
           "caxis": {
            "gridcolor": "white",
            "linecolor": "white",
            "ticks": ""
           }
          },
          "title": {
           "x": 0.05
          },
          "xaxis": {
           "automargin": true,
           "gridcolor": "white",
           "linecolor": "white",
           "ticks": "",
           "title": {
            "standoff": 15
           },
           "zerolinecolor": "white",
           "zerolinewidth": 2
          },
          "yaxis": {
           "automargin": true,
           "gridcolor": "white",
           "linecolor": "white",
           "ticks": "",
           "title": {
            "standoff": 15
           },
           "zerolinecolor": "white",
           "zerolinewidth": 2
          }
         }
        },
        "title": {
         "text": "Coil Training Modelled vs Observed Comparison"
        },
        "xaxis": {
         "title": {
          "text": "Timestep"
         }
        },
        "yaxis": {
         "title": {
          "text": "Value"
         }
        }
       }
      }
     },
     "metadata": {},
     "output_type": "display_data"
    }
   ],
   "source": [
    "states = []\n",
    "# Select the batch we want to make predictions for\n",
    "batch = 1\n",
    "# After what step do we want the coil to start making its own predictions?\n",
    "prediction_step = 24\n",
    "\n",
    "# What features do we want to plot?\n",
    "feature_sel = [0, 15]\n",
    "\n",
    "# Grab starting state tensor\n",
    "state_tensor = batch_X[:,0,:]\n",
    "\n",
    "# How many steps do we want to run the coil overall?\n",
    "max_steps = 70\n",
    "\n",
    "states.append(state_tensor[batch,feature_sel])\n",
    "batch_size = batch_X.shape[0]\n",
    "transition_tensor = torch.softmax(torch.zeros(batch_size, n_features, n_features), dim = 1).to(\"cuda\")\n",
    "for step_state in range(1,max_steps):\n",
    "    state_tensor, transition_tensor = model.step_coil(state_tensor, transition_tensor)\n",
    "    if step_state <= prediction_step:\n",
    "        state_tensor = batch_X[:,step_state,:]\n",
    "    states.append(state_tensor[batch,feature_sel])\n",
    "    \n",
    "# Move state dynamics to CPU\n",
    "data = [row.to('cpu').detach().numpy() for row in states]\n",
    "traces = list(zip(*data))\n",
    "\n",
    "# Create the figure and add traces\n",
    "fig = go.Figure()\n",
    "\n",
    "# Plotting\n",
    "for i, trace in enumerate(traces):\n",
    "    model_trace = go.Scatter(y=trace, mode='lines', name=f'Modelled Feature {feature_sel[i]}')\n",
    "    fig.add_trace(model_trace)\n",
    "    \n",
    "    \n",
    "# Get observed data to CPU and plot\n",
    "data = batch_X[batch,:,feature_sel].to('cpu')\n",
    "# Transpose the data to get 5 traces\n",
    "traces = list(zip(*data))\n",
    "\n",
    "# Plotting\n",
    "for i, trace in enumerate(traces):\n",
    "    obs_trace = go.Scatter(y=trace, mode='lines', name=f'Observed Feature {feature_sel[i]}')\n",
    "    fig.add_trace(obs_trace)\n",
    "    \n",
    "# Add Line highlighting when the coil becomes responsible for its own predictions\n",
    "fig.add_vline(x=prediction_step, line_width=3, line_dash=\"dash\", line_color=\"grey\", annotation_text='Point of Prediction')    \n",
    "\n",
    "# Add title and labels\n",
    "fig.update_layout(title=f'Coil Training Modelled vs Observed Comparison',\n",
    "                    xaxis_title='Timestep',\n",
    "                    yaxis_title='Value')\n",
    "\n",
    "# Show the figure\n",
    "fig.show()"
   ]
  },
  {
   "cell_type": "markdown",
   "metadata": {},
   "source": [
    "Here we can see, at the Point of Prediction where the coil is no longer provided the support of known values, it begins freely generating dynamics. "
   ]
  },
  {
   "cell_type": "markdown",
   "metadata": {},
   "source": [
    "## Coil \"Memory\" Demonstration\n",
    "\n",
    "It should be emphasized that the process of providing known values up to a point of prediction during coil generation does mean the coil only makes predictions based on the last known value. We can demonstrate that, due to the transition tensor, coils have a form of \"memory\" where different inputs provided during the \"wind up\" stage will result in different dynamics. We can demonstrate this by performing two enforced generations where in one the inputs for a single timestep during the wind up period are arbitrarily changed. "
   ]
  },
  {
   "cell_type": "code",
   "execution_count": 16,
   "metadata": {},
   "outputs": [
    {
     "data": {
      "application/vnd.plotly.v1+json": {
       "config": {
        "plotlyServerURL": "https://plot.ly"
       },
       "data": [
        {
         "mode": "lines",
         "name": "Modelled Feature 0",
         "type": "scatter",
         "y": [
          0.04673721268773079,
          0.04276895895600319,
          0.044091708958148956,
          0.04276895895600319,
          0.043209876865148544,
          0.044091708958148956,
          0.040123455226421356,
          0.042328041046857834,
          0.04541446268558502,
          0.0436507947742939,
          0.03747795522212982,
          0.04144620895385742,
          0.0396825410425663,
          0.04188712686300278,
          0.040123455226421356,
          0.0357142873108387,
          0.0396825410425663,
          0.03703703731298447,
          0.036155201494693756,
          0.0357142873108387,
          0.03703703731298447,
          0.03703703731298447,
          0.03703703731298447,
          0.03659611940383911,
          0.0357142873108387,
          0.03582366555929184,
          0.03728294372558594,
          0.038512445986270905,
          0.029979117214679718,
          0.034150511026382446,
          0.036223649978637695,
          0.034580767154693604,
          0.03550130873918533,
          0.03640670329332352,
          0.034847427159547806,
          0.036550816148519516,
          0.03463856130838394,
          0.03488241136074066,
          0.03604047745466232,
          0.03467521816492081,
          0.03655843064188957,
          0.03464652970433235,
          0.0344766229391098,
          0.035888247191905975,
          0.03535131365060806,
          0.03655616194009781,
          0.03464282304048538,
          0.034684374928474426,
          0.03600073233246803,
          0.03491536155343056,
          0.03655817359685898,
          0.03464587405323982,
          0.03451304882764816,
          0.035914115607738495,
          0.035260364413261414,
          0.03655693680047989,
          0.03464387357234955,
          0.03462401032447815,
          0.03597579151391983,
          0.03502272814512253,
          0.03655792027711868,
          0.034645456820726395,
          0.034535929560661316,
          0.035928744822740555,
          0.03520677983760834,
          0.03655724599957466,
          0.03464435040950775,
          0.034597307443618774,
          0.03596297651529312,
          0.03507493436336517
         ]
        },
        {
         "mode": "lines",
         "name": "Modelled Feature 15",
         "type": "scatter",
         "y": [
          0.04195011407136917,
          0.04138322174549103,
          0.046485260128974915,
          0.04535147547721863,
          0.04421768710017204,
          0.044784579426050186,
          0.04195011407136917,
          0.04591836780309677,
          0.04818594083189964,
          0.0396825410425663,
          0.031179137527942657,
          0.024943310767412186,
          0.031179137527942657,
          0.05215419456362724,
          0.050453513860702515,
          0.04138322174549103,
          0.03798186033964157,
          0.024376416578888893,
          0.022675737738609314,
          0.034580498933792114,
          0.04705215245485306,
          0.0436507947742939,
          0.022675737738609314,
          0.010770974680781364,
          0.01473922934383154,
          0.023034092038869858,
          0.02990918606519699,
          0.026398858055472374,
          0.035490356385707855,
          0.035855524241924286,
          0.03617642819881439,
          0.03566636145114899,
          0.0347624346613884,
          0.03695720434188843,
          0.038348376750946045,
          0.03623528778553009,
          0.035632696002721786,
          0.03451800346374512,
          0.036905523389577866,
          0.03866979852318764,
          0.03624600172042847,
          0.035648226737976074,
          0.03438258171081543,
          0.03670474886894226,
          0.03877008706331253,
          0.03624914214015007,
          0.035639964044094086,
          0.03445132449269295,
          0.03682947903871536,
          0.038737352937459946,
          0.036248594522476196,
          0.035646744072437286,
          0.03439449518918991,
          0.036730192601680756,
          0.038785070180892944,
          0.03624996170401573,
          0.03564231097698212,
          0.034431084990501404,
          0.03679797798395157,
          0.03876269608736038,
          0.036249466240406036,
          0.03564582020044327,
          0.03440198302268982,
          0.03674529492855072,
          0.03878616914153099,
          0.03625011444091797,
          0.03564336895942688,
          0.03442220389842987,
          0.0367828868329525,
          0.03877256438136101
         ]
        },
        {
         "mode": "lines",
         "name": "Altered Feature 0",
         "type": "scatter",
         "y": [
          0.04673721268773079,
          0.04276895895600319,
          0.044091708958148956,
          0.04276895895600319,
          0.043209876865148544,
          0.044091708958148956,
          0.040123455226421356,
          0.042328041046857834,
          0.04541446268558502,
          0.0436507947742939,
          0.03747795522212982,
          0.04144620895385742,
          0.0396825410425663,
          0.04188712686300278,
          0.040123455226421356,
          0.0357142873108387,
          0.0396825410425663,
          0.03703703731298447,
          0.036155201494693756,
          0.0357142873108387,
          0.1111111119389534,
          0.03703703731298447,
          0.03703703731298447,
          0.03659611940383911,
          0.0357142873108387,
          0.035064298659563065,
          0.03584638237953186,
          0.037549398839473724,
          0.03503500297665596,
          0.03456314280629158,
          0.03323599696159363,
          0.034927818924188614,
          0.03474286198616028,
          0.0361563116312027,
          0.03367563709616661,
          0.03610100597143173,
          0.03529699146747589,
          0.03156159818172455,
          0.03715793043375015,
          0.03490510582923889,
          0.03553862124681473,
          0.03540020436048508,
          0.03487840294837952,
          0.03600554168224335,
          0.03736361861228943,
          0.035868480801582336,
          0.03581969812512398,
          0.0357203334569931,
          0.03479808568954468,
          0.03658297657966614,
          0.036413226276636124,
          0.036105163395404816,
          0.035570040345191956,
          0.035416167229413986,
          0.033579256385564804,
          0.035341959446668625,
          0.03422938287258148,
          0.03481303155422211,
          0.036054644733667374,
          0.037102483212947845,
          0.033284761011600494,
          0.035107314586639404,
          0.03481181710958481,
          0.0370696559548378,
          0.037224020808935165,
          0.037473298609256744,
          0.03613821789622307,
          0.03547763079404831,
          0.035164766013622284,
          0.035180747509002686
         ]
        },
        {
         "mode": "lines",
         "name": "Altered Feature 15",
         "type": "scatter",
         "y": [
          0.04195011407136917,
          0.04138322174549103,
          0.046485260128974915,
          0.04535147547721863,
          0.04421768710017204,
          0.044784579426050186,
          0.04195011407136917,
          0.04591836780309677,
          0.04818594083189964,
          0.0396825410425663,
          0.031179137527942657,
          0.024943310767412186,
          0.031179137527942657,
          0.05215419456362724,
          0.050453513860702515,
          0.04138322174549103,
          0.03798186033964157,
          0.024376416578888893,
          0.022675737738609314,
          0.034580498933792114,
          0.14115646481513977,
          0.0436507947742939,
          0.022675737738609314,
          0.010770974680781364,
          0.01473922934383154,
          0.03128515183925629,
          0.03411313146352768,
          0.035123907029628754,
          0.035037532448768616,
          0.03571849316358566,
          0.03498158976435661,
          0.03256704658269882,
          0.0342947393655777,
          0.03493279591202736,
          0.03464130684733391,
          0.03555093705654144,
          0.03524123877286911,
          0.03488263487815857,
          0.036275990307331085,
          0.035832881927490234,
          0.029748447239398956,
          0.03271743655204773,
          0.03937117010354996,
          0.034376032650470734,
          0.0352015383541584,
          0.03498416766524315,
          0.03529916703701019,
          0.034819282591342926,
          0.03542476147413254,
          0.03651107847690582,
          0.0348949059844017,
          0.034544315189123154,
          0.035407550632953644,
          0.035500869154930115,
          0.03598371148109436,
          0.03676347807049751,
          0.03386466205120087,
          0.03436117619276047,
          0.03349172696471214,
          0.03332028537988663,
          0.035102277994155884,
          0.03519459068775177,
          0.035268016159534454,
          0.035740673542022705,
          0.03627242520451546,
          0.03502286970615387,
          0.03516624867916107,
          0.03411863371729851,
          0.03468340262770653,
          0.03637181222438812
         ]
        }
       ],
       "layout": {
        "annotations": [
         {
          "showarrow": false,
          "text": "Point of Prediction",
          "x": 24,
          "xanchor": "left",
          "xref": "x",
          "y": 1,
          "yanchor": "top",
          "yref": "y domain"
         },
         {
          "showarrow": false,
          "text": "altered time",
          "x": 19,
          "xanchor": "left",
          "xref": "x",
          "y": 1,
          "yanchor": "top",
          "yref": "y domain"
         }
        ],
        "shapes": [
         {
          "line": {
           "color": "grey",
           "dash": "dash",
           "width": 3
          },
          "type": "line",
          "x0": 24,
          "x1": 24,
          "xref": "x",
          "y0": 0,
          "y1": 1,
          "yref": "y domain"
         },
         {
          "fillcolor": "grey",
          "line": {
           "width": 0
          },
          "opacity": 0.25,
          "type": "rect",
          "x0": 19,
          "x1": 21,
          "xref": "x",
          "y0": 0,
          "y1": 1,
          "yref": "y domain"
         }
        ],
        "template": {
         "data": {
          "bar": [
           {
            "error_x": {
             "color": "#2a3f5f"
            },
            "error_y": {
             "color": "#2a3f5f"
            },
            "marker": {
             "line": {
              "color": "#E5ECF6",
              "width": 0.5
             },
             "pattern": {
              "fillmode": "overlay",
              "size": 10,
              "solidity": 0.2
             }
            },
            "type": "bar"
           }
          ],
          "barpolar": [
           {
            "marker": {
             "line": {
              "color": "#E5ECF6",
              "width": 0.5
             },
             "pattern": {
              "fillmode": "overlay",
              "size": 10,
              "solidity": 0.2
             }
            },
            "type": "barpolar"
           }
          ],
          "carpet": [
           {
            "aaxis": {
             "endlinecolor": "#2a3f5f",
             "gridcolor": "white",
             "linecolor": "white",
             "minorgridcolor": "white",
             "startlinecolor": "#2a3f5f"
            },
            "baxis": {
             "endlinecolor": "#2a3f5f",
             "gridcolor": "white",
             "linecolor": "white",
             "minorgridcolor": "white",
             "startlinecolor": "#2a3f5f"
            },
            "type": "carpet"
           }
          ],
          "choropleth": [
           {
            "colorbar": {
             "outlinewidth": 0,
             "ticks": ""
            },
            "type": "choropleth"
           }
          ],
          "contour": [
           {
            "colorbar": {
             "outlinewidth": 0,
             "ticks": ""
            },
            "colorscale": [
             [
              0,
              "#0d0887"
             ],
             [
              0.1111111111111111,
              "#46039f"
             ],
             [
              0.2222222222222222,
              "#7201a8"
             ],
             [
              0.3333333333333333,
              "#9c179e"
             ],
             [
              0.4444444444444444,
              "#bd3786"
             ],
             [
              0.5555555555555556,
              "#d8576b"
             ],
             [
              0.6666666666666666,
              "#ed7953"
             ],
             [
              0.7777777777777778,
              "#fb9f3a"
             ],
             [
              0.8888888888888888,
              "#fdca26"
             ],
             [
              1,
              "#f0f921"
             ]
            ],
            "type": "contour"
           }
          ],
          "contourcarpet": [
           {
            "colorbar": {
             "outlinewidth": 0,
             "ticks": ""
            },
            "type": "contourcarpet"
           }
          ],
          "heatmap": [
           {
            "colorbar": {
             "outlinewidth": 0,
             "ticks": ""
            },
            "colorscale": [
             [
              0,
              "#0d0887"
             ],
             [
              0.1111111111111111,
              "#46039f"
             ],
             [
              0.2222222222222222,
              "#7201a8"
             ],
             [
              0.3333333333333333,
              "#9c179e"
             ],
             [
              0.4444444444444444,
              "#bd3786"
             ],
             [
              0.5555555555555556,
              "#d8576b"
             ],
             [
              0.6666666666666666,
              "#ed7953"
             ],
             [
              0.7777777777777778,
              "#fb9f3a"
             ],
             [
              0.8888888888888888,
              "#fdca26"
             ],
             [
              1,
              "#f0f921"
             ]
            ],
            "type": "heatmap"
           }
          ],
          "heatmapgl": [
           {
            "colorbar": {
             "outlinewidth": 0,
             "ticks": ""
            },
            "colorscale": [
             [
              0,
              "#0d0887"
             ],
             [
              0.1111111111111111,
              "#46039f"
             ],
             [
              0.2222222222222222,
              "#7201a8"
             ],
             [
              0.3333333333333333,
              "#9c179e"
             ],
             [
              0.4444444444444444,
              "#bd3786"
             ],
             [
              0.5555555555555556,
              "#d8576b"
             ],
             [
              0.6666666666666666,
              "#ed7953"
             ],
             [
              0.7777777777777778,
              "#fb9f3a"
             ],
             [
              0.8888888888888888,
              "#fdca26"
             ],
             [
              1,
              "#f0f921"
             ]
            ],
            "type": "heatmapgl"
           }
          ],
          "histogram": [
           {
            "marker": {
             "pattern": {
              "fillmode": "overlay",
              "size": 10,
              "solidity": 0.2
             }
            },
            "type": "histogram"
           }
          ],
          "histogram2d": [
           {
            "colorbar": {
             "outlinewidth": 0,
             "ticks": ""
            },
            "colorscale": [
             [
              0,
              "#0d0887"
             ],
             [
              0.1111111111111111,
              "#46039f"
             ],
             [
              0.2222222222222222,
              "#7201a8"
             ],
             [
              0.3333333333333333,
              "#9c179e"
             ],
             [
              0.4444444444444444,
              "#bd3786"
             ],
             [
              0.5555555555555556,
              "#d8576b"
             ],
             [
              0.6666666666666666,
              "#ed7953"
             ],
             [
              0.7777777777777778,
              "#fb9f3a"
             ],
             [
              0.8888888888888888,
              "#fdca26"
             ],
             [
              1,
              "#f0f921"
             ]
            ],
            "type": "histogram2d"
           }
          ],
          "histogram2dcontour": [
           {
            "colorbar": {
             "outlinewidth": 0,
             "ticks": ""
            },
            "colorscale": [
             [
              0,
              "#0d0887"
             ],
             [
              0.1111111111111111,
              "#46039f"
             ],
             [
              0.2222222222222222,
              "#7201a8"
             ],
             [
              0.3333333333333333,
              "#9c179e"
             ],
             [
              0.4444444444444444,
              "#bd3786"
             ],
             [
              0.5555555555555556,
              "#d8576b"
             ],
             [
              0.6666666666666666,
              "#ed7953"
             ],
             [
              0.7777777777777778,
              "#fb9f3a"
             ],
             [
              0.8888888888888888,
              "#fdca26"
             ],
             [
              1,
              "#f0f921"
             ]
            ],
            "type": "histogram2dcontour"
           }
          ],
          "mesh3d": [
           {
            "colorbar": {
             "outlinewidth": 0,
             "ticks": ""
            },
            "type": "mesh3d"
           }
          ],
          "parcoords": [
           {
            "line": {
             "colorbar": {
              "outlinewidth": 0,
              "ticks": ""
             }
            },
            "type": "parcoords"
           }
          ],
          "pie": [
           {
            "automargin": true,
            "type": "pie"
           }
          ],
          "scatter": [
           {
            "fillpattern": {
             "fillmode": "overlay",
             "size": 10,
             "solidity": 0.2
            },
            "type": "scatter"
           }
          ],
          "scatter3d": [
           {
            "line": {
             "colorbar": {
              "outlinewidth": 0,
              "ticks": ""
             }
            },
            "marker": {
             "colorbar": {
              "outlinewidth": 0,
              "ticks": ""
             }
            },
            "type": "scatter3d"
           }
          ],
          "scattercarpet": [
           {
            "marker": {
             "colorbar": {
              "outlinewidth": 0,
              "ticks": ""
             }
            },
            "type": "scattercarpet"
           }
          ],
          "scattergeo": [
           {
            "marker": {
             "colorbar": {
              "outlinewidth": 0,
              "ticks": ""
             }
            },
            "type": "scattergeo"
           }
          ],
          "scattergl": [
           {
            "marker": {
             "colorbar": {
              "outlinewidth": 0,
              "ticks": ""
             }
            },
            "type": "scattergl"
           }
          ],
          "scattermapbox": [
           {
            "marker": {
             "colorbar": {
              "outlinewidth": 0,
              "ticks": ""
             }
            },
            "type": "scattermapbox"
           }
          ],
          "scatterpolar": [
           {
            "marker": {
             "colorbar": {
              "outlinewidth": 0,
              "ticks": ""
             }
            },
            "type": "scatterpolar"
           }
          ],
          "scatterpolargl": [
           {
            "marker": {
             "colorbar": {
              "outlinewidth": 0,
              "ticks": ""
             }
            },
            "type": "scatterpolargl"
           }
          ],
          "scatterternary": [
           {
            "marker": {
             "colorbar": {
              "outlinewidth": 0,
              "ticks": ""
             }
            },
            "type": "scatterternary"
           }
          ],
          "surface": [
           {
            "colorbar": {
             "outlinewidth": 0,
             "ticks": ""
            },
            "colorscale": [
             [
              0,
              "#0d0887"
             ],
             [
              0.1111111111111111,
              "#46039f"
             ],
             [
              0.2222222222222222,
              "#7201a8"
             ],
             [
              0.3333333333333333,
              "#9c179e"
             ],
             [
              0.4444444444444444,
              "#bd3786"
             ],
             [
              0.5555555555555556,
              "#d8576b"
             ],
             [
              0.6666666666666666,
              "#ed7953"
             ],
             [
              0.7777777777777778,
              "#fb9f3a"
             ],
             [
              0.8888888888888888,
              "#fdca26"
             ],
             [
              1,
              "#f0f921"
             ]
            ],
            "type": "surface"
           }
          ],
          "table": [
           {
            "cells": {
             "fill": {
              "color": "#EBF0F8"
             },
             "line": {
              "color": "white"
             }
            },
            "header": {
             "fill": {
              "color": "#C8D4E3"
             },
             "line": {
              "color": "white"
             }
            },
            "type": "table"
           }
          ]
         },
         "layout": {
          "annotationdefaults": {
           "arrowcolor": "#2a3f5f",
           "arrowhead": 0,
           "arrowwidth": 1
          },
          "autotypenumbers": "strict",
          "coloraxis": {
           "colorbar": {
            "outlinewidth": 0,
            "ticks": ""
           }
          },
          "colorscale": {
           "diverging": [
            [
             0,
             "#8e0152"
            ],
            [
             0.1,
             "#c51b7d"
            ],
            [
             0.2,
             "#de77ae"
            ],
            [
             0.3,
             "#f1b6da"
            ],
            [
             0.4,
             "#fde0ef"
            ],
            [
             0.5,
             "#f7f7f7"
            ],
            [
             0.6,
             "#e6f5d0"
            ],
            [
             0.7,
             "#b8e186"
            ],
            [
             0.8,
             "#7fbc41"
            ],
            [
             0.9,
             "#4d9221"
            ],
            [
             1,
             "#276419"
            ]
           ],
           "sequential": [
            [
             0,
             "#0d0887"
            ],
            [
             0.1111111111111111,
             "#46039f"
            ],
            [
             0.2222222222222222,
             "#7201a8"
            ],
            [
             0.3333333333333333,
             "#9c179e"
            ],
            [
             0.4444444444444444,
             "#bd3786"
            ],
            [
             0.5555555555555556,
             "#d8576b"
            ],
            [
             0.6666666666666666,
             "#ed7953"
            ],
            [
             0.7777777777777778,
             "#fb9f3a"
            ],
            [
             0.8888888888888888,
             "#fdca26"
            ],
            [
             1,
             "#f0f921"
            ]
           ],
           "sequentialminus": [
            [
             0,
             "#0d0887"
            ],
            [
             0.1111111111111111,
             "#46039f"
            ],
            [
             0.2222222222222222,
             "#7201a8"
            ],
            [
             0.3333333333333333,
             "#9c179e"
            ],
            [
             0.4444444444444444,
             "#bd3786"
            ],
            [
             0.5555555555555556,
             "#d8576b"
            ],
            [
             0.6666666666666666,
             "#ed7953"
            ],
            [
             0.7777777777777778,
             "#fb9f3a"
            ],
            [
             0.8888888888888888,
             "#fdca26"
            ],
            [
             1,
             "#f0f921"
            ]
           ]
          },
          "colorway": [
           "#636efa",
           "#EF553B",
           "#00cc96",
           "#ab63fa",
           "#FFA15A",
           "#19d3f3",
           "#FF6692",
           "#B6E880",
           "#FF97FF",
           "#FECB52"
          ],
          "font": {
           "color": "#2a3f5f"
          },
          "geo": {
           "bgcolor": "white",
           "lakecolor": "white",
           "landcolor": "#E5ECF6",
           "showlakes": true,
           "showland": true,
           "subunitcolor": "white"
          },
          "hoverlabel": {
           "align": "left"
          },
          "hovermode": "closest",
          "mapbox": {
           "style": "light"
          },
          "paper_bgcolor": "white",
          "plot_bgcolor": "#E5ECF6",
          "polar": {
           "angularaxis": {
            "gridcolor": "white",
            "linecolor": "white",
            "ticks": ""
           },
           "bgcolor": "#E5ECF6",
           "radialaxis": {
            "gridcolor": "white",
            "linecolor": "white",
            "ticks": ""
           }
          },
          "scene": {
           "xaxis": {
            "backgroundcolor": "#E5ECF6",
            "gridcolor": "white",
            "gridwidth": 2,
            "linecolor": "white",
            "showbackground": true,
            "ticks": "",
            "zerolinecolor": "white"
           },
           "yaxis": {
            "backgroundcolor": "#E5ECF6",
            "gridcolor": "white",
            "gridwidth": 2,
            "linecolor": "white",
            "showbackground": true,
            "ticks": "",
            "zerolinecolor": "white"
           },
           "zaxis": {
            "backgroundcolor": "#E5ECF6",
            "gridcolor": "white",
            "gridwidth": 2,
            "linecolor": "white",
            "showbackground": true,
            "ticks": "",
            "zerolinecolor": "white"
           }
          },
          "shapedefaults": {
           "line": {
            "color": "#2a3f5f"
           }
          },
          "ternary": {
           "aaxis": {
            "gridcolor": "white",
            "linecolor": "white",
            "ticks": ""
           },
           "baxis": {
            "gridcolor": "white",
            "linecolor": "white",
            "ticks": ""
           },
           "bgcolor": "#E5ECF6",
           "caxis": {
            "gridcolor": "white",
            "linecolor": "white",
            "ticks": ""
           }
          },
          "title": {
           "x": 0.05
          },
          "xaxis": {
           "automargin": true,
           "gridcolor": "white",
           "linecolor": "white",
           "ticks": "",
           "title": {
            "standoff": 15
           },
           "zerolinecolor": "white",
           "zerolinewidth": 2
          },
          "yaxis": {
           "automargin": true,
           "gridcolor": "white",
           "linecolor": "white",
           "ticks": "",
           "title": {
            "standoff": 15
           },
           "zerolinecolor": "white",
           "zerolinewidth": 2
          }
         }
        },
        "title": {
         "text": "Coil Memory Demonstration"
        },
        "xaxis": {
         "title": {
          "text": "Timestep"
         }
        },
        "yaxis": {
         "title": {
          "text": "Value"
         }
        }
       }
      }
     },
     "metadata": {},
     "output_type": "display_data"
    }
   ],
   "source": [
    "import matplotlib.pyplot as plt\n",
    "\n",
    "states = []\n",
    "# Select the batch we want to make predictions for\n",
    "batch = 8\n",
    "\n",
    "# After what step do we want the coil to start making its own predictions?\n",
    "prediction_step = 24\n",
    "\n",
    "# What features do we want to plot?\n",
    "feature_sel = [0,15]\n",
    "\n",
    "# Grab starting state tensor\n",
    "state_tensor = batch_X[:,0,:]\n",
    "\n",
    "# How many steps do we want to run the coil overall?\n",
    "max_steps = 70\n",
    "\n",
    "# Which timestamp do we want to force modify?\n",
    "step_modify = 20\n",
    "\n",
    "states.append(state_tensor[batch,feature_sel])\n",
    "batch_size = batch_X.shape[0]\n",
    "transition_tensor = torch.softmax(torch.zeros(batch_size, n_features, n_features), dim = 1).to(\"cuda\")\n",
    "for step_state in range(1,max_steps):\n",
    "    state_tensor, transition_tensor = model.step_coil(state_tensor, transition_tensor)\n",
    "    if step_state <= prediction_step:\n",
    "        state_tensor = batch_X[:,step_state,:]\n",
    "    states.append(state_tensor[batch,feature_sel])\n",
    "    \n",
    "\n",
    "# Get observed data to CPU and plot\n",
    "data = [row.to('cpu').detach().numpy() for row in states]\n",
    "# Transpose the data to get 5 traces\n",
    "traces = list(zip(*data))\n",
    "\n",
    "# Create the figure and add traces\n",
    "fig = go.Figure()\n",
    "\n",
    "# Plotting\n",
    "for i, trace in enumerate(traces):\n",
    "    model_trace = go.Scatter(y=trace, mode='lines', name=f'Modelled Feature {feature_sel[i]}')\n",
    "    fig.add_trace(model_trace)\n",
    "    \n",
    "# Try with changing one X in memory\n",
    "states = []\n",
    "state_tensor = batch_X[:,0,:]\n",
    "states.append(state_tensor[batch,feature_sel])\n",
    "batch_size = batch_X.shape[0]\n",
    "transition_tensor = torch.softmax(torch.zeros(batch_size, n_features, n_features), dim = 1).to(\"cuda\")\n",
    "for step_state in range(1,max_steps):\n",
    "    state_tensor, transition_tensor = model.step_coil(state_tensor, transition_tensor)\n",
    "    if step_state <= prediction_step:\n",
    "        state_tensor = batch_X[:,step_state,:]\n",
    "        \n",
    "    # change a single state in memory:\n",
    "    if step_state == step_modify:\n",
    "        state_tensor = batch_X[:,step_state,:] * 3\n",
    "    states.append(state_tensor[batch,feature_sel])\n",
    "\n",
    "\n",
    "# Get observed data to CPU and plot\n",
    "data = [row.to('cpu').detach().numpy() for row in states]\n",
    "# Transpose the data to get 5 traces\n",
    "traces = list(zip(*data))\n",
    "\n",
    "# Plotting\n",
    "for i, trace in enumerate(traces):\n",
    "    obs_trace = go.Scatter(y=trace, mode='lines', name=f'Altered Feature {feature_sel[i]}')\n",
    "    fig.add_trace(obs_trace)\n",
    "    \n",
    "# Add Line highlighting when the coil becomes responsible for its own predictions\n",
    "fig.add_vline(x=prediction_step, line_width=3, line_dash=\"dash\", line_color=\"grey\", annotation_text='Point of Prediction')    \n",
    "\n",
    "# Add title and labels\n",
    "fig.update_layout(title=f'Coil Memory Demonstration',\n",
    "                    xaxis_title='Timestep',\n",
    "                    yaxis_title='Value')\n",
    "\n",
    "\n",
    "fig.add_vrect(x0=step_modify-1, x1=step_modify+1, \n",
    "              annotation_text=\"altered time\", annotation_position=\"top left\",\n",
    "              fillcolor=\"grey\", opacity=0.25, line_width=0)\n",
    "\n",
    "# Show the figure\n",
    "fig.show()"
   ]
  },
  {
   "cell_type": "markdown",
   "metadata": {},
   "source": [
    "We can see that, while most of the inputs during the wind up are the same, the fact one timestamp has different values causes very different coil dynamics. "
   ]
  },
  {
   "cell_type": "markdown",
   "metadata": {},
   "source": [
    "## Coil Prediction Testing"
   ]
  },
  {
   "cell_type": "markdown",
   "metadata": {},
   "source": [
    "To see how coils perform on unseen data, we can load in a wider range of the original timeseries, generating the sequence chunks for the coil inputs. "
   ]
  },
  {
   "cell_type": "code",
   "execution_count": 17,
   "metadata": {},
   "outputs": [
    {
     "name": "stdout",
     "output_type": "stream",
     "text": [
      "Available Batches:  194\n"
     ]
    }
   ],
   "source": [
    "# Take original timeseries and bring in data we haven't seen before\n",
    "df_test = df_orig.iloc[:7000,:]\n",
    "\n",
    "# Take our previously fit coil normalizer and apply it to the new data\n",
    "coilnormed_df_test = coilnormer.normalize(df_test, fit_change=False)\n",
    "\n",
    "# Generate and segment the time series\n",
    "series = coilnormed_df_test.values\n",
    "length = 36\n",
    "\n",
    "series_x = series[:-1,]\n",
    "segments_x = segment_time_series(series_x, length,overlap=None)\n",
    "\n",
    "# Convert to tensors\n",
    "segments_tensor_x = torch.tensor(segments_x, dtype=torch.float)\n",
    "\n",
    "# Prepare inputs and targets\n",
    "X = segments_tensor_x.to(\"cuda\")\n",
    "\n",
    "# Get number of features and batch size\n",
    "n_features = X.shape[2]\n",
    "batch_size = X.shape[0]\n",
    "\n",
    "print(\"Available Batches: \", batch_size)"
   ]
  },
  {
   "cell_type": "markdown",
   "metadata": {},
   "source": [
    "We can do a similar comparison of modelled and observed features as before. "
   ]
  },
  {
   "cell_type": "code",
   "execution_count": 18,
   "metadata": {},
   "outputs": [
    {
     "data": {
      "application/vnd.plotly.v1+json": {
       "config": {
        "plotlyServerURL": "https://plot.ly"
       },
       "data": [
        {
         "mode": "lines",
         "name": "Modelled Feature 0",
         "type": "scatter",
         "y": [
          0.03880070522427559,
          0.04144620895385742,
          0.03880070522427559,
          0.036155201494693756,
          0.03703703731298447,
          0.03791886940598488,
          0.036155201494693756,
          0.035273369401693344,
          0.0357142873108387,
          0.035273369401693344,
          0.036155201494693756,
          0.0357142873108387,
          0.03483245149254799,
          0.03086419776082039,
          0.0317460335791111,
          0.03262786567211151,
          0.029541445896029472,
          0.03350970149040222,
          0.032186947762966156,
          0.03350970149040222,
          0.035273369401693344,
          0.03350970149040222,
          0.02865961194038391,
          0.029541445896029472,
          0.030423279851675034,
          0.031205598264932632,
          0.03745795786380768,
          0.037014447152614594,
          0.035647936165332794,
          0.0349632129073143,
          0.03673917055130005,
          0.03651817888021469,
          0.034785766154527664,
          0.03487510606646538,
          0.035349246114492416,
          0.035494282841682434,
          0.036956168711185455,
          0.036854542791843414,
          0.035531383007764816,
          0.037747591733932495,
          0.03761955350637436,
          0.037506312131881714,
          0.03613857552409172,
          0.03539581224322319,
          0.03543718904256821
         ]
        },
        {
         "mode": "lines",
         "name": "Modelled Feature 15",
         "type": "scatter",
         "y": [
          0.0357142873108387,
          0.03514739125967026,
          0.0357142873108387,
          0.036848071962594986,
          0.0357142873108387,
          0.0357142873108387,
          0.0357142873108387,
          0.0357142873108387,
          0.03514739125967026,
          0.0357142873108387,
          0.03628117963671684,
          0.0357142873108387,
          0.03514739125967026,
          0.0357142873108387,
          0.03628117963671684,
          0.0357142873108387,
          0.0357142873108387,
          0.0357142873108387,
          0.0357142873108387,
          0.03628117963671684,
          0.03514739125967026,
          0.03628117963671684,
          0.0357142873108387,
          0.0357142873108387,
          0.0357142873108387,
          0.03658854961395264,
          0.03614549711346626,
          0.03565065935254097,
          0.034343086183071136,
          0.0356898158788681,
          0.03527529910206795,
          0.03556247428059578,
          0.035193461924791336,
          0.03511504456400871,
          0.034567996859550476,
          0.035648688673973083,
          0.035185556858778,
          0.0352294035255909,
          0.035366490483284,
          0.035658374428749084,
          0.03647186607122421,
          0.03531528636813164,
          0.03537359461188316,
          0.034002289175987244,
          0.034757599234580994
         ]
        },
        {
         "mode": "lines",
         "name": "Observed Feature 0",
         "type": "scatter",
         "y": [
          0.03880070522427559,
          0.04144620895385742,
          0.03880070522427559,
          0.036155201494693756,
          0.03703703731298447,
          0.03791886940598488,
          0.036155201494693756,
          0.035273369401693344,
          0.0357142873108387,
          0.035273369401693344,
          0.036155201494693756,
          0.0357142873108387,
          0.03483245149254799,
          0.03086419776082039,
          0.0317460335791111,
          0.03262786567211151,
          0.029541445896029472,
          0.03350970149040222,
          0.032186947762966156,
          0.03350970149040222,
          0.035273369401693344,
          0.03350970149040222,
          0.02865961194038391,
          0.029541445896029472,
          0.030423279851675034,
          0.03086419776082039,
          0.03262786567211151,
          0.029982363805174828,
          0.032186947762966156,
          0.035273369401693344,
          0.03086419776082039,
          0.0357142873108387,
          0.0357142873108387,
          0.0357142873108387,
          0.033068783581256866,
          0.0357142873108387
         ]
        },
        {
         "mode": "lines",
         "name": "Observed Feature 15",
         "type": "scatter",
         "y": [
          0.0357142873108387,
          0.03514739125967026,
          0.0357142873108387,
          0.036848071962594986,
          0.0357142873108387,
          0.0357142873108387,
          0.0357142873108387,
          0.0357142873108387,
          0.03514739125967026,
          0.0357142873108387,
          0.03628117963671684,
          0.0357142873108387,
          0.03514739125967026,
          0.0357142873108387,
          0.03628117963671684,
          0.0357142873108387,
          0.0357142873108387,
          0.0357142873108387,
          0.0357142873108387,
          0.03628117963671684,
          0.03514739125967026,
          0.03628117963671684,
          0.0357142873108387,
          0.0357142873108387,
          0.0357142873108387,
          0.0357142873108387,
          0.0357142873108387,
          0.0357142873108387,
          0.03628117963671684,
          0.03628117963671684,
          0.03628117963671684,
          0.036848071962594986,
          0.0357142873108387,
          0.03628117963671684,
          0.0357142873108387,
          0.03628117963671684
         ]
        }
       ],
       "layout": {
        "annotations": [
         {
          "showarrow": false,
          "text": "Point of Prediction",
          "x": 24,
          "xanchor": "left",
          "xref": "x",
          "y": 1,
          "yanchor": "top",
          "yref": "y domain"
         }
        ],
        "shapes": [
         {
          "line": {
           "color": "grey",
           "dash": "dash",
           "width": 3
          },
          "type": "line",
          "x0": 24,
          "x1": 24,
          "xref": "x",
          "y0": 0,
          "y1": 1,
          "yref": "y domain"
         }
        ],
        "template": {
         "data": {
          "bar": [
           {
            "error_x": {
             "color": "#2a3f5f"
            },
            "error_y": {
             "color": "#2a3f5f"
            },
            "marker": {
             "line": {
              "color": "#E5ECF6",
              "width": 0.5
             },
             "pattern": {
              "fillmode": "overlay",
              "size": 10,
              "solidity": 0.2
             }
            },
            "type": "bar"
           }
          ],
          "barpolar": [
           {
            "marker": {
             "line": {
              "color": "#E5ECF6",
              "width": 0.5
             },
             "pattern": {
              "fillmode": "overlay",
              "size": 10,
              "solidity": 0.2
             }
            },
            "type": "barpolar"
           }
          ],
          "carpet": [
           {
            "aaxis": {
             "endlinecolor": "#2a3f5f",
             "gridcolor": "white",
             "linecolor": "white",
             "minorgridcolor": "white",
             "startlinecolor": "#2a3f5f"
            },
            "baxis": {
             "endlinecolor": "#2a3f5f",
             "gridcolor": "white",
             "linecolor": "white",
             "minorgridcolor": "white",
             "startlinecolor": "#2a3f5f"
            },
            "type": "carpet"
           }
          ],
          "choropleth": [
           {
            "colorbar": {
             "outlinewidth": 0,
             "ticks": ""
            },
            "type": "choropleth"
           }
          ],
          "contour": [
           {
            "colorbar": {
             "outlinewidth": 0,
             "ticks": ""
            },
            "colorscale": [
             [
              0,
              "#0d0887"
             ],
             [
              0.1111111111111111,
              "#46039f"
             ],
             [
              0.2222222222222222,
              "#7201a8"
             ],
             [
              0.3333333333333333,
              "#9c179e"
             ],
             [
              0.4444444444444444,
              "#bd3786"
             ],
             [
              0.5555555555555556,
              "#d8576b"
             ],
             [
              0.6666666666666666,
              "#ed7953"
             ],
             [
              0.7777777777777778,
              "#fb9f3a"
             ],
             [
              0.8888888888888888,
              "#fdca26"
             ],
             [
              1,
              "#f0f921"
             ]
            ],
            "type": "contour"
           }
          ],
          "contourcarpet": [
           {
            "colorbar": {
             "outlinewidth": 0,
             "ticks": ""
            },
            "type": "contourcarpet"
           }
          ],
          "heatmap": [
           {
            "colorbar": {
             "outlinewidth": 0,
             "ticks": ""
            },
            "colorscale": [
             [
              0,
              "#0d0887"
             ],
             [
              0.1111111111111111,
              "#46039f"
             ],
             [
              0.2222222222222222,
              "#7201a8"
             ],
             [
              0.3333333333333333,
              "#9c179e"
             ],
             [
              0.4444444444444444,
              "#bd3786"
             ],
             [
              0.5555555555555556,
              "#d8576b"
             ],
             [
              0.6666666666666666,
              "#ed7953"
             ],
             [
              0.7777777777777778,
              "#fb9f3a"
             ],
             [
              0.8888888888888888,
              "#fdca26"
             ],
             [
              1,
              "#f0f921"
             ]
            ],
            "type": "heatmap"
           }
          ],
          "heatmapgl": [
           {
            "colorbar": {
             "outlinewidth": 0,
             "ticks": ""
            },
            "colorscale": [
             [
              0,
              "#0d0887"
             ],
             [
              0.1111111111111111,
              "#46039f"
             ],
             [
              0.2222222222222222,
              "#7201a8"
             ],
             [
              0.3333333333333333,
              "#9c179e"
             ],
             [
              0.4444444444444444,
              "#bd3786"
             ],
             [
              0.5555555555555556,
              "#d8576b"
             ],
             [
              0.6666666666666666,
              "#ed7953"
             ],
             [
              0.7777777777777778,
              "#fb9f3a"
             ],
             [
              0.8888888888888888,
              "#fdca26"
             ],
             [
              1,
              "#f0f921"
             ]
            ],
            "type": "heatmapgl"
           }
          ],
          "histogram": [
           {
            "marker": {
             "pattern": {
              "fillmode": "overlay",
              "size": 10,
              "solidity": 0.2
             }
            },
            "type": "histogram"
           }
          ],
          "histogram2d": [
           {
            "colorbar": {
             "outlinewidth": 0,
             "ticks": ""
            },
            "colorscale": [
             [
              0,
              "#0d0887"
             ],
             [
              0.1111111111111111,
              "#46039f"
             ],
             [
              0.2222222222222222,
              "#7201a8"
             ],
             [
              0.3333333333333333,
              "#9c179e"
             ],
             [
              0.4444444444444444,
              "#bd3786"
             ],
             [
              0.5555555555555556,
              "#d8576b"
             ],
             [
              0.6666666666666666,
              "#ed7953"
             ],
             [
              0.7777777777777778,
              "#fb9f3a"
             ],
             [
              0.8888888888888888,
              "#fdca26"
             ],
             [
              1,
              "#f0f921"
             ]
            ],
            "type": "histogram2d"
           }
          ],
          "histogram2dcontour": [
           {
            "colorbar": {
             "outlinewidth": 0,
             "ticks": ""
            },
            "colorscale": [
             [
              0,
              "#0d0887"
             ],
             [
              0.1111111111111111,
              "#46039f"
             ],
             [
              0.2222222222222222,
              "#7201a8"
             ],
             [
              0.3333333333333333,
              "#9c179e"
             ],
             [
              0.4444444444444444,
              "#bd3786"
             ],
             [
              0.5555555555555556,
              "#d8576b"
             ],
             [
              0.6666666666666666,
              "#ed7953"
             ],
             [
              0.7777777777777778,
              "#fb9f3a"
             ],
             [
              0.8888888888888888,
              "#fdca26"
             ],
             [
              1,
              "#f0f921"
             ]
            ],
            "type": "histogram2dcontour"
           }
          ],
          "mesh3d": [
           {
            "colorbar": {
             "outlinewidth": 0,
             "ticks": ""
            },
            "type": "mesh3d"
           }
          ],
          "parcoords": [
           {
            "line": {
             "colorbar": {
              "outlinewidth": 0,
              "ticks": ""
             }
            },
            "type": "parcoords"
           }
          ],
          "pie": [
           {
            "automargin": true,
            "type": "pie"
           }
          ],
          "scatter": [
           {
            "fillpattern": {
             "fillmode": "overlay",
             "size": 10,
             "solidity": 0.2
            },
            "type": "scatter"
           }
          ],
          "scatter3d": [
           {
            "line": {
             "colorbar": {
              "outlinewidth": 0,
              "ticks": ""
             }
            },
            "marker": {
             "colorbar": {
              "outlinewidth": 0,
              "ticks": ""
             }
            },
            "type": "scatter3d"
           }
          ],
          "scattercarpet": [
           {
            "marker": {
             "colorbar": {
              "outlinewidth": 0,
              "ticks": ""
             }
            },
            "type": "scattercarpet"
           }
          ],
          "scattergeo": [
           {
            "marker": {
             "colorbar": {
              "outlinewidth": 0,
              "ticks": ""
             }
            },
            "type": "scattergeo"
           }
          ],
          "scattergl": [
           {
            "marker": {
             "colorbar": {
              "outlinewidth": 0,
              "ticks": ""
             }
            },
            "type": "scattergl"
           }
          ],
          "scattermapbox": [
           {
            "marker": {
             "colorbar": {
              "outlinewidth": 0,
              "ticks": ""
             }
            },
            "type": "scattermapbox"
           }
          ],
          "scatterpolar": [
           {
            "marker": {
             "colorbar": {
              "outlinewidth": 0,
              "ticks": ""
             }
            },
            "type": "scatterpolar"
           }
          ],
          "scatterpolargl": [
           {
            "marker": {
             "colorbar": {
              "outlinewidth": 0,
              "ticks": ""
             }
            },
            "type": "scatterpolargl"
           }
          ],
          "scatterternary": [
           {
            "marker": {
             "colorbar": {
              "outlinewidth": 0,
              "ticks": ""
             }
            },
            "type": "scatterternary"
           }
          ],
          "surface": [
           {
            "colorbar": {
             "outlinewidth": 0,
             "ticks": ""
            },
            "colorscale": [
             [
              0,
              "#0d0887"
             ],
             [
              0.1111111111111111,
              "#46039f"
             ],
             [
              0.2222222222222222,
              "#7201a8"
             ],
             [
              0.3333333333333333,
              "#9c179e"
             ],
             [
              0.4444444444444444,
              "#bd3786"
             ],
             [
              0.5555555555555556,
              "#d8576b"
             ],
             [
              0.6666666666666666,
              "#ed7953"
             ],
             [
              0.7777777777777778,
              "#fb9f3a"
             ],
             [
              0.8888888888888888,
              "#fdca26"
             ],
             [
              1,
              "#f0f921"
             ]
            ],
            "type": "surface"
           }
          ],
          "table": [
           {
            "cells": {
             "fill": {
              "color": "#EBF0F8"
             },
             "line": {
              "color": "white"
             }
            },
            "header": {
             "fill": {
              "color": "#C8D4E3"
             },
             "line": {
              "color": "white"
             }
            },
            "type": "table"
           }
          ]
         },
         "layout": {
          "annotationdefaults": {
           "arrowcolor": "#2a3f5f",
           "arrowhead": 0,
           "arrowwidth": 1
          },
          "autotypenumbers": "strict",
          "coloraxis": {
           "colorbar": {
            "outlinewidth": 0,
            "ticks": ""
           }
          },
          "colorscale": {
           "diverging": [
            [
             0,
             "#8e0152"
            ],
            [
             0.1,
             "#c51b7d"
            ],
            [
             0.2,
             "#de77ae"
            ],
            [
             0.3,
             "#f1b6da"
            ],
            [
             0.4,
             "#fde0ef"
            ],
            [
             0.5,
             "#f7f7f7"
            ],
            [
             0.6,
             "#e6f5d0"
            ],
            [
             0.7,
             "#b8e186"
            ],
            [
             0.8,
             "#7fbc41"
            ],
            [
             0.9,
             "#4d9221"
            ],
            [
             1,
             "#276419"
            ]
           ],
           "sequential": [
            [
             0,
             "#0d0887"
            ],
            [
             0.1111111111111111,
             "#46039f"
            ],
            [
             0.2222222222222222,
             "#7201a8"
            ],
            [
             0.3333333333333333,
             "#9c179e"
            ],
            [
             0.4444444444444444,
             "#bd3786"
            ],
            [
             0.5555555555555556,
             "#d8576b"
            ],
            [
             0.6666666666666666,
             "#ed7953"
            ],
            [
             0.7777777777777778,
             "#fb9f3a"
            ],
            [
             0.8888888888888888,
             "#fdca26"
            ],
            [
             1,
             "#f0f921"
            ]
           ],
           "sequentialminus": [
            [
             0,
             "#0d0887"
            ],
            [
             0.1111111111111111,
             "#46039f"
            ],
            [
             0.2222222222222222,
             "#7201a8"
            ],
            [
             0.3333333333333333,
             "#9c179e"
            ],
            [
             0.4444444444444444,
             "#bd3786"
            ],
            [
             0.5555555555555556,
             "#d8576b"
            ],
            [
             0.6666666666666666,
             "#ed7953"
            ],
            [
             0.7777777777777778,
             "#fb9f3a"
            ],
            [
             0.8888888888888888,
             "#fdca26"
            ],
            [
             1,
             "#f0f921"
            ]
           ]
          },
          "colorway": [
           "#636efa",
           "#EF553B",
           "#00cc96",
           "#ab63fa",
           "#FFA15A",
           "#19d3f3",
           "#FF6692",
           "#B6E880",
           "#FF97FF",
           "#FECB52"
          ],
          "font": {
           "color": "#2a3f5f"
          },
          "geo": {
           "bgcolor": "white",
           "lakecolor": "white",
           "landcolor": "#E5ECF6",
           "showlakes": true,
           "showland": true,
           "subunitcolor": "white"
          },
          "hoverlabel": {
           "align": "left"
          },
          "hovermode": "closest",
          "mapbox": {
           "style": "light"
          },
          "paper_bgcolor": "white",
          "plot_bgcolor": "#E5ECF6",
          "polar": {
           "angularaxis": {
            "gridcolor": "white",
            "linecolor": "white",
            "ticks": ""
           },
           "bgcolor": "#E5ECF6",
           "radialaxis": {
            "gridcolor": "white",
            "linecolor": "white",
            "ticks": ""
           }
          },
          "scene": {
           "xaxis": {
            "backgroundcolor": "#E5ECF6",
            "gridcolor": "white",
            "gridwidth": 2,
            "linecolor": "white",
            "showbackground": true,
            "ticks": "",
            "zerolinecolor": "white"
           },
           "yaxis": {
            "backgroundcolor": "#E5ECF6",
            "gridcolor": "white",
            "gridwidth": 2,
            "linecolor": "white",
            "showbackground": true,
            "ticks": "",
            "zerolinecolor": "white"
           },
           "zaxis": {
            "backgroundcolor": "#E5ECF6",
            "gridcolor": "white",
            "gridwidth": 2,
            "linecolor": "white",
            "showbackground": true,
            "ticks": "",
            "zerolinecolor": "white"
           }
          },
          "shapedefaults": {
           "line": {
            "color": "#2a3f5f"
           }
          },
          "ternary": {
           "aaxis": {
            "gridcolor": "white",
            "linecolor": "white",
            "ticks": ""
           },
           "baxis": {
            "gridcolor": "white",
            "linecolor": "white",
            "ticks": ""
           },
           "bgcolor": "#E5ECF6",
           "caxis": {
            "gridcolor": "white",
            "linecolor": "white",
            "ticks": ""
           }
          },
          "title": {
           "x": 0.05
          },
          "xaxis": {
           "automargin": true,
           "gridcolor": "white",
           "linecolor": "white",
           "ticks": "",
           "title": {
            "standoff": 15
           },
           "zerolinecolor": "white",
           "zerolinewidth": 2
          },
          "yaxis": {
           "automargin": true,
           "gridcolor": "white",
           "linecolor": "white",
           "ticks": "",
           "title": {
            "standoff": 15
           },
           "zerolinecolor": "white",
           "zerolinewidth": 2
          }
         }
        },
        "title": {
         "text": "Coil Testing Modelled vs Observed Comparison"
        },
        "xaxis": {
         "title": {
          "text": "Timestep"
         }
        },
        "yaxis": {
         "title": {
          "text": "Value"
         }
        }
       }
      }
     },
     "metadata": {},
     "output_type": "display_data"
    }
   ],
   "source": [
    "states = []\n",
    "# Select the batch we want to make predictions for\n",
    "batch = 102\n",
    "\n",
    "# After what step do we want the coil to start making its own predictions?\n",
    "prediction_step = 24\n",
    "\n",
    "# What features do we want to plot?\n",
    "feature_sel = [0,15]\n",
    "\n",
    "# Grab starting state tensor\n",
    "state_tensor = X[:,0,:]\n",
    "\n",
    "# How many steps do we want to run the coil overall?\n",
    "max_steps = 45\n",
    "\n",
    "states.append(state_tensor[batch,feature_sel])\n",
    "batch_size = X.shape[0]\n",
    "transition_tensor = torch.softmax(torch.zeros(batch_size, n_features, n_features), dim = 1).to(\"cuda\")\n",
    "for step_state in range(1,max_steps):\n",
    "    state_tensor, transition_tensor = model.step_coil(state_tensor, transition_tensor)\n",
    "    if step_state <= prediction_step:\n",
    "        state_tensor = X[:,step_state,:]\n",
    "    states.append(state_tensor[batch,feature_sel])\n",
    "    #print(sum(state_tensor[batch,:]))\n",
    "    \n",
    "# Move state dynamics to CPU\n",
    "data = [row.to('cpu').detach().numpy() for row in states]\n",
    "traces = list(zip(*data))\n",
    "\n",
    "# Create the figure and add traces\n",
    "fig = go.Figure()\n",
    "\n",
    "# Plotting\n",
    "for i, trace in enumerate(traces):\n",
    "    model_trace = go.Scatter(y=trace, mode='lines', name=f'Modelled Feature {feature_sel[i]}')\n",
    "    fig.add_trace(model_trace)\n",
    "    \n",
    "    \n",
    "# Get observed data to CPU and plot\n",
    "data = X[batch,:,feature_sel].to('cpu')\n",
    "# Transpose the data to get 5 traces\n",
    "traces = list(zip(*data))\n",
    "\n",
    "# Plotting\n",
    "for i, trace in enumerate(traces):\n",
    "    obs_trace = go.Scatter(y=trace, mode='lines', name=f'Observed Feature {feature_sel[i]}')\n",
    "    fig.add_trace(obs_trace)\n",
    "    \n",
    "# Add Line highlighting when the coil becomes responsible for its own predictions\n",
    "fig.add_vline(x=prediction_step, line_width=3, line_dash=\"dash\", line_color=\"grey\", annotation_text='Point of Prediction')    \n",
    "\n",
    "# Add title and labels\n",
    "fig.update_layout(title=f'Coil Testing Modelled vs Observed Comparison',\n",
    "                    xaxis_title='Timestep',\n",
    "                    yaxis_title='Value')\n",
    "\n",
    "# Show the figure\n",
    "fig.show()"
   ]
  },
  {
   "cell_type": "markdown",
   "metadata": {},
   "source": [
    "## Denormalization Checks\n",
    "\n",
    "To translate from flows of probability back into our original timeseries values, we can use the denormalization function that is part of our coil normalizer class. "
   ]
  },
  {
   "cell_type": "code",
   "execution_count": 20,
   "metadata": {},
   "outputs": [
    {
     "data": {
      "application/vnd.plotly.v1+json": {
       "config": {
        "plotlyServerURL": "https://plot.ly"
       },
       "data": [
        {
         "mode": "lines",
         "name": "Model: p (mbar)",
         "type": "scatter",
         "x": [
          "2009-01-01T06:10:00",
          "2009-01-01T06:20:00",
          "2009-01-01T06:30:00",
          "2009-01-01T06:40:00",
          "2009-01-01T06:50:00",
          "2009-01-01T07:00:00",
          "2009-01-01T07:10:00",
          "2009-01-01T07:20:00",
          "2009-01-01T07:30:00",
          "2009-01-01T07:40:00",
          "2009-01-01T07:50:00",
          "2009-01-01T08:00:00",
          "2009-01-01T08:10:00",
          "2009-01-01T08:20:00",
          "2009-01-01T08:30:00",
          "2009-01-01T08:40:00",
          "2009-01-01T08:50:00",
          "2009-01-01T09:00:00",
          "2009-01-01T09:10:00",
          "2009-01-01T09:20:00",
          "2009-01-01T09:30:00",
          "2009-01-01T09:40:00",
          "2009-01-01T09:50:00",
          "2009-01-01T10:00:00",
          "2009-01-01T10:10:00",
          "2009-01-01T10:20:00",
          "2009-01-01T10:30:00",
          "2009-01-01T10:40:00",
          "2009-01-01T10:50:00",
          "2009-01-01T11:00:00",
          "2009-01-01T11:10:00",
          "2009-01-01T11:20:00",
          "2009-01-01T11:30:00",
          "2009-01-01T11:40:00",
          "2009-01-01T11:50:00",
          "2009-01-01T12:00:00"
         ],
         "y": [
          997.81,
          997.8599999645352,
          997.9999999840929,
          998.1400000036507,
          998.2100000046938,
          998.330000012517,
          998.5000000271201,
          998.5900000177323,
          998.7900000026077,
          998.8600000036508,
          999.0400000106916,
          999.1700000122563,
          999.2699999835716,
          999.3299999663607,
          999.4399999559299,
          999.4599999501929,
          999.5899999517576,
          999.6899999230728,
          999.7899998943881,
          999.8099998886511,
          999.8299998829141,
          999.9599998844787,
          1000.1299998990819,
          1000.2699999186397,
          1000.4299999149889,
          1000.5399999045582,
          1000.6258134210029,
          1000.6420515705876,
          1000.6372220299621,
          1000.6555241764486,
          1000.6831547482927,
          1000.6855432708425,
          1000.6813205848696,
          1000.7127993047555,
          1000.6389257760534,
          1000.596277287308
         ]
        },
        {
         "mode": "lines",
         "name": "Model: T (degC)",
         "type": "scatter",
         "x": [
          "2009-01-01T06:10:00",
          "2009-01-01T06:20:00",
          "2009-01-01T06:30:00",
          "2009-01-01T06:40:00",
          "2009-01-01T06:50:00",
          "2009-01-01T07:00:00",
          "2009-01-01T07:10:00",
          "2009-01-01T07:20:00",
          "2009-01-01T07:30:00",
          "2009-01-01T07:40:00",
          "2009-01-01T07:50:00",
          "2009-01-01T08:00:00",
          "2009-01-01T08:10:00",
          "2009-01-01T08:20:00",
          "2009-01-01T08:30:00",
          "2009-01-01T08:40:00",
          "2009-01-01T08:50:00",
          "2009-01-01T09:00:00",
          "2009-01-01T09:10:00",
          "2009-01-01T09:20:00",
          "2009-01-01T09:30:00",
          "2009-01-01T09:40:00",
          "2009-01-01T09:50:00",
          "2009-01-01T10:00:00",
          "2009-01-01T10:10:00",
          "2009-01-01T10:20:00",
          "2009-01-01T10:30:00",
          "2009-01-01T10:40:00",
          "2009-01-01T10:50:00",
          "2009-01-01T11:00:00",
          "2009-01-01T11:10:00",
          "2009-01-01T11:20:00",
          "2009-01-01T11:30:00",
          "2009-01-01T11:40:00",
          "2009-01-01T11:50:00",
          "2009-01-01T12:00:00"
         ],
         "y": [
          -9.59,
          -9.149999993741513,
          -8.909999971836807,
          -9.039999958276752,
          -9.429999968446793,
          -9.169999948106708,
          -8.709999943412843,
          -8.549999960102143,
          -8.399999975748361,
          -8.299999986179174,
          -8.130000003911555,
          -8.100000007040798,
          -8.140000002868472,
          -8.060000011213122,
          -7.950000022687015,
          -7.739999998435375,
          -7.570000016167756,
          -7.660000006780026,
          -7.7100000015646195,
          -7.560000017210838,
          -7.289999997653064,
          -7.150000012256202,
          -7.020000025816258,
          -7.040000023730095,
          -7.030000024773177,
          -7.150000012256202,
          -7.251975564639068,
          -7.27920477103389,
          -7.333377458513697,
          -7.096120521111445,
          -6.928015873386385,
          -6.799301750762657,
          -6.669875338124642,
          -6.782841182642955,
          -6.520391272973588,
          -6.350814557775561
         ]
        },
        {
         "mode": "lines",
         "name": "Model: Tpot (K)",
         "type": "scatter",
         "x": [
          "2009-01-01T06:10:00",
          "2009-01-01T06:20:00",
          "2009-01-01T06:30:00",
          "2009-01-01T06:40:00",
          "2009-01-01T06:50:00",
          "2009-01-01T07:00:00",
          "2009-01-01T07:10:00",
          "2009-01-01T07:20:00",
          "2009-01-01T07:30:00",
          "2009-01-01T07:40:00",
          "2009-01-01T07:50:00",
          "2009-01-01T08:00:00",
          "2009-01-01T08:10:00",
          "2009-01-01T08:20:00",
          "2009-01-01T08:30:00",
          "2009-01-01T08:40:00",
          "2009-01-01T08:50:00",
          "2009-01-01T09:00:00",
          "2009-01-01T09:10:00",
          "2009-01-01T09:20:00",
          "2009-01-01T09:30:00",
          "2009-01-01T09:40:00",
          "2009-01-01T09:50:00",
          "2009-01-01T10:00:00",
          "2009-01-01T10:10:00",
          "2009-01-01T10:20:00",
          "2009-01-01T10:30:00",
          "2009-01-01T10:40:00",
          "2009-01-01T10:50:00",
          "2009-01-01T11:00:00",
          "2009-01-01T11:10:00",
          "2009-01-01T11:20:00",
          "2009-01-01T11:30:00",
          "2009-01-01T11:40:00",
          "2009-01-01T11:50:00",
          "2009-01-01T12:00:00"
         ],
         "y": [
          263.74,
          264.16999999791386,
          264.40000001460317,
          264.2600000187755,
          263.8600000683218,
          264.1200000633672,
          264.5600000792742,
          264.7200001413375,
          264.8500001559406,
          264.95000012308356,
          265.1000001147389,
          265.120000173673,
          265.08000013768674,
          265.1500001356006,
          265.2500001027435,
          265.4600001429021,
          265.62000020496544,
          265.5200002378225,
          265.470000295192,
          265.6100002910197,
          265.8800003087521,
          266.0100003233552,
          266.1300002675504,
          266.10000030197205,
          266.10000030197205,
          265.9700002873689,
          265.84877217062467,
          265.75734611130576,
          265.7145843448423,
          265.9438181786751,
          266.09030715897444,
          266.2214626161999,
          266.35915447215746,
          266.2435146517924,
          266.49494913641985,
          266.6914244018469
         ]
        },
        {
         "mode": "lines",
         "name": "Model: Tdew (degC)",
         "type": "scatter",
         "x": [
          "2009-01-01T06:10:00",
          "2009-01-01T06:20:00",
          "2009-01-01T06:30:00",
          "2009-01-01T06:40:00",
          "2009-01-01T06:50:00",
          "2009-01-01T07:00:00",
          "2009-01-01T07:10:00",
          "2009-01-01T07:20:00",
          "2009-01-01T07:30:00",
          "2009-01-01T07:40:00",
          "2009-01-01T07:50:00",
          "2009-01-01T08:00:00",
          "2009-01-01T08:10:00",
          "2009-01-01T08:20:00",
          "2009-01-01T08:30:00",
          "2009-01-01T08:40:00",
          "2009-01-01T08:50:00",
          "2009-01-01T09:00:00",
          "2009-01-01T09:10:00",
          "2009-01-01T09:20:00",
          "2009-01-01T09:30:00",
          "2009-01-01T09:40:00",
          "2009-01-01T09:50:00",
          "2009-01-01T10:00:00",
          "2009-01-01T10:10:00",
          "2009-01-01T10:20:00",
          "2009-01-01T10:30:00",
          "2009-01-01T10:40:00",
          "2009-01-01T10:50:00",
          "2009-01-01T11:00:00",
          "2009-01-01T11:10:00",
          "2009-01-01T11:20:00",
          "2009-01-01T11:30:00",
          "2009-01-01T11:40:00",
          "2009-01-01T11:50:00",
          "2009-01-01T12:00:00"
         ],
         "y": [
          -10.47,
          -10.01999999895692,
          -9.889999948889017,
          -10.109999930635095,
          -10.569999941326678,
          -10.099999920986594,
          -9.62999990064651,
          -9.469999907948079,
          -9.309999915249648,
          -9.209999894909563,
          -9.029999952800575,
          -9.049999893866481,
          -9.11999988447875,
          -9.019999864138665,
          -8.929999853707852,
          -8.669999832324685,
          -8.639999881349505,
          -8.839999843277038,
          -8.869999794252218,
          -8.669999832324685,
          -8.329999840930105,
          -8.209999800771476,
          -8.059999817460776,
          -8.169999847710134,
          -8.159999838322403,
          -8.339999780431391,
          -8.439142654395575,
          -8.486765889839768,
          -8.52780882234731,
          -8.269950949556865,
          -8.115678194826494,
          -8.021318069288721,
          -7.879198162351337,
          -8.024235163451841,
          -7.8486392817460295,
          -7.7272776454763825
         ]
        },
        {
         "mode": "lines",
         "name": "Model: rh (%)",
         "type": "scatter",
         "x": [
          "2009-01-01T06:10:00",
          "2009-01-01T06:20:00",
          "2009-01-01T06:30:00",
          "2009-01-01T06:40:00",
          "2009-01-01T06:50:00",
          "2009-01-01T07:00:00",
          "2009-01-01T07:10:00",
          "2009-01-01T07:20:00",
          "2009-01-01T07:30:00",
          "2009-01-01T07:40:00",
          "2009-01-01T07:50:00",
          "2009-01-01T08:00:00",
          "2009-01-01T08:10:00",
          "2009-01-01T08:20:00",
          "2009-01-01T08:30:00",
          "2009-01-01T08:40:00",
          "2009-01-01T08:50:00",
          "2009-01-01T09:00:00",
          "2009-01-01T09:10:00",
          "2009-01-01T09:20:00",
          "2009-01-01T09:30:00",
          "2009-01-01T09:40:00",
          "2009-01-01T09:50:00",
          "2009-01-01T10:00:00",
          "2009-01-01T10:10:00",
          "2009-01-01T10:20:00",
          "2009-01-01T10:30:00",
          "2009-01-01T10:40:00",
          "2009-01-01T10:50:00",
          "2009-01-01T11:00:00",
          "2009-01-01T11:10:00",
          "2009-01-01T11:20:00",
          "2009-01-01T11:30:00",
          "2009-01-01T11:40:00",
          "2009-01-01T11:50:00",
          "2009-01-01T12:00:00"
         ],
         "y": [
          93.2,
          93.30000006884336,
          92.49999999687076,
          91.90000007301569,
          91.30000014916062,
          92.9000000745803,
          93.00000014342366,
          93.00000014342366,
          93.10000021226702,
          93.10000021226702,
          93.20000028111038,
          92.80000050537285,
          92.60000087775288,
          92.70000094659623,
          92.60000087775288,
          93.0000006534904,
          92.00000043340025,
          91.20000036142764,
          91.300000430271,
          91.70000020600853,
          92.20000005580482,
          92.09999998696146,
          92.20000005580482,
          91.60000013194976,
          91.60000013194976,
          91.10000028215346,
          90.96465476123727,
          91.19697897834351,
          91.22958811278959,
          91.39880333524059,
          91.37314025511637,
          91.15121182386603,
          91.10357351279109,
          90.70322208237154,
          90.2874388226594,
          89.6810510861152
         ]
        },
        {
         "mode": "lines",
         "name": "Model: VPmax (mbar)",
         "type": "scatter",
         "x": [
          "2009-01-01T06:10:00",
          "2009-01-01T06:20:00",
          "2009-01-01T06:30:00",
          "2009-01-01T06:40:00",
          "2009-01-01T06:50:00",
          "2009-01-01T07:00:00",
          "2009-01-01T07:10:00",
          "2009-01-01T07:20:00",
          "2009-01-01T07:30:00",
          "2009-01-01T07:40:00",
          "2009-01-01T07:50:00",
          "2009-01-01T08:00:00",
          "2009-01-01T08:10:00",
          "2009-01-01T08:20:00",
          "2009-01-01T08:30:00",
          "2009-01-01T08:40:00",
          "2009-01-01T08:50:00",
          "2009-01-01T09:00:00",
          "2009-01-01T09:10:00",
          "2009-01-01T09:20:00",
          "2009-01-01T09:30:00",
          "2009-01-01T09:40:00",
          "2009-01-01T09:50:00",
          "2009-01-01T10:00:00",
          "2009-01-01T10:10:00",
          "2009-01-01T10:20:00",
          "2009-01-01T10:30:00",
          "2009-01-01T10:40:00",
          "2009-01-01T10:50:00",
          "2009-01-01T11:00:00",
          "2009-01-01T11:10:00",
          "2009-01-01T11:20:00",
          "2009-01-01T11:30:00",
          "2009-01-01T11:40:00",
          "2009-01-01T11:50:00",
          "2009-01-01T12:00:00"
         ],
         "y": [
          2.95,
          3.0500000159069893,
          3.1100000362470746,
          3.080000041462481,
          2.980000025555492,
          3.040000045895577,
          3.1600000558048493,
          3.200000038594008,
          3.240000021383167,
          3.2600000281631956,
          3.3000000109523544,
          3.3100000297278176,
          3.3000000109523544,
          3.320000017732383,
          3.3500000125169764,
          3.4100000328570617,
          3.4500000156462205,
          3.430000008866192,
          3.4100000020861634,
          3.4499999848753222,
          3.5299999812245377,
          3.5699999640136966,
          3.59999995879829,
          3.59999995879829,
          3.59999995879829,
          3.5699999640136966,
          3.535184607288456,
          3.507948486667251,
          3.4902864757731917,
          3.532575487838717,
          3.5729720967734897,
          3.6082974237551544,
          3.6516028931601,
          3.6231634970030164,
          3.69826424086533,
          3.763027688499279
         ]
        },
        {
         "mode": "lines",
         "name": "Model: VPact (mbar)",
         "type": "scatter",
         "x": [
          "2009-01-01T06:10:00",
          "2009-01-01T06:20:00",
          "2009-01-01T06:30:00",
          "2009-01-01T06:40:00",
          "2009-01-01T06:50:00",
          "2009-01-01T07:00:00",
          "2009-01-01T07:10:00",
          "2009-01-01T07:20:00",
          "2009-01-01T07:30:00",
          "2009-01-01T07:40:00",
          "2009-01-01T07:50:00",
          "2009-01-01T08:00:00",
          "2009-01-01T08:10:00",
          "2009-01-01T08:20:00",
          "2009-01-01T08:30:00",
          "2009-01-01T08:40:00",
          "2009-01-01T08:50:00",
          "2009-01-01T09:00:00",
          "2009-01-01T09:10:00",
          "2009-01-01T09:20:00",
          "2009-01-01T09:30:00",
          "2009-01-01T09:40:00",
          "2009-01-01T09:50:00",
          "2009-01-01T10:00:00",
          "2009-01-01T10:10:00",
          "2009-01-01T10:20:00",
          "2009-01-01T10:30:00",
          "2009-01-01T10:40:00",
          "2009-01-01T10:50:00",
          "2009-01-01T11:00:00",
          "2009-01-01T11:10:00",
          "2009-01-01T11:20:00",
          "2009-01-01T11:30:00",
          "2009-01-01T11:40:00",
          "2009-01-01T11:50:00",
          "2009-01-01T12:00:00"
         ],
         "y": [
          2.74,
          2.849999997392297,
          2.8699999807029966,
          2.829999994263053,
          2.719999996870756,
          2.829999994263053,
          2.93999999165535,
          2.9699999765306715,
          3.009999962970615,
          3.0399999478459363,
          3.0799999342858797,
          3.0699999332427983,
          3.059999932199717,
          3.0799999155104163,
          3.0999998988211157,
          3.1699998899549247,
          3.179999890998006,
          3.1299999029934407,
          3.1199999019503593,
          3.1699998899549247,
          3.2499998826533556,
          3.279999867528677,
          3.3199998539686204,
          3.299999870657921,
          3.299999870657921,
          3.2499998826533556,
          3.219551083292699,
          3.206832324361448,
          3.194251170171395,
          3.242321246264122,
          3.2757520637341155,
          3.2936329866962293,
          3.3265881966456776,
          3.2850038768731897,
          3.334714139936351,
          3.360569184482902
         ]
        },
        {
         "mode": "lines",
         "name": "Model: VPdef (mbar)",
         "type": "scatter",
         "x": [
          "2009-01-01T06:10:00",
          "2009-01-01T06:20:00",
          "2009-01-01T06:30:00",
          "2009-01-01T06:40:00",
          "2009-01-01T06:50:00",
          "2009-01-01T07:00:00",
          "2009-01-01T07:10:00",
          "2009-01-01T07:20:00",
          "2009-01-01T07:30:00",
          "2009-01-01T07:40:00",
          "2009-01-01T07:50:00",
          "2009-01-01T08:00:00",
          "2009-01-01T08:10:00",
          "2009-01-01T08:20:00",
          "2009-01-01T08:30:00",
          "2009-01-01T08:40:00",
          "2009-01-01T08:50:00",
          "2009-01-01T09:00:00",
          "2009-01-01T09:10:00",
          "2009-01-01T09:20:00",
          "2009-01-01T09:30:00",
          "2009-01-01T09:40:00",
          "2009-01-01T09:50:00",
          "2009-01-01T10:00:00",
          "2009-01-01T10:10:00",
          "2009-01-01T10:20:00",
          "2009-01-01T10:30:00",
          "2009-01-01T10:40:00",
          "2009-01-01T10:50:00",
          "2009-01-01T11:00:00",
          "2009-01-01T11:10:00",
          "2009-01-01T11:20:00",
          "2009-01-01T11:30:00",
          "2009-01-01T11:40:00",
          "2009-01-01T11:50:00",
          "2009-01-01T12:00:00"
         ],
         "y": [
          0.2,
          0.2,
          0.22999997496604901,
          0.2499999692291019,
          0.25999998278915876,
          0.21999996140599226,
          0.21999996140599226,
          0.21999996140599226,
          0.21999996140599226,
          0.21999996140599226,
          0.21999996140599226,
          0.23999995566904514,
          0.23999995566904514,
          0.23999995566904514,
          0.249999969229102,
          0.23999995566904514,
          0.2799999770522115,
          0.2999999713152644,
          0.2999999713152644,
          0.28999995775520754,
          0.2799999441951507,
          0.2799999441951507,
          0.2799999441951507,
          0.29999993845820355,
          0.29999993845820355,
          0.31999993272125643,
          0.30871734217365027,
          0.2920623540648614,
          0.2904476348169998,
          0.2880388698975637,
          0.29602255338501565,
          0.30908749550451126,
          0.3166213514327804,
          0.3371128959225341,
          0.3677721813348563,
          0.40588935573761215
         ]
        },
        {
         "mode": "lines",
         "name": "Model: sh (g/kg)",
         "type": "scatter",
         "x": [
          "2009-01-01T06:10:00",
          "2009-01-01T06:20:00",
          "2009-01-01T06:30:00",
          "2009-01-01T06:40:00",
          "2009-01-01T06:50:00",
          "2009-01-01T07:00:00",
          "2009-01-01T07:10:00",
          "2009-01-01T07:20:00",
          "2009-01-01T07:30:00",
          "2009-01-01T07:40:00",
          "2009-01-01T07:50:00",
          "2009-01-01T08:00:00",
          "2009-01-01T08:10:00",
          "2009-01-01T08:20:00",
          "2009-01-01T08:30:00",
          "2009-01-01T08:40:00",
          "2009-01-01T08:50:00",
          "2009-01-01T09:00:00",
          "2009-01-01T09:10:00",
          "2009-01-01T09:20:00",
          "2009-01-01T09:30:00",
          "2009-01-01T09:40:00",
          "2009-01-01T09:50:00",
          "2009-01-01T10:00:00",
          "2009-01-01T10:10:00",
          "2009-01-01T10:20:00",
          "2009-01-01T10:30:00",
          "2009-01-01T10:40:00",
          "2009-01-01T10:50:00",
          "2009-01-01T11:00:00",
          "2009-01-01T11:10:00",
          "2009-01-01T11:20:00",
          "2009-01-01T11:30:00",
          "2009-01-01T11:40:00",
          "2009-01-01T11:50:00",
          "2009-01-01T12:00:00"
         ],
         "y": [
          1.71,
          1.7799999963492155,
          1.7899999958276749,
          1.7599999973922968,
          1.699999995827675,
          1.7599999973922968,
          1.8299999937415123,
          1.8499999916553498,
          1.8799999900907278,
          1.8899999895691872,
          1.9199999880045653,
          1.9199999880045653,
          1.9099999885261059,
          1.9199999880045653,
          1.9299999874830247,
          1.9699999906122685,
          1.979999990090728,
          1.9499999916553499,
          1.9399999921768905,
          1.9699999906122685,
          2.02999999217689,
          2.0499999900907278,
          2.0699999880045654,
          2.0499999900907278,
          2.0499999900907278,
          2.0199999916553497,
          1.998694044679606,
          1.991161183304901,
          1.9816858307037595,
          2.011359095288943,
          2.0340524180983706,
          2.0458163694824334,
          2.065752269952773,
          2.0382117391138754,
          2.0700616795527793,
          2.0860528670638456
         ]
        },
        {
         "mode": "lines",
         "name": "Model: H2OC (mmol/mol)",
         "type": "scatter",
         "x": [
          "2009-01-01T06:10:00",
          "2009-01-01T06:20:00",
          "2009-01-01T06:30:00",
          "2009-01-01T06:40:00",
          "2009-01-01T06:50:00",
          "2009-01-01T07:00:00",
          "2009-01-01T07:10:00",
          "2009-01-01T07:20:00",
          "2009-01-01T07:30:00",
          "2009-01-01T07:40:00",
          "2009-01-01T07:50:00",
          "2009-01-01T08:00:00",
          "2009-01-01T08:10:00",
          "2009-01-01T08:20:00",
          "2009-01-01T08:30:00",
          "2009-01-01T08:40:00",
          "2009-01-01T08:50:00",
          "2009-01-01T09:00:00",
          "2009-01-01T09:10:00",
          "2009-01-01T09:20:00",
          "2009-01-01T09:30:00",
          "2009-01-01T09:40:00",
          "2009-01-01T09:50:00",
          "2009-01-01T10:00:00",
          "2009-01-01T10:10:00",
          "2009-01-01T10:20:00",
          "2009-01-01T10:30:00",
          "2009-01-01T10:40:00",
          "2009-01-01T10:50:00",
          "2009-01-01T11:00:00",
          "2009-01-01T11:10:00",
          "2009-01-01T11:20:00",
          "2009-01-01T11:30:00",
          "2009-01-01T11:40:00",
          "2009-01-01T11:50:00",
          "2009-01-01T12:00:00"
         ],
         "y": [
          2.75,
          2.849999995827675,
          2.8799999807029963,
          2.829999992698431,
          2.729999996870756,
          2.829999992698431,
          2.939999990090728,
          2.979999976530671,
          3.019999962970614,
          3.039999946281313,
          3.0799999327212566,
          3.0799999327212566,
          3.059999949410557,
          3.0799999327212566,
          3.099999916031956,
          3.169999907165765,
          3.1799999082088464,
          3.1299999202042814,
          3.1199999191612,
          3.1699999071657654,
          3.2499998998641964,
          3.2799998847395178,
          3.319999871179461,
          3.2899998863041398,
          3.299999887347221,
          3.249999899342656,
          3.215254717905492,
          3.210385840548302,
          3.1972083993694587,
          3.232222772372992,
          3.2540471149795858,
          3.273824243777385,
          3.3065571359572346,
          3.2640496341692398,
          3.311618709680461,
          3.338028016764201
         ]
        },
        {
         "mode": "lines",
         "name": "Model: rho (g/m**3)",
         "type": "scatter",
         "x": [
          "2009-01-01T06:10:00",
          "2009-01-01T06:20:00",
          "2009-01-01T06:30:00",
          "2009-01-01T06:40:00",
          "2009-01-01T06:50:00",
          "2009-01-01T07:00:00",
          "2009-01-01T07:10:00",
          "2009-01-01T07:20:00",
          "2009-01-01T07:30:00",
          "2009-01-01T07:40:00",
          "2009-01-01T07:50:00",
          "2009-01-01T08:00:00",
          "2009-01-01T08:10:00",
          "2009-01-01T08:20:00",
          "2009-01-01T08:30:00",
          "2009-01-01T08:40:00",
          "2009-01-01T08:50:00",
          "2009-01-01T09:00:00",
          "2009-01-01T09:10:00",
          "2009-01-01T09:20:00",
          "2009-01-01T09:30:00",
          "2009-01-01T09:40:00",
          "2009-01-01T09:50:00",
          "2009-01-01T10:00:00",
          "2009-01-01T10:10:00",
          "2009-01-01T10:20:00",
          "2009-01-01T10:30:00",
          "2009-01-01T10:40:00",
          "2009-01-01T10:50:00",
          "2009-01-01T11:00:00",
          "2009-01-01T11:10:00",
          "2009-01-01T11:20:00",
          "2009-01-01T11:30:00",
          "2009-01-01T11:40:00",
          "2009-01-01T11:50:00",
          "2009-01-01T12:00:00"
         ],
         "y": [
          1317.44,
          1315.2599999791385,
          1314.2299998586625,
          1315.089999533221,
          1317.1799994771554,
          1315.979999701418,
          1313.8699995851143,
          1313.1699993535503,
          1312.669999414049,
          1312.249999591373,
          1311.6299994766339,
          1311.6499995058402,
          1311.97999979008,
          1311.6599997181074,
          1311.2599995293097,
          1310.2099997749553,
          1309.539999819808,
          1310.1399995100128,
          1310.5099994380403,
          1309.7799993603307,
          1308.42999956321,
          1307.8999997775632,
          1307.459999530353,
          1307.759999557473,
          1307.909999571033,
          1308.669999494888,
          1309.2631552204075,
          1309.7629157039298,
          1310.1399772248146,
          1308.874941096426,
          1308.0574111992637,
          1307.4399114955743,
          1306.6961245148207,
          1307.301829922615,
          1305.8276911179094,
          1304.6865031291404
         ]
        },
        {
         "mode": "lines",
         "name": "Model: wv (m/s)",
         "type": "scatter",
         "x": [
          "2009-01-01T06:10:00",
          "2009-01-01T06:20:00",
          "2009-01-01T06:30:00",
          "2009-01-01T06:40:00",
          "2009-01-01T06:50:00",
          "2009-01-01T07:00:00",
          "2009-01-01T07:10:00",
          "2009-01-01T07:20:00",
          "2009-01-01T07:30:00",
          "2009-01-01T07:40:00",
          "2009-01-01T07:50:00",
          "2009-01-01T08:00:00",
          "2009-01-01T08:10:00",
          "2009-01-01T08:20:00",
          "2009-01-01T08:30:00",
          "2009-01-01T08:40:00",
          "2009-01-01T08:50:00",
          "2009-01-01T09:00:00",
          "2009-01-01T09:10:00",
          "2009-01-01T09:20:00",
          "2009-01-01T09:30:00",
          "2009-01-01T09:40:00",
          "2009-01-01T09:50:00",
          "2009-01-01T10:00:00",
          "2009-01-01T10:10:00",
          "2009-01-01T10:20:00",
          "2009-01-01T10:30:00",
          "2009-01-01T10:40:00",
          "2009-01-01T10:50:00",
          "2009-01-01T11:00:00",
          "2009-01-01T11:10:00",
          "2009-01-01T11:20:00",
          "2009-01-01T11:30:00",
          "2009-01-01T11:40:00",
          "2009-01-01T11:50:00",
          "2009-01-01T12:00:00"
         ],
         "y": [
          0.24,
          0.18000010848045433,
          0.4500001204758892,
          1.4800001843646167,
          2.510000248253344,
          2.0800002271309483,
          2.060000216700136,
          1.9500002964958547,
          0.9200002326071275,
          0.8100003124028461,
          0.6100003405660408,
          0.7200002607703222,
          0.7100002555549161,
          0.5300002951920051,
          0.5300002951920051,
          0.38000035203993554,
          0.1700003744661831,
          0.34000032909214695,
          0.14000035725534166,
          0.11000034160912331,
          0.7500002800673273,
          1.6200002563372287,
          1.2400002625957163,
          1.4500002401694687,
          1.120000193752351,
          2.1200002412125487,
          1.7747103315548762,
          1.8647372199314693,
          1.9058234834960999,
          1.806036117543775,
          1.6979287080079803,
          1.8581167333679285,
          1.5819459403352352,
          1.4398599507825285,
          1.2414836195689336,
          1.2879319642178593
         ]
        },
        {
         "mode": "lines",
         "name": "Model: max. wv (m/s)",
         "type": "scatter",
         "x": [
          "2009-01-01T06:10:00",
          "2009-01-01T06:20:00",
          "2009-01-01T06:30:00",
          "2009-01-01T06:40:00",
          "2009-01-01T06:50:00",
          "2009-01-01T07:00:00",
          "2009-01-01T07:10:00",
          "2009-01-01T07:20:00",
          "2009-01-01T07:30:00",
          "2009-01-01T07:40:00",
          "2009-01-01T07:50:00",
          "2009-01-01T08:00:00",
          "2009-01-01T08:10:00",
          "2009-01-01T08:20:00",
          "2009-01-01T08:30:00",
          "2009-01-01T08:40:00",
          "2009-01-01T08:50:00",
          "2009-01-01T09:00:00",
          "2009-01-01T09:10:00",
          "2009-01-01T09:20:00",
          "2009-01-01T09:30:00",
          "2009-01-01T09:40:00",
          "2009-01-01T09:50:00",
          "2009-01-01T10:00:00",
          "2009-01-01T10:10:00",
          "2009-01-01T10:20:00",
          "2009-01-01T10:30:00",
          "2009-01-01T10:40:00",
          "2009-01-01T10:50:00",
          "2009-01-01T11:00:00",
          "2009-01-01T11:10:00",
          "2009-01-01T11:20:00",
          "2009-01-01T11:30:00",
          "2009-01-01T11:40:00",
          "2009-01-01T11:50:00",
          "2009-01-01T12:00:00"
         ],
         "y": [
          0.75,
          0.4999999087303868,
          0.8800000558048486,
          2.7500001043081284,
          3.6300000166892996,
          2.880000036247074,
          2.750000189058483,
          2.3800002709403643,
          1.3800002448633326,
          1.1300001535937194,
          1.1300001535937194,
          1.250000189058483,
          1.00000009778887,
          0.8800000623241058,
          0.8800000623241058,
          0.7500002151355147,
          0.5000001238659015,
          0.6299999710544926,
          0.5000001238659015,
          0.3800000884011374,
          2.500000019557772,
          2.750000110827385,
          3.130000257901847,
          3.000000410713256,
          2.7500003194436426,
          3.2500002933666106,
          2.992447167455527,
          3.1146316866598758,
          3.0700843472054973,
          2.8717534243234124,
          2.746780313041046,
          3.201563418595771,
          2.760155189231388,
          2.721276904954802,
          2.4601805605563434,
          2.4198678897834043
         ]
        },
        {
         "mode": "lines",
         "name": "Model: wd (deg)",
         "type": "scatter",
         "x": [
          "2009-01-01T06:10:00",
          "2009-01-01T06:20:00",
          "2009-01-01T06:30:00",
          "2009-01-01T06:40:00",
          "2009-01-01T06:50:00",
          "2009-01-01T07:00:00",
          "2009-01-01T07:10:00",
          "2009-01-01T07:20:00",
          "2009-01-01T07:30:00",
          "2009-01-01T07:40:00",
          "2009-01-01T07:50:00",
          "2009-01-01T08:00:00",
          "2009-01-01T08:10:00",
          "2009-01-01T08:20:00",
          "2009-01-01T08:30:00",
          "2009-01-01T08:40:00",
          "2009-01-01T08:50:00",
          "2009-01-01T09:00:00",
          "2009-01-01T09:10:00",
          "2009-01-01T09:20:00",
          "2009-01-01T09:30:00",
          "2009-01-01T09:40:00",
          "2009-01-01T09:50:00",
          "2009-01-01T10:00:00",
          "2009-01-01T10:10:00",
          "2009-01-01T10:20:00",
          "2009-01-01T10:30:00",
          "2009-01-01T10:40:00",
          "2009-01-01T10:50:00",
          "2009-01-01T11:00:00",
          "2009-01-01T11:10:00",
          "2009-01-01T11:20:00",
          "2009-01-01T11:30:00",
          "2009-01-01T11:40:00",
          "2009-01-01T11:50:00",
          "2009-01-01T12:00:00"
         ],
         "y": [
          161.6,
          125.69999382182951,
          67.10999519843605,
          13.999994472712245,
          356.9999949171953,
          348.80000187663364,
          338.09999525202437,
          357.8999975676648,
          340.09999584866694,
          321.1000083322638,
          254.20000903999448,
          213.90001479050164,
          241.4000134616162,
          242.5000291443434,
          352.7000239331092,
          100.20002244019912,
          166.70003300817694,
          202.20002993525964,
          235.00002076240276,
          310.5000202705899,
          17.300021032560835,
          4.630009228531378,
          314.30001099068676,
          292.59999685797834,
          266.2999816216899,
          267.19998427215944,
          269.75433742635977,
          198.50992682846794,
          221.9894774385955,
          200.19366561065408,
          191.482658695101,
          178.71352168322164,
          185.6765141525998,
          188.06971399198295,
          199.0734481585995,
          210.9141246982
         ]
        },
        {
         "mode": "lines",
         "name": "Orig: p (mbar)",
         "type": "scatter",
         "x": [
          "2009-01-01T06:10:00",
          "2009-01-01T06:20:00",
          "2009-01-01T06:30:00",
          "2009-01-01T06:40:00",
          "2009-01-01T06:50:00",
          "2009-01-01T07:00:00",
          "2009-01-01T07:10:00",
          "2009-01-01T07:20:00",
          "2009-01-01T07:30:00",
          "2009-01-01T07:40:00",
          "2009-01-01T07:50:00",
          "2009-01-01T08:00:00",
          "2009-01-01T08:10:00",
          "2009-01-01T08:20:00",
          "2009-01-01T08:30:00",
          "2009-01-01T08:40:00",
          "2009-01-01T08:50:00",
          "2009-01-01T09:00:00",
          "2009-01-01T09:10:00",
          "2009-01-01T09:20:00",
          "2009-01-01T09:30:00",
          "2009-01-01T09:40:00",
          "2009-01-01T09:50:00",
          "2009-01-01T10:00:00",
          "2009-01-01T10:10:00",
          "2009-01-01T10:20:00",
          "2009-01-01T10:30:00",
          "2009-01-01T10:40:00",
          "2009-01-01T10:50:00",
          "2009-01-01T11:00:00",
          "2009-01-01T11:10:00",
          "2009-01-01T11:20:00",
          "2009-01-01T11:30:00",
          "2009-01-01T11:40:00",
          "2009-01-01T11:50:00",
          "2009-01-01T12:00:00"
         ],
         "y": [
          997.81,
          997.86,
          998,
          998.14,
          998.21,
          998.33,
          998.5,
          998.59,
          998.79,
          998.86,
          999.04,
          999.17,
          999.27,
          999.33,
          999.44,
          999.46,
          999.59,
          999.69,
          999.79,
          999.81,
          999.83,
          999.96,
          1000.13,
          1000.27,
          1000.43,
          1000.54,
          1000.68,
          1000.78,
          1000.83,
          1000.87,
          1000.81,
          1000.74,
          1000.61,
          1000.5,
          1000.36,
          1000.3
         ]
        },
        {
         "mode": "lines",
         "name": "Orig: T (degC)",
         "type": "scatter",
         "x": [
          "2009-01-01T06:10:00",
          "2009-01-01T06:20:00",
          "2009-01-01T06:30:00",
          "2009-01-01T06:40:00",
          "2009-01-01T06:50:00",
          "2009-01-01T07:00:00",
          "2009-01-01T07:10:00",
          "2009-01-01T07:20:00",
          "2009-01-01T07:30:00",
          "2009-01-01T07:40:00",
          "2009-01-01T07:50:00",
          "2009-01-01T08:00:00",
          "2009-01-01T08:10:00",
          "2009-01-01T08:20:00",
          "2009-01-01T08:30:00",
          "2009-01-01T08:40:00",
          "2009-01-01T08:50:00",
          "2009-01-01T09:00:00",
          "2009-01-01T09:10:00",
          "2009-01-01T09:20:00",
          "2009-01-01T09:30:00",
          "2009-01-01T09:40:00",
          "2009-01-01T09:50:00",
          "2009-01-01T10:00:00",
          "2009-01-01T10:10:00",
          "2009-01-01T10:20:00",
          "2009-01-01T10:30:00",
          "2009-01-01T10:40:00",
          "2009-01-01T10:50:00",
          "2009-01-01T11:00:00",
          "2009-01-01T11:10:00",
          "2009-01-01T11:20:00",
          "2009-01-01T11:30:00",
          "2009-01-01T11:40:00",
          "2009-01-01T11:50:00",
          "2009-01-01T12:00:00"
         ],
         "y": [
          -9.59,
          -9.15,
          -8.91,
          -9.04,
          -9.43,
          -9.17,
          -8.71,
          -8.55,
          -8.4,
          -8.3,
          -8.13,
          -8.1,
          -8.14,
          -8.06,
          -7.95,
          -7.74,
          -7.57,
          -7.66,
          -7.71,
          -7.56,
          -7.29,
          -7.15,
          -7.02,
          -7.04,
          -7.03,
          -7.15,
          -7.26,
          -7.34,
          -7.35,
          -7.41,
          -7.48,
          -7.38,
          -7.21,
          -7.16,
          -7.03,
          -6.87
         ]
        },
        {
         "mode": "lines",
         "name": "Orig: Tpot (K)",
         "type": "scatter",
         "x": [
          "2009-01-01T06:10:00",
          "2009-01-01T06:20:00",
          "2009-01-01T06:30:00",
          "2009-01-01T06:40:00",
          "2009-01-01T06:50:00",
          "2009-01-01T07:00:00",
          "2009-01-01T07:10:00",
          "2009-01-01T07:20:00",
          "2009-01-01T07:30:00",
          "2009-01-01T07:40:00",
          "2009-01-01T07:50:00",
          "2009-01-01T08:00:00",
          "2009-01-01T08:10:00",
          "2009-01-01T08:20:00",
          "2009-01-01T08:30:00",
          "2009-01-01T08:40:00",
          "2009-01-01T08:50:00",
          "2009-01-01T09:00:00",
          "2009-01-01T09:10:00",
          "2009-01-01T09:20:00",
          "2009-01-01T09:30:00",
          "2009-01-01T09:40:00",
          "2009-01-01T09:50:00",
          "2009-01-01T10:00:00",
          "2009-01-01T10:10:00",
          "2009-01-01T10:20:00",
          "2009-01-01T10:30:00",
          "2009-01-01T10:40:00",
          "2009-01-01T10:50:00",
          "2009-01-01T11:00:00",
          "2009-01-01T11:10:00",
          "2009-01-01T11:20:00",
          "2009-01-01T11:30:00",
          "2009-01-01T11:40:00",
          "2009-01-01T11:50:00",
          "2009-01-01T12:00:00"
         ],
         "y": [
          263.74,
          264.17,
          264.4,
          264.26,
          263.86,
          264.12,
          264.56,
          264.72,
          264.85,
          264.95,
          265.1,
          265.12,
          265.08,
          265.15,
          265.25,
          265.46,
          265.62,
          265.52,
          265.47,
          265.61,
          265.88,
          266.01,
          266.13,
          266.1,
          266.1,
          265.97,
          265.85,
          265.76,
          265.75,
          265.68,
          265.62,
          265.72,
          265.9,
          265.96,
          266.1,
          266.27
         ]
        },
        {
         "mode": "lines",
         "name": "Orig: Tdew (degC)",
         "type": "scatter",
         "x": [
          "2009-01-01T06:10:00",
          "2009-01-01T06:20:00",
          "2009-01-01T06:30:00",
          "2009-01-01T06:40:00",
          "2009-01-01T06:50:00",
          "2009-01-01T07:00:00",
          "2009-01-01T07:10:00",
          "2009-01-01T07:20:00",
          "2009-01-01T07:30:00",
          "2009-01-01T07:40:00",
          "2009-01-01T07:50:00",
          "2009-01-01T08:00:00",
          "2009-01-01T08:10:00",
          "2009-01-01T08:20:00",
          "2009-01-01T08:30:00",
          "2009-01-01T08:40:00",
          "2009-01-01T08:50:00",
          "2009-01-01T09:00:00",
          "2009-01-01T09:10:00",
          "2009-01-01T09:20:00",
          "2009-01-01T09:30:00",
          "2009-01-01T09:40:00",
          "2009-01-01T09:50:00",
          "2009-01-01T10:00:00",
          "2009-01-01T10:10:00",
          "2009-01-01T10:20:00",
          "2009-01-01T10:30:00",
          "2009-01-01T10:40:00",
          "2009-01-01T10:50:00",
          "2009-01-01T11:00:00",
          "2009-01-01T11:10:00",
          "2009-01-01T11:20:00",
          "2009-01-01T11:30:00",
          "2009-01-01T11:40:00",
          "2009-01-01T11:50:00",
          "2009-01-01T12:00:00"
         ],
         "y": [
          -10.47,
          -10.02,
          -9.89,
          -10.11,
          -10.57,
          -10.1,
          -9.63,
          -9.47,
          -9.31,
          -9.21,
          -9.03,
          -9.05,
          -9.12,
          -9.02,
          -8.93,
          -8.67,
          -8.64,
          -8.84,
          -8.87,
          -8.67,
          -8.33,
          -8.21,
          -8.06,
          -8.17,
          -8.16,
          -8.34,
          -8.47,
          -8.57,
          -8.57,
          -8.66,
          -8.76,
          -8.64,
          -8.53,
          -8.54,
          -8.44,
          -8.28
         ]
        },
        {
         "mode": "lines",
         "name": "Orig: rh (%)",
         "type": "scatter",
         "x": [
          "2009-01-01T06:10:00",
          "2009-01-01T06:20:00",
          "2009-01-01T06:30:00",
          "2009-01-01T06:40:00",
          "2009-01-01T06:50:00",
          "2009-01-01T07:00:00",
          "2009-01-01T07:10:00",
          "2009-01-01T07:20:00",
          "2009-01-01T07:30:00",
          "2009-01-01T07:40:00",
          "2009-01-01T07:50:00",
          "2009-01-01T08:00:00",
          "2009-01-01T08:10:00",
          "2009-01-01T08:20:00",
          "2009-01-01T08:30:00",
          "2009-01-01T08:40:00",
          "2009-01-01T08:50:00",
          "2009-01-01T09:00:00",
          "2009-01-01T09:10:00",
          "2009-01-01T09:20:00",
          "2009-01-01T09:30:00",
          "2009-01-01T09:40:00",
          "2009-01-01T09:50:00",
          "2009-01-01T10:00:00",
          "2009-01-01T10:10:00",
          "2009-01-01T10:20:00",
          "2009-01-01T10:30:00",
          "2009-01-01T10:40:00",
          "2009-01-01T10:50:00",
          "2009-01-01T11:00:00",
          "2009-01-01T11:10:00",
          "2009-01-01T11:20:00",
          "2009-01-01T11:30:00",
          "2009-01-01T11:40:00",
          "2009-01-01T11:50:00",
          "2009-01-01T12:00:00"
         ],
         "y": [
          93.2,
          93.3,
          92.5,
          91.9,
          91.3,
          92.9,
          93,
          93,
          93.1,
          93.1,
          93.2,
          92.8,
          92.6,
          92.7,
          92.6,
          93,
          92,
          91.2,
          91.3,
          91.7,
          92.2,
          92.1,
          92.2,
          91.6,
          91.6,
          91.1,
          91,
          90.8,
          90.9,
          90.7,
          90.5,
          90.6,
          90.2,
          89.8,
          89.6,
          89.6
         ]
        },
        {
         "mode": "lines",
         "name": "Orig: VPmax (mbar)",
         "type": "scatter",
         "x": [
          "2009-01-01T06:10:00",
          "2009-01-01T06:20:00",
          "2009-01-01T06:30:00",
          "2009-01-01T06:40:00",
          "2009-01-01T06:50:00",
          "2009-01-01T07:00:00",
          "2009-01-01T07:10:00",
          "2009-01-01T07:20:00",
          "2009-01-01T07:30:00",
          "2009-01-01T07:40:00",
          "2009-01-01T07:50:00",
          "2009-01-01T08:00:00",
          "2009-01-01T08:10:00",
          "2009-01-01T08:20:00",
          "2009-01-01T08:30:00",
          "2009-01-01T08:40:00",
          "2009-01-01T08:50:00",
          "2009-01-01T09:00:00",
          "2009-01-01T09:10:00",
          "2009-01-01T09:20:00",
          "2009-01-01T09:30:00",
          "2009-01-01T09:40:00",
          "2009-01-01T09:50:00",
          "2009-01-01T10:00:00",
          "2009-01-01T10:10:00",
          "2009-01-01T10:20:00",
          "2009-01-01T10:30:00",
          "2009-01-01T10:40:00",
          "2009-01-01T10:50:00",
          "2009-01-01T11:00:00",
          "2009-01-01T11:10:00",
          "2009-01-01T11:20:00",
          "2009-01-01T11:30:00",
          "2009-01-01T11:40:00",
          "2009-01-01T11:50:00",
          "2009-01-01T12:00:00"
         ],
         "y": [
          2.95,
          3.05,
          3.11,
          3.08,
          2.98,
          3.04,
          3.16,
          3.2,
          3.24,
          3.26,
          3.3,
          3.31,
          3.3,
          3.32,
          3.35,
          3.41,
          3.45,
          3.43,
          3.41,
          3.45,
          3.53,
          3.57,
          3.6,
          3.6,
          3.6,
          3.57,
          3.54,
          3.51,
          3.51,
          3.5,
          3.48,
          3.5,
          3.55,
          3.56,
          3.6,
          3.64
         ]
        },
        {
         "mode": "lines",
         "name": "Orig: VPact (mbar)",
         "type": "scatter",
         "x": [
          "2009-01-01T06:10:00",
          "2009-01-01T06:20:00",
          "2009-01-01T06:30:00",
          "2009-01-01T06:40:00",
          "2009-01-01T06:50:00",
          "2009-01-01T07:00:00",
          "2009-01-01T07:10:00",
          "2009-01-01T07:20:00",
          "2009-01-01T07:30:00",
          "2009-01-01T07:40:00",
          "2009-01-01T07:50:00",
          "2009-01-01T08:00:00",
          "2009-01-01T08:10:00",
          "2009-01-01T08:20:00",
          "2009-01-01T08:30:00",
          "2009-01-01T08:40:00",
          "2009-01-01T08:50:00",
          "2009-01-01T09:00:00",
          "2009-01-01T09:10:00",
          "2009-01-01T09:20:00",
          "2009-01-01T09:30:00",
          "2009-01-01T09:40:00",
          "2009-01-01T09:50:00",
          "2009-01-01T10:00:00",
          "2009-01-01T10:10:00",
          "2009-01-01T10:20:00",
          "2009-01-01T10:30:00",
          "2009-01-01T10:40:00",
          "2009-01-01T10:50:00",
          "2009-01-01T11:00:00",
          "2009-01-01T11:10:00",
          "2009-01-01T11:20:00",
          "2009-01-01T11:30:00",
          "2009-01-01T11:40:00",
          "2009-01-01T11:50:00",
          "2009-01-01T12:00:00"
         ],
         "y": [
          2.74,
          2.85,
          2.87,
          2.83,
          2.72,
          2.83,
          2.94,
          2.97,
          3.01,
          3.04,
          3.08,
          3.07,
          3.06,
          3.08,
          3.1,
          3.17,
          3.18,
          3.13,
          3.12,
          3.17,
          3.25,
          3.28,
          3.32,
          3.3,
          3.3,
          3.25,
          3.22,
          3.19,
          3.19,
          3.17,
          3.15,
          3.17,
          3.2,
          3.2,
          3.23,
          3.27
         ]
        },
        {
         "mode": "lines",
         "name": "Orig: VPdef (mbar)",
         "type": "scatter",
         "x": [
          "2009-01-01T06:10:00",
          "2009-01-01T06:20:00",
          "2009-01-01T06:30:00",
          "2009-01-01T06:40:00",
          "2009-01-01T06:50:00",
          "2009-01-01T07:00:00",
          "2009-01-01T07:10:00",
          "2009-01-01T07:20:00",
          "2009-01-01T07:30:00",
          "2009-01-01T07:40:00",
          "2009-01-01T07:50:00",
          "2009-01-01T08:00:00",
          "2009-01-01T08:10:00",
          "2009-01-01T08:20:00",
          "2009-01-01T08:30:00",
          "2009-01-01T08:40:00",
          "2009-01-01T08:50:00",
          "2009-01-01T09:00:00",
          "2009-01-01T09:10:00",
          "2009-01-01T09:20:00",
          "2009-01-01T09:30:00",
          "2009-01-01T09:40:00",
          "2009-01-01T09:50:00",
          "2009-01-01T10:00:00",
          "2009-01-01T10:10:00",
          "2009-01-01T10:20:00",
          "2009-01-01T10:30:00",
          "2009-01-01T10:40:00",
          "2009-01-01T10:50:00",
          "2009-01-01T11:00:00",
          "2009-01-01T11:10:00",
          "2009-01-01T11:20:00",
          "2009-01-01T11:30:00",
          "2009-01-01T11:40:00",
          "2009-01-01T11:50:00",
          "2009-01-01T12:00:00"
         ],
         "y": [
          0.2,
          0.2,
          0.23,
          0.25,
          0.26,
          0.22,
          0.22,
          0.22,
          0.22,
          0.22,
          0.22,
          0.24,
          0.24,
          0.24,
          0.25,
          0.24,
          0.28,
          0.3,
          0.3,
          0.29,
          0.28,
          0.28,
          0.28,
          0.3,
          0.3,
          0.32,
          0.32,
          0.32,
          0.32,
          0.33,
          0.33,
          0.33,
          0.35,
          0.36,
          0.37,
          0.38
         ]
        },
        {
         "mode": "lines",
         "name": "Orig: sh (g/kg)",
         "type": "scatter",
         "x": [
          "2009-01-01T06:10:00",
          "2009-01-01T06:20:00",
          "2009-01-01T06:30:00",
          "2009-01-01T06:40:00",
          "2009-01-01T06:50:00",
          "2009-01-01T07:00:00",
          "2009-01-01T07:10:00",
          "2009-01-01T07:20:00",
          "2009-01-01T07:30:00",
          "2009-01-01T07:40:00",
          "2009-01-01T07:50:00",
          "2009-01-01T08:00:00",
          "2009-01-01T08:10:00",
          "2009-01-01T08:20:00",
          "2009-01-01T08:30:00",
          "2009-01-01T08:40:00",
          "2009-01-01T08:50:00",
          "2009-01-01T09:00:00",
          "2009-01-01T09:10:00",
          "2009-01-01T09:20:00",
          "2009-01-01T09:30:00",
          "2009-01-01T09:40:00",
          "2009-01-01T09:50:00",
          "2009-01-01T10:00:00",
          "2009-01-01T10:10:00",
          "2009-01-01T10:20:00",
          "2009-01-01T10:30:00",
          "2009-01-01T10:40:00",
          "2009-01-01T10:50:00",
          "2009-01-01T11:00:00",
          "2009-01-01T11:10:00",
          "2009-01-01T11:20:00",
          "2009-01-01T11:30:00",
          "2009-01-01T11:40:00",
          "2009-01-01T11:50:00",
          "2009-01-01T12:00:00"
         ],
         "y": [
          1.71,
          1.78,
          1.79,
          1.76,
          1.7,
          1.76,
          1.83,
          1.85,
          1.88,
          1.89,
          1.92,
          1.92,
          1.91,
          1.92,
          1.93,
          1.97,
          1.98,
          1.95,
          1.94,
          1.97,
          2.03,
          2.05,
          2.07,
          2.05,
          2.05,
          2.02,
          2,
          1.99,
          1.99,
          1.97,
          1.96,
          1.98,
          1.99,
          1.99,
          2.01,
          2.03
         ]
        },
        {
         "mode": "lines",
         "name": "Orig: H2OC (mmol/mol)",
         "type": "scatter",
         "x": [
          "2009-01-01T06:10:00",
          "2009-01-01T06:20:00",
          "2009-01-01T06:30:00",
          "2009-01-01T06:40:00",
          "2009-01-01T06:50:00",
          "2009-01-01T07:00:00",
          "2009-01-01T07:10:00",
          "2009-01-01T07:20:00",
          "2009-01-01T07:30:00",
          "2009-01-01T07:40:00",
          "2009-01-01T07:50:00",
          "2009-01-01T08:00:00",
          "2009-01-01T08:10:00",
          "2009-01-01T08:20:00",
          "2009-01-01T08:30:00",
          "2009-01-01T08:40:00",
          "2009-01-01T08:50:00",
          "2009-01-01T09:00:00",
          "2009-01-01T09:10:00",
          "2009-01-01T09:20:00",
          "2009-01-01T09:30:00",
          "2009-01-01T09:40:00",
          "2009-01-01T09:50:00",
          "2009-01-01T10:00:00",
          "2009-01-01T10:10:00",
          "2009-01-01T10:20:00",
          "2009-01-01T10:30:00",
          "2009-01-01T10:40:00",
          "2009-01-01T10:50:00",
          "2009-01-01T11:00:00",
          "2009-01-01T11:10:00",
          "2009-01-01T11:20:00",
          "2009-01-01T11:30:00",
          "2009-01-01T11:40:00",
          "2009-01-01T11:50:00",
          "2009-01-01T12:00:00"
         ],
         "y": [
          2.75,
          2.85,
          2.88,
          2.83,
          2.73,
          2.83,
          2.94,
          2.98,
          3.02,
          3.04,
          3.08,
          3.08,
          3.06,
          3.08,
          3.1,
          3.17,
          3.18,
          3.13,
          3.12,
          3.17,
          3.25,
          3.28,
          3.32,
          3.29,
          3.3,
          3.25,
          3.22,
          3.19,
          3.19,
          3.17,
          3.14,
          3.17,
          3.2,
          3.2,
          3.22,
          3.26
         ]
        },
        {
         "mode": "lines",
         "name": "Orig: rho (g/m**3)",
         "type": "scatter",
         "x": [
          "2009-01-01T06:10:00",
          "2009-01-01T06:20:00",
          "2009-01-01T06:30:00",
          "2009-01-01T06:40:00",
          "2009-01-01T06:50:00",
          "2009-01-01T07:00:00",
          "2009-01-01T07:10:00",
          "2009-01-01T07:20:00",
          "2009-01-01T07:30:00",
          "2009-01-01T07:40:00",
          "2009-01-01T07:50:00",
          "2009-01-01T08:00:00",
          "2009-01-01T08:10:00",
          "2009-01-01T08:20:00",
          "2009-01-01T08:30:00",
          "2009-01-01T08:40:00",
          "2009-01-01T08:50:00",
          "2009-01-01T09:00:00",
          "2009-01-01T09:10:00",
          "2009-01-01T09:20:00",
          "2009-01-01T09:30:00",
          "2009-01-01T09:40:00",
          "2009-01-01T09:50:00",
          "2009-01-01T10:00:00",
          "2009-01-01T10:10:00",
          "2009-01-01T10:20:00",
          "2009-01-01T10:30:00",
          "2009-01-01T10:40:00",
          "2009-01-01T10:50:00",
          "2009-01-01T11:00:00",
          "2009-01-01T11:10:00",
          "2009-01-01T11:20:00",
          "2009-01-01T11:30:00",
          "2009-01-01T11:40:00",
          "2009-01-01T11:50:00",
          "2009-01-01T12:00:00"
         ],
         "y": [
          1317.44,
          1315.26,
          1314.23,
          1315.09,
          1317.18,
          1315.98,
          1313.87,
          1313.17,
          1312.67,
          1312.25,
          1311.63,
          1311.65,
          1311.98,
          1311.66,
          1311.26,
          1310.21,
          1309.54,
          1310.14,
          1310.51,
          1309.78,
          1308.43,
          1307.9,
          1307.46,
          1307.76,
          1307.91,
          1308.67,
          1309.41,
          1309.96,
          1310.07,
          1310.43,
          1310.71,
          1310.1,
          1309.08,
          1308.69,
          1307.86,
          1306.98
         ]
        },
        {
         "mode": "lines",
         "name": "Orig: wv (m/s)",
         "type": "scatter",
         "x": [
          "2009-01-01T06:10:00",
          "2009-01-01T06:20:00",
          "2009-01-01T06:30:00",
          "2009-01-01T06:40:00",
          "2009-01-01T06:50:00",
          "2009-01-01T07:00:00",
          "2009-01-01T07:10:00",
          "2009-01-01T07:20:00",
          "2009-01-01T07:30:00",
          "2009-01-01T07:40:00",
          "2009-01-01T07:50:00",
          "2009-01-01T08:00:00",
          "2009-01-01T08:10:00",
          "2009-01-01T08:20:00",
          "2009-01-01T08:30:00",
          "2009-01-01T08:40:00",
          "2009-01-01T08:50:00",
          "2009-01-01T09:00:00",
          "2009-01-01T09:10:00",
          "2009-01-01T09:20:00",
          "2009-01-01T09:30:00",
          "2009-01-01T09:40:00",
          "2009-01-01T09:50:00",
          "2009-01-01T10:00:00",
          "2009-01-01T10:10:00",
          "2009-01-01T10:20:00",
          "2009-01-01T10:30:00",
          "2009-01-01T10:40:00",
          "2009-01-01T10:50:00",
          "2009-01-01T11:00:00",
          "2009-01-01T11:10:00",
          "2009-01-01T11:20:00",
          "2009-01-01T11:30:00",
          "2009-01-01T11:40:00",
          "2009-01-01T11:50:00",
          "2009-01-01T12:00:00"
         ],
         "y": [
          0.24,
          0.18,
          0.45,
          1.48,
          2.51,
          2.08,
          2.06,
          1.95,
          0.92,
          0.81,
          0.61,
          0.72,
          0.71,
          0.53,
          0.53,
          0.38,
          0.17,
          0.34,
          0.14,
          0.11,
          0.75,
          1.62,
          1.24,
          1.45,
          1.12,
          2.12,
          1.54,
          1.81,
          1.77,
          1.91,
          1.73,
          1.25,
          1.41,
          1.28,
          1.75,
          1.84
         ]
        },
        {
         "mode": "lines",
         "name": "Orig: max. wv (m/s)",
         "type": "scatter",
         "x": [
          "2009-01-01T06:10:00",
          "2009-01-01T06:20:00",
          "2009-01-01T06:30:00",
          "2009-01-01T06:40:00",
          "2009-01-01T06:50:00",
          "2009-01-01T07:00:00",
          "2009-01-01T07:10:00",
          "2009-01-01T07:20:00",
          "2009-01-01T07:30:00",
          "2009-01-01T07:40:00",
          "2009-01-01T07:50:00",
          "2009-01-01T08:00:00",
          "2009-01-01T08:10:00",
          "2009-01-01T08:20:00",
          "2009-01-01T08:30:00",
          "2009-01-01T08:40:00",
          "2009-01-01T08:50:00",
          "2009-01-01T09:00:00",
          "2009-01-01T09:10:00",
          "2009-01-01T09:20:00",
          "2009-01-01T09:30:00",
          "2009-01-01T09:40:00",
          "2009-01-01T09:50:00",
          "2009-01-01T10:00:00",
          "2009-01-01T10:10:00",
          "2009-01-01T10:20:00",
          "2009-01-01T10:30:00",
          "2009-01-01T10:40:00",
          "2009-01-01T10:50:00",
          "2009-01-01T11:00:00",
          "2009-01-01T11:10:00",
          "2009-01-01T11:20:00",
          "2009-01-01T11:30:00",
          "2009-01-01T11:40:00",
          "2009-01-01T11:50:00",
          "2009-01-01T12:00:00"
         ],
         "y": [
          0.75,
          0.5,
          0.88,
          2.75,
          3.63,
          2.88,
          2.75,
          2.38,
          1.38,
          1.13,
          1.13,
          1.25,
          1,
          0.88,
          0.88,
          0.75,
          0.5,
          0.63,
          0.5,
          0.38,
          2.5,
          2.75,
          3.13,
          3,
          2.75,
          3.25,
          3.25,
          3,
          3.25,
          3.38,
          3.25,
          2.13,
          2.25,
          1.88,
          3,
          2.63
         ]
        },
        {
         "mode": "lines",
         "name": "Orig: wd (deg)",
         "type": "scatter",
         "x": [
          "2009-01-01T06:10:00",
          "2009-01-01T06:20:00",
          "2009-01-01T06:30:00",
          "2009-01-01T06:40:00",
          "2009-01-01T06:50:00",
          "2009-01-01T07:00:00",
          "2009-01-01T07:10:00",
          "2009-01-01T07:20:00",
          "2009-01-01T07:30:00",
          "2009-01-01T07:40:00",
          "2009-01-01T07:50:00",
          "2009-01-01T08:00:00",
          "2009-01-01T08:10:00",
          "2009-01-01T08:20:00",
          "2009-01-01T08:30:00",
          "2009-01-01T08:40:00",
          "2009-01-01T08:50:00",
          "2009-01-01T09:00:00",
          "2009-01-01T09:10:00",
          "2009-01-01T09:20:00",
          "2009-01-01T09:30:00",
          "2009-01-01T09:40:00",
          "2009-01-01T09:50:00",
          "2009-01-01T10:00:00",
          "2009-01-01T10:10:00",
          "2009-01-01T10:20:00",
          "2009-01-01T10:30:00",
          "2009-01-01T10:40:00",
          "2009-01-01T10:50:00",
          "2009-01-01T11:00:00",
          "2009-01-01T11:10:00",
          "2009-01-01T11:20:00",
          "2009-01-01T11:30:00",
          "2009-01-01T11:40:00",
          "2009-01-01T11:50:00",
          "2009-01-01T12:00:00"
         ],
         "y": [
          161.6,
          125.7,
          67.11,
          14,
          357,
          348.8,
          338.1,
          357.9,
          340.1,
          321.1,
          254.2,
          213.9,
          241.4,
          242.5,
          352.7,
          100.2,
          166.7,
          202.2,
          235,
          310.5,
          17.3,
          4.63,
          314.3,
          292.6,
          266.3,
          267.2,
          258.8,
          257,
          260.5,
          269.6,
          247.1,
          230.6,
          208.2,
          198.9,
          207.5,
          184.4
         ]
        }
       ],
       "layout": {
        "hovermode": "x unified",
        "legend": {
         "title": {
          "text": "Legend"
         }
        },
        "template": {
         "data": {
          "bar": [
           {
            "error_x": {
             "color": "#2a3f5f"
            },
            "error_y": {
             "color": "#2a3f5f"
            },
            "marker": {
             "line": {
              "color": "#E5ECF6",
              "width": 0.5
             },
             "pattern": {
              "fillmode": "overlay",
              "size": 10,
              "solidity": 0.2
             }
            },
            "type": "bar"
           }
          ],
          "barpolar": [
           {
            "marker": {
             "line": {
              "color": "#E5ECF6",
              "width": 0.5
             },
             "pattern": {
              "fillmode": "overlay",
              "size": 10,
              "solidity": 0.2
             }
            },
            "type": "barpolar"
           }
          ],
          "carpet": [
           {
            "aaxis": {
             "endlinecolor": "#2a3f5f",
             "gridcolor": "white",
             "linecolor": "white",
             "minorgridcolor": "white",
             "startlinecolor": "#2a3f5f"
            },
            "baxis": {
             "endlinecolor": "#2a3f5f",
             "gridcolor": "white",
             "linecolor": "white",
             "minorgridcolor": "white",
             "startlinecolor": "#2a3f5f"
            },
            "type": "carpet"
           }
          ],
          "choropleth": [
           {
            "colorbar": {
             "outlinewidth": 0,
             "ticks": ""
            },
            "type": "choropleth"
           }
          ],
          "contour": [
           {
            "colorbar": {
             "outlinewidth": 0,
             "ticks": ""
            },
            "colorscale": [
             [
              0,
              "#0d0887"
             ],
             [
              0.1111111111111111,
              "#46039f"
             ],
             [
              0.2222222222222222,
              "#7201a8"
             ],
             [
              0.3333333333333333,
              "#9c179e"
             ],
             [
              0.4444444444444444,
              "#bd3786"
             ],
             [
              0.5555555555555556,
              "#d8576b"
             ],
             [
              0.6666666666666666,
              "#ed7953"
             ],
             [
              0.7777777777777778,
              "#fb9f3a"
             ],
             [
              0.8888888888888888,
              "#fdca26"
             ],
             [
              1,
              "#f0f921"
             ]
            ],
            "type": "contour"
           }
          ],
          "contourcarpet": [
           {
            "colorbar": {
             "outlinewidth": 0,
             "ticks": ""
            },
            "type": "contourcarpet"
           }
          ],
          "heatmap": [
           {
            "colorbar": {
             "outlinewidth": 0,
             "ticks": ""
            },
            "colorscale": [
             [
              0,
              "#0d0887"
             ],
             [
              0.1111111111111111,
              "#46039f"
             ],
             [
              0.2222222222222222,
              "#7201a8"
             ],
             [
              0.3333333333333333,
              "#9c179e"
             ],
             [
              0.4444444444444444,
              "#bd3786"
             ],
             [
              0.5555555555555556,
              "#d8576b"
             ],
             [
              0.6666666666666666,
              "#ed7953"
             ],
             [
              0.7777777777777778,
              "#fb9f3a"
             ],
             [
              0.8888888888888888,
              "#fdca26"
             ],
             [
              1,
              "#f0f921"
             ]
            ],
            "type": "heatmap"
           }
          ],
          "heatmapgl": [
           {
            "colorbar": {
             "outlinewidth": 0,
             "ticks": ""
            },
            "colorscale": [
             [
              0,
              "#0d0887"
             ],
             [
              0.1111111111111111,
              "#46039f"
             ],
             [
              0.2222222222222222,
              "#7201a8"
             ],
             [
              0.3333333333333333,
              "#9c179e"
             ],
             [
              0.4444444444444444,
              "#bd3786"
             ],
             [
              0.5555555555555556,
              "#d8576b"
             ],
             [
              0.6666666666666666,
              "#ed7953"
             ],
             [
              0.7777777777777778,
              "#fb9f3a"
             ],
             [
              0.8888888888888888,
              "#fdca26"
             ],
             [
              1,
              "#f0f921"
             ]
            ],
            "type": "heatmapgl"
           }
          ],
          "histogram": [
           {
            "marker": {
             "pattern": {
              "fillmode": "overlay",
              "size": 10,
              "solidity": 0.2
             }
            },
            "type": "histogram"
           }
          ],
          "histogram2d": [
           {
            "colorbar": {
             "outlinewidth": 0,
             "ticks": ""
            },
            "colorscale": [
             [
              0,
              "#0d0887"
             ],
             [
              0.1111111111111111,
              "#46039f"
             ],
             [
              0.2222222222222222,
              "#7201a8"
             ],
             [
              0.3333333333333333,
              "#9c179e"
             ],
             [
              0.4444444444444444,
              "#bd3786"
             ],
             [
              0.5555555555555556,
              "#d8576b"
             ],
             [
              0.6666666666666666,
              "#ed7953"
             ],
             [
              0.7777777777777778,
              "#fb9f3a"
             ],
             [
              0.8888888888888888,
              "#fdca26"
             ],
             [
              1,
              "#f0f921"
             ]
            ],
            "type": "histogram2d"
           }
          ],
          "histogram2dcontour": [
           {
            "colorbar": {
             "outlinewidth": 0,
             "ticks": ""
            },
            "colorscale": [
             [
              0,
              "#0d0887"
             ],
             [
              0.1111111111111111,
              "#46039f"
             ],
             [
              0.2222222222222222,
              "#7201a8"
             ],
             [
              0.3333333333333333,
              "#9c179e"
             ],
             [
              0.4444444444444444,
              "#bd3786"
             ],
             [
              0.5555555555555556,
              "#d8576b"
             ],
             [
              0.6666666666666666,
              "#ed7953"
             ],
             [
              0.7777777777777778,
              "#fb9f3a"
             ],
             [
              0.8888888888888888,
              "#fdca26"
             ],
             [
              1,
              "#f0f921"
             ]
            ],
            "type": "histogram2dcontour"
           }
          ],
          "mesh3d": [
           {
            "colorbar": {
             "outlinewidth": 0,
             "ticks": ""
            },
            "type": "mesh3d"
           }
          ],
          "parcoords": [
           {
            "line": {
             "colorbar": {
              "outlinewidth": 0,
              "ticks": ""
             }
            },
            "type": "parcoords"
           }
          ],
          "pie": [
           {
            "automargin": true,
            "type": "pie"
           }
          ],
          "scatter": [
           {
            "fillpattern": {
             "fillmode": "overlay",
             "size": 10,
             "solidity": 0.2
            },
            "type": "scatter"
           }
          ],
          "scatter3d": [
           {
            "line": {
             "colorbar": {
              "outlinewidth": 0,
              "ticks": ""
             }
            },
            "marker": {
             "colorbar": {
              "outlinewidth": 0,
              "ticks": ""
             }
            },
            "type": "scatter3d"
           }
          ],
          "scattercarpet": [
           {
            "marker": {
             "colorbar": {
              "outlinewidth": 0,
              "ticks": ""
             }
            },
            "type": "scattercarpet"
           }
          ],
          "scattergeo": [
           {
            "marker": {
             "colorbar": {
              "outlinewidth": 0,
              "ticks": ""
             }
            },
            "type": "scattergeo"
           }
          ],
          "scattergl": [
           {
            "marker": {
             "colorbar": {
              "outlinewidth": 0,
              "ticks": ""
             }
            },
            "type": "scattergl"
           }
          ],
          "scattermapbox": [
           {
            "marker": {
             "colorbar": {
              "outlinewidth": 0,
              "ticks": ""
             }
            },
            "type": "scattermapbox"
           }
          ],
          "scatterpolar": [
           {
            "marker": {
             "colorbar": {
              "outlinewidth": 0,
              "ticks": ""
             }
            },
            "type": "scatterpolar"
           }
          ],
          "scatterpolargl": [
           {
            "marker": {
             "colorbar": {
              "outlinewidth": 0,
              "ticks": ""
             }
            },
            "type": "scatterpolargl"
           }
          ],
          "scatterternary": [
           {
            "marker": {
             "colorbar": {
              "outlinewidth": 0,
              "ticks": ""
             }
            },
            "type": "scatterternary"
           }
          ],
          "surface": [
           {
            "colorbar": {
             "outlinewidth": 0,
             "ticks": ""
            },
            "colorscale": [
             [
              0,
              "#0d0887"
             ],
             [
              0.1111111111111111,
              "#46039f"
             ],
             [
              0.2222222222222222,
              "#7201a8"
             ],
             [
              0.3333333333333333,
              "#9c179e"
             ],
             [
              0.4444444444444444,
              "#bd3786"
             ],
             [
              0.5555555555555556,
              "#d8576b"
             ],
             [
              0.6666666666666666,
              "#ed7953"
             ],
             [
              0.7777777777777778,
              "#fb9f3a"
             ],
             [
              0.8888888888888888,
              "#fdca26"
             ],
             [
              1,
              "#f0f921"
             ]
            ],
            "type": "surface"
           }
          ],
          "table": [
           {
            "cells": {
             "fill": {
              "color": "#EBF0F8"
             },
             "line": {
              "color": "white"
             }
            },
            "header": {
             "fill": {
              "color": "#C8D4E3"
             },
             "line": {
              "color": "white"
             }
            },
            "type": "table"
           }
          ]
         },
         "layout": {
          "annotationdefaults": {
           "arrowcolor": "#2a3f5f",
           "arrowhead": 0,
           "arrowwidth": 1
          },
          "autotypenumbers": "strict",
          "coloraxis": {
           "colorbar": {
            "outlinewidth": 0,
            "ticks": ""
           }
          },
          "colorscale": {
           "diverging": [
            [
             0,
             "#8e0152"
            ],
            [
             0.1,
             "#c51b7d"
            ],
            [
             0.2,
             "#de77ae"
            ],
            [
             0.3,
             "#f1b6da"
            ],
            [
             0.4,
             "#fde0ef"
            ],
            [
             0.5,
             "#f7f7f7"
            ],
            [
             0.6,
             "#e6f5d0"
            ],
            [
             0.7,
             "#b8e186"
            ],
            [
             0.8,
             "#7fbc41"
            ],
            [
             0.9,
             "#4d9221"
            ],
            [
             1,
             "#276419"
            ]
           ],
           "sequential": [
            [
             0,
             "#0d0887"
            ],
            [
             0.1111111111111111,
             "#46039f"
            ],
            [
             0.2222222222222222,
             "#7201a8"
            ],
            [
             0.3333333333333333,
             "#9c179e"
            ],
            [
             0.4444444444444444,
             "#bd3786"
            ],
            [
             0.5555555555555556,
             "#d8576b"
            ],
            [
             0.6666666666666666,
             "#ed7953"
            ],
            [
             0.7777777777777778,
             "#fb9f3a"
            ],
            [
             0.8888888888888888,
             "#fdca26"
            ],
            [
             1,
             "#f0f921"
            ]
           ],
           "sequentialminus": [
            [
             0,
             "#0d0887"
            ],
            [
             0.1111111111111111,
             "#46039f"
            ],
            [
             0.2222222222222222,
             "#7201a8"
            ],
            [
             0.3333333333333333,
             "#9c179e"
            ],
            [
             0.4444444444444444,
             "#bd3786"
            ],
            [
             0.5555555555555556,
             "#d8576b"
            ],
            [
             0.6666666666666666,
             "#ed7953"
            ],
            [
             0.7777777777777778,
             "#fb9f3a"
            ],
            [
             0.8888888888888888,
             "#fdca26"
            ],
            [
             1,
             "#f0f921"
            ]
           ]
          },
          "colorway": [
           "#636efa",
           "#EF553B",
           "#00cc96",
           "#ab63fa",
           "#FFA15A",
           "#19d3f3",
           "#FF6692",
           "#B6E880",
           "#FF97FF",
           "#FECB52"
          ],
          "font": {
           "color": "#2a3f5f"
          },
          "geo": {
           "bgcolor": "white",
           "lakecolor": "white",
           "landcolor": "#E5ECF6",
           "showlakes": true,
           "showland": true,
           "subunitcolor": "white"
          },
          "hoverlabel": {
           "align": "left"
          },
          "hovermode": "closest",
          "mapbox": {
           "style": "light"
          },
          "paper_bgcolor": "white",
          "plot_bgcolor": "#E5ECF6",
          "polar": {
           "angularaxis": {
            "gridcolor": "white",
            "linecolor": "white",
            "ticks": ""
           },
           "bgcolor": "#E5ECF6",
           "radialaxis": {
            "gridcolor": "white",
            "linecolor": "white",
            "ticks": ""
           }
          },
          "scene": {
           "xaxis": {
            "backgroundcolor": "#E5ECF6",
            "gridcolor": "white",
            "gridwidth": 2,
            "linecolor": "white",
            "showbackground": true,
            "ticks": "",
            "zerolinecolor": "white"
           },
           "yaxis": {
            "backgroundcolor": "#E5ECF6",
            "gridcolor": "white",
            "gridwidth": 2,
            "linecolor": "white",
            "showbackground": true,
            "ticks": "",
            "zerolinecolor": "white"
           },
           "zaxis": {
            "backgroundcolor": "#E5ECF6",
            "gridcolor": "white",
            "gridwidth": 2,
            "linecolor": "white",
            "showbackground": true,
            "ticks": "",
            "zerolinecolor": "white"
           }
          },
          "shapedefaults": {
           "line": {
            "color": "#2a3f5f"
           }
          },
          "ternary": {
           "aaxis": {
            "gridcolor": "white",
            "linecolor": "white",
            "ticks": ""
           },
           "baxis": {
            "gridcolor": "white",
            "linecolor": "white",
            "ticks": ""
           },
           "bgcolor": "#E5ECF6",
           "caxis": {
            "gridcolor": "white",
            "linecolor": "white",
            "ticks": ""
           }
          },
          "title": {
           "x": 0.05
          },
          "xaxis": {
           "automargin": true,
           "gridcolor": "white",
           "linecolor": "white",
           "ticks": "",
           "title": {
            "standoff": 15
           },
           "zerolinecolor": "white",
           "zerolinewidth": 2
          },
          "yaxis": {
           "automargin": true,
           "gridcolor": "white",
           "linecolor": "white",
           "ticks": "",
           "title": {
            "standoff": 15
           },
           "zerolinecolor": "white",
           "zerolinewidth": 2
          }
         }
        },
        "title": {
         "text": "Model Denormalized Testing"
        },
        "xaxis": {
         "title": {
          "text": "Date"
         }
        },
        "yaxis": {
         "title": {
          "text": "Value"
         }
        }
       }
      }
     },
     "metadata": {},
     "output_type": "display_data"
    }
   ],
   "source": [
    "# We should be able to take any slice of the coilnormed timeseries and reproduce\n",
    "start_index = 36\n",
    "length = 36\n",
    "end_index = start_index + length\n",
    "df_test_slice = df_test.iloc[start_index:end_index,:]\n",
    "coilnormed_df_test_slice = coilnormer.normalize(df_test_slice, fit_change=False)\n",
    "initial_value_slice = df_test.iloc[start_index,:]\n",
    "\n",
    "# Generate and segment the time series\n",
    "series = coilnormed_df_test_slice.values\n",
    "\n",
    "series_x = series[:-1,]\n",
    "\n",
    "# Convert to tensors\n",
    "segments_tensor_x = torch.tensor(series_x, dtype=torch.float).unsqueeze(0)\n",
    "\n",
    "# Prepare inputs and targets\n",
    "X = segments_tensor_x.to(\"cuda\")\n",
    "\n",
    "\n",
    "states = []\n",
    "# Select the batch we want to make predictions for\n",
    "batch = 0\n",
    "\n",
    "# After what step do we want the coil to start making its own predictions?\n",
    "prediction_step = 24\n",
    "\n",
    "# Grab starting state tensor\n",
    "state_tensor = X[:,0,:]\n",
    "\n",
    "# How many steps do we want to run the coil overall?\n",
    "max_steps = length - 1\n",
    "\n",
    "states.append(state_tensor[batch,:])\n",
    "batch_size = X.shape[0]\n",
    "transition_tensor = torch.softmax(torch.zeros(batch_size, n_features, n_features), dim = 1).to(\"cuda\")\n",
    "for step_state in range(1,max_steps):\n",
    "    state_tensor, transition_tensor = model.step_coil(state_tensor, transition_tensor)\n",
    "    if step_state <= prediction_step:\n",
    "        state_tensor = X[:,step_state,:]\n",
    "    states.append(state_tensor[batch,:])\n",
    "    \n",
    "# Move state dynamics to CPU\n",
    "data = [row.to('cpu').detach().numpy() for row in states]\n",
    "\n",
    "for index, dat_in in enumerate(data):\n",
    "    coilnormed_df_test_slice.iloc[index,:] = dat_in\n",
    "    \n",
    "denormed_slice = coilnormer.denormalize(coilnormed_df_test_slice, initial_value_slice)\n",
    "\n",
    "\n",
    "# Sample data creation\n",
    "df1 = denormed_slice\n",
    "df2 = df_test_slice\n",
    "\n",
    "# Plotting\n",
    "fig = go.Figure()\n",
    "\n",
    "# Add traces for the first dataframe\n",
    "for column in df1.columns:\n",
    "    fig.add_trace(go.Scatter(x=df2.index, y=df1[column], mode='lines', name=f'Model: {column}'))\n",
    "\n",
    "# Add traces for the second dataframe\n",
    "for column in df2.columns:\n",
    "    fig.add_trace(go.Scatter(x=df2.index, y=df2[column], mode='lines', name=f'Orig: {column}'))\n",
    "\n",
    "# Update layout\n",
    "fig.update_layout(title='Model Denormalized Testing',\n",
    "                  xaxis_title='Date',\n",
    "                  yaxis_title='Value',\n",
    "                  legend_title='Legend',\n",
    "                  hovermode='x unified')\n",
    "\n",
    "# Show the plot\n",
    "fig.show()\n"
   ]
  }
 ],
 "metadata": {
  "kernelspec": {
   "display_name": "coilspy-1sgZ1XBf-py3.12",
   "language": "python",
   "name": "python3"
  },
  "language_info": {
   "codemirror_mode": {
    "name": "ipython",
    "version": 3
   },
   "file_extension": ".py",
   "mimetype": "text/x-python",
   "name": "python",
   "nbconvert_exporter": "python",
   "pygments_lexer": "ipython3",
   "version": "3.12.2"
  }
 },
 "nbformat": 4,
 "nbformat_minor": 2
}
