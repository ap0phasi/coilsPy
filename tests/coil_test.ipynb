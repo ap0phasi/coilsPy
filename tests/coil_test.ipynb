{
 "cells": [
  {
   "cell_type": "code",
   "execution_count": 1,
   "metadata": {},
   "outputs": [],
   "source": [
    "from coilspy import ComplexCoil"
   ]
  },
  {
   "cell_type": "code",
   "execution_count": 2,
   "metadata": {},
   "outputs": [],
   "source": [
    "num_elements = 5\n",
    "\n",
    "# Thetas for state, transition, and interactions\n",
    "angles_dict = {\n",
    "    'state': 0.3,\n",
    "    'transition': 0.2,\n",
    "    'interaction': 0.4\n",
    "}\n",
    "\n",
    "# Set restrictions\n",
    "\n",
    "# Local\n",
    "# restrict_dict = {\n",
    "#     0: [2, 3, 4],\n",
    "#     1: [3, 4],\n",
    "#     2: [0, 4],\n",
    "#     3: [0, 1],\n",
    "#     4: [0, 1, 2]\n",
    "# }\n",
    "\n",
    "# Grouping\n",
    "restrict_dict = {\n",
    "    0: [2, 3, 4],\n",
    "    1: [2, 3, 4],\n",
    "    2: [0, 1],\n",
    "    3: [0, 1],\n",
    "    4: [0, 1]\n",
    "}\n",
    "\n",
    "# No restrictions\n",
    "# restrict_dict = {}"
   ]
  },
  {
   "cell_type": "code",
   "execution_count": 3,
   "metadata": {},
   "outputs": [
    {
     "name": "stderr",
     "output_type": "stream",
     "text": [
      "C:\\Users\\johnm\\Documents\\GitHub\\coilsPy\\coilspy\\generator\\generate_complex_sum.py:78: UserWarning: To copy construct from a tensor, it is recommended to use sourceTensor.clone().detach() or sourceTensor.clone().detach().requires_grad_(True), rather than torch.tensor(sourceTensor).\n",
      "  rotated_complex_numbers = torch.tensor(rotated_complex_numbers, dtype=torch.complex128)\n"
     ]
    }
   ],
   "source": [
    "test_coil = ComplexCoil(\n",
    "    num_elements=num_elements,\n",
    "    angles_dict=angles_dict,\n",
    "    state_center_re=0,\n",
    "    state_center_im=0,\n",
    "    state_sigma_re=1.0e100,\n",
    "    state_sigma_im=1.0e100,\n",
    "    state_magnitude_re=1.0,\n",
    "    state_magnitude_im=100.0,\n",
    "    state_restrictions=[],\n",
    "    trans_sigma_re_lo_lim=0.2,\n",
    "    trans_sigma_re_hi_lim=0.5,\n",
    "    trans_sigma_im=1.0e10,\n",
    "    trans_magnitude_re=1.0,\n",
    "    trans_magnitude_im=1.0e5,\n",
    "    trans_restrictions=restrict_dict,\n",
    "    inter_sigma_re_lo_lim=0.2,\n",
    "    inter_sigma_re_hi_lim=0.5,\n",
    "    inter_sigma_im=1.0e10,\n",
    "    inter_magnitude_re=1.0,\n",
    "    inter_magnitude_im=1.0e5,\n",
    "    inter_restrictions=restrict_dict,\n",
    ")"
   ]
  },
  {
   "cell_type": "code",
   "execution_count": 4,
   "metadata": {},
   "outputs": [
    {
     "name": "stdout",
     "output_type": "stream",
     "text": [
      "tensor([0.3115, 0.1083, 0.1242, 0.2276, 0.2284], dtype=torch.float64)\n",
      "tensor(1., dtype=torch.float64)\n",
      "tensor(0.4198, dtype=torch.float64)\n"
     ]
    }
   ],
   "source": [
    "test_coil.step_coil(renormalize=True)\n",
    "probs = test_coil.get_prob()\n",
    "print(probs)\n",
    "print(sum(probs))\n",
    "print(sum(probs[:2]))"
   ]
  },
  {
   "cell_type": "code",
   "execution_count": 5,
   "metadata": {},
   "outputs": [],
   "source": [
    "save_state_tensor, save_transition_tensor, save_interaction_tensor = test_coil.state_tensor, test_coil.transition_tensor, test_coil.interaction_tensor"
   ]
  },
  {
   "cell_type": "code",
   "execution_count": 6,
   "metadata": {},
   "outputs": [],
   "source": [
    "coil1 = ComplexCoil(\n",
    "    num_elements=num_elements,\n",
    "    angles_dict=angles_dict,\n",
    "    state_center_re=0,\n",
    "    state_center_im=0,\n",
    "    state_sigma_re=1.0e100,\n",
    "    state_sigma_im=1.0e100,\n",
    "    state_magnitude_re=1.0,\n",
    "    state_magnitude_im=100.0,\n",
    "    state_restrictions=[],\n",
    "    trans_sigma_re_lo_lim=0.2,\n",
    "    trans_sigma_re_hi_lim=0.5,\n",
    "    trans_sigma_im=1.0e10,\n",
    "    trans_magnitude_re=1.0,\n",
    "    trans_magnitude_im=1.0e5,\n",
    "    trans_restrictions=restrict_dict,\n",
    "    inter_sigma_re_lo_lim=0.2,\n",
    "    inter_sigma_re_hi_lim=0.5,\n",
    "    inter_sigma_im=1.0e10,\n",
    "    inter_magnitude_re=1.0,\n",
    "    inter_magnitude_im=1.0e5,\n",
    "    inter_restrictions=restrict_dict,\n",
    ")\n",
    "\n",
    "coil1.state_tensor = save_state_tensor\n",
    "coil1.transition_tensor = save_transition_tensor\n",
    "coil1.interaction_tensor = save_interaction_tensor"
   ]
  },
  {
   "cell_type": "code",
   "execution_count": 7,
   "metadata": {},
   "outputs": [],
   "source": [
    "coil2 = ComplexCoil(\n",
    "    num_elements=num_elements,\n",
    "    angles_dict=angles_dict,\n",
    "    state_center_re=0,\n",
    "    state_center_im=0,\n",
    "    state_sigma_re=1.0e100,\n",
    "    state_sigma_im=1.0e100,\n",
    "    state_magnitude_re=1.0,\n",
    "    state_magnitude_im=100.0,\n",
    "    state_restrictions=[],\n",
    "    trans_sigma_re_lo_lim=0.2,\n",
    "    trans_sigma_re_hi_lim=0.5,\n",
    "    trans_sigma_im=1.0e10,\n",
    "    trans_magnitude_re=1.0,\n",
    "    trans_magnitude_im=1.0e5,\n",
    "    trans_restrictions=restrict_dict,\n",
    "    inter_sigma_re_lo_lim=0.2,\n",
    "    inter_sigma_re_hi_lim=0.5,\n",
    "    inter_sigma_im=1.0e10,\n",
    "    inter_magnitude_re=1.0,\n",
    "    inter_magnitude_im=1.0e5,\n",
    "    inter_restrictions=restrict_dict,\n",
    ")\n",
    "\n",
    "coil2.state_tensor = save_state_tensor\n",
    "coil2.transition_tensor = save_transition_tensor\n",
    "coil2.interaction_tensor = save_interaction_tensor"
   ]
  },
  {
   "cell_type": "code",
   "execution_count": 8,
   "metadata": {},
   "outputs": [
    {
     "name": "stdout",
     "output_type": "stream",
     "text": [
      "tensor([0.1563, 0.2635, 0.1182, 0.3425, 0.1195], dtype=torch.float64)\n",
      "tensor([0.1563, 0.2635, 0.1182, 0.3425, 0.1195], dtype=torch.float64)\n"
     ]
    }
   ],
   "source": [
    "coil1.step_coil(renormalize=True)\n",
    "print(coil1.get_prob())\n",
    "coil2.step_coil(renormalize=True)\n",
    "print(coil2.get_prob())\n"
   ]
  }
 ],
 "metadata": {
  "kernelspec": {
   "display_name": "Python 3",
   "language": "python",
   "name": "python3"
  },
  "language_info": {
   "codemirror_mode": {
    "name": "ipython",
    "version": 3
   },
   "file_extension": ".py",
   "mimetype": "text/x-python",
   "name": "python",
   "nbconvert_exporter": "python",
   "pygments_lexer": "ipython3",
   "version": "3.12.2"
  }
 },
 "nbformat": 4,
 "nbformat_minor": 2
}
