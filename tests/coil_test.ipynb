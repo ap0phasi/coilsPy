{
 "cells": [
  {
   "cell_type": "code",
   "execution_count": 263,
   "metadata": {},
   "outputs": [],
   "source": [
    "from coilspy import ComplexCoil"
   ]
  },
  {
   "cell_type": "code",
   "execution_count": 264,
   "metadata": {},
   "outputs": [],
   "source": [
    "num_elements = 5\n",
    "\n",
    "# Thetas for state, transition, and interactions\n",
    "angles_dict = {\n",
    "    'state': 0.3,\n",
    "    'transition': 0.2,\n",
    "    'interaction': 0.4\n",
    "}\n",
    "\n",
    "# Set restrictions\n",
    "\n",
    "# Local\n",
    "# restrict_dict = {\n",
    "#     0: [2, 3, 4],\n",
    "#     1: [3, 4],\n",
    "#     2: [0, 4],\n",
    "#     3: [0, 1],\n",
    "#     4: [0, 1, 2]\n",
    "# }\n",
    "\n",
    "# Grouping\n",
    "restrict_dict = {\n",
    "    0: [2, 3, 4],\n",
    "    1: [2, 3, 4],\n",
    "    2: [0, 1],\n",
    "    3: [0, 1],\n",
    "    4: [0, 1]\n",
    "}\n",
    "\n",
    "# No restrictions\n",
    "# restrict_dict = {}"
   ]
  },
  {
   "cell_type": "code",
   "execution_count": 265,
   "metadata": {},
   "outputs": [],
   "source": [
    "test_coil = ComplexCoil(\n",
    "    num_elements=num_elements,\n",
    "    angles_dict=angles_dict,\n",
    "    state_center_re=0,\n",
    "    state_center_im=0,\n",
    "    state_sigma_re=1.0e100,\n",
    "    state_sigma_im=1.0e100,\n",
    "    state_magnitude_re=1.0,\n",
    "    state_magnitude_im=100.0,\n",
    "    state_restrictions=[],\n",
    "    trans_sigma_re_lo_lim=0.2,\n",
    "    trans_sigma_re_hi_lim=0.5,\n",
    "    trans_sigma_im=1.0e10,\n",
    "    trans_magnitude_re=1.0,\n",
    "    trans_magnitude_im=1.0e5,\n",
    "    trans_restrictions=restrict_dict,\n",
    "    inter_sigma_re_lo_lim=0.2,\n",
    "    inter_sigma_re_hi_lim=0.5,\n",
    "    inter_sigma_im=1.0e10,\n",
    "    inter_magnitude_re=1.0,\n",
    "    inter_magnitude_im=1.0e5,\n",
    "    inter_restrictions=restrict_dict,\n",
    ")"
   ]
  },
  {
   "cell_type": "code",
   "execution_count": 266,
   "metadata": {},
   "outputs": [
    {
     "data": {
      "text/plain": [
       "torch.Size([1, 5])"
      ]
     },
     "execution_count": 266,
     "metadata": {},
     "output_type": "execute_result"
    }
   ],
   "source": [
    "test_coil.state_tensor.shape"
   ]
  },
  {
   "cell_type": "code",
   "execution_count": 438,
   "metadata": {},
   "outputs": [
    {
     "name": "stdout",
     "output_type": "stream",
     "text": [
      "tensor([[0.2388, 0.0412, 0.0764, 0.4551, 0.1885]], dtype=torch.float64)\n",
      "tensor(1.0000, dtype=torch.float64)\n",
      "tensor(0.2800, dtype=torch.float64)\n"
     ]
    }
   ],
   "source": [
    "test_coil.step_coil(renormalize=True)\n",
    "probs = test_coil.get_prob()\n",
    "print(probs)\n",
    "print(sum(probs[0]))\n",
    "print(sum(probs[0][:2]))"
   ]
  },
  {
   "cell_type": "code",
   "execution_count": 268,
   "metadata": {},
   "outputs": [],
   "source": [
    "save_state_tensor, save_transition_tensor, save_interaction_tensor = test_coil.state_tensor, test_coil.transition_tensor, test_coil.interaction_tensor"
   ]
  },
  {
   "cell_type": "code",
   "execution_count": 269,
   "metadata": {},
   "outputs": [],
   "source": [
    "coil1 = ComplexCoil(\n",
    "    num_elements=num_elements,\n",
    "    angles_dict=angles_dict,\n",
    "    state_center_re=0,\n",
    "    state_center_im=0,\n",
    "    state_sigma_re=1.0e100,\n",
    "    state_sigma_im=1.0e100,\n",
    "    state_magnitude_re=1.0,\n",
    "    state_magnitude_im=100.0,\n",
    "    state_restrictions=[],\n",
    "    trans_sigma_re_lo_lim=0.2,\n",
    "    trans_sigma_re_hi_lim=0.5,\n",
    "    trans_sigma_im=1.0e10,\n",
    "    trans_magnitude_re=1.0,\n",
    "    trans_magnitude_im=1.0e5,\n",
    "    trans_restrictions=restrict_dict,\n",
    "    inter_sigma_re_lo_lim=0.2,\n",
    "    inter_sigma_re_hi_lim=0.5,\n",
    "    inter_sigma_im=1.0e10,\n",
    "    inter_magnitude_re=1.0,\n",
    "    inter_magnitude_im=1.0e5,\n",
    "    inter_restrictions=restrict_dict,\n",
    ")\n",
    "\n",
    "coil1.state_tensor = save_state_tensor\n",
    "coil1.transition_tensor = save_transition_tensor\n",
    "coil1.interaction_tensor = save_interaction_tensor"
   ]
  },
  {
   "cell_type": "code",
   "execution_count": 270,
   "metadata": {},
   "outputs": [],
   "source": [
    "coil2 = ComplexCoil(\n",
    "    num_elements=num_elements,\n",
    "    angles_dict=angles_dict,\n",
    "    state_center_re=0,\n",
    "    state_center_im=0,\n",
    "    state_sigma_re=1.0e100,\n",
    "    state_sigma_im=1.0e100,\n",
    "    state_magnitude_re=1.0,\n",
    "    state_magnitude_im=100.0,\n",
    "    state_restrictions=[],\n",
    "    trans_sigma_re_lo_lim=0.2,\n",
    "    trans_sigma_re_hi_lim=0.5,\n",
    "    trans_sigma_im=1.0e10,\n",
    "    trans_magnitude_re=1.0,\n",
    "    trans_magnitude_im=1.0e5,\n",
    "    trans_restrictions=restrict_dict,\n",
    "    inter_sigma_re_lo_lim=0.2,\n",
    "    inter_sigma_re_hi_lim=0.5,\n",
    "    inter_sigma_im=1.0e10,\n",
    "    inter_magnitude_re=1.0,\n",
    "    inter_magnitude_im=1.0e5,\n",
    "    inter_restrictions=restrict_dict,\n",
    ")\n",
    "\n",
    "coil2.state_tensor = save_state_tensor\n",
    "coil2.transition_tensor = save_transition_tensor\n",
    "coil2.interaction_tensor = save_interaction_tensor"
   ]
  },
  {
   "cell_type": "code",
   "execution_count": 271,
   "metadata": {},
   "outputs": [
    {
     "name": "stdout",
     "output_type": "stream",
     "text": [
      "tensor([[0.1344, 0.1456, 0.3585, 0.2555, 0.1060]], dtype=torch.float64)\n",
      "tensor([[0.1344, 0.1456, 0.3585, 0.2555, 0.1060]], dtype=torch.float64)\n"
     ]
    }
   ],
   "source": [
    "coil1.step_coil(renormalize=True, sel_temperature=1e-5)\n",
    "print(coil1.get_prob())\n",
    "coil2.step_coil(renormalize=True)\n",
    "print(coil2.get_prob())\n"
   ]
  }
 ],
 "metadata": {
  "kernelspec": {
   "display_name": "Python 3",
   "language": "python",
   "name": "python3"
  },
  "language_info": {
   "codemirror_mode": {
    "name": "ipython",
    "version": 3
   },
   "file_extension": ".py",
   "mimetype": "text/x-python",
   "name": "python",
   "nbconvert_exporter": "python",
   "pygments_lexer": "ipython3",
   "version": "3.12.2"
  }
 },
 "nbformat": 4,
 "nbformat_minor": 2
}
