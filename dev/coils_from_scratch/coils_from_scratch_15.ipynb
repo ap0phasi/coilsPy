{
 "cells": [
  {
   "cell_type": "markdown",
   "metadata": {},
   "source": [
    "# Building coilsPy from scratch "
   ]
  },
  {
   "cell_type": "markdown",
   "metadata": {},
   "source": [
    "## Step 1: Normalized Generation Scheme\n",
    "First we need a reliable way of generating a tensor of complex numbers that sum to be some specified point along the complex unit circle. To help, let's use a simple function to plot out complex tensors tip-to-tail to ensure they meet this criteria."
   ]
  },
  {
   "cell_type": "code",
   "execution_count": 3389,
   "metadata": {},
   "outputs": [],
   "source": [
    "import matplotlib.pyplot as plt\n",
    "import numpy as np\n",
    "\n",
    "def plot_complex_vectors(complex_array):\n",
    "    # Plot the unit circle\n",
    "    angles = np.linspace(0, 2 * np.pi, 100)\n",
    "    plt.plot(np.cos(angles), np.sin(angles), linestyle='dotted')\n",
    "\n",
    "    # Starting point for the vectors\n",
    "    start = 0 + 0j\n",
    "    for z in complex_array:\n",
    "        # Plot each vector\n",
    "        end = start + z\n",
    "        plt.arrow(start.real, start.imag, z.real, z.imag,\n",
    "                  head_width=0.05, head_length=0.05, length_includes_head=True)\n",
    "        start = end\n",
    "\n",
    "    # Set equal scaling and labels\n",
    "    plt.axis('equal')\n",
    "    plt.xlabel('Real')\n",
    "    plt.ylabel('Imaginary')\n",
    "    plt.grid(True)\n",
    "    plt.title('Complex Vectors Summation')\n",
    "\n",
    "    # Show the plot\n",
    "    plt.show()"
   ]
  },
  {
   "cell_type": "markdown",
   "metadata": {},
   "source": [
    "## Create Kernels\n",
    "\n",
    "For creating dirichlet distributions we will introduce some kernel options."
   ]
  },
  {
   "cell_type": "markdown",
   "metadata": {},
   "source": [
    "There are a number of ways I can accomplish our needs, but currently I am using the following approach:"
   ]
  },
  {
   "cell_type": "code",
   "execution_count": 3390,
   "metadata": {},
   "outputs": [
    {
     "name": "stdout",
     "output_type": "stream",
     "text": [
      "tensor([3.7267e-06, 3.3546e-04, 1.1109e-02, 1.3534e-01, 6.0653e-01, 1.0000e+00,\n",
      "        6.0653e-01, 1.3534e-01, 1.1109e-02, 3.3546e-04])\n"
     ]
    },
    {
     "data": {
      "image/png": "[encoded data removed]",
      "text/plain": [
       "<Figure size 640x480 with 1 Axes>"
      ]
     },
     "metadata": {},
     "output_type": "display_data"
    }
   ],
   "source": [
    "import torch\n",
    "\n",
    "def generate_rbf(length, center_index, sigma):\n",
    "    \"\"\"\n",
    "    Generates a 1D radial basis function (Gaussian) of specified width centered on a given index.\n",
    "\n",
    "    Parameters:\n",
    "    length (int): The length of the output tensor.\n",
    "    center_index (int): The index at which the RBF is centered.\n",
    "    sigma (float): The standard deviation (width) of the RBF.\n",
    "\n",
    "    Returns:\n",
    "    torch.Tensor: A 1D tensor representing the radial basis function.\n",
    "    \"\"\"\n",
    "    if center_index >= length or center_index < 0:\n",
    "        raise ValueError(\"Center index must be within the range of the tensor length.\")\n",
    "\n",
    "    # Create an array of indices\n",
    "    x = torch.arange(0, length, dtype=torch.float32)\n",
    "\n",
    "    # Calculate the RBF\n",
    "    rbf = torch.exp(-0.5 * ((x - center_index) / sigma) ** 2)\n",
    "\n",
    "    return rbf\n",
    "\n",
    "def generate_kernel(length, center_index, type = \"rbf\", restrictions = [], **kwargs):\n",
    "    if type == \"rbf\":\n",
    "        kernel = generate_rbf(length, center_index, kwargs['sigma'])\n",
    "        \n",
    "    # Replace zero values with min_value\n",
    "    kernel = torch.where(kernel == 0, torch.tensor(1e-30, dtype=kernel.dtype), kernel)\n",
    "    \n",
    "    # Set restrictions to 0\n",
    "    kernel[restrictions] = 1e-30\n",
    "    \n",
    "    return kernel\n",
    "\n",
    "\n",
    "# Example usage\n",
    "length = 10  # Length of the tensor\n",
    "center_index = 5  # Center the RBF at index 5\n",
    "sigma = 1  # Standard deviation of the RBF\n",
    "\n",
    "rbf_tensor = generate_kernel(length, center_index, type = \"rbf\", sigma=sigma)\n",
    "print(rbf_tensor)\n",
    "\n",
    "# Plotting the RBF\n",
    "plt.scatter(torch.arange(length), rbf_tensor)\n",
    "plt.title(\"Radial Basis Function (RBF)\")\n",
    "plt.xlabel(\"Index\")\n",
    "plt.ylabel(\"Value\")\n",
    "plt.grid(True)\n",
    "plt.show()"
   ]
  },
  {
   "cell_type": "code",
   "execution_count": 3391,
   "metadata": {},
   "outputs": [],
   "source": [
    "def rescale_array_to_target_torch(tensor, target_sum):\n",
    "    # Create a mask for non-zero elements\n",
    "    non_zero_mask = tensor > 1e-10\n",
    "\n",
    "    # Calculate the sum of non-zero elements\n",
    "    sum_non_zero = torch.sum(tensor[non_zero_mask])\n",
    "\n",
    "    # Count the non-zero elements\n",
    "    count_non_zero = torch.sum(non_zero_mask)\n",
    "    \n",
    "    # Avoid division by zero in case all elements are zero\n",
    "    if count_non_zero == 0:\n",
    "        return torch.zeros_like(tensor)\n",
    "\n",
    "    # Calculate the required adjustment to reach the target sum\n",
    "    adjustment = (target_sum - sum_non_zero) / count_non_zero\n",
    "    \n",
    "    # Add the adjustment to each non-zero element\n",
    "    tensor[non_zero_mask] += adjustment\n",
    "\n",
    "    return tensor"
   ]
  },
  {
   "cell_type": "code",
   "execution_count": 3392,
   "metadata": {},
   "outputs": [
    {
     "data": {
      "text/plain": [
       "tensor(1.)"
      ]
     },
     "execution_count": 3392,
     "metadata": {},
     "output_type": "execute_result"
    }
   ],
   "source": [
    "sum(torch.distributions.Dirichlet(torch.tensor([5.1, 0.5])).sample())"
   ]
  },
  {
   "cell_type": "code",
   "execution_count": 3393,
   "metadata": {},
   "outputs": [
    {
     "name": "stderr",
     "output_type": "stream",
     "text": [
      "C:\\Users\\johnm\\AppData\\Local\\Temp\\ipykernel_25200\\4025517829.py:22: UserWarning: To copy construct from a tensor, it is recommended to use sourceTensor.clone().detach() or sourceTensor.clone().detach().requires_grad_(True), rather than torch.tensor(sourceTensor).\n",
      "  rotated_complex_numbers = torch.tensor(rotated_complex_numbers, dtype=torch.complex128)\n"
     ]
    },
    {
     "data": {
      "image/png": "[encoded data removed]",
      "text/plain": [
       "<Figure size 640x480 with 1 Axes>"
      ]
     },
     "metadata": {},
     "output_type": "display_data"
    }
   ],
   "source": [
    "import torch\n",
    "\n",
    "def dirichlet_to_goal(goal_value, num_elements, center_index, sigma, magnitude, restrictions):\n",
    "    # Generate alphas for dirichlet\n",
    "    alphas = generate_kernel(length = num_elements, center_index = center_index, type = \"rbf\", sigma = sigma, restrictions = restrictions) * magnitude\n",
    "    rand_samples = torch.distributions.Dirichlet(alphas).sample()\n",
    "    \n",
    "    rand_samples = rescale_array_to_target_torch(rand_samples, goal_value)\n",
    "    \n",
    "    return rand_samples\n",
    "\n",
    "def generate_complex_sum(goal_theta, num_elements, center_index_re, center_index_im, sigma_re, sigma_im, magnitude_re, magnitude_im, restrictions = []):\n",
    "    real_goal = torch.cos(goal_theta)\n",
    "    imag_goal = torch.sin(goal_theta)\n",
    "    real_parts = dirichlet_to_goal(1.0, num_elements, center_index_re, sigma_re, magnitude_re, restrictions)\n",
    "    imag_parts = dirichlet_to_goal(0.0, num_elements, center_index_im, sigma_im, magnitude_im, restrictions)\n",
    "    complex_numbers = torch.complex(real_parts, imag_parts)\n",
    "    \n",
    "    # Step 4: Rotate the entire set of vectors by the goal theta\n",
    "    rotated_complex_numbers = complex_numbers * (real_goal + imag_goal * 1j)\n",
    "    \n",
    "    rotated_complex_numbers = torch.tensor(rotated_complex_numbers, dtype=torch.complex128)\n",
    "\n",
    "    return rotated_complex_numbers\n",
    "\n",
    "# Example usage\n",
    "theta = torch.tensor([0.3 * torch.pi], dtype=torch.float64)  # 90 degrees, should sum to i\n",
    "complex_array = generate_complex_sum(theta, \n",
    "                                     num_elements = 5, \n",
    "                                     center_index_re = 0, \n",
    "                                     center_index_im = 0, \n",
    "                                     sigma_re = 1e100, \n",
    "                                     sigma_im = 1e100, \n",
    "                                     magnitude_re = 1, \n",
    "                                     magnitude_im = 1,\n",
    "                                     restrictions = [])\n",
    "plot_complex_vectors(complex_array.numpy())"
   ]
  },
  {
   "cell_type": "code",
   "execution_count": 3394,
   "metadata": {},
   "outputs": [
    {
     "data": {
      "text/plain": [
       "tensor(0.)"
      ]
     },
     "execution_count": 3394,
     "metadata": {},
     "output_type": "execute_result"
    }
   ],
   "source": [
    "sum(dirichlet_to_goal(1e-10, num_elements = 4, center_index=0, sigma=100, magnitude = 1, restrictions = []))"
   ]
  },
  {
   "cell_type": "code",
   "execution_count": 3395,
   "metadata": {},
   "outputs": [
    {
     "data": {
      "text/plain": [
       "tensor([-1.,  0.,  1.,  2.], size=(4,), dtype=torch.quint8,\n",
       "       quantization_scheme=torch.per_tensor_affine, scale=0.10000000149011612,\n",
       "       zero_point=10)"
      ]
     },
     "execution_count": 3395,
     "metadata": {},
     "output_type": "execute_result"
    }
   ],
   "source": [
    "torch.quantize_per_tensor(torch.tensor([-1.0, 0.0, 1.0, 2.0], dtype=torch.float32), torch.tensor(0.1), torch.tensor(10), torch.quint8)"
   ]
  },
  {
   "cell_type": "code",
   "execution_count": 3396,
   "metadata": {},
   "outputs": [
    {
     "name": "stdout",
     "output_type": "stream",
     "text": [
      "tensor([0.1272, 0.2377, 0.2214, 0.4136])\n",
      "tensor(0.)\n"
     ]
    }
   ],
   "source": [
    "alphas = torch.tensor([1.0, 1.0, 1.0, 1.0], dtype=torch.float32)\n",
    "samples = torch.distributions.Dirichlet(alphas).sample()\n",
    "print(samples)\n",
    "refactors = samples - 1/4\n",
    "refactors = refactors - sum(refactors)/4\n",
    "refactors = refactors - sum(refactors)/4\n",
    "refactors = refactors - sum(refactors)/4\n",
    "refactors = refactors - sum(refactors)/4\n",
    "print(sum(refactors))"
   ]
  },
  {
   "cell_type": "markdown",
   "metadata": {},
   "source": [
    "## Renormalization\n",
    "\n",
    "In theory, the previous steps should ensure conservation. However, even when using a precision of complex128, there are still memory errors that cause us to lose conservation. Therefore we can optionally renormalize. "
   ]
  },
  {
   "cell_type": "code",
   "execution_count": 3397,
   "metadata": {},
   "outputs": [],
   "source": [
    "def renormalize_to_unit_circle(array, dim = 1):\n",
    "    \"\"\"\n",
    "    Renormalizes an array of complex numbers so that it sums to a point on the unit circle.\n",
    "\n",
    "    Parameters:\n",
    "    array (torch.Tensor): A 1D tensor of complex numbers.\n",
    "\n",
    "    Returns:\n",
    "    torch.Tensor: A renormalized 1D tensor of complex numbers.\n",
    "    \"\"\"\n",
    "    current_sum = torch.sum(array, dim = dim)\n",
    "    # Calculate the magnitude of the current sum\n",
    "    magnitude = torch.abs(current_sum)\n",
    "\n",
    "    # Calculate the scale factor\n",
    "    scale_factor = 1 / magnitude\n",
    "\n",
    "    # Renormalize the array\n",
    "    renormalized_array = array * scale_factor\n",
    "\n",
    "    return renormalized_array\n",
    "    "
   ]
  },
  {
   "cell_type": "markdown",
   "metadata": {},
   "source": [
    "## Initial State Generation\n",
    "\n",
    "This function alone is sufficient for generating our initial state, so let's make some helper functions to generate our initial transition tensor and interaction tensor. "
   ]
  },
  {
   "cell_type": "code",
   "execution_count": 3398,
   "metadata": {},
   "outputs": [],
   "source": [
    "# Transition tensor create:\n",
    "def initialize_transition_tensor(num_elements, theta, restrict_dict = []):\n",
    "    # Create a list to store each column\n",
    "    columns = []\n",
    "    num_columns = num_elements\n",
    "\n",
    "    for col in range(num_columns):\n",
    "        \n",
    "        if col in restrict_dict:\n",
    "            restrictions = restrict_dict[col]\n",
    "        else:\n",
    "            restrictions = []\n",
    "                    \n",
    "        column = generate_complex_sum(theta, \n",
    "                    num_elements = num_elements, \n",
    "                    center_index_re = col, \n",
    "                    center_index_im = 0, \n",
    "                    sigma_re = torch.rand(1)[0]*0.3 + 0.2, \n",
    "                    sigma_im = 1e10, \n",
    "                    magnitude_re = 1.0, \n",
    "                    magnitude_im = 1e5,\n",
    "                    restrictions = restrictions)\n",
    "        columns.append(column.unsqueeze(1))  # Add a dimension to make it a column\n",
    "\n",
    "    # Combine columns into a matrix\n",
    "    transition_tensor = torch.cat(columns, dim=1)\n",
    "    \n",
    "    return transition_tensor"
   ]
  },
  {
   "cell_type": "code",
   "execution_count": 3399,
   "metadata": {},
   "outputs": [],
   "source": [
    "# Interaction Tensor Create:\n",
    "def initialize_interaction_tensor(num_elements, theta, restrict_dict = []):\n",
    "    # Example usage\n",
    "    num_3d_tensors = num_elements + 1  # Number of 3D tensors in the 4D tensor\n",
    "    num_matrices = num_elements  # Number of 2D matrices in each 3D tensor\n",
    "    num_columns = num_elements  # Number of columns in each 2D matrix\n",
    "\n",
    "    # Create a list to store each 3D tensor\n",
    "    tensors_3d = []\n",
    "\n",
    "    for _ in range(num_3d_tensors):\n",
    "        matrices = []\n",
    "        for _ in range(num_matrices):\n",
    "            columns = []\n",
    "            for col in range(num_columns):\n",
    "                \n",
    "                if col in restrict_dict:\n",
    "                    restrictions = restrict_dict[col]\n",
    "                else:\n",
    "                    restrictions = []\n",
    "                    \n",
    "                column = generate_complex_sum(theta, \n",
    "                                    num_elements = num_elements, \n",
    "                                    center_index_re = col, \n",
    "                                    center_index_im = 0, \n",
    "                                    sigma_re = torch.rand(1)[0]*0.3 + 0.2, \n",
    "                                    sigma_im = 1e10, \n",
    "                                    magnitude_re = 1.0, \n",
    "                                    magnitude_im = 1e5,\n",
    "                                    restrictions = restrictions)\n",
    "                columns.append(column.unsqueeze(1))  # Add a dimension to make it a column\n",
    "            matrix = torch.cat(columns, dim=1)\n",
    "            matrices.append(matrix)  # Add a dimension to make it a 2D matrix\n",
    "        tensor_3d = torch.stack(matrices, dim=2)\n",
    "        tensors_3d.append(tensor_3d)\n",
    "\n",
    "    # Combine 3D tensors into a 4D tensor\n",
    "    # Stack along the fourth dimension\n",
    "    interaction_tensor = torch.stack(tensors_3d, dim=3)\n",
    "    \n",
    "    return interaction_tensor"
   ]
  },
  {
   "cell_type": "markdown",
   "metadata": {},
   "source": [
    "Now we can generate all the starting states:"
   ]
  },
  {
   "cell_type": "code",
   "execution_count": 3400,
   "metadata": {},
   "outputs": [
    {
     "name": "stderr",
     "output_type": "stream",
     "text": [
      "C:\\Users\\johnm\\AppData\\Local\\Temp\\ipykernel_25200\\4025517829.py:22: UserWarning: To copy construct from a tensor, it is recommended to use sourceTensor.clone().detach() or sourceTensor.clone().detach().requires_grad_(True), rather than torch.tensor(sourceTensor).\n",
      "  rotated_complex_numbers = torch.tensor(rotated_complex_numbers, dtype=torch.complex128)\n"
     ]
    },
    {
     "data": {
      "text/plain": [
       "device(type='cuda', index=0)"
      ]
     },
     "execution_count": 3400,
     "metadata": {},
     "output_type": "execute_result"
    }
   ],
   "source": [
    "num_elements = 5\n",
    "\n",
    "# Thetas for state, transition, and interactions\n",
    "angles_dict = {\n",
    "    'state': 0.3,\n",
    "    'transition': 0.2,\n",
    "    'interaction': 0.4\n",
    "}\n",
    "\n",
    "\n",
    "# Set restrictions\n",
    "\n",
    "# Local\n",
    "# restrict_dict = {\n",
    "#     0: [2, 3, 4],\n",
    "#     1: [3, 4],\n",
    "#     2: [0, 4],\n",
    "#     3: [0, 1],\n",
    "#     4: [0, 1, 2]\n",
    "# }\n",
    "\n",
    "# Grouping\n",
    "# restrict_dict = {\n",
    "#     0: [2, 3, 4],\n",
    "#     1: [2, 3, 4],\n",
    "#     2: [0, 1],\n",
    "#     3: [0, 1],\n",
    "#     4: [0, 1]\n",
    "# }\n",
    "\n",
    "# No restrictions\n",
    "restrict_dict = {}\n",
    "\n",
    "thetas_dict = {key : torch.tensor([value * torch.pi], dtype=torch.float64) for key, value in angles_dict.items()}\n",
    "\n",
    "# Establish state_tensor\n",
    "state_tensor = generate_complex_sum(thetas_dict['state'], \n",
    "                                     num_elements = num_elements, \n",
    "                                     center_index_re = 0, \n",
    "                                     center_index_im = 0, \n",
    "                                     sigma_re = 1e100, \n",
    "                                     sigma_im = 1e100, \n",
    "                                     magnitude_re = 1, \n",
    "                                     magnitude_im = 100,\n",
    "                                     restrictions = [])\n",
    "transition_tensor = initialize_transition_tensor(theta = thetas_dict['transition'], num_elements = num_elements, restrict_dict=restrict_dict)\n",
    "interaction_tensor = initialize_interaction_tensor(theta = thetas_dict['interaction'], num_elements = num_elements, restrict_dict=restrict_dict)\n",
    "\n",
    "# Move everything to GPU\n",
    "state_tensor = state_tensor.to('cuda:0')\n",
    "transition_tensor = transition_tensor.to('cuda:0')\n",
    "interaction_tensor = interaction_tensor.to('cuda:0')\n",
    "\n",
    "state_tensor.device"
   ]
  },
  {
   "cell_type": "code",
   "execution_count": 3401,
   "metadata": {},
   "outputs": [
    {
     "name": "stdout",
     "output_type": "stream",
     "text": [
      "State Sum:  tensor(1.0000-3.4694e-17j, device='cuda:0', dtype=torch.complex128)\n",
      "Transition Sum:  tensor(1.0000+7.1341e-17j, device='cuda:0', dtype=torch.complex128)\n",
      "Interaction Sum:  tensor(1.0000+3.4776e-17j, device='cuda:0', dtype=torch.complex128)\n"
     ]
    }
   ],
   "source": [
    "print(\"State Sum: \",sum(state_tensor * torch.conj(state_tensor.sum(-1))))\n",
    "print(\"Transition Sum: \",sum(transition_tensor[:,3] * torch.conj(transition_tensor[:,3].sum())))\n",
    "print(\"Interaction Sum: \",sum(interaction_tensor[:,3,1,2] * torch.conj(interaction_tensor[:,3,1,2].sum())))"
   ]
  },
  {
   "cell_type": "markdown",
   "metadata": {},
   "source": [
    "Add batch dimensions to state tensors and transition tensors"
   ]
  },
  {
   "cell_type": "code",
   "execution_count": 3402,
   "metadata": {},
   "outputs": [],
   "source": [
    "state_tensor = state_tensor.unsqueeze(0)\n",
    "transition_tensor = transition_tensor.unsqueeze(0)"
   ]
  },
  {
   "cell_type": "markdown",
   "metadata": {},
   "source": [
    "Combined state and transition tensors into a norm_subgroups tensor"
   ]
  },
  {
   "cell_type": "code",
   "execution_count": 3403,
   "metadata": {},
   "outputs": [],
   "source": [
    "norm_subgroups = torch.cat((state_tensor.unsqueeze(-1), transition_tensor), dim=2)"
   ]
  },
  {
   "cell_type": "markdown",
   "metadata": {},
   "source": [
    "Some checks to make sure norm_subgroups is set up correctly"
   ]
  },
  {
   "cell_type": "code",
   "execution_count": 3404,
   "metadata": {},
   "outputs": [
    {
     "name": "stdout",
     "output_type": "stream",
     "text": [
      "tensor([True, True, True, True, True], device='cuda:0')\n",
      "tensor([True, True, True, True, True], device='cuda:0')\n",
      "tensor([True, True, True, True, True], device='cuda:0')\n"
     ]
    }
   ],
   "source": [
    "print(torch.isclose(norm_subgroups[0,:,5] , transition_tensor[0,:,4]))\n",
    "print(torch.isclose(norm_subgroups[0,:,0] , state_tensor[0,:]))\n",
    "print(torch.isclose(norm_subgroups[0,:,2] , transition_tensor[0,:,1]))"
   ]
  },
  {
   "cell_type": "markdown",
   "metadata": {},
   "source": [
    "We can get the candidate transition tensors like this"
   ]
  },
  {
   "cell_type": "code",
   "execution_count": 3405,
   "metadata": {},
   "outputs": [
    {
     "name": "stdout",
     "output_type": "stream",
     "text": [
      "torch.Size([1, 5, 5, 6])\n"
     ]
    }
   ],
   "source": [
    "candidate_transition_tensors = (torch.mul(interaction_tensor, norm_subgroups.unsqueeze(1).unsqueeze(1))).sum(-2) # [batches, states, states, states + 1]\n",
    "print(candidate_transition_tensors.shape)"
   ]
  },
  {
   "cell_type": "markdown",
   "metadata": {},
   "source": [
    "We can confirm this is correct by doing an individual slice"
   ]
  },
  {
   "cell_type": "code",
   "execution_count": 3406,
   "metadata": {},
   "outputs": [
    {
     "data": {
      "text/plain": [
       "tensor([[True, True, True, True, True],\n",
       "        [True, True, True, True, True],\n",
       "        [True, True, True, True, True],\n",
       "        [True, True, True, True, True],\n",
       "        [True, True, True, True, True]], device='cuda:0')"
      ]
     },
     "execution_count": 3406,
     "metadata": {},
     "output_type": "execute_result"
    }
   ],
   "source": [
    "slice_sel = 3\n",
    "batch_sel = 0\n",
    "slice_transition_check = torch.matmul(interaction_tensor[:,:,:,slice_sel],norm_subgroups[batch_sel ,:,slice_sel])\n",
    "\n",
    "torch.isclose(candidate_transition_tensors[batch_sel,:,:,slice_sel], slice_transition_check)"
   ]
  },
  {
   "cell_type": "code",
   "execution_count": 3407,
   "metadata": {},
   "outputs": [
    {
     "data": {
      "text/plain": [
       "tensor(1.0000-1.5653e-17j, device='cuda:0', dtype=torch.complex128)"
      ]
     },
     "execution_count": 3407,
     "metadata": {},
     "output_type": "execute_result"
    }
   ],
   "source": [
    "sum(slice_transition_check[:,1] * torch.conj(torch.sum(slice_transition_check[:,1])))\n",
    "sum(candidate_transition_tensors[batch_sel,:,3,slice_sel] * torch.conj(torch.sum(candidate_transition_tensors[batch_sel,:,3,slice_sel])))"
   ]
  },
  {
   "cell_type": "markdown",
   "metadata": {},
   "source": [
    "Now to do a selection that preserves the gradients, we have to figure out a couple things. One, how do we determine which slice maximizes the probability of going from the largest state to the smallest state? "
   ]
  },
  {
   "cell_type": "code",
   "execution_count": 3408,
   "metadata": {},
   "outputs": [],
   "source": [
    "def complex_add(tensor):\n",
    "    return torch.abs(torch.real(tensor)+torch.imag(tensor))\n",
    "\n",
    "sel_temperature = 0.001"
   ]
  },
  {
   "cell_type": "markdown",
   "metadata": {},
   "source": [
    "I propose we use this absolute complex add as a measure of magnitude, and determine the largest and smallest state:"
   ]
  },
  {
   "cell_type": "code",
   "execution_count": 3409,
   "metadata": {},
   "outputs": [
    {
     "name": "stdout",
     "output_type": "stream",
     "text": [
      "State Tensor:  tensor([[0.2225+0.3124j, 0.1767+0.2423j, 0.0575+0.1130j, 0.0536+0.0781j,\n",
      "         0.0775+0.0633j]], device='cuda:0', dtype=torch.complex128)\n",
      "Largest State:  tensor(0, device='cuda:0')\n",
      "Smallest State:  tensor(3, device='cuda:0')\n"
     ]
    }
   ],
   "source": [
    "high_magnitude = torch.softmax((complex_add(state_tensor) / sel_temperature), dim = 1)\n",
    "low_magnitude = torch.softmax(1 - (complex_add(state_tensor) / sel_temperature), dim = 1)\n",
    "largest_state = torch.where(high_magnitude == high_magnitude.max())[1][0]\n",
    "smallest_state = torch.where(low_magnitude == low_magnitude.max())[1][0]\n",
    "print(\"State Tensor: \", state_tensor)\n",
    "print(\"Largest State: \",largest_state)\n",
    "print(\"Smallest State: \", smallest_state)"
   ]
  },
  {
   "cell_type": "markdown",
   "metadata": {},
   "source": [
    "If we've done this right, the largest of these tensors should be the slice with the largest transition from our largest state to our smallest state"
   ]
  },
  {
   "cell_type": "code",
   "execution_count": 3410,
   "metadata": {},
   "outputs": [
    {
     "data": {
      "text/plain": [
       "torch.Size([1, 5])"
      ]
     },
     "execution_count": 3410,
     "metadata": {},
     "output_type": "execute_result"
    }
   ],
   "source": [
    "candidate_transition_tensors.shape\n",
    "high_magnitude.shape"
   ]
  },
  {
   "cell_type": "code",
   "execution_count": 3411,
   "metadata": {},
   "outputs": [
    {
     "data": {
      "text/plain": [
       "tensor([[[[ 1.0000e+00],\n",
       "          [ 4.5700e-51],\n",
       "          [5.8799e-159],\n",
       "          [8.4283e-176],\n",
       "          [7.4277e-172]]]], device='cuda:0', dtype=torch.float64)"
      ]
     },
     "execution_count": 3411,
     "metadata": {},
     "output_type": "execute_result"
    }
   ],
   "source": [
    "high_magnitude.unsqueeze(2).unsqueeze(1)"
   ]
  },
  {
   "cell_type": "code",
   "execution_count": 3412,
   "metadata": {},
   "outputs": [
    {
     "data": {
      "image/png": "[encoded data removed]",
      "text/plain": [
       "<Figure size 640x480 with 2 Axes>"
      ]
     },
     "metadata": {},
     "output_type": "display_data"
    }
   ],
   "source": [
    "tensor_2d = complex_add(torch.mul(torch.mul(candidate_transition_tensors, high_magnitude.unsqueeze(2).unsqueeze(1)), low_magnitude.unsqueeze(2).unsqueeze(2))[0,:,:,2])\n",
    "# Convert the tensor to a numpy array\n",
    "tensor_2d_np = tensor_2d.to(\"cpu\").numpy()\n",
    "\n",
    "# Create a heatmap using matplotlib\n",
    "plt.imshow(tensor_2d_np, cmap='viridis', interpolation='nearest')\n",
    "plt.colorbar()  # Show color scale\n",
    "plt.title('Heatmap of Transition Focus')\n",
    "plt.xlabel('FROM')\n",
    "plt.ylabel('TO')\n",
    "plt.show()"
   ]
  },
  {
   "cell_type": "code",
   "execution_count": 3413,
   "metadata": {},
   "outputs": [
    {
     "name": "stdout",
     "output_type": "stream",
     "text": [
      "tensor(4, device='cuda:0')\n",
      "tensor([[0.1658, 0.1400, 0.1110, 0.1697, 0.2399, 0.1736]], device='cuda:0',\n",
      "       dtype=torch.float64)\n"
     ]
    }
   ],
   "source": [
    "selection_weights = torch.softmax(complex_add(torch.mul(torch.mul(candidate_transition_tensors, high_magnitude.unsqueeze(2).unsqueeze(1)), low_magnitude.unsqueeze(2).unsqueeze(2))).sum(2).sum(1) / sel_temperature, dim = 1)\n",
    "print(torch.where(selection_weights == selection_weights.max())[1][0])\n",
    "print(selection_weights)"
   ]
  },
  {
   "cell_type": "markdown",
   "metadata": {},
   "source": [
    "Note that dim = 1 (rows) corresponds to the \"To\" state, while dim = 2 (columns) corresponds to the \"From\" state. "
   ]
  },
  {
   "cell_type": "code",
   "execution_count": 3414,
   "metadata": {},
   "outputs": [
    {
     "name": "stdout",
     "output_type": "stream",
     "text": [
      "tensor(4, device='cuda:0')\n"
     ]
    }
   ],
   "source": [
    "slice_sel = complex_add(candidate_transition_tensors[:,smallest_state, largest_state, :])\n",
    "print(torch.where(slice_sel == slice_sel.max())[1][0])"
   ]
  },
  {
   "cell_type": "code",
   "execution_count": 3415,
   "metadata": {},
   "outputs": [
    {
     "data": {
      "text/plain": [
       "tensor([[0.1658, 0.1400, 0.1110, 0.1697, 0.2399, 0.1736]], device='cuda:0',\n",
       "       dtype=torch.float64)"
      ]
     },
     "execution_count": 3415,
     "metadata": {},
     "output_type": "execute_result"
    }
   ],
   "source": [
    "selection_weights"
   ]
  },
  {
   "cell_type": "code",
   "execution_count": 3416,
   "metadata": {},
   "outputs": [
    {
     "data": {
      "text/plain": [
       "torch.Size([1, 5, 5, 6])"
      ]
     },
     "execution_count": 3416,
     "metadata": {},
     "output_type": "execute_result"
    }
   ],
   "source": [
    "candidate_transition_tensors.shape"
   ]
  },
  {
   "cell_type": "code",
   "execution_count": 3417,
   "metadata": {},
   "outputs": [],
   "source": [
    "new_state_a = torch.mul(transition_tensor, state_tensor.unsqueeze(1)).sum(dim = -1)"
   ]
  },
  {
   "cell_type": "code",
   "execution_count": 3418,
   "metadata": {},
   "outputs": [],
   "source": [
    "new_state_b = torch.matmul(transition_tensor[0,:,:], state_tensor[0,:])"
   ]
  },
  {
   "cell_type": "code",
   "execution_count": 3419,
   "metadata": {},
   "outputs": [
    {
     "data": {
      "text/plain": [
       "tensor([[True, True, True, True, True]], device='cuda:0')"
      ]
     },
     "execution_count": 3419,
     "metadata": {},
     "output_type": "execute_result"
    }
   ],
   "source": [
    "torch.isclose(new_state_a, new_state_b)"
   ]
  },
  {
   "cell_type": "code",
   "execution_count": 3420,
   "metadata": {},
   "outputs": [
    {
     "data": {
      "text/plain": [
       "tensor(1.0000+0.j, device='cuda:0', dtype=torch.complex128)"
      ]
     },
     "execution_count": 3420,
     "metadata": {},
     "output_type": "execute_result"
    }
   ],
   "source": [
    "sum(new_state_a[0,:] * torch.conj(new_state_a[0,:].sum()))"
   ]
  },
  {
   "cell_type": "markdown",
   "metadata": {},
   "source": [
    "Now that we have our selection weights, we can finally apply it to the candidate selection tensors"
   ]
  },
  {
   "cell_type": "markdown",
   "metadata": {},
   "source": [
    "We can't apply the selection weights to the slices directly because that normalization trick only works for square matrices, so instead we can rotate everything to 1+0i, do a traditional weighted sum, and rotate back. "
   ]
  },
  {
   "cell_type": "code",
   "execution_count": 3421,
   "metadata": {},
   "outputs": [
    {
     "data": {
      "text/plain": [
       "tensor([ 2.6141e-06+1.5356e-04j, -5.9261e-08-8.6271e-04j,\n",
       "         1.0000e+00+4.9277e-04j,  4.8471e-09+9.7944e-05j,\n",
       "        -8.3014e-07+1.1843e-04j], device='cuda:0', dtype=torch.complex128)"
      ]
     },
     "execution_count": 3421,
     "metadata": {},
     "output_type": "execute_result"
    }
   ],
   "source": [
    "candidate_transition_tensors[0,:,2,1] * torch.conj(sum(candidate_transition_tensors[0,:,2,1]))"
   ]
  },
  {
   "cell_type": "code",
   "execution_count": 3422,
   "metadata": {},
   "outputs": [
    {
     "data": {
      "text/plain": [
       "tensor([[[[True, True, True, True, True, True],\n",
       "          [True, True, True, True, True, True],\n",
       "          [True, True, True, True, True, True],\n",
       "          [True, True, True, True, True, True],\n",
       "          [True, True, True, True, True, True]],\n",
       "\n",
       "         [[True, True, True, True, True, True],\n",
       "          [True, True, True, True, True, True],\n",
       "          [True, True, True, True, True, True],\n",
       "          [True, True, True, True, True, True],\n",
       "          [True, True, True, True, True, True]],\n",
       "\n",
       "         [[True, True, True, True, True, True],\n",
       "          [True, True, True, True, True, True],\n",
       "          [True, True, True, True, True, True],\n",
       "          [True, True, True, True, True, True],\n",
       "          [True, True, True, True, True, True]],\n",
       "\n",
       "         [[True, True, True, True, True, True],\n",
       "          [True, True, True, True, True, True],\n",
       "          [True, True, True, True, True, True],\n",
       "          [True, True, True, True, True, True],\n",
       "          [True, True, True, True, True, True]],\n",
       "\n",
       "         [[True, True, True, True, True, True],\n",
       "          [True, True, True, True, True, True],\n",
       "          [True, True, True, True, True, True],\n",
       "          [True, True, True, True, True, True],\n",
       "          [True, True, True, True, True, True]]]], device='cuda:0')"
      ]
     },
     "execution_count": 3422,
     "metadata": {},
     "output_type": "execute_result"
    }
   ],
   "source": [
    "# We can do a rotate there-and-back to 1+0i like this\n",
    "torch.isclose(candidate_transition_tensors,(candidate_transition_tensors * torch.conj(torch.sum(candidate_transition_tensors, dim = 1))) / torch.conj(torch.sum(candidate_transition_tensors, dim = 1)))"
   ]
  },
  {
   "cell_type": "code",
   "execution_count": 3423,
   "metadata": {},
   "outputs": [],
   "source": [
    "rotated_candidate_transition_tensors = (candidate_transition_tensors * torch.conj(torch.sum(candidate_transition_tensors, dim = 1)))"
   ]
  },
  {
   "cell_type": "code",
   "execution_count": 3424,
   "metadata": {},
   "outputs": [],
   "source": [
    "selected_transition_tensor = torch.mul(rotated_candidate_transition_tensors, selection_weights.unsqueeze(1).unsqueeze(1)).sum(-1) / torch.conj(torch.sum(candidate_transition_tensors[:,:,:,0], dim = 1))"
   ]
  },
  {
   "cell_type": "code",
   "execution_count": 3425,
   "metadata": {},
   "outputs": [
    {
     "data": {
      "text/plain": [
       "tensor([[1.0000+7.0473e-18j, 1.0000+3.9682e-17j, 1.0000-2.1684e-17j,\n",
       "         1.0000+3.7134e-17j, 1.0000+6.3480e-17j]], device='cuda:0',\n",
       "       dtype=torch.complex128)"
      ]
     },
     "execution_count": 3425,
     "metadata": {},
     "output_type": "execute_result"
    }
   ],
   "source": [
    "# Check normalization\n",
    "torch.sum(selected_transition_tensor * torch.conj(torch.sum(selected_transition_tensor, dim = 1)), dim =1)"
   ]
  },
  {
   "cell_type": "code",
   "execution_count": 3426,
   "metadata": {},
   "outputs": [
    {
     "data": {
      "text/plain": [
       "tensor(1.0000+3.7147e-17j, device='cuda:0', dtype=torch.complex128)"
      ]
     },
     "execution_count": 3426,
     "metadata": {},
     "output_type": "execute_result"
    }
   ],
   "source": [
    "sum(selected_transition_tensor[0,:,3] * torch.conj(selected_transition_tensor[0,:,3].sum()))"
   ]
  },
  {
   "cell_type": "markdown",
   "metadata": {},
   "source": [
    "# Transition Tensor Selection"
   ]
  },
  {
   "cell_type": "code",
   "execution_count": 3427,
   "metadata": {},
   "outputs": [],
   "source": [
    "def select_transition_tensor(state_tensor,transition_tensor,interaction_tensor, sel_temperature):\n",
    "    # Combine state and transition tensors into a norm_subgroups tensor\n",
    "    norm_subgroups = torch.cat((state_tensor.unsqueeze(-1), transition_tensor), dim=2)\n",
    "    \n",
    "    # Get candidate transition tensors:\n",
    "    candidate_transition_tensors = (torch.mul(interaction_tensor, norm_subgroups.unsqueeze(1).unsqueeze(1))).sum(-2) # [batches, states, states, states + 1]\n",
    "    \n",
    "    # Determine the largest and smallest states\n",
    "    high_magnitude = torch.softmax((complex_add(state_tensor) / sel_temperature), dim = 1)\n",
    "    low_magnitude = torch.softmax(1 - (complex_add(state_tensor) / sel_temperature), dim = 1)\n",
    "    \n",
    "    # Find which transition corresponds to moving from the highest state to the lowest state, and focus on that:\n",
    "    transition_focus_slices = complex_add(torch.mul(torch.mul(candidate_transition_tensors, high_magnitude.unsqueeze(2).unsqueeze(1)), low_magnitude.unsqueeze(2).unsqueeze(2)))\n",
    "    \n",
    "    # Determine the selection weights by which slice is the highest in the focus transition\n",
    "    selection_weights = torch.softmax(transition_focus_slices.sum(2).sum(1) / sel_temperature, dim = 1)\n",
    "    \n",
    "    # Rotate the candidate transition tensors to 1+0i so that we can do a weighted average\n",
    "    rotated_candidate_transition_tensors = (candidate_transition_tensors * torch.conj(torch.sum(candidate_transition_tensors, dim = 1)))\n",
    "    \n",
    "    # Perform weighted averaging and rotate back to the original position (NOTE: we just use the first rotation here because they should all be the same in our case)\n",
    "    selected_transition_tensor = torch.mul(rotated_candidate_transition_tensors, selection_weights.unsqueeze(1).unsqueeze(1)).sum(-1) / torch.conj(torch.sum(candidate_transition_tensors[:,:,:,0], dim = 1))\n",
    "    \n",
    "    return selected_transition_tensor\n",
    "    \n",
    "    "
   ]
  },
  {
   "cell_type": "code",
   "execution_count": 3428,
   "metadata": {},
   "outputs": [],
   "source": [
    "initial_state_tensor = state_tensor\n",
    "initialize_transition_tensor = transition_tensor"
   ]
  },
  {
   "cell_type": "code",
   "execution_count": 3429,
   "metadata": {},
   "outputs": [
    {
     "name": "stdout",
     "output_type": "stream",
     "text": [
      "Processing time: 14.4329s\n",
      "tensor(1.0000, device='cuda:0', dtype=torch.float64)\n"
     ]
    }
   ],
   "source": [
    "import time\n",
    "\n",
    "tic = time.time()\n",
    "\n",
    "num_steps = 10_000\n",
    "prob_save = []\n",
    "\n",
    "# Load tensors\n",
    "#state_tensor = torch.load('../saved_tensors/state_tensor_20240328_phaseshift.pt').unsqueeze(0).to(\"cuda\")\n",
    "#transition_tensor = torch.load('../saved_tensors/transition_tensor_20240328_phaseshift.pt').unsqueeze(0).to(\"cuda\")\n",
    "#interaction_tensor = torch.load('../saved_tensors/interaction_tensor_20240328_phaseshift.pt').to(\"cuda\")\n",
    "\n",
    "# state_tensor = renormalize_to_unit_circle(state_tensor)\n",
    "# transition_tensor = renormalize_to_unit_circle(transition_tensor)\n",
    "# interaction_tensor = renormalize_to_unit_circle(interaction_tensor, dim = 0)  \n",
    "\n",
    "state_tensor = initial_state_tensor\n",
    "transition_tensor = initialize_transition_tensor\n",
    "\n",
    "\n",
    "for i_step in range(num_steps):\n",
    "    transition_tensor = select_transition_tensor(state_tensor,transition_tensor,interaction_tensor, sel_temperature = 1e-5)\n",
    "    \n",
    "    #print(sum(transition_tensor[0,:,3] * torch.conj(transition_tensor[0,:,3].sum())))\n",
    "    #print(torch.sum(state_tensor* torch.conj(torch.sum(state_tensor, dim = -1)), dim = -1)[0].real)\n",
    "    state_tensor = torch.mul(transition_tensor, state_tensor.unsqueeze(1)).sum(dim = -1)\n",
    "    \n",
    "    #print(state_tensor)\n",
    "    #plot_complex_vectors(state_tensor[0,:].to('cpu').numpy())\n",
    "\n",
    "    # Optionally we can renomalize to avoid floating point precision errors\n",
    "    state_tensor = renormalize_to_unit_circle(state_tensor)\n",
    "    transition_tensor = renormalize_to_unit_circle(transition_tensor)\n",
    "\n",
    "    state_prob = torch.real(state_tensor[0,:] * torch.conj(state_tensor[0,:].sum()))\n",
    "\n",
    "    prob_save.append(state_prob)\n",
    "    \n",
    "    \n",
    "toc = time.time()    \n",
    "print(f\"Processing time: {round(toc-tic,4)}s\")\n",
    "print(state_prob.sum())"
   ]
  },
  {
   "cell_type": "code",
   "execution_count": 3430,
   "metadata": {},
   "outputs": [
    {
     "data": {
      "image/png": "[encoded data removed]",
      "text/plain": [
       "<Figure size 1000x600 with 1 Axes>"
      ]
     },
     "metadata": {},
     "output_type": "display_data"
    }
   ],
   "source": [
    "# Your data\n",
    "data = [row.to('cpu') for row in prob_save]\n",
    "# Transpose the data to get 5 traces\n",
    "traces = list(zip(*data))\n",
    "\n",
    "# Plotting\n",
    "plt.figure(figsize=(10, 6))\n",
    "for i, trace in enumerate(traces):\n",
    "    plt.plot(trace, label=f'Trace {i+1}')\n",
    "\n",
    "plt.xlabel('Timestep')\n",
    "plt.ylabel('Value')\n",
    "plt.legend()\n",
    "plt.show()"
   ]
  }
 ],
 "metadata": {
  "kernelspec": {
   "display_name": "Python 3",
   "language": "python",
   "name": "python3"
  },
  "language_info": {
   "codemirror_mode": {
    "name": "ipython",
    "version": 3
   },
   "file_extension": ".py",
   "mimetype": "text/x-python",
   "name": "python",
   "nbconvert_exporter": "python",
   "pygments_lexer": "ipython3",
   "version": "3.12.2"
  }
 },
 "nbformat": 4,
 "nbformat_minor": 2
}
