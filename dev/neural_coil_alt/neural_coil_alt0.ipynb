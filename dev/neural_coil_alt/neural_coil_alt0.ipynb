{
 "cells": [
  {
   "cell_type": "code",
   "execution_count": 145,
   "metadata": {},
   "outputs": [],
   "source": [
    "import torch.nn as nn\n",
    "import torch.nn.functional as F"
   ]
  },
  {
   "cell_type": "code",
   "execution_count": 146,
   "metadata": {},
   "outputs": [],
   "source": [
    "# Alternate Approach Investigation\n",
    "\n",
    "states = 4\n",
    "batches = 13"
   ]
  },
  {
   "cell_type": "code",
   "execution_count": 147,
   "metadata": {},
   "outputs": [
    {
     "name": "stdout",
     "output_type": "stream",
     "text": [
      "tensor(1.)\n",
      "tensor([[1.0000, 1.0000, 1.0000, 1.0000],\n",
      "        [1.0000, 1.0000, 1.0000, 1.0000],\n",
      "        [1.0000, 1.0000, 1.0000, 1.0000],\n",
      "        [1.0000, 1.0000, 1.0000, 1.0000],\n",
      "        [1.0000, 1.0000, 1.0000, 1.0000],\n",
      "        [1.0000, 1.0000, 1.0000, 1.0000],\n",
      "        [1.0000, 1.0000, 1.0000, 1.0000],\n",
      "        [1.0000, 1.0000, 1.0000, 1.0000],\n",
      "        [1.0000, 1.0000, 1.0000, 1.0000],\n",
      "        [1.0000, 1.0000, 1.0000, 1.0000],\n",
      "        [1.0000, 1.0000, 1.0000, 1.0000],\n",
      "        [1.0000, 1.0000, 1.0000, 1.0000],\n",
      "        [1.0000, 1.0000, 1.0000, 1.0000]])\n"
     ]
    }
   ],
   "source": [
    "# Our initial transition tensors\n",
    "transition_tensor = torch.softmax(torch.randn(batches, states, states), dim = 1)\n",
    "\n",
    "# The columns must sum to 1\n",
    "batch_sel = 5\n",
    "col_sel = 3\n",
    "\n",
    "print(transition_tensor[batch_sel,:,col_sel].sum())\n",
    "print(transition_tensor.sum(dim = 1))"
   ]
  },
  {
   "cell_type": "code",
   "execution_count": 148,
   "metadata": {},
   "outputs": [
    {
     "data": {
      "text/plain": [
       "tensor(1.)"
      ]
     },
     "execution_count": 148,
     "metadata": {},
     "output_type": "execute_result"
    }
   ],
   "source": [
    "# Our state tensor, which must sum to one for each batch\n",
    "\n",
    "state_tensor = torch.softmax(torch.randn(batches, states), dim = 1)\n",
    "state_tensor[0,:].sum()"
   ]
  },
  {
   "cell_type": "code",
   "execution_count": 149,
   "metadata": {},
   "outputs": [
    {
     "data": {
      "text/plain": [
       "tensor(1.)"
      ]
     },
     "execution_count": 149,
     "metadata": {},
     "output_type": "execute_result"
    }
   ],
   "source": [
    "# When we multiply our transition tensor by our state tensor, we expect the results to also normalize\n",
    "new_state = torch.bmm(transition_tensor, state_tensor.unsqueeze(2))\n",
    "new_state[2,:].sum()"
   ]
  },
  {
   "cell_type": "code",
   "execution_count": 150,
   "metadata": {},
   "outputs": [],
   "source": [
    "# Now that the transitions and states look good, lets create our norm subgroups\n",
    "norm_subgroups = torch.cat([state_tensor.unsqueeze(2), transition_tensor], dim = 2) # [batches, states, states + 1]"
   ]
  },
  {
   "cell_type": "code",
   "execution_count": 151,
   "metadata": {},
   "outputs": [],
   "source": [
    "# Now we will set up our interaction matrices.\n",
    "interaction_tensors = torch.softmax(torch.randn(states, states, states, states + 1), dim = 0)"
   ]
  },
  {
   "cell_type": "code",
   "execution_count": 152,
   "metadata": {},
   "outputs": [
    {
     "name": "stdout",
     "output_type": "stream",
     "text": [
      "Example transition Tensor sum:  tensor(1.0000)\n",
      "Example transition tensor spot check:  tensor(0.2106)\n",
      "Example New State Sum:  tensor(1.)\n",
      "Example New State Spot Check:  tensor(0.4447)\n",
      "Batched transition tensor spot check:  tensor(0.2106)\n",
      "Batched New State Sum:  tensor(1.)\n",
      "Batched New State Spot Check:  tensor(0.4447)\n",
      "Example transition Tensor sum:  tensor(1.)\n",
      "Example transition tensor spot check:  tensor(0.2601)\n",
      "Example New State Sum:  tensor(1.)\n",
      "Example New State Spot Check:  tensor(0.2322)\n",
      "Batched transition tensor spot check:  tensor(0.2601)\n",
      "Batched New State Sum:  tensor(1.)\n",
      "Batched New State Spot Check:  tensor(0.2322)\n",
      "Example transition Tensor sum:  tensor(1.)\n",
      "Example transition tensor spot check:  tensor(0.2543)\n",
      "Example New State Sum:  tensor(1.)\n",
      "Example New State Spot Check:  tensor(0.2770)\n",
      "Batched transition tensor spot check:  tensor(0.2543)\n",
      "Batched New State Sum:  tensor(1.)\n",
      "Batched New State Spot Check:  tensor(0.2770)\n",
      "Example transition Tensor sum:  tensor(1.0000)\n",
      "Example transition tensor spot check:  tensor(0.1883)\n",
      "Example New State Sum:  tensor(1.0000)\n",
      "Example New State Spot Check:  tensor(0.1968)\n",
      "Batched transition tensor spot check:  tensor(0.1883)\n",
      "Batched New State Sum:  tensor(1.0000)\n",
      "Batched New State Spot Check:  tensor(0.1968)\n",
      "Example transition Tensor sum:  tensor(1.)\n",
      "Example transition tensor spot check:  tensor(0.3594)\n",
      "Example New State Sum:  tensor(1.0000)\n",
      "Example New State Spot Check:  tensor(0.3530)\n",
      "Batched transition tensor spot check:  tensor(0.3594)\n",
      "Batched New State Sum:  tensor(1.)\n",
      "Batched New State Spot Check:  tensor(0.3530)\n"
     ]
    }
   ],
   "source": [
    "# The naive approach: loop through each interaction tensor over states + 1:\n",
    "for indx in range(states + 1):\n",
    "    interaction_tensor = interaction_tensors[:,:,:,indx] # [states, states, states]\n",
    "    norm_subgroup = norm_subgroups[:,:,indx] # [batches, states]\n",
    "    \n",
    "    # To check, a single mult would look like this\n",
    "    batch_sel = 5\n",
    "    col_sel = 3\n",
    "    row_sel = 2\n",
    "    example_transition_tensor = torch.matmul(interaction_tensor, norm_subgroup[batch_sel,:])\n",
    "    # This example transition tensor is not over the batches, but it should sum to one:\n",
    "    print(\"Example transition Tensor sum: \",example_transition_tensor[:,col_sel].sum())\n",
    "    print(\"Example transition tensor spot check: \", example_transition_tensor[row_sel, col_sel])\n",
    "    example_new_state = torch.matmul(example_transition_tensor, norm_subgroup[batch_sel,:])\n",
    "    print(\"Example New State Sum: \", example_new_state.sum())\n",
    "    print(\"Example New State Spot Check: \", example_new_state[col_sel])\n",
    "    \n",
    "    # Now let's try recreating this across all batches\n",
    "    #transition_tensor = torch.mul(interaction_tensor, norm_subgroup.unsqueeze(1).unsqueeze(1)).sum(3)\n",
    "    transition_tensor = torch.mul(interaction_tensor, norm_subgroup.unsqueeze(1).unsqueeze(1)).sum(-1) \n",
    "    print(\"Batched transition tensor spot check: \",transition_tensor[batch_sel,row_sel,col_sel])\n",
    "    \n",
    "    # Now we just combine with our norm_subgroup\n",
    "    new_state = torch.bmm(transition_tensor, norm_subgroup.unsqueeze(2)).squeeze(2)\n",
    "    print(\"Batched New State Sum: \",sum(new_state[batch_sel,:]))\n",
    "    print(\"Batched New State Spot Check: \", new_state[batch_sel,col_sel])\n",
    "\n",
    "    "
   ]
  },
  {
   "cell_type": "code",
   "execution_count": 153,
   "metadata": {},
   "outputs": [],
   "source": [
    "# # Now that this looks good, let's see if we can do it without the loop\n",
    "# transition_tensors = torch.mul(interaction_tensors, norm_subgroups.unsqueeze(1).unsqueeze(1)).sum(3) # [batches, states, states, states + 1]\n",
    "# new_states = torch.bmm(transition_tensors, norm_subgroups.unsqueeze(2)).squeeze(2)"
   ]
  },
  {
   "cell_type": "code",
   "execution_count": 154,
   "metadata": {},
   "outputs": [],
   "source": [
    "# We can't do bmm without the loop so let's just keep it like this for now:\n",
    "transitions_list = []\n",
    "new_state_list = []\n",
    "# The naive approach: loop through each interaction tensor over states + 1:\n",
    "for indx in range(states + 1):\n",
    "    interaction_tensor = interaction_tensors[:,:,:,indx] # [states, states, states]\n",
    "    norm_subgroup = norm_subgroups[:,:,indx] # [batches, states]\n",
    "    \n",
    "    transition_tensor = torch.mul(interaction_tensor, norm_subgroup.unsqueeze(1).unsqueeze(1)).sum(3)\n",
    "    # Now we just combine with our norm_subgroup\n",
    "    new_state = torch.bmm(transition_tensor, norm_subgroup.unsqueeze(2)).squeeze(2)\n",
    "    \n",
    "    new_state_list.append(new_state)\n",
    "    transitions_list.append(transition_tensor)\n",
    "    \n",
    "transition_tensors = torch.stack(transitions_list, -1)\n",
    "new_states = torch.stack(new_state_list, -1)"
   ]
  },
  {
   "cell_type": "code",
   "execution_count": 155,
   "metadata": {},
   "outputs": [
    {
     "name": "stdout",
     "output_type": "stream",
     "text": [
      "tensor(1.1356)\n",
      "tensor([0.8249, 0.6943, 0.8902, 1.1356])\n"
     ]
    }
   ],
   "source": [
    "# Now let's test with some example weights\n",
    "weights = torch.randn(batches, states+1)\n",
    "new_states_weighted = torch.mul(new_states,weights.unsqueeze(1)).sum(-1)\n",
    "\n",
    "# To check:\n",
    "print(sum(weights[batch_sel,:] * new_states[batch_sel,3,:]))\n",
    "print(new_states_weighted[batch_sel,:])"
   ]
  },
  {
   "cell_type": "code",
   "execution_count": 156,
   "metadata": {},
   "outputs": [],
   "source": [
    "class NeuralCoilLayer(nn.Module):\n",
    "    def __init__(self, n_features, n_batch, device = \"cpu\"):\n",
    "        super(NeuralCoilLayer, self).__init__()\n",
    "        self.n_features = n_features\n",
    "        self.attention_weights = nn.Linear(n_features, 1, bias=False)\n",
    "        self.act = nn.SiLU()\n",
    "        self.interaction_tensors = nn.Parameter(torch.randn(n_features, n_features, n_features, n_features + 1))\n",
    "        \n",
    "        self.transition_tensor = torch.zeros(n_batch, n_features, n_features)\n",
    "        if device == \"cuda\":\n",
    "            self.transition_tensor = self.transition_tensor.to(\"cuda\")\n",
    "\n",
    "        \n",
    "    def step_coil(self, state_tensor, transition_tensor):\n",
    "        states = state_tensor.shape[1]\n",
    "        \n",
    "        # Establish normalized subgroups\n",
    "        norm_subgroups = torch.cat([state_tensor.unsqueeze(2), transition_tensor], dim = 2) # [batch_size, states, states + 1]\n",
    "        # Compute scores for each normalized subgroup\n",
    "        scores = self.act(self.attention_weights(norm_subgroups.permute(0,2,1))).sum(-1) # [batch_size, states + 1]\n",
    "        \n",
    "        weights = torch.softmax(scores,dim = -1) # [batch_size, states + 1]\n",
    "        \n",
    "        # We can't do bmm without the loop so let's just keep it like this for now:\n",
    "        transitions_list = []\n",
    "        new_state_list = []\n",
    "        # The naive approach: loop through each interaction tensor over states + 1:\n",
    "        for indx in range(states + 1):\n",
    "            interaction_tensor = self.interaction_tensors[:,:,:,indx] # [states, states, states]\n",
    "            norm_subgroup = norm_subgroups[:,:,indx] # [batches, states]\n",
    "            \n",
    "            transition_tensor = torch.mul(interaction_tensor, norm_subgroup.unsqueeze(1).unsqueeze(1)).sum(3) # [batches, states, states]\n",
    "            # Now we just combine with our norm_subgroup\n",
    "            new_state = torch.bmm(transition_tensor, norm_subgroup.unsqueeze(2)).squeeze(2) # [batches, state]\n",
    "            \n",
    "            new_state_list.append(new_state)\n",
    "            transitions_list.append(transition_tensor)\n",
    "            \n",
    "        transition_tensors = torch.stack(transitions_list, -1) # [batches, states, states, states + 1]\n",
    "        new_states = torch.stack(new_state_list, -1) # [batches, states, states + 1]\n",
    "        \n",
    "        # Apply weights to transition tensors and new_states to get down into one state\n",
    "        new_state = torch.softmax((torch.mul(new_states, weights.unsqueeze(1))).sum(-1), dim = 1)\n",
    "        transition_tensor = torch.softmax(torch.mul(transition_tensors, weights.unsqueeze(1).unsqueeze(1)).sum(-1), dim = 1)\n",
    "        \n",
    "        return new_state, transition_tensor\n",
    "\n",
    "\n",
    "    def forward(self, x):\n",
    "        batch, length, n_features = x.size()\n",
    "        output = x.new_empty(batch, length, n_features)\n",
    "\n",
    "        # Initialize previous transition tensors (for the first step)\n",
    "        # Assuming it's a list of zero tensors for simplicity\n",
    "        transition_tensor = self.transition_tensor\n",
    "\n",
    "        for l in range(length):\n",
    "            state_tensor = x[:, l, :]\n",
    "            \n",
    "            # Compute output for this step\n",
    "            output[:, l, :], transition_tensor = self.step_coil(state_tensor, transition_tensor)\n",
    "\n",
    "        return output, transition_tensor\n"
   ]
  },
  {
   "cell_type": "code",
   "execution_count": 157,
   "metadata": {},
   "outputs": [
    {
     "name": "stdout",
     "output_type": "stream",
     "text": [
      "torch.Size([13, 64, 16])\n"
     ]
    }
   ],
   "source": [
    "n_features = 16\n",
    "batch, length, dim = 13, 64, n_features\n",
    "x = torch.randn(batch, length, dim)\n",
    "model = NeuralCoilLayer(\n",
    "    n_features = n_features,\n",
    "    n_batch=batch\n",
    ")\n",
    "y = model(x)\n",
    "\n",
    "\n",
    "print(y[0].shape)\n",
    "assert y[0].shape == x.shape"
   ]
  },
  {
   "cell_type": "code",
   "execution_count": 158,
   "metadata": {},
   "outputs": [
    {
     "name": "stdout",
     "output_type": "stream",
     "text": [
      "----------------------  ------------  ------------  ------------  ------------  ------------  ------------  \n",
      "                  Name    Self CPU %      Self CPU   CPU total %     CPU total  CPU time avg    # of Calls  \n",
      "----------------------  ------------  ------------  ------------  ------------  ------------  ------------  \n",
      "       model_inference        23.84%     174.901ms       100.00%     733.526ms     733.526ms             1  \n",
      "             aten::sum        21.69%     159.074ms        23.36%     171.388ms     133.897us          1280  \n",
      "             aten::mul        21.03%     154.246ms        21.03%     154.246ms     126.847us          1216  \n",
      "           aten::slice         8.39%      61.519ms         9.11%      66.844ms      11.353us          5888  \n",
      "       aten::unsqueeze         5.74%      42.095ms         6.41%      47.006ms       8.252us          5696  \n",
      "           aten::stack         1.33%       9.731ms         4.27%      31.342ms     244.859us           128  \n",
      "             aten::bmm         4.23%      31.016ms         4.24%      31.102ms      28.586us          1088  \n",
      "          aten::select         3.35%      24.544ms         3.60%      26.377ms      11.448us          2304  \n",
      "             aten::cat         1.90%      13.940ms         2.20%      16.122ms      83.969us           192  \n",
      "      aten::as_strided         2.08%      15.276ms         2.08%      15.276ms       0.932us         16384  \n",
      "----------------------  ------------  ------------  ------------  ------------  ------------  ------------  \n",
      "Self CPU time total: 733.526ms\n",
      "\n"
     ]
    }
   ],
   "source": [
    "from torch.profiler import profile, record_function, ProfilerActivity\n",
    "\n",
    "with profile(activities=[ProfilerActivity.CPU], record_shapes=True) as prof:\n",
    "    with record_function(\"model_inference\"):\n",
    "        model(x)\n",
    "        \n",
    "print(prof.key_averages().table(sort_by=\"cpu_time_total\", row_limit=10))"
   ]
  },
  {
   "cell_type": "code",
   "execution_count": 159,
   "metadata": {},
   "outputs": [
    {
     "name": "stdout",
     "output_type": "stream",
     "text": [
      "tensor([-0.2011, -1.8600, -0.2060,  0.0955])\n",
      "tensor([2.3367e-01, 2.3087e-02, 7.4314e-01, 1.0196e-04],\n",
      "       grad_fn=<SliceBackward0>)\n",
      "tensor([2.3367e-01, 2.3087e-02, 7.4314e-01, 1.0196e-04],\n",
      "       grad_fn=<SliceBackward0>)\n"
     ]
    }
   ],
   "source": [
    "n_features = 4\n",
    "batch, length, dim = 13, 64, n_features\n",
    "x =torch.randn(batch, length, dim)\n",
    "model = NeuralCoilLayer(\n",
    "    n_features = n_features,\n",
    "    n_batch=batch\n",
    ")\n",
    "\n",
    "l = 1\n",
    "state_tensor = x[:, l, :]\n",
    "print(state_tensor[1,:])\n",
    "transition_tensor = torch.randn(batch, n_features, n_features)\n",
    "new_state, new_transition_tensor = model.step_coil(state_tensor, transition_tensor)\n",
    "print(new_state[1,:])\n",
    "new_state, new_transition_tensor = model.step_coil(state_tensor, transition_tensor)\n",
    "print(new_state[1,:])"
   ]
  },
  {
   "cell_type": "markdown",
   "metadata": {},
   "source": [
    "This should be the same as if we just look at the batches independently"
   ]
  },
  {
   "cell_type": "code",
   "execution_count": 160,
   "metadata": {},
   "outputs": [
    {
     "data": {
      "text/plain": [
       "tensor([2.3367e-01, 2.3087e-02, 7.4314e-01, 1.0196e-04],\n",
       "       grad_fn=<SliceBackward0>)"
      ]
     },
     "execution_count": 160,
     "metadata": {},
     "output_type": "execute_result"
    }
   ],
   "source": [
    "batch = 2\n",
    "transition_tensor = transition_tensor[0:2,:,:]\n",
    "l = 1\n",
    "state_tensor = x[0:2, l, :]\n",
    "new_state, new_transition_tensor = model.step_coil(state_tensor, transition_tensor)\n",
    "new_state[1,:]"
   ]
  },
  {
   "cell_type": "code",
   "execution_count": 161,
   "metadata": {},
   "outputs": [],
   "source": [
    "states = []\n",
    "for step_state in range(100):\n",
    "    state_tensor, transition_tensor = model.step_coil(state_tensor, transition_tensor)\n",
    "    states.append(state_tensor)"
   ]
  },
  {
   "cell_type": "code",
   "execution_count": 162,
   "metadata": {},
   "outputs": [
    {
     "data": {
      "image/png": "[encoded data removed]",
      "text/plain": [
       "<Figure size 1000x600 with 1 Axes>"
      ]
     },
     "metadata": {},
     "output_type": "display_data"
    }
   ],
   "source": [
    "import matplotlib.pyplot as plt\n",
    "\n",
    "# Your data\n",
    "data = [row.to('cpu').detach().numpy() for row in states]\n",
    "# Transpose the data to get 5 traces\n",
    "traces = list(zip(*data))\n",
    "\n",
    "# Plotting\n",
    "plt.figure(figsize=(10, 6))\n",
    "for i, trace in enumerate(traces):\n",
    "    plt.plot(trace, label=f'Trace {i+1}')\n",
    "\n",
    "plt.xlabel('Timestep')\n",
    "plt.ylabel('Value')\n",
    "plt.legend()\n",
    "plt.show()"
   ]
  },
  {
   "cell_type": "code",
   "execution_count": 163,
   "metadata": {},
   "outputs": [],
   "source": [
    "import numpy as np\n",
    "import torch\n",
    "\n",
    "def generate_normalized_multivariate_time_series(n_features, total_length, amplitude=1.0):\n",
    "    t = np.linspace(0, 100 * np.pi, total_length)\n",
    "    series = np.zeros((total_length, n_features))\n",
    "    for i in range(n_features):\n",
    "        series[:, i] = amplitude * np.cos(t * (i + 1) / n_features) + 10\n",
    "    \n",
    "    # Normalize such that each timestep's values sum to 1\n",
    "    series_sum = np.sum(series, axis=1, keepdims=True)\n",
    "    series_normalized = series / series_sum\n",
    "    \n",
    "    return series_normalized\n",
    "\n",
    "def segment_time_series(series, length):\n",
    "    # Assuming series is a numpy array of shape [total_length, n_features]\n",
    "    total_length, n_features = series.shape\n",
    "    segments = []\n",
    "    for start in range(0, total_length - length, length):\n",
    "        segment = series[start:start + length]\n",
    "        segments.append(segment)\n",
    "    return np.stack(segments)"
   ]
  },
  {
   "cell_type": "code",
   "execution_count": 164,
   "metadata": {},
   "outputs": [],
   "source": [
    "n_features = 4\n",
    "length = 64  # Segment length\n",
    "total_length = 1024  # Arbitrary total length for the generated series\n",
    "\n",
    "# Generate and segment the time series\n",
    "series = generate_normalized_multivariate_time_series(n_features, total_length)\n",
    "series_x = series[:-1,]\n",
    "series_y = series[1:,]\n",
    "\n",
    "segments_x = segment_time_series(series_x, length)\n",
    "segments_y = segment_time_series(series_y, length)\n",
    "\n",
    "# Convert to tensors\n",
    "segments_tensor_x = torch.tensor(segments_x, dtype=torch.float)\n",
    "segments_tensor_y = torch.tensor(segments_y, dtype=torch.float)\n",
    "\n",
    "# Prepare inputs and targets\n",
    "X = segments_tensor_x.to(\"cuda\")\n",
    "# Shift segments to the right by one timestep to create the targets\n",
    "Y =  segments_tensor_y.to(\"cuda\")"
   ]
  },
  {
   "cell_type": "code",
   "execution_count": 168,
   "metadata": {},
   "outputs": [
    {
     "name": "stdout",
     "output_type": "stream",
     "text": [
      "Epoch [10/5000], Loss: 0.0004000483895651996\n",
      "Epoch [20/5000], Loss: 0.00024131684040185064\n",
      "Epoch [30/5000], Loss: 0.00026145868469029665\n",
      "Epoch [40/5000], Loss: 0.0002340801147511229\n"
     ]
    },
    {
     "ename": "KeyboardInterrupt",
     "evalue": "",
     "output_type": "error",
     "traceback": [
      "\u001b[1;31m---------------------------------------------------------------------------\u001b[0m",
      "\u001b[1;31mKeyboardInterrupt\u001b[0m                         Traceback (most recent call last)",
      "Cell \u001b[1;32mIn[168], line 35\u001b[0m\n\u001b[0;32m     33\u001b[0m optimizer\u001b[38;5;241m.\u001b[39mzero_grad()\n\u001b[0;32m     34\u001b[0m \u001b[38;5;66;03m# Forward pass\u001b[39;00m\n\u001b[1;32m---> 35\u001b[0m outputs, transition_tensor \u001b[38;5;241m=\u001b[39m \u001b[43mmodel\u001b[49m\u001b[43m(\u001b[49m\u001b[43mX\u001b[49m\u001b[43m)\u001b[49m\n\u001b[0;32m     36\u001b[0m loss \u001b[38;5;241m=\u001b[39m criterion(outputs, Y)\n\u001b[0;32m     38\u001b[0m \u001b[38;5;66;03m# Backward and optimize\u001b[39;00m\n",
      "File \u001b[1;32mc:\\Users\\johnm\\AppData\\Local\\pypoetry\\Cache\\virtualenvs\\coilspy-1sgZ1XBf-py3.12\\Lib\\site-packages\\torch\\nn\\modules\\module.py:1532\u001b[0m, in \u001b[0;36mModule._wrapped_call_impl\u001b[1;34m(self, *args, **kwargs)\u001b[0m\n\u001b[0;32m   1530\u001b[0m     \u001b[38;5;28;01mreturn\u001b[39;00m \u001b[38;5;28mself\u001b[39m\u001b[38;5;241m.\u001b[39m_compiled_call_impl(\u001b[38;5;241m*\u001b[39margs, \u001b[38;5;241m*\u001b[39m\u001b[38;5;241m*\u001b[39mkwargs)  \u001b[38;5;66;03m# type: ignore[misc]\u001b[39;00m\n\u001b[0;32m   1531\u001b[0m \u001b[38;5;28;01melse\u001b[39;00m:\n\u001b[1;32m-> 1532\u001b[0m     \u001b[38;5;28;01mreturn\u001b[39;00m \u001b[38;5;28;43mself\u001b[39;49m\u001b[38;5;241;43m.\u001b[39;49m\u001b[43m_call_impl\u001b[49m\u001b[43m(\u001b[49m\u001b[38;5;241;43m*\u001b[39;49m\u001b[43margs\u001b[49m\u001b[43m,\u001b[49m\u001b[43m \u001b[49m\u001b[38;5;241;43m*\u001b[39;49m\u001b[38;5;241;43m*\u001b[39;49m\u001b[43mkwargs\u001b[49m\u001b[43m)\u001b[49m\n",
      "File \u001b[1;32mc:\\Users\\johnm\\AppData\\Local\\pypoetry\\Cache\\virtualenvs\\coilspy-1sgZ1XBf-py3.12\\Lib\\site-packages\\torch\\nn\\modules\\module.py:1541\u001b[0m, in \u001b[0;36mModule._call_impl\u001b[1;34m(self, *args, **kwargs)\u001b[0m\n\u001b[0;32m   1536\u001b[0m \u001b[38;5;66;03m# If we don't have any hooks, we want to skip the rest of the logic in\u001b[39;00m\n\u001b[0;32m   1537\u001b[0m \u001b[38;5;66;03m# this function, and just call forward.\u001b[39;00m\n\u001b[0;32m   1538\u001b[0m \u001b[38;5;28;01mif\u001b[39;00m \u001b[38;5;129;01mnot\u001b[39;00m (\u001b[38;5;28mself\u001b[39m\u001b[38;5;241m.\u001b[39m_backward_hooks \u001b[38;5;129;01mor\u001b[39;00m \u001b[38;5;28mself\u001b[39m\u001b[38;5;241m.\u001b[39m_backward_pre_hooks \u001b[38;5;129;01mor\u001b[39;00m \u001b[38;5;28mself\u001b[39m\u001b[38;5;241m.\u001b[39m_forward_hooks \u001b[38;5;129;01mor\u001b[39;00m \u001b[38;5;28mself\u001b[39m\u001b[38;5;241m.\u001b[39m_forward_pre_hooks\n\u001b[0;32m   1539\u001b[0m         \u001b[38;5;129;01mor\u001b[39;00m _global_backward_pre_hooks \u001b[38;5;129;01mor\u001b[39;00m _global_backward_hooks\n\u001b[0;32m   1540\u001b[0m         \u001b[38;5;129;01mor\u001b[39;00m _global_forward_hooks \u001b[38;5;129;01mor\u001b[39;00m _global_forward_pre_hooks):\n\u001b[1;32m-> 1541\u001b[0m     \u001b[38;5;28;01mreturn\u001b[39;00m \u001b[43mforward_call\u001b[49m\u001b[43m(\u001b[49m\u001b[38;5;241;43m*\u001b[39;49m\u001b[43margs\u001b[49m\u001b[43m,\u001b[49m\u001b[43m \u001b[49m\u001b[38;5;241;43m*\u001b[39;49m\u001b[38;5;241;43m*\u001b[39;49m\u001b[43mkwargs\u001b[49m\u001b[43m)\u001b[49m\n\u001b[0;32m   1543\u001b[0m \u001b[38;5;28;01mtry\u001b[39;00m:\n\u001b[0;32m   1544\u001b[0m     result \u001b[38;5;241m=\u001b[39m \u001b[38;5;28;01mNone\u001b[39;00m\n",
      "Cell \u001b[1;32mIn[156], line 61\u001b[0m, in \u001b[0;36mNeuralCoilLayer.forward\u001b[1;34m(self, x)\u001b[0m\n\u001b[0;32m     58\u001b[0m     state_tensor \u001b[38;5;241m=\u001b[39m x[:, l, :]\n\u001b[0;32m     60\u001b[0m     \u001b[38;5;66;03m# Compute output for this step\u001b[39;00m\n\u001b[1;32m---> 61\u001b[0m     output[:, l, :], transition_tensor \u001b[38;5;241m=\u001b[39m \u001b[38;5;28;43mself\u001b[39;49m\u001b[38;5;241;43m.\u001b[39;49m\u001b[43mstep_coil\u001b[49m\u001b[43m(\u001b[49m\u001b[43mstate_tensor\u001b[49m\u001b[43m,\u001b[49m\u001b[43m \u001b[49m\u001b[43mtransition_tensor\u001b[49m\u001b[43m)\u001b[49m\n\u001b[0;32m     63\u001b[0m \u001b[38;5;28;01mreturn\u001b[39;00m output, transition_tensor\n",
      "Cell \u001b[1;32mIn[156], line 32\u001b[0m, in \u001b[0;36mNeuralCoilLayer.step_coil\u001b[1;34m(self, state_tensor, transition_tensor)\u001b[0m\n\u001b[0;32m     29\u001b[0m interaction_tensor \u001b[38;5;241m=\u001b[39m \u001b[38;5;28mself\u001b[39m\u001b[38;5;241m.\u001b[39minteraction_tensors[:,:,:,indx] \u001b[38;5;66;03m# [states, states, states]\u001b[39;00m\n\u001b[0;32m     30\u001b[0m norm_subgroup \u001b[38;5;241m=\u001b[39m norm_subgroups[:,:,indx] \u001b[38;5;66;03m# [batches, states]\u001b[39;00m\n\u001b[1;32m---> 32\u001b[0m transition_tensor \u001b[38;5;241m=\u001b[39m \u001b[43mtorch\u001b[49m\u001b[38;5;241;43m.\u001b[39;49m\u001b[43mmul\u001b[49m\u001b[43m(\u001b[49m\u001b[43minteraction_tensor\u001b[49m\u001b[43m,\u001b[49m\u001b[43m \u001b[49m\u001b[43mnorm_subgroup\u001b[49m\u001b[38;5;241;43m.\u001b[39;49m\u001b[43munsqueeze\u001b[49m\u001b[43m(\u001b[49m\u001b[38;5;241;43m1\u001b[39;49m\u001b[43m)\u001b[49m\u001b[38;5;241;43m.\u001b[39;49m\u001b[43munsqueeze\u001b[49m\u001b[43m(\u001b[49m\u001b[38;5;241;43m1\u001b[39;49m\u001b[43m)\u001b[49m\u001b[43m)\u001b[49m\u001b[38;5;241m.\u001b[39msum(\u001b[38;5;241m3\u001b[39m) \u001b[38;5;66;03m# [batches, states, states]\u001b[39;00m\n\u001b[0;32m     33\u001b[0m \u001b[38;5;66;03m# Now we just combine with our norm_subgroup\u001b[39;00m\n\u001b[0;32m     34\u001b[0m new_state \u001b[38;5;241m=\u001b[39m torch\u001b[38;5;241m.\u001b[39mbmm(transition_tensor, norm_subgroup\u001b[38;5;241m.\u001b[39munsqueeze(\u001b[38;5;241m2\u001b[39m))\u001b[38;5;241m.\u001b[39msqueeze(\u001b[38;5;241m2\u001b[39m) \u001b[38;5;66;03m# [batches, state]\u001b[39;00m\n",
      "\u001b[1;31mKeyboardInterrupt\u001b[0m: "
     ]
    }
   ],
   "source": [
    "from torch import nn, optim\n",
    "\n",
    "class CoilBlock(nn.Module):\n",
    "    def __init__(self, n_features, n_batch, device):\n",
    "        super(CoilBlock, self).__init__()\n",
    "\n",
    "        self.coil1 = NeuralCoilLayer(n_features = n_features, n_batch = n_batch, device= device)\n",
    "        self.coil2 = NeuralCoilLayer(n_features = n_features, n_batch = n_batch, device= device)\n",
    "        self.coil3 = NeuralCoilLayer(n_features = n_features, n_batch = n_batch, device= device)\n",
    "    \n",
    "    def forward(self, x):\n",
    "        x, transition_tensor = self.coil1(x)\n",
    "        x, transition_tensor = self.coil2(x)\n",
    "        #x, transition_tensor = self.coil3(x)\n",
    "        return x, transition_tensor\n",
    "    \n",
    "# Model\n",
    "model = NeuralCoilLayer(\n",
    "    n_features = n_features,\n",
    "    n_batch = X.shape[0],\n",
    "    device=\"cuda\"\n",
    ").to(\"cuda\")\n",
    "#model = CoilBlock(n_features=n_features, n_batch= X.shape[0], device=\"cuda\").to(\"cuda\")\n",
    "\n",
    "# Loss and optimizer\n",
    "criterion = nn.MSELoss()\n",
    "optimizer = optim.Adam(model.parameters(), lr=0.01)\n",
    "\n",
    "# Training loop\n",
    "epochs = 5000\n",
    "for epoch in range(epochs):\n",
    "    model.train()\n",
    "    optimizer.zero_grad()\n",
    "    # Forward pass\n",
    "    outputs, transition_tensor = model(X)\n",
    "    loss = criterion(outputs, Y)\n",
    "\n",
    "    # Backward and optimize\n",
    "    loss.backward()\n",
    "    optimizer.step()\n",
    "\n",
    "    if (epoch + 1) % 10 == 0:\n",
    "        print(f'Epoch [{epoch+1}/{epochs}], Loss: {loss.item()}')\n"
   ]
  },
  {
   "cell_type": "code",
   "execution_count": 169,
   "metadata": {},
   "outputs": [
    {
     "data": {
      "application/vnd.plotly.v1+json": {
       "config": {
        "plotlyServerURL": "https://plot.ly"
       },
       "data": [
        {
         "mode": "lines",
         "name": "Model Output",
         "type": "scatter",
         "x": [
          0,
          1,
          2,
          3,
          4,
          5,
          6,
          7,
          8,
          9,
          10,
          11,
          12,
          13,
          14,
          15,
          16,
          17,
          18,
          19,
          20,
          21,
          22,
          23,
          24,
          25,
          26,
          27,
          28,
          29,
          30,
          31,
          32,
          33,
          34,
          35,
          36,
          37,
          38,
          39,
          40,
          41,
          42,
          43,
          44,
          45,
          46,
          47,
          48,
          49,
          50,
          51,
          52,
          53,
          54,
          55,
          56,
          57,
          58,
          59,
          60,
          61,
          62,
          63
         ],
         "y": [
          0.2479998916387558,
          0.25057825446128845,
          0.24950885772705078,
          0.25080612301826477,
          0.25072652101516724,
          0.25100284814834595,
          0.2512946128845215,
          0.2515943944454193,
          0.2518957555294037,
          0.25217634439468384,
          0.2524149715900421,
          0.2525918781757355,
          0.252691388130188,
          0.2527044415473938,
          0.25262969732284546,
          0.25247377157211304,
          0.25225019454956055,
          0.2519773244857788,
          0.2516760528087616,
          0.2513667345046997,
          0.2510673701763153,
          0.25079214572906494,
          0.2505514621734619,
          0.2503526508808136,
          0.2502012252807617,
          0.25010159611701965,
          0.2500572204589844,
          0.2500699758529663,
          0.2501392364501953,
          0.2502608895301819,
          0.25042736530303955,
          0.2506277859210968,
          0.250849187374115,
          0.25107768177986145,
          0.2513000965118408,
          0.2515049874782562,
          0.2516833543777466,
          0.2518290877342224,
          0.2519386112689972,
          0.2520105540752411,
          0.2520451545715332,
          0.25204411149024963,
          0.2520105540752411,
          0.25194916129112244,
          0.25186648964881897,
          0.25177037715911865,
          0.2516694664955139,
          0.25157180428504944,
          0.25148412585258484,
          0.25141093134880066,
          0.2513545751571655,
          0.25131553411483765,
          0.25129303336143494,
          0.2512858510017395,
          0.2512929439544678,
          0.2513136863708496,
          0.25134795904159546,
          0.2513958513736725,
          0.2514570951461792,
          0.2515304386615753,
          0.2516131103038788,
          0.2517004609107971,
          0.2517865002155304,
          0.2518642246723175
         ]
        },
        {
         "mode": "lines",
         "name": "Target",
         "type": "scatter",
         "x": [
          0,
          1,
          2,
          3,
          4,
          5,
          6,
          7,
          8,
          9,
          10,
          11,
          12,
          13,
          14,
          15,
          16,
          17,
          18,
          19,
          20,
          21,
          22,
          23,
          24,
          25,
          26,
          27,
          28,
          29,
          30,
          31,
          32,
          33,
          34,
          35,
          36,
          37,
          38,
          39,
          40,
          41,
          42,
          43,
          44,
          45,
          46,
          47,
          48,
          49,
          50,
          51,
          52,
          53,
          54,
          55,
          56,
          57,
          58,
          59,
          60,
          61,
          62,
          63
         ],
         "y": [
          0.23216553032398224,
          0.23077093064785004,
          0.23141252994537354,
          0.23404042422771454,
          0.23840691149234772,
          0.24409431219100952,
          0.25056329369544983,
          0.25721272826194763,
          0.2634410858154297,
          0.26870131492614746,
          0.272544264793396,
          0.27464941143989563,
          0.2748439610004425,
          0.27311205863952637,
          0.26959556341171265,
          0.26458659768104553,
          0.25851067900657654,
          0.2518983781337738,
          0.24534432590007782,
          0.23945458233356476,
          0.23478581011295319,
          0.231784388422966,
          0.23073501884937286,
          0.23172815144062042,
          0.23465269804000854,
          0.23921430110931396,
          0.2449745386838913,
          0.2514026165008545,
          0.25793009996414185,
          0.2640014886856079,
          0.2691161632537842,
          0.2728607952594757,
          0.2749333083629608,
          0.27516040205955505,
          0.27350980043411255,
          0.2700975835323334,
          0.26518768072128296,
          0.25918054580688477,
          0.25258615612983704,
          0.24597923457622528,
          0.2399383932352066,
          0.23497681319713593,
          0.2314767688512802,
          0.22964219748973846,
          0.22947999835014343,
          0.23081286251544952,
          0.23331819474697113,
          0.23658223450183868,
          0.24015681445598602,
          0.24360913038253784,
          0.246559739112854,
          0.24870789051055908,
          0.24984636902809143,
          0.24986906349658966,
          0.24877385795116425,
          0.24666276574134827,
          0.2437390685081482,
          0.2402999997138977,
          0.23672224581241608,
          0.23343713581562042,
          0.2308930903673172,
          0.22950635850429535,
          0.22960421442985535,
          0.2313707172870636
         ]
        }
       ],
       "layout": {
        "template": {
         "data": {
          "bar": [
           {
            "error_x": {
             "color": "#2a3f5f"
            },
            "error_y": {
             "color": "#2a3f5f"
            },
            "marker": {
             "line": {
              "color": "#E5ECF6",
              "width": 0.5
             },
             "pattern": {
              "fillmode": "overlay",
              "size": 10,
              "solidity": 0.2
             }
            },
            "type": "bar"
           }
          ],
          "barpolar": [
           {
            "marker": {
             "line": {
              "color": "#E5ECF6",
              "width": 0.5
             },
             "pattern": {
              "fillmode": "overlay",
              "size": 10,
              "solidity": 0.2
             }
            },
            "type": "barpolar"
           }
          ],
          "carpet": [
           {
            "aaxis": {
             "endlinecolor": "#2a3f5f",
             "gridcolor": "white",
             "linecolor": "white",
             "minorgridcolor": "white",
             "startlinecolor": "#2a3f5f"
            },
            "baxis": {
             "endlinecolor": "#2a3f5f",
             "gridcolor": "white",
             "linecolor": "white",
             "minorgridcolor": "white",
             "startlinecolor": "#2a3f5f"
            },
            "type": "carpet"
           }
          ],
          "choropleth": [
           {
            "colorbar": {
             "outlinewidth": 0,
             "ticks": ""
            },
            "type": "choropleth"
           }
          ],
          "contour": [
           {
            "colorbar": {
             "outlinewidth": 0,
             "ticks": ""
            },
            "colorscale": [
             [
              0,
              "#0d0887"
             ],
             [
              0.1111111111111111,
              "#46039f"
             ],
             [
              0.2222222222222222,
              "#7201a8"
             ],
             [
              0.3333333333333333,
              "#9c179e"
             ],
             [
              0.4444444444444444,
              "#bd3786"
             ],
             [
              0.5555555555555556,
              "#d8576b"
             ],
             [
              0.6666666666666666,
              "#ed7953"
             ],
             [
              0.7777777777777778,
              "#fb9f3a"
             ],
             [
              0.8888888888888888,
              "#fdca26"
             ],
             [
              1,
              "#f0f921"
             ]
            ],
            "type": "contour"
           }
          ],
          "contourcarpet": [
           {
            "colorbar": {
             "outlinewidth": 0,
             "ticks": ""
            },
            "type": "contourcarpet"
           }
          ],
          "heatmap": [
           {
            "colorbar": {
             "outlinewidth": 0,
             "ticks": ""
            },
            "colorscale": [
             [
              0,
              "#0d0887"
             ],
             [
              0.1111111111111111,
              "#46039f"
             ],
             [
              0.2222222222222222,
              "#7201a8"
             ],
             [
              0.3333333333333333,
              "#9c179e"
             ],
             [
              0.4444444444444444,
              "#bd3786"
             ],
             [
              0.5555555555555556,
              "#d8576b"
             ],
             [
              0.6666666666666666,
              "#ed7953"
             ],
             [
              0.7777777777777778,
              "#fb9f3a"
             ],
             [
              0.8888888888888888,
              "#fdca26"
             ],
             [
              1,
              "#f0f921"
             ]
            ],
            "type": "heatmap"
           }
          ],
          "heatmapgl": [
           {
            "colorbar": {
             "outlinewidth": 0,
             "ticks": ""
            },
            "colorscale": [
             [
              0,
              "#0d0887"
             ],
             [
              0.1111111111111111,
              "#46039f"
             ],
             [
              0.2222222222222222,
              "#7201a8"
             ],
             [
              0.3333333333333333,
              "#9c179e"
             ],
             [
              0.4444444444444444,
              "#bd3786"
             ],
             [
              0.5555555555555556,
              "#d8576b"
             ],
             [
              0.6666666666666666,
              "#ed7953"
             ],
             [
              0.7777777777777778,
              "#fb9f3a"
             ],
             [
              0.8888888888888888,
              "#fdca26"
             ],
             [
              1,
              "#f0f921"
             ]
            ],
            "type": "heatmapgl"
           }
          ],
          "histogram": [
           {
            "marker": {
             "pattern": {
              "fillmode": "overlay",
              "size": 10,
              "solidity": 0.2
             }
            },
            "type": "histogram"
           }
          ],
          "histogram2d": [
           {
            "colorbar": {
             "outlinewidth": 0,
             "ticks": ""
            },
            "colorscale": [
             [
              0,
              "#0d0887"
             ],
             [
              0.1111111111111111,
              "#46039f"
             ],
             [
              0.2222222222222222,
              "#7201a8"
             ],
             [
              0.3333333333333333,
              "#9c179e"
             ],
             [
              0.4444444444444444,
              "#bd3786"
             ],
             [
              0.5555555555555556,
              "#d8576b"
             ],
             [
              0.6666666666666666,
              "#ed7953"
             ],
             [
              0.7777777777777778,
              "#fb9f3a"
             ],
             [
              0.8888888888888888,
              "#fdca26"
             ],
             [
              1,
              "#f0f921"
             ]
            ],
            "type": "histogram2d"
           }
          ],
          "histogram2dcontour": [
           {
            "colorbar": {
             "outlinewidth": 0,
             "ticks": ""
            },
            "colorscale": [
             [
              0,
              "#0d0887"
             ],
             [
              0.1111111111111111,
              "#46039f"
             ],
             [
              0.2222222222222222,
              "#7201a8"
             ],
             [
              0.3333333333333333,
              "#9c179e"
             ],
             [
              0.4444444444444444,
              "#bd3786"
             ],
             [
              0.5555555555555556,
              "#d8576b"
             ],
             [
              0.6666666666666666,
              "#ed7953"
             ],
             [
              0.7777777777777778,
              "#fb9f3a"
             ],
             [
              0.8888888888888888,
              "#fdca26"
             ],
             [
              1,
              "#f0f921"
             ]
            ],
            "type": "histogram2dcontour"
           }
          ],
          "mesh3d": [
           {
            "colorbar": {
             "outlinewidth": 0,
             "ticks": ""
            },
            "type": "mesh3d"
           }
          ],
          "parcoords": [
           {
            "line": {
             "colorbar": {
              "outlinewidth": 0,
              "ticks": ""
             }
            },
            "type": "parcoords"
           }
          ],
          "pie": [
           {
            "automargin": true,
            "type": "pie"
           }
          ],
          "scatter": [
           {
            "fillpattern": {
             "fillmode": "overlay",
             "size": 10,
             "solidity": 0.2
            },
            "type": "scatter"
           }
          ],
          "scatter3d": [
           {
            "line": {
             "colorbar": {
              "outlinewidth": 0,
              "ticks": ""
             }
            },
            "marker": {
             "colorbar": {
              "outlinewidth": 0,
              "ticks": ""
             }
            },
            "type": "scatter3d"
           }
          ],
          "scattercarpet": [
           {
            "marker": {
             "colorbar": {
              "outlinewidth": 0,
              "ticks": ""
             }
            },
            "type": "scattercarpet"
           }
          ],
          "scattergeo": [
           {
            "marker": {
             "colorbar": {
              "outlinewidth": 0,
              "ticks": ""
             }
            },
            "type": "scattergeo"
           }
          ],
          "scattergl": [
           {
            "marker": {
             "colorbar": {
              "outlinewidth": 0,
              "ticks": ""
             }
            },
            "type": "scattergl"
           }
          ],
          "scattermapbox": [
           {
            "marker": {
             "colorbar": {
              "outlinewidth": 0,
              "ticks": ""
             }
            },
            "type": "scattermapbox"
           }
          ],
          "scatterpolar": [
           {
            "marker": {
             "colorbar": {
              "outlinewidth": 0,
              "ticks": ""
             }
            },
            "type": "scatterpolar"
           }
          ],
          "scatterpolargl": [
           {
            "marker": {
             "colorbar": {
              "outlinewidth": 0,
              "ticks": ""
             }
            },
            "type": "scatterpolargl"
           }
          ],
          "scatterternary": [
           {
            "marker": {
             "colorbar": {
              "outlinewidth": 0,
              "ticks": ""
             }
            },
            "type": "scatterternary"
           }
          ],
          "surface": [
           {
            "colorbar": {
             "outlinewidth": 0,
             "ticks": ""
            },
            "colorscale": [
             [
              0,
              "#0d0887"
             ],
             [
              0.1111111111111111,
              "#46039f"
             ],
             [
              0.2222222222222222,
              "#7201a8"
             ],
             [
              0.3333333333333333,
              "#9c179e"
             ],
             [
              0.4444444444444444,
              "#bd3786"
             ],
             [
              0.5555555555555556,
              "#d8576b"
             ],
             [
              0.6666666666666666,
              "#ed7953"
             ],
             [
              0.7777777777777778,
              "#fb9f3a"
             ],
             [
              0.8888888888888888,
              "#fdca26"
             ],
             [
              1,
              "#f0f921"
             ]
            ],
            "type": "surface"
           }
          ],
          "table": [
           {
            "cells": {
             "fill": {
              "color": "#EBF0F8"
             },
             "line": {
              "color": "white"
             }
            },
            "header": {
             "fill": {
              "color": "#C8D4E3"
             },
             "line": {
              "color": "white"
             }
            },
            "type": "table"
           }
          ]
         },
         "layout": {
          "annotationdefaults": {
           "arrowcolor": "#2a3f5f",
           "arrowhead": 0,
           "arrowwidth": 1
          },
          "autotypenumbers": "strict",
          "coloraxis": {
           "colorbar": {
            "outlinewidth": 0,
            "ticks": ""
           }
          },
          "colorscale": {
           "diverging": [
            [
             0,
             "#8e0152"
            ],
            [
             0.1,
             "#c51b7d"
            ],
            [
             0.2,
             "#de77ae"
            ],
            [
             0.3,
             "#f1b6da"
            ],
            [
             0.4,
             "#fde0ef"
            ],
            [
             0.5,
             "#f7f7f7"
            ],
            [
             0.6,
             "#e6f5d0"
            ],
            [
             0.7,
             "#b8e186"
            ],
            [
             0.8,
             "#7fbc41"
            ],
            [
             0.9,
             "#4d9221"
            ],
            [
             1,
             "#276419"
            ]
           ],
           "sequential": [
            [
             0,
             "#0d0887"
            ],
            [
             0.1111111111111111,
             "#46039f"
            ],
            [
             0.2222222222222222,
             "#7201a8"
            ],
            [
             0.3333333333333333,
             "#9c179e"
            ],
            [
             0.4444444444444444,
             "#bd3786"
            ],
            [
             0.5555555555555556,
             "#d8576b"
            ],
            [
             0.6666666666666666,
             "#ed7953"
            ],
            [
             0.7777777777777778,
             "#fb9f3a"
            ],
            [
             0.8888888888888888,
             "#fdca26"
            ],
            [
             1,
             "#f0f921"
            ]
           ],
           "sequentialminus": [
            [
             0,
             "#0d0887"
            ],
            [
             0.1111111111111111,
             "#46039f"
            ],
            [
             0.2222222222222222,
             "#7201a8"
            ],
            [
             0.3333333333333333,
             "#9c179e"
            ],
            [
             0.4444444444444444,
             "#bd3786"
            ],
            [
             0.5555555555555556,
             "#d8576b"
            ],
            [
             0.6666666666666666,
             "#ed7953"
            ],
            [
             0.7777777777777778,
             "#fb9f3a"
            ],
            [
             0.8888888888888888,
             "#fdca26"
            ],
            [
             1,
             "#f0f921"
            ]
           ]
          },
          "colorway": [
           "#636efa",
           "#EF553B",
           "#00cc96",
           "#ab63fa",
           "#FFA15A",
           "#19d3f3",
           "#FF6692",
           "#B6E880",
           "#FF97FF",
           "#FECB52"
          ],
          "font": {
           "color": "#2a3f5f"
          },
          "geo": {
           "bgcolor": "white",
           "lakecolor": "white",
           "landcolor": "#E5ECF6",
           "showlakes": true,
           "showland": true,
           "subunitcolor": "white"
          },
          "hoverlabel": {
           "align": "left"
          },
          "hovermode": "closest",
          "mapbox": {
           "style": "light"
          },
          "paper_bgcolor": "white",
          "plot_bgcolor": "#E5ECF6",
          "polar": {
           "angularaxis": {
            "gridcolor": "white",
            "linecolor": "white",
            "ticks": ""
           },
           "bgcolor": "#E5ECF6",
           "radialaxis": {
            "gridcolor": "white",
            "linecolor": "white",
            "ticks": ""
           }
          },
          "scene": {
           "xaxis": {
            "backgroundcolor": "#E5ECF6",
            "gridcolor": "white",
            "gridwidth": 2,
            "linecolor": "white",
            "showbackground": true,
            "ticks": "",
            "zerolinecolor": "white"
           },
           "yaxis": {
            "backgroundcolor": "#E5ECF6",
            "gridcolor": "white",
            "gridwidth": 2,
            "linecolor": "white",
            "showbackground": true,
            "ticks": "",
            "zerolinecolor": "white"
           },
           "zaxis": {
            "backgroundcolor": "#E5ECF6",
            "gridcolor": "white",
            "gridwidth": 2,
            "linecolor": "white",
            "showbackground": true,
            "ticks": "",
            "zerolinecolor": "white"
           }
          },
          "shapedefaults": {
           "line": {
            "color": "#2a3f5f"
           }
          },
          "ternary": {
           "aaxis": {
            "gridcolor": "white",
            "linecolor": "white",
            "ticks": ""
           },
           "baxis": {
            "gridcolor": "white",
            "linecolor": "white",
            "ticks": ""
           },
           "bgcolor": "#E5ECF6",
           "caxis": {
            "gridcolor": "white",
            "linecolor": "white",
            "ticks": ""
           }
          },
          "title": {
           "x": 0.05
          },
          "xaxis": {
           "automargin": true,
           "gridcolor": "white",
           "linecolor": "white",
           "ticks": "",
           "title": {
            "standoff": 15
           },
           "zerolinecolor": "white",
           "zerolinewidth": 2
          },
          "yaxis": {
           "automargin": true,
           "gridcolor": "white",
           "linecolor": "white",
           "ticks": "",
           "title": {
            "standoff": 15
           },
           "zerolinecolor": "white",
           "zerolinewidth": 2
          }
         }
        },
        "title": {
         "text": "Model Output vs Target for Feature 3, Batch 3"
        },
        "xaxis": {
         "title": {
          "text": "Timestep"
         }
        },
        "yaxis": {
         "title": {
          "text": "Value"
         }
        }
       }
      }
     },
     "metadata": {},
     "output_type": "display_data"
    }
   ],
   "source": [
    "import plotly.graph_objects as go\n",
    "\n",
    "def plot_model_output_vs_target(model_outputs, targets, batch_index=0, feature_index=0):\n",
    "    # Extract the specified feature for the given batch from both the model outputs and targets\n",
    "    model_output_series = model_outputs[batch_index, :, feature_index].detach().numpy()\n",
    "    target_series = targets[batch_index, :, feature_index].numpy()\n",
    "    \n",
    "    # Create a range for the x-axis (timesteps)\n",
    "    timesteps = list(range(model_output_series.shape[0]))\n",
    "    \n",
    "    # Create traces\n",
    "    model_trace = go.Scatter(x=timesteps, y=model_output_series, mode='lines', name='Model Output')\n",
    "    target_trace = go.Scatter(x=timesteps, y=target_series, mode='lines', name='Target')\n",
    "    \n",
    "    # Create the figure and add traces\n",
    "    fig = go.Figure()\n",
    "    fig.add_trace(model_trace)\n",
    "    fig.add_trace(target_trace)\n",
    "    \n",
    "    # Add title and labels\n",
    "    fig.update_layout(title=f'Model Output vs Target for Feature {feature_index}, Batch {batch_index}',\n",
    "                      xaxis_title='Timestep',\n",
    "                      yaxis_title='Value')\n",
    "    \n",
    "    # Show the figure\n",
    "    fig.show()\n",
    "\n",
    "# Assuming `y` and `Y` are your model outputs and targets, respectively\n",
    "# Adjust batch_index and feature_index as needed\n",
    "plot_model_output_vs_target(outputs.to(\"cpu\"), Y.to(\"cpu\"), batch_index=3, feature_index=3)\n"
   ]
  },
  {
   "cell_type": "code",
   "execution_count": 170,
   "metadata": {},
   "outputs": [
    {
     "name": "stdout",
     "output_type": "stream",
     "text": [
      "tensor(1., device='cuda:0', grad_fn=<AddBackward0>)\n",
      "tensor(1.0000, device='cuda:0', grad_fn=<AddBackward0>)\n",
      "tensor(1.0000, device='cuda:0', grad_fn=<AddBackward0>)\n",
      "tensor(1., device='cuda:0', grad_fn=<AddBackward0>)\n",
      "tensor(1., device='cuda:0', grad_fn=<AddBackward0>)\n",
      "tensor(1., device='cuda:0', grad_fn=<AddBackward0>)\n",
      "tensor(1., device='cuda:0', grad_fn=<AddBackward0>)\n",
      "tensor(1., device='cuda:0', grad_fn=<AddBackward0>)\n",
      "tensor(1., device='cuda:0', grad_fn=<AddBackward0>)\n",
      "tensor(1., device='cuda:0', grad_fn=<AddBackward0>)\n",
      "tensor(1., device='cuda:0', grad_fn=<AddBackward0>)\n",
      "tensor(1., device='cuda:0', grad_fn=<AddBackward0>)\n",
      "tensor(1., device='cuda:0', grad_fn=<AddBackward0>)\n",
      "tensor(1., device='cuda:0', grad_fn=<AddBackward0>)\n",
      "tensor(1., device='cuda:0', grad_fn=<AddBackward0>)\n",
      "tensor(1., device='cuda:0', grad_fn=<AddBackward0>)\n",
      "tensor(1., device='cuda:0', grad_fn=<AddBackward0>)\n",
      "tensor(1., device='cuda:0', grad_fn=<AddBackward0>)\n",
      "tensor(1., device='cuda:0', grad_fn=<AddBackward0>)\n",
      "tensor(1., device='cuda:0', grad_fn=<AddBackward0>)\n",
      "tensor(1., device='cuda:0', grad_fn=<AddBackward0>)\n",
      "tensor(1., device='cuda:0', grad_fn=<AddBackward0>)\n",
      "tensor(1., device='cuda:0', grad_fn=<AddBackward0>)\n",
      "tensor(1., device='cuda:0', grad_fn=<AddBackward0>)\n",
      "tensor(1., device='cuda:0', grad_fn=<AddBackward0>)\n",
      "tensor(1., device='cuda:0', grad_fn=<AddBackward0>)\n",
      "tensor(1., device='cuda:0', grad_fn=<AddBackward0>)\n",
      "tensor(1., device='cuda:0', grad_fn=<AddBackward0>)\n",
      "tensor(1., device='cuda:0', grad_fn=<AddBackward0>)\n",
      "tensor(1., device='cuda:0', grad_fn=<AddBackward0>)\n",
      "tensor(1., device='cuda:0', grad_fn=<AddBackward0>)\n",
      "tensor(1., device='cuda:0', grad_fn=<AddBackward0>)\n",
      "tensor(1., device='cuda:0', grad_fn=<AddBackward0>)\n",
      "tensor(1., device='cuda:0', grad_fn=<AddBackward0>)\n",
      "tensor(1., device='cuda:0', grad_fn=<AddBackward0>)\n",
      "tensor(1., device='cuda:0', grad_fn=<AddBackward0>)\n",
      "tensor(1., device='cuda:0', grad_fn=<AddBackward0>)\n",
      "tensor(1., device='cuda:0', grad_fn=<AddBackward0>)\n",
      "tensor(1., device='cuda:0', grad_fn=<AddBackward0>)\n",
      "tensor(1., device='cuda:0', grad_fn=<AddBackward0>)\n",
      "tensor(1., device='cuda:0', grad_fn=<AddBackward0>)\n",
      "tensor(1., device='cuda:0', grad_fn=<AddBackward0>)\n",
      "tensor(1., device='cuda:0', grad_fn=<AddBackward0>)\n",
      "tensor(1., device='cuda:0', grad_fn=<AddBackward0>)\n",
      "tensor(1., device='cuda:0', grad_fn=<AddBackward0>)\n",
      "tensor(1., device='cuda:0', grad_fn=<AddBackward0>)\n",
      "tensor(1., device='cuda:0', grad_fn=<AddBackward0>)\n",
      "tensor(1., device='cuda:0', grad_fn=<AddBackward0>)\n",
      "tensor(1., device='cuda:0', grad_fn=<AddBackward0>)\n",
      "tensor(1., device='cuda:0', grad_fn=<AddBackward0>)\n",
      "tensor(1., device='cuda:0', grad_fn=<AddBackward0>)\n",
      "tensor(1., device='cuda:0', grad_fn=<AddBackward0>)\n",
      "tensor(1., device='cuda:0', grad_fn=<AddBackward0>)\n",
      "tensor(1., device='cuda:0', grad_fn=<AddBackward0>)\n",
      "tensor(1., device='cuda:0', grad_fn=<AddBackward0>)\n",
      "tensor(1., device='cuda:0', grad_fn=<AddBackward0>)\n",
      "tensor(1., device='cuda:0', grad_fn=<AddBackward0>)\n",
      "tensor(1., device='cuda:0', grad_fn=<AddBackward0>)\n",
      "tensor(1., device='cuda:0', grad_fn=<AddBackward0>)\n",
      "tensor(1., device='cuda:0', grad_fn=<AddBackward0>)\n",
      "tensor(1., device='cuda:0', grad_fn=<AddBackward0>)\n",
      "tensor(1., device='cuda:0', grad_fn=<AddBackward0>)\n",
      "tensor(1., device='cuda:0', grad_fn=<AddBackward0>)\n",
      "tensor(1., device='cuda:0', grad_fn=<AddBackward0>)\n",
      "tensor(1., device='cuda:0', grad_fn=<AddBackward0>)\n",
      "tensor(1., device='cuda:0', grad_fn=<AddBackward0>)\n",
      "tensor(1., device='cuda:0', grad_fn=<AddBackward0>)\n",
      "tensor(1., device='cuda:0', grad_fn=<AddBackward0>)\n",
      "tensor(1., device='cuda:0', grad_fn=<AddBackward0>)\n",
      "tensor(1., device='cuda:0', grad_fn=<AddBackward0>)\n",
      "tensor(1., device='cuda:0', grad_fn=<AddBackward0>)\n",
      "tensor(1., device='cuda:0', grad_fn=<AddBackward0>)\n",
      "tensor(1., device='cuda:0', grad_fn=<AddBackward0>)\n",
      "tensor(1., device='cuda:0', grad_fn=<AddBackward0>)\n",
      "tensor(1., device='cuda:0', grad_fn=<AddBackward0>)\n",
      "tensor(1., device='cuda:0', grad_fn=<AddBackward0>)\n",
      "tensor(1., device='cuda:0', grad_fn=<AddBackward0>)\n",
      "tensor(1., device='cuda:0', grad_fn=<AddBackward0>)\n",
      "tensor(1., device='cuda:0', grad_fn=<AddBackward0>)\n",
      "tensor(1., device='cuda:0', grad_fn=<AddBackward0>)\n",
      "tensor(1., device='cuda:0', grad_fn=<AddBackward0>)\n",
      "tensor(1., device='cuda:0', grad_fn=<AddBackward0>)\n",
      "tensor(1., device='cuda:0', grad_fn=<AddBackward0>)\n",
      "tensor(1., device='cuda:0', grad_fn=<AddBackward0>)\n",
      "tensor(1., device='cuda:0', grad_fn=<AddBackward0>)\n",
      "tensor(1., device='cuda:0', grad_fn=<AddBackward0>)\n",
      "tensor(1., device='cuda:0', grad_fn=<AddBackward0>)\n",
      "tensor(1., device='cuda:0', grad_fn=<AddBackward0>)\n",
      "tensor(1., device='cuda:0', grad_fn=<AddBackward0>)\n",
      "tensor(1., device='cuda:0', grad_fn=<AddBackward0>)\n",
      "tensor(1., device='cuda:0', grad_fn=<AddBackward0>)\n",
      "tensor(1., device='cuda:0', grad_fn=<AddBackward0>)\n",
      "tensor(1., device='cuda:0', grad_fn=<AddBackward0>)\n",
      "tensor(1., device='cuda:0', grad_fn=<AddBackward0>)\n",
      "tensor(1., device='cuda:0', grad_fn=<AddBackward0>)\n",
      "tensor(1., device='cuda:0', grad_fn=<AddBackward0>)\n",
      "tensor(1., device='cuda:0', grad_fn=<AddBackward0>)\n",
      "tensor(1., device='cuda:0', grad_fn=<AddBackward0>)\n",
      "tensor(1., device='cuda:0', grad_fn=<AddBackward0>)\n",
      "tensor(1., device='cuda:0', grad_fn=<AddBackward0>)\n",
      "tensor(1., device='cuda:0', grad_fn=<AddBackward0>)\n",
      "tensor(1., device='cuda:0', grad_fn=<AddBackward0>)\n",
      "tensor(1., device='cuda:0', grad_fn=<AddBackward0>)\n",
      "tensor(1., device='cuda:0', grad_fn=<AddBackward0>)\n",
      "tensor(1., device='cuda:0', grad_fn=<AddBackward0>)\n",
      "tensor(1., device='cuda:0', grad_fn=<AddBackward0>)\n",
      "tensor(1., device='cuda:0', grad_fn=<AddBackward0>)\n",
      "tensor(1., device='cuda:0', grad_fn=<AddBackward0>)\n",
      "tensor(1., device='cuda:0', grad_fn=<AddBackward0>)\n",
      "tensor(1., device='cuda:0', grad_fn=<AddBackward0>)\n",
      "tensor(1., device='cuda:0', grad_fn=<AddBackward0>)\n",
      "tensor(1., device='cuda:0', grad_fn=<AddBackward0>)\n",
      "tensor(1., device='cuda:0', grad_fn=<AddBackward0>)\n",
      "tensor(1., device='cuda:0', grad_fn=<AddBackward0>)\n",
      "tensor(1., device='cuda:0', grad_fn=<AddBackward0>)\n",
      "tensor(1., device='cuda:0', grad_fn=<AddBackward0>)\n",
      "tensor(1., device='cuda:0', grad_fn=<AddBackward0>)\n",
      "tensor(1., device='cuda:0', grad_fn=<AddBackward0>)\n",
      "tensor(1., device='cuda:0', grad_fn=<AddBackward0>)\n",
      "tensor(1., device='cuda:0', grad_fn=<AddBackward0>)\n",
      "tensor(1., device='cuda:0', grad_fn=<AddBackward0>)\n",
      "tensor(1., device='cuda:0', grad_fn=<AddBackward0>)\n",
      "tensor(1., device='cuda:0', grad_fn=<AddBackward0>)\n",
      "tensor(1., device='cuda:0', grad_fn=<AddBackward0>)\n",
      "tensor(1., device='cuda:0', grad_fn=<AddBackward0>)\n",
      "tensor(1., device='cuda:0', grad_fn=<AddBackward0>)\n",
      "tensor(1., device='cuda:0', grad_fn=<AddBackward0>)\n",
      "tensor(1., device='cuda:0', grad_fn=<AddBackward0>)\n",
      "tensor(1., device='cuda:0', grad_fn=<AddBackward0>)\n",
      "tensor(1., device='cuda:0', grad_fn=<AddBackward0>)\n",
      "tensor(1., device='cuda:0', grad_fn=<AddBackward0>)\n",
      "tensor(1., device='cuda:0', grad_fn=<AddBackward0>)\n",
      "tensor(1., device='cuda:0', grad_fn=<AddBackward0>)\n",
      "tensor(1., device='cuda:0', grad_fn=<AddBackward0>)\n",
      "tensor(1., device='cuda:0', grad_fn=<AddBackward0>)\n",
      "tensor(1., device='cuda:0', grad_fn=<AddBackward0>)\n",
      "tensor(1., device='cuda:0', grad_fn=<AddBackward0>)\n",
      "tensor(1., device='cuda:0', grad_fn=<AddBackward0>)\n",
      "tensor(1., device='cuda:0', grad_fn=<AddBackward0>)\n",
      "tensor(1., device='cuda:0', grad_fn=<AddBackward0>)\n",
      "tensor(1., device='cuda:0', grad_fn=<AddBackward0>)\n",
      "tensor(1., device='cuda:0', grad_fn=<AddBackward0>)\n",
      "tensor(1., device='cuda:0', grad_fn=<AddBackward0>)\n",
      "tensor(1., device='cuda:0', grad_fn=<AddBackward0>)\n",
      "tensor(1., device='cuda:0', grad_fn=<AddBackward0>)\n",
      "tensor(1., device='cuda:0', grad_fn=<AddBackward0>)\n",
      "tensor(1., device='cuda:0', grad_fn=<AddBackward0>)\n",
      "tensor(1., device='cuda:0', grad_fn=<AddBackward0>)\n",
      "tensor(1., device='cuda:0', grad_fn=<AddBackward0>)\n",
      "tensor(1., device='cuda:0', grad_fn=<AddBackward0>)\n",
      "tensor(1., device='cuda:0', grad_fn=<AddBackward0>)\n",
      "tensor(1., device='cuda:0', grad_fn=<AddBackward0>)\n",
      "tensor(1., device='cuda:0', grad_fn=<AddBackward0>)\n",
      "tensor(1., device='cuda:0', grad_fn=<AddBackward0>)\n",
      "tensor(1., device='cuda:0', grad_fn=<AddBackward0>)\n",
      "tensor(1., device='cuda:0', grad_fn=<AddBackward0>)\n",
      "tensor(1., device='cuda:0', grad_fn=<AddBackward0>)\n",
      "tensor(1., device='cuda:0', grad_fn=<AddBackward0>)\n",
      "tensor(1., device='cuda:0', grad_fn=<AddBackward0>)\n",
      "tensor(1., device='cuda:0', grad_fn=<AddBackward0>)\n",
      "tensor(1., device='cuda:0', grad_fn=<AddBackward0>)\n",
      "tensor(1., device='cuda:0', grad_fn=<AddBackward0>)\n",
      "tensor(1., device='cuda:0', grad_fn=<AddBackward0>)\n",
      "tensor(1., device='cuda:0', grad_fn=<AddBackward0>)\n",
      "tensor(1., device='cuda:0', grad_fn=<AddBackward0>)\n",
      "tensor(1., device='cuda:0', grad_fn=<AddBackward0>)\n",
      "tensor(1., device='cuda:0', grad_fn=<AddBackward0>)\n",
      "tensor(1., device='cuda:0', grad_fn=<AddBackward0>)\n",
      "tensor(1., device='cuda:0', grad_fn=<AddBackward0>)\n",
      "tensor(1., device='cuda:0', grad_fn=<AddBackward0>)\n",
      "tensor(1., device='cuda:0', grad_fn=<AddBackward0>)\n",
      "tensor(1., device='cuda:0', grad_fn=<AddBackward0>)\n",
      "tensor(1., device='cuda:0', grad_fn=<AddBackward0>)\n",
      "tensor(1., device='cuda:0', grad_fn=<AddBackward0>)\n",
      "tensor(1., device='cuda:0', grad_fn=<AddBackward0>)\n",
      "tensor(1., device='cuda:0', grad_fn=<AddBackward0>)\n",
      "tensor(1., device='cuda:0', grad_fn=<AddBackward0>)\n",
      "tensor(1., device='cuda:0', grad_fn=<AddBackward0>)\n",
      "tensor(1., device='cuda:0', grad_fn=<AddBackward0>)\n",
      "tensor(1., device='cuda:0', grad_fn=<AddBackward0>)\n",
      "tensor(1., device='cuda:0', grad_fn=<AddBackward0>)\n",
      "tensor(1., device='cuda:0', grad_fn=<AddBackward0>)\n",
      "tensor(1., device='cuda:0', grad_fn=<AddBackward0>)\n",
      "tensor(1., device='cuda:0', grad_fn=<AddBackward0>)\n",
      "tensor(1., device='cuda:0', grad_fn=<AddBackward0>)\n",
      "tensor(1., device='cuda:0', grad_fn=<AddBackward0>)\n",
      "tensor(1., device='cuda:0', grad_fn=<AddBackward0>)\n",
      "tensor(1., device='cuda:0', grad_fn=<AddBackward0>)\n",
      "tensor(1., device='cuda:0', grad_fn=<AddBackward0>)\n",
      "tensor(1., device='cuda:0', grad_fn=<AddBackward0>)\n",
      "tensor(1., device='cuda:0', grad_fn=<AddBackward0>)\n",
      "tensor(1., device='cuda:0', grad_fn=<AddBackward0>)\n",
      "tensor(1., device='cuda:0', grad_fn=<AddBackward0>)\n",
      "tensor(1., device='cuda:0', grad_fn=<AddBackward0>)\n",
      "tensor(1., device='cuda:0', grad_fn=<AddBackward0>)\n",
      "tensor(1., device='cuda:0', grad_fn=<AddBackward0>)\n",
      "tensor(1., device='cuda:0', grad_fn=<AddBackward0>)\n",
      "tensor(1., device='cuda:0', grad_fn=<AddBackward0>)\n",
      "tensor(1., device='cuda:0', grad_fn=<AddBackward0>)\n",
      "tensor(1., device='cuda:0', grad_fn=<AddBackward0>)\n",
      "tensor(1., device='cuda:0', grad_fn=<AddBackward0>)\n",
      "tensor(1., device='cuda:0', grad_fn=<AddBackward0>)\n",
      "tensor(1., device='cuda:0', grad_fn=<AddBackward0>)\n",
      "tensor(1., device='cuda:0', grad_fn=<AddBackward0>)\n",
      "tensor(1., device='cuda:0', grad_fn=<AddBackward0>)\n",
      "tensor(1., device='cuda:0', grad_fn=<AddBackward0>)\n",
      "tensor(1., device='cuda:0', grad_fn=<AddBackward0>)\n",
      "tensor(1., device='cuda:0', grad_fn=<AddBackward0>)\n",
      "tensor(1., device='cuda:0', grad_fn=<AddBackward0>)\n",
      "tensor(1., device='cuda:0', grad_fn=<AddBackward0>)\n",
      "tensor(1., device='cuda:0', grad_fn=<AddBackward0>)\n",
      "tensor(1., device='cuda:0', grad_fn=<AddBackward0>)\n",
      "tensor(1., device='cuda:0', grad_fn=<AddBackward0>)\n",
      "tensor(1., device='cuda:0', grad_fn=<AddBackward0>)\n",
      "tensor(1., device='cuda:0', grad_fn=<AddBackward0>)\n",
      "tensor(1., device='cuda:0', grad_fn=<AddBackward0>)\n",
      "tensor(1., device='cuda:0', grad_fn=<AddBackward0>)\n",
      "tensor(1., device='cuda:0', grad_fn=<AddBackward0>)\n",
      "tensor(1., device='cuda:0', grad_fn=<AddBackward0>)\n",
      "tensor(1., device='cuda:0', grad_fn=<AddBackward0>)\n",
      "tensor(1., device='cuda:0', grad_fn=<AddBackward0>)\n",
      "tensor(1., device='cuda:0', grad_fn=<AddBackward0>)\n",
      "tensor(1., device='cuda:0', grad_fn=<AddBackward0>)\n",
      "tensor(1., device='cuda:0', grad_fn=<AddBackward0>)\n",
      "tensor(1., device='cuda:0', grad_fn=<AddBackward0>)\n",
      "tensor(1., device='cuda:0', grad_fn=<AddBackward0>)\n",
      "tensor(1., device='cuda:0', grad_fn=<AddBackward0>)\n",
      "tensor(1., device='cuda:0', grad_fn=<AddBackward0>)\n",
      "tensor(1., device='cuda:0', grad_fn=<AddBackward0>)\n",
      "tensor(1., device='cuda:0', grad_fn=<AddBackward0>)\n",
      "tensor(1., device='cuda:0', grad_fn=<AddBackward0>)\n",
      "tensor(1., device='cuda:0', grad_fn=<AddBackward0>)\n",
      "tensor(1., device='cuda:0', grad_fn=<AddBackward0>)\n",
      "tensor(1., device='cuda:0', grad_fn=<AddBackward0>)\n",
      "tensor(1., device='cuda:0', grad_fn=<AddBackward0>)\n",
      "tensor(1., device='cuda:0', grad_fn=<AddBackward0>)\n",
      "tensor(1., device='cuda:0', grad_fn=<AddBackward0>)\n",
      "tensor(1., device='cuda:0', grad_fn=<AddBackward0>)\n",
      "tensor(1., device='cuda:0', grad_fn=<AddBackward0>)\n",
      "tensor(1., device='cuda:0', grad_fn=<AddBackward0>)\n",
      "tensor(1., device='cuda:0', grad_fn=<AddBackward0>)\n",
      "tensor(1., device='cuda:0', grad_fn=<AddBackward0>)\n",
      "tensor(1., device='cuda:0', grad_fn=<AddBackward0>)\n",
      "tensor(1., device='cuda:0', grad_fn=<AddBackward0>)\n",
      "tensor(1., device='cuda:0', grad_fn=<AddBackward0>)\n",
      "tensor(1., device='cuda:0', grad_fn=<AddBackward0>)\n",
      "tensor(1., device='cuda:0', grad_fn=<AddBackward0>)\n",
      "tensor(1., device='cuda:0', grad_fn=<AddBackward0>)\n",
      "tensor(1., device='cuda:0', grad_fn=<AddBackward0>)\n",
      "tensor(1., device='cuda:0', grad_fn=<AddBackward0>)\n",
      "tensor(1., device='cuda:0', grad_fn=<AddBackward0>)\n",
      "tensor(1., device='cuda:0', grad_fn=<AddBackward0>)\n",
      "tensor(1., device='cuda:0', grad_fn=<AddBackward0>)\n",
      "tensor(1., device='cuda:0', grad_fn=<AddBackward0>)\n",
      "tensor(1., device='cuda:0', grad_fn=<AddBackward0>)\n",
      "tensor(1., device='cuda:0', grad_fn=<AddBackward0>)\n",
      "tensor(1., device='cuda:0', grad_fn=<AddBackward0>)\n",
      "tensor(1., device='cuda:0', grad_fn=<AddBackward0>)\n",
      "tensor(1., device='cuda:0', grad_fn=<AddBackward0>)\n",
      "tensor(1., device='cuda:0', grad_fn=<AddBackward0>)\n",
      "tensor(1., device='cuda:0', grad_fn=<AddBackward0>)\n",
      "tensor(1., device='cuda:0', grad_fn=<AddBackward0>)\n",
      "tensor(1., device='cuda:0', grad_fn=<AddBackward0>)\n",
      "tensor(1., device='cuda:0', grad_fn=<AddBackward0>)\n",
      "tensor(1., device='cuda:0', grad_fn=<AddBackward0>)\n",
      "tensor(1., device='cuda:0', grad_fn=<AddBackward0>)\n",
      "tensor(1., device='cuda:0', grad_fn=<AddBackward0>)\n",
      "tensor(1., device='cuda:0', grad_fn=<AddBackward0>)\n",
      "tensor(1., device='cuda:0', grad_fn=<AddBackward0>)\n",
      "tensor(1., device='cuda:0', grad_fn=<AddBackward0>)\n",
      "tensor(1., device='cuda:0', grad_fn=<AddBackward0>)\n",
      "tensor(1., device='cuda:0', grad_fn=<AddBackward0>)\n",
      "tensor(1., device='cuda:0', grad_fn=<AddBackward0>)\n",
      "tensor(1., device='cuda:0', grad_fn=<AddBackward0>)\n",
      "tensor(1., device='cuda:0', grad_fn=<AddBackward0>)\n",
      "tensor(1., device='cuda:0', grad_fn=<AddBackward0>)\n",
      "tensor(1., device='cuda:0', grad_fn=<AddBackward0>)\n",
      "tensor(1., device='cuda:0', grad_fn=<AddBackward0>)\n",
      "tensor(1., device='cuda:0', grad_fn=<AddBackward0>)\n",
      "tensor(1., device='cuda:0', grad_fn=<AddBackward0>)\n",
      "tensor(1., device='cuda:0', grad_fn=<AddBackward0>)\n",
      "tensor(1., device='cuda:0', grad_fn=<AddBackward0>)\n",
      "tensor(1., device='cuda:0', grad_fn=<AddBackward0>)\n",
      "tensor(1., device='cuda:0', grad_fn=<AddBackward0>)\n",
      "tensor(1., device='cuda:0', grad_fn=<AddBackward0>)\n",
      "tensor(1., device='cuda:0', grad_fn=<AddBackward0>)\n",
      "tensor(1., device='cuda:0', grad_fn=<AddBackward0>)\n",
      "tensor(1., device='cuda:0', grad_fn=<AddBackward0>)\n",
      "tensor(1., device='cuda:0', grad_fn=<AddBackward0>)\n",
      "tensor(1., device='cuda:0', grad_fn=<AddBackward0>)\n",
      "tensor(1., device='cuda:0', grad_fn=<AddBackward0>)\n",
      "tensor(1., device='cuda:0', grad_fn=<AddBackward0>)\n",
      "tensor(1., device='cuda:0', grad_fn=<AddBackward0>)\n",
      "tensor(1., device='cuda:0', grad_fn=<AddBackward0>)\n",
      "tensor(1., device='cuda:0', grad_fn=<AddBackward0>)\n",
      "tensor(1., device='cuda:0', grad_fn=<AddBackward0>)\n",
      "tensor(1., device='cuda:0', grad_fn=<AddBackward0>)\n",
      "tensor(1., device='cuda:0', grad_fn=<AddBackward0>)\n",
      "tensor(1., device='cuda:0', grad_fn=<AddBackward0>)\n",
      "tensor(1., device='cuda:0', grad_fn=<AddBackward0>)\n"
     ]
    },
    {
     "data": {
      "image/png": "[encoded data removed]",
      "text/plain": [
       "<Figure size 1000x600 with 1 Axes>"
      ]
     },
     "metadata": {},
     "output_type": "display_data"
    }
   ],
   "source": [
    "states = []\n",
    "batch = 3\n",
    "state_tensor = X[:,0,:]\n",
    "batch_size = 15\n",
    "transition_tensor = torch.zeros(batch_size, n_features, n_features).to(\"cuda\")\n",
    "for step_state in range(300):\n",
    "    state_tensor, transition_tensor = model.step_coil(state_tensor, transition_tensor)\n",
    "    states.append(state_tensor[batch,:])\n",
    "    print(sum(state_tensor[batch,:]))\n",
    "    \n",
    "\n",
    "# Your data\n",
    "data = [row.to('cpu').detach().numpy() for row in states]\n",
    "# Transpose the data to get 5 traces\n",
    "traces = list(zip(*data))\n",
    "\n",
    "# Plotting\n",
    "plt.figure(figsize=(10, 6))\n",
    "for i, trace in enumerate(traces):\n",
    "    plt.plot(trace, label=f'Trace {i+1}')\n",
    "\n",
    "plt.xlabel('Timestep')\n",
    "plt.ylabel('Value')\n",
    "plt.legend()\n",
    "plt.show()"
   ]
  }
 ],
 "metadata": {
  "kernelspec": {
   "display_name": "coilspy-1sgZ1XBf-py3.12",
   "language": "python",
   "name": "python3"
  },
  "language_info": {
   "codemirror_mode": {
    "name": "ipython",
    "version": 3
   },
   "file_extension": ".py",
   "mimetype": "text/x-python",
   "name": "python",
   "nbconvert_exporter": "python",
   "pygments_lexer": "ipython3",
   "version": "3.12.2"
  }
 },
 "nbformat": 4,
 "nbformat_minor": 2
}
