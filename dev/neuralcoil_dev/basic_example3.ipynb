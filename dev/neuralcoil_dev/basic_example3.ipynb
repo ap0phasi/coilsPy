{
 "cells": [
  {
   "cell_type": "code",
   "execution_count": 76,
   "metadata": {},
   "outputs": [],
   "source": [
    "import torch\n",
    "import torch.nn as nn\n",
    "\n",
    "class CustomLayer(nn.Module):\n",
    "    def __init__(self, n_features):\n",
    "        super(CustomLayer, self).__init__()\n",
    "        self.n_features = n_features\n",
    "        # Initialize the interaction tensor as a learnable parameter\n",
    "        self.interaction_tensor = nn.Parameter(torch.randn(n_features, n_features, n_features))\n",
    "\n",
    "    def forward(self, x):\n",
    "        # x is expected to be of size [batch, length, n_features]\n",
    "        batch, length, n_features = x.size()\n",
    "\n",
    "        # Process each [n_features] vector across batch and length\n",
    "        output = x.new_empty(batch, length, n_features)\n",
    "        for b in range(batch):\n",
    "            for l in range(length):\n",
    "                state_tensor = x[b, l, :]  # Shape: [n_features]\n",
    "                # Step 1: Multiply state tensor by interaction tensor to get transition tensor\n",
    "                # We manually implement the multiplication to match your operation\n",
    "                transition_tensor = torch.einsum('i,ijk->jk', state_tensor, self.interaction_tensor)\n",
    "                # Step 2: Multiply the transition tensor by the state tensor\n",
    "                # Resulting shape: [n_features]\n",
    "                output[b, l, :] = torch.matmul(transition_tensor, state_tensor)\n",
    "\n",
    "        return output\n"
   ]
  },
  {
   "cell_type": "code",
   "execution_count": 77,
   "metadata": {},
   "outputs": [],
   "source": [
    "import torch\n",
    "import torch.nn as nn\n",
    "\n",
    "class CustomLayerVectorized(nn.Module):\n",
    "    def __init__(self, n_features):\n",
    "        super(CustomLayerVectorized, self).__init__()\n",
    "        self.n_features = n_features\n",
    "        # Initialize the interaction tensor as a learnable parameter\n",
    "        self.interaction_tensor = nn.Parameter(torch.randn(n_features, n_features, n_features))\n",
    "\n",
    "    def forward(self, x):\n",
    "        # x is expected to be of size [batch, length, n_features]\n",
    "        batch, length, n_features = x.size()\n",
    "\n",
    "        # Pre-allocate output tensor\n",
    "        output = x.new_empty(batch, length, n_features)\n",
    "\n",
    "        # Loop over length, but vectorize over the batch\n",
    "        for l in range(length):\n",
    "            # Extract all vectors at position l across all batches\n",
    "            state_tensor = x[:, l, :]  # Shape: [batch, n_features]\n",
    "            \n",
    "            # Vectorized operation for all batches\n",
    "            # Step 1: Calculate the transition tensor\n",
    "            # Since we cannot directly use einsum for batched operation in this specific scenario,\n",
    "            # we manually broadcast and multiply to achieve the intended result.\n",
    "            # This involves expanding dimensions to enable broadcasting.\n",
    "            state_tensor_expanded = state_tensor.unsqueeze(1).expand(-1, n_features, -1)  # Shape: [batch, n_features, n_features]\n",
    "            interaction_tensor_expanded = self.interaction_tensor.unsqueeze(0).expand(batch, -1, -1, -1)  # Shape: [batch, n_features, n_features, n_features]\n",
    "            # Multiply and sum over the last dimension to get the transition tensor\n",
    "            transition_tensor = torch.einsum('bik,bijk->bij', state_tensor_expanded, interaction_tensor_expanded)\n",
    "            \n",
    "            # Step 2: Multiply the transition tensor by the state tensor to get the output\n",
    "            output[:, l, :] = torch.einsum('bij,bj->bi', transition_tensor, state_tensor)\n",
    "\n",
    "        return output\n",
    "\n"
   ]
  },
  {
   "cell_type": "code",
   "execution_count": 78,
   "metadata": {},
   "outputs": [],
   "source": [
    "# n_features = 16\n",
    "# batch, length, dim = 2, 64, n_features\n",
    "# x = torch.randn(batch, length, dim)\n",
    "# model = CustomLayerVectorized(\n",
    "#     n_features = n_features\n",
    "# )\n",
    "# y = model(x)\n",
    "\n",
    "# print(x.shape)\n",
    "# assert y.shape == x.shape"
   ]
  },
  {
   "cell_type": "code",
   "execution_count": 79,
   "metadata": {},
   "outputs": [
    {
     "name": "stdout",
     "output_type": "stream",
     "text": [
      "tensor([[0.0126, 0.2313, 0.2205, 0.1439, 0.1321, 0.2596],\n",
      "        [0.3598, 0.0579, 0.0554, 0.2909, 0.1403, 0.0958],\n",
      "        [0.0639, 0.1804, 0.2747, 0.2241, 0.1007, 0.1562],\n",
      "        [0.0266, 0.0202, 0.4090, 0.1426, 0.0992, 0.3023],\n",
      "        [0.2284, 0.0236, 0.1003, 0.0940, 0.2720, 0.2816]])\n",
      "tensor([1., 1., 1., 1., 1.])\n"
     ]
    }
   ],
   "source": [
    "import torch\n",
    "\n",
    "def torch_randnorm(size, dim=0):\n",
    "    # Generate a random tensor\n",
    "    rand_tensor = torch.rand(size)\n",
    "    \n",
    "    # Normalize along the specified dimension\n",
    "    sum_along_dim = torch.sum(rand_tensor, dim=dim, keepdim=True)\n",
    "    normalized_tensor = rand_tensor / sum_along_dim\n",
    "    \n",
    "    return normalized_tensor\n",
    "\n",
    "# Example usage\n",
    "normalized_tensor = torch_randnorm([5,6], dim=1)\n",
    "print(normalized_tensor)\n",
    "print(normalized_tensor.sum(dim=1))"
   ]
  },
  {
   "cell_type": "code",
   "execution_count": 80,
   "metadata": {},
   "outputs": [],
   "source": [
    "class InteractionModule(nn.Module):\n",
    "    def __init__(self, n_features):\n",
    "        super(InteractionModule, self).__init__()\n",
    "        self.n_features = n_features\n",
    "        # Initialize a set of interaction tensors, one for the state tensor and one for each column of the transition tensor\n",
    "        self.interaction_tensors = nn.ParameterList([nn.Parameter(torch_randnorm([n_features, n_features, n_features], dim = 1)) for _ in range(n_features + 1)])\n",
    "\n",
    "    def forward(self, state_tensor, previous_transition_tensor):\n",
    "        # Get batch size\n",
    "        batch = state_tensor.shape[0]\n",
    "        # Assuming previous_transition_tensors is a list of transition tensors from the previous step\n",
    "        candidates = []\n",
    "        for i in range(self.n_features + 1):\n",
    "            if i == 0:  # Interaction with the state tensor\n",
    "                current_tensor = state_tensor\n",
    "            else:  # Interaction with columns of the previous transition tensor\n",
    "                current_tensor = previous_transition_tensor[:, :, i - 1]\n",
    "\n",
    "            interaction_tensor = self.interaction_tensors[i]\n",
    "            current_tensor_expanded = current_tensor.unsqueeze(1).expand(-1, self.n_features, -1)  # Shape: [batch, n_features, n_features]\n",
    "            interaction_tensor_expanded = interaction_tensor.unsqueeze(0).expand(batch, -1, -1, -1)  # Shape: [batch, n_features, n_features, n_features]\n",
    "            # Multiply and sum over the last dimension to get the transition tensor\n",
    "            candidate = torch.einsum('bik,bijk->bij', current_tensor_expanded, interaction_tensor_expanded)\n",
    "            \n",
    "            candidates.append(candidate)\n",
    "            \n",
    "        candidates_tensor = torch.stack(candidates, dim = -1)\n",
    "        return candidates_tensor\n"
   ]
  },
  {
   "cell_type": "code",
   "execution_count": 81,
   "metadata": {},
   "outputs": [
    {
     "name": "stdout",
     "output_type": "stream",
     "text": [
      "torch.Size([10, 5, 5])\n"
     ]
    }
   ],
   "source": [
    "import torch.nn.functional as F\n",
    "\n",
    "class SelectorModule(nn.Module):\n",
    "    def __init__(self, num_slices):\n",
    "        super(SelectorModule, self).__init__()\n",
    "        # A simple linear layer to compute importance scores for each slice\n",
    "        self.importance = nn.Linear(num_slices, num_slices)\n",
    "\n",
    "    def forward(self, x):\n",
    "        # Assuming x is of shape [batch_size, height, width, num_slices]\n",
    "        batch_size, height, width, num_slices = x.shape\n",
    "\n",
    "        # Flatten the spatial dimensions and compute importance scores\n",
    "        x_flat = x.view(batch_size, -1, num_slices)  # New shape: [batch_size, height*width, num_slices]\n",
    "        scores = self.importance(x_flat)  # Computes a score for each slice\n",
    "        scores = scores.view(batch_size, height, width, num_slices)  # Reshape scores back\n",
    "\n",
    "        # Apply softmax to get a distribution over slices\n",
    "        weights = F.softmax(scores, dim=-1)\n",
    "\n",
    "        # Use the weights to get a weighted sum of the slices, effectively selecting slices based on importance\n",
    "        # This step aggregates the slices into a single output per position\n",
    "        selected = torch.einsum('bhwn,bhwi->bhw', weights, x)\n",
    "        \n",
    "        # OVERWRITE LATER ####\n",
    "        \n",
    "        selected = x[:,:,:,0]\n",
    "\n",
    "        return selected\n",
    "\n",
    "# Example usage\n",
    "batch_size = 10\n",
    "tensor = torch.rand(batch_size, 5, 5, 6)  # Example tensor\n",
    "model = SelectorModule(num_slices=6)\n",
    "\n",
    "result = model(tensor)\n",
    "print(result.shape)  # Should print torch.Size([10, 5, 5]), indicating the selection/aggregation step was performed\n"
   ]
  },
  {
   "cell_type": "code",
   "execution_count": 82,
   "metadata": {},
   "outputs": [],
   "source": [
    "class CustomLayerExtended(nn.Module):\n",
    "    def __init__(self, n_features):\n",
    "        super(CustomLayerExtended, self).__init__()\n",
    "        self.n_features = n_features\n",
    "        self.interaction_module = InteractionModule(n_features)\n",
    "        self.selector_module = SelectorModule(n_features + 1)\n",
    "\n",
    "    def forward(self, x):\n",
    "        batch, length, n_features = x.size()\n",
    "        output = x.new_empty(batch, length, n_features)\n",
    "\n",
    "        # Initialize previous transition tensors (for the first step)\n",
    "        # Assuming it's a list of zero tensors for simplicity\n",
    "        previous_transition_tensor = torch.zeros(batch, n_features, n_features)\n",
    "\n",
    "        for l in range(length):\n",
    "            state_tensor = x[:, l, :]\n",
    "            # Generate candidates\n",
    "            candidates = self.interaction_module(state_tensor, previous_transition_tensor)\n",
    "            # Select one candidate\n",
    "            selected_transition_tensor = self.selector_module(candidates)\n",
    "            # Update the previous_transition_tensors for the next iteration\n",
    "            previous_transition_tensor = selected_transition_tensor\n",
    "            # Compute output for this step\n",
    "            output[:, l, :] = torch.matmul(selected_transition_tensor, state_tensor.unsqueeze(-1)).squeeze(-1)\n",
    "\n",
    "        return output, selected_transition_tensor\n"
   ]
  },
  {
   "cell_type": "code",
   "execution_count": 83,
   "metadata": {},
   "outputs": [
    {
     "name": "stdout",
     "output_type": "stream",
     "text": [
      "torch.Size([13, 64, 16])\n"
     ]
    }
   ],
   "source": [
    "n_features = 16\n",
    "batch, length, dim = 13, 64, n_features\n",
    "x = torch.randn(batch, length, dim)\n",
    "model = CustomLayerExtended(\n",
    "    n_features = n_features\n",
    ")\n",
    "y = model(x)\n",
    "\n",
    "print(y[0].shape)\n",
    "assert y[0].shape == x.shape"
   ]
  },
  {
   "cell_type": "code",
   "execution_count": 84,
   "metadata": {},
   "outputs": [
    {
     "name": "stdout",
     "output_type": "stream",
     "text": [
      "(tensor([[[ 5.7597e-02, -3.3948e-01, -4.9011e-01,  ...,  1.1526e-01,\n",
      "          -6.7212e-02,  5.9072e-01],\n",
      "         [ 2.8287e+00,  4.0229e+00,  1.8760e+00,  ...,  3.7994e+00,\n",
      "           6.6807e+00,  4.7809e+00],\n",
      "         [ 2.7423e-01,  6.8497e-01,  4.2922e-01,  ...,  4.4102e-01,\n",
      "          -4.3092e-01, -7.2307e-01],\n",
      "         ...,\n",
      "         [-4.6945e-01,  2.3068e-01, -2.9047e-01,  ...,  2.3138e-01,\n",
      "           1.0150e-01,  3.8998e-01],\n",
      "         [-1.0301e+00, -2.6844e-01,  1.2680e+00,  ...,  4.1231e-01,\n",
      "           4.0855e-01,  1.8586e+00],\n",
      "         [ 3.9995e-01, -1.5810e+00,  7.9914e-01,  ...,  6.6662e-01,\n",
      "          -1.2737e+00,  9.3899e-01]],\n",
      "\n",
      "        [[-2.0608e-01,  5.3741e-01,  5.6124e-01,  ...,  9.2791e-01,\n",
      "           2.8783e-01,  1.6467e-01],\n",
      "         [ 8.5806e-01,  9.2605e-01,  1.3993e+00,  ...,  9.8130e-01,\n",
      "           1.1706e+00,  9.3472e-01],\n",
      "         [ 1.0812e+00,  4.9134e-01,  4.7518e-02,  ...,  4.8929e-01,\n",
      "           8.5810e-01,  1.1817e+00],\n",
      "         ...,\n",
      "         [ 7.6414e-01,  9.6514e-01, -5.3368e-01,  ...,  1.0714e+00,\n",
      "           1.9994e-01, -2.9721e-01],\n",
      "         [ 5.8568e-02,  8.7509e-01,  2.3009e-01,  ...,  1.4534e+00,\n",
      "           1.7265e+00,  1.2463e+00],\n",
      "         [ 1.3722e+00,  1.4653e+00, -2.5269e-02,  ...,  5.7050e-01,\n",
      "           9.6068e-01,  1.0264e+00]],\n",
      "\n",
      "        [[-6.7118e-01,  1.0575e+00,  3.8317e-01,  ...,  4.8522e-01,\n",
      "           3.1909e-01, -7.3214e-01],\n",
      "         [-5.7287e-03,  1.3011e+00,  2.2220e+00,  ...,  2.7033e+00,\n",
      "           2.6162e+00,  2.1149e+00],\n",
      "         [ 1.5004e+00,  1.9817e+00,  1.8178e+00,  ...,  9.9480e-01,\n",
      "           1.9511e+00,  1.8612e+00],\n",
      "         ...,\n",
      "         [ 1.3876e+00,  1.7863e+00,  2.1296e+00,  ...,  1.2522e+00,\n",
      "           2.0129e+00,  3.2297e+00],\n",
      "         [ 1.5066e+00,  2.2263e+00,  2.5559e+00,  ..., -1.0269e-01,\n",
      "           1.1461e+00,  1.9913e+00],\n",
      "         [-6.3864e-01,  1.8415e-01, -1.6233e+00,  ..., -1.1692e+00,\n",
      "           1.6522e+00, -6.7420e-01]],\n",
      "\n",
      "        ...,\n",
      "\n",
      "        [[-6.7380e-01, -5.1497e-02,  7.6586e-01,  ...,  1.3985e-01,\n",
      "           7.8113e-01,  7.1862e-02],\n",
      "         [ 1.3647e-01, -4.2955e-02, -1.3519e-01,  ..., -7.9003e-01,\n",
      "           1.0026e+00,  1.7268e+00],\n",
      "         [ 8.6802e-01,  1.2607e-01, -5.2290e-01,  ...,  8.7937e-01,\n",
      "           1.4251e+00,  1.0838e+00],\n",
      "         ...,\n",
      "         [ 1.0344e+00,  4.5804e-01,  6.2176e-01,  ...,  7.9663e-01,\n",
      "           7.3342e-01,  7.8878e-01],\n",
      "         [ 5.6575e-01,  1.2089e+00,  6.4956e-01,  ...,  3.1325e-01,\n",
      "           1.5042e+00,  3.9090e-01],\n",
      "         [ 6.8942e+00,  4.6135e+00,  5.1951e+00,  ...,  3.6353e+00,\n",
      "           6.5769e+00,  6.4030e+00]],\n",
      "\n",
      "        [[-3.2111e-01,  2.6545e-01,  6.5591e-01,  ...,  1.1110e-01,\n",
      "          -8.9869e-02,  4.1789e-01],\n",
      "         [ 1.0980e+00,  1.8568e+00,  1.2534e-01,  ...,  6.1749e-01,\n",
      "           7.8828e-01,  1.4013e+00],\n",
      "         [ 2.9714e+00,  1.8003e+00,  2.0107e+00,  ...,  1.6183e+00,\n",
      "           1.1891e+00,  1.3706e+00],\n",
      "         ...,\n",
      "         [ 1.0242e-01,  2.7581e-01,  1.3909e-01,  ...,  6.9348e-01,\n",
      "          -1.4740e-01,  6.8953e-01],\n",
      "         [ 5.1619e-02, -2.9774e-01,  2.4574e-01,  ..., -7.3826e-02,\n",
      "           1.2506e-01,  8.0672e-01],\n",
      "         [-7.7815e-01,  8.1677e-01,  1.0063e+00,  ..., -1.1688e+00,\n",
      "           2.2761e+00,  1.2482e+00]],\n",
      "\n",
      "        [[ 1.4907e+00,  1.5135e+00,  1.1419e+00,  ...,  7.7408e-01,\n",
      "           1.7013e-01,  1.4856e+00],\n",
      "         [ 8.5118e-01,  9.1548e-02, -8.0564e-01,  ...,  1.1468e-02,\n",
      "           5.5833e-01,  8.0629e-01],\n",
      "         [ 5.1930e+00,  4.7863e+00,  4.9944e+00,  ...,  4.6430e+00,\n",
      "           5.8219e+00,  4.6183e+00],\n",
      "         ...,\n",
      "         [ 7.4476e-02,  9.7345e-02,  4.8605e-02,  ...,  5.6186e-02,\n",
      "          -4.8897e-03,  2.4812e-01],\n",
      "         [ 1.1232e+00,  1.1199e+00,  1.1485e+00,  ...,  1.1486e+00,\n",
      "           1.3636e+00,  2.7910e-01],\n",
      "         [-7.5291e-01,  1.6520e-01,  6.1338e-01,  ...,  1.7000e-01,\n",
      "          -1.4807e+00,  2.7929e-02]]], grad_fn=<CopySlices>), tensor([[[-0.0757, -0.0263, -0.2527,  ...,  0.0506,  0.0302,  0.0832],\n",
      "         [-0.1574,  0.0556,  0.1891,  ...,  0.0112, -0.2881, -0.0657],\n",
      "         [ 0.0516, -0.1114,  0.1748,  ..., -0.0431,  0.0627, -0.0042],\n",
      "         ...,\n",
      "         [-0.1895, -0.0899,  0.0162,  ...,  0.2125,  0.2244,  0.0743],\n",
      "         [-0.3120,  0.3269,  0.1019,  ..., -0.0679, -0.1259, -0.0936],\n",
      "         [-0.0761, -0.0664,  0.0661,  ..., -0.2050,  0.3796,  0.1475]],\n",
      "\n",
      "        [[-0.0271, -0.2902,  0.0191,  ..., -0.3708, -0.3186, -0.2357],\n",
      "         [-0.2481, -0.2112, -0.0817,  ..., -0.4479,  0.0743, -0.4143],\n",
      "         [-0.1281, -0.4629, -0.2109,  ..., -0.2764, -0.0996, -0.1663],\n",
      "         ...,\n",
      "         [-0.2194, -0.4368, -0.2011,  ..., -0.3054, -0.4226, -0.4973],\n",
      "         [-0.4418, -0.3731, -0.2033,  ..., -0.0264, -0.0327, -0.4442],\n",
      "         [-0.2538, -0.3048, -0.3800,  ..., -0.2575, -0.1875, -0.2411]],\n",
      "\n",
      "        [[-0.1561, -0.0647,  0.0315,  ..., -0.0875,  0.1674,  0.3141],\n",
      "         [ 0.1292, -0.0995,  0.4734,  ..., -0.2477, -0.1374, -0.0571],\n",
      "         [ 0.1325, -0.2022, -0.4028,  ...,  0.0789, -0.1404,  0.5728],\n",
      "         ...,\n",
      "         [ 0.2079,  0.0166, -0.0354,  ...,  0.0761, -0.0756, -0.4873],\n",
      "         [-0.0773, -0.1132,  0.3493,  ...,  0.2497,  0.0128, -0.1516],\n",
      "         [-0.1664,  0.1065, -0.1309,  ..., -0.1744,  0.1060,  0.3113]],\n",
      "\n",
      "        ...,\n",
      "\n",
      "        [[ 0.6161,  0.9377,  0.2562,  ...,  0.6585,  0.3883,  0.5797],\n",
      "         [ 0.3792,  0.5636,  0.3111,  ...,  0.8609,  0.5103,  0.5079],\n",
      "         [ 0.5886,  0.9731,  0.9039,  ...,  0.5780,  0.6466, -0.0318],\n",
      "         ...,\n",
      "         [ 0.6642,  0.8165,  0.5626,  ...,  0.6267,  0.4402,  0.6114],\n",
      "         [ 0.8409,  0.8156,  0.3680,  ...,  0.3006,  0.7529,  0.4292],\n",
      "         [ 0.9203,  0.2499,  0.4564,  ...,  0.5138,  0.6904,  0.5131]],\n",
      "\n",
      "        [[ 0.0951, -0.0219, -0.2418,  ..., -0.2293, -0.4932, -0.2066],\n",
      "         [-0.3225, -0.3728, -0.1956,  ..., -0.3583,  0.0228, -0.1011],\n",
      "         [-0.5437, -0.2891, -0.0086,  ..., -0.3626, -0.0242, -0.5779],\n",
      "         ...,\n",
      "         [-0.1436, -0.2333, -0.2425,  ..., -0.6593, -0.3291,  0.0800],\n",
      "         [-0.0101, -0.3255, -0.5134,  ..., -0.2450,  0.0530,  0.0081],\n",
      "         [-0.1616, -0.2349, -0.1657,  ..., -0.2387, -0.2043, -0.3121]],\n",
      "\n",
      "        [[ 0.1111,  0.1156, -0.0910,  ..., -0.0393,  0.2835,  0.3697],\n",
      "         [ 0.0471, -0.1478,  0.1575,  ...,  0.2255,  0.2091,  0.3558],\n",
      "         [-0.0941,  0.1217,  0.1124,  ..., -0.1169, -0.0069,  0.0096],\n",
      "         ...,\n",
      "         [ 0.0400,  0.1546, -0.1446,  ..., -0.0565,  0.1513,  0.1976],\n",
      "         [ 0.3607, -0.0174,  0.2453,  ..., -0.0595,  0.2272,  0.1301],\n",
      "         [ 0.1183,  0.0118,  0.1146,  ...,  0.0422,  0.3042,  0.1591]]],\n",
      "       grad_fn=<SelectBackward0>))\n"
     ]
    }
   ],
   "source": [
    "print(y)"
   ]
  },
  {
   "cell_type": "markdown",
   "metadata": {},
   "source": [
    "# Example Training"
   ]
  },
  {
   "cell_type": "markdown",
   "metadata": {},
   "source": [
    "## Simple Data Generation"
   ]
  },
  {
   "cell_type": "code",
   "execution_count": 85,
   "metadata": {},
   "outputs": [],
   "source": [
    "import numpy as np\n",
    "import torch\n",
    "\n",
    "def generate_normalized_multivariate_time_series(n_features, total_length, amplitude=1.0):\n",
    "    t = np.linspace(0, 100 * np.pi, total_length)\n",
    "    series = np.zeros((total_length, n_features))\n",
    "    for i in range(n_features):\n",
    "        series[:, i] = amplitude * np.cos(t * (i + 1) / n_features) + 10\n",
    "    \n",
    "    # Normalize such that each timestep's values sum to 1\n",
    "    series_sum = np.sum(series, axis=1, keepdims=True)\n",
    "    series_normalized = series / series_sum\n",
    "    \n",
    "    return series_normalized\n",
    "\n",
    "def segment_time_series(series, length):\n",
    "    # Assuming series is a numpy array of shape [total_length, n_features]\n",
    "    total_length, n_features = series.shape\n",
    "    segments = []\n",
    "    for start in range(0, total_length - length, length):\n",
    "        segment = series[start:start + length]\n",
    "        segments.append(segment)\n",
    "    return np.stack(segments)\n"
   ]
  },
  {
   "cell_type": "code",
   "execution_count": 86,
   "metadata": {},
   "outputs": [],
   "source": [
    "n_features = 4\n",
    "length = 64  # Segment length\n",
    "total_length = 1024  # Arbitrary total length for the generated series\n",
    "\n",
    "# Generate and segment the time series\n",
    "series = generate_normalized_multivariate_time_series(n_features, total_length)\n",
    "series_x = series[:-1,]\n",
    "series_y = series[1:,]\n",
    "\n",
    "segments_x = segment_time_series(series_x, length)\n",
    "segments_y = segment_time_series(series_y, length)\n",
    "\n",
    "# Convert to tensors\n",
    "segments_tensor_x = torch.tensor(segments_x, dtype=torch.float)\n",
    "segments_tensor_y = torch.tensor(segments_y, dtype=torch.float)\n",
    "\n",
    "# Prepare inputs and targets\n",
    "X = segments_tensor_x\n",
    "# Shift segments to the right by one timestep to create the targets\n",
    "Y =  segments_tensor_y\n"
   ]
  },
  {
   "cell_type": "code",
   "execution_count": 87,
   "metadata": {},
   "outputs": [
    {
     "name": "stdout",
     "output_type": "stream",
     "text": [
      "Epoch [10/100], Loss: 0.0002072281058644876\n",
      "Epoch [20/100], Loss: 0.0001447927934350446\n",
      "Epoch [30/100], Loss: 9.781982225831598e-05\n",
      "Epoch [40/100], Loss: 6.463252793764696e-05\n",
      "Epoch [50/100], Loss: 4.3022741010645404e-05\n",
      "Epoch [60/100], Loss: 2.9628898118971847e-05\n",
      "Epoch [70/100], Loss: 2.1560619643423706e-05\n",
      "Epoch [80/100], Loss: 1.677261207078118e-05\n",
      "Epoch [90/100], Loss: 1.3987625607114751e-05\n",
      "Epoch [100/100], Loss: 1.2406675523379818e-05\n"
     ]
    }
   ],
   "source": [
    "from torch import nn, optim\n",
    "\n",
    "# Model\n",
    "model = CustomLayerExtended(\n",
    "    n_features = n_features\n",
    ")\n",
    "\n",
    "# Loss and optimizer\n",
    "criterion = nn.MSELoss()\n",
    "optimizer = optim.Adam(model.parameters(), lr=0.01)\n",
    "\n",
    "# Training loop\n",
    "epochs = 100\n",
    "for epoch in range(epochs):\n",
    "    model.train()\n",
    "    optimizer.zero_grad()\n",
    "    # Forward pass\n",
    "    outputs, _ = model(X)\n",
    "    loss = criterion(outputs, Y)\n",
    "\n",
    "    # Backward and optimize\n",
    "    loss.backward()\n",
    "    optimizer.step()\n",
    "\n",
    "    if (epoch + 1) % 10 == 0:\n",
    "        print(f'Epoch [{epoch+1}/{epochs}], Loss: {loss.item()}')\n"
   ]
  },
  {
   "cell_type": "code",
   "execution_count": 88,
   "metadata": {},
   "outputs": [
    {
     "data": {
      "text/plain": [
       "tensor([[0.2304, 0.2339],\n",
       "        [0.2339, 0.2378],\n",
       "        [0.2378, 0.2419],\n",
       "        [0.2419, 0.2460],\n",
       "        [0.2460, 0.2497],\n",
       "        [0.2497, 0.2529],\n",
       "        [0.2529, 0.2553],\n",
       "        [0.2553, 0.2569],\n",
       "        [0.2569, 0.2577],\n",
       "        [0.2577, 0.2576],\n",
       "        [0.2576, 0.2570],\n",
       "        [0.2570, 0.2558],\n",
       "        [0.2558, 0.2545],\n",
       "        [0.2545, 0.2530],\n",
       "        [0.2530, 0.2518],\n",
       "        [0.2518, 0.2508],\n",
       "        [0.2508, 0.2502],\n",
       "        [0.2502, 0.2500],\n",
       "        [0.2500, 0.2503],\n",
       "        [0.2503, 0.2511],\n",
       "        [0.2511, 0.2522],\n",
       "        [0.2522, 0.2535],\n",
       "        [0.2535, 0.2549],\n",
       "        [0.2549, 0.2562],\n",
       "        [0.2562, 0.2572],\n",
       "        [0.2572, 0.2577],\n",
       "        [0.2577, 0.2575],\n",
       "        [0.2575, 0.2565],\n",
       "        [0.2565, 0.2546],\n",
       "        [0.2546, 0.2520],\n",
       "        [0.2520, 0.2486],\n",
       "        [0.2486, 0.2447],\n",
       "        [0.2447, 0.2406],\n",
       "        [0.2406, 0.2365],\n",
       "        [0.2365, 0.2327],\n",
       "        [0.2327, 0.2295],\n",
       "        [0.2295, 0.2269],\n",
       "        [0.2269, 0.2253],\n",
       "        [0.2253, 0.2246],\n",
       "        [0.2246, 0.2250],\n",
       "        [0.2250, 0.2263],\n",
       "        [0.2263, 0.2286],\n",
       "        [0.2286, 0.2318],\n",
       "        [0.2318, 0.2356],\n",
       "        [0.2356, 0.2400],\n",
       "        [0.2400, 0.2446],\n",
       "        [0.2446, 0.2494],\n",
       "        [0.2494, 0.2541],\n",
       "        [0.2541, 0.2584],\n",
       "        [0.2584, 0.2623],\n",
       "        [0.2623, 0.2657],\n",
       "        [0.2657, 0.2685],\n",
       "        [0.2685, 0.2706],\n",
       "        [0.2706, 0.2723],\n",
       "        [0.2723, 0.2734],\n",
       "        [0.2734, 0.2742],\n",
       "        [0.2742, 0.2747],\n",
       "        [0.2747, 0.2749],\n",
       "        [0.2749, 0.2750],\n",
       "        [0.2750, 0.2749],\n",
       "        [0.2749, 0.2745],\n",
       "        [0.2745, 0.2739],\n",
       "        [0.2739, 0.2729],\n",
       "        [0.2729, 0.2716]])"
      ]
     },
     "execution_count": 88,
     "metadata": {},
     "output_type": "execute_result"
    }
   ],
   "source": [
    "torch.stack([X[1,:,1],Y[1,:,1]], dim = -1)"
   ]
  },
  {
   "cell_type": "code",
   "execution_count": 89,
   "metadata": {},
   "outputs": [
    {
     "data": {
      "application/vnd.plotly.v1+json": {
       "config": {
        "plotlyServerURL": "https://plot.ly"
       },
       "data": [
        {
         "mode": "lines",
         "name": "Model Output",
         "type": "scatter",
         "x": [
          0,
          1,
          2,
          3,
          4,
          5,
          6,
          7,
          8,
          9,
          10,
          11,
          12,
          13,
          14,
          15,
          16,
          17,
          18,
          19,
          20,
          21,
          22,
          23,
          24,
          25,
          26,
          27,
          28,
          29,
          30,
          31,
          32,
          33,
          34,
          35,
          36,
          37,
          38,
          39,
          40,
          41,
          42,
          43,
          44,
          45,
          46,
          47,
          48,
          49,
          50,
          51,
          52,
          53,
          54,
          55,
          56,
          57,
          58,
          59,
          60,
          61,
          62,
          63
         ],
         "y": [
          0.24537798762321472,
          0.25157952308654785,
          0.25784626603126526,
          0.26376646757125854,
          0.2689482569694519,
          0.27305883169174194,
          0.27585744857788086,
          0.27721673250198364,
          0.27712681889533997,
          0.2756839394569397,
          0.2730673551559448,
          0.2695113718509674,
          0.2652784287929535,
          0.2606368064880371,
          0.255845308303833,
          0.25114357471466064,
          0.24674654006958008,
          0.24284057319164276,
          0.23957893252372742,
          0.2370760589838028,
          0.2354000359773636,
          0.23456528782844543,
          0.234528586268425,
          0.23519101738929749,
          0.2364085614681244,
          0.2380102425813675,
          0.23982027173042297,
          0.24167929589748383,
          0.2434595674276352,
          0.24507173895835876,
          0.2464633285999298,
          0.24761183559894562,
          0.24851538240909576,
          0.24918368458747864,
          0.24963046610355377,
          0.2498680204153061,
          0.24990397691726685,
          0.24973958730697632,
          0.24936935305595398,
          0.24878238141536713,
          0.24796496331691742,
          0.24690523743629456,
          0.2455998659133911,
          0.24406281113624573,
          0.2423347532749176,
          0.24049130082130432,
          0.2386467158794403,
          0.23695021867752075,
          0.23557394742965698,
          0.23469321429729462,
          0.23446418344974518,
          0.23500362038612366,
          0.23637549579143524,
          0.23858584463596344,
          0.24158528447151184,
          0.24527508020401,
          0.24951517581939697,
          0.2541305422782898,
          0.25891613960266113,
          0.2636406719684601,
          0.268051415681839,
          0.2718820571899414,
          0.2748658359050751,
          0.2767553925514221
         ]
        },
        {
         "mode": "lines",
         "name": "Target",
         "type": "scatter",
         "x": [
          0,
          1,
          2,
          3,
          4,
          5,
          6,
          7,
          8,
          9,
          10,
          11,
          12,
          13,
          14,
          15,
          16,
          17,
          18,
          19,
          20,
          21,
          22,
          23,
          24,
          25,
          26,
          27,
          28,
          29,
          30,
          31,
          32,
          33,
          34,
          35,
          36,
          37,
          38,
          39,
          40,
          41,
          42,
          43,
          44,
          45,
          46,
          47,
          48,
          49,
          50,
          51,
          52,
          53,
          54,
          55,
          56,
          57,
          58,
          59,
          60,
          61,
          62,
          63
         ],
         "y": [
          0.25160306692123413,
          0.25833672285079956,
          0.264670729637146,
          0.27019864320755005,
          0.27457842230796814,
          0.2775627672672272,
          0.2790183126926422,
          0.2789303958415985,
          0.27739372849464417,
          0.2745923101902008,
          0.27077341079711914,
          0.26622048020362854,
          0.2612292170524597,
          0.2560882270336151,
          0.25106507539749146,
          0.24639661610126495,
          0.24228225648403168,
          0.238878533244133,
          0.23629432916641235,
          0.23458647727966309,
          0.23375655710697174,
          0.23375065624713898,
          0.2344636470079422,
          0.23574940860271454,
          0.23743663728237152,
          0.23934787511825562,
          0.24131856858730316,
          0.24321220815181732,
          0.24492907524108887,
          0.24640776216983795,
          0.24762067198753357,
          0.24856573343276978,
          0.24925652146339417,
          0.24971294403076172,
          0.24995344877243042,
          0.24998970329761505,
          0.24982360005378723,
          0.2494467794895172,
          0.24884271621704102,
          0.24799126386642456,
          0.2468755841255188,
          0.2454909384250641,
          0.24385465681552887,
          0.24201519787311554,
          0.2400583177804947,
          0.23810791969299316,
          0.236319899559021,
          0.234869122505188,
          0.23393140733242035,
          0.23366397619247437,
          0.23418821394443512,
          0.23557725548744202,
          0.23784968256950378,
          0.24096830189228058,
          0.24484248459339142,
          0.24933229386806488,
          0.25425320863723755,
          0.25938117504119873,
          0.2644587457180023,
          0.2692035138607025,
          0.27332043647766113,
          0.2765190899372101,
          0.2785361409187317,
          0.2791616916656494
         ]
        }
       ],
       "layout": {
        "template": {
         "data": {
          "bar": [
           {
            "error_x": {
             "color": "#2a3f5f"
            },
            "error_y": {
             "color": "#2a3f5f"
            },
            "marker": {
             "line": {
              "color": "#E5ECF6",
              "width": 0.5
             },
             "pattern": {
              "fillmode": "overlay",
              "size": 10,
              "solidity": 0.2
             }
            },
            "type": "bar"
           }
          ],
          "barpolar": [
           {
            "marker": {
             "line": {
              "color": "#E5ECF6",
              "width": 0.5
             },
             "pattern": {
              "fillmode": "overlay",
              "size": 10,
              "solidity": 0.2
             }
            },
            "type": "barpolar"
           }
          ],
          "carpet": [
           {
            "aaxis": {
             "endlinecolor": "#2a3f5f",
             "gridcolor": "white",
             "linecolor": "white",
             "minorgridcolor": "white",
             "startlinecolor": "#2a3f5f"
            },
            "baxis": {
             "endlinecolor": "#2a3f5f",
             "gridcolor": "white",
             "linecolor": "white",
             "minorgridcolor": "white",
             "startlinecolor": "#2a3f5f"
            },
            "type": "carpet"
           }
          ],
          "choropleth": [
           {
            "colorbar": {
             "outlinewidth": 0,
             "ticks": ""
            },
            "type": "choropleth"
           }
          ],
          "contour": [
           {
            "colorbar": {
             "outlinewidth": 0,
             "ticks": ""
            },
            "colorscale": [
             [
              0,
              "#0d0887"
             ],
             [
              0.1111111111111111,
              "#46039f"
             ],
             [
              0.2222222222222222,
              "#7201a8"
             ],
             [
              0.3333333333333333,
              "#9c179e"
             ],
             [
              0.4444444444444444,
              "#bd3786"
             ],
             [
              0.5555555555555556,
              "#d8576b"
             ],
             [
              0.6666666666666666,
              "#ed7953"
             ],
             [
              0.7777777777777778,
              "#fb9f3a"
             ],
             [
              0.8888888888888888,
              "#fdca26"
             ],
             [
              1,
              "#f0f921"
             ]
            ],
            "type": "contour"
           }
          ],
          "contourcarpet": [
           {
            "colorbar": {
             "outlinewidth": 0,
             "ticks": ""
            },
            "type": "contourcarpet"
           }
          ],
          "heatmap": [
           {
            "colorbar": {
             "outlinewidth": 0,
             "ticks": ""
            },
            "colorscale": [
             [
              0,
              "#0d0887"
             ],
             [
              0.1111111111111111,
              "#46039f"
             ],
             [
              0.2222222222222222,
              "#7201a8"
             ],
             [
              0.3333333333333333,
              "#9c179e"
             ],
             [
              0.4444444444444444,
              "#bd3786"
             ],
             [
              0.5555555555555556,
              "#d8576b"
             ],
             [
              0.6666666666666666,
              "#ed7953"
             ],
             [
              0.7777777777777778,
              "#fb9f3a"
             ],
             [
              0.8888888888888888,
              "#fdca26"
             ],
             [
              1,
              "#f0f921"
             ]
            ],
            "type": "heatmap"
           }
          ],
          "heatmapgl": [
           {
            "colorbar": {
             "outlinewidth": 0,
             "ticks": ""
            },
            "colorscale": [
             [
              0,
              "#0d0887"
             ],
             [
              0.1111111111111111,
              "#46039f"
             ],
             [
              0.2222222222222222,
              "#7201a8"
             ],
             [
              0.3333333333333333,
              "#9c179e"
             ],
             [
              0.4444444444444444,
              "#bd3786"
             ],
             [
              0.5555555555555556,
              "#d8576b"
             ],
             [
              0.6666666666666666,
              "#ed7953"
             ],
             [
              0.7777777777777778,
              "#fb9f3a"
             ],
             [
              0.8888888888888888,
              "#fdca26"
             ],
             [
              1,
              "#f0f921"
             ]
            ],
            "type": "heatmapgl"
           }
          ],
          "histogram": [
           {
            "marker": {
             "pattern": {
              "fillmode": "overlay",
              "size": 10,
              "solidity": 0.2
             }
            },
            "type": "histogram"
           }
          ],
          "histogram2d": [
           {
            "colorbar": {
             "outlinewidth": 0,
             "ticks": ""
            },
            "colorscale": [
             [
              0,
              "#0d0887"
             ],
             [
              0.1111111111111111,
              "#46039f"
             ],
             [
              0.2222222222222222,
              "#7201a8"
             ],
             [
              0.3333333333333333,
              "#9c179e"
             ],
             [
              0.4444444444444444,
              "#bd3786"
             ],
             [
              0.5555555555555556,
              "#d8576b"
             ],
             [
              0.6666666666666666,
              "#ed7953"
             ],
             [
              0.7777777777777778,
              "#fb9f3a"
             ],
             [
              0.8888888888888888,
              "#fdca26"
             ],
             [
              1,
              "#f0f921"
             ]
            ],
            "type": "histogram2d"
           }
          ],
          "histogram2dcontour": [
           {
            "colorbar": {
             "outlinewidth": 0,
             "ticks": ""
            },
            "colorscale": [
             [
              0,
              "#0d0887"
             ],
             [
              0.1111111111111111,
              "#46039f"
             ],
             [
              0.2222222222222222,
              "#7201a8"
             ],
             [
              0.3333333333333333,
              "#9c179e"
             ],
             [
              0.4444444444444444,
              "#bd3786"
             ],
             [
              0.5555555555555556,
              "#d8576b"
             ],
             [
              0.6666666666666666,
              "#ed7953"
             ],
             [
              0.7777777777777778,
              "#fb9f3a"
             ],
             [
              0.8888888888888888,
              "#fdca26"
             ],
             [
              1,
              "#f0f921"
             ]
            ],
            "type": "histogram2dcontour"
           }
          ],
          "mesh3d": [
           {
            "colorbar": {
             "outlinewidth": 0,
             "ticks": ""
            },
            "type": "mesh3d"
           }
          ],
          "parcoords": [
           {
            "line": {
             "colorbar": {
              "outlinewidth": 0,
              "ticks": ""
             }
            },
            "type": "parcoords"
           }
          ],
          "pie": [
           {
            "automargin": true,
            "type": "pie"
           }
          ],
          "scatter": [
           {
            "fillpattern": {
             "fillmode": "overlay",
             "size": 10,
             "solidity": 0.2
            },
            "type": "scatter"
           }
          ],
          "scatter3d": [
           {
            "line": {
             "colorbar": {
              "outlinewidth": 0,
              "ticks": ""
             }
            },
            "marker": {
             "colorbar": {
              "outlinewidth": 0,
              "ticks": ""
             }
            },
            "type": "scatter3d"
           }
          ],
          "scattercarpet": [
           {
            "marker": {
             "colorbar": {
              "outlinewidth": 0,
              "ticks": ""
             }
            },
            "type": "scattercarpet"
           }
          ],
          "scattergeo": [
           {
            "marker": {
             "colorbar": {
              "outlinewidth": 0,
              "ticks": ""
             }
            },
            "type": "scattergeo"
           }
          ],
          "scattergl": [
           {
            "marker": {
             "colorbar": {
              "outlinewidth": 0,
              "ticks": ""
             }
            },
            "type": "scattergl"
           }
          ],
          "scattermapbox": [
           {
            "marker": {
             "colorbar": {
              "outlinewidth": 0,
              "ticks": ""
             }
            },
            "type": "scattermapbox"
           }
          ],
          "scatterpolar": [
           {
            "marker": {
             "colorbar": {
              "outlinewidth": 0,
              "ticks": ""
             }
            },
            "type": "scatterpolar"
           }
          ],
          "scatterpolargl": [
           {
            "marker": {
             "colorbar": {
              "outlinewidth": 0,
              "ticks": ""
             }
            },
            "type": "scatterpolargl"
           }
          ],
          "scatterternary": [
           {
            "marker": {
             "colorbar": {
              "outlinewidth": 0,
              "ticks": ""
             }
            },
            "type": "scatterternary"
           }
          ],
          "surface": [
           {
            "colorbar": {
             "outlinewidth": 0,
             "ticks": ""
            },
            "colorscale": [
             [
              0,
              "#0d0887"
             ],
             [
              0.1111111111111111,
              "#46039f"
             ],
             [
              0.2222222222222222,
              "#7201a8"
             ],
             [
              0.3333333333333333,
              "#9c179e"
             ],
             [
              0.4444444444444444,
              "#bd3786"
             ],
             [
              0.5555555555555556,
              "#d8576b"
             ],
             [
              0.6666666666666666,
              "#ed7953"
             ],
             [
              0.7777777777777778,
              "#fb9f3a"
             ],
             [
              0.8888888888888888,
              "#fdca26"
             ],
             [
              1,
              "#f0f921"
             ]
            ],
            "type": "surface"
           }
          ],
          "table": [
           {
            "cells": {
             "fill": {
              "color": "#EBF0F8"
             },
             "line": {
              "color": "white"
             }
            },
            "header": {
             "fill": {
              "color": "#C8D4E3"
             },
             "line": {
              "color": "white"
             }
            },
            "type": "table"
           }
          ]
         },
         "layout": {
          "annotationdefaults": {
           "arrowcolor": "#2a3f5f",
           "arrowhead": 0,
           "arrowwidth": 1
          },
          "autotypenumbers": "strict",
          "coloraxis": {
           "colorbar": {
            "outlinewidth": 0,
            "ticks": ""
           }
          },
          "colorscale": {
           "diverging": [
            [
             0,
             "#8e0152"
            ],
            [
             0.1,
             "#c51b7d"
            ],
            [
             0.2,
             "#de77ae"
            ],
            [
             0.3,
             "#f1b6da"
            ],
            [
             0.4,
             "#fde0ef"
            ],
            [
             0.5,
             "#f7f7f7"
            ],
            [
             0.6,
             "#e6f5d0"
            ],
            [
             0.7,
             "#b8e186"
            ],
            [
             0.8,
             "#7fbc41"
            ],
            [
             0.9,
             "#4d9221"
            ],
            [
             1,
             "#276419"
            ]
           ],
           "sequential": [
            [
             0,
             "#0d0887"
            ],
            [
             0.1111111111111111,
             "#46039f"
            ],
            [
             0.2222222222222222,
             "#7201a8"
            ],
            [
             0.3333333333333333,
             "#9c179e"
            ],
            [
             0.4444444444444444,
             "#bd3786"
            ],
            [
             0.5555555555555556,
             "#d8576b"
            ],
            [
             0.6666666666666666,
             "#ed7953"
            ],
            [
             0.7777777777777778,
             "#fb9f3a"
            ],
            [
             0.8888888888888888,
             "#fdca26"
            ],
            [
             1,
             "#f0f921"
            ]
           ],
           "sequentialminus": [
            [
             0,
             "#0d0887"
            ],
            [
             0.1111111111111111,
             "#46039f"
            ],
            [
             0.2222222222222222,
             "#7201a8"
            ],
            [
             0.3333333333333333,
             "#9c179e"
            ],
            [
             0.4444444444444444,
             "#bd3786"
            ],
            [
             0.5555555555555556,
             "#d8576b"
            ],
            [
             0.6666666666666666,
             "#ed7953"
            ],
            [
             0.7777777777777778,
             "#fb9f3a"
            ],
            [
             0.8888888888888888,
             "#fdca26"
            ],
            [
             1,
             "#f0f921"
            ]
           ]
          },
          "colorway": [
           "#636efa",
           "#EF553B",
           "#00cc96",
           "#ab63fa",
           "#FFA15A",
           "#19d3f3",
           "#FF6692",
           "#B6E880",
           "#FF97FF",
           "#FECB52"
          ],
          "font": {
           "color": "#2a3f5f"
          },
          "geo": {
           "bgcolor": "white",
           "lakecolor": "white",
           "landcolor": "#E5ECF6",
           "showlakes": true,
           "showland": true,
           "subunitcolor": "white"
          },
          "hoverlabel": {
           "align": "left"
          },
          "hovermode": "closest",
          "mapbox": {
           "style": "light"
          },
          "paper_bgcolor": "white",
          "plot_bgcolor": "#E5ECF6",
          "polar": {
           "angularaxis": {
            "gridcolor": "white",
            "linecolor": "white",
            "ticks": ""
           },
           "bgcolor": "#E5ECF6",
           "radialaxis": {
            "gridcolor": "white",
            "linecolor": "white",
            "ticks": ""
           }
          },
          "scene": {
           "xaxis": {
            "backgroundcolor": "#E5ECF6",
            "gridcolor": "white",
            "gridwidth": 2,
            "linecolor": "white",
            "showbackground": true,
            "ticks": "",
            "zerolinecolor": "white"
           },
           "yaxis": {
            "backgroundcolor": "#E5ECF6",
            "gridcolor": "white",
            "gridwidth": 2,
            "linecolor": "white",
            "showbackground": true,
            "ticks": "",
            "zerolinecolor": "white"
           },
           "zaxis": {
            "backgroundcolor": "#E5ECF6",
            "gridcolor": "white",
            "gridwidth": 2,
            "linecolor": "white",
            "showbackground": true,
            "ticks": "",
            "zerolinecolor": "white"
           }
          },
          "shapedefaults": {
           "line": {
            "color": "#2a3f5f"
           }
          },
          "ternary": {
           "aaxis": {
            "gridcolor": "white",
            "linecolor": "white",
            "ticks": ""
           },
           "baxis": {
            "gridcolor": "white",
            "linecolor": "white",
            "ticks": ""
           },
           "bgcolor": "#E5ECF6",
           "caxis": {
            "gridcolor": "white",
            "linecolor": "white",
            "ticks": ""
           }
          },
          "title": {
           "x": 0.05
          },
          "xaxis": {
           "automargin": true,
           "gridcolor": "white",
           "linecolor": "white",
           "ticks": "",
           "title": {
            "standoff": 15
           },
           "zerolinecolor": "white",
           "zerolinewidth": 2
          },
          "yaxis": {
           "automargin": true,
           "gridcolor": "white",
           "linecolor": "white",
           "ticks": "",
           "title": {
            "standoff": 15
           },
           "zerolinecolor": "white",
           "zerolinewidth": 2
          }
         }
        },
        "title": {
         "text": "Model Output vs Target for Feature 2, Batch 2"
        },
        "xaxis": {
         "title": {
          "text": "Timestep"
         }
        },
        "yaxis": {
         "title": {
          "text": "Value"
         }
        }
       }
      }
     },
     "metadata": {},
     "output_type": "display_data"
    }
   ],
   "source": [
    "import plotly.graph_objects as go\n",
    "\n",
    "def plot_model_output_vs_target(model_outputs, targets, batch_index=0, feature_index=0):\n",
    "    # Extract the specified feature for the given batch from both the model outputs and targets\n",
    "    model_output_series = model_outputs[batch_index, :, feature_index].detach().numpy()\n",
    "    target_series = targets[batch_index, :, feature_index].numpy()\n",
    "    \n",
    "    # Create a range for the x-axis (timesteps)\n",
    "    timesteps = list(range(model_output_series.shape[0]))\n",
    "    \n",
    "    # Create traces\n",
    "    model_trace = go.Scatter(x=timesteps, y=model_output_series, mode='lines', name='Model Output')\n",
    "    target_trace = go.Scatter(x=timesteps, y=target_series, mode='lines', name='Target')\n",
    "    \n",
    "    # Create the figure and add traces\n",
    "    fig = go.Figure()\n",
    "    fig.add_trace(model_trace)\n",
    "    fig.add_trace(target_trace)\n",
    "    \n",
    "    # Add title and labels\n",
    "    fig.update_layout(title=f'Model Output vs Target for Feature {feature_index}, Batch {batch_index}',\n",
    "                      xaxis_title='Timestep',\n",
    "                      yaxis_title='Value')\n",
    "    \n",
    "    # Show the figure\n",
    "    fig.show()\n",
    "\n",
    "# Assuming `y` and `Y` are your model outputs and targets, respectively\n",
    "# Adjust batch_index and feature_index as needed\n",
    "plot_model_output_vs_target(outputs, Y, batch_index=2, feature_index=2)\n"
   ]
  }
 ],
 "metadata": {
  "kernelspec": {
   "display_name": "coilspy-1sgZ1XBf-py3.12",
   "language": "python",
   "name": "python3"
  },
  "language_info": {
   "codemirror_mode": {
    "name": "ipython",
    "version": 3
   },
   "file_extension": ".py",
   "mimetype": "text/x-python",
   "name": "python",
   "nbconvert_exporter": "python",
   "pygments_lexer": "ipython3",
   "version": "3.12.2"
  }
 },
 "nbformat": 4,
 "nbformat_minor": 2
}
