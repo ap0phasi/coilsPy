{
 "cells": [
  {
   "cell_type": "code",
   "execution_count": 56,
   "metadata": {},
   "outputs": [],
   "source": [
    "import torch\n",
    "import torch.nn as nn\n",
    "import torch.nn.functional as F"
   ]
  },
  {
   "cell_type": "code",
   "execution_count": 57,
   "metadata": {},
   "outputs": [
    {
     "name": "stdout",
     "output_type": "stream",
     "text": [
      "tensor([[0.0008, 0.0941, 0.2450, 0.0742, 0.3576, 0.2284],\n",
      "        [0.0149, 0.3803, 0.1155, 0.0790, 0.1815, 0.2288],\n",
      "        [0.3407, 0.0017, 0.1118, 0.1144, 0.2864, 0.1450],\n",
      "        [0.2184, 0.1328, 0.0070, 0.0006, 0.2337, 0.4075],\n",
      "        [0.0567, 0.2291, 0.2649, 0.0764, 0.1468, 0.2261]])\n",
      "tensor([1.0000, 1.0000, 1.0000, 1.0000, 1.0000])\n"
     ]
    }
   ],
   "source": [
    "def torch_randnorm(size, dim=0):\n",
    "    # Generate a random tensor\n",
    "    rand_tensor = torch.rand(size)\n",
    "    \n",
    "    # Normalize along the specified dimension\n",
    "    sum_along_dim = torch.sum(rand_tensor, dim=dim, keepdim=True)\n",
    "    normalized_tensor = rand_tensor / sum_along_dim\n",
    "    \n",
    "    return normalized_tensor\n",
    "\n",
    "# Example usage\n",
    "normalized_tensor = torch_randnorm([5,6], dim=1)\n",
    "print(normalized_tensor)\n",
    "print(normalized_tensor.sum(dim=1))"
   ]
  },
  {
   "cell_type": "code",
   "execution_count": 58,
   "metadata": {},
   "outputs": [],
   "source": [
    "class NeuralCoilLayer(nn.Module):\n",
    "    def __init__(self, n_features):\n",
    "        super(NeuralCoilLayer, self).__init__()\n",
    "        self.n_features = n_features\n",
    "        self.attention_weights = nn.Linear(n_features, 1, bias=False)\n",
    "        self.act = nn.SiLU()\n",
    "        self.interaction_tensors = nn.Parameter(torch.randn(n_features, n_features, n_features, n_features + 1))\n",
    "        self.topk_num = 1\n",
    "        \n",
    "    def step_coil(self, state_tensor, previous_transition_tensor):\n",
    "        # Establish normalized subgroups\n",
    "        norm_subgroups = torch.cat((state_tensor.unsqueeze(-2), previous_transition_tensor), dim=1)\n",
    "        batch_size, num_groups, n_features = norm_subgroups.shape\n",
    "        \n",
    "        # Compute scores for each normalized subgroup\n",
    "        scores = self.act(self.attention_weights(norm_subgroups)).sum(-1) # [batch_size, num_groups]\n",
    "        \n",
    "        weights = torch.softmax(scores,dim = -1) # [batch_size, num_groups]\n",
    "        \n",
    "        selected_interaction_tensors = self.interaction_tensors\n",
    "        selected_norm_subgroups = norm_subgroups\n",
    "\n",
    "        #selected_transition_tensors = torch.einsum('ijks,bsi->bjks', selected_interaction_tensors, selected_norm_subgroups)\n",
    "        \n",
    "        selected_transition_tensors = (torch.mul(selected_interaction_tensors, selected_norm_subgroups.permute(0,2,1).unsqueeze(1).unsqueeze(1))).sum(-2)\n",
    "        \n",
    "        # We need a single transition tensor so we will average this as well\n",
    "        #selected_transition_tensor = torch.einsum('bs,bjks->bjk', weights,selected_transition_tensors)\n",
    "        \n",
    "        selected_transition_tensor = (torch.mul(selected_transition_tensors, weights.unsqueeze(-2).unsqueeze(-2))).sum(-1)\n",
    "        # Generate state tensor from the transition tensor\n",
    "        \n",
    "        # Use softmax for transition\n",
    "        normalized_selected_transition_tensor = torch.softmax(selected_transition_tensor * n_features, dim = -1)\n",
    "\n",
    "        # Performing batch matrix multiplication\n",
    "        new_state_tensor = torch.einsum('bjk,bj->bk', normalized_selected_transition_tensor, state_tensor)\n",
    "\n",
    "        #new_state_tensor = torch.bmm(normalized_selected_transition_tensor, state_tensor.unsqueeze(-1)).squeeze(-1)\n",
    "        \n",
    "        return new_state_tensor, selected_transition_tensor\n",
    "\n",
    "\n",
    "    def forward(self, x):\n",
    "        batch, length, n_features = x.size()\n",
    "        output = x.new_empty(batch, length, n_features)\n",
    "\n",
    "        # Initialize previous transition tensors (for the first step)\n",
    "        # Assuming it's a list of zero tensors for simplicity\n",
    "        transition_tensor = torch.zeros(batch, n_features, n_features)\n",
    "\n",
    "        for l in range(length):\n",
    "            state_tensor = x[:, l, :]\n",
    "            \n",
    "            # Compute output for this step\n",
    "            output[:, l, :], transition_tensor = self.step_coil(state_tensor, transition_tensor)\n",
    "\n",
    "        return output, transition_tensor\n"
   ]
  },
  {
   "cell_type": "markdown",
   "metadata": {},
   "source": [
    "# Sequence-to-Sequence Check"
   ]
  },
  {
   "cell_type": "code",
   "execution_count": 59,
   "metadata": {},
   "outputs": [
    {
     "name": "stdout",
     "output_type": "stream",
     "text": [
      "tensor([[1.0000, 1.0000, 1.0000, 1.0000, 1.0000, 1.0000, 1.0000, 1.0000, 1.0000,\n",
      "         1.0000, 1.0000, 1.0000, 1.0000, 1.0000, 1.0000, 1.0000, 1.0000, 1.0000,\n",
      "         1.0000, 1.0000, 1.0000, 1.0000, 1.0000, 1.0000, 1.0000, 1.0000, 1.0000,\n",
      "         1.0000, 1.0000, 1.0000, 1.0000, 1.0000, 1.0000, 1.0000, 1.0000, 1.0000,\n",
      "         1.0000, 1.0000, 1.0000, 1.0000, 1.0000, 1.0000, 1.0000, 1.0000, 1.0000,\n",
      "         1.0000, 1.0000, 1.0000, 1.0000, 1.0000, 1.0000, 1.0000, 1.0000, 1.0000,\n",
      "         1.0000, 1.0000, 1.0000, 1.0000, 1.0000, 1.0000, 1.0000, 1.0000, 1.0000,\n",
      "         1.0000],\n",
      "        [1.0000, 1.0000, 1.0000, 1.0000, 1.0000, 1.0000, 1.0000, 1.0000, 1.0000,\n",
      "         1.0000, 1.0000, 1.0000, 1.0000, 1.0000, 1.0000, 1.0000, 1.0000, 1.0000,\n",
      "         1.0000, 1.0000, 1.0000, 1.0000, 1.0000, 1.0000, 1.0000, 1.0000, 1.0000,\n",
      "         1.0000, 1.0000, 1.0000, 1.0000, 1.0000, 1.0000, 1.0000, 1.0000, 1.0000,\n",
      "         1.0000, 1.0000, 1.0000, 1.0000, 1.0000, 1.0000, 1.0000, 1.0000, 1.0000,\n",
      "         1.0000, 1.0000, 1.0000, 1.0000, 1.0000, 1.0000, 1.0000, 1.0000, 1.0000,\n",
      "         1.0000, 1.0000, 1.0000, 1.0000, 1.0000, 1.0000, 1.0000, 1.0000, 1.0000,\n",
      "         1.0000],\n",
      "        [1.0000, 1.0000, 1.0000, 1.0000, 1.0000, 1.0000, 1.0000, 1.0000, 1.0000,\n",
      "         1.0000, 1.0000, 1.0000, 1.0000, 1.0000, 1.0000, 1.0000, 1.0000, 1.0000,\n",
      "         1.0000, 1.0000, 1.0000, 1.0000, 1.0000, 1.0000, 1.0000, 1.0000, 1.0000,\n",
      "         1.0000, 1.0000, 1.0000, 1.0000, 1.0000, 1.0000, 1.0000, 1.0000, 1.0000,\n",
      "         1.0000, 1.0000, 1.0000, 1.0000, 1.0000, 1.0000, 1.0000, 1.0000, 1.0000,\n",
      "         1.0000, 1.0000, 1.0000, 1.0000, 1.0000, 1.0000, 1.0000, 1.0000, 1.0000,\n",
      "         1.0000, 1.0000, 1.0000, 1.0000, 1.0000, 1.0000, 1.0000, 1.0000, 1.0000,\n",
      "         1.0000],\n",
      "        [1.0000, 1.0000, 1.0000, 1.0000, 1.0000, 1.0000, 1.0000, 1.0000, 1.0000,\n",
      "         1.0000, 1.0000, 1.0000, 1.0000, 1.0000, 1.0000, 1.0000, 1.0000, 1.0000,\n",
      "         1.0000, 1.0000, 1.0000, 1.0000, 1.0000, 1.0000, 1.0000, 1.0000, 1.0000,\n",
      "         1.0000, 1.0000, 1.0000, 1.0000, 1.0000, 1.0000, 1.0000, 1.0000, 1.0000,\n",
      "         1.0000, 1.0000, 1.0000, 1.0000, 1.0000, 1.0000, 1.0000, 1.0000, 1.0000,\n",
      "         1.0000, 1.0000, 1.0000, 1.0000, 1.0000, 1.0000, 1.0000, 1.0000, 1.0000,\n",
      "         1.0000, 1.0000, 1.0000, 1.0000, 1.0000, 1.0000, 1.0000, 1.0000, 1.0000,\n",
      "         1.0000],\n",
      "        [1.0000, 1.0000, 1.0000, 1.0000, 1.0000, 1.0000, 1.0000, 1.0000, 1.0000,\n",
      "         1.0000, 1.0000, 1.0000, 1.0000, 1.0000, 1.0000, 1.0000, 1.0000, 1.0000,\n",
      "         1.0000, 1.0000, 1.0000, 1.0000, 1.0000, 1.0000, 1.0000, 1.0000, 1.0000,\n",
      "         1.0000, 1.0000, 1.0000, 1.0000, 1.0000, 1.0000, 1.0000, 1.0000, 1.0000,\n",
      "         1.0000, 1.0000, 1.0000, 1.0000, 1.0000, 1.0000, 1.0000, 1.0000, 1.0000,\n",
      "         1.0000, 1.0000, 1.0000, 1.0000, 1.0000, 1.0000, 1.0000, 1.0000, 1.0000,\n",
      "         1.0000, 1.0000, 1.0000, 1.0000, 1.0000, 1.0000, 1.0000, 1.0000, 1.0000,\n",
      "         1.0000],\n",
      "        [1.0000, 1.0000, 1.0000, 1.0000, 1.0000, 1.0000, 1.0000, 1.0000, 1.0000,\n",
      "         1.0000, 1.0000, 1.0000, 1.0000, 1.0000, 1.0000, 1.0000, 1.0000, 1.0000,\n",
      "         1.0000, 1.0000, 1.0000, 1.0000, 1.0000, 1.0000, 1.0000, 1.0000, 1.0000,\n",
      "         1.0000, 1.0000, 1.0000, 1.0000, 1.0000, 1.0000, 1.0000, 1.0000, 1.0000,\n",
      "         1.0000, 1.0000, 1.0000, 1.0000, 1.0000, 1.0000, 1.0000, 1.0000, 1.0000,\n",
      "         1.0000, 1.0000, 1.0000, 1.0000, 1.0000, 1.0000, 1.0000, 1.0000, 1.0000,\n",
      "         1.0000, 1.0000, 1.0000, 1.0000, 1.0000, 1.0000, 1.0000, 1.0000, 1.0000,\n",
      "         1.0000],\n",
      "        [1.0000, 1.0000, 1.0000, 1.0000, 1.0000, 1.0000, 1.0000, 1.0000, 1.0000,\n",
      "         1.0000, 1.0000, 1.0000, 1.0000, 1.0000, 1.0000, 1.0000, 1.0000, 1.0000,\n",
      "         1.0000, 1.0000, 1.0000, 1.0000, 1.0000, 1.0000, 1.0000, 1.0000, 1.0000,\n",
      "         1.0000, 1.0000, 1.0000, 1.0000, 1.0000, 1.0000, 1.0000, 1.0000, 1.0000,\n",
      "         1.0000, 1.0000, 1.0000, 1.0000, 1.0000, 1.0000, 1.0000, 1.0000, 1.0000,\n",
      "         1.0000, 1.0000, 1.0000, 1.0000, 1.0000, 1.0000, 1.0000, 1.0000, 1.0000,\n",
      "         1.0000, 1.0000, 1.0000, 1.0000, 1.0000, 1.0000, 1.0000, 1.0000, 1.0000,\n",
      "         1.0000],\n",
      "        [1.0000, 1.0000, 1.0000, 1.0000, 1.0000, 1.0000, 1.0000, 1.0000, 1.0000,\n",
      "         1.0000, 1.0000, 1.0000, 1.0000, 1.0000, 1.0000, 1.0000, 1.0000, 1.0000,\n",
      "         1.0000, 1.0000, 1.0000, 1.0000, 1.0000, 1.0000, 1.0000, 1.0000, 1.0000,\n",
      "         1.0000, 1.0000, 1.0000, 1.0000, 1.0000, 1.0000, 1.0000, 1.0000, 1.0000,\n",
      "         1.0000, 1.0000, 1.0000, 1.0000, 1.0000, 1.0000, 1.0000, 1.0000, 1.0000,\n",
      "         1.0000, 1.0000, 1.0000, 1.0000, 1.0000, 1.0000, 1.0000, 1.0000, 1.0000,\n",
      "         1.0000, 1.0000, 1.0000, 1.0000, 1.0000, 1.0000, 1.0000, 1.0000, 1.0000,\n",
      "         1.0000],\n",
      "        [1.0000, 1.0000, 1.0000, 1.0000, 1.0000, 1.0000, 1.0000, 1.0000, 1.0000,\n",
      "         1.0000, 1.0000, 1.0000, 1.0000, 1.0000, 1.0000, 1.0000, 1.0000, 1.0000,\n",
      "         1.0000, 1.0000, 1.0000, 1.0000, 1.0000, 1.0000, 1.0000, 1.0000, 1.0000,\n",
      "         1.0000, 1.0000, 1.0000, 1.0000, 1.0000, 1.0000, 1.0000, 1.0000, 1.0000,\n",
      "         1.0000, 1.0000, 1.0000, 1.0000, 1.0000, 1.0000, 1.0000, 1.0000, 1.0000,\n",
      "         1.0000, 1.0000, 1.0000, 1.0000, 1.0000, 1.0000, 1.0000, 1.0000, 1.0000,\n",
      "         1.0000, 1.0000, 1.0000, 1.0000, 1.0000, 1.0000, 1.0000, 1.0000, 1.0000,\n",
      "         1.0000],\n",
      "        [1.0000, 1.0000, 1.0000, 1.0000, 1.0000, 1.0000, 1.0000, 1.0000, 1.0000,\n",
      "         1.0000, 1.0000, 1.0000, 1.0000, 1.0000, 1.0000, 1.0000, 1.0000, 1.0000,\n",
      "         1.0000, 1.0000, 1.0000, 1.0000, 1.0000, 1.0000, 1.0000, 1.0000, 1.0000,\n",
      "         1.0000, 1.0000, 1.0000, 1.0000, 1.0000, 1.0000, 1.0000, 1.0000, 1.0000,\n",
      "         1.0000, 1.0000, 1.0000, 1.0000, 1.0000, 1.0000, 1.0000, 1.0000, 1.0000,\n",
      "         1.0000, 1.0000, 1.0000, 1.0000, 1.0000, 1.0000, 1.0000, 1.0000, 1.0000,\n",
      "         1.0000, 1.0000, 1.0000, 1.0000, 1.0000, 1.0000, 1.0000, 1.0000, 1.0000,\n",
      "         1.0000],\n",
      "        [1.0000, 1.0000, 1.0000, 1.0000, 1.0000, 1.0000, 1.0000, 1.0000, 1.0000,\n",
      "         1.0000, 1.0000, 1.0000, 1.0000, 1.0000, 1.0000, 1.0000, 1.0000, 1.0000,\n",
      "         1.0000, 1.0000, 1.0000, 1.0000, 1.0000, 1.0000, 1.0000, 1.0000, 1.0000,\n",
      "         1.0000, 1.0000, 1.0000, 1.0000, 1.0000, 1.0000, 1.0000, 1.0000, 1.0000,\n",
      "         1.0000, 1.0000, 1.0000, 1.0000, 1.0000, 1.0000, 1.0000, 1.0000, 1.0000,\n",
      "         1.0000, 1.0000, 1.0000, 1.0000, 1.0000, 1.0000, 1.0000, 1.0000, 1.0000,\n",
      "         1.0000, 1.0000, 1.0000, 1.0000, 1.0000, 1.0000, 1.0000, 1.0000, 1.0000,\n",
      "         1.0000],\n",
      "        [1.0000, 1.0000, 1.0000, 1.0000, 1.0000, 1.0000, 1.0000, 1.0000, 1.0000,\n",
      "         1.0000, 1.0000, 1.0000, 1.0000, 1.0000, 1.0000, 1.0000, 1.0000, 1.0000,\n",
      "         1.0000, 1.0000, 1.0000, 1.0000, 1.0000, 1.0000, 1.0000, 1.0000, 1.0000,\n",
      "         1.0000, 1.0000, 1.0000, 1.0000, 1.0000, 1.0000, 1.0000, 1.0000, 1.0000,\n",
      "         1.0000, 1.0000, 1.0000, 1.0000, 1.0000, 1.0000, 1.0000, 1.0000, 1.0000,\n",
      "         1.0000, 1.0000, 1.0000, 1.0000, 1.0000, 1.0000, 1.0000, 1.0000, 1.0000,\n",
      "         1.0000, 1.0000, 1.0000, 1.0000, 1.0000, 1.0000, 1.0000, 1.0000, 1.0000,\n",
      "         1.0000],\n",
      "        [1.0000, 1.0000, 1.0000, 1.0000, 1.0000, 1.0000, 1.0000, 1.0000, 1.0000,\n",
      "         1.0000, 1.0000, 1.0000, 1.0000, 1.0000, 1.0000, 1.0000, 1.0000, 1.0000,\n",
      "         1.0000, 1.0000, 1.0000, 1.0000, 1.0000, 1.0000, 1.0000, 1.0000, 1.0000,\n",
      "         1.0000, 1.0000, 1.0000, 1.0000, 1.0000, 1.0000, 1.0000, 1.0000, 1.0000,\n",
      "         1.0000, 1.0000, 1.0000, 1.0000, 1.0000, 1.0000, 1.0000, 1.0000, 1.0000,\n",
      "         1.0000, 1.0000, 1.0000, 1.0000, 1.0000, 1.0000, 1.0000, 1.0000, 1.0000,\n",
      "         1.0000, 1.0000, 1.0000, 1.0000, 1.0000, 1.0000, 1.0000, 1.0000, 1.0000,\n",
      "         1.0000]])\n",
      "torch.Size([13, 64, 4])\n",
      "tensor([[1.0000, 1.0000, 1.0000, 1.0000, 1.0000, 1.0000, 1.0000, 1.0000, 1.0000,\n",
      "         1.0000, 1.0000, 1.0000, 1.0000, 1.0000, 1.0000, 1.0000, 1.0000, 1.0000,\n",
      "         1.0000, 1.0000, 1.0000, 1.0000, 1.0000, 1.0000, 1.0000, 1.0000, 1.0000,\n",
      "         1.0000, 1.0000, 1.0000, 1.0000, 1.0000, 1.0000, 1.0000, 1.0000, 1.0000,\n",
      "         1.0000, 1.0000, 1.0000, 1.0000, 1.0000, 1.0000, 1.0000, 1.0000, 1.0000,\n",
      "         1.0000, 1.0000, 1.0000, 1.0000, 1.0000, 1.0000, 1.0000, 1.0000, 1.0000,\n",
      "         1.0000, 1.0000, 1.0000, 1.0000, 1.0000, 1.0000, 1.0000, 1.0000, 1.0000,\n",
      "         1.0000],\n",
      "        [1.0000, 1.0000, 1.0000, 1.0000, 1.0000, 1.0000, 1.0000, 1.0000, 1.0000,\n",
      "         1.0000, 1.0000, 1.0000, 1.0000, 1.0000, 1.0000, 1.0000, 1.0000, 1.0000,\n",
      "         1.0000, 1.0000, 1.0000, 1.0000, 1.0000, 1.0000, 1.0000, 1.0000, 1.0000,\n",
      "         1.0000, 1.0000, 1.0000, 1.0000, 1.0000, 1.0000, 1.0000, 1.0000, 1.0000,\n",
      "         1.0000, 1.0000, 1.0000, 1.0000, 1.0000, 1.0000, 1.0000, 1.0000, 1.0000,\n",
      "         1.0000, 1.0000, 1.0000, 1.0000, 1.0000, 1.0000, 1.0000, 1.0000, 1.0000,\n",
      "         1.0000, 1.0000, 1.0000, 1.0000, 1.0000, 1.0000, 1.0000, 1.0000, 1.0000,\n",
      "         1.0000],\n",
      "        [1.0000, 1.0000, 1.0000, 1.0000, 1.0000, 1.0000, 1.0000, 1.0000, 1.0000,\n",
      "         1.0000, 1.0000, 1.0000, 1.0000, 1.0000, 1.0000, 1.0000, 1.0000, 1.0000,\n",
      "         1.0000, 1.0000, 1.0000, 1.0000, 1.0000, 1.0000, 1.0000, 1.0000, 1.0000,\n",
      "         1.0000, 1.0000, 1.0000, 1.0000, 1.0000, 1.0000, 1.0000, 1.0000, 1.0000,\n",
      "         1.0000, 1.0000, 1.0000, 1.0000, 1.0000, 1.0000, 1.0000, 1.0000, 1.0000,\n",
      "         1.0000, 1.0000, 1.0000, 1.0000, 1.0000, 1.0000, 1.0000, 1.0000, 1.0000,\n",
      "         1.0000, 1.0000, 1.0000, 1.0000, 1.0000, 1.0000, 1.0000, 1.0000, 1.0000,\n",
      "         1.0000],\n",
      "        [1.0000, 1.0000, 1.0000, 1.0000, 1.0000, 1.0000, 1.0000, 1.0000, 1.0000,\n",
      "         1.0000, 1.0000, 1.0000, 1.0000, 1.0000, 1.0000, 1.0000, 1.0000, 1.0000,\n",
      "         1.0000, 1.0000, 1.0000, 1.0000, 1.0000, 1.0000, 1.0000, 1.0000, 1.0000,\n",
      "         1.0000, 1.0000, 1.0000, 1.0000, 1.0000, 1.0000, 1.0000, 1.0000, 1.0000,\n",
      "         1.0000, 1.0000, 1.0000, 1.0000, 1.0000, 1.0000, 1.0000, 1.0000, 1.0000,\n",
      "         1.0000, 1.0000, 1.0000, 1.0000, 1.0000, 1.0000, 1.0000, 1.0000, 1.0000,\n",
      "         1.0000, 1.0000, 1.0000, 1.0000, 1.0000, 1.0000, 1.0000, 1.0000, 1.0000,\n",
      "         1.0000],\n",
      "        [1.0000, 1.0000, 1.0000, 1.0000, 1.0000, 1.0000, 1.0000, 1.0000, 1.0000,\n",
      "         1.0000, 1.0000, 1.0000, 1.0000, 1.0000, 1.0000, 1.0000, 1.0000, 1.0000,\n",
      "         1.0000, 1.0000, 1.0000, 1.0000, 1.0000, 1.0000, 1.0000, 1.0000, 1.0000,\n",
      "         1.0000, 1.0000, 1.0000, 1.0000, 1.0000, 1.0000, 1.0000, 1.0000, 1.0000,\n",
      "         1.0000, 1.0000, 1.0000, 1.0000, 1.0000, 1.0000, 1.0000, 1.0000, 1.0000,\n",
      "         1.0000, 1.0000, 1.0000, 1.0000, 1.0000, 1.0000, 1.0000, 1.0000, 1.0000,\n",
      "         1.0000, 1.0000, 1.0000, 1.0000, 1.0000, 1.0000, 1.0000, 1.0000, 1.0000,\n",
      "         1.0000],\n",
      "        [1.0000, 1.0000, 1.0000, 1.0000, 1.0000, 1.0000, 1.0000, 1.0000, 1.0000,\n",
      "         1.0000, 1.0000, 1.0000, 1.0000, 1.0000, 1.0000, 1.0000, 1.0000, 1.0000,\n",
      "         1.0000, 1.0000, 1.0000, 1.0000, 1.0000, 1.0000, 1.0000, 1.0000, 1.0000,\n",
      "         1.0000, 1.0000, 1.0000, 1.0000, 1.0000, 1.0000, 1.0000, 1.0000, 1.0000,\n",
      "         1.0000, 1.0000, 1.0000, 1.0000, 1.0000, 1.0000, 1.0000, 1.0000, 1.0000,\n",
      "         1.0000, 1.0000, 1.0000, 1.0000, 1.0000, 1.0000, 1.0000, 1.0000, 1.0000,\n",
      "         1.0000, 1.0000, 1.0000, 1.0000, 1.0000, 1.0000, 1.0000, 1.0000, 1.0000,\n",
      "         1.0000],\n",
      "        [1.0000, 1.0000, 1.0000, 1.0000, 1.0000, 1.0000, 1.0000, 1.0000, 1.0000,\n",
      "         1.0000, 1.0000, 1.0000, 1.0000, 1.0000, 1.0000, 1.0000, 1.0000, 1.0000,\n",
      "         1.0000, 1.0000, 1.0000, 1.0000, 1.0000, 1.0000, 1.0000, 1.0000, 1.0000,\n",
      "         1.0000, 1.0000, 1.0000, 1.0000, 1.0000, 1.0000, 1.0000, 1.0000, 1.0000,\n",
      "         1.0000, 1.0000, 1.0000, 1.0000, 1.0000, 1.0000, 1.0000, 1.0000, 1.0000,\n",
      "         1.0000, 1.0000, 1.0000, 1.0000, 1.0000, 1.0000, 1.0000, 1.0000, 1.0000,\n",
      "         1.0000, 1.0000, 1.0000, 1.0000, 1.0000, 1.0000, 1.0000, 1.0000, 1.0000,\n",
      "         1.0000],\n",
      "        [1.0000, 1.0000, 1.0000, 1.0000, 1.0000, 1.0000, 1.0000, 1.0000, 1.0000,\n",
      "         1.0000, 1.0000, 1.0000, 1.0000, 1.0000, 1.0000, 1.0000, 1.0000, 1.0000,\n",
      "         1.0000, 1.0000, 1.0000, 1.0000, 1.0000, 1.0000, 1.0000, 1.0000, 1.0000,\n",
      "         1.0000, 1.0000, 1.0000, 1.0000, 1.0000, 1.0000, 1.0000, 1.0000, 1.0000,\n",
      "         1.0000, 1.0000, 1.0000, 1.0000, 1.0000, 1.0000, 1.0000, 1.0000, 1.0000,\n",
      "         1.0000, 1.0000, 1.0000, 1.0000, 1.0000, 1.0000, 1.0000, 1.0000, 1.0000,\n",
      "         1.0000, 1.0000, 1.0000, 1.0000, 1.0000, 1.0000, 1.0000, 1.0000, 1.0000,\n",
      "         1.0000],\n",
      "        [1.0000, 1.0000, 1.0000, 1.0000, 1.0000, 1.0000, 1.0000, 1.0000, 1.0000,\n",
      "         1.0000, 1.0000, 1.0000, 1.0000, 1.0000, 1.0000, 1.0000, 1.0000, 1.0000,\n",
      "         1.0000, 1.0000, 1.0000, 1.0000, 1.0000, 1.0000, 1.0000, 1.0000, 1.0000,\n",
      "         1.0000, 1.0000, 1.0000, 1.0000, 1.0000, 1.0000, 1.0000, 1.0000, 1.0000,\n",
      "         1.0000, 1.0000, 1.0000, 1.0000, 1.0000, 1.0000, 1.0000, 1.0000, 1.0000,\n",
      "         1.0000, 1.0000, 1.0000, 1.0000, 1.0000, 1.0000, 1.0000, 1.0000, 1.0000,\n",
      "         1.0000, 1.0000, 1.0000, 1.0000, 1.0000, 1.0000, 1.0000, 1.0000, 1.0000,\n",
      "         1.0000],\n",
      "        [1.0000, 1.0000, 1.0000, 1.0000, 1.0000, 1.0000, 1.0000, 1.0000, 1.0000,\n",
      "         1.0000, 1.0000, 1.0000, 1.0000, 1.0000, 1.0000, 1.0000, 1.0000, 1.0000,\n",
      "         1.0000, 1.0000, 1.0000, 1.0000, 1.0000, 1.0000, 1.0000, 1.0000, 1.0000,\n",
      "         1.0000, 1.0000, 1.0000, 1.0000, 1.0000, 1.0000, 1.0000, 1.0000, 1.0000,\n",
      "         1.0000, 1.0000, 1.0000, 1.0000, 1.0000, 1.0000, 1.0000, 1.0000, 1.0000,\n",
      "         1.0000, 1.0000, 1.0000, 1.0000, 1.0000, 1.0000, 1.0000, 1.0000, 1.0000,\n",
      "         1.0000, 1.0000, 1.0000, 1.0000, 1.0000, 1.0000, 1.0000, 1.0000, 1.0000,\n",
      "         1.0000],\n",
      "        [1.0000, 1.0000, 1.0000, 1.0000, 1.0000, 1.0000, 1.0000, 1.0000, 1.0000,\n",
      "         1.0000, 1.0000, 1.0000, 1.0000, 1.0000, 1.0000, 1.0000, 1.0000, 1.0000,\n",
      "         1.0000, 1.0000, 1.0000, 1.0000, 1.0000, 1.0000, 1.0000, 1.0000, 1.0000,\n",
      "         1.0000, 1.0000, 1.0000, 1.0000, 1.0000, 1.0000, 1.0000, 1.0000, 1.0000,\n",
      "         1.0000, 1.0000, 1.0000, 1.0000, 1.0000, 1.0000, 1.0000, 1.0000, 1.0000,\n",
      "         1.0000, 1.0000, 1.0000, 1.0000, 1.0000, 1.0000, 1.0000, 1.0000, 1.0000,\n",
      "         1.0000, 1.0000, 1.0000, 1.0000, 1.0000, 1.0000, 1.0000, 1.0000, 1.0000,\n",
      "         1.0000],\n",
      "        [1.0000, 1.0000, 1.0000, 1.0000, 1.0000, 1.0000, 1.0000, 1.0000, 1.0000,\n",
      "         1.0000, 1.0000, 1.0000, 1.0000, 1.0000, 1.0000, 1.0000, 1.0000, 1.0000,\n",
      "         1.0000, 1.0000, 1.0000, 1.0000, 1.0000, 1.0000, 1.0000, 1.0000, 1.0000,\n",
      "         1.0000, 1.0000, 1.0000, 1.0000, 1.0000, 1.0000, 1.0000, 1.0000, 1.0000,\n",
      "         1.0000, 1.0000, 1.0000, 1.0000, 1.0000, 1.0000, 1.0000, 1.0000, 1.0000,\n",
      "         1.0000, 1.0000, 1.0000, 1.0000, 1.0000, 1.0000, 1.0000, 1.0000, 1.0000,\n",
      "         1.0000, 1.0000, 1.0000, 1.0000, 1.0000, 1.0000, 1.0000, 1.0000, 1.0000,\n",
      "         1.0000],\n",
      "        [1.0000, 1.0000, 1.0000, 1.0000, 1.0000, 1.0000, 1.0000, 1.0000, 1.0000,\n",
      "         1.0000, 1.0000, 1.0000, 1.0000, 1.0000, 1.0000, 1.0000, 1.0000, 1.0000,\n",
      "         1.0000, 1.0000, 1.0000, 1.0000, 1.0000, 1.0000, 1.0000, 1.0000, 1.0000,\n",
      "         1.0000, 1.0000, 1.0000, 1.0000, 1.0000, 1.0000, 1.0000, 1.0000, 1.0000,\n",
      "         1.0000, 1.0000, 1.0000, 1.0000, 1.0000, 1.0000, 1.0000, 1.0000, 1.0000,\n",
      "         1.0000, 1.0000, 1.0000, 1.0000, 1.0000, 1.0000, 1.0000, 1.0000, 1.0000,\n",
      "         1.0000, 1.0000, 1.0000, 1.0000, 1.0000, 1.0000, 1.0000, 1.0000, 1.0000,\n",
      "         1.0000]], grad_fn=<SumBackward1>)\n"
     ]
    }
   ],
   "source": [
    "n_features = 4\n",
    "batch, length, dim = 13, 64, n_features\n",
    "x = torch.softmax(torch.randn(batch, length, dim),dim=2)\n",
    "model = NeuralCoilLayer(\n",
    "    n_features = n_features\n",
    ")\n",
    "y = model(x)\n",
    "\n",
    "print(x.sum(dim=2))\n",
    "\n",
    "print(y[0].shape)\n",
    "assert y[0].shape == x.shape\n",
    "print(y[0].sum(dim=2))"
   ]
  },
  {
   "cell_type": "code",
   "execution_count": 60,
   "metadata": {},
   "outputs": [
    {
     "name": "stdout",
     "output_type": "stream",
     "text": [
      "True\n",
      "True\n"
     ]
    }
   ],
   "source": [
    "batch_size = 13\n",
    "n = 16\n",
    "slices = 17\n",
    "\n",
    "weights = torch.rand(batch_size,slices)\n",
    "selected_transition_tensors = torch.rand(batch_size, n, n ,slices)\n",
    "\n",
    "selected_transition_tensor = torch.einsum('bs,bjks->bjk', weights,selected_transition_tensors)\n",
    "\n",
    "alt = (selected_transition_tensors * weights.unsqueeze(-2).unsqueeze(-2)).sum(-1)\n",
    "alt3 = (torch.mul(selected_transition_tensors, weights.unsqueeze(-2).unsqueeze(-2))).sum(-1)\n",
    "\n",
    "print(torch.allclose(alt,alt3))\n",
    "print(torch.allclose(alt,selected_transition_tensor))\n"
   ]
  },
  {
   "cell_type": "code",
   "execution_count": 93,
   "metadata": {},
   "outputs": [
    {
     "name": "stdout",
     "output_type": "stream",
     "text": [
      "tensor(3.2654)\n",
      "tensor(3.1919)\n",
      "tensor(3.1919)\n",
      "tensor(3.1919)\n"
     ]
    }
   ],
   "source": [
    "from einops import rearrange, repeat\n",
    "\n",
    "batch_size = 13\n",
    "n = 16\n",
    "\n",
    "normalized_selected_transition_tensor = torch.rand(batch_size, n, n)\n",
    "state_tensor = torch.rand(batch_size, n)\n",
    "\n",
    "option1 = torch.einsum('bjk,bj->bk', normalized_selected_transition_tensor, state_tensor)\n",
    "option2 = torch.bmm(normalized_selected_transition_tensor, state_tensor.unsqueeze(-1)).squeeze(-1)\n",
    "\n",
    "# Reshape state_tensor to make it a batch of column vectors\n",
    "state_tensor_reshaped = state_tensor.unsqueeze(-1)\n",
    "\n",
    "# Perform batch matrix multiplication\n",
    "result_tensor = torch.matmul(normalized_selected_transition_tensor, state_tensor_reshaped)\n",
    "\n",
    "# Squeeze the last dimension to go back to the original shape\n",
    "option3 = result_tensor.squeeze(-1)\n",
    "\n",
    "state_tensor_reshaped = rearrange(state_tensor, 'b j -> b j 1')\n",
    "\n",
    "# Perform batch matrix multiplication using PyTorch\n",
    "result_tensor = torch.bmm(normalized_selected_transition_tensor, state_tensor_reshaped)\n",
    "\n",
    "# Squeeze the last dimension to go back to the original shape\n",
    "# Alternatively, using einops for this step for consistency in syntax:\n",
    "option4 = rearrange(result_tensor, 'b k 1 -> b k')\n",
    "\n",
    "print(option1[2,2])\n",
    "print(option2[2,2])\n",
    "print(option3[2,2])\n",
    "print(option4[2,2])"
   ]
  },
  {
   "cell_type": "code",
   "execution_count": 62,
   "metadata": {},
   "outputs": [
    {
     "name": "stdout",
     "output_type": "stream",
     "text": [
      "torch.Size([13, 16, 16, 17])\n",
      "tensor([5.5901, 3.8432, 5.8922, 2.8281, 4.4456, 5.2188, 4.3568, 5.6488, 3.6857,\n",
      "        2.5294, 4.6632, 3.1504, 4.1742, 4.4509, 4.6394, 4.0066, 4.5114])\n",
      "tensor([3.5665, 2.7953, 4.0566, 3.9575, 3.7065, 4.9839, 4.7741, 4.1902, 2.9503,\n",
      "        2.2890, 4.3592, 3.4012, 4.9296, 3.4445, 4.6627, 3.4175, 4.9980])\n",
      "tensor([3.5665, 2.7953, 4.0566, 3.9575, 3.7065, 4.9839, 4.7741, 4.1902, 2.9503,\n",
      "        2.2890, 4.3592, 3.4012, 4.9296, 3.4445, 4.6627, 3.4175, 4.9980])\n",
      "tensor(5.2281)\n",
      "tensor(5.2281)\n",
      "True\n"
     ]
    }
   ],
   "source": [
    "from einops import rearrange, repeat\n",
    "\n",
    "selected_interaction_tensors = torch.rand(n,n,n,slices)\n",
    "selected_norm_subgroups = torch.rand(batch_size,slices, n)\n",
    "\n",
    "selected_transition_tensors = torch.einsum('ijks,bsi->bjks', selected_interaction_tensors, selected_norm_subgroups)\n",
    "selected_transition_tensors2 = torch.einsum('ijks,bks->bijs', selected_interaction_tensors, selected_norm_subgroups.permute(0,2,1))\n",
    "\n",
    "alt2 = (selected_interaction_tensors * selected_norm_subgroups.permute(0,2,1).unsqueeze(1).unsqueeze(1)).sum(-2)\n",
    "print(alt2.shape)\n",
    "print(selected_transition_tensors[5,6,2])\n",
    "print(selected_transition_tensors2[5,6,2])\n",
    "print(alt2[5,6,2])\n",
    "\n",
    "\n",
    "slicetest = torch.matmul(selected_interaction_tensors[:,:,:,2],selected_norm_subgroups.permute(0,2,1)[1,:,2])\n",
    "print(slicetest[5,9])\n",
    "print(alt2[1,:,:,2][5,9])\n",
    "\n",
    "print(torch.allclose(selected_transition_tensors2,alt2))"
   ]
  },
  {
   "cell_type": "code",
   "execution_count": 63,
   "metadata": {},
   "outputs": [
    {
     "data": {
      "text/plain": [
       "torch.Size([13, 16, 16])"
      ]
     },
     "execution_count": 63,
     "metadata": {},
     "output_type": "execute_result"
    }
   ],
   "source": [
    "# Step 1: Rearrange selected_norm_subgroups to move the 'i' dimension to the last position\n",
    "selected_norm_subgroups_rearranged = rearrange(selected_norm_subgroups, 'b s i -> (i s) b')\n",
    "\n",
    "# Step 2: Perform matrix multiplication\n",
    "# selected_interaction_tensors shape is assumed to be [..., i, ...], matching 'i' with 's' of rearranged\n",
    "result = rearrange(torch.matmul(rearrange(selected_interaction_tensors, 'i j k s -> j k (i s)'), selected_norm_subgroups_rearranged),'j k b -> b j k')\n",
    "result.shape"
   ]
  },
  {
   "cell_type": "code",
   "execution_count": 64,
   "metadata": {},
   "outputs": [
    {
     "name": "stdout",
     "output_type": "stream",
     "text": [
      "tensor(5.3983)\n",
      "tensor(5.3983)\n",
      "tensor(5.3983)\n",
      "tensor(5.3983)\n"
     ]
    }
   ],
   "source": [
    "i, j, k = 14, 12, 17\n",
    "\n",
    "tensor_a = torch.rand(i,k)\n",
    "tensor_b = torch.rand(k,j)\n",
    "\n",
    "option1 = torch.matmul(tensor_a, tensor_b)\n",
    "option2 = torch.einsum('ik,kj -> ij',tensor_a, tensor_b)\n",
    "option3 = tensor_a@tensor_b\n",
    "option4 = (tensor_a.unsqueeze(-1) * tensor_b).sum(dim=1)\n",
    "\n",
    "print(option1[5,2])\n",
    "print(option2[5,2])\n",
    "print(option3[5,2])\n",
    "print(option4[5,2])"
   ]
  },
  {
   "cell_type": "code",
   "execution_count": 65,
   "metadata": {},
   "outputs": [
    {
     "name": "stdout",
     "output_type": "stream",
     "text": [
      "------------------------  ------------  ------------  ------------  ------------  ------------  ------------  \n",
      "                    Name    Self CPU %      Self CPU   CPU total %     CPU total  CPU time avg    # of Calls  \n",
      "------------------------  ------------  ------------  ------------  ------------  ------------  ------------  \n",
      "         model_inference        34.68%      28.832ms       100.00%      83.129ms      83.129ms             1  \n",
      "            aten::einsum         8.48%       7.053ms        17.84%      14.833ms     231.766us            64  \n",
      "               aten::mul         8.02%       6.670ms        10.15%       8.434ms      43.927us           192  \n",
      "               aten::sum         8.27%       6.878ms         9.07%       7.537ms      39.255us           192  \n",
      "           aten::softmax         0.86%     719.000us         6.01%       4.992ms      39.000us           128  \n",
      "            aten::linear         0.47%     388.000us         5.56%       4.619ms      72.172us            64  \n",
      "          aten::_softmax         5.33%       4.428ms         5.33%       4.428ms      34.594us           128  \n",
      "           aten::permute         4.39%       3.648ms         5.21%       4.333ms      11.284us           384  \n",
      "               aten::cat         2.93%       2.435ms         4.25%       3.529ms      55.141us            64  \n",
      "         aten::unsqueeze         3.65%       3.034ms         4.13%       3.430ms       8.932us           384  \n",
      "------------------------  ------------  ------------  ------------  ------------  ------------  ------------  \n",
      "Self CPU time total: 83.129ms\n",
      "\n"
     ]
    }
   ],
   "source": [
    "from torch.profiler import profile, record_function, ProfilerActivity\n",
    "\n",
    "with profile(activities=[ProfilerActivity.CPU], record_shapes=True) as prof:\n",
    "    with record_function(\"model_inference\"):\n",
    "        model(x)\n",
    "        \n",
    "print(prof.key_averages().table(sort_by=\"cpu_time_total\", row_limit=10))"
   ]
  },
  {
   "cell_type": "markdown",
   "metadata": {},
   "source": [
    "## Consistency Check"
   ]
  },
  {
   "cell_type": "code",
   "execution_count": 66,
   "metadata": {},
   "outputs": [
    {
     "name": "stdout",
     "output_type": "stream",
     "text": [
      "tensor([-0.0195,  0.0307,  0.4345,  0.3595])\n",
      "tensor([ 0.0284,  0.6632, -0.0062,  0.1197], grad_fn=<SliceBackward0>)\n",
      "tensor([ 0.0284,  0.6632, -0.0062,  0.1197], grad_fn=<SliceBackward0>)\n"
     ]
    }
   ],
   "source": [
    "n_features = 4\n",
    "batch, length, dim = 13, 64, n_features\n",
    "x = torch.randn(batch, length, dim)\n",
    "model = NeuralCoilLayer(\n",
    "    n_features = n_features\n",
    ")\n",
    "\n",
    "l = 1\n",
    "state_tensor = x[:, l, :]\n",
    "print(state_tensor[1,:])\n",
    "transition_tensor = torch.randn(batch, n_features, n_features)\n",
    "new_state, new_transition_tensor = model.step_coil(state_tensor, transition_tensor)\n",
    "print(new_state[1,:])\n",
    "new_state, new_transition_tensor = model.step_coil(state_tensor, transition_tensor)\n",
    "print(new_state[1,:])"
   ]
  },
  {
   "cell_type": "markdown",
   "metadata": {},
   "source": [
    "This should be the same as if we just look at the batches independently"
   ]
  },
  {
   "cell_type": "code",
   "execution_count": 67,
   "metadata": {},
   "outputs": [
    {
     "data": {
      "text/plain": [
       "tensor([ 0.0284,  0.6632, -0.0062,  0.1197], grad_fn=<SliceBackward0>)"
      ]
     },
     "execution_count": 67,
     "metadata": {},
     "output_type": "execute_result"
    }
   ],
   "source": [
    "batch = 2\n",
    "transition_tensor = transition_tensor[0:2,:,:]\n",
    "l = 1\n",
    "state_tensor = x[0:2, l, :]\n",
    "new_state, new_transition_tensor = model.step_coil(state_tensor, transition_tensor)\n",
    "new_state[1,:]"
   ]
  },
  {
   "cell_type": "code",
   "execution_count": 68,
   "metadata": {},
   "outputs": [],
   "source": [
    "states = []\n",
    "for step_state in range(100):\n",
    "    state_tensor, transition_tensor = model.step_coil(state_tensor, transition_tensor)\n",
    "    states.append(state_tensor)"
   ]
  },
  {
   "cell_type": "code",
   "execution_count": 69,
   "metadata": {},
   "outputs": [
    {
     "data": {
      "image/png": "[encoded data removed]",
      "text/plain": [
       "<Figure size 1000x600 with 1 Axes>"
      ]
     },
     "metadata": {},
     "output_type": "display_data"
    }
   ],
   "source": [
    "import matplotlib.pyplot as plt\n",
    "\n",
    "# Your data\n",
    "data = [row.to('cpu').detach().numpy() for row in states]\n",
    "# Transpose the data to get 5 traces\n",
    "traces = list(zip(*data))\n",
    "\n",
    "# Plotting\n",
    "plt.figure(figsize=(10, 6))\n",
    "for i, trace in enumerate(traces):\n",
    "    plt.plot(trace, label=f'Trace {i+1}')\n",
    "\n",
    "plt.xlabel('Timestep')\n",
    "plt.ylabel('Value')\n",
    "plt.legend()\n",
    "plt.show()"
   ]
  },
  {
   "cell_type": "markdown",
   "metadata": {},
   "source": [
    "# Example Training"
   ]
  },
  {
   "cell_type": "markdown",
   "metadata": {},
   "source": [
    "## Simple Data Generation"
   ]
  },
  {
   "cell_type": "code",
   "execution_count": 70,
   "metadata": {},
   "outputs": [],
   "source": [
    "import numpy as np\n",
    "import torch\n",
    "\n",
    "def generate_normalized_multivariate_time_series(n_features, total_length, amplitude=1.0):\n",
    "    t = np.linspace(0, 100 * np.pi, total_length)\n",
    "    series = np.zeros((total_length, n_features))\n",
    "    for i in range(n_features):\n",
    "        series[:, i] = amplitude * np.cos(t * (i + 1) / n_features) + 10\n",
    "    \n",
    "    # Normalize such that each timestep's values sum to 1\n",
    "    series_sum = np.sum(series, axis=1, keepdims=True)\n",
    "    series_normalized = series / series_sum\n",
    "    \n",
    "    return series_normalized\n",
    "\n",
    "def segment_time_series(series, length):\n",
    "    # Assuming series is a numpy array of shape [total_length, n_features]\n",
    "    total_length, n_features = series.shape\n",
    "    segments = []\n",
    "    for start in range(0, total_length - length, length):\n",
    "        segment = series[start:start + length]\n",
    "        segments.append(segment)\n",
    "    return np.stack(segments)\n"
   ]
  },
  {
   "cell_type": "code",
   "execution_count": 71,
   "metadata": {},
   "outputs": [],
   "source": [
    "n_features = 4\n",
    "length = 64  # Segment length\n",
    "total_length = 1024  # Arbitrary total length for the generated series\n",
    "\n",
    "# Generate and segment the time series\n",
    "series = generate_normalized_multivariate_time_series(n_features, total_length)\n",
    "series_x = series[:-1,]\n",
    "series_y = series[1:,]\n",
    "\n",
    "segments_x = segment_time_series(series_x, length)\n",
    "segments_y = segment_time_series(series_y, length)\n",
    "\n",
    "# Convert to tensors\n",
    "segments_tensor_x = torch.tensor(segments_x, dtype=torch.float)\n",
    "segments_tensor_y = torch.tensor(segments_y, dtype=torch.float)\n",
    "\n",
    "# Prepare inputs and targets\n",
    "X = segments_tensor_x\n",
    "# Shift segments to the right by one timestep to create the targets\n",
    "Y =  segments_tensor_y\n"
   ]
  },
  {
   "cell_type": "code",
   "execution_count": 72,
   "metadata": {},
   "outputs": [
    {
     "name": "stdout",
     "output_type": "stream",
     "text": [
      "Epoch [10/5000], Loss: 0.0006325730355456471\n",
      "Epoch [20/5000], Loss: 0.0002381307422183454\n",
      "Epoch [30/5000], Loss: 0.00025229924358427525\n",
      "Epoch [40/5000], Loss: 0.00021763419499620795\n",
      "Epoch [50/5000], Loss: 0.00019782519666478038\n",
      "Epoch [60/5000], Loss: 0.0001898040936794132\n",
      "Epoch [70/5000], Loss: 0.00017947271408047527\n",
      "Epoch [80/5000], Loss: 0.00017031135212164372\n",
      "Epoch [90/5000], Loss: 0.00016174734628293663\n",
      "Epoch [100/5000], Loss: 0.00015317118959501386\n",
      "Epoch [110/5000], Loss: 0.0001446525420760736\n",
      "Epoch [120/5000], Loss: 0.00013598725490737706\n",
      "Epoch [130/5000], Loss: 0.00012725056149065495\n",
      "Epoch [140/5000], Loss: 0.00011850894952658564\n",
      "Epoch [150/5000], Loss: 0.00010987277346430346\n",
      "Epoch [160/5000], Loss: 0.000101478784927167\n",
      "Epoch [170/5000], Loss: 9.348944877274334e-05\n",
      "Epoch [180/5000], Loss: 8.609321230323985e-05\n",
      "Epoch [190/5000], Loss: 7.950481085572392e-05\n",
      "Epoch [200/5000], Loss: 7.385020580841228e-05\n",
      "Epoch [210/5000], Loss: 6.90394954290241e-05\n",
      "Epoch [220/5000], Loss: 6.484850018750876e-05\n",
      "Epoch [230/5000], Loss: 6.10394126852043e-05\n",
      "Epoch [240/5000], Loss: 5.7416968047618866e-05\n",
      "Epoch [250/5000], Loss: 5.389280340750702e-05\n",
      "Epoch [260/5000], Loss: 5.04571471537929e-05\n",
      "Epoch [270/5000], Loss: 4.713380985776894e-05\n",
      "Epoch [280/5000], Loss: 4.3972726416541263e-05\n",
      "Epoch [290/5000], Loss: 4.103198443772271e-05\n",
      "Epoch [300/5000], Loss: 3.835271127172746e-05\n",
      "Epoch [310/5000], Loss: 4.052579606650397e-05\n",
      "Epoch [320/5000], Loss: 3.558479875209741e-05\n",
      "Epoch [330/5000], Loss: 3.2922242098720744e-05\n",
      "Epoch [340/5000], Loss: 3.151305645587854e-05\n",
      "Epoch [350/5000], Loss: 3.0299148420454003e-05\n",
      "Epoch [360/5000], Loss: 2.8996286346227862e-05\n",
      "Epoch [370/5000], Loss: 2.7870324629475363e-05\n",
      "Epoch [380/5000], Loss: 2.6785208319779485e-05\n",
      "Epoch [390/5000], Loss: 2.5857294531306252e-05\n",
      "Epoch [400/5000], Loss: 3.0089377105468884e-05\n",
      "Epoch [410/5000], Loss: 2.5331790311611257e-05\n",
      "Epoch [420/5000], Loss: 2.3725775463390164e-05\n",
      "Epoch [430/5000], Loss: 2.3080727260094136e-05\n",
      "Epoch [440/5000], Loss: 2.246885560452938e-05\n",
      "Epoch [450/5000], Loss: 2.1819509129272774e-05\n",
      "Epoch [460/5000], Loss: 2.1193251086515374e-05\n",
      "Epoch [470/5000], Loss: 2.1661904611391947e-05\n",
      "Epoch [480/5000], Loss: 2.072954157483764e-05\n",
      "Epoch [490/5000], Loss: 2.124927232216578e-05\n",
      "Epoch [500/5000], Loss: 2.0495734133874066e-05\n",
      "Epoch [510/5000], Loss: 1.9735518435481936e-05\n",
      "Epoch [520/5000], Loss: 1.911068829940632e-05\n",
      "Epoch [530/5000], Loss: 1.8691598597797565e-05\n",
      "Epoch [540/5000], Loss: 1.8273389287060127e-05\n",
      "Epoch [550/5000], Loss: 1.78711907210527e-05\n",
      "Epoch [560/5000], Loss: 1.76441426447127e-05\n",
      "Epoch [570/5000], Loss: 2.332396434212569e-05\n",
      "Epoch [580/5000], Loss: 2.194204535044264e-05\n",
      "Epoch [590/5000], Loss: 1.924979551404249e-05\n",
      "Epoch [600/5000], Loss: 1.800341487978585e-05\n",
      "Epoch [610/5000], Loss: 1.72084073710721e-05\n",
      "Epoch [620/5000], Loss: 1.6796529962448403e-05\n",
      "Epoch [630/5000], Loss: 1.6432697520940565e-05\n",
      "Epoch [640/5000], Loss: 1.6131198208313435e-05\n",
      "Epoch [650/5000], Loss: 1.5821960914763622e-05\n",
      "Epoch [660/5000], Loss: 1.5527217328781262e-05\n",
      "Epoch [670/5000], Loss: 1.5229260498017538e-05\n",
      "Epoch [680/5000], Loss: 1.4931495570635889e-05\n",
      "Epoch [690/5000], Loss: 9.152576967608184e-05\n",
      "Epoch [700/5000], Loss: 1.820396209950559e-05\n",
      "Epoch [710/5000], Loss: 2.3146603780332953e-05\n",
      "Epoch [720/5000], Loss: 1.8170159819419496e-05\n",
      "Epoch [730/5000], Loss: 1.736532067297958e-05\n",
      "Epoch [740/5000], Loss: 1.6694733858457766e-05\n",
      "Epoch [750/5000], Loss: 1.6087917174445465e-05\n",
      "Epoch [760/5000], Loss: 1.56488149514189e-05\n",
      "Epoch [770/5000], Loss: 1.5335888747358695e-05\n",
      "Epoch [780/5000], Loss: 1.5074121620273218e-05\n",
      "Epoch [790/5000], Loss: 1.4847795682726428e-05\n",
      "Epoch [800/5000], Loss: 1.4641595953435171e-05\n",
      "Epoch [810/5000], Loss: 1.4449064110522158e-05\n",
      "Epoch [820/5000], Loss: 1.4265623576648068e-05\n",
      "Epoch [830/5000], Loss: 1.4088178431848064e-05\n",
      "Epoch [840/5000], Loss: 1.3914697774453089e-05\n",
      "Epoch [850/5000], Loss: 1.3743837371293921e-05\n",
      "Epoch [860/5000], Loss: 1.357456585537875e-05\n",
      "Epoch [870/5000], Loss: 1.3406097423285246e-05\n",
      "Epoch [880/5000], Loss: 1.323787455476122e-05\n",
      "Epoch [890/5000], Loss: 1.3069640772300772e-05\n",
      "Epoch [900/5000], Loss: 1.2901524314656854e-05\n",
      "Epoch [910/5000], Loss: 1.2734353731502779e-05\n",
      "Epoch [920/5000], Loss: 1.2569901628012303e-05\n",
      "Epoch [930/5000], Loss: 1.2411182069627102e-05\n",
      "Epoch [940/5000], Loss: 1.2262190466572065e-05\n",
      "Epoch [950/5000], Loss: 1.2127314221288543e-05\n",
      "Epoch [960/5000], Loss: 0.00013818549632560462\n",
      "Epoch [970/5000], Loss: 3.502985055092722e-05\n",
      "Epoch [980/5000], Loss: 2.300508822372649e-05\n",
      "Epoch [990/5000], Loss: 1.8609711332828738e-05\n",
      "Epoch [1000/5000], Loss: 1.6206633517867886e-05\n",
      "Epoch [1010/5000], Loss: 1.517884447821416e-05\n",
      "Epoch [1020/5000], Loss: 1.4566317076969426e-05\n",
      "Epoch [1030/5000], Loss: 1.4116064448899124e-05\n",
      "Epoch [1040/5000], Loss: 1.3757619854004588e-05\n",
      "Epoch [1050/5000], Loss: 1.3464304174704012e-05\n",
      "Epoch [1060/5000], Loss: 1.3225373550085351e-05\n",
      "Epoch [1070/5000], Loss: 1.302994405705249e-05\n",
      "Epoch [1080/5000], Loss: 1.2861015420639887e-05\n",
      "Epoch [1090/5000], Loss: 1.2712258467217907e-05\n",
      "Epoch [1100/5000], Loss: 1.257715848623775e-05\n",
      "Epoch [1110/5000], Loss: 1.245203020516783e-05\n",
      "Epoch [1120/5000], Loss: 1.2334165148786269e-05\n",
      "Epoch [1130/5000], Loss: 1.2221747965668328e-05\n",
      "Epoch [1140/5000], Loss: 1.211350809171563e-05\n",
      "Epoch [1150/5000], Loss: 1.2008559679088648e-05\n",
      "Epoch [1160/5000], Loss: 1.19062442536233e-05\n",
      "Epoch [1170/5000], Loss: 1.1806066140707117e-05\n",
      "Epoch [1180/5000], Loss: 1.1707636986102443e-05\n",
      "Epoch [1190/5000], Loss: 1.161063391919015e-05\n",
      "Epoch [1200/5000], Loss: 1.1514811376400758e-05\n",
      "Epoch [1210/5000], Loss: 1.1419931979617104e-05\n",
      "Epoch [1220/5000], Loss: 1.1325826562824659e-05\n",
      "Epoch [1230/5000], Loss: 1.1232330507482402e-05\n",
      "Epoch [1240/5000], Loss: 1.1139316484332085e-05\n",
      "Epoch [1250/5000], Loss: 1.1046691724914126e-05\n",
      "Epoch [1260/5000], Loss: 1.0954399840557016e-05\n",
      "Epoch [1270/5000], Loss: 1.0862435374292545e-05\n",
      "Epoch [1280/5000], Loss: 1.077085926226573e-05\n",
      "Epoch [1290/5000], Loss: 1.0679837032512296e-05\n",
      "Epoch [1300/5000], Loss: 1.0589622434054036e-05\n",
      "Epoch [1310/5000], Loss: 1.0500614735065028e-05\n",
      "Epoch [1320/5000], Loss: 1.041337691276567e-05\n",
      "Epoch [1330/5000], Loss: 1.032856926030945e-05\n",
      "Epoch [1340/5000], Loss: 1.0246934834867716e-05\n",
      "Epoch [1350/5000], Loss: 1.0169172128371429e-05\n",
      "Epoch [1360/5000], Loss: 1.0095790457853582e-05\n",
      "Epoch [1370/5000], Loss: 1.0026979907706846e-05\n",
      "Epoch [1380/5000], Loss: 9.96257131191669e-06\n",
      "Epoch [1390/5000], Loss: 9.902099009195808e-06\n",
      "Epoch [1400/5000], Loss: 9.844918167800643e-06\n",
      "Epoch [1410/5000], Loss: 9.790412150323391e-06\n",
      "Epoch [1420/5000], Loss: 9.74057456915034e-06\n",
      "Epoch [1430/5000], Loss: 2.1809266399941407e-05\n",
      "Epoch [1440/5000], Loss: 1.3308470443007536e-05\n",
      "Epoch [1450/5000], Loss: 1.0598264452710282e-05\n",
      "Epoch [1460/5000], Loss: 1.0103486602019984e-05\n",
      "Epoch [1470/5000], Loss: 1.005750982585596e-05\n",
      "Epoch [1480/5000], Loss: 9.850040441961028e-06\n",
      "Epoch [1490/5000], Loss: 9.730924830364529e-06\n",
      "Epoch [1500/5000], Loss: 9.614610462449491e-06\n",
      "Epoch [1510/5000], Loss: 9.515855708741583e-06\n",
      "Epoch [1520/5000], Loss: 9.430142199562397e-06\n",
      "Epoch [1530/5000], Loss: 9.354032044939231e-06\n",
      "Epoch [1540/5000], Loss: 9.286673048336525e-06\n",
      "Epoch [1550/5000], Loss: 9.22604522202164e-06\n",
      "Epoch [1560/5000], Loss: 9.170909834210761e-06\n",
      "Epoch [1570/5000], Loss: 9.119638889387716e-06\n",
      "Epoch [1580/5000], Loss: 9.070992746273987e-06\n",
      "Epoch [1590/5000], Loss: 9.024176506500226e-06\n",
      "Epoch [1600/5000], Loss: 8.978641744761262e-06\n",
      "Epoch [1610/5000], Loss: 8.934052857512143e-06\n",
      "Epoch [1620/5000], Loss: 8.890818207873963e-06\n",
      "Epoch [1630/5000], Loss: 9.382667485624552e-06\n",
      "Epoch [1640/5000], Loss: 1.251635421795072e-05\n",
      "Epoch [1650/5000], Loss: 9.695252629171591e-06\n",
      "Epoch [1660/5000], Loss: 8.997493750939611e-06\n",
      "Epoch [1670/5000], Loss: 8.919322681322228e-06\n",
      "Epoch [1680/5000], Loss: 8.822097697702702e-06\n",
      "Epoch [1690/5000], Loss: 8.706352673470974e-06\n",
      "Epoch [1700/5000], Loss: 8.61427361087408e-06\n",
      "Epoch [1710/5000], Loss: 8.547733159502968e-06\n",
      "Epoch [1720/5000], Loss: 8.494544999848586e-06\n",
      "Epoch [1730/5000], Loss: 8.446457286481746e-06\n",
      "Epoch [1740/5000], Loss: 8.40103984955931e-06\n",
      "Epoch [1750/5000], Loss: 8.35684022604255e-06\n",
      "Epoch [1760/5000], Loss: 8.313514626934193e-06\n",
      "Epoch [1770/5000], Loss: 8.270568287116475e-06\n",
      "Epoch [1780/5000], Loss: 8.228017577494029e-06\n",
      "Epoch [1790/5000], Loss: 8.18601984065026e-06\n",
      "Epoch [1800/5000], Loss: 8.164146493072622e-06\n",
      "Epoch [1810/5000], Loss: 9.705503543955274e-06\n",
      "Epoch [1820/5000], Loss: 8.249754500866402e-06\n",
      "Epoch [1830/5000], Loss: 8.06130628916435e-06\n",
      "Epoch [1840/5000], Loss: 8.00667294242885e-06\n",
      "Epoch [1850/5000], Loss: 7.95301912148716e-06\n",
      "Epoch [1860/5000], Loss: 7.901739991211798e-06\n",
      "Epoch [1870/5000], Loss: 7.852960152376909e-06\n",
      "Epoch [1880/5000], Loss: 7.809786438883748e-06\n",
      "Epoch [1890/5000], Loss: 7.766278031340335e-06\n",
      "Epoch [1900/5000], Loss: 7.788900802552234e-06\n",
      "Epoch [1910/5000], Loss: 8.572015758545604e-06\n",
      "Epoch [1920/5000], Loss: 7.831182301742956e-06\n",
      "Epoch [1930/5000], Loss: 7.594011094624875e-06\n",
      "Epoch [1940/5000], Loss: 7.558805009466596e-06\n",
      "Epoch [1950/5000], Loss: 7.5006737461080775e-06\n",
      "Epoch [1960/5000], Loss: 7.472961442545056e-06\n",
      "Epoch [1970/5000], Loss: 7.463851943612099e-06\n",
      "Epoch [1980/5000], Loss: 8.058520506892819e-06\n",
      "Epoch [1990/5000], Loss: 7.541705599578563e-06\n",
      "Epoch [2000/5000], Loss: 7.370474122581072e-06\n",
      "Epoch [2010/5000], Loss: 7.2704997364780866e-06\n",
      "Epoch [2020/5000], Loss: 7.217623988253763e-06\n",
      "Epoch [2030/5000], Loss: 7.149144039431121e-06\n",
      "Epoch [2040/5000], Loss: 7.113672836567275e-06\n",
      "Epoch [2050/5000], Loss: 7.249441750900587e-06\n",
      "Epoch [2060/5000], Loss: 7.378097507171333e-06\n",
      "Epoch [2070/5000], Loss: 6.9910370257275645e-06\n",
      "Epoch [2080/5000], Loss: 6.984711490076734e-06\n",
      "Epoch [2090/5000], Loss: 6.910524916747818e-06\n",
      "Epoch [2100/5000], Loss: 6.843619303253945e-06\n",
      "Epoch [2110/5000], Loss: 6.810302238591248e-06\n",
      "Epoch [2120/5000], Loss: 6.7726145971391816e-06\n",
      "Epoch [2130/5000], Loss: 6.819638656452298e-06\n",
      "Epoch [2140/5000], Loss: 6.998624485277105e-06\n",
      "Epoch [2150/5000], Loss: 6.708783985232003e-06\n",
      "Epoch [2160/5000], Loss: 6.59062561680912e-06\n",
      "Epoch [2170/5000], Loss: 6.573109203600325e-06\n",
      "Epoch [2180/5000], Loss: 6.511467745440314e-06\n",
      "Epoch [2190/5000], Loss: 6.472367658716394e-06\n",
      "Epoch [2200/5000], Loss: 6.546476924995659e-06\n",
      "Epoch [2210/5000], Loss: 7.150013516366016e-06\n",
      "Epoch [2220/5000], Loss: 6.421459147532005e-06\n",
      "Epoch [2230/5000], Loss: 6.308725460257847e-06\n",
      "Epoch [2240/5000], Loss: 6.26882138021756e-06\n",
      "Epoch [2250/5000], Loss: 6.2347689890884794e-06\n",
      "Epoch [2260/5000], Loss: 6.201526048243977e-06\n",
      "Epoch [2270/5000], Loss: 6.165193553897552e-06\n",
      "Epoch [2280/5000], Loss: 6.1461710174626205e-06\n",
      "Epoch [2290/5000], Loss: 6.261411272134865e-06\n",
      "Epoch [2300/5000], Loss: 6.302607744146371e-06\n",
      "Epoch [2310/5000], Loss: 6.124622814240865e-06\n",
      "Epoch [2320/5000], Loss: 6.004136594128795e-06\n",
      "Epoch [2330/5000], Loss: 5.9699168559745885e-06\n",
      "Epoch [2340/5000], Loss: 5.920102466916433e-06\n",
      "Epoch [2350/5000], Loss: 5.887924999115057e-06\n",
      "Epoch [2360/5000], Loss: 5.8627028920454904e-06\n",
      "Epoch [2370/5000], Loss: 6.166651019157143e-06\n",
      "Epoch [2380/5000], Loss: 5.854626124346396e-06\n",
      "Epoch [2390/5000], Loss: 5.973463430564152e-06\n",
      "Epoch [2400/5000], Loss: 5.876458089915104e-06\n",
      "Epoch [2410/5000], Loss: 5.7171214393747505e-06\n",
      "Epoch [2420/5000], Loss: 5.706381671188865e-06\n",
      "Epoch [2430/5000], Loss: 5.669070560543332e-06\n",
      "Epoch [2440/5000], Loss: 5.6383260016446e-06\n",
      "Epoch [2450/5000], Loss: 5.611208052869188e-06\n",
      "Epoch [2460/5000], Loss: 5.585252893069992e-06\n",
      "Epoch [2470/5000], Loss: 5.560873432841618e-06\n",
      "Epoch [2480/5000], Loss: 5.536900061997585e-06\n",
      "Epoch [2490/5000], Loss: 5.513634278031532e-06\n",
      "Epoch [2500/5000], Loss: 5.492312993737869e-06\n",
      "Epoch [2510/5000], Loss: 5.5299565246969e-06\n",
      "Epoch [2520/5000], Loss: 7.156230822147336e-06\n",
      "Epoch [2530/5000], Loss: 5.544100531551521e-06\n",
      "Epoch [2540/5000], Loss: 5.58570854991558e-06\n",
      "Epoch [2550/5000], Loss: 5.39253687747987e-06\n",
      "Epoch [2560/5000], Loss: 5.3903031584923156e-06\n",
      "Epoch [2570/5000], Loss: 5.347771548258606e-06\n",
      "Epoch [2580/5000], Loss: 5.322842753230361e-06\n",
      "Epoch [2590/5000], Loss: 5.302641966409283e-06\n",
      "Epoch [2600/5000], Loss: 5.282701749820262e-06\n",
      "Epoch [2610/5000], Loss: 5.262605100142537e-06\n",
      "Epoch [2620/5000], Loss: 5.243814939603908e-06\n",
      "Epoch [2630/5000], Loss: 5.22589198226342e-06\n",
      "Epoch [2640/5000], Loss: 5.224270353210159e-06\n",
      "Epoch [2650/5000], Loss: 5.866373612661846e-06\n",
      "Epoch [2660/5000], Loss: 5.363669515645597e-06\n",
      "Epoch [2670/5000], Loss: 5.2308755584817845e-06\n",
      "Epoch [2680/5000], Loss: 5.221419542067451e-06\n",
      "Epoch [2690/5000], Loss: 5.13199438501033e-06\n",
      "Epoch [2700/5000], Loss: 5.102281647850759e-06\n",
      "Epoch [2710/5000], Loss: 5.08525590703357e-06\n",
      "Epoch [2720/5000], Loss: 5.067053734819638e-06\n",
      "Epoch [2730/5000], Loss: 5.051076186646242e-06\n",
      "Epoch [2740/5000], Loss: 5.03366936754901e-06\n",
      "Epoch [2750/5000], Loss: 5.018043339077849e-06\n",
      "Epoch [2760/5000], Loss: 5.011411758459872e-06\n",
      "Epoch [2770/5000], Loss: 5.351009349396918e-06\n",
      "Epoch [2780/5000], Loss: 5.072880867373897e-06\n",
      "Epoch [2790/5000], Loss: 5.2428276831051335e-06\n",
      "Epoch [2800/5000], Loss: 4.985688519809628e-06\n",
      "Epoch [2810/5000], Loss: 4.955096301273443e-06\n",
      "Epoch [2820/5000], Loss: 4.909381914330879e-06\n",
      "Epoch [2830/5000], Loss: 4.894670837529702e-06\n",
      "Epoch [2840/5000], Loss: 4.877772880718112e-06\n",
      "Epoch [2850/5000], Loss: 4.863266894972185e-06\n",
      "Epoch [2860/5000], Loss: 4.847613581659971e-06\n",
      "Epoch [2870/5000], Loss: 4.834374067286262e-06\n",
      "Epoch [2880/5000], Loss: 4.848703156312695e-06\n",
      "Epoch [2890/5000], Loss: 5.9479516494320706e-06\n",
      "Epoch [2900/5000], Loss: 5.395643256633775e-06\n",
      "Epoch [2910/5000], Loss: 4.867943971476052e-06\n",
      "Epoch [2920/5000], Loss: 4.780489234690322e-06\n",
      "Epoch [2930/5000], Loss: 4.777937192557147e-06\n",
      "Epoch [2940/5000], Loss: 4.744605575979222e-06\n",
      "Epoch [2950/5000], Loss: 4.722414814750664e-06\n",
      "Epoch [2960/5000], Loss: 4.708031610789476e-06\n",
      "Epoch [2970/5000], Loss: 4.6924728849262465e-06\n",
      "Epoch [2980/5000], Loss: 4.67942936666077e-06\n",
      "Epoch [2990/5000], Loss: 4.6725222091481555e-06\n",
      "Epoch [3000/5000], Loss: 4.90348793391604e-06\n",
      "Epoch [3010/5000], Loss: 5.171074462850811e-06\n",
      "Epoch [3020/5000], Loss: 4.966948381479597e-06\n",
      "Epoch [3030/5000], Loss: 4.681408881879179e-06\n",
      "Epoch [3040/5000], Loss: 4.613803866959643e-06\n",
      "Epoch [3050/5000], Loss: 4.5991969273018185e-06\n",
      "Epoch [3060/5000], Loss: 4.582218025461771e-06\n",
      "Epoch [3070/5000], Loss: 4.564162736642174e-06\n",
      "Epoch [3080/5000], Loss: 4.5476122068066616e-06\n",
      "Epoch [3090/5000], Loss: 4.53543816547608e-06\n",
      "Epoch [3100/5000], Loss: 4.524742962530581e-06\n",
      "Epoch [3110/5000], Loss: 4.594189704221208e-06\n",
      "Epoch [3120/5000], Loss: 6.5302328948746435e-06\n",
      "Epoch [3130/5000], Loss: 4.534228537522722e-06\n",
      "Epoch [3140/5000], Loss: 4.485346380533883e-06\n",
      "Epoch [3150/5000], Loss: 4.503688614931889e-06\n",
      "Epoch [3160/5000], Loss: 4.470168732950697e-06\n",
      "Epoch [3170/5000], Loss: 4.443908437679056e-06\n",
      "Epoch [3180/5000], Loss: 4.424989128892776e-06\n",
      "Epoch [3190/5000], Loss: 4.412398084241431e-06\n",
      "Epoch [3200/5000], Loss: 4.400282250571763e-06\n",
      "Epoch [3210/5000], Loss: 4.387450189824449e-06\n",
      "Epoch [3220/5000], Loss: 4.3768854993686546e-06\n",
      "Epoch [3230/5000], Loss: 4.442759291123366e-06\n",
      "Epoch [3240/5000], Loss: 6.710296474921051e-06\n",
      "Epoch [3250/5000], Loss: 4.686587999458425e-06\n",
      "Epoch [3260/5000], Loss: 4.513849034992745e-06\n",
      "Epoch [3270/5000], Loss: 4.3895706767216325e-06\n",
      "Epoch [3280/5000], Loss: 4.320245352573693e-06\n",
      "Epoch [3290/5000], Loss: 4.301539320294978e-06\n",
      "Epoch [3300/5000], Loss: 4.28719204137451e-06\n",
      "Epoch [3310/5000], Loss: 4.274518232705304e-06\n",
      "Epoch [3320/5000], Loss: 4.261505637259688e-06\n",
      "Epoch [3330/5000], Loss: 4.249101039022207e-06\n",
      "Epoch [3340/5000], Loss: 4.2378733269288205e-06\n",
      "Epoch [3350/5000], Loss: 4.22688981416286e-06\n",
      "Epoch [3360/5000], Loss: 4.230217655276647e-06\n",
      "Epoch [3370/5000], Loss: 5.1755941967712715e-06\n",
      "Epoch [3380/5000], Loss: 5.0549338084238116e-06\n",
      "Epoch [3390/5000], Loss: 4.475379228097154e-06\n",
      "Epoch [3400/5000], Loss: 4.2800734263437334e-06\n",
      "Epoch [3410/5000], Loss: 4.2093593037861865e-06\n",
      "Epoch [3420/5000], Loss: 4.161910055699991e-06\n",
      "Epoch [3430/5000], Loss: 4.145323146076407e-06\n",
      "Epoch [3440/5000], Loss: 4.130398792767664e-06\n",
      "Epoch [3450/5000], Loss: 4.11902374253259e-06\n",
      "Epoch [3460/5000], Loss: 4.107738732272992e-06\n",
      "Epoch [3470/5000], Loss: 4.097096280020196e-06\n",
      "Epoch [3480/5000], Loss: 4.0861355046217795e-06\n",
      "Epoch [3490/5000], Loss: 4.076403911312809e-06\n",
      "Epoch [3500/5000], Loss: 4.1206053538189735e-06\n",
      "Epoch [3510/5000], Loss: 6.656235655100318e-06\n",
      "Epoch [3520/5000], Loss: 4.429724413057556e-06\n",
      "Epoch [3530/5000], Loss: 4.266252744855592e-06\n",
      "Epoch [3540/5000], Loss: 4.098627414350631e-06\n",
      "Epoch [3550/5000], Loss: 4.0458785406372044e-06\n",
      "Epoch [3560/5000], Loss: 4.020702817797428e-06\n",
      "Epoch [3570/5000], Loss: 3.997242856712546e-06\n",
      "Epoch [3580/5000], Loss: 3.9872602428658865e-06\n",
      "Epoch [3590/5000], Loss: 3.974971150455531e-06\n",
      "Epoch [3600/5000], Loss: 3.964098596043186e-06\n",
      "Epoch [3610/5000], Loss: 3.95364077121485e-06\n",
      "Epoch [3620/5000], Loss: 3.943235242331866e-06\n",
      "Epoch [3630/5000], Loss: 3.933101197617361e-06\n",
      "Epoch [3640/5000], Loss: 3.923529675375903e-06\n",
      "Epoch [3650/5000], Loss: 3.945253865822451e-06\n",
      "Epoch [3660/5000], Loss: 6.489105544460472e-06\n",
      "Epoch [3670/5000], Loss: 4.032166543765925e-06\n",
      "Epoch [3680/5000], Loss: 4.152877409069333e-06\n",
      "Epoch [3690/5000], Loss: 3.948983248847071e-06\n",
      "Epoch [3700/5000], Loss: 3.884481429849984e-06\n",
      "Epoch [3710/5000], Loss: 3.866597580781672e-06\n",
      "Epoch [3720/5000], Loss: 3.854878286801977e-06\n",
      "Epoch [3730/5000], Loss: 3.838809334411053e-06\n",
      "Epoch [3740/5000], Loss: 3.828971330221975e-06\n",
      "Epoch [3750/5000], Loss: 3.818327058979776e-06\n",
      "Epoch [3760/5000], Loss: 3.8082964692875976e-06\n",
      "Epoch [3770/5000], Loss: 3.798490297413082e-06\n",
      "Epoch [3780/5000], Loss: 3.7887921280344017e-06\n",
      "Epoch [3790/5000], Loss: 3.779219468924566e-06\n",
      "Epoch [3800/5000], Loss: 3.7698127925978042e-06\n",
      "Epoch [3810/5000], Loss: 3.7658778637705836e-06\n",
      "Epoch [3820/5000], Loss: 4.367471774457954e-06\n",
      "Epoch [3830/5000], Loss: 4.625818291970063e-06\n",
      "Epoch [3840/5000], Loss: 4.04630736738909e-06\n",
      "Epoch [3850/5000], Loss: 3.744892183021875e-06\n",
      "Epoch [3860/5000], Loss: 3.7464205888682045e-06\n",
      "Epoch [3870/5000], Loss: 3.724982434505364e-06\n",
      "Epoch [3880/5000], Loss: 3.703703214341658e-06\n",
      "Epoch [3890/5000], Loss: 3.6909359550918452e-06\n",
      "Epoch [3900/5000], Loss: 3.681344423966948e-06\n",
      "Epoch [3910/5000], Loss: 3.670927753773867e-06\n",
      "Epoch [3920/5000], Loss: 3.6612461826734943e-06\n",
      "Epoch [3930/5000], Loss: 3.651967972473358e-06\n",
      "Epoch [3940/5000], Loss: 3.642826641225838e-06\n",
      "Epoch [3950/5000], Loss: 3.6337110032036435e-06\n",
      "Epoch [3960/5000], Loss: 3.6247004118195036e-06\n",
      "Epoch [3970/5000], Loss: 3.615853529481683e-06\n",
      "Epoch [3980/5000], Loss: 3.6123690279055154e-06\n",
      "Epoch [3990/5000], Loss: 4.086617536813719e-06\n",
      "Epoch [4000/5000], Loss: 4.018645086034667e-06\n",
      "Epoch [4010/5000], Loss: 3.908382041117875e-06\n",
      "Epoch [4020/5000], Loss: 3.684477178467205e-06\n",
      "Epoch [4030/5000], Loss: 3.5945731724496e-06\n",
      "Epoch [4040/5000], Loss: 3.570341505110264e-06\n",
      "Epoch [4050/5000], Loss: 3.5567152281146264e-06\n",
      "Epoch [4060/5000], Loss: 3.5403561469138367e-06\n",
      "Epoch [4070/5000], Loss: 3.531635911713238e-06\n",
      "Epoch [4080/5000], Loss: 3.5217283311794745e-06\n",
      "Epoch [4090/5000], Loss: 3.512688181217527e-06\n",
      "Epoch [4100/5000], Loss: 3.5039358863286907e-06\n",
      "Epoch [4110/5000], Loss: 3.4952390706166625e-06\n",
      "Epoch [4120/5000], Loss: 3.4866557143686805e-06\n",
      "Epoch [4130/5000], Loss: 3.4781553495122353e-06\n",
      "Epoch [4140/5000], Loss: 3.4710781164903892e-06\n",
      "Epoch [4150/5000], Loss: 3.55669408236281e-06\n",
      "Epoch [4160/5000], Loss: 5.1538413572416175e-06\n",
      "Epoch [4170/5000], Loss: 3.880377789755585e-06\n",
      "Epoch [4180/5000], Loss: 3.5172895422874717e-06\n",
      "Epoch [4190/5000], Loss: 3.4453948956070235e-06\n",
      "Epoch [4200/5000], Loss: 3.4293029784748796e-06\n",
      "Epoch [4210/5000], Loss: 3.4214356219308684e-06\n",
      "Epoch [4220/5000], Loss: 3.4085230709024472e-06\n",
      "Epoch [4230/5000], Loss: 3.3976421036641113e-06\n",
      "Epoch [4240/5000], Loss: 3.388288632777403e-06\n",
      "Epoch [4250/5000], Loss: 3.3798357890191255e-06\n",
      "Epoch [4260/5000], Loss: 3.371475258973078e-06\n",
      "Epoch [4270/5000], Loss: 3.3632616123213666e-06\n",
      "Epoch [4280/5000], Loss: 3.35506069859548e-06\n",
      "Epoch [4290/5000], Loss: 3.346956418681657e-06\n",
      "Epoch [4300/5000], Loss: 3.3392095701856306e-06\n",
      "Epoch [4310/5000], Loss: 3.3463113595644245e-06\n",
      "Epoch [4320/5000], Loss: 4.455354883248219e-06\n",
      "Epoch [4330/5000], Loss: 3.884262696374208e-06\n",
      "Epoch [4340/5000], Loss: 3.4116289953090018e-06\n",
      "Epoch [4350/5000], Loss: 3.320655878269463e-06\n",
      "Epoch [4360/5000], Loss: 3.302349341538502e-06\n",
      "Epoch [4370/5000], Loss: 3.2946486498985905e-06\n",
      "Epoch [4380/5000], Loss: 3.2823902529344196e-06\n",
      "Epoch [4390/5000], Loss: 3.269927447036025e-06\n",
      "Epoch [4400/5000], Loss: 3.261401388954255e-06\n",
      "Epoch [4410/5000], Loss: 3.2533246212551603e-06\n",
      "Epoch [4420/5000], Loss: 3.2452487630507676e-06\n",
      "Epoch [4430/5000], Loss: 3.2373270641983254e-06\n",
      "Epoch [4440/5000], Loss: 3.2295652090397198e-06\n",
      "Epoch [4450/5000], Loss: 3.2217908483289648e-06\n",
      "Epoch [4460/5000], Loss: 3.2140815164893866e-06\n",
      "Epoch [4470/5000], Loss: 3.206555675205891e-06\n",
      "Epoch [4480/5000], Loss: 3.2094842481456e-06\n",
      "Epoch [4490/5000], Loss: 4.426125997269992e-06\n",
      "Epoch [4500/5000], Loss: 3.7417294151964597e-06\n",
      "Epoch [4510/5000], Loss: 3.1992042295314604e-06\n",
      "Epoch [4520/5000], Loss: 3.2430746159661794e-06\n",
      "Epoch [4530/5000], Loss: 3.205970870112651e-06\n",
      "Epoch [4540/5000], Loss: 3.1729657621326623e-06\n",
      "Epoch [4550/5000], Loss: 3.154679461658816e-06\n",
      "Epoch [4560/5000], Loss: 3.141529987260583e-06\n",
      "Epoch [4570/5000], Loss: 3.133699692625669e-06\n",
      "Epoch [4580/5000], Loss: 3.1254121495294385e-06\n",
      "Epoch [4590/5000], Loss: 3.1178933568298817e-06\n",
      "Epoch [4600/5000], Loss: 3.1103693345357897e-06\n",
      "Epoch [4610/5000], Loss: 3.10294649352727e-06\n",
      "Epoch [4620/5000], Loss: 3.095589818258304e-06\n",
      "Epoch [4630/5000], Loss: 3.08827748085605e-06\n",
      "Epoch [4640/5000], Loss: 3.081008571825805e-06\n",
      "Epoch [4650/5000], Loss: 3.073764673899859e-06\n",
      "Epoch [4660/5000], Loss: 3.066556473640958e-06\n",
      "Epoch [4670/5000], Loss: 3.059625441892422e-06\n",
      "Epoch [4680/5000], Loss: 3.069935019084369e-06\n",
      "Epoch [4690/5000], Loss: 4.628696842701174e-06\n",
      "Epoch [4700/5000], Loss: 3.1980152925825678e-06\n",
      "Epoch [4710/5000], Loss: 3.0599080673709977e-06\n",
      "Epoch [4720/5000], Loss: 3.071764467676985e-06\n",
      "Epoch [4730/5000], Loss: 3.044029199372744e-06\n",
      "Epoch [4740/5000], Loss: 3.0194662485882873e-06\n",
      "Epoch [4750/5000], Loss: 3.0055259685468627e-06\n",
      "Epoch [4760/5000], Loss: 2.999021489813458e-06\n",
      "Epoch [4770/5000], Loss: 2.9902648748247884e-06\n",
      "Epoch [4780/5000], Loss: 2.983255171784549e-06\n",
      "Epoch [4790/5000], Loss: 2.976063115056604e-06\n",
      "Epoch [4800/5000], Loss: 2.969057049995172e-06\n",
      "Epoch [4810/5000], Loss: 2.9621498924825573e-06\n",
      "Epoch [4820/5000], Loss: 2.955287982331356e-06\n",
      "Epoch [4830/5000], Loss: 2.94846222459455e-06\n",
      "Epoch [4840/5000], Loss: 2.941673756140517e-06\n",
      "Epoch [4850/5000], Loss: 2.934913027274888e-06\n",
      "Epoch [4860/5000], Loss: 2.928212779806927e-06\n",
      "Epoch [4870/5000], Loss: 2.9228810944914585e-06\n",
      "Epoch [4880/5000], Loss: 3.0231321943574585e-06\n",
      "Epoch [4890/5000], Loss: 4.023691417387454e-06\n",
      "Epoch [4900/5000], Loss: 3.238293402318959e-06\n",
      "Epoch [4910/5000], Loss: 2.9762572921754327e-06\n",
      "Epoch [4920/5000], Loss: 2.914726337621687e-06\n",
      "Epoch [4930/5000], Loss: 2.897188323913724e-06\n",
      "Epoch [4940/5000], Loss: 2.8847973680967698e-06\n",
      "Epoch [4950/5000], Loss: 2.8707565888907993e-06\n",
      "Epoch [4960/5000], Loss: 2.8642011784540955e-06\n",
      "Epoch [4970/5000], Loss: 2.8565518732648343e-06\n",
      "Epoch [4980/5000], Loss: 2.8500091957539553e-06\n",
      "Epoch [4990/5000], Loss: 2.8434999421733664e-06\n",
      "Epoch [5000/5000], Loss: 2.8370429845381295e-06\n"
     ]
    }
   ],
   "source": [
    "from torch import nn, optim\n",
    "\n",
    "# Model\n",
    "model = NeuralCoilLayer(\n",
    "    n_features = n_features\n",
    ")\n",
    "\n",
    "# Loss and optimizer\n",
    "criterion = nn.MSELoss()\n",
    "optimizer = optim.Adam(model.parameters(), lr=0.01)\n",
    "\n",
    "# Training loop\n",
    "epochs = 5000\n",
    "for epoch in range(epochs):\n",
    "    model.train()\n",
    "    optimizer.zero_grad()\n",
    "    # Forward pass\n",
    "    outputs, transition_tensor = model(X)\n",
    "    loss = criterion(outputs, Y)\n",
    "\n",
    "    # Backward and optimize\n",
    "    loss.backward()\n",
    "    optimizer.step()\n",
    "\n",
    "    if (epoch + 1) % 10 == 0:\n",
    "        print(f'Epoch [{epoch+1}/{epochs}], Loss: {loss.item()}')\n"
   ]
  },
  {
   "cell_type": "code",
   "execution_count": 79,
   "metadata": {},
   "outputs": [
    {
     "data": {
      "application/vnd.plotly.v1+json": {
       "config": {
        "plotlyServerURL": "https://plot.ly"
       },
       "data": [
        {
         "mode": "lines",
         "name": "Model Output",
         "type": "scatter",
         "x": [
          0,
          1,
          2,
          3,
          4,
          5,
          6,
          7,
          8,
          9,
          10,
          11,
          12,
          13,
          14,
          15,
          16,
          17,
          18,
          19,
          20,
          21,
          22,
          23,
          24,
          25,
          26,
          27,
          28,
          29,
          30,
          31,
          32,
          33,
          34,
          35,
          36,
          37,
          38,
          39,
          40,
          41,
          42,
          43,
          44,
          45,
          46,
          47,
          48,
          49,
          50,
          51,
          52,
          53,
          54,
          55,
          56,
          57,
          58,
          59,
          60,
          61,
          62,
          63
         ],
         "y": [
          0.24770714342594147,
          0.24719291925430298,
          0.2524021565914154,
          0.25865641236305237,
          0.26433122158050537,
          0.2682405114173889,
          0.27056998014450073,
          0.27210596203804016,
          0.2733038067817688,
          0.274110347032547,
          0.27457359433174133,
          0.2747637629508972,
          0.27474644780158997,
          0.2745542824268341,
          0.27420103549957275,
          0.27365642786026,
          0.27284330129623413,
          0.2716468572616577,
          0.2699401378631592,
          0.26761260628700256,
          0.2646050751209259,
          0.2609301209449768,
          0.2566782534122467,
          0.2520081102848053,
          0.24712780117988586,
          0.2422725260257721,
          0.23768337070941925,
          0.2335878312587738,
          0.23018372058868408,
          0.22762705385684967,
          0.22602514922618866,
          0.2254347801208496,
          0.22586366534233093,
          0.2272733747959137,
          0.22958028316497803,
          0.23265540599822998,
          0.23632243275642395,
          0.24035882949829102,
          0.24450325965881348,
          0.24847252666950226,
          0.2519879937171936,
          0.25480860471725464,
          0.2567630112171173,
          0.2577737867832184,
          0.2578670084476471,
          0.25716593861579895,
          0.2558690309524536,
          0.25421857833862305,
          0.25246548652648926,
          0.2508385181427002,
          0.2495228350162506,
          0.2486484944820404,
          0.2482888400554657,
          0.24846407771110535,
          0.249146968126297,
          0.2502680718898773,
          0.2517199218273163,
          0.25336065888404846,
          0.25501859188079834,
          0.25649914145469666,
          0.25759613513946533,
          0.2581080198287964,
          0.2578592598438263,
          0.25672492384910583
         ]
        },
        {
         "mode": "lines",
         "name": "Target",
         "type": "scatter",
         "x": [
          0,
          1,
          2,
          3,
          4,
          5,
          6,
          7,
          8,
          9,
          10,
          11,
          12,
          13,
          14,
          15,
          16,
          17,
          18,
          19,
          20,
          21,
          22,
          23,
          24,
          25,
          26,
          27,
          28,
          29,
          30,
          31,
          32,
          33,
          34,
          35,
          36,
          37,
          38,
          39,
          40,
          41,
          42,
          43,
          44,
          45,
          46,
          47,
          48,
          49,
          50,
          51,
          52,
          53,
          54,
          55,
          56,
          57,
          58,
          59,
          60,
          61,
          62,
          63
         ],
         "y": [
          0.25015127658843994,
          0.25477364659309387,
          0.259071409702301,
          0.26290175318717957,
          0.26617252826690674,
          0.2688458263874054,
          0.2709338963031769,
          0.2724887430667877,
          0.2735874056816101,
          0.2743161916732788,
          0.2747552990913391,
          0.27496665716171265,
          0.2749852240085602,
          0.2748142182826996,
          0.27442485094070435,
          0.27376002073287964,
          0.27274224162101746,
          0.2712853252887726,
          0.2693091034889221,
          0.26675528287887573,
          0.26360267400741577,
          0.25987860560417175,
          0.2556644082069397,
          0.25109338760375977,
          0.246341735124588,
          0.24161365628242493,
          0.2371242642402649,
          0.2330826073884964,
          0.22967714071273804,
          0.22706496715545654,
          0.22536438703536987,
          0.22465009987354279,
          0.22494997084140778,
          0.22624234855175018,
          0.22845381498336792,
          0.23145785927772522,
          0.23507606983184814,
          0.2390836775302887,
          0.24322162568569183,
          0.24721604585647583,
          0.2508043050765991,
          0.253763884305954,
          0.2559388279914856,
          0.2572574317455292,
          0.25773727893829346,
          0.2574765980243683,
          0.25663480162620544,
          0.25540757179260254,
          0.25400155782699585,
          0.25261300802230835,
          0.2514117956161499,
          0.2505314350128174,
          0.2500632405281067,
          0.25005391240119934,
          0.2505043148994446,
          0.2513696849346161,
          0.2525603473186493,
          0.253944456577301,
          0.2553533911705017,
          0.2565917372703552,
          0.2574528753757477,
          0.25774019956588745,
          0.2572923004627228,
          0.25600817799568176
         ]
        }
       ],
       "layout": {
        "template": {
         "data": {
          "bar": [
           {
            "error_x": {
             "color": "#2a3f5f"
            },
            "error_y": {
             "color": "#2a3f5f"
            },
            "marker": {
             "line": {
              "color": "#E5ECF6",
              "width": 0.5
             },
             "pattern": {
              "fillmode": "overlay",
              "size": 10,
              "solidity": 0.2
             }
            },
            "type": "bar"
           }
          ],
          "barpolar": [
           {
            "marker": {
             "line": {
              "color": "#E5ECF6",
              "width": 0.5
             },
             "pattern": {
              "fillmode": "overlay",
              "size": 10,
              "solidity": 0.2
             }
            },
            "type": "barpolar"
           }
          ],
          "carpet": [
           {
            "aaxis": {
             "endlinecolor": "#2a3f5f",
             "gridcolor": "white",
             "linecolor": "white",
             "minorgridcolor": "white",
             "startlinecolor": "#2a3f5f"
            },
            "baxis": {
             "endlinecolor": "#2a3f5f",
             "gridcolor": "white",
             "linecolor": "white",
             "minorgridcolor": "white",
             "startlinecolor": "#2a3f5f"
            },
            "type": "carpet"
           }
          ],
          "choropleth": [
           {
            "colorbar": {
             "outlinewidth": 0,
             "ticks": ""
            },
            "type": "choropleth"
           }
          ],
          "contour": [
           {
            "colorbar": {
             "outlinewidth": 0,
             "ticks": ""
            },
            "colorscale": [
             [
              0,
              "#0d0887"
             ],
             [
              0.1111111111111111,
              "#46039f"
             ],
             [
              0.2222222222222222,
              "#7201a8"
             ],
             [
              0.3333333333333333,
              "#9c179e"
             ],
             [
              0.4444444444444444,
              "#bd3786"
             ],
             [
              0.5555555555555556,
              "#d8576b"
             ],
             [
              0.6666666666666666,
              "#ed7953"
             ],
             [
              0.7777777777777778,
              "#fb9f3a"
             ],
             [
              0.8888888888888888,
              "#fdca26"
             ],
             [
              1,
              "#f0f921"
             ]
            ],
            "type": "contour"
           }
          ],
          "contourcarpet": [
           {
            "colorbar": {
             "outlinewidth": 0,
             "ticks": ""
            },
            "type": "contourcarpet"
           }
          ],
          "heatmap": [
           {
            "colorbar": {
             "outlinewidth": 0,
             "ticks": ""
            },
            "colorscale": [
             [
              0,
              "#0d0887"
             ],
             [
              0.1111111111111111,
              "#46039f"
             ],
             [
              0.2222222222222222,
              "#7201a8"
             ],
             [
              0.3333333333333333,
              "#9c179e"
             ],
             [
              0.4444444444444444,
              "#bd3786"
             ],
             [
              0.5555555555555556,
              "#d8576b"
             ],
             [
              0.6666666666666666,
              "#ed7953"
             ],
             [
              0.7777777777777778,
              "#fb9f3a"
             ],
             [
              0.8888888888888888,
              "#fdca26"
             ],
             [
              1,
              "#f0f921"
             ]
            ],
            "type": "heatmap"
           }
          ],
          "heatmapgl": [
           {
            "colorbar": {
             "outlinewidth": 0,
             "ticks": ""
            },
            "colorscale": [
             [
              0,
              "#0d0887"
             ],
             [
              0.1111111111111111,
              "#46039f"
             ],
             [
              0.2222222222222222,
              "#7201a8"
             ],
             [
              0.3333333333333333,
              "#9c179e"
             ],
             [
              0.4444444444444444,
              "#bd3786"
             ],
             [
              0.5555555555555556,
              "#d8576b"
             ],
             [
              0.6666666666666666,
              "#ed7953"
             ],
             [
              0.7777777777777778,
              "#fb9f3a"
             ],
             [
              0.8888888888888888,
              "#fdca26"
             ],
             [
              1,
              "#f0f921"
             ]
            ],
            "type": "heatmapgl"
           }
          ],
          "histogram": [
           {
            "marker": {
             "pattern": {
              "fillmode": "overlay",
              "size": 10,
              "solidity": 0.2
             }
            },
            "type": "histogram"
           }
          ],
          "histogram2d": [
           {
            "colorbar": {
             "outlinewidth": 0,
             "ticks": ""
            },
            "colorscale": [
             [
              0,
              "#0d0887"
             ],
             [
              0.1111111111111111,
              "#46039f"
             ],
             [
              0.2222222222222222,
              "#7201a8"
             ],
             [
              0.3333333333333333,
              "#9c179e"
             ],
             [
              0.4444444444444444,
              "#bd3786"
             ],
             [
              0.5555555555555556,
              "#d8576b"
             ],
             [
              0.6666666666666666,
              "#ed7953"
             ],
             [
              0.7777777777777778,
              "#fb9f3a"
             ],
             [
              0.8888888888888888,
              "#fdca26"
             ],
             [
              1,
              "#f0f921"
             ]
            ],
            "type": "histogram2d"
           }
          ],
          "histogram2dcontour": [
           {
            "colorbar": {
             "outlinewidth": 0,
             "ticks": ""
            },
            "colorscale": [
             [
              0,
              "#0d0887"
             ],
             [
              0.1111111111111111,
              "#46039f"
             ],
             [
              0.2222222222222222,
              "#7201a8"
             ],
             [
              0.3333333333333333,
              "#9c179e"
             ],
             [
              0.4444444444444444,
              "#bd3786"
             ],
             [
              0.5555555555555556,
              "#d8576b"
             ],
             [
              0.6666666666666666,
              "#ed7953"
             ],
             [
              0.7777777777777778,
              "#fb9f3a"
             ],
             [
              0.8888888888888888,
              "#fdca26"
             ],
             [
              1,
              "#f0f921"
             ]
            ],
            "type": "histogram2dcontour"
           }
          ],
          "mesh3d": [
           {
            "colorbar": {
             "outlinewidth": 0,
             "ticks": ""
            },
            "type": "mesh3d"
           }
          ],
          "parcoords": [
           {
            "line": {
             "colorbar": {
              "outlinewidth": 0,
              "ticks": ""
             }
            },
            "type": "parcoords"
           }
          ],
          "pie": [
           {
            "automargin": true,
            "type": "pie"
           }
          ],
          "scatter": [
           {
            "fillpattern": {
             "fillmode": "overlay",
             "size": 10,
             "solidity": 0.2
            },
            "type": "scatter"
           }
          ],
          "scatter3d": [
           {
            "line": {
             "colorbar": {
              "outlinewidth": 0,
              "ticks": ""
             }
            },
            "marker": {
             "colorbar": {
              "outlinewidth": 0,
              "ticks": ""
             }
            },
            "type": "scatter3d"
           }
          ],
          "scattercarpet": [
           {
            "marker": {
             "colorbar": {
              "outlinewidth": 0,
              "ticks": ""
             }
            },
            "type": "scattercarpet"
           }
          ],
          "scattergeo": [
           {
            "marker": {
             "colorbar": {
              "outlinewidth": 0,
              "ticks": ""
             }
            },
            "type": "scattergeo"
           }
          ],
          "scattergl": [
           {
            "marker": {
             "colorbar": {
              "outlinewidth": 0,
              "ticks": ""
             }
            },
            "type": "scattergl"
           }
          ],
          "scattermapbox": [
           {
            "marker": {
             "colorbar": {
              "outlinewidth": 0,
              "ticks": ""
             }
            },
            "type": "scattermapbox"
           }
          ],
          "scatterpolar": [
           {
            "marker": {
             "colorbar": {
              "outlinewidth": 0,
              "ticks": ""
             }
            },
            "type": "scatterpolar"
           }
          ],
          "scatterpolargl": [
           {
            "marker": {
             "colorbar": {
              "outlinewidth": 0,
              "ticks": ""
             }
            },
            "type": "scatterpolargl"
           }
          ],
          "scatterternary": [
           {
            "marker": {
             "colorbar": {
              "outlinewidth": 0,
              "ticks": ""
             }
            },
            "type": "scatterternary"
           }
          ],
          "surface": [
           {
            "colorbar": {
             "outlinewidth": 0,
             "ticks": ""
            },
            "colorscale": [
             [
              0,
              "#0d0887"
             ],
             [
              0.1111111111111111,
              "#46039f"
             ],
             [
              0.2222222222222222,
              "#7201a8"
             ],
             [
              0.3333333333333333,
              "#9c179e"
             ],
             [
              0.4444444444444444,
              "#bd3786"
             ],
             [
              0.5555555555555556,
              "#d8576b"
             ],
             [
              0.6666666666666666,
              "#ed7953"
             ],
             [
              0.7777777777777778,
              "#fb9f3a"
             ],
             [
              0.8888888888888888,
              "#fdca26"
             ],
             [
              1,
              "#f0f921"
             ]
            ],
            "type": "surface"
           }
          ],
          "table": [
           {
            "cells": {
             "fill": {
              "color": "#EBF0F8"
             },
             "line": {
              "color": "white"
             }
            },
            "header": {
             "fill": {
              "color": "#C8D4E3"
             },
             "line": {
              "color": "white"
             }
            },
            "type": "table"
           }
          ]
         },
         "layout": {
          "annotationdefaults": {
           "arrowcolor": "#2a3f5f",
           "arrowhead": 0,
           "arrowwidth": 1
          },
          "autotypenumbers": "strict",
          "coloraxis": {
           "colorbar": {
            "outlinewidth": 0,
            "ticks": ""
           }
          },
          "colorscale": {
           "diverging": [
            [
             0,
             "#8e0152"
            ],
            [
             0.1,
             "#c51b7d"
            ],
            [
             0.2,
             "#de77ae"
            ],
            [
             0.3,
             "#f1b6da"
            ],
            [
             0.4,
             "#fde0ef"
            ],
            [
             0.5,
             "#f7f7f7"
            ],
            [
             0.6,
             "#e6f5d0"
            ],
            [
             0.7,
             "#b8e186"
            ],
            [
             0.8,
             "#7fbc41"
            ],
            [
             0.9,
             "#4d9221"
            ],
            [
             1,
             "#276419"
            ]
           ],
           "sequential": [
            [
             0,
             "#0d0887"
            ],
            [
             0.1111111111111111,
             "#46039f"
            ],
            [
             0.2222222222222222,
             "#7201a8"
            ],
            [
             0.3333333333333333,
             "#9c179e"
            ],
            [
             0.4444444444444444,
             "#bd3786"
            ],
            [
             0.5555555555555556,
             "#d8576b"
            ],
            [
             0.6666666666666666,
             "#ed7953"
            ],
            [
             0.7777777777777778,
             "#fb9f3a"
            ],
            [
             0.8888888888888888,
             "#fdca26"
            ],
            [
             1,
             "#f0f921"
            ]
           ],
           "sequentialminus": [
            [
             0,
             "#0d0887"
            ],
            [
             0.1111111111111111,
             "#46039f"
            ],
            [
             0.2222222222222222,
             "#7201a8"
            ],
            [
             0.3333333333333333,
             "#9c179e"
            ],
            [
             0.4444444444444444,
             "#bd3786"
            ],
            [
             0.5555555555555556,
             "#d8576b"
            ],
            [
             0.6666666666666666,
             "#ed7953"
            ],
            [
             0.7777777777777778,
             "#fb9f3a"
            ],
            [
             0.8888888888888888,
             "#fdca26"
            ],
            [
             1,
             "#f0f921"
            ]
           ]
          },
          "colorway": [
           "#636efa",
           "#EF553B",
           "#00cc96",
           "#ab63fa",
           "#FFA15A",
           "#19d3f3",
           "#FF6692",
           "#B6E880",
           "#FF97FF",
           "#FECB52"
          ],
          "font": {
           "color": "#2a3f5f"
          },
          "geo": {
           "bgcolor": "white",
           "lakecolor": "white",
           "landcolor": "#E5ECF6",
           "showlakes": true,
           "showland": true,
           "subunitcolor": "white"
          },
          "hoverlabel": {
           "align": "left"
          },
          "hovermode": "closest",
          "mapbox": {
           "style": "light"
          },
          "paper_bgcolor": "white",
          "plot_bgcolor": "#E5ECF6",
          "polar": {
           "angularaxis": {
            "gridcolor": "white",
            "linecolor": "white",
            "ticks": ""
           },
           "bgcolor": "#E5ECF6",
           "radialaxis": {
            "gridcolor": "white",
            "linecolor": "white",
            "ticks": ""
           }
          },
          "scene": {
           "xaxis": {
            "backgroundcolor": "#E5ECF6",
            "gridcolor": "white",
            "gridwidth": 2,
            "linecolor": "white",
            "showbackground": true,
            "ticks": "",
            "zerolinecolor": "white"
           },
           "yaxis": {
            "backgroundcolor": "#E5ECF6",
            "gridcolor": "white",
            "gridwidth": 2,
            "linecolor": "white",
            "showbackground": true,
            "ticks": "",
            "zerolinecolor": "white"
           },
           "zaxis": {
            "backgroundcolor": "#E5ECF6",
            "gridcolor": "white",
            "gridwidth": 2,
            "linecolor": "white",
            "showbackground": true,
            "ticks": "",
            "zerolinecolor": "white"
           }
          },
          "shapedefaults": {
           "line": {
            "color": "#2a3f5f"
           }
          },
          "ternary": {
           "aaxis": {
            "gridcolor": "white",
            "linecolor": "white",
            "ticks": ""
           },
           "baxis": {
            "gridcolor": "white",
            "linecolor": "white",
            "ticks": ""
           },
           "bgcolor": "#E5ECF6",
           "caxis": {
            "gridcolor": "white",
            "linecolor": "white",
            "ticks": ""
           }
          },
          "title": {
           "x": 0.05
          },
          "xaxis": {
           "automargin": true,
           "gridcolor": "white",
           "linecolor": "white",
           "ticks": "",
           "title": {
            "standoff": 15
           },
           "zerolinecolor": "white",
           "zerolinewidth": 2
          },
          "yaxis": {
           "automargin": true,
           "gridcolor": "white",
           "linecolor": "white",
           "ticks": "",
           "title": {
            "standoff": 15
           },
           "zerolinecolor": "white",
           "zerolinewidth": 2
          }
         }
        },
        "title": {
         "text": "Model Output vs Target for Feature 1, Batch 3"
        },
        "xaxis": {
         "title": {
          "text": "Timestep"
         }
        },
        "yaxis": {
         "title": {
          "text": "Value"
         }
        }
       }
      }
     },
     "metadata": {},
     "output_type": "display_data"
    }
   ],
   "source": [
    "import plotly.graph_objects as go\n",
    "\n",
    "def plot_model_output_vs_target(model_outputs, targets, batch_index=0, feature_index=0):\n",
    "    # Extract the specified feature for the given batch from both the model outputs and targets\n",
    "    model_output_series = model_outputs[batch_index, :, feature_index].detach().numpy()\n",
    "    target_series = targets[batch_index, :, feature_index].numpy()\n",
    "    \n",
    "    # Create a range for the x-axis (timesteps)\n",
    "    timesteps = list(range(model_output_series.shape[0]))\n",
    "    \n",
    "    # Create traces\n",
    "    model_trace = go.Scatter(x=timesteps, y=model_output_series, mode='lines', name='Model Output')\n",
    "    target_trace = go.Scatter(x=timesteps, y=target_series, mode='lines', name='Target')\n",
    "    \n",
    "    # Create the figure and add traces\n",
    "    fig = go.Figure()\n",
    "    fig.add_trace(model_trace)\n",
    "    fig.add_trace(target_trace)\n",
    "    \n",
    "    # Add title and labels\n",
    "    fig.update_layout(title=f'Model Output vs Target for Feature {feature_index}, Batch {batch_index}',\n",
    "                      xaxis_title='Timestep',\n",
    "                      yaxis_title='Value')\n",
    "    \n",
    "    # Show the figure\n",
    "    fig.show()\n",
    "\n",
    "# Assuming `y` and `Y` are your model outputs and targets, respectively\n",
    "# Adjust batch_index and feature_index as needed\n",
    "plot_model_output_vs_target(outputs, Y, batch_index=3, feature_index=1)\n"
   ]
  },
  {
   "cell_type": "code",
   "execution_count": 94,
   "metadata": {},
   "outputs": [
    {
     "name": "stdout",
     "output_type": "stream",
     "text": [
      "tensor(1., grad_fn=<AddBackward0>)\n",
      "tensor(1.0000, grad_fn=<AddBackward0>)\n",
      "tensor(1., grad_fn=<AddBackward0>)\n",
      "tensor(1., grad_fn=<AddBackward0>)\n",
      "tensor(1.0000, grad_fn=<AddBackward0>)\n",
      "tensor(1., grad_fn=<AddBackward0>)\n",
      "tensor(1.0000, grad_fn=<AddBackward0>)\n",
      "tensor(1.0000, grad_fn=<AddBackward0>)\n",
      "tensor(1.0000, grad_fn=<AddBackward0>)\n",
      "tensor(1., grad_fn=<AddBackward0>)\n",
      "tensor(1., grad_fn=<AddBackward0>)\n",
      "tensor(1.0000, grad_fn=<AddBackward0>)\n",
      "tensor(1.0000, grad_fn=<AddBackward0>)\n",
      "tensor(1.0000, grad_fn=<AddBackward0>)\n",
      "tensor(1.0000, grad_fn=<AddBackward0>)\n",
      "tensor(1.0000, grad_fn=<AddBackward0>)\n",
      "tensor(1.0000, grad_fn=<AddBackward0>)\n",
      "tensor(1.0000, grad_fn=<AddBackward0>)\n",
      "tensor(1., grad_fn=<AddBackward0>)\n",
      "tensor(1., grad_fn=<AddBackward0>)\n",
      "tensor(1.0000, grad_fn=<AddBackward0>)\n",
      "tensor(1., grad_fn=<AddBackward0>)\n",
      "tensor(1.0000, grad_fn=<AddBackward0>)\n",
      "tensor(1., grad_fn=<AddBackward0>)\n",
      "tensor(1., grad_fn=<AddBackward0>)\n",
      "tensor(1., grad_fn=<AddBackward0>)\n",
      "tensor(1.0000, grad_fn=<AddBackward0>)\n",
      "tensor(1.0000, grad_fn=<AddBackward0>)\n",
      "tensor(1.0000, grad_fn=<AddBackward0>)\n",
      "tensor(1.0000, grad_fn=<AddBackward0>)\n",
      "tensor(1.0000, grad_fn=<AddBackward0>)\n",
      "tensor(1.0000, grad_fn=<AddBackward0>)\n",
      "tensor(1.0000, grad_fn=<AddBackward0>)\n",
      "tensor(1.0000, grad_fn=<AddBackward0>)\n",
      "tensor(1.0000, grad_fn=<AddBackward0>)\n",
      "tensor(1.0000, grad_fn=<AddBackward0>)\n",
      "tensor(1.0000, grad_fn=<AddBackward0>)\n",
      "tensor(1.0000, grad_fn=<AddBackward0>)\n",
      "tensor(1.0000, grad_fn=<AddBackward0>)\n",
      "tensor(1.0000, grad_fn=<AddBackward0>)\n",
      "tensor(1.0000, grad_fn=<AddBackward0>)\n",
      "tensor(1.0000, grad_fn=<AddBackward0>)\n",
      "tensor(1.0000, grad_fn=<AddBackward0>)\n",
      "tensor(1.0000, grad_fn=<AddBackward0>)\n",
      "tensor(1.0000, grad_fn=<AddBackward0>)\n",
      "tensor(1.0000, grad_fn=<AddBackward0>)\n",
      "tensor(1.0000, grad_fn=<AddBackward0>)\n",
      "tensor(1.0000, grad_fn=<AddBackward0>)\n",
      "tensor(1.0000, grad_fn=<AddBackward0>)\n",
      "tensor(1.0000, grad_fn=<AddBackward0>)\n",
      "tensor(1.0000, grad_fn=<AddBackward0>)\n",
      "tensor(1.0000, grad_fn=<AddBackward0>)\n",
      "tensor(1.0000, grad_fn=<AddBackward0>)\n",
      "tensor(1.0000, grad_fn=<AddBackward0>)\n",
      "tensor(1.0000, grad_fn=<AddBackward0>)\n",
      "tensor(1.0000, grad_fn=<AddBackward0>)\n",
      "tensor(1.0000, grad_fn=<AddBackward0>)\n",
      "tensor(1.0000, grad_fn=<AddBackward0>)\n",
      "tensor(1.0000, grad_fn=<AddBackward0>)\n",
      "tensor(1.0000, grad_fn=<AddBackward0>)\n",
      "tensor(1.0000, grad_fn=<AddBackward0>)\n",
      "tensor(1.0000, grad_fn=<AddBackward0>)\n",
      "tensor(1.0000, grad_fn=<AddBackward0>)\n",
      "tensor(1.0000, grad_fn=<AddBackward0>)\n",
      "tensor(1.0000, grad_fn=<AddBackward0>)\n",
      "tensor(1.0000, grad_fn=<AddBackward0>)\n",
      "tensor(1.0000, grad_fn=<AddBackward0>)\n",
      "tensor(1.0000, grad_fn=<AddBackward0>)\n",
      "tensor(1.0000, grad_fn=<AddBackward0>)\n",
      "tensor(1.0000, grad_fn=<AddBackward0>)\n",
      "tensor(1.0000, grad_fn=<AddBackward0>)\n",
      "tensor(1.0000, grad_fn=<AddBackward0>)\n",
      "tensor(1.0000, grad_fn=<AddBackward0>)\n",
      "tensor(1.0000, grad_fn=<AddBackward0>)\n",
      "tensor(1.0000, grad_fn=<AddBackward0>)\n",
      "tensor(1.0000, grad_fn=<AddBackward0>)\n",
      "tensor(1.0000, grad_fn=<AddBackward0>)\n",
      "tensor(1.0000, grad_fn=<AddBackward0>)\n",
      "tensor(1.0000, grad_fn=<AddBackward0>)\n",
      "tensor(1.0000, grad_fn=<AddBackward0>)\n",
      "tensor(1.0000, grad_fn=<AddBackward0>)\n",
      "tensor(1.0000, grad_fn=<AddBackward0>)\n",
      "tensor(1.0000, grad_fn=<AddBackward0>)\n",
      "tensor(1.0000, grad_fn=<AddBackward0>)\n",
      "tensor(1.0000, grad_fn=<AddBackward0>)\n",
      "tensor(1.0000, grad_fn=<AddBackward0>)\n",
      "tensor(1.0000, grad_fn=<AddBackward0>)\n",
      "tensor(1.0000, grad_fn=<AddBackward0>)\n",
      "tensor(1.0000, grad_fn=<AddBackward0>)\n",
      "tensor(1.0000, grad_fn=<AddBackward0>)\n",
      "tensor(1.0000, grad_fn=<AddBackward0>)\n",
      "tensor(1.0000, grad_fn=<AddBackward0>)\n",
      "tensor(1.0000, grad_fn=<AddBackward0>)\n",
      "tensor(1.0000, grad_fn=<AddBackward0>)\n",
      "tensor(1.0000, grad_fn=<AddBackward0>)\n",
      "tensor(1.0000, grad_fn=<AddBackward0>)\n",
      "tensor(1.0000, grad_fn=<AddBackward0>)\n",
      "tensor(1.0000, grad_fn=<AddBackward0>)\n",
      "tensor(1.0000, grad_fn=<AddBackward0>)\n",
      "tensor(1.0000, grad_fn=<AddBackward0>)\n",
      "tensor(1.0000, grad_fn=<AddBackward0>)\n",
      "tensor(1.0000, grad_fn=<AddBackward0>)\n",
      "tensor(1.0000, grad_fn=<AddBackward0>)\n",
      "tensor(1.0000, grad_fn=<AddBackward0>)\n",
      "tensor(1.0000, grad_fn=<AddBackward0>)\n",
      "tensor(1.0000, grad_fn=<AddBackward0>)\n",
      "tensor(1.0000, grad_fn=<AddBackward0>)\n",
      "tensor(1.0000, grad_fn=<AddBackward0>)\n",
      "tensor(1.0000, grad_fn=<AddBackward0>)\n",
      "tensor(1.0000, grad_fn=<AddBackward0>)\n",
      "tensor(1.0000, grad_fn=<AddBackward0>)\n",
      "tensor(1.0000, grad_fn=<AddBackward0>)\n",
      "tensor(1.0000, grad_fn=<AddBackward0>)\n",
      "tensor(1.0000, grad_fn=<AddBackward0>)\n",
      "tensor(1.0000, grad_fn=<AddBackward0>)\n",
      "tensor(1.0000, grad_fn=<AddBackward0>)\n",
      "tensor(1.0000, grad_fn=<AddBackward0>)\n",
      "tensor(1.0000, grad_fn=<AddBackward0>)\n",
      "tensor(1.0000, grad_fn=<AddBackward0>)\n",
      "tensor(1.0000, grad_fn=<AddBackward0>)\n",
      "tensor(1.0000, grad_fn=<AddBackward0>)\n",
      "tensor(1.0000, grad_fn=<AddBackward0>)\n",
      "tensor(1.0000, grad_fn=<AddBackward0>)\n",
      "tensor(1.0000, grad_fn=<AddBackward0>)\n",
      "tensor(1.0000, grad_fn=<AddBackward0>)\n",
      "tensor(1.0000, grad_fn=<AddBackward0>)\n",
      "tensor(1.0000, grad_fn=<AddBackward0>)\n",
      "tensor(1.0000, grad_fn=<AddBackward0>)\n",
      "tensor(1.0000, grad_fn=<AddBackward0>)\n",
      "tensor(1.0000, grad_fn=<AddBackward0>)\n",
      "tensor(1.0000, grad_fn=<AddBackward0>)\n",
      "tensor(1.0000, grad_fn=<AddBackward0>)\n",
      "tensor(1.0000, grad_fn=<AddBackward0>)\n",
      "tensor(1.0000, grad_fn=<AddBackward0>)\n",
      "tensor(1.0000, grad_fn=<AddBackward0>)\n",
      "tensor(1.0000, grad_fn=<AddBackward0>)\n",
      "tensor(1.0000, grad_fn=<AddBackward0>)\n",
      "tensor(1.0000, grad_fn=<AddBackward0>)\n",
      "tensor(1.0000, grad_fn=<AddBackward0>)\n",
      "tensor(1.0000, grad_fn=<AddBackward0>)\n",
      "tensor(1.0000, grad_fn=<AddBackward0>)\n",
      "tensor(1.0000, grad_fn=<AddBackward0>)\n",
      "tensor(1.0000, grad_fn=<AddBackward0>)\n",
      "tensor(1.0000, grad_fn=<AddBackward0>)\n",
      "tensor(1.0000, grad_fn=<AddBackward0>)\n",
      "tensor(1.0000, grad_fn=<AddBackward0>)\n",
      "tensor(1.0000, grad_fn=<AddBackward0>)\n",
      "tensor(1.0000, grad_fn=<AddBackward0>)\n",
      "tensor(1.0000, grad_fn=<AddBackward0>)\n",
      "tensor(1.0000, grad_fn=<AddBackward0>)\n",
      "tensor(1.0000, grad_fn=<AddBackward0>)\n",
      "tensor(1.0000, grad_fn=<AddBackward0>)\n",
      "tensor(1.0000, grad_fn=<AddBackward0>)\n",
      "tensor(1.0000, grad_fn=<AddBackward0>)\n",
      "tensor(1.0000, grad_fn=<AddBackward0>)\n",
      "tensor(1.0000, grad_fn=<AddBackward0>)\n",
      "tensor(1.0000, grad_fn=<AddBackward0>)\n",
      "tensor(1.0000, grad_fn=<AddBackward0>)\n",
      "tensor(1.0000, grad_fn=<AddBackward0>)\n",
      "tensor(1.0000, grad_fn=<AddBackward0>)\n",
      "tensor(1.0000, grad_fn=<AddBackward0>)\n",
      "tensor(1.0000, grad_fn=<AddBackward0>)\n",
      "tensor(1.0000, grad_fn=<AddBackward0>)\n",
      "tensor(1.0000, grad_fn=<AddBackward0>)\n",
      "tensor(1.0000, grad_fn=<AddBackward0>)\n",
      "tensor(1.0000, grad_fn=<AddBackward0>)\n",
      "tensor(1.0000, grad_fn=<AddBackward0>)\n",
      "tensor(1.0000, grad_fn=<AddBackward0>)\n",
      "tensor(1.0000, grad_fn=<AddBackward0>)\n",
      "tensor(1.0000, grad_fn=<AddBackward0>)\n",
      "tensor(1.0000, grad_fn=<AddBackward0>)\n",
      "tensor(1.0000, grad_fn=<AddBackward0>)\n",
      "tensor(1.0000, grad_fn=<AddBackward0>)\n",
      "tensor(1.0000, grad_fn=<AddBackward0>)\n",
      "tensor(1.0000, grad_fn=<AddBackward0>)\n",
      "tensor(1.0000, grad_fn=<AddBackward0>)\n",
      "tensor(1.0000, grad_fn=<AddBackward0>)\n",
      "tensor(1.0000, grad_fn=<AddBackward0>)\n",
      "tensor(1.0000, grad_fn=<AddBackward0>)\n",
      "tensor(1.0000, grad_fn=<AddBackward0>)\n",
      "tensor(1.0000, grad_fn=<AddBackward0>)\n",
      "tensor(1.0000, grad_fn=<AddBackward0>)\n",
      "tensor(1.0000, grad_fn=<AddBackward0>)\n",
      "tensor(1.0000, grad_fn=<AddBackward0>)\n",
      "tensor(1.0000, grad_fn=<AddBackward0>)\n",
      "tensor(1.0000, grad_fn=<AddBackward0>)\n",
      "tensor(1.0000, grad_fn=<AddBackward0>)\n",
      "tensor(1.0000, grad_fn=<AddBackward0>)\n",
      "tensor(1.0000, grad_fn=<AddBackward0>)\n",
      "tensor(1.0000, grad_fn=<AddBackward0>)\n",
      "tensor(1.0000, grad_fn=<AddBackward0>)\n",
      "tensor(1.0000, grad_fn=<AddBackward0>)\n",
      "tensor(1.0000, grad_fn=<AddBackward0>)\n",
      "tensor(1.0000, grad_fn=<AddBackward0>)\n",
      "tensor(1.0000, grad_fn=<AddBackward0>)\n",
      "tensor(1.0000, grad_fn=<AddBackward0>)\n",
      "tensor(1.0000, grad_fn=<AddBackward0>)\n",
      "tensor(1.0000, grad_fn=<AddBackward0>)\n",
      "tensor(1.0000, grad_fn=<AddBackward0>)\n",
      "tensor(1.0000, grad_fn=<AddBackward0>)\n",
      "tensor(1.0000, grad_fn=<AddBackward0>)\n",
      "tensor(1.0000, grad_fn=<AddBackward0>)\n",
      "tensor(1.0000, grad_fn=<AddBackward0>)\n",
      "tensor(1.0000, grad_fn=<AddBackward0>)\n",
      "tensor(1.0000, grad_fn=<AddBackward0>)\n",
      "tensor(1.0000, grad_fn=<AddBackward0>)\n",
      "tensor(1.0000, grad_fn=<AddBackward0>)\n",
      "tensor(1.0000, grad_fn=<AddBackward0>)\n",
      "tensor(1.0000, grad_fn=<AddBackward0>)\n",
      "tensor(1.0000, grad_fn=<AddBackward0>)\n",
      "tensor(1.0000, grad_fn=<AddBackward0>)\n",
      "tensor(1.0000, grad_fn=<AddBackward0>)\n",
      "tensor(1.0000, grad_fn=<AddBackward0>)\n",
      "tensor(1.0000, grad_fn=<AddBackward0>)\n",
      "tensor(1.0000, grad_fn=<AddBackward0>)\n",
      "tensor(1.0000, grad_fn=<AddBackward0>)\n",
      "tensor(1.0000, grad_fn=<AddBackward0>)\n",
      "tensor(1.0000, grad_fn=<AddBackward0>)\n",
      "tensor(1.0000, grad_fn=<AddBackward0>)\n",
      "tensor(1.0000, grad_fn=<AddBackward0>)\n",
      "tensor(1.0000, grad_fn=<AddBackward0>)\n",
      "tensor(1.0000, grad_fn=<AddBackward0>)\n",
      "tensor(1.0000, grad_fn=<AddBackward0>)\n",
      "tensor(1.0000, grad_fn=<AddBackward0>)\n",
      "tensor(1.0000, grad_fn=<AddBackward0>)\n",
      "tensor(1.0000, grad_fn=<AddBackward0>)\n",
      "tensor(1.0000, grad_fn=<AddBackward0>)\n",
      "tensor(1.0000, grad_fn=<AddBackward0>)\n",
      "tensor(1.0000, grad_fn=<AddBackward0>)\n",
      "tensor(1.0000, grad_fn=<AddBackward0>)\n",
      "tensor(1.0000, grad_fn=<AddBackward0>)\n",
      "tensor(1.0000, grad_fn=<AddBackward0>)\n",
      "tensor(1.0000, grad_fn=<AddBackward0>)\n",
      "tensor(1.0000, grad_fn=<AddBackward0>)\n",
      "tensor(1.0000, grad_fn=<AddBackward0>)\n",
      "tensor(1.0000, grad_fn=<AddBackward0>)\n",
      "tensor(1.0000, grad_fn=<AddBackward0>)\n",
      "tensor(1.0000, grad_fn=<AddBackward0>)\n",
      "tensor(1.0000, grad_fn=<AddBackward0>)\n",
      "tensor(1.0000, grad_fn=<AddBackward0>)\n",
      "tensor(1.0000, grad_fn=<AddBackward0>)\n",
      "tensor(1.0000, grad_fn=<AddBackward0>)\n",
      "tensor(1.0000, grad_fn=<AddBackward0>)\n",
      "tensor(1.0000, grad_fn=<AddBackward0>)\n",
      "tensor(1.0000, grad_fn=<AddBackward0>)\n",
      "tensor(1.0000, grad_fn=<AddBackward0>)\n",
      "tensor(1.0000, grad_fn=<AddBackward0>)\n",
      "tensor(1.0000, grad_fn=<AddBackward0>)\n",
      "tensor(1.0000, grad_fn=<AddBackward0>)\n",
      "tensor(1.0000, grad_fn=<AddBackward0>)\n",
      "tensor(1.0000, grad_fn=<AddBackward0>)\n",
      "tensor(1.0000, grad_fn=<AddBackward0>)\n",
      "tensor(1.0000, grad_fn=<AddBackward0>)\n",
      "tensor(1.0000, grad_fn=<AddBackward0>)\n",
      "tensor(1.0000, grad_fn=<AddBackward0>)\n",
      "tensor(1.0000, grad_fn=<AddBackward0>)\n",
      "tensor(1.0000, grad_fn=<AddBackward0>)\n",
      "tensor(1.0000, grad_fn=<AddBackward0>)\n",
      "tensor(1.0000, grad_fn=<AddBackward0>)\n",
      "tensor(1.0000, grad_fn=<AddBackward0>)\n",
      "tensor(1.0000, grad_fn=<AddBackward0>)\n",
      "tensor(1.0000, grad_fn=<AddBackward0>)\n",
      "tensor(1.0000, grad_fn=<AddBackward0>)\n",
      "tensor(1.0000, grad_fn=<AddBackward0>)\n",
      "tensor(1.0000, grad_fn=<AddBackward0>)\n",
      "tensor(1.0000, grad_fn=<AddBackward0>)\n",
      "tensor(1.0000, grad_fn=<AddBackward0>)\n",
      "tensor(1.0000, grad_fn=<AddBackward0>)\n",
      "tensor(1.0000, grad_fn=<AddBackward0>)\n",
      "tensor(1.0000, grad_fn=<AddBackward0>)\n",
      "tensor(1.0000, grad_fn=<AddBackward0>)\n",
      "tensor(1.0000, grad_fn=<AddBackward0>)\n",
      "tensor(1.0000, grad_fn=<AddBackward0>)\n",
      "tensor(1.0000, grad_fn=<AddBackward0>)\n",
      "tensor(1.0000, grad_fn=<AddBackward0>)\n",
      "tensor(1.0000, grad_fn=<AddBackward0>)\n",
      "tensor(1.0000, grad_fn=<AddBackward0>)\n",
      "tensor(1.0000, grad_fn=<AddBackward0>)\n",
      "tensor(1.0000, grad_fn=<AddBackward0>)\n",
      "tensor(1.0000, grad_fn=<AddBackward0>)\n",
      "tensor(1.0000, grad_fn=<AddBackward0>)\n",
      "tensor(1.0000, grad_fn=<AddBackward0>)\n",
      "tensor(1.0000, grad_fn=<AddBackward0>)\n",
      "tensor(1.0000, grad_fn=<AddBackward0>)\n",
      "tensor(1.0000, grad_fn=<AddBackward0>)\n",
      "tensor(1.0000, grad_fn=<AddBackward0>)\n",
      "tensor(1.0000, grad_fn=<AddBackward0>)\n",
      "tensor(1.0000, grad_fn=<AddBackward0>)\n",
      "tensor(1.0000, grad_fn=<AddBackward0>)\n",
      "tensor(1.0000, grad_fn=<AddBackward0>)\n",
      "tensor(1.0000, grad_fn=<AddBackward0>)\n",
      "tensor(1.0000, grad_fn=<AddBackward0>)\n",
      "tensor(1.0000, grad_fn=<AddBackward0>)\n",
      "tensor(1.0000, grad_fn=<AddBackward0>)\n",
      "tensor(1.0000, grad_fn=<AddBackward0>)\n",
      "tensor(1.0000, grad_fn=<AddBackward0>)\n",
      "tensor(1.0000, grad_fn=<AddBackward0>)\n",
      "tensor(1.0000, grad_fn=<AddBackward0>)\n",
      "tensor(1.0000, grad_fn=<AddBackward0>)\n",
      "tensor(1.0000, grad_fn=<AddBackward0>)\n"
     ]
    },
    {
     "data": {
      "image/png": "[encoded data removed]",
      "text/plain": [
       "<Figure size 1000x600 with 1 Axes>"
      ]
     },
     "metadata": {},
     "output_type": "display_data"
    }
   ],
   "source": [
    "states = []\n",
    "batch = 3\n",
    "state_tensor = X[:,0,:]\n",
    "batch_size = 15\n",
    "transition_tensor = torch.zeros(batch_size, n_features, n_features)\n",
    "for step_state in range(300):\n",
    "    state_tensor, transition_tensor = model.step_coil(state_tensor, transition_tensor)\n",
    "    states.append(state_tensor[batch,:])\n",
    "    print(sum(state_tensor[batch,:]))\n",
    "    \n",
    "\n",
    "# Your data\n",
    "data = [row.to('cpu').detach().numpy() for row in states]\n",
    "# Transpose the data to get 5 traces\n",
    "traces = list(zip(*data))\n",
    "\n",
    "# Plotting\n",
    "plt.figure(figsize=(10, 6))\n",
    "for i, trace in enumerate(traces):\n",
    "    plt.plot(trace, label=f'Trace {i+1}')\n",
    "\n",
    "plt.xlabel('Timestep')\n",
    "plt.ylabel('Value')\n",
    "plt.legend()\n",
    "plt.show()"
   ]
  }
 ],
 "metadata": {
  "kernelspec": {
   "display_name": "coilspy-1sgZ1XBf-py3.12",
   "language": "python",
   "name": "python3"
  },
  "language_info": {
   "codemirror_mode": {
    "name": "ipython",
    "version": 3
   },
   "file_extension": ".py",
   "mimetype": "text/x-python",
   "name": "python",
   "nbconvert_exporter": "python",
   "pygments_lexer": "ipython3",
   "version": "3.12.2"
  }
 },
 "nbformat": 4,
 "nbformat_minor": 2
}
