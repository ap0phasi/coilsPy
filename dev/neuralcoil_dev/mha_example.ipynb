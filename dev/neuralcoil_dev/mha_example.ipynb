{
 "cells": [
  {
   "cell_type": "code",
   "execution_count": 1,
   "metadata": {},
   "outputs": [],
   "source": [
    "import torch\n",
    "import torch.nn as nn\n",
    "\n",
    "class CustomLayer(nn.Module):\n",
    "    def __init__(self, n_features):\n",
    "        super(CustomLayer, self).__init__()\n",
    "        self.n_features = n_features\n",
    "        # Initialize the interaction tensor as a learnable parameter\n",
    "        self.interaction_tensor = nn.Parameter(torch.randn(n_features, n_features, n_features))\n",
    "\n",
    "    def forward(self, x):\n",
    "        # x is expected to be of size [batch, length, n_features]\n",
    "        batch, length, n_features = x.size()\n",
    "\n",
    "        # Process each [n_features] vector across batch and length\n",
    "        output = x.new_empty(batch, length, n_features)\n",
    "        for b in range(batch):\n",
    "            for l in range(length):\n",
    "                state_tensor = x[b, l, :]  # Shape: [n_features]\n",
    "                # Step 1: Multiply state tensor by interaction tensor to get transition tensor\n",
    "                # We manually implement the multiplication to match your operation\n",
    "                transition_tensor = torch.einsum('i,ijk->jk', state_tensor, self.interaction_tensor)\n",
    "                # Step 2: Multiply the transition tensor by the state tensor\n",
    "                # Resulting shape: [n_features]\n",
    "                output[b, l, :] = torch.matmul(transition_tensor, state_tensor)\n",
    "\n",
    "        return output\n"
   ]
  },
  {
   "cell_type": "code",
   "execution_count": 2,
   "metadata": {},
   "outputs": [],
   "source": [
    "import torch\n",
    "import torch.nn as nn\n",
    "\n",
    "class CustomLayerVectorized(nn.Module):\n",
    "    def __init__(self, n_features):\n",
    "        super(CustomLayerVectorized, self).__init__()\n",
    "        self.n_features = n_features\n",
    "        # Initialize the interaction tensor as a learnable parameter\n",
    "        self.interaction_tensor = nn.Parameter(torch.randn(n_features, n_features, n_features))\n",
    "\n",
    "    def forward(self, x):\n",
    "        # x is expected to be of size [batch, length, n_features]\n",
    "        batch, length, n_features = x.size()\n",
    "\n",
    "        # Pre-allocate output tensor\n",
    "        output = x.new_empty(batch, length, n_features)\n",
    "\n",
    "        # Loop over length, but vectorize over the batch\n",
    "        for l in range(length):\n",
    "            # Extract all vectors at position l across all batches\n",
    "            state_tensor = x[:, l, :]  # Shape: [batch, n_features]\n",
    "            \n",
    "            # Vectorized operation for all batches\n",
    "            # Step 1: Calculate the transition tensor\n",
    "            # Since we cannot directly use einsum for batched operation in this specific scenario,\n",
    "            # we manually broadcast and multiply to achieve the intended result.\n",
    "            # This involves expanding dimensions to enable broadcasting.\n",
    "            state_tensor_expanded = state_tensor.unsqueeze(1).expand(-1, n_features, -1)  # Shape: [batch, n_features, n_features]\n",
    "            interaction_tensor_expanded = self.interaction_tensor.unsqueeze(0).expand(batch, -1, -1, -1)  # Shape: [batch, n_features, n_features, n_features]\n",
    "            # Multiply and sum over the last dimension to get the transition tensor\n",
    "            transition_tensor = torch.einsum('bik,bijk->bij', state_tensor_expanded, interaction_tensor_expanded)\n",
    "            \n",
    "            # Step 2: Multiply the transition tensor by the state tensor to get the output\n",
    "            output[:, l, :] = torch.einsum('bij,bj->bi', transition_tensor, state_tensor)\n",
    "\n",
    "        return output\n",
    "\n"
   ]
  },
  {
   "cell_type": "code",
   "execution_count": 3,
   "metadata": {},
   "outputs": [],
   "source": [
    "# n_features = 16\n",
    "# batch, length, dim = 2, 64, n_features\n",
    "# x = torch.randn(batch, length, dim)\n",
    "# model = CustomLayerVectorized(\n",
    "#     n_features = n_features\n",
    "# )\n",
    "# y = model(x)\n",
    "\n",
    "# print(x.shape)\n",
    "# assert y.shape == x.shape"
   ]
  },
  {
   "cell_type": "code",
   "execution_count": 4,
   "metadata": {},
   "outputs": [
    {
     "name": "stdout",
     "output_type": "stream",
     "text": [
      "tensor([[0.2689, 0.0689, 0.1848, 0.0131, 0.3404, 0.1239],\n",
      "        [0.2006, 0.1680, 0.0602, 0.0144, 0.3262, 0.2306],\n",
      "        [0.2770, 0.1307, 0.0917, 0.0989, 0.2853, 0.1164],\n",
      "        [0.1350, 0.1396, 0.1291, 0.1483, 0.3212, 0.1268],\n",
      "        [0.2361, 0.3043, 0.0822, 0.3354, 0.0281, 0.0139]])\n",
      "tensor([1.0000, 1.0000, 1.0000, 1.0000, 1.0000])\n"
     ]
    }
   ],
   "source": [
    "import torch\n",
    "\n",
    "def torch_randnorm(size, dim=0):\n",
    "    # Generate a random tensor\n",
    "    rand_tensor = torch.rand(size)\n",
    "    \n",
    "    # Normalize along the specified dimension\n",
    "    sum_along_dim = torch.sum(rand_tensor, dim=dim, keepdim=True)\n",
    "    normalized_tensor = rand_tensor / sum_along_dim\n",
    "    \n",
    "    return normalized_tensor\n",
    "\n",
    "# Example usage\n",
    "normalized_tensor = torch_randnorm([5,6], dim=1)\n",
    "print(normalized_tensor)\n",
    "print(normalized_tensor.sum(dim=1))"
   ]
  },
  {
   "cell_type": "code",
   "execution_count": 5,
   "metadata": {},
   "outputs": [],
   "source": [
    "class InteractionModule(nn.Module):\n",
    "    def __init__(self, n_features):\n",
    "        super(InteractionModule, self).__init__()\n",
    "        self.n_features = n_features\n",
    "        # Initialize a set of interaction tensors, one for the state tensor and one for each column of the transition tensor\n",
    "        self.interaction_tensors = nn.ParameterList([nn.Parameter(torch_randnorm([n_features, n_features, n_features], dim = 1)) for _ in range(n_features + 1)])\n",
    "\n",
    "    def forward(self, state_tensor, previous_transition_tensor):\n",
    "        # Get batch size\n",
    "        batch = state_tensor.shape[0]\n",
    "        # Assuming previous_transition_tensors is a list of transition tensors from the previous step\n",
    "        candidates = []\n",
    "        for i in range(self.n_features + 1):\n",
    "            if i == 0:  # Interaction with the state tensor\n",
    "                current_tensor = state_tensor\n",
    "            else:  # Interaction with columns of the previous transition tensor\n",
    "                current_tensor = previous_transition_tensor[:, :, i - 1]\n",
    "\n",
    "            interaction_tensor = self.interaction_tensors[i]\n",
    "            current_tensor_expanded = current_tensor.unsqueeze(1).expand(-1, self.n_features, -1)  # Shape: [batch, n_features, n_features]\n",
    "            interaction_tensor_expanded = interaction_tensor.unsqueeze(0).expand(batch, -1, -1, -1)  # Shape: [batch, n_features, n_features, n_features]\n",
    "            # Multiply and sum over the last dimension to get the transition tensor\n",
    "            candidate = torch.einsum('bik,bijk->bij', current_tensor_expanded, interaction_tensor_expanded)\n",
    "            \n",
    "            candidates.append(candidate)\n",
    "            \n",
    "        candidates_tensor = torch.stack(candidates, dim = -1)\n",
    "        return candidates_tensor\n"
   ]
  },
  {
   "cell_type": "code",
   "execution_count": null,
   "metadata": {},
   "outputs": [],
   "source": []
  },
  {
   "cell_type": "code",
   "execution_count": 6,
   "metadata": {},
   "outputs": [],
   "source": [
    "class CustomLayerExtended(nn.Module):\n",
    "    def __init__(self, n_features):\n",
    "        super(CustomLayerExtended, self).__init__()\n",
    "        self.n_features = n_features\n",
    "        self.interaction_module = InteractionModule(n_features)\n",
    "        self.selector_module = SelectorModule(n_features + 1)\n",
    "\n",
    "    def forward(self, x):\n",
    "        batch, length, n_features = x.size()\n",
    "        output = x.new_empty(batch, length, n_features)\n",
    "\n",
    "        # Initialize previous transition tensors (for the first step)\n",
    "        # Assuming it's a list of zero tensors for simplicity\n",
    "        previous_transition_tensor = torch.zeros(batch, n_features, n_features)\n",
    "\n",
    "        for l in range(length):\n",
    "            state_tensor = x[:, l, :]\n",
    "            # Generate candidates\n",
    "            candidates = self.interaction_module(state_tensor, previous_transition_tensor)\n",
    "            # Select one candidate\n",
    "            selected_transition_tensor = self.selector_module(candidates)\n",
    "            # Update the previous_transition_tensors for the next iteration\n",
    "            previous_transition_tensor = selected_transition_tensor\n",
    "            # Compute output for this step\n",
    "            output[:, l, :] = torch.matmul(selected_transition_tensor, state_tensor.unsqueeze(-1)).squeeze(-1)\n",
    "\n",
    "        return output, selected_transition_tensor\n"
   ]
  },
  {
   "cell_type": "code",
   "execution_count": 7,
   "metadata": {},
   "outputs": [
    {
     "name": "stdout",
     "output_type": "stream",
     "text": [
      "torch.Size([10, 5, 5])\n"
     ]
    }
   ],
   "source": [
    "import torch\n",
    "import torch.nn as nn\n",
    "import torch.nn.functional as F\n",
    "\n",
    "class SelectorModule(nn.Module):\n",
    "    def __init__(self, num_slices):\n",
    "        super(SelectorModule, self).__init__()\n",
    "        # A simple linear layer to compute importance scores for each slice\n",
    "        self.importance = nn.Linear(num_slices, num_slices)\n",
    "\n",
    "    def forward(self, x):\n",
    "        # Assuming x is of shape [batch_size, height, width, num_slices]\n",
    "        batch_size, _, _, num_slices = x.shape\n",
    "\n",
    "        # Compute importance scores by reducing x across spatial dimensions\n",
    "        # Here, we take the mean of x across the spatial dimensions to get a vector per slice\n",
    "        x_reduced = x.mean(dim=[1, 2])  # Shape: [batch_size, num_slices]\n",
    "\n",
    "        # Compute scores for each slice\n",
    "        scores = self.importance(x_reduced)  # Shape: [batch_size, num_slices]\n",
    "\n",
    "        # Apply softmax to get weights for each slice\n",
    "        weights = F.softmax(scores, dim=-1)  # Shape: [batch_size, num_slices]\n",
    "\n",
    "        # Correct application of weights:\n",
    "        # We need to ensure weights are applied across the num_slices dimension correctly.\n",
    "        # Since weights are [batch_size, num_slices] and x is [batch_size, height, width, num_slices],\n",
    "        # we permute x to bring num_slices to the front for broadcasting.\n",
    "        x_permuted = x.permute(0, 3, 1, 2)  # Shape: [batch_size, num_slices, height, width]\n",
    "        \n",
    "        # Now, multiply by weights. We need to reshape weights to [batch_size, num_slices, 1, 1] for broadcasting.\n",
    "        weighted_slices = x_permuted * weights.view(batch_size, num_slices, 1, 1)\n",
    "        \n",
    "        # Finally, sum the weighted slices across the num_slices dimension (now the first dimension after permute)\n",
    "        selected = weighted_slices.sum(dim=1)  # Shape: [batch_size, height, width]\n",
    "\n",
    "        return selected\n",
    "\n",
    "# Example usage\n",
    "batch_size = 10\n",
    "tensor = torch.rand(batch_size, 5, 5, 6)  # Example tensor\n",
    "model = SelectorModule(num_slices=6)\n",
    "\n",
    "result = model(tensor)\n",
    "print(result.shape)  # Should print torch.Size([10, 5, 5])\n"
   ]
  },
  {
   "cell_type": "code",
   "execution_count": 8,
   "metadata": {},
   "outputs": [
    {
     "name": "stdout",
     "output_type": "stream",
     "text": [
      "torch.Size([13, 64, 4])\n"
     ]
    }
   ],
   "source": [
    "import torch\n",
    "import torch.nn as nn\n",
    "import torch.nn.functional as F\n",
    "\n",
    "class ModelWithMultiHeadAttention(nn.Module):\n",
    "    def __init__(self, n_features, num_heads):\n",
    "        super(ModelWithMultiHeadAttention, self).__init__()\n",
    "        self.multihead_attn = nn.MultiheadAttention(embed_dim=n_features, num_heads=num_heads)\n",
    "        # Optional: Additional feed-forward layers can be added here\n",
    "\n",
    "    def forward(self, x):\n",
    "        # Adjust input from shape [batch, seq_len, features] to [seq_len, batch, features]\n",
    "        x = x.permute(1, 0, 2)\n",
    "        \n",
    "        # MultiHeadAttention expects input as (query, key, value)\n",
    "        attn_output, _ = self.multihead_attn(x, x, x)\n",
    "        \n",
    "        # Adjust output back to [batch, seq_len, features]\n",
    "        attn_output = attn_output.permute(1, 0, 2)\n",
    "        \n",
    "        return attn_output\n",
    "\n",
    "# Initialize the model\n",
    "n_features = 4\n",
    "num_heads = 2  # The number of heads in the multi-head attention model. Adjust as needed.\n",
    "model = ModelWithMultiHeadAttention(n_features=n_features, num_heads=num_heads)\n",
    "\n",
    "# Define input dimensions\n",
    "batch, length, dim = 13, 64, n_features\n",
    "# Create a sample input tensor\n",
    "x = torch.randn(batch, length, dim)\n",
    "\n",
    "# Process the input through the model\n",
    "y = model(x)\n",
    "\n",
    "print(y.shape)\n",
    "assert y.shape == x.shape, \"Output shape does not match input shape.\"\n"
   ]
  },
  {
   "cell_type": "code",
   "execution_count": 9,
   "metadata": {},
   "outputs": [
    {
     "name": "stdout",
     "output_type": "stream",
     "text": [
      "tensor([[[-1.3132e-02,  9.6670e-05,  4.3873e-02,  3.7204e-02],\n",
      "         [-7.9725e-02,  2.7489e-02,  6.3702e-02,  9.1772e-02],\n",
      "         [ 9.6000e-03,  6.6347e-03,  3.0099e-02,  1.1324e-02],\n",
      "         ...,\n",
      "         [-9.7331e-03,  5.2403e-03,  2.2834e-02,  3.6004e-02],\n",
      "         [-1.1410e-01, -1.7790e-02,  5.4972e-02,  5.3656e-02],\n",
      "         [ 7.1453e-02,  7.1417e-02,  3.7364e-02,  7.4027e-02]],\n",
      "\n",
      "        [[ 5.0169e-03, -1.8186e-02,  5.0923e-02,  6.3843e-02],\n",
      "         [-6.0023e-02, -5.4565e-03,  6.3910e-02,  9.8263e-02],\n",
      "         [-8.3269e-02, -1.2595e-02,  7.4005e-02,  1.1287e-01],\n",
      "         ...,\n",
      "         [-4.0306e-02, -4.9772e-02,  4.5456e-02,  3.4064e-02],\n",
      "         [-1.6063e-01,  4.1586e-03,  8.9445e-02,  1.6022e-01],\n",
      "         [-1.6493e-01, -5.8833e-02,  6.9903e-02,  6.9010e-02]],\n",
      "\n",
      "        [[-1.1364e-02, -4.2455e-03, -6.4126e-02, -6.5738e-02],\n",
      "         [ 2.0326e-03,  9.5053e-04, -2.3919e-02, -2.4569e-02],\n",
      "         [-3.6914e-02, -1.1604e-02, -2.7392e-02, -2.6827e-02],\n",
      "         ...,\n",
      "         [-8.3770e-02, -1.6315e-02, -2.8734e-02, -2.9498e-02],\n",
      "         [ 9.1025e-02,  4.5478e-02, -1.2136e-02,  1.3170e-02],\n",
      "         [-8.5473e-02, -1.5301e-02, -2.8006e-02, -2.2052e-02]],\n",
      "\n",
      "        ...,\n",
      "\n",
      "        [[-1.2845e-01,  3.6689e-02,  5.2842e-02,  7.3940e-02],\n",
      "         [-1.2537e-02,  3.4460e-02,  4.2446e-02,  6.1064e-02],\n",
      "         [-5.1753e-03,  5.5294e-02,  4.4174e-02,  6.9549e-02],\n",
      "         ...,\n",
      "         [ 6.7860e-03,  6.1789e-02,  5.3847e-02,  7.7188e-02],\n",
      "         [ 5.9327e-04,  4.2554e-02,  3.4258e-02,  4.3399e-02],\n",
      "         [-5.7542e-02,  6.7558e-02,  2.4122e-02,  4.2892e-02]],\n",
      "\n",
      "        [[-7.3849e-02,  5.3470e-02, -5.7223e-02, -5.7713e-02],\n",
      "         [ 1.0019e-01,  7.1870e-02, -4.6897e-02, -2.2102e-02],\n",
      "         [ 6.5858e-02,  3.4203e-02, -7.3662e-02, -7.2677e-02],\n",
      "         ...,\n",
      "         [ 6.3703e-02,  3.4878e-02, -6.0626e-02, -7.4026e-02],\n",
      "         [ 9.2931e-02,  1.6938e-02, -6.5667e-02, -1.2409e-01],\n",
      "         [-1.7362e-01,  3.2410e-02, -4.4464e-02, -7.7188e-03]],\n",
      "\n",
      "        [[ 1.3771e-01, -2.5203e-02, -1.2089e-01, -1.6496e-01],\n",
      "         [ 8.6024e-02, -3.5281e-02, -1.0047e-01, -1.1858e-01],\n",
      "         [ 4.9525e-02, -7.9943e-02, -1.2025e-01, -1.9349e-01],\n",
      "         ...,\n",
      "         [ 1.3468e-01, -4.4968e-02, -1.1132e-01, -1.6883e-01],\n",
      "         [ 9.8340e-02, -1.4610e-02, -1.0504e-01, -1.3663e-01],\n",
      "         [ 6.5567e-02, -5.6706e-02, -1.0633e-01, -1.4521e-01]]],\n",
      "       grad_fn=<PermuteBackward0>)\n"
     ]
    }
   ],
   "source": [
    "print(y)"
   ]
  },
  {
   "cell_type": "markdown",
   "metadata": {},
   "source": [
    "# Example Training"
   ]
  },
  {
   "cell_type": "markdown",
   "metadata": {},
   "source": [
    "## Simple Data Generation"
   ]
  },
  {
   "cell_type": "code",
   "execution_count": 10,
   "metadata": {},
   "outputs": [],
   "source": [
    "import numpy as np\n",
    "import torch\n",
    "\n",
    "def generate_normalized_multivariate_time_series(n_features, total_length, amplitude=1.0):\n",
    "    t = np.linspace(0, 100 * np.pi, total_length)\n",
    "    series = np.zeros((total_length, n_features))\n",
    "    for i in range(n_features):\n",
    "        series[:, i] = amplitude * np.cos(t * (i + 1) / n_features) + 10\n",
    "    \n",
    "    # Normalize such that each timestep's values sum to 1\n",
    "    series_sum = np.sum(series, axis=1, keepdims=True)\n",
    "    series_normalized = series / series_sum\n",
    "    \n",
    "    return series_normalized\n",
    "\n",
    "def segment_time_series(series, length):\n",
    "    # Assuming series is a numpy array of shape [total_length, n_features]\n",
    "    total_length, n_features = series.shape\n",
    "    segments = []\n",
    "    for start in range(0, total_length - length, length):\n",
    "        segment = series[start:start + length]\n",
    "        segments.append(segment)\n",
    "    return np.stack(segments)\n"
   ]
  },
  {
   "cell_type": "code",
   "execution_count": 11,
   "metadata": {},
   "outputs": [],
   "source": [
    "n_features = 4\n",
    "length = 64  # Segment length\n",
    "total_length = 1024  # Arbitrary total length for the generated series\n",
    "\n",
    "# Generate and segment the time series\n",
    "series = generate_normalized_multivariate_time_series(n_features, total_length)\n",
    "series_x = series[:-1,]\n",
    "series_y = series[1:,]\n",
    "\n",
    "segments_x = segment_time_series(series_x, length)\n",
    "segments_y = segment_time_series(series_y, length)\n",
    "\n",
    "# Convert to tensors\n",
    "segments_tensor_x = torch.tensor(segments_x, dtype=torch.float)\n",
    "segments_tensor_y = torch.tensor(segments_y, dtype=torch.float)\n",
    "\n",
    "# Prepare inputs and targets\n",
    "X = segments_tensor_x\n",
    "# Shift segments to the right by one timestep to create the targets\n",
    "Y =  segments_tensor_y\n"
   ]
  },
  {
   "cell_type": "code",
   "execution_count": 12,
   "metadata": {},
   "outputs": [
    {
     "name": "stdout",
     "output_type": "stream",
     "text": [
      "Epoch [10/100], Loss: 0.0023037781938910484\n",
      "Epoch [20/100], Loss: 0.0027160472236573696\n",
      "Epoch [30/100], Loss: 0.0005753056611865759\n",
      "Epoch [40/100], Loss: 0.000462029071059078\n",
      "Epoch [50/100], Loss: 0.0002887541486416012\n",
      "Epoch [60/100], Loss: 0.00026820178027264774\n",
      "Epoch [70/100], Loss: 0.0002540374407544732\n",
      "Epoch [80/100], Loss: 0.00024360966926906258\n",
      "Epoch [90/100], Loss: 0.0002441710967104882\n",
      "Epoch [100/100], Loss: 0.00024371060135308653\n"
     ]
    }
   ],
   "source": [
    "from torch import nn, optim\n",
    "\n",
    "# Model\n",
    "num_heads = 4\n",
    "model = ModelWithMultiHeadAttention(n_features=n_features, num_heads=num_heads)\n",
    "\n",
    "# Loss and optimizer\n",
    "criterion = nn.MSELoss()\n",
    "optimizer = optim.Adam(model.parameters(), lr=0.01)\n",
    "\n",
    "# Training loop\n",
    "epochs = 100\n",
    "for epoch in range(epochs):\n",
    "    model.train()\n",
    "    optimizer.zero_grad()\n",
    "    # Forward pass\n",
    "    outputs = model(X)\n",
    "    loss = criterion(outputs, Y)\n",
    "\n",
    "    # Backward and optimize\n",
    "    loss.backward()\n",
    "    optimizer.step()\n",
    "\n",
    "    if (epoch + 1) % 10 == 0:\n",
    "        print(f'Epoch [{epoch+1}/{epochs}], Loss: {loss.item()}')\n"
   ]
  },
  {
   "cell_type": "code",
   "execution_count": 13,
   "metadata": {},
   "outputs": [
    {
     "data": {
      "text/plain": [
       "tensor([[0.2304, 0.2339],\n",
       "        [0.2339, 0.2378],\n",
       "        [0.2378, 0.2419],\n",
       "        [0.2419, 0.2460],\n",
       "        [0.2460, 0.2497],\n",
       "        [0.2497, 0.2529],\n",
       "        [0.2529, 0.2553],\n",
       "        [0.2553, 0.2569],\n",
       "        [0.2569, 0.2577],\n",
       "        [0.2577, 0.2576],\n",
       "        [0.2576, 0.2570],\n",
       "        [0.2570, 0.2558],\n",
       "        [0.2558, 0.2545],\n",
       "        [0.2545, 0.2530],\n",
       "        [0.2530, 0.2518],\n",
       "        [0.2518, 0.2508],\n",
       "        [0.2508, 0.2502],\n",
       "        [0.2502, 0.2500],\n",
       "        [0.2500, 0.2503],\n",
       "        [0.2503, 0.2511],\n",
       "        [0.2511, 0.2522],\n",
       "        [0.2522, 0.2535],\n",
       "        [0.2535, 0.2549],\n",
       "        [0.2549, 0.2562],\n",
       "        [0.2562, 0.2572],\n",
       "        [0.2572, 0.2577],\n",
       "        [0.2577, 0.2575],\n",
       "        [0.2575, 0.2565],\n",
       "        [0.2565, 0.2546],\n",
       "        [0.2546, 0.2520],\n",
       "        [0.2520, 0.2486],\n",
       "        [0.2486, 0.2447],\n",
       "        [0.2447, 0.2406],\n",
       "        [0.2406, 0.2365],\n",
       "        [0.2365, 0.2327],\n",
       "        [0.2327, 0.2295],\n",
       "        [0.2295, 0.2269],\n",
       "        [0.2269, 0.2253],\n",
       "        [0.2253, 0.2246],\n",
       "        [0.2246, 0.2250],\n",
       "        [0.2250, 0.2263],\n",
       "        [0.2263, 0.2286],\n",
       "        [0.2286, 0.2318],\n",
       "        [0.2318, 0.2356],\n",
       "        [0.2356, 0.2400],\n",
       "        [0.2400, 0.2446],\n",
       "        [0.2446, 0.2494],\n",
       "        [0.2494, 0.2541],\n",
       "        [0.2541, 0.2584],\n",
       "        [0.2584, 0.2623],\n",
       "        [0.2623, 0.2657],\n",
       "        [0.2657, 0.2685],\n",
       "        [0.2685, 0.2706],\n",
       "        [0.2706, 0.2723],\n",
       "        [0.2723, 0.2734],\n",
       "        [0.2734, 0.2742],\n",
       "        [0.2742, 0.2747],\n",
       "        [0.2747, 0.2749],\n",
       "        [0.2749, 0.2750],\n",
       "        [0.2750, 0.2749],\n",
       "        [0.2749, 0.2745],\n",
       "        [0.2745, 0.2739],\n",
       "        [0.2739, 0.2729],\n",
       "        [0.2729, 0.2716]])"
      ]
     },
     "execution_count": 13,
     "metadata": {},
     "output_type": "execute_result"
    }
   ],
   "source": [
    "torch.stack([X[1,:,1],Y[1,:,1]], dim = -1)"
   ]
  },
  {
   "cell_type": "code",
   "execution_count": 14,
   "metadata": {},
   "outputs": [
    {
     "data": {
      "application/vnd.plotly.v1+json": {
       "config": {
        "plotlyServerURL": "https://plot.ly"
       },
       "data": [
        {
         "mode": "lines",
         "name": "Model Output",
         "type": "scatter",
         "x": [
          0,
          1,
          2,
          3,
          4,
          5,
          6,
          7,
          8,
          9,
          10,
          11,
          12,
          13,
          14,
          15,
          16,
          17,
          18,
          19,
          20,
          21,
          22,
          23,
          24,
          25,
          26,
          27,
          28,
          29,
          30,
          31,
          32,
          33,
          34,
          35,
          36,
          37,
          38,
          39,
          40,
          41,
          42,
          43,
          44,
          45,
          46,
          47,
          48,
          49,
          50,
          51,
          52,
          53,
          54,
          55,
          56,
          57,
          58,
          59,
          60,
          61,
          62,
          63
         ],
         "y": [
          0.2501927316188812,
          0.2501929700374603,
          0.25019317865371704,
          0.25019344687461853,
          0.25019359588623047,
          0.2501937448978424,
          0.25019383430480957,
          0.25019386410713196,
          0.25019389390945435,
          0.25019389390945435,
          0.2501938045024872,
          0.2501937448978424,
          0.25019365549087524,
          0.25019362568855286,
          0.25019365549087524,
          0.25019362568855286,
          0.25019368529319763,
          0.2501937448978424,
          0.25019386410713196,
          0.2501940131187439,
          0.25019413232803345,
          0.2501942813396454,
          0.2501944303512573,
          0.2501945495605469,
          0.25019460916519165,
          0.2501946687698364,
          0.25019463896751404,
          0.25019460916519165,
          0.2501944899559021,
          0.25019434094429016,
          0.2501942217350006,
          0.25019410252571106,
          0.2501939833164215,
          0.25019386410713196,
          0.2501938045024872,
          0.2501937448978424,
          0.25019371509552,
          0.2501937747001648,
          0.25019383430480957,
          0.25019392371177673,
          0.2501940429210663,
          0.2501941919326782,
          0.2501943111419678,
          0.2501944601535797,
          0.25019457936286926,
          0.25019463896751404,
          0.2501946687698364,
          0.2501946687698364,
          0.25019457936286926,
          0.2501944899559021,
          0.2501943111419678,
          0.2501942217350006,
          0.2501940429210663,
          0.25019389390945435,
          0.2501938045024872,
          0.25019371509552,
          0.25019365549087524,
          0.25019362568855286,
          0.25019362568855286,
          0.25019365549087524,
          0.25019371509552,
          0.2501938045024872,
          0.25019386410713196,
          0.25019386410713196
         ]
        },
        {
         "mode": "lines",
         "name": "Target",
         "type": "scatter",
         "x": [
          0,
          1,
          2,
          3,
          4,
          5,
          6,
          7,
          8,
          9,
          10,
          11,
          12,
          13,
          14,
          15,
          16,
          17,
          18,
          19,
          20,
          21,
          22,
          23,
          24,
          25,
          26,
          27,
          28,
          29,
          30,
          31,
          32,
          33,
          34,
          35,
          36,
          37,
          38,
          39,
          40,
          41,
          42,
          43,
          44,
          45,
          46,
          47,
          48,
          49,
          50,
          51,
          52,
          53,
          54,
          55,
          56,
          57,
          58,
          59,
          60,
          61,
          62,
          63
         ],
         "y": [
          0.2463638186454773,
          0.2403283417224884,
          0.23543065786361694,
          0.23213863372802734,
          0.23076556622982025,
          0.23143422603607178,
          0.23406514525413513,
          0.23839111626148224,
          0.24399350583553314,
          0.2503525912761688,
          0.2569023668766022,
          0.26308223605155945,
          0.26838037371635437,
          0.2723676264286041,
          0.2747228443622589,
          0.2752511501312256,
          0.27389708161354065,
          0.27075275778770447,
          0.26605889201164246,
          0.26019546389579773,
          0.25365743041038513,
          0.2470129132270813,
          0.2408444732427597,
          0.2356804460287094,
          0.2319278120994568,
          0.22982117533683777,
          0.22939889132976532,
          0.23051103949546814,
          0.2328549027442932,
          0.23602743446826935,
          0.23958232998847961,
          0.2430814504623413,
          0.24613481760025024,
          0.2484278380870819,
          0.2497376799583435,
          0.24994175136089325,
          0.2490212321281433,
          0.2470616102218628,
          0.24425026774406433,
          0.2408701628446579,
          0.23728667199611664,
          0.2339244931936264,
          0.2312324196100235,
          0.22963552176952362,
          0.22947916388511658,
          0.23097354173660278,
          0.23415057361125946,
          0.23884524405002594,
          0.24470795691013336,
          0.2512468993663788,
          0.25789085030555725,
          0.26405906677246094,
          0.2692244350910187,
          0.27296194434165955,
          0.2749789357185364,
          0.275129497051239,
          0.27341654896736145,
          0.269986093044281,
          0.2651156187057495,
          0.2591978907585144,
          0.25271841883659363,
          0.24622471630573273,
          0.2402864694595337,
          0.23544631898403168
         ]
        }
       ],
       "layout": {
        "template": {
         "data": {
          "bar": [
           {
            "error_x": {
             "color": "#2a3f5f"
            },
            "error_y": {
             "color": "#2a3f5f"
            },
            "marker": {
             "line": {
              "color": "#E5ECF6",
              "width": 0.5
             },
             "pattern": {
              "fillmode": "overlay",
              "size": 10,
              "solidity": 0.2
             }
            },
            "type": "bar"
           }
          ],
          "barpolar": [
           {
            "marker": {
             "line": {
              "color": "#E5ECF6",
              "width": 0.5
             },
             "pattern": {
              "fillmode": "overlay",
              "size": 10,
              "solidity": 0.2
             }
            },
            "type": "barpolar"
           }
          ],
          "carpet": [
           {
            "aaxis": {
             "endlinecolor": "#2a3f5f",
             "gridcolor": "white",
             "linecolor": "white",
             "minorgridcolor": "white",
             "startlinecolor": "#2a3f5f"
            },
            "baxis": {
             "endlinecolor": "#2a3f5f",
             "gridcolor": "white",
             "linecolor": "white",
             "minorgridcolor": "white",
             "startlinecolor": "#2a3f5f"
            },
            "type": "carpet"
           }
          ],
          "choropleth": [
           {
            "colorbar": {
             "outlinewidth": 0,
             "ticks": ""
            },
            "type": "choropleth"
           }
          ],
          "contour": [
           {
            "colorbar": {
             "outlinewidth": 0,
             "ticks": ""
            },
            "colorscale": [
             [
              0,
              "#0d0887"
             ],
             [
              0.1111111111111111,
              "#46039f"
             ],
             [
              0.2222222222222222,
              "#7201a8"
             ],
             [
              0.3333333333333333,
              "#9c179e"
             ],
             [
              0.4444444444444444,
              "#bd3786"
             ],
             [
              0.5555555555555556,
              "#d8576b"
             ],
             [
              0.6666666666666666,
              "#ed7953"
             ],
             [
              0.7777777777777778,
              "#fb9f3a"
             ],
             [
              0.8888888888888888,
              "#fdca26"
             ],
             [
              1,
              "#f0f921"
             ]
            ],
            "type": "contour"
           }
          ],
          "contourcarpet": [
           {
            "colorbar": {
             "outlinewidth": 0,
             "ticks": ""
            },
            "type": "contourcarpet"
           }
          ],
          "heatmap": [
           {
            "colorbar": {
             "outlinewidth": 0,
             "ticks": ""
            },
            "colorscale": [
             [
              0,
              "#0d0887"
             ],
             [
              0.1111111111111111,
              "#46039f"
             ],
             [
              0.2222222222222222,
              "#7201a8"
             ],
             [
              0.3333333333333333,
              "#9c179e"
             ],
             [
              0.4444444444444444,
              "#bd3786"
             ],
             [
              0.5555555555555556,
              "#d8576b"
             ],
             [
              0.6666666666666666,
              "#ed7953"
             ],
             [
              0.7777777777777778,
              "#fb9f3a"
             ],
             [
              0.8888888888888888,
              "#fdca26"
             ],
             [
              1,
              "#f0f921"
             ]
            ],
            "type": "heatmap"
           }
          ],
          "heatmapgl": [
           {
            "colorbar": {
             "outlinewidth": 0,
             "ticks": ""
            },
            "colorscale": [
             [
              0,
              "#0d0887"
             ],
             [
              0.1111111111111111,
              "#46039f"
             ],
             [
              0.2222222222222222,
              "#7201a8"
             ],
             [
              0.3333333333333333,
              "#9c179e"
             ],
             [
              0.4444444444444444,
              "#bd3786"
             ],
             [
              0.5555555555555556,
              "#d8576b"
             ],
             [
              0.6666666666666666,
              "#ed7953"
             ],
             [
              0.7777777777777778,
              "#fb9f3a"
             ],
             [
              0.8888888888888888,
              "#fdca26"
             ],
             [
              1,
              "#f0f921"
             ]
            ],
            "type": "heatmapgl"
           }
          ],
          "histogram": [
           {
            "marker": {
             "pattern": {
              "fillmode": "overlay",
              "size": 10,
              "solidity": 0.2
             }
            },
            "type": "histogram"
           }
          ],
          "histogram2d": [
           {
            "colorbar": {
             "outlinewidth": 0,
             "ticks": ""
            },
            "colorscale": [
             [
              0,
              "#0d0887"
             ],
             [
              0.1111111111111111,
              "#46039f"
             ],
             [
              0.2222222222222222,
              "#7201a8"
             ],
             [
              0.3333333333333333,
              "#9c179e"
             ],
             [
              0.4444444444444444,
              "#bd3786"
             ],
             [
              0.5555555555555556,
              "#d8576b"
             ],
             [
              0.6666666666666666,
              "#ed7953"
             ],
             [
              0.7777777777777778,
              "#fb9f3a"
             ],
             [
              0.8888888888888888,
              "#fdca26"
             ],
             [
              1,
              "#f0f921"
             ]
            ],
            "type": "histogram2d"
           }
          ],
          "histogram2dcontour": [
           {
            "colorbar": {
             "outlinewidth": 0,
             "ticks": ""
            },
            "colorscale": [
             [
              0,
              "#0d0887"
             ],
             [
              0.1111111111111111,
              "#46039f"
             ],
             [
              0.2222222222222222,
              "#7201a8"
             ],
             [
              0.3333333333333333,
              "#9c179e"
             ],
             [
              0.4444444444444444,
              "#bd3786"
             ],
             [
              0.5555555555555556,
              "#d8576b"
             ],
             [
              0.6666666666666666,
              "#ed7953"
             ],
             [
              0.7777777777777778,
              "#fb9f3a"
             ],
             [
              0.8888888888888888,
              "#fdca26"
             ],
             [
              1,
              "#f0f921"
             ]
            ],
            "type": "histogram2dcontour"
           }
          ],
          "mesh3d": [
           {
            "colorbar": {
             "outlinewidth": 0,
             "ticks": ""
            },
            "type": "mesh3d"
           }
          ],
          "parcoords": [
           {
            "line": {
             "colorbar": {
              "outlinewidth": 0,
              "ticks": ""
             }
            },
            "type": "parcoords"
           }
          ],
          "pie": [
           {
            "automargin": true,
            "type": "pie"
           }
          ],
          "scatter": [
           {
            "fillpattern": {
             "fillmode": "overlay",
             "size": 10,
             "solidity": 0.2
            },
            "type": "scatter"
           }
          ],
          "scatter3d": [
           {
            "line": {
             "colorbar": {
              "outlinewidth": 0,
              "ticks": ""
             }
            },
            "marker": {
             "colorbar": {
              "outlinewidth": 0,
              "ticks": ""
             }
            },
            "type": "scatter3d"
           }
          ],
          "scattercarpet": [
           {
            "marker": {
             "colorbar": {
              "outlinewidth": 0,
              "ticks": ""
             }
            },
            "type": "scattercarpet"
           }
          ],
          "scattergeo": [
           {
            "marker": {
             "colorbar": {
              "outlinewidth": 0,
              "ticks": ""
             }
            },
            "type": "scattergeo"
           }
          ],
          "scattergl": [
           {
            "marker": {
             "colorbar": {
              "outlinewidth": 0,
              "ticks": ""
             }
            },
            "type": "scattergl"
           }
          ],
          "scattermapbox": [
           {
            "marker": {
             "colorbar": {
              "outlinewidth": 0,
              "ticks": ""
             }
            },
            "type": "scattermapbox"
           }
          ],
          "scatterpolar": [
           {
            "marker": {
             "colorbar": {
              "outlinewidth": 0,
              "ticks": ""
             }
            },
            "type": "scatterpolar"
           }
          ],
          "scatterpolargl": [
           {
            "marker": {
             "colorbar": {
              "outlinewidth": 0,
              "ticks": ""
             }
            },
            "type": "scatterpolargl"
           }
          ],
          "scatterternary": [
           {
            "marker": {
             "colorbar": {
              "outlinewidth": 0,
              "ticks": ""
             }
            },
            "type": "scatterternary"
           }
          ],
          "surface": [
           {
            "colorbar": {
             "outlinewidth": 0,
             "ticks": ""
            },
            "colorscale": [
             [
              0,
              "#0d0887"
             ],
             [
              0.1111111111111111,
              "#46039f"
             ],
             [
              0.2222222222222222,
              "#7201a8"
             ],
             [
              0.3333333333333333,
              "#9c179e"
             ],
             [
              0.4444444444444444,
              "#bd3786"
             ],
             [
              0.5555555555555556,
              "#d8576b"
             ],
             [
              0.6666666666666666,
              "#ed7953"
             ],
             [
              0.7777777777777778,
              "#fb9f3a"
             ],
             [
              0.8888888888888888,
              "#fdca26"
             ],
             [
              1,
              "#f0f921"
             ]
            ],
            "type": "surface"
           }
          ],
          "table": [
           {
            "cells": {
             "fill": {
              "color": "#EBF0F8"
             },
             "line": {
              "color": "white"
             }
            },
            "header": {
             "fill": {
              "color": "#C8D4E3"
             },
             "line": {
              "color": "white"
             }
            },
            "type": "table"
           }
          ]
         },
         "layout": {
          "annotationdefaults": {
           "arrowcolor": "#2a3f5f",
           "arrowhead": 0,
           "arrowwidth": 1
          },
          "autotypenumbers": "strict",
          "coloraxis": {
           "colorbar": {
            "outlinewidth": 0,
            "ticks": ""
           }
          },
          "colorscale": {
           "diverging": [
            [
             0,
             "#8e0152"
            ],
            [
             0.1,
             "#c51b7d"
            ],
            [
             0.2,
             "#de77ae"
            ],
            [
             0.3,
             "#f1b6da"
            ],
            [
             0.4,
             "#fde0ef"
            ],
            [
             0.5,
             "#f7f7f7"
            ],
            [
             0.6,
             "#e6f5d0"
            ],
            [
             0.7,
             "#b8e186"
            ],
            [
             0.8,
             "#7fbc41"
            ],
            [
             0.9,
             "#4d9221"
            ],
            [
             1,
             "#276419"
            ]
           ],
           "sequential": [
            [
             0,
             "#0d0887"
            ],
            [
             0.1111111111111111,
             "#46039f"
            ],
            [
             0.2222222222222222,
             "#7201a8"
            ],
            [
             0.3333333333333333,
             "#9c179e"
            ],
            [
             0.4444444444444444,
             "#bd3786"
            ],
            [
             0.5555555555555556,
             "#d8576b"
            ],
            [
             0.6666666666666666,
             "#ed7953"
            ],
            [
             0.7777777777777778,
             "#fb9f3a"
            ],
            [
             0.8888888888888888,
             "#fdca26"
            ],
            [
             1,
             "#f0f921"
            ]
           ],
           "sequentialminus": [
            [
             0,
             "#0d0887"
            ],
            [
             0.1111111111111111,
             "#46039f"
            ],
            [
             0.2222222222222222,
             "#7201a8"
            ],
            [
             0.3333333333333333,
             "#9c179e"
            ],
            [
             0.4444444444444444,
             "#bd3786"
            ],
            [
             0.5555555555555556,
             "#d8576b"
            ],
            [
             0.6666666666666666,
             "#ed7953"
            ],
            [
             0.7777777777777778,
             "#fb9f3a"
            ],
            [
             0.8888888888888888,
             "#fdca26"
            ],
            [
             1,
             "#f0f921"
            ]
           ]
          },
          "colorway": [
           "#636efa",
           "#EF553B",
           "#00cc96",
           "#ab63fa",
           "#FFA15A",
           "#19d3f3",
           "#FF6692",
           "#B6E880",
           "#FF97FF",
           "#FECB52"
          ],
          "font": {
           "color": "#2a3f5f"
          },
          "geo": {
           "bgcolor": "white",
           "lakecolor": "white",
           "landcolor": "#E5ECF6",
           "showlakes": true,
           "showland": true,
           "subunitcolor": "white"
          },
          "hoverlabel": {
           "align": "left"
          },
          "hovermode": "closest",
          "mapbox": {
           "style": "light"
          },
          "paper_bgcolor": "white",
          "plot_bgcolor": "#E5ECF6",
          "polar": {
           "angularaxis": {
            "gridcolor": "white",
            "linecolor": "white",
            "ticks": ""
           },
           "bgcolor": "#E5ECF6",
           "radialaxis": {
            "gridcolor": "white",
            "linecolor": "white",
            "ticks": ""
           }
          },
          "scene": {
           "xaxis": {
            "backgroundcolor": "#E5ECF6",
            "gridcolor": "white",
            "gridwidth": 2,
            "linecolor": "white",
            "showbackground": true,
            "ticks": "",
            "zerolinecolor": "white"
           },
           "yaxis": {
            "backgroundcolor": "#E5ECF6",
            "gridcolor": "white",
            "gridwidth": 2,
            "linecolor": "white",
            "showbackground": true,
            "ticks": "",
            "zerolinecolor": "white"
           },
           "zaxis": {
            "backgroundcolor": "#E5ECF6",
            "gridcolor": "white",
            "gridwidth": 2,
            "linecolor": "white",
            "showbackground": true,
            "ticks": "",
            "zerolinecolor": "white"
           }
          },
          "shapedefaults": {
           "line": {
            "color": "#2a3f5f"
           }
          },
          "ternary": {
           "aaxis": {
            "gridcolor": "white",
            "linecolor": "white",
            "ticks": ""
           },
           "baxis": {
            "gridcolor": "white",
            "linecolor": "white",
            "ticks": ""
           },
           "bgcolor": "#E5ECF6",
           "caxis": {
            "gridcolor": "white",
            "linecolor": "white",
            "ticks": ""
           }
          },
          "title": {
           "x": 0.05
          },
          "xaxis": {
           "automargin": true,
           "gridcolor": "white",
           "linecolor": "white",
           "ticks": "",
           "title": {
            "standoff": 15
           },
           "zerolinecolor": "white",
           "zerolinewidth": 2
          },
          "yaxis": {
           "automargin": true,
           "gridcolor": "white",
           "linecolor": "white",
           "ticks": "",
           "title": {
            "standoff": 15
           },
           "zerolinecolor": "white",
           "zerolinewidth": 2
          }
         }
        },
        "title": {
         "text": "Model Output vs Target for Feature 3, Batch 2"
        },
        "xaxis": {
         "title": {
          "text": "Timestep"
         }
        },
        "yaxis": {
         "title": {
          "text": "Value"
         }
        }
       }
      }
     },
     "metadata": {},
     "output_type": "display_data"
    }
   ],
   "source": [
    "import plotly.graph_objects as go\n",
    "\n",
    "def plot_model_output_vs_target(model_outputs, targets, batch_index=0, feature_index=0):\n",
    "    # Extract the specified feature for the given batch from both the model outputs and targets\n",
    "    model_output_series = model_outputs[batch_index, :, feature_index].detach().numpy()\n",
    "    target_series = targets[batch_index, :, feature_index].numpy()\n",
    "    \n",
    "    # Create a range for the x-axis (timesteps)\n",
    "    timesteps = list(range(model_output_series.shape[0]))\n",
    "    \n",
    "    # Create traces\n",
    "    model_trace = go.Scatter(x=timesteps, y=model_output_series, mode='lines', name='Model Output')\n",
    "    target_trace = go.Scatter(x=timesteps, y=target_series, mode='lines', name='Target')\n",
    "    \n",
    "    # Create the figure and add traces\n",
    "    fig = go.Figure()\n",
    "    fig.add_trace(model_trace)\n",
    "    fig.add_trace(target_trace)\n",
    "    \n",
    "    # Add title and labels\n",
    "    fig.update_layout(title=f'Model Output vs Target for Feature {feature_index}, Batch {batch_index}',\n",
    "                      xaxis_title='Timestep',\n",
    "                      yaxis_title='Value')\n",
    "    \n",
    "    # Show the figure\n",
    "    fig.show()\n",
    "\n",
    "# Assuming `y` and `Y` are your model outputs and targets, respectively\n",
    "# Adjust batch_index and feature_index as needed\n",
    "plot_model_output_vs_target(outputs, Y, batch_index=2, feature_index=3)\n"
   ]
  },
  {
   "cell_type": "code",
   "execution_count": 15,
   "metadata": {},
   "outputs": [
    {
     "data": {
      "text/plain": [
       "tensor([[0.2509, 0.2339],\n",
       "        [0.2509, 0.2378],\n",
       "        [0.2509, 0.2419],\n",
       "        [0.2509, 0.2460],\n",
       "        [0.2509, 0.2497],\n",
       "        [0.2509, 0.2529],\n",
       "        [0.2509, 0.2553],\n",
       "        [0.2509, 0.2569],\n",
       "        [0.2509, 0.2577],\n",
       "        [0.2509, 0.2576],\n",
       "        [0.2509, 0.2570],\n",
       "        [0.2509, 0.2558],\n",
       "        [0.2509, 0.2545],\n",
       "        [0.2509, 0.2530],\n",
       "        [0.2509, 0.2518],\n",
       "        [0.2509, 0.2508],\n",
       "        [0.2509, 0.2502],\n",
       "        [0.2509, 0.2500],\n",
       "        [0.2509, 0.2503],\n",
       "        [0.2509, 0.2511],\n",
       "        [0.2509, 0.2522],\n",
       "        [0.2509, 0.2535],\n",
       "        [0.2509, 0.2549],\n",
       "        [0.2509, 0.2562],\n",
       "        [0.2509, 0.2572],\n",
       "        [0.2509, 0.2577],\n",
       "        [0.2509, 0.2575],\n",
       "        [0.2509, 0.2565],\n",
       "        [0.2509, 0.2546],\n",
       "        [0.2509, 0.2520],\n",
       "        [0.2509, 0.2486],\n",
       "        [0.2509, 0.2447],\n",
       "        [0.2509, 0.2406],\n",
       "        [0.2509, 0.2365],\n",
       "        [0.2509, 0.2327],\n",
       "        [0.2509, 0.2295],\n",
       "        [0.2509, 0.2269],\n",
       "        [0.2509, 0.2253],\n",
       "        [0.2509, 0.2246],\n",
       "        [0.2509, 0.2250],\n",
       "        [0.2509, 0.2263],\n",
       "        [0.2509, 0.2286],\n",
       "        [0.2509, 0.2318],\n",
       "        [0.2509, 0.2356],\n",
       "        [0.2509, 0.2400],\n",
       "        [0.2509, 0.2446],\n",
       "        [0.2509, 0.2494],\n",
       "        [0.2509, 0.2541],\n",
       "        [0.2509, 0.2584],\n",
       "        [0.2509, 0.2623],\n",
       "        [0.2509, 0.2657],\n",
       "        [0.2509, 0.2685],\n",
       "        [0.2509, 0.2706],\n",
       "        [0.2509, 0.2723],\n",
       "        [0.2509, 0.2734],\n",
       "        [0.2509, 0.2742],\n",
       "        [0.2509, 0.2747],\n",
       "        [0.2509, 0.2749],\n",
       "        [0.2509, 0.2750],\n",
       "        [0.2509, 0.2749],\n",
       "        [0.2509, 0.2745],\n",
       "        [0.2509, 0.2739],\n",
       "        [0.2509, 0.2729],\n",
       "        [0.2509, 0.2716]], grad_fn=<StackBackward0>)"
      ]
     },
     "execution_count": 15,
     "metadata": {},
     "output_type": "execute_result"
    }
   ],
   "source": [
    "torch.stack([outputs[1,:,1],Y[1,:,1]], dim = -1)"
   ]
  }
 ],
 "metadata": {
  "kernelspec": {
   "display_name": "coilspy-1sgZ1XBf-py3.12",
   "language": "python",
   "name": "python3"
  },
  "language_info": {
   "codemirror_mode": {
    "name": "ipython",
    "version": 3
   },
   "file_extension": ".py",
   "mimetype": "text/x-python",
   "name": "python",
   "nbconvert_exporter": "python",
   "pygments_lexer": "ipython3",
   "version": "3.12.2"
  }
 },
 "nbformat": 4,
 "nbformat_minor": 2
}
