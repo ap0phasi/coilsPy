{
 "cells": [
  {
   "cell_type": "code",
   "execution_count": 45,
   "metadata": {},
   "outputs": [],
   "source": [
    "import torch\n",
    "import torch.nn as nn\n",
    "import torch.nn.functional as F"
   ]
  },
  {
   "cell_type": "code",
   "execution_count": 46,
   "metadata": {},
   "outputs": [
    {
     "name": "stdout",
     "output_type": "stream",
     "text": [
      "tensor([[0.2137, 0.0361, 0.0749, 0.1663, 0.1556, 0.3534],\n",
      "        [0.1261, 0.1118, 0.1483, 0.1769, 0.2211, 0.2156],\n",
      "        [0.1364, 0.3233, 0.0850, 0.3205, 0.0252, 0.1095],\n",
      "        [0.1155, 0.1626, 0.0665, 0.2597, 0.1602, 0.2354],\n",
      "        [0.1918, 0.2546, 0.0113, 0.2395, 0.1146, 0.1883]])\n",
      "tensor([1.0000, 1.0000, 1.0000, 1.0000, 1.0000])\n"
     ]
    }
   ],
   "source": [
    "def torch_randnorm(size, dim=0):\n",
    "    # Generate a random tensor\n",
    "    rand_tensor = torch.rand(size)\n",
    "    \n",
    "    # Normalize along the specified dimension\n",
    "    sum_along_dim = torch.sum(rand_tensor, dim=dim, keepdim=True)\n",
    "    normalized_tensor = rand_tensor / sum_along_dim\n",
    "    \n",
    "    return normalized_tensor\n",
    "\n",
    "# Example usage\n",
    "normalized_tensor = torch_randnorm([5,6], dim=1)\n",
    "print(normalized_tensor)\n",
    "print(normalized_tensor.sum(dim=1))"
   ]
  },
  {
   "cell_type": "code",
   "execution_count": 47,
   "metadata": {},
   "outputs": [],
   "source": [
    "class NeuralCoilLayer(nn.Module):\n",
    "    def __init__(self, n_features):\n",
    "        super(NeuralCoilLayer, self).__init__()\n",
    "        self.n_features = n_features\n",
    "        self.attention_weights = nn.Linear(n_features, 1, bias=False)\n",
    "        self.interaction_tensors = nn.Parameter(torch.randn(n_features, n_features, n_features, n_features + 1))\n",
    "        self.topk_num = 1\n",
    "        \n",
    "    def step_coil(self, state_tensor, previous_transition_tensor):\n",
    "        # Establish normalized subgroups\n",
    "        norm_subgroups = torch.cat((state_tensor.unsqueeze(-2), previous_transition_tensor), dim=1)\n",
    "        batch_size, num_groups, n_features = norm_subgroups.shape\n",
    "        \n",
    "        # Compute scores for each normalized subgroup\n",
    "        scores = self.attention_weights(norm_subgroups).sum(-1) # [batch_size, num_groups]\n",
    "        \n",
    "        weights = torch.softmax(scores,dim = -1) # [batch_size, num_groups]\n",
    "        \n",
    "        selected_interaction_tensors = self.interaction_tensors\n",
    "        selected_norm_subgroups = norm_subgroups\n",
    "\n",
    "        selected_transition_tensors = torch.einsum('ijks,bsi->bjks', selected_interaction_tensors, selected_norm_subgroups)\n",
    "        \n",
    "        # Generate state tensors from the interaction tensor\n",
    "        \n",
    "        new_state_tensors = torch.einsum('bjks,bj->bks',selected_transition_tensors, state_tensor)\n",
    "        \n",
    "        # Sum into a new state tensor\n",
    "        new_state_tensor = torch.einsum('bs,bks->bk',weights,new_state_tensors)\n",
    "        \n",
    "        softmax_tensor = torch.softmax(new_state_tensor, dim = 1)\n",
    "        \n",
    "        # We need a single transition tensor so we will average this as well\n",
    "        selected_transition_tensor = torch.einsum('bs,bjks->bjk',weights,selected_transition_tensors)\n",
    "        \n",
    "        return softmax_tensor, selected_transition_tensor\n",
    "\n",
    "\n",
    "    def forward(self, x):\n",
    "        batch, length, n_features = x.size()\n",
    "        output = x.new_empty(batch, length, n_features)\n",
    "\n",
    "        # Initialize previous transition tensors (for the first step)\n",
    "        # Assuming it's a list of zero tensors for simplicity\n",
    "        transition_tensor = torch.zeros(batch, n_features, n_features)\n",
    "\n",
    "        for l in range(length):\n",
    "            state_tensor = x[:, l, :]\n",
    "            \n",
    "            # Compute output for this step\n",
    "            output[:, l, :], transition_tensor = self.step_coil(state_tensor, transition_tensor)\n",
    "\n",
    "        return output, transition_tensor\n"
   ]
  },
  {
   "cell_type": "markdown",
   "metadata": {},
   "source": [
    "# Sequence-to-Sequence Check"
   ]
  },
  {
   "cell_type": "code",
   "execution_count": 48,
   "metadata": {},
   "outputs": [
    {
     "name": "stdout",
     "output_type": "stream",
     "text": [
      "torch.Size([13, 64, 16])\n"
     ]
    }
   ],
   "source": [
    "n_features = 16\n",
    "batch, length, dim = 13, 64, n_features\n",
    "x = torch.randn(batch, length, dim)\n",
    "model = NeuralCoilLayer(\n",
    "    n_features = n_features\n",
    ")\n",
    "y = model(x)\n",
    "\n",
    "print(y[0].shape)\n",
    "assert y[0].shape == x.shape"
   ]
  },
  {
   "cell_type": "markdown",
   "metadata": {},
   "source": [
    "## Consistency Check"
   ]
  },
  {
   "cell_type": "code",
   "execution_count": 49,
   "metadata": {},
   "outputs": [
    {
     "name": "stdout",
     "output_type": "stream",
     "text": [
      "tensor([ 1.4881,  0.8828, -0.7481,  0.1504])\n",
      "tensor([0.0079, 0.7685, 0.1666, 0.0570], grad_fn=<SliceBackward0>)\n",
      "tensor([0.0079, 0.7685, 0.1666, 0.0570], grad_fn=<SliceBackward0>)\n"
     ]
    }
   ],
   "source": [
    "n_features = 4\n",
    "batch, length, dim = 13, 64, n_features\n",
    "x =torch.randn(batch, length, dim)\n",
    "model = NeuralCoilLayer(\n",
    "    n_features = n_features\n",
    ")\n",
    "\n",
    "l = 1\n",
    "state_tensor = x[:, l, :]\n",
    "print(state_tensor[1,:])\n",
    "transition_tensor = torch.randn(batch, n_features, n_features)\n",
    "new_state, new_transition_tensor = model.step_coil(state_tensor, transition_tensor)\n",
    "print(new_state[1,:])\n",
    "new_state, new_transition_tensor = model.step_coil(state_tensor, transition_tensor)\n",
    "print(new_state[1,:])"
   ]
  },
  {
   "cell_type": "markdown",
   "metadata": {},
   "source": [
    "This should be the same as if we just look at the batches independently"
   ]
  },
  {
   "cell_type": "code",
   "execution_count": 50,
   "metadata": {},
   "outputs": [
    {
     "data": {
      "text/plain": [
       "tensor([0.0079, 0.7685, 0.1666, 0.0570], grad_fn=<SliceBackward0>)"
      ]
     },
     "execution_count": 50,
     "metadata": {},
     "output_type": "execute_result"
    }
   ],
   "source": [
    "batch = 2\n",
    "transition_tensor = transition_tensor[0:2,:,:]\n",
    "l = 1\n",
    "state_tensor = x[0:2, l, :]\n",
    "new_state, new_transition_tensor = model.step_coil(state_tensor, transition_tensor)\n",
    "new_state[1,:]"
   ]
  },
  {
   "cell_type": "code",
   "execution_count": 51,
   "metadata": {},
   "outputs": [],
   "source": [
    "states = []\n",
    "for step_state in range(100):\n",
    "    state_tensor, transition_tensor = model.step_coil(state_tensor, transition_tensor)\n",
    "    states.append(state_tensor)"
   ]
  },
  {
   "cell_type": "code",
   "execution_count": 52,
   "metadata": {},
   "outputs": [
    {
     "data": {
      "image/png": "[encoded data removed]",
      "text/plain": [
       "<Figure size 1000x600 with 1 Axes>"
      ]
     },
     "metadata": {},
     "output_type": "display_data"
    }
   ],
   "source": [
    "import matplotlib.pyplot as plt\n",
    "\n",
    "# Your data\n",
    "data = [row.to('cpu').detach().numpy() for row in states]\n",
    "# Transpose the data to get 5 traces\n",
    "traces = list(zip(*data))\n",
    "\n",
    "# Plotting\n",
    "plt.figure(figsize=(10, 6))\n",
    "for i, trace in enumerate(traces):\n",
    "    plt.plot(trace, label=f'Trace {i+1}')\n",
    "\n",
    "plt.xlabel('Timestep')\n",
    "plt.ylabel('Value')\n",
    "plt.legend()\n",
    "plt.show()"
   ]
  },
  {
   "cell_type": "markdown",
   "metadata": {},
   "source": [
    "# Example Training"
   ]
  },
  {
   "cell_type": "markdown",
   "metadata": {},
   "source": [
    "## Simple Data Generation"
   ]
  },
  {
   "cell_type": "code",
   "execution_count": 53,
   "metadata": {},
   "outputs": [],
   "source": [
    "import numpy as np\n",
    "import torch\n",
    "\n",
    "def generate_normalized_multivariate_time_series(n_features, total_length, amplitude=1.0):\n",
    "    t = np.linspace(0, 100 * np.pi, total_length)\n",
    "    series = np.zeros((total_length, n_features))\n",
    "    for i in range(n_features):\n",
    "        series[:, i] = amplitude * np.cos(t * (i + 1) / n_features) + 10\n",
    "    \n",
    "    # Normalize such that each timestep's values sum to 1\n",
    "    series_sum = np.sum(series, axis=1, keepdims=True)\n",
    "    series_normalized = series / series_sum\n",
    "    \n",
    "    return series_normalized\n",
    "\n",
    "def segment_time_series(series, length):\n",
    "    # Assuming series is a numpy array of shape [total_length, n_features]\n",
    "    total_length, n_features = series.shape\n",
    "    segments = []\n",
    "    for start in range(0, total_length - length, length):\n",
    "        segment = series[start:start + length]\n",
    "        segments.append(segment)\n",
    "    return np.stack(segments)\n"
   ]
  },
  {
   "cell_type": "code",
   "execution_count": 54,
   "metadata": {},
   "outputs": [],
   "source": [
    "n_features = 4\n",
    "length = 64  # Segment length\n",
    "total_length = 1024  # Arbitrary total length for the generated series\n",
    "\n",
    "# Generate and segment the time series\n",
    "series = generate_normalized_multivariate_time_series(n_features, total_length)\n",
    "series_x = series[:-1,]\n",
    "series_y = series[1:,]\n",
    "\n",
    "segments_x = segment_time_series(series_x, length)\n",
    "segments_y = segment_time_series(series_y, length)\n",
    "\n",
    "# Convert to tensors\n",
    "segments_tensor_x = torch.tensor(segments_x, dtype=torch.float)\n",
    "segments_tensor_y = torch.tensor(segments_y, dtype=torch.float)\n",
    "\n",
    "# Prepare inputs and targets\n",
    "X = segments_tensor_x\n",
    "# Shift segments to the right by one timestep to create the targets\n",
    "Y =  segments_tensor_y\n"
   ]
  },
  {
   "cell_type": "code",
   "execution_count": 55,
   "metadata": {},
   "outputs": [
    {
     "name": "stdout",
     "output_type": "stream",
     "text": [
      "Epoch [10/1000], Loss: 0.0002739046176429838\n",
      "Epoch [20/1000], Loss: 0.00024114227562677115\n",
      "Epoch [30/1000], Loss: 0.00023381046776194125\n",
      "Epoch [40/1000], Loss: 0.00023116753436625004\n",
      "Epoch [50/1000], Loss: 0.00022911728592589498\n",
      "Epoch [60/1000], Loss: 0.00022617776994593441\n",
      "Epoch [70/1000], Loss: 0.00022306120081339031\n",
      "Epoch [80/1000], Loss: 0.00021905866742599756\n",
      "Epoch [90/1000], Loss: 0.0002134084643330425\n",
      "Epoch [100/1000], Loss: 0.00020629027858376503\n",
      "Epoch [110/1000], Loss: 0.00019927608082070947\n",
      "Epoch [120/1000], Loss: 0.00018897591507993639\n",
      "Epoch [130/1000], Loss: 0.00017380445206072181\n",
      "Epoch [140/1000], Loss: 0.00016654256614856422\n",
      "Epoch [150/1000], Loss: 0.0001616459630895406\n",
      "Epoch [160/1000], Loss: 0.0001570432068547234\n",
      "Epoch [170/1000], Loss: 0.0001527852873550728\n",
      "Epoch [180/1000], Loss: 0.00014860258670523763\n",
      "Epoch [190/1000], Loss: 0.00014427845599129796\n",
      "Epoch [200/1000], Loss: 0.00013947812840342522\n",
      "Epoch [210/1000], Loss: 0.00013373112597037107\n",
      "Epoch [220/1000], Loss: 0.0001261149882338941\n",
      "Epoch [230/1000], Loss: 0.00011483075650176033\n",
      "Epoch [240/1000], Loss: 0.00010369934170739725\n",
      "Epoch [250/1000], Loss: 9.909484651871026e-05\n",
      "Epoch [260/1000], Loss: 9.506531205261126e-05\n",
      "Epoch [270/1000], Loss: 9.196982864523306e-05\n",
      "Epoch [280/1000], Loss: 8.883138070814312e-05\n",
      "Epoch [290/1000], Loss: 8.593940583523363e-05\n",
      "Epoch [300/1000], Loss: 8.646790956845507e-05\n",
      "Epoch [310/1000], Loss: 7.963696407387033e-05\n",
      "Epoch [320/1000], Loss: 8.95714110811241e-05\n",
      "Epoch [330/1000], Loss: 7.646236917935312e-05\n",
      "Epoch [340/1000], Loss: 7.307358464458957e-05\n",
      "Epoch [350/1000], Loss: 6.848925113445148e-05\n",
      "Epoch [360/1000], Loss: 8.502873970428482e-05\n",
      "Epoch [370/1000], Loss: 7.098948844941333e-05\n",
      "Epoch [380/1000], Loss: 6.696390482829884e-05\n",
      "Epoch [390/1000], Loss: 6.375941302394494e-05\n",
      "Epoch [400/1000], Loss: 8.608443022239953e-05\n",
      "Epoch [410/1000], Loss: 7.865876250434667e-05\n",
      "Epoch [420/1000], Loss: 6.90035376464948e-05\n",
      "Epoch [430/1000], Loss: 6.190987915033475e-05\n",
      "Epoch [440/1000], Loss: 5.7922872656490654e-05\n",
      "Epoch [450/1000], Loss: 5.229717862675898e-05\n",
      "Epoch [460/1000], Loss: 0.0001058734706020914\n",
      "Epoch [470/1000], Loss: 7.459747575921938e-05\n",
      "Epoch [480/1000], Loss: 6.521758041344583e-05\n",
      "Epoch [490/1000], Loss: 5.9012592828366905e-05\n",
      "Epoch [500/1000], Loss: 5.47133749932982e-05\n",
      "Epoch [510/1000], Loss: 5.013698319089599e-05\n",
      "Epoch [520/1000], Loss: 4.5216744183562696e-05\n",
      "Epoch [530/1000], Loss: 6.039499203325249e-05\n",
      "Epoch [540/1000], Loss: 5.421234527602792e-05\n",
      "Epoch [550/1000], Loss: 4.833147249883041e-05\n",
      "Epoch [560/1000], Loss: 4.27802478952799e-05\n",
      "Epoch [570/1000], Loss: 3.933403786504641e-05\n",
      "Epoch [580/1000], Loss: 5.589481952483766e-05\n",
      "Epoch [590/1000], Loss: 4.517143315752037e-05\n",
      "Epoch [600/1000], Loss: 4.109150904696435e-05\n",
      "Epoch [610/1000], Loss: 4.500183786149137e-05\n",
      "Epoch [620/1000], Loss: 4.73905929538887e-05\n",
      "Epoch [630/1000], Loss: 4.285146496840753e-05\n",
      "Epoch [640/1000], Loss: 3.95590795960743e-05\n",
      "Epoch [650/1000], Loss: 3.5441717045614496e-05\n",
      "Epoch [660/1000], Loss: 4.343347609392367e-05\n",
      "Epoch [670/1000], Loss: 3.792688949033618e-05\n",
      "Epoch [680/1000], Loss: 3.575501250452362e-05\n",
      "Epoch [690/1000], Loss: 3.217156699975021e-05\n",
      "Epoch [700/1000], Loss: 4.842019916395657e-05\n",
      "Epoch [710/1000], Loss: 3.884199759340845e-05\n",
      "Epoch [720/1000], Loss: 5.787880581920035e-05\n",
      "Epoch [730/1000], Loss: 5.789599890704267e-05\n",
      "Epoch [740/1000], Loss: 4.923459709971212e-05\n",
      "Epoch [750/1000], Loss: 4.229353726259433e-05\n",
      "Epoch [760/1000], Loss: 3.819255653070286e-05\n",
      "Epoch [770/1000], Loss: 3.451277734711766e-05\n",
      "Epoch [780/1000], Loss: 3.159954576403834e-05\n",
      "Epoch [790/1000], Loss: 2.932682036771439e-05\n",
      "Epoch [800/1000], Loss: 2.7486768885864876e-05\n",
      "Epoch [810/1000], Loss: 8.68298884597607e-05\n",
      "Epoch [820/1000], Loss: 7.895542512414977e-05\n",
      "Epoch [830/1000], Loss: 6.981782644288614e-05\n",
      "Epoch [840/1000], Loss: 6.012587618897669e-05\n",
      "Epoch [850/1000], Loss: 5.48297211935278e-05\n",
      "Epoch [860/1000], Loss: 4.939424616168253e-05\n",
      "Epoch [870/1000], Loss: 4.481303767533973e-05\n",
      "Epoch [880/1000], Loss: 4.110984446015209e-05\n",
      "Epoch [890/1000], Loss: 3.8330384995788336e-05\n",
      "Epoch [900/1000], Loss: 3.596141323214397e-05\n",
      "Epoch [910/1000], Loss: 3.374235166120343e-05\n",
      "Epoch [920/1000], Loss: 3.169082265230827e-05\n",
      "Epoch [930/1000], Loss: 2.980976023536641e-05\n",
      "Epoch [940/1000], Loss: 2.813963874359615e-05\n",
      "Epoch [950/1000], Loss: 2.6748397431219928e-05\n",
      "Epoch [960/1000], Loss: 2.5664940039860085e-05\n",
      "Epoch [970/1000], Loss: 2.4845976440701634e-05\n",
      "Epoch [980/1000], Loss: 2.4542603568988852e-05\n",
      "Epoch [990/1000], Loss: 3.575517621356994e-05\n",
      "Epoch [1000/1000], Loss: 2.964695704577025e-05\n"
     ]
    }
   ],
   "source": [
    "from torch import nn, optim\n",
    "\n",
    "# Model\n",
    "model = NeuralCoilLayer(\n",
    "    n_features = n_features\n",
    ")\n",
    "\n",
    "# Loss and optimizer\n",
    "criterion = nn.MSELoss()\n",
    "optimizer = optim.Adam(model.parameters(), lr=0.01)\n",
    "\n",
    "# Training loop\n",
    "epochs = 1000\n",
    "for epoch in range(epochs):\n",
    "    model.train()\n",
    "    optimizer.zero_grad()\n",
    "    # Forward pass\n",
    "    outputs, transition_tensor = model(X)\n",
    "    loss = criterion(outputs, Y)\n",
    "\n",
    "    # Backward and optimize\n",
    "    loss.backward()\n",
    "    optimizer.step()\n",
    "\n",
    "    if (epoch + 1) % 10 == 0:\n",
    "        print(f'Epoch [{epoch+1}/{epochs}], Loss: {loss.item()}')\n"
   ]
  },
  {
   "cell_type": "code",
   "execution_count": 59,
   "metadata": {},
   "outputs": [
    {
     "data": {
      "application/vnd.plotly.v1+json": {
       "config": {
        "plotlyServerURL": "https://plot.ly"
       },
       "data": [
        {
         "mode": "lines",
         "name": "Model Output",
         "type": "scatter",
         "x": [
          0,
          1,
          2,
          3,
          4,
          5,
          6,
          7,
          8,
          9,
          10,
          11,
          12,
          13,
          14,
          15,
          16,
          17,
          18,
          19,
          20,
          21,
          22,
          23,
          24,
          25,
          26,
          27,
          28,
          29,
          30,
          31,
          32,
          33,
          34,
          35,
          36,
          37,
          38,
          39,
          40,
          41,
          42,
          43,
          44,
          45,
          46,
          47,
          48,
          49,
          50,
          51,
          52,
          53,
          54,
          55,
          56,
          57,
          58,
          59,
          60,
          61,
          62,
          63
         ],
         "y": [
          0.25384822487831116,
          0.2433989942073822,
          0.23978833854198456,
          0.24018310010433197,
          0.24192285537719727,
          0.2479962855577469,
          0.25631269812583923,
          0.2649238705635071,
          0.27159878611564636,
          0.2750396728515625,
          0.274396151304245,
          0.27049127221107483,
          0.2644173204898834,
          0.2575366497039795,
          0.250895231962204,
          0.24511653184890747,
          0.24034975469112396,
          0.2366163432598114,
          0.23388688266277313,
          0.23224583268165588,
          0.2318897396326065,
          0.23308531939983368,
          0.2360488921403885,
          0.24084578454494476,
          0.24726097285747528,
          0.2547416090965271,
          0.2624252438545227,
          0.26929643750190735,
          0.27442628145217896,
          0.27721354365348816,
          0.277506023645401,
          0.27555906772613525,
          0.27186980843544006,
          0.26699042320251465,
          0.2614045739173889,
          0.25549793243408203,
          0.2495969533920288,
          0.2440284639596939,
          0.23915939033031464,
          0.23539699614048004,
          0.2331518530845642,
          0.2327738106250763,
          0.23447366058826447,
          0.23824304342269897,
          0.2437889575958252,
          0.25051456689834595,
          0.257581889629364,
          0.2640734016895294,
          0.2692126929759979,
          0.2725507616996765,
          0.2740213871002197,
          0.2738463580608368,
          0.27235743403434753,
          0.2698372006416321,
          0.2664475440979004,
          0.26225897669792175,
          0.2573440670967102,
          0.2518763840198517,
          0.24618442356586456,
          0.2407415360212326,
          0.23610307276248932,
          0.23281586170196533,
          0.231322780251503,
          0.23187820613384247
         ]
        },
        {
         "mode": "lines",
         "name": "Target",
         "type": "scatter",
         "x": [
          0,
          1,
          2,
          3,
          4,
          5,
          6,
          7,
          8,
          9,
          10,
          11,
          12,
          13,
          14,
          15,
          16,
          17,
          18,
          19,
          20,
          21,
          22,
          23,
          24,
          25,
          26,
          27,
          28,
          29,
          30,
          31,
          32,
          33,
          34,
          35,
          36,
          37,
          38,
          39,
          40,
          41,
          42,
          43,
          44,
          45,
          46,
          47,
          48,
          49,
          50,
          51,
          52,
          53,
          54,
          55,
          56,
          57,
          58,
          59,
          60,
          61,
          62,
          63
         ],
         "y": [
          0.23480677604675293,
          0.23971615731716156,
          0.24572300910949707,
          0.25231820344924927,
          0.25892436504364014,
          0.26496538519859314,
          0.2699276804924011,
          0.27340584993362427,
          0.27513012290000916,
          0.27497851848602295,
          0.27297738194465637,
          0.2692946493625641,
          0.2642275094985962,
          0.2581852674484253,
          0.2516655921936035,
          0.2452225685119629,
          0.23942500352859497,
          0.23480623960494995,
          0.23180945217609406,
          0.23073561489582062,
          0.23170366883277893,
          0.2346312552690506,
          0.23924098908901215,
          0.24509203433990479,
          0.2516310214996338,
          0.25825268030166626,
          0.26436081528663635,
          0.26942142844200134,
          0.2730042040348053,
          0.2748112380504608,
          0.2746945023536682,
          0.2726634740829468,
          0.2688848376274109,
          0.26367345452308655,
          0.25747382640838623,
          0.25082990527153015,
          0.24434195458889008,
          0.2386123090982437,
          0.23418398201465607,
          0.23148053884506226,
          0.23075716197490692,
          0.2320719063282013,
          0.23528246581554413,
          0.24006836116313934,
          0.24597275257110596,
          0.2524551451206207,
          0.258946031332016,
          0.264896035194397,
          0.26981663703918457,
          0.2733108699321747,
          0.27509623765945435,
          0.2750212550163269,
          0.2730771005153656,
          0.26940375566482544,
          0.26428815722465515,
          0.25815048813819885,
          0.2515145540237427,
          0.24496017396450043,
          0.2390602082014084,
          0.23431098461151123,
          0.23106876015663147,
          0.22950640320777893,
          0.2295996993780136,
          0.23114489018917084
         ]
        }
       ],
       "layout": {
        "template": {
         "data": {
          "bar": [
           {
            "error_x": {
             "color": "#2a3f5f"
            },
            "error_y": {
             "color": "#2a3f5f"
            },
            "marker": {
             "line": {
              "color": "#E5ECF6",
              "width": 0.5
             },
             "pattern": {
              "fillmode": "overlay",
              "size": 10,
              "solidity": 0.2
             }
            },
            "type": "bar"
           }
          ],
          "barpolar": [
           {
            "marker": {
             "line": {
              "color": "#E5ECF6",
              "width": 0.5
             },
             "pattern": {
              "fillmode": "overlay",
              "size": 10,
              "solidity": 0.2
             }
            },
            "type": "barpolar"
           }
          ],
          "carpet": [
           {
            "aaxis": {
             "endlinecolor": "#2a3f5f",
             "gridcolor": "white",
             "linecolor": "white",
             "minorgridcolor": "white",
             "startlinecolor": "#2a3f5f"
            },
            "baxis": {
             "endlinecolor": "#2a3f5f",
             "gridcolor": "white",
             "linecolor": "white",
             "minorgridcolor": "white",
             "startlinecolor": "#2a3f5f"
            },
            "type": "carpet"
           }
          ],
          "choropleth": [
           {
            "colorbar": {
             "outlinewidth": 0,
             "ticks": ""
            },
            "type": "choropleth"
           }
          ],
          "contour": [
           {
            "colorbar": {
             "outlinewidth": 0,
             "ticks": ""
            },
            "colorscale": [
             [
              0,
              "#0d0887"
             ],
             [
              0.1111111111111111,
              "#46039f"
             ],
             [
              0.2222222222222222,
              "#7201a8"
             ],
             [
              0.3333333333333333,
              "#9c179e"
             ],
             [
              0.4444444444444444,
              "#bd3786"
             ],
             [
              0.5555555555555556,
              "#d8576b"
             ],
             [
              0.6666666666666666,
              "#ed7953"
             ],
             [
              0.7777777777777778,
              "#fb9f3a"
             ],
             [
              0.8888888888888888,
              "#fdca26"
             ],
             [
              1,
              "#f0f921"
             ]
            ],
            "type": "contour"
           }
          ],
          "contourcarpet": [
           {
            "colorbar": {
             "outlinewidth": 0,
             "ticks": ""
            },
            "type": "contourcarpet"
           }
          ],
          "heatmap": [
           {
            "colorbar": {
             "outlinewidth": 0,
             "ticks": ""
            },
            "colorscale": [
             [
              0,
              "#0d0887"
             ],
             [
              0.1111111111111111,
              "#46039f"
             ],
             [
              0.2222222222222222,
              "#7201a8"
             ],
             [
              0.3333333333333333,
              "#9c179e"
             ],
             [
              0.4444444444444444,
              "#bd3786"
             ],
             [
              0.5555555555555556,
              "#d8576b"
             ],
             [
              0.6666666666666666,
              "#ed7953"
             ],
             [
              0.7777777777777778,
              "#fb9f3a"
             ],
             [
              0.8888888888888888,
              "#fdca26"
             ],
             [
              1,
              "#f0f921"
             ]
            ],
            "type": "heatmap"
           }
          ],
          "heatmapgl": [
           {
            "colorbar": {
             "outlinewidth": 0,
             "ticks": ""
            },
            "colorscale": [
             [
              0,
              "#0d0887"
             ],
             [
              0.1111111111111111,
              "#46039f"
             ],
             [
              0.2222222222222222,
              "#7201a8"
             ],
             [
              0.3333333333333333,
              "#9c179e"
             ],
             [
              0.4444444444444444,
              "#bd3786"
             ],
             [
              0.5555555555555556,
              "#d8576b"
             ],
             [
              0.6666666666666666,
              "#ed7953"
             ],
             [
              0.7777777777777778,
              "#fb9f3a"
             ],
             [
              0.8888888888888888,
              "#fdca26"
             ],
             [
              1,
              "#f0f921"
             ]
            ],
            "type": "heatmapgl"
           }
          ],
          "histogram": [
           {
            "marker": {
             "pattern": {
              "fillmode": "overlay",
              "size": 10,
              "solidity": 0.2
             }
            },
            "type": "histogram"
           }
          ],
          "histogram2d": [
           {
            "colorbar": {
             "outlinewidth": 0,
             "ticks": ""
            },
            "colorscale": [
             [
              0,
              "#0d0887"
             ],
             [
              0.1111111111111111,
              "#46039f"
             ],
             [
              0.2222222222222222,
              "#7201a8"
             ],
             [
              0.3333333333333333,
              "#9c179e"
             ],
             [
              0.4444444444444444,
              "#bd3786"
             ],
             [
              0.5555555555555556,
              "#d8576b"
             ],
             [
              0.6666666666666666,
              "#ed7953"
             ],
             [
              0.7777777777777778,
              "#fb9f3a"
             ],
             [
              0.8888888888888888,
              "#fdca26"
             ],
             [
              1,
              "#f0f921"
             ]
            ],
            "type": "histogram2d"
           }
          ],
          "histogram2dcontour": [
           {
            "colorbar": {
             "outlinewidth": 0,
             "ticks": ""
            },
            "colorscale": [
             [
              0,
              "#0d0887"
             ],
             [
              0.1111111111111111,
              "#46039f"
             ],
             [
              0.2222222222222222,
              "#7201a8"
             ],
             [
              0.3333333333333333,
              "#9c179e"
             ],
             [
              0.4444444444444444,
              "#bd3786"
             ],
             [
              0.5555555555555556,
              "#d8576b"
             ],
             [
              0.6666666666666666,
              "#ed7953"
             ],
             [
              0.7777777777777778,
              "#fb9f3a"
             ],
             [
              0.8888888888888888,
              "#fdca26"
             ],
             [
              1,
              "#f0f921"
             ]
            ],
            "type": "histogram2dcontour"
           }
          ],
          "mesh3d": [
           {
            "colorbar": {
             "outlinewidth": 0,
             "ticks": ""
            },
            "type": "mesh3d"
           }
          ],
          "parcoords": [
           {
            "line": {
             "colorbar": {
              "outlinewidth": 0,
              "ticks": ""
             }
            },
            "type": "parcoords"
           }
          ],
          "pie": [
           {
            "automargin": true,
            "type": "pie"
           }
          ],
          "scatter": [
           {
            "fillpattern": {
             "fillmode": "overlay",
             "size": 10,
             "solidity": 0.2
            },
            "type": "scatter"
           }
          ],
          "scatter3d": [
           {
            "line": {
             "colorbar": {
              "outlinewidth": 0,
              "ticks": ""
             }
            },
            "marker": {
             "colorbar": {
              "outlinewidth": 0,
              "ticks": ""
             }
            },
            "type": "scatter3d"
           }
          ],
          "scattercarpet": [
           {
            "marker": {
             "colorbar": {
              "outlinewidth": 0,
              "ticks": ""
             }
            },
            "type": "scattercarpet"
           }
          ],
          "scattergeo": [
           {
            "marker": {
             "colorbar": {
              "outlinewidth": 0,
              "ticks": ""
             }
            },
            "type": "scattergeo"
           }
          ],
          "scattergl": [
           {
            "marker": {
             "colorbar": {
              "outlinewidth": 0,
              "ticks": ""
             }
            },
            "type": "scattergl"
           }
          ],
          "scattermapbox": [
           {
            "marker": {
             "colorbar": {
              "outlinewidth": 0,
              "ticks": ""
             }
            },
            "type": "scattermapbox"
           }
          ],
          "scatterpolar": [
           {
            "marker": {
             "colorbar": {
              "outlinewidth": 0,
              "ticks": ""
             }
            },
            "type": "scatterpolar"
           }
          ],
          "scatterpolargl": [
           {
            "marker": {
             "colorbar": {
              "outlinewidth": 0,
              "ticks": ""
             }
            },
            "type": "scatterpolargl"
           }
          ],
          "scatterternary": [
           {
            "marker": {
             "colorbar": {
              "outlinewidth": 0,
              "ticks": ""
             }
            },
            "type": "scatterternary"
           }
          ],
          "surface": [
           {
            "colorbar": {
             "outlinewidth": 0,
             "ticks": ""
            },
            "colorscale": [
             [
              0,
              "#0d0887"
             ],
             [
              0.1111111111111111,
              "#46039f"
             ],
             [
              0.2222222222222222,
              "#7201a8"
             ],
             [
              0.3333333333333333,
              "#9c179e"
             ],
             [
              0.4444444444444444,
              "#bd3786"
             ],
             [
              0.5555555555555556,
              "#d8576b"
             ],
             [
              0.6666666666666666,
              "#ed7953"
             ],
             [
              0.7777777777777778,
              "#fb9f3a"
             ],
             [
              0.8888888888888888,
              "#fdca26"
             ],
             [
              1,
              "#f0f921"
             ]
            ],
            "type": "surface"
           }
          ],
          "table": [
           {
            "cells": {
             "fill": {
              "color": "#EBF0F8"
             },
             "line": {
              "color": "white"
             }
            },
            "header": {
             "fill": {
              "color": "#C8D4E3"
             },
             "line": {
              "color": "white"
             }
            },
            "type": "table"
           }
          ]
         },
         "layout": {
          "annotationdefaults": {
           "arrowcolor": "#2a3f5f",
           "arrowhead": 0,
           "arrowwidth": 1
          },
          "autotypenumbers": "strict",
          "coloraxis": {
           "colorbar": {
            "outlinewidth": 0,
            "ticks": ""
           }
          },
          "colorscale": {
           "diverging": [
            [
             0,
             "#8e0152"
            ],
            [
             0.1,
             "#c51b7d"
            ],
            [
             0.2,
             "#de77ae"
            ],
            [
             0.3,
             "#f1b6da"
            ],
            [
             0.4,
             "#fde0ef"
            ],
            [
             0.5,
             "#f7f7f7"
            ],
            [
             0.6,
             "#e6f5d0"
            ],
            [
             0.7,
             "#b8e186"
            ],
            [
             0.8,
             "#7fbc41"
            ],
            [
             0.9,
             "#4d9221"
            ],
            [
             1,
             "#276419"
            ]
           ],
           "sequential": [
            [
             0,
             "#0d0887"
            ],
            [
             0.1111111111111111,
             "#46039f"
            ],
            [
             0.2222222222222222,
             "#7201a8"
            ],
            [
             0.3333333333333333,
             "#9c179e"
            ],
            [
             0.4444444444444444,
             "#bd3786"
            ],
            [
             0.5555555555555556,
             "#d8576b"
            ],
            [
             0.6666666666666666,
             "#ed7953"
            ],
            [
             0.7777777777777778,
             "#fb9f3a"
            ],
            [
             0.8888888888888888,
             "#fdca26"
            ],
            [
             1,
             "#f0f921"
            ]
           ],
           "sequentialminus": [
            [
             0,
             "#0d0887"
            ],
            [
             0.1111111111111111,
             "#46039f"
            ],
            [
             0.2222222222222222,
             "#7201a8"
            ],
            [
             0.3333333333333333,
             "#9c179e"
            ],
            [
             0.4444444444444444,
             "#bd3786"
            ],
            [
             0.5555555555555556,
             "#d8576b"
            ],
            [
             0.6666666666666666,
             "#ed7953"
            ],
            [
             0.7777777777777778,
             "#fb9f3a"
            ],
            [
             0.8888888888888888,
             "#fdca26"
            ],
            [
             1,
             "#f0f921"
            ]
           ]
          },
          "colorway": [
           "#636efa",
           "#EF553B",
           "#00cc96",
           "#ab63fa",
           "#FFA15A",
           "#19d3f3",
           "#FF6692",
           "#B6E880",
           "#FF97FF",
           "#FECB52"
          ],
          "font": {
           "color": "#2a3f5f"
          },
          "geo": {
           "bgcolor": "white",
           "lakecolor": "white",
           "landcolor": "#E5ECF6",
           "showlakes": true,
           "showland": true,
           "subunitcolor": "white"
          },
          "hoverlabel": {
           "align": "left"
          },
          "hovermode": "closest",
          "mapbox": {
           "style": "light"
          },
          "paper_bgcolor": "white",
          "plot_bgcolor": "#E5ECF6",
          "polar": {
           "angularaxis": {
            "gridcolor": "white",
            "linecolor": "white",
            "ticks": ""
           },
           "bgcolor": "#E5ECF6",
           "radialaxis": {
            "gridcolor": "white",
            "linecolor": "white",
            "ticks": ""
           }
          },
          "scene": {
           "xaxis": {
            "backgroundcolor": "#E5ECF6",
            "gridcolor": "white",
            "gridwidth": 2,
            "linecolor": "white",
            "showbackground": true,
            "ticks": "",
            "zerolinecolor": "white"
           },
           "yaxis": {
            "backgroundcolor": "#E5ECF6",
            "gridcolor": "white",
            "gridwidth": 2,
            "linecolor": "white",
            "showbackground": true,
            "ticks": "",
            "zerolinecolor": "white"
           },
           "zaxis": {
            "backgroundcolor": "#E5ECF6",
            "gridcolor": "white",
            "gridwidth": 2,
            "linecolor": "white",
            "showbackground": true,
            "ticks": "",
            "zerolinecolor": "white"
           }
          },
          "shapedefaults": {
           "line": {
            "color": "#2a3f5f"
           }
          },
          "ternary": {
           "aaxis": {
            "gridcolor": "white",
            "linecolor": "white",
            "ticks": ""
           },
           "baxis": {
            "gridcolor": "white",
            "linecolor": "white",
            "ticks": ""
           },
           "bgcolor": "#E5ECF6",
           "caxis": {
            "gridcolor": "white",
            "linecolor": "white",
            "ticks": ""
           }
          },
          "title": {
           "x": 0.05
          },
          "xaxis": {
           "automargin": true,
           "gridcolor": "white",
           "linecolor": "white",
           "ticks": "",
           "title": {
            "standoff": 15
           },
           "zerolinecolor": "white",
           "zerolinewidth": 2
          },
          "yaxis": {
           "automargin": true,
           "gridcolor": "white",
           "linecolor": "white",
           "ticks": "",
           "title": {
            "standoff": 15
           },
           "zerolinecolor": "white",
           "zerolinewidth": 2
          }
         }
        },
        "title": {
         "text": "Model Output vs Target for Feature 3, Batch 4"
        },
        "xaxis": {
         "title": {
          "text": "Timestep"
         }
        },
        "yaxis": {
         "title": {
          "text": "Value"
         }
        }
       }
      }
     },
     "metadata": {},
     "output_type": "display_data"
    }
   ],
   "source": [
    "import plotly.graph_objects as go\n",
    "\n",
    "def plot_model_output_vs_target(model_outputs, targets, batch_index=0, feature_index=0):\n",
    "    # Extract the specified feature for the given batch from both the model outputs and targets\n",
    "    model_output_series = model_outputs[batch_index, :, feature_index].detach().numpy()\n",
    "    target_series = targets[batch_index, :, feature_index].numpy()\n",
    "    \n",
    "    # Create a range for the x-axis (timesteps)\n",
    "    timesteps = list(range(model_output_series.shape[0]))\n",
    "    \n",
    "    # Create traces\n",
    "    model_trace = go.Scatter(x=timesteps, y=model_output_series, mode='lines', name='Model Output')\n",
    "    target_trace = go.Scatter(x=timesteps, y=target_series, mode='lines', name='Target')\n",
    "    \n",
    "    # Create the figure and add traces\n",
    "    fig = go.Figure()\n",
    "    fig.add_trace(model_trace)\n",
    "    fig.add_trace(target_trace)\n",
    "    \n",
    "    # Add title and labels\n",
    "    fig.update_layout(title=f'Model Output vs Target for Feature {feature_index}, Batch {batch_index}',\n",
    "                      xaxis_title='Timestep',\n",
    "                      yaxis_title='Value')\n",
    "    \n",
    "    # Show the figure\n",
    "    fig.show()\n",
    "\n",
    "# Assuming `y` and `Y` are your model outputs and targets, respectively\n",
    "# Adjust batch_index and feature_index as needed\n",
    "plot_model_output_vs_target(outputs, Y, batch_index=4, feature_index=3)\n"
   ]
  },
  {
   "cell_type": "code",
   "execution_count": 58,
   "metadata": {},
   "outputs": [
    {
     "data": {
      "image/png": "[encoded data removed]",
      "text/plain": [
       "<Figure size 1000x600 with 1 Axes>"
      ]
     },
     "metadata": {},
     "output_type": "display_data"
    }
   ],
   "source": [
    "states = []\n",
    "batch = 5\n",
    "state_tensor = outputs[:,length-1,:]\n",
    "for step_state in range(100):\n",
    "    state_tensor, transition_tensor = model.step_coil(state_tensor, transition_tensor)\n",
    "    states.append(state_tensor[batch,:])\n",
    "    \n",
    "\n",
    "# Your data\n",
    "data = [row.to('cpu').detach().numpy() for row in states]\n",
    "# Transpose the data to get 5 traces\n",
    "traces = list(zip(*data))\n",
    "\n",
    "# Plotting\n",
    "plt.figure(figsize=(10, 6))\n",
    "for i, trace in enumerate(traces):\n",
    "    plt.plot(trace, label=f'Trace {i+1}')\n",
    "\n",
    "plt.xlabel('Timestep')\n",
    "plt.ylabel('Value')\n",
    "plt.legend()\n",
    "plt.show()"
   ]
  }
 ],
 "metadata": {
  "kernelspec": {
   "display_name": "coilspy-1sgZ1XBf-py3.12",
   "language": "python",
   "name": "python3"
  },
  "language_info": {
   "codemirror_mode": {
    "name": "ipython",
    "version": 3
   },
   "file_extension": ".py",
   "mimetype": "text/x-python",
   "name": "python",
   "nbconvert_exporter": "python",
   "pygments_lexer": "ipython3",
   "version": "3.12.2"
  }
 },
 "nbformat": 4,
 "nbformat_minor": 2
}
