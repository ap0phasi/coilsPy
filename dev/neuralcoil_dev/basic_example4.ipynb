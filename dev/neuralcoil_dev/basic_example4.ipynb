{
 "cells": [
  {
   "cell_type": "code",
   "execution_count": 157,
   "metadata": {},
   "outputs": [],
   "source": [
    "import torch\n",
    "import torch.nn as nn\n",
    "\n",
    "class CustomLayer(nn.Module):\n",
    "    def __init__(self, n_features):\n",
    "        super(CustomLayer, self).__init__()\n",
    "        self.n_features = n_features\n",
    "        # Initialize the interaction tensor as a learnable parameter\n",
    "        self.interaction_tensor = nn.Parameter(torch.randn(n_features, n_features, n_features))\n",
    "\n",
    "    def forward(self, x):\n",
    "        # x is expected to be of size [batch, length, n_features]\n",
    "        batch, length, n_features = x.size()\n",
    "\n",
    "        # Process each [n_features] vector across batch and length\n",
    "        output = x.new_empty(batch, length, n_features)\n",
    "        for b in range(batch):\n",
    "            for l in range(length):\n",
    "                state_tensor = x[b, l, :]  # Shape: [n_features]\n",
    "                # Step 1: Multiply state tensor by interaction tensor to get transition tensor\n",
    "                # We manually implement the multiplication to match your operation\n",
    "                transition_tensor = torch.einsum('i,ijk->jk', state_tensor, self.interaction_tensor)\n",
    "                # Step 2: Multiply the transition tensor by the state tensor\n",
    "                # Resulting shape: [n_features]\n",
    "                output[b, l, :] = torch.matmul(transition_tensor, state_tensor)\n",
    "\n",
    "        return output\n"
   ]
  },
  {
   "cell_type": "code",
   "execution_count": 158,
   "metadata": {},
   "outputs": [],
   "source": [
    "import torch\n",
    "import torch.nn as nn\n",
    "\n",
    "class CustomLayerVectorized(nn.Module):\n",
    "    def __init__(self, n_features):\n",
    "        super(CustomLayerVectorized, self).__init__()\n",
    "        self.n_features = n_features\n",
    "        # Initialize the interaction tensor as a learnable parameter\n",
    "        self.interaction_tensor = nn.Parameter(torch.randn(n_features, n_features, n_features))\n",
    "\n",
    "    def forward(self, x):\n",
    "        # x is expected to be of size [batch, length, n_features]\n",
    "        batch, length, n_features = x.size()\n",
    "\n",
    "        # Pre-allocate output tensor\n",
    "        output = x.new_empty(batch, length, n_features)\n",
    "\n",
    "        # Loop over length, but vectorize over the batch\n",
    "        for l in range(length):\n",
    "            # Extract all vectors at position l across all batches\n",
    "            state_tensor = x[:, l, :]  # Shape: [batch, n_features]\n",
    "            \n",
    "            # Vectorized operation for all batches\n",
    "            # Step 1: Calculate the transition tensor\n",
    "            # Since we cannot directly use einsum for batched operation in this specific scenario,\n",
    "            # we manually broadcast and multiply to achieve the intended result.\n",
    "            # This involves expanding dimensions to enable broadcasting.\n",
    "            state_tensor_expanded = state_tensor.unsqueeze(1).expand(-1, n_features, -1)  # Shape: [batch, n_features, n_features]\n",
    "            interaction_tensor_expanded = self.interaction_tensor.unsqueeze(0).expand(batch, -1, -1, -1)  # Shape: [batch, n_features, n_features, n_features]\n",
    "            # Multiply and sum over the last dimension to get the transition tensor\n",
    "            transition_tensor = torch.einsum('bik,bijk->bij', state_tensor_expanded, interaction_tensor_expanded)\n",
    "            \n",
    "            # Step 2: Multiply the transition tensor by the state tensor to get the output\n",
    "            output[:, l, :] = torch.einsum('bij,bj->bi', transition_tensor, state_tensor)\n",
    "\n",
    "        return output\n",
    "\n"
   ]
  },
  {
   "cell_type": "code",
   "execution_count": 159,
   "metadata": {},
   "outputs": [],
   "source": [
    "# n_features = 16\n",
    "# batch, length, dim = 2, 64, n_features\n",
    "# x = torch.randn(batch, length, dim)\n",
    "# model = CustomLayerVectorized(\n",
    "#     n_features = n_features\n",
    "# )\n",
    "# y = model(x)\n",
    "\n",
    "# print(x.shape)\n",
    "# assert y.shape == x.shape"
   ]
  },
  {
   "cell_type": "code",
   "execution_count": 160,
   "metadata": {},
   "outputs": [
    {
     "name": "stdout",
     "output_type": "stream",
     "text": [
      "tensor([[0.3113, 0.1358, 0.0170, 0.0590, 0.4736, 0.0033],\n",
      "        [0.1722, 0.0092, 0.2162, 0.2737, 0.2064, 0.1223],\n",
      "        [0.3030, 0.2656, 0.1148, 0.1882, 0.0446, 0.0839],\n",
      "        [0.0677, 0.1113, 0.1632, 0.0987, 0.2909, 0.2682],\n",
      "        [0.1921, 0.1966, 0.0463, 0.2259, 0.1414, 0.1978]])\n",
      "tensor([1.0000, 1.0000, 1.0000, 1.0000, 1.0000])\n"
     ]
    }
   ],
   "source": [
    "import torch\n",
    "\n",
    "def torch_randnorm(size, dim=0):\n",
    "    # Generate a random tensor\n",
    "    rand_tensor = torch.rand(size)\n",
    "    \n",
    "    # Normalize along the specified dimension\n",
    "    sum_along_dim = torch.sum(rand_tensor, dim=dim, keepdim=True)\n",
    "    normalized_tensor = rand_tensor / sum_along_dim\n",
    "    \n",
    "    return normalized_tensor\n",
    "\n",
    "# Example usage\n",
    "normalized_tensor = torch_randnorm([5,6], dim=1)\n",
    "print(normalized_tensor)\n",
    "print(normalized_tensor.sum(dim=1))"
   ]
  },
  {
   "cell_type": "code",
   "execution_count": 161,
   "metadata": {},
   "outputs": [],
   "source": [
    "class InteractionModule(nn.Module):\n",
    "    def __init__(self, n_features):\n",
    "        super(InteractionModule, self).__init__()\n",
    "        self.n_features = n_features\n",
    "        # Initialize a set of interaction tensors, one for the state tensor and one for each column of the transition tensor\n",
    "        self.interaction_tensors = nn.ParameterList([nn.Parameter(torch_randnorm([n_features, n_features, n_features], dim = 1)) for _ in range(n_features + 1)])\n",
    "\n",
    "    def forward(self, state_tensor, previous_transition_tensor):\n",
    "        # Get batch size\n",
    "        batch = state_tensor.shape[0]\n",
    "        # Assuming previous_transition_tensors is a list of transition tensors from the previous step\n",
    "        candidates = []\n",
    "        for i in range(self.n_features + 1):\n",
    "            if i == 0:  # Interaction with the state tensor\n",
    "                current_tensor = state_tensor\n",
    "            else:  # Interaction with columns of the previous transition tensor\n",
    "                current_tensor = previous_transition_tensor[:, :, i - 1]\n",
    "\n",
    "            interaction_tensor = self.interaction_tensors[i]\n",
    "            current_tensor_expanded = current_tensor.unsqueeze(1).expand(-1, self.n_features, -1)  # Shape: [batch, n_features, n_features]\n",
    "            interaction_tensor_expanded = interaction_tensor.unsqueeze(0).expand(batch, -1, -1, -1)  # Shape: [batch, n_features, n_features, n_features]\n",
    "            # Multiply and sum over the last dimension to get the transition tensor\n",
    "            candidate = torch.einsum('bik,bijk->bij', current_tensor_expanded, interaction_tensor_expanded)\n",
    "            \n",
    "            candidates.append(candidate)\n",
    "            \n",
    "        candidates_tensor = torch.stack(candidates, dim = -1)\n",
    "        return candidates_tensor\n"
   ]
  },
  {
   "cell_type": "code",
   "execution_count": null,
   "metadata": {},
   "outputs": [],
   "source": []
  },
  {
   "cell_type": "code",
   "execution_count": 162,
   "metadata": {},
   "outputs": [],
   "source": [
    "class CustomLayerExtended(nn.Module):\n",
    "    def __init__(self, n_features):\n",
    "        super(CustomLayerExtended, self).__init__()\n",
    "        self.n_features = n_features\n",
    "        self.interaction_module = InteractionModule(n_features)\n",
    "        self.selector_module = SelectorModule(n_features + 1)\n",
    "\n",
    "    def forward(self, x):\n",
    "        batch, length, n_features = x.size()\n",
    "        output = x.new_empty(batch, length, n_features)\n",
    "\n",
    "        # Initialize previous transition tensors (for the first step)\n",
    "        # Assuming it's a list of zero tensors for simplicity\n",
    "        previous_transition_tensor = torch.zeros(batch, n_features, n_features)\n",
    "\n",
    "        for l in range(length):\n",
    "            state_tensor = x[:, l, :]\n",
    "            # Generate candidates\n",
    "            candidates = self.interaction_module(state_tensor, previous_transition_tensor)\n",
    "            # Select one candidate\n",
    "            selected_transition_tensor = self.selector_module(candidates)\n",
    "            # Update the previous_transition_tensors for the next iteration\n",
    "            previous_transition_tensor = selected_transition_tensor\n",
    "            # Compute output for this step\n",
    "            output[:, l, :] = torch.matmul(selected_transition_tensor, state_tensor.unsqueeze(-1)).squeeze(-1)\n",
    "\n",
    "        return output, selected_transition_tensor\n"
   ]
  },
  {
   "cell_type": "code",
   "execution_count": 163,
   "metadata": {},
   "outputs": [
    {
     "name": "stdout",
     "output_type": "stream",
     "text": [
      "torch.Size([10, 5, 5])\n"
     ]
    }
   ],
   "source": [
    "import torch\n",
    "import torch.nn as nn\n",
    "import torch.nn.functional as F\n",
    "\n",
    "class SelectorModule(nn.Module):\n",
    "    def __init__(self, num_slices):\n",
    "        super(SelectorModule, self).__init__()\n",
    "        # A simple linear layer to compute importance scores for each slice\n",
    "        self.importance = nn.Linear(num_slices, num_slices)\n",
    "\n",
    "    def forward(self, x):\n",
    "        # Assuming x is of shape [batch_size, height, width, num_slices]\n",
    "        batch_size, _, _, num_slices = x.shape\n",
    "\n",
    "        # Compute importance scores by reducing x across spatial dimensions\n",
    "        # Here, we take the mean of x across the spatial dimensions to get a vector per slice\n",
    "        x_reduced = x.mean(dim=[1, 2])  # Shape: [batch_size, num_slices]\n",
    "\n",
    "        # Compute scores for each slice\n",
    "        scores = self.importance(x_reduced)  # Shape: [batch_size, num_slices]\n",
    "\n",
    "        # Apply softmax to get weights for each slice\n",
    "        weights = F.softmax(scores, dim=-1)  # Shape: [batch_size, num_slices]\n",
    "\n",
    "        # Correct application of weights:\n",
    "        # We need to ensure weights are applied across the num_slices dimension correctly.\n",
    "        # Since weights are [batch_size, num_slices] and x is [batch_size, height, width, num_slices],\n",
    "        # we permute x to bring num_slices to the front for broadcasting.\n",
    "        x_permuted = x.permute(0, 3, 1, 2)  # Shape: [batch_size, num_slices, height, width]\n",
    "        \n",
    "        # Now, multiply by weights. We need to reshape weights to [batch_size, num_slices, 1, 1] for broadcasting.\n",
    "        weighted_slices = x_permuted * weights.view(batch_size, num_slices, 1, 1)\n",
    "        \n",
    "        # Finally, sum the weighted slices across the num_slices dimension (now the first dimension after permute)\n",
    "        selected = weighted_slices.sum(dim=1)  # Shape: [batch_size, height, width]\n",
    "\n",
    "        return selected\n",
    "\n",
    "# Example usage\n",
    "batch_size = 10\n",
    "tensor = torch.rand(batch_size, 5, 5, 6)  # Example tensor\n",
    "model = SelectorModule(num_slices=6)\n",
    "\n",
    "result = model(tensor)\n",
    "print(result.shape)  # Should print torch.Size([10, 5, 5])\n"
   ]
  },
  {
   "cell_type": "code",
   "execution_count": 164,
   "metadata": {},
   "outputs": [
    {
     "name": "stdout",
     "output_type": "stream",
     "text": [
      "torch.Size([13, 64, 16])\n"
     ]
    }
   ],
   "source": [
    "n_features = 16\n",
    "batch, length, dim = 13, 64, n_features\n",
    "x = torch.randn(batch, length, dim)\n",
    "model = CustomLayerExtended(\n",
    "    n_features = n_features\n",
    ")\n",
    "y = model(x)\n",
    "\n",
    "print(y[0].shape)\n",
    "assert y[0].shape == x.shape"
   ]
  },
  {
   "cell_type": "code",
   "execution_count": 165,
   "metadata": {},
   "outputs": [
    {
     "name": "stdout",
     "output_type": "stream",
     "text": [
      "(tensor([[[ 7.9929e-02,  6.3589e-02,  9.1527e-02,  ...,  7.1251e-02,\n",
      "           1.1440e-01,  4.1626e-02],\n",
      "         [ 2.1672e-02, -1.8489e-02, -2.9474e-02,  ..., -1.8764e-02,\n",
      "           3.8014e-04,  5.0288e-03],\n",
      "         [-6.0428e-02, -9.5853e-03, -2.9033e-02,  ..., -3.6954e-02,\n",
      "           3.3319e-02, -4.9649e-02],\n",
      "         ...,\n",
      "         [ 6.4160e-03, -3.6141e-02,  3.6414e-03,  ..., -2.9929e-02,\n",
      "           9.1585e-03, -3.6560e-02],\n",
      "         [ 1.7042e-01,  9.2004e-02,  1.5324e-01,  ...,  1.4535e-01,\n",
      "           1.4246e-01,  1.4547e-01],\n",
      "         [ 1.9542e-02,  9.2565e-03,  1.0969e-02,  ...,  2.7057e-02,\n",
      "           1.9048e-02,  4.0066e-03]],\n",
      "\n",
      "        [[ 2.8896e-01,  1.9680e-01,  3.0029e-01,  ...,  3.0372e-01,\n",
      "           3.3790e-01,  2.0788e-01],\n",
      "         [-6.3724e-02, -6.8089e-02, -1.2398e-02,  ..., -4.8349e-02,\n",
      "          -1.2664e-02, -3.0944e-02],\n",
      "         [ 1.9062e-01,  1.5558e-01,  1.4040e-01,  ...,  1.0642e-01,\n",
      "           2.0924e-01,  1.7613e-01],\n",
      "         ...,\n",
      "         [-2.0488e-03,  1.0111e-02, -2.0664e-02,  ..., -4.2854e-03,\n",
      "          -2.8133e-02, -1.5365e-02],\n",
      "         [ 3.3287e-03, -9.6516e-02,  3.1527e-02,  ...,  9.5957e-03,\n",
      "          -1.0157e-01, -5.5177e-02],\n",
      "         [ 9.1417e-02,  3.9721e-02,  7.5526e-02,  ...,  7.5525e-02,\n",
      "           7.3997e-02,  8.4389e-02]],\n",
      "\n",
      "        [[ 6.9590e-02, -1.1791e-02,  2.3643e-02,  ...,  1.3990e-02,\n",
      "           1.3951e-02,  8.2963e-03],\n",
      "         [ 5.1512e-03,  2.5556e-02, -1.0293e-02,  ...,  1.7924e-02,\n",
      "           2.4563e-02, -2.1509e-02],\n",
      "         [ 1.8033e-02,  6.7771e-03,  4.0100e-03,  ...,  4.9434e-02,\n",
      "           1.1757e-01, -9.2262e-04],\n",
      "         ...,\n",
      "         [ 5.2942e-02,  3.8974e-02,  1.4372e-02,  ...,  5.3755e-02,\n",
      "           1.0667e-01,  5.4558e-02],\n",
      "         [-3.1995e-02, -9.3574e-02, -1.2733e-01,  ..., -6.1345e-02,\n",
      "           2.9348e-02, -8.1200e-02],\n",
      "         [ 3.9688e-02,  4.0309e-02, -2.3425e-02,  ..., -3.1698e-02,\n",
      "           1.3732e-02,  4.9780e-03]],\n",
      "\n",
      "        ...,\n",
      "\n",
      "        [[ 2.2486e-03, -3.2004e-03,  3.5040e-02,  ..., -1.8134e-02,\n",
      "           1.0494e-02,  6.2246e-02],\n",
      "         [ 8.5198e-04,  4.9128e-03,  8.6113e-02,  ..., -5.0471e-03,\n",
      "           4.3056e-02,  6.7105e-02],\n",
      "         [ 2.1883e-03,  4.0962e-03, -3.1421e-02,  ..., -6.4848e-03,\n",
      "           4.3433e-02, -3.3968e-02],\n",
      "         ...,\n",
      "         [-2.9598e-01, -2.6750e-01, -2.5077e-01,  ..., -2.5719e-01,\n",
      "          -2.8066e-01, -2.7469e-01],\n",
      "         [-2.7249e-01, -1.7941e-01, -2.2850e-01,  ..., -2.2332e-01,\n",
      "          -2.6723e-01, -2.7736e-01],\n",
      "         [-1.7564e-01, -1.4979e-01, -1.7261e-01,  ..., -1.9678e-01,\n",
      "          -1.7752e-01, -1.8668e-01]],\n",
      "\n",
      "        [[-1.1617e-02, -2.8995e-02, -2.5000e-02,  ...,  2.2003e-02,\n",
      "          -2.1470e-02,  2.2126e-02],\n",
      "         [ 1.2934e-02, -1.7666e-02,  3.1350e-02,  ..., -3.1828e-02,\n",
      "           1.2726e-02,  9.4616e-03],\n",
      "         [ 2.1926e-03, -4.3439e-03, -2.5447e-02,  ...,  3.3798e-03,\n",
      "           1.0246e-02, -1.9460e-02],\n",
      "         ...,\n",
      "         [ 2.8406e-01,  2.0237e-01,  2.9222e-01,  ...,  3.3968e-01,\n",
      "           3.2323e-01,  2.2827e-01],\n",
      "         [ 3.3890e-01,  4.8034e-01,  4.0611e-01,  ...,  4.2386e-01,\n",
      "           3.7825e-01,  3.6868e-01],\n",
      "         [-1.3493e-01, -1.7469e-01, -1.2094e-01,  ..., -1.4375e-01,\n",
      "          -1.6215e-01, -9.8581e-02]],\n",
      "\n",
      "        [[ 1.5087e-01,  1.5725e-01,  1.3932e-01,  ...,  1.5825e-01,\n",
      "           1.9671e-01,  1.4560e-01],\n",
      "         [ 3.8345e-03,  4.8111e-02,  1.6320e-02,  ..., -4.1796e-03,\n",
      "           2.9961e-02, -3.3353e-02],\n",
      "         [ 1.6850e-01,  1.3494e-01,  5.7302e-02,  ...,  1.5293e-01,\n",
      "           9.2482e-02,  7.3357e-02],\n",
      "         ...,\n",
      "         [ 1.9827e-02,  2.7965e-03, -1.7368e-02,  ...,  1.7211e-01,\n",
      "           1.2058e-01,  1.0566e-01],\n",
      "         [ 3.4208e-02, -2.4447e-02, -4.1103e-02,  ..., -2.0975e-02,\n",
      "           1.6733e-02,  1.4241e-02],\n",
      "         [-7.9405e-02, -1.0697e-01, -5.9033e-02,  ..., -1.2845e-01,\n",
      "          -6.0842e-02, -8.5661e-02]]], grad_fn=<CopySlices>), tensor([[[-0.0168, -0.0239, -0.0205,  ..., -0.0263, -0.0347, -0.0229],\n",
      "         [-0.0272, -0.0256, -0.0300,  ..., -0.0188, -0.0282, -0.0159],\n",
      "         [-0.0385, -0.0234, -0.0193,  ..., -0.0265, -0.0220, -0.0283],\n",
      "         ...,\n",
      "         [-0.0222, -0.0289, -0.0274,  ..., -0.0209, -0.0325, -0.0212],\n",
      "         [-0.0214, -0.0203, -0.0296,  ..., -0.0403, -0.0222, -0.0198],\n",
      "         [-0.0204, -0.0292, -0.0226,  ..., -0.0232, -0.0315, -0.0344]],\n",
      "\n",
      "        [[ 0.0161,  0.0098,  0.0179,  ...,  0.0119,  0.0222,  0.0058],\n",
      "         [ 0.0062,  0.0112,  0.0181,  ...,  0.0105,  0.0120,  0.0126],\n",
      "         [ 0.0207,  0.0127,  0.0188,  ...,  0.0152,  0.0120,  0.0246],\n",
      "         ...,\n",
      "         [ 0.0144,  0.0173,  0.0212,  ...,  0.0257,  0.0219,  0.0009],\n",
      "         [ 0.0143,  0.0090,  0.0118,  ...,  0.0270,  0.0241,  0.0194],\n",
      "         [ 0.0127,  0.0228,  0.0051,  ...,  0.0120,  0.0243,  0.0200]],\n",
      "\n",
      "        [[-0.0095, -0.0096, -0.0075,  ...,  0.0010,  0.0024,  0.0096],\n",
      "         [ 0.0035, -0.0090, -0.0009,  ..., -0.0050, -0.0008,  0.0084],\n",
      "         [ 0.0054,  0.0052,  0.0026,  ..., -0.0019, -0.0014,  0.0032],\n",
      "         ...,\n",
      "         [ 0.0055, -0.0036,  0.0023,  ...,  0.0056,  0.0012,  0.0001],\n",
      "         [-0.0051,  0.0003,  0.0024,  ...,  0.0039, -0.0054, -0.0063],\n",
      "         [-0.0002,  0.0213,  0.0016,  ..., -0.0023, -0.0084, -0.0134]],\n",
      "\n",
      "        ...,\n",
      "\n",
      "        [[ 0.0538,  0.0338,  0.0491,  ...,  0.0673,  0.0494,  0.0585],\n",
      "         [ 0.0430,  0.0470,  0.0461,  ...,  0.0466,  0.0527,  0.0494],\n",
      "         [ 0.0482,  0.0614,  0.0396,  ...,  0.0413,  0.0523,  0.0458],\n",
      "         ...,\n",
      "         [ 0.0516,  0.0497,  0.0514,  ...,  0.0408,  0.0531,  0.0546],\n",
      "         [ 0.0523,  0.0471,  0.0527,  ...,  0.0455,  0.0517,  0.0480],\n",
      "         [ 0.0429,  0.0618,  0.0597,  ...,  0.0553,  0.0381,  0.0466]],\n",
      "\n",
      "        [[ 0.0792,  0.0782,  0.0815,  ...,  0.0763,  0.0787,  0.0826],\n",
      "         [ 0.0877,  0.0702,  0.0841,  ...,  0.0745,  0.0802,  0.0788],\n",
      "         [ 0.0807,  0.0870,  0.0688,  ...,  0.0788,  0.0839,  0.0935],\n",
      "         ...,\n",
      "         [ 0.0815,  0.0731,  0.0959,  ...,  0.0967,  0.0807,  0.0821],\n",
      "         [ 0.0760,  0.0820,  0.0809,  ...,  0.0895,  0.0784,  0.0745],\n",
      "         [ 0.0846,  0.0977,  0.0825,  ...,  0.0746,  0.0750,  0.0787]],\n",
      "\n",
      "        [[-0.0148, -0.0228, -0.0097,  ..., -0.0072, -0.0244, -0.0232],\n",
      "         [-0.0069, -0.0072, -0.0198,  ..., -0.0194, -0.0205, -0.0172],\n",
      "         [-0.0233, -0.0097, -0.0199,  ..., -0.0210, -0.0221, -0.0030],\n",
      "         ...,\n",
      "         [-0.0056, -0.0223, -0.0087,  ...,  0.0004, -0.0088, -0.0191],\n",
      "         [-0.0104, -0.0144, -0.0185,  ..., -0.0274, -0.0170, -0.0146],\n",
      "         [-0.0126, -0.0122, -0.0156,  ..., -0.0276, -0.0150, -0.0174]]],\n",
      "       grad_fn=<SumBackward1>))\n"
     ]
    }
   ],
   "source": [
    "print(y)"
   ]
  },
  {
   "cell_type": "markdown",
   "metadata": {},
   "source": [
    "# Example Training"
   ]
  },
  {
   "cell_type": "markdown",
   "metadata": {},
   "source": [
    "## Simple Data Generation"
   ]
  },
  {
   "cell_type": "code",
   "execution_count": 166,
   "metadata": {},
   "outputs": [],
   "source": [
    "import numpy as np\n",
    "import torch\n",
    "\n",
    "def generate_normalized_multivariate_time_series(n_features, total_length, amplitude=1.0):\n",
    "    t = np.linspace(0, 100 * np.pi, total_length)\n",
    "    series = np.zeros((total_length, n_features))\n",
    "    for i in range(n_features):\n",
    "        series[:, i] = amplitude * np.cos(t * (i + 1) / n_features) + 10\n",
    "    \n",
    "    # Normalize such that each timestep's values sum to 1\n",
    "    series_sum = np.sum(series, axis=1, keepdims=True)\n",
    "    series_normalized = series / series_sum\n",
    "    \n",
    "    return series_normalized\n",
    "\n",
    "def segment_time_series(series, length):\n",
    "    # Assuming series is a numpy array of shape [total_length, n_features]\n",
    "    total_length, n_features = series.shape\n",
    "    segments = []\n",
    "    for start in range(0, total_length - length, length):\n",
    "        segment = series[start:start + length]\n",
    "        segments.append(segment)\n",
    "    return np.stack(segments)\n"
   ]
  },
  {
   "cell_type": "code",
   "execution_count": 167,
   "metadata": {},
   "outputs": [],
   "source": [
    "n_features = 4\n",
    "length = 64  # Segment length\n",
    "total_length = 1024  # Arbitrary total length for the generated series\n",
    "\n",
    "# Generate and segment the time series\n",
    "series = generate_normalized_multivariate_time_series(n_features, total_length)\n",
    "series_x = series[:-1,]\n",
    "series_y = series[1:,]\n",
    "\n",
    "segments_x = segment_time_series(series_x, length)\n",
    "segments_y = segment_time_series(series_y, length)\n",
    "\n",
    "# Convert to tensors\n",
    "segments_tensor_x = torch.tensor(segments_x, dtype=torch.float)\n",
    "segments_tensor_y = torch.tensor(segments_y, dtype=torch.float)\n",
    "\n",
    "# Prepare inputs and targets\n",
    "X = segments_tensor_x\n",
    "# Shift segments to the right by one timestep to create the targets\n",
    "Y =  segments_tensor_y\n"
   ]
  },
  {
   "cell_type": "code",
   "execution_count": 168,
   "metadata": {},
   "outputs": [
    {
     "name": "stdout",
     "output_type": "stream",
     "text": [
      "Epoch [10/100], Loss: 0.0009899124270305037\n",
      "Epoch [20/100], Loss: 0.0007203770219348371\n",
      "Epoch [30/100], Loss: 0.0005585281178355217\n",
      "Epoch [40/100], Loss: 0.0004538825305644423\n",
      "Epoch [50/100], Loss: 0.0003805689630098641\n",
      "Epoch [60/100], Loss: 0.0003271039458923042\n",
      "Epoch [70/100], Loss: 0.0002865927526727319\n",
      "Epoch [80/100], Loss: 0.00025465950602665544\n",
      "Epoch [90/100], Loss: 0.00022854555572848767\n",
      "Epoch [100/100], Loss: 0.00020648183999583125\n"
     ]
    }
   ],
   "source": [
    "from torch import nn, optim\n",
    "\n",
    "# Model\n",
    "model = CustomLayerExtended(\n",
    "    n_features = n_features\n",
    ")\n",
    "\n",
    "# Loss and optimizer\n",
    "criterion = nn.MSELoss()\n",
    "optimizer = optim.Adam(model.parameters(), lr=0.01)\n",
    "\n",
    "# Training loop\n",
    "epochs = 100\n",
    "for epoch in range(epochs):\n",
    "    model.train()\n",
    "    optimizer.zero_grad()\n",
    "    # Forward pass\n",
    "    outputs, _ = model(X)\n",
    "    loss = criterion(outputs, Y)\n",
    "\n",
    "    # Backward and optimize\n",
    "    loss.backward()\n",
    "    optimizer.step()\n",
    "\n",
    "    if (epoch + 1) % 10 == 0:\n",
    "        print(f'Epoch [{epoch+1}/{epochs}], Loss: {loss.item()}')\n"
   ]
  },
  {
   "cell_type": "code",
   "execution_count": 169,
   "metadata": {},
   "outputs": [
    {
     "data": {
      "text/plain": [
       "tensor([[0.2304, 0.2339],\n",
       "        [0.2339, 0.2378],\n",
       "        [0.2378, 0.2419],\n",
       "        [0.2419, 0.2460],\n",
       "        [0.2460, 0.2497],\n",
       "        [0.2497, 0.2529],\n",
       "        [0.2529, 0.2553],\n",
       "        [0.2553, 0.2569],\n",
       "        [0.2569, 0.2577],\n",
       "        [0.2577, 0.2576],\n",
       "        [0.2576, 0.2570],\n",
       "        [0.2570, 0.2558],\n",
       "        [0.2558, 0.2545],\n",
       "        [0.2545, 0.2530],\n",
       "        [0.2530, 0.2518],\n",
       "        [0.2518, 0.2508],\n",
       "        [0.2508, 0.2502],\n",
       "        [0.2502, 0.2500],\n",
       "        [0.2500, 0.2503],\n",
       "        [0.2503, 0.2511],\n",
       "        [0.2511, 0.2522],\n",
       "        [0.2522, 0.2535],\n",
       "        [0.2535, 0.2549],\n",
       "        [0.2549, 0.2562],\n",
       "        [0.2562, 0.2572],\n",
       "        [0.2572, 0.2577],\n",
       "        [0.2577, 0.2575],\n",
       "        [0.2575, 0.2565],\n",
       "        [0.2565, 0.2546],\n",
       "        [0.2546, 0.2520],\n",
       "        [0.2520, 0.2486],\n",
       "        [0.2486, 0.2447],\n",
       "        [0.2447, 0.2406],\n",
       "        [0.2406, 0.2365],\n",
       "        [0.2365, 0.2327],\n",
       "        [0.2327, 0.2295],\n",
       "        [0.2295, 0.2269],\n",
       "        [0.2269, 0.2253],\n",
       "        [0.2253, 0.2246],\n",
       "        [0.2246, 0.2250],\n",
       "        [0.2250, 0.2263],\n",
       "        [0.2263, 0.2286],\n",
       "        [0.2286, 0.2318],\n",
       "        [0.2318, 0.2356],\n",
       "        [0.2356, 0.2400],\n",
       "        [0.2400, 0.2446],\n",
       "        [0.2446, 0.2494],\n",
       "        [0.2494, 0.2541],\n",
       "        [0.2541, 0.2584],\n",
       "        [0.2584, 0.2623],\n",
       "        [0.2623, 0.2657],\n",
       "        [0.2657, 0.2685],\n",
       "        [0.2685, 0.2706],\n",
       "        [0.2706, 0.2723],\n",
       "        [0.2723, 0.2734],\n",
       "        [0.2734, 0.2742],\n",
       "        [0.2742, 0.2747],\n",
       "        [0.2747, 0.2749],\n",
       "        [0.2749, 0.2750],\n",
       "        [0.2750, 0.2749],\n",
       "        [0.2749, 0.2745],\n",
       "        [0.2745, 0.2739],\n",
       "        [0.2739, 0.2729],\n",
       "        [0.2729, 0.2716]])"
      ]
     },
     "execution_count": 169,
     "metadata": {},
     "output_type": "execute_result"
    }
   ],
   "source": [
    "torch.stack([X[1,:,1],Y[1,:,1]], dim = -1)"
   ]
  },
  {
   "cell_type": "code",
   "execution_count": 170,
   "metadata": {},
   "outputs": [
    {
     "data": {
      "application/vnd.plotly.v1+json": {
       "config": {
        "plotlyServerURL": "https://plot.ly"
       },
       "data": [
        {
         "mode": "lines",
         "name": "Model Output",
         "type": "scatter",
         "x": [
          0,
          1,
          2,
          3,
          4,
          5,
          6,
          7,
          8,
          9,
          10,
          11,
          12,
          13,
          14,
          15,
          16,
          17,
          18,
          19,
          20,
          21,
          22,
          23,
          24,
          25,
          26,
          27,
          28,
          29,
          30,
          31,
          32,
          33,
          34,
          35,
          36,
          37,
          38,
          39,
          40,
          41,
          42,
          43,
          44,
          45,
          46,
          47,
          48,
          49,
          50,
          51,
          52,
          53,
          54,
          55,
          56,
          57,
          58,
          59,
          60,
          61,
          62,
          63
         ],
         "y": [
          0.198794886469841,
          0.2402651607990265,
          0.24981673061847687,
          0.2527872622013092,
          0.2542496919631958,
          0.255178302526474,
          0.25573456287384033,
          0.2559392750263214,
          0.25580716133117676,
          0.2553713619709015,
          0.2546842098236084,
          0.2538135051727295,
          0.2528373599052429,
          0.2518385946750641,
          0.2508993148803711,
          0.25009462237358093,
          0.24948750436306,
          0.24912327527999878,
          0.24902552366256714,
          0.2491932511329651,
          0.24960026144981384,
          0.25019729137420654,
          0.25091660022735596,
          0.2516787052154541,
          0.2524009943008423,
          0.2530061602592468,
          0.25343015789985657,
          0.2536284327507019,
          0.2535802721977234,
          0.2532905042171478,
          0.25278952717781067,
          0.25212985277175903,
          0.2513814866542816,
          0.2506248950958252,
          0.24994255602359772,
          0.24941065907478333,
          0.24909085035324097,
          0.2490241825580597,
          0.24922746419906616,
          0.24969224631786346,
          0.25038614869117737,
          0.25125646591186523,
          0.25223469734191895,
          0.25324204564094543,
          0.2541952431201935,
          0.25501227378845215,
          0.25561824440956116,
          0.2559504508972168,
          0.25596383213996887,
          0.2556360363960266,
          0.2549712359905243,
          0.2540033459663391,
          0.25279656052589417,
          0.251442551612854,
          0.2500530779361725,
          0.24874825775623322,
          0.24764123558998108,
          0.24682258069515228,
          0.2463478147983551,
          0.24623067677021027,
          0.24644434452056885,
          0.24692878127098083,
          0.24760231375694275,
          0.24837416410446167
         ]
        },
        {
         "mode": "lines",
         "name": "Target",
         "type": "scatter",
         "x": [
          0,
          1,
          2,
          3,
          4,
          5,
          6,
          7,
          8,
          9,
          10,
          11,
          12,
          13,
          14,
          15,
          16,
          17,
          18,
          19,
          20,
          21,
          22,
          23,
          24,
          25,
          26,
          27,
          28,
          29,
          30,
          31,
          32,
          33,
          34,
          35,
          36,
          37,
          38,
          39,
          40,
          41,
          42,
          43,
          44,
          45,
          46,
          47,
          48,
          49,
          50,
          51,
          52,
          53,
          54,
          55,
          56,
          57,
          58,
          59,
          60,
          61,
          62,
          63
         ],
         "y": [
          0.2531220018863678,
          0.2596900463104248,
          0.2656269371509552,
          0.2704300880432129,
          0.27370917797088623,
          0.27521181106567383,
          0.274834007024765,
          0.2726195156574249,
          0.2687525749206543,
          0.26354482769966125,
          0.25741755962371826,
          0.25087714195251465,
          0.24448172748088837,
          0.23879872262477875,
          0.23435355722904205,
          0.2315749078989029,
          0.23074370622634888,
          0.23195526003837585,
          0.23510295152664185,
          0.23988765478134155,
          0.24585208296775818,
          0.25243332982063293,
          0.259024053812027,
          0.26503297686576843,
          0.26993656158447266,
          0.27331915497779846,
          0.2749001085758209,
          0.27455002069473267,
          0.2722974419593811,
          0.2683274745941162,
          0.2629717290401459,
          0.25668850541114807,
          0.2500310242176056,
          0.24360285699367523,
          0.23800252377986908,
          0.2337617427110672,
          0.2312861531972885,
          0.2308083176612854,
          0.23236186802387238,
          0.23578153550624847,
          0.24072793126106262,
          0.24673128128051758,
          0.2532448172569275,
          0.25969892740249634,
          0.2655496597290039,
          0.2703179717063904,
          0.2736195921897888,
          0.2751869857311249,
          0.27488526701927185,
          0.2727232873439789,
          0.2688589096069336,
          0.2635960876941681,
          0.25736933946609497,
          0.2507120966911316,
          0.24420686066150665,
          0.2384210079908371,
          0.23383712768554688,
          0.23079125583171844,
          0.22943267226219177,
          0.22971411049365997,
          0.23141276836395264,
          0.23417474329471588,
          0.2375710904598236,
          0.24115335941314697
         ]
        }
       ],
       "layout": {
        "template": {
         "data": {
          "bar": [
           {
            "error_x": {
             "color": "#2a3f5f"
            },
            "error_y": {
             "color": "#2a3f5f"
            },
            "marker": {
             "line": {
              "color": "#E5ECF6",
              "width": 0.5
             },
             "pattern": {
              "fillmode": "overlay",
              "size": 10,
              "solidity": 0.2
             }
            },
            "type": "bar"
           }
          ],
          "barpolar": [
           {
            "marker": {
             "line": {
              "color": "#E5ECF6",
              "width": 0.5
             },
             "pattern": {
              "fillmode": "overlay",
              "size": 10,
              "solidity": 0.2
             }
            },
            "type": "barpolar"
           }
          ],
          "carpet": [
           {
            "aaxis": {
             "endlinecolor": "#2a3f5f",
             "gridcolor": "white",
             "linecolor": "white",
             "minorgridcolor": "white",
             "startlinecolor": "#2a3f5f"
            },
            "baxis": {
             "endlinecolor": "#2a3f5f",
             "gridcolor": "white",
             "linecolor": "white",
             "minorgridcolor": "white",
             "startlinecolor": "#2a3f5f"
            },
            "type": "carpet"
           }
          ],
          "choropleth": [
           {
            "colorbar": {
             "outlinewidth": 0,
             "ticks": ""
            },
            "type": "choropleth"
           }
          ],
          "contour": [
           {
            "colorbar": {
             "outlinewidth": 0,
             "ticks": ""
            },
            "colorscale": [
             [
              0,
              "#0d0887"
             ],
             [
              0.1111111111111111,
              "#46039f"
             ],
             [
              0.2222222222222222,
              "#7201a8"
             ],
             [
              0.3333333333333333,
              "#9c179e"
             ],
             [
              0.4444444444444444,
              "#bd3786"
             ],
             [
              0.5555555555555556,
              "#d8576b"
             ],
             [
              0.6666666666666666,
              "#ed7953"
             ],
             [
              0.7777777777777778,
              "#fb9f3a"
             ],
             [
              0.8888888888888888,
              "#fdca26"
             ],
             [
              1,
              "#f0f921"
             ]
            ],
            "type": "contour"
           }
          ],
          "contourcarpet": [
           {
            "colorbar": {
             "outlinewidth": 0,
             "ticks": ""
            },
            "type": "contourcarpet"
           }
          ],
          "heatmap": [
           {
            "colorbar": {
             "outlinewidth": 0,
             "ticks": ""
            },
            "colorscale": [
             [
              0,
              "#0d0887"
             ],
             [
              0.1111111111111111,
              "#46039f"
             ],
             [
              0.2222222222222222,
              "#7201a8"
             ],
             [
              0.3333333333333333,
              "#9c179e"
             ],
             [
              0.4444444444444444,
              "#bd3786"
             ],
             [
              0.5555555555555556,
              "#d8576b"
             ],
             [
              0.6666666666666666,
              "#ed7953"
             ],
             [
              0.7777777777777778,
              "#fb9f3a"
             ],
             [
              0.8888888888888888,
              "#fdca26"
             ],
             [
              1,
              "#f0f921"
             ]
            ],
            "type": "heatmap"
           }
          ],
          "heatmapgl": [
           {
            "colorbar": {
             "outlinewidth": 0,
             "ticks": ""
            },
            "colorscale": [
             [
              0,
              "#0d0887"
             ],
             [
              0.1111111111111111,
              "#46039f"
             ],
             [
              0.2222222222222222,
              "#7201a8"
             ],
             [
              0.3333333333333333,
              "#9c179e"
             ],
             [
              0.4444444444444444,
              "#bd3786"
             ],
             [
              0.5555555555555556,
              "#d8576b"
             ],
             [
              0.6666666666666666,
              "#ed7953"
             ],
             [
              0.7777777777777778,
              "#fb9f3a"
             ],
             [
              0.8888888888888888,
              "#fdca26"
             ],
             [
              1,
              "#f0f921"
             ]
            ],
            "type": "heatmapgl"
           }
          ],
          "histogram": [
           {
            "marker": {
             "pattern": {
              "fillmode": "overlay",
              "size": 10,
              "solidity": 0.2
             }
            },
            "type": "histogram"
           }
          ],
          "histogram2d": [
           {
            "colorbar": {
             "outlinewidth": 0,
             "ticks": ""
            },
            "colorscale": [
             [
              0,
              "#0d0887"
             ],
             [
              0.1111111111111111,
              "#46039f"
             ],
             [
              0.2222222222222222,
              "#7201a8"
             ],
             [
              0.3333333333333333,
              "#9c179e"
             ],
             [
              0.4444444444444444,
              "#bd3786"
             ],
             [
              0.5555555555555556,
              "#d8576b"
             ],
             [
              0.6666666666666666,
              "#ed7953"
             ],
             [
              0.7777777777777778,
              "#fb9f3a"
             ],
             [
              0.8888888888888888,
              "#fdca26"
             ],
             [
              1,
              "#f0f921"
             ]
            ],
            "type": "histogram2d"
           }
          ],
          "histogram2dcontour": [
           {
            "colorbar": {
             "outlinewidth": 0,
             "ticks": ""
            },
            "colorscale": [
             [
              0,
              "#0d0887"
             ],
             [
              0.1111111111111111,
              "#46039f"
             ],
             [
              0.2222222222222222,
              "#7201a8"
             ],
             [
              0.3333333333333333,
              "#9c179e"
             ],
             [
              0.4444444444444444,
              "#bd3786"
             ],
             [
              0.5555555555555556,
              "#d8576b"
             ],
             [
              0.6666666666666666,
              "#ed7953"
             ],
             [
              0.7777777777777778,
              "#fb9f3a"
             ],
             [
              0.8888888888888888,
              "#fdca26"
             ],
             [
              1,
              "#f0f921"
             ]
            ],
            "type": "histogram2dcontour"
           }
          ],
          "mesh3d": [
           {
            "colorbar": {
             "outlinewidth": 0,
             "ticks": ""
            },
            "type": "mesh3d"
           }
          ],
          "parcoords": [
           {
            "line": {
             "colorbar": {
              "outlinewidth": 0,
              "ticks": ""
             }
            },
            "type": "parcoords"
           }
          ],
          "pie": [
           {
            "automargin": true,
            "type": "pie"
           }
          ],
          "scatter": [
           {
            "fillpattern": {
             "fillmode": "overlay",
             "size": 10,
             "solidity": 0.2
            },
            "type": "scatter"
           }
          ],
          "scatter3d": [
           {
            "line": {
             "colorbar": {
              "outlinewidth": 0,
              "ticks": ""
             }
            },
            "marker": {
             "colorbar": {
              "outlinewidth": 0,
              "ticks": ""
             }
            },
            "type": "scatter3d"
           }
          ],
          "scattercarpet": [
           {
            "marker": {
             "colorbar": {
              "outlinewidth": 0,
              "ticks": ""
             }
            },
            "type": "scattercarpet"
           }
          ],
          "scattergeo": [
           {
            "marker": {
             "colorbar": {
              "outlinewidth": 0,
              "ticks": ""
             }
            },
            "type": "scattergeo"
           }
          ],
          "scattergl": [
           {
            "marker": {
             "colorbar": {
              "outlinewidth": 0,
              "ticks": ""
             }
            },
            "type": "scattergl"
           }
          ],
          "scattermapbox": [
           {
            "marker": {
             "colorbar": {
              "outlinewidth": 0,
              "ticks": ""
             }
            },
            "type": "scattermapbox"
           }
          ],
          "scatterpolar": [
           {
            "marker": {
             "colorbar": {
              "outlinewidth": 0,
              "ticks": ""
             }
            },
            "type": "scatterpolar"
           }
          ],
          "scatterpolargl": [
           {
            "marker": {
             "colorbar": {
              "outlinewidth": 0,
              "ticks": ""
             }
            },
            "type": "scatterpolargl"
           }
          ],
          "scatterternary": [
           {
            "marker": {
             "colorbar": {
              "outlinewidth": 0,
              "ticks": ""
             }
            },
            "type": "scatterternary"
           }
          ],
          "surface": [
           {
            "colorbar": {
             "outlinewidth": 0,
             "ticks": ""
            },
            "colorscale": [
             [
              0,
              "#0d0887"
             ],
             [
              0.1111111111111111,
              "#46039f"
             ],
             [
              0.2222222222222222,
              "#7201a8"
             ],
             [
              0.3333333333333333,
              "#9c179e"
             ],
             [
              0.4444444444444444,
              "#bd3786"
             ],
             [
              0.5555555555555556,
              "#d8576b"
             ],
             [
              0.6666666666666666,
              "#ed7953"
             ],
             [
              0.7777777777777778,
              "#fb9f3a"
             ],
             [
              0.8888888888888888,
              "#fdca26"
             ],
             [
              1,
              "#f0f921"
             ]
            ],
            "type": "surface"
           }
          ],
          "table": [
           {
            "cells": {
             "fill": {
              "color": "#EBF0F8"
             },
             "line": {
              "color": "white"
             }
            },
            "header": {
             "fill": {
              "color": "#C8D4E3"
             },
             "line": {
              "color": "white"
             }
            },
            "type": "table"
           }
          ]
         },
         "layout": {
          "annotationdefaults": {
           "arrowcolor": "#2a3f5f",
           "arrowhead": 0,
           "arrowwidth": 1
          },
          "autotypenumbers": "strict",
          "coloraxis": {
           "colorbar": {
            "outlinewidth": 0,
            "ticks": ""
           }
          },
          "colorscale": {
           "diverging": [
            [
             0,
             "#8e0152"
            ],
            [
             0.1,
             "#c51b7d"
            ],
            [
             0.2,
             "#de77ae"
            ],
            [
             0.3,
             "#f1b6da"
            ],
            [
             0.4,
             "#fde0ef"
            ],
            [
             0.5,
             "#f7f7f7"
            ],
            [
             0.6,
             "#e6f5d0"
            ],
            [
             0.7,
             "#b8e186"
            ],
            [
             0.8,
             "#7fbc41"
            ],
            [
             0.9,
             "#4d9221"
            ],
            [
             1,
             "#276419"
            ]
           ],
           "sequential": [
            [
             0,
             "#0d0887"
            ],
            [
             0.1111111111111111,
             "#46039f"
            ],
            [
             0.2222222222222222,
             "#7201a8"
            ],
            [
             0.3333333333333333,
             "#9c179e"
            ],
            [
             0.4444444444444444,
             "#bd3786"
            ],
            [
             0.5555555555555556,
             "#d8576b"
            ],
            [
             0.6666666666666666,
             "#ed7953"
            ],
            [
             0.7777777777777778,
             "#fb9f3a"
            ],
            [
             0.8888888888888888,
             "#fdca26"
            ],
            [
             1,
             "#f0f921"
            ]
           ],
           "sequentialminus": [
            [
             0,
             "#0d0887"
            ],
            [
             0.1111111111111111,
             "#46039f"
            ],
            [
             0.2222222222222222,
             "#7201a8"
            ],
            [
             0.3333333333333333,
             "#9c179e"
            ],
            [
             0.4444444444444444,
             "#bd3786"
            ],
            [
             0.5555555555555556,
             "#d8576b"
            ],
            [
             0.6666666666666666,
             "#ed7953"
            ],
            [
             0.7777777777777778,
             "#fb9f3a"
            ],
            [
             0.8888888888888888,
             "#fdca26"
            ],
            [
             1,
             "#f0f921"
            ]
           ]
          },
          "colorway": [
           "#636efa",
           "#EF553B",
           "#00cc96",
           "#ab63fa",
           "#FFA15A",
           "#19d3f3",
           "#FF6692",
           "#B6E880",
           "#FF97FF",
           "#FECB52"
          ],
          "font": {
           "color": "#2a3f5f"
          },
          "geo": {
           "bgcolor": "white",
           "lakecolor": "white",
           "landcolor": "#E5ECF6",
           "showlakes": true,
           "showland": true,
           "subunitcolor": "white"
          },
          "hoverlabel": {
           "align": "left"
          },
          "hovermode": "closest",
          "mapbox": {
           "style": "light"
          },
          "paper_bgcolor": "white",
          "plot_bgcolor": "#E5ECF6",
          "polar": {
           "angularaxis": {
            "gridcolor": "white",
            "linecolor": "white",
            "ticks": ""
           },
           "bgcolor": "#E5ECF6",
           "radialaxis": {
            "gridcolor": "white",
            "linecolor": "white",
            "ticks": ""
           }
          },
          "scene": {
           "xaxis": {
            "backgroundcolor": "#E5ECF6",
            "gridcolor": "white",
            "gridwidth": 2,
            "linecolor": "white",
            "showbackground": true,
            "ticks": "",
            "zerolinecolor": "white"
           },
           "yaxis": {
            "backgroundcolor": "#E5ECF6",
            "gridcolor": "white",
            "gridwidth": 2,
            "linecolor": "white",
            "showbackground": true,
            "ticks": "",
            "zerolinecolor": "white"
           },
           "zaxis": {
            "backgroundcolor": "#E5ECF6",
            "gridcolor": "white",
            "gridwidth": 2,
            "linecolor": "white",
            "showbackground": true,
            "ticks": "",
            "zerolinecolor": "white"
           }
          },
          "shapedefaults": {
           "line": {
            "color": "#2a3f5f"
           }
          },
          "ternary": {
           "aaxis": {
            "gridcolor": "white",
            "linecolor": "white",
            "ticks": ""
           },
           "baxis": {
            "gridcolor": "white",
            "linecolor": "white",
            "ticks": ""
           },
           "bgcolor": "#E5ECF6",
           "caxis": {
            "gridcolor": "white",
            "linecolor": "white",
            "ticks": ""
           }
          },
          "title": {
           "x": 0.05
          },
          "xaxis": {
           "automargin": true,
           "gridcolor": "white",
           "linecolor": "white",
           "ticks": "",
           "title": {
            "standoff": 15
           },
           "zerolinecolor": "white",
           "zerolinewidth": 2
          },
          "yaxis": {
           "automargin": true,
           "gridcolor": "white",
           "linecolor": "white",
           "ticks": "",
           "title": {
            "standoff": 15
           },
           "zerolinecolor": "white",
           "zerolinewidth": 2
          }
         }
        },
        "title": {
         "text": "Model Output vs Target for Feature 3, Batch 13"
        },
        "xaxis": {
         "title": {
          "text": "Timestep"
         }
        },
        "yaxis": {
         "title": {
          "text": "Value"
         }
        }
       }
      }
     },
     "metadata": {},
     "output_type": "display_data"
    }
   ],
   "source": [
    "import plotly.graph_objects as go\n",
    "\n",
    "def plot_model_output_vs_target(model_outputs, targets, batch_index=0, feature_index=0):\n",
    "    # Extract the specified feature for the given batch from both the model outputs and targets\n",
    "    model_output_series = model_outputs[batch_index, :, feature_index].detach().numpy()\n",
    "    target_series = targets[batch_index, :, feature_index].numpy()\n",
    "    \n",
    "    # Create a range for the x-axis (timesteps)\n",
    "    timesteps = list(range(model_output_series.shape[0]))\n",
    "    \n",
    "    # Create traces\n",
    "    model_trace = go.Scatter(x=timesteps, y=model_output_series, mode='lines', name='Model Output')\n",
    "    target_trace = go.Scatter(x=timesteps, y=target_series, mode='lines', name='Target')\n",
    "    \n",
    "    # Create the figure and add traces\n",
    "    fig = go.Figure()\n",
    "    fig.add_trace(model_trace)\n",
    "    fig.add_trace(target_trace)\n",
    "    \n",
    "    # Add title and labels\n",
    "    fig.update_layout(title=f'Model Output vs Target for Feature {feature_index}, Batch {batch_index}',\n",
    "                      xaxis_title='Timestep',\n",
    "                      yaxis_title='Value')\n",
    "    \n",
    "    # Show the figure\n",
    "    fig.show()\n",
    "\n",
    "# Assuming `y` and `Y` are your model outputs and targets, respectively\n",
    "# Adjust batch_index and feature_index as needed\n",
    "plot_model_output_vs_target(outputs, Y, batch_index=13, feature_index=3)\n"
   ]
  },
  {
   "cell_type": "code",
   "execution_count": 171,
   "metadata": {},
   "outputs": [
    {
     "data": {
      "text/plain": [
       "tensor([[0.2011, 0.2339],\n",
       "        [0.2402, 0.2378],\n",
       "        [0.2483, 0.2419],\n",
       "        [0.2501, 0.2460],\n",
       "        [0.2506, 0.2497],\n",
       "        [0.2508, 0.2529],\n",
       "        [0.2509, 0.2553],\n",
       "        [0.2510, 0.2569],\n",
       "        [0.2511, 0.2577],\n",
       "        [0.2511, 0.2576],\n",
       "        [0.2510, 0.2570],\n",
       "        [0.2510, 0.2558],\n",
       "        [0.2510, 0.2545],\n",
       "        [0.2509, 0.2530],\n",
       "        [0.2509, 0.2518],\n",
       "        [0.2508, 0.2508],\n",
       "        [0.2508, 0.2502],\n",
       "        [0.2508, 0.2500],\n",
       "        [0.2508, 0.2503],\n",
       "        [0.2508, 0.2511],\n",
       "        [0.2508, 0.2522],\n",
       "        [0.2509, 0.2535],\n",
       "        [0.2509, 0.2549],\n",
       "        [0.2509, 0.2562],\n",
       "        [0.2510, 0.2572],\n",
       "        [0.2511, 0.2577],\n",
       "        [0.2511, 0.2575],\n",
       "        [0.2511, 0.2565],\n",
       "        [0.2511, 0.2546],\n",
       "        [0.2510, 0.2520],\n",
       "        [0.2509, 0.2486],\n",
       "        [0.2508, 0.2447],\n",
       "        [0.2506, 0.2406],\n",
       "        [0.2505, 0.2365],\n",
       "        [0.2503, 0.2327],\n",
       "        [0.2501, 0.2295],\n",
       "        [0.2499, 0.2269],\n",
       "        [0.2497, 0.2253],\n",
       "        [0.2494, 0.2246],\n",
       "        [0.2492, 0.2250],\n",
       "        [0.2489, 0.2263],\n",
       "        [0.2487, 0.2286],\n",
       "        [0.2486, 0.2318],\n",
       "        [0.2485, 0.2356],\n",
       "        [0.2486, 0.2400],\n",
       "        [0.2488, 0.2446],\n",
       "        [0.2491, 0.2494],\n",
       "        [0.2495, 0.2541],\n",
       "        [0.2500, 0.2584],\n",
       "        [0.2506, 0.2623],\n",
       "        [0.2512, 0.2657],\n",
       "        [0.2518, 0.2685],\n",
       "        [0.2524, 0.2706],\n",
       "        [0.2530, 0.2723],\n",
       "        [0.2537, 0.2734],\n",
       "        [0.2542, 0.2742],\n",
       "        [0.2547, 0.2747],\n",
       "        [0.2550, 0.2749],\n",
       "        [0.2552, 0.2750],\n",
       "        [0.2553, 0.2749],\n",
       "        [0.2551, 0.2745],\n",
       "        [0.2549, 0.2739],\n",
       "        [0.2544, 0.2729],\n",
       "        [0.2539, 0.2716]], grad_fn=<StackBackward0>)"
      ]
     },
     "execution_count": 171,
     "metadata": {},
     "output_type": "execute_result"
    }
   ],
   "source": [
    "torch.stack([outputs[1,:,1],Y[1,:,1]], dim = -1)"
   ]
  }
 ],
 "metadata": {
  "kernelspec": {
   "display_name": "coilspy-1sgZ1XBf-py3.12",
   "language": "python",
   "name": "python3"
  },
  "language_info": {
   "codemirror_mode": {
    "name": "ipython",
    "version": 3
   },
   "file_extension": ".py",
   "mimetype": "text/x-python",
   "name": "python",
   "nbconvert_exporter": "python",
   "pygments_lexer": "ipython3",
   "version": "3.12.2"
  }
 },
 "nbformat": 4,
 "nbformat_minor": 2
}
