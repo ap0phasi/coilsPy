{
 "cells": [
  {
   "cell_type": "code",
   "execution_count": 17,
   "metadata": {},
   "outputs": [],
   "source": [
    "import numpy as np\n",
    "import torch\n",
    "from torch import nn, optim\n",
    "from torch.utils.data import DataLoader, TensorDataset\n",
    "\n",
    "# Provided functions to generate and segment the time series\n",
    "def generate_normalized_multivariate_time_series(n_features, total_length, amplitude=1.0):\n",
    "    t = np.linspace(0, 100 * np.pi, total_length)\n",
    "    series = np.zeros((total_length, n_features))\n",
    "    for i in range(n_features):\n",
    "        series[:, i] = amplitude * np.cos(t * (i + 1) / n_features) + 10\n",
    "    \n",
    "    series_sum = np.sum(series, axis=1, keepdims=True)\n",
    "    series_normalized = series / series_sum\n",
    "    \n",
    "    return series_normalized\n",
    "\n",
    "def segment_time_series(series, length):\n",
    "    total_length, n_features = series.shape\n",
    "    segments = []\n",
    "    for start in range(0, total_length - length, length):\n",
    "        segment = series[start:start + length]\n",
    "        segments.append(segment)\n",
    "    return np.stack(segments)\n",
    "\n",
    "# Generating and segmenting the time series data\n",
    "n_features = 4\n",
    "length = 64\n",
    "total_length = 1024\n",
    "\n",
    "series = generate_normalized_multivariate_time_series(n_features, total_length)\n",
    "series_x = series[:-1,]\n",
    "series_y = series[1:,]\n",
    "\n",
    "segments_x = segment_time_series(series_x, length)\n",
    "segments_y = segment_time_series(series_y, length)\n",
    "\n",
    "segments_tensor_x = torch.tensor(segments_x, dtype=torch.float)\n",
    "segments_tensor_y = torch.tensor(segments_y, dtype=torch.float)\n",
    "\n",
    "# Preparing inputs and targets\n",
    "X = segments_tensor_x\n",
    "Y = segments_tensor_y\n"
   ]
  },
  {
   "cell_type": "code",
   "execution_count": 18,
   "metadata": {},
   "outputs": [
    {
     "name": "stdout",
     "output_type": "stream",
     "text": [
      "Epoch 10, Loss: 0.8275810480117798\n",
      "Epoch 20, Loss: 0.551434338092804\n",
      "Epoch 30, Loss: 0.3408207893371582\n",
      "Epoch 40, Loss: 0.1971943974494934\n",
      "Epoch 50, Loss: 0.10844861716032028\n",
      "Epoch 60, Loss: 0.05484980717301369\n",
      "Epoch 70, Loss: 0.03263355419039726\n",
      "Epoch 80, Loss: 0.022698648273944855\n",
      "Epoch 90, Loss: 0.015056906268000603\n",
      "Epoch 100, Loss: 0.011502319015562534\n",
      "Epoch 110, Loss: 0.008033016696572304\n",
      "Epoch 120, Loss: 0.004716662224382162\n",
      "Epoch 130, Loss: 0.001869129715487361\n",
      "Epoch 140, Loss: 0.0009665885590948164\n",
      "Epoch 150, Loss: 0.0006454758695326746\n",
      "Epoch 160, Loss: 0.0005785826360806823\n",
      "Epoch 170, Loss: 0.00045588600914925337\n",
      "Epoch 180, Loss: 0.00045683278585784137\n",
      "Epoch 190, Loss: 0.0003878229181282222\n",
      "Epoch 200, Loss: 0.0003819444100372493\n",
      "Epoch 210, Loss: 0.0003949874662794173\n",
      "Epoch 220, Loss: 0.00036775661283172667\n",
      "Epoch 230, Loss: 0.00034041813341900706\n",
      "Epoch 240, Loss: 0.0003270730667281896\n",
      "Epoch 250, Loss: 0.0003269849403295666\n",
      "Epoch 260, Loss: 0.0003230610745958984\n",
      "Epoch 270, Loss: 0.0003343400312587619\n",
      "Epoch 280, Loss: 0.0003022266901098192\n",
      "Epoch 290, Loss: 0.00031227702856995165\n",
      "Epoch 300, Loss: 0.0003077592991758138\n",
      "Epoch 310, Loss: 0.0002929734764620662\n",
      "Epoch 320, Loss: 0.0002894295903388411\n",
      "Epoch 330, Loss: 0.00029505888232961297\n",
      "Epoch 340, Loss: 0.00028647674480453134\n",
      "Epoch 350, Loss: 0.00028916780138388276\n",
      "Epoch 360, Loss: 0.00028273151838220656\n",
      "Epoch 370, Loss: 0.0002889093884732574\n",
      "Epoch 380, Loss: 0.0002747144899331033\n",
      "Epoch 390, Loss: 0.00027531691011972725\n",
      "Epoch 400, Loss: 0.00027065115864388645\n",
      "Epoch 410, Loss: 0.00026484017143957317\n",
      "Epoch 420, Loss: 0.00026728666853159666\n",
      "Epoch 430, Loss: 0.00026252062525600195\n",
      "Epoch 440, Loss: 0.00026155784144066274\n",
      "Epoch 450, Loss: 0.0002674282877705991\n",
      "Epoch 460, Loss: 0.000259596505202353\n",
      "Epoch 470, Loss: 0.0002700403274502605\n",
      "Epoch 480, Loss: 0.00025913945864886045\n",
      "Epoch 490, Loss: 0.0002642030012793839\n",
      "Epoch 500, Loss: 0.0002657392469700426\n",
      "Epoch 510, Loss: 0.00025915761943906546\n",
      "Epoch 520, Loss: 0.0002572484954725951\n",
      "Epoch 530, Loss: 0.0002600300940684974\n",
      "Epoch 540, Loss: 0.00025606632698327303\n",
      "Epoch 550, Loss: 0.00025417222059331834\n",
      "Epoch 560, Loss: 0.00026012881426140666\n",
      "Epoch 570, Loss: 0.0002526194148231298\n",
      "Epoch 580, Loss: 0.00025797836133278906\n",
      "Epoch 590, Loss: 0.00025079326587729156\n",
      "Epoch 600, Loss: 0.00025965480017475784\n",
      "Epoch 610, Loss: 0.0002560145512688905\n",
      "Epoch 620, Loss: 0.0002535864186938852\n",
      "Epoch 630, Loss: 0.00024845937150530517\n",
      "Epoch 640, Loss: 0.0002541649155318737\n",
      "Epoch 650, Loss: 0.00024938603746704757\n",
      "Epoch 660, Loss: 0.0002466961450409144\n",
      "Epoch 670, Loss: 0.0002476394292898476\n",
      "Epoch 680, Loss: 0.0002490293118171394\n",
      "Epoch 690, Loss: 0.00025169269065372646\n",
      "Epoch 700, Loss: 0.0002488009340595454\n",
      "Epoch 710, Loss: 0.0002501036797184497\n",
      "Epoch 720, Loss: 0.00024650446721352637\n",
      "Epoch 730, Loss: 0.00025158317293971777\n",
      "Epoch 740, Loss: 0.0002450781175866723\n",
      "Epoch 750, Loss: 0.0002469114842824638\n",
      "Epoch 760, Loss: 0.0002468786551617086\n",
      "Epoch 770, Loss: 0.00024802336702123284\n",
      "Epoch 780, Loss: 0.00025015391292981803\n",
      "Epoch 790, Loss: 0.0002438038936816156\n",
      "Epoch 800, Loss: 0.00024993394617922604\n",
      "Epoch 810, Loss: 0.0002497724490240216\n",
      "Epoch 820, Loss: 0.0002460966061335057\n",
      "Epoch 830, Loss: 0.00024801568360999227\n",
      "Epoch 840, Loss: 0.0002411104942439124\n",
      "Epoch 850, Loss: 0.00024256408505607396\n",
      "Epoch 860, Loss: 0.00023956426593940705\n",
      "Epoch 870, Loss: 0.00024170958204194903\n",
      "Epoch 880, Loss: 0.0002453431661706418\n",
      "Epoch 890, Loss: 0.00023306791263166815\n",
      "Epoch 900, Loss: 0.00023208389757201076\n",
      "Epoch 910, Loss: 0.00023293412232305855\n",
      "Epoch 920, Loss: 0.00022325348982121795\n",
      "Epoch 930, Loss: 0.00021794413623865694\n",
      "Epoch 940, Loss: 0.00022317602997645736\n",
      "Epoch 950, Loss: 0.00022215060016606003\n",
      "Epoch 960, Loss: 0.0002376123156864196\n",
      "Epoch 970, Loss: 0.0002169174695154652\n",
      "Epoch 980, Loss: 0.0002516639942768961\n",
      "Epoch 990, Loss: 0.0002473793865647167\n",
      "Epoch 1000, Loss: 0.0002513239742256701\n"
     ]
    }
   ],
   "source": [
    "class Seq2SeqModel(nn.Module):\n",
    "    def __init__(self, n_features, n_heads, dim_feedforward, num_layers, dropout=0.1):\n",
    "        super(Seq2SeqModel, self).__init__()\n",
    "        self.encoder_layer = nn.TransformerEncoderLayer(d_model=n_features, nhead=n_heads, dim_feedforward=dim_feedforward, dropout=dropout)\n",
    "        self.encoder = nn.TransformerEncoder(self.encoder_layer, num_layers=num_layers)\n",
    "        self.decoder_layer = nn.TransformerEncoderLayer(d_model=n_features, nhead=n_heads, dim_feedforward=dim_feedforward, dropout=dropout)\n",
    "        self.decoder = nn.TransformerEncoder(self.decoder_layer, num_layers=num_layers)\n",
    "        \n",
    "    def forward(self, src):\n",
    "        memory = self.encoder(src)\n",
    "        output = self.decoder(memory)\n",
    "        return output\n",
    "\n",
    "# Model, loss, and optimizer\n",
    "model = Seq2SeqModel(n_features=n_features, n_heads=2, dim_feedforward=2048, num_layers=2)\n",
    "loss_function = nn.MSELoss()\n",
    "optimizer = optim.Adam(model.parameters(), lr=0.01)\n",
    "\n",
    "# Training loop\n",
    "def train(model, data_loader, optimizer, loss_function, epochs=1000):\n",
    "    model.train()\n",
    "    for epoch in range(epochs):\n",
    "        total_loss = 0\n",
    "        for X_batch, Y_batch in data_loader:\n",
    "            optimizer.zero_grad()\n",
    "            output = model(X_batch)\n",
    "            loss = loss_function(output, Y_batch)\n",
    "            loss.backward()\n",
    "            optimizer.step()\n",
    "            total_loss += loss.item()\n",
    "            \n",
    "            if (epoch + 1) % 10 == 0:\n",
    "                print(f'Epoch {epoch+1}, Loss: {total_loss/len(data_loader)}')\n",
    "\n",
    "# Creating data loader\n",
    "dataset = TensorDataset(X, Y)\n",
    "data_loader = DataLoader(dataset, batch_size=32, shuffle=True)\n",
    "\n",
    "# Training the model\n",
    "train(model, data_loader, optimizer, loss_function)\n"
   ]
  },
  {
   "cell_type": "code",
   "execution_count": 19,
   "metadata": {},
   "outputs": [],
   "source": [
    "outputs = model(X)"
   ]
  },
  {
   "cell_type": "code",
   "execution_count": 20,
   "metadata": {},
   "outputs": [
    {
     "data": {
      "application/vnd.plotly.v1+json": {
       "config": {
        "plotlyServerURL": "https://plot.ly"
       },
       "data": [
        {
         "mode": "lines",
         "name": "Model Output",
         "type": "scatter",
         "x": [
          0,
          1,
          2,
          3,
          4,
          5,
          6,
          7,
          8,
          9,
          10,
          11,
          12,
          13,
          14,
          15,
          16,
          17,
          18,
          19,
          20,
          21,
          22,
          23,
          24,
          25,
          26,
          27,
          28,
          29,
          30,
          31,
          32,
          33,
          34,
          35,
          36,
          37,
          38,
          39,
          40,
          41,
          42,
          43,
          44,
          45,
          46,
          47,
          48,
          49,
          50,
          51,
          52,
          53,
          54,
          55,
          56,
          57,
          58,
          59,
          60,
          61,
          62,
          63
         ],
         "y": [
          0.2578296661376953,
          0.24927571415901184,
          0.2518541216850281,
          0.2554410994052887,
          0.2505291700363159,
          0.2503093481063843,
          0.24974265694618225,
          0.24869781732559204,
          0.2509925961494446,
          0.2516348958015442,
          0.2504226565361023,
          0.2503986060619354,
          0.24788588285446167,
          0.25087159872055054,
          0.24877449870109558,
          0.25025439262390137,
          0.2503229081630707,
          0.2483564019203186,
          0.24983155727386475,
          0.2508191764354706,
          0.2513370215892792,
          0.25156357884407043,
          0.24942955374717712,
          0.24934113025665283,
          0.24516338109970093,
          0.25107067823410034,
          0.25131121277809143,
          0.25144973397254944,
          0.2518312931060791,
          0.2502591907978058,
          0.2531757652759552,
          0.25069093704223633,
          0.24880850315093994,
          0.2504250407218933,
          0.24932530522346497,
          0.252768874168396,
          0.2483818531036377,
          0.25258371233940125,
          0.2503182590007782,
          0.2507731318473816,
          0.2502949833869934,
          0.2501333951950073,
          0.2519491910934448,
          0.2535521984100342,
          0.2511633336544037,
          0.24584883451461792,
          0.25097528100013733,
          0.2512684464454651,
          0.2502482831478119,
          0.25217509269714355,
          0.25074753165245056,
          0.24842560291290283,
          0.25258344411849976,
          0.24996638298034668,
          0.2496732473373413,
          0.25038039684295654,
          0.2500346302986145,
          0.2533314824104309,
          0.24835997819900513,
          0.257588654756546,
          0.2506959140300751,
          0.2499200403690338,
          0.24820959568023682,
          0.2433227300643921
         ]
        },
        {
         "mode": "lines",
         "name": "Target",
         "type": "scatter",
         "x": [
          0,
          1,
          2,
          3,
          4,
          5,
          6,
          7,
          8,
          9,
          10,
          11,
          12,
          13,
          14,
          15,
          16,
          17,
          18,
          19,
          20,
          21,
          22,
          23,
          24,
          25,
          26,
          27,
          28,
          29,
          30,
          31,
          32,
          33,
          34,
          35,
          36,
          37,
          38,
          39,
          40,
          41,
          42,
          43,
          44,
          45,
          46,
          47,
          48,
          49,
          50,
          51,
          52,
          53,
          54,
          55,
          56,
          57,
          58,
          59,
          60,
          61,
          62,
          63
         ],
         "y": [
          0.2463638186454773,
          0.2403283417224884,
          0.23543065786361694,
          0.23213863372802734,
          0.23076556622982025,
          0.23143422603607178,
          0.23406514525413513,
          0.23839111626148224,
          0.24399350583553314,
          0.2503525912761688,
          0.2569023668766022,
          0.26308223605155945,
          0.26838037371635437,
          0.2723676264286041,
          0.2747228443622589,
          0.2752511501312256,
          0.27389708161354065,
          0.27075275778770447,
          0.26605889201164246,
          0.26019546389579773,
          0.25365743041038513,
          0.2470129132270813,
          0.2408444732427597,
          0.2356804460287094,
          0.2319278120994568,
          0.22982117533683777,
          0.22939889132976532,
          0.23051103949546814,
          0.2328549027442932,
          0.23602743446826935,
          0.23958232998847961,
          0.2430814504623413,
          0.24613481760025024,
          0.2484278380870819,
          0.2497376799583435,
          0.24994175136089325,
          0.2490212321281433,
          0.2470616102218628,
          0.24425026774406433,
          0.2408701628446579,
          0.23728667199611664,
          0.2339244931936264,
          0.2312324196100235,
          0.22963552176952362,
          0.22947916388511658,
          0.23097354173660278,
          0.23415057361125946,
          0.23884524405002594,
          0.24470795691013336,
          0.2512468993663788,
          0.25789085030555725,
          0.26405906677246094,
          0.2692244350910187,
          0.27296194434165955,
          0.2749789357185364,
          0.275129497051239,
          0.27341654896736145,
          0.269986093044281,
          0.2651156187057495,
          0.2591978907585144,
          0.25271841883659363,
          0.24622471630573273,
          0.2402864694595337,
          0.23544631898403168
         ]
        }
       ],
       "layout": {
        "template": {
         "data": {
          "bar": [
           {
            "error_x": {
             "color": "#2a3f5f"
            },
            "error_y": {
             "color": "#2a3f5f"
            },
            "marker": {
             "line": {
              "color": "#E5ECF6",
              "width": 0.5
             },
             "pattern": {
              "fillmode": "overlay",
              "size": 10,
              "solidity": 0.2
             }
            },
            "type": "bar"
           }
          ],
          "barpolar": [
           {
            "marker": {
             "line": {
              "color": "#E5ECF6",
              "width": 0.5
             },
             "pattern": {
              "fillmode": "overlay",
              "size": 10,
              "solidity": 0.2
             }
            },
            "type": "barpolar"
           }
          ],
          "carpet": [
           {
            "aaxis": {
             "endlinecolor": "#2a3f5f",
             "gridcolor": "white",
             "linecolor": "white",
             "minorgridcolor": "white",
             "startlinecolor": "#2a3f5f"
            },
            "baxis": {
             "endlinecolor": "#2a3f5f",
             "gridcolor": "white",
             "linecolor": "white",
             "minorgridcolor": "white",
             "startlinecolor": "#2a3f5f"
            },
            "type": "carpet"
           }
          ],
          "choropleth": [
           {
            "colorbar": {
             "outlinewidth": 0,
             "ticks": ""
            },
            "type": "choropleth"
           }
          ],
          "contour": [
           {
            "colorbar": {
             "outlinewidth": 0,
             "ticks": ""
            },
            "colorscale": [
             [
              0,
              "#0d0887"
             ],
             [
              0.1111111111111111,
              "#46039f"
             ],
             [
              0.2222222222222222,
              "#7201a8"
             ],
             [
              0.3333333333333333,
              "#9c179e"
             ],
             [
              0.4444444444444444,
              "#bd3786"
             ],
             [
              0.5555555555555556,
              "#d8576b"
             ],
             [
              0.6666666666666666,
              "#ed7953"
             ],
             [
              0.7777777777777778,
              "#fb9f3a"
             ],
             [
              0.8888888888888888,
              "#fdca26"
             ],
             [
              1,
              "#f0f921"
             ]
            ],
            "type": "contour"
           }
          ],
          "contourcarpet": [
           {
            "colorbar": {
             "outlinewidth": 0,
             "ticks": ""
            },
            "type": "contourcarpet"
           }
          ],
          "heatmap": [
           {
            "colorbar": {
             "outlinewidth": 0,
             "ticks": ""
            },
            "colorscale": [
             [
              0,
              "#0d0887"
             ],
             [
              0.1111111111111111,
              "#46039f"
             ],
             [
              0.2222222222222222,
              "#7201a8"
             ],
             [
              0.3333333333333333,
              "#9c179e"
             ],
             [
              0.4444444444444444,
              "#bd3786"
             ],
             [
              0.5555555555555556,
              "#d8576b"
             ],
             [
              0.6666666666666666,
              "#ed7953"
             ],
             [
              0.7777777777777778,
              "#fb9f3a"
             ],
             [
              0.8888888888888888,
              "#fdca26"
             ],
             [
              1,
              "#f0f921"
             ]
            ],
            "type": "heatmap"
           }
          ],
          "heatmapgl": [
           {
            "colorbar": {
             "outlinewidth": 0,
             "ticks": ""
            },
            "colorscale": [
             [
              0,
              "#0d0887"
             ],
             [
              0.1111111111111111,
              "#46039f"
             ],
             [
              0.2222222222222222,
              "#7201a8"
             ],
             [
              0.3333333333333333,
              "#9c179e"
             ],
             [
              0.4444444444444444,
              "#bd3786"
             ],
             [
              0.5555555555555556,
              "#d8576b"
             ],
             [
              0.6666666666666666,
              "#ed7953"
             ],
             [
              0.7777777777777778,
              "#fb9f3a"
             ],
             [
              0.8888888888888888,
              "#fdca26"
             ],
             [
              1,
              "#f0f921"
             ]
            ],
            "type": "heatmapgl"
           }
          ],
          "histogram": [
           {
            "marker": {
             "pattern": {
              "fillmode": "overlay",
              "size": 10,
              "solidity": 0.2
             }
            },
            "type": "histogram"
           }
          ],
          "histogram2d": [
           {
            "colorbar": {
             "outlinewidth": 0,
             "ticks": ""
            },
            "colorscale": [
             [
              0,
              "#0d0887"
             ],
             [
              0.1111111111111111,
              "#46039f"
             ],
             [
              0.2222222222222222,
              "#7201a8"
             ],
             [
              0.3333333333333333,
              "#9c179e"
             ],
             [
              0.4444444444444444,
              "#bd3786"
             ],
             [
              0.5555555555555556,
              "#d8576b"
             ],
             [
              0.6666666666666666,
              "#ed7953"
             ],
             [
              0.7777777777777778,
              "#fb9f3a"
             ],
             [
              0.8888888888888888,
              "#fdca26"
             ],
             [
              1,
              "#f0f921"
             ]
            ],
            "type": "histogram2d"
           }
          ],
          "histogram2dcontour": [
           {
            "colorbar": {
             "outlinewidth": 0,
             "ticks": ""
            },
            "colorscale": [
             [
              0,
              "#0d0887"
             ],
             [
              0.1111111111111111,
              "#46039f"
             ],
             [
              0.2222222222222222,
              "#7201a8"
             ],
             [
              0.3333333333333333,
              "#9c179e"
             ],
             [
              0.4444444444444444,
              "#bd3786"
             ],
             [
              0.5555555555555556,
              "#d8576b"
             ],
             [
              0.6666666666666666,
              "#ed7953"
             ],
             [
              0.7777777777777778,
              "#fb9f3a"
             ],
             [
              0.8888888888888888,
              "#fdca26"
             ],
             [
              1,
              "#f0f921"
             ]
            ],
            "type": "histogram2dcontour"
           }
          ],
          "mesh3d": [
           {
            "colorbar": {
             "outlinewidth": 0,
             "ticks": ""
            },
            "type": "mesh3d"
           }
          ],
          "parcoords": [
           {
            "line": {
             "colorbar": {
              "outlinewidth": 0,
              "ticks": ""
             }
            },
            "type": "parcoords"
           }
          ],
          "pie": [
           {
            "automargin": true,
            "type": "pie"
           }
          ],
          "scatter": [
           {
            "fillpattern": {
             "fillmode": "overlay",
             "size": 10,
             "solidity": 0.2
            },
            "type": "scatter"
           }
          ],
          "scatter3d": [
           {
            "line": {
             "colorbar": {
              "outlinewidth": 0,
              "ticks": ""
             }
            },
            "marker": {
             "colorbar": {
              "outlinewidth": 0,
              "ticks": ""
             }
            },
            "type": "scatter3d"
           }
          ],
          "scattercarpet": [
           {
            "marker": {
             "colorbar": {
              "outlinewidth": 0,
              "ticks": ""
             }
            },
            "type": "scattercarpet"
           }
          ],
          "scattergeo": [
           {
            "marker": {
             "colorbar": {
              "outlinewidth": 0,
              "ticks": ""
             }
            },
            "type": "scattergeo"
           }
          ],
          "scattergl": [
           {
            "marker": {
             "colorbar": {
              "outlinewidth": 0,
              "ticks": ""
             }
            },
            "type": "scattergl"
           }
          ],
          "scattermapbox": [
           {
            "marker": {
             "colorbar": {
              "outlinewidth": 0,
              "ticks": ""
             }
            },
            "type": "scattermapbox"
           }
          ],
          "scatterpolar": [
           {
            "marker": {
             "colorbar": {
              "outlinewidth": 0,
              "ticks": ""
             }
            },
            "type": "scatterpolar"
           }
          ],
          "scatterpolargl": [
           {
            "marker": {
             "colorbar": {
              "outlinewidth": 0,
              "ticks": ""
             }
            },
            "type": "scatterpolargl"
           }
          ],
          "scatterternary": [
           {
            "marker": {
             "colorbar": {
              "outlinewidth": 0,
              "ticks": ""
             }
            },
            "type": "scatterternary"
           }
          ],
          "surface": [
           {
            "colorbar": {
             "outlinewidth": 0,
             "ticks": ""
            },
            "colorscale": [
             [
              0,
              "#0d0887"
             ],
             [
              0.1111111111111111,
              "#46039f"
             ],
             [
              0.2222222222222222,
              "#7201a8"
             ],
             [
              0.3333333333333333,
              "#9c179e"
             ],
             [
              0.4444444444444444,
              "#bd3786"
             ],
             [
              0.5555555555555556,
              "#d8576b"
             ],
             [
              0.6666666666666666,
              "#ed7953"
             ],
             [
              0.7777777777777778,
              "#fb9f3a"
             ],
             [
              0.8888888888888888,
              "#fdca26"
             ],
             [
              1,
              "#f0f921"
             ]
            ],
            "type": "surface"
           }
          ],
          "table": [
           {
            "cells": {
             "fill": {
              "color": "#EBF0F8"
             },
             "line": {
              "color": "white"
             }
            },
            "header": {
             "fill": {
              "color": "#C8D4E3"
             },
             "line": {
              "color": "white"
             }
            },
            "type": "table"
           }
          ]
         },
         "layout": {
          "annotationdefaults": {
           "arrowcolor": "#2a3f5f",
           "arrowhead": 0,
           "arrowwidth": 1
          },
          "autotypenumbers": "strict",
          "coloraxis": {
           "colorbar": {
            "outlinewidth": 0,
            "ticks": ""
           }
          },
          "colorscale": {
           "diverging": [
            [
             0,
             "#8e0152"
            ],
            [
             0.1,
             "#c51b7d"
            ],
            [
             0.2,
             "#de77ae"
            ],
            [
             0.3,
             "#f1b6da"
            ],
            [
             0.4,
             "#fde0ef"
            ],
            [
             0.5,
             "#f7f7f7"
            ],
            [
             0.6,
             "#e6f5d0"
            ],
            [
             0.7,
             "#b8e186"
            ],
            [
             0.8,
             "#7fbc41"
            ],
            [
             0.9,
             "#4d9221"
            ],
            [
             1,
             "#276419"
            ]
           ],
           "sequential": [
            [
             0,
             "#0d0887"
            ],
            [
             0.1111111111111111,
             "#46039f"
            ],
            [
             0.2222222222222222,
             "#7201a8"
            ],
            [
             0.3333333333333333,
             "#9c179e"
            ],
            [
             0.4444444444444444,
             "#bd3786"
            ],
            [
             0.5555555555555556,
             "#d8576b"
            ],
            [
             0.6666666666666666,
             "#ed7953"
            ],
            [
             0.7777777777777778,
             "#fb9f3a"
            ],
            [
             0.8888888888888888,
             "#fdca26"
            ],
            [
             1,
             "#f0f921"
            ]
           ],
           "sequentialminus": [
            [
             0,
             "#0d0887"
            ],
            [
             0.1111111111111111,
             "#46039f"
            ],
            [
             0.2222222222222222,
             "#7201a8"
            ],
            [
             0.3333333333333333,
             "#9c179e"
            ],
            [
             0.4444444444444444,
             "#bd3786"
            ],
            [
             0.5555555555555556,
             "#d8576b"
            ],
            [
             0.6666666666666666,
             "#ed7953"
            ],
            [
             0.7777777777777778,
             "#fb9f3a"
            ],
            [
             0.8888888888888888,
             "#fdca26"
            ],
            [
             1,
             "#f0f921"
            ]
           ]
          },
          "colorway": [
           "#636efa",
           "#EF553B",
           "#00cc96",
           "#ab63fa",
           "#FFA15A",
           "#19d3f3",
           "#FF6692",
           "#B6E880",
           "#FF97FF",
           "#FECB52"
          ],
          "font": {
           "color": "#2a3f5f"
          },
          "geo": {
           "bgcolor": "white",
           "lakecolor": "white",
           "landcolor": "#E5ECF6",
           "showlakes": true,
           "showland": true,
           "subunitcolor": "white"
          },
          "hoverlabel": {
           "align": "left"
          },
          "hovermode": "closest",
          "mapbox": {
           "style": "light"
          },
          "paper_bgcolor": "white",
          "plot_bgcolor": "#E5ECF6",
          "polar": {
           "angularaxis": {
            "gridcolor": "white",
            "linecolor": "white",
            "ticks": ""
           },
           "bgcolor": "#E5ECF6",
           "radialaxis": {
            "gridcolor": "white",
            "linecolor": "white",
            "ticks": ""
           }
          },
          "scene": {
           "xaxis": {
            "backgroundcolor": "#E5ECF6",
            "gridcolor": "white",
            "gridwidth": 2,
            "linecolor": "white",
            "showbackground": true,
            "ticks": "",
            "zerolinecolor": "white"
           },
           "yaxis": {
            "backgroundcolor": "#E5ECF6",
            "gridcolor": "white",
            "gridwidth": 2,
            "linecolor": "white",
            "showbackground": true,
            "ticks": "",
            "zerolinecolor": "white"
           },
           "zaxis": {
            "backgroundcolor": "#E5ECF6",
            "gridcolor": "white",
            "gridwidth": 2,
            "linecolor": "white",
            "showbackground": true,
            "ticks": "",
            "zerolinecolor": "white"
           }
          },
          "shapedefaults": {
           "line": {
            "color": "#2a3f5f"
           }
          },
          "ternary": {
           "aaxis": {
            "gridcolor": "white",
            "linecolor": "white",
            "ticks": ""
           },
           "baxis": {
            "gridcolor": "white",
            "linecolor": "white",
            "ticks": ""
           },
           "bgcolor": "#E5ECF6",
           "caxis": {
            "gridcolor": "white",
            "linecolor": "white",
            "ticks": ""
           }
          },
          "title": {
           "x": 0.05
          },
          "xaxis": {
           "automargin": true,
           "gridcolor": "white",
           "linecolor": "white",
           "ticks": "",
           "title": {
            "standoff": 15
           },
           "zerolinecolor": "white",
           "zerolinewidth": 2
          },
          "yaxis": {
           "automargin": true,
           "gridcolor": "white",
           "linecolor": "white",
           "ticks": "",
           "title": {
            "standoff": 15
           },
           "zerolinecolor": "white",
           "zerolinewidth": 2
          }
         }
        },
        "title": {
         "text": "Model Output vs Target for Feature 3, Batch 2"
        },
        "xaxis": {
         "title": {
          "text": "Timestep"
         }
        },
        "yaxis": {
         "title": {
          "text": "Value"
         }
        }
       }
      }
     },
     "metadata": {},
     "output_type": "display_data"
    }
   ],
   "source": [
    "import plotly.graph_objects as go\n",
    "\n",
    "def plot_model_output_vs_target(model_outputs, targets, batch_index=0, feature_index=0):\n",
    "    # Extract the specified feature for the given batch from both the model outputs and targets\n",
    "    model_output_series = model_outputs[batch_index, :, feature_index].detach().numpy()\n",
    "    target_series = targets[batch_index, :, feature_index].numpy()\n",
    "    \n",
    "    # Create a range for the x-axis (timesteps)\n",
    "    timesteps = list(range(model_output_series.shape[0]))\n",
    "    \n",
    "    # Create traces\n",
    "    model_trace = go.Scatter(x=timesteps, y=model_output_series, mode='lines', name='Model Output')\n",
    "    target_trace = go.Scatter(x=timesteps, y=target_series, mode='lines', name='Target')\n",
    "    \n",
    "    # Create the figure and add traces\n",
    "    fig = go.Figure()\n",
    "    fig.add_trace(model_trace)\n",
    "    fig.add_trace(target_trace)\n",
    "    \n",
    "    # Add title and labels\n",
    "    fig.update_layout(title=f'Model Output vs Target for Feature {feature_index}, Batch {batch_index}',\n",
    "                      xaxis_title='Timestep',\n",
    "                      yaxis_title='Value')\n",
    "    \n",
    "    # Show the figure\n",
    "    fig.show()\n",
    "\n",
    "# Assuming `y` and `Y` are your model outputs and targets, respectively\n",
    "# Adjust batch_index and feature_index as needed\n",
    "plot_model_output_vs_target(outputs, Y, batch_index=2, feature_index=3)"
   ]
  }
 ],
 "metadata": {
  "kernelspec": {
   "display_name": "coilspy-1sgZ1XBf-py3.12",
   "language": "python",
   "name": "python3"
  },
  "language_info": {
   "codemirror_mode": {
    "name": "ipython",
    "version": 3
   },
   "file_extension": ".py",
   "mimetype": "text/x-python",
   "name": "python",
   "nbconvert_exporter": "python",
   "pygments_lexer": "ipython3",
   "version": "3.12.2"
  }
 },
 "nbformat": 4,
 "nbformat_minor": 2
}
