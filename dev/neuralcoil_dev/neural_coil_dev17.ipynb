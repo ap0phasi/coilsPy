{
 "cells": [
  {
   "cell_type": "code",
   "execution_count": 31,
   "metadata": {},
   "outputs": [],
   "source": [
    "import torch\n",
    "import torch.nn as nn\n",
    "import torch.nn.functional as F"
   ]
  },
  {
   "cell_type": "code",
   "execution_count": 32,
   "metadata": {},
   "outputs": [
    {
     "name": "stdout",
     "output_type": "stream",
     "text": [
      "tensor([[0.1905, 0.0217, 0.2775, 0.1476, 0.2467, 0.1160],\n",
      "        [0.0786, 0.2976, 0.1024, 0.1272, 0.1572, 0.2371],\n",
      "        [0.2192, 0.0089, 0.2167, 0.0702, 0.2369, 0.2482],\n",
      "        [0.2342, 0.1750, 0.0323, 0.2455, 0.0718, 0.2412],\n",
      "        [0.0209, 0.1444, 0.2761, 0.2792, 0.2289, 0.0505]])\n",
      "tensor([1.0000, 1.0000, 1.0000, 1.0000, 1.0000])\n"
     ]
    }
   ],
   "source": [
    "def torch_randnorm(size, dim=0):\n",
    "    # Generate a random tensor\n",
    "    rand_tensor = torch.rand(size)\n",
    "    \n",
    "    # Normalize along the specified dimension\n",
    "    sum_along_dim = torch.sum(rand_tensor, dim=dim, keepdim=True)\n",
    "    normalized_tensor = rand_tensor / sum_along_dim\n",
    "    \n",
    "    return normalized_tensor\n",
    "\n",
    "# Example usage\n",
    "normalized_tensor = torch_randnorm([5,6], dim=1)\n",
    "print(normalized_tensor)\n",
    "print(normalized_tensor.sum(dim=1))"
   ]
  },
  {
   "cell_type": "code",
   "execution_count": 33,
   "metadata": {},
   "outputs": [],
   "source": [
    "class NeuralCoilLayer(nn.Module):\n",
    "    def __init__(self, n_features, n_batch, device = \"cpu\"):\n",
    "        super(NeuralCoilLayer, self).__init__()\n",
    "        self.n_features = n_features\n",
    "        self.attention_weights = nn.Linear(n_features, 1, bias=False)\n",
    "        self.act = nn.SiLU()\n",
    "        self.interaction_tensors = nn.Parameter(torch.randn(n_features, n_features, n_features, n_features + 1))\n",
    "        self.topk_num = 1\n",
    "        \n",
    "        starting_tensor = torch.zeros(n_batch, n_features, n_features)\n",
    "        if device == \"cuda\":\n",
    "            self.starting_transition_tensor = starting_tensor.to(\"cuda\")\n",
    "        else:\n",
    "            self.starting_transition_tensor = starting_tensor\n",
    "        \n",
    "    def step_coil(self, state_tensor, previous_transition_tensor):\n",
    "        # Establish normalized subgroups\n",
    "        norm_subgroups = torch.cat((state_tensor.unsqueeze(-2), previous_transition_tensor), dim=1)\n",
    "        batch_size, num_groups, n_features = norm_subgroups.shape\n",
    "        \n",
    "        # Compute scores for each normalized subgroup\n",
    "        scores = self.act(self.attention_weights(norm_subgroups)).sum(-1) # [batch_size, num_groups]\n",
    "        \n",
    "        weights = torch.softmax(scores,dim = -1) # [batch_size, num_groups]\n",
    "        \n",
    "        selected_interaction_tensors = self.interaction_tensors\n",
    "        selected_norm_subgroups = norm_subgroups\n",
    "\n",
    "        #selected_transition_tensors = torch.einsum('ijks,bsi->bjks', selected_interaction_tensors, selected_norm_subgroups)\n",
    "        \n",
    "        selected_transition_tensors = (torch.mul(selected_interaction_tensors, selected_norm_subgroups.permute(0,2,1).unsqueeze(1).unsqueeze(1))).sum(-2)\n",
    "        \n",
    "        # We need a single transition tensor so we will average this as well\n",
    "        #selected_transition_tensor = torch.einsum('bs,bjks->bjk', weights,selected_transition_tensors)\n",
    "        \n",
    "        selected_transition_tensor = (torch.mul(selected_transition_tensors, weights.unsqueeze(-2).unsqueeze(-2))).sum(-1)\n",
    "        # Generate state tensor from the transition tensor\n",
    "        # Unsqueezing state_tensor to make it [batch_size, n_features, 1] for matrix multiplication\n",
    "        state_tensor_unsqueezed = state_tensor.unsqueeze(2)\n",
    "\n",
    "        # Performing batch matrix multiplication\n",
    "        new_state_tensor_bmm = torch.bmm(selected_transition_tensor, state_tensor_unsqueezed)\n",
    "\n",
    "        # Squeezing the result to get rid of the extra dimension, resulting in [batch_size, n_features]\n",
    "        new_state_tensor = new_state_tensor_bmm.squeeze(2)\n",
    "    \n",
    "        softmax_tensor = torch.softmax(new_state_tensor * n_features, dim = 1)\n",
    "        \n",
    "        return softmax_tensor, selected_transition_tensor\n",
    "\n",
    "\n",
    "    def forward(self, x):\n",
    "        batch, length, n_features = x.size()\n",
    "        output = x.new_empty(batch, length, n_features)\n",
    "\n",
    "        # Initialize previous transition tensors (for the first step)\n",
    "        # Assuming it's a list of zero tensors for simplicity\n",
    "        transition_tensor = self.starting_transition_tensor\n",
    "\n",
    "        for l in range(length):\n",
    "            state_tensor = x[:, l, :]\n",
    "            \n",
    "            # Compute output for this step\n",
    "            output[:, l, :], transition_tensor = self.step_coil(state_tensor, transition_tensor)\n",
    "\n",
    "        return output, transition_tensor\n"
   ]
  },
  {
   "cell_type": "markdown",
   "metadata": {},
   "source": [
    "# Sequence-to-Sequence Check"
   ]
  },
  {
   "cell_type": "code",
   "execution_count": 34,
   "metadata": {},
   "outputs": [
    {
     "name": "stdout",
     "output_type": "stream",
     "text": [
      "torch.Size([13, 64, 16])\n"
     ]
    }
   ],
   "source": [
    "n_features = 16\n",
    "batch, length, dim = 13, 64, n_features\n",
    "x = torch.randn(batch, length, dim)\n",
    "model = NeuralCoilLayer(\n",
    "    n_features = n_features,\n",
    "    n_batch=batch\n",
    ")\n",
    "y = model(x)\n",
    "\n",
    "\n",
    "print(y[0].shape)\n",
    "assert y[0].shape == x.shape"
   ]
  },
  {
   "cell_type": "code",
   "execution_count": 35,
   "metadata": {},
   "outputs": [
    {
     "name": "stdout",
     "output_type": "stream",
     "text": [
      "tensor([4.0705, 5.9268, 3.7557, 5.0333, 5.0588, 3.9798, 5.8172, 5.1021, 5.0883,\n",
      "        5.6563, 5.5486, 5.6605, 4.3366, 4.5205, 4.1839, 3.9916])\n",
      "tensor([4.0705, 5.9268, 3.7557, 5.0333, 5.0588, 3.9798, 5.8172, 5.1021, 5.0883,\n",
      "        5.6563, 5.5486, 5.6605, 4.3366, 4.5205, 4.1839, 3.9916])\n"
     ]
    }
   ],
   "source": [
    "batch_size = 13\n",
    "n = 16\n",
    "slices = 17\n",
    "\n",
    "weights = torch.rand(batch_size,slices)\n",
    "selected_transition_tensors = torch.rand(batch_size, n, n ,slices)\n",
    "\n",
    "selected_transition_tensor = torch.einsum('bs,bjks->bjk', weights,selected_transition_tensors)\n",
    "\n",
    "alt = (selected_transition_tensors * weights.unsqueeze(-2).unsqueeze(-2)).sum(-1)\n",
    "alt3 = (torch.mul(selected_transition_tensors, weights.unsqueeze(-2).unsqueeze(-2))).sum(-1)\n",
    "print(alt3[5,6])\n",
    "print(selected_transition_tensor[5,6])\n"
   ]
  },
  {
   "cell_type": "code",
   "execution_count": 36,
   "metadata": {},
   "outputs": [
    {
     "name": "stdout",
     "output_type": "stream",
     "text": [
      "torch.Size([13, 16, 16, 17])\n",
      "tensor([3.1934, 4.1004, 3.9189, 4.2357, 3.8931, 3.8313, 5.1181, 2.9620, 2.9364,\n",
      "        4.6051, 4.4120, 3.9667, 4.0542, 4.4535, 5.6469, 4.5669, 3.8135])\n",
      "tensor([3.2235, 4.8009, 2.9794, 3.8834, 4.3443, 5.2190, 5.9892, 3.0909, 2.8659,\n",
      "        3.7815, 5.2215, 4.2474, 4.1300, 5.8920, 4.0984, 5.0225, 3.6745])\n",
      "tensor([3.2235, 4.8009, 2.9794, 3.8834, 4.3443, 5.2190, 5.9892, 3.0909, 2.8659,\n",
      "        3.7815, 5.2215, 4.2474, 4.1300, 5.8920, 4.0984, 5.0225, 3.6745])\n",
      "tensor(3.8231)\n",
      "tensor(3.8231)\n"
     ]
    }
   ],
   "source": [
    "from einops import rearrange, repeat\n",
    "\n",
    "selected_interaction_tensors = torch.rand(n,n,n,slices)\n",
    "selected_norm_subgroups = torch.rand(batch_size,slices, n)\n",
    "\n",
    "selected_transition_tensors = torch.einsum('ijks,bsi->bjks', selected_interaction_tensors, selected_norm_subgroups)\n",
    "selected_transition_tensors2 = torch.einsum('ijks,bks->bijs', selected_interaction_tensors, selected_norm_subgroups.permute(0,2,1))\n",
    "\n",
    "alt2 = (selected_interaction_tensors * selected_norm_subgroups.permute(0,2,1).unsqueeze(1).unsqueeze(1)).sum(-2)\n",
    "print(alt2.shape)\n",
    "print(selected_transition_tensors[5,6,2])\n",
    "print(selected_transition_tensors2[5,6,2])\n",
    "print(alt2[5,6,2])\n",
    "\n",
    "\n",
    "slicetest = torch.matmul(selected_interaction_tensors[:,:,:,2],selected_norm_subgroups.permute(0,2,1)[1,:,2])\n",
    "print(slicetest[5,9])\n",
    "print(alt2[1,:,:,2][5,9])"
   ]
  },
  {
   "cell_type": "code",
   "execution_count": 37,
   "metadata": {},
   "outputs": [
    {
     "data": {
      "text/plain": [
       "torch.Size([13, 16, 16])"
      ]
     },
     "execution_count": 37,
     "metadata": {},
     "output_type": "execute_result"
    }
   ],
   "source": [
    "# Step 1: Rearrange selected_norm_subgroups to move the 'i' dimension to the last position\n",
    "selected_norm_subgroups_rearranged = rearrange(selected_norm_subgroups, 'b s i -> (i s) b')\n",
    "\n",
    "# Step 2: Perform matrix multiplication\n",
    "# selected_interaction_tensors shape is assumed to be [..., i, ...], matching 'i' with 's' of rearranged\n",
    "result = rearrange(torch.matmul(rearrange(selected_interaction_tensors, 'i j k s -> j k (i s)'), selected_norm_subgroups_rearranged),'j k b -> b j k')\n",
    "result.shape"
   ]
  },
  {
   "cell_type": "code",
   "execution_count": 38,
   "metadata": {},
   "outputs": [
    {
     "name": "stdout",
     "output_type": "stream",
     "text": [
      "tensor(3.8657)\n",
      "tensor(3.8657)\n",
      "tensor(3.8657)\n",
      "tensor(3.8657)\n"
     ]
    }
   ],
   "source": [
    "i, j, k = 14, 12, 17\n",
    "\n",
    "tensor_a = torch.rand(i,k)\n",
    "tensor_b = torch.rand(k,j)\n",
    "\n",
    "option1 = torch.matmul(tensor_a, tensor_b)\n",
    "option2 = torch.einsum('ik,kj -> ij',tensor_a, tensor_b)\n",
    "option3 = tensor_a@tensor_b\n",
    "option4 = (tensor_a.unsqueeze(-1) * tensor_b).sum(dim=1)\n",
    "\n",
    "print(option1[5,2])\n",
    "print(option2[5,2])\n",
    "print(option3[5,2])\n",
    "print(option4[5,2])"
   ]
  },
  {
   "cell_type": "code",
   "execution_count": 39,
   "metadata": {},
   "outputs": [
    {
     "name": "stdout",
     "output_type": "stream",
     "text": [
      "-----------------------  ------------  ------------  ------------  ------------  ------------  ------------  \n",
      "                   Name    Self CPU %      Self CPU   CPU total %     CPU total  CPU time avg    # of Calls  \n",
      "-----------------------  ------------  ------------  ------------  ------------  ------------  ------------  \n",
      "        model_inference        13.86%      96.913ms       100.00%     699.083ms     699.083ms             1  \n",
      "              aten::mul        34.12%     238.548ms        34.60%     241.870ms       1.260ms           192  \n",
      "              aten::sum        20.99%     146.742ms        32.68%     228.441ms       1.190ms           192  \n",
      "            aten::fill_        11.57%      80.906ms        11.57%      80.906ms     421.385us           192  \n",
      "          aten::softmax         0.41%       2.872ms         4.91%      34.321ms     268.133us           128  \n",
      "         aten::_softmax         4.50%      31.449ms         4.50%      31.449ms     245.695us           128  \n",
      "        aten::unsqueeze         2.58%      18.021ms         3.24%      22.659ms      59.008us           384  \n",
      "           aten::linear         0.99%       6.946ms         2.82%      19.724ms     308.188us            64  \n",
      "            aten::slice         1.96%      13.720ms         2.31%      16.146ms      42.047us           384  \n",
      "              aten::cat         1.51%      10.568ms         2.01%      14.034ms     219.281us            64  \n",
      "-----------------------  ------------  ------------  ------------  ------------  ------------  ------------  \n",
      "Self CPU time total: 699.083ms\n",
      "\n"
     ]
    }
   ],
   "source": [
    "from torch.profiler import profile, record_function, ProfilerActivity\n",
    "\n",
    "with profile(activities=[ProfilerActivity.CPU], record_shapes=True) as prof:\n",
    "    with record_function(\"model_inference\"):\n",
    "        model(x)\n",
    "        \n",
    "print(prof.key_averages().table(sort_by=\"cpu_time_total\", row_limit=10))"
   ]
  },
  {
   "cell_type": "markdown",
   "metadata": {},
   "source": [
    "## Consistency Check"
   ]
  },
  {
   "cell_type": "code",
   "execution_count": 40,
   "metadata": {},
   "outputs": [
    {
     "name": "stdout",
     "output_type": "stream",
     "text": [
      "tensor([ 0.0226,  0.8654,  2.2973, -0.4059])\n",
      "tensor([2.4201e-01, 2.3611e-07, 2.2131e-01, 5.3668e-01],\n",
      "       grad_fn=<SliceBackward0>)\n",
      "tensor([2.4201e-01, 2.3611e-07, 2.2131e-01, 5.3668e-01],\n",
      "       grad_fn=<SliceBackward0>)\n"
     ]
    }
   ],
   "source": [
    "n_features = 4\n",
    "batch, length, dim = 13, 64, n_features\n",
    "x =torch.randn(batch, length, dim)\n",
    "model = NeuralCoilLayer(\n",
    "    n_features = n_features,\n",
    "    n_batch=batch\n",
    ")\n",
    "\n",
    "l = 1\n",
    "state_tensor = x[:, l, :]\n",
    "print(state_tensor[1,:])\n",
    "transition_tensor = torch.randn(batch, n_features, n_features)\n",
    "new_state, new_transition_tensor = model.step_coil(state_tensor, transition_tensor)\n",
    "print(new_state[1,:])\n",
    "new_state, new_transition_tensor = model.step_coil(state_tensor, transition_tensor)\n",
    "print(new_state[1,:])"
   ]
  },
  {
   "cell_type": "markdown",
   "metadata": {},
   "source": [
    "This should be the same as if we just look at the batches independently"
   ]
  },
  {
   "cell_type": "code",
   "execution_count": 41,
   "metadata": {},
   "outputs": [
    {
     "data": {
      "text/plain": [
       "tensor([2.4201e-01, 2.3611e-07, 2.2131e-01, 5.3668e-01],\n",
       "       grad_fn=<SliceBackward0>)"
      ]
     },
     "execution_count": 41,
     "metadata": {},
     "output_type": "execute_result"
    }
   ],
   "source": [
    "batch = 2\n",
    "transition_tensor = transition_tensor[0:2,:,:]\n",
    "l = 1\n",
    "state_tensor = x[0:2, l, :]\n",
    "new_state, new_transition_tensor = model.step_coil(state_tensor, transition_tensor)\n",
    "new_state[1,:]"
   ]
  },
  {
   "cell_type": "code",
   "execution_count": 42,
   "metadata": {},
   "outputs": [],
   "source": [
    "states = []\n",
    "for step_state in range(100):\n",
    "    state_tensor, transition_tensor = model.step_coil(state_tensor, transition_tensor)\n",
    "    states.append(state_tensor)"
   ]
  },
  {
   "cell_type": "code",
   "execution_count": 43,
   "metadata": {},
   "outputs": [
    {
     "data": {
      "image/png": "[encoded data removed]",
      "text/plain": [
       "<Figure size 1000x600 with 1 Axes>"
      ]
     },
     "metadata": {},
     "output_type": "display_data"
    }
   ],
   "source": [
    "import matplotlib.pyplot as plt\n",
    "\n",
    "# Your data\n",
    "data = [row.to('cpu').detach().numpy() for row in states]\n",
    "# Transpose the data to get 5 traces\n",
    "traces = list(zip(*data))\n",
    "\n",
    "# Plotting\n",
    "plt.figure(figsize=(10, 6))\n",
    "for i, trace in enumerate(traces):\n",
    "    plt.plot(trace, label=f'Trace {i+1}')\n",
    "\n",
    "plt.xlabel('Timestep')\n",
    "plt.ylabel('Value')\n",
    "plt.legend()\n",
    "plt.show()"
   ]
  },
  {
   "cell_type": "markdown",
   "metadata": {},
   "source": [
    "# Example Training"
   ]
  },
  {
   "cell_type": "markdown",
   "metadata": {},
   "source": [
    "## Simple Data Generation"
   ]
  },
  {
   "cell_type": "code",
   "execution_count": 44,
   "metadata": {},
   "outputs": [],
   "source": [
    "import numpy as np\n",
    "import torch\n",
    "\n",
    "def generate_normalized_multivariate_time_series(n_features, total_length, amplitude=1.0):\n",
    "    t = np.linspace(0, 100 * np.pi, total_length)\n",
    "    series = np.zeros((total_length, n_features))\n",
    "    for i in range(n_features):\n",
    "        series[:, i] = amplitude * np.cos(t * (i + 1) / n_features) + 10\n",
    "    \n",
    "    # Normalize such that each timestep's values sum to 1\n",
    "    series_sum = np.sum(series, axis=1, keepdims=True)\n",
    "    series_normalized = series / series_sum\n",
    "    \n",
    "    return series_normalized\n",
    "\n",
    "def segment_time_series(series, length):\n",
    "    # Assuming series is a numpy array of shape [total_length, n_features]\n",
    "    total_length, n_features = series.shape\n",
    "    segments = []\n",
    "    for start in range(0, total_length - length, length):\n",
    "        segment = series[start:start + length]\n",
    "        segments.append(segment)\n",
    "    return np.stack(segments)\n"
   ]
  },
  {
   "cell_type": "code",
   "execution_count": 45,
   "metadata": {},
   "outputs": [],
   "source": [
    "n_features = 4\n",
    "length = 64  # Segment length\n",
    "total_length = 1024  # Arbitrary total length for the generated series\n",
    "\n",
    "# Generate and segment the time series\n",
    "series = generate_normalized_multivariate_time_series(n_features, total_length)\n",
    "series_x = series[:-1,]\n",
    "series_y = series[1:,]\n",
    "\n",
    "segments_x = segment_time_series(series_x, length)\n",
    "segments_y = segment_time_series(series_y, length)\n",
    "\n",
    "# Convert to tensors\n",
    "segments_tensor_x = torch.tensor(segments_x, dtype=torch.float)\n",
    "segments_tensor_y = torch.tensor(segments_y, dtype=torch.float)\n",
    "\n",
    "# Prepare inputs and targets\n",
    "X = segments_tensor_x.to(\"cuda\")\n",
    "# Shift segments to the right by one timestep to create the targets\n",
    "Y =  segments_tensor_y.to(\"cuda\")\n"
   ]
  },
  {
   "cell_type": "code",
   "execution_count": 46,
   "metadata": {},
   "outputs": [
    {
     "name": "stdout",
     "output_type": "stream",
     "text": [
      "Epoch [10/5000], Loss: 0.0006784276338294148\n",
      "Epoch [20/5000], Loss: 0.00031760544516146183\n",
      "Epoch [30/5000], Loss: 0.00031825239420868456\n",
      "Epoch [40/5000], Loss: 0.0002886586298700422\n",
      "Epoch [50/5000], Loss: 0.00027726704138331115\n",
      "Epoch [60/5000], Loss: 0.00026626550243236125\n",
      "Epoch [70/5000], Loss: 0.00025945331435650587\n",
      "Epoch [80/5000], Loss: 0.000252854370046407\n",
      "Epoch [90/5000], Loss: 0.0002459768729750067\n",
      "Epoch [100/5000], Loss: 0.0002382948441663757\n",
      "Epoch [110/5000], Loss: 0.00022876188450027257\n",
      "Epoch [120/5000], Loss: 0.00021517275308724493\n",
      "Epoch [130/5000], Loss: 0.00019066371896769851\n",
      "Epoch [140/5000], Loss: 0.0001379091409035027\n",
      "Epoch [150/5000], Loss: 0.00014308250683825463\n",
      "Epoch [160/5000], Loss: 0.00013018297613598406\n",
      "Epoch [170/5000], Loss: 0.00010303611634299159\n",
      "Epoch [180/5000], Loss: 9.272123133996502e-05\n",
      "Epoch [190/5000], Loss: 8.323453948833048e-05\n",
      "Epoch [200/5000], Loss: 7.313733658520505e-05\n",
      "Epoch [210/5000], Loss: 6.368730828398839e-05\n",
      "Epoch [220/5000], Loss: 5.475833313539624e-05\n",
      "Epoch [230/5000], Loss: 4.7005782107589766e-05\n",
      "Epoch [240/5000], Loss: 4.095893382327631e-05\n",
      "Epoch [250/5000], Loss: 3.6752513551618904e-05\n",
      "Epoch [260/5000], Loss: 3.398027547518723e-05\n",
      "Epoch [270/5000], Loss: 3.2093219488160685e-05\n",
      "Epoch [280/5000], Loss: 3.067474972340278e-05\n",
      "Epoch [290/5000], Loss: 2.9500746677513234e-05\n",
      "Epoch [300/5000], Loss: 2.8472146368585527e-05\n",
      "Epoch [310/5000], Loss: 2.7545624107006006e-05\n",
      "Epoch [320/5000], Loss: 2.6698042347561568e-05\n",
      "Epoch [330/5000], Loss: 2.591392330941744e-05\n",
      "Epoch [340/5000], Loss: 2.5182005629176274e-05\n",
      "Epoch [350/5000], Loss: 2.4494087483617477e-05\n",
      "Epoch [360/5000], Loss: 2.3844157112762332e-05\n",
      "Epoch [370/5000], Loss: 2.3227563360705972e-05\n",
      "Epoch [380/5000], Loss: 2.2640539100393653e-05\n",
      "Epoch [390/5000], Loss: 2.2079904738347977e-05\n",
      "Epoch [400/5000], Loss: 2.1542931790463626e-05\n",
      "Epoch [410/5000], Loss: 2.102724465657957e-05\n",
      "Epoch [420/5000], Loss: 2.0530795154627413e-05\n",
      "Epoch [430/5000], Loss: 2.0051811588928103e-05\n",
      "Epoch [440/5000], Loss: 1.9588796931202523e-05\n",
      "Epoch [450/5000], Loss: 1.9140479707857594e-05\n",
      "Epoch [460/5000], Loss: 1.8705859474721365e-05\n",
      "Epoch [470/5000], Loss: 1.8284135876456276e-05\n",
      "Epoch [480/5000], Loss: 1.7874739569379017e-05\n",
      "Epoch [490/5000], Loss: 1.7477308574598283e-05\n",
      "Epoch [500/5000], Loss: 1.7091686459025368e-05\n",
      "Epoch [510/5000], Loss: 1.6717895050533116e-05\n",
      "Epoch [520/5000], Loss: 1.6356101696146652e-05\n",
      "Epoch [530/5000], Loss: 1.6006755686248653e-05\n",
      "Epoch [540/5000], Loss: 1.5722846001153812e-05\n",
      "Epoch [550/5000], Loss: 1.549841726955492e-05\n",
      "Epoch [560/5000], Loss: 1.5156660992943216e-05\n",
      "Epoch [570/5000], Loss: 1.4844747965980787e-05\n",
      "Epoch [580/5000], Loss: 1.4502563317364547e-05\n",
      "Epoch [590/5000], Loss: 1.4221944184100721e-05\n",
      "Epoch [600/5000], Loss: 1.3972198757983278e-05\n",
      "Epoch [610/5000], Loss: 1.3738950656261295e-05\n",
      "Epoch [620/5000], Loss: 1.3519570529751945e-05\n",
      "Epoch [630/5000], Loss: 1.3313045201357454e-05\n",
      "Epoch [640/5000], Loss: 1.3119106370140798e-05\n",
      "Epoch [650/5000], Loss: 1.2936965504195541e-05\n",
      "Epoch [660/5000], Loss: 1.2765442079398781e-05\n",
      "Epoch [670/5000], Loss: 1.2603609320649412e-05\n",
      "Epoch [680/5000], Loss: 1.245050680154236e-05\n",
      "Epoch [690/5000], Loss: 1.230518682859838e-05\n",
      "Epoch [700/5000], Loss: 1.2167462045908906e-05\n",
      "Epoch [710/5000], Loss: 1.2696558769675903e-05\n",
      "Epoch [720/5000], Loss: 1.2251794032636099e-05\n",
      "Epoch [730/5000], Loss: 1.181941115646623e-05\n",
      "Epoch [740/5000], Loss: 1.1778499356296379e-05\n",
      "Epoch [750/5000], Loss: 1.1635172995738685e-05\n",
      "Epoch [760/5000], Loss: 1.1498970707179978e-05\n",
      "Epoch [770/5000], Loss: 1.1382760021660943e-05\n",
      "Epoch [780/5000], Loss: 1.1275918950559571e-05\n",
      "Epoch [790/5000], Loss: 1.1177718079125043e-05\n",
      "Epoch [800/5000], Loss: 1.1081376214860938e-05\n",
      "Epoch [810/5000], Loss: 1.0987389032379724e-05\n",
      "Epoch [820/5000], Loss: 1.0945510439341888e-05\n",
      "Epoch [830/5000], Loss: 1.1136668945255224e-05\n",
      "Epoch [840/5000], Loss: 1.0993539945047814e-05\n",
      "Epoch [850/5000], Loss: 1.0900802408286836e-05\n",
      "Epoch [860/5000], Loss: 1.0574505722615868e-05\n",
      "Epoch [870/5000], Loss: 1.0513876986806281e-05\n",
      "Epoch [880/5000], Loss: 1.0425454092910513e-05\n",
      "Epoch [890/5000], Loss: 1.0338934771425556e-05\n",
      "Epoch [900/5000], Loss: 1.0258050679112785e-05\n",
      "Epoch [910/5000], Loss: 1.0180351637245622e-05\n",
      "Epoch [920/5000], Loss: 1.0104502507601865e-05\n",
      "Epoch [930/5000], Loss: 1.003027591650607e-05\n",
      "Epoch [940/5000], Loss: 9.978692105505615e-06\n",
      "Epoch [950/5000], Loss: 1.3719067283091135e-05\n",
      "Epoch [960/5000], Loss: 1.0553039828664623e-05\n",
      "Epoch [970/5000], Loss: 1.0146095519303344e-05\n",
      "Epoch [980/5000], Loss: 9.84936468739761e-06\n",
      "Epoch [990/5000], Loss: 9.685521035862621e-06\n",
      "Epoch [1000/5000], Loss: 9.572978342475835e-06\n",
      "Epoch [1010/5000], Loss: 9.490575394011103e-06\n",
      "Epoch [1020/5000], Loss: 9.426777069165837e-06\n",
      "Epoch [1030/5000], Loss: 9.359352588944603e-06\n",
      "Epoch [1040/5000], Loss: 9.293359653383959e-06\n",
      "Epoch [1050/5000], Loss: 9.227817827195395e-06\n",
      "Epoch [1060/5000], Loss: 9.164418770524208e-06\n",
      "Epoch [1070/5000], Loss: 9.186001079797279e-06\n",
      "Epoch [1080/5000], Loss: 1.138402603828581e-05\n",
      "Epoch [1090/5000], Loss: 9.900867553369608e-06\n",
      "Epoch [1100/5000], Loss: 9.19720514502842e-06\n",
      "Epoch [1110/5000], Loss: 8.963612344814464e-06\n",
      "Epoch [1120/5000], Loss: 8.845467164064758e-06\n",
      "Epoch [1130/5000], Loss: 8.760534910834394e-06\n",
      "Epoch [1140/5000], Loss: 8.696921213413589e-06\n",
      "Epoch [1150/5000], Loss: 8.633040124550462e-06\n",
      "Epoch [1160/5000], Loss: 8.573749255447183e-06\n",
      "Epoch [1170/5000], Loss: 8.515455192537047e-06\n",
      "Epoch [1180/5000], Loss: 8.45710928842891e-06\n",
      "Epoch [1190/5000], Loss: 8.401950253755786e-06\n",
      "Epoch [1200/5000], Loss: 8.809644896246027e-06\n",
      "Epoch [1210/5000], Loss: 9.323073754785582e-06\n",
      "Epoch [1220/5000], Loss: 8.662881555210333e-06\n",
      "Epoch [1230/5000], Loss: 8.44582882564282e-06\n",
      "Epoch [1240/5000], Loss: 8.259143214672804e-06\n",
      "Epoch [1250/5000], Loss: 8.11552945378935e-06\n",
      "Epoch [1260/5000], Loss: 8.032926416490227e-06\n",
      "Epoch [1270/5000], Loss: 7.983182513271458e-06\n",
      "Epoch [1280/5000], Loss: 7.92461560195079e-06\n",
      "Epoch [1290/5000], Loss: 7.871013622207101e-06\n",
      "Epoch [1300/5000], Loss: 7.818014637450688e-06\n",
      "Epoch [1310/5000], Loss: 7.765809641568922e-06\n",
      "Epoch [1320/5000], Loss: 7.713897502981126e-06\n",
      "Epoch [1330/5000], Loss: 7.681121132918634e-06\n",
      "Epoch [1340/5000], Loss: 1.1052266017941292e-05\n",
      "Epoch [1350/5000], Loss: 7.837234988983255e-06\n",
      "Epoch [1360/5000], Loss: 7.635496331204195e-06\n",
      "Epoch [1370/5000], Loss: 7.523777640017215e-06\n",
      "Epoch [1380/5000], Loss: 7.437616659444757e-06\n",
      "Epoch [1390/5000], Loss: 7.400427421089262e-06\n",
      "Epoch [1400/5000], Loss: 7.344922323682113e-06\n",
      "Epoch [1410/5000], Loss: 7.291951533261454e-06\n",
      "Epoch [1420/5000], Loss: 7.2421103141095955e-06\n",
      "Epoch [1430/5000], Loss: 7.195152647909708e-06\n",
      "Epoch [1440/5000], Loss: 7.149104476411594e-06\n",
      "Epoch [1450/5000], Loss: 7.103021289367462e-06\n",
      "Epoch [1460/5000], Loss: 7.057992206682684e-06\n",
      "Epoch [1470/5000], Loss: 7.042829111014726e-06\n",
      "Epoch [1480/5000], Loss: 1.3666461200045887e-05\n",
      "Epoch [1490/5000], Loss: 8.327587238454726e-06\n",
      "Epoch [1500/5000], Loss: 7.512163847422926e-06\n",
      "Epoch [1510/5000], Loss: 6.9017623900435865e-06\n",
      "Epoch [1520/5000], Loss: 6.842522907390958e-06\n",
      "Epoch [1530/5000], Loss: 6.797613423259463e-06\n",
      "Epoch [1540/5000], Loss: 6.749703970854171e-06\n",
      "Epoch [1550/5000], Loss: 6.707483407808468e-06\n",
      "Epoch [1560/5000], Loss: 6.666879016847815e-06\n",
      "Epoch [1570/5000], Loss: 6.628787105000811e-06\n",
      "Epoch [1580/5000], Loss: 6.590500561287627e-06\n",
      "Epoch [1590/5000], Loss: 6.5529670791875105e-06\n",
      "Epoch [1600/5000], Loss: 6.516127541544847e-06\n",
      "Epoch [1610/5000], Loss: 6.479830972239142e-06\n",
      "Epoch [1620/5000], Loss: 6.444179234676994e-06\n",
      "Epoch [1630/5000], Loss: 6.4194700826192275e-06\n",
      "Epoch [1640/5000], Loss: 9.65752678894205e-06\n",
      "Epoch [1650/5000], Loss: 6.891040811751736e-06\n",
      "Epoch [1660/5000], Loss: 6.543351446453016e-06\n",
      "Epoch [1670/5000], Loss: 6.661189217993524e-06\n",
      "Epoch [1680/5000], Loss: 6.3732868511579e-06\n",
      "Epoch [1690/5000], Loss: 6.269441655604169e-06\n",
      "Epoch [1700/5000], Loss: 6.222881438588956e-06\n",
      "Epoch [1710/5000], Loss: 6.183181994856568e-06\n",
      "Epoch [1720/5000], Loss: 6.14685313848895e-06\n",
      "Epoch [1730/5000], Loss: 6.1175810515123885e-06\n",
      "Epoch [1740/5000], Loss: 6.087466317694634e-06\n",
      "Epoch [1750/5000], Loss: 6.058653525542468e-06\n",
      "Epoch [1760/5000], Loss: 6.0301772464299574e-06\n",
      "Epoch [1770/5000], Loss: 6.0020920500392094e-06\n",
      "Epoch [1780/5000], Loss: 5.974402029096382e-06\n",
      "Epoch [1790/5000], Loss: 5.947231329628266e-06\n",
      "Epoch [1800/5000], Loss: 5.935289664193988e-06\n",
      "Epoch [1810/5000], Loss: 8.253301530203316e-06\n",
      "Epoch [1820/5000], Loss: 6.074679731682409e-06\n",
      "Epoch [1830/5000], Loss: 5.915353995078476e-06\n",
      "Epoch [1840/5000], Loss: 6.065001343813492e-06\n",
      "Epoch [1850/5000], Loss: 5.9102139857714064e-06\n",
      "Epoch [1860/5000], Loss: 5.811845312564401e-06\n",
      "Epoch [1870/5000], Loss: 5.760798103437992e-06\n",
      "Epoch [1880/5000], Loss: 5.743519068346359e-06\n",
      "Epoch [1890/5000], Loss: 5.78406661588815e-06\n",
      "Epoch [1900/5000], Loss: 8.02266822574893e-06\n",
      "Epoch [1910/5000], Loss: 6.829171979916282e-06\n",
      "Epoch [1920/5000], Loss: 5.6587796279927716e-06\n",
      "Epoch [1930/5000], Loss: 5.768048595200526e-06\n",
      "Epoch [1940/5000], Loss: 5.636204605252715e-06\n",
      "Epoch [1950/5000], Loss: 5.586177849181695e-06\n",
      "Epoch [1960/5000], Loss: 5.565313131228322e-06\n",
      "Epoch [1970/5000], Loss: 5.540735855902312e-06\n",
      "Epoch [1980/5000], Loss: 5.524412699742243e-06\n",
      "Epoch [1990/5000], Loss: 5.624564892059425e-06\n",
      "Epoch [2000/5000], Loss: 8.652412361698225e-06\n",
      "Epoch [2010/5000], Loss: 5.989854344079504e-06\n",
      "Epoch [2020/5000], Loss: 5.638060883939033e-06\n",
      "Epoch [2030/5000], Loss: 5.496366611623671e-06\n",
      "Epoch [2040/5000], Loss: 5.4098691180115566e-06\n",
      "Epoch [2050/5000], Loss: 5.3758722060592845e-06\n",
      "Epoch [2060/5000], Loss: 5.355142093321774e-06\n",
      "Epoch [2070/5000], Loss: 5.337287348083919e-06\n",
      "Epoch [2080/5000], Loss: 5.313832843967248e-06\n",
      "Epoch [2090/5000], Loss: 5.296285053191241e-06\n",
      "Epoch [2100/5000], Loss: 5.518823400052497e-06\n",
      "Epoch [2110/5000], Loss: 7.706427822995465e-06\n",
      "Epoch [2120/5000], Loss: 6.405032763723284e-06\n",
      "Epoch [2130/5000], Loss: 5.559846158575965e-06\n",
      "Epoch [2140/5000], Loss: 5.297501502354862e-06\n",
      "Epoch [2150/5000], Loss: 5.212029009271646e-06\n",
      "Epoch [2160/5000], Loss: 5.175437763682567e-06\n",
      "Epoch [2170/5000], Loss: 5.150776814843994e-06\n",
      "Epoch [2180/5000], Loss: 5.130119461682625e-06\n",
      "Epoch [2190/5000], Loss: 5.113333827466704e-06\n",
      "Epoch [2200/5000], Loss: 5.408068318502046e-06\n",
      "Epoch [2210/5000], Loss: 5.130413228471298e-06\n",
      "Epoch [2220/5000], Loss: 5.351596882974263e-06\n",
      "Epoch [2230/5000], Loss: 5.06810647493694e-06\n",
      "Epoch [2240/5000], Loss: 5.044032604928361e-06\n",
      "Epoch [2250/5000], Loss: 5.005662387702614e-06\n",
      "Epoch [2260/5000], Loss: 5.1036308832408395e-06\n",
      "Epoch [2270/5000], Loss: 9.597246389603242e-06\n",
      "Epoch [2280/5000], Loss: 5.24691949976841e-06\n",
      "Epoch [2290/5000], Loss: 5.001457793696318e-06\n",
      "Epoch [2300/5000], Loss: 4.9460177251603454e-06\n",
      "Epoch [2310/5000], Loss: 4.9241366468777414e-06\n",
      "Epoch [2320/5000], Loss: 4.903260105493246e-06\n",
      "Epoch [2330/5000], Loss: 4.869277290708851e-06\n",
      "Epoch [2340/5000], Loss: 4.850877303397283e-06\n",
      "Epoch [2350/5000], Loss: 4.831620572076645e-06\n",
      "Epoch [2360/5000], Loss: 4.813654413737822e-06\n",
      "Epoch [2370/5000], Loss: 4.79614982396015e-06\n",
      "Epoch [2380/5000], Loss: 4.778765742230462e-06\n",
      "Epoch [2390/5000], Loss: 4.762378466693917e-06\n",
      "Epoch [2400/5000], Loss: 4.823364633921301e-06\n",
      "Epoch [2410/5000], Loss: 7.915924470580649e-06\n",
      "Epoch [2420/5000], Loss: 5.420656179921934e-06\n",
      "Epoch [2430/5000], Loss: 4.950725269736722e-06\n",
      "Epoch [2440/5000], Loss: 4.75014485346037e-06\n",
      "Epoch [2450/5000], Loss: 4.678513050748734e-06\n",
      "Epoch [2460/5000], Loss: 4.658120815292932e-06\n",
      "Epoch [2470/5000], Loss: 4.641249233827693e-06\n",
      "Epoch [2480/5000], Loss: 4.659542355511803e-06\n",
      "Epoch [2490/5000], Loss: 5.912587312195683e-06\n",
      "Epoch [2500/5000], Loss: 5.033634806750342e-06\n",
      "Epoch [2510/5000], Loss: 4.949514732288662e-06\n",
      "Epoch [2520/5000], Loss: 4.5779765969200525e-06\n",
      "Epoch [2530/5000], Loss: 4.594876827468397e-06\n",
      "Epoch [2540/5000], Loss: 4.539948349702172e-06\n",
      "Epoch [2550/5000], Loss: 4.516204626270337e-06\n",
      "Epoch [2560/5000], Loss: 4.497235295275459e-06\n",
      "Epoch [2570/5000], Loss: 4.478476057556691e-06\n",
      "Epoch [2580/5000], Loss: 4.462637662072666e-06\n",
      "Epoch [2590/5000], Loss: 4.448205800144933e-06\n",
      "Epoch [2600/5000], Loss: 4.487094884098042e-06\n",
      "Epoch [2610/5000], Loss: 7.24300525689614e-06\n",
      "Epoch [2620/5000], Loss: 5.77077480556909e-06\n",
      "Epoch [2630/5000], Loss: 4.645528861146886e-06\n",
      "Epoch [2640/5000], Loss: 4.384853582450887e-06\n",
      "Epoch [2650/5000], Loss: 4.422992788022384e-06\n",
      "Epoch [2660/5000], Loss: 4.388173238112358e-06\n",
      "Epoch [2670/5000], Loss: 5.2944478738936596e-06\n",
      "Epoch [2680/5000], Loss: 4.72807096230099e-06\n",
      "Epoch [2690/5000], Loss: 4.413253464008449e-06\n",
      "Epoch [2700/5000], Loss: 4.295737198845018e-06\n",
      "Epoch [2710/5000], Loss: 4.280572284187656e-06\n",
      "Epoch [2720/5000], Loss: 4.262074980942998e-06\n",
      "Epoch [2730/5000], Loss: 4.242670911480673e-06\n",
      "Epoch [2740/5000], Loss: 4.227492809150135e-06\n",
      "Epoch [2750/5000], Loss: 4.238356723362813e-06\n",
      "Epoch [2760/5000], Loss: 5.580482138611842e-06\n",
      "Epoch [2770/5000], Loss: 5.068237896921346e-06\n",
      "Epoch [2780/5000], Loss: 4.3572476897679735e-06\n",
      "Epoch [2790/5000], Loss: 4.337263817433268e-06\n",
      "Epoch [2800/5000], Loss: 4.153142072027549e-06\n",
      "Epoch [2810/5000], Loss: 4.160740900260862e-06\n",
      "Epoch [2820/5000], Loss: 4.4347584662318695e-06\n",
      "Epoch [2830/5000], Loss: 4.375510798126925e-06\n",
      "Epoch [2840/5000], Loss: 4.307715698814718e-06\n",
      "Epoch [2850/5000], Loss: 4.17928458773531e-06\n",
      "Epoch [2860/5000], Loss: 4.092032668268075e-06\n",
      "Epoch [2870/5000], Loss: 4.050869392813183e-06\n",
      "Epoch [2880/5000], Loss: 4.040741714561591e-06\n",
      "Epoch [2890/5000], Loss: 4.032735887449235e-06\n",
      "Epoch [2900/5000], Loss: 4.186539172224002e-06\n",
      "Epoch [2910/5000], Loss: 6.022630714141997e-06\n",
      "Epoch [2920/5000], Loss: 4.649627499020426e-06\n",
      "Epoch [2930/5000], Loss: 4.053358679811936e-06\n",
      "Epoch [2940/5000], Loss: 3.953694431402255e-06\n",
      "Epoch [2950/5000], Loss: 3.9388482946378645e-06\n",
      "Epoch [2960/5000], Loss: 3.922732503269799e-06\n",
      "Epoch [2970/5000], Loss: 3.924179964087671e-06\n",
      "Epoch [2980/5000], Loss: 4.499730493989773e-06\n",
      "Epoch [2990/5000], Loss: 4.2508745536906645e-06\n",
      "Epoch [3000/5000], Loss: 4.390130470710574e-06\n",
      "Epoch [3010/5000], Loss: 3.919581104128156e-06\n",
      "Epoch [3020/5000], Loss: 3.883540557581e-06\n",
      "Epoch [3030/5000], Loss: 3.85307384931366e-06\n",
      "Epoch [3040/5000], Loss: 3.841776560875587e-06\n",
      "Epoch [3050/5000], Loss: 3.90206969314022e-06\n",
      "Epoch [3060/5000], Loss: 5.268400855129585e-06\n",
      "Epoch [3070/5000], Loss: 4.174699370196322e-06\n",
      "Epoch [3080/5000], Loss: 4.011106739199022e-06\n",
      "Epoch [3090/5000], Loss: 3.841806119453395e-06\n",
      "Epoch [3100/5000], Loss: 3.7639988477167208e-06\n",
      "Epoch [3110/5000], Loss: 3.735016662176349e-06\n",
      "Epoch [3120/5000], Loss: 3.72034810425248e-06\n",
      "Epoch [3130/5000], Loss: 3.7383126709755743e-06\n",
      "Epoch [3140/5000], Loss: 4.323987923271488e-06\n",
      "Epoch [3150/5000], Loss: 4.056547368236352e-06\n",
      "Epoch [3160/5000], Loss: 4.50127299700398e-06\n",
      "Epoch [3170/5000], Loss: 3.7403872283903183e-06\n",
      "Epoch [3180/5000], Loss: 3.727360081029474e-06\n",
      "Epoch [3190/5000], Loss: 3.862570338242222e-06\n",
      "Epoch [3200/5000], Loss: 4.1936905290640425e-06\n",
      "Epoch [3210/5000], Loss: 3.6610015285987174e-06\n",
      "Epoch [3220/5000], Loss: 3.6832659588981187e-06\n",
      "Epoch [3230/5000], Loss: 3.7193876778474078e-06\n",
      "Epoch [3240/5000], Loss: 4.04665615860722e-06\n",
      "Epoch [3250/5000], Loss: 4.2277679312974215e-06\n",
      "Epoch [3260/5000], Loss: 3.7980582874297397e-06\n",
      "Epoch [3270/5000], Loss: 3.5878570088243578e-06\n",
      "Epoch [3280/5000], Loss: 3.5548623600334395e-06\n",
      "Epoch [3290/5000], Loss: 3.581691544241039e-06\n",
      "Epoch [3300/5000], Loss: 3.979397206421709e-06\n",
      "Epoch [3310/5000], Loss: 3.5554303394746967e-06\n",
      "Epoch [3320/5000], Loss: 3.6125115912000183e-06\n",
      "Epoch [3330/5000], Loss: 3.7062925457576057e-06\n",
      "Epoch [3340/5000], Loss: 5.507366495294264e-06\n",
      "Epoch [3350/5000], Loss: 4.101937520317733e-06\n",
      "Epoch [3360/5000], Loss: 3.468415116003598e-06\n",
      "Epoch [3370/5000], Loss: 3.4334459542151308e-06\n",
      "Epoch [3380/5000], Loss: 3.428613808864611e-06\n",
      "Epoch [3390/5000], Loss: 3.4035399494314333e-06\n",
      "Epoch [3400/5000], Loss: 3.3928965876839356e-06\n",
      "Epoch [3410/5000], Loss: 3.7056379369460046e-06\n",
      "Epoch [3420/5000], Loss: 3.625749741331674e-06\n",
      "Epoch [3430/5000], Loss: 3.5835030303132953e-06\n",
      "Epoch [3440/5000], Loss: 3.3808241823862772e-06\n",
      "Epoch [3450/5000], Loss: 3.3480355341453105e-06\n",
      "Epoch [3460/5000], Loss: 3.3265412184846355e-06\n",
      "Epoch [3470/5000], Loss: 3.452571263551363e-06\n",
      "Epoch [3480/5000], Loss: 7.091941370163113e-06\n",
      "Epoch [3490/5000], Loss: 3.354865157234599e-06\n",
      "Epoch [3500/5000], Loss: 3.3593971693335334e-06\n",
      "Epoch [3510/5000], Loss: 3.3648743738012854e-06\n",
      "Epoch [3520/5000], Loss: 3.2908560569921974e-06\n",
      "Epoch [3530/5000], Loss: 3.2391317290603183e-06\n",
      "Epoch [3540/5000], Loss: 3.231309392504045e-06\n",
      "Epoch [3550/5000], Loss: 3.215393007849343e-06\n",
      "Epoch [3560/5000], Loss: 3.2055777410278097e-06\n",
      "Epoch [3570/5000], Loss: 3.2318073408532655e-06\n",
      "Epoch [3580/5000], Loss: 5.489641353051411e-06\n",
      "Epoch [3590/5000], Loss: 3.839518740278436e-06\n",
      "Epoch [3600/5000], Loss: 3.4348934150330024e-06\n",
      "Epoch [3610/5000], Loss: 3.1722686344437534e-06\n",
      "Epoch [3620/5000], Loss: 3.156090770062292e-06\n",
      "Epoch [3630/5000], Loss: 3.146020844724262e-06\n",
      "Epoch [3640/5000], Loss: 3.12150405079592e-06\n",
      "Epoch [3650/5000], Loss: 3.1115121146285674e-06\n",
      "Epoch [3660/5000], Loss: 3.0994149256002856e-06\n",
      "Epoch [3670/5000], Loss: 3.0890587368048728e-06\n",
      "Epoch [3680/5000], Loss: 3.0863652682455722e-06\n",
      "Epoch [3690/5000], Loss: 3.404007202334469e-06\n",
      "Epoch [3700/5000], Loss: 4.54540031569195e-06\n",
      "Epoch [3710/5000], Loss: 3.260762241552584e-06\n",
      "Epoch [3720/5000], Loss: 3.1112792839849135e-06\n",
      "Epoch [3730/5000], Loss: 3.112600552412914e-06\n",
      "Epoch [3740/5000], Loss: 3.0246387723309454e-06\n",
      "Epoch [3750/5000], Loss: 3.2214397833740804e-06\n",
      "Epoch [3760/5000], Loss: 3.1190747904474847e-06\n",
      "Epoch [3770/5000], Loss: 3.0212772799131926e-06\n",
      "Epoch [3780/5000], Loss: 2.995801423821831e-06\n",
      "Epoch [3790/5000], Loss: 2.970876721519744e-06\n",
      "Epoch [3800/5000], Loss: 2.963182851090096e-06\n",
      "Epoch [3810/5000], Loss: 3.103657491010381e-06\n",
      "Epoch [3820/5000], Loss: 4.425196948432131e-06\n",
      "Epoch [3830/5000], Loss: 3.1216770821629325e-06\n",
      "Epoch [3840/5000], Loss: 2.9794607598887524e-06\n",
      "Epoch [3850/5000], Loss: 2.9650827855220996e-06\n",
      "Epoch [3860/5000], Loss: 2.8997626486670924e-06\n",
      "Epoch [3870/5000], Loss: 2.894361614380614e-06\n",
      "Epoch [3880/5000], Loss: 2.907620910264086e-06\n",
      "Epoch [3890/5000], Loss: 3.461946334937238e-06\n",
      "Epoch [3900/5000], Loss: 3.138164856864023e-06\n",
      "Epoch [3910/5000], Loss: 2.9123939384589903e-06\n",
      "Epoch [3920/5000], Loss: 2.9962398002680857e-06\n",
      "Epoch [3930/5000], Loss: 2.854920012396178e-06\n",
      "Epoch [3940/5000], Loss: 2.8234549063199665e-06\n",
      "Epoch [3950/5000], Loss: 2.8205022317706607e-06\n",
      "Epoch [3960/5000], Loss: 2.9259574603202054e-06\n",
      "Epoch [3970/5000], Loss: 3.515222260830342e-06\n",
      "Epoch [3980/5000], Loss: 2.8570398171723355e-06\n",
      "Epoch [3990/5000], Loss: 2.807099463097984e-06\n",
      "Epoch [4000/5000], Loss: 2.7868411507370183e-06\n",
      "Epoch [4010/5000], Loss: 2.7787139060819754e-06\n",
      "Epoch [4020/5000], Loss: 2.7864812182087917e-06\n",
      "Epoch [4030/5000], Loss: 3.1868139558355324e-06\n",
      "Epoch [4040/5000], Loss: 3.367863882886013e-06\n",
      "Epoch [4050/5000], Loss: 3.180956355208764e-06\n",
      "Epoch [4060/5000], Loss: 2.9103093766025268e-06\n",
      "Epoch [4070/5000], Loss: 2.8453732738853432e-06\n",
      "Epoch [4080/5000], Loss: 2.7461458103061887e-06\n",
      "Epoch [4090/5000], Loss: 2.703534391912399e-06\n",
      "Epoch [4100/5000], Loss: 2.68149688054109e-06\n",
      "Epoch [4110/5000], Loss: 2.6810898816620465e-06\n",
      "Epoch [4120/5000], Loss: 2.822013129843981e-06\n",
      "Epoch [4130/5000], Loss: 3.442895831540227e-06\n",
      "Epoch [4140/5000], Loss: 2.8777958505088463e-06\n",
      "Epoch [4150/5000], Loss: 2.6828508907783544e-06\n",
      "Epoch [4160/5000], Loss: 2.7030118872062303e-06\n",
      "Epoch [4170/5000], Loss: 3.983970600529574e-06\n",
      "Epoch [4180/5000], Loss: 2.938460966106504e-06\n",
      "Epoch [4190/5000], Loss: 2.8919841952301795e-06\n",
      "Epoch [4200/5000], Loss: 2.6061413791467203e-06\n",
      "Epoch [4210/5000], Loss: 2.5869828732538735e-06\n",
      "Epoch [4220/5000], Loss: 2.582192792033311e-06\n",
      "Epoch [4230/5000], Loss: 2.5657318474259228e-06\n",
      "Epoch [4240/5000], Loss: 2.5684514639578993e-06\n",
      "Epoch [4250/5000], Loss: 3.4614370179042453e-06\n",
      "Epoch [4260/5000], Loss: 3.1921335903462023e-06\n",
      "Epoch [4270/5000], Loss: 2.607886472105747e-06\n",
      "Epoch [4280/5000], Loss: 2.640528919073404e-06\n",
      "Epoch [4290/5000], Loss: 2.5420997644687304e-06\n",
      "Epoch [4300/5000], Loss: 2.5017095595103456e-06\n",
      "Epoch [4310/5000], Loss: 2.4996602405735757e-06\n",
      "Epoch [4320/5000], Loss: 2.485006234564935e-06\n",
      "Epoch [4330/5000], Loss: 2.4802880034258123e-06\n",
      "Epoch [4340/5000], Loss: 2.5799179184105014e-06\n",
      "Epoch [4350/5000], Loss: 5.376024091674481e-06\n",
      "Epoch [4360/5000], Loss: 3.045462335649063e-06\n",
      "Epoch [4370/5000], Loss: 2.609554258015123e-06\n",
      "Epoch [4380/5000], Loss: 2.4649800707265968e-06\n",
      "Epoch [4390/5000], Loss: 2.4730363747949013e-06\n",
      "Epoch [4400/5000], Loss: 2.611565150800743e-06\n",
      "Epoch [4410/5000], Loss: 2.843997890522587e-06\n",
      "Epoch [4420/5000], Loss: 2.5929248295142315e-06\n",
      "Epoch [4430/5000], Loss: 2.4650300929351943e-06\n",
      "Epoch [4440/5000], Loss: 2.418059466435807e-06\n",
      "Epoch [4450/5000], Loss: 2.389520886936225e-06\n",
      "Epoch [4460/5000], Loss: 2.370365336901159e-06\n",
      "Epoch [4470/5000], Loss: 2.3654658889427083e-06\n",
      "Epoch [4480/5000], Loss: 2.3644163320568623e-06\n",
      "Epoch [4490/5000], Loss: 2.4748089799686568e-06\n",
      "Epoch [4500/5000], Loss: 3.787934019783279e-06\n",
      "Epoch [4510/5000], Loss: 2.7691369268723065e-06\n",
      "Epoch [4520/5000], Loss: 2.3945365228428273e-06\n",
      "Epoch [4530/5000], Loss: 2.3254588086274453e-06\n",
      "Epoch [4540/5000], Loss: 2.3403727027471177e-06\n",
      "Epoch [4550/5000], Loss: 2.9946863833174575e-06\n",
      "Epoch [4560/5000], Loss: 2.3523705294792308e-06\n",
      "Epoch [4570/5000], Loss: 2.4552491595386527e-06\n",
      "Epoch [4580/5000], Loss: 2.389258270341088e-06\n",
      "Epoch [4590/5000], Loss: 2.27539089792117e-06\n",
      "Epoch [4600/5000], Loss: 2.267866875627078e-06\n",
      "Epoch [4610/5000], Loss: 2.2602548597205896e-06\n",
      "Epoch [4620/5000], Loss: 2.2528668068844127e-06\n",
      "Epoch [4630/5000], Loss: 2.326717094547348e-06\n",
      "Epoch [4640/5000], Loss: 4.0002460082178e-06\n",
      "Epoch [4650/5000], Loss: 2.605407644296065e-06\n",
      "Epoch [4660/5000], Loss: 2.231679900432937e-06\n",
      "Epoch [4670/5000], Loss: 2.2920771698409226e-06\n",
      "Epoch [4680/5000], Loss: 2.2063566120777978e-06\n",
      "Epoch [4690/5000], Loss: 2.208558044003439e-06\n",
      "Epoch [4700/5000], Loss: 2.2013041416357737e-06\n",
      "Epoch [4710/5000], Loss: 2.291546479682438e-06\n",
      "Epoch [4720/5000], Loss: 3.7195497952779988e-06\n",
      "Epoch [4730/5000], Loss: 2.672258005986805e-06\n",
      "Epoch [4740/5000], Loss: 2.385786729064421e-06\n",
      "Epoch [4750/5000], Loss: 2.214953383372631e-06\n",
      "Epoch [4760/5000], Loss: 2.2205642835615436e-06\n",
      "Epoch [4770/5000], Loss: 2.4622856926725945e-06\n",
      "Epoch [4780/5000], Loss: 2.2057804471842246e-06\n",
      "Epoch [4790/5000], Loss: 2.185770881624194e-06\n",
      "Epoch [4800/5000], Loss: 2.1461305550474208e-06\n",
      "Epoch [4810/5000], Loss: 2.173400162064354e-06\n",
      "Epoch [4820/5000], Loss: 2.339212414881331e-06\n",
      "Epoch [4830/5000], Loss: 2.6874181457969826e-06\n",
      "Epoch [4840/5000], Loss: 2.2868609903525794e-06\n",
      "Epoch [4850/5000], Loss: 2.1385110358096426e-06\n",
      "Epoch [4860/5000], Loss: 2.1195360204728786e-06\n",
      "Epoch [4870/5000], Loss: 2.6198947580269305e-06\n",
      "Epoch [4880/5000], Loss: 2.3853494894865435e-06\n",
      "Epoch [4890/5000], Loss: 2.143543724741903e-06\n",
      "Epoch [4900/5000], Loss: 2.090714815494721e-06\n",
      "Epoch [4910/5000], Loss: 2.183548076573061e-06\n",
      "Epoch [4920/5000], Loss: 2.1208772977843182e-06\n",
      "Epoch [4930/5000], Loss: 2.057797928500804e-06\n",
      "Epoch [4940/5000], Loss: 2.197382400481729e-06\n",
      "Epoch [4950/5000], Loss: 3.500894081298611e-06\n",
      "Epoch [4960/5000], Loss: 2.305640236954787e-06\n",
      "Epoch [4970/5000], Loss: 2.0119055079703685e-06\n",
      "Epoch [4980/5000], Loss: 2.04049001695239e-06\n",
      "Epoch [4990/5000], Loss: 2.002598648687126e-06\n",
      "Epoch [5000/5000], Loss: 1.9880837953678565e-06\n"
     ]
    }
   ],
   "source": [
    "from torch import nn, optim\n",
    "\n",
    "class CoilBlock(nn.Module):\n",
    "    def __init__(self, n_features, n_batch, device):\n",
    "        super(CoilBlock, self).__init__()\n",
    "\n",
    "        self.coil1 = NeuralCoilLayer(n_features = n_features, n_batch = n_batch, device= device)\n",
    "        self.coil2 = NeuralCoilLayer(n_features = n_features, n_batch = n_batch, device= device)\n",
    "        self.coil3 = NeuralCoilLayer(n_features = n_features, n_batch = n_batch, device= device)\n",
    "    \n",
    "    def forward(self, x):\n",
    "        x, transition_tensor = self.coil1(x)\n",
    "        x, transition_tensor = self.coil2(x)\n",
    "        #x, transition_tensor = self.coil3(x)\n",
    "        return x, transition_tensor\n",
    "    \n",
    "# Model\n",
    "# model = NeuralCoilLayer(\n",
    "#     n_features = n_features,\n",
    "#     n_batch = X.shape[0],\n",
    "#     device=\"cuda\"\n",
    "# ).to(\"cuda\")\n",
    "model = CoilBlock(n_features=n_features, n_batch= X.shape[0], device=\"cuda\").to(\"cuda\")\n",
    "\n",
    "# Loss and optimizer\n",
    "criterion = nn.MSELoss()\n",
    "optimizer = optim.Adam(model.parameters(), lr=0.01)\n",
    "\n",
    "# Training loop\n",
    "epochs = 5000\n",
    "for epoch in range(epochs):\n",
    "    model.train()\n",
    "    optimizer.zero_grad()\n",
    "    # Forward pass\n",
    "    outputs, transition_tensor = model(X)\n",
    "    loss = criterion(outputs, Y)\n",
    "\n",
    "    # Backward and optimize\n",
    "    loss.backward()\n",
    "    optimizer.step()\n",
    "\n",
    "    if (epoch + 1) % 10 == 0:\n",
    "        print(f'Epoch [{epoch+1}/{epochs}], Loss: {loss.item()}')\n"
   ]
  },
  {
   "cell_type": "code",
   "execution_count": 52,
   "metadata": {},
   "outputs": [
    {
     "data": {
      "application/vnd.plotly.v1+json": {
       "config": {
        "plotlyServerURL": "https://plot.ly"
       },
       "data": [
        {
         "mode": "lines",
         "name": "Model Output",
         "type": "scatter",
         "x": [
          0,
          1,
          2,
          3,
          4,
          5,
          6,
          7,
          8,
          9,
          10,
          11,
          12,
          13,
          14,
          15,
          16,
          17,
          18,
          19,
          20,
          21,
          22,
          23,
          24,
          25,
          26,
          27,
          28,
          29,
          30,
          31,
          32,
          33,
          34,
          35,
          36,
          37,
          38,
          39,
          40,
          41,
          42,
          43,
          44,
          45,
          46,
          47,
          48,
          49,
          50,
          51,
          52,
          53,
          54,
          55,
          56,
          57,
          58,
          59,
          60,
          61,
          62,
          63
         ],
         "y": [
          0.2502433955669403,
          0.2523419260978699,
          0.26302939653396606,
          0.2719602584838867,
          0.27674177289009094,
          0.2781156003475189,
          0.2756875157356262,
          0.2716248631477356,
          0.26705965399742126,
          0.2618798613548279,
          0.25557583570480347,
          0.2495148479938507,
          0.24348127841949463,
          0.23856870830059052,
          0.23495566844940186,
          0.23274926841259003,
          0.2320885956287384,
          0.23300229012966156,
          0.23544743657112122,
          0.2393454611301422,
          0.24456878006458282,
          0.25076067447662354,
          0.2574159801006317,
          0.26389163732528687,
          0.26948031783103943,
          0.2735292315483093,
          0.27555549144744873,
          0.2753077447414398,
          0.2728075385093689,
          0.26834505796432495,
          0.262428343296051,
          0.25571557879447937,
          0.24891865253448486,
          0.24270318448543549,
          0.23760546743869781,
          0.23399034142494202,
          0.2320481836795807,
          0.23182426393032074,
          0.23325851559638977,
          0.23621632158756256,
          0.24050089716911316,
          0.24584779143333435,
          0.25191062688827515,
          0.25825247168540955,
          0.2643560469150543,
          0.2696610689163208,
          0.2736237943172455,
          0.2757892608642578,
          0.2758593261241913,
          0.2737480700016022,
          0.26961269974708557,
          0.26385268568992615,
          0.25706636905670166,
          0.24996402859687805,
          0.24325241148471832,
          0.23752610385417938,
          0.23319685459136963,
          0.23047517240047455,
          0.2293909341096878,
          0.22983033955097198,
          0.2315710484981537,
          0.2343072146177292,
          0.23767238855361938,
          0.2412632554769516
         ]
        },
        {
         "mode": "lines",
         "name": "Target",
         "type": "scatter",
         "x": [
          0,
          1,
          2,
          3,
          4,
          5,
          6,
          7,
          8,
          9,
          10,
          11,
          12,
          13,
          14,
          15,
          16,
          17,
          18,
          19,
          20,
          21,
          22,
          23,
          24,
          25,
          26,
          27,
          28,
          29,
          30,
          31,
          32,
          33,
          34,
          35,
          36,
          37,
          38,
          39,
          40,
          41,
          42,
          43,
          44,
          45,
          46,
          47,
          48,
          49,
          50,
          51,
          52,
          53,
          54,
          55,
          56,
          57,
          58,
          59,
          60,
          61,
          62,
          63
         ],
         "y": [
          0.2531220018863678,
          0.2596900463104248,
          0.2656269371509552,
          0.2704300880432129,
          0.27370917797088623,
          0.27521181106567383,
          0.274834007024765,
          0.2726195156574249,
          0.2687525749206543,
          0.26354482769966125,
          0.25741755962371826,
          0.25087714195251465,
          0.24448172748088837,
          0.23879872262477875,
          0.23435355722904205,
          0.2315749078989029,
          0.23074370622634888,
          0.23195526003837585,
          0.23510295152664185,
          0.23988765478134155,
          0.24585208296775818,
          0.25243332982063293,
          0.259024053812027,
          0.26503297686576843,
          0.26993656158447266,
          0.27331915497779846,
          0.2749001085758209,
          0.27455002069473267,
          0.2722974419593811,
          0.2683274745941162,
          0.2629717290401459,
          0.25668850541114807,
          0.2500310242176056,
          0.24360285699367523,
          0.23800252377986908,
          0.2337617427110672,
          0.2312861531972885,
          0.2308083176612854,
          0.23236186802387238,
          0.23578153550624847,
          0.24072793126106262,
          0.24673128128051758,
          0.2532448172569275,
          0.25969892740249634,
          0.2655496597290039,
          0.2703179717063904,
          0.2736195921897888,
          0.2751869857311249,
          0.27488526701927185,
          0.2727232873439789,
          0.2688589096069336,
          0.2635960876941681,
          0.25736933946609497,
          0.2507120966911316,
          0.24420686066150665,
          0.2384210079908371,
          0.23383712768554688,
          0.23079125583171844,
          0.22943267226219177,
          0.22971411049365997,
          0.23141276836395264,
          0.23417474329471588,
          0.2375710904598236,
          0.24115335941314697
         ]
        }
       ],
       "layout": {
        "template": {
         "data": {
          "bar": [
           {
            "error_x": {
             "color": "#2a3f5f"
            },
            "error_y": {
             "color": "#2a3f5f"
            },
            "marker": {
             "line": {
              "color": "#E5ECF6",
              "width": 0.5
             },
             "pattern": {
              "fillmode": "overlay",
              "size": 10,
              "solidity": 0.2
             }
            },
            "type": "bar"
           }
          ],
          "barpolar": [
           {
            "marker": {
             "line": {
              "color": "#E5ECF6",
              "width": 0.5
             },
             "pattern": {
              "fillmode": "overlay",
              "size": 10,
              "solidity": 0.2
             }
            },
            "type": "barpolar"
           }
          ],
          "carpet": [
           {
            "aaxis": {
             "endlinecolor": "#2a3f5f",
             "gridcolor": "white",
             "linecolor": "white",
             "minorgridcolor": "white",
             "startlinecolor": "#2a3f5f"
            },
            "baxis": {
             "endlinecolor": "#2a3f5f",
             "gridcolor": "white",
             "linecolor": "white",
             "minorgridcolor": "white",
             "startlinecolor": "#2a3f5f"
            },
            "type": "carpet"
           }
          ],
          "choropleth": [
           {
            "colorbar": {
             "outlinewidth": 0,
             "ticks": ""
            },
            "type": "choropleth"
           }
          ],
          "contour": [
           {
            "colorbar": {
             "outlinewidth": 0,
             "ticks": ""
            },
            "colorscale": [
             [
              0,
              "#0d0887"
             ],
             [
              0.1111111111111111,
              "#46039f"
             ],
             [
              0.2222222222222222,
              "#7201a8"
             ],
             [
              0.3333333333333333,
              "#9c179e"
             ],
             [
              0.4444444444444444,
              "#bd3786"
             ],
             [
              0.5555555555555556,
              "#d8576b"
             ],
             [
              0.6666666666666666,
              "#ed7953"
             ],
             [
              0.7777777777777778,
              "#fb9f3a"
             ],
             [
              0.8888888888888888,
              "#fdca26"
             ],
             [
              1,
              "#f0f921"
             ]
            ],
            "type": "contour"
           }
          ],
          "contourcarpet": [
           {
            "colorbar": {
             "outlinewidth": 0,
             "ticks": ""
            },
            "type": "contourcarpet"
           }
          ],
          "heatmap": [
           {
            "colorbar": {
             "outlinewidth": 0,
             "ticks": ""
            },
            "colorscale": [
             [
              0,
              "#0d0887"
             ],
             [
              0.1111111111111111,
              "#46039f"
             ],
             [
              0.2222222222222222,
              "#7201a8"
             ],
             [
              0.3333333333333333,
              "#9c179e"
             ],
             [
              0.4444444444444444,
              "#bd3786"
             ],
             [
              0.5555555555555556,
              "#d8576b"
             ],
             [
              0.6666666666666666,
              "#ed7953"
             ],
             [
              0.7777777777777778,
              "#fb9f3a"
             ],
             [
              0.8888888888888888,
              "#fdca26"
             ],
             [
              1,
              "#f0f921"
             ]
            ],
            "type": "heatmap"
           }
          ],
          "heatmapgl": [
           {
            "colorbar": {
             "outlinewidth": 0,
             "ticks": ""
            },
            "colorscale": [
             [
              0,
              "#0d0887"
             ],
             [
              0.1111111111111111,
              "#46039f"
             ],
             [
              0.2222222222222222,
              "#7201a8"
             ],
             [
              0.3333333333333333,
              "#9c179e"
             ],
             [
              0.4444444444444444,
              "#bd3786"
             ],
             [
              0.5555555555555556,
              "#d8576b"
             ],
             [
              0.6666666666666666,
              "#ed7953"
             ],
             [
              0.7777777777777778,
              "#fb9f3a"
             ],
             [
              0.8888888888888888,
              "#fdca26"
             ],
             [
              1,
              "#f0f921"
             ]
            ],
            "type": "heatmapgl"
           }
          ],
          "histogram": [
           {
            "marker": {
             "pattern": {
              "fillmode": "overlay",
              "size": 10,
              "solidity": 0.2
             }
            },
            "type": "histogram"
           }
          ],
          "histogram2d": [
           {
            "colorbar": {
             "outlinewidth": 0,
             "ticks": ""
            },
            "colorscale": [
             [
              0,
              "#0d0887"
             ],
             [
              0.1111111111111111,
              "#46039f"
             ],
             [
              0.2222222222222222,
              "#7201a8"
             ],
             [
              0.3333333333333333,
              "#9c179e"
             ],
             [
              0.4444444444444444,
              "#bd3786"
             ],
             [
              0.5555555555555556,
              "#d8576b"
             ],
             [
              0.6666666666666666,
              "#ed7953"
             ],
             [
              0.7777777777777778,
              "#fb9f3a"
             ],
             [
              0.8888888888888888,
              "#fdca26"
             ],
             [
              1,
              "#f0f921"
             ]
            ],
            "type": "histogram2d"
           }
          ],
          "histogram2dcontour": [
           {
            "colorbar": {
             "outlinewidth": 0,
             "ticks": ""
            },
            "colorscale": [
             [
              0,
              "#0d0887"
             ],
             [
              0.1111111111111111,
              "#46039f"
             ],
             [
              0.2222222222222222,
              "#7201a8"
             ],
             [
              0.3333333333333333,
              "#9c179e"
             ],
             [
              0.4444444444444444,
              "#bd3786"
             ],
             [
              0.5555555555555556,
              "#d8576b"
             ],
             [
              0.6666666666666666,
              "#ed7953"
             ],
             [
              0.7777777777777778,
              "#fb9f3a"
             ],
             [
              0.8888888888888888,
              "#fdca26"
             ],
             [
              1,
              "#f0f921"
             ]
            ],
            "type": "histogram2dcontour"
           }
          ],
          "mesh3d": [
           {
            "colorbar": {
             "outlinewidth": 0,
             "ticks": ""
            },
            "type": "mesh3d"
           }
          ],
          "parcoords": [
           {
            "line": {
             "colorbar": {
              "outlinewidth": 0,
              "ticks": ""
             }
            },
            "type": "parcoords"
           }
          ],
          "pie": [
           {
            "automargin": true,
            "type": "pie"
           }
          ],
          "scatter": [
           {
            "fillpattern": {
             "fillmode": "overlay",
             "size": 10,
             "solidity": 0.2
            },
            "type": "scatter"
           }
          ],
          "scatter3d": [
           {
            "line": {
             "colorbar": {
              "outlinewidth": 0,
              "ticks": ""
             }
            },
            "marker": {
             "colorbar": {
              "outlinewidth": 0,
              "ticks": ""
             }
            },
            "type": "scatter3d"
           }
          ],
          "scattercarpet": [
           {
            "marker": {
             "colorbar": {
              "outlinewidth": 0,
              "ticks": ""
             }
            },
            "type": "scattercarpet"
           }
          ],
          "scattergeo": [
           {
            "marker": {
             "colorbar": {
              "outlinewidth": 0,
              "ticks": ""
             }
            },
            "type": "scattergeo"
           }
          ],
          "scattergl": [
           {
            "marker": {
             "colorbar": {
              "outlinewidth": 0,
              "ticks": ""
             }
            },
            "type": "scattergl"
           }
          ],
          "scattermapbox": [
           {
            "marker": {
             "colorbar": {
              "outlinewidth": 0,
              "ticks": ""
             }
            },
            "type": "scattermapbox"
           }
          ],
          "scatterpolar": [
           {
            "marker": {
             "colorbar": {
              "outlinewidth": 0,
              "ticks": ""
             }
            },
            "type": "scatterpolar"
           }
          ],
          "scatterpolargl": [
           {
            "marker": {
             "colorbar": {
              "outlinewidth": 0,
              "ticks": ""
             }
            },
            "type": "scatterpolargl"
           }
          ],
          "scatterternary": [
           {
            "marker": {
             "colorbar": {
              "outlinewidth": 0,
              "ticks": ""
             }
            },
            "type": "scatterternary"
           }
          ],
          "surface": [
           {
            "colorbar": {
             "outlinewidth": 0,
             "ticks": ""
            },
            "colorscale": [
             [
              0,
              "#0d0887"
             ],
             [
              0.1111111111111111,
              "#46039f"
             ],
             [
              0.2222222222222222,
              "#7201a8"
             ],
             [
              0.3333333333333333,
              "#9c179e"
             ],
             [
              0.4444444444444444,
              "#bd3786"
             ],
             [
              0.5555555555555556,
              "#d8576b"
             ],
             [
              0.6666666666666666,
              "#ed7953"
             ],
             [
              0.7777777777777778,
              "#fb9f3a"
             ],
             [
              0.8888888888888888,
              "#fdca26"
             ],
             [
              1,
              "#f0f921"
             ]
            ],
            "type": "surface"
           }
          ],
          "table": [
           {
            "cells": {
             "fill": {
              "color": "#EBF0F8"
             },
             "line": {
              "color": "white"
             }
            },
            "header": {
             "fill": {
              "color": "#C8D4E3"
             },
             "line": {
              "color": "white"
             }
            },
            "type": "table"
           }
          ]
         },
         "layout": {
          "annotationdefaults": {
           "arrowcolor": "#2a3f5f",
           "arrowhead": 0,
           "arrowwidth": 1
          },
          "autotypenumbers": "strict",
          "coloraxis": {
           "colorbar": {
            "outlinewidth": 0,
            "ticks": ""
           }
          },
          "colorscale": {
           "diverging": [
            [
             0,
             "#8e0152"
            ],
            [
             0.1,
             "#c51b7d"
            ],
            [
             0.2,
             "#de77ae"
            ],
            [
             0.3,
             "#f1b6da"
            ],
            [
             0.4,
             "#fde0ef"
            ],
            [
             0.5,
             "#f7f7f7"
            ],
            [
             0.6,
             "#e6f5d0"
            ],
            [
             0.7,
             "#b8e186"
            ],
            [
             0.8,
             "#7fbc41"
            ],
            [
             0.9,
             "#4d9221"
            ],
            [
             1,
             "#276419"
            ]
           ],
           "sequential": [
            [
             0,
             "#0d0887"
            ],
            [
             0.1111111111111111,
             "#46039f"
            ],
            [
             0.2222222222222222,
             "#7201a8"
            ],
            [
             0.3333333333333333,
             "#9c179e"
            ],
            [
             0.4444444444444444,
             "#bd3786"
            ],
            [
             0.5555555555555556,
             "#d8576b"
            ],
            [
             0.6666666666666666,
             "#ed7953"
            ],
            [
             0.7777777777777778,
             "#fb9f3a"
            ],
            [
             0.8888888888888888,
             "#fdca26"
            ],
            [
             1,
             "#f0f921"
            ]
           ],
           "sequentialminus": [
            [
             0,
             "#0d0887"
            ],
            [
             0.1111111111111111,
             "#46039f"
            ],
            [
             0.2222222222222222,
             "#7201a8"
            ],
            [
             0.3333333333333333,
             "#9c179e"
            ],
            [
             0.4444444444444444,
             "#bd3786"
            ],
            [
             0.5555555555555556,
             "#d8576b"
            ],
            [
             0.6666666666666666,
             "#ed7953"
            ],
            [
             0.7777777777777778,
             "#fb9f3a"
            ],
            [
             0.8888888888888888,
             "#fdca26"
            ],
            [
             1,
             "#f0f921"
            ]
           ]
          },
          "colorway": [
           "#636efa",
           "#EF553B",
           "#00cc96",
           "#ab63fa",
           "#FFA15A",
           "#19d3f3",
           "#FF6692",
           "#B6E880",
           "#FF97FF",
           "#FECB52"
          ],
          "font": {
           "color": "#2a3f5f"
          },
          "geo": {
           "bgcolor": "white",
           "lakecolor": "white",
           "landcolor": "#E5ECF6",
           "showlakes": true,
           "showland": true,
           "subunitcolor": "white"
          },
          "hoverlabel": {
           "align": "left"
          },
          "hovermode": "closest",
          "mapbox": {
           "style": "light"
          },
          "paper_bgcolor": "white",
          "plot_bgcolor": "#E5ECF6",
          "polar": {
           "angularaxis": {
            "gridcolor": "white",
            "linecolor": "white",
            "ticks": ""
           },
           "bgcolor": "#E5ECF6",
           "radialaxis": {
            "gridcolor": "white",
            "linecolor": "white",
            "ticks": ""
           }
          },
          "scene": {
           "xaxis": {
            "backgroundcolor": "#E5ECF6",
            "gridcolor": "white",
            "gridwidth": 2,
            "linecolor": "white",
            "showbackground": true,
            "ticks": "",
            "zerolinecolor": "white"
           },
           "yaxis": {
            "backgroundcolor": "#E5ECF6",
            "gridcolor": "white",
            "gridwidth": 2,
            "linecolor": "white",
            "showbackground": true,
            "ticks": "",
            "zerolinecolor": "white"
           },
           "zaxis": {
            "backgroundcolor": "#E5ECF6",
            "gridcolor": "white",
            "gridwidth": 2,
            "linecolor": "white",
            "showbackground": true,
            "ticks": "",
            "zerolinecolor": "white"
           }
          },
          "shapedefaults": {
           "line": {
            "color": "#2a3f5f"
           }
          },
          "ternary": {
           "aaxis": {
            "gridcolor": "white",
            "linecolor": "white",
            "ticks": ""
           },
           "baxis": {
            "gridcolor": "white",
            "linecolor": "white",
            "ticks": ""
           },
           "bgcolor": "#E5ECF6",
           "caxis": {
            "gridcolor": "white",
            "linecolor": "white",
            "ticks": ""
           }
          },
          "title": {
           "x": 0.05
          },
          "xaxis": {
           "automargin": true,
           "gridcolor": "white",
           "linecolor": "white",
           "ticks": "",
           "title": {
            "standoff": 15
           },
           "zerolinecolor": "white",
           "zerolinewidth": 2
          },
          "yaxis": {
           "automargin": true,
           "gridcolor": "white",
           "linecolor": "white",
           "ticks": "",
           "title": {
            "standoff": 15
           },
           "zerolinecolor": "white",
           "zerolinewidth": 2
          }
         }
        },
        "title": {
         "text": "Model Output vs Target for Feature 3, Batch 13"
        },
        "xaxis": {
         "title": {
          "text": "Timestep"
         }
        },
        "yaxis": {
         "title": {
          "text": "Value"
         }
        }
       }
      }
     },
     "metadata": {},
     "output_type": "display_data"
    }
   ],
   "source": [
    "import plotly.graph_objects as go\n",
    "\n",
    "def plot_model_output_vs_target(model_outputs, targets, batch_index=0, feature_index=0):\n",
    "    # Extract the specified feature for the given batch from both the model outputs and targets\n",
    "    model_output_series = model_outputs[batch_index, :, feature_index].detach().numpy()\n",
    "    target_series = targets[batch_index, :, feature_index].numpy()\n",
    "    \n",
    "    # Create a range for the x-axis (timesteps)\n",
    "    timesteps = list(range(model_output_series.shape[0]))\n",
    "    \n",
    "    # Create traces\n",
    "    model_trace = go.Scatter(x=timesteps, y=model_output_series, mode='lines', name='Model Output')\n",
    "    target_trace = go.Scatter(x=timesteps, y=target_series, mode='lines', name='Target')\n",
    "    \n",
    "    # Create the figure and add traces\n",
    "    fig = go.Figure()\n",
    "    fig.add_trace(model_trace)\n",
    "    fig.add_trace(target_trace)\n",
    "    \n",
    "    # Add title and labels\n",
    "    fig.update_layout(title=f'Model Output vs Target for Feature {feature_index}, Batch {batch_index}',\n",
    "                      xaxis_title='Timestep',\n",
    "                      yaxis_title='Value')\n",
    "    \n",
    "    # Show the figure\n",
    "    fig.show()\n",
    "\n",
    "# Assuming `y` and `Y` are your model outputs and targets, respectively\n",
    "# Adjust batch_index and feature_index as needed\n",
    "plot_model_output_vs_target(outputs.to(\"cpu\"), Y.to(\"cpu\"), batch_index=13, feature_index=3)\n"
   ]
  },
  {
   "cell_type": "code",
   "execution_count": 48,
   "metadata": {},
   "outputs": [
    {
     "ename": "AttributeError",
     "evalue": "'CoilBlock' object has no attribute 'step_coil'",
     "output_type": "error",
     "traceback": [
      "\u001b[1;31m---------------------------------------------------------------------------\u001b[0m",
      "\u001b[1;31mAttributeError\u001b[0m                            Traceback (most recent call last)",
      "Cell \u001b[1;32mIn[48], line 7\u001b[0m\n\u001b[0;32m      5\u001b[0m transition_tensor \u001b[38;5;241m=\u001b[39m torch\u001b[38;5;241m.\u001b[39mzeros(batch_size, n_features, n_features)\u001b[38;5;241m.\u001b[39mto(\u001b[38;5;124m\"\u001b[39m\u001b[38;5;124mcuda\u001b[39m\u001b[38;5;124m\"\u001b[39m)\n\u001b[0;32m      6\u001b[0m \u001b[38;5;28;01mfor\u001b[39;00m step_state \u001b[38;5;129;01min\u001b[39;00m \u001b[38;5;28mrange\u001b[39m(\u001b[38;5;241m300\u001b[39m):\n\u001b[1;32m----> 7\u001b[0m     state_tensor, transition_tensor \u001b[38;5;241m=\u001b[39m \u001b[43mmodel\u001b[49m\u001b[38;5;241;43m.\u001b[39;49m\u001b[43mstep_coil\u001b[49m(state_tensor, transition_tensor)\n\u001b[0;32m      8\u001b[0m     states\u001b[38;5;241m.\u001b[39mappend(state_tensor[batch,:])\n\u001b[0;32m      9\u001b[0m     \u001b[38;5;28mprint\u001b[39m(\u001b[38;5;28msum\u001b[39m(state_tensor[batch,:]))\n",
      "File \u001b[1;32mc:\\Users\\johnm\\AppData\\Local\\pypoetry\\Cache\\virtualenvs\\coilspy-1sgZ1XBf-py3.12\\Lib\\site-packages\\torch\\nn\\modules\\module.py:1709\u001b[0m, in \u001b[0;36mModule.__getattr__\u001b[1;34m(self, name)\u001b[0m\n\u001b[0;32m   1707\u001b[0m     \u001b[38;5;28;01mif\u001b[39;00m name \u001b[38;5;129;01min\u001b[39;00m modules:\n\u001b[0;32m   1708\u001b[0m         \u001b[38;5;28;01mreturn\u001b[39;00m modules[name]\n\u001b[1;32m-> 1709\u001b[0m \u001b[38;5;28;01mraise\u001b[39;00m \u001b[38;5;167;01mAttributeError\u001b[39;00m(\u001b[38;5;124mf\u001b[39m\u001b[38;5;124m\"\u001b[39m\u001b[38;5;124m'\u001b[39m\u001b[38;5;132;01m{\u001b[39;00m\u001b[38;5;28mtype\u001b[39m(\u001b[38;5;28mself\u001b[39m)\u001b[38;5;241m.\u001b[39m\u001b[38;5;18m__name__\u001b[39m\u001b[38;5;132;01m}\u001b[39;00m\u001b[38;5;124m'\u001b[39m\u001b[38;5;124m object has no attribute \u001b[39m\u001b[38;5;124m'\u001b[39m\u001b[38;5;132;01m{\u001b[39;00mname\u001b[38;5;132;01m}\u001b[39;00m\u001b[38;5;124m'\u001b[39m\u001b[38;5;124m\"\u001b[39m)\n",
      "\u001b[1;31mAttributeError\u001b[0m: 'CoilBlock' object has no attribute 'step_coil'"
     ]
    }
   ],
   "source": [
    "states = []\n",
    "batch = 3\n",
    "state_tensor = X[:,0,:]\n",
    "batch_size = 15\n",
    "transition_tensor = torch.zeros(batch_size, n_features, n_features).to(\"cuda\")\n",
    "for step_state in range(300):\n",
    "    state_tensor, transition_tensor = model.step_coil(state_tensor, transition_tensor)\n",
    "    states.append(state_tensor[batch,:])\n",
    "    print(sum(state_tensor[batch,:]))\n",
    "    \n",
    "\n",
    "# Your data\n",
    "data = [row.to('cpu').detach().numpy() for row in states]\n",
    "# Transpose the data to get 5 traces\n",
    "traces = list(zip(*data))\n",
    "\n",
    "# Plotting\n",
    "plt.figure(figsize=(10, 6))\n",
    "for i, trace in enumerate(traces):\n",
    "    plt.plot(trace, label=f'Trace {i+1}')\n",
    "\n",
    "plt.xlabel('Timestep')\n",
    "plt.ylabel('Value')\n",
    "plt.legend()\n",
    "plt.show()"
   ]
  }
 ],
 "metadata": {
  "kernelspec": {
   "display_name": "coilspy-1sgZ1XBf-py3.12",
   "language": "python",
   "name": "python3"
  },
  "language_info": {
   "codemirror_mode": {
    "name": "ipython",
    "version": 3
   },
   "file_extension": ".py",
   "mimetype": "text/x-python",
   "name": "python",
   "nbconvert_exporter": "python",
   "pygments_lexer": "ipython3",
   "version": "3.12.2"
  }
 },
 "nbformat": 4,
 "nbformat_minor": 2
}
