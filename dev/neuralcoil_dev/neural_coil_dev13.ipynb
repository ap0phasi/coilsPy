{
 "cells": [
  {
   "cell_type": "code",
   "execution_count": 494,
   "metadata": {},
   "outputs": [],
   "source": [
    "import torch\n",
    "import torch.nn as nn\n",
    "import torch.nn.functional as F"
   ]
  },
  {
   "cell_type": "code",
   "execution_count": 495,
   "metadata": {},
   "outputs": [
    {
     "name": "stdout",
     "output_type": "stream",
     "text": [
      "tensor([[0.2832, 0.1959, 0.1312, 0.2026, 0.0918, 0.0953],\n",
      "        [0.0785, 0.0781, 0.2195, 0.2727, 0.1358, 0.2154],\n",
      "        [0.0457, 0.3090, 0.0403, 0.3376, 0.0332, 0.2342],\n",
      "        [0.3356, 0.0469, 0.3020, 0.0779, 0.0953, 0.1423],\n",
      "        [0.2007, 0.0975, 0.1588, 0.1203, 0.2282, 0.1946]])\n",
      "tensor([1.0000, 1.0000, 1.0000, 1.0000, 1.0000])\n"
     ]
    }
   ],
   "source": [
    "def torch_randnorm(size, dim=0):\n",
    "    # Generate a random tensor\n",
    "    rand_tensor = torch.rand(size)\n",
    "    \n",
    "    # Normalize along the specified dimension\n",
    "    sum_along_dim = torch.sum(rand_tensor, dim=dim, keepdim=True)\n",
    "    normalized_tensor = rand_tensor / sum_along_dim\n",
    "    \n",
    "    return normalized_tensor\n",
    "\n",
    "# Example usage\n",
    "normalized_tensor = torch_randnorm([5,6], dim=1)\n",
    "print(normalized_tensor)\n",
    "print(normalized_tensor.sum(dim=1))"
   ]
  },
  {
   "cell_type": "code",
   "execution_count": 496,
   "metadata": {},
   "outputs": [],
   "source": [
    "class NeuralCoilLayer(nn.Module):\n",
    "    def __init__(self, n_features):\n",
    "        super(NeuralCoilLayer, self).__init__()\n",
    "        self.n_features = n_features\n",
    "        self.attention_weights = nn.Linear(n_features, 1, bias=False)\n",
    "        self.interaction_tensors = nn.Parameter(torch.randn(n_features, n_features, n_features, n_features + 1))\n",
    "        self.topk_num = 1\n",
    "        \n",
    "    def step_coil(self, state_tensor, previous_transition_tensor):\n",
    "        # Establish normalized subgroups\n",
    "        norm_subgroups = torch.cat((state_tensor.unsqueeze(-2), previous_transition_tensor), dim=1)\n",
    "        batch_size, num_groups, n_features = norm_subgroups.shape\n",
    "        \n",
    "        # Compute scores for each normalized subgroup\n",
    "        scores = self.attention_weights(norm_subgroups).sum(-1) # [batch_size, num_groups]\n",
    "        \n",
    "        weights = torch.softmax(scores,dim = -1) # [batch_size, num_groups]\n",
    "        \n",
    "        selected_interaction_tensors = self.interaction_tensors\n",
    "        selected_norm_subgroups = norm_subgroups\n",
    "\n",
    "        #selected_transition_tensors = torch.einsum('ijks,bsi->bjks', selected_interaction_tensors, selected_norm_subgroups)\n",
    "        \n",
    "        selected_transition_tensors = (torch.mul(selected_interaction_tensors, selected_norm_subgroups.permute(0,2,1).unsqueeze(1).unsqueeze(1))).sum(-2)\n",
    "        \n",
    "        # We need a single transition tensor so we will average this as well\n",
    "        #selected_transition_tensor = torch.einsum('bs,bjks->bjk', weights,selected_transition_tensors)\n",
    "        \n",
    "        selected_transition_tensor = (torch.mul(selected_transition_tensors, weights.unsqueeze(-2).unsqueeze(-2))).sum(-1)\n",
    "        # Generate state tensor from the transition tensor\n",
    "        # Unsqueezing state_tensor to make it [batch_size, n_features, 1] for matrix multiplication\n",
    "        state_tensor_unsqueezed = state_tensor.unsqueeze(2)\n",
    "\n",
    "        # Performing batch matrix multiplication\n",
    "        new_state_tensor_bmm = torch.bmm(selected_transition_tensor, state_tensor_unsqueezed)\n",
    "\n",
    "        # Squeezing the result to get rid of the extra dimension, resulting in [batch_size, n_features]\n",
    "        new_state_tensor = new_state_tensor_bmm.squeeze(2)\n",
    "    \n",
    "        softmax_tensor = torch.softmax(new_state_tensor * n_features, dim = 1)\n",
    "        \n",
    "        return softmax_tensor, selected_transition_tensor\n",
    "\n",
    "\n",
    "    def forward(self, x):\n",
    "        batch, length, n_features = x.size()\n",
    "        output = x.new_empty(batch, length, n_features)\n",
    "\n",
    "        # Initialize previous transition tensors (for the first step)\n",
    "        # Assuming it's a list of zero tensors for simplicity\n",
    "        transition_tensor = torch.zeros(batch, n_features, n_features)\n",
    "\n",
    "        for l in range(length):\n",
    "            state_tensor = x[:, l, :]\n",
    "            \n",
    "            # Compute output for this step\n",
    "            output[:, l, :], transition_tensor = self.step_coil(state_tensor, transition_tensor)\n",
    "\n",
    "        return output, transition_tensor\n"
   ]
  },
  {
   "cell_type": "markdown",
   "metadata": {},
   "source": [
    "# Sequence-to-Sequence Check"
   ]
  },
  {
   "cell_type": "code",
   "execution_count": 497,
   "metadata": {},
   "outputs": [
    {
     "name": "stdout",
     "output_type": "stream",
     "text": [
      "torch.Size([13, 64, 16])\n"
     ]
    }
   ],
   "source": [
    "n_features = 16\n",
    "batch, length, dim = 13, 64, n_features\n",
    "x = torch.randn(batch, length, dim)\n",
    "model = NeuralCoilLayer(\n",
    "    n_features = n_features\n",
    ")\n",
    "y = model(x)\n",
    "\n",
    "\n",
    "print(y[0].shape)\n",
    "assert y[0].shape == x.shape"
   ]
  },
  {
   "cell_type": "code",
   "execution_count": 498,
   "metadata": {},
   "outputs": [
    {
     "name": "stdout",
     "output_type": "stream",
     "text": [
      "tensor([5.1621, 2.9759, 3.4055, 4.0199, 3.9542, 4.9271, 4.0877, 4.7487, 3.9336,\n",
      "        2.8160, 5.6277, 4.7673, 4.5641, 5.0604, 4.5755, 3.7729])\n",
      "tensor([5.1621, 2.9759, 3.4055, 4.0199, 3.9542, 4.9271, 4.0877, 4.7487, 3.9336,\n",
      "        2.8160, 5.6277, 4.7673, 4.5641, 5.0604, 4.5755, 3.7729])\n"
     ]
    }
   ],
   "source": [
    "batch_size = 13\n",
    "n = 16\n",
    "slices = 17\n",
    "\n",
    "weights = torch.rand(batch_size,slices)\n",
    "selected_transition_tensors = torch.rand(batch_size, n, n ,slices)\n",
    "\n",
    "selected_transition_tensor = torch.einsum('bs,bjks->bjk', weights,selected_transition_tensors)\n",
    "\n",
    "alt = (selected_transition_tensors * weights.unsqueeze(-2).unsqueeze(-2)).sum(-1)\n",
    "alt3 = (torch.mul(selected_transition_tensors, weights.unsqueeze(-2).unsqueeze(-2))).sum(-1)\n",
    "print(alt3[5,6])\n",
    "print(selected_transition_tensor[5,6])\n"
   ]
  },
  {
   "cell_type": "code",
   "execution_count": 499,
   "metadata": {},
   "outputs": [
    {
     "name": "stdout",
     "output_type": "stream",
     "text": [
      "torch.Size([13, 16, 16, 17])\n",
      "tensor([2.6469, 4.2753, 3.9302, 3.8398, 4.0154, 3.6772, 5.4100, 3.1397, 5.8419,\n",
      "        4.1130, 3.5744, 3.8774, 4.1916, 5.2858, 4.9385, 5.1919, 4.0391])\n",
      "tensor([3.7266, 2.8916, 5.0649, 3.6284, 2.8552, 3.1125, 6.3246, 4.8832, 3.4423,\n",
      "        3.3809, 3.8099, 2.0166, 4.3717, 5.0427, 4.1490, 4.6321, 4.0308])\n",
      "tensor([3.7266, 2.8916, 5.0649, 3.6284, 2.8552, 3.1125, 6.3246, 4.8832, 3.4423,\n",
      "        3.3809, 3.8099, 2.0166, 4.3717, 5.0427, 4.1490, 4.6321, 4.0308])\n"
     ]
    }
   ],
   "source": [
    "selected_interaction_tensors = torch.rand(n,n,n,slices)\n",
    "selected_norm_subgroups = torch.rand(batch_size,slices, n)\n",
    "\n",
    "selected_transition_tensors = torch.einsum('ijks,bsi->bjks', selected_interaction_tensors, selected_norm_subgroups)\n",
    "selected_transition_tensors2 = torch.einsum('ijks,bks->bijs', selected_interaction_tensors, selected_norm_subgroups.permute(0,2,1))\n",
    "\n",
    "alt2 = (selected_interaction_tensors * selected_norm_subgroups.permute(0,2,1).unsqueeze(1).unsqueeze(1)).sum(-2)\n",
    "print(alt2.shape)\n",
    "print(selected_transition_tensors[5,6,2])\n",
    "print(selected_transition_tensors2[5,6,2])\n",
    "print(alt2[5,6,2])\n"
   ]
  },
  {
   "cell_type": "code",
   "execution_count": 500,
   "metadata": {},
   "outputs": [
    {
     "name": "stdout",
     "output_type": "stream",
     "text": [
      "tensor(5.1369)\n",
      "tensor(5.1369)\n",
      "tensor(5.1369)\n",
      "tensor(5.1369)\n"
     ]
    }
   ],
   "source": [
    "i, j, k = 14, 12, 17\n",
    "\n",
    "tensor_a = torch.rand(i,k)\n",
    "tensor_b = torch.rand(k,j)\n",
    "\n",
    "option1 = torch.matmul(tensor_a, tensor_b)\n",
    "option2 = torch.einsum('ik,kj -> ij',tensor_a, tensor_b)\n",
    "option3 = tensor_a@tensor_b\n",
    "option4 = (tensor_a.unsqueeze(-1) * tensor_b).sum(dim=1)\n",
    "\n",
    "print(option1[5,2])\n",
    "print(option2[5,2])\n",
    "print(option3[5,2])\n",
    "print(option4[5,2])"
   ]
  },
  {
   "cell_type": "code",
   "execution_count": 501,
   "metadata": {},
   "outputs": [
    {
     "name": "stdout",
     "output_type": "stream",
     "text": [
      "-----------------------  ------------  ------------  ------------  ------------  ------------  ------------  \n",
      "                   Name    Self CPU %      Self CPU   CPU total %     CPU total  CPU time avg    # of Calls  \n",
      "-----------------------  ------------  ------------  ------------  ------------  ------------  ------------  \n",
      "        model_inference        14.38%      28.932ms       100.00%     201.214ms     201.214ms             1  \n",
      "              aten::sum        35.93%      72.300ms        38.01%      76.473ms     398.297us           192  \n",
      "              aten::mul        29.90%      60.159ms        30.92%      62.209ms     324.005us           192  \n",
      "           aten::linear         0.42%     842.000us         3.36%       6.762ms     105.656us            64  \n",
      "          aten::softmax         0.36%     724.000us         3.09%       6.209ms      48.508us           128  \n",
      "         aten::_softmax         2.77%       5.571ms         2.77%       5.571ms      43.523us           128  \n",
      "        aten::unsqueeze         2.17%       4.375ms         2.54%       5.113ms      13.315us           384  \n",
      "              aten::cat         1.60%       3.221ms         2.27%       4.564ms      71.312us            64  \n",
      "           aten::matmul         0.52%       1.046ms         2.23%       4.489ms      70.141us            64  \n",
      "            aten::slice         1.83%       3.677ms         2.06%       4.140ms      10.781us           384  \n",
      "-----------------------  ------------  ------------  ------------  ------------  ------------  ------------  \n",
      "Self CPU time total: 201.214ms\n",
      "\n"
     ]
    }
   ],
   "source": [
    "from torch.profiler import profile, record_function, ProfilerActivity\n",
    "\n",
    "with profile(activities=[ProfilerActivity.CPU], record_shapes=True) as prof:\n",
    "    with record_function(\"model_inference\"):\n",
    "        model(x)\n",
    "        \n",
    "print(prof.key_averages().table(sort_by=\"cpu_time_total\", row_limit=10))"
   ]
  },
  {
   "cell_type": "markdown",
   "metadata": {},
   "source": [
    "## Consistency Check"
   ]
  },
  {
   "cell_type": "code",
   "execution_count": 502,
   "metadata": {},
   "outputs": [
    {
     "name": "stdout",
     "output_type": "stream",
     "text": [
      "tensor([-0.6060, -1.2720, -1.2180, -1.2397])\n",
      "tensor([7.5109e-04, 5.3206e-05, 6.1816e-03, 9.9301e-01],\n",
      "       grad_fn=<SliceBackward0>)\n",
      "tensor([7.5109e-04, 5.3206e-05, 6.1816e-03, 9.9301e-01],\n",
      "       grad_fn=<SliceBackward0>)\n"
     ]
    }
   ],
   "source": [
    "n_features = 4\n",
    "batch, length, dim = 13, 64, n_features\n",
    "x =torch.randn(batch, length, dim)\n",
    "model = NeuralCoilLayer(\n",
    "    n_features = n_features\n",
    ")\n",
    "\n",
    "l = 1\n",
    "state_tensor = x[:, l, :]\n",
    "print(state_tensor[1,:])\n",
    "transition_tensor = torch.randn(batch, n_features, n_features)\n",
    "new_state, new_transition_tensor = model.step_coil(state_tensor, transition_tensor)\n",
    "print(new_state[1,:])\n",
    "new_state, new_transition_tensor = model.step_coil(state_tensor, transition_tensor)\n",
    "print(new_state[1,:])"
   ]
  },
  {
   "cell_type": "markdown",
   "metadata": {},
   "source": [
    "This should be the same as if we just look at the batches independently"
   ]
  },
  {
   "cell_type": "code",
   "execution_count": 503,
   "metadata": {},
   "outputs": [
    {
     "data": {
      "text/plain": [
       "tensor([7.5109e-04, 5.3206e-05, 6.1816e-03, 9.9301e-01],\n",
       "       grad_fn=<SliceBackward0>)"
      ]
     },
     "execution_count": 503,
     "metadata": {},
     "output_type": "execute_result"
    }
   ],
   "source": [
    "batch = 2\n",
    "transition_tensor = transition_tensor[0:2,:,:]\n",
    "l = 1\n",
    "state_tensor = x[0:2, l, :]\n",
    "new_state, new_transition_tensor = model.step_coil(state_tensor, transition_tensor)\n",
    "new_state[1,:]"
   ]
  },
  {
   "cell_type": "code",
   "execution_count": 504,
   "metadata": {},
   "outputs": [],
   "source": [
    "states = []\n",
    "for step_state in range(100):\n",
    "    state_tensor, transition_tensor = model.step_coil(state_tensor, transition_tensor)\n",
    "    states.append(state_tensor)"
   ]
  },
  {
   "cell_type": "code",
   "execution_count": 505,
   "metadata": {},
   "outputs": [
    {
     "data": {
      "image/png": "[encoded data removed]",
      "text/plain": [
       "<Figure size 1000x600 with 1 Axes>"
      ]
     },
     "metadata": {},
     "output_type": "display_data"
    }
   ],
   "source": [
    "import matplotlib.pyplot as plt\n",
    "\n",
    "# Your data\n",
    "data = [row.to('cpu').detach().numpy() for row in states]\n",
    "# Transpose the data to get 5 traces\n",
    "traces = list(zip(*data))\n",
    "\n",
    "# Plotting\n",
    "plt.figure(figsize=(10, 6))\n",
    "for i, trace in enumerate(traces):\n",
    "    plt.plot(trace, label=f'Trace {i+1}')\n",
    "\n",
    "plt.xlabel('Timestep')\n",
    "plt.ylabel('Value')\n",
    "plt.legend()\n",
    "plt.show()"
   ]
  },
  {
   "cell_type": "markdown",
   "metadata": {},
   "source": [
    "# Example Training"
   ]
  },
  {
   "cell_type": "markdown",
   "metadata": {},
   "source": [
    "## Simple Data Generation"
   ]
  },
  {
   "cell_type": "code",
   "execution_count": 506,
   "metadata": {},
   "outputs": [],
   "source": [
    "import numpy as np\n",
    "import torch\n",
    "\n",
    "def generate_normalized_multivariate_time_series(n_features, total_length, amplitude=1.0):\n",
    "    t = np.linspace(0, 100 * np.pi, total_length)\n",
    "    series = np.zeros((total_length, n_features))\n",
    "    for i in range(n_features):\n",
    "        series[:, i] = amplitude * np.cos(t * (i + 1) / n_features) + 10\n",
    "    \n",
    "    # Normalize such that each timestep's values sum to 1\n",
    "    series_sum = np.sum(series, axis=1, keepdims=True)\n",
    "    series_normalized = series / series_sum\n",
    "    \n",
    "    return series_normalized\n",
    "\n",
    "def segment_time_series(series, length):\n",
    "    # Assuming series is a numpy array of shape [total_length, n_features]\n",
    "    total_length, n_features = series.shape\n",
    "    segments = []\n",
    "    for start in range(0, total_length - length, length):\n",
    "        segment = series[start:start + length]\n",
    "        segments.append(segment)\n",
    "    return np.stack(segments)\n"
   ]
  },
  {
   "cell_type": "code",
   "execution_count": 507,
   "metadata": {},
   "outputs": [],
   "source": [
    "n_features = 4\n",
    "length = 64  # Segment length\n",
    "total_length = 1024  # Arbitrary total length for the generated series\n",
    "\n",
    "# Generate and segment the time series\n",
    "series = generate_normalized_multivariate_time_series(n_features, total_length)\n",
    "series_x = series[:-1,]\n",
    "series_y = series[1:,]\n",
    "\n",
    "segments_x = segment_time_series(series_x, length)\n",
    "segments_y = segment_time_series(series_y, length)\n",
    "\n",
    "# Convert to tensors\n",
    "segments_tensor_x = torch.tensor(segments_x, dtype=torch.float)\n",
    "segments_tensor_y = torch.tensor(segments_y, dtype=torch.float)\n",
    "\n",
    "# Prepare inputs and targets\n",
    "X = segments_tensor_x\n",
    "# Shift segments to the right by one timestep to create the targets\n",
    "Y =  segments_tensor_y\n"
   ]
  },
  {
   "cell_type": "code",
   "execution_count": 508,
   "metadata": {},
   "outputs": [
    {
     "name": "stdout",
     "output_type": "stream",
     "text": [
      "Epoch [10/1000], Loss: 0.0002184117038268596\n",
      "Epoch [20/1000], Loss: 0.00023509592574555427\n",
      "Epoch [30/1000], Loss: 0.0001780418970156461\n",
      "Epoch [40/1000], Loss: 0.0001676565589150414\n",
      "Epoch [50/1000], Loss: 0.00014586937322746962\n",
      "Epoch [60/1000], Loss: 0.00012743542902171612\n",
      "Epoch [70/1000], Loss: 0.00010461370402481407\n",
      "Epoch [80/1000], Loss: 7.444529910571873e-05\n",
      "Epoch [90/1000], Loss: 5.903555211261846e-05\n",
      "Epoch [100/1000], Loss: 4.8104175220942125e-05\n",
      "Epoch [110/1000], Loss: 3.952764382120222e-05\n",
      "Epoch [120/1000], Loss: 3.275294147897512e-05\n",
      "Epoch [130/1000], Loss: 2.794418287521694e-05\n",
      "Epoch [140/1000], Loss: 2.4610872060293332e-05\n",
      "Epoch [150/1000], Loss: 2.233318446087651e-05\n",
      "Epoch [160/1000], Loss: 2.076125929306727e-05\n",
      "Epoch [170/1000], Loss: 1.9656419681268744e-05\n",
      "Epoch [180/1000], Loss: 1.8851285858545452e-05\n",
      "Epoch [190/1000], Loss: 1.823713319026865e-05\n",
      "Epoch [200/1000], Loss: 1.774609881977085e-05\n",
      "Epoch [210/1000], Loss: 1.7337149984086864e-05\n",
      "Epoch [220/1000], Loss: 1.6985757611109875e-05\n",
      "Epoch [230/1000], Loss: 1.667672404437326e-05\n",
      "Epoch [240/1000], Loss: 1.6400275853811763e-05\n",
      "Epoch [250/1000], Loss: 1.6149748262250796e-05\n",
      "Epoch [260/1000], Loss: 1.592031549080275e-05\n",
      "Epoch [270/1000], Loss: 1.5708299542893656e-05\n",
      "Epoch [280/1000], Loss: 1.5510768207604997e-05\n",
      "Epoch [290/1000], Loss: 1.5325365893659182e-05\n",
      "Epoch [300/1000], Loss: 1.515012718300568e-05\n",
      "Epoch [310/1000], Loss: 1.4983412256697193e-05\n",
      "Epoch [320/1000], Loss: 1.4823811397945974e-05\n",
      "Epoch [330/1000], Loss: 1.4670130440208595e-05\n",
      "Epoch [340/1000], Loss: 1.4521327102556825e-05\n",
      "Epoch [350/1000], Loss: 1.4376478247868363e-05\n",
      "Epoch [360/1000], Loss: 1.4234767149901018e-05\n",
      "Epoch [370/1000], Loss: 1.4095451660978142e-05\n",
      "Epoch [380/1000], Loss: 1.3957857845525723e-05\n",
      "Epoch [390/1000], Loss: 1.3821379070577677e-05\n",
      "Epoch [400/1000], Loss: 1.3685418707609642e-05\n",
      "Epoch [410/1000], Loss: 1.3549425602832343e-05\n",
      "Epoch [420/1000], Loss: 1.341288680123398e-05\n",
      "Epoch [430/1000], Loss: 1.3275265700940508e-05\n",
      "Epoch [440/1000], Loss: 1.3136072993802372e-05\n",
      "Epoch [450/1000], Loss: 1.2994790267839562e-05\n",
      "Epoch [460/1000], Loss: 1.2850899111072067e-05\n",
      "Epoch [470/1000], Loss: 1.2703854736173525e-05\n",
      "Epoch [480/1000], Loss: 1.2553093256428838e-05\n",
      "Epoch [490/1000], Loss: 1.2397986210999079e-05\n",
      "Epoch [500/1000], Loss: 1.2237860573804937e-05\n",
      "Epoch [510/1000], Loss: 1.2071955097781029e-05\n",
      "Epoch [520/1000], Loss: 1.1899419405381195e-05\n",
      "Epoch [530/1000], Loss: 1.1719281246769242e-05\n",
      "Epoch [540/1000], Loss: 1.153044377133483e-05\n",
      "Epoch [550/1000], Loss: 1.133165460487362e-05\n",
      "Epoch [560/1000], Loss: 1.112151312554488e-05\n",
      "Epoch [570/1000], Loss: 1.089849047275493e-05\n",
      "Epoch [580/1000], Loss: 1.0660945008567069e-05\n",
      "Epoch [590/1000], Loss: 1.0407276022306178e-05\n",
      "Epoch [600/1000], Loss: 1.013604378385935e-05\n",
      "Epoch [610/1000], Loss: 1.0048194781120401e-05\n",
      "Epoch [620/1000], Loss: 9.976973160519265e-06\n",
      "Epoch [630/1000], Loss: 1.0482151992619038e-05\n",
      "Epoch [640/1000], Loss: 9.291091373597737e-06\n",
      "Epoch [650/1000], Loss: 9.105403478315566e-06\n",
      "Epoch [660/1000], Loss: 8.753908332437277e-06\n",
      "Epoch [670/1000], Loss: 8.519938091922086e-06\n",
      "Epoch [680/1000], Loss: 8.262703886430245e-06\n",
      "Epoch [690/1000], Loss: 8.04130468168296e-06\n",
      "Epoch [700/1000], Loss: 7.977065251907334e-06\n",
      "Epoch [710/1000], Loss: 8.209910447476432e-06\n",
      "Epoch [720/1000], Loss: 1.1938090210605878e-05\n",
      "Epoch [730/1000], Loss: 9.108069207286462e-06\n",
      "Epoch [740/1000], Loss: 8.052284101722762e-06\n",
      "Epoch [750/1000], Loss: 7.566207841591677e-06\n",
      "Epoch [760/1000], Loss: 7.333788744290359e-06\n",
      "Epoch [770/1000], Loss: 7.153940714488272e-06\n",
      "Epoch [780/1000], Loss: 7.0677588155376725e-06\n",
      "Epoch [790/1000], Loss: 6.982152626733296e-06\n",
      "Epoch [800/1000], Loss: 6.908270279382123e-06\n",
      "Epoch [810/1000], Loss: 6.845500138297211e-06\n",
      "Epoch [820/1000], Loss: 6.788318387407344e-06\n",
      "Epoch [830/1000], Loss: 6.7361261244514026e-06\n",
      "Epoch [840/1000], Loss: 6.687392215098953e-06\n",
      "Epoch [850/1000], Loss: 6.6412003434379585e-06\n",
      "Epoch [860/1000], Loss: 6.597028459509602e-06\n",
      "Epoch [870/1000], Loss: 6.554397714353399e-06\n",
      "Epoch [880/1000], Loss: 6.512991603813134e-06\n",
      "Epoch [890/1000], Loss: 6.472670065704733e-06\n",
      "Epoch [900/1000], Loss: 6.460097210947424e-06\n",
      "Epoch [910/1000], Loss: 8.633975085103884e-06\n",
      "Epoch [920/1000], Loss: 6.383080744853942e-06\n",
      "Epoch [930/1000], Loss: 6.470748758147238e-06\n",
      "Epoch [940/1000], Loss: 6.372405550791882e-06\n",
      "Epoch [950/1000], Loss: 6.270902304095216e-06\n",
      "Epoch [960/1000], Loss: 6.226454388524871e-06\n",
      "Epoch [970/1000], Loss: 6.192166438268032e-06\n",
      "Epoch [980/1000], Loss: 6.1548385019705165e-06\n",
      "Epoch [990/1000], Loss: 6.118959390732925e-06\n",
      "Epoch [1000/1000], Loss: 6.083938842493808e-06\n"
     ]
    }
   ],
   "source": [
    "from torch import nn, optim\n",
    "\n",
    "# Model\n",
    "model = NeuralCoilLayer(\n",
    "    n_features = n_features\n",
    ")\n",
    "\n",
    "# Loss and optimizer\n",
    "criterion = nn.MSELoss()\n",
    "optimizer = optim.Adam(model.parameters(), lr=0.01)\n",
    "\n",
    "# Training loop\n",
    "epochs = 1000\n",
    "for epoch in range(epochs):\n",
    "    model.train()\n",
    "    optimizer.zero_grad()\n",
    "    # Forward pass\n",
    "    outputs, transition_tensor = model(X)\n",
    "    loss = criterion(outputs, Y)\n",
    "\n",
    "    # Backward and optimize\n",
    "    loss.backward()\n",
    "    optimizer.step()\n",
    "\n",
    "    if (epoch + 1) % 10 == 0:\n",
    "        print(f'Epoch [{epoch+1}/{epochs}], Loss: {loss.item()}')\n"
   ]
  },
  {
   "cell_type": "code",
   "execution_count": 509,
   "metadata": {},
   "outputs": [
    {
     "data": {
      "application/vnd.plotly.v1+json": {
       "config": {
        "plotlyServerURL": "https://plot.ly"
       },
       "data": [
        {
         "mode": "lines",
         "name": "Model Output",
         "type": "scatter",
         "x": [
          0,
          1,
          2,
          3,
          4,
          5,
          6,
          7,
          8,
          9,
          10,
          11,
          12,
          13,
          14,
          15,
          16,
          17,
          18,
          19,
          20,
          21,
          22,
          23,
          24,
          25,
          26,
          27,
          28,
          29,
          30,
          31,
          32,
          33,
          34,
          35,
          36,
          37,
          38,
          39,
          40,
          41,
          42,
          43,
          44,
          45,
          46,
          47,
          48,
          49,
          50,
          51,
          52,
          53,
          54,
          55,
          56,
          57,
          58,
          59,
          60,
          61,
          62,
          63
         ],
         "y": [
          0.25300365686416626,
          0.24083514511585236,
          0.23458115756511688,
          0.2351037561893463,
          0.23828545212745667,
          0.24233245849609375,
          0.24921177327632904,
          0.256686806678772,
          0.26407045125961304,
          0.2696332633495331,
          0.2736111581325531,
          0.2755115330219269,
          0.2756378948688507,
          0.2733969986438751,
          0.2696307897567749,
          0.26422566175460815,
          0.25806137919425964,
          0.25135254859924316,
          0.2449420690536499,
          0.23907513916492462,
          0.23444382846355438,
          0.2312362790107727,
          0.22990962862968445,
          0.23045775294303894,
          0.2330196499824524,
          0.23729875683784485,
          0.24305683374404907,
          0.24969899654388428,
          0.2566916346549988,
          0.26330316066741943,
          0.26896044611930847,
          0.2730862498283386,
          0.2753552794456482,
          0.2755574882030487,
          0.2737419307231903,
          0.27008435130119324,
          0.26495400071144104,
          0.2587943375110626,
          0.25215014815330505,
          0.24556247889995575,
          0.23957401514053345,
          0.23463831841945648,
          0.2311190515756607,
          0.22922144830226898,
          0.22900390625,
          0.23034456372261047,
          0.23298031091690063,
          0.23651579022407532,
          0.2404918521642685,
          0.24442362785339355,
          0.24787242710590363,
          0.2504770755767822,
          0.2519950270652771,
          0.2523037791252136,
          0.25140801072120667,
          0.24942108988761902,
          0.24655596911907196,
          0.2431032657623291,
          0.23941846191883087,
          0.23589694499969482,
          0.23295411467552185,
          0.23099085688591003,
          0.2303590029478073,
          0.23131400346755981
         ]
        },
        {
         "mode": "lines",
         "name": "Target",
         "type": "scatter",
         "x": [
          0,
          1,
          2,
          3,
          4,
          5,
          6,
          7,
          8,
          9,
          10,
          11,
          12,
          13,
          14,
          15,
          16,
          17,
          18,
          19,
          20,
          21,
          22,
          23,
          24,
          25,
          26,
          27,
          28,
          29,
          30,
          31,
          32,
          33,
          34,
          35,
          36,
          37,
          38,
          39,
          40,
          41,
          42,
          43,
          44,
          45,
          46,
          47,
          48,
          49,
          50,
          51,
          52,
          53,
          54,
          55,
          56,
          57,
          58,
          59,
          60,
          61,
          62,
          63
         ],
         "y": [
          0.23216553032398224,
          0.23077093064785004,
          0.23141252994537354,
          0.23404042422771454,
          0.23840691149234772,
          0.24409431219100952,
          0.25056329369544983,
          0.25721272826194763,
          0.2634410858154297,
          0.26870131492614746,
          0.272544264793396,
          0.27464941143989563,
          0.2748439610004425,
          0.27311205863952637,
          0.26959556341171265,
          0.26458659768104553,
          0.25851067900657654,
          0.2518983781337738,
          0.24534432590007782,
          0.23945458233356476,
          0.23478581011295319,
          0.231784388422966,
          0.23073501884937286,
          0.23172815144062042,
          0.23465269804000854,
          0.23921430110931396,
          0.2449745386838913,
          0.2514026165008545,
          0.25793009996414185,
          0.2640014886856079,
          0.2691161632537842,
          0.2728607952594757,
          0.2749333083629608,
          0.27516040205955505,
          0.27350980043411255,
          0.2700975835323334,
          0.26518768072128296,
          0.25918054580688477,
          0.25258615612983704,
          0.24597923457622528,
          0.2399383932352066,
          0.23497681319713593,
          0.2314767688512802,
          0.22964219748973846,
          0.22947999835014343,
          0.23081286251544952,
          0.23331819474697113,
          0.23658223450183868,
          0.24015681445598602,
          0.24360913038253784,
          0.246559739112854,
          0.24870789051055908,
          0.24984636902809143,
          0.24986906349658966,
          0.24877385795116425,
          0.24666276574134827,
          0.2437390685081482,
          0.2402999997138977,
          0.23672224581241608,
          0.23343713581562042,
          0.2308930903673172,
          0.22950635850429535,
          0.22960421442985535,
          0.2313707172870636
         ]
        }
       ],
       "layout": {
        "template": {
         "data": {
          "bar": [
           {
            "error_x": {
             "color": "#2a3f5f"
            },
            "error_y": {
             "color": "#2a3f5f"
            },
            "marker": {
             "line": {
              "color": "#E5ECF6",
              "width": 0.5
             },
             "pattern": {
              "fillmode": "overlay",
              "size": 10,
              "solidity": 0.2
             }
            },
            "type": "bar"
           }
          ],
          "barpolar": [
           {
            "marker": {
             "line": {
              "color": "#E5ECF6",
              "width": 0.5
             },
             "pattern": {
              "fillmode": "overlay",
              "size": 10,
              "solidity": 0.2
             }
            },
            "type": "barpolar"
           }
          ],
          "carpet": [
           {
            "aaxis": {
             "endlinecolor": "#2a3f5f",
             "gridcolor": "white",
             "linecolor": "white",
             "minorgridcolor": "white",
             "startlinecolor": "#2a3f5f"
            },
            "baxis": {
             "endlinecolor": "#2a3f5f",
             "gridcolor": "white",
             "linecolor": "white",
             "minorgridcolor": "white",
             "startlinecolor": "#2a3f5f"
            },
            "type": "carpet"
           }
          ],
          "choropleth": [
           {
            "colorbar": {
             "outlinewidth": 0,
             "ticks": ""
            },
            "type": "choropleth"
           }
          ],
          "contour": [
           {
            "colorbar": {
             "outlinewidth": 0,
             "ticks": ""
            },
            "colorscale": [
             [
              0,
              "#0d0887"
             ],
             [
              0.1111111111111111,
              "#46039f"
             ],
             [
              0.2222222222222222,
              "#7201a8"
             ],
             [
              0.3333333333333333,
              "#9c179e"
             ],
             [
              0.4444444444444444,
              "#bd3786"
             ],
             [
              0.5555555555555556,
              "#d8576b"
             ],
             [
              0.6666666666666666,
              "#ed7953"
             ],
             [
              0.7777777777777778,
              "#fb9f3a"
             ],
             [
              0.8888888888888888,
              "#fdca26"
             ],
             [
              1,
              "#f0f921"
             ]
            ],
            "type": "contour"
           }
          ],
          "contourcarpet": [
           {
            "colorbar": {
             "outlinewidth": 0,
             "ticks": ""
            },
            "type": "contourcarpet"
           }
          ],
          "heatmap": [
           {
            "colorbar": {
             "outlinewidth": 0,
             "ticks": ""
            },
            "colorscale": [
             [
              0,
              "#0d0887"
             ],
             [
              0.1111111111111111,
              "#46039f"
             ],
             [
              0.2222222222222222,
              "#7201a8"
             ],
             [
              0.3333333333333333,
              "#9c179e"
             ],
             [
              0.4444444444444444,
              "#bd3786"
             ],
             [
              0.5555555555555556,
              "#d8576b"
             ],
             [
              0.6666666666666666,
              "#ed7953"
             ],
             [
              0.7777777777777778,
              "#fb9f3a"
             ],
             [
              0.8888888888888888,
              "#fdca26"
             ],
             [
              1,
              "#f0f921"
             ]
            ],
            "type": "heatmap"
           }
          ],
          "heatmapgl": [
           {
            "colorbar": {
             "outlinewidth": 0,
             "ticks": ""
            },
            "colorscale": [
             [
              0,
              "#0d0887"
             ],
             [
              0.1111111111111111,
              "#46039f"
             ],
             [
              0.2222222222222222,
              "#7201a8"
             ],
             [
              0.3333333333333333,
              "#9c179e"
             ],
             [
              0.4444444444444444,
              "#bd3786"
             ],
             [
              0.5555555555555556,
              "#d8576b"
             ],
             [
              0.6666666666666666,
              "#ed7953"
             ],
             [
              0.7777777777777778,
              "#fb9f3a"
             ],
             [
              0.8888888888888888,
              "#fdca26"
             ],
             [
              1,
              "#f0f921"
             ]
            ],
            "type": "heatmapgl"
           }
          ],
          "histogram": [
           {
            "marker": {
             "pattern": {
              "fillmode": "overlay",
              "size": 10,
              "solidity": 0.2
             }
            },
            "type": "histogram"
           }
          ],
          "histogram2d": [
           {
            "colorbar": {
             "outlinewidth": 0,
             "ticks": ""
            },
            "colorscale": [
             [
              0,
              "#0d0887"
             ],
             [
              0.1111111111111111,
              "#46039f"
             ],
             [
              0.2222222222222222,
              "#7201a8"
             ],
             [
              0.3333333333333333,
              "#9c179e"
             ],
             [
              0.4444444444444444,
              "#bd3786"
             ],
             [
              0.5555555555555556,
              "#d8576b"
             ],
             [
              0.6666666666666666,
              "#ed7953"
             ],
             [
              0.7777777777777778,
              "#fb9f3a"
             ],
             [
              0.8888888888888888,
              "#fdca26"
             ],
             [
              1,
              "#f0f921"
             ]
            ],
            "type": "histogram2d"
           }
          ],
          "histogram2dcontour": [
           {
            "colorbar": {
             "outlinewidth": 0,
             "ticks": ""
            },
            "colorscale": [
             [
              0,
              "#0d0887"
             ],
             [
              0.1111111111111111,
              "#46039f"
             ],
             [
              0.2222222222222222,
              "#7201a8"
             ],
             [
              0.3333333333333333,
              "#9c179e"
             ],
             [
              0.4444444444444444,
              "#bd3786"
             ],
             [
              0.5555555555555556,
              "#d8576b"
             ],
             [
              0.6666666666666666,
              "#ed7953"
             ],
             [
              0.7777777777777778,
              "#fb9f3a"
             ],
             [
              0.8888888888888888,
              "#fdca26"
             ],
             [
              1,
              "#f0f921"
             ]
            ],
            "type": "histogram2dcontour"
           }
          ],
          "mesh3d": [
           {
            "colorbar": {
             "outlinewidth": 0,
             "ticks": ""
            },
            "type": "mesh3d"
           }
          ],
          "parcoords": [
           {
            "line": {
             "colorbar": {
              "outlinewidth": 0,
              "ticks": ""
             }
            },
            "type": "parcoords"
           }
          ],
          "pie": [
           {
            "automargin": true,
            "type": "pie"
           }
          ],
          "scatter": [
           {
            "fillpattern": {
             "fillmode": "overlay",
             "size": 10,
             "solidity": 0.2
            },
            "type": "scatter"
           }
          ],
          "scatter3d": [
           {
            "line": {
             "colorbar": {
              "outlinewidth": 0,
              "ticks": ""
             }
            },
            "marker": {
             "colorbar": {
              "outlinewidth": 0,
              "ticks": ""
             }
            },
            "type": "scatter3d"
           }
          ],
          "scattercarpet": [
           {
            "marker": {
             "colorbar": {
              "outlinewidth": 0,
              "ticks": ""
             }
            },
            "type": "scattercarpet"
           }
          ],
          "scattergeo": [
           {
            "marker": {
             "colorbar": {
              "outlinewidth": 0,
              "ticks": ""
             }
            },
            "type": "scattergeo"
           }
          ],
          "scattergl": [
           {
            "marker": {
             "colorbar": {
              "outlinewidth": 0,
              "ticks": ""
             }
            },
            "type": "scattergl"
           }
          ],
          "scattermapbox": [
           {
            "marker": {
             "colorbar": {
              "outlinewidth": 0,
              "ticks": ""
             }
            },
            "type": "scattermapbox"
           }
          ],
          "scatterpolar": [
           {
            "marker": {
             "colorbar": {
              "outlinewidth": 0,
              "ticks": ""
             }
            },
            "type": "scatterpolar"
           }
          ],
          "scatterpolargl": [
           {
            "marker": {
             "colorbar": {
              "outlinewidth": 0,
              "ticks": ""
             }
            },
            "type": "scatterpolargl"
           }
          ],
          "scatterternary": [
           {
            "marker": {
             "colorbar": {
              "outlinewidth": 0,
              "ticks": ""
             }
            },
            "type": "scatterternary"
           }
          ],
          "surface": [
           {
            "colorbar": {
             "outlinewidth": 0,
             "ticks": ""
            },
            "colorscale": [
             [
              0,
              "#0d0887"
             ],
             [
              0.1111111111111111,
              "#46039f"
             ],
             [
              0.2222222222222222,
              "#7201a8"
             ],
             [
              0.3333333333333333,
              "#9c179e"
             ],
             [
              0.4444444444444444,
              "#bd3786"
             ],
             [
              0.5555555555555556,
              "#d8576b"
             ],
             [
              0.6666666666666666,
              "#ed7953"
             ],
             [
              0.7777777777777778,
              "#fb9f3a"
             ],
             [
              0.8888888888888888,
              "#fdca26"
             ],
             [
              1,
              "#f0f921"
             ]
            ],
            "type": "surface"
           }
          ],
          "table": [
           {
            "cells": {
             "fill": {
              "color": "#EBF0F8"
             },
             "line": {
              "color": "white"
             }
            },
            "header": {
             "fill": {
              "color": "#C8D4E3"
             },
             "line": {
              "color": "white"
             }
            },
            "type": "table"
           }
          ]
         },
         "layout": {
          "annotationdefaults": {
           "arrowcolor": "#2a3f5f",
           "arrowhead": 0,
           "arrowwidth": 1
          },
          "autotypenumbers": "strict",
          "coloraxis": {
           "colorbar": {
            "outlinewidth": 0,
            "ticks": ""
           }
          },
          "colorscale": {
           "diverging": [
            [
             0,
             "#8e0152"
            ],
            [
             0.1,
             "#c51b7d"
            ],
            [
             0.2,
             "#de77ae"
            ],
            [
             0.3,
             "#f1b6da"
            ],
            [
             0.4,
             "#fde0ef"
            ],
            [
             0.5,
             "#f7f7f7"
            ],
            [
             0.6,
             "#e6f5d0"
            ],
            [
             0.7,
             "#b8e186"
            ],
            [
             0.8,
             "#7fbc41"
            ],
            [
             0.9,
             "#4d9221"
            ],
            [
             1,
             "#276419"
            ]
           ],
           "sequential": [
            [
             0,
             "#0d0887"
            ],
            [
             0.1111111111111111,
             "#46039f"
            ],
            [
             0.2222222222222222,
             "#7201a8"
            ],
            [
             0.3333333333333333,
             "#9c179e"
            ],
            [
             0.4444444444444444,
             "#bd3786"
            ],
            [
             0.5555555555555556,
             "#d8576b"
            ],
            [
             0.6666666666666666,
             "#ed7953"
            ],
            [
             0.7777777777777778,
             "#fb9f3a"
            ],
            [
             0.8888888888888888,
             "#fdca26"
            ],
            [
             1,
             "#f0f921"
            ]
           ],
           "sequentialminus": [
            [
             0,
             "#0d0887"
            ],
            [
             0.1111111111111111,
             "#46039f"
            ],
            [
             0.2222222222222222,
             "#7201a8"
            ],
            [
             0.3333333333333333,
             "#9c179e"
            ],
            [
             0.4444444444444444,
             "#bd3786"
            ],
            [
             0.5555555555555556,
             "#d8576b"
            ],
            [
             0.6666666666666666,
             "#ed7953"
            ],
            [
             0.7777777777777778,
             "#fb9f3a"
            ],
            [
             0.8888888888888888,
             "#fdca26"
            ],
            [
             1,
             "#f0f921"
            ]
           ]
          },
          "colorway": [
           "#636efa",
           "#EF553B",
           "#00cc96",
           "#ab63fa",
           "#FFA15A",
           "#19d3f3",
           "#FF6692",
           "#B6E880",
           "#FF97FF",
           "#FECB52"
          ],
          "font": {
           "color": "#2a3f5f"
          },
          "geo": {
           "bgcolor": "white",
           "lakecolor": "white",
           "landcolor": "#E5ECF6",
           "showlakes": true,
           "showland": true,
           "subunitcolor": "white"
          },
          "hoverlabel": {
           "align": "left"
          },
          "hovermode": "closest",
          "mapbox": {
           "style": "light"
          },
          "paper_bgcolor": "white",
          "plot_bgcolor": "#E5ECF6",
          "polar": {
           "angularaxis": {
            "gridcolor": "white",
            "linecolor": "white",
            "ticks": ""
           },
           "bgcolor": "#E5ECF6",
           "radialaxis": {
            "gridcolor": "white",
            "linecolor": "white",
            "ticks": ""
           }
          },
          "scene": {
           "xaxis": {
            "backgroundcolor": "#E5ECF6",
            "gridcolor": "white",
            "gridwidth": 2,
            "linecolor": "white",
            "showbackground": true,
            "ticks": "",
            "zerolinecolor": "white"
           },
           "yaxis": {
            "backgroundcolor": "#E5ECF6",
            "gridcolor": "white",
            "gridwidth": 2,
            "linecolor": "white",
            "showbackground": true,
            "ticks": "",
            "zerolinecolor": "white"
           },
           "zaxis": {
            "backgroundcolor": "#E5ECF6",
            "gridcolor": "white",
            "gridwidth": 2,
            "linecolor": "white",
            "showbackground": true,
            "ticks": "",
            "zerolinecolor": "white"
           }
          },
          "shapedefaults": {
           "line": {
            "color": "#2a3f5f"
           }
          },
          "ternary": {
           "aaxis": {
            "gridcolor": "white",
            "linecolor": "white",
            "ticks": ""
           },
           "baxis": {
            "gridcolor": "white",
            "linecolor": "white",
            "ticks": ""
           },
           "bgcolor": "#E5ECF6",
           "caxis": {
            "gridcolor": "white",
            "linecolor": "white",
            "ticks": ""
           }
          },
          "title": {
           "x": 0.05
          },
          "xaxis": {
           "automargin": true,
           "gridcolor": "white",
           "linecolor": "white",
           "ticks": "",
           "title": {
            "standoff": 15
           },
           "zerolinecolor": "white",
           "zerolinewidth": 2
          },
          "yaxis": {
           "automargin": true,
           "gridcolor": "white",
           "linecolor": "white",
           "ticks": "",
           "title": {
            "standoff": 15
           },
           "zerolinecolor": "white",
           "zerolinewidth": 2
          }
         }
        },
        "title": {
         "text": "Model Output vs Target for Feature 3, Batch 3"
        },
        "xaxis": {
         "title": {
          "text": "Timestep"
         }
        },
        "yaxis": {
         "title": {
          "text": "Value"
         }
        }
       }
      }
     },
     "metadata": {},
     "output_type": "display_data"
    }
   ],
   "source": [
    "import plotly.graph_objects as go\n",
    "\n",
    "def plot_model_output_vs_target(model_outputs, targets, batch_index=0, feature_index=0):\n",
    "    # Extract the specified feature for the given batch from both the model outputs and targets\n",
    "    model_output_series = model_outputs[batch_index, :, feature_index].detach().numpy()\n",
    "    target_series = targets[batch_index, :, feature_index].numpy()\n",
    "    \n",
    "    # Create a range for the x-axis (timesteps)\n",
    "    timesteps = list(range(model_output_series.shape[0]))\n",
    "    \n",
    "    # Create traces\n",
    "    model_trace = go.Scatter(x=timesteps, y=model_output_series, mode='lines', name='Model Output')\n",
    "    target_trace = go.Scatter(x=timesteps, y=target_series, mode='lines', name='Target')\n",
    "    \n",
    "    # Create the figure and add traces\n",
    "    fig = go.Figure()\n",
    "    fig.add_trace(model_trace)\n",
    "    fig.add_trace(target_trace)\n",
    "    \n",
    "    # Add title and labels\n",
    "    fig.update_layout(title=f'Model Output vs Target for Feature {feature_index}, Batch {batch_index}',\n",
    "                      xaxis_title='Timestep',\n",
    "                      yaxis_title='Value')\n",
    "    \n",
    "    # Show the figure\n",
    "    fig.show()\n",
    "\n",
    "# Assuming `y` and `Y` are your model outputs and targets, respectively\n",
    "# Adjust batch_index and feature_index as needed\n",
    "plot_model_output_vs_target(outputs, Y, batch_index=3, feature_index=3)\n"
   ]
  },
  {
   "cell_type": "code",
   "execution_count": 510,
   "metadata": {},
   "outputs": [
    {
     "data": {
      "image/png": "[encoded data removed]",
      "text/plain": [
       "<Figure size 1000x600 with 1 Axes>"
      ]
     },
     "metadata": {},
     "output_type": "display_data"
    }
   ],
   "source": [
    "states = []\n",
    "batch = 3\n",
    "state_tensor = outputs[:,length-1,:]\n",
    "batch_size = 15\n",
    "transition_tensor = torch.zeros(batch_size, n_features, n_features)\n",
    "for step_state in range(100):\n",
    "    state_tensor, transition_tensor = model.step_coil(state_tensor, transition_tensor)\n",
    "    states.append(state_tensor[batch,:])\n",
    "    \n",
    "\n",
    "# Your data\n",
    "data = [row.to('cpu').detach().numpy() for row in states]\n",
    "# Transpose the data to get 5 traces\n",
    "traces = list(zip(*data))\n",
    "\n",
    "# Plotting\n",
    "plt.figure(figsize=(10, 6))\n",
    "for i, trace in enumerate(traces):\n",
    "    plt.plot(trace, label=f'Trace {i+1}')\n",
    "\n",
    "plt.xlabel('Timestep')\n",
    "plt.ylabel('Value')\n",
    "plt.legend()\n",
    "plt.show()"
   ]
  }
 ],
 "metadata": {
  "kernelspec": {
   "display_name": "coilspy-1sgZ1XBf-py3.12",
   "language": "python",
   "name": "python3"
  },
  "language_info": {
   "codemirror_mode": {
    "name": "ipython",
    "version": 3
   },
   "file_extension": ".py",
   "mimetype": "text/x-python",
   "name": "python",
   "nbconvert_exporter": "python",
   "pygments_lexer": "ipython3",
   "version": "3.12.2"
  }
 },
 "nbformat": 4,
 "nbformat_minor": 2
}
