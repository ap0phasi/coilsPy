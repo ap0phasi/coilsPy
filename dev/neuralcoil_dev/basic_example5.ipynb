{
 "cells": [
  {
   "cell_type": "code",
   "execution_count": 1,
   "metadata": {},
   "outputs": [],
   "source": [
    "import torch\n",
    "import torch.nn as nn\n",
    "\n",
    "class CustomLayer(nn.Module):\n",
    "    def __init__(self, n_features):\n",
    "        super(CustomLayer, self).__init__()\n",
    "        self.n_features = n_features\n",
    "        # Initialize the interaction tensor as a learnable parameter\n",
    "        self.interaction_tensor = nn.Parameter(torch.randn(n_features, n_features, n_features))\n",
    "\n",
    "    def forward(self, x):\n",
    "        # x is expected to be of size [batch, length, n_features]\n",
    "        batch, length, n_features = x.size()\n",
    "\n",
    "        # Process each [n_features] vector across batch and length\n",
    "        output = x.new_empty(batch, length, n_features)\n",
    "        for b in range(batch):\n",
    "            for l in range(length):\n",
    "                state_tensor = x[b, l, :]  # Shape: [n_features]\n",
    "                # Step 1: Multiply state tensor by interaction tensor to get transition tensor\n",
    "                # We manually implement the multiplication to match your operation\n",
    "                transition_tensor = torch.einsum('i,ijk->jk', state_tensor, self.interaction_tensor)\n",
    "                # Step 2: Multiply the transition tensor by the state tensor\n",
    "                # Resulting shape: [n_features]\n",
    "                output[b, l, :] = torch.matmul(transition_tensor, state_tensor)\n",
    "\n",
    "        return output\n"
   ]
  },
  {
   "cell_type": "code",
   "execution_count": 2,
   "metadata": {},
   "outputs": [],
   "source": [
    "import torch\n",
    "import torch.nn as nn\n",
    "\n",
    "class CustomLayerVectorized(nn.Module):\n",
    "    def __init__(self, n_features):\n",
    "        super(CustomLayerVectorized, self).__init__()\n",
    "        self.n_features = n_features\n",
    "        # Initialize the interaction tensor as a learnable parameter\n",
    "        self.interaction_tensor = nn.Parameter(torch.randn(n_features, n_features, n_features))\n",
    "\n",
    "    def forward(self, x):\n",
    "        # x is expected to be of size [batch, length, n_features]\n",
    "        batch, length, n_features = x.size()\n",
    "\n",
    "        # Pre-allocate output tensor\n",
    "        output = x.new_empty(batch, length, n_features)\n",
    "\n",
    "        # Loop over length, but vectorize over the batch\n",
    "        for l in range(length):\n",
    "            # Extract all vectors at position l across all batches\n",
    "            state_tensor = x[:, l, :]  # Shape: [batch, n_features]\n",
    "            \n",
    "            # Vectorized operation for all batches\n",
    "            # Step 1: Calculate the transition tensor\n",
    "            # Since we cannot directly use einsum for batched operation in this specific scenario,\n",
    "            # we manually broadcast and multiply to achieve the intended result.\n",
    "            # This involves expanding dimensions to enable broadcasting.\n",
    "            state_tensor_expanded = state_tensor.unsqueeze(1).expand(-1, n_features, -1)  # Shape: [batch, n_features, n_features]\n",
    "            interaction_tensor_expanded = self.interaction_tensor.unsqueeze(0).expand(batch, -1, -1, -1)  # Shape: [batch, n_features, n_features, n_features]\n",
    "            # Multiply and sum over the last dimension to get the transition tensor\n",
    "            transition_tensor = torch.einsum('bik,bijk->bij', state_tensor_expanded, interaction_tensor_expanded)\n",
    "            \n",
    "            # Step 2: Multiply the transition tensor by the state tensor to get the output\n",
    "            output[:, l, :] = torch.einsum('bij,bj->bi', transition_tensor, state_tensor)\n",
    "\n",
    "        return output\n",
    "\n"
   ]
  },
  {
   "cell_type": "code",
   "execution_count": 3,
   "metadata": {},
   "outputs": [],
   "source": [
    "# n_features = 16\n",
    "# batch, length, dim = 2, 64, n_features\n",
    "# x = torch.randn(batch, length, dim)\n",
    "# model = CustomLayerVectorized(\n",
    "#     n_features = n_features\n",
    "# )\n",
    "# y = model(x)\n",
    "\n",
    "# print(x.shape)\n",
    "# assert y.shape == x.shape"
   ]
  },
  {
   "cell_type": "code",
   "execution_count": 4,
   "metadata": {},
   "outputs": [
    {
     "name": "stdout",
     "output_type": "stream",
     "text": [
      "tensor([[0.0604, 0.0849, 0.2755, 0.2875, 0.1047, 0.1870],\n",
      "        [0.2139, 0.2688, 0.1137, 0.1016, 0.1249, 0.1771],\n",
      "        [0.1133, 0.2696, 0.0415, 0.1722, 0.2055, 0.1978],\n",
      "        [0.0086, 0.0258, 0.0181, 0.3789, 0.1256, 0.4431],\n",
      "        [0.0090, 0.2510, 0.1919, 0.1508, 0.1966, 0.2008]])\n",
      "tensor([1.0000, 1.0000, 1.0000, 1.0000, 1.0000])\n"
     ]
    }
   ],
   "source": [
    "import torch\n",
    "\n",
    "def torch_randnorm(size, dim=0):\n",
    "    # Generate a random tensor\n",
    "    rand_tensor = torch.rand(size)\n",
    "    \n",
    "    # Normalize along the specified dimension\n",
    "    sum_along_dim = torch.sum(rand_tensor, dim=dim, keepdim=True)\n",
    "    normalized_tensor = rand_tensor / sum_along_dim\n",
    "    \n",
    "    return normalized_tensor\n",
    "\n",
    "# Example usage\n",
    "normalized_tensor = torch_randnorm([5,6], dim=1)\n",
    "print(normalized_tensor)\n",
    "print(normalized_tensor.sum(dim=1))"
   ]
  },
  {
   "cell_type": "code",
   "execution_count": 5,
   "metadata": {},
   "outputs": [],
   "source": [
    "class InteractionModule(nn.Module):\n",
    "    def __init__(self, n_features):\n",
    "        super(InteractionModule, self).__init__()\n",
    "        self.n_features = n_features\n",
    "        # Initialize a set of interaction tensors, one for the state tensor and one for each column of the transition tensor\n",
    "        self.interaction_tensors = nn.ParameterList([nn.Parameter(torch_randnorm([n_features, n_features, n_features], dim = 1)) for _ in range(n_features + 1)])\n",
    "\n",
    "    def forward(self, state_tensor, previous_transition_tensor):\n",
    "        # Get batch size\n",
    "        batch = state_tensor.shape[0]\n",
    "        # Assuming previous_transition_tensors is a list of transition tensors from the previous step\n",
    "        candidates = []\n",
    "        for i in range(self.n_features + 1):\n",
    "            if i == 0:  # Interaction with the state tensor\n",
    "                current_tensor = state_tensor\n",
    "            else:  # Interaction with columns of the previous transition tensor\n",
    "                current_tensor = previous_transition_tensor[:, :, i - 1]\n",
    "\n",
    "            interaction_tensor = self.interaction_tensors[i]\n",
    "            current_tensor_expanded = current_tensor.unsqueeze(1).expand(-1, self.n_features, -1)  # Shape: [batch, n_features, n_features]\n",
    "            interaction_tensor_expanded = interaction_tensor.unsqueeze(0).expand(batch, -1, -1, -1)  # Shape: [batch, n_features, n_features, n_features]\n",
    "            # Multiply and sum over the last dimension to get the transition tensor\n",
    "            candidate = torch.einsum('bik,bijk->bij', current_tensor_expanded, interaction_tensor_expanded)\n",
    "            \n",
    "            candidates.append(candidate)\n",
    "            \n",
    "        candidates_tensor = torch.stack(candidates, dim = -1)\n",
    "        return candidates_tensor\n"
   ]
  },
  {
   "cell_type": "code",
   "execution_count": null,
   "metadata": {},
   "outputs": [],
   "source": []
  },
  {
   "cell_type": "code",
   "execution_count": 6,
   "metadata": {},
   "outputs": [],
   "source": [
    "class CustomLayerExtended(nn.Module):\n",
    "    def __init__(self, n_features):\n",
    "        super(CustomLayerExtended, self).__init__()\n",
    "        self.n_features = n_features\n",
    "        self.interaction_module = InteractionModule(n_features)\n",
    "        self.selector_module = SelectorModule(n_features + 1)\n",
    "\n",
    "    def forward(self, x):\n",
    "        batch, length, n_features = x.size()\n",
    "        output = x.new_empty(batch, length, n_features)\n",
    "\n",
    "        # Initialize previous transition tensors (for the first step)\n",
    "        # Assuming it's a list of zero tensors for simplicity\n",
    "        previous_transition_tensor = torch.zeros(batch, n_features, n_features)\n",
    "\n",
    "        for l in range(length):\n",
    "            state_tensor = x[:, l, :]\n",
    "            # Generate candidates\n",
    "            candidates = self.interaction_module(state_tensor, previous_transition_tensor)\n",
    "            # Select one candidate\n",
    "            selected_transition_tensor = self.selector_module(candidates)\n",
    "            # Update the previous_transition_tensors for the next iteration\n",
    "            previous_transition_tensor = selected_transition_tensor\n",
    "            # Compute output for this step\n",
    "            output[:, l, :] = torch.matmul(selected_transition_tensor, state_tensor.unsqueeze(-1)).squeeze(-1)\n",
    "\n",
    "        return output, selected_transition_tensor\n"
   ]
  },
  {
   "cell_type": "code",
   "execution_count": 7,
   "metadata": {},
   "outputs": [
    {
     "name": "stdout",
     "output_type": "stream",
     "text": [
      "torch.Size([10, 5, 5])\n"
     ]
    }
   ],
   "source": [
    "import torch\n",
    "import torch.nn as nn\n",
    "import torch.nn.functional as F\n",
    "\n",
    "class SelectorModule(nn.Module):\n",
    "    def __init__(self, num_slices):\n",
    "        super(SelectorModule, self).__init__()\n",
    "        # A simple linear layer to compute importance scores for each slice\n",
    "        self.importance = nn.Linear(num_slices, num_slices)\n",
    "\n",
    "    def forward(self, x, temperature=1):\n",
    "        # Assuming x is of shape [batch_size, height, width, num_slices]\n",
    "        batch_size, _, _, num_slices = x.shape\n",
    "\n",
    "        # Compute importance scores by reducing x across spatial dimensions\n",
    "        # Here, we take the mean of x across the spatial dimensions to get a vector per slice\n",
    "        x_reduced = x.mean(dim=[1, 2])  # Shape: [batch_size, num_slices]\n",
    "\n",
    "        # Compute scores for each slice\n",
    "        scores = self.importance(x_reduced)  # Shape: [batch_size, num_slices]\n",
    "        \n",
    "        # Apply Gumbel-Softmax to approximate a discrete selection of slices\n",
    "        weights = F.gumbel_softmax(scores, tau=temperature, hard=False, dim=-1)\n",
    "        #weights = torch.softmax(scores,dim=-1)\n",
    "        #print(weights)\n",
    "        # Correct application of weights:\n",
    "        # We need to ensure weights are applied across the num_slices dimension correctly.\n",
    "        # Since weights are [batch_size, num_slices] and x is [batch_size, height, width, num_slices],\n",
    "        # we permute x to bring num_slices to the front for broadcasting.\n",
    "        x_permuted = x.permute(0, 3, 1, 2)  # Shape: [batch_size, num_slices, height, width]\n",
    "        \n",
    "        # Now, multiply by weights. We need to reshape weights to [batch_size, num_slices, 1, 1] for broadcasting.\n",
    "        weighted_slices = x_permuted * weights.view(batch_size, num_slices, 1, 1)\n",
    "        \n",
    "        # Finally, sum the weighted slices across the num_slices dimension (now the first dimension after permute)\n",
    "        selected = weighted_slices.sum(dim=1)  # Shape: [batch_size, height, width]\n",
    "\n",
    "        return selected\n",
    "\n",
    "# Example usage\n",
    "batch_size = 10\n",
    "tensor = torch.rand(batch_size, 5, 5, 6)  # Example tensor\n",
    "model = SelectorModule(num_slices=6)\n",
    "\n",
    "result = model(tensor)\n",
    "print(result.shape)  # Should print torch.Size([10, 5, 5])\n"
   ]
  },
  {
   "cell_type": "code",
   "execution_count": 8,
   "metadata": {},
   "outputs": [
    {
     "name": "stdout",
     "output_type": "stream",
     "text": [
      "torch.Size([13, 64, 16])\n"
     ]
    }
   ],
   "source": [
    "n_features = 16\n",
    "batch, length, dim = 13, 64, n_features\n",
    "x = torch.randn(batch, length, dim)\n",
    "model = CustomLayerExtended(\n",
    "    n_features = n_features\n",
    ")\n",
    "y = model(x)\n",
    "\n",
    "print(y[0].shape)\n",
    "assert y[0].shape == x.shape"
   ]
  },
  {
   "cell_type": "code",
   "execution_count": 9,
   "metadata": {},
   "outputs": [
    {
     "name": "stdout",
     "output_type": "stream",
     "text": [
      "(tensor([[[ 9.4263e-02,  1.1367e-01,  8.3473e-02,  ...,  8.9588e-02,\n",
      "           8.2962e-02,  1.0177e-01],\n",
      "         [ 1.9900e-01,  1.9505e-01,  1.9747e-01,  ...,  2.0354e-01,\n",
      "           2.1110e-01,  1.9641e-01],\n",
      "         [-6.3140e-02, -4.5044e-02, -5.1743e-02,  ..., -4.8966e-02,\n",
      "          -5.7270e-02, -5.2502e-02],\n",
      "         ...,\n",
      "         [ 8.0808e-03,  3.3819e-02,  2.4664e-02,  ...,  2.9776e-02,\n",
      "           2.8947e-02,  1.0907e-02],\n",
      "         [-2.6954e-02, -4.1320e-02, -3.2266e-02,  ..., -3.9027e-02,\n",
      "          -2.6982e-02, -5.8356e-02],\n",
      "         [ 1.5425e-02,  1.7319e-02,  1.4288e-02,  ...,  1.7306e-02,\n",
      "           1.4322e-02,  2.2510e-02]],\n",
      "\n",
      "        [[ 1.2965e-02,  1.4298e-02, -4.6343e-03,  ..., -1.3616e-02,\n",
      "           1.6476e-02,  2.1727e-02],\n",
      "         [ 4.7566e-02,  6.1288e-02,  9.2243e-02,  ...,  4.4594e-02,\n",
      "           8.4224e-02,  7.0112e-02],\n",
      "         [-4.8003e-02,  5.9142e-02, -4.0344e-02,  ..., -1.3980e-02,\n",
      "          -7.4302e-02,  7.7135e-02],\n",
      "         ...,\n",
      "         [ 5.0600e-02,  9.5747e-02,  2.6785e-02,  ...,  5.4471e-02,\n",
      "           6.7578e-02,  2.1503e-02],\n",
      "         [-1.4716e-03, -8.7047e-04, -2.0822e-02,  ..., -8.4099e-03,\n",
      "           1.3749e-02, -1.5272e-03],\n",
      "         [ 9.7753e-02,  1.5520e+00,  9.8852e-01,  ...,  1.2961e+00,\n",
      "           4.4790e-01,  4.5659e-01]],\n",
      "\n",
      "        [[ 1.7458e-01,  1.9991e-01,  1.5083e-01,  ...,  2.5652e-01,\n",
      "           1.4509e-01,  1.4151e-01],\n",
      "         [ 2.1105e-02,  3.3609e-02,  1.2971e-02,  ..., -4.8912e-03,\n",
      "           2.4957e-02,  2.9355e-02],\n",
      "         [ 8.7786e-02,  1.1650e-01,  8.9613e-02,  ...,  1.2344e-01,\n",
      "           1.1967e-01,  1.3018e-01],\n",
      "         ...,\n",
      "         [ 5.4701e-01,  1.1223e+00,  8.9855e-01,  ...,  1.0689e+00,\n",
      "          -7.9999e-02,  9.5714e-01],\n",
      "         [-3.1104e-01, -4.3694e-01, -3.8952e-01,  ..., -3.9375e-01,\n",
      "          -3.8406e-01, -3.9048e-01],\n",
      "         [ 2.8808e-01,  3.0278e-01,  3.4637e-01,  ...,  3.3979e-01,\n",
      "           3.4575e-01,  3.7077e-01]],\n",
      "\n",
      "        ...,\n",
      "\n",
      "        [[-2.0564e-03,  3.3157e-02, -5.9693e-03,  ...,  6.2152e-02,\n",
      "           2.8208e-02, -2.0446e-02],\n",
      "         [ 4.8206e-02,  5.0107e-03,  3.7375e-02,  ..., -8.4413e-03,\n",
      "           3.2389e-02,  3.4597e-02],\n",
      "         [-1.2092e-02, -1.3789e-02,  9.4162e-03,  ..., -2.8282e-02,\n",
      "          -2.4753e-02, -2.1787e-02],\n",
      "         ...,\n",
      "         [ 1.0927e+00,  1.3265e+00,  8.6580e-01,  ...,  1.0997e+00,\n",
      "           5.0232e-01,  8.6349e-01],\n",
      "         [ 3.7756e-01,  4.3630e-01,  3.5918e-01,  ...,  3.7494e-01,\n",
      "           4.0466e-01,  3.1154e-01],\n",
      "         [-4.3873e-01, -4.0495e-01, -4.1065e-01,  ..., -3.7002e-01,\n",
      "          -3.9895e-01, -4.2388e-01]],\n",
      "\n",
      "        [[ 1.9035e-03, -3.6542e-03,  3.5413e-04,  ...,  1.4563e-02,\n",
      "           1.1266e-03, -1.2853e-02],\n",
      "         [ 6.4616e-02,  4.8867e-02,  6.0972e-02,  ...,  5.4444e-02,\n",
      "           4.1935e-02,  4.6905e-02],\n",
      "         [ 4.6574e-02,  3.8048e-02,  4.7307e-02,  ...,  4.3521e-02,\n",
      "           4.8459e-02,  3.5668e-02],\n",
      "         ...,\n",
      "         [-1.2510e-02, -3.4908e-02, -3.6069e-02,  ..., -4.1723e-02,\n",
      "          -5.0494e-02,  7.7724e-04],\n",
      "         [-4.2719e-01, -4.0560e-01, -3.6484e-01,  ..., -3.9338e-01,\n",
      "          -4.1199e-01, -3.6676e-01],\n",
      "         [ 4.4162e-01,  4.6530e-01,  4.2894e-01,  ...,  3.9460e-01,\n",
      "           4.3563e-01,  3.7223e-01]],\n",
      "\n",
      "        [[ 6.6477e-03,  7.6475e-03, -1.9468e-02,  ...,  4.1019e-03,\n",
      "           1.5824e-02,  1.6773e-02],\n",
      "         [-2.1967e-03,  7.4601e-03, -4.0284e-03,  ..., -1.2533e-03,\n",
      "          -1.5223e-03,  2.7275e-03],\n",
      "         [ 4.8709e-03,  2.9809e-03,  1.2111e-03,  ..., -1.0732e-03,\n",
      "          -2.0403e-03, -6.0351e-03],\n",
      "         ...,\n",
      "         [-4.0863e-01, -3.8814e-01, -3.7879e-01,  ..., -4.1211e-01,\n",
      "          -3.8798e-01, -4.0868e-01],\n",
      "         [ 2.2592e-01,  3.1213e-01,  2.6621e-01,  ...,  1.5535e-01,\n",
      "           2.2288e-01,  4.2878e-01],\n",
      "         [-3.6467e-01, -3.3058e-01, -3.5471e-01,  ..., -3.1726e-01,\n",
      "          -3.2387e-01, -2.9461e-01]]], grad_fn=<CopySlices>), tensor([[[-0.0034, -0.0063, -0.0042,  ..., -0.0074, -0.0029, -0.0032],\n",
      "         [-0.0080, -0.0051, -0.0062,  ..., -0.0042, -0.0036, -0.0067],\n",
      "         [-0.0063, -0.0036, -0.0063,  ..., -0.0051, -0.0063, -0.0051],\n",
      "         ...,\n",
      "         [-0.0055, -0.0047, -0.0081,  ..., -0.0055, -0.0076, -0.0048],\n",
      "         [-0.0044, -0.0079, -0.0044,  ..., -0.0046, -0.0049, -0.0066],\n",
      "         [-0.0055, -0.0059, -0.0053,  ..., -0.0055, -0.0057, -0.0067]],\n",
      "\n",
      "        [[ 0.2383,  0.2835,  0.2714,  ...,  0.3886,  0.3406, -0.0343],\n",
      "         [ 0.3422,  0.2390,  0.2326,  ...,  0.4159,  0.3639,  0.3518],\n",
      "         [ 0.2992,  0.1798,  0.2857,  ...,  0.4449,  0.2589,  0.0785],\n",
      "         ...,\n",
      "         [ 0.3392,  0.1812,  0.2437,  ...,  0.4679,  0.3448,  0.2503],\n",
      "         [ 0.1437,  0.4288,  0.2257,  ...,  0.4763,  0.2431,  0.3147],\n",
      "         [ 0.1602,  0.3192,  0.3241,  ...,  0.3636,  0.5910,  0.0411]],\n",
      "\n",
      "        [[ 0.2459,  0.2302,  0.2387,  ...,  0.2178,  0.2248,  0.2559],\n",
      "         [ 0.2450,  0.2569,  0.2518,  ...,  0.2591,  0.2322,  0.2211],\n",
      "         [ 0.2466,  0.2308,  0.2483,  ...,  0.2521,  0.2394,  0.2390],\n",
      "         ...,\n",
      "         [ 0.2473,  0.2354,  0.2345,  ...,  0.2449,  0.2372,  0.2364],\n",
      "         [ 0.2414,  0.2498,  0.2433,  ...,  0.2394,  0.2484,  0.2274],\n",
      "         [ 0.2421,  0.2461,  0.2052,  ...,  0.2596,  0.2259,  0.2335]],\n",
      "\n",
      "        ...,\n",
      "\n",
      "        [[-0.1590, -0.1481, -0.1579,  ..., -0.1406, -0.1449, -0.1581],\n",
      "         [-0.1509, -0.1590, -0.1614,  ..., -0.1626, -0.1523, -0.1342],\n",
      "         [-0.1560, -0.1477, -0.1591,  ..., -0.1654, -0.1452, -0.1510],\n",
      "         ...,\n",
      "         [-0.1601, -0.1562, -0.1459,  ..., -0.1609, -0.1588, -0.1472],\n",
      "         [-0.1549, -0.1596, -0.1469,  ..., -0.1584, -0.1560, -0.1439],\n",
      "         [-0.1571, -0.1480, -0.1300,  ..., -0.1693, -0.1444, -0.1450]],\n",
      "\n",
      "        [[-0.1384, -0.1322, -0.1253,  ..., -0.1253, -0.1315, -0.1401],\n",
      "         [-0.1455, -0.1449, -0.1376,  ..., -0.1267, -0.1338, -0.1344],\n",
      "         [-0.1354, -0.1408, -0.1319,  ..., -0.1403, -0.1337, -0.1381],\n",
      "         ...,\n",
      "         [-0.1323, -0.1471, -0.1417,  ..., -0.1253, -0.1320, -0.1530],\n",
      "         [-0.1244, -0.1328, -0.1397,  ..., -0.1199, -0.1433, -0.1324],\n",
      "         [-0.1451, -0.1381, -0.1405,  ..., -0.1423, -0.1504, -0.1438]],\n",
      "\n",
      "        [[ 0.1273,  0.1325,  0.1391,  ...,  0.1145,  0.1313,  0.1277],\n",
      "         [ 0.1236,  0.1279,  0.1387,  ...,  0.1250,  0.1247,  0.1257],\n",
      "         [ 0.1298,  0.1272,  0.1327,  ...,  0.1417,  0.1174,  0.1191],\n",
      "         ...,\n",
      "         [ 0.1319,  0.1271,  0.1295,  ...,  0.1297,  0.1371,  0.1233],\n",
      "         [ 0.1284,  0.1266,  0.1154,  ...,  0.1415,  0.1144,  0.1297],\n",
      "         [ 0.1313,  0.1292,  0.1091,  ...,  0.1336,  0.1393,  0.1177]]],\n",
      "       grad_fn=<SumBackward1>))\n"
     ]
    }
   ],
   "source": [
    "print(y)"
   ]
  },
  {
   "cell_type": "markdown",
   "metadata": {},
   "source": [
    "# Example Training"
   ]
  },
  {
   "cell_type": "markdown",
   "metadata": {},
   "source": [
    "## Simple Data Generation"
   ]
  },
  {
   "cell_type": "code",
   "execution_count": 10,
   "metadata": {},
   "outputs": [],
   "source": [
    "import numpy as np\n",
    "import torch\n",
    "\n",
    "def generate_normalized_multivariate_time_series(n_features, total_length, amplitude=1.0):\n",
    "    t = np.linspace(0, 100 * np.pi, total_length)\n",
    "    series = np.zeros((total_length, n_features))\n",
    "    for i in range(n_features):\n",
    "        series[:, i] = amplitude * np.cos(t * (i + 1) / n_features) + 10\n",
    "    \n",
    "    # Normalize such that each timestep's values sum to 1\n",
    "    series_sum = np.sum(series, axis=1, keepdims=True)\n",
    "    series_normalized = series / series_sum\n",
    "    \n",
    "    return series_normalized\n",
    "\n",
    "def segment_time_series(series, length):\n",
    "    # Assuming series is a numpy array of shape [total_length, n_features]\n",
    "    total_length, n_features = series.shape\n",
    "    segments = []\n",
    "    for start in range(0, total_length - length, length):\n",
    "        segment = series[start:start + length]\n",
    "        segments.append(segment)\n",
    "    return np.stack(segments)\n"
   ]
  },
  {
   "cell_type": "code",
   "execution_count": 11,
   "metadata": {},
   "outputs": [],
   "source": [
    "n_features = 4\n",
    "length = 64  # Segment length\n",
    "total_length = 1024  # Arbitrary total length for the generated series\n",
    "\n",
    "# Generate and segment the time series\n",
    "series = generate_normalized_multivariate_time_series(n_features, total_length)\n",
    "series_x = series[:-1,]\n",
    "series_y = series[1:,]\n",
    "\n",
    "segments_x = segment_time_series(series_x, length)\n",
    "segments_y = segment_time_series(series_y, length)\n",
    "\n",
    "# Convert to tensors\n",
    "segments_tensor_x = torch.tensor(segments_x, dtype=torch.float)\n",
    "segments_tensor_y = torch.tensor(segments_y, dtype=torch.float)\n",
    "\n",
    "# Prepare inputs and targets\n",
    "X = segments_tensor_x\n",
    "# Shift segments to the right by one timestep to create the targets\n",
    "Y =  segments_tensor_y\n"
   ]
  },
  {
   "cell_type": "code",
   "execution_count": 1,
   "metadata": {},
   "outputs": [
    {
     "ename": "NameError",
     "evalue": "name 'CustomLayerExtended' is not defined",
     "output_type": "error",
     "traceback": [
      "\u001b[1;31m---------------------------------------------------------------------------\u001b[0m",
      "\u001b[1;31mNameError\u001b[0m                                 Traceback (most recent call last)",
      "Cell \u001b[1;32mIn[1], line 4\u001b[0m\n\u001b[0;32m      1\u001b[0m \u001b[38;5;28;01mfrom\u001b[39;00m \u001b[38;5;21;01mtorch\u001b[39;00m \u001b[38;5;28;01mimport\u001b[39;00m nn, optim\n\u001b[0;32m      3\u001b[0m \u001b[38;5;66;03m# Model\u001b[39;00m\n\u001b[1;32m----> 4\u001b[0m model \u001b[38;5;241m=\u001b[39m \u001b[43mCustomLayerExtended\u001b[49m(\n\u001b[0;32m      5\u001b[0m     n_features \u001b[38;5;241m=\u001b[39m n_features\n\u001b[0;32m      6\u001b[0m )\n\u001b[0;32m      8\u001b[0m \u001b[38;5;66;03m# Loss and optimizer\u001b[39;00m\n\u001b[0;32m      9\u001b[0m criterion \u001b[38;5;241m=\u001b[39m nn\u001b[38;5;241m.\u001b[39mMSELoss()\n",
      "\u001b[1;31mNameError\u001b[0m: name 'CustomLayerExtended' is not defined"
     ]
    }
   ],
   "source": [
    "from torch import nn, optim\n",
    "\n",
    "# Model\n",
    "model = CustomLayerExtended(\n",
    "    n_features = n_features\n",
    ")\n",
    "\n",
    "# Loss and optimizer\n",
    "criterion = nn.MSELoss()\n",
    "optimizer = optim.Adam(model.parameters(), lr=0.01)\n",
    "\n",
    "# Training loop\n",
    "epochs = 500\n",
    "for epoch in range(epochs):\n",
    "    model.train()\n",
    "    optimizer.zero_grad()\n",
    "    # Forward pass\n",
    "    outputs, _ = model(X)\n",
    "    loss = criterion(outputs, Y)\n",
    "\n",
    "    # Backward and optimize\n",
    "    loss.backward()\n",
    "    optimizer.step()\n",
    "\n",
    "    if (epoch + 1) % 10 == 0:\n",
    "        print(f'Epoch [{epoch+1}/{epochs}], Loss: {loss.item()}')\n"
   ]
  },
  {
   "cell_type": "code",
   "execution_count": 13,
   "metadata": {},
   "outputs": [
    {
     "data": {
      "text/plain": [
       "tensor([[0.2304, 0.2276],\n",
       "        [0.2339, 0.2351],\n",
       "        [0.2378, 0.2386],\n",
       "        [0.2419, 0.2429],\n",
       "        [0.2460, 0.2463],\n",
       "        [0.2497, 0.2497],\n",
       "        [0.2529, 0.2512],\n",
       "        [0.2553, 0.2549],\n",
       "        [0.2569, 0.2562],\n",
       "        [0.2577, 0.2571],\n",
       "        [0.2576, 0.2573],\n",
       "        [0.2570, 0.2566],\n",
       "        [0.2558, 0.2550],\n",
       "        [0.2545, 0.2543],\n",
       "        [0.2530, 0.2529],\n",
       "        [0.2518, 0.2518],\n",
       "        [0.2508, 0.2508],\n",
       "        [0.2502, 0.2502],\n",
       "        [0.2500, 0.2502],\n",
       "        [0.2503, 0.2505],\n",
       "        [0.2511, 0.2511],\n",
       "        [0.2522, 0.2521],\n",
       "        [0.2535, 0.2534],\n",
       "        [0.2549, 0.2547],\n",
       "        [0.2562, 0.2559],\n",
       "        [0.2572, 0.2567],\n",
       "        [0.2577, 0.2552],\n",
       "        [0.2575, 0.2570],\n",
       "        [0.2565, 0.2546],\n",
       "        [0.2546, 0.2542],\n",
       "        [0.2520, 0.2518],\n",
       "        [0.2486, 0.2486],\n",
       "        [0.2447, 0.2451],\n",
       "        [0.2406, 0.2412],\n",
       "        [0.2365, 0.2373],\n",
       "        [0.2327, 0.2338],\n",
       "        [0.2295, 0.2313],\n",
       "        [0.2269, 0.2286],\n",
       "        [0.2253, 0.2266],\n",
       "        [0.2246, 0.2265],\n",
       "        [0.2250, 0.2295],\n",
       "        [0.2263, 0.2275],\n",
       "        [0.2286, 0.2308],\n",
       "        [0.2318, 0.2333],\n",
       "        [0.2356, 0.2368],\n",
       "        [0.2400, 0.2404],\n",
       "        [0.2446, 0.2449],\n",
       "        [0.2494, 0.2498],\n",
       "        [0.2541, 0.2542],\n",
       "        [0.2584, 0.2564],\n",
       "        [0.2623, 0.2614],\n",
       "        [0.2657, 0.2648],\n",
       "        [0.2685, 0.2680],\n",
       "        [0.2706, 0.2704],\n",
       "        [0.2723, 0.2717],\n",
       "        [0.2734, 0.2703],\n",
       "        [0.2742, 0.2740],\n",
       "        [0.2747, 0.2738],\n",
       "        [0.2749, 0.2737],\n",
       "        [0.2750, 0.2658],\n",
       "        [0.2749, 0.2752],\n",
       "        [0.2745, 0.2747],\n",
       "        [0.2739, 0.2741],\n",
       "        [0.2729, 0.2720]], grad_fn=<StackBackward0>)"
      ]
     },
     "execution_count": 13,
     "metadata": {},
     "output_type": "execute_result"
    }
   ],
   "source": [
    "torch.stack([X[1,:,1],outputs[1,:,1]], dim = -1)"
   ]
  },
  {
   "cell_type": "code",
   "execution_count": 14,
   "metadata": {},
   "outputs": [
    {
     "data": {
      "application/vnd.plotly.v1+json": {
       "config": {
        "plotlyServerURL": "https://plot.ly"
       },
       "data": [
        {
         "mode": "lines",
         "name": "Model Output",
         "type": "scatter",
         "x": [
          0,
          1,
          2,
          3,
          4,
          5,
          6,
          7,
          8,
          9,
          10,
          11,
          12,
          13,
          14,
          15,
          16,
          17,
          18,
          19,
          20,
          21,
          22,
          23,
          24,
          25,
          26,
          27,
          28,
          29,
          30,
          31,
          32,
          33,
          34,
          35,
          36,
          37,
          38,
          39,
          40,
          41,
          42,
          43,
          44,
          45,
          46,
          47,
          48,
          49,
          50,
          51,
          52,
          53,
          54,
          55,
          56,
          57,
          58,
          59,
          60,
          61,
          62,
          63
         ],
         "y": [
          0.2359471470117569,
          0.23760999739170074,
          0.23571538925170898,
          0.2356642335653305,
          0.23470480740070343,
          0.23613537847995758,
          0.24372096359729767,
          0.23810023069381714,
          0.24020665884017944,
          0.2415093630552292,
          0.24312277138233185,
          0.24488529562950134,
          0.2466503083705902,
          0.24760383367538452,
          0.2486494928598404,
          0.2493642419576645,
          0.24989987909793854,
          0.25016093254089355,
          0.25023290514945984,
          0.2500956356525421,
          0.24973732233047485,
          0.24918343126773834,
          0.24833011627197266,
          0.24723438918590546,
          0.2459544986486435,
          0.24450339376926422,
          0.24606356024742126,
          0.240675687789917,
          0.24183769524097443,
          0.23746687173843384,
          0.23575159907341003,
          0.2347947061061859,
          0.23455438017845154,
          0.23488867282867432,
          0.23602166771888733,
          0.23816855251789093,
          0.24136590957641602,
          0.24481743574142456,
          0.24904458224773407,
          0.25369924306869507,
          0.2572919726371765,
          0.2637401819229126,
          0.2673909664154053,
          0.27141788601875305,
          0.27467745542526245,
          0.2776910662651062,
          0.27849575877189636,
          0.2750769257545471,
          0.2735806703567505,
          0.26698195934295654,
          0.2665429413318634,
          0.2614176571369171,
          0.2553182542324066,
          0.24871158599853516,
          0.24242864549160004,
          0.23767051100730896,
          0.23185424506664276,
          0.22881688177585602,
          0.227349191904068,
          0.2326221466064453,
          0.22679615020751953,
          0.22962810099124908,
          0.23374655842781067,
          0.23953890800476074
         ]
        },
        {
         "mode": "lines",
         "name": "Target",
         "type": "scatter",
         "x": [
          0,
          1,
          2,
          3,
          4,
          5,
          6,
          7,
          8,
          9,
          10,
          11,
          12,
          13,
          14,
          15,
          16,
          17,
          18,
          19,
          20,
          21,
          22,
          23,
          24,
          25,
          26,
          27,
          28,
          29,
          30,
          31,
          32,
          33,
          34,
          35,
          36,
          37,
          38,
          39,
          40,
          41,
          42,
          43,
          44,
          45,
          46,
          47,
          48,
          49,
          50,
          51,
          52,
          53,
          54,
          55,
          56,
          57,
          58,
          59,
          60,
          61,
          62,
          63
         ],
         "y": [
          0.23664973676204681,
          0.23480010032653809,
          0.23383192718029022,
          0.2337000072002411,
          0.23430688679218292,
          0.23551207780838013,
          0.23714707791805267,
          0.23903407156467438,
          0.2410053014755249,
          0.2429189831018448,
          0.24466922879219055,
          0.2461886703968048,
          0.2474447786808014,
          0.24843208491802216,
          0.24916228652000427,
          0.2496548444032669,
          0.24992889165878296,
          0.24999742209911346,
          0.24986399710178375,
          0.24952183663845062,
          0.24895545840263367,
          0.24814490973949432,
          0.2470722496509552,
          0.24573016166687012,
          0.24413180351257324,
          0.24232009053230286,
          0.2403746396303177,
          0.23841343820095062,
          0.2365879863500595,
          0.23507122695446014,
          0.23404014110565186,
          0.23365619778633118,
          0.23404748737812042,
          0.23529545962810516,
          0.23742760717868805,
          0.2404155731201172,
          0.24417704343795776,
          0.24857966601848602,
          0.25344568490982056,
          0.2585570514202118,
          0.26366114616394043,
          0.2684788405895233,
          0.27271610498428345,
          0.2760803699493408,
          0.27830231189727783,
          0.27916160225868225,
          0.2785141170024872,
          0.2763156592845917,
          0.2726375460624695,
          0.2676693797111511,
          0.261707067489624,
          0.2551279067993164,
          0.24835647642612457,
          0.24182768166065216,
          0.23595257103443146,
          0.23109067976474762,
          0.22753049433231354,
          0.22547747194766998,
          0.2250477373600006,
          0.2262653410434723,
          0.22906190156936646,
          0.23327785730361938,
          0.238666832447052,
          0.2449042946100235
         ]
        }
       ],
       "layout": {
        "template": {
         "data": {
          "bar": [
           {
            "error_x": {
             "color": "#2a3f5f"
            },
            "error_y": {
             "color": "#2a3f5f"
            },
            "marker": {
             "line": {
              "color": "#E5ECF6",
              "width": 0.5
             },
             "pattern": {
              "fillmode": "overlay",
              "size": 10,
              "solidity": 0.2
             }
            },
            "type": "bar"
           }
          ],
          "barpolar": [
           {
            "marker": {
             "line": {
              "color": "#E5ECF6",
              "width": 0.5
             },
             "pattern": {
              "fillmode": "overlay",
              "size": 10,
              "solidity": 0.2
             }
            },
            "type": "barpolar"
           }
          ],
          "carpet": [
           {
            "aaxis": {
             "endlinecolor": "#2a3f5f",
             "gridcolor": "white",
             "linecolor": "white",
             "minorgridcolor": "white",
             "startlinecolor": "#2a3f5f"
            },
            "baxis": {
             "endlinecolor": "#2a3f5f",
             "gridcolor": "white",
             "linecolor": "white",
             "minorgridcolor": "white",
             "startlinecolor": "#2a3f5f"
            },
            "type": "carpet"
           }
          ],
          "choropleth": [
           {
            "colorbar": {
             "outlinewidth": 0,
             "ticks": ""
            },
            "type": "choropleth"
           }
          ],
          "contour": [
           {
            "colorbar": {
             "outlinewidth": 0,
             "ticks": ""
            },
            "colorscale": [
             [
              0,
              "#0d0887"
             ],
             [
              0.1111111111111111,
              "#46039f"
             ],
             [
              0.2222222222222222,
              "#7201a8"
             ],
             [
              0.3333333333333333,
              "#9c179e"
             ],
             [
              0.4444444444444444,
              "#bd3786"
             ],
             [
              0.5555555555555556,
              "#d8576b"
             ],
             [
              0.6666666666666666,
              "#ed7953"
             ],
             [
              0.7777777777777778,
              "#fb9f3a"
             ],
             [
              0.8888888888888888,
              "#fdca26"
             ],
             [
              1,
              "#f0f921"
             ]
            ],
            "type": "contour"
           }
          ],
          "contourcarpet": [
           {
            "colorbar": {
             "outlinewidth": 0,
             "ticks": ""
            },
            "type": "contourcarpet"
           }
          ],
          "heatmap": [
           {
            "colorbar": {
             "outlinewidth": 0,
             "ticks": ""
            },
            "colorscale": [
             [
              0,
              "#0d0887"
             ],
             [
              0.1111111111111111,
              "#46039f"
             ],
             [
              0.2222222222222222,
              "#7201a8"
             ],
             [
              0.3333333333333333,
              "#9c179e"
             ],
             [
              0.4444444444444444,
              "#bd3786"
             ],
             [
              0.5555555555555556,
              "#d8576b"
             ],
             [
              0.6666666666666666,
              "#ed7953"
             ],
             [
              0.7777777777777778,
              "#fb9f3a"
             ],
             [
              0.8888888888888888,
              "#fdca26"
             ],
             [
              1,
              "#f0f921"
             ]
            ],
            "type": "heatmap"
           }
          ],
          "heatmapgl": [
           {
            "colorbar": {
             "outlinewidth": 0,
             "ticks": ""
            },
            "colorscale": [
             [
              0,
              "#0d0887"
             ],
             [
              0.1111111111111111,
              "#46039f"
             ],
             [
              0.2222222222222222,
              "#7201a8"
             ],
             [
              0.3333333333333333,
              "#9c179e"
             ],
             [
              0.4444444444444444,
              "#bd3786"
             ],
             [
              0.5555555555555556,
              "#d8576b"
             ],
             [
              0.6666666666666666,
              "#ed7953"
             ],
             [
              0.7777777777777778,
              "#fb9f3a"
             ],
             [
              0.8888888888888888,
              "#fdca26"
             ],
             [
              1,
              "#f0f921"
             ]
            ],
            "type": "heatmapgl"
           }
          ],
          "histogram": [
           {
            "marker": {
             "pattern": {
              "fillmode": "overlay",
              "size": 10,
              "solidity": 0.2
             }
            },
            "type": "histogram"
           }
          ],
          "histogram2d": [
           {
            "colorbar": {
             "outlinewidth": 0,
             "ticks": ""
            },
            "colorscale": [
             [
              0,
              "#0d0887"
             ],
             [
              0.1111111111111111,
              "#46039f"
             ],
             [
              0.2222222222222222,
              "#7201a8"
             ],
             [
              0.3333333333333333,
              "#9c179e"
             ],
             [
              0.4444444444444444,
              "#bd3786"
             ],
             [
              0.5555555555555556,
              "#d8576b"
             ],
             [
              0.6666666666666666,
              "#ed7953"
             ],
             [
              0.7777777777777778,
              "#fb9f3a"
             ],
             [
              0.8888888888888888,
              "#fdca26"
             ],
             [
              1,
              "#f0f921"
             ]
            ],
            "type": "histogram2d"
           }
          ],
          "histogram2dcontour": [
           {
            "colorbar": {
             "outlinewidth": 0,
             "ticks": ""
            },
            "colorscale": [
             [
              0,
              "#0d0887"
             ],
             [
              0.1111111111111111,
              "#46039f"
             ],
             [
              0.2222222222222222,
              "#7201a8"
             ],
             [
              0.3333333333333333,
              "#9c179e"
             ],
             [
              0.4444444444444444,
              "#bd3786"
             ],
             [
              0.5555555555555556,
              "#d8576b"
             ],
             [
              0.6666666666666666,
              "#ed7953"
             ],
             [
              0.7777777777777778,
              "#fb9f3a"
             ],
             [
              0.8888888888888888,
              "#fdca26"
             ],
             [
              1,
              "#f0f921"
             ]
            ],
            "type": "histogram2dcontour"
           }
          ],
          "mesh3d": [
           {
            "colorbar": {
             "outlinewidth": 0,
             "ticks": ""
            },
            "type": "mesh3d"
           }
          ],
          "parcoords": [
           {
            "line": {
             "colorbar": {
              "outlinewidth": 0,
              "ticks": ""
             }
            },
            "type": "parcoords"
           }
          ],
          "pie": [
           {
            "automargin": true,
            "type": "pie"
           }
          ],
          "scatter": [
           {
            "fillpattern": {
             "fillmode": "overlay",
             "size": 10,
             "solidity": 0.2
            },
            "type": "scatter"
           }
          ],
          "scatter3d": [
           {
            "line": {
             "colorbar": {
              "outlinewidth": 0,
              "ticks": ""
             }
            },
            "marker": {
             "colorbar": {
              "outlinewidth": 0,
              "ticks": ""
             }
            },
            "type": "scatter3d"
           }
          ],
          "scattercarpet": [
           {
            "marker": {
             "colorbar": {
              "outlinewidth": 0,
              "ticks": ""
             }
            },
            "type": "scattercarpet"
           }
          ],
          "scattergeo": [
           {
            "marker": {
             "colorbar": {
              "outlinewidth": 0,
              "ticks": ""
             }
            },
            "type": "scattergeo"
           }
          ],
          "scattergl": [
           {
            "marker": {
             "colorbar": {
              "outlinewidth": 0,
              "ticks": ""
             }
            },
            "type": "scattergl"
           }
          ],
          "scattermapbox": [
           {
            "marker": {
             "colorbar": {
              "outlinewidth": 0,
              "ticks": ""
             }
            },
            "type": "scattermapbox"
           }
          ],
          "scatterpolar": [
           {
            "marker": {
             "colorbar": {
              "outlinewidth": 0,
              "ticks": ""
             }
            },
            "type": "scatterpolar"
           }
          ],
          "scatterpolargl": [
           {
            "marker": {
             "colorbar": {
              "outlinewidth": 0,
              "ticks": ""
             }
            },
            "type": "scatterpolargl"
           }
          ],
          "scatterternary": [
           {
            "marker": {
             "colorbar": {
              "outlinewidth": 0,
              "ticks": ""
             }
            },
            "type": "scatterternary"
           }
          ],
          "surface": [
           {
            "colorbar": {
             "outlinewidth": 0,
             "ticks": ""
            },
            "colorscale": [
             [
              0,
              "#0d0887"
             ],
             [
              0.1111111111111111,
              "#46039f"
             ],
             [
              0.2222222222222222,
              "#7201a8"
             ],
             [
              0.3333333333333333,
              "#9c179e"
             ],
             [
              0.4444444444444444,
              "#bd3786"
             ],
             [
              0.5555555555555556,
              "#d8576b"
             ],
             [
              0.6666666666666666,
              "#ed7953"
             ],
             [
              0.7777777777777778,
              "#fb9f3a"
             ],
             [
              0.8888888888888888,
              "#fdca26"
             ],
             [
              1,
              "#f0f921"
             ]
            ],
            "type": "surface"
           }
          ],
          "table": [
           {
            "cells": {
             "fill": {
              "color": "#EBF0F8"
             },
             "line": {
              "color": "white"
             }
            },
            "header": {
             "fill": {
              "color": "#C8D4E3"
             },
             "line": {
              "color": "white"
             }
            },
            "type": "table"
           }
          ]
         },
         "layout": {
          "annotationdefaults": {
           "arrowcolor": "#2a3f5f",
           "arrowhead": 0,
           "arrowwidth": 1
          },
          "autotypenumbers": "strict",
          "coloraxis": {
           "colorbar": {
            "outlinewidth": 0,
            "ticks": ""
           }
          },
          "colorscale": {
           "diverging": [
            [
             0,
             "#8e0152"
            ],
            [
             0.1,
             "#c51b7d"
            ],
            [
             0.2,
             "#de77ae"
            ],
            [
             0.3,
             "#f1b6da"
            ],
            [
             0.4,
             "#fde0ef"
            ],
            [
             0.5,
             "#f7f7f7"
            ],
            [
             0.6,
             "#e6f5d0"
            ],
            [
             0.7,
             "#b8e186"
            ],
            [
             0.8,
             "#7fbc41"
            ],
            [
             0.9,
             "#4d9221"
            ],
            [
             1,
             "#276419"
            ]
           ],
           "sequential": [
            [
             0,
             "#0d0887"
            ],
            [
             0.1111111111111111,
             "#46039f"
            ],
            [
             0.2222222222222222,
             "#7201a8"
            ],
            [
             0.3333333333333333,
             "#9c179e"
            ],
            [
             0.4444444444444444,
             "#bd3786"
            ],
            [
             0.5555555555555556,
             "#d8576b"
            ],
            [
             0.6666666666666666,
             "#ed7953"
            ],
            [
             0.7777777777777778,
             "#fb9f3a"
            ],
            [
             0.8888888888888888,
             "#fdca26"
            ],
            [
             1,
             "#f0f921"
            ]
           ],
           "sequentialminus": [
            [
             0,
             "#0d0887"
            ],
            [
             0.1111111111111111,
             "#46039f"
            ],
            [
             0.2222222222222222,
             "#7201a8"
            ],
            [
             0.3333333333333333,
             "#9c179e"
            ],
            [
             0.4444444444444444,
             "#bd3786"
            ],
            [
             0.5555555555555556,
             "#d8576b"
            ],
            [
             0.6666666666666666,
             "#ed7953"
            ],
            [
             0.7777777777777778,
             "#fb9f3a"
            ],
            [
             0.8888888888888888,
             "#fdca26"
            ],
            [
             1,
             "#f0f921"
            ]
           ]
          },
          "colorway": [
           "#636efa",
           "#EF553B",
           "#00cc96",
           "#ab63fa",
           "#FFA15A",
           "#19d3f3",
           "#FF6692",
           "#B6E880",
           "#FF97FF",
           "#FECB52"
          ],
          "font": {
           "color": "#2a3f5f"
          },
          "geo": {
           "bgcolor": "white",
           "lakecolor": "white",
           "landcolor": "#E5ECF6",
           "showlakes": true,
           "showland": true,
           "subunitcolor": "white"
          },
          "hoverlabel": {
           "align": "left"
          },
          "hovermode": "closest",
          "mapbox": {
           "style": "light"
          },
          "paper_bgcolor": "white",
          "plot_bgcolor": "#E5ECF6",
          "polar": {
           "angularaxis": {
            "gridcolor": "white",
            "linecolor": "white",
            "ticks": ""
           },
           "bgcolor": "#E5ECF6",
           "radialaxis": {
            "gridcolor": "white",
            "linecolor": "white",
            "ticks": ""
           }
          },
          "scene": {
           "xaxis": {
            "backgroundcolor": "#E5ECF6",
            "gridcolor": "white",
            "gridwidth": 2,
            "linecolor": "white",
            "showbackground": true,
            "ticks": "",
            "zerolinecolor": "white"
           },
           "yaxis": {
            "backgroundcolor": "#E5ECF6",
            "gridcolor": "white",
            "gridwidth": 2,
            "linecolor": "white",
            "showbackground": true,
            "ticks": "",
            "zerolinecolor": "white"
           },
           "zaxis": {
            "backgroundcolor": "#E5ECF6",
            "gridcolor": "white",
            "gridwidth": 2,
            "linecolor": "white",
            "showbackground": true,
            "ticks": "",
            "zerolinecolor": "white"
           }
          },
          "shapedefaults": {
           "line": {
            "color": "#2a3f5f"
           }
          },
          "ternary": {
           "aaxis": {
            "gridcolor": "white",
            "linecolor": "white",
            "ticks": ""
           },
           "baxis": {
            "gridcolor": "white",
            "linecolor": "white",
            "ticks": ""
           },
           "bgcolor": "#E5ECF6",
           "caxis": {
            "gridcolor": "white",
            "linecolor": "white",
            "ticks": ""
           }
          },
          "title": {
           "x": 0.05
          },
          "xaxis": {
           "automargin": true,
           "gridcolor": "white",
           "linecolor": "white",
           "ticks": "",
           "title": {
            "standoff": 15
           },
           "zerolinecolor": "white",
           "zerolinewidth": 2
          },
          "yaxis": {
           "automargin": true,
           "gridcolor": "white",
           "linecolor": "white",
           "ticks": "",
           "title": {
            "standoff": 15
           },
           "zerolinecolor": "white",
           "zerolinewidth": 2
          }
         }
        },
        "title": {
         "text": "Model Output vs Target for Feature 2, Batch 1"
        },
        "xaxis": {
         "title": {
          "text": "Timestep"
         }
        },
        "yaxis": {
         "title": {
          "text": "Value"
         }
        }
       }
      }
     },
     "metadata": {},
     "output_type": "display_data"
    }
   ],
   "source": [
    "import plotly.graph_objects as go\n",
    "\n",
    "def plot_model_output_vs_target(model_outputs, targets, batch_index=0, feature_index=0):\n",
    "    # Extract the specified feature for the given batch from both the model outputs and targets\n",
    "    model_output_series = model_outputs[batch_index, :, feature_index].detach().numpy()\n",
    "    target_series = targets[batch_index, :, feature_index].numpy()\n",
    "    \n",
    "    # Create a range for the x-axis (timesteps)\n",
    "    timesteps = list(range(model_output_series.shape[0]))\n",
    "    \n",
    "    # Create traces\n",
    "    model_trace = go.Scatter(x=timesteps, y=model_output_series, mode='lines', name='Model Output')\n",
    "    target_trace = go.Scatter(x=timesteps, y=target_series, mode='lines', name='Target')\n",
    "    \n",
    "    # Create the figure and add traces\n",
    "    fig = go.Figure()\n",
    "    fig.add_trace(model_trace)\n",
    "    fig.add_trace(target_trace)\n",
    "    \n",
    "    # Add title and labels\n",
    "    fig.update_layout(title=f'Model Output vs Target for Feature {feature_index}, Batch {batch_index}',\n",
    "                      xaxis_title='Timestep',\n",
    "                      yaxis_title='Value')\n",
    "    \n",
    "    # Show the figure\n",
    "    fig.show()\n",
    "\n",
    "# Assuming `y` and `Y` are your model outputs and targets, respectively\n",
    "# Adjust batch_index and feature_index as needed\n",
    "plot_model_output_vs_target(outputs, Y, batch_index=1, feature_index=2)\n"
   ]
  },
  {
   "cell_type": "code",
   "execution_count": 15,
   "metadata": {},
   "outputs": [
    {
     "data": {
      "text/plain": [
       "tensor([[0.2276, 0.2339],\n",
       "        [0.2351, 0.2378],\n",
       "        [0.2386, 0.2419],\n",
       "        [0.2429, 0.2460],\n",
       "        [0.2463, 0.2497],\n",
       "        [0.2497, 0.2529],\n",
       "        [0.2512, 0.2553],\n",
       "        [0.2549, 0.2569],\n",
       "        [0.2562, 0.2577],\n",
       "        [0.2571, 0.2576],\n",
       "        [0.2573, 0.2570],\n",
       "        [0.2566, 0.2558],\n",
       "        [0.2550, 0.2545],\n",
       "        [0.2543, 0.2530],\n",
       "        [0.2529, 0.2518],\n",
       "        [0.2518, 0.2508],\n",
       "        [0.2508, 0.2502],\n",
       "        [0.2502, 0.2500],\n",
       "        [0.2502, 0.2503],\n",
       "        [0.2505, 0.2511],\n",
       "        [0.2511, 0.2522],\n",
       "        [0.2521, 0.2535],\n",
       "        [0.2534, 0.2549],\n",
       "        [0.2547, 0.2562],\n",
       "        [0.2559, 0.2572],\n",
       "        [0.2567, 0.2577],\n",
       "        [0.2552, 0.2575],\n",
       "        [0.2570, 0.2565],\n",
       "        [0.2546, 0.2546],\n",
       "        [0.2542, 0.2520],\n",
       "        [0.2518, 0.2486],\n",
       "        [0.2486, 0.2447],\n",
       "        [0.2451, 0.2406],\n",
       "        [0.2412, 0.2365],\n",
       "        [0.2373, 0.2327],\n",
       "        [0.2338, 0.2295],\n",
       "        [0.2313, 0.2269],\n",
       "        [0.2286, 0.2253],\n",
       "        [0.2266, 0.2246],\n",
       "        [0.2265, 0.2250],\n",
       "        [0.2295, 0.2263],\n",
       "        [0.2275, 0.2286],\n",
       "        [0.2308, 0.2318],\n",
       "        [0.2333, 0.2356],\n",
       "        [0.2368, 0.2400],\n",
       "        [0.2404, 0.2446],\n",
       "        [0.2449, 0.2494],\n",
       "        [0.2498, 0.2541],\n",
       "        [0.2542, 0.2584],\n",
       "        [0.2564, 0.2623],\n",
       "        [0.2614, 0.2657],\n",
       "        [0.2648, 0.2685],\n",
       "        [0.2680, 0.2706],\n",
       "        [0.2704, 0.2723],\n",
       "        [0.2717, 0.2734],\n",
       "        [0.2703, 0.2742],\n",
       "        [0.2740, 0.2747],\n",
       "        [0.2738, 0.2749],\n",
       "        [0.2737, 0.2750],\n",
       "        [0.2658, 0.2749],\n",
       "        [0.2752, 0.2745],\n",
       "        [0.2747, 0.2739],\n",
       "        [0.2741, 0.2729],\n",
       "        [0.2720, 0.2716]], grad_fn=<StackBackward0>)"
      ]
     },
     "execution_count": 15,
     "metadata": {},
     "output_type": "execute_result"
    }
   ],
   "source": [
    "torch.stack([outputs[1,:,1],Y[1,:,1]], dim = -1)"
   ]
  }
 ],
 "metadata": {
  "kernelspec": {
   "display_name": "coilspy-1sgZ1XBf-py3.12",
   "language": "python",
   "name": "python3"
  },
  "language_info": {
   "codemirror_mode": {
    "name": "ipython",
    "version": 3
   },
   "file_extension": ".py",
   "mimetype": "text/x-python",
   "name": "python",
   "nbconvert_exporter": "python",
   "pygments_lexer": "ipython3",
   "version": "3.12.2"
  }
 },
 "nbformat": 4,
 "nbformat_minor": 2
}
