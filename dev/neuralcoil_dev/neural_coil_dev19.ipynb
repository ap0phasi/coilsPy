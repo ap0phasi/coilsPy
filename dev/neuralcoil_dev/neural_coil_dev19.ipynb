{
 "cells": [
  {
   "cell_type": "code",
   "execution_count": 1,
   "metadata": {},
   "outputs": [],
   "source": [
    "import torch\n",
    "import torch.nn as nn\n",
    "import torch.nn.functional as F"
   ]
  },
  {
   "cell_type": "code",
   "execution_count": 2,
   "metadata": {},
   "outputs": [
    {
     "name": "stdout",
     "output_type": "stream",
     "text": [
      "tensor([[0.1492, 0.2797, 0.1754, 0.2475, 0.0096, 0.1387],\n",
      "        [0.3030, 0.2175, 0.1781, 0.0543, 0.0106, 0.2366],\n",
      "        [0.0685, 0.0865, 0.1594, 0.2595, 0.2714, 0.1547],\n",
      "        [0.2044, 0.0401, 0.0346, 0.1918, 0.2798, 0.2492],\n",
      "        [0.2580, 0.0016, 0.3266, 0.0449, 0.2966, 0.0722]])\n",
      "tensor([1.0000, 1.0000, 1.0000, 1.0000, 1.0000])\n"
     ]
    }
   ],
   "source": [
    "def torch_randnorm(size, dim=0):\n",
    "    # Generate a random tensor\n",
    "    rand_tensor = torch.rand(size)\n",
    "    \n",
    "    # Normalize along the specified dimension\n",
    "    sum_along_dim = torch.sum(rand_tensor, dim=dim, keepdim=True)\n",
    "    normalized_tensor = rand_tensor / sum_along_dim\n",
    "    \n",
    "    return normalized_tensor\n",
    "\n",
    "# Example usage\n",
    "normalized_tensor = torch_randnorm([5,6], dim=1)\n",
    "print(normalized_tensor)\n",
    "print(normalized_tensor.sum(dim=1))"
   ]
  },
  {
   "cell_type": "code",
   "execution_count": 3,
   "metadata": {},
   "outputs": [],
   "source": [
    "class NeuralCoilLayer(nn.Module):\n",
    "    def __init__(self, n_features, n_batch, device = \"cpu\"):\n",
    "        super(NeuralCoilLayer, self).__init__()\n",
    "        self.n_features = n_features\n",
    "        self.attention_weights = nn.Linear(n_features, 1, bias=False)\n",
    "        self.act = nn.SiLU()\n",
    "        self.interaction_tensors = nn.Parameter(torch.randn(n_features, n_features, n_features, n_features + 1))\n",
    "        self.topk_num = 1\n",
    "        \n",
    "        starting_tensor = torch.zeros(n_batch, n_features, n_features)\n",
    "        if device == \"cuda\":\n",
    "            self.starting_transition_tensor = starting_tensor.to(\"cuda\")\n",
    "        else:\n",
    "            self.starting_transition_tensor = starting_tensor\n",
    "        \n",
    "    def step_coil(self, state_tensor, previous_transition_tensor):\n",
    "        # Establish normalized subgroups\n",
    "        norm_subgroups = torch.cat((state_tensor.unsqueeze(-2), previous_transition_tensor), dim=1)\n",
    "        batch_size, num_groups, n_features = norm_subgroups.shape\n",
    "        \n",
    "        # Compute scores for each normalized subgroup\n",
    "        scores = self.act(self.attention_weights(norm_subgroups)).sum(-1) # [batch_size, num_groups]\n",
    "        \n",
    "        weights = torch.softmax(scores,dim = -1) # [batch_size, num_groups]\n",
    "        \n",
    "        selected_interaction_tensors = self.interaction_tensors\n",
    "        selected_norm_subgroups = norm_subgroups\n",
    "\n",
    "        #selected_transition_tensors = torch.einsum('ijks,bsi->bjks', selected_interaction_tensors, selected_norm_subgroups)\n",
    "        \n",
    "        selected_transition_tensors = (torch.mul(selected_interaction_tensors, selected_norm_subgroups.permute(0,2,1).unsqueeze(1).unsqueeze(1))).sum(-2)\n",
    "        \n",
    "        # We need a single transition tensor so we will average this as well\n",
    "        #selected_transition_tensor = torch.einsum('bs,bjks->bjk', weights,selected_transition_tensors)\n",
    "        \n",
    "        selected_transition_tensor = (torch.mul(selected_transition_tensors, weights.unsqueeze(-2).unsqueeze(-2))).sum(-1)\n",
    "        # Need to also apply weightings to state tensor\n",
    "        #print(\"Weights shape\", weights.shape)\n",
    "        #print(\"norm_subgroups:\",norm_subgroups.shape)\n",
    "        selected_norm_tensor = (torch.mul(norm_subgroups.permute(0,2,1), weights.unsqueeze(1))).sum(-1)\n",
    "        #print(\"norm_subgroups:\",selected_norm_tensor.shape)\n",
    "        norm_tensor_unsqueezed = selected_norm_tensor.unsqueeze(2)\n",
    "\n",
    "        # Performing batch matrix multiplication\n",
    "        new_state_tensor_bmm = torch.bmm(selected_transition_tensor, norm_tensor_unsqueezed)\n",
    "\n",
    "        # Squeezing the result to get rid of the extra dimension, resulting in [batch_size, n_features]\n",
    "        new_state_tensor = new_state_tensor_bmm.squeeze(2)\n",
    "    \n",
    "        softmax_tensor = torch.softmax(new_state_tensor * n_features, dim = 1)\n",
    "        \n",
    "        return softmax_tensor, selected_transition_tensor\n",
    "\n",
    "\n",
    "    def forward(self, x):\n",
    "        batch, length, n_features = x.size()\n",
    "        output = x.new_empty(batch, length, n_features)\n",
    "\n",
    "        # Initialize previous transition tensors (for the first step)\n",
    "        # Assuming it's a list of zero tensors for simplicity\n",
    "        transition_tensor = self.starting_transition_tensor\n",
    "\n",
    "        for l in range(length):\n",
    "            state_tensor = x[:, l, :]\n",
    "            \n",
    "            # Compute output for this step\n",
    "            output[:, l, :], transition_tensor = self.step_coil(state_tensor, transition_tensor)\n",
    "\n",
    "        return output, transition_tensor\n"
   ]
  },
  {
   "cell_type": "markdown",
   "metadata": {},
   "source": [
    "# Sequence-to-Sequence Check"
   ]
  },
  {
   "cell_type": "code",
   "execution_count": 4,
   "metadata": {},
   "outputs": [
    {
     "name": "stdout",
     "output_type": "stream",
     "text": [
      "torch.Size([13, 64, 16])\n"
     ]
    }
   ],
   "source": [
    "n_features = 16\n",
    "batch, length, dim = 13, 64, n_features\n",
    "x = torch.randn(batch, length, dim)\n",
    "model = NeuralCoilLayer(\n",
    "    n_features = n_features,\n",
    "    n_batch=batch\n",
    ")\n",
    "y = model(x)\n",
    "\n",
    "\n",
    "print(y[0].shape)\n",
    "assert y[0].shape == x.shape"
   ]
  },
  {
   "cell_type": "code",
   "execution_count": 5,
   "metadata": {},
   "outputs": [
    {
     "name": "stdout",
     "output_type": "stream",
     "text": [
      "tensor([6.2482, 4.4361, 2.9072, 6.1783, 5.9483, 6.1608, 5.8777, 4.7900, 5.9177,\n",
      "        4.7758, 5.3302, 4.3588, 5.3496, 5.1197, 5.5871, 4.4028])\n",
      "tensor([6.2482, 4.4361, 2.9072, 6.1783, 5.9483, 6.1608, 5.8777, 4.7900, 5.9177,\n",
      "        4.7758, 5.3302, 4.3588, 5.3496, 5.1197, 5.5871, 4.4028])\n"
     ]
    }
   ],
   "source": [
    "batch_size = 13\n",
    "n = 16\n",
    "slices = 17\n",
    "\n",
    "weights = torch.rand(batch_size,slices)\n",
    "selected_transition_tensors = torch.rand(batch_size, n, n ,slices)\n",
    "\n",
    "selected_transition_tensor = torch.einsum('bs,bjks->bjk', weights,selected_transition_tensors)\n",
    "\n",
    "alt = (selected_transition_tensors * weights.unsqueeze(-2).unsqueeze(-2)).sum(-1)\n",
    "alt3 = (torch.mul(selected_transition_tensors, weights.unsqueeze(-2).unsqueeze(-2))).sum(-1)\n",
    "print(alt3[5,6])\n",
    "print(selected_transition_tensor[5,6])\n"
   ]
  },
  {
   "cell_type": "code",
   "execution_count": 6,
   "metadata": {},
   "outputs": [
    {
     "name": "stdout",
     "output_type": "stream",
     "text": [
      "torch.Size([13, 16, 16, 17])\n",
      "tensor([6.0465, 3.6925, 3.0896, 4.4396, 2.8583, 3.0740, 3.7091, 4.0298, 4.3649,\n",
      "        2.7992, 5.7660, 3.4607, 1.7730, 3.4057, 2.6752, 2.1679, 4.8181])\n",
      "tensor([4.0473, 4.0206, 4.3470, 4.0543, 2.6984, 3.1417, 3.8057, 3.5029, 3.7762,\n",
      "        4.4150, 4.1918, 4.1822, 3.4477, 3.7887, 3.9986, 3.4106, 5.3962])\n",
      "tensor([4.0473, 4.0206, 4.3470, 4.0543, 2.6984, 3.1417, 3.8057, 3.5029, 3.7762,\n",
      "        4.4150, 4.1918, 4.1822, 3.4477, 3.7887, 3.9986, 3.4106, 5.3962])\n",
      "tensor(3.8951)\n",
      "tensor(3.8951)\n"
     ]
    }
   ],
   "source": [
    "from einops import rearrange, repeat\n",
    "\n",
    "selected_interaction_tensors = torch.rand(n,n,n,slices)\n",
    "selected_norm_subgroups = torch.rand(batch_size,slices, n)\n",
    "\n",
    "selected_transition_tensors = torch.einsum('ijks,bsi->bjks', selected_interaction_tensors, selected_norm_subgroups)\n",
    "selected_transition_tensors2 = torch.einsum('ijks,bks->bijs', selected_interaction_tensors, selected_norm_subgroups.permute(0,2,1))\n",
    "\n",
    "alt2 = (selected_interaction_tensors * selected_norm_subgroups.permute(0,2,1).unsqueeze(1).unsqueeze(1)).sum(-2)\n",
    "print(alt2.shape)\n",
    "print(selected_transition_tensors[5,6,2])\n",
    "print(selected_transition_tensors2[5,6,2])\n",
    "print(alt2[5,6,2])\n",
    "\n",
    "\n",
    "slicetest = torch.matmul(selected_interaction_tensors[:,:,:,2],selected_norm_subgroups.permute(0,2,1)[1,:,2])\n",
    "print(slicetest[5,9])\n",
    "print(alt2[1,:,:,2][5,9])"
   ]
  },
  {
   "cell_type": "code",
   "execution_count": 7,
   "metadata": {},
   "outputs": [
    {
     "data": {
      "text/plain": [
       "torch.Size([13, 16, 16])"
      ]
     },
     "execution_count": 7,
     "metadata": {},
     "output_type": "execute_result"
    }
   ],
   "source": [
    "# Step 1: Rearrange selected_norm_subgroups to move the 'i' dimension to the last position\n",
    "selected_norm_subgroups_rearranged = rearrange(selected_norm_subgroups, 'b s i -> (i s) b')\n",
    "\n",
    "# Step 2: Perform matrix multiplication\n",
    "# selected_interaction_tensors shape is assumed to be [..., i, ...], matching 'i' with 's' of rearranged\n",
    "result = rearrange(torch.matmul(rearrange(selected_interaction_tensors, 'i j k s -> j k (i s)'), selected_norm_subgroups_rearranged),'j k b -> b j k')\n",
    "result.shape"
   ]
  },
  {
   "cell_type": "code",
   "execution_count": 8,
   "metadata": {},
   "outputs": [
    {
     "name": "stdout",
     "output_type": "stream",
     "text": [
      "tensor(6.6691)\n",
      "tensor(6.6691)\n",
      "tensor(6.6691)\n",
      "tensor(6.6691)\n"
     ]
    }
   ],
   "source": [
    "i, j, k = 14, 12, 17\n",
    "\n",
    "tensor_a = torch.rand(i,k)\n",
    "tensor_b = torch.rand(k,j)\n",
    "\n",
    "option1 = torch.matmul(tensor_a, tensor_b)\n",
    "option2 = torch.einsum('ik,kj -> ij',tensor_a, tensor_b)\n",
    "option3 = tensor_a@tensor_b\n",
    "option4 = (tensor_a.unsqueeze(-1) * tensor_b).sum(dim=1)\n",
    "\n",
    "print(option1[5,2])\n",
    "print(option2[5,2])\n",
    "print(option3[5,2])\n",
    "print(option4[5,2])"
   ]
  },
  {
   "cell_type": "code",
   "execution_count": 9,
   "metadata": {},
   "outputs": [
    {
     "name": "stdout",
     "output_type": "stream",
     "text": [
      "-----------------------  ------------  ------------  ------------  ------------  ------------  ------------  \n",
      "                   Name    Self CPU %      Self CPU   CPU total %     CPU total  CPU time avg    # of Calls  \n",
      "-----------------------  ------------  ------------  ------------  ------------  ------------  ------------  \n",
      "        model_inference         9.69%      24.289ms       100.00%     250.647ms     250.647ms             1  \n",
      "              aten::mul        41.46%     103.920ms        42.13%     105.601ms     412.504us           256  \n",
      "              aten::sum        25.09%      62.882ms        37.07%      92.905ms     362.910us           256  \n",
      "            aten::fill_        11.81%      29.602ms        11.81%      29.602ms     115.633us           256  \n",
      "           aten::linear         0.15%     382.000us         2.13%       5.351ms      83.609us            64  \n",
      "        aten::unsqueeze         1.66%       4.171ms         1.82%       4.562ms      10.183us           448  \n",
      "           aten::matmul         0.31%     781.000us         1.61%       4.043ms      63.172us            64  \n",
      "          aten::softmax         0.16%     400.000us         1.39%       3.476ms      27.156us           128  \n",
      "            aten::slice         1.19%       2.974ms         1.29%       3.225ms       8.398us           384  \n",
      "         aten::_softmax         1.24%       3.115ms         1.24%       3.115ms      24.336us           128  \n",
      "-----------------------  ------------  ------------  ------------  ------------  ------------  ------------  \n",
      "Self CPU time total: 250.647ms\n",
      "\n"
     ]
    }
   ],
   "source": [
    "from torch.profiler import profile, record_function, ProfilerActivity\n",
    "\n",
    "with profile(activities=[ProfilerActivity.CPU], record_shapes=True) as prof:\n",
    "    with record_function(\"model_inference\"):\n",
    "        model(x)\n",
    "        \n",
    "print(prof.key_averages().table(sort_by=\"cpu_time_total\", row_limit=10))"
   ]
  },
  {
   "cell_type": "markdown",
   "metadata": {},
   "source": [
    "## Consistency Check"
   ]
  },
  {
   "cell_type": "code",
   "execution_count": 10,
   "metadata": {},
   "outputs": [
    {
     "name": "stdout",
     "output_type": "stream",
     "text": [
      "tensor([-0.2353,  0.8553,  0.4026, -1.4023])\n",
      "tensor([0.2183, 0.0062, 0.7742, 0.0012], grad_fn=<SliceBackward0>)\n",
      "tensor([0.2183, 0.0062, 0.7742, 0.0012], grad_fn=<SliceBackward0>)\n"
     ]
    }
   ],
   "source": [
    "n_features = 4\n",
    "batch, length, dim = 13, 64, n_features\n",
    "x =torch.randn(batch, length, dim)\n",
    "model = NeuralCoilLayer(\n",
    "    n_features = n_features,\n",
    "    n_batch=batch\n",
    ")\n",
    "\n",
    "l = 1\n",
    "state_tensor = x[:, l, :]\n",
    "print(state_tensor[1,:])\n",
    "transition_tensor = torch.randn(batch, n_features, n_features)\n",
    "new_state, new_transition_tensor = model.step_coil(state_tensor, transition_tensor)\n",
    "print(new_state[1,:])\n",
    "new_state, new_transition_tensor = model.step_coil(state_tensor, transition_tensor)\n",
    "print(new_state[1,:])"
   ]
  },
  {
   "cell_type": "markdown",
   "metadata": {},
   "source": [
    "This should be the same as if we just look at the batches independently"
   ]
  },
  {
   "cell_type": "code",
   "execution_count": 11,
   "metadata": {},
   "outputs": [
    {
     "data": {
      "text/plain": [
       "tensor([0.2183, 0.0062, 0.7742, 0.0012], grad_fn=<SliceBackward0>)"
      ]
     },
     "execution_count": 11,
     "metadata": {},
     "output_type": "execute_result"
    }
   ],
   "source": [
    "batch = 2\n",
    "transition_tensor = transition_tensor[0:2,:,:]\n",
    "l = 1\n",
    "state_tensor = x[0:2, l, :]\n",
    "new_state, new_transition_tensor = model.step_coil(state_tensor, transition_tensor)\n",
    "new_state[1,:]"
   ]
  },
  {
   "cell_type": "code",
   "execution_count": 12,
   "metadata": {},
   "outputs": [],
   "source": [
    "states = []\n",
    "for step_state in range(100):\n",
    "    state_tensor, transition_tensor = model.step_coil(state_tensor, transition_tensor)\n",
    "    states.append(state_tensor)"
   ]
  },
  {
   "cell_type": "code",
   "execution_count": 13,
   "metadata": {},
   "outputs": [
    {
     "data": {
      "image/png": "[encoded data removed]",
      "text/plain": [
       "<Figure size 1000x600 with 1 Axes>"
      ]
     },
     "metadata": {},
     "output_type": "display_data"
    }
   ],
   "source": [
    "import matplotlib.pyplot as plt\n",
    "\n",
    "# Your data\n",
    "data = [row.to('cpu').detach().numpy() for row in states]\n",
    "# Transpose the data to get 5 traces\n",
    "traces = list(zip(*data))\n",
    "\n",
    "# Plotting\n",
    "plt.figure(figsize=(10, 6))\n",
    "for i, trace in enumerate(traces):\n",
    "    plt.plot(trace, label=f'Trace {i+1}')\n",
    "\n",
    "plt.xlabel('Timestep')\n",
    "plt.ylabel('Value')\n",
    "plt.legend()\n",
    "plt.show()"
   ]
  },
  {
   "cell_type": "markdown",
   "metadata": {},
   "source": [
    "# Example Training"
   ]
  },
  {
   "cell_type": "markdown",
   "metadata": {},
   "source": [
    "## Simple Data Generation"
   ]
  },
  {
   "cell_type": "code",
   "execution_count": 14,
   "metadata": {},
   "outputs": [],
   "source": [
    "import numpy as np\n",
    "import torch\n",
    "\n",
    "def generate_normalized_multivariate_time_series(n_features, total_length, amplitude=1.0):\n",
    "    t = np.linspace(0, 100 * np.pi, total_length)\n",
    "    series = np.zeros((total_length, n_features))\n",
    "    for i in range(n_features):\n",
    "        series[:, i] = amplitude * np.cos(t * (i + 1) / n_features) + 10\n",
    "    \n",
    "    # Normalize such that each timestep's values sum to 1\n",
    "    series_sum = np.sum(series, axis=1, keepdims=True)\n",
    "    series_normalized = series / series_sum\n",
    "    \n",
    "    return series_normalized\n",
    "\n",
    "def segment_time_series(series, length):\n",
    "    # Assuming series is a numpy array of shape [total_length, n_features]\n",
    "    total_length, n_features = series.shape\n",
    "    segments = []\n",
    "    for start in range(0, total_length - length, length):\n",
    "        segment = series[start:start + length]\n",
    "        segments.append(segment)\n",
    "    return np.stack(segments)\n"
   ]
  },
  {
   "cell_type": "code",
   "execution_count": 15,
   "metadata": {},
   "outputs": [],
   "source": [
    "n_features = 4\n",
    "length = 64  # Segment length\n",
    "total_length = 1024  # Arbitrary total length for the generated series\n",
    "\n",
    "# Generate and segment the time series\n",
    "series = generate_normalized_multivariate_time_series(n_features, total_length)\n",
    "series_x = series[:-1,]\n",
    "series_y = series[1:,]\n",
    "\n",
    "segments_x = segment_time_series(series_x, length)\n",
    "segments_y = segment_time_series(series_y, length)\n",
    "\n",
    "# Convert to tensors\n",
    "segments_tensor_x = torch.tensor(segments_x, dtype=torch.float)\n",
    "segments_tensor_y = torch.tensor(segments_y, dtype=torch.float)\n",
    "\n",
    "# Prepare inputs and targets\n",
    "X = segments_tensor_x.to(\"cuda\")\n",
    "# Shift segments to the right by one timestep to create the targets\n",
    "Y =  segments_tensor_y.to(\"cuda\")\n"
   ]
  },
  {
   "cell_type": "code",
   "execution_count": 16,
   "metadata": {},
   "outputs": [
    {
     "name": "stdout",
     "output_type": "stream",
     "text": [
      "Epoch [10/5000], Loss: 0.0002583696332294494\n",
      "Epoch [20/5000], Loss: 0.00024727574782446027\n",
      "Epoch [30/5000], Loss: 0.00023694921401329339\n",
      "Epoch [40/5000], Loss: 0.00023273166152648628\n",
      "Epoch [50/5000], Loss: 0.00022794365941081196\n",
      "Epoch [60/5000], Loss: 0.00022230630565900356\n",
      "Epoch [70/5000], Loss: 0.0002142595185432583\n",
      "Epoch [80/5000], Loss: 0.00019927503308281302\n",
      "Epoch [90/5000], Loss: 0.00015757308574393392\n",
      "Epoch [100/5000], Loss: 0.00024442796711809933\n",
      "Epoch [110/5000], Loss: 0.0002181315066991374\n",
      "Epoch [120/5000], Loss: 0.0002104372251778841\n",
      "Epoch [130/5000], Loss: 0.00020565022714436054\n",
      "Epoch [140/5000], Loss: 0.00019964497187174857\n",
      "Epoch [150/5000], Loss: 0.0001928070414578542\n",
      "Epoch [160/5000], Loss: 0.00018566848302725703\n",
      "Epoch [170/5000], Loss: 0.00017857454076875\n",
      "Epoch [180/5000], Loss: 0.00017243348702322692\n",
      "Epoch [190/5000], Loss: 0.0001667213364271447\n",
      "Epoch [200/5000], Loss: 0.00016169651644304395\n",
      "Epoch [210/5000], Loss: 0.00015735042688902467\n",
      "Epoch [220/5000], Loss: 0.00015295512275770307\n",
      "Epoch [230/5000], Loss: 0.00014832675515208393\n",
      "Epoch [240/5000], Loss: 0.0001433932629879564\n",
      "Epoch [250/5000], Loss: 0.000138077448355034\n",
      "Epoch [260/5000], Loss: 0.00013230351032689214\n",
      "Epoch [270/5000], Loss: 0.000126109182019718\n",
      "Epoch [280/5000], Loss: 0.00011971744243055582\n",
      "Epoch [290/5000], Loss: 0.00011366718536010012\n",
      "Epoch [300/5000], Loss: 0.00010866129014175385\n",
      "Epoch [310/5000], Loss: 0.00012184240767965093\n",
      "Epoch [320/5000], Loss: 0.00010983953688992187\n",
      "Epoch [330/5000], Loss: 0.00010718478733906522\n",
      "Epoch [340/5000], Loss: 0.00010219780961051583\n",
      "Epoch [350/5000], Loss: 9.952676191460341e-05\n",
      "Epoch [360/5000], Loss: 9.651855361880735e-05\n",
      "Epoch [370/5000], Loss: 9.358923125546426e-05\n",
      "Epoch [380/5000], Loss: 0.00011107038881164044\n",
      "Epoch [390/5000], Loss: 9.250728908227757e-05\n",
      "Epoch [400/5000], Loss: 9.321302059106529e-05\n",
      "Epoch [410/5000], Loss: 8.619610161986202e-05\n",
      "Epoch [420/5000], Loss: 8.491512562613934e-05\n",
      "Epoch [430/5000], Loss: 8.228597289416939e-05\n",
      "Epoch [440/5000], Loss: 8.196989801945165e-05\n",
      "Epoch [450/5000], Loss: 9.395334200235084e-05\n",
      "Epoch [460/5000], Loss: 8.963409345597029e-05\n",
      "Epoch [470/5000], Loss: 8.549918129574507e-05\n",
      "Epoch [480/5000], Loss: 7.691790233366191e-05\n",
      "Epoch [490/5000], Loss: 7.474397716578096e-05\n",
      "Epoch [500/5000], Loss: 7.11802567820996e-05\n",
      "Epoch [510/5000], Loss: 6.894657417433336e-05\n",
      "Epoch [520/5000], Loss: 6.700229278067127e-05\n",
      "Epoch [530/5000], Loss: 6.68287102598697e-05\n",
      "Epoch [540/5000], Loss: 6.849467172287405e-05\n",
      "Epoch [550/5000], Loss: 6.404489977285266e-05\n",
      "Epoch [560/5000], Loss: 6.112613482400775e-05\n",
      "Epoch [570/5000], Loss: 9.709016740089282e-05\n",
      "Epoch [580/5000], Loss: 7.744790491415188e-05\n",
      "Epoch [590/5000], Loss: 6.907252827659249e-05\n",
      "Epoch [600/5000], Loss: 5.867360232514329e-05\n",
      "Epoch [610/5000], Loss: 5.58013744011987e-05\n"
     ]
    },
    {
     "ename": "KeyboardInterrupt",
     "evalue": "",
     "output_type": "error",
     "traceback": [
      "\u001b[1;31m---------------------------------------------------------------------------\u001b[0m",
      "\u001b[1;31mKeyboardInterrupt\u001b[0m                         Traceback (most recent call last)",
      "Cell \u001b[1;32mIn[16], line 39\u001b[0m\n\u001b[0;32m     36\u001b[0m loss \u001b[38;5;241m=\u001b[39m criterion(outputs, Y)\n\u001b[0;32m     38\u001b[0m \u001b[38;5;66;03m# Backward and optimize\u001b[39;00m\n\u001b[1;32m---> 39\u001b[0m \u001b[43mloss\u001b[49m\u001b[38;5;241;43m.\u001b[39;49m\u001b[43mbackward\u001b[49m\u001b[43m(\u001b[49m\u001b[43m)\u001b[49m\n\u001b[0;32m     40\u001b[0m optimizer\u001b[38;5;241m.\u001b[39mstep()\n\u001b[0;32m     42\u001b[0m \u001b[38;5;28;01mif\u001b[39;00m (epoch \u001b[38;5;241m+\u001b[39m \u001b[38;5;241m1\u001b[39m) \u001b[38;5;241m%\u001b[39m \u001b[38;5;241m10\u001b[39m \u001b[38;5;241m==\u001b[39m \u001b[38;5;241m0\u001b[39m:\n",
      "File \u001b[1;32mc:\\Users\\johnm\\AppData\\Local\\pypoetry\\Cache\\virtualenvs\\coilspy-1sgZ1XBf-py3.12\\Lib\\site-packages\\torch\\_tensor.py:525\u001b[0m, in \u001b[0;36mTensor.backward\u001b[1;34m(self, gradient, retain_graph, create_graph, inputs)\u001b[0m\n\u001b[0;32m    515\u001b[0m \u001b[38;5;28;01mif\u001b[39;00m has_torch_function_unary(\u001b[38;5;28mself\u001b[39m):\n\u001b[0;32m    516\u001b[0m     \u001b[38;5;28;01mreturn\u001b[39;00m handle_torch_function(\n\u001b[0;32m    517\u001b[0m         Tensor\u001b[38;5;241m.\u001b[39mbackward,\n\u001b[0;32m    518\u001b[0m         (\u001b[38;5;28mself\u001b[39m,),\n\u001b[1;32m   (...)\u001b[0m\n\u001b[0;32m    523\u001b[0m         inputs\u001b[38;5;241m=\u001b[39minputs,\n\u001b[0;32m    524\u001b[0m     )\n\u001b[1;32m--> 525\u001b[0m \u001b[43mtorch\u001b[49m\u001b[38;5;241;43m.\u001b[39;49m\u001b[43mautograd\u001b[49m\u001b[38;5;241;43m.\u001b[39;49m\u001b[43mbackward\u001b[49m\u001b[43m(\u001b[49m\n\u001b[0;32m    526\u001b[0m \u001b[43m    \u001b[49m\u001b[38;5;28;43mself\u001b[39;49m\u001b[43m,\u001b[49m\u001b[43m \u001b[49m\u001b[43mgradient\u001b[49m\u001b[43m,\u001b[49m\u001b[43m \u001b[49m\u001b[43mretain_graph\u001b[49m\u001b[43m,\u001b[49m\u001b[43m \u001b[49m\u001b[43mcreate_graph\u001b[49m\u001b[43m,\u001b[49m\u001b[43m \u001b[49m\u001b[43minputs\u001b[49m\u001b[38;5;241;43m=\u001b[39;49m\u001b[43minputs\u001b[49m\n\u001b[0;32m    527\u001b[0m \u001b[43m\u001b[49m\u001b[43m)\u001b[49m\n",
      "File \u001b[1;32mc:\\Users\\johnm\\AppData\\Local\\pypoetry\\Cache\\virtualenvs\\coilspy-1sgZ1XBf-py3.12\\Lib\\site-packages\\torch\\autograd\\__init__.py:267\u001b[0m, in \u001b[0;36mbackward\u001b[1;34m(tensors, grad_tensors, retain_graph, create_graph, grad_variables, inputs)\u001b[0m\n\u001b[0;32m    262\u001b[0m     retain_graph \u001b[38;5;241m=\u001b[39m create_graph\n\u001b[0;32m    264\u001b[0m \u001b[38;5;66;03m# The reason we repeat the same comment below is that\u001b[39;00m\n\u001b[0;32m    265\u001b[0m \u001b[38;5;66;03m# some Python versions print out the first line of a multi-line function\u001b[39;00m\n\u001b[0;32m    266\u001b[0m \u001b[38;5;66;03m# calls in the traceback and some print out the last line\u001b[39;00m\n\u001b[1;32m--> 267\u001b[0m \u001b[43m_engine_run_backward\u001b[49m\u001b[43m(\u001b[49m\n\u001b[0;32m    268\u001b[0m \u001b[43m    \u001b[49m\u001b[43mtensors\u001b[49m\u001b[43m,\u001b[49m\n\u001b[0;32m    269\u001b[0m \u001b[43m    \u001b[49m\u001b[43mgrad_tensors_\u001b[49m\u001b[43m,\u001b[49m\n\u001b[0;32m    270\u001b[0m \u001b[43m    \u001b[49m\u001b[43mretain_graph\u001b[49m\u001b[43m,\u001b[49m\n\u001b[0;32m    271\u001b[0m \u001b[43m    \u001b[49m\u001b[43mcreate_graph\u001b[49m\u001b[43m,\u001b[49m\n\u001b[0;32m    272\u001b[0m \u001b[43m    \u001b[49m\u001b[43minputs\u001b[49m\u001b[43m,\u001b[49m\n\u001b[0;32m    273\u001b[0m \u001b[43m    \u001b[49m\u001b[43mallow_unreachable\u001b[49m\u001b[38;5;241;43m=\u001b[39;49m\u001b[38;5;28;43;01mTrue\u001b[39;49;00m\u001b[43m,\u001b[49m\n\u001b[0;32m    274\u001b[0m \u001b[43m    \u001b[49m\u001b[43maccumulate_grad\u001b[49m\u001b[38;5;241;43m=\u001b[39;49m\u001b[38;5;28;43;01mTrue\u001b[39;49;00m\u001b[43m,\u001b[49m\n\u001b[0;32m    275\u001b[0m \u001b[43m\u001b[49m\u001b[43m)\u001b[49m\n",
      "File \u001b[1;32mc:\\Users\\johnm\\AppData\\Local\\pypoetry\\Cache\\virtualenvs\\coilspy-1sgZ1XBf-py3.12\\Lib\\site-packages\\torch\\autograd\\graph.py:744\u001b[0m, in \u001b[0;36m_engine_run_backward\u001b[1;34m(t_outputs, *args, **kwargs)\u001b[0m\n\u001b[0;32m    742\u001b[0m     unregister_hooks \u001b[38;5;241m=\u001b[39m _register_logging_hooks_on_whole_graph(t_outputs)\n\u001b[0;32m    743\u001b[0m \u001b[38;5;28;01mtry\u001b[39;00m:\n\u001b[1;32m--> 744\u001b[0m     \u001b[38;5;28;01mreturn\u001b[39;00m \u001b[43mVariable\u001b[49m\u001b[38;5;241;43m.\u001b[39;49m\u001b[43m_execution_engine\u001b[49m\u001b[38;5;241;43m.\u001b[39;49m\u001b[43mrun_backward\u001b[49m\u001b[43m(\u001b[49m\u001b[43m  \u001b[49m\u001b[38;5;66;43;03m# Calls into the C++ engine to run the backward pass\u001b[39;49;00m\n\u001b[0;32m    745\u001b[0m \u001b[43m        \u001b[49m\u001b[43mt_outputs\u001b[49m\u001b[43m,\u001b[49m\u001b[43m \u001b[49m\u001b[38;5;241;43m*\u001b[39;49m\u001b[43margs\u001b[49m\u001b[43m,\u001b[49m\u001b[43m \u001b[49m\u001b[38;5;241;43m*\u001b[39;49m\u001b[38;5;241;43m*\u001b[39;49m\u001b[43mkwargs\u001b[49m\n\u001b[0;32m    746\u001b[0m \u001b[43m    \u001b[49m\u001b[43m)\u001b[49m  \u001b[38;5;66;03m# Calls into the C++ engine to run the backward pass\u001b[39;00m\n\u001b[0;32m    747\u001b[0m \u001b[38;5;28;01mfinally\u001b[39;00m:\n\u001b[0;32m    748\u001b[0m     \u001b[38;5;28;01mif\u001b[39;00m attach_logging_hooks:\n",
      "\u001b[1;31mKeyboardInterrupt\u001b[0m: "
     ]
    }
   ],
   "source": [
    "from torch import nn, optim\n",
    "\n",
    "class CoilBlock(nn.Module):\n",
    "    def __init__(self, n_features, n_batch, device):\n",
    "        super(CoilBlock, self).__init__()\n",
    "\n",
    "        self.coil1 = NeuralCoilLayer(n_features = n_features, n_batch = n_batch, device= device)\n",
    "        self.coil2 = NeuralCoilLayer(n_features = n_features, n_batch = n_batch, device= device)\n",
    "        self.coil3 = NeuralCoilLayer(n_features = n_features, n_batch = n_batch, device= device)\n",
    "    \n",
    "    def forward(self, x):\n",
    "        x, transition_tensor = self.coil1(x)\n",
    "        x, transition_tensor = self.coil2(x)\n",
    "        #x, transition_tensor = self.coil3(x)\n",
    "        return x, transition_tensor\n",
    "    \n",
    "# Model\n",
    "model = NeuralCoilLayer(\n",
    "    n_features = n_features,\n",
    "    n_batch = X.shape[0],\n",
    "    device=\"cuda\"\n",
    ").to(\"cuda\")\n",
    "#model = CoilBlock(n_features=n_features, n_batch= X.shape[0], device=\"cuda\").to(\"cuda\")\n",
    "\n",
    "# Loss and optimizer\n",
    "criterion = nn.MSELoss()\n",
    "optimizer = optim.Adam(model.parameters(), lr=0.01)\n",
    "\n",
    "# Training loop\n",
    "epochs = 5000\n",
    "for epoch in range(epochs):\n",
    "    model.train()\n",
    "    optimizer.zero_grad()\n",
    "    # Forward pass\n",
    "    outputs, transition_tensor = model(X)\n",
    "    loss = criterion(outputs, Y)\n",
    "\n",
    "    # Backward and optimize\n",
    "    loss.backward()\n",
    "    optimizer.step()\n",
    "\n",
    "    if (epoch + 1) % 10 == 0:\n",
    "        print(f'Epoch [{epoch+1}/{epochs}], Loss: {loss.item()}')\n"
   ]
  },
  {
   "cell_type": "code",
   "execution_count": 17,
   "metadata": {},
   "outputs": [
    {
     "data": {
      "application/vnd.plotly.v1+json": {
       "config": {
        "plotlyServerURL": "https://plot.ly"
       },
       "data": [
        {
         "mode": "lines",
         "name": "Model Output",
         "type": "scatter",
         "x": [
          0,
          1,
          2,
          3,
          4,
          5,
          6,
          7,
          8,
          9,
          10,
          11,
          12,
          13,
          14,
          15,
          16,
          17,
          18,
          19,
          20,
          21,
          22,
          23,
          24,
          25,
          26,
          27,
          28,
          29,
          30,
          31,
          32,
          33,
          34,
          35,
          36,
          37,
          38,
          39,
          40,
          41,
          42,
          43,
          44,
          45,
          46,
          47,
          48,
          49,
          50,
          51,
          52,
          53,
          54,
          55,
          56,
          57,
          58,
          59,
          60,
          61,
          62,
          63
         ],
         "y": [
          0.25364160537719727,
          0.24003714323043823,
          0.2494661957025528,
          0.23994818329811096,
          0.23741978406906128,
          0.23953138291835785,
          0.2402506172657013,
          0.24407075345516205,
          0.2492218166589737,
          0.25294598937034607,
          0.2556801438331604,
          0.2574208080768585,
          0.25812220573425293,
          0.2579742968082428,
          0.2576773166656494,
          0.2571701407432556,
          0.255842387676239,
          0.25388893485069275,
          0.2510129511356354,
          0.24726860225200653,
          0.24338126182556152,
          0.23985078930854797,
          0.23725056648254395,
          0.2360653132200241,
          0.23635806143283844,
          0.2379993349313736,
          0.24071891605854034,
          0.24415527284145355,
          0.24801619350910187,
          0.2520827353000641,
          0.2561635971069336,
          0.2600610852241516,
          0.26352232694625854,
          0.26623809337615967,
          0.26789960265159607,
          0.2682781517505646,
          0.2672954797744751,
          0.26505911350250244,
          0.26184555888175964,
          0.258043110370636,
          0.2540781497955322,
          0.2503480613231659,
          0.24717207252979279,
          0.24476654827594757,
          0.2432398945093155,
          0.24260029196739197,
          0.24277089536190033,
          0.24360844492912292,
          0.24492207169532776,
          0.24649439752101898,
          0.24810202419757843,
          0.24953772127628326,
          0.2506299912929535,
          0.2512572407722473,
          0.25135716795921326,
          0.2509271502494812,
          0.2500220537185669,
          0.24874863028526306,
          0.2472590059041977,
          0.24574270844459534,
          0.24441474676132202,
          0.2434985637664795,
          0.24320176243782043,
          0.2436886429786682
         ]
        },
        {
         "mode": "lines",
         "name": "Target",
         "type": "scatter",
         "x": [
          0,
          1,
          2,
          3,
          4,
          5,
          6,
          7,
          8,
          9,
          10,
          11,
          12,
          13,
          14,
          15,
          16,
          17,
          18,
          19,
          20,
          21,
          22,
          23,
          24,
          25,
          26,
          27,
          28,
          29,
          30,
          31,
          32,
          33,
          34,
          35,
          36,
          37,
          38,
          39,
          40,
          41,
          42,
          43,
          44,
          45,
          46,
          47,
          48,
          49,
          50,
          51,
          52,
          53,
          54,
          55,
          56,
          57,
          58,
          59,
          60,
          61,
          62,
          63
         ],
         "y": [
          0.23216553032398224,
          0.23077093064785004,
          0.23141252994537354,
          0.23404042422771454,
          0.23840691149234772,
          0.24409431219100952,
          0.25056329369544983,
          0.25721272826194763,
          0.2634410858154297,
          0.26870131492614746,
          0.272544264793396,
          0.27464941143989563,
          0.2748439610004425,
          0.27311205863952637,
          0.26959556341171265,
          0.26458659768104553,
          0.25851067900657654,
          0.2518983781337738,
          0.24534432590007782,
          0.23945458233356476,
          0.23478581011295319,
          0.231784388422966,
          0.23073501884937286,
          0.23172815144062042,
          0.23465269804000854,
          0.23921430110931396,
          0.2449745386838913,
          0.2514026165008545,
          0.25793009996414185,
          0.2640014886856079,
          0.2691161632537842,
          0.2728607952594757,
          0.2749333083629608,
          0.27516040205955505,
          0.27350980043411255,
          0.2700975835323334,
          0.26518768072128296,
          0.25918054580688477,
          0.25258615612983704,
          0.24597923457622528,
          0.2399383932352066,
          0.23497681319713593,
          0.2314767688512802,
          0.22964219748973846,
          0.22947999835014343,
          0.23081286251544952,
          0.23331819474697113,
          0.23658223450183868,
          0.24015681445598602,
          0.24360913038253784,
          0.246559739112854,
          0.24870789051055908,
          0.24984636902809143,
          0.24986906349658966,
          0.24877385795116425,
          0.24666276574134827,
          0.2437390685081482,
          0.2402999997138977,
          0.23672224581241608,
          0.23343713581562042,
          0.2308930903673172,
          0.22950635850429535,
          0.22960421442985535,
          0.2313707172870636
         ]
        }
       ],
       "layout": {
        "template": {
         "data": {
          "bar": [
           {
            "error_x": {
             "color": "#2a3f5f"
            },
            "error_y": {
             "color": "#2a3f5f"
            },
            "marker": {
             "line": {
              "color": "#E5ECF6",
              "width": 0.5
             },
             "pattern": {
              "fillmode": "overlay",
              "size": 10,
              "solidity": 0.2
             }
            },
            "type": "bar"
           }
          ],
          "barpolar": [
           {
            "marker": {
             "line": {
              "color": "#E5ECF6",
              "width": 0.5
             },
             "pattern": {
              "fillmode": "overlay",
              "size": 10,
              "solidity": 0.2
             }
            },
            "type": "barpolar"
           }
          ],
          "carpet": [
           {
            "aaxis": {
             "endlinecolor": "#2a3f5f",
             "gridcolor": "white",
             "linecolor": "white",
             "minorgridcolor": "white",
             "startlinecolor": "#2a3f5f"
            },
            "baxis": {
             "endlinecolor": "#2a3f5f",
             "gridcolor": "white",
             "linecolor": "white",
             "minorgridcolor": "white",
             "startlinecolor": "#2a3f5f"
            },
            "type": "carpet"
           }
          ],
          "choropleth": [
           {
            "colorbar": {
             "outlinewidth": 0,
             "ticks": ""
            },
            "type": "choropleth"
           }
          ],
          "contour": [
           {
            "colorbar": {
             "outlinewidth": 0,
             "ticks": ""
            },
            "colorscale": [
             [
              0,
              "#0d0887"
             ],
             [
              0.1111111111111111,
              "#46039f"
             ],
             [
              0.2222222222222222,
              "#7201a8"
             ],
             [
              0.3333333333333333,
              "#9c179e"
             ],
             [
              0.4444444444444444,
              "#bd3786"
             ],
             [
              0.5555555555555556,
              "#d8576b"
             ],
             [
              0.6666666666666666,
              "#ed7953"
             ],
             [
              0.7777777777777778,
              "#fb9f3a"
             ],
             [
              0.8888888888888888,
              "#fdca26"
             ],
             [
              1,
              "#f0f921"
             ]
            ],
            "type": "contour"
           }
          ],
          "contourcarpet": [
           {
            "colorbar": {
             "outlinewidth": 0,
             "ticks": ""
            },
            "type": "contourcarpet"
           }
          ],
          "heatmap": [
           {
            "colorbar": {
             "outlinewidth": 0,
             "ticks": ""
            },
            "colorscale": [
             [
              0,
              "#0d0887"
             ],
             [
              0.1111111111111111,
              "#46039f"
             ],
             [
              0.2222222222222222,
              "#7201a8"
             ],
             [
              0.3333333333333333,
              "#9c179e"
             ],
             [
              0.4444444444444444,
              "#bd3786"
             ],
             [
              0.5555555555555556,
              "#d8576b"
             ],
             [
              0.6666666666666666,
              "#ed7953"
             ],
             [
              0.7777777777777778,
              "#fb9f3a"
             ],
             [
              0.8888888888888888,
              "#fdca26"
             ],
             [
              1,
              "#f0f921"
             ]
            ],
            "type": "heatmap"
           }
          ],
          "heatmapgl": [
           {
            "colorbar": {
             "outlinewidth": 0,
             "ticks": ""
            },
            "colorscale": [
             [
              0,
              "#0d0887"
             ],
             [
              0.1111111111111111,
              "#46039f"
             ],
             [
              0.2222222222222222,
              "#7201a8"
             ],
             [
              0.3333333333333333,
              "#9c179e"
             ],
             [
              0.4444444444444444,
              "#bd3786"
             ],
             [
              0.5555555555555556,
              "#d8576b"
             ],
             [
              0.6666666666666666,
              "#ed7953"
             ],
             [
              0.7777777777777778,
              "#fb9f3a"
             ],
             [
              0.8888888888888888,
              "#fdca26"
             ],
             [
              1,
              "#f0f921"
             ]
            ],
            "type": "heatmapgl"
           }
          ],
          "histogram": [
           {
            "marker": {
             "pattern": {
              "fillmode": "overlay",
              "size": 10,
              "solidity": 0.2
             }
            },
            "type": "histogram"
           }
          ],
          "histogram2d": [
           {
            "colorbar": {
             "outlinewidth": 0,
             "ticks": ""
            },
            "colorscale": [
             [
              0,
              "#0d0887"
             ],
             [
              0.1111111111111111,
              "#46039f"
             ],
             [
              0.2222222222222222,
              "#7201a8"
             ],
             [
              0.3333333333333333,
              "#9c179e"
             ],
             [
              0.4444444444444444,
              "#bd3786"
             ],
             [
              0.5555555555555556,
              "#d8576b"
             ],
             [
              0.6666666666666666,
              "#ed7953"
             ],
             [
              0.7777777777777778,
              "#fb9f3a"
             ],
             [
              0.8888888888888888,
              "#fdca26"
             ],
             [
              1,
              "#f0f921"
             ]
            ],
            "type": "histogram2d"
           }
          ],
          "histogram2dcontour": [
           {
            "colorbar": {
             "outlinewidth": 0,
             "ticks": ""
            },
            "colorscale": [
             [
              0,
              "#0d0887"
             ],
             [
              0.1111111111111111,
              "#46039f"
             ],
             [
              0.2222222222222222,
              "#7201a8"
             ],
             [
              0.3333333333333333,
              "#9c179e"
             ],
             [
              0.4444444444444444,
              "#bd3786"
             ],
             [
              0.5555555555555556,
              "#d8576b"
             ],
             [
              0.6666666666666666,
              "#ed7953"
             ],
             [
              0.7777777777777778,
              "#fb9f3a"
             ],
             [
              0.8888888888888888,
              "#fdca26"
             ],
             [
              1,
              "#f0f921"
             ]
            ],
            "type": "histogram2dcontour"
           }
          ],
          "mesh3d": [
           {
            "colorbar": {
             "outlinewidth": 0,
             "ticks": ""
            },
            "type": "mesh3d"
           }
          ],
          "parcoords": [
           {
            "line": {
             "colorbar": {
              "outlinewidth": 0,
              "ticks": ""
             }
            },
            "type": "parcoords"
           }
          ],
          "pie": [
           {
            "automargin": true,
            "type": "pie"
           }
          ],
          "scatter": [
           {
            "fillpattern": {
             "fillmode": "overlay",
             "size": 10,
             "solidity": 0.2
            },
            "type": "scatter"
           }
          ],
          "scatter3d": [
           {
            "line": {
             "colorbar": {
              "outlinewidth": 0,
              "ticks": ""
             }
            },
            "marker": {
             "colorbar": {
              "outlinewidth": 0,
              "ticks": ""
             }
            },
            "type": "scatter3d"
           }
          ],
          "scattercarpet": [
           {
            "marker": {
             "colorbar": {
              "outlinewidth": 0,
              "ticks": ""
             }
            },
            "type": "scattercarpet"
           }
          ],
          "scattergeo": [
           {
            "marker": {
             "colorbar": {
              "outlinewidth": 0,
              "ticks": ""
             }
            },
            "type": "scattergeo"
           }
          ],
          "scattergl": [
           {
            "marker": {
             "colorbar": {
              "outlinewidth": 0,
              "ticks": ""
             }
            },
            "type": "scattergl"
           }
          ],
          "scattermapbox": [
           {
            "marker": {
             "colorbar": {
              "outlinewidth": 0,
              "ticks": ""
             }
            },
            "type": "scattermapbox"
           }
          ],
          "scatterpolar": [
           {
            "marker": {
             "colorbar": {
              "outlinewidth": 0,
              "ticks": ""
             }
            },
            "type": "scatterpolar"
           }
          ],
          "scatterpolargl": [
           {
            "marker": {
             "colorbar": {
              "outlinewidth": 0,
              "ticks": ""
             }
            },
            "type": "scatterpolargl"
           }
          ],
          "scatterternary": [
           {
            "marker": {
             "colorbar": {
              "outlinewidth": 0,
              "ticks": ""
             }
            },
            "type": "scatterternary"
           }
          ],
          "surface": [
           {
            "colorbar": {
             "outlinewidth": 0,
             "ticks": ""
            },
            "colorscale": [
             [
              0,
              "#0d0887"
             ],
             [
              0.1111111111111111,
              "#46039f"
             ],
             [
              0.2222222222222222,
              "#7201a8"
             ],
             [
              0.3333333333333333,
              "#9c179e"
             ],
             [
              0.4444444444444444,
              "#bd3786"
             ],
             [
              0.5555555555555556,
              "#d8576b"
             ],
             [
              0.6666666666666666,
              "#ed7953"
             ],
             [
              0.7777777777777778,
              "#fb9f3a"
             ],
             [
              0.8888888888888888,
              "#fdca26"
             ],
             [
              1,
              "#f0f921"
             ]
            ],
            "type": "surface"
           }
          ],
          "table": [
           {
            "cells": {
             "fill": {
              "color": "#EBF0F8"
             },
             "line": {
              "color": "white"
             }
            },
            "header": {
             "fill": {
              "color": "#C8D4E3"
             },
             "line": {
              "color": "white"
             }
            },
            "type": "table"
           }
          ]
         },
         "layout": {
          "annotationdefaults": {
           "arrowcolor": "#2a3f5f",
           "arrowhead": 0,
           "arrowwidth": 1
          },
          "autotypenumbers": "strict",
          "coloraxis": {
           "colorbar": {
            "outlinewidth": 0,
            "ticks": ""
           }
          },
          "colorscale": {
           "diverging": [
            [
             0,
             "#8e0152"
            ],
            [
             0.1,
             "#c51b7d"
            ],
            [
             0.2,
             "#de77ae"
            ],
            [
             0.3,
             "#f1b6da"
            ],
            [
             0.4,
             "#fde0ef"
            ],
            [
             0.5,
             "#f7f7f7"
            ],
            [
             0.6,
             "#e6f5d0"
            ],
            [
             0.7,
             "#b8e186"
            ],
            [
             0.8,
             "#7fbc41"
            ],
            [
             0.9,
             "#4d9221"
            ],
            [
             1,
             "#276419"
            ]
           ],
           "sequential": [
            [
             0,
             "#0d0887"
            ],
            [
             0.1111111111111111,
             "#46039f"
            ],
            [
             0.2222222222222222,
             "#7201a8"
            ],
            [
             0.3333333333333333,
             "#9c179e"
            ],
            [
             0.4444444444444444,
             "#bd3786"
            ],
            [
             0.5555555555555556,
             "#d8576b"
            ],
            [
             0.6666666666666666,
             "#ed7953"
            ],
            [
             0.7777777777777778,
             "#fb9f3a"
            ],
            [
             0.8888888888888888,
             "#fdca26"
            ],
            [
             1,
             "#f0f921"
            ]
           ],
           "sequentialminus": [
            [
             0,
             "#0d0887"
            ],
            [
             0.1111111111111111,
             "#46039f"
            ],
            [
             0.2222222222222222,
             "#7201a8"
            ],
            [
             0.3333333333333333,
             "#9c179e"
            ],
            [
             0.4444444444444444,
             "#bd3786"
            ],
            [
             0.5555555555555556,
             "#d8576b"
            ],
            [
             0.6666666666666666,
             "#ed7953"
            ],
            [
             0.7777777777777778,
             "#fb9f3a"
            ],
            [
             0.8888888888888888,
             "#fdca26"
            ],
            [
             1,
             "#f0f921"
            ]
           ]
          },
          "colorway": [
           "#636efa",
           "#EF553B",
           "#00cc96",
           "#ab63fa",
           "#FFA15A",
           "#19d3f3",
           "#FF6692",
           "#B6E880",
           "#FF97FF",
           "#FECB52"
          ],
          "font": {
           "color": "#2a3f5f"
          },
          "geo": {
           "bgcolor": "white",
           "lakecolor": "white",
           "landcolor": "#E5ECF6",
           "showlakes": true,
           "showland": true,
           "subunitcolor": "white"
          },
          "hoverlabel": {
           "align": "left"
          },
          "hovermode": "closest",
          "mapbox": {
           "style": "light"
          },
          "paper_bgcolor": "white",
          "plot_bgcolor": "#E5ECF6",
          "polar": {
           "angularaxis": {
            "gridcolor": "white",
            "linecolor": "white",
            "ticks": ""
           },
           "bgcolor": "#E5ECF6",
           "radialaxis": {
            "gridcolor": "white",
            "linecolor": "white",
            "ticks": ""
           }
          },
          "scene": {
           "xaxis": {
            "backgroundcolor": "#E5ECF6",
            "gridcolor": "white",
            "gridwidth": 2,
            "linecolor": "white",
            "showbackground": true,
            "ticks": "",
            "zerolinecolor": "white"
           },
           "yaxis": {
            "backgroundcolor": "#E5ECF6",
            "gridcolor": "white",
            "gridwidth": 2,
            "linecolor": "white",
            "showbackground": true,
            "ticks": "",
            "zerolinecolor": "white"
           },
           "zaxis": {
            "backgroundcolor": "#E5ECF6",
            "gridcolor": "white",
            "gridwidth": 2,
            "linecolor": "white",
            "showbackground": true,
            "ticks": "",
            "zerolinecolor": "white"
           }
          },
          "shapedefaults": {
           "line": {
            "color": "#2a3f5f"
           }
          },
          "ternary": {
           "aaxis": {
            "gridcolor": "white",
            "linecolor": "white",
            "ticks": ""
           },
           "baxis": {
            "gridcolor": "white",
            "linecolor": "white",
            "ticks": ""
           },
           "bgcolor": "#E5ECF6",
           "caxis": {
            "gridcolor": "white",
            "linecolor": "white",
            "ticks": ""
           }
          },
          "title": {
           "x": 0.05
          },
          "xaxis": {
           "automargin": true,
           "gridcolor": "white",
           "linecolor": "white",
           "ticks": "",
           "title": {
            "standoff": 15
           },
           "zerolinecolor": "white",
           "zerolinewidth": 2
          },
          "yaxis": {
           "automargin": true,
           "gridcolor": "white",
           "linecolor": "white",
           "ticks": "",
           "title": {
            "standoff": 15
           },
           "zerolinecolor": "white",
           "zerolinewidth": 2
          }
         }
        },
        "title": {
         "text": "Model Output vs Target for Feature 3, Batch 3"
        },
        "xaxis": {
         "title": {
          "text": "Timestep"
         }
        },
        "yaxis": {
         "title": {
          "text": "Value"
         }
        }
       }
      }
     },
     "metadata": {},
     "output_type": "display_data"
    }
   ],
   "source": [
    "import plotly.graph_objects as go\n",
    "\n",
    "def plot_model_output_vs_target(model_outputs, targets, batch_index=0, feature_index=0):\n",
    "    # Extract the specified feature for the given batch from both the model outputs and targets\n",
    "    model_output_series = model_outputs[batch_index, :, feature_index].detach().numpy()\n",
    "    target_series = targets[batch_index, :, feature_index].numpy()\n",
    "    \n",
    "    # Create a range for the x-axis (timesteps)\n",
    "    timesteps = list(range(model_output_series.shape[0]))\n",
    "    \n",
    "    # Create traces\n",
    "    model_trace = go.Scatter(x=timesteps, y=model_output_series, mode='lines', name='Model Output')\n",
    "    target_trace = go.Scatter(x=timesteps, y=target_series, mode='lines', name='Target')\n",
    "    \n",
    "    # Create the figure and add traces\n",
    "    fig = go.Figure()\n",
    "    fig.add_trace(model_trace)\n",
    "    fig.add_trace(target_trace)\n",
    "    \n",
    "    # Add title and labels\n",
    "    fig.update_layout(title=f'Model Output vs Target for Feature {feature_index}, Batch {batch_index}',\n",
    "                      xaxis_title='Timestep',\n",
    "                      yaxis_title='Value')\n",
    "    \n",
    "    # Show the figure\n",
    "    fig.show()\n",
    "\n",
    "# Assuming `y` and `Y` are your model outputs and targets, respectively\n",
    "# Adjust batch_index and feature_index as needed\n",
    "plot_model_output_vs_target(outputs.to(\"cpu\"), Y.to(\"cpu\"), batch_index=3, feature_index=3)\n"
   ]
  },
  {
   "cell_type": "code",
   "execution_count": 18,
   "metadata": {},
   "outputs": [
    {
     "name": "stdout",
     "output_type": "stream",
     "text": [
      "tensor(1., device='cuda:0', grad_fn=<AddBackward0>)\n",
      "tensor(1.0000, device='cuda:0', grad_fn=<AddBackward0>)\n",
      "tensor(1., device='cuda:0', grad_fn=<AddBackward0>)\n",
      "tensor(1., device='cuda:0', grad_fn=<AddBackward0>)\n",
      "tensor(1., device='cuda:0', grad_fn=<AddBackward0>)\n",
      "tensor(1., device='cuda:0', grad_fn=<AddBackward0>)\n",
      "tensor(1., device='cuda:0', grad_fn=<AddBackward0>)\n",
      "tensor(1., device='cuda:0', grad_fn=<AddBackward0>)\n",
      "tensor(1., device='cuda:0', grad_fn=<AddBackward0>)\n",
      "tensor(1., device='cuda:0', grad_fn=<AddBackward0>)\n",
      "tensor(1.0000, device='cuda:0', grad_fn=<AddBackward0>)\n",
      "tensor(1., device='cuda:0', grad_fn=<AddBackward0>)\n",
      "tensor(1., device='cuda:0', grad_fn=<AddBackward0>)\n",
      "tensor(1., device='cuda:0', grad_fn=<AddBackward0>)\n",
      "tensor(1., device='cuda:0', grad_fn=<AddBackward0>)\n",
      "tensor(1., device='cuda:0', grad_fn=<AddBackward0>)\n",
      "tensor(1., device='cuda:0', grad_fn=<AddBackward0>)\n",
      "tensor(1., device='cuda:0', grad_fn=<AddBackward0>)\n",
      "tensor(1., device='cuda:0', grad_fn=<AddBackward0>)\n",
      "tensor(1., device='cuda:0', grad_fn=<AddBackward0>)\n",
      "tensor(1.0000, device='cuda:0', grad_fn=<AddBackward0>)\n",
      "tensor(1., device='cuda:0', grad_fn=<AddBackward0>)\n",
      "tensor(1., device='cuda:0', grad_fn=<AddBackward0>)\n",
      "tensor(1., device='cuda:0', grad_fn=<AddBackward0>)\n",
      "tensor(1., device='cuda:0', grad_fn=<AddBackward0>)\n",
      "tensor(1., device='cuda:0', grad_fn=<AddBackward0>)\n",
      "tensor(1., device='cuda:0', grad_fn=<AddBackward0>)\n",
      "tensor(1., device='cuda:0', grad_fn=<AddBackward0>)\n",
      "tensor(1., device='cuda:0', grad_fn=<AddBackward0>)\n",
      "tensor(1., device='cuda:0', grad_fn=<AddBackward0>)\n",
      "tensor(1.0000, device='cuda:0', grad_fn=<AddBackward0>)\n",
      "tensor(1., device='cuda:0', grad_fn=<AddBackward0>)\n",
      "tensor(1., device='cuda:0', grad_fn=<AddBackward0>)\n",
      "tensor(1., device='cuda:0', grad_fn=<AddBackward0>)\n",
      "tensor(1., device='cuda:0', grad_fn=<AddBackward0>)\n",
      "tensor(1.0000, device='cuda:0', grad_fn=<AddBackward0>)\n",
      "tensor(1., device='cuda:0', grad_fn=<AddBackward0>)\n",
      "tensor(1., device='cuda:0', grad_fn=<AddBackward0>)\n",
      "tensor(1., device='cuda:0', grad_fn=<AddBackward0>)\n",
      "tensor(1., device='cuda:0', grad_fn=<AddBackward0>)\n",
      "tensor(1., device='cuda:0', grad_fn=<AddBackward0>)\n",
      "tensor(1., device='cuda:0', grad_fn=<AddBackward0>)\n",
      "tensor(1., device='cuda:0', grad_fn=<AddBackward0>)\n",
      "tensor(1.0000, device='cuda:0', grad_fn=<AddBackward0>)\n",
      "tensor(1.0000, device='cuda:0', grad_fn=<AddBackward0>)\n",
      "tensor(1., device='cuda:0', grad_fn=<AddBackward0>)\n",
      "tensor(1., device='cuda:0', grad_fn=<AddBackward0>)\n",
      "tensor(1., device='cuda:0', grad_fn=<AddBackward0>)\n",
      "tensor(1., device='cuda:0', grad_fn=<AddBackward0>)\n",
      "tensor(1., device='cuda:0', grad_fn=<AddBackward0>)\n",
      "tensor(1., device='cuda:0', grad_fn=<AddBackward0>)\n",
      "tensor(1., device='cuda:0', grad_fn=<AddBackward0>)\n",
      "tensor(1., device='cuda:0', grad_fn=<AddBackward0>)\n",
      "tensor(1., device='cuda:0', grad_fn=<AddBackward0>)\n",
      "tensor(1., device='cuda:0', grad_fn=<AddBackward0>)\n",
      "tensor(1., device='cuda:0', grad_fn=<AddBackward0>)\n",
      "tensor(1.0000, device='cuda:0', grad_fn=<AddBackward0>)\n",
      "tensor(1., device='cuda:0', grad_fn=<AddBackward0>)\n",
      "tensor(1., device='cuda:0', grad_fn=<AddBackward0>)\n",
      "tensor(1., device='cuda:0', grad_fn=<AddBackward0>)\n",
      "tensor(1.0000, device='cuda:0', grad_fn=<AddBackward0>)\n",
      "tensor(1.0000, device='cuda:0', grad_fn=<AddBackward0>)\n",
      "tensor(1., device='cuda:0', grad_fn=<AddBackward0>)\n",
      "tensor(1., device='cuda:0', grad_fn=<AddBackward0>)\n",
      "tensor(1., device='cuda:0', grad_fn=<AddBackward0>)\n",
      "tensor(1.0000, device='cuda:0', grad_fn=<AddBackward0>)\n",
      "tensor(1., device='cuda:0', grad_fn=<AddBackward0>)\n",
      "tensor(1., device='cuda:0', grad_fn=<AddBackward0>)\n",
      "tensor(1., device='cuda:0', grad_fn=<AddBackward0>)\n",
      "tensor(1., device='cuda:0', grad_fn=<AddBackward0>)\n",
      "tensor(1., device='cuda:0', grad_fn=<AddBackward0>)\n",
      "tensor(1., device='cuda:0', grad_fn=<AddBackward0>)\n",
      "tensor(1., device='cuda:0', grad_fn=<AddBackward0>)\n",
      "tensor(1., device='cuda:0', grad_fn=<AddBackward0>)\n",
      "tensor(1., device='cuda:0', grad_fn=<AddBackward0>)\n",
      "tensor(1., device='cuda:0', grad_fn=<AddBackward0>)\n",
      "tensor(1.0000, device='cuda:0', grad_fn=<AddBackward0>)\n",
      "tensor(1.0000, device='cuda:0', grad_fn=<AddBackward0>)\n",
      "tensor(1., device='cuda:0', grad_fn=<AddBackward0>)\n",
      "tensor(1., device='cuda:0', grad_fn=<AddBackward0>)\n",
      "tensor(1., device='cuda:0', grad_fn=<AddBackward0>)\n",
      "tensor(1., device='cuda:0', grad_fn=<AddBackward0>)\n",
      "tensor(1.0000, device='cuda:0', grad_fn=<AddBackward0>)\n",
      "tensor(1., device='cuda:0', grad_fn=<AddBackward0>)\n",
      "tensor(1., device='cuda:0', grad_fn=<AddBackward0>)\n",
      "tensor(1., device='cuda:0', grad_fn=<AddBackward0>)\n",
      "tensor(1., device='cuda:0', grad_fn=<AddBackward0>)\n",
      "tensor(1., device='cuda:0', grad_fn=<AddBackward0>)\n",
      "tensor(1., device='cuda:0', grad_fn=<AddBackward0>)\n",
      "tensor(1., device='cuda:0', grad_fn=<AddBackward0>)\n",
      "tensor(1.0000, device='cuda:0', grad_fn=<AddBackward0>)\n",
      "tensor(1., device='cuda:0', grad_fn=<AddBackward0>)\n",
      "tensor(1.0000, device='cuda:0', grad_fn=<AddBackward0>)\n",
      "tensor(1., device='cuda:0', grad_fn=<AddBackward0>)\n",
      "tensor(1., device='cuda:0', grad_fn=<AddBackward0>)\n",
      "tensor(1., device='cuda:0', grad_fn=<AddBackward0>)\n",
      "tensor(1., device='cuda:0', grad_fn=<AddBackward0>)\n",
      "tensor(1., device='cuda:0', grad_fn=<AddBackward0>)\n",
      "tensor(1., device='cuda:0', grad_fn=<AddBackward0>)\n",
      "tensor(1., device='cuda:0', grad_fn=<AddBackward0>)\n",
      "tensor(1., device='cuda:0', grad_fn=<AddBackward0>)\n",
      "tensor(1., device='cuda:0', grad_fn=<AddBackward0>)\n",
      "tensor(1., device='cuda:0', grad_fn=<AddBackward0>)\n",
      "tensor(1., device='cuda:0', grad_fn=<AddBackward0>)\n",
      "tensor(1., device='cuda:0', grad_fn=<AddBackward0>)\n",
      "tensor(1., device='cuda:0', grad_fn=<AddBackward0>)\n",
      "tensor(1., device='cuda:0', grad_fn=<AddBackward0>)\n",
      "tensor(1., device='cuda:0', grad_fn=<AddBackward0>)\n",
      "tensor(1., device='cuda:0', grad_fn=<AddBackward0>)\n",
      "tensor(1., device='cuda:0', grad_fn=<AddBackward0>)\n",
      "tensor(1., device='cuda:0', grad_fn=<AddBackward0>)\n",
      "tensor(1., device='cuda:0', grad_fn=<AddBackward0>)\n",
      "tensor(1., device='cuda:0', grad_fn=<AddBackward0>)\n",
      "tensor(1., device='cuda:0', grad_fn=<AddBackward0>)\n",
      "tensor(1., device='cuda:0', grad_fn=<AddBackward0>)\n",
      "tensor(1., device='cuda:0', grad_fn=<AddBackward0>)\n",
      "tensor(1., device='cuda:0', grad_fn=<AddBackward0>)\n",
      "tensor(1., device='cuda:0', grad_fn=<AddBackward0>)\n",
      "tensor(1., device='cuda:0', grad_fn=<AddBackward0>)\n",
      "tensor(1., device='cuda:0', grad_fn=<AddBackward0>)\n",
      "tensor(1., device='cuda:0', grad_fn=<AddBackward0>)\n",
      "tensor(1., device='cuda:0', grad_fn=<AddBackward0>)\n",
      "tensor(1., device='cuda:0', grad_fn=<AddBackward0>)\n",
      "tensor(1., device='cuda:0', grad_fn=<AddBackward0>)\n",
      "tensor(1., device='cuda:0', grad_fn=<AddBackward0>)\n",
      "tensor(1., device='cuda:0', grad_fn=<AddBackward0>)\n",
      "tensor(1., device='cuda:0', grad_fn=<AddBackward0>)\n",
      "tensor(1., device='cuda:0', grad_fn=<AddBackward0>)\n",
      "tensor(1.0000, device='cuda:0', grad_fn=<AddBackward0>)\n",
      "tensor(1., device='cuda:0', grad_fn=<AddBackward0>)\n",
      "tensor(1., device='cuda:0', grad_fn=<AddBackward0>)\n",
      "tensor(1., device='cuda:0', grad_fn=<AddBackward0>)\n",
      "tensor(1., device='cuda:0', grad_fn=<AddBackward0>)\n",
      "tensor(1., device='cuda:0', grad_fn=<AddBackward0>)\n",
      "tensor(1.0000, device='cuda:0', grad_fn=<AddBackward0>)\n",
      "tensor(1., device='cuda:0', grad_fn=<AddBackward0>)\n",
      "tensor(1.0000, device='cuda:0', grad_fn=<AddBackward0>)\n",
      "tensor(1., device='cuda:0', grad_fn=<AddBackward0>)\n",
      "tensor(1., device='cuda:0', grad_fn=<AddBackward0>)\n",
      "tensor(1., device='cuda:0', grad_fn=<AddBackward0>)\n",
      "tensor(1., device='cuda:0', grad_fn=<AddBackward0>)\n",
      "tensor(1., device='cuda:0', grad_fn=<AddBackward0>)\n",
      "tensor(1., device='cuda:0', grad_fn=<AddBackward0>)\n",
      "tensor(1., device='cuda:0', grad_fn=<AddBackward0>)\n",
      "tensor(1.0000, device='cuda:0', grad_fn=<AddBackward0>)\n",
      "tensor(1., device='cuda:0', grad_fn=<AddBackward0>)\n",
      "tensor(1., device='cuda:0', grad_fn=<AddBackward0>)\n",
      "tensor(1., device='cuda:0', grad_fn=<AddBackward0>)\n",
      "tensor(1., device='cuda:0', grad_fn=<AddBackward0>)\n",
      "tensor(1.0000, device='cuda:0', grad_fn=<AddBackward0>)\n",
      "tensor(1., device='cuda:0', grad_fn=<AddBackward0>)\n",
      "tensor(1.0000, device='cuda:0', grad_fn=<AddBackward0>)\n",
      "tensor(1., device='cuda:0', grad_fn=<AddBackward0>)\n",
      "tensor(1., device='cuda:0', grad_fn=<AddBackward0>)\n",
      "tensor(1.0000, device='cuda:0', grad_fn=<AddBackward0>)\n",
      "tensor(1., device='cuda:0', grad_fn=<AddBackward0>)\n",
      "tensor(1., device='cuda:0', grad_fn=<AddBackward0>)\n",
      "tensor(1., device='cuda:0', grad_fn=<AddBackward0>)\n",
      "tensor(1., device='cuda:0', grad_fn=<AddBackward0>)\n",
      "tensor(1., device='cuda:0', grad_fn=<AddBackward0>)\n",
      "tensor(1., device='cuda:0', grad_fn=<AddBackward0>)\n",
      "tensor(1., device='cuda:0', grad_fn=<AddBackward0>)\n",
      "tensor(1., device='cuda:0', grad_fn=<AddBackward0>)\n",
      "tensor(1., device='cuda:0', grad_fn=<AddBackward0>)\n",
      "tensor(1., device='cuda:0', grad_fn=<AddBackward0>)\n",
      "tensor(1., device='cuda:0', grad_fn=<AddBackward0>)\n",
      "tensor(1., device='cuda:0', grad_fn=<AddBackward0>)\n",
      "tensor(1., device='cuda:0', grad_fn=<AddBackward0>)\n",
      "tensor(1., device='cuda:0', grad_fn=<AddBackward0>)\n",
      "tensor(1., device='cuda:0', grad_fn=<AddBackward0>)\n",
      "tensor(1., device='cuda:0', grad_fn=<AddBackward0>)\n",
      "tensor(1.0000, device='cuda:0', grad_fn=<AddBackward0>)\n",
      "tensor(1., device='cuda:0', grad_fn=<AddBackward0>)\n",
      "tensor(1., device='cuda:0', grad_fn=<AddBackward0>)\n",
      "tensor(1., device='cuda:0', grad_fn=<AddBackward0>)\n",
      "tensor(1., device='cuda:0', grad_fn=<AddBackward0>)\n",
      "tensor(1., device='cuda:0', grad_fn=<AddBackward0>)\n",
      "tensor(1., device='cuda:0', grad_fn=<AddBackward0>)\n",
      "tensor(1., device='cuda:0', grad_fn=<AddBackward0>)\n",
      "tensor(1., device='cuda:0', grad_fn=<AddBackward0>)\n",
      "tensor(1., device='cuda:0', grad_fn=<AddBackward0>)\n",
      "tensor(1.0000, device='cuda:0', grad_fn=<AddBackward0>)\n",
      "tensor(1.0000, device='cuda:0', grad_fn=<AddBackward0>)\n",
      "tensor(1., device='cuda:0', grad_fn=<AddBackward0>)\n",
      "tensor(1., device='cuda:0', grad_fn=<AddBackward0>)\n",
      "tensor(1., device='cuda:0', grad_fn=<AddBackward0>)\n",
      "tensor(1., device='cuda:0', grad_fn=<AddBackward0>)\n",
      "tensor(1., device='cuda:0', grad_fn=<AddBackward0>)\n",
      "tensor(1., device='cuda:0', grad_fn=<AddBackward0>)\n",
      "tensor(1., device='cuda:0', grad_fn=<AddBackward0>)\n",
      "tensor(1., device='cuda:0', grad_fn=<AddBackward0>)\n",
      "tensor(1., device='cuda:0', grad_fn=<AddBackward0>)\n",
      "tensor(1., device='cuda:0', grad_fn=<AddBackward0>)\n",
      "tensor(1., device='cuda:0', grad_fn=<AddBackward0>)\n",
      "tensor(1., device='cuda:0', grad_fn=<AddBackward0>)\n",
      "tensor(1., device='cuda:0', grad_fn=<AddBackward0>)\n",
      "tensor(1., device='cuda:0', grad_fn=<AddBackward0>)\n",
      "tensor(1., device='cuda:0', grad_fn=<AddBackward0>)\n",
      "tensor(1., device='cuda:0', grad_fn=<AddBackward0>)\n",
      "tensor(1., device='cuda:0', grad_fn=<AddBackward0>)\n",
      "tensor(1., device='cuda:0', grad_fn=<AddBackward0>)\n",
      "tensor(1., device='cuda:0', grad_fn=<AddBackward0>)\n",
      "tensor(1., device='cuda:0', grad_fn=<AddBackward0>)\n",
      "tensor(1., device='cuda:0', grad_fn=<AddBackward0>)\n",
      "tensor(1.0000, device='cuda:0', grad_fn=<AddBackward0>)\n",
      "tensor(1., device='cuda:0', grad_fn=<AddBackward0>)\n",
      "tensor(1., device='cuda:0', grad_fn=<AddBackward0>)\n",
      "tensor(1., device='cuda:0', grad_fn=<AddBackward0>)\n",
      "tensor(1., device='cuda:0', grad_fn=<AddBackward0>)\n",
      "tensor(1., device='cuda:0', grad_fn=<AddBackward0>)\n",
      "tensor(1., device='cuda:0', grad_fn=<AddBackward0>)\n",
      "tensor(1., device='cuda:0', grad_fn=<AddBackward0>)\n",
      "tensor(1.0000, device='cuda:0', grad_fn=<AddBackward0>)\n",
      "tensor(1., device='cuda:0', grad_fn=<AddBackward0>)\n",
      "tensor(1., device='cuda:0', grad_fn=<AddBackward0>)\n",
      "tensor(1., device='cuda:0', grad_fn=<AddBackward0>)\n",
      "tensor(1., device='cuda:0', grad_fn=<AddBackward0>)\n",
      "tensor(1., device='cuda:0', grad_fn=<AddBackward0>)\n",
      "tensor(1., device='cuda:0', grad_fn=<AddBackward0>)\n",
      "tensor(1., device='cuda:0', grad_fn=<AddBackward0>)\n",
      "tensor(1., device='cuda:0', grad_fn=<AddBackward0>)\n",
      "tensor(1., device='cuda:0', grad_fn=<AddBackward0>)\n",
      "tensor(1., device='cuda:0', grad_fn=<AddBackward0>)\n",
      "tensor(1., device='cuda:0', grad_fn=<AddBackward0>)\n",
      "tensor(1., device='cuda:0', grad_fn=<AddBackward0>)\n",
      "tensor(1.0000, device='cuda:0', grad_fn=<AddBackward0>)\n",
      "tensor(1.0000, device='cuda:0', grad_fn=<AddBackward0>)\n",
      "tensor(1., device='cuda:0', grad_fn=<AddBackward0>)\n",
      "tensor(1., device='cuda:0', grad_fn=<AddBackward0>)\n",
      "tensor(1., device='cuda:0', grad_fn=<AddBackward0>)\n",
      "tensor(1., device='cuda:0', grad_fn=<AddBackward0>)\n",
      "tensor(1., device='cuda:0', grad_fn=<AddBackward0>)\n",
      "tensor(1.0000, device='cuda:0', grad_fn=<AddBackward0>)\n",
      "tensor(1., device='cuda:0', grad_fn=<AddBackward0>)\n",
      "tensor(1., device='cuda:0', grad_fn=<AddBackward0>)\n",
      "tensor(1.0000, device='cuda:0', grad_fn=<AddBackward0>)\n",
      "tensor(1., device='cuda:0', grad_fn=<AddBackward0>)\n",
      "tensor(1., device='cuda:0', grad_fn=<AddBackward0>)\n",
      "tensor(1., device='cuda:0', grad_fn=<AddBackward0>)\n",
      "tensor(1., device='cuda:0', grad_fn=<AddBackward0>)\n",
      "tensor(1., device='cuda:0', grad_fn=<AddBackward0>)\n",
      "tensor(1., device='cuda:0', grad_fn=<AddBackward0>)\n",
      "tensor(1.0000, device='cuda:0', grad_fn=<AddBackward0>)\n",
      "tensor(1., device='cuda:0', grad_fn=<AddBackward0>)\n",
      "tensor(1., device='cuda:0', grad_fn=<AddBackward0>)\n",
      "tensor(1.0000, device='cuda:0', grad_fn=<AddBackward0>)\n",
      "tensor(1.0000, device='cuda:0', grad_fn=<AddBackward0>)\n",
      "tensor(1.0000, device='cuda:0', grad_fn=<AddBackward0>)\n",
      "tensor(1., device='cuda:0', grad_fn=<AddBackward0>)\n",
      "tensor(1., device='cuda:0', grad_fn=<AddBackward0>)\n",
      "tensor(1.0000, device='cuda:0', grad_fn=<AddBackward0>)\n",
      "tensor(1., device='cuda:0', grad_fn=<AddBackward0>)\n",
      "tensor(1., device='cuda:0', grad_fn=<AddBackward0>)\n",
      "tensor(1., device='cuda:0', grad_fn=<AddBackward0>)\n",
      "tensor(1., device='cuda:0', grad_fn=<AddBackward0>)\n",
      "tensor(1., device='cuda:0', grad_fn=<AddBackward0>)\n",
      "tensor(1., device='cuda:0', grad_fn=<AddBackward0>)\n",
      "tensor(1.0000, device='cuda:0', grad_fn=<AddBackward0>)\n",
      "tensor(1., device='cuda:0', grad_fn=<AddBackward0>)\n",
      "tensor(1., device='cuda:0', grad_fn=<AddBackward0>)\n",
      "tensor(1., device='cuda:0', grad_fn=<AddBackward0>)\n",
      "tensor(1., device='cuda:0', grad_fn=<AddBackward0>)\n",
      "tensor(1., device='cuda:0', grad_fn=<AddBackward0>)\n",
      "tensor(1., device='cuda:0', grad_fn=<AddBackward0>)\n",
      "tensor(1., device='cuda:0', grad_fn=<AddBackward0>)\n",
      "tensor(1.0000, device='cuda:0', grad_fn=<AddBackward0>)\n",
      "tensor(1., device='cuda:0', grad_fn=<AddBackward0>)\n",
      "tensor(1., device='cuda:0', grad_fn=<AddBackward0>)\n",
      "tensor(1., device='cuda:0', grad_fn=<AddBackward0>)\n",
      "tensor(1., device='cuda:0', grad_fn=<AddBackward0>)\n",
      "tensor(1.0000, device='cuda:0', grad_fn=<AddBackward0>)\n",
      "tensor(1., device='cuda:0', grad_fn=<AddBackward0>)\n",
      "tensor(1., device='cuda:0', grad_fn=<AddBackward0>)\n",
      "tensor(1., device='cuda:0', grad_fn=<AddBackward0>)\n",
      "tensor(1., device='cuda:0', grad_fn=<AddBackward0>)\n",
      "tensor(1., device='cuda:0', grad_fn=<AddBackward0>)\n",
      "tensor(1.0000, device='cuda:0', grad_fn=<AddBackward0>)\n",
      "tensor(1., device='cuda:0', grad_fn=<AddBackward0>)\n",
      "tensor(1., device='cuda:0', grad_fn=<AddBackward0>)\n",
      "tensor(1., device='cuda:0', grad_fn=<AddBackward0>)\n",
      "tensor(1.0000, device='cuda:0', grad_fn=<AddBackward0>)\n",
      "tensor(1., device='cuda:0', grad_fn=<AddBackward0>)\n",
      "tensor(1., device='cuda:0', grad_fn=<AddBackward0>)\n",
      "tensor(1., device='cuda:0', grad_fn=<AddBackward0>)\n",
      "tensor(1., device='cuda:0', grad_fn=<AddBackward0>)\n",
      "tensor(1., device='cuda:0', grad_fn=<AddBackward0>)\n",
      "tensor(1., device='cuda:0', grad_fn=<AddBackward0>)\n",
      "tensor(1., device='cuda:0', grad_fn=<AddBackward0>)\n",
      "tensor(1., device='cuda:0', grad_fn=<AddBackward0>)\n",
      "tensor(1.0000, device='cuda:0', grad_fn=<AddBackward0>)\n",
      "tensor(1.0000, device='cuda:0', grad_fn=<AddBackward0>)\n",
      "tensor(1., device='cuda:0', grad_fn=<AddBackward0>)\n",
      "tensor(1., device='cuda:0', grad_fn=<AddBackward0>)\n",
      "tensor(1., device='cuda:0', grad_fn=<AddBackward0>)\n",
      "tensor(1., device='cuda:0', grad_fn=<AddBackward0>)\n",
      "tensor(1.0000, device='cuda:0', grad_fn=<AddBackward0>)\n",
      "tensor(1., device='cuda:0', grad_fn=<AddBackward0>)\n",
      "tensor(1., device='cuda:0', grad_fn=<AddBackward0>)\n",
      "tensor(1., device='cuda:0', grad_fn=<AddBackward0>)\n",
      "tensor(1., device='cuda:0', grad_fn=<AddBackward0>)\n"
     ]
    },
    {
     "data": {
      "image/png": "[encoded data removed]",
      "text/plain": [
       "<Figure size 1000x600 with 1 Axes>"
      ]
     },
     "metadata": {},
     "output_type": "display_data"
    }
   ],
   "source": [
    "states = []\n",
    "batch = 3\n",
    "state_tensor = X[:,0,:]\n",
    "batch_size = 15\n",
    "transition_tensor = torch.zeros(batch_size, n_features, n_features).to(\"cuda\")\n",
    "for step_state in range(300):\n",
    "    state_tensor, transition_tensor = model.step_coil(state_tensor, transition_tensor)\n",
    "    states.append(state_tensor[batch,:])\n",
    "    print(sum(state_tensor[batch,:]))\n",
    "    \n",
    "\n",
    "# Your data\n",
    "data = [row.to('cpu').detach().numpy() for row in states]\n",
    "# Transpose the data to get 5 traces\n",
    "traces = list(zip(*data))\n",
    "\n",
    "# Plotting\n",
    "plt.figure(figsize=(10, 6))\n",
    "for i, trace in enumerate(traces):\n",
    "    plt.plot(trace, label=f'Trace {i+1}')\n",
    "\n",
    "plt.xlabel('Timestep')\n",
    "plt.ylabel('Value')\n",
    "plt.legend()\n",
    "plt.show()"
   ]
  }
 ],
 "metadata": {
  "kernelspec": {
   "display_name": "coilspy-1sgZ1XBf-py3.12",
   "language": "python",
   "name": "python3"
  },
  "language_info": {
   "codemirror_mode": {
    "name": "ipython",
    "version": 3
   },
   "file_extension": ".py",
   "mimetype": "text/x-python",
   "name": "python",
   "nbconvert_exporter": "python",
   "pygments_lexer": "ipython3",
   "version": "3.12.2"
  }
 },
 "nbformat": 4,
 "nbformat_minor": 2
}
