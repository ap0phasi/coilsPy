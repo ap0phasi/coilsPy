{
 "cells": [
  {
   "cell_type": "code",
   "execution_count": 1,
   "metadata": {},
   "outputs": [],
   "source": [
    "import torch\n",
    "import torch.nn as nn\n",
    "import torch.nn.functional as F"
   ]
  },
  {
   "cell_type": "code",
   "execution_count": 2,
   "metadata": {},
   "outputs": [
    {
     "name": "stdout",
     "output_type": "stream",
     "text": [
      "tensor([[0.1052, 0.2757, 0.0160, 0.3578, 0.1179, 0.1274],\n",
      "        [0.1658, 0.0518, 0.1992, 0.1765, 0.1531, 0.2536],\n",
      "        [0.1610, 0.2166, 0.1370, 0.1423, 0.1248, 0.2183],\n",
      "        [0.3131, 0.0165, 0.0235, 0.3635, 0.0856, 0.1979],\n",
      "        [0.2928, 0.1073, 0.1783, 0.1090, 0.0940, 0.2186]])\n",
      "tensor([1.0000, 1.0000, 1.0000, 1.0000, 1.0000])\n"
     ]
    }
   ],
   "source": [
    "def torch_randnorm(size, dim=0):\n",
    "    # Generate a random tensor\n",
    "    rand_tensor = torch.rand(size)\n",
    "    \n",
    "    # Normalize along the specified dimension\n",
    "    sum_along_dim = torch.sum(rand_tensor, dim=dim, keepdim=True)\n",
    "    normalized_tensor = rand_tensor / sum_along_dim\n",
    "    \n",
    "    return normalized_tensor\n",
    "\n",
    "# Example usage\n",
    "normalized_tensor = torch_randnorm([5,6], dim=1)\n",
    "print(normalized_tensor)\n",
    "print(normalized_tensor.sum(dim=1))"
   ]
  },
  {
   "cell_type": "code",
   "execution_count": 17,
   "metadata": {},
   "outputs": [],
   "source": [
    "class NeuralCoilLayer(nn.Module):\n",
    "    def __init__(self, n_features):\n",
    "        super(NeuralCoilLayer, self).__init__()\n",
    "        self.n_features = n_features\n",
    "        self.attention_weights = nn.Linear(n_features, 1, bias=False)\n",
    "        self.act = nn.SiLU()\n",
    "        self.interaction_tensors = nn.Parameter(torch.randn(n_features, n_features, n_features, n_features + 1))\n",
    "        self.topk_num = 1\n",
    "        \n",
    "    def step_coil(self, state_tensor, previous_transition_tensor):\n",
    "        # Establish normalized subgroups\n",
    "        norm_subgroups = torch.cat((state_tensor.unsqueeze(-2), previous_transition_tensor), dim=1)\n",
    "        batch_size, num_groups, n_features = norm_subgroups.shape\n",
    "        \n",
    "        # Compute scores for each normalized subgroup\n",
    "        scores = self.act(self.attention_weights(norm_subgroups)).sum(-1) # [batch_size, num_groups]\n",
    "        \n",
    "        weights = torch.softmax(scores,dim = -1) # [batch_size, num_groups]\n",
    "        \n",
    "        selected_interaction_tensors = self.interaction_tensors\n",
    "        selected_norm_subgroups = norm_subgroups\n",
    "\n",
    "        #selected_transition_tensors = torch.einsum('ijks,bsi->bjks', selected_interaction_tensors, selected_norm_subgroups)\n",
    "        \n",
    "        selected_transition_tensors = (torch.mul(selected_interaction_tensors, selected_norm_subgroups.permute(0,2,1).unsqueeze(1).unsqueeze(1))).sum(-2)\n",
    "        \n",
    "        # We need a single transition tensor so we will average this as well\n",
    "        #selected_transition_tensor = torch.einsum('bs,bjks->bjk', weights,selected_transition_tensors)\n",
    "        \n",
    "        selected_transition_tensor = (torch.mul(selected_transition_tensors, weights.unsqueeze(-2).unsqueeze(-2))).sum(-1)\n",
    "        # Generate state tensor from the transition tensor\n",
    "        # Unsqueezing state_tensor to make it [batch_size, n_features, 1] for matrix multiplication\n",
    "        state_tensor_unsqueezed = state_tensor.unsqueeze(2)\n",
    "\n",
    "        # Performing batch matrix multiplication\n",
    "        new_state_tensor_bmm = torch.bmm(selected_transition_tensor, state_tensor_unsqueezed)\n",
    "\n",
    "        # Squeezing the result to get rid of the extra dimension, resulting in [batch_size, n_features]\n",
    "        new_state_tensor = new_state_tensor_bmm.squeeze(2)\n",
    "    \n",
    "        softmax_tensor = torch.softmax(new_state_tensor * n_features, dim = 1)\n",
    "        \n",
    "        return softmax_tensor, selected_transition_tensor\n",
    "\n",
    "\n",
    "    def forward(self, x):\n",
    "        batch, length, n_features = x.size()\n",
    "        output = x.new_empty(batch, length, n_features)\n",
    "\n",
    "        # Initialize previous transition tensors (for the first step)\n",
    "        # Assuming it's a list of zero tensors for simplicity\n",
    "        transition_tensor = torch.zeros(batch, n_features, n_features).to(\"cuda\")\n",
    "\n",
    "        for l in range(length):\n",
    "            state_tensor = x[:, l, :]\n",
    "            \n",
    "            # Compute output for this step\n",
    "            output[:, l, :], transition_tensor = self.step_coil(state_tensor, transition_tensor)\n",
    "\n",
    "        return output, transition_tensor\n"
   ]
  },
  {
   "cell_type": "markdown",
   "metadata": {},
   "source": [
    "# Sequence-to-Sequence Check"
   ]
  },
  {
   "cell_type": "code",
   "execution_count": 4,
   "metadata": {},
   "outputs": [
    {
     "name": "stdout",
     "output_type": "stream",
     "text": [
      "torch.Size([13, 64, 16])\n"
     ]
    }
   ],
   "source": [
    "n_features = 16\n",
    "batch, length, dim = 13, 64, n_features\n",
    "x = torch.randn(batch, length, dim)\n",
    "model = NeuralCoilLayer(\n",
    "    n_features = n_features\n",
    ")\n",
    "y = model(x)\n",
    "\n",
    "\n",
    "print(y[0].shape)\n",
    "assert y[0].shape == x.shape"
   ]
  },
  {
   "cell_type": "code",
   "execution_count": 5,
   "metadata": {},
   "outputs": [
    {
     "name": "stdout",
     "output_type": "stream",
     "text": [
      "tensor([4.7436, 4.0785, 4.4973, 4.3618, 5.7443, 4.3203, 5.5122, 4.4360, 5.0077,\n",
      "        4.7498, 4.8608, 5.2466, 4.7276, 4.3100, 4.4989, 4.4065])\n",
      "tensor([4.7436, 4.0785, 4.4973, 4.3618, 5.7443, 4.3203, 5.5122, 4.4360, 5.0077,\n",
      "        4.7498, 4.8608, 5.2466, 4.7276, 4.3100, 4.4989, 4.4065])\n"
     ]
    }
   ],
   "source": [
    "batch_size = 13\n",
    "n = 16\n",
    "slices = 17\n",
    "\n",
    "weights = torch.rand(batch_size,slices)\n",
    "selected_transition_tensors = torch.rand(batch_size, n, n ,slices)\n",
    "\n",
    "selected_transition_tensor = torch.einsum('bs,bjks->bjk', weights,selected_transition_tensors)\n",
    "\n",
    "alt = (selected_transition_tensors * weights.unsqueeze(-2).unsqueeze(-2)).sum(-1)\n",
    "alt3 = (torch.mul(selected_transition_tensors, weights.unsqueeze(-2).unsqueeze(-2))).sum(-1)\n",
    "print(alt3[5,6])\n",
    "print(selected_transition_tensor[5,6])\n"
   ]
  },
  {
   "cell_type": "code",
   "execution_count": 6,
   "metadata": {},
   "outputs": [
    {
     "name": "stdout",
     "output_type": "stream",
     "text": [
      "torch.Size([13, 16, 16, 17])\n",
      "tensor([2.7884, 3.6958, 4.6716, 2.4361, 4.0765, 3.1958, 4.2017, 3.5214, 5.6546,\n",
      "        4.0812, 4.1953, 4.6992, 3.4613, 5.1474, 4.2242, 4.6356, 3.7438])\n",
      "tensor([3.0229, 2.9238, 4.8740, 3.0197, 4.6486, 3.8015, 4.1525, 2.7222, 5.3550,\n",
      "        4.9529, 5.1348, 4.4440, 2.9665, 3.7944, 4.0189, 4.5831, 2.3307])\n",
      "tensor([3.0229, 2.9238, 4.8740, 3.0197, 4.6486, 3.8014, 4.1525, 2.7222, 5.3550,\n",
      "        4.9529, 5.1348, 4.4440, 2.9665, 3.7944, 4.0189, 4.5831, 2.3307])\n",
      "tensor(3.2307)\n",
      "tensor(3.2307)\n"
     ]
    },
    {
     "name": "stderr",
     "output_type": "stream",
     "text": [
      "c:\\Users\\johnm\\AppData\\Local\\pypoetry\\Cache\\virtualenvs\\coilspy-1sgZ1XBf-py3.12\\Lib\\site-packages\\einops\\einops.py:827: SyntaxWarning: invalid escape sequence '\\s'\n",
      "  \"\"\"\n"
     ]
    }
   ],
   "source": [
    "from einops import rearrange, repeat\n",
    "\n",
    "selected_interaction_tensors = torch.rand(n,n,n,slices)\n",
    "selected_norm_subgroups = torch.rand(batch_size,slices, n)\n",
    "\n",
    "selected_transition_tensors = torch.einsum('ijks,bsi->bjks', selected_interaction_tensors, selected_norm_subgroups)\n",
    "selected_transition_tensors2 = torch.einsum('ijks,bks->bijs', selected_interaction_tensors, selected_norm_subgroups.permute(0,2,1))\n",
    "\n",
    "alt2 = (selected_interaction_tensors * selected_norm_subgroups.permute(0,2,1).unsqueeze(1).unsqueeze(1)).sum(-2)\n",
    "print(alt2.shape)\n",
    "print(selected_transition_tensors[5,6,2])\n",
    "print(selected_transition_tensors2[5,6,2])\n",
    "print(alt2[5,6,2])\n",
    "\n",
    "\n",
    "slicetest = torch.matmul(selected_interaction_tensors[:,:,:,2],selected_norm_subgroups.permute(0,2,1)[1,:,2])\n",
    "print(slicetest[5,9])\n",
    "print(alt2[1,:,:,2][5,9])"
   ]
  },
  {
   "cell_type": "code",
   "execution_count": 7,
   "metadata": {},
   "outputs": [
    {
     "data": {
      "text/plain": [
       "torch.Size([13, 16, 16])"
      ]
     },
     "execution_count": 7,
     "metadata": {},
     "output_type": "execute_result"
    }
   ],
   "source": [
    "# Step 1: Rearrange selected_norm_subgroups to move the 'i' dimension to the last position\n",
    "selected_norm_subgroups_rearranged = rearrange(selected_norm_subgroups, 'b s i -> (i s) b')\n",
    "\n",
    "# Step 2: Perform matrix multiplication\n",
    "# selected_interaction_tensors shape is assumed to be [..., i, ...], matching 'i' with 's' of rearranged\n",
    "result = rearrange(torch.matmul(rearrange(selected_interaction_tensors, 'i j k s -> j k (i s)'), selected_norm_subgroups_rearranged),'j k b -> b j k')\n",
    "result.shape"
   ]
  },
  {
   "cell_type": "code",
   "execution_count": 8,
   "metadata": {},
   "outputs": [
    {
     "name": "stdout",
     "output_type": "stream",
     "text": [
      "tensor(5.1410)\n",
      "tensor(5.1410)\n",
      "tensor(5.1410)\n",
      "tensor(5.1410)\n"
     ]
    }
   ],
   "source": [
    "i, j, k = 14, 12, 17\n",
    "\n",
    "tensor_a = torch.rand(i,k)\n",
    "tensor_b = torch.rand(k,j)\n",
    "\n",
    "option1 = torch.matmul(tensor_a, tensor_b)\n",
    "option2 = torch.einsum('ik,kj -> ij',tensor_a, tensor_b)\n",
    "option3 = tensor_a@tensor_b\n",
    "option4 = (tensor_a.unsqueeze(-1) * tensor_b).sum(dim=1)\n",
    "\n",
    "print(option1[5,2])\n",
    "print(option2[5,2])\n",
    "print(option3[5,2])\n",
    "print(option4[5,2])"
   ]
  },
  {
   "cell_type": "code",
   "execution_count": 9,
   "metadata": {},
   "outputs": [
    {
     "name": "stdout",
     "output_type": "stream",
     "text": [
      "-----------------------  ------------  ------------  ------------  ------------  ------------  ------------  \n",
      "                   Name    Self CPU %      Self CPU   CPU total %     CPU total  CPU time avg    # of Calls  \n",
      "-----------------------  ------------  ------------  ------------  ------------  ------------  ------------  \n",
      "        model_inference        15.30%      34.808ms       100.00%     227.469ms     227.469ms             1  \n",
      "              aten::mul        35.44%      80.625ms        36.27%      82.505ms     429.714us           192  \n",
      "              aten::sum        29.27%      66.582ms        30.90%      70.296ms     366.125us           192  \n",
      "          aten::softmax         0.23%     516.000us         3.77%       8.572ms      66.969us           128  \n",
      "         aten::_softmax         3.54%       8.056ms         3.54%       8.056ms      62.938us           128  \n",
      "           aten::linear         0.31%     702.000us         2.92%       6.643ms     103.797us            64  \n",
      "        aten::unsqueeze         2.05%       4.656ms         2.33%       5.311ms      13.831us           384  \n",
      "            aten::slice         1.96%       4.461ms         2.16%       4.914ms      12.797us           384  \n",
      "           aten::matmul         0.45%       1.017ms         2.08%       4.736ms      74.000us            64  \n",
      "              aten::cat         1.21%       2.752ms         1.89%       4.290ms      67.031us            64  \n",
      "-----------------------  ------------  ------------  ------------  ------------  ------------  ------------  \n",
      "Self CPU time total: 227.469ms\n",
      "\n"
     ]
    }
   ],
   "source": [
    "from torch.profiler import profile, record_function, ProfilerActivity\n",
    "\n",
    "with profile(activities=[ProfilerActivity.CPU], record_shapes=True) as prof:\n",
    "    with record_function(\"model_inference\"):\n",
    "        model(x)\n",
    "        \n",
    "print(prof.key_averages().table(sort_by=\"cpu_time_total\", row_limit=10))"
   ]
  },
  {
   "cell_type": "markdown",
   "metadata": {},
   "source": [
    "## Consistency Check"
   ]
  },
  {
   "cell_type": "code",
   "execution_count": 10,
   "metadata": {},
   "outputs": [
    {
     "name": "stdout",
     "output_type": "stream",
     "text": [
      "tensor([ 0.6765,  1.3995, -0.2658,  0.0949])\n",
      "tensor([8.2955e-05, 9.9777e-01, 1.8518e-03, 2.9599e-04],\n",
      "       grad_fn=<SliceBackward0>)\n",
      "tensor([8.2955e-05, 9.9777e-01, 1.8518e-03, 2.9599e-04],\n",
      "       grad_fn=<SliceBackward0>)\n"
     ]
    }
   ],
   "source": [
    "n_features = 4\n",
    "batch, length, dim = 13, 64, n_features\n",
    "x =torch.randn(batch, length, dim)\n",
    "model = NeuralCoilLayer(\n",
    "    n_features = n_features\n",
    ")\n",
    "\n",
    "l = 1\n",
    "state_tensor = x[:, l, :]\n",
    "print(state_tensor[1,:])\n",
    "transition_tensor = torch.randn(batch, n_features, n_features)\n",
    "new_state, new_transition_tensor = model.step_coil(state_tensor, transition_tensor)\n",
    "print(new_state[1,:])\n",
    "new_state, new_transition_tensor = model.step_coil(state_tensor, transition_tensor)\n",
    "print(new_state[1,:])"
   ]
  },
  {
   "cell_type": "markdown",
   "metadata": {},
   "source": [
    "This should be the same as if we just look at the batches independently"
   ]
  },
  {
   "cell_type": "code",
   "execution_count": 11,
   "metadata": {},
   "outputs": [
    {
     "data": {
      "text/plain": [
       "tensor([8.2955e-05, 9.9777e-01, 1.8518e-03, 2.9599e-04],\n",
       "       grad_fn=<SliceBackward0>)"
      ]
     },
     "execution_count": 11,
     "metadata": {},
     "output_type": "execute_result"
    }
   ],
   "source": [
    "batch = 2\n",
    "transition_tensor = transition_tensor[0:2,:,:]\n",
    "l = 1\n",
    "state_tensor = x[0:2, l, :]\n",
    "new_state, new_transition_tensor = model.step_coil(state_tensor, transition_tensor)\n",
    "new_state[1,:]"
   ]
  },
  {
   "cell_type": "code",
   "execution_count": 12,
   "metadata": {},
   "outputs": [],
   "source": [
    "states = []\n",
    "for step_state in range(100):\n",
    "    state_tensor, transition_tensor = model.step_coil(state_tensor, transition_tensor)\n",
    "    states.append(state_tensor)"
   ]
  },
  {
   "cell_type": "code",
   "execution_count": 13,
   "metadata": {},
   "outputs": [
    {
     "data": {
      "image/png": "[encoded data removed]",
      "text/plain": [
       "<Figure size 1000x600 with 1 Axes>"
      ]
     },
     "metadata": {},
     "output_type": "display_data"
    }
   ],
   "source": [
    "import matplotlib.pyplot as plt\n",
    "\n",
    "# Your data\n",
    "data = [row.to('cpu').detach().numpy() for row in states]\n",
    "# Transpose the data to get 5 traces\n",
    "traces = list(zip(*data))\n",
    "\n",
    "# Plotting\n",
    "plt.figure(figsize=(10, 6))\n",
    "for i, trace in enumerate(traces):\n",
    "    plt.plot(trace, label=f'Trace {i+1}')\n",
    "\n",
    "plt.xlabel('Timestep')\n",
    "plt.ylabel('Value')\n",
    "plt.legend()\n",
    "plt.show()"
   ]
  },
  {
   "cell_type": "markdown",
   "metadata": {},
   "source": [
    "# Example Training"
   ]
  },
  {
   "cell_type": "markdown",
   "metadata": {},
   "source": [
    "## Simple Data Generation"
   ]
  },
  {
   "cell_type": "code",
   "execution_count": 14,
   "metadata": {},
   "outputs": [],
   "source": [
    "import numpy as np\n",
    "import torch\n",
    "\n",
    "def generate_normalized_multivariate_time_series(n_features, total_length, amplitude=1.0):\n",
    "    t = np.linspace(0, 100 * np.pi, total_length)\n",
    "    series = np.zeros((total_length, n_features))\n",
    "    for i in range(n_features):\n",
    "        series[:, i] = amplitude * np.cos(t * (i + 1) / n_features) + 10\n",
    "    \n",
    "    # Normalize such that each timestep's values sum to 1\n",
    "    series_sum = np.sum(series, axis=1, keepdims=True)\n",
    "    series_normalized = series / series_sum\n",
    "    \n",
    "    return series_normalized\n",
    "\n",
    "def segment_time_series(series, length):\n",
    "    # Assuming series is a numpy array of shape [total_length, n_features]\n",
    "    total_length, n_features = series.shape\n",
    "    segments = []\n",
    "    for start in range(0, total_length - length, length):\n",
    "        segment = series[start:start + length]\n",
    "        segments.append(segment)\n",
    "    return np.stack(segments)\n"
   ]
  },
  {
   "cell_type": "code",
   "execution_count": 15,
   "metadata": {},
   "outputs": [],
   "source": [
    "n_features = 4\n",
    "length = 64  # Segment length\n",
    "total_length = 1024  # Arbitrary total length for the generated series\n",
    "\n",
    "# Generate and segment the time series\n",
    "series = generate_normalized_multivariate_time_series(n_features, total_length)\n",
    "series_x = series[:-1,]\n",
    "series_y = series[1:,]\n",
    "\n",
    "segments_x = segment_time_series(series_x, length)\n",
    "segments_y = segment_time_series(series_y, length)\n",
    "\n",
    "# Convert to tensors\n",
    "segments_tensor_x = torch.tensor(segments_x, dtype=torch.float)\n",
    "segments_tensor_y = torch.tensor(segments_y, dtype=torch.float)\n",
    "\n",
    "# Prepare inputs and targets\n",
    "X = segments_tensor_x.to(\"cuda\")\n",
    "# Shift segments to the right by one timestep to create the targets\n",
    "Y =  segments_tensor_y.to(\"cuda\")\n"
   ]
  },
  {
   "cell_type": "code",
   "execution_count": 18,
   "metadata": {},
   "outputs": [
    {
     "name": "stdout",
     "output_type": "stream",
     "text": [
      "Epoch [10/5000], Loss: 0.0005758670158684254\n",
      "Epoch [20/5000], Loss: 0.0004256024840287864\n",
      "Epoch [30/5000], Loss: 0.0003589369007386267\n",
      "Epoch [40/5000], Loss: 0.0003269767912570387\n",
      "Epoch [50/5000], Loss: 0.0003017389099113643\n",
      "Epoch [60/5000], Loss: 0.00028334304806776345\n",
      "Epoch [70/5000], Loss: 0.00026763719506561756\n",
      "Epoch [80/5000], Loss: 0.0002541397698223591\n",
      "Epoch [90/5000], Loss: 0.00024207725073210895\n",
      "Epoch [100/5000], Loss: 0.00023116414377000183\n",
      "Epoch [110/5000], Loss: 0.00022111590078566223\n",
      "Epoch [120/5000], Loss: 0.00021176744485273957\n",
      "Epoch [130/5000], Loss: 0.00020297949959058315\n",
      "Epoch [140/5000], Loss: 0.00019464216893538833\n",
      "Epoch [150/5000], Loss: 0.00018666591495275497\n",
      "Epoch [160/5000], Loss: 0.00017897786165121943\n",
      "Epoch [170/5000], Loss: 0.0001715178368613124\n",
      "Epoch [180/5000], Loss: 0.0001642363058635965\n",
      "Epoch [190/5000], Loss: 0.0001570934837218374\n",
      "Epoch [200/5000], Loss: 0.0001500580838182941\n",
      "Epoch [210/5000], Loss: 0.0001431072159903124\n",
      "Epoch [220/5000], Loss: 0.00013622599362861365\n",
      "Epoch [230/5000], Loss: 0.0001294077665079385\n",
      "Epoch [240/5000], Loss: 0.00012265412078704685\n",
      "Epoch [250/5000], Loss: 0.0001159753228421323\n",
      "Epoch [260/5000], Loss: 0.00010939026833511889\n",
      "Epoch [270/5000], Loss: 0.00010292627121089026\n",
      "Epoch [280/5000], Loss: 9.66181032708846e-05\n",
      "Epoch [290/5000], Loss: 9.05061315279454e-05\n",
      "Epoch [300/5000], Loss: 8.46327020553872e-05\n",
      "Epoch [310/5000], Loss: 7.903655932750553e-05\n",
      "Epoch [320/5000], Loss: 7.374602137133479e-05\n",
      "Epoch [330/5000], Loss: 6.87725332682021e-05\n",
      "Epoch [340/5000], Loss: 6.41080187051557e-05\n",
      "Epoch [350/5000], Loss: 5.972881626803428e-05\n",
      "Epoch [360/5000], Loss: 5.560516729019582e-05\n",
      "Epoch [370/5000], Loss: 5.171094016986899e-05\n",
      "Epoch [380/5000], Loss: 4.8029196477727965e-05\n",
      "Epoch [390/5000], Loss: 4.455238376976922e-05\n",
      "Epoch [400/5000], Loss: 4.127985084778629e-05\n",
      "Epoch [410/5000], Loss: 3.821490827249363e-05\n",
      "Epoch [420/5000], Loss: 3.536250733304769e-05\n",
      "Epoch [430/5000], Loss: 3.2727399229770526e-05\n",
      "Epoch [440/5000], Loss: 3.0312779927044176e-05\n",
      "Epoch [450/5000], Loss: 2.8119249691371806e-05\n",
      "Epoch [460/5000], Loss: 2.6144145522266626e-05\n",
      "Epoch [470/5000], Loss: 2.4381137336604297e-05\n",
      "Epoch [480/5000], Loss: 2.2820097001385875e-05\n",
      "Epoch [490/5000], Loss: 2.1447180188260972e-05\n",
      "Epoch [500/5000], Loss: 2.0245333871571347e-05\n",
      "Epoch [510/5000], Loss: 1.9195129425497726e-05\n",
      "Epoch [520/5000], Loss: 1.8276004993822426e-05\n",
      "Epoch [530/5000], Loss: 1.746760062815156e-05\n",
      "Epoch [540/5000], Loss: 1.675090788921807e-05\n",
      "Epoch [550/5000], Loss: 1.6109201169456355e-05\n",
      "Epoch [560/5000], Loss: 1.552842149976641e-05\n",
      "Epoch [570/5000], Loss: 1.4997270227468107e-05\n",
      "Epoch [580/5000], Loss: 1.450690433557611e-05\n",
      "Epoch [590/5000], Loss: 1.405058446835028e-05\n",
      "Epoch [600/5000], Loss: 1.3623226550407708e-05\n",
      "Epoch [610/5000], Loss: 1.322099251410691e-05\n",
      "Epoch [620/5000], Loss: 1.2840980161854532e-05\n",
      "Epoch [630/5000], Loss: 1.2480953955673613e-05\n",
      "Epoch [640/5000], Loss: 1.213917767017847e-05\n",
      "Epoch [650/5000], Loss: 1.1814248864538968e-05\n",
      "Epoch [660/5000], Loss: 1.1505034308356699e-05\n",
      "Epoch [670/5000], Loss: 1.1210584489163011e-05\n",
      "Epoch [680/5000], Loss: 1.0930078133242205e-05\n",
      "Epoch [690/5000], Loss: 1.0662814020179212e-05\n",
      "Epoch [700/5000], Loss: 1.040816459862981e-05\n",
      "Epoch [710/5000], Loss: 1.016556143440539e-05\n",
      "Epoch [720/5000], Loss: 9.934470654116012e-06\n",
      "Epoch [730/5000], Loss: 9.714416592032649e-06\n",
      "Epoch [740/5000], Loss: 9.504921763436869e-06\n",
      "Epoch [750/5000], Loss: 9.305552339355927e-06\n",
      "Epoch [760/5000], Loss: 9.11587540031178e-06\n",
      "Epoch [770/5000], Loss: 8.93546257429989e-06\n",
      "Epoch [780/5000], Loss: 8.76390822668327e-06\n",
      "Epoch [790/5000], Loss: 8.600792170909699e-06\n",
      "Epoch [800/5000], Loss: 8.445726962236222e-06\n",
      "Epoch [810/5000], Loss: 8.298295142594725e-06\n",
      "Epoch [820/5000], Loss: 8.158104719768744e-06\n",
      "Epoch [830/5000], Loss: 8.02476097305771e-06\n",
      "Epoch [840/5000], Loss: 7.897880095697474e-06\n",
      "Epoch [850/5000], Loss: 7.77707919041859e-06\n",
      "Epoch [860/5000], Loss: 7.66198991186684e-06\n",
      "Epoch [870/5000], Loss: 7.552246643172111e-06\n",
      "Epoch [880/5000], Loss: 7.4475028668530285e-06\n",
      "Epoch [890/5000], Loss: 7.347420705627883e-06\n",
      "Epoch [900/5000], Loss: 7.251684110087808e-06\n",
      "Epoch [910/5000], Loss: 7.159982487792149e-06\n",
      "Epoch [920/5000], Loss: 7.072026619425742e-06\n",
      "Epoch [930/5000], Loss: 6.987548658798914e-06\n",
      "Epoch [940/5000], Loss: 6.9062925831531174e-06\n",
      "Epoch [950/5000], Loss: 6.828015102655627e-06\n",
      "Epoch [960/5000], Loss: 6.75249930282007e-06\n",
      "Epoch [970/5000], Loss: 6.679541456833249e-06\n",
      "Epoch [980/5000], Loss: 6.608951480302494e-06\n",
      "Epoch [990/5000], Loss: 6.540552021760959e-06\n",
      "Epoch [1000/5000], Loss: 6.474183464888483e-06\n",
      "Epoch [1010/5000], Loss: 6.4097048380062915e-06\n",
      "Epoch [1020/5000], Loss: 6.3469774431723636e-06\n",
      "Epoch [1030/5000], Loss: 6.285869858402293e-06\n",
      "Epoch [1040/5000], Loss: 6.22627931079478e-06\n",
      "Epoch [1050/5000], Loss: 6.1680962062382605e-06\n",
      "Epoch [1060/5000], Loss: 6.111231868999312e-06\n",
      "Epoch [1070/5000], Loss: 6.0555867094080895e-06\n",
      "Epoch [1080/5000], Loss: 6.001089786877856e-06\n",
      "Epoch [1090/5000], Loss: 5.947664703853661e-06\n",
      "Epoch [1100/5000], Loss: 5.895243702980224e-06\n",
      "Epoch [1110/5000], Loss: 5.843764029123122e-06\n",
      "Epoch [1120/5000], Loss: 5.79316701987409e-06\n",
      "Epoch [1130/5000], Loss: 5.743399015045725e-06\n",
      "Epoch [1140/5000], Loss: 5.694415904144989e-06\n",
      "Epoch [1150/5000], Loss: 5.646159934258321e-06\n",
      "Epoch [1160/5000], Loss: 5.598603365797317e-06\n",
      "Epoch [1170/5000], Loss: 5.551688900595764e-06\n",
      "Epoch [1180/5000], Loss: 5.505398348759627e-06\n",
      "Epoch [1190/5000], Loss: 5.459684871311765e-06\n",
      "Epoch [1200/5000], Loss: 5.414517545432318e-06\n",
      "Epoch [1210/5000], Loss: 5.369871360016987e-06\n",
      "Epoch [1220/5000], Loss: 5.325721303961473e-06\n",
      "Epoch [1230/5000], Loss: 5.282034180709161e-06\n",
      "Epoch [1240/5000], Loss: 5.2387904361239634e-06\n",
      "Epoch [1250/5000], Loss: 5.195966423343634e-06\n",
      "Epoch [1260/5000], Loss: 5.1535407692426816e-06\n",
      "Epoch [1270/5000], Loss: 5.111495738674421e-06\n",
      "Epoch [1280/5000], Loss: 5.0698176892183255e-06\n",
      "Epoch [1290/5000], Loss: 5.028479790780693e-06\n",
      "Epoch [1300/5000], Loss: 4.987477041140664e-06\n",
      "Epoch [1310/5000], Loss: 4.946793978888309e-06\n",
      "Epoch [1320/5000], Loss: 4.90641195938224e-06\n",
      "Epoch [1330/5000], Loss: 4.8663237066648435e-06\n",
      "Epoch [1340/5000], Loss: 4.826520580536453e-06\n",
      "Epoch [1350/5000], Loss: 4.786987574334489e-06\n",
      "Epoch [1360/5000], Loss: 4.747720595332794e-06\n",
      "Epoch [1370/5000], Loss: 4.708712822321104e-06\n",
      "Epoch [1380/5000], Loss: 4.669951522373594e-06\n",
      "Epoch [1390/5000], Loss: 4.631437150237616e-06\n",
      "Epoch [1400/5000], Loss: 4.593163794197608e-06\n",
      "Epoch [1410/5000], Loss: 4.555123268801253e-06\n",
      "Epoch [1420/5000], Loss: 4.517317393037956e-06\n",
      "Epoch [1430/5000], Loss: 4.479737981455401e-06\n",
      "Epoch [1440/5000], Loss: 4.442388217285043e-06\n",
      "Epoch [1450/5000], Loss: 4.405269464768935e-06\n",
      "Epoch [1460/5000], Loss: 4.368373538454762e-06\n",
      "Epoch [1470/5000], Loss: 4.331708623794839e-06\n",
      "Epoch [1480/5000], Loss: 4.295270628063008e-06\n",
      "Epoch [1490/5000], Loss: 4.259067281964235e-06\n",
      "Epoch [1500/5000], Loss: 4.223095402267063e-06\n",
      "Epoch [1510/5000], Loss: 4.187365448160563e-06\n"
     ]
    },
    {
     "ename": "KeyboardInterrupt",
     "evalue": "",
     "output_type": "error",
     "traceback": [
      "\u001b[1;31m---------------------------------------------------------------------------\u001b[0m",
      "\u001b[1;31mKeyboardInterrupt\u001b[0m                         Traceback (most recent call last)",
      "Cell \u001b[1;32mIn[18], line 22\u001b[0m\n\u001b[0;32m     19\u001b[0m loss \u001b[38;5;241m=\u001b[39m criterion(outputs, Y)\n\u001b[0;32m     21\u001b[0m \u001b[38;5;66;03m# Backward and optimize\u001b[39;00m\n\u001b[1;32m---> 22\u001b[0m \u001b[43mloss\u001b[49m\u001b[38;5;241;43m.\u001b[39;49m\u001b[43mbackward\u001b[49m\u001b[43m(\u001b[49m\u001b[43m)\u001b[49m\n\u001b[0;32m     23\u001b[0m optimizer\u001b[38;5;241m.\u001b[39mstep()\n\u001b[0;32m     25\u001b[0m \u001b[38;5;28;01mif\u001b[39;00m (epoch \u001b[38;5;241m+\u001b[39m \u001b[38;5;241m1\u001b[39m) \u001b[38;5;241m%\u001b[39m \u001b[38;5;241m10\u001b[39m \u001b[38;5;241m==\u001b[39m \u001b[38;5;241m0\u001b[39m:\n",
      "File \u001b[1;32mc:\\Users\\johnm\\AppData\\Local\\pypoetry\\Cache\\virtualenvs\\coilspy-1sgZ1XBf-py3.12\\Lib\\site-packages\\torch\\_tensor.py:525\u001b[0m, in \u001b[0;36mTensor.backward\u001b[1;34m(self, gradient, retain_graph, create_graph, inputs)\u001b[0m\n\u001b[0;32m    515\u001b[0m \u001b[38;5;28;01mif\u001b[39;00m has_torch_function_unary(\u001b[38;5;28mself\u001b[39m):\n\u001b[0;32m    516\u001b[0m     \u001b[38;5;28;01mreturn\u001b[39;00m handle_torch_function(\n\u001b[0;32m    517\u001b[0m         Tensor\u001b[38;5;241m.\u001b[39mbackward,\n\u001b[0;32m    518\u001b[0m         (\u001b[38;5;28mself\u001b[39m,),\n\u001b[1;32m   (...)\u001b[0m\n\u001b[0;32m    523\u001b[0m         inputs\u001b[38;5;241m=\u001b[39minputs,\n\u001b[0;32m    524\u001b[0m     )\n\u001b[1;32m--> 525\u001b[0m \u001b[43mtorch\u001b[49m\u001b[38;5;241;43m.\u001b[39;49m\u001b[43mautograd\u001b[49m\u001b[38;5;241;43m.\u001b[39;49m\u001b[43mbackward\u001b[49m\u001b[43m(\u001b[49m\n\u001b[0;32m    526\u001b[0m \u001b[43m    \u001b[49m\u001b[38;5;28;43mself\u001b[39;49m\u001b[43m,\u001b[49m\u001b[43m \u001b[49m\u001b[43mgradient\u001b[49m\u001b[43m,\u001b[49m\u001b[43m \u001b[49m\u001b[43mretain_graph\u001b[49m\u001b[43m,\u001b[49m\u001b[43m \u001b[49m\u001b[43mcreate_graph\u001b[49m\u001b[43m,\u001b[49m\u001b[43m \u001b[49m\u001b[43minputs\u001b[49m\u001b[38;5;241;43m=\u001b[39;49m\u001b[43minputs\u001b[49m\n\u001b[0;32m    527\u001b[0m \u001b[43m\u001b[49m\u001b[43m)\u001b[49m\n",
      "File \u001b[1;32mc:\\Users\\johnm\\AppData\\Local\\pypoetry\\Cache\\virtualenvs\\coilspy-1sgZ1XBf-py3.12\\Lib\\site-packages\\torch\\autograd\\__init__.py:267\u001b[0m, in \u001b[0;36mbackward\u001b[1;34m(tensors, grad_tensors, retain_graph, create_graph, grad_variables, inputs)\u001b[0m\n\u001b[0;32m    262\u001b[0m     retain_graph \u001b[38;5;241m=\u001b[39m create_graph\n\u001b[0;32m    264\u001b[0m \u001b[38;5;66;03m# The reason we repeat the same comment below is that\u001b[39;00m\n\u001b[0;32m    265\u001b[0m \u001b[38;5;66;03m# some Python versions print out the first line of a multi-line function\u001b[39;00m\n\u001b[0;32m    266\u001b[0m \u001b[38;5;66;03m# calls in the traceback and some print out the last line\u001b[39;00m\n\u001b[1;32m--> 267\u001b[0m \u001b[43m_engine_run_backward\u001b[49m\u001b[43m(\u001b[49m\n\u001b[0;32m    268\u001b[0m \u001b[43m    \u001b[49m\u001b[43mtensors\u001b[49m\u001b[43m,\u001b[49m\n\u001b[0;32m    269\u001b[0m \u001b[43m    \u001b[49m\u001b[43mgrad_tensors_\u001b[49m\u001b[43m,\u001b[49m\n\u001b[0;32m    270\u001b[0m \u001b[43m    \u001b[49m\u001b[43mretain_graph\u001b[49m\u001b[43m,\u001b[49m\n\u001b[0;32m    271\u001b[0m \u001b[43m    \u001b[49m\u001b[43mcreate_graph\u001b[49m\u001b[43m,\u001b[49m\n\u001b[0;32m    272\u001b[0m \u001b[43m    \u001b[49m\u001b[43minputs\u001b[49m\u001b[43m,\u001b[49m\n\u001b[0;32m    273\u001b[0m \u001b[43m    \u001b[49m\u001b[43mallow_unreachable\u001b[49m\u001b[38;5;241;43m=\u001b[39;49m\u001b[38;5;28;43;01mTrue\u001b[39;49;00m\u001b[43m,\u001b[49m\n\u001b[0;32m    274\u001b[0m \u001b[43m    \u001b[49m\u001b[43maccumulate_grad\u001b[49m\u001b[38;5;241;43m=\u001b[39;49m\u001b[38;5;28;43;01mTrue\u001b[39;49;00m\u001b[43m,\u001b[49m\n\u001b[0;32m    275\u001b[0m \u001b[43m\u001b[49m\u001b[43m)\u001b[49m\n",
      "File \u001b[1;32mc:\\Users\\johnm\\AppData\\Local\\pypoetry\\Cache\\virtualenvs\\coilspy-1sgZ1XBf-py3.12\\Lib\\site-packages\\torch\\autograd\\graph.py:744\u001b[0m, in \u001b[0;36m_engine_run_backward\u001b[1;34m(t_outputs, *args, **kwargs)\u001b[0m\n\u001b[0;32m    742\u001b[0m     unregister_hooks \u001b[38;5;241m=\u001b[39m _register_logging_hooks_on_whole_graph(t_outputs)\n\u001b[0;32m    743\u001b[0m \u001b[38;5;28;01mtry\u001b[39;00m:\n\u001b[1;32m--> 744\u001b[0m     \u001b[38;5;28;01mreturn\u001b[39;00m \u001b[43mVariable\u001b[49m\u001b[38;5;241;43m.\u001b[39;49m\u001b[43m_execution_engine\u001b[49m\u001b[38;5;241;43m.\u001b[39;49m\u001b[43mrun_backward\u001b[49m\u001b[43m(\u001b[49m\u001b[43m  \u001b[49m\u001b[38;5;66;43;03m# Calls into the C++ engine to run the backward pass\u001b[39;49;00m\n\u001b[0;32m    745\u001b[0m \u001b[43m        \u001b[49m\u001b[43mt_outputs\u001b[49m\u001b[43m,\u001b[49m\u001b[43m \u001b[49m\u001b[38;5;241;43m*\u001b[39;49m\u001b[43margs\u001b[49m\u001b[43m,\u001b[49m\u001b[43m \u001b[49m\u001b[38;5;241;43m*\u001b[39;49m\u001b[38;5;241;43m*\u001b[39;49m\u001b[43mkwargs\u001b[49m\n\u001b[0;32m    746\u001b[0m \u001b[43m    \u001b[49m\u001b[43m)\u001b[49m  \u001b[38;5;66;03m# Calls into the C++ engine to run the backward pass\u001b[39;00m\n\u001b[0;32m    747\u001b[0m \u001b[38;5;28;01mfinally\u001b[39;00m:\n\u001b[0;32m    748\u001b[0m     \u001b[38;5;28;01mif\u001b[39;00m attach_logging_hooks:\n",
      "\u001b[1;31mKeyboardInterrupt\u001b[0m: "
     ]
    }
   ],
   "source": [
    "from torch import nn, optim\n",
    "\n",
    "# Model\n",
    "model = NeuralCoilLayer(\n",
    "    n_features = n_features\n",
    ").to(\"cuda\")\n",
    "\n",
    "# Loss and optimizer\n",
    "criterion = nn.MSELoss()\n",
    "optimizer = optim.Adam(model.parameters(), lr=0.01)\n",
    "\n",
    "# Training loop\n",
    "epochs = 5000\n",
    "for epoch in range(epochs):\n",
    "    model.train()\n",
    "    optimizer.zero_grad()\n",
    "    # Forward pass\n",
    "    outputs, transition_tensor = model(X)\n",
    "    loss = criterion(outputs, Y)\n",
    "\n",
    "    # Backward and optimize\n",
    "    loss.backward()\n",
    "    optimizer.step()\n",
    "\n",
    "    if (epoch + 1) % 10 == 0:\n",
    "        print(f'Epoch [{epoch+1}/{epochs}], Loss: {loss.item()}')\n"
   ]
  },
  {
   "cell_type": "code",
   "execution_count": 21,
   "metadata": {},
   "outputs": [
    {
     "data": {
      "application/vnd.plotly.v1+json": {
       "config": {
        "plotlyServerURL": "https://plot.ly"
       },
       "data": [
        {
         "mode": "lines",
         "name": "Model Output",
         "type": "scatter",
         "x": [
          0,
          1,
          2,
          3,
          4,
          5,
          6,
          7,
          8,
          9,
          10,
          11,
          12,
          13,
          14,
          15,
          16,
          17,
          18,
          19,
          20,
          21,
          22,
          23,
          24,
          25,
          26,
          27,
          28,
          29,
          30,
          31,
          32,
          33,
          34,
          35,
          36,
          37,
          38,
          39,
          40,
          41,
          42,
          43,
          44,
          45,
          46,
          47,
          48,
          49,
          50,
          51,
          52,
          53,
          54,
          55,
          56,
          57,
          58,
          59,
          60,
          61,
          62,
          63
         ],
         "y": [
          0.24932709336280823,
          0.2474619746208191,
          0.2521542012691498,
          0.26125645637512207,
          0.2676612436771393,
          0.27011436223983765,
          0.2699821889400482,
          0.26887246966362,
          0.2703068256378174,
          0.2716120183467865,
          0.2736196517944336,
          0.2742402255535126,
          0.2744787633419037,
          0.2744373381137848,
          0.27460911870002747,
          0.27485930919647217,
          0.27478697896003723,
          0.274030864238739,
          0.27233561873435974,
          0.2697405219078064,
          0.26636263728141785,
          0.2624269127845764,
          0.2580586075782776,
          0.25339648127555847,
          0.2485278695821762,
          0.243630051612854,
          0.2389056384563446,
          0.23461130261421204,
          0.23096789419651031,
          0.2281629890203476,
          0.22632025182247162,
          0.22551999986171722,
          0.22578725218772888,
          0.22709402441978455,
          0.22934700548648834,
          0.23239262402057648,
          0.23602236807346344,
          0.2399897277355194,
          0.2440272867679596,
          0.24786925315856934,
          0.25127285718917847,
          0.254039466381073,
          0.2560282349586487,
          0.257165789604187,
          0.2574504613876343,
          0.256954163312912,
          0.2558192014694214,
          0.25424614548683167,
          0.2524716556072235,
          0.2507384717464447,
          0.24926452338695526,
          0.2482193112373352,
          0.24771007895469666,
          0.24777936935424805,
          0.2484091818332672,
          0.24952800571918488,
          0.2510189116001129,
          0.2527270019054413,
          0.25446799397468567,
          0.25603899359703064,
          0.25723186135292053,
          0.2578495442867279,
          0.2577243447303772,
          0.25673720240592957
         ]
        },
        {
         "mode": "lines",
         "name": "Target",
         "type": "scatter",
         "x": [
          0,
          1,
          2,
          3,
          4,
          5,
          6,
          7,
          8,
          9,
          10,
          11,
          12,
          13,
          14,
          15,
          16,
          17,
          18,
          19,
          20,
          21,
          22,
          23,
          24,
          25,
          26,
          27,
          28,
          29,
          30,
          31,
          32,
          33,
          34,
          35,
          36,
          37,
          38,
          39,
          40,
          41,
          42,
          43,
          44,
          45,
          46,
          47,
          48,
          49,
          50,
          51,
          52,
          53,
          54,
          55,
          56,
          57,
          58,
          59,
          60,
          61,
          62,
          63
         ],
         "y": [
          0.25015127658843994,
          0.25477364659309387,
          0.259071409702301,
          0.26290175318717957,
          0.26617252826690674,
          0.2688458263874054,
          0.2709338963031769,
          0.2724887430667877,
          0.2735874056816101,
          0.2743161916732788,
          0.2747552990913391,
          0.27496665716171265,
          0.2749852240085602,
          0.2748142182826996,
          0.27442485094070435,
          0.27376002073287964,
          0.27274224162101746,
          0.2712853252887726,
          0.2693091034889221,
          0.26675528287887573,
          0.26360267400741577,
          0.25987860560417175,
          0.2556644082069397,
          0.25109338760375977,
          0.246341735124588,
          0.24161365628242493,
          0.2371242642402649,
          0.2330826073884964,
          0.22967714071273804,
          0.22706496715545654,
          0.22536438703536987,
          0.22465009987354279,
          0.22494997084140778,
          0.22624234855175018,
          0.22845381498336792,
          0.23145785927772522,
          0.23507606983184814,
          0.2390836775302887,
          0.24322162568569183,
          0.24721604585647583,
          0.2508043050765991,
          0.253763884305954,
          0.2559388279914856,
          0.2572574317455292,
          0.25773727893829346,
          0.2574765980243683,
          0.25663480162620544,
          0.25540757179260254,
          0.25400155782699585,
          0.25261300802230835,
          0.2514117956161499,
          0.2505314350128174,
          0.2500632405281067,
          0.25005391240119934,
          0.2505043148994446,
          0.2513696849346161,
          0.2525603473186493,
          0.253944456577301,
          0.2553533911705017,
          0.2565917372703552,
          0.2574528753757477,
          0.25774019956588745,
          0.2572923004627228,
          0.25600817799568176
         ]
        }
       ],
       "layout": {
        "template": {
         "data": {
          "bar": [
           {
            "error_x": {
             "color": "#2a3f5f"
            },
            "error_y": {
             "color": "#2a3f5f"
            },
            "marker": {
             "line": {
              "color": "#E5ECF6",
              "width": 0.5
             },
             "pattern": {
              "fillmode": "overlay",
              "size": 10,
              "solidity": 0.2
             }
            },
            "type": "bar"
           }
          ],
          "barpolar": [
           {
            "marker": {
             "line": {
              "color": "#E5ECF6",
              "width": 0.5
             },
             "pattern": {
              "fillmode": "overlay",
              "size": 10,
              "solidity": 0.2
             }
            },
            "type": "barpolar"
           }
          ],
          "carpet": [
           {
            "aaxis": {
             "endlinecolor": "#2a3f5f",
             "gridcolor": "white",
             "linecolor": "white",
             "minorgridcolor": "white",
             "startlinecolor": "#2a3f5f"
            },
            "baxis": {
             "endlinecolor": "#2a3f5f",
             "gridcolor": "white",
             "linecolor": "white",
             "minorgridcolor": "white",
             "startlinecolor": "#2a3f5f"
            },
            "type": "carpet"
           }
          ],
          "choropleth": [
           {
            "colorbar": {
             "outlinewidth": 0,
             "ticks": ""
            },
            "type": "choropleth"
           }
          ],
          "contour": [
           {
            "colorbar": {
             "outlinewidth": 0,
             "ticks": ""
            },
            "colorscale": [
             [
              0,
              "#0d0887"
             ],
             [
              0.1111111111111111,
              "#46039f"
             ],
             [
              0.2222222222222222,
              "#7201a8"
             ],
             [
              0.3333333333333333,
              "#9c179e"
             ],
             [
              0.4444444444444444,
              "#bd3786"
             ],
             [
              0.5555555555555556,
              "#d8576b"
             ],
             [
              0.6666666666666666,
              "#ed7953"
             ],
             [
              0.7777777777777778,
              "#fb9f3a"
             ],
             [
              0.8888888888888888,
              "#fdca26"
             ],
             [
              1,
              "#f0f921"
             ]
            ],
            "type": "contour"
           }
          ],
          "contourcarpet": [
           {
            "colorbar": {
             "outlinewidth": 0,
             "ticks": ""
            },
            "type": "contourcarpet"
           }
          ],
          "heatmap": [
           {
            "colorbar": {
             "outlinewidth": 0,
             "ticks": ""
            },
            "colorscale": [
             [
              0,
              "#0d0887"
             ],
             [
              0.1111111111111111,
              "#46039f"
             ],
             [
              0.2222222222222222,
              "#7201a8"
             ],
             [
              0.3333333333333333,
              "#9c179e"
             ],
             [
              0.4444444444444444,
              "#bd3786"
             ],
             [
              0.5555555555555556,
              "#d8576b"
             ],
             [
              0.6666666666666666,
              "#ed7953"
             ],
             [
              0.7777777777777778,
              "#fb9f3a"
             ],
             [
              0.8888888888888888,
              "#fdca26"
             ],
             [
              1,
              "#f0f921"
             ]
            ],
            "type": "heatmap"
           }
          ],
          "heatmapgl": [
           {
            "colorbar": {
             "outlinewidth": 0,
             "ticks": ""
            },
            "colorscale": [
             [
              0,
              "#0d0887"
             ],
             [
              0.1111111111111111,
              "#46039f"
             ],
             [
              0.2222222222222222,
              "#7201a8"
             ],
             [
              0.3333333333333333,
              "#9c179e"
             ],
             [
              0.4444444444444444,
              "#bd3786"
             ],
             [
              0.5555555555555556,
              "#d8576b"
             ],
             [
              0.6666666666666666,
              "#ed7953"
             ],
             [
              0.7777777777777778,
              "#fb9f3a"
             ],
             [
              0.8888888888888888,
              "#fdca26"
             ],
             [
              1,
              "#f0f921"
             ]
            ],
            "type": "heatmapgl"
           }
          ],
          "histogram": [
           {
            "marker": {
             "pattern": {
              "fillmode": "overlay",
              "size": 10,
              "solidity": 0.2
             }
            },
            "type": "histogram"
           }
          ],
          "histogram2d": [
           {
            "colorbar": {
             "outlinewidth": 0,
             "ticks": ""
            },
            "colorscale": [
             [
              0,
              "#0d0887"
             ],
             [
              0.1111111111111111,
              "#46039f"
             ],
             [
              0.2222222222222222,
              "#7201a8"
             ],
             [
              0.3333333333333333,
              "#9c179e"
             ],
             [
              0.4444444444444444,
              "#bd3786"
             ],
             [
              0.5555555555555556,
              "#d8576b"
             ],
             [
              0.6666666666666666,
              "#ed7953"
             ],
             [
              0.7777777777777778,
              "#fb9f3a"
             ],
             [
              0.8888888888888888,
              "#fdca26"
             ],
             [
              1,
              "#f0f921"
             ]
            ],
            "type": "histogram2d"
           }
          ],
          "histogram2dcontour": [
           {
            "colorbar": {
             "outlinewidth": 0,
             "ticks": ""
            },
            "colorscale": [
             [
              0,
              "#0d0887"
             ],
             [
              0.1111111111111111,
              "#46039f"
             ],
             [
              0.2222222222222222,
              "#7201a8"
             ],
             [
              0.3333333333333333,
              "#9c179e"
             ],
             [
              0.4444444444444444,
              "#bd3786"
             ],
             [
              0.5555555555555556,
              "#d8576b"
             ],
             [
              0.6666666666666666,
              "#ed7953"
             ],
             [
              0.7777777777777778,
              "#fb9f3a"
             ],
             [
              0.8888888888888888,
              "#fdca26"
             ],
             [
              1,
              "#f0f921"
             ]
            ],
            "type": "histogram2dcontour"
           }
          ],
          "mesh3d": [
           {
            "colorbar": {
             "outlinewidth": 0,
             "ticks": ""
            },
            "type": "mesh3d"
           }
          ],
          "parcoords": [
           {
            "line": {
             "colorbar": {
              "outlinewidth": 0,
              "ticks": ""
             }
            },
            "type": "parcoords"
           }
          ],
          "pie": [
           {
            "automargin": true,
            "type": "pie"
           }
          ],
          "scatter": [
           {
            "fillpattern": {
             "fillmode": "overlay",
             "size": 10,
             "solidity": 0.2
            },
            "type": "scatter"
           }
          ],
          "scatter3d": [
           {
            "line": {
             "colorbar": {
              "outlinewidth": 0,
              "ticks": ""
             }
            },
            "marker": {
             "colorbar": {
              "outlinewidth": 0,
              "ticks": ""
             }
            },
            "type": "scatter3d"
           }
          ],
          "scattercarpet": [
           {
            "marker": {
             "colorbar": {
              "outlinewidth": 0,
              "ticks": ""
             }
            },
            "type": "scattercarpet"
           }
          ],
          "scattergeo": [
           {
            "marker": {
             "colorbar": {
              "outlinewidth": 0,
              "ticks": ""
             }
            },
            "type": "scattergeo"
           }
          ],
          "scattergl": [
           {
            "marker": {
             "colorbar": {
              "outlinewidth": 0,
              "ticks": ""
             }
            },
            "type": "scattergl"
           }
          ],
          "scattermapbox": [
           {
            "marker": {
             "colorbar": {
              "outlinewidth": 0,
              "ticks": ""
             }
            },
            "type": "scattermapbox"
           }
          ],
          "scatterpolar": [
           {
            "marker": {
             "colorbar": {
              "outlinewidth": 0,
              "ticks": ""
             }
            },
            "type": "scatterpolar"
           }
          ],
          "scatterpolargl": [
           {
            "marker": {
             "colorbar": {
              "outlinewidth": 0,
              "ticks": ""
             }
            },
            "type": "scatterpolargl"
           }
          ],
          "scatterternary": [
           {
            "marker": {
             "colorbar": {
              "outlinewidth": 0,
              "ticks": ""
             }
            },
            "type": "scatterternary"
           }
          ],
          "surface": [
           {
            "colorbar": {
             "outlinewidth": 0,
             "ticks": ""
            },
            "colorscale": [
             [
              0,
              "#0d0887"
             ],
             [
              0.1111111111111111,
              "#46039f"
             ],
             [
              0.2222222222222222,
              "#7201a8"
             ],
             [
              0.3333333333333333,
              "#9c179e"
             ],
             [
              0.4444444444444444,
              "#bd3786"
             ],
             [
              0.5555555555555556,
              "#d8576b"
             ],
             [
              0.6666666666666666,
              "#ed7953"
             ],
             [
              0.7777777777777778,
              "#fb9f3a"
             ],
             [
              0.8888888888888888,
              "#fdca26"
             ],
             [
              1,
              "#f0f921"
             ]
            ],
            "type": "surface"
           }
          ],
          "table": [
           {
            "cells": {
             "fill": {
              "color": "#EBF0F8"
             },
             "line": {
              "color": "white"
             }
            },
            "header": {
             "fill": {
              "color": "#C8D4E3"
             },
             "line": {
              "color": "white"
             }
            },
            "type": "table"
           }
          ]
         },
         "layout": {
          "annotationdefaults": {
           "arrowcolor": "#2a3f5f",
           "arrowhead": 0,
           "arrowwidth": 1
          },
          "autotypenumbers": "strict",
          "coloraxis": {
           "colorbar": {
            "outlinewidth": 0,
            "ticks": ""
           }
          },
          "colorscale": {
           "diverging": [
            [
             0,
             "#8e0152"
            ],
            [
             0.1,
             "#c51b7d"
            ],
            [
             0.2,
             "#de77ae"
            ],
            [
             0.3,
             "#f1b6da"
            ],
            [
             0.4,
             "#fde0ef"
            ],
            [
             0.5,
             "#f7f7f7"
            ],
            [
             0.6,
             "#e6f5d0"
            ],
            [
             0.7,
             "#b8e186"
            ],
            [
             0.8,
             "#7fbc41"
            ],
            [
             0.9,
             "#4d9221"
            ],
            [
             1,
             "#276419"
            ]
           ],
           "sequential": [
            [
             0,
             "#0d0887"
            ],
            [
             0.1111111111111111,
             "#46039f"
            ],
            [
             0.2222222222222222,
             "#7201a8"
            ],
            [
             0.3333333333333333,
             "#9c179e"
            ],
            [
             0.4444444444444444,
             "#bd3786"
            ],
            [
             0.5555555555555556,
             "#d8576b"
            ],
            [
             0.6666666666666666,
             "#ed7953"
            ],
            [
             0.7777777777777778,
             "#fb9f3a"
            ],
            [
             0.8888888888888888,
             "#fdca26"
            ],
            [
             1,
             "#f0f921"
            ]
           ],
           "sequentialminus": [
            [
             0,
             "#0d0887"
            ],
            [
             0.1111111111111111,
             "#46039f"
            ],
            [
             0.2222222222222222,
             "#7201a8"
            ],
            [
             0.3333333333333333,
             "#9c179e"
            ],
            [
             0.4444444444444444,
             "#bd3786"
            ],
            [
             0.5555555555555556,
             "#d8576b"
            ],
            [
             0.6666666666666666,
             "#ed7953"
            ],
            [
             0.7777777777777778,
             "#fb9f3a"
            ],
            [
             0.8888888888888888,
             "#fdca26"
            ],
            [
             1,
             "#f0f921"
            ]
           ]
          },
          "colorway": [
           "#636efa",
           "#EF553B",
           "#00cc96",
           "#ab63fa",
           "#FFA15A",
           "#19d3f3",
           "#FF6692",
           "#B6E880",
           "#FF97FF",
           "#FECB52"
          ],
          "font": {
           "color": "#2a3f5f"
          },
          "geo": {
           "bgcolor": "white",
           "lakecolor": "white",
           "landcolor": "#E5ECF6",
           "showlakes": true,
           "showland": true,
           "subunitcolor": "white"
          },
          "hoverlabel": {
           "align": "left"
          },
          "hovermode": "closest",
          "mapbox": {
           "style": "light"
          },
          "paper_bgcolor": "white",
          "plot_bgcolor": "#E5ECF6",
          "polar": {
           "angularaxis": {
            "gridcolor": "white",
            "linecolor": "white",
            "ticks": ""
           },
           "bgcolor": "#E5ECF6",
           "radialaxis": {
            "gridcolor": "white",
            "linecolor": "white",
            "ticks": ""
           }
          },
          "scene": {
           "xaxis": {
            "backgroundcolor": "#E5ECF6",
            "gridcolor": "white",
            "gridwidth": 2,
            "linecolor": "white",
            "showbackground": true,
            "ticks": "",
            "zerolinecolor": "white"
           },
           "yaxis": {
            "backgroundcolor": "#E5ECF6",
            "gridcolor": "white",
            "gridwidth": 2,
            "linecolor": "white",
            "showbackground": true,
            "ticks": "",
            "zerolinecolor": "white"
           },
           "zaxis": {
            "backgroundcolor": "#E5ECF6",
            "gridcolor": "white",
            "gridwidth": 2,
            "linecolor": "white",
            "showbackground": true,
            "ticks": "",
            "zerolinecolor": "white"
           }
          },
          "shapedefaults": {
           "line": {
            "color": "#2a3f5f"
           }
          },
          "ternary": {
           "aaxis": {
            "gridcolor": "white",
            "linecolor": "white",
            "ticks": ""
           },
           "baxis": {
            "gridcolor": "white",
            "linecolor": "white",
            "ticks": ""
           },
           "bgcolor": "#E5ECF6",
           "caxis": {
            "gridcolor": "white",
            "linecolor": "white",
            "ticks": ""
           }
          },
          "title": {
           "x": 0.05
          },
          "xaxis": {
           "automargin": true,
           "gridcolor": "white",
           "linecolor": "white",
           "ticks": "",
           "title": {
            "standoff": 15
           },
           "zerolinecolor": "white",
           "zerolinewidth": 2
          },
          "yaxis": {
           "automargin": true,
           "gridcolor": "white",
           "linecolor": "white",
           "ticks": "",
           "title": {
            "standoff": 15
           },
           "zerolinecolor": "white",
           "zerolinewidth": 2
          }
         }
        },
        "title": {
         "text": "Model Output vs Target for Feature 1, Batch 3"
        },
        "xaxis": {
         "title": {
          "text": "Timestep"
         }
        },
        "yaxis": {
         "title": {
          "text": "Value"
         }
        }
       }
      }
     },
     "metadata": {},
     "output_type": "display_data"
    }
   ],
   "source": [
    "import plotly.graph_objects as go\n",
    "\n",
    "def plot_model_output_vs_target(model_outputs, targets, batch_index=0, feature_index=0):\n",
    "    # Extract the specified feature for the given batch from both the model outputs and targets\n",
    "    model_output_series = model_outputs[batch_index, :, feature_index].detach().numpy()\n",
    "    target_series = targets[batch_index, :, feature_index].numpy()\n",
    "    \n",
    "    # Create a range for the x-axis (timesteps)\n",
    "    timesteps = list(range(model_output_series.shape[0]))\n",
    "    \n",
    "    # Create traces\n",
    "    model_trace = go.Scatter(x=timesteps, y=model_output_series, mode='lines', name='Model Output')\n",
    "    target_trace = go.Scatter(x=timesteps, y=target_series, mode='lines', name='Target')\n",
    "    \n",
    "    # Create the figure and add traces\n",
    "    fig = go.Figure()\n",
    "    fig.add_trace(model_trace)\n",
    "    fig.add_trace(target_trace)\n",
    "    \n",
    "    # Add title and labels\n",
    "    fig.update_layout(title=f'Model Output vs Target for Feature {feature_index}, Batch {batch_index}',\n",
    "                      xaxis_title='Timestep',\n",
    "                      yaxis_title='Value')\n",
    "    \n",
    "    # Show the figure\n",
    "    fig.show()\n",
    "\n",
    "# Assuming `y` and `Y` are your model outputs and targets, respectively\n",
    "# Adjust batch_index and feature_index as needed\n",
    "plot_model_output_vs_target(outputs.to(\"cpu\"), Y.to(\"cpu\"), batch_index=3, feature_index=1)\n"
   ]
  },
  {
   "cell_type": "code",
   "execution_count": 25,
   "metadata": {},
   "outputs": [
    {
     "name": "stdout",
     "output_type": "stream",
     "text": [
      "tensor(1., device='cuda:0', grad_fn=<AddBackward0>)\n",
      "tensor(1., device='cuda:0', grad_fn=<AddBackward0>)\n",
      "tensor(1., device='cuda:0', grad_fn=<AddBackward0>)\n",
      "tensor(1., device='cuda:0', grad_fn=<AddBackward0>)\n",
      "tensor(1., device='cuda:0', grad_fn=<AddBackward0>)\n",
      "tensor(1., device='cuda:0', grad_fn=<AddBackward0>)\n",
      "tensor(1.0000, device='cuda:0', grad_fn=<AddBackward0>)\n",
      "tensor(1., device='cuda:0', grad_fn=<AddBackward0>)\n",
      "tensor(1., device='cuda:0', grad_fn=<AddBackward0>)\n",
      "tensor(1., device='cuda:0', grad_fn=<AddBackward0>)\n",
      "tensor(1., device='cuda:0', grad_fn=<AddBackward0>)\n",
      "tensor(1., device='cuda:0', grad_fn=<AddBackward0>)\n",
      "tensor(1., device='cuda:0', grad_fn=<AddBackward0>)\n",
      "tensor(1., device='cuda:0', grad_fn=<AddBackward0>)\n",
      "tensor(1., device='cuda:0', grad_fn=<AddBackward0>)\n",
      "tensor(1., device='cuda:0', grad_fn=<AddBackward0>)\n",
      "tensor(1., device='cuda:0', grad_fn=<AddBackward0>)\n",
      "tensor(1., device='cuda:0', grad_fn=<AddBackward0>)\n",
      "tensor(1., device='cuda:0', grad_fn=<AddBackward0>)\n",
      "tensor(1., device='cuda:0', grad_fn=<AddBackward0>)\n",
      "tensor(1., device='cuda:0', grad_fn=<AddBackward0>)\n",
      "tensor(1., device='cuda:0', grad_fn=<AddBackward0>)\n",
      "tensor(1., device='cuda:0', grad_fn=<AddBackward0>)\n",
      "tensor(1., device='cuda:0', grad_fn=<AddBackward0>)\n",
      "tensor(1., device='cuda:0', grad_fn=<AddBackward0>)\n",
      "tensor(1., device='cuda:0', grad_fn=<AddBackward0>)\n",
      "tensor(1., device='cuda:0', grad_fn=<AddBackward0>)\n",
      "tensor(1.0000, device='cuda:0', grad_fn=<AddBackward0>)\n",
      "tensor(1., device='cuda:0', grad_fn=<AddBackward0>)\n",
      "tensor(1., device='cuda:0', grad_fn=<AddBackward0>)\n",
      "tensor(1., device='cuda:0', grad_fn=<AddBackward0>)\n",
      "tensor(1.0000, device='cuda:0', grad_fn=<AddBackward0>)\n",
      "tensor(1., device='cuda:0', grad_fn=<AddBackward0>)\n",
      "tensor(1., device='cuda:0', grad_fn=<AddBackward0>)\n",
      "tensor(1., device='cuda:0', grad_fn=<AddBackward0>)\n",
      "tensor(1., device='cuda:0', grad_fn=<AddBackward0>)\n",
      "tensor(1.0000, device='cuda:0', grad_fn=<AddBackward0>)\n",
      "tensor(1., device='cuda:0', grad_fn=<AddBackward0>)\n",
      "tensor(1., device='cuda:0', grad_fn=<AddBackward0>)\n",
      "tensor(1., device='cuda:0', grad_fn=<AddBackward0>)\n",
      "tensor(1., device='cuda:0', grad_fn=<AddBackward0>)\n",
      "tensor(1.0000, device='cuda:0', grad_fn=<AddBackward0>)\n",
      "tensor(1., device='cuda:0', grad_fn=<AddBackward0>)\n",
      "tensor(1., device='cuda:0', grad_fn=<AddBackward0>)\n",
      "tensor(1., device='cuda:0', grad_fn=<AddBackward0>)\n",
      "tensor(1., device='cuda:0', grad_fn=<AddBackward0>)\n",
      "tensor(1.0000, device='cuda:0', grad_fn=<AddBackward0>)\n",
      "tensor(1., device='cuda:0', grad_fn=<AddBackward0>)\n",
      "tensor(1., device='cuda:0', grad_fn=<AddBackward0>)\n",
      "tensor(1., device='cuda:0', grad_fn=<AddBackward0>)\n",
      "tensor(1., device='cuda:0', grad_fn=<AddBackward0>)\n",
      "tensor(1., device='cuda:0', grad_fn=<AddBackward0>)\n",
      "tensor(1., device='cuda:0', grad_fn=<AddBackward0>)\n",
      "tensor(1., device='cuda:0', grad_fn=<AddBackward0>)\n",
      "tensor(1., device='cuda:0', grad_fn=<AddBackward0>)\n",
      "tensor(1., device='cuda:0', grad_fn=<AddBackward0>)\n",
      "tensor(1., device='cuda:0', grad_fn=<AddBackward0>)\n",
      "tensor(1., device='cuda:0', grad_fn=<AddBackward0>)\n",
      "tensor(1., device='cuda:0', grad_fn=<AddBackward0>)\n",
      "tensor(1.0000, device='cuda:0', grad_fn=<AddBackward0>)\n",
      "tensor(1., device='cuda:0', grad_fn=<AddBackward0>)\n",
      "tensor(1., device='cuda:0', grad_fn=<AddBackward0>)\n",
      "tensor(1.0000, device='cuda:0', grad_fn=<AddBackward0>)\n",
      "tensor(1., device='cuda:0', grad_fn=<AddBackward0>)\n",
      "tensor(1.0000, device='cuda:0', grad_fn=<AddBackward0>)\n",
      "tensor(1., device='cuda:0', grad_fn=<AddBackward0>)\n",
      "tensor(1.0000, device='cuda:0', grad_fn=<AddBackward0>)\n",
      "tensor(1.0000, device='cuda:0', grad_fn=<AddBackward0>)\n",
      "tensor(1.0000, device='cuda:0', grad_fn=<AddBackward0>)\n",
      "tensor(1., device='cuda:0', grad_fn=<AddBackward0>)\n",
      "tensor(1.0000, device='cuda:0', grad_fn=<AddBackward0>)\n",
      "tensor(1., device='cuda:0', grad_fn=<AddBackward0>)\n",
      "tensor(1., device='cuda:0', grad_fn=<AddBackward0>)\n",
      "tensor(1., device='cuda:0', grad_fn=<AddBackward0>)\n",
      "tensor(1., device='cuda:0', grad_fn=<AddBackward0>)\n",
      "tensor(1.0000, device='cuda:0', grad_fn=<AddBackward0>)\n",
      "tensor(1.0000, device='cuda:0', grad_fn=<AddBackward0>)\n",
      "tensor(1., device='cuda:0', grad_fn=<AddBackward0>)\n",
      "tensor(1., device='cuda:0', grad_fn=<AddBackward0>)\n",
      "tensor(1., device='cuda:0', grad_fn=<AddBackward0>)\n",
      "tensor(1., device='cuda:0', grad_fn=<AddBackward0>)\n",
      "tensor(1., device='cuda:0', grad_fn=<AddBackward0>)\n",
      "tensor(1., device='cuda:0', grad_fn=<AddBackward0>)\n",
      "tensor(1., device='cuda:0', grad_fn=<AddBackward0>)\n",
      "tensor(1., device='cuda:0', grad_fn=<AddBackward0>)\n",
      "tensor(1., device='cuda:0', grad_fn=<AddBackward0>)\n",
      "tensor(1., device='cuda:0', grad_fn=<AddBackward0>)\n",
      "tensor(1., device='cuda:0', grad_fn=<AddBackward0>)\n",
      "tensor(1., device='cuda:0', grad_fn=<AddBackward0>)\n",
      "tensor(1., device='cuda:0', grad_fn=<AddBackward0>)\n",
      "tensor(1., device='cuda:0', grad_fn=<AddBackward0>)\n",
      "tensor(1., device='cuda:0', grad_fn=<AddBackward0>)\n",
      "tensor(1.0000, device='cuda:0', grad_fn=<AddBackward0>)\n",
      "tensor(1., device='cuda:0', grad_fn=<AddBackward0>)\n",
      "tensor(1., device='cuda:0', grad_fn=<AddBackward0>)\n",
      "tensor(1., device='cuda:0', grad_fn=<AddBackward0>)\n",
      "tensor(1., device='cuda:0', grad_fn=<AddBackward0>)\n",
      "tensor(1., device='cuda:0', grad_fn=<AddBackward0>)\n",
      "tensor(1., device='cuda:0', grad_fn=<AddBackward0>)\n",
      "tensor(1., device='cuda:0', grad_fn=<AddBackward0>)\n",
      "tensor(1., device='cuda:0', grad_fn=<AddBackward0>)\n",
      "tensor(1.0000, device='cuda:0', grad_fn=<AddBackward0>)\n",
      "tensor(1., device='cuda:0', grad_fn=<AddBackward0>)\n",
      "tensor(1., device='cuda:0', grad_fn=<AddBackward0>)\n",
      "tensor(1., device='cuda:0', grad_fn=<AddBackward0>)\n",
      "tensor(1., device='cuda:0', grad_fn=<AddBackward0>)\n",
      "tensor(1.0000, device='cuda:0', grad_fn=<AddBackward0>)\n",
      "tensor(1., device='cuda:0', grad_fn=<AddBackward0>)\n",
      "tensor(1., device='cuda:0', grad_fn=<AddBackward0>)\n",
      "tensor(1., device='cuda:0', grad_fn=<AddBackward0>)\n",
      "tensor(1., device='cuda:0', grad_fn=<AddBackward0>)\n",
      "tensor(1.0000, device='cuda:0', grad_fn=<AddBackward0>)\n",
      "tensor(1., device='cuda:0', grad_fn=<AddBackward0>)\n",
      "tensor(1., device='cuda:0', grad_fn=<AddBackward0>)\n",
      "tensor(1., device='cuda:0', grad_fn=<AddBackward0>)\n",
      "tensor(1., device='cuda:0', grad_fn=<AddBackward0>)\n",
      "tensor(1., device='cuda:0', grad_fn=<AddBackward0>)\n",
      "tensor(1., device='cuda:0', grad_fn=<AddBackward0>)\n",
      "tensor(1., device='cuda:0', grad_fn=<AddBackward0>)\n",
      "tensor(1., device='cuda:0', grad_fn=<AddBackward0>)\n",
      "tensor(1., device='cuda:0', grad_fn=<AddBackward0>)\n",
      "tensor(1., device='cuda:0', grad_fn=<AddBackward0>)\n",
      "tensor(1.0000, device='cuda:0', grad_fn=<AddBackward0>)\n",
      "tensor(1., device='cuda:0', grad_fn=<AddBackward0>)\n",
      "tensor(1., device='cuda:0', grad_fn=<AddBackward0>)\n",
      "tensor(1., device='cuda:0', grad_fn=<AddBackward0>)\n",
      "tensor(1.0000, device='cuda:0', grad_fn=<AddBackward0>)\n",
      "tensor(1., device='cuda:0', grad_fn=<AddBackward0>)\n",
      "tensor(1.0000, device='cuda:0', grad_fn=<AddBackward0>)\n",
      "tensor(1.0000, device='cuda:0', grad_fn=<AddBackward0>)\n",
      "tensor(1., device='cuda:0', grad_fn=<AddBackward0>)\n",
      "tensor(1.0000, device='cuda:0', grad_fn=<AddBackward0>)\n",
      "tensor(1.0000, device='cuda:0', grad_fn=<AddBackward0>)\n",
      "tensor(1., device='cuda:0', grad_fn=<AddBackward0>)\n",
      "tensor(1., device='cuda:0', grad_fn=<AddBackward0>)\n",
      "tensor(1.0000, device='cuda:0', grad_fn=<AddBackward0>)\n",
      "tensor(1., device='cuda:0', grad_fn=<AddBackward0>)\n",
      "tensor(1., device='cuda:0', grad_fn=<AddBackward0>)\n",
      "tensor(1.0000, device='cuda:0', grad_fn=<AddBackward0>)\n",
      "tensor(1., device='cuda:0', grad_fn=<AddBackward0>)\n",
      "tensor(1., device='cuda:0', grad_fn=<AddBackward0>)\n",
      "tensor(1., device='cuda:0', grad_fn=<AddBackward0>)\n",
      "tensor(1., device='cuda:0', grad_fn=<AddBackward0>)\n",
      "tensor(1., device='cuda:0', grad_fn=<AddBackward0>)\n",
      "tensor(1., device='cuda:0', grad_fn=<AddBackward0>)\n",
      "tensor(1., device='cuda:0', grad_fn=<AddBackward0>)\n",
      "tensor(1., device='cuda:0', grad_fn=<AddBackward0>)\n",
      "tensor(1., device='cuda:0', grad_fn=<AddBackward0>)\n",
      "tensor(1., device='cuda:0', grad_fn=<AddBackward0>)\n",
      "tensor(1., device='cuda:0', grad_fn=<AddBackward0>)\n",
      "tensor(1., device='cuda:0', grad_fn=<AddBackward0>)\n",
      "tensor(1.0000, device='cuda:0', grad_fn=<AddBackward0>)\n",
      "tensor(1.0000, device='cuda:0', grad_fn=<AddBackward0>)\n",
      "tensor(1., device='cuda:0', grad_fn=<AddBackward0>)\n",
      "tensor(1., device='cuda:0', grad_fn=<AddBackward0>)\n",
      "tensor(1., device='cuda:0', grad_fn=<AddBackward0>)\n",
      "tensor(1.0000, device='cuda:0', grad_fn=<AddBackward0>)\n",
      "tensor(1., device='cuda:0', grad_fn=<AddBackward0>)\n",
      "tensor(1., device='cuda:0', grad_fn=<AddBackward0>)\n",
      "tensor(1., device='cuda:0', grad_fn=<AddBackward0>)\n",
      "tensor(1., device='cuda:0', grad_fn=<AddBackward0>)\n",
      "tensor(1., device='cuda:0', grad_fn=<AddBackward0>)\n",
      "tensor(1., device='cuda:0', grad_fn=<AddBackward0>)\n",
      "tensor(1., device='cuda:0', grad_fn=<AddBackward0>)\n",
      "tensor(1., device='cuda:0', grad_fn=<AddBackward0>)\n",
      "tensor(1., device='cuda:0', grad_fn=<AddBackward0>)\n",
      "tensor(1., device='cuda:0', grad_fn=<AddBackward0>)\n",
      "tensor(1., device='cuda:0', grad_fn=<AddBackward0>)\n",
      "tensor(1., device='cuda:0', grad_fn=<AddBackward0>)\n",
      "tensor(1., device='cuda:0', grad_fn=<AddBackward0>)\n",
      "tensor(1., device='cuda:0', grad_fn=<AddBackward0>)\n",
      "tensor(1., device='cuda:0', grad_fn=<AddBackward0>)\n",
      "tensor(1.0000, device='cuda:0', grad_fn=<AddBackward0>)\n",
      "tensor(1.0000, device='cuda:0', grad_fn=<AddBackward0>)\n",
      "tensor(1., device='cuda:0', grad_fn=<AddBackward0>)\n",
      "tensor(1., device='cuda:0', grad_fn=<AddBackward0>)\n",
      "tensor(1.0000, device='cuda:0', grad_fn=<AddBackward0>)\n",
      "tensor(1., device='cuda:0', grad_fn=<AddBackward0>)\n",
      "tensor(1., device='cuda:0', grad_fn=<AddBackward0>)\n",
      "tensor(1., device='cuda:0', grad_fn=<AddBackward0>)\n",
      "tensor(1.0000, device='cuda:0', grad_fn=<AddBackward0>)\n",
      "tensor(1., device='cuda:0', grad_fn=<AddBackward0>)\n",
      "tensor(1., device='cuda:0', grad_fn=<AddBackward0>)\n",
      "tensor(1.0000, device='cuda:0', grad_fn=<AddBackward0>)\n",
      "tensor(1.0000, device='cuda:0', grad_fn=<AddBackward0>)\n",
      "tensor(1., device='cuda:0', grad_fn=<AddBackward0>)\n",
      "tensor(1., device='cuda:0', grad_fn=<AddBackward0>)\n",
      "tensor(1., device='cuda:0', grad_fn=<AddBackward0>)\n",
      "tensor(1., device='cuda:0', grad_fn=<AddBackward0>)\n",
      "tensor(1., device='cuda:0', grad_fn=<AddBackward0>)\n",
      "tensor(1., device='cuda:0', grad_fn=<AddBackward0>)\n",
      "tensor(1., device='cuda:0', grad_fn=<AddBackward0>)\n",
      "tensor(1.0000, device='cuda:0', grad_fn=<AddBackward0>)\n",
      "tensor(1.0000, device='cuda:0', grad_fn=<AddBackward0>)\n",
      "tensor(1., device='cuda:0', grad_fn=<AddBackward0>)\n",
      "tensor(1., device='cuda:0', grad_fn=<AddBackward0>)\n",
      "tensor(1., device='cuda:0', grad_fn=<AddBackward0>)\n",
      "tensor(1., device='cuda:0', grad_fn=<AddBackward0>)\n",
      "tensor(1., device='cuda:0', grad_fn=<AddBackward0>)\n",
      "tensor(1., device='cuda:0', grad_fn=<AddBackward0>)\n",
      "tensor(1., device='cuda:0', grad_fn=<AddBackward0>)\n",
      "tensor(1., device='cuda:0', grad_fn=<AddBackward0>)\n",
      "tensor(1., device='cuda:0', grad_fn=<AddBackward0>)\n",
      "tensor(1., device='cuda:0', grad_fn=<AddBackward0>)\n",
      "tensor(1., device='cuda:0', grad_fn=<AddBackward0>)\n",
      "tensor(1., device='cuda:0', grad_fn=<AddBackward0>)\n",
      "tensor(1., device='cuda:0', grad_fn=<AddBackward0>)\n",
      "tensor(1., device='cuda:0', grad_fn=<AddBackward0>)\n",
      "tensor(1.0000, device='cuda:0', grad_fn=<AddBackward0>)\n",
      "tensor(1., device='cuda:0', grad_fn=<AddBackward0>)\n",
      "tensor(1., device='cuda:0', grad_fn=<AddBackward0>)\n",
      "tensor(1., device='cuda:0', grad_fn=<AddBackward0>)\n",
      "tensor(1., device='cuda:0', grad_fn=<AddBackward0>)\n",
      "tensor(1., device='cuda:0', grad_fn=<AddBackward0>)\n",
      "tensor(1., device='cuda:0', grad_fn=<AddBackward0>)\n",
      "tensor(1., device='cuda:0', grad_fn=<AddBackward0>)\n",
      "tensor(1., device='cuda:0', grad_fn=<AddBackward0>)\n",
      "tensor(1., device='cuda:0', grad_fn=<AddBackward0>)\n",
      "tensor(1.0000, device='cuda:0', grad_fn=<AddBackward0>)\n",
      "tensor(1., device='cuda:0', grad_fn=<AddBackward0>)\n",
      "tensor(1., device='cuda:0', grad_fn=<AddBackward0>)\n",
      "tensor(1., device='cuda:0', grad_fn=<AddBackward0>)\n",
      "tensor(1., device='cuda:0', grad_fn=<AddBackward0>)\n",
      "tensor(1., device='cuda:0', grad_fn=<AddBackward0>)\n",
      "tensor(1.0000, device='cuda:0', grad_fn=<AddBackward0>)\n",
      "tensor(1., device='cuda:0', grad_fn=<AddBackward0>)\n",
      "tensor(1., device='cuda:0', grad_fn=<AddBackward0>)\n",
      "tensor(1., device='cuda:0', grad_fn=<AddBackward0>)\n",
      "tensor(1., device='cuda:0', grad_fn=<AddBackward0>)\n",
      "tensor(1., device='cuda:0', grad_fn=<AddBackward0>)\n",
      "tensor(1., device='cuda:0', grad_fn=<AddBackward0>)\n",
      "tensor(1.0000, device='cuda:0', grad_fn=<AddBackward0>)\n",
      "tensor(1., device='cuda:0', grad_fn=<AddBackward0>)\n",
      "tensor(1., device='cuda:0', grad_fn=<AddBackward0>)\n",
      "tensor(1., device='cuda:0', grad_fn=<AddBackward0>)\n",
      "tensor(1.0000, device='cuda:0', grad_fn=<AddBackward0>)\n",
      "tensor(1., device='cuda:0', grad_fn=<AddBackward0>)\n",
      "tensor(1., device='cuda:0', grad_fn=<AddBackward0>)\n",
      "tensor(1.0000, device='cuda:0', grad_fn=<AddBackward0>)\n",
      "tensor(1., device='cuda:0', grad_fn=<AddBackward0>)\n",
      "tensor(1., device='cuda:0', grad_fn=<AddBackward0>)\n",
      "tensor(1.0000, device='cuda:0', grad_fn=<AddBackward0>)\n",
      "tensor(1., device='cuda:0', grad_fn=<AddBackward0>)\n",
      "tensor(1., device='cuda:0', grad_fn=<AddBackward0>)\n",
      "tensor(1., device='cuda:0', grad_fn=<AddBackward0>)\n",
      "tensor(1., device='cuda:0', grad_fn=<AddBackward0>)\n",
      "tensor(1., device='cuda:0', grad_fn=<AddBackward0>)\n",
      "tensor(1., device='cuda:0', grad_fn=<AddBackward0>)\n",
      "tensor(1.0000, device='cuda:0', grad_fn=<AddBackward0>)\n",
      "tensor(1., device='cuda:0', grad_fn=<AddBackward0>)\n",
      "tensor(1.0000, device='cuda:0', grad_fn=<AddBackward0>)\n",
      "tensor(1., device='cuda:0', grad_fn=<AddBackward0>)\n",
      "tensor(1., device='cuda:0', grad_fn=<AddBackward0>)\n",
      "tensor(1.0000, device='cuda:0', grad_fn=<AddBackward0>)\n",
      "tensor(1., device='cuda:0', grad_fn=<AddBackward0>)\n",
      "tensor(1., device='cuda:0', grad_fn=<AddBackward0>)\n",
      "tensor(1., device='cuda:0', grad_fn=<AddBackward0>)\n",
      "tensor(1., device='cuda:0', grad_fn=<AddBackward0>)\n",
      "tensor(1., device='cuda:0', grad_fn=<AddBackward0>)\n",
      "tensor(1., device='cuda:0', grad_fn=<AddBackward0>)\n",
      "tensor(1.0000, device='cuda:0', grad_fn=<AddBackward0>)\n",
      "tensor(1., device='cuda:0', grad_fn=<AddBackward0>)\n",
      "tensor(1., device='cuda:0', grad_fn=<AddBackward0>)\n",
      "tensor(1.0000, device='cuda:0', grad_fn=<AddBackward0>)\n",
      "tensor(1., device='cuda:0', grad_fn=<AddBackward0>)\n",
      "tensor(1.0000, device='cuda:0', grad_fn=<AddBackward0>)\n",
      "tensor(1., device='cuda:0', grad_fn=<AddBackward0>)\n",
      "tensor(1., device='cuda:0', grad_fn=<AddBackward0>)\n",
      "tensor(1., device='cuda:0', grad_fn=<AddBackward0>)\n",
      "tensor(1., device='cuda:0', grad_fn=<AddBackward0>)\n",
      "tensor(1., device='cuda:0', grad_fn=<AddBackward0>)\n",
      "tensor(1., device='cuda:0', grad_fn=<AddBackward0>)\n",
      "tensor(1., device='cuda:0', grad_fn=<AddBackward0>)\n",
      "tensor(1., device='cuda:0', grad_fn=<AddBackward0>)\n",
      "tensor(1., device='cuda:0', grad_fn=<AddBackward0>)\n",
      "tensor(1., device='cuda:0', grad_fn=<AddBackward0>)\n",
      "tensor(1.0000, device='cuda:0', grad_fn=<AddBackward0>)\n",
      "tensor(1., device='cuda:0', grad_fn=<AddBackward0>)\n",
      "tensor(1.0000, device='cuda:0', grad_fn=<AddBackward0>)\n",
      "tensor(1., device='cuda:0', grad_fn=<AddBackward0>)\n",
      "tensor(1.0000, device='cuda:0', grad_fn=<AddBackward0>)\n",
      "tensor(1., device='cuda:0', grad_fn=<AddBackward0>)\n",
      "tensor(1., device='cuda:0', grad_fn=<AddBackward0>)\n",
      "tensor(1., device='cuda:0', grad_fn=<AddBackward0>)\n",
      "tensor(1., device='cuda:0', grad_fn=<AddBackward0>)\n",
      "tensor(1., device='cuda:0', grad_fn=<AddBackward0>)\n",
      "tensor(1., device='cuda:0', grad_fn=<AddBackward0>)\n",
      "tensor(1., device='cuda:0', grad_fn=<AddBackward0>)\n",
      "tensor(1., device='cuda:0', grad_fn=<AddBackward0>)\n",
      "tensor(1., device='cuda:0', grad_fn=<AddBackward0>)\n",
      "tensor(1., device='cuda:0', grad_fn=<AddBackward0>)\n",
      "tensor(1., device='cuda:0', grad_fn=<AddBackward0>)\n",
      "tensor(1.0000, device='cuda:0', grad_fn=<AddBackward0>)\n",
      "tensor(1., device='cuda:0', grad_fn=<AddBackward0>)\n",
      "tensor(1., device='cuda:0', grad_fn=<AddBackward0>)\n",
      "tensor(1., device='cuda:0', grad_fn=<AddBackward0>)\n",
      "tensor(1., device='cuda:0', grad_fn=<AddBackward0>)\n",
      "tensor(1.0000, device='cuda:0', grad_fn=<AddBackward0>)\n",
      "tensor(1., device='cuda:0', grad_fn=<AddBackward0>)\n",
      "tensor(1., device='cuda:0', grad_fn=<AddBackward0>)\n"
     ]
    },
    {
     "data": {
      "image/png": "[encoded data removed]",
      "text/plain": [
       "<Figure size 1000x600 with 1 Axes>"
      ]
     },
     "metadata": {},
     "output_type": "display_data"
    }
   ],
   "source": [
    "states = []\n",
    "batch = 3\n",
    "state_tensor = X[:,0,:]\n",
    "batch_size = 15\n",
    "transition_tensor = torch.zeros(batch_size, n_features, n_features).to(\"cuda\")\n",
    "for step_state in range(300):\n",
    "    state_tensor, transition_tensor = model.step_coil(state_tensor, transition_tensor)\n",
    "    states.append(state_tensor[batch,:])\n",
    "    print(sum(state_tensor[batch,:]))\n",
    "    \n",
    "\n",
    "# Your data\n",
    "data = [row.to('cpu').detach().numpy() for row in states]\n",
    "# Transpose the data to get 5 traces\n",
    "traces = list(zip(*data))\n",
    "\n",
    "# Plotting\n",
    "plt.figure(figsize=(10, 6))\n",
    "for i, trace in enumerate(traces):\n",
    "    plt.plot(trace, label=f'Trace {i+1}')\n",
    "\n",
    "plt.xlabel('Timestep')\n",
    "plt.ylabel('Value')\n",
    "plt.legend()\n",
    "plt.show()"
   ]
  }
 ],
 "metadata": {
  "kernelspec": {
   "display_name": "coilspy-1sgZ1XBf-py3.12",
   "language": "python",
   "name": "python3"
  },
  "language_info": {
   "codemirror_mode": {
    "name": "ipython",
    "version": 3
   },
   "file_extension": ".py",
   "mimetype": "text/x-python",
   "name": "python",
   "nbconvert_exporter": "python",
   "pygments_lexer": "ipython3",
   "version": "3.12.2"
  }
 },
 "nbformat": 4,
 "nbformat_minor": 2
}
