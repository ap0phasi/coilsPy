{
 "cells": [
  {
   "cell_type": "code",
   "execution_count": 104,
   "metadata": {},
   "outputs": [],
   "source": [
    "import torch\n",
    "import torch.nn as nn\n",
    "import torch.nn.functional as F"
   ]
  },
  {
   "cell_type": "code",
   "execution_count": 105,
   "metadata": {},
   "outputs": [
    {
     "name": "stdout",
     "output_type": "stream",
     "text": [
      "tensor([[0.0779, 0.0690, 0.2531, 0.1480, 0.2479, 0.2041],\n",
      "        [0.1417, 0.2451, 0.0779, 0.3274, 0.0919, 0.1160],\n",
      "        [0.1204, 0.1948, 0.2187, 0.0292, 0.1535, 0.2834],\n",
      "        [0.1389, 0.1664, 0.1114, 0.3251, 0.1740, 0.0842],\n",
      "        [0.1847, 0.1344, 0.0375, 0.1905, 0.2179, 0.2351]])\n",
      "tensor([1.0000, 1.0000, 1.0000, 1.0000, 1.0000])\n"
     ]
    }
   ],
   "source": [
    "def torch_randnorm(size, dim=0):\n",
    "    # Generate a random tensor\n",
    "    rand_tensor = torch.rand(size)\n",
    "    \n",
    "    # Normalize along the specified dimension\n",
    "    sum_along_dim = torch.sum(rand_tensor, dim=dim, keepdim=True)\n",
    "    normalized_tensor = rand_tensor / sum_along_dim\n",
    "    \n",
    "    return normalized_tensor\n",
    "\n",
    "# Example usage\n",
    "normalized_tensor = torch_randnorm([5,6], dim=1)\n",
    "print(normalized_tensor)\n",
    "print(normalized_tensor.sum(dim=1))"
   ]
  },
  {
   "cell_type": "code",
   "execution_count": 106,
   "metadata": {},
   "outputs": [],
   "source": [
    "class NeuralCoilLayer(nn.Module):\n",
    "    def __init__(self, n_features):\n",
    "        super(NeuralCoilLayer, self).__init__()\n",
    "        self.n_features = n_features\n",
    "        self.attention_weights = nn.Linear(n_features, 1, bias=False)\n",
    "        self.act = nn.SiLU()\n",
    "        self.interaction_tensors = nn.Parameter(torch.randn(n_features, n_features, n_features, n_features + 1))\n",
    "        self.topk_num = 1\n",
    "        \n",
    "    def step_coil(self, state_tensor, previous_transition_tensor):\n",
    "        # Establish normalized subgroups\n",
    "        norm_subgroups = torch.cat((state_tensor.unsqueeze(-2), previous_transition_tensor), dim=1)\n",
    "        batch_size, num_groups, n_features = norm_subgroups.shape\n",
    "        \n",
    "        # Compute scores for each normalized subgroup\n",
    "        scores = self.act(self.attention_weights(norm_subgroups)).sum(-1) # [batch_size, num_groups]\n",
    "        \n",
    "        weights = torch.softmax(scores,dim = -1) # [batch_size, num_groups]\n",
    "        \n",
    "        selected_interaction_tensors = self.interaction_tensors\n",
    "        selected_norm_subgroups = norm_subgroups\n",
    "\n",
    "        #selected_transition_tensors = torch.einsum('ijks,bsi->bjks', selected_interaction_tensors, selected_norm_subgroups)\n",
    "        \n",
    "        selected_transition_tensors = (torch.mul(selected_interaction_tensors, selected_norm_subgroups.permute(0,2,1).unsqueeze(1).unsqueeze(1))).sum(-2)\n",
    "        \n",
    "        # We need a single transition tensor so we will average this as well\n",
    "        #selected_transition_tensor = torch.einsum('bs,bjks->bjk', weights,selected_transition_tensors)\n",
    "        \n",
    "        selected_transition_tensor = (torch.mul(selected_transition_tensors, weights.unsqueeze(-2).unsqueeze(-2))).sum(-1)\n",
    "        # Generate state tensor from the transition tensor\n",
    "        # Unsqueezing state_tensor to make it [batch_size, n_features, 1] for matrix multiplication\n",
    "        state_tensor_unsqueezed = state_tensor.unsqueeze(2)\n",
    "\n",
    "        # Performing batch matrix multiplication\n",
    "        new_state_tensor_bmm = torch.bmm(selected_transition_tensor, state_tensor_unsqueezed)\n",
    "\n",
    "        # Squeezing the result to get rid of the extra dimension, resulting in [batch_size, n_features]\n",
    "        new_state_tensor = new_state_tensor_bmm.squeeze(2)\n",
    "    \n",
    "        softmax_tensor = torch.softmax(new_state_tensor * n_features, dim = 1)\n",
    "        \n",
    "        return softmax_tensor, selected_transition_tensor\n",
    "\n",
    "\n",
    "    def forward(self, x):\n",
    "        batch, length, n_features = x.size()\n",
    "        output = x.new_empty(batch, length, n_features)\n",
    "\n",
    "        # Initialize previous transition tensors (for the first step)\n",
    "        # Assuming it's a list of zero tensors for simplicity\n",
    "        transition_tensor = torch.zeros(batch, n_features, n_features)\n",
    "\n",
    "        for l in range(length):\n",
    "            state_tensor = x[:, l, :]\n",
    "            \n",
    "            # Compute output for this step\n",
    "            output[:, l, :], transition_tensor = self.step_coil(state_tensor, transition_tensor)\n",
    "\n",
    "        return output, transition_tensor\n"
   ]
  },
  {
   "cell_type": "markdown",
   "metadata": {},
   "source": [
    "# Sequence-to-Sequence Check"
   ]
  },
  {
   "cell_type": "code",
   "execution_count": 107,
   "metadata": {},
   "outputs": [
    {
     "name": "stdout",
     "output_type": "stream",
     "text": [
      "torch.Size([13, 64, 16])\n"
     ]
    }
   ],
   "source": [
    "n_features = 16\n",
    "batch, length, dim = 13, 64, n_features\n",
    "x = torch.randn(batch, length, dim)\n",
    "model = NeuralCoilLayer(\n",
    "    n_features = n_features\n",
    ")\n",
    "y = model(x)\n",
    "\n",
    "\n",
    "print(y[0].shape)\n",
    "assert y[0].shape == x.shape"
   ]
  },
  {
   "cell_type": "code",
   "execution_count": 108,
   "metadata": {},
   "outputs": [
    {
     "name": "stdout",
     "output_type": "stream",
     "text": [
      "tensor([4.2771, 4.3815, 3.9184, 3.8056, 4.6654, 3.8256, 4.4012, 3.7779, 4.0985,\n",
      "        4.3937, 3.8933, 3.0451, 3.6294, 3.9188, 3.7759, 4.8714])\n",
      "tensor([4.2771, 4.3815, 3.9184, 3.8056, 4.6654, 3.8256, 4.4012, 3.7779, 4.0985,\n",
      "        4.3937, 3.8933, 3.0451, 3.6294, 3.9188, 3.7759, 4.8714])\n"
     ]
    }
   ],
   "source": [
    "batch_size = 13\n",
    "n = 16\n",
    "slices = 17\n",
    "\n",
    "weights = torch.rand(batch_size,slices)\n",
    "selected_transition_tensors = torch.rand(batch_size, n, n ,slices)\n",
    "\n",
    "selected_transition_tensor = torch.einsum('bs,bjks->bjk', weights,selected_transition_tensors)\n",
    "\n",
    "alt = (selected_transition_tensors * weights.unsqueeze(-2).unsqueeze(-2)).sum(-1)\n",
    "alt3 = (torch.mul(selected_transition_tensors, weights.unsqueeze(-2).unsqueeze(-2))).sum(-1)\n",
    "print(alt3[5,6])\n",
    "print(selected_transition_tensor[5,6])\n"
   ]
  },
  {
   "cell_type": "code",
   "execution_count": 109,
   "metadata": {},
   "outputs": [
    {
     "name": "stdout",
     "output_type": "stream",
     "text": [
      "torch.Size([13, 16, 16, 17])\n",
      "tensor([4.0621, 4.6727, 3.9987, 3.4257, 2.9920, 3.2334, 4.3639, 4.3222, 4.8183,\n",
      "        3.8925, 4.5541, 4.9768, 3.4642, 3.2354, 4.8387, 2.9556, 3.7794])\n",
      "tensor([4.3484, 3.7942, 3.2168, 4.5173, 3.2323, 2.9237, 5.2219, 4.7075, 3.8245,\n",
      "        5.2308, 3.9477, 4.9091, 4.9419, 2.2230, 4.2307, 3.1920, 5.0659])\n",
      "tensor([4.3484, 3.7942, 3.2168, 4.5173, 3.2323, 2.9237, 5.2219, 4.7075, 3.8245,\n",
      "        5.2308, 3.9477, 4.9091, 4.9419, 2.2230, 4.2307, 3.1920, 5.0659])\n",
      "tensor(4.3110)\n",
      "tensor(4.3110)\n"
     ]
    }
   ],
   "source": [
    "from einops import rearrange, repeat\n",
    "\n",
    "selected_interaction_tensors = torch.rand(n,n,n,slices)\n",
    "selected_norm_subgroups = torch.rand(batch_size,slices, n)\n",
    "\n",
    "selected_transition_tensors = torch.einsum('ijks,bsi->bjks', selected_interaction_tensors, selected_norm_subgroups)\n",
    "selected_transition_tensors2 = torch.einsum('ijks,bks->bijs', selected_interaction_tensors, selected_norm_subgroups.permute(0,2,1))\n",
    "\n",
    "alt2 = (selected_interaction_tensors * selected_norm_subgroups.permute(0,2,1).unsqueeze(1).unsqueeze(1)).sum(-2)\n",
    "print(alt2.shape)\n",
    "print(selected_transition_tensors[5,6,2])\n",
    "print(selected_transition_tensors2[5,6,2])\n",
    "print(alt2[5,6,2])\n",
    "\n",
    "\n",
    "slicetest = torch.matmul(selected_interaction_tensors[:,:,:,2],selected_norm_subgroups.permute(0,2,1)[1,:,2])\n",
    "print(slicetest[5,9])\n",
    "print(alt2[1,:,:,2][5,9])"
   ]
  },
  {
   "cell_type": "code",
   "execution_count": 110,
   "metadata": {},
   "outputs": [
    {
     "data": {
      "text/plain": [
       "torch.Size([13, 16, 16])"
      ]
     },
     "execution_count": 110,
     "metadata": {},
     "output_type": "execute_result"
    }
   ],
   "source": [
    "# Step 1: Rearrange selected_norm_subgroups to move the 'i' dimension to the last position\n",
    "selected_norm_subgroups_rearranged = rearrange(selected_norm_subgroups, 'b s i -> (i s) b')\n",
    "\n",
    "# Step 2: Perform matrix multiplication\n",
    "# selected_interaction_tensors shape is assumed to be [..., i, ...], matching 'i' with 's' of rearranged\n",
    "result = rearrange(torch.matmul(rearrange(selected_interaction_tensors, 'i j k s -> j k (i s)'), selected_norm_subgroups_rearranged),'j k b -> b j k')\n",
    "result.shape"
   ]
  },
  {
   "cell_type": "code",
   "execution_count": 111,
   "metadata": {},
   "outputs": [
    {
     "name": "stdout",
     "output_type": "stream",
     "text": [
      "tensor(4.0045)\n",
      "tensor(4.0045)\n",
      "tensor(4.0045)\n",
      "tensor(4.0045)\n"
     ]
    }
   ],
   "source": [
    "i, j, k = 14, 12, 17\n",
    "\n",
    "tensor_a = torch.rand(i,k)\n",
    "tensor_b = torch.rand(k,j)\n",
    "\n",
    "option1 = torch.matmul(tensor_a, tensor_b)\n",
    "option2 = torch.einsum('ik,kj -> ij',tensor_a, tensor_b)\n",
    "option3 = tensor_a@tensor_b\n",
    "option4 = (tensor_a.unsqueeze(-1) * tensor_b).sum(dim=1)\n",
    "\n",
    "print(option1[5,2])\n",
    "print(option2[5,2])\n",
    "print(option3[5,2])\n",
    "print(option4[5,2])"
   ]
  },
  {
   "cell_type": "code",
   "execution_count": 112,
   "metadata": {},
   "outputs": [
    {
     "name": "stdout",
     "output_type": "stream",
     "text": [
      "-----------------------  ------------  ------------  ------------  ------------  ------------  ------------  \n",
      "                   Name    Self CPU %      Self CPU   CPU total %     CPU total  CPU time avg    # of Calls  \n",
      "-----------------------  ------------  ------------  ------------  ------------  ------------  ------------  \n",
      "        model_inference        16.39%      51.559ms       100.00%     314.617ms     314.617ms             1  \n",
      "              aten::sum        26.77%      84.236ms        33.60%     105.706ms     550.552us           192  \n",
      "              aten::mul        29.55%      92.973ms        30.21%      95.046ms     495.031us           192  \n",
      "            aten::fill_         6.68%      21.008ms         6.68%      21.008ms     109.417us           192  \n",
      "            aten::slice         3.24%      10.204ms         3.89%      12.250ms      31.901us           384  \n",
      "        aten::unsqueeze         3.08%       9.703ms         3.50%      10.999ms      28.643us           384  \n",
      "           aten::linear         0.46%       1.439ms         3.34%      10.509ms     164.203us            64  \n",
      "              aten::cat         1.54%       4.850ms         3.31%      10.412ms     162.688us            64  \n",
      "           aten::matmul         0.34%       1.082ms         2.55%       8.033ms     125.516us            64  \n",
      "          aten::softmax         0.17%     540.000us         1.82%       5.716ms      44.656us           128  \n",
      "-----------------------  ------------  ------------  ------------  ------------  ------------  ------------  \n",
      "Self CPU time total: 314.617ms\n",
      "\n"
     ]
    }
   ],
   "source": [
    "from torch.profiler import profile, record_function, ProfilerActivity\n",
    "\n",
    "with profile(activities=[ProfilerActivity.CPU], record_shapes=True) as prof:\n",
    "    with record_function(\"model_inference\"):\n",
    "        model(x)\n",
    "        \n",
    "print(prof.key_averages().table(sort_by=\"cpu_time_total\", row_limit=10))"
   ]
  },
  {
   "cell_type": "markdown",
   "metadata": {},
   "source": [
    "## Consistency Check"
   ]
  },
  {
   "cell_type": "code",
   "execution_count": 113,
   "metadata": {},
   "outputs": [
    {
     "name": "stdout",
     "output_type": "stream",
     "text": [
      "tensor([-1.4514, -0.2632, -0.7926,  0.6303])\n",
      "tensor([1.3963e-04, 2.1397e-01, 4.9432e-03, 7.8095e-01],\n",
      "       grad_fn=<SliceBackward0>)\n",
      "tensor([1.3963e-04, 2.1397e-01, 4.9432e-03, 7.8095e-01],\n",
      "       grad_fn=<SliceBackward0>)\n"
     ]
    }
   ],
   "source": [
    "n_features = 4\n",
    "batch, length, dim = 13, 64, n_features\n",
    "x =torch.randn(batch, length, dim)\n",
    "model = NeuralCoilLayer(\n",
    "    n_features = n_features\n",
    ")\n",
    "\n",
    "l = 1\n",
    "state_tensor = x[:, l, :]\n",
    "print(state_tensor[1,:])\n",
    "transition_tensor = torch.randn(batch, n_features, n_features)\n",
    "new_state, new_transition_tensor = model.step_coil(state_tensor, transition_tensor)\n",
    "print(new_state[1,:])\n",
    "new_state, new_transition_tensor = model.step_coil(state_tensor, transition_tensor)\n",
    "print(new_state[1,:])"
   ]
  },
  {
   "cell_type": "markdown",
   "metadata": {},
   "source": [
    "This should be the same as if we just look at the batches independently"
   ]
  },
  {
   "cell_type": "code",
   "execution_count": 114,
   "metadata": {},
   "outputs": [
    {
     "data": {
      "text/plain": [
       "tensor([1.3963e-04, 2.1397e-01, 4.9432e-03, 7.8095e-01],\n",
       "       grad_fn=<SliceBackward0>)"
      ]
     },
     "execution_count": 114,
     "metadata": {},
     "output_type": "execute_result"
    }
   ],
   "source": [
    "batch = 2\n",
    "transition_tensor = transition_tensor[0:2,:,:]\n",
    "l = 1\n",
    "state_tensor = x[0:2, l, :]\n",
    "new_state, new_transition_tensor = model.step_coil(state_tensor, transition_tensor)\n",
    "new_state[1,:]"
   ]
  },
  {
   "cell_type": "code",
   "execution_count": 115,
   "metadata": {},
   "outputs": [],
   "source": [
    "states = []\n",
    "for step_state in range(100):\n",
    "    state_tensor, transition_tensor = model.step_coil(state_tensor, transition_tensor)\n",
    "    states.append(state_tensor)"
   ]
  },
  {
   "cell_type": "code",
   "execution_count": 116,
   "metadata": {},
   "outputs": [
    {
     "data": {
      "image/png": "[encoded data removed]",
      "text/plain": [
       "<Figure size 1000x600 with 1 Axes>"
      ]
     },
     "metadata": {},
     "output_type": "display_data"
    }
   ],
   "source": [
    "import matplotlib.pyplot as plt\n",
    "\n",
    "# Your data\n",
    "data = [row.to('cpu').detach().numpy() for row in states]\n",
    "# Transpose the data to get 5 traces\n",
    "traces = list(zip(*data))\n",
    "\n",
    "# Plotting\n",
    "plt.figure(figsize=(10, 6))\n",
    "for i, trace in enumerate(traces):\n",
    "    plt.plot(trace, label=f'Trace {i+1}')\n",
    "\n",
    "plt.xlabel('Timestep')\n",
    "plt.ylabel('Value')\n",
    "plt.legend()\n",
    "plt.show()"
   ]
  },
  {
   "cell_type": "markdown",
   "metadata": {},
   "source": [
    "# Example Training"
   ]
  },
  {
   "cell_type": "markdown",
   "metadata": {},
   "source": [
    "## Simple Data Generation"
   ]
  },
  {
   "cell_type": "code",
   "execution_count": 117,
   "metadata": {},
   "outputs": [],
   "source": [
    "import numpy as np\n",
    "import torch\n",
    "\n",
    "def generate_normalized_multivariate_time_series(n_features, total_length, amplitude=1.0):\n",
    "    t = np.linspace(0, 100 * np.pi, total_length)\n",
    "    series = np.zeros((total_length, n_features))\n",
    "    for i in range(n_features):\n",
    "        series[:, i] = amplitude * np.cos(t * (i + 1) / n_features) + 10\n",
    "    \n",
    "    # Normalize such that each timestep's values sum to 1\n",
    "    series_sum = np.sum(series, axis=1, keepdims=True)\n",
    "    series_normalized = series / series_sum\n",
    "    \n",
    "    return series_normalized\n",
    "\n",
    "def segment_time_series(series, length):\n",
    "    # Assuming series is a numpy array of shape [total_length, n_features]\n",
    "    total_length, n_features = series.shape\n",
    "    segments = []\n",
    "    for start in range(0, total_length - length, length):\n",
    "        segment = series[start:start + length]\n",
    "        segments.append(segment)\n",
    "    return np.stack(segments)\n"
   ]
  },
  {
   "cell_type": "code",
   "execution_count": 118,
   "metadata": {},
   "outputs": [],
   "source": [
    "n_features = 4\n",
    "length = 64  # Segment length\n",
    "total_length = 1024  # Arbitrary total length for the generated series\n",
    "\n",
    "# Generate and segment the time series\n",
    "series = generate_normalized_multivariate_time_series(n_features, total_length)\n",
    "series_x = series[:-1,]\n",
    "series_y = series[1:,]\n",
    "\n",
    "segments_x = segment_time_series(series_x, length)\n",
    "segments_y = segment_time_series(series_y, length)\n",
    "\n",
    "# Convert to tensors\n",
    "segments_tensor_x = torch.tensor(segments_x, dtype=torch.float)\n",
    "segments_tensor_y = torch.tensor(segments_y, dtype=torch.float)\n",
    "\n",
    "# Prepare inputs and targets\n",
    "X = segments_tensor_x\n",
    "# Shift segments to the right by one timestep to create the targets\n",
    "Y =  segments_tensor_y\n"
   ]
  },
  {
   "cell_type": "code",
   "execution_count": 119,
   "metadata": {},
   "outputs": [
    {
     "name": "stdout",
     "output_type": "stream",
     "text": [
      "Epoch [10/5000], Loss: 0.001821944024413824\n",
      "Epoch [20/5000], Loss: 0.0004567947471514344\n",
      "Epoch [30/5000], Loss: 0.00020302683697082102\n",
      "Epoch [40/5000], Loss: 0.00023310273536480963\n",
      "Epoch [50/5000], Loss: 0.00019624207925517112\n",
      "Epoch [60/5000], Loss: 0.00018904976604972035\n",
      "Epoch [70/5000], Loss: 0.0001859838521340862\n",
      "Epoch [80/5000], Loss: 0.00018035720859188586\n",
      "Epoch [90/5000], Loss: 0.0001763468171702698\n",
      "Epoch [100/5000], Loss: 0.0001718804705888033\n",
      "Epoch [110/5000], Loss: 0.0001673264050623402\n",
      "Epoch [120/5000], Loss: 0.00016258377581834793\n",
      "Epoch [130/5000], Loss: 0.0001576119102537632\n",
      "Epoch [140/5000], Loss: 0.0001523971150163561\n",
      "Epoch [150/5000], Loss: 0.00014689401723444462\n",
      "Epoch [160/5000], Loss: 0.00014102685963734984\n",
      "Epoch [170/5000], Loss: 0.00013470534759107977\n",
      "Epoch [180/5000], Loss: 0.00012782249541487545\n",
      "Epoch [190/5000], Loss: 0.00012029114441247657\n",
      "Epoch [200/5000], Loss: 0.00011217907740501687\n",
      "Epoch [210/5000], Loss: 0.000104064769402612\n",
      "Epoch [220/5000], Loss: 9.736062202136964e-05\n",
      "Epoch [230/5000], Loss: 9.234076424036175e-05\n",
      "Epoch [240/5000], Loss: 8.739078475628048e-05\n",
      "Epoch [250/5000], Loss: 8.280659676529467e-05\n",
      "Epoch [260/5000], Loss: 7.85237571108155e-05\n",
      "Epoch [270/5000], Loss: 7.449243275914341e-05\n",
      "Epoch [280/5000], Loss: 7.071082654874772e-05\n",
      "Epoch [290/5000], Loss: 6.715154449921101e-05\n",
      "Epoch [300/5000], Loss: 6.380688137141988e-05\n",
      "Epoch [310/5000], Loss: 6.06667272222694e-05\n",
      "Epoch [320/5000], Loss: 5.772402073489502e-05\n",
      "Epoch [330/5000], Loss: 5.4971569625195116e-05\n",
      "Epoch [340/5000], Loss: 5.240225436864421e-05\n",
      "Epoch [350/5000], Loss: 5.0008184189209715e-05\n",
      "Epoch [360/5000], Loss: 4.778068614541553e-05\n",
      "Epoch [370/5000], Loss: 4.571040699374862e-05\n",
      "Epoch [380/5000], Loss: 4.378747325972654e-05\n",
      "Epoch [390/5000], Loss: 4.2001691326731816e-05\n",
      "Epoch [400/5000], Loss: 4.0342849388252944e-05\n",
      "Epoch [410/5000], Loss: 3.880094664054923e-05\n",
      "Epoch [420/5000], Loss: 3.7366393371485174e-05\n",
      "Epoch [430/5000], Loss: 3.6030152841703966e-05\n",
      "Epoch [440/5000], Loss: 3.478392682154663e-05\n",
      "Epoch [450/5000], Loss: 3.362010829732753e-05\n",
      "Epoch [460/5000], Loss: 3.25318324030377e-05\n",
      "Epoch [470/5000], Loss: 3.1512976420344785e-05\n",
      "Epoch [480/5000], Loss: 3.055807974305935e-05\n",
      "Epoch [490/5000], Loss: 2.9662265660590492e-05\n",
      "Epoch [500/5000], Loss: 2.8821203159168363e-05\n",
      "Epoch [510/5000], Loss: 2.8030995963490568e-05\n",
      "Epoch [520/5000], Loss: 2.7288175260764547e-05\n",
      "Epoch [530/5000], Loss: 2.6589554181555286e-05\n",
      "Epoch [540/5000], Loss: 2.5932275093509816e-05\n",
      "Epoch [550/5000], Loss: 2.5313665901194327e-05\n",
      "Epoch [560/5000], Loss: 2.4731281882850453e-05\n",
      "Epoch [570/5000], Loss: 2.418282747385092e-05\n",
      "Epoch [580/5000], Loss: 2.3666165361646563e-05\n",
      "Epoch [590/5000], Loss: 2.317930011486169e-05\n",
      "Epoch [600/5000], Loss: 2.2720303604728542e-05\n",
      "Epoch [610/5000], Loss: 2.2287413230515085e-05\n",
      "Epoch [620/5000], Loss: 2.187893733207602e-05\n",
      "Epoch [630/5000], Loss: 2.1493287931662053e-05\n",
      "Epoch [640/5000], Loss: 2.1128984371898696e-05\n",
      "Epoch [650/5000], Loss: 2.078464240184985e-05\n",
      "Epoch [660/5000], Loss: 2.0458932340261526e-05\n",
      "Epoch [670/5000], Loss: 2.0150660930084996e-05\n",
      "Epoch [680/5000], Loss: 1.9858673113049008e-05\n",
      "Epoch [690/5000], Loss: 1.958188477146905e-05\n",
      "Epoch [700/5000], Loss: 1.9319246348459274e-05\n",
      "Epoch [710/5000], Loss: 1.9069730115006678e-05\n",
      "Epoch [720/5000], Loss: 1.8832301066140644e-05\n",
      "Epoch [730/5000], Loss: 1.860588054114487e-05\n",
      "Epoch [740/5000], Loss: 1.8389411707175896e-05\n",
      "Epoch [750/5000], Loss: 1.8181777704739943e-05\n",
      "Epoch [760/5000], Loss: 1.7981918063014746e-05\n",
      "Epoch [770/5000], Loss: 1.7788817785913125e-05\n",
      "Epoch [780/5000], Loss: 1.7601551007828675e-05\n",
      "Epoch [790/5000], Loss: 1.7419290088582784e-05\n",
      "Epoch [800/5000], Loss: 1.724133107927628e-05\n",
      "Epoch [810/5000], Loss: 1.706706461845897e-05\n",
      "Epoch [820/5000], Loss: 1.6895970475161448e-05\n",
      "Epoch [830/5000], Loss: 1.672759208304342e-05\n",
      "Epoch [840/5000], Loss: 1.656153835938312e-05\n",
      "Epoch [850/5000], Loss: 1.6397454601246864e-05\n",
      "Epoch [860/5000], Loss: 1.6235027942457236e-05\n",
      "Epoch [870/5000], Loss: 1.607397098268848e-05\n",
      "Epoch [880/5000], Loss: 1.5914014511508867e-05\n",
      "Epoch [890/5000], Loss: 1.5754894775454886e-05\n",
      "Epoch [900/5000], Loss: 1.5596391676808707e-05\n",
      "Epoch [910/5000], Loss: 1.543825419503264e-05\n",
      "Epoch [920/5000], Loss: 1.5280254956451245e-05\n",
      "Epoch [930/5000], Loss: 1.5122162949410267e-05\n",
      "Epoch [940/5000], Loss: 1.4963761714170687e-05\n",
      "Epoch [950/5000], Loss: 1.4804806596657727e-05\n",
      "Epoch [960/5000], Loss: 1.4645059309259523e-05\n",
      "Epoch [970/5000], Loss: 1.4485104657069314e-05\n",
      "Epoch [980/5000], Loss: 1.446453188691521e-05\n",
      "Epoch [990/5000], Loss: 1.4316669876279775e-05\n",
      "Epoch [1000/5000], Loss: 1.3997268069942947e-05\n",
      "Epoch [1010/5000], Loss: 1.3848182788933627e-05\n",
      "Epoch [1020/5000], Loss: 1.3672211025550496e-05\n",
      "Epoch [1030/5000], Loss: 1.3496065548679326e-05\n",
      "Epoch [1040/5000], Loss: 1.3324155588634312e-05\n",
      "Epoch [1050/5000], Loss: 1.3147942809155211e-05\n",
      "Epoch [1060/5000], Loss: 1.2968813280167524e-05\n",
      "Epoch [1070/5000], Loss: 1.2786952538590413e-05\n",
      "Epoch [1080/5000], Loss: 1.2602443348441739e-05\n",
      "Epoch [1090/5000], Loss: 1.2416490790201351e-05\n",
      "Epoch [1100/5000], Loss: 1.2291851817280985e-05\n",
      "Epoch [1110/5000], Loss: 1.20831746244221e-05\n",
      "Epoch [1120/5000], Loss: 1.1892438124050386e-05\n",
      "Epoch [1130/5000], Loss: 1.171753592643654e-05\n",
      "Epoch [1140/5000], Loss: 1.1551823263289407e-05\n",
      "Epoch [1150/5000], Loss: 1.1412410458433442e-05\n",
      "Epoch [1160/5000], Loss: 1.1248439477640204e-05\n",
      "Epoch [1170/5000], Loss: 1.109850018110592e-05\n",
      "Epoch [1180/5000], Loss: 1.2478396456572227e-05\n",
      "Epoch [1190/5000], Loss: 1.0920890417764895e-05\n",
      "Epoch [1200/5000], Loss: 1.104835064325016e-05\n",
      "Epoch [1210/5000], Loss: 1.0770510925794952e-05\n",
      "Epoch [1220/5000], Loss: 1.058267389453249e-05\n",
      "Epoch [1230/5000], Loss: 1.046113629854517e-05\n",
      "Epoch [1240/5000], Loss: 1.0348704563512001e-05\n",
      "Epoch [1250/5000], Loss: 1.0261140232614707e-05\n",
      "Epoch [1260/5000], Loss: 1.0189095519308466e-05\n",
      "Epoch [1270/5000], Loss: 1.065810374711873e-05\n",
      "Epoch [1280/5000], Loss: 1.1053012713091448e-05\n",
      "Epoch [1290/5000], Loss: 1.0336296327295713e-05\n",
      "Epoch [1300/5000], Loss: 1.0042857866210397e-05\n",
      "Epoch [1310/5000], Loss: 9.895139555737842e-06\n",
      "Epoch [1320/5000], Loss: 9.792777746042702e-06\n",
      "Epoch [1330/5000], Loss: 9.73266924120253e-06\n",
      "Epoch [1340/5000], Loss: 9.67073083302239e-06\n",
      "Epoch [1350/5000], Loss: 9.615347153157927e-06\n",
      "Epoch [1360/5000], Loss: 9.561861588736065e-06\n",
      "Epoch [1370/5000], Loss: 9.509813935437705e-06\n",
      "Epoch [1380/5000], Loss: 9.465697075938806e-06\n",
      "Epoch [1390/5000], Loss: 1.0152451977774035e-05\n",
      "Epoch [1400/5000], Loss: 1.0354589903727174e-05\n",
      "Epoch [1410/5000], Loss: 9.659258466854226e-06\n",
      "Epoch [1420/5000], Loss: 9.394053449796047e-06\n",
      "Epoch [1430/5000], Loss: 9.274152034777217e-06\n",
      "Epoch [1440/5000], Loss: 9.202387445839122e-06\n",
      "Epoch [1450/5000], Loss: 9.143777788267471e-06\n",
      "Epoch [1460/5000], Loss: 9.10007565835258e-06\n",
      "Epoch [1470/5000], Loss: 9.056539965968113e-06\n",
      "Epoch [1480/5000], Loss: 9.015076102514286e-06\n",
      "Epoch [1490/5000], Loss: 8.973948752100114e-06\n",
      "Epoch [1500/5000], Loss: 8.933454409998376e-06\n",
      "Epoch [1510/5000], Loss: 8.893567610357422e-06\n",
      "Epoch [1520/5000], Loss: 8.854211955622304e-06\n",
      "Epoch [1530/5000], Loss: 8.815400178718846e-06\n",
      "Epoch [1540/5000], Loss: 8.780319149082061e-06\n",
      "Epoch [1550/5000], Loss: 9.076322385226376e-06\n",
      "Epoch [1560/5000], Loss: 8.823627467791084e-06\n",
      "Epoch [1570/5000], Loss: 8.676105608174112e-06\n",
      "Epoch [1580/5000], Loss: 8.635130143375136e-06\n",
      "Epoch [1590/5000], Loss: 8.597630767326336e-06\n",
      "Epoch [1600/5000], Loss: 8.563440133002587e-06\n",
      "Epoch [1610/5000], Loss: 8.528857506462373e-06\n",
      "Epoch [1620/5000], Loss: 8.486890692438465e-06\n",
      "Epoch [1630/5000], Loss: 8.451967914879788e-06\n",
      "Epoch [1640/5000], Loss: 8.416043783654459e-06\n",
      "Epoch [1650/5000], Loss: 8.381180123251397e-06\n",
      "Epoch [1660/5000], Loss: 8.346659342350904e-06\n",
      "Epoch [1670/5000], Loss: 8.312369573104661e-06\n",
      "Epoch [1680/5000], Loss: 8.278268978756387e-06\n",
      "Epoch [1690/5000], Loss: 8.244339369412046e-06\n",
      "Epoch [1700/5000], Loss: 8.210583473555744e-06\n",
      "Epoch [1710/5000], Loss: 8.177039489964955e-06\n",
      "Epoch [1720/5000], Loss: 8.147090738930274e-06\n",
      "Epoch [1730/5000], Loss: 8.595210601924919e-06\n",
      "Epoch [1740/5000], Loss: 8.709322173672263e-06\n",
      "Epoch [1750/5000], Loss: 8.34122511150781e-06\n",
      "Epoch [1760/5000], Loss: 8.156320291163865e-06\n",
      "Epoch [1770/5000], Loss: 8.035794053284917e-06\n",
      "Epoch [1780/5000], Loss: 7.97023585619172e-06\n",
      "Epoch [1790/5000], Loss: 7.924727469799109e-06\n",
      "Epoch [1800/5000], Loss: 7.88569468568312e-06\n",
      "Epoch [1810/5000], Loss: 7.853360330045689e-06\n",
      "Epoch [1820/5000], Loss: 7.82075494498713e-06\n",
      "Epoch [1830/5000], Loss: 7.788789844198618e-06\n",
      "Epoch [1840/5000], Loss: 7.756751983833965e-06\n",
      "Epoch [1850/5000], Loss: 7.724855095148087e-06\n",
      "Epoch [1860/5000], Loss: 7.69301550462842e-06\n",
      "Epoch [1870/5000], Loss: 7.661204108444508e-06\n",
      "Epoch [1880/5000], Loss: 7.629398169228807e-06\n",
      "Epoch [1890/5000], Loss: 7.597593594255159e-06\n",
      "Epoch [1900/5000], Loss: 7.565773103124229e-06\n",
      "Epoch [1910/5000], Loss: 7.5339580689615104e-06\n",
      "Epoch [1920/5000], Loss: 7.5033572102256585e-06\n",
      "Epoch [1930/5000], Loss: 7.63466778153088e-06\n",
      "Epoch [1940/5000], Loss: 7.858971002860926e-06\n",
      "Epoch [1950/5000], Loss: 7.492409622500418e-06\n",
      "Epoch [1960/5000], Loss: 7.411141723423498e-06\n",
      "Epoch [1970/5000], Loss: 7.391728559014155e-06\n",
      "Epoch [1980/5000], Loss: 7.338309387705522e-06\n",
      "Epoch [1990/5000], Loss: 7.290725989150815e-06\n",
      "Epoch [2000/5000], Loss: 7.252186151163187e-06\n",
      "Epoch [2010/5000], Loss: 7.219594863272505e-06\n",
      "Epoch [2020/5000], Loss: 7.1873378146847244e-06\n",
      "Epoch [2030/5000], Loss: 7.154927970987046e-06\n",
      "Epoch [2040/5000], Loss: 7.1226636464416515e-06\n",
      "Epoch [2050/5000], Loss: 7.090270628395956e-06\n",
      "Epoch [2060/5000], Loss: 7.057782568153925e-06\n",
      "Epoch [2070/5000], Loss: 7.025153081485769e-06\n",
      "Epoch [2080/5000], Loss: 6.9923544288030826e-06\n",
      "Epoch [2090/5000], Loss: 6.9593829721270595e-06\n",
      "Epoch [2100/5000], Loss: 6.926220976311015e-06\n",
      "Epoch [2110/5000], Loss: 6.89286389388144e-06\n",
      "Epoch [2120/5000], Loss: 6.859875611553434e-06\n",
      "Epoch [2130/5000], Loss: 6.986461357882945e-06\n",
      "Epoch [2140/5000], Loss: 8.010158126126043e-06\n",
      "Epoch [2150/5000], Loss: 7.351340627792524e-06\n",
      "Epoch [2160/5000], Loss: 6.948130248929374e-06\n",
      "Epoch [2170/5000], Loss: 6.7135283643438015e-06\n",
      "Epoch [2180/5000], Loss: 6.665335604338907e-06\n",
      "Epoch [2190/5000], Loss: 6.63055652694311e-06\n",
      "Epoch [2200/5000], Loss: 6.598528671020176e-06\n",
      "Epoch [2210/5000], Loss: 6.562300768564455e-06\n",
      "Epoch [2220/5000], Loss: 6.532549377880059e-06\n",
      "Epoch [2230/5000], Loss: 6.60971909383079e-06\n",
      "Epoch [2240/5000], Loss: 7.733994607406203e-06\n",
      "Epoch [2250/5000], Loss: 6.443768597819144e-06\n",
      "Epoch [2260/5000], Loss: 6.49684579911991e-06\n",
      "Epoch [2270/5000], Loss: 6.362533895298839e-06\n",
      "Epoch [2280/5000], Loss: 6.333913006528746e-06\n",
      "Epoch [2290/5000], Loss: 6.285790277615888e-06\n",
      "Epoch [2300/5000], Loss: 6.24569611318293e-06\n",
      "Epoch [2310/5000], Loss: 6.238684818526963e-06\n",
      "Epoch [2320/5000], Loss: 8.0179333963315e-06\n",
      "Epoch [2330/5000], Loss: 6.324954938463634e-06\n",
      "Epoch [2340/5000], Loss: 6.120103080320405e-06\n",
      "Epoch [2350/5000], Loss: 6.0774996200052556e-06\n",
      "Epoch [2360/5000], Loss: 6.087123892939417e-06\n",
      "Epoch [2370/5000], Loss: 6.660787676082691e-06\n",
      "Epoch [2380/5000], Loss: 6.0653278524114285e-06\n",
      "Epoch [2390/5000], Loss: 6.049056082702009e-06\n",
      "Epoch [2400/5000], Loss: 5.8856385294348e-06\n",
      "Epoch [2410/5000], Loss: 5.8563659877108876e-06\n",
      "Epoch [2420/5000], Loss: 5.804853117297171e-06\n",
      "Epoch [2430/5000], Loss: 5.972921826469246e-06\n",
      "Epoch [2440/5000], Loss: 5.897270966670476e-06\n",
      "Epoch [2450/5000], Loss: 5.752223387389677e-06\n",
      "Epoch [2460/5000], Loss: 5.719234195566969e-06\n",
      "Epoch [2470/5000], Loss: 5.637755293719238e-06\n",
      "Epoch [2480/5000], Loss: 5.5894720389915165e-06\n",
      "Epoch [2490/5000], Loss: 5.568074811890256e-06\n",
      "Epoch [2500/5000], Loss: 6.196459708007751e-06\n",
      "Epoch [2510/5000], Loss: 6.011874575051479e-06\n",
      "Epoch [2520/5000], Loss: 5.570871508098207e-06\n",
      "Epoch [2530/5000], Loss: 5.523119398276322e-06\n",
      "Epoch [2540/5000], Loss: 5.949666956439614e-06\n",
      "Epoch [2550/5000], Loss: 5.3397079682326876e-06\n",
      "Epoch [2560/5000], Loss: 5.306852926878491e-06\n",
      "Epoch [2570/5000], Loss: 5.266183961794013e-06\n",
      "Epoch [2580/5000], Loss: 5.307339961291291e-06\n",
      "Epoch [2590/5000], Loss: 6.861580459371908e-06\n",
      "Epoch [2600/5000], Loss: 5.560372756008292e-06\n",
      "Epoch [2610/5000], Loss: 5.1788388191198464e-06\n",
      "Epoch [2620/5000], Loss: 5.154991413292009e-06\n",
      "Epoch [2630/5000], Loss: 5.06615742779104e-06\n",
      "Epoch [2640/5000], Loss: 5.2012524065503385e-06\n",
      "Epoch [2650/5000], Loss: 6.255577318370342e-06\n",
      "Epoch [2660/5000], Loss: 5.2829209380433895e-06\n",
      "Epoch [2670/5000], Loss: 4.99224552186206e-06\n",
      "Epoch [2680/5000], Loss: 4.912295025860658e-06\n",
      "Epoch [2690/5000], Loss: 4.9080872486229055e-06\n",
      "Epoch [2700/5000], Loss: 5.305571448843693e-06\n",
      "Epoch [2710/5000], Loss: 4.8582369345240295e-06\n",
      "Epoch [2720/5000], Loss: 4.887048362434143e-06\n",
      "Epoch [2730/5000], Loss: 4.819025889446493e-06\n",
      "Epoch [2740/5000], Loss: 5.523885647562565e-06\n",
      "Epoch [2750/5000], Loss: 6.7274309003551025e-06\n",
      "Epoch [2760/5000], Loss: 4.70573559141485e-06\n",
      "Epoch [2770/5000], Loss: 4.955566510034259e-06\n",
      "Epoch [2780/5000], Loss: 4.6393420234380756e-06\n",
      "Epoch [2790/5000], Loss: 4.583821464620996e-06\n",
      "Epoch [2800/5000], Loss: 4.560427441901993e-06\n",
      "Epoch [2810/5000], Loss: 4.5225392568681855e-06\n",
      "Epoch [2820/5000], Loss: 4.4931202864972875e-06\n",
      "Epoch [2830/5000], Loss: 4.465473466552794e-06\n",
      "Epoch [2840/5000], Loss: 4.8712740863265935e-06\n",
      "Epoch [2850/5000], Loss: 6.464550551754655e-06\n",
      "Epoch [2860/5000], Loss: 4.560812612908194e-06\n",
      "Epoch [2870/5000], Loss: 4.5927363316877745e-06\n",
      "Epoch [2880/5000], Loss: 4.555456598609453e-06\n",
      "Epoch [2890/5000], Loss: 4.395955784275429e-06\n",
      "Epoch [2900/5000], Loss: 4.370272563392064e-06\n",
      "Epoch [2910/5000], Loss: 4.336831352702575e-06\n",
      "Epoch [2920/5000], Loss: 4.424646249390207e-06\n",
      "Epoch [2930/5000], Loss: 5.1277829697937705e-06\n",
      "Epoch [2940/5000], Loss: 4.305156380723929e-06\n",
      "Epoch [2950/5000], Loss: 4.273727881809464e-06\n",
      "Epoch [2960/5000], Loss: 4.245617219567066e-06\n",
      "Epoch [2970/5000], Loss: 4.204545803077053e-06\n",
      "Epoch [2980/5000], Loss: 4.184875251667108e-06\n",
      "Epoch [2990/5000], Loss: 5.68779341847403e-06\n",
      "Epoch [3000/5000], Loss: 5.370523922465509e-06\n",
      "Epoch [3010/5000], Loss: 4.284660917619476e-06\n",
      "Epoch [3020/5000], Loss: 4.3784198169305455e-06\n",
      "Epoch [3030/5000], Loss: 4.493893811741145e-06\n",
      "Epoch [3040/5000], Loss: 4.09472841056413e-06\n",
      "Epoch [3050/5000], Loss: 4.086734861630248e-06\n",
      "Epoch [3060/5000], Loss: 4.082518444192829e-06\n",
      "Epoch [3070/5000], Loss: 4.033091045130277e-06\n",
      "Epoch [3080/5000], Loss: 4.025701400678372e-06\n",
      "Epoch [3090/5000], Loss: 4.75509523312212e-06\n",
      "Epoch [3100/5000], Loss: 5.130579211254371e-06\n",
      "Epoch [3110/5000], Loss: 4.414537670527352e-06\n",
      "Epoch [3120/5000], Loss: 4.104902927792864e-06\n",
      "Epoch [3130/5000], Loss: 3.996063696831698e-06\n",
      "Epoch [3140/5000], Loss: 4.00355474994285e-06\n",
      "Epoch [3150/5000], Loss: 4.54764722235268e-06\n",
      "Epoch [3160/5000], Loss: 3.946311608160613e-06\n",
      "Epoch [3170/5000], Loss: 4.082937721250346e-06\n",
      "Epoch [3180/5000], Loss: 3.97704843635438e-06\n",
      "Epoch [3190/5000], Loss: 3.88780335924821e-06\n",
      "Epoch [3200/5000], Loss: 3.857537649309961e-06\n",
      "Epoch [3210/5000], Loss: 3.857478077406995e-06\n",
      "Epoch [3220/5000], Loss: 4.5832557589164935e-06\n",
      "Epoch [3230/5000], Loss: 4.2761798795254435e-06\n",
      "Epoch [3240/5000], Loss: 3.918043148587458e-06\n",
      "Epoch [3250/5000], Loss: 3.8292946555884555e-06\n",
      "Epoch [3260/5000], Loss: 3.8009741274436237e-06\n",
      "Epoch [3270/5000], Loss: 3.798599209403619e-06\n",
      "Epoch [3280/5000], Loss: 3.7796314700244693e-06\n",
      "Epoch [3290/5000], Loss: 3.989573997387197e-06\n",
      "Epoch [3300/5000], Loss: 4.181830263405573e-06\n",
      "Epoch [3310/5000], Loss: 3.889839717885479e-06\n",
      "Epoch [3320/5000], Loss: 3.7453032746270765e-06\n",
      "Epoch [3330/5000], Loss: 3.7136740047571948e-06\n",
      "Epoch [3340/5000], Loss: 3.6979952255933313e-06\n",
      "Epoch [3350/5000], Loss: 3.998743068223121e-06\n",
      "Epoch [3360/5000], Loss: 3.8372013477783184e-06\n",
      "Epoch [3370/5000], Loss: 4.46884178018081e-06\n",
      "Epoch [3380/5000], Loss: 3.7037434594822116e-06\n",
      "Epoch [3390/5000], Loss: 3.749134521058295e-06\n",
      "Epoch [3400/5000], Loss: 3.6528733744489728e-06\n",
      "Epoch [3410/5000], Loss: 3.6238529901311267e-06\n",
      "Epoch [3420/5000], Loss: 3.6166393329040147e-06\n",
      "Epoch [3430/5000], Loss: 4.0340587474929634e-06\n",
      "Epoch [3440/5000], Loss: 3.592884922909434e-06\n",
      "Epoch [3450/5000], Loss: 3.725977649082779e-06\n",
      "Epoch [3460/5000], Loss: 3.5853015560860513e-06\n",
      "Epoch [3470/5000], Loss: 3.5468519854475744e-06\n",
      "Epoch [3480/5000], Loss: 3.518373205224634e-06\n",
      "Epoch [3490/5000], Loss: 3.5032146570301848e-06\n",
      "Epoch [3500/5000], Loss: 3.4939064335048897e-06\n",
      "Epoch [3510/5000], Loss: 3.551680038071936e-06\n",
      "Epoch [3520/5000], Loss: 6.405274234566605e-06\n",
      "Epoch [3530/5000], Loss: 3.815906438831007e-06\n",
      "Epoch [3540/5000], Loss: 3.6789274417969864e-06\n",
      "Epoch [3550/5000], Loss: 3.5259431570011657e-06\n",
      "Epoch [3560/5000], Loss: 3.47299715031113e-06\n",
      "Epoch [3570/5000], Loss: 3.417723974052933e-06\n",
      "Epoch [3580/5000], Loss: 3.3998624076048145e-06\n",
      "Epoch [3590/5000], Loss: 3.427547653700458e-06\n",
      "Epoch [3600/5000], Loss: 5.750863692810526e-06\n",
      "Epoch [3610/5000], Loss: 3.5338223369763e-06\n",
      "Epoch [3620/5000], Loss: 3.446133405304863e-06\n",
      "Epoch [3630/5000], Loss: 3.3709200124576455e-06\n",
      "Epoch [3640/5000], Loss: 3.3563117085577687e-06\n",
      "Epoch [3650/5000], Loss: 3.3146968689834466e-06\n",
      "Epoch [3660/5000], Loss: 3.3096259812737117e-06\n",
      "Epoch [3670/5000], Loss: 3.4017409689113265e-06\n",
      "Epoch [3680/5000], Loss: 4.778501534019597e-06\n",
      "Epoch [3690/5000], Loss: 3.302591494502849e-06\n",
      "Epoch [3700/5000], Loss: 3.3339622405037517e-06\n",
      "Epoch [3710/5000], Loss: 3.2874954740691464e-06\n",
      "Epoch [3720/5000], Loss: 3.2337818538508145e-06\n",
      "Epoch [3730/5000], Loss: 3.210610884707421e-06\n",
      "Epoch [3740/5000], Loss: 3.26120903082483e-06\n",
      "Epoch [3750/5000], Loss: 6.524689979414688e-06\n",
      "Epoch [3760/5000], Loss: 3.7580427942884853e-06\n",
      "Epoch [3770/5000], Loss: 3.485299203020986e-06\n",
      "Epoch [3780/5000], Loss: 3.250872396165505e-06\n",
      "Epoch [3790/5000], Loss: 3.1884376312518725e-06\n",
      "Epoch [3800/5000], Loss: 3.125411467408412e-06\n",
      "Epoch [3810/5000], Loss: 3.167566774209263e-06\n",
      "Epoch [3820/5000], Loss: 6.131305781309493e-06\n",
      "Epoch [3830/5000], Loss: 3.669314310172922e-06\n",
      "Epoch [3840/5000], Loss: 3.285919319750974e-06\n",
      "Epoch [3850/5000], Loss: 3.102178652625298e-06\n",
      "Epoch [3860/5000], Loss: 3.0619969493272947e-06\n",
      "Epoch [3870/5000], Loss: 3.0475637231575092e-06\n",
      "Epoch [3880/5000], Loss: 3.027219918294577e-06\n",
      "Epoch [3890/5000], Loss: 3.0124595014058286e-06\n",
      "Epoch [3900/5000], Loss: 2.9975892630318413e-06\n",
      "Epoch [3910/5000], Loss: 2.9855793854949297e-06\n",
      "Epoch [3920/5000], Loss: 3.0812043405603617e-06\n",
      "Epoch [3930/5000], Loss: 6.207738351804437e-06\n",
      "Epoch [3940/5000], Loss: 3.477033260423923e-06\n",
      "Epoch [3950/5000], Loss: 3.019715450136573e-06\n",
      "Epoch [3960/5000], Loss: 3.0351736768352566e-06\n",
      "Epoch [3970/5000], Loss: 2.96242319564044e-06\n",
      "Epoch [3980/5000], Loss: 2.9131188057363033e-06\n",
      "Epoch [3990/5000], Loss: 2.900505705838441e-06\n",
      "Epoch [4000/5000], Loss: 2.884803734559682e-06\n",
      "Epoch [4010/5000], Loss: 2.878295845221146e-06\n",
      "Epoch [4020/5000], Loss: 3.608611677918816e-06\n",
      "Epoch [4030/5000], Loss: 4.096674274478573e-06\n",
      "Epoch [4040/5000], Loss: 3.0266785415733466e-06\n",
      "Epoch [4050/5000], Loss: 2.9230247946543386e-06\n",
      "Epoch [4060/5000], Loss: 2.890898940677289e-06\n",
      "Epoch [4070/5000], Loss: 2.841908326445264e-06\n",
      "Epoch [4080/5000], Loss: 2.8120107344875578e-06\n",
      "Epoch [4090/5000], Loss: 2.7967466849077027e-06\n",
      "Epoch [4100/5000], Loss: 2.7858179691975238e-06\n",
      "Epoch [4110/5000], Loss: 2.7763301204686286e-06\n",
      "Epoch [4120/5000], Loss: 2.7682540348905604e-06\n",
      "Epoch [4130/5000], Loss: 2.8218585157446796e-06\n",
      "Epoch [4140/5000], Loss: 5.538822279049782e-06\n",
      "Epoch [4150/5000], Loss: 2.9878651730541606e-06\n",
      "Epoch [4160/5000], Loss: 2.918225391113083e-06\n",
      "Epoch [4170/5000], Loss: 2.7847902401845204e-06\n",
      "Epoch [4180/5000], Loss: 2.72481133833935e-06\n",
      "Epoch [4190/5000], Loss: 2.7277017125015846e-06\n",
      "Epoch [4200/5000], Loss: 2.70871873908618e-06\n",
      "Epoch [4210/5000], Loss: 2.6975301352649694e-06\n",
      "Epoch [4220/5000], Loss: 2.700672439459595e-06\n",
      "Epoch [4230/5000], Loss: 3.412152409509872e-06\n",
      "Epoch [4240/5000], Loss: 3.324924136904883e-06\n",
      "Epoch [4250/5000], Loss: 2.892672455345746e-06\n",
      "Epoch [4260/5000], Loss: 2.7610963115876075e-06\n",
      "Epoch [4270/5000], Loss: 2.6842792522074888e-06\n",
      "Epoch [4280/5000], Loss: 2.6544614684098633e-06\n",
      "Epoch [4290/5000], Loss: 2.646960865604342e-06\n",
      "Epoch [4300/5000], Loss: 2.639230160639272e-06\n",
      "Epoch [4310/5000], Loss: 2.645144377311226e-06\n",
      "Epoch [4320/5000], Loss: 3.1247061542671872e-06\n",
      "Epoch [4330/5000], Loss: 2.7436531127023045e-06\n",
      "Epoch [4340/5000], Loss: 2.7656192287395243e-06\n",
      "Epoch [4350/5000], Loss: 2.7139233225170756e-06\n",
      "Epoch [4360/5000], Loss: 2.6237273687002016e-06\n",
      "Epoch [4370/5000], Loss: 2.5956933313864283e-06\n",
      "Epoch [4380/5000], Loss: 2.5913357148965588e-06\n",
      "Epoch [4390/5000], Loss: 2.6262403025612002e-06\n",
      "Epoch [4400/5000], Loss: 4.984126917406684e-06\n",
      "Epoch [4410/5000], Loss: 2.6204563710052753e-06\n",
      "Epoch [4420/5000], Loss: 2.6841910312214168e-06\n",
      "Epoch [4430/5000], Loss: 2.6489813080843305e-06\n",
      "Epoch [4440/5000], Loss: 2.5889896733133355e-06\n",
      "Epoch [4450/5000], Loss: 2.5583399292372633e-06\n",
      "Epoch [4460/5000], Loss: 2.656230662978487e-06\n",
      "Epoch [4470/5000], Loss: 3.2949903925327817e-06\n",
      "Epoch [4480/5000], Loss: 2.652440571182524e-06\n",
      "Epoch [4490/5000], Loss: 2.550535100453999e-06\n",
      "Epoch [4500/5000], Loss: 2.5256344997615088e-06\n",
      "Epoch [4510/5000], Loss: 2.5168221782223554e-06\n",
      "Epoch [4520/5000], Loss: 2.5556607852195157e-06\n",
      "Epoch [4530/5000], Loss: 3.841681518679252e-06\n",
      "Epoch [4540/5000], Loss: 3.04811305795738e-06\n",
      "Epoch [4550/5000], Loss: 2.7016146759706317e-06\n",
      "Epoch [4560/5000], Loss: 2.5131907932518516e-06\n",
      "Epoch [4570/5000], Loss: 2.511686489015119e-06\n",
      "Epoch [4580/5000], Loss: 2.484910282873898e-06\n",
      "Epoch [4590/5000], Loss: 2.512362016204861e-06\n",
      "Epoch [4600/5000], Loss: 3.2061295769381104e-06\n",
      "Epoch [4610/5000], Loss: 2.746649670370971e-06\n",
      "Epoch [4620/5000], Loss: 2.5112690309470054e-06\n",
      "Epoch [4630/5000], Loss: 2.945180540336878e-06\n",
      "Epoch [4640/5000], Loss: 2.5069336970773293e-06\n",
      "Epoch [4650/5000], Loss: 2.5301803816546453e-06\n",
      "Epoch [4660/5000], Loss: 2.5233255200873828e-06\n",
      "Epoch [4670/5000], Loss: 2.4442567791993497e-06\n",
      "Epoch [4680/5000], Loss: 2.443689027131768e-06\n",
      "Epoch [4690/5000], Loss: 2.452400167385349e-06\n",
      "Epoch [4700/5000], Loss: 3.139351292702486e-06\n",
      "Epoch [4710/5000], Loss: 2.7810040137410397e-06\n",
      "Epoch [4720/5000], Loss: 2.4256396500277333e-06\n",
      "Epoch [4730/5000], Loss: 2.4642381504236255e-06\n",
      "Epoch [4740/5000], Loss: 3.519636720739072e-06\n",
      "Epoch [4750/5000], Loss: 2.9881534828746226e-06\n",
      "Epoch [4760/5000], Loss: 2.5596523300919216e-06\n",
      "Epoch [4770/5000], Loss: 2.422362967990921e-06\n",
      "Epoch [4780/5000], Loss: 2.3844106635806384e-06\n",
      "Epoch [4790/5000], Loss: 2.377318423896213e-06\n",
      "Epoch [4800/5000], Loss: 2.3676016098761465e-06\n",
      "Epoch [4810/5000], Loss: 2.36294295063999e-06\n",
      "Epoch [4820/5000], Loss: 2.3643492568226065e-06\n",
      "Epoch [4830/5000], Loss: 3.596623628254747e-06\n",
      "Epoch [4840/5000], Loss: 3.1295842291001463e-06\n",
      "Epoch [4850/5000], Loss: 2.402825202807435e-06\n",
      "Epoch [4860/5000], Loss: 2.359847940169857e-06\n",
      "Epoch [4870/5000], Loss: 2.547697704358143e-06\n",
      "Epoch [4880/5000], Loss: 3.365340489835944e-06\n",
      "Epoch [4890/5000], Loss: 2.474247821737663e-06\n",
      "Epoch [4900/5000], Loss: 2.3335956029768568e-06\n",
      "Epoch [4910/5000], Loss: 2.3567201878904598e-06\n",
      "Epoch [4920/5000], Loss: 2.3206860078062164e-06\n",
      "Epoch [4930/5000], Loss: 2.3136851723393193e-06\n",
      "Epoch [4940/5000], Loss: 2.3022778350423323e-06\n",
      "Epoch [4950/5000], Loss: 2.3044588033371838e-06\n",
      "Epoch [4960/5000], Loss: 3.004023028552183e-06\n",
      "Epoch [4970/5000], Loss: 3.2217014904745156e-06\n",
      "Epoch [4980/5000], Loss: 2.5828840080066584e-06\n",
      "Epoch [4990/5000], Loss: 2.308415560037247e-06\n",
      "Epoch [5000/5000], Loss: 2.310355284862453e-06\n"
     ]
    }
   ],
   "source": [
    "from torch import nn, optim\n",
    "\n",
    "# Model\n",
    "model = NeuralCoilLayer(\n",
    "    n_features = n_features\n",
    ")\n",
    "\n",
    "# Loss and optimizer\n",
    "criterion = nn.MSELoss()\n",
    "optimizer = optim.Adam(model.parameters(), lr=0.01)\n",
    "\n",
    "# Training loop\n",
    "epochs = 1000\n",
    "for epoch in range(epochs):\n",
    "    model.train()\n",
    "    optimizer.zero_grad()\n",
    "    # Forward pass\n",
    "    outputs, transition_tensor = model(X)\n",
    "    loss = criterion(outputs, Y)\n",
    "\n",
    "    # Backward and optimize\n",
    "    loss.backward()\n",
    "    optimizer.step()\n",
    "\n",
    "    if (epoch + 1) % 10 == 0:\n",
    "        print(f'Epoch [{epoch+1}/{epochs}], Loss: {loss.item()}')\n"
   ]
  },
  {
   "cell_type": "code",
   "execution_count": 123,
   "metadata": {},
   "outputs": [
    {
     "data": {
      "application/vnd.plotly.v1+json": {
       "config": {
        "plotlyServerURL": "https://plot.ly"
       },
       "data": [
        {
         "mode": "lines",
         "name": "Model Output",
         "type": "scatter",
         "x": [
          0,
          1,
          2,
          3,
          4,
          5,
          6,
          7,
          8,
          9,
          10,
          11,
          12,
          13,
          14,
          15,
          16,
          17,
          18,
          19,
          20,
          21,
          22,
          23,
          24,
          25,
          26,
          27,
          28,
          29,
          30,
          31,
          32,
          33,
          34,
          35,
          36,
          37,
          38,
          39,
          40,
          41,
          42,
          43,
          44,
          45,
          46,
          47,
          48,
          49,
          50,
          51,
          52,
          53,
          54,
          55,
          56,
          57,
          58,
          59,
          60,
          61,
          62,
          63
         ],
         "y": [
          0.2516688108444214,
          0.2506422996520996,
          0.25468069314956665,
          0.26111307740211487,
          0.26537755131721497,
          0.2686462998390198,
          0.2712263762950897,
          0.27359476685523987,
          0.2733991742134094,
          0.27405640482902527,
          0.2739996910095215,
          0.27414754033088684,
          0.2741713225841522,
          0.27433493733406067,
          0.274300754070282,
          0.2740693986415863,
          0.27337512373924255,
          0.272126704454422,
          0.2702035903930664,
          0.2675715982913971,
          0.2642548382282257,
          0.26033350825309753,
          0.2559344172477722,
          0.25122377276420593,
          0.24638795852661133,
          0.24162983894348145,
          0.23715358972549438,
          0.23315563797950745,
          0.22981274127960205,
          0.2272714227437973,
          0.22563934326171875,
          0.22497889399528503,
          0.2253042310476303,
          0.22658029198646545,
          0.228724405169487,
          0.23160889744758606,
          0.23506729304790497,
          0.2389015555381775,
          0.24289150536060333,
          0.2468055933713913,
          0.25041234493255615,
          0.2534940540790558,
          0.2558650076389313,
          0.2573935091495514,
          0.25802549719810486,
          0.25779989361763,
          0.25684890151023865,
          0.25538069009780884,
          0.25364717841148376,
          0.2519054710865021,
          0.25038424134254456,
          0.24925941228866577,
          0.2486433982849121,
          0.24858401715755463,
          0.24906989932060242,
          0.2500387132167816,
          0.2513847053050995,
          0.2529642879962921,
          0.2546018958091736,
          0.2560957670211792,
          0.25722748041152954,
          0.2577798664569855,
          0.2575608193874359,
          0.2564348578453064
         ]
        },
        {
         "mode": "lines",
         "name": "Target",
         "type": "scatter",
         "x": [
          0,
          1,
          2,
          3,
          4,
          5,
          6,
          7,
          8,
          9,
          10,
          11,
          12,
          13,
          14,
          15,
          16,
          17,
          18,
          19,
          20,
          21,
          22,
          23,
          24,
          25,
          26,
          27,
          28,
          29,
          30,
          31,
          32,
          33,
          34,
          35,
          36,
          37,
          38,
          39,
          40,
          41,
          42,
          43,
          44,
          45,
          46,
          47,
          48,
          49,
          50,
          51,
          52,
          53,
          54,
          55,
          56,
          57,
          58,
          59,
          60,
          61,
          62,
          63
         ],
         "y": [
          0.25015127658843994,
          0.25477364659309387,
          0.259071409702301,
          0.26290175318717957,
          0.26617252826690674,
          0.2688458263874054,
          0.2709338963031769,
          0.2724887430667877,
          0.2735874056816101,
          0.2743161916732788,
          0.2747552990913391,
          0.27496665716171265,
          0.2749852240085602,
          0.2748142182826996,
          0.27442485094070435,
          0.27376002073287964,
          0.27274224162101746,
          0.2712853252887726,
          0.2693091034889221,
          0.26675528287887573,
          0.26360267400741577,
          0.25987860560417175,
          0.2556644082069397,
          0.25109338760375977,
          0.246341735124588,
          0.24161365628242493,
          0.2371242642402649,
          0.2330826073884964,
          0.22967714071273804,
          0.22706496715545654,
          0.22536438703536987,
          0.22465009987354279,
          0.22494997084140778,
          0.22624234855175018,
          0.22845381498336792,
          0.23145785927772522,
          0.23507606983184814,
          0.2390836775302887,
          0.24322162568569183,
          0.24721604585647583,
          0.2508043050765991,
          0.253763884305954,
          0.2559388279914856,
          0.2572574317455292,
          0.25773727893829346,
          0.2574765980243683,
          0.25663480162620544,
          0.25540757179260254,
          0.25400155782699585,
          0.25261300802230835,
          0.2514117956161499,
          0.2505314350128174,
          0.2500632405281067,
          0.25005391240119934,
          0.2505043148994446,
          0.2513696849346161,
          0.2525603473186493,
          0.253944456577301,
          0.2553533911705017,
          0.2565917372703552,
          0.2574528753757477,
          0.25774019956588745,
          0.2572923004627228,
          0.25600817799568176
         ]
        }
       ],
       "layout": {
        "template": {
         "data": {
          "bar": [
           {
            "error_x": {
             "color": "#2a3f5f"
            },
            "error_y": {
             "color": "#2a3f5f"
            },
            "marker": {
             "line": {
              "color": "#E5ECF6",
              "width": 0.5
             },
             "pattern": {
              "fillmode": "overlay",
              "size": 10,
              "solidity": 0.2
             }
            },
            "type": "bar"
           }
          ],
          "barpolar": [
           {
            "marker": {
             "line": {
              "color": "#E5ECF6",
              "width": 0.5
             },
             "pattern": {
              "fillmode": "overlay",
              "size": 10,
              "solidity": 0.2
             }
            },
            "type": "barpolar"
           }
          ],
          "carpet": [
           {
            "aaxis": {
             "endlinecolor": "#2a3f5f",
             "gridcolor": "white",
             "linecolor": "white",
             "minorgridcolor": "white",
             "startlinecolor": "#2a3f5f"
            },
            "baxis": {
             "endlinecolor": "#2a3f5f",
             "gridcolor": "white",
             "linecolor": "white",
             "minorgridcolor": "white",
             "startlinecolor": "#2a3f5f"
            },
            "type": "carpet"
           }
          ],
          "choropleth": [
           {
            "colorbar": {
             "outlinewidth": 0,
             "ticks": ""
            },
            "type": "choropleth"
           }
          ],
          "contour": [
           {
            "colorbar": {
             "outlinewidth": 0,
             "ticks": ""
            },
            "colorscale": [
             [
              0,
              "#0d0887"
             ],
             [
              0.1111111111111111,
              "#46039f"
             ],
             [
              0.2222222222222222,
              "#7201a8"
             ],
             [
              0.3333333333333333,
              "#9c179e"
             ],
             [
              0.4444444444444444,
              "#bd3786"
             ],
             [
              0.5555555555555556,
              "#d8576b"
             ],
             [
              0.6666666666666666,
              "#ed7953"
             ],
             [
              0.7777777777777778,
              "#fb9f3a"
             ],
             [
              0.8888888888888888,
              "#fdca26"
             ],
             [
              1,
              "#f0f921"
             ]
            ],
            "type": "contour"
           }
          ],
          "contourcarpet": [
           {
            "colorbar": {
             "outlinewidth": 0,
             "ticks": ""
            },
            "type": "contourcarpet"
           }
          ],
          "heatmap": [
           {
            "colorbar": {
             "outlinewidth": 0,
             "ticks": ""
            },
            "colorscale": [
             [
              0,
              "#0d0887"
             ],
             [
              0.1111111111111111,
              "#46039f"
             ],
             [
              0.2222222222222222,
              "#7201a8"
             ],
             [
              0.3333333333333333,
              "#9c179e"
             ],
             [
              0.4444444444444444,
              "#bd3786"
             ],
             [
              0.5555555555555556,
              "#d8576b"
             ],
             [
              0.6666666666666666,
              "#ed7953"
             ],
             [
              0.7777777777777778,
              "#fb9f3a"
             ],
             [
              0.8888888888888888,
              "#fdca26"
             ],
             [
              1,
              "#f0f921"
             ]
            ],
            "type": "heatmap"
           }
          ],
          "heatmapgl": [
           {
            "colorbar": {
             "outlinewidth": 0,
             "ticks": ""
            },
            "colorscale": [
             [
              0,
              "#0d0887"
             ],
             [
              0.1111111111111111,
              "#46039f"
             ],
             [
              0.2222222222222222,
              "#7201a8"
             ],
             [
              0.3333333333333333,
              "#9c179e"
             ],
             [
              0.4444444444444444,
              "#bd3786"
             ],
             [
              0.5555555555555556,
              "#d8576b"
             ],
             [
              0.6666666666666666,
              "#ed7953"
             ],
             [
              0.7777777777777778,
              "#fb9f3a"
             ],
             [
              0.8888888888888888,
              "#fdca26"
             ],
             [
              1,
              "#f0f921"
             ]
            ],
            "type": "heatmapgl"
           }
          ],
          "histogram": [
           {
            "marker": {
             "pattern": {
              "fillmode": "overlay",
              "size": 10,
              "solidity": 0.2
             }
            },
            "type": "histogram"
           }
          ],
          "histogram2d": [
           {
            "colorbar": {
             "outlinewidth": 0,
             "ticks": ""
            },
            "colorscale": [
             [
              0,
              "#0d0887"
             ],
             [
              0.1111111111111111,
              "#46039f"
             ],
             [
              0.2222222222222222,
              "#7201a8"
             ],
             [
              0.3333333333333333,
              "#9c179e"
             ],
             [
              0.4444444444444444,
              "#bd3786"
             ],
             [
              0.5555555555555556,
              "#d8576b"
             ],
             [
              0.6666666666666666,
              "#ed7953"
             ],
             [
              0.7777777777777778,
              "#fb9f3a"
             ],
             [
              0.8888888888888888,
              "#fdca26"
             ],
             [
              1,
              "#f0f921"
             ]
            ],
            "type": "histogram2d"
           }
          ],
          "histogram2dcontour": [
           {
            "colorbar": {
             "outlinewidth": 0,
             "ticks": ""
            },
            "colorscale": [
             [
              0,
              "#0d0887"
             ],
             [
              0.1111111111111111,
              "#46039f"
             ],
             [
              0.2222222222222222,
              "#7201a8"
             ],
             [
              0.3333333333333333,
              "#9c179e"
             ],
             [
              0.4444444444444444,
              "#bd3786"
             ],
             [
              0.5555555555555556,
              "#d8576b"
             ],
             [
              0.6666666666666666,
              "#ed7953"
             ],
             [
              0.7777777777777778,
              "#fb9f3a"
             ],
             [
              0.8888888888888888,
              "#fdca26"
             ],
             [
              1,
              "#f0f921"
             ]
            ],
            "type": "histogram2dcontour"
           }
          ],
          "mesh3d": [
           {
            "colorbar": {
             "outlinewidth": 0,
             "ticks": ""
            },
            "type": "mesh3d"
           }
          ],
          "parcoords": [
           {
            "line": {
             "colorbar": {
              "outlinewidth": 0,
              "ticks": ""
             }
            },
            "type": "parcoords"
           }
          ],
          "pie": [
           {
            "automargin": true,
            "type": "pie"
           }
          ],
          "scatter": [
           {
            "fillpattern": {
             "fillmode": "overlay",
             "size": 10,
             "solidity": 0.2
            },
            "type": "scatter"
           }
          ],
          "scatter3d": [
           {
            "line": {
             "colorbar": {
              "outlinewidth": 0,
              "ticks": ""
             }
            },
            "marker": {
             "colorbar": {
              "outlinewidth": 0,
              "ticks": ""
             }
            },
            "type": "scatter3d"
           }
          ],
          "scattercarpet": [
           {
            "marker": {
             "colorbar": {
              "outlinewidth": 0,
              "ticks": ""
             }
            },
            "type": "scattercarpet"
           }
          ],
          "scattergeo": [
           {
            "marker": {
             "colorbar": {
              "outlinewidth": 0,
              "ticks": ""
             }
            },
            "type": "scattergeo"
           }
          ],
          "scattergl": [
           {
            "marker": {
             "colorbar": {
              "outlinewidth": 0,
              "ticks": ""
             }
            },
            "type": "scattergl"
           }
          ],
          "scattermapbox": [
           {
            "marker": {
             "colorbar": {
              "outlinewidth": 0,
              "ticks": ""
             }
            },
            "type": "scattermapbox"
           }
          ],
          "scatterpolar": [
           {
            "marker": {
             "colorbar": {
              "outlinewidth": 0,
              "ticks": ""
             }
            },
            "type": "scatterpolar"
           }
          ],
          "scatterpolargl": [
           {
            "marker": {
             "colorbar": {
              "outlinewidth": 0,
              "ticks": ""
             }
            },
            "type": "scatterpolargl"
           }
          ],
          "scatterternary": [
           {
            "marker": {
             "colorbar": {
              "outlinewidth": 0,
              "ticks": ""
             }
            },
            "type": "scatterternary"
           }
          ],
          "surface": [
           {
            "colorbar": {
             "outlinewidth": 0,
             "ticks": ""
            },
            "colorscale": [
             [
              0,
              "#0d0887"
             ],
             [
              0.1111111111111111,
              "#46039f"
             ],
             [
              0.2222222222222222,
              "#7201a8"
             ],
             [
              0.3333333333333333,
              "#9c179e"
             ],
             [
              0.4444444444444444,
              "#bd3786"
             ],
             [
              0.5555555555555556,
              "#d8576b"
             ],
             [
              0.6666666666666666,
              "#ed7953"
             ],
             [
              0.7777777777777778,
              "#fb9f3a"
             ],
             [
              0.8888888888888888,
              "#fdca26"
             ],
             [
              1,
              "#f0f921"
             ]
            ],
            "type": "surface"
           }
          ],
          "table": [
           {
            "cells": {
             "fill": {
              "color": "#EBF0F8"
             },
             "line": {
              "color": "white"
             }
            },
            "header": {
             "fill": {
              "color": "#C8D4E3"
             },
             "line": {
              "color": "white"
             }
            },
            "type": "table"
           }
          ]
         },
         "layout": {
          "annotationdefaults": {
           "arrowcolor": "#2a3f5f",
           "arrowhead": 0,
           "arrowwidth": 1
          },
          "autotypenumbers": "strict",
          "coloraxis": {
           "colorbar": {
            "outlinewidth": 0,
            "ticks": ""
           }
          },
          "colorscale": {
           "diverging": [
            [
             0,
             "#8e0152"
            ],
            [
             0.1,
             "#c51b7d"
            ],
            [
             0.2,
             "#de77ae"
            ],
            [
             0.3,
             "#f1b6da"
            ],
            [
             0.4,
             "#fde0ef"
            ],
            [
             0.5,
             "#f7f7f7"
            ],
            [
             0.6,
             "#e6f5d0"
            ],
            [
             0.7,
             "#b8e186"
            ],
            [
             0.8,
             "#7fbc41"
            ],
            [
             0.9,
             "#4d9221"
            ],
            [
             1,
             "#276419"
            ]
           ],
           "sequential": [
            [
             0,
             "#0d0887"
            ],
            [
             0.1111111111111111,
             "#46039f"
            ],
            [
             0.2222222222222222,
             "#7201a8"
            ],
            [
             0.3333333333333333,
             "#9c179e"
            ],
            [
             0.4444444444444444,
             "#bd3786"
            ],
            [
             0.5555555555555556,
             "#d8576b"
            ],
            [
             0.6666666666666666,
             "#ed7953"
            ],
            [
             0.7777777777777778,
             "#fb9f3a"
            ],
            [
             0.8888888888888888,
             "#fdca26"
            ],
            [
             1,
             "#f0f921"
            ]
           ],
           "sequentialminus": [
            [
             0,
             "#0d0887"
            ],
            [
             0.1111111111111111,
             "#46039f"
            ],
            [
             0.2222222222222222,
             "#7201a8"
            ],
            [
             0.3333333333333333,
             "#9c179e"
            ],
            [
             0.4444444444444444,
             "#bd3786"
            ],
            [
             0.5555555555555556,
             "#d8576b"
            ],
            [
             0.6666666666666666,
             "#ed7953"
            ],
            [
             0.7777777777777778,
             "#fb9f3a"
            ],
            [
             0.8888888888888888,
             "#fdca26"
            ],
            [
             1,
             "#f0f921"
            ]
           ]
          },
          "colorway": [
           "#636efa",
           "#EF553B",
           "#00cc96",
           "#ab63fa",
           "#FFA15A",
           "#19d3f3",
           "#FF6692",
           "#B6E880",
           "#FF97FF",
           "#FECB52"
          ],
          "font": {
           "color": "#2a3f5f"
          },
          "geo": {
           "bgcolor": "white",
           "lakecolor": "white",
           "landcolor": "#E5ECF6",
           "showlakes": true,
           "showland": true,
           "subunitcolor": "white"
          },
          "hoverlabel": {
           "align": "left"
          },
          "hovermode": "closest",
          "mapbox": {
           "style": "light"
          },
          "paper_bgcolor": "white",
          "plot_bgcolor": "#E5ECF6",
          "polar": {
           "angularaxis": {
            "gridcolor": "white",
            "linecolor": "white",
            "ticks": ""
           },
           "bgcolor": "#E5ECF6",
           "radialaxis": {
            "gridcolor": "white",
            "linecolor": "white",
            "ticks": ""
           }
          },
          "scene": {
           "xaxis": {
            "backgroundcolor": "#E5ECF6",
            "gridcolor": "white",
            "gridwidth": 2,
            "linecolor": "white",
            "showbackground": true,
            "ticks": "",
            "zerolinecolor": "white"
           },
           "yaxis": {
            "backgroundcolor": "#E5ECF6",
            "gridcolor": "white",
            "gridwidth": 2,
            "linecolor": "white",
            "showbackground": true,
            "ticks": "",
            "zerolinecolor": "white"
           },
           "zaxis": {
            "backgroundcolor": "#E5ECF6",
            "gridcolor": "white",
            "gridwidth": 2,
            "linecolor": "white",
            "showbackground": true,
            "ticks": "",
            "zerolinecolor": "white"
           }
          },
          "shapedefaults": {
           "line": {
            "color": "#2a3f5f"
           }
          },
          "ternary": {
           "aaxis": {
            "gridcolor": "white",
            "linecolor": "white",
            "ticks": ""
           },
           "baxis": {
            "gridcolor": "white",
            "linecolor": "white",
            "ticks": ""
           },
           "bgcolor": "#E5ECF6",
           "caxis": {
            "gridcolor": "white",
            "linecolor": "white",
            "ticks": ""
           }
          },
          "title": {
           "x": 0.05
          },
          "xaxis": {
           "automargin": true,
           "gridcolor": "white",
           "linecolor": "white",
           "ticks": "",
           "title": {
            "standoff": 15
           },
           "zerolinecolor": "white",
           "zerolinewidth": 2
          },
          "yaxis": {
           "automargin": true,
           "gridcolor": "white",
           "linecolor": "white",
           "ticks": "",
           "title": {
            "standoff": 15
           },
           "zerolinecolor": "white",
           "zerolinewidth": 2
          }
         }
        },
        "title": {
         "text": "Model Output vs Target for Feature 1, Batch 3"
        },
        "xaxis": {
         "title": {
          "text": "Timestep"
         }
        },
        "yaxis": {
         "title": {
          "text": "Value"
         }
        }
       }
      }
     },
     "metadata": {},
     "output_type": "display_data"
    }
   ],
   "source": [
    "import plotly.graph_objects as go\n",
    "\n",
    "def plot_model_output_vs_target(model_outputs, targets, batch_index=0, feature_index=0):\n",
    "    # Extract the specified feature for the given batch from both the model outputs and targets\n",
    "    model_output_series = model_outputs[batch_index, :, feature_index].detach().numpy()\n",
    "    target_series = targets[batch_index, :, feature_index].numpy()\n",
    "    \n",
    "    # Create a range for the x-axis (timesteps)\n",
    "    timesteps = list(range(model_output_series.shape[0]))\n",
    "    \n",
    "    # Create traces\n",
    "    model_trace = go.Scatter(x=timesteps, y=model_output_series, mode='lines', name='Model Output')\n",
    "    target_trace = go.Scatter(x=timesteps, y=target_series, mode='lines', name='Target')\n",
    "    \n",
    "    # Create the figure and add traces\n",
    "    fig = go.Figure()\n",
    "    fig.add_trace(model_trace)\n",
    "    fig.add_trace(target_trace)\n",
    "    \n",
    "    # Add title and labels\n",
    "    fig.update_layout(title=f'Model Output vs Target for Feature {feature_index}, Batch {batch_index}',\n",
    "                      xaxis_title='Timestep',\n",
    "                      yaxis_title='Value')\n",
    "    \n",
    "    # Show the figure\n",
    "    fig.show()\n",
    "\n",
    "# Assuming `y` and `Y` are your model outputs and targets, respectively\n",
    "# Adjust batch_index and feature_index as needed\n",
    "plot_model_output_vs_target(outputs, Y, batch_index=3, feature_index=1)\n"
   ]
  },
  {
   "cell_type": "code",
   "execution_count": 121,
   "metadata": {},
   "outputs": [
    {
     "data": {
      "image/png": "[encoded data removed]",
      "text/plain": [
       "<Figure size 1000x600 with 1 Axes>"
      ]
     },
     "metadata": {},
     "output_type": "display_data"
    }
   ],
   "source": [
    "states = []\n",
    "batch = 3\n",
    "state_tensor = outputs[:,length-1,:]\n",
    "batch_size = 15\n",
    "transition_tensor = torch.zeros(batch_size, n_features, n_features)\n",
    "for step_state in range(100):\n",
    "    state_tensor, transition_tensor = model.step_coil(state_tensor, transition_tensor)\n",
    "    states.append(state_tensor[batch,:])\n",
    "    \n",
    "\n",
    "# Your data\n",
    "data = [row.to('cpu').detach().numpy() for row in states]\n",
    "# Transpose the data to get 5 traces\n",
    "traces = list(zip(*data))\n",
    "\n",
    "# Plotting\n",
    "plt.figure(figsize=(10, 6))\n",
    "for i, trace in enumerate(traces):\n",
    "    plt.plot(trace, label=f'Trace {i+1}')\n",
    "\n",
    "plt.xlabel('Timestep')\n",
    "plt.ylabel('Value')\n",
    "plt.legend()\n",
    "plt.show()"
   ]
  }
 ],
 "metadata": {
  "kernelspec": {
   "display_name": "coilspy-1sgZ1XBf-py3.12",
   "language": "python",
   "name": "python3"
  },
  "language_info": {
   "codemirror_mode": {
    "name": "ipython",
    "version": 3
   },
   "file_extension": ".py",
   "mimetype": "text/x-python",
   "name": "python",
   "nbconvert_exporter": "python",
   "pygments_lexer": "ipython3",
   "version": "3.12.2"
  }
 },
 "nbformat": 4,
 "nbformat_minor": 2
}
