{
 "cells": [
  {
   "cell_type": "code",
   "execution_count": 219,
   "metadata": {},
   "outputs": [],
   "source": [
    "import torch\n",
    "import torch.nn as nn\n",
    "import torch.nn.functional as F"
   ]
  },
  {
   "cell_type": "code",
   "execution_count": 275,
   "metadata": {},
   "outputs": [],
   "source": [
    "class NeuralCoilLayer(nn.Module):\n",
    "    def __init__(self, n_features, n_batch, device = \"cpu\"):\n",
    "        super(NeuralCoilLayer, self).__init__()\n",
    "        self.n_features = n_features\n",
    "        self.attention_weights = nn.Linear(n_features, 1, bias=False)\n",
    "        self.act = nn.SiLU()\n",
    "        self.interaction_tensors = nn.Parameter(torch.rand(n_features, n_features, n_features, n_features + 1))\n",
    "        self.topk_num = 1\n",
    "        \n",
    "        starting_tensor = torch.softmax(torch.ones(n_batch, n_features, n_features), dim = 1)\n",
    "        if device == \"cuda\":\n",
    "            self.starting_transition_tensor = starting_tensor.to(\"cuda\")\n",
    "        else:\n",
    "            self.starting_transition_tensor = starting_tensor\n",
    "        \n",
    "    def step_coil(self, state_tensor, previous_transition_tensor):\n",
    "        # Establish normalized subgroups\n",
    "        norm_subgroups = torch.cat((state_tensor.unsqueeze(-1), previous_transition_tensor), dim=2)\n",
    "        #print(norm_subgroups[5,:,3].sum())\n",
    "        batch_size, num_groups, n_features = norm_subgroups.shape\n",
    "        \n",
    "        # Compute scores for each normalized subgroup\n",
    "        scores = self.act(self.attention_weights(norm_subgroups.permute(0,2,1))).sum(-1) # [batch_size, num_groups]\n",
    "        \n",
    "        weights = torch.softmax(scores, dim = -1) # [batch_size, num_groups]\n",
    "        #print(\"Norm Subgroups Sum: \", norm_subgroups.sum(-2))\n",
    "        selected_norm_tensor = (torch.mul(norm_subgroups, weights.unsqueeze(1))).sum(-1)\n",
    "        #print(\"Selected Norm Tensor Shape: \", selected_norm_tensor.shape)\n",
    "        #print(\"Selected Norm Tensor Sum: \", selected_norm_tensor.sum(1))\n",
    "        \n",
    "        # If you don't want to need to force conservation of states and transition\n",
    "        selected_interaction_tensors = torch.softmax(self.interaction_tensors * n_features * n_features, dim = 0)\n",
    "        #selected_interaction_tensors = self.interaction_tensors\n",
    "        selected_norm_subgroups = norm_subgroups\n",
    "\n",
    "        selected_transition_tensors = (torch.mul(selected_interaction_tensors, selected_norm_subgroups.unsqueeze(1).unsqueeze(1))).sum(-2)\n",
    "        \n",
    "        # We need a single transition tensor so we will average this as well\n",
    "\n",
    "        selected_transition_tensor = (torch.mul(selected_transition_tensors, weights.unsqueeze(-2).unsqueeze(-2))).sum(-1)\n",
    "        #selected_transition_tensor = selected_transition_tensors[:,:,:,5]\n",
    "        \n",
    "        # Generate state tensor from the transition tensor\n",
    "        # Unsqueezing state_tensor to make it [batch_size, n_features, 1] for matrix multiplication\n",
    "        state_tensor_unsqueezed = state_tensor.unsqueeze(2)\n",
    "\n",
    "        # Performing batch matrix multiplication\n",
    "        new_state_tensor_bmm = torch.bmm(selected_transition_tensor, state_tensor_unsqueezed)\n",
    "\n",
    "        # Squeezing the result to get rid of the extra dimension, resulting in [batch_size, n_features]\n",
    "        new_state_tensor = new_state_tensor_bmm.squeeze(2)\n",
    "        \n",
    "        new_state_tensor = torch.softmax(new_state_tensor, dim = 1)\n",
    "        #selected_transition_tensor = torch.softmax(selected_transition_tensor, dim = 1)\n",
    "        \n",
    "        print(\"Selected Transition Tensor Sum: \", sum(selected_transition_tensor[0,:,1]))\n",
    "        return new_state_tensor, selected_transition_tensor\n",
    "\n",
    "\n",
    "    def forward(self, x):\n",
    "        batch, length, n_features = x.size()\n",
    "        output = x.new_empty(batch, length, n_features)\n",
    "\n",
    "        # Initialize previous transition tensors (for the first step)\n",
    "        # Assuming it's a list of zero tensors for simplicity\n",
    "        transition_tensor = self.starting_transition_tensor\n",
    "\n",
    "        for l in range(length):\n",
    "            state_tensor = x[:, l, :]\n",
    "            \n",
    "            # Compute output for this step\n",
    "            output[:, l, :], transition_tensor = self.step_coil(state_tensor, transition_tensor)\n",
    "\n",
    "        return output, transition_tensor\n"
   ]
  },
  {
   "cell_type": "markdown",
   "metadata": {},
   "source": [
    "# Sequence-to-Sequence Check"
   ]
  },
  {
   "cell_type": "code",
   "execution_count": 276,
   "metadata": {},
   "outputs": [
    {
     "name": "stdout",
     "output_type": "stream",
     "text": [
      "Selected Transition Tensor Sum:  tensor(7.9945, grad_fn=<AddBackward0>)\n",
      "Selected Transition Tensor Sum:  tensor(60.6788, grad_fn=<AddBackward0>)\n",
      "Selected Transition Tensor Sum:  tensor(462.4091, grad_fn=<AddBackward0>)\n",
      "Selected Transition Tensor Sum:  tensor(3658.4668, grad_fn=<AddBackward0>)\n",
      "Selected Transition Tensor Sum:  tensor(29068.2168, grad_fn=<AddBackward0>)\n",
      "Selected Transition Tensor Sum:  tensor(230490.1406, grad_fn=<AddBackward0>)\n",
      "Selected Transition Tensor Sum:  tensor(1856841.6250, grad_fn=<AddBackward0>)\n",
      "Selected Transition Tensor Sum:  tensor(14604150., grad_fn=<AddBackward0>)\n",
      "Selected Transition Tensor Sum:  tensor(1.3051e+08, grad_fn=<AddBackward0>)\n",
      "Selected Transition Tensor Sum:  tensor(9.9343e+08, grad_fn=<AddBackward0>)\n",
      "Selected Transition Tensor Sum:  tensor(8.2972e+09, grad_fn=<AddBackward0>)\n",
      "Selected Transition Tensor Sum:  tensor(6.2527e+10, grad_fn=<AddBackward0>)\n",
      "Selected Transition Tensor Sum:  tensor(4.9473e+11, grad_fn=<AddBackward0>)\n",
      "Selected Transition Tensor Sum:  tensor(4.0097e+12, grad_fn=<AddBackward0>)\n",
      "Selected Transition Tensor Sum:  tensor(3.1531e+13, grad_fn=<AddBackward0>)\n",
      "Selected Transition Tensor Sum:  tensor(2.8179e+14, grad_fn=<AddBackward0>)\n",
      "Selected Transition Tensor Sum:  tensor(2.1448e+15, grad_fn=<AddBackward0>)\n",
      "Selected Transition Tensor Sum:  tensor(1.7914e+16, grad_fn=<AddBackward0>)\n",
      "Selected Transition Tensor Sum:  tensor(1.3500e+17, grad_fn=<AddBackward0>)\n",
      "Selected Transition Tensor Sum:  tensor(1.0681e+18, grad_fn=<AddBackward0>)\n",
      "Selected Transition Tensor Sum:  tensor(8.6570e+18, grad_fn=<AddBackward0>)\n",
      "Selected Transition Tensor Sum:  tensor(6.8077e+19, grad_fn=<AddBackward0>)\n",
      "Selected Transition Tensor Sum:  tensor(6.0840e+20, grad_fn=<AddBackward0>)\n",
      "Selected Transition Tensor Sum:  tensor(4.6307e+21, grad_fn=<AddBackward0>)\n",
      "Selected Transition Tensor Sum:  tensor(3.8677e+22, grad_fn=<AddBackward0>)\n",
      "Selected Transition Tensor Sum:  tensor(2.9146e+23, grad_fn=<AddBackward0>)\n",
      "Selected Transition Tensor Sum:  tensor(2.3061e+24, grad_fn=<AddBackward0>)\n",
      "Selected Transition Tensor Sum:  tensor(1.8691e+25, grad_fn=<AddBackward0>)\n",
      "Selected Transition Tensor Sum:  tensor(1.4698e+26, grad_fn=<AddBackward0>)\n",
      "Selected Transition Tensor Sum:  tensor(1.3135e+27, grad_fn=<AddBackward0>)\n",
      "Selected Transition Tensor Sum:  tensor(9.9979e+27, grad_fn=<AddBackward0>)\n",
      "Selected Transition Tensor Sum:  tensor(8.3504e+28, grad_fn=<AddBackward0>)\n",
      "Selected Transition Tensor Sum:  tensor(6.2928e+29, grad_fn=<AddBackward0>)\n",
      "Selected Transition Tensor Sum:  tensor(4.9790e+30, grad_fn=<AddBackward0>)\n",
      "Selected Transition Tensor Sum:  tensor(4.0354e+31, grad_fn=<AddBackward0>)\n",
      "Selected Transition Tensor Sum:  tensor(3.1733e+32, grad_fn=<AddBackward0>)\n",
      "Selected Transition Tensor Sum:  tensor(2.8360e+33, grad_fn=<AddBackward0>)\n",
      "Selected Transition Tensor Sum:  tensor(2.1586e+34, grad_fn=<AddBackward0>)\n",
      "Selected Transition Tensor Sum:  tensor(1.8029e+35, grad_fn=<AddBackward0>)\n",
      "Selected Transition Tensor Sum:  tensor(1.3586e+36, grad_fn=<AddBackward0>)\n",
      "Selected Transition Tensor Sum:  tensor(1.0750e+37, grad_fn=<AddBackward0>)\n",
      "Selected Transition Tensor Sum:  tensor(8.7125e+37, grad_fn=<AddBackward0>)\n",
      "Selected Transition Tensor Sum:  tensor(inf, grad_fn=<AddBackward0>)\n",
      "Selected Transition Tensor Sum:  tensor(nan, grad_fn=<AddBackward0>)\n",
      "Selected Transition Tensor Sum:  tensor(nan, grad_fn=<AddBackward0>)\n",
      "Selected Transition Tensor Sum:  tensor(nan, grad_fn=<AddBackward0>)\n",
      "Selected Transition Tensor Sum:  tensor(nan, grad_fn=<AddBackward0>)\n",
      "Selected Transition Tensor Sum:  tensor(nan, grad_fn=<AddBackward0>)\n",
      "Selected Transition Tensor Sum:  tensor(nan, grad_fn=<AddBackward0>)\n",
      "Selected Transition Tensor Sum:  tensor(nan, grad_fn=<AddBackward0>)\n",
      "Selected Transition Tensor Sum:  tensor(nan, grad_fn=<AddBackward0>)\n",
      "Selected Transition Tensor Sum:  tensor(nan, grad_fn=<AddBackward0>)\n",
      "Selected Transition Tensor Sum:  tensor(nan, grad_fn=<AddBackward0>)\n",
      "Selected Transition Tensor Sum:  tensor(nan, grad_fn=<AddBackward0>)\n",
      "Selected Transition Tensor Sum:  tensor(nan, grad_fn=<AddBackward0>)\n",
      "Selected Transition Tensor Sum:  tensor(nan, grad_fn=<AddBackward0>)\n",
      "Selected Transition Tensor Sum:  tensor(nan, grad_fn=<AddBackward0>)\n",
      "Selected Transition Tensor Sum:  tensor(nan, grad_fn=<AddBackward0>)\n",
      "Selected Transition Tensor Sum:  tensor(nan, grad_fn=<AddBackward0>)\n",
      "Selected Transition Tensor Sum:  tensor(nan, grad_fn=<AddBackward0>)\n",
      "Selected Transition Tensor Sum:  tensor(nan, grad_fn=<AddBackward0>)\n",
      "Selected Transition Tensor Sum:  tensor(nan, grad_fn=<AddBackward0>)\n",
      "Selected Transition Tensor Sum:  tensor(nan, grad_fn=<AddBackward0>)\n",
      "Selected Transition Tensor Sum:  tensor(nan, grad_fn=<AddBackward0>)\n",
      "torch.Size([13, 64, 16])\n"
     ]
    }
   ],
   "source": [
    "n_features = 16\n",
    "batch, length, dim = 13, 64, n_features\n",
    "x = torch.softmax(torch.randn(batch, length, dim), dim = 2)\n",
    "model = NeuralCoilLayer(\n",
    "    n_features = n_features,\n",
    "    n_batch=batch\n",
    ")\n",
    "y = model(x)\n",
    "\n",
    "\n",
    "print(y[0].shape)\n",
    "assert y[0].shape == x.shape"
   ]
  },
  {
   "cell_type": "code",
   "execution_count": 277,
   "metadata": {},
   "outputs": [
    {
     "data": {
      "text/plain": [
       "tensor(1., grad_fn=<SumBackward0>)"
      ]
     },
     "execution_count": 277,
     "metadata": {},
     "output_type": "execute_result"
    }
   ],
   "source": [
    "y[0][0,5,:].sum()"
   ]
  },
  {
   "cell_type": "code",
   "execution_count": 278,
   "metadata": {},
   "outputs": [],
   "source": [
    "X= x.to(\"cuda\")\n",
    "model = model.to(\"cuda\")"
   ]
  },
  {
   "cell_type": "code",
   "execution_count": 279,
   "metadata": {},
   "outputs": [
    {
     "name": "stdout",
     "output_type": "stream",
     "text": [
      "Selected Transition Tensor Sum:  tensor(7.9945, device='cuda:0', grad_fn=<AddBackward0>)\n",
      "Selected Transition Tensor Sum:  tensor(60.7646, device='cuda:0', grad_fn=<AddBackward0>)\n",
      "Selected Transition Tensor Sum:  tensor(462.4134, device='cuda:0', grad_fn=<AddBackward0>)\n",
      "Selected Transition Tensor Sum:  tensor(3658.1311, device='cuda:0', grad_fn=<AddBackward0>)\n",
      "Selected Transition Tensor Sum:  tensor(29066.8066, device='cuda:0', grad_fn=<AddBackward0>)\n",
      "Selected Transition Tensor Sum:  tensor(230362.3750, device='cuda:0', grad_fn=<AddBackward0>)\n",
      "Selected Transition Tensor Sum:  tensor(1854418.8750, device='cuda:0', grad_fn=<AddBackward0>)\n",
      "Selected Transition Tensor Sum:  tensor(14585371., device='cuda:0', grad_fn=<AddBackward0>)\n",
      "Selected Transition Tensor Sum:  tensor(1.3035e+08, device='cuda:0', grad_fn=<AddBackward0>)\n",
      "Selected Transition Tensor Sum:  tensor(9.9215e+08, device='cuda:0', grad_fn=<AddBackward0>)\n",
      "Selected Transition Tensor Sum:  tensor(8.2866e+09, device='cuda:0', grad_fn=<AddBackward0>)\n",
      "Selected Transition Tensor Sum:  tensor(6.2446e+10, device='cuda:0', grad_fn=<AddBackward0>)\n",
      "Selected Transition Tensor Sum:  tensor(4.9410e+11, device='cuda:0', grad_fn=<AddBackward0>)\n",
      "Selected Transition Tensor Sum:  tensor(4.0045e+12, device='cuda:0', grad_fn=<AddBackward0>)\n",
      "Selected Transition Tensor Sum:  tensor(3.1491e+13, device='cuda:0', grad_fn=<AddBackward0>)\n",
      "Selected Transition Tensor Sum:  tensor(2.8143e+14, device='cuda:0', grad_fn=<AddBackward0>)\n",
      "Selected Transition Tensor Sum:  tensor(2.1421e+15, device='cuda:0', grad_fn=<AddBackward0>)\n",
      "Selected Transition Tensor Sum:  tensor(1.7891e+16, device='cuda:0', grad_fn=<AddBackward0>)\n",
      "Selected Transition Tensor Sum:  tensor(1.3482e+17, device='cuda:0', grad_fn=<AddBackward0>)\n",
      "Selected Transition Tensor Sum:  tensor(1.0668e+18, device='cuda:0', grad_fn=<AddBackward0>)\n",
      "Selected Transition Tensor Sum:  tensor(8.6459e+18, device='cuda:0', grad_fn=<AddBackward0>)\n",
      "Selected Transition Tensor Sum:  tensor(6.7989e+19, device='cuda:0', grad_fn=<AddBackward0>)\n",
      "Selected Transition Tensor Sum:  tensor(6.0762e+20, device='cuda:0', grad_fn=<AddBackward0>)\n",
      "Selected Transition Tensor Sum:  tensor(4.6248e+21, device='cuda:0', grad_fn=<AddBackward0>)\n",
      "Selected Transition Tensor Sum:  tensor(3.8627e+22, device='cuda:0', grad_fn=<AddBackward0>)\n",
      "Selected Transition Tensor Sum:  tensor(2.9109e+23, device='cuda:0', grad_fn=<AddBackward0>)\n",
      "Selected Transition Tensor Sum:  tensor(2.3032e+24, device='cuda:0', grad_fn=<AddBackward0>)\n",
      "Selected Transition Tensor Sum:  tensor(1.8667e+25, device='cuda:0', grad_fn=<AddBackward0>)\n",
      "Selected Transition Tensor Sum:  tensor(1.4679e+26, device='cuda:0', grad_fn=<AddBackward0>)\n",
      "Selected Transition Tensor Sum:  tensor(1.3119e+27, device='cuda:0', grad_fn=<AddBackward0>)\n",
      "Selected Transition Tensor Sum:  tensor(9.9850e+27, device='cuda:0', grad_fn=<AddBackward0>)\n",
      "Selected Transition Tensor Sum:  tensor(8.3397e+28, device='cuda:0', grad_fn=<AddBackward0>)\n",
      "Selected Transition Tensor Sum:  tensor(6.2847e+29, device='cuda:0', grad_fn=<AddBackward0>)\n",
      "Selected Transition Tensor Sum:  tensor(4.9726e+30, device='cuda:0', grad_fn=<AddBackward0>)\n",
      "Selected Transition Tensor Sum:  tensor(4.0302e+31, device='cuda:0', grad_fn=<AddBackward0>)\n",
      "Selected Transition Tensor Sum:  tensor(3.1693e+32, device='cuda:0', grad_fn=<AddBackward0>)\n",
      "Selected Transition Tensor Sum:  tensor(2.8323e+33, device='cuda:0', grad_fn=<AddBackward0>)\n",
      "Selected Transition Tensor Sum:  tensor(2.1558e+34, device='cuda:0', grad_fn=<AddBackward0>)\n",
      "Selected Transition Tensor Sum:  tensor(1.8006e+35, device='cuda:0', grad_fn=<AddBackward0>)\n",
      "Selected Transition Tensor Sum:  tensor(1.3569e+36, device='cuda:0', grad_fn=<AddBackward0>)\n",
      "Selected Transition Tensor Sum:  tensor(1.0736e+37, device='cuda:0', grad_fn=<AddBackward0>)\n",
      "Selected Transition Tensor Sum:  tensor(8.7013e+37, device='cuda:0', grad_fn=<AddBackward0>)\n",
      "Selected Transition Tensor Sum:  tensor(inf, device='cuda:0', grad_fn=<AddBackward0>)\n",
      "Selected Transition Tensor Sum:  tensor(nan, device='cuda:0', grad_fn=<AddBackward0>)\n",
      "Selected Transition Tensor Sum:  tensor(nan, device='cuda:0', grad_fn=<AddBackward0>)\n",
      "Selected Transition Tensor Sum:  tensor(nan, device='cuda:0', grad_fn=<AddBackward0>)\n",
      "Selected Transition Tensor Sum:  tensor(nan, device='cuda:0', grad_fn=<AddBackward0>)\n",
      "Selected Transition Tensor Sum:  tensor(nan, device='cuda:0', grad_fn=<AddBackward0>)\n",
      "Selected Transition Tensor Sum:  tensor(nan, device='cuda:0', grad_fn=<AddBackward0>)\n",
      "Selected Transition Tensor Sum:  tensor(nan, device='cuda:0', grad_fn=<AddBackward0>)\n"
     ]
    },
    {
     "data": {
      "application/vnd.plotly.v1+json": {
       "config": {
        "plotlyServerURL": "https://plot.ly"
       },
       "data": [
        {
         "mode": "lines",
         "name": "State 0",
         "type": "scatter",
         "y": [
          0.062329988926649094,
          0.0603313148021698,
          0.04629761725664139,
          0.007909427396953106,
          1.7113314699982975e-16,
          0,
          0,
          0,
          0,
          1,
          0,
          0,
          0,
          0,
          0,
          0,
          0,
          0,
          0,
          0,
          0,
          0,
          0,
          0,
          0,
          0,
          0,
          0,
          0,
          0,
          0,
          0,
          0,
          0,
          0,
          0,
          0,
          0,
          0,
          0,
          0,
          0,
          0,
          null,
          null,
          null,
          null,
          null,
          null,
          null
         ]
        },
        {
         "mode": "lines",
         "name": "State 1",
         "type": "scatter",
         "y": [
          0.0621219240128994,
          0.06016669422388077,
          0.04668636992573738,
          0.015428358688950539,
          0.4511149227619171,
          0,
          0,
          0,
          0,
          0,
          0,
          0,
          0,
          0,
          0,
          0,
          0,
          0,
          0,
          0,
          0,
          0,
          0,
          0,
          0,
          0,
          0,
          0,
          0,
          0,
          0,
          0,
          0,
          0,
          0,
          0,
          0,
          0,
          0,
          0,
          0,
          0,
          0,
          null,
          null,
          null,
          null,
          null,
          null,
          null
         ]
        },
        {
         "mode": "lines",
         "name": "State 2",
         "type": "scatter",
         "y": [
          0.06256690621376038,
          0.06208515167236328,
          0.058148909360170364,
          0.03537950664758682,
          0,
          0,
          0,
          0,
          0,
          0,
          0,
          0,
          0,
          1,
          0,
          0,
          0,
          0,
          0,
          0,
          1,
          0,
          0,
          0,
          0,
          0,
          0,
          1,
          0,
          0,
          0,
          0,
          0,
          0,
          1,
          0,
          0,
          0,
          0,
          0,
          0,
          1,
          0,
          null,
          null,
          null,
          null,
          null,
          null,
          null
         ]
        },
        {
         "mode": "lines",
         "name": "State 3",
         "type": "scatter",
         "y": [
          0.06278084963560104,
          0.06267603486776352,
          0.05903151258826256,
          0.00017836257757153362,
          0,
          0,
          0,
          0,
          0,
          0,
          1,
          0,
          0,
          0,
          1,
          0,
          0,
          0,
          0,
          0,
          0,
          1,
          0,
          0,
          0,
          0,
          0,
          0,
          1,
          0,
          0,
          0,
          0,
          0,
          0,
          1,
          0,
          0,
          0,
          0,
          0,
          0,
          1,
          null,
          null,
          null,
          null,
          null,
          null,
          null
         ]
        },
        {
         "mode": "lines",
         "name": "State 4",
         "type": "scatter",
         "y": [
          0.06277216225862503,
          0.06451120972633362,
          0.07743754982948303,
          0.007788823451846838,
          0,
          0,
          0,
          0,
          0,
          0,
          0,
          0,
          0,
          0,
          0,
          0,
          0,
          0,
          0,
          0,
          0,
          0,
          0,
          0,
          0,
          0,
          0,
          0,
          0,
          0,
          0,
          0,
          0,
          0,
          0,
          0,
          0,
          0,
          0,
          0,
          0,
          0,
          0,
          null,
          null,
          null,
          null,
          null,
          null,
          null
         ]
        },
        {
         "mode": "lines",
         "name": "State 5",
         "type": "scatter",
         "y": [
          0.06177728250622749,
          0.05894914269447327,
          0.037236105650663376,
          0.000016037240129662678,
          0,
          0,
          0,
          0,
          0,
          0,
          0,
          0,
          0,
          0,
          0,
          0,
          0,
          0,
          0,
          0,
          0,
          0,
          0,
          0,
          0,
          0,
          0,
          0,
          0,
          0,
          0,
          0,
          0,
          0,
          0,
          0,
          0,
          0,
          0,
          0,
          0,
          0,
          0,
          null,
          null,
          null,
          null,
          null,
          null,
          null
         ]
        },
        {
         "mode": "lines",
         "name": "State 6",
         "type": "scatter",
         "y": [
          0.06282193958759308,
          0.06580451875925064,
          0.08797112107276917,
          0.038140133023262024,
          1.1954295411507835e-34,
          0,
          1,
          0,
          0,
          0,
          0,
          1,
          0,
          0,
          0,
          0,
          0,
          0,
          1,
          0,
          0,
          0,
          0,
          0,
          0,
          1,
          0,
          0,
          0,
          0,
          0,
          0,
          1,
          0,
          0,
          0,
          0,
          0,
          0,
          1,
          0,
          0,
          0,
          null,
          null,
          null,
          null,
          null,
          null,
          null
         ]
        },
        {
         "mode": "lines",
         "name": "State 7",
         "type": "scatter",
         "y": [
          0.06252152472734451,
          0.06286097317934036,
          0.06365539878606796,
          0.002928914735093713,
          2.6624670822171524e-44,
          0,
          0,
          0,
          0,
          0,
          0,
          0,
          0,
          0,
          0,
          0,
          0,
          0,
          0,
          0,
          0,
          0,
          0,
          0,
          0,
          0,
          0,
          0,
          0,
          0,
          0,
          0,
          0,
          0,
          0,
          0,
          0,
          0,
          0,
          0,
          0,
          0,
          0,
          null,
          null,
          null,
          null,
          null,
          null,
          null
         ]
        },
        {
         "mode": "lines",
         "name": "State 8",
         "type": "scatter",
         "y": [
          0.062397025525569916,
          0.06096532195806503,
          0.05068375542759895,
          0.005377489607781172,
          0,
          0,
          0,
          0,
          0,
          0,
          0,
          0,
          0,
          0,
          0,
          0,
          0,
          0,
          0,
          0,
          0,
          0,
          0,
          0,
          0,
          0,
          0,
          0,
          0,
          0,
          0,
          0,
          0,
          0,
          0,
          0,
          0,
          0,
          0,
          0,
          0,
          0,
          0,
          null,
          null,
          null,
          null,
          null,
          null,
          null
         ]
        },
        {
         "mode": "lines",
         "name": "State 9",
         "type": "scatter",
         "y": [
          0.0629533901810646,
          0.06593914330005646,
          0.09228125959634781,
          0.6199241876602173,
          0,
          1,
          0,
          0,
          0,
          0,
          0,
          0,
          0,
          0,
          0,
          0,
          0,
          0,
          0,
          0,
          0,
          0,
          0,
          0,
          0,
          0,
          0,
          0,
          0,
          0,
          0,
          0,
          0,
          0,
          0,
          0,
          0,
          0,
          0,
          0,
          0,
          0,
          0,
          null,
          null,
          null,
          null,
          null,
          null,
          null
         ]
        },
        {
         "mode": "lines",
         "name": "State 10",
         "type": "scatter",
         "y": [
          0.06186816468834877,
          0.05997077748179436,
          0.04397673159837723,
          0.0003576239396352321,
          0,
          0,
          0,
          0,
          0,
          0,
          0,
          0,
          0,
          0,
          0,
          0,
          0,
          0,
          0,
          0,
          0,
          0,
          0,
          0,
          0,
          0,
          0,
          0,
          0,
          0,
          0,
          0,
          0,
          0,
          0,
          0,
          0,
          0,
          0,
          0,
          0,
          0,
          0,
          null,
          null,
          null,
          null,
          null,
          null,
          null
         ]
        },
        {
         "mode": "lines",
         "name": "State 11",
         "type": "scatter",
         "y": [
          0.06277214735746384,
          0.06543704122304916,
          0.08446718007326126,
          0.005556492134928703,
          0,
          0,
          0,
          0,
          0,
          0,
          0,
          0,
          1,
          0,
          0,
          0,
          0,
          1,
          0,
          1,
          0,
          0,
          0,
          0,
          1,
          0,
          1,
          0,
          0,
          0,
          0,
          1,
          0,
          1,
          0,
          0,
          0,
          0,
          1,
          0,
          1,
          0,
          0,
          null,
          null,
          null,
          null,
          null,
          null,
          null
         ]
        },
        {
         "mode": "lines",
         "name": "State 12",
         "type": "scatter",
         "y": [
          0.06234215199947357,
          0.061390262097120285,
          0.05399385839700699,
          0.009509342722594738,
          0,
          0,
          0,
          0,
          0,
          0,
          0,
          0,
          0,
          0,
          0,
          1,
          0,
          0,
          0,
          0,
          0,
          0,
          1,
          0,
          0,
          0,
          0,
          0,
          0,
          1,
          0,
          0,
          0,
          0,
          0,
          0,
          1,
          0,
          0,
          0,
          0,
          0,
          0,
          null,
          null,
          null,
          null,
          null,
          null,
          null
         ]
        },
        {
         "mode": "lines",
         "name": "State 13",
         "type": "scatter",
         "y": [
          0.06235716491937637,
          0.05948639288544655,
          0.041187457740306854,
          0.0005181925371289253,
          1.4451552375449892e-29,
          0,
          0,
          0,
          0,
          0,
          0,
          0,
          0,
          0,
          0,
          0,
          0,
          0,
          0,
          0,
          0,
          0,
          0,
          0,
          0,
          0,
          0,
          0,
          0,
          0,
          0,
          0,
          0,
          0,
          0,
          0,
          0,
          0,
          0,
          0,
          0,
          0,
          0,
          null,
          null,
          null,
          null,
          null,
          null,
          null
         ]
        },
        {
         "mode": "lines",
         "name": "State 14",
         "type": "scatter",
         "y": [
          0.06276309490203857,
          0.06515247374773026,
          0.08366961777210236,
          0.23973619937896729,
          0.5488851070404053,
          0,
          0,
          1,
          0,
          0,
          0,
          0,
          0,
          0,
          0,
          0,
          1,
          0,
          0,
          0,
          0,
          0,
          0,
          1,
          0,
          0,
          0,
          0,
          0,
          0,
          1,
          0,
          0,
          0,
          0,
          0,
          0,
          1,
          0,
          0,
          0,
          0,
          0,
          null,
          null,
          null,
          null,
          null,
          null,
          null
         ]
        },
        {
         "mode": "lines",
         "name": "State 15",
         "type": "scatter",
         "y": [
          0.06285423785448074,
          0.06427357345819473,
          0.07327558100223541,
          0.011251002550125122,
          0,
          0,
          0,
          0,
          1,
          0,
          0,
          0,
          0,
          0,
          0,
          0,
          0,
          0,
          0,
          0,
          0,
          0,
          0,
          0,
          0,
          0,
          0,
          0,
          0,
          0,
          0,
          0,
          0,
          0,
          0,
          0,
          0,
          0,
          0,
          0,
          0,
          0,
          0,
          null,
          null,
          null,
          null,
          null,
          null,
          null
         ]
        }
       ],
       "layout": {
        "template": {
         "data": {
          "bar": [
           {
            "error_x": {
             "color": "#2a3f5f"
            },
            "error_y": {
             "color": "#2a3f5f"
            },
            "marker": {
             "line": {
              "color": "#E5ECF6",
              "width": 0.5
             },
             "pattern": {
              "fillmode": "overlay",
              "size": 10,
              "solidity": 0.2
             }
            },
            "type": "bar"
           }
          ],
          "barpolar": [
           {
            "marker": {
             "line": {
              "color": "#E5ECF6",
              "width": 0.5
             },
             "pattern": {
              "fillmode": "overlay",
              "size": 10,
              "solidity": 0.2
             }
            },
            "type": "barpolar"
           }
          ],
          "carpet": [
           {
            "aaxis": {
             "endlinecolor": "#2a3f5f",
             "gridcolor": "white",
             "linecolor": "white",
             "minorgridcolor": "white",
             "startlinecolor": "#2a3f5f"
            },
            "baxis": {
             "endlinecolor": "#2a3f5f",
             "gridcolor": "white",
             "linecolor": "white",
             "minorgridcolor": "white",
             "startlinecolor": "#2a3f5f"
            },
            "type": "carpet"
           }
          ],
          "choropleth": [
           {
            "colorbar": {
             "outlinewidth": 0,
             "ticks": ""
            },
            "type": "choropleth"
           }
          ],
          "contour": [
           {
            "colorbar": {
             "outlinewidth": 0,
             "ticks": ""
            },
            "colorscale": [
             [
              0,
              "#0d0887"
             ],
             [
              0.1111111111111111,
              "#46039f"
             ],
             [
              0.2222222222222222,
              "#7201a8"
             ],
             [
              0.3333333333333333,
              "#9c179e"
             ],
             [
              0.4444444444444444,
              "#bd3786"
             ],
             [
              0.5555555555555556,
              "#d8576b"
             ],
             [
              0.6666666666666666,
              "#ed7953"
             ],
             [
              0.7777777777777778,
              "#fb9f3a"
             ],
             [
              0.8888888888888888,
              "#fdca26"
             ],
             [
              1,
              "#f0f921"
             ]
            ],
            "type": "contour"
           }
          ],
          "contourcarpet": [
           {
            "colorbar": {
             "outlinewidth": 0,
             "ticks": ""
            },
            "type": "contourcarpet"
           }
          ],
          "heatmap": [
           {
            "colorbar": {
             "outlinewidth": 0,
             "ticks": ""
            },
            "colorscale": [
             [
              0,
              "#0d0887"
             ],
             [
              0.1111111111111111,
              "#46039f"
             ],
             [
              0.2222222222222222,
              "#7201a8"
             ],
             [
              0.3333333333333333,
              "#9c179e"
             ],
             [
              0.4444444444444444,
              "#bd3786"
             ],
             [
              0.5555555555555556,
              "#d8576b"
             ],
             [
              0.6666666666666666,
              "#ed7953"
             ],
             [
              0.7777777777777778,
              "#fb9f3a"
             ],
             [
              0.8888888888888888,
              "#fdca26"
             ],
             [
              1,
              "#f0f921"
             ]
            ],
            "type": "heatmap"
           }
          ],
          "heatmapgl": [
           {
            "colorbar": {
             "outlinewidth": 0,
             "ticks": ""
            },
            "colorscale": [
             [
              0,
              "#0d0887"
             ],
             [
              0.1111111111111111,
              "#46039f"
             ],
             [
              0.2222222222222222,
              "#7201a8"
             ],
             [
              0.3333333333333333,
              "#9c179e"
             ],
             [
              0.4444444444444444,
              "#bd3786"
             ],
             [
              0.5555555555555556,
              "#d8576b"
             ],
             [
              0.6666666666666666,
              "#ed7953"
             ],
             [
              0.7777777777777778,
              "#fb9f3a"
             ],
             [
              0.8888888888888888,
              "#fdca26"
             ],
             [
              1,
              "#f0f921"
             ]
            ],
            "type": "heatmapgl"
           }
          ],
          "histogram": [
           {
            "marker": {
             "pattern": {
              "fillmode": "overlay",
              "size": 10,
              "solidity": 0.2
             }
            },
            "type": "histogram"
           }
          ],
          "histogram2d": [
           {
            "colorbar": {
             "outlinewidth": 0,
             "ticks": ""
            },
            "colorscale": [
             [
              0,
              "#0d0887"
             ],
             [
              0.1111111111111111,
              "#46039f"
             ],
             [
              0.2222222222222222,
              "#7201a8"
             ],
             [
              0.3333333333333333,
              "#9c179e"
             ],
             [
              0.4444444444444444,
              "#bd3786"
             ],
             [
              0.5555555555555556,
              "#d8576b"
             ],
             [
              0.6666666666666666,
              "#ed7953"
             ],
             [
              0.7777777777777778,
              "#fb9f3a"
             ],
             [
              0.8888888888888888,
              "#fdca26"
             ],
             [
              1,
              "#f0f921"
             ]
            ],
            "type": "histogram2d"
           }
          ],
          "histogram2dcontour": [
           {
            "colorbar": {
             "outlinewidth": 0,
             "ticks": ""
            },
            "colorscale": [
             [
              0,
              "#0d0887"
             ],
             [
              0.1111111111111111,
              "#46039f"
             ],
             [
              0.2222222222222222,
              "#7201a8"
             ],
             [
              0.3333333333333333,
              "#9c179e"
             ],
             [
              0.4444444444444444,
              "#bd3786"
             ],
             [
              0.5555555555555556,
              "#d8576b"
             ],
             [
              0.6666666666666666,
              "#ed7953"
             ],
             [
              0.7777777777777778,
              "#fb9f3a"
             ],
             [
              0.8888888888888888,
              "#fdca26"
             ],
             [
              1,
              "#f0f921"
             ]
            ],
            "type": "histogram2dcontour"
           }
          ],
          "mesh3d": [
           {
            "colorbar": {
             "outlinewidth": 0,
             "ticks": ""
            },
            "type": "mesh3d"
           }
          ],
          "parcoords": [
           {
            "line": {
             "colorbar": {
              "outlinewidth": 0,
              "ticks": ""
             }
            },
            "type": "parcoords"
           }
          ],
          "pie": [
           {
            "automargin": true,
            "type": "pie"
           }
          ],
          "scatter": [
           {
            "fillpattern": {
             "fillmode": "overlay",
             "size": 10,
             "solidity": 0.2
            },
            "type": "scatter"
           }
          ],
          "scatter3d": [
           {
            "line": {
             "colorbar": {
              "outlinewidth": 0,
              "ticks": ""
             }
            },
            "marker": {
             "colorbar": {
              "outlinewidth": 0,
              "ticks": ""
             }
            },
            "type": "scatter3d"
           }
          ],
          "scattercarpet": [
           {
            "marker": {
             "colorbar": {
              "outlinewidth": 0,
              "ticks": ""
             }
            },
            "type": "scattercarpet"
           }
          ],
          "scattergeo": [
           {
            "marker": {
             "colorbar": {
              "outlinewidth": 0,
              "ticks": ""
             }
            },
            "type": "scattergeo"
           }
          ],
          "scattergl": [
           {
            "marker": {
             "colorbar": {
              "outlinewidth": 0,
              "ticks": ""
             }
            },
            "type": "scattergl"
           }
          ],
          "scattermapbox": [
           {
            "marker": {
             "colorbar": {
              "outlinewidth": 0,
              "ticks": ""
             }
            },
            "type": "scattermapbox"
           }
          ],
          "scatterpolar": [
           {
            "marker": {
             "colorbar": {
              "outlinewidth": 0,
              "ticks": ""
             }
            },
            "type": "scatterpolar"
           }
          ],
          "scatterpolargl": [
           {
            "marker": {
             "colorbar": {
              "outlinewidth": 0,
              "ticks": ""
             }
            },
            "type": "scatterpolargl"
           }
          ],
          "scatterternary": [
           {
            "marker": {
             "colorbar": {
              "outlinewidth": 0,
              "ticks": ""
             }
            },
            "type": "scatterternary"
           }
          ],
          "surface": [
           {
            "colorbar": {
             "outlinewidth": 0,
             "ticks": ""
            },
            "colorscale": [
             [
              0,
              "#0d0887"
             ],
             [
              0.1111111111111111,
              "#46039f"
             ],
             [
              0.2222222222222222,
              "#7201a8"
             ],
             [
              0.3333333333333333,
              "#9c179e"
             ],
             [
              0.4444444444444444,
              "#bd3786"
             ],
             [
              0.5555555555555556,
              "#d8576b"
             ],
             [
              0.6666666666666666,
              "#ed7953"
             ],
             [
              0.7777777777777778,
              "#fb9f3a"
             ],
             [
              0.8888888888888888,
              "#fdca26"
             ],
             [
              1,
              "#f0f921"
             ]
            ],
            "type": "surface"
           }
          ],
          "table": [
           {
            "cells": {
             "fill": {
              "color": "#EBF0F8"
             },
             "line": {
              "color": "white"
             }
            },
            "header": {
             "fill": {
              "color": "#C8D4E3"
             },
             "line": {
              "color": "white"
             }
            },
            "type": "table"
           }
          ]
         },
         "layout": {
          "annotationdefaults": {
           "arrowcolor": "#2a3f5f",
           "arrowhead": 0,
           "arrowwidth": 1
          },
          "autotypenumbers": "strict",
          "coloraxis": {
           "colorbar": {
            "outlinewidth": 0,
            "ticks": ""
           }
          },
          "colorscale": {
           "diverging": [
            [
             0,
             "#8e0152"
            ],
            [
             0.1,
             "#c51b7d"
            ],
            [
             0.2,
             "#de77ae"
            ],
            [
             0.3,
             "#f1b6da"
            ],
            [
             0.4,
             "#fde0ef"
            ],
            [
             0.5,
             "#f7f7f7"
            ],
            [
             0.6,
             "#e6f5d0"
            ],
            [
             0.7,
             "#b8e186"
            ],
            [
             0.8,
             "#7fbc41"
            ],
            [
             0.9,
             "#4d9221"
            ],
            [
             1,
             "#276419"
            ]
           ],
           "sequential": [
            [
             0,
             "#0d0887"
            ],
            [
             0.1111111111111111,
             "#46039f"
            ],
            [
             0.2222222222222222,
             "#7201a8"
            ],
            [
             0.3333333333333333,
             "#9c179e"
            ],
            [
             0.4444444444444444,
             "#bd3786"
            ],
            [
             0.5555555555555556,
             "#d8576b"
            ],
            [
             0.6666666666666666,
             "#ed7953"
            ],
            [
             0.7777777777777778,
             "#fb9f3a"
            ],
            [
             0.8888888888888888,
             "#fdca26"
            ],
            [
             1,
             "#f0f921"
            ]
           ],
           "sequentialminus": [
            [
             0,
             "#0d0887"
            ],
            [
             0.1111111111111111,
             "#46039f"
            ],
            [
             0.2222222222222222,
             "#7201a8"
            ],
            [
             0.3333333333333333,
             "#9c179e"
            ],
            [
             0.4444444444444444,
             "#bd3786"
            ],
            [
             0.5555555555555556,
             "#d8576b"
            ],
            [
             0.6666666666666666,
             "#ed7953"
            ],
            [
             0.7777777777777778,
             "#fb9f3a"
            ],
            [
             0.8888888888888888,
             "#fdca26"
            ],
            [
             1,
             "#f0f921"
            ]
           ]
          },
          "colorway": [
           "#636efa",
           "#EF553B",
           "#00cc96",
           "#ab63fa",
           "#FFA15A",
           "#19d3f3",
           "#FF6692",
           "#B6E880",
           "#FF97FF",
           "#FECB52"
          ],
          "font": {
           "color": "#2a3f5f"
          },
          "geo": {
           "bgcolor": "white",
           "lakecolor": "white",
           "landcolor": "#E5ECF6",
           "showlakes": true,
           "showland": true,
           "subunitcolor": "white"
          },
          "hoverlabel": {
           "align": "left"
          },
          "hovermode": "closest",
          "mapbox": {
           "style": "light"
          },
          "paper_bgcolor": "white",
          "plot_bgcolor": "#E5ECF6",
          "polar": {
           "angularaxis": {
            "gridcolor": "white",
            "linecolor": "white",
            "ticks": ""
           },
           "bgcolor": "#E5ECF6",
           "radialaxis": {
            "gridcolor": "white",
            "linecolor": "white",
            "ticks": ""
           }
          },
          "scene": {
           "xaxis": {
            "backgroundcolor": "#E5ECF6",
            "gridcolor": "white",
            "gridwidth": 2,
            "linecolor": "white",
            "showbackground": true,
            "ticks": "",
            "zerolinecolor": "white"
           },
           "yaxis": {
            "backgroundcolor": "#E5ECF6",
            "gridcolor": "white",
            "gridwidth": 2,
            "linecolor": "white",
            "showbackground": true,
            "ticks": "",
            "zerolinecolor": "white"
           },
           "zaxis": {
            "backgroundcolor": "#E5ECF6",
            "gridcolor": "white",
            "gridwidth": 2,
            "linecolor": "white",
            "showbackground": true,
            "ticks": "",
            "zerolinecolor": "white"
           }
          },
          "shapedefaults": {
           "line": {
            "color": "#2a3f5f"
           }
          },
          "ternary": {
           "aaxis": {
            "gridcolor": "white",
            "linecolor": "white",
            "ticks": ""
           },
           "baxis": {
            "gridcolor": "white",
            "linecolor": "white",
            "ticks": ""
           },
           "bgcolor": "#E5ECF6",
           "caxis": {
            "gridcolor": "white",
            "linecolor": "white",
            "ticks": ""
           }
          },
          "title": {
           "x": 0.05
          },
          "xaxis": {
           "automargin": true,
           "gridcolor": "white",
           "linecolor": "white",
           "ticks": "",
           "title": {
            "standoff": 15
           },
           "zerolinecolor": "white",
           "zerolinewidth": 2
          },
          "yaxis": {
           "automargin": true,
           "gridcolor": "white",
           "linecolor": "white",
           "ticks": "",
           "title": {
            "standoff": 15
           },
           "zerolinecolor": "white",
           "zerolinewidth": 2
          }
         }
        },
        "title": {
         "text": "Self-Perpetuating Coil Dynamics"
        },
        "xaxis": {
         "title": {
          "text": "Timestep"
         }
        },
        "yaxis": {
         "title": {
          "text": "Value"
         }
        }
       }
      }
     },
     "metadata": {},
     "output_type": "display_data"
    }
   ],
   "source": [
    "import plotly.graph_objects as go\n",
    "\n",
    "states = []\n",
    "# Select the batch we want to make predictions for\n",
    "batch = 10\n",
    "\n",
    "\n",
    "# Grab starting state tensor\n",
    "state_tensor = X[:,0,:]\n",
    "\n",
    "# How many steps do we want to run the coil overall?\n",
    "max_steps = 50\n",
    "\n",
    "batch_size = X.shape[0]\n",
    "transition_tensor = torch.softmax(torch.zeros(batch_size, n_features, n_features), dim = 1).to(\"cuda\")\n",
    "for step_state in range(max_steps):\n",
    "    state_tensor, transition_tensor = model.step_coil(state_tensor, transition_tensor)\n",
    "    states.append(state_tensor[batch,:])\n",
    "\n",
    "# Move state dynamics to CPU\n",
    "data = [row.to('cpu').detach().numpy() for row in states]\n",
    "# Transpose the data to get 5 traces\n",
    "traces = list(zip(*data))\n",
    "\n",
    "\n",
    "# Create the figure and add traces\n",
    "fig = go.Figure()\n",
    "\n",
    "# Plotting\n",
    "for i, trace in enumerate(traces):\n",
    "    model_trace = go.Scatter(y=trace, mode='lines', name=f'State {i}')\n",
    "    fig.add_trace(model_trace)\n",
    "\n",
    "# Add title and labels\n",
    "fig.update_layout(title=f'Self-Perpetuating Coil Dynamics',\n",
    "                    xaxis_title='Timestep',\n",
    "                    yaxis_title='Value')\n",
    "\n",
    "# Show the figure\n",
    "fig.show()"
   ]
  }
 ],
 "metadata": {
  "kernelspec": {
   "display_name": "coilspy-1sgZ1XBf-py3.12",
   "language": "python",
   "name": "python3"
  },
  "language_info": {
   "codemirror_mode": {
    "name": "ipython",
    "version": 3
   },
   "file_extension": ".py",
   "mimetype": "text/x-python",
   "name": "python",
   "nbconvert_exporter": "python",
   "pygments_lexer": "ipython3",
   "version": "3.12.2"
  }
 },
 "nbformat": 4,
 "nbformat_minor": 2
}
