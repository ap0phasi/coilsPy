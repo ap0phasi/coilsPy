{
 "cells": [
  {
   "cell_type": "code",
   "execution_count": 156,
   "metadata": {},
   "outputs": [],
   "source": [
    "import torch\n",
    "import torch.nn as nn\n",
    "\n",
    "class CustomLayer(nn.Module):\n",
    "    def __init__(self, n_features):\n",
    "        super(CustomLayer, self).__init__()\n",
    "        self.n_features = n_features\n",
    "        # Initialize the interaction tensor as a learnable parameter\n",
    "        self.interaction_tensor = nn.Parameter(torch.randn(n_features, n_features, n_features))\n",
    "\n",
    "    def forward(self, x):\n",
    "        # x is expected to be of size [batch, length, n_features]\n",
    "        batch, length, n_features = x.size()\n",
    "\n",
    "        # Process each [n_features] vector across batch and length\n",
    "        output = x.new_empty(batch, length, n_features)\n",
    "        for b in range(batch):\n",
    "            for l in range(length):\n",
    "                state_tensor = x[b, l, :]  # Shape: [n_features]\n",
    "                # Step 1: Multiply state tensor by interaction tensor to get transition tensor\n",
    "                # We manually implement the multiplication to match your operation\n",
    "                transition_tensor = torch.einsum('i,ijk->jk', state_tensor, self.interaction_tensor)\n",
    "                # Step 2: Multiply the transition tensor by the state tensor\n",
    "                # Resulting shape: [n_features]\n",
    "                output[b, l, :] = torch.matmul(transition_tensor, state_tensor)\n",
    "\n",
    "        return output\n"
   ]
  },
  {
   "cell_type": "code",
   "execution_count": 157,
   "metadata": {},
   "outputs": [],
   "source": [
    "import torch\n",
    "import torch.nn as nn\n",
    "\n",
    "class CustomLayerVectorized(nn.Module):\n",
    "    def __init__(self, n_features):\n",
    "        super(CustomLayerVectorized, self).__init__()\n",
    "        self.n_features = n_features\n",
    "        # Initialize the interaction tensor as a learnable parameter\n",
    "        self.interaction_tensor = nn.Parameter(torch.randn(n_features, n_features, n_features))\n",
    "\n",
    "    def forward(self, x):\n",
    "        # x is expected to be of size [batch, length, n_features]\n",
    "        batch, length, n_features = x.size()\n",
    "\n",
    "        # Pre-allocate output tensor\n",
    "        output = x.new_empty(batch, length, n_features)\n",
    "\n",
    "        # Loop over length, but vectorize over the batch\n",
    "        for l in range(length):\n",
    "            # Extract all vectors at position l across all batches\n",
    "            state_tensor = x[:, l, :]  # Shape: [batch, n_features]\n",
    "            \n",
    "            # Vectorized operation for all batches\n",
    "            # Step 1: Calculate the transition tensor\n",
    "            # Since we cannot directly use einsum for batched operation in this specific scenario,\n",
    "            # we manually broadcast and multiply to achieve the intended result.\n",
    "            # This involves expanding dimensions to enable broadcasting.\n",
    "            state_tensor_expanded = state_tensor.unsqueeze(1).expand(-1, n_features, -1)  # Shape: [batch, n_features, n_features]\n",
    "            interaction_tensor_expanded = self.interaction_tensor.unsqueeze(0).expand(batch, -1, -1, -1)  # Shape: [batch, n_features, n_features, n_features]\n",
    "            # Multiply and sum over the last dimension to get the transition tensor\n",
    "            transition_tensor = torch.einsum('bik,bijk->bij', state_tensor_expanded, interaction_tensor_expanded)\n",
    "            \n",
    "            # Step 2: Multiply the transition tensor by the state tensor to get the output\n",
    "            output[:, l, :] = torch.einsum('bij,bj->bi', transition_tensor, state_tensor)\n",
    "\n",
    "        return output\n",
    "\n"
   ]
  },
  {
   "cell_type": "code",
   "execution_count": 158,
   "metadata": {},
   "outputs": [],
   "source": [
    "# n_features = 16\n",
    "# batch, length, dim = 2, 64, n_features\n",
    "# x = torch.randn(batch, length, dim)\n",
    "# model = CustomLayerVectorized(\n",
    "#     n_features = n_features\n",
    "# )\n",
    "# y = model(x)\n",
    "\n",
    "# print(x.shape)\n",
    "# assert y.shape == x.shape"
   ]
  },
  {
   "cell_type": "code",
   "execution_count": 159,
   "metadata": {},
   "outputs": [
    {
     "name": "stdout",
     "output_type": "stream",
     "text": [
      "tensor([[0.3178, 0.0869, 0.1055, 0.0041, 0.1740, 0.3116],\n",
      "        [0.1301, 0.0681, 0.2564, 0.1927, 0.1367, 0.2159],\n",
      "        [0.0445, 0.2007, 0.1324, 0.2821, 0.1587, 0.1816],\n",
      "        [0.0806, 0.1735, 0.2114, 0.1402, 0.2615, 0.1327],\n",
      "        [0.3120, 0.0053, 0.2000, 0.2640, 0.0095, 0.2092]])\n",
      "tensor([1., 1., 1., 1., 1.])\n"
     ]
    }
   ],
   "source": [
    "import torch\n",
    "\n",
    "def torch_randnorm(size, dim=0):\n",
    "    # Generate a random tensor\n",
    "    rand_tensor = torch.rand(size)\n",
    "    \n",
    "    # Normalize along the specified dimension\n",
    "    sum_along_dim = torch.sum(rand_tensor, dim=dim, keepdim=True)\n",
    "    normalized_tensor = rand_tensor / sum_along_dim\n",
    "    \n",
    "    return normalized_tensor\n",
    "\n",
    "# Example usage\n",
    "normalized_tensor = torch_randnorm([5,6], dim=1)\n",
    "print(normalized_tensor)\n",
    "print(normalized_tensor.sum(dim=1))"
   ]
  },
  {
   "cell_type": "code",
   "execution_count": 160,
   "metadata": {},
   "outputs": [],
   "source": [
    "class InteractionModule(nn.Module):\n",
    "    def __init__(self, n_features):\n",
    "        super(InteractionModule, self).__init__()\n",
    "        self.n_features = n_features\n",
    "        # Initialize a set of interaction tensors, one for the state tensor and one for each column of the transition tensor\n",
    "        self.interaction_tensors = nn.ParameterList([nn.Parameter(torch_randnorm([n_features, n_features, n_features], dim = 1)) for _ in range(n_features + 1)])\n",
    "\n",
    "    def forward(self, state_tensor, previous_transition_tensor):\n",
    "        # Get batch size\n",
    "        batch = state_tensor.shape[0]\n",
    "        # Assuming previous_transition_tensors is a list of transition tensors from the previous step\n",
    "        candidates = []\n",
    "        for i in range(self.n_features + 1):\n",
    "            if i == 0:  # Interaction with the state tensor\n",
    "                current_tensor = state_tensor\n",
    "            else:  # Interaction with columns of the previous transition tensor\n",
    "                current_tensor = previous_transition_tensor[:, :, i - 1]\n",
    "\n",
    "            interaction_tensor = self.interaction_tensors[i]\n",
    "            current_tensor_expanded = current_tensor.unsqueeze(1).expand(-1, self.n_features, -1)  # Shape: [batch, n_features, n_features]\n",
    "            interaction_tensor_expanded = interaction_tensor.unsqueeze(0).expand(batch, -1, -1, -1)  # Shape: [batch, n_features, n_features, n_features]\n",
    "            # Multiply and sum over the last dimension to get the transition tensor\n",
    "            candidate = torch.einsum('bik,bijk->bij', current_tensor_expanded, interaction_tensor_expanded)\n",
    "            \n",
    "            candidates.append(candidate)\n",
    "            \n",
    "        candidates_tensor = torch.stack(candidates, dim = -1)\n",
    "        return candidates_tensor\n"
   ]
  },
  {
   "cell_type": "code",
   "execution_count": 161,
   "metadata": {},
   "outputs": [
    {
     "name": "stdout",
     "output_type": "stream",
     "text": [
      "torch.Size([10, 5, 5])\n"
     ]
    }
   ],
   "source": [
    "import torch.nn.functional as F\n",
    "\n",
    "class SelectorModule(nn.Module):\n",
    "    def __init__(self, num_slices):\n",
    "        super(SelectorModule, self).__init__()\n",
    "        # A simple linear layer to compute importance scores for each slice\n",
    "        self.importance = nn.Linear(num_slices, num_slices)\n",
    "\n",
    "    def forward(self, x):\n",
    "        # Assuming x is of shape [batch_size, height, width, num_slices]\n",
    "        batch_size, height, width, num_slices = x.shape\n",
    "\n",
    "        # Flatten the spatial dimensions and compute importance scores\n",
    "        x_flat = x.view(batch_size, -1, num_slices)  # New shape: [batch_size, height*width, num_slices]\n",
    "        scores = self.importance(x_flat)  # Computes a score for each slice\n",
    "        scores = scores.view(batch_size, height, width, num_slices)  # Reshape scores back\n",
    "\n",
    "        # Apply softmax to get a distribution over slices\n",
    "        weights = F.softmax(scores, dim=-1)\n",
    "\n",
    "        # Use the weights to get a weighted sum of the slices, effectively selecting slices based on importance\n",
    "        # This step aggregates the slices into a single output per position\n",
    "        selected = torch.einsum('bhwn,bhwi->bhw', weights, x)\n",
    "        \n",
    "        # OVERWRITE LATER ####\n",
    "        \n",
    "        selected = x[:,:,:,0]\n",
    "\n",
    "        return selected\n",
    "\n",
    "# Example usage\n",
    "batch_size = 10\n",
    "tensor = torch.rand(batch_size, 5, 5, 6)  # Example tensor\n",
    "model = SelectorModule(num_slices=6)\n",
    "\n",
    "result = model(tensor)\n",
    "print(result.shape)  # Should print torch.Size([10, 5, 5]), indicating the selection/aggregation step was performed\n"
   ]
  },
  {
   "cell_type": "code",
   "execution_count": 162,
   "metadata": {},
   "outputs": [],
   "source": [
    "class CustomLayerExtended(nn.Module):\n",
    "    def __init__(self, n_features):\n",
    "        super(CustomLayerExtended, self).__init__()\n",
    "        self.n_features = n_features\n",
    "        self.interaction_module = InteractionModule(n_features)\n",
    "        self.selector_module = SelectorModule(n_features + 1)\n",
    "\n",
    "    def forward(self, x):\n",
    "        batch, length, n_features = x.size()\n",
    "        output = x.new_empty(batch, length, n_features)\n",
    "\n",
    "        # Initialize previous transition tensors (for the first step)\n",
    "        # Assuming it's a list of zero tensors for simplicity\n",
    "        previous_transition_tensor = torch.zeros(batch, n_features, n_features)\n",
    "\n",
    "        for l in range(length):\n",
    "            state_tensor = x[:, l, :]\n",
    "            # Generate candidates\n",
    "            candidates = self.interaction_module(state_tensor, previous_transition_tensor)\n",
    "            # Select one candidate\n",
    "            selected_transition_tensor = self.selector_module(candidates)\n",
    "            # Update the previous_transition_tensors for the next iteration\n",
    "            previous_transition_tensor = selected_transition_tensor\n",
    "            # Compute output for this step\n",
    "            output[:, l, :] = torch.matmul(selected_transition_tensor, state_tensor.unsqueeze(-1)).squeeze(-1)\n",
    "\n",
    "        return output, selected_transition_tensor\n"
   ]
  },
  {
   "cell_type": "code",
   "execution_count": 163,
   "metadata": {},
   "outputs": [
    {
     "name": "stdout",
     "output_type": "stream",
     "text": [
      "torch.Size([13, 64, 16])\n"
     ]
    }
   ],
   "source": [
    "n_features = 16\n",
    "batch, length, dim = 13, 64, n_features\n",
    "x = torch.randn(batch, length, dim)\n",
    "model = CustomLayerExtended(\n",
    "    n_features = n_features\n",
    ")\n",
    "y = model(x)\n",
    "\n",
    "print(y[0].shape)\n",
    "assert y[0].shape == x.shape"
   ]
  },
  {
   "cell_type": "code",
   "execution_count": 164,
   "metadata": {},
   "outputs": [
    {
     "name": "stdout",
     "output_type": "stream",
     "text": [
      "(tensor([[[-1.1534e-01,  4.4807e-01,  1.8964e-02,  ...,  9.8030e-02,\n",
      "           3.2010e-01,  1.8228e-01],\n",
      "         [ 6.8518e-01,  1.9095e+00,  1.1681e+00,  ...,  9.6666e-01,\n",
      "          -1.8480e-01,  8.9525e-01],\n",
      "         [-3.5934e-01,  6.4750e-01, -1.9537e-01,  ...,  8.2446e-02,\n",
      "           4.7636e-01, -3.6858e-01],\n",
      "         ...,\n",
      "         [ 4.0059e+00,  3.4427e+00,  3.9373e+00,  ...,  3.5967e+00,\n",
      "           4.5405e+00,  3.9445e+00],\n",
      "         [ 5.8643e-01, -3.0941e-02,  1.1523e+00,  ...,  3.0185e-01,\n",
      "           3.9314e-01,  1.9763e+00],\n",
      "         [-4.9121e-01, -1.4573e+00,  1.5179e-03,  ...,  1.0944e+00,\n",
      "           8.2960e-01, -5.3260e-01]],\n",
      "\n",
      "        [[ 9.1830e-02, -4.3638e-01,  1.4714e-01,  ..., -2.3673e-01,\n",
      "          -1.3980e-03,  1.0617e-01],\n",
      "         [ 9.9361e-01, -4.0394e-01, -6.1018e-01,  ..., -4.3683e-01,\n",
      "           3.1980e-01, -7.2388e-01],\n",
      "         [ 1.1947e+00,  3.5739e-01,  1.0453e+00,  ...,  1.2544e+00,\n",
      "           6.1229e-01,  1.5554e+00],\n",
      "         ...,\n",
      "         [-5.5806e-02,  1.1569e+00,  1.0874e+00,  ..., -2.3122e-01,\n",
      "           5.9508e-01,  6.2371e-01],\n",
      "         [ 1.1085e+00,  5.2708e-01,  4.8577e-01,  ...,  4.5514e-01,\n",
      "           1.0811e+00,  2.2471e-05],\n",
      "         [ 1.1474e+00,  2.6368e+00,  1.6456e+00,  ...,  7.7028e-01,\n",
      "           1.8696e+00,  1.0593e+00]],\n",
      "\n",
      "        [[-3.2980e-01,  5.2158e-01, -1.0831e+00,  ...,  1.0184e+00,\n",
      "           7.6431e-02, -1.8371e-01],\n",
      "         [ 1.5930e+00,  1.9979e+00,  3.3610e+00,  ...,  5.9621e-01,\n",
      "           1.7354e+00,  1.5452e+00],\n",
      "         [ 1.6707e+00,  1.0250e+00,  1.3628e+00,  ...,  2.0011e+00,\n",
      "           2.1469e+00,  1.1324e+00],\n",
      "         ...,\n",
      "         [ 7.1550e-02,  1.5491e+00,  1.0381e+00,  ...,  1.2278e+00,\n",
      "           1.9292e+00,  1.3534e+00],\n",
      "         [ 1.1436e-02,  7.2009e-01, -5.5866e-01,  ...,  6.0222e-01,\n",
      "           7.5959e-01,  2.7359e-01],\n",
      "         [ 8.9357e-01, -3.1211e-01, -8.4016e-01,  ...,  9.0029e-01,\n",
      "           6.9748e-01, -7.8913e-01]],\n",
      "\n",
      "        ...,\n",
      "\n",
      "        [[ 2.0716e+00,  3.3414e+00,  2.9070e+00,  ...,  2.6454e+00,\n",
      "           2.9547e+00,  2.6858e+00],\n",
      "         [-1.0069e+00, -5.3514e-01,  3.9257e-01,  ..., -8.8770e-02,\n",
      "           6.5356e-01,  1.1803e+00],\n",
      "         [-2.4422e-02, -1.1249e+00,  1.9758e-03,  ...,  9.0022e-01,\n",
      "           8.2531e-01,  4.0969e-01],\n",
      "         ...,\n",
      "         [ 5.0666e-01,  1.0018e+00,  8.9662e-01,  ..., -1.7779e-01,\n",
      "           8.0582e-01, -1.7261e-01],\n",
      "         [-9.5479e-01,  1.3608e-01,  1.1684e+00,  ...,  6.6898e-01,\n",
      "           1.1718e+00,  7.0369e-01],\n",
      "         [-8.7471e-02,  1.3428e+00,  1.4042e-01,  ..., -2.8636e-01,\n",
      "           3.4391e-01, -7.2752e-01]],\n",
      "\n",
      "        [[ 5.0466e-02,  5.5181e-01, -3.0066e-01,  ..., -8.0040e-02,\n",
      "          -4.7750e-03,  3.2612e-01],\n",
      "         [ 4.1636e-02,  7.7254e-01, -1.7377e-02,  ...,  4.0028e-01,\n",
      "          -3.1853e-01, -4.8159e-02],\n",
      "         [ 3.4919e-01, -1.0006e-01, -4.9712e-01,  ..., -6.4869e-01,\n",
      "           1.8946e-01, -6.1952e-02],\n",
      "         ...,\n",
      "         [ 9.0442e-01,  4.4276e-01,  5.0201e-01,  ...,  8.1738e-01,\n",
      "           8.4567e-02, -7.4172e-02],\n",
      "         [-1.1763e-01,  5.5431e-01,  5.6068e-01,  ...,  3.9259e-02,\n",
      "          -1.6474e-01, -2.8667e-01],\n",
      "         [ 3.8355e+00,  3.2744e+00,  3.7773e+00,  ...,  3.6044e+00,\n",
      "           3.7566e+00,  3.6793e+00]],\n",
      "\n",
      "        [[ 2.7039e+00,  2.0062e+00,  2.7559e+00,  ...,  2.6567e+00,\n",
      "           2.7529e+00,  2.2189e+00],\n",
      "         [ 6.7544e-01,  3.6435e-01,  5.3795e-01,  ...,  3.4389e-01,\n",
      "           5.5188e-02, -4.3362e-01],\n",
      "         [ 3.6975e-01, -3.6039e-01,  5.5330e-01,  ...,  1.4664e+00,\n",
      "           1.2084e+00,  1.5514e+00],\n",
      "         ...,\n",
      "         [-5.0124e-01, -5.7833e-02,  2.0343e-01,  ..., -5.2234e-02,\n",
      "           7.7848e-02,  2.6115e-02],\n",
      "         [ 4.6883e-01,  4.5073e-01,  7.0415e-01,  ...,  6.0789e-01,\n",
      "           7.8656e-01,  1.5038e-01],\n",
      "         [ 8.4808e-01,  1.4024e+00,  1.0547e+00,  ...,  1.0437e+00,\n",
      "           1.0922e+00,  1.1063e+00]]], grad_fn=<CopySlices>), tensor([[[-9.3603e-02,  6.2359e-02,  5.9084e-02,  ...,  1.9514e-01,\n",
      "          -1.1512e-02,  1.3360e-01],\n",
      "         [ 1.7144e-01,  1.6379e-01,  1.0334e-01,  ...,  2.3333e-01,\n",
      "          -1.3894e-01,  8.7104e-03],\n",
      "         [-8.0343e-02, -1.2467e-01, -5.7485e-03,  ..., -5.5221e-02,\n",
      "          -5.2280e-02, -3.6806e-02],\n",
      "         ...,\n",
      "         [ 9.4636e-03, -1.2992e-01,  1.5209e-03,  ...,  3.1317e-01,\n",
      "           2.7648e-01, -3.6614e-01],\n",
      "         [-1.4849e-01, -1.1153e-01, -1.2603e-01,  ...,  2.3184e-01,\n",
      "           3.5507e-02,  1.7994e-01],\n",
      "         [ 4.8985e-01,  5.2792e-01, -2.7678e-01,  ..., -2.6611e-01,\n",
      "          -6.2010e-02, -2.9306e-01]],\n",
      "\n",
      "        [[-3.1146e-01, -2.6273e-01, -3.9099e-01,  ..., -2.4407e-01,\n",
      "          -3.1476e-01, -2.5483e-01],\n",
      "         [-3.2131e-01, -7.0850e-01, -6.3312e-01,  ..., -4.1101e-01,\n",
      "          -3.9200e-01, -3.4946e-01],\n",
      "         [-4.6232e-02, -5.1301e-01, -2.1864e-01,  ..., -3.7190e-01,\n",
      "          -3.2579e-01, -4.6996e-01],\n",
      "         ...,\n",
      "         [-4.0868e-01, -2.7730e-01, -4.5178e-01,  ..., -2.4675e-01,\n",
      "          -4.3000e-01, -2.0139e-01],\n",
      "         [-2.0559e-01, -3.3601e-01, -3.1269e-01,  ..., -2.5428e-01,\n",
      "           2.9527e-02, -3.3210e-01],\n",
      "         [-2.5294e-01, -3.7436e-01, -2.2689e-01,  ..., -3.3528e-01,\n",
      "          -1.2148e-01, -2.2784e-01]],\n",
      "\n",
      "        [[ 1.7178e-01,  1.2850e-01,  3.2271e-01,  ...,  4.0855e-01,\n",
      "           1.7637e-01,  2.7293e-01],\n",
      "         [ 2.2994e-01,  2.1545e-02, -1.2883e-02,  ...,  1.2312e-01,\n",
      "           5.0256e-01, -1.9039e-02],\n",
      "         [ 4.4387e-01, -5.3124e-02, -2.5221e-02,  ...,  2.6610e-01,\n",
      "           1.3821e-01,  2.2155e-01],\n",
      "         ...,\n",
      "         [ 1.9132e-01,  1.8070e-01, -1.1201e-01,  ...,  2.0157e-01,\n",
      "           2.7544e-01,  4.9320e-02],\n",
      "         [ 1.0408e-01,  1.1333e-01,  2.8200e-01,  ..., -2.3965e-03,\n",
      "           5.1569e-01,  6.1149e-01],\n",
      "         [ 3.7973e-01,  1.5805e-01, -4.2908e-02,  ..., -8.5719e-02,\n",
      "           3.0957e-01,  6.9083e-03]],\n",
      "\n",
      "        ...,\n",
      "\n",
      "        [[ 1.7285e-02,  1.1480e-01, -7.7082e-02,  ...,  1.1590e-01,\n",
      "          -4.5349e-02,  1.6816e-01],\n",
      "         [ 5.2498e-02, -4.3594e-02,  5.4893e-02,  ..., -1.7271e-01,\n",
      "          -8.1290e-02,  1.3663e-01],\n",
      "         [ 2.4763e-01,  2.6243e-02,  2.1392e-02,  ..., -8.2766e-02,\n",
      "          -3.6904e-02, -1.2288e-01],\n",
      "         ...,\n",
      "         [ 7.1264e-02, -2.2182e-01, -4.8287e-02,  ...,  6.8820e-02,\n",
      "           2.1063e-01,  1.0856e-01],\n",
      "         [ 7.5477e-02, -2.8215e-03,  1.9100e-05,  ..., -2.8806e-02,\n",
      "           1.1507e-01,  7.6937e-02],\n",
      "         [ 5.3771e-02, -6.7207e-02, -8.6938e-02,  ...,  2.7919e-02,\n",
      "           5.5157e-02,  8.4104e-02]],\n",
      "\n",
      "        [[ 4.4371e-01,  3.2330e-01,  5.8626e-01,  ...,  5.4411e-01,\n",
      "           5.0649e-01,  4.2199e-01],\n",
      "         [ 3.4489e-01,  3.8721e-01,  6.5999e-01,  ...,  5.5615e-01,\n",
      "           8.2141e-01,  3.3167e-01],\n",
      "         [ 4.3556e-01,  4.7658e-01,  3.9768e-01,  ...,  6.3939e-01,\n",
      "           4.4184e-01,  5.4289e-01],\n",
      "         ...,\n",
      "         [ 3.7761e-01,  5.8642e-01,  3.8046e-01,  ...,  4.4713e-01,\n",
      "           5.5156e-01,  3.5308e-01],\n",
      "         [ 4.0889e-01,  5.1200e-01,  4.5992e-01,  ...,  4.2815e-01,\n",
      "           5.7349e-01,  3.7890e-01],\n",
      "         [ 2.1300e-01,  3.9179e-01,  4.6025e-01,  ...,  6.5705e-01,\n",
      "           3.9108e-01,  4.7141e-01]],\n",
      "\n",
      "        [[ 1.9140e-01,  3.4196e-01,  3.5035e-01,  ...,  1.7919e-01,\n",
      "           3.7991e-01,  4.1585e-01],\n",
      "         [ 4.3095e-01,  2.7815e-01,  3.1233e-01,  ...,  2.0323e-01,\n",
      "           8.4600e-02,  2.8073e-01],\n",
      "         [ 3.5963e-01,  2.5231e-01,  1.8828e-01,  ...,  1.7613e-01,\n",
      "           3.1404e-01,  2.3509e-01],\n",
      "         ...,\n",
      "         [ 2.2000e-01,  1.8456e-01,  3.4890e-01,  ...,  2.2637e-01,\n",
      "           3.4369e-01,  3.5909e-01],\n",
      "         [ 4.3492e-01,  2.4510e-01,  2.4239e-01,  ...,  4.7974e-01,\n",
      "           2.6652e-01,  2.5752e-01],\n",
      "         [ 2.7810e-01,  5.0201e-01,  1.9660e-01,  ...,  2.1731e-01,\n",
      "           3.2362e-01,  3.9690e-01]]], grad_fn=<SelectBackward0>))\n"
     ]
    }
   ],
   "source": [
    "print(y)"
   ]
  },
  {
   "cell_type": "markdown",
   "metadata": {},
   "source": [
    "# Example Training"
   ]
  },
  {
   "cell_type": "markdown",
   "metadata": {},
   "source": [
    "## Simple Data Generation"
   ]
  },
  {
   "cell_type": "code",
   "execution_count": 165,
   "metadata": {},
   "outputs": [],
   "source": [
    "import numpy as np\n",
    "import torch\n",
    "\n",
    "def generate_normalized_multivariate_time_series(n_features, total_length, amplitude=1.0):\n",
    "    t = np.linspace(0, 100 * np.pi, total_length)\n",
    "    series = np.zeros((total_length, n_features))\n",
    "    for i in range(n_features):\n",
    "        series[:, i] = amplitude * np.cos(t * (i + 1) / n_features) + 10\n",
    "    \n",
    "    # Normalize such that each timestep's values sum to 1\n",
    "    series_sum = np.sum(series, axis=1, keepdims=True)\n",
    "    series_normalized = series / series_sum\n",
    "    \n",
    "    return series_normalized\n",
    "\n",
    "def segment_time_series(series, length):\n",
    "    # Assuming series is a numpy array of shape [total_length, n_features]\n",
    "    total_length, n_features = series.shape\n",
    "    segments = []\n",
    "    for start in range(0, total_length - length, length):\n",
    "        segment = series[start:start + length]\n",
    "        segments.append(segment)\n",
    "    return np.stack(segments)\n"
   ]
  },
  {
   "cell_type": "code",
   "execution_count": 166,
   "metadata": {},
   "outputs": [],
   "source": [
    "n_features = 4\n",
    "length = 64  # Segment length\n",
    "total_length = 1024  # Arbitrary total length for the generated series\n",
    "\n",
    "# Generate and segment the time series\n",
    "series = generate_normalized_multivariate_time_series(n_features, total_length)\n",
    "series_x = series[:-1,]\n",
    "series_y = series[1:,]\n",
    "\n",
    "segments_x = segment_time_series(series_x, length)\n",
    "segments_y = segment_time_series(series_y, length)\n",
    "\n",
    "# Convert to tensors\n",
    "segments_tensor_x = torch.tensor(segments_x, dtype=torch.float)\n",
    "segments_tensor_y = torch.tensor(segments_y, dtype=torch.float)\n",
    "\n",
    "# Prepare inputs and targets\n",
    "X = segments_tensor_x\n",
    "# Shift segments to the right by one timestep to create the targets\n",
    "Y =  segments_tensor_y\n"
   ]
  },
  {
   "cell_type": "code",
   "execution_count": 167,
   "metadata": {},
   "outputs": [
    {
     "name": "stdout",
     "output_type": "stream",
     "text": [
      "Epoch [10/100], Loss: 0.00024314230540767312\n",
      "Epoch [20/100], Loss: 0.00023051956668496132\n",
      "Epoch [30/100], Loss: 0.0002183038741350174\n",
      "Epoch [40/100], Loss: 0.0002065545559162274\n",
      "Epoch [50/100], Loss: 0.00019528964185155928\n",
      "Epoch [60/100], Loss: 0.0001845124934334308\n",
      "Epoch [70/100], Loss: 0.00017421766824554652\n",
      "Epoch [80/100], Loss: 0.00016439496539533138\n",
      "Epoch [90/100], Loss: 0.00015503217582590878\n",
      "Epoch [100/100], Loss: 0.00014611614460591227\n"
     ]
    }
   ],
   "source": [
    "from torch import nn, optim\n",
    "\n",
    "# Model\n",
    "model = CustomLayerExtended(\n",
    "    n_features = n_features\n",
    ")\n",
    "\n",
    "# Loss and optimizer\n",
    "criterion = nn.MSELoss()\n",
    "optimizer = optim.Adam(model.parameters(), lr=0.001)\n",
    "\n",
    "# Training loop\n",
    "epochs = 100\n",
    "for epoch in range(epochs):\n",
    "    model.train()\n",
    "    optimizer.zero_grad()\n",
    "    # Forward pass\n",
    "    outputs, _ = model(X)\n",
    "    loss = criterion(outputs, Y)\n",
    "\n",
    "    # Backward and optimize\n",
    "    loss.backward()\n",
    "    optimizer.step()\n",
    "\n",
    "    if (epoch + 1) % 10 == 0:\n",
    "        print(f'Epoch [{epoch+1}/{epochs}], Loss: {loss.item()}')\n"
   ]
  },
  {
   "cell_type": "code",
   "execution_count": 168,
   "metadata": {},
   "outputs": [
    {
     "data": {
      "text/plain": [
       "tensor([[0.2304, 0.2339],\n",
       "        [0.2339, 0.2378],\n",
       "        [0.2378, 0.2419],\n",
       "        [0.2419, 0.2460],\n",
       "        [0.2460, 0.2497],\n",
       "        [0.2497, 0.2529],\n",
       "        [0.2529, 0.2553],\n",
       "        [0.2553, 0.2569],\n",
       "        [0.2569, 0.2577],\n",
       "        [0.2577, 0.2576],\n",
       "        [0.2576, 0.2570],\n",
       "        [0.2570, 0.2558],\n",
       "        [0.2558, 0.2545],\n",
       "        [0.2545, 0.2530],\n",
       "        [0.2530, 0.2518],\n",
       "        [0.2518, 0.2508],\n",
       "        [0.2508, 0.2502],\n",
       "        [0.2502, 0.2500],\n",
       "        [0.2500, 0.2503],\n",
       "        [0.2503, 0.2511],\n",
       "        [0.2511, 0.2522],\n",
       "        [0.2522, 0.2535],\n",
       "        [0.2535, 0.2549],\n",
       "        [0.2549, 0.2562],\n",
       "        [0.2562, 0.2572],\n",
       "        [0.2572, 0.2577],\n",
       "        [0.2577, 0.2575],\n",
       "        [0.2575, 0.2565],\n",
       "        [0.2565, 0.2546],\n",
       "        [0.2546, 0.2520],\n",
       "        [0.2520, 0.2486],\n",
       "        [0.2486, 0.2447],\n",
       "        [0.2447, 0.2406],\n",
       "        [0.2406, 0.2365],\n",
       "        [0.2365, 0.2327],\n",
       "        [0.2327, 0.2295],\n",
       "        [0.2295, 0.2269],\n",
       "        [0.2269, 0.2253],\n",
       "        [0.2253, 0.2246],\n",
       "        [0.2246, 0.2250],\n",
       "        [0.2250, 0.2263],\n",
       "        [0.2263, 0.2286],\n",
       "        [0.2286, 0.2318],\n",
       "        [0.2318, 0.2356],\n",
       "        [0.2356, 0.2400],\n",
       "        [0.2400, 0.2446],\n",
       "        [0.2446, 0.2494],\n",
       "        [0.2494, 0.2541],\n",
       "        [0.2541, 0.2584],\n",
       "        [0.2584, 0.2623],\n",
       "        [0.2623, 0.2657],\n",
       "        [0.2657, 0.2685],\n",
       "        [0.2685, 0.2706],\n",
       "        [0.2706, 0.2723],\n",
       "        [0.2723, 0.2734],\n",
       "        [0.2734, 0.2742],\n",
       "        [0.2742, 0.2747],\n",
       "        [0.2747, 0.2749],\n",
       "        [0.2749, 0.2750],\n",
       "        [0.2750, 0.2749],\n",
       "        [0.2749, 0.2745],\n",
       "        [0.2745, 0.2739],\n",
       "        [0.2739, 0.2729],\n",
       "        [0.2729, 0.2716]])"
      ]
     },
     "execution_count": 168,
     "metadata": {},
     "output_type": "execute_result"
    }
   ],
   "source": [
    "torch.stack([X[1,:,1],Y[1,:,1]], dim = -1)"
   ]
  },
  {
   "cell_type": "code",
   "execution_count": 174,
   "metadata": {},
   "outputs": [
    {
     "data": {
      "application/vnd.plotly.v1+json": {
       "config": {
        "plotlyServerURL": "https://plot.ly"
       },
       "data": [
        {
         "mode": "lines",
         "name": "Model Output",
         "type": "scatter",
         "x": [
          0,
          1,
          2,
          3,
          4,
          5,
          6,
          7,
          8,
          9,
          10,
          11,
          12,
          13,
          14,
          15,
          16,
          17,
          18,
          19,
          20,
          21,
          22,
          23,
          24,
          25,
          26,
          27,
          28,
          29,
          30,
          31,
          32,
          33,
          34,
          35,
          36,
          37,
          38,
          39,
          40,
          41,
          42,
          43,
          44,
          45,
          46,
          47,
          48,
          49,
          50,
          51,
          52,
          53,
          54,
          55,
          56,
          57,
          58,
          59,
          60,
          61,
          62,
          63
         ],
         "y": [
          0.24853858351707458,
          0.24994570016860962,
          0.2512880563735962,
          0.25249332189559937,
          0.2535107731819153,
          0.2543088495731354,
          0.254869282245636,
          0.2551816701889038,
          0.2552410364151001,
          0.2550480365753174,
          0.25461265444755554,
          0.2539575397968292,
          0.2531203329563141,
          0.2521531283855438,
          0.2511187791824341,
          0.2500857412815094,
          0.24912112951278687,
          0.24828389286994934,
          0.24761885404586792,
          0.24715250730514526,
          0.24689121544361115,
          0.24682198464870453,
          0.24691636860370636,
          0.2471359372138977,
          0.24743856489658356,
          0.2477843165397644,
          0.24813926219940186,
          0.24847742915153503,
          0.24878104031085968,
          0.24903975427150726,
          0.24924953281879425,
          0.24941131472587585,
          0.24952943623065948,
          0.24961026012897491,
          0.24966052174568176,
          0.24968579411506653,
          0.249689519405365,
          0.24967223405838013,
          0.24963156878948212,
          0.24956247210502625,
          0.24945855140686035,
          0.2493131160736084,
          0.24912095069885254,
          0.24887967109680176,
          0.24859139323234558,
          0.24826402962207794,
          0.24791257083415985,
          0.24755999445915222,
          0.24723747372627258,
          0.24698317050933838,
          0.2468389868736267,
          0.24684536457061768,
          0.24703513085842133,
          0.2474273294210434,
          0.24802285432815552,
          0.24880237877368927,
          0.2497273087501526,
          0.25074315071105957,
          0.25178495049476624,
          0.25278404355049133,
          0.2536746859550476,
          0.25440049171447754,
          0.2549183666706085,
          0.2552003264427185
         ]
        },
        {
         "mode": "lines",
         "name": "Target",
         "type": "scatter",
         "x": [
          0,
          1,
          2,
          3,
          4,
          5,
          6,
          7,
          8,
          9,
          10,
          11,
          12,
          13,
          14,
          15,
          16,
          17,
          18,
          19,
          20,
          21,
          22,
          23,
          24,
          25,
          26,
          27,
          28,
          29,
          30,
          31,
          32,
          33,
          34,
          35,
          36,
          37,
          38,
          39,
          40,
          41,
          42,
          43,
          44,
          45,
          46,
          47,
          48,
          49,
          50,
          51,
          52,
          53,
          54,
          55,
          56,
          57,
          58,
          59,
          60,
          61,
          62,
          63
         ],
         "y": [
          0.25160306692123413,
          0.25833672285079956,
          0.264670729637146,
          0.27019864320755005,
          0.27457842230796814,
          0.2775627672672272,
          0.2790183126926422,
          0.2789303958415985,
          0.27739372849464417,
          0.2745923101902008,
          0.27077341079711914,
          0.26622048020362854,
          0.2612292170524597,
          0.2560882270336151,
          0.25106507539749146,
          0.24639661610126495,
          0.24228225648403168,
          0.238878533244133,
          0.23629432916641235,
          0.23458647727966309,
          0.23375655710697174,
          0.23375065624713898,
          0.2344636470079422,
          0.23574940860271454,
          0.23743663728237152,
          0.23934787511825562,
          0.24131856858730316,
          0.24321220815181732,
          0.24492907524108887,
          0.24640776216983795,
          0.24762067198753357,
          0.24856573343276978,
          0.24925652146339417,
          0.24971294403076172,
          0.24995344877243042,
          0.24998970329761505,
          0.24982360005378723,
          0.2494467794895172,
          0.24884271621704102,
          0.24799126386642456,
          0.2468755841255188,
          0.2454909384250641,
          0.24385465681552887,
          0.24201519787311554,
          0.2400583177804947,
          0.23810791969299316,
          0.236319899559021,
          0.234869122505188,
          0.23393140733242035,
          0.23366397619247437,
          0.23418821394443512,
          0.23557725548744202,
          0.23784968256950378,
          0.24096830189228058,
          0.24484248459339142,
          0.24933229386806488,
          0.25425320863723755,
          0.25938117504119873,
          0.2644587457180023,
          0.2692035138607025,
          0.27332043647766113,
          0.2765190899372101,
          0.2785361409187317,
          0.2791616916656494
         ]
        }
       ],
       "layout": {
        "template": {
         "data": {
          "bar": [
           {
            "error_x": {
             "color": "#2a3f5f"
            },
            "error_y": {
             "color": "#2a3f5f"
            },
            "marker": {
             "line": {
              "color": "#E5ECF6",
              "width": 0.5
             },
             "pattern": {
              "fillmode": "overlay",
              "size": 10,
              "solidity": 0.2
             }
            },
            "type": "bar"
           }
          ],
          "barpolar": [
           {
            "marker": {
             "line": {
              "color": "#E5ECF6",
              "width": 0.5
             },
             "pattern": {
              "fillmode": "overlay",
              "size": 10,
              "solidity": 0.2
             }
            },
            "type": "barpolar"
           }
          ],
          "carpet": [
           {
            "aaxis": {
             "endlinecolor": "#2a3f5f",
             "gridcolor": "white",
             "linecolor": "white",
             "minorgridcolor": "white",
             "startlinecolor": "#2a3f5f"
            },
            "baxis": {
             "endlinecolor": "#2a3f5f",
             "gridcolor": "white",
             "linecolor": "white",
             "minorgridcolor": "white",
             "startlinecolor": "#2a3f5f"
            },
            "type": "carpet"
           }
          ],
          "choropleth": [
           {
            "colorbar": {
             "outlinewidth": 0,
             "ticks": ""
            },
            "type": "choropleth"
           }
          ],
          "contour": [
           {
            "colorbar": {
             "outlinewidth": 0,
             "ticks": ""
            },
            "colorscale": [
             [
              0,
              "#0d0887"
             ],
             [
              0.1111111111111111,
              "#46039f"
             ],
             [
              0.2222222222222222,
              "#7201a8"
             ],
             [
              0.3333333333333333,
              "#9c179e"
             ],
             [
              0.4444444444444444,
              "#bd3786"
             ],
             [
              0.5555555555555556,
              "#d8576b"
             ],
             [
              0.6666666666666666,
              "#ed7953"
             ],
             [
              0.7777777777777778,
              "#fb9f3a"
             ],
             [
              0.8888888888888888,
              "#fdca26"
             ],
             [
              1,
              "#f0f921"
             ]
            ],
            "type": "contour"
           }
          ],
          "contourcarpet": [
           {
            "colorbar": {
             "outlinewidth": 0,
             "ticks": ""
            },
            "type": "contourcarpet"
           }
          ],
          "heatmap": [
           {
            "colorbar": {
             "outlinewidth": 0,
             "ticks": ""
            },
            "colorscale": [
             [
              0,
              "#0d0887"
             ],
             [
              0.1111111111111111,
              "#46039f"
             ],
             [
              0.2222222222222222,
              "#7201a8"
             ],
             [
              0.3333333333333333,
              "#9c179e"
             ],
             [
              0.4444444444444444,
              "#bd3786"
             ],
             [
              0.5555555555555556,
              "#d8576b"
             ],
             [
              0.6666666666666666,
              "#ed7953"
             ],
             [
              0.7777777777777778,
              "#fb9f3a"
             ],
             [
              0.8888888888888888,
              "#fdca26"
             ],
             [
              1,
              "#f0f921"
             ]
            ],
            "type": "heatmap"
           }
          ],
          "heatmapgl": [
           {
            "colorbar": {
             "outlinewidth": 0,
             "ticks": ""
            },
            "colorscale": [
             [
              0,
              "#0d0887"
             ],
             [
              0.1111111111111111,
              "#46039f"
             ],
             [
              0.2222222222222222,
              "#7201a8"
             ],
             [
              0.3333333333333333,
              "#9c179e"
             ],
             [
              0.4444444444444444,
              "#bd3786"
             ],
             [
              0.5555555555555556,
              "#d8576b"
             ],
             [
              0.6666666666666666,
              "#ed7953"
             ],
             [
              0.7777777777777778,
              "#fb9f3a"
             ],
             [
              0.8888888888888888,
              "#fdca26"
             ],
             [
              1,
              "#f0f921"
             ]
            ],
            "type": "heatmapgl"
           }
          ],
          "histogram": [
           {
            "marker": {
             "pattern": {
              "fillmode": "overlay",
              "size": 10,
              "solidity": 0.2
             }
            },
            "type": "histogram"
           }
          ],
          "histogram2d": [
           {
            "colorbar": {
             "outlinewidth": 0,
             "ticks": ""
            },
            "colorscale": [
             [
              0,
              "#0d0887"
             ],
             [
              0.1111111111111111,
              "#46039f"
             ],
             [
              0.2222222222222222,
              "#7201a8"
             ],
             [
              0.3333333333333333,
              "#9c179e"
             ],
             [
              0.4444444444444444,
              "#bd3786"
             ],
             [
              0.5555555555555556,
              "#d8576b"
             ],
             [
              0.6666666666666666,
              "#ed7953"
             ],
             [
              0.7777777777777778,
              "#fb9f3a"
             ],
             [
              0.8888888888888888,
              "#fdca26"
             ],
             [
              1,
              "#f0f921"
             ]
            ],
            "type": "histogram2d"
           }
          ],
          "histogram2dcontour": [
           {
            "colorbar": {
             "outlinewidth": 0,
             "ticks": ""
            },
            "colorscale": [
             [
              0,
              "#0d0887"
             ],
             [
              0.1111111111111111,
              "#46039f"
             ],
             [
              0.2222222222222222,
              "#7201a8"
             ],
             [
              0.3333333333333333,
              "#9c179e"
             ],
             [
              0.4444444444444444,
              "#bd3786"
             ],
             [
              0.5555555555555556,
              "#d8576b"
             ],
             [
              0.6666666666666666,
              "#ed7953"
             ],
             [
              0.7777777777777778,
              "#fb9f3a"
             ],
             [
              0.8888888888888888,
              "#fdca26"
             ],
             [
              1,
              "#f0f921"
             ]
            ],
            "type": "histogram2dcontour"
           }
          ],
          "mesh3d": [
           {
            "colorbar": {
             "outlinewidth": 0,
             "ticks": ""
            },
            "type": "mesh3d"
           }
          ],
          "parcoords": [
           {
            "line": {
             "colorbar": {
              "outlinewidth": 0,
              "ticks": ""
             }
            },
            "type": "parcoords"
           }
          ],
          "pie": [
           {
            "automargin": true,
            "type": "pie"
           }
          ],
          "scatter": [
           {
            "fillpattern": {
             "fillmode": "overlay",
             "size": 10,
             "solidity": 0.2
            },
            "type": "scatter"
           }
          ],
          "scatter3d": [
           {
            "line": {
             "colorbar": {
              "outlinewidth": 0,
              "ticks": ""
             }
            },
            "marker": {
             "colorbar": {
              "outlinewidth": 0,
              "ticks": ""
             }
            },
            "type": "scatter3d"
           }
          ],
          "scattercarpet": [
           {
            "marker": {
             "colorbar": {
              "outlinewidth": 0,
              "ticks": ""
             }
            },
            "type": "scattercarpet"
           }
          ],
          "scattergeo": [
           {
            "marker": {
             "colorbar": {
              "outlinewidth": 0,
              "ticks": ""
             }
            },
            "type": "scattergeo"
           }
          ],
          "scattergl": [
           {
            "marker": {
             "colorbar": {
              "outlinewidth": 0,
              "ticks": ""
             }
            },
            "type": "scattergl"
           }
          ],
          "scattermapbox": [
           {
            "marker": {
             "colorbar": {
              "outlinewidth": 0,
              "ticks": ""
             }
            },
            "type": "scattermapbox"
           }
          ],
          "scatterpolar": [
           {
            "marker": {
             "colorbar": {
              "outlinewidth": 0,
              "ticks": ""
             }
            },
            "type": "scatterpolar"
           }
          ],
          "scatterpolargl": [
           {
            "marker": {
             "colorbar": {
              "outlinewidth": 0,
              "ticks": ""
             }
            },
            "type": "scatterpolargl"
           }
          ],
          "scatterternary": [
           {
            "marker": {
             "colorbar": {
              "outlinewidth": 0,
              "ticks": ""
             }
            },
            "type": "scatterternary"
           }
          ],
          "surface": [
           {
            "colorbar": {
             "outlinewidth": 0,
             "ticks": ""
            },
            "colorscale": [
             [
              0,
              "#0d0887"
             ],
             [
              0.1111111111111111,
              "#46039f"
             ],
             [
              0.2222222222222222,
              "#7201a8"
             ],
             [
              0.3333333333333333,
              "#9c179e"
             ],
             [
              0.4444444444444444,
              "#bd3786"
             ],
             [
              0.5555555555555556,
              "#d8576b"
             ],
             [
              0.6666666666666666,
              "#ed7953"
             ],
             [
              0.7777777777777778,
              "#fb9f3a"
             ],
             [
              0.8888888888888888,
              "#fdca26"
             ],
             [
              1,
              "#f0f921"
             ]
            ],
            "type": "surface"
           }
          ],
          "table": [
           {
            "cells": {
             "fill": {
              "color": "#EBF0F8"
             },
             "line": {
              "color": "white"
             }
            },
            "header": {
             "fill": {
              "color": "#C8D4E3"
             },
             "line": {
              "color": "white"
             }
            },
            "type": "table"
           }
          ]
         },
         "layout": {
          "annotationdefaults": {
           "arrowcolor": "#2a3f5f",
           "arrowhead": 0,
           "arrowwidth": 1
          },
          "autotypenumbers": "strict",
          "coloraxis": {
           "colorbar": {
            "outlinewidth": 0,
            "ticks": ""
           }
          },
          "colorscale": {
           "diverging": [
            [
             0,
             "#8e0152"
            ],
            [
             0.1,
             "#c51b7d"
            ],
            [
             0.2,
             "#de77ae"
            ],
            [
             0.3,
             "#f1b6da"
            ],
            [
             0.4,
             "#fde0ef"
            ],
            [
             0.5,
             "#f7f7f7"
            ],
            [
             0.6,
             "#e6f5d0"
            ],
            [
             0.7,
             "#b8e186"
            ],
            [
             0.8,
             "#7fbc41"
            ],
            [
             0.9,
             "#4d9221"
            ],
            [
             1,
             "#276419"
            ]
           ],
           "sequential": [
            [
             0,
             "#0d0887"
            ],
            [
             0.1111111111111111,
             "#46039f"
            ],
            [
             0.2222222222222222,
             "#7201a8"
            ],
            [
             0.3333333333333333,
             "#9c179e"
            ],
            [
             0.4444444444444444,
             "#bd3786"
            ],
            [
             0.5555555555555556,
             "#d8576b"
            ],
            [
             0.6666666666666666,
             "#ed7953"
            ],
            [
             0.7777777777777778,
             "#fb9f3a"
            ],
            [
             0.8888888888888888,
             "#fdca26"
            ],
            [
             1,
             "#f0f921"
            ]
           ],
           "sequentialminus": [
            [
             0,
             "#0d0887"
            ],
            [
             0.1111111111111111,
             "#46039f"
            ],
            [
             0.2222222222222222,
             "#7201a8"
            ],
            [
             0.3333333333333333,
             "#9c179e"
            ],
            [
             0.4444444444444444,
             "#bd3786"
            ],
            [
             0.5555555555555556,
             "#d8576b"
            ],
            [
             0.6666666666666666,
             "#ed7953"
            ],
            [
             0.7777777777777778,
             "#fb9f3a"
            ],
            [
             0.8888888888888888,
             "#fdca26"
            ],
            [
             1,
             "#f0f921"
            ]
           ]
          },
          "colorway": [
           "#636efa",
           "#EF553B",
           "#00cc96",
           "#ab63fa",
           "#FFA15A",
           "#19d3f3",
           "#FF6692",
           "#B6E880",
           "#FF97FF",
           "#FECB52"
          ],
          "font": {
           "color": "#2a3f5f"
          },
          "geo": {
           "bgcolor": "white",
           "lakecolor": "white",
           "landcolor": "#E5ECF6",
           "showlakes": true,
           "showland": true,
           "subunitcolor": "white"
          },
          "hoverlabel": {
           "align": "left"
          },
          "hovermode": "closest",
          "mapbox": {
           "style": "light"
          },
          "paper_bgcolor": "white",
          "plot_bgcolor": "#E5ECF6",
          "polar": {
           "angularaxis": {
            "gridcolor": "white",
            "linecolor": "white",
            "ticks": ""
           },
           "bgcolor": "#E5ECF6",
           "radialaxis": {
            "gridcolor": "white",
            "linecolor": "white",
            "ticks": ""
           }
          },
          "scene": {
           "xaxis": {
            "backgroundcolor": "#E5ECF6",
            "gridcolor": "white",
            "gridwidth": 2,
            "linecolor": "white",
            "showbackground": true,
            "ticks": "",
            "zerolinecolor": "white"
           },
           "yaxis": {
            "backgroundcolor": "#E5ECF6",
            "gridcolor": "white",
            "gridwidth": 2,
            "linecolor": "white",
            "showbackground": true,
            "ticks": "",
            "zerolinecolor": "white"
           },
           "zaxis": {
            "backgroundcolor": "#E5ECF6",
            "gridcolor": "white",
            "gridwidth": 2,
            "linecolor": "white",
            "showbackground": true,
            "ticks": "",
            "zerolinecolor": "white"
           }
          },
          "shapedefaults": {
           "line": {
            "color": "#2a3f5f"
           }
          },
          "ternary": {
           "aaxis": {
            "gridcolor": "white",
            "linecolor": "white",
            "ticks": ""
           },
           "baxis": {
            "gridcolor": "white",
            "linecolor": "white",
            "ticks": ""
           },
           "bgcolor": "#E5ECF6",
           "caxis": {
            "gridcolor": "white",
            "linecolor": "white",
            "ticks": ""
           }
          },
          "title": {
           "x": 0.05
          },
          "xaxis": {
           "automargin": true,
           "gridcolor": "white",
           "linecolor": "white",
           "ticks": "",
           "title": {
            "standoff": 15
           },
           "zerolinecolor": "white",
           "zerolinewidth": 2
          },
          "yaxis": {
           "automargin": true,
           "gridcolor": "white",
           "linecolor": "white",
           "ticks": "",
           "title": {
            "standoff": 15
           },
           "zerolinecolor": "white",
           "zerolinewidth": 2
          }
         }
        },
        "title": {
         "text": "Model Output vs Target for Feature 2, Batch 2"
        },
        "xaxis": {
         "title": {
          "text": "Timestep"
         }
        },
        "yaxis": {
         "title": {
          "text": "Value"
         }
        }
       }
      }
     },
     "metadata": {},
     "output_type": "display_data"
    }
   ],
   "source": [
    "import plotly.graph_objects as go\n",
    "\n",
    "def plot_model_output_vs_target(model_outputs, targets, batch_index=0, feature_index=0):\n",
    "    # Extract the specified feature for the given batch from both the model outputs and targets\n",
    "    model_output_series = model_outputs[batch_index, :, feature_index].detach().numpy()\n",
    "    target_series = targets[batch_index, :, feature_index].numpy()\n",
    "    \n",
    "    # Create a range for the x-axis (timesteps)\n",
    "    timesteps = list(range(model_output_series.shape[0]))\n",
    "    \n",
    "    # Create traces\n",
    "    model_trace = go.Scatter(x=timesteps, y=model_output_series, mode='lines', name='Model Output')\n",
    "    target_trace = go.Scatter(x=timesteps, y=target_series, mode='lines', name='Target')\n",
    "    \n",
    "    # Create the figure and add traces\n",
    "    fig = go.Figure()\n",
    "    fig.add_trace(model_trace)\n",
    "    fig.add_trace(target_trace)\n",
    "    \n",
    "    # Add title and labels\n",
    "    fig.update_layout(title=f'Model Output vs Target for Feature {feature_index}, Batch {batch_index}',\n",
    "                      xaxis_title='Timestep',\n",
    "                      yaxis_title='Value')\n",
    "    \n",
    "    # Show the figure\n",
    "    fig.show()\n",
    "\n",
    "# Assuming `y` and `Y` are your model outputs and targets, respectively\n",
    "# Adjust batch_index and feature_index as needed\n",
    "plot_model_output_vs_target(outputs, Y, batch_index=2, feature_index=2)\n"
   ]
  }
 ],
 "metadata": {
  "kernelspec": {
   "display_name": "coilspy-1sgZ1XBf-py3.12",
   "language": "python",
   "name": "python3"
  },
  "language_info": {
   "codemirror_mode": {
    "name": "ipython",
    "version": 3
   },
   "file_extension": ".py",
   "mimetype": "text/x-python",
   "name": "python",
   "nbconvert_exporter": "python",
   "pygments_lexer": "ipython3",
   "version": "3.12.2"
  }
 },
 "nbformat": 4,
 "nbformat_minor": 2
}
